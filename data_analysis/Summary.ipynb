{
 "cells": [
  {
   "cell_type": "code",
   "execution_count": 1,
   "metadata": {},
   "outputs": [
    {
     "data": {
      "text/html": [
       "<script>\n",
       "  function code_toggle() {\n",
       "    if (code_shown){\n",
       "      $('div.input').hide('500');\n",
       "      $('#toggleButton').val('Show Code')\n",
       "    } else {\n",
       "      $('div.input').show('500');\n",
       "      $('#toggleButton').val('Hide Code')\n",
       "    }\n",
       "    code_shown = !code_shown\n",
       "  }\n",
       "  \n",
       "  $( document ).ready(function(){\n",
       "    code_shown=false;\n",
       "    $('div.input').hide()\n",
       "  });\n",
       "</script>\n",
       "<form action=\"javascript:code_toggle()\"><input type=\"submit\" id=\"toggleButton\" value=\"Show Code\"></form>"
      ],
      "text/plain": [
       "<IPython.core.display.HTML object>"
      ]
     },
     "execution_count": 1,
     "metadata": {},
     "output_type": "execute_result"
    }
   ],
   "source": [
    "from IPython.display import display, Math, Latex, HTML\n",
    "HTML('''<script>\n",
    "  function code_toggle() {\n",
    "    if (code_shown){\n",
    "      $('div.input').hide('500');\n",
    "      $('#toggleButton').val('Show Code')\n",
    "    } else {\n",
    "      $('div.input').show('500');\n",
    "      $('#toggleButton').val('Hide Code')\n",
    "    }\n",
    "    code_shown = !code_shown\n",
    "  }\n",
    "  \n",
    "  $( document ).ready(function(){\n",
    "    code_shown=false;\n",
    "    $('div.input').hide()\n",
    "  });\n",
    "</script>\n",
    "<form action=\"javascript:code_toggle()\"><input type=\"submit\" id=\"toggleButton\" value=\"Show Code\"></form>''') "
   ]
  },
  {
   "cell_type": "code",
   "execution_count": 2,
   "metadata": {},
   "outputs": [
    {
     "data": {
      "text/html": [
       "<script>requirejs.config({paths: { 'plotly': ['https://cdn.plot.ly/plotly-latest.min']},});if(!window.Plotly) {{require(['plotly'],function(plotly) {window.Plotly=plotly;});}}</script>"
      ],
      "text/vnd.plotly.v1+html": [
       "<script>requirejs.config({paths: { 'plotly': ['https://cdn.plot.ly/plotly-latest.min']},});if(!window.Plotly) {{require(['plotly'],function(plotly) {window.Plotly=plotly;});}}</script>"
      ]
     },
     "metadata": {},
     "output_type": "display_data"
    }
   ],
   "source": [
    "from influxdb import DataFrameClient\n",
    "from influxdb import InfluxDBClient\n",
    "import json\n",
    "import pandas as pd\n",
    "\n",
    "import datetime \n",
    "from plotly.offline import init_notebook_mode, iplot\n",
    "import plotly.graph_objs as go\n",
    "import plotly.plotly as py\n",
    "from plotly import tools\n",
    "#from datetime import datetime\n",
    "import dateutil.parser\n",
    "init_notebook_mode(connected=True)"
   ]
  },
  {
   "cell_type": "code",
   "execution_count": 3,
   "metadata": {
    "collapsed": true
   },
   "outputs": [],
   "source": [
    "colors=['F2F3F4', '222222', 'F3C300', '875692', 'F38400', 'A1CAF1', 'BE0032', 'C2B280', \n",
    "        '848482', '008856', 'E68FAC', '0067A5', 'F99379', '604E97', 'F6A600', 'B3446C',\n",
    "        'DCD300', '882D17', '8DB600', '654522', 'E25822', '2B3D26']"
   ]
  },
  {
   "cell_type": "code",
   "execution_count": 4,
   "metadata": {
    "collapsed": true
   },
   "outputs": [],
   "source": [
    "def barplot_averages(df,column, title,index_col='SK_PI'):\n",
    "    max_df = df.groupby(index_col)[column].max().reset_index()\n",
    "    max_df.columns = [index_col, column+'_MAX']\n",
    "    med_df = df.groupby(index_col)[column].median().reset_index()\n",
    "    med_df.columns = [index_col, column+'_MEDIAN']\n",
    "    avg_df = df.groupby(index_col)[column].mean().reset_index()\n",
    "    avg_df.columns = [index_col, column+'_MEAN']\n",
    "    med_max_avg_df=pd.merge(pd.merge(max_df, med_df,on=index_col),avg_df, on=index_col)\n",
    "    trace1 = go.Bar(\n",
    "                x=med_max_avg_df[index_col],\n",
    "                y=med_max_avg_df[column+'_MEAN'],\n",
    "                name='Mean',\n",
    "        )\n",
    "    trace2 = go.Bar(\n",
    "                x=med_max_avg_df[index_col],\n",
    "                y=med_max_avg_df[column+'_MAX'],\n",
    "                name='Max',\n",
    "\n",
    "        )\n",
    "    trace3 = go.Bar(\n",
    "                x=med_max_avg_df[index_col],\n",
    "                y=med_max_avg_df[column+'_MEDIAN'],\n",
    "                name='Median',\n",
    "\n",
    "        )\n",
    "    data = [trace1, trace2, trace3]\n",
    "    layout = go.Layout(\n",
    "           # barmode='stack',\n",
    "            title=title\n",
    "            #title=\"Maximum, mean and median upload speed per device\"\n",
    "        )\n",
    "\n",
    "    fig = go.Figure(data=data, layout=layout)\n",
    "    iplot(fig)"
   ]
  },
  {
   "cell_type": "code",
   "execution_count": 5,
   "metadata": {
    "collapsed": true
   },
   "outputs": [],
   "source": [
    "with open('../credentials.json', 'r') as f_credentials:\n",
    "    credentials_config = json.load(f_credentials)"
   ]
  },
  {
   "cell_type": "code",
   "execution_count": 6,
   "metadata": {
    "collapsed": true
   },
   "outputs": [],
   "source": [
    "host=credentials_config['influxdb_host']\n",
    "port=8086\n",
    "dbname = 'net_speed_md'\n",
    "client = InfluxDBClient(host, port, '', '', dbname)"
   ]
  },
  {
   "cell_type": "code",
   "execution_count": 7,
   "metadata": {
    "collapsed": true
   },
   "outputs": [],
   "source": [
    "query_unique_devices = \"SHOW TAG VALUES FROM PING WITH KEY=SK_PI;\"\n",
    "result_unique_devices = client.query(query_unique_devices)\n",
    "points_unique_devices = result_unique_devices.get_points()\n",
    "device_numbers=[]\n",
    "for point in points_unique_devices:\n",
    "    device_numbers.append(point['value'])\n",
    "device_numbers=list(map(int, device_numbers))\n",
    "device_numbers= sorted(device_numbers)\n",
    "#print(device_numbers)"
   ]
  },
  {
   "cell_type": "code",
   "execution_count": 8,
   "metadata": {
    "collapsed": true
   },
   "outputs": [],
   "source": [
    "query_ping_counts = 'SELECT COUNT(PING) FROM PING WHERE PING!=0 GROUP BY SK_PI;'\n",
    "result_ping_counts = client.query(query_ping_counts)\n",
    "query_ping_counts_dec = \"SELECT COUNT(PING) FROM PING WHERE time >= now()-4w  AND PING!=0 GROUP BY SK_PI ;\"\n",
    "result_ping_counts_dec = client.query(query_ping_counts_dec)"
   ]
  },
  {
   "cell_type": "code",
   "execution_count": 9,
   "metadata": {
    "collapsed": true
   },
   "outputs": [],
   "source": [
    "query_pingdroprate_counts = 'SELECT COUNT(PING_DROPRATE) FROM PING WHERE PING_DROPRATE!=0 GROUP BY SK_PI;'\n",
    "result_pingdroprate_counts = client.query(query_pingdroprate_counts)\n",
    "query_pingdroprate_counts_dec = 'SELECT COUNT(PING_DROPRATE) FROM PING WHERE time >= now()-4w AND PING_DROPRATE!=0 GROUP BY SK_PI;'\n",
    "result_pingdroprate_counts_dec = client.query(query_pingdroprate_counts_dec)"
   ]
  },
  {
   "cell_type": "code",
   "execution_count": 10,
   "metadata": {
    "collapsed": true
   },
   "outputs": [],
   "source": [
    "ping_counts=[]\n",
    "pingdroprate_counts=[]\n",
    "for device in device_numbers:\n",
    "    points_ping_counts=result_ping_counts.get_points(tags={'SK_PI':str(device)})\n",
    "    points_pingdroprate_counts=result_pingdroprate_counts.get_points(tags={'SK_PI':str(device)})\n",
    "    point_ping=0\n",
    "    point_pingdroprate=0\n",
    "    for point in points_ping_counts:\n",
    "        point_ping=point['count']\n",
    "    count_ping=point_ping\n",
    "    for point in points_pingdroprate_counts:\n",
    "        point_pingdroprate=point['count']\n",
    "    count_pingdroprate=point_pingdroprate\n",
    "    ping_counts.append(count_ping+count_pingdroprate)\n",
    "    pingdroprate_counts.append(count_pingdroprate)"
   ]
  },
  {
   "cell_type": "code",
   "execution_count": 11,
   "metadata": {
    "collapsed": true
   },
   "outputs": [],
   "source": [
    "ping_counts_dec=[]\n",
    "device_numbers_dec = []\n",
    "pingdroprate_counts_dec = []\n",
    "ping_sent_counts_dec = []\n",
    "for device in device_numbers:\n",
    "    points_ping_counts_dec=result_ping_counts_dec.get_points(tags={'SK_PI':str(device)})\n",
    "    points_pingdroprate_counts_dec=result_pingdroprate_counts_dec.get_points(tags={'SK_PI':str(device)})\n",
    "    point_ping=0\n",
    "    point_pingdroprate=0\n",
    "    for point in points_ping_counts_dec:\n",
    "        point_ping=point['count']\n",
    "    for point in points_pingdroprate_counts_dec:\n",
    "        point_pingdroprate=point['count']\n",
    "    if (point_pingdroprate+point_ping!=0): \n",
    "        device_numbers_dec.append(device)\n",
    "    ping_counts_dec.append(point_pingdroprate+point_ping)\n",
    "    pingdroprate_counts_dec.append(point_pingdroprate)\n",
    "    ping_sent_counts_dec.append(point_ping)\n",
    "#print(\"Devices, that have data in last 4 weeks: \",device_numbers_dec)"
   ]
  },
  {
   "cell_type": "code",
   "execution_count": 12,
   "metadata": {},
   "outputs": [],
   "source": [
    "client_df = DataFrameClient(host, port, '', '', dbname)\n",
    "query_upload = 'SELECT * FROM SPEEDTEST_UPLOAD;'\n",
    "result_upload= client_df.query(query_upload)\n",
    "upload_df = result_upload['SPEEDTEST_UPLOAD']"
   ]
  },
  {
   "cell_type": "code",
   "execution_count": 13,
   "metadata": {},
   "outputs": [],
   "source": [
    "upload_df.reset_index(level=0, inplace=True)\n",
    "upload_df['index']=upload_df['index'].dt.strftime('%Y-%m-%d %H:%M:%S')\n",
    "upload_df['index'] = pd.to_datetime(upload_df['index'])\n",
    "upload_df['SK_PI']=pd.to_numeric(upload_df['SK_PI'])\n",
    "upload_df.rename(columns={'index':'time'}, inplace=True)\n",
    "upload_df = upload_df[upload_df.UPLOAD != 0]"
   ]
  },
  {
   "cell_type": "code",
   "execution_count": 14,
   "metadata": {},
   "outputs": [],
   "source": [
    "points_by_device=upload_df.groupby(['SK_PI']).size().reset_index(name='counts').sort_values('SK_PI')\n",
    "four_weeks_ago = datetime.date.today() - datetime.timedelta(days=28)\n",
    "upload_df_last4weeks = upload_df[upload_df['time']>four_weeks_ago]\n",
    "points_by_device_las4weeks = upload_df_last4weeks.groupby(['SK_PI']).size().reset_index(name='counts').sort_values('SK_PI')\n",
    "merged_results=pd.merge(points_by_device, points_by_device_las4weeks, on='SK_PI', how='outer')\n",
    "merged_results['counts_y']=merged_results['counts_y'].fillna(0)\n",
    "merged_results['result']=merged_results['counts_x'].sub(merged_results['counts_y'], axis=0)"
   ]
  },
  {
   "cell_type": "markdown",
   "metadata": {},
   "source": [
    "# Part1: Number of data points, device reporting times. how frequently data is collected."
   ]
  },
  {
   "cell_type": "code",
   "execution_count": 15,
   "metadata": {},
   "outputs": [
    {
     "name": "stdout",
     "output_type": "stream",
     "text": [
      "This is the format of your plot grid:\n",
      "[ (1,1) x1,y1 ]  [ (1,2) x2,y2 ]\n",
      "\n"
     ]
    },
    {
     "data": {
      "application/vnd.plotly.v1+json": {
       "data": [
        {
         "marker": {
          "color": "222222"
         },
         "name": "Last 4 weeks",
         "type": "bar",
         "x": [
          1,
          2,
          3,
          4,
          5,
          6,
          7,
          8,
          9,
          10,
          11,
          12,
          13,
          14,
          15,
          16,
          17,
          18
         ],
         "xaxis": "x1",
         "y": [
          0,
          0,
          452358,
          0,
          0,
          0,
          437747,
          0,
          452358,
          313656,
          449293,
          452359,
          0,
          0,
          452358,
          452357,
          427292,
          344169
         ],
         "yaxis": "y1"
        },
        {
         "marker": {
          "color": "F3C300"
         },
         "name": "The rest of the time",
         "type": "bar",
         "x": [
          1,
          2,
          3,
          4,
          5,
          6,
          7,
          8,
          9,
          10,
          11,
          12,
          13,
          14,
          15,
          16,
          17,
          18
         ],
         "xaxis": "x1",
         "y": [
          7025,
          397617,
          292810,
          674108,
          175987,
          84990,
          448284,
          72282,
          206927,
          225658,
          209936,
          209655,
          285,
          6905,
          124907,
          106342,
          5,
          8819
         ],
         "yaxis": "y1"
        },
        {
         "marker": {
          "color": "222222"
         },
         "name": "Last 4 weeks",
         "type": "bar",
         "x": [
          1,
          2,
          3,
          4,
          5,
          6,
          7,
          8,
          9,
          10,
          11,
          12,
          14,
          15,
          16,
          17,
          18
         ],
         "xaxis": "x2",
         "y": [
          0,
          0,
          175,
          0,
          176,
          0,
          150,
          0,
          176,
          168,
          167,
          176,
          175,
          176,
          166,
          164,
          130
         ],
         "yaxis": "y2"
        },
        {
         "marker": {
          "color": "F3C300"
         },
         "name": "The rest of the time",
         "type": "bar",
         "x": [
          1,
          2,
          3,
          4,
          5,
          6,
          7,
          8,
          9,
          10,
          11,
          12,
          14,
          15,
          16,
          17,
          18
         ],
         "xaxis": "x2",
         "y": [
          10,
          240,
          124,
          287,
          379,
          32,
          215,
          23,
          80,
          0,
          75,
          77,
          41,
          40,
          29,
          0,
          0
         ],
         "yaxis": "y2"
        }
       ],
       "layout": {
        "barmode": "stack",
        "title": "Number of datapoints: collectd data on the right, speedtest data on the left",
        "xaxis1": {
         "anchor": "y1",
         "domain": [
          0,
          0.45
         ]
        },
        "xaxis2": {
         "anchor": "y2",
         "domain": [
          0.55,
          1
         ]
        },
        "yaxis1": {
         "anchor": "x1",
         "domain": [
          0,
          1
         ]
        },
        "yaxis2": {
         "anchor": "x2",
         "domain": [
          0,
          1
         ]
        }
       }
      },
      "text/html": [
       "<div id=\"8e87a646-84ca-4693-b690-261f12a5df82\" style=\"height: 525px; width: 100%;\" class=\"plotly-graph-div\"></div><script type=\"text/javascript\">require([\"plotly\"], function(Plotly) { window.PLOTLYENV=window.PLOTLYENV || {};window.PLOTLYENV.BASE_URL=\"https://plot.ly\";Plotly.newPlot(\"8e87a646-84ca-4693-b690-261f12a5df82\", [{\"type\": \"bar\", \"x\": [1, 2, 3, 4, 5, 6, 7, 8, 9, 10, 11, 12, 13, 14, 15, 16, 17, 18], \"y\": [0, 0, 452358, 0, 0, 0, 437747, 0, 452358, 313656, 449293, 452359, 0, 0, 452358, 452357, 427292, 344169], \"name\": \"Last 4 weeks\", \"marker\": {\"color\": \"222222\"}, \"xaxis\": \"x1\", \"yaxis\": \"y1\"}, {\"type\": \"bar\", \"x\": [1, 2, 3, 4, 5, 6, 7, 8, 9, 10, 11, 12, 13, 14, 15, 16, 17, 18], \"y\": [7025, 397617, 292810, 674108, 175987, 84990, 448284, 72282, 206927, 225658, 209936, 209655, 285, 6905, 124907, 106342, 5, 8819], \"name\": \"The rest of the time\", \"marker\": {\"color\": \"F3C300\"}, \"xaxis\": \"x1\", \"yaxis\": \"y1\"}, {\"type\": \"bar\", \"x\": [1, 2, 3, 4, 5, 6, 7, 8, 9, 10, 11, 12, 14, 15, 16, 17, 18], \"y\": [0.0, 0.0, 175.0, 0.0, 176.0, 0.0, 150.0, 0.0, 176.0, 168.0, 167.0, 176.0, 175.0, 176.0, 166.0, 164.0, 130.0], \"name\": \"Last 4 weeks\", \"marker\": {\"color\": \"222222\"}, \"xaxis\": \"x2\", \"yaxis\": \"y2\"}, {\"type\": \"bar\", \"x\": [1, 2, 3, 4, 5, 6, 7, 8, 9, 10, 11, 12, 14, 15, 16, 17, 18], \"y\": [10.0, 240.0, 124.0, 287.0, 379.0, 32.0, 215.0, 23.0, 80.0, 0.0, 75.0, 77.0, 41.0, 40.0, 29.0, 0.0, 0.0], \"name\": \"The rest of the time\", \"marker\": {\"color\": \"F3C300\"}, \"xaxis\": \"x2\", \"yaxis\": \"y2\"}], {\"xaxis1\": {\"domain\": [0.0, 0.45], \"anchor\": \"y1\"}, \"yaxis1\": {\"domain\": [0.0, 1.0], \"anchor\": \"x1\"}, \"xaxis2\": {\"domain\": [0.55, 1.0], \"anchor\": \"y2\"}, \"yaxis2\": {\"domain\": [0.0, 1.0], \"anchor\": \"x2\"}, \"barmode\": \"stack\", \"title\": \"Number of datapoints: collectd data on the right, speedtest data on the left\"}, {\"showLink\": true, \"linkText\": \"Export to plot.ly\"})});</script>"
      ],
      "text/vnd.plotly.v1+html": [
       "<div id=\"8e87a646-84ca-4693-b690-261f12a5df82\" style=\"height: 525px; width: 100%;\" class=\"plotly-graph-div\"></div><script type=\"text/javascript\">require([\"plotly\"], function(Plotly) { window.PLOTLYENV=window.PLOTLYENV || {};window.PLOTLYENV.BASE_URL=\"https://plot.ly\";Plotly.newPlot(\"8e87a646-84ca-4693-b690-261f12a5df82\", [{\"type\": \"bar\", \"x\": [1, 2, 3, 4, 5, 6, 7, 8, 9, 10, 11, 12, 13, 14, 15, 16, 17, 18], \"y\": [0, 0, 452358, 0, 0, 0, 437747, 0, 452358, 313656, 449293, 452359, 0, 0, 452358, 452357, 427292, 344169], \"name\": \"Last 4 weeks\", \"marker\": {\"color\": \"222222\"}, \"xaxis\": \"x1\", \"yaxis\": \"y1\"}, {\"type\": \"bar\", \"x\": [1, 2, 3, 4, 5, 6, 7, 8, 9, 10, 11, 12, 13, 14, 15, 16, 17, 18], \"y\": [7025, 397617, 292810, 674108, 175987, 84990, 448284, 72282, 206927, 225658, 209936, 209655, 285, 6905, 124907, 106342, 5, 8819], \"name\": \"The rest of the time\", \"marker\": {\"color\": \"F3C300\"}, \"xaxis\": \"x1\", \"yaxis\": \"y1\"}, {\"type\": \"bar\", \"x\": [1, 2, 3, 4, 5, 6, 7, 8, 9, 10, 11, 12, 14, 15, 16, 17, 18], \"y\": [0.0, 0.0, 175.0, 0.0, 176.0, 0.0, 150.0, 0.0, 176.0, 168.0, 167.0, 176.0, 175.0, 176.0, 166.0, 164.0, 130.0], \"name\": \"Last 4 weeks\", \"marker\": {\"color\": \"222222\"}, \"xaxis\": \"x2\", \"yaxis\": \"y2\"}, {\"type\": \"bar\", \"x\": [1, 2, 3, 4, 5, 6, 7, 8, 9, 10, 11, 12, 14, 15, 16, 17, 18], \"y\": [10.0, 240.0, 124.0, 287.0, 379.0, 32.0, 215.0, 23.0, 80.0, 0.0, 75.0, 77.0, 41.0, 40.0, 29.0, 0.0, 0.0], \"name\": \"The rest of the time\", \"marker\": {\"color\": \"F3C300\"}, \"xaxis\": \"x2\", \"yaxis\": \"y2\"}], {\"xaxis1\": {\"domain\": [0.0, 0.45], \"anchor\": \"y1\"}, \"yaxis1\": {\"domain\": [0.0, 1.0], \"anchor\": \"x1\"}, \"xaxis2\": {\"domain\": [0.55, 1.0], \"anchor\": \"y2\"}, \"yaxis2\": {\"domain\": [0.0, 1.0], \"anchor\": \"x2\"}, \"barmode\": \"stack\", \"title\": \"Number of datapoints: collectd data on the right, speedtest data on the left\"}, {\"showLink\": true, \"linkText\": \"Export to plot.ly\"})});</script>"
      ]
     },
     "metadata": {},
     "output_type": "display_data"
    }
   ],
   "source": [
    "trace1 = go.Bar(\n",
    "            x=device_numbers,\n",
    "            y=ping_counts_dec,\n",
    "            name='Last 4 weeks', \n",
    "            marker=dict(color=colors[1])\n",
    "    )\n",
    "trace2 = go.Bar(\n",
    "            x=device_numbers,\n",
    "            y=[a - b for a, b in zip(ping_counts, ping_counts_dec)],\n",
    "            name='The rest of the time',\n",
    "            marker=dict(color=colors[2])\n",
    "    )\n",
    "\n",
    "trace3 = go.Bar(\n",
    "            x=merged_results[\"SK_PI\"],\n",
    "            y=merged_results[\"counts_y\"],\n",
    "            name='Last 4 weeks',\n",
    "            marker=dict(color=colors[1])\n",
    "    )\n",
    "trace4= go.Bar(\n",
    "            x=merged_results[\"SK_PI\"],\n",
    "            y=merged_results['result'],\n",
    "            name='The rest of the time',\n",
    "            marker=dict(color=colors[2])\n",
    "    )\n",
    "fig = tools.make_subplots(rows=1, cols=2)#, shared_xaxes=True)\n",
    "fig.append_trace(trace1, 1,1)\n",
    "fig.append_trace(trace2, 1,1)\n",
    "fig.append_trace(trace3, 1,2)\n",
    "fig.append_trace(trace4, 1,2)\n",
    "fig['layout'].update(barmode='stack',title=\"Number of datapoints: collectd data on the right, speedtest data on the left\")#, width=1000)\n",
    "#data = [trace1, trace2]\n",
    "#layout = go.Layout(\n",
    "#        barmode='stack',\n",
    "#        title=\"Comparing number of datapoints in last 4 weeks vs entire time\"\n",
    "#    )\n",
    "\n",
    "#fig = go.Figure(data=data, layout=layout)\n",
    "#iplot(fig)\n",
    "#data=[trace1, trace2]\n",
    "#layout = go.Layout(\n",
    "#        barmode='stack',\n",
    "#        title=\"Number of data points per device(speedtest): last 4 weeks vs entire time\"\n",
    "#    )\n",
    "#\n",
    "#fig = go.Figure(data=data, layout=layout)\n",
    "iplot(fig)"
   ]
  },
  {
   "cell_type": "code",
   "execution_count": 16,
   "metadata": {
    "collapsed": true
   },
   "outputs": [],
   "source": [
    "query_ping_last = \"SELECT LAST(PING), time FROM PING WHERE PING!=0 OR PING_DROPRATE!=0 GROUP BY SK_PI;\"\n",
    "result_ping_last = client.query(query_ping_last)"
   ]
  },
  {
   "cell_type": "code",
   "execution_count": 17,
   "metadata": {
    "collapsed": true
   },
   "outputs": [],
   "source": [
    "query_ping_first = \"SELECT FIRST(PING), time FROM PING WHERE PING!=0 OR PING_DROPRATE!=0 GROUP BY SK_PI;\"\n",
    "result_ping_first = client.query(query_ping_first)"
   ]
  },
  {
   "cell_type": "code",
   "execution_count": 18,
   "metadata": {},
   "outputs": [
    {
     "data": {
      "application/vnd.plotly.v1+json": {
       "data": [
        {
         "marker": {
          "color": "222222"
         },
         "name": 1,
         "type": "scatter",
         "x": [
          "2018-10-10 14:16:15",
          "2018-10-11 15:46:31"
         ],
         "y": [
          1,
          1
         ]
        },
        {
         "marker": {
          "color": "F3C300"
         },
         "name": 2,
         "type": "scatter",
         "x": [
          "2018-10-11 15:27:46",
          "2018-11-06 19:16:32"
         ],
         "y": [
          2,
          2
         ]
        },
        {
         "marker": {
          "color": "875692"
         },
         "name": 3,
         "type": "scatter",
         "x": [
          "2018-10-11 15:27:46",
          "2019-01-07 23:59:57"
         ],
         "y": [
          3,
          3
         ]
        },
        {
         "marker": {
          "color": "F38400"
         },
         "name": 4,
         "type": "scatter",
         "x": [
          "2018-10-11 15:27:46",
          "2018-12-05 22:53:02"
         ],
         "y": [
          4,
          4
         ]
        },
        {
         "marker": {
          "color": "A1CAF1"
         },
         "name": 5,
         "type": "scatter",
         "x": [
          "2018-10-11 15:27:46",
          "2018-11-05 21:32:30"
         ],
         "y": [
          5,
          5
         ]
        },
        {
         "marker": {
          "color": "BE0032"
         },
         "name": 6,
         "type": "scatter",
         "x": [
          "2018-10-11 15:27:46",
          "2018-10-31 14:55:00"
         ],
         "y": [
          6,
          6
         ]
        },
        {
         "marker": {
          "color": "C2B280"
         },
         "name": 7,
         "type": "scatter",
         "x": [
          "2018-11-11 00:00:03",
          "2019-01-07 23:59:56"
         ],
         "y": [
          7,
          7
         ]
        },
        {
         "marker": {
          "color": "848482"
         },
         "name": 8,
         "type": "scatter",
         "x": [
          "2018-10-11 15:27:46",
          "2018-12-03 19:58:50"
         ],
         "y": [
          8,
          8
         ]
        },
        {
         "marker": {
          "color": "008856"
         },
         "name": 9,
         "type": "scatter",
         "x": [
          "2018-10-11 15:27:46",
          "2019-01-07 23:59:54"
         ],
         "y": [
          9,
          9
         ]
        },
        {
         "marker": {
          "color": "E68FAC"
         },
         "name": 10,
         "type": "scatter",
         "x": [
          "2018-10-11 15:27:46",
          "2018-12-31 04:39:59"
         ],
         "y": [
          10,
          10
         ]
        },
        {
         "marker": {
          "color": "0067A5"
         },
         "name": 11,
         "type": "scatter",
         "x": [
          "2018-10-11 15:27:46",
          "2019-01-07 23:59:55"
         ],
         "y": [
          11,
          11
         ]
        },
        {
         "marker": {
          "color": "F99379"
         },
         "name": 12,
         "type": "scatter",
         "x": [
          "2018-10-11 15:27:46",
          "2019-01-07 23:59:59"
         ],
         "y": [
          12,
          12
         ]
        },
        {
         "marker": {
          "color": "604E97"
         },
         "name": 13,
         "type": "scatter",
         "x": [
          "2018-10-11 15:27:46",
          "2018-12-04 20:27:05"
         ],
         "y": [
          13,
          13
         ]
        },
        {
         "marker": {
          "color": "F6A600"
         },
         "name": 14,
         "type": "scatter",
         "x": [
          "2018-10-11 15:27:46",
          "2018-12-06 02:12:27"
         ],
         "y": [
          14,
          14
         ]
        },
        {
         "marker": {
          "color": "B3446C"
         },
         "name": 15,
         "type": "scatter",
         "x": [
          "2018-10-11 15:27:46",
          "2019-01-07 23:59:58"
         ],
         "y": [
          15,
          15
         ]
        },
        {
         "marker": {
          "color": "DCD300"
         },
         "name": 16,
         "type": "scatter",
         "x": [
          "2018-10-11 15:27:46",
          "2019-01-07 23:59:56"
         ],
         "y": [
          16,
          16
         ]
        },
        {
         "marker": {
          "color": "882D17"
         },
         "name": 17,
         "type": "scatter",
         "x": [
          "2018-10-11 15:27:46",
          "2019-01-07 12:46:58"
         ],
         "y": [
          17,
          17
         ]
        },
        {
         "marker": {
          "color": "8DB600"
         },
         "name": 18,
         "type": "scatter",
         "x": [
          "2018-10-11 15:27:46",
          "2019-01-07 12:46:58"
         ],
         "y": [
          18,
          18
         ]
        }
       ],
       "layout": {
        "title": "Device reporting times - collectd"
       }
      },
      "text/html": [
       "<div id=\"d76b9842-bc3e-48a4-8f2e-ce06c1d6ec61\" style=\"height: 525px; width: 100%;\" class=\"plotly-graph-div\"></div><script type=\"text/javascript\">require([\"plotly\"], function(Plotly) { window.PLOTLYENV=window.PLOTLYENV || {};window.PLOTLYENV.BASE_URL=\"https://plot.ly\";Plotly.newPlot(\"d76b9842-bc3e-48a4-8f2e-ce06c1d6ec61\", [{\"type\": \"scatter\", \"x\": [\"2018-10-10 14:16:15\", \"2018-10-11 15:46:31\"], \"y\": [1, 1], \"name\": 1, \"marker\": {\"color\": \"222222\"}}, {\"type\": \"scatter\", \"x\": [\"2018-10-11 15:27:46\", \"2018-11-06 19:16:32\"], \"y\": [2, 2], \"name\": 2, \"marker\": {\"color\": \"F3C300\"}}, {\"type\": \"scatter\", \"x\": [\"2018-10-11 15:27:46\", \"2019-01-07 23:59:57\"], \"y\": [3, 3], \"name\": 3, \"marker\": {\"color\": \"875692\"}}, {\"type\": \"scatter\", \"x\": [\"2018-10-11 15:27:46\", \"2018-12-05 22:53:02\"], \"y\": [4, 4], \"name\": 4, \"marker\": {\"color\": \"F38400\"}}, {\"type\": \"scatter\", \"x\": [\"2018-10-11 15:27:46\", \"2018-11-05 21:32:30\"], \"y\": [5, 5], \"name\": 5, \"marker\": {\"color\": \"A1CAF1\"}}, {\"type\": \"scatter\", \"x\": [\"2018-10-11 15:27:46\", \"2018-10-31 14:55:00\"], \"y\": [6, 6], \"name\": 6, \"marker\": {\"color\": \"BE0032\"}}, {\"type\": \"scatter\", \"x\": [\"2018-11-11 00:00:03\", \"2019-01-07 23:59:56\"], \"y\": [7, 7], \"name\": 7, \"marker\": {\"color\": \"C2B280\"}}, {\"type\": \"scatter\", \"x\": [\"2018-10-11 15:27:46\", \"2018-12-03 19:58:50\"], \"y\": [8, 8], \"name\": 8, \"marker\": {\"color\": \"848482\"}}, {\"type\": \"scatter\", \"x\": [\"2018-10-11 15:27:46\", \"2019-01-07 23:59:54\"], \"y\": [9, 9], \"name\": 9, \"marker\": {\"color\": \"008856\"}}, {\"type\": \"scatter\", \"x\": [\"2018-10-11 15:27:46\", \"2018-12-31 04:39:59\"], \"y\": [10, 10], \"name\": 10, \"marker\": {\"color\": \"E68FAC\"}}, {\"type\": \"scatter\", \"x\": [\"2018-10-11 15:27:46\", \"2019-01-07 23:59:55\"], \"y\": [11, 11], \"name\": 11, \"marker\": {\"color\": \"0067A5\"}}, {\"type\": \"scatter\", \"x\": [\"2018-10-11 15:27:46\", \"2019-01-07 23:59:59\"], \"y\": [12, 12], \"name\": 12, \"marker\": {\"color\": \"F99379\"}}, {\"type\": \"scatter\", \"x\": [\"2018-10-11 15:27:46\", \"2018-12-04 20:27:05\"], \"y\": [13, 13], \"name\": 13, \"marker\": {\"color\": \"604E97\"}}, {\"type\": \"scatter\", \"x\": [\"2018-10-11 15:27:46\", \"2018-12-06 02:12:27\"], \"y\": [14, 14], \"name\": 14, \"marker\": {\"color\": \"F6A600\"}}, {\"type\": \"scatter\", \"x\": [\"2018-10-11 15:27:46\", \"2019-01-07 23:59:58\"], \"y\": [15, 15], \"name\": 15, \"marker\": {\"color\": \"B3446C\"}}, {\"type\": \"scatter\", \"x\": [\"2018-10-11 15:27:46\", \"2019-01-07 23:59:56\"], \"y\": [16, 16], \"name\": 16, \"marker\": {\"color\": \"DCD300\"}}, {\"type\": \"scatter\", \"x\": [\"2018-10-11 15:27:46\", \"2019-01-07 12:46:58\"], \"y\": [17, 17], \"name\": 17, \"marker\": {\"color\": \"882D17\"}}, {\"type\": \"scatter\", \"x\": [\"2018-10-11 15:27:46\", \"2019-01-07 12:46:58\"], \"y\": [18, 18], \"name\": 18, \"marker\": {\"color\": \"8DB600\"}}], {\"title\": \"Device reporting times - collectd\"}, {\"showLink\": true, \"linkText\": \"Export to plot.ly\"})});</script>"
      ],
      "text/vnd.plotly.v1+html": [
       "<div id=\"d76b9842-bc3e-48a4-8f2e-ce06c1d6ec61\" style=\"height: 525px; width: 100%;\" class=\"plotly-graph-div\"></div><script type=\"text/javascript\">require([\"plotly\"], function(Plotly) { window.PLOTLYENV=window.PLOTLYENV || {};window.PLOTLYENV.BASE_URL=\"https://plot.ly\";Plotly.newPlot(\"d76b9842-bc3e-48a4-8f2e-ce06c1d6ec61\", [{\"type\": \"scatter\", \"x\": [\"2018-10-10 14:16:15\", \"2018-10-11 15:46:31\"], \"y\": [1, 1], \"name\": 1, \"marker\": {\"color\": \"222222\"}}, {\"type\": \"scatter\", \"x\": [\"2018-10-11 15:27:46\", \"2018-11-06 19:16:32\"], \"y\": [2, 2], \"name\": 2, \"marker\": {\"color\": \"F3C300\"}}, {\"type\": \"scatter\", \"x\": [\"2018-10-11 15:27:46\", \"2019-01-07 23:59:57\"], \"y\": [3, 3], \"name\": 3, \"marker\": {\"color\": \"875692\"}}, {\"type\": \"scatter\", \"x\": [\"2018-10-11 15:27:46\", \"2018-12-05 22:53:02\"], \"y\": [4, 4], \"name\": 4, \"marker\": {\"color\": \"F38400\"}}, {\"type\": \"scatter\", \"x\": [\"2018-10-11 15:27:46\", \"2018-11-05 21:32:30\"], \"y\": [5, 5], \"name\": 5, \"marker\": {\"color\": \"A1CAF1\"}}, {\"type\": \"scatter\", \"x\": [\"2018-10-11 15:27:46\", \"2018-10-31 14:55:00\"], \"y\": [6, 6], \"name\": 6, \"marker\": {\"color\": \"BE0032\"}}, {\"type\": \"scatter\", \"x\": [\"2018-11-11 00:00:03\", \"2019-01-07 23:59:56\"], \"y\": [7, 7], \"name\": 7, \"marker\": {\"color\": \"C2B280\"}}, {\"type\": \"scatter\", \"x\": [\"2018-10-11 15:27:46\", \"2018-12-03 19:58:50\"], \"y\": [8, 8], \"name\": 8, \"marker\": {\"color\": \"848482\"}}, {\"type\": \"scatter\", \"x\": [\"2018-10-11 15:27:46\", \"2019-01-07 23:59:54\"], \"y\": [9, 9], \"name\": 9, \"marker\": {\"color\": \"008856\"}}, {\"type\": \"scatter\", \"x\": [\"2018-10-11 15:27:46\", \"2018-12-31 04:39:59\"], \"y\": [10, 10], \"name\": 10, \"marker\": {\"color\": \"E68FAC\"}}, {\"type\": \"scatter\", \"x\": [\"2018-10-11 15:27:46\", \"2019-01-07 23:59:55\"], \"y\": [11, 11], \"name\": 11, \"marker\": {\"color\": \"0067A5\"}}, {\"type\": \"scatter\", \"x\": [\"2018-10-11 15:27:46\", \"2019-01-07 23:59:59\"], \"y\": [12, 12], \"name\": 12, \"marker\": {\"color\": \"F99379\"}}, {\"type\": \"scatter\", \"x\": [\"2018-10-11 15:27:46\", \"2018-12-04 20:27:05\"], \"y\": [13, 13], \"name\": 13, \"marker\": {\"color\": \"604E97\"}}, {\"type\": \"scatter\", \"x\": [\"2018-10-11 15:27:46\", \"2018-12-06 02:12:27\"], \"y\": [14, 14], \"name\": 14, \"marker\": {\"color\": \"F6A600\"}}, {\"type\": \"scatter\", \"x\": [\"2018-10-11 15:27:46\", \"2019-01-07 23:59:58\"], \"y\": [15, 15], \"name\": 15, \"marker\": {\"color\": \"B3446C\"}}, {\"type\": \"scatter\", \"x\": [\"2018-10-11 15:27:46\", \"2019-01-07 23:59:56\"], \"y\": [16, 16], \"name\": 16, \"marker\": {\"color\": \"DCD300\"}}, {\"type\": \"scatter\", \"x\": [\"2018-10-11 15:27:46\", \"2019-01-07 12:46:58\"], \"y\": [17, 17], \"name\": 17, \"marker\": {\"color\": \"882D17\"}}, {\"type\": \"scatter\", \"x\": [\"2018-10-11 15:27:46\", \"2019-01-07 12:46:58\"], \"y\": [18, 18], \"name\": 18, \"marker\": {\"color\": \"8DB600\"}}], {\"title\": \"Device reporting times - collectd\"}, {\"showLink\": true, \"linkText\": \"Export to plot.ly\"})});</script>"
      ]
     },
     "metadata": {},
     "output_type": "display_data"
    },
    {
     "data": {
      "application/vnd.plotly.v1+json": {
       "data": [
        {
         "marker": {
          "color": "222222"
         },
         "name": 1,
         "type": "scatter",
         "x": [
          "2018-10-10 15:45:43",
          "2018-10-11 12:00:09"
         ],
         "y": [
          1,
          1
         ]
        },
        {
         "marker": {
          "color": "F3C300"
         },
         "name": 2,
         "type": "scatter",
         "x": [
          "2018-10-11 15:55:58",
          "2018-11-03 16:52:07"
         ],
         "y": [
          2,
          2
         ]
        },
        {
         "marker": {
          "color": "875692"
         },
         "name": 3,
         "type": "scatter",
         "x": [
          "2018-10-15 19:36:18",
          "2019-01-07 23:48:10"
         ],
         "y": [
          3,
          3
         ]
        },
        {
         "marker": {
          "color": "F38400"
         },
         "name": 4,
         "type": "scatter",
         "x": [
          "2018-10-27 00:03:48",
          "2018-12-05 16:36:12"
         ],
         "y": [
          4,
          4
         ]
        },
        {
         "marker": {
          "color": "A1CAF1"
         },
         "name": 5,
         "type": "scatter",
         "x": [
          "2018-10-26 18:18:08",
          "2019-01-07 23:48:07"
         ],
         "y": [
          5,
          5
         ]
        },
        {
         "marker": {
          "color": "BE0032"
         },
         "name": 6,
         "type": "scatter",
         "x": [
          "2018-10-26 23:53:09",
          "2018-10-31 14:52:59"
         ],
         "y": [
          6,
          6
         ]
        },
        {
         "marker": {
          "color": "C2B280"
         },
         "name": 7,
         "type": "scatter",
         "x": [
          "2018-11-11 00:36:13",
          "2019-01-07 23:48:04"
         ],
         "y": [
          7,
          7
         ]
        },
        {
         "marker": {
          "color": "848482"
         },
         "name": 8,
         "type": "scatter",
         "x": [
          "2018-11-07 18:22:07",
          "2018-12-03 16:30:07"
         ],
         "y": [
          8,
          8
         ]
        },
        {
         "marker": {
          "color": "008856"
         },
         "name": 9,
         "type": "scatter",
         "x": [
          "2018-11-30 18:12:12",
          "2019-01-07 23:48:05"
         ],
         "y": [
          9,
          9
         ]
        },
        {
         "marker": {
          "color": "E68FAC"
         },
         "name": 10,
         "type": "scatter",
         "x": [
          "2018-12-12 22:29:40",
          "2019-01-07 16:24:08"
         ],
         "y": [
          10,
          10
         ]
        },
        {
         "marker": {
          "color": "0067A5"
         },
         "name": 11,
         "type": "scatter",
         "x": [
          "2018-11-30 18:12:09",
          "2019-01-07 23:48:08"
         ],
         "y": [
          11,
          11
         ]
        },
        {
         "marker": {
          "color": "F99379"
         },
         "name": 12,
         "type": "scatter",
         "x": [
          "2018-11-30 18:12:06",
          "2019-01-07 23:48:01"
         ],
         "y": [
          12,
          12
         ]
        },
        {
         "marker": {
          "color": "F6A600"
         },
         "name": 14,
         "type": "scatter",
         "x": [
          "2018-12-05 16:48:41",
          "2019-01-07 23:48:11"
         ],
         "y": [
          14,
          14
         ]
        },
        {
         "marker": {
          "color": "B3446C"
         },
         "name": 15,
         "type": "scatter",
         "x": [
          "2018-12-05 18:23:59",
          "2019-01-07 23:48:09"
         ],
         "y": [
          15,
          15
         ]
        },
        {
         "marker": {
          "color": "DCD300"
         },
         "name": 16,
         "type": "scatter",
         "x": [
          "2018-12-06 22:12:11",
          "2019-01-07 23:48:07"
         ],
         "y": [
          16,
          16
         ]
        },
        {
         "marker": {
          "color": "882D17"
         },
         "name": 17,
         "type": "scatter",
         "x": [
          "2018-12-13 20:42:08",
          "2019-01-07 23:48:17"
         ],
         "y": [
          17,
          17
         ]
        },
        {
         "marker": {
          "color": "8DB600"
         },
         "name": 18,
         "type": "scatter",
         "x": [
          "2018-12-18 17:18:33",
          "2019-01-07 23:48:08"
         ],
         "y": [
          18,
          18
         ]
        }
       ],
       "layout": {
        "title": "Device reporting times   - speedtest"
       }
      },
      "text/html": [
       "<div id=\"eaa8bb7f-8b01-4ccd-9450-8458ff2b771f\" style=\"height: 525px; width: 100%;\" class=\"plotly-graph-div\"></div><script type=\"text/javascript\">require([\"plotly\"], function(Plotly) { window.PLOTLYENV=window.PLOTLYENV || {};window.PLOTLYENV.BASE_URL=\"https://plot.ly\";Plotly.newPlot(\"eaa8bb7f-8b01-4ccd-9450-8458ff2b771f\", [{\"type\": \"scatter\", \"x\": [\"2018-10-10 15:45:43\", \"2018-10-11 12:00:09\"], \"y\": [1, 1], \"name\": 1, \"marker\": {\"color\": \"222222\"}}, {\"type\": \"scatter\", \"x\": [\"2018-10-11 15:55:58\", \"2018-11-03 16:52:07\"], \"y\": [2, 2], \"name\": 2, \"marker\": {\"color\": \"F3C300\"}}, {\"type\": \"scatter\", \"x\": [\"2018-10-15 19:36:18\", \"2019-01-07 23:48:10\"], \"y\": [3, 3], \"name\": 3, \"marker\": {\"color\": \"875692\"}}, {\"type\": \"scatter\", \"x\": [\"2018-10-27 00:03:48\", \"2018-12-05 16:36:12\"], \"y\": [4, 4], \"name\": 4, \"marker\": {\"color\": \"F38400\"}}, {\"type\": \"scatter\", \"x\": [\"2018-10-26 18:18:08\", \"2019-01-07 23:48:07\"], \"y\": [5, 5], \"name\": 5, \"marker\": {\"color\": \"A1CAF1\"}}, {\"type\": \"scatter\", \"x\": [\"2018-10-26 23:53:09\", \"2018-10-31 14:52:59\"], \"y\": [6, 6], \"name\": 6, \"marker\": {\"color\": \"BE0032\"}}, {\"type\": \"scatter\", \"x\": [\"2018-11-11 00:36:13\", \"2019-01-07 23:48:04\"], \"y\": [7, 7], \"name\": 7, \"marker\": {\"color\": \"C2B280\"}}, {\"type\": \"scatter\", \"x\": [\"2018-11-07 18:22:07\", \"2018-12-03 16:30:07\"], \"y\": [8, 8], \"name\": 8, \"marker\": {\"color\": \"848482\"}}, {\"type\": \"scatter\", \"x\": [\"2018-11-30 18:12:12\", \"2019-01-07 23:48:05\"], \"y\": [9, 9], \"name\": 9, \"marker\": {\"color\": \"008856\"}}, {\"type\": \"scatter\", \"x\": [\"2018-12-12 22:29:40\", \"2019-01-07 16:24:08\"], \"y\": [10, 10], \"name\": 10, \"marker\": {\"color\": \"E68FAC\"}}, {\"type\": \"scatter\", \"x\": [\"2018-11-30 18:12:09\", \"2019-01-07 23:48:08\"], \"y\": [11, 11], \"name\": 11, \"marker\": {\"color\": \"0067A5\"}}, {\"type\": \"scatter\", \"x\": [\"2018-11-30 18:12:06\", \"2019-01-07 23:48:01\"], \"y\": [12, 12], \"name\": 12, \"marker\": {\"color\": \"F99379\"}}, {\"type\": \"scatter\", \"x\": [\"2018-12-05 16:48:41\", \"2019-01-07 23:48:11\"], \"y\": [14, 14], \"name\": 14, \"marker\": {\"color\": \"F6A600\"}}, {\"type\": \"scatter\", \"x\": [\"2018-12-05 18:23:59\", \"2019-01-07 23:48:09\"], \"y\": [15, 15], \"name\": 15, \"marker\": {\"color\": \"B3446C\"}}, {\"type\": \"scatter\", \"x\": [\"2018-12-06 22:12:11\", \"2019-01-07 23:48:07\"], \"y\": [16, 16], \"name\": 16, \"marker\": {\"color\": \"DCD300\"}}, {\"type\": \"scatter\", \"x\": [\"2018-12-13 20:42:08\", \"2019-01-07 23:48:17\"], \"y\": [17, 17], \"name\": 17, \"marker\": {\"color\": \"882D17\"}}, {\"type\": \"scatter\", \"x\": [\"2018-12-18 17:18:33\", \"2019-01-07 23:48:08\"], \"y\": [18, 18], \"name\": 18, \"marker\": {\"color\": \"8DB600\"}}], {\"title\": \"Device reporting times   - speedtest\"}, {\"showLink\": true, \"linkText\": \"Export to plot.ly\"})});</script>"
      ],
      "text/vnd.plotly.v1+html": [
       "<div id=\"eaa8bb7f-8b01-4ccd-9450-8458ff2b771f\" style=\"height: 525px; width: 100%;\" class=\"plotly-graph-div\"></div><script type=\"text/javascript\">require([\"plotly\"], function(Plotly) { window.PLOTLYENV=window.PLOTLYENV || {};window.PLOTLYENV.BASE_URL=\"https://plot.ly\";Plotly.newPlot(\"eaa8bb7f-8b01-4ccd-9450-8458ff2b771f\", [{\"type\": \"scatter\", \"x\": [\"2018-10-10 15:45:43\", \"2018-10-11 12:00:09\"], \"y\": [1, 1], \"name\": 1, \"marker\": {\"color\": \"222222\"}}, {\"type\": \"scatter\", \"x\": [\"2018-10-11 15:55:58\", \"2018-11-03 16:52:07\"], \"y\": [2, 2], \"name\": 2, \"marker\": {\"color\": \"F3C300\"}}, {\"type\": \"scatter\", \"x\": [\"2018-10-15 19:36:18\", \"2019-01-07 23:48:10\"], \"y\": [3, 3], \"name\": 3, \"marker\": {\"color\": \"875692\"}}, {\"type\": \"scatter\", \"x\": [\"2018-10-27 00:03:48\", \"2018-12-05 16:36:12\"], \"y\": [4, 4], \"name\": 4, \"marker\": {\"color\": \"F38400\"}}, {\"type\": \"scatter\", \"x\": [\"2018-10-26 18:18:08\", \"2019-01-07 23:48:07\"], \"y\": [5, 5], \"name\": 5, \"marker\": {\"color\": \"A1CAF1\"}}, {\"type\": \"scatter\", \"x\": [\"2018-10-26 23:53:09\", \"2018-10-31 14:52:59\"], \"y\": [6, 6], \"name\": 6, \"marker\": {\"color\": \"BE0032\"}}, {\"type\": \"scatter\", \"x\": [\"2018-11-11 00:36:13\", \"2019-01-07 23:48:04\"], \"y\": [7, 7], \"name\": 7, \"marker\": {\"color\": \"C2B280\"}}, {\"type\": \"scatter\", \"x\": [\"2018-11-07 18:22:07\", \"2018-12-03 16:30:07\"], \"y\": [8, 8], \"name\": 8, \"marker\": {\"color\": \"848482\"}}, {\"type\": \"scatter\", \"x\": [\"2018-11-30 18:12:12\", \"2019-01-07 23:48:05\"], \"y\": [9, 9], \"name\": 9, \"marker\": {\"color\": \"008856\"}}, {\"type\": \"scatter\", \"x\": [\"2018-12-12 22:29:40\", \"2019-01-07 16:24:08\"], \"y\": [10, 10], \"name\": 10, \"marker\": {\"color\": \"E68FAC\"}}, {\"type\": \"scatter\", \"x\": [\"2018-11-30 18:12:09\", \"2019-01-07 23:48:08\"], \"y\": [11, 11], \"name\": 11, \"marker\": {\"color\": \"0067A5\"}}, {\"type\": \"scatter\", \"x\": [\"2018-11-30 18:12:06\", \"2019-01-07 23:48:01\"], \"y\": [12, 12], \"name\": 12, \"marker\": {\"color\": \"F99379\"}}, {\"type\": \"scatter\", \"x\": [\"2018-12-05 16:48:41\", \"2019-01-07 23:48:11\"], \"y\": [14, 14], \"name\": 14, \"marker\": {\"color\": \"F6A600\"}}, {\"type\": \"scatter\", \"x\": [\"2018-12-05 18:23:59\", \"2019-01-07 23:48:09\"], \"y\": [15, 15], \"name\": 15, \"marker\": {\"color\": \"B3446C\"}}, {\"type\": \"scatter\", \"x\": [\"2018-12-06 22:12:11\", \"2019-01-07 23:48:07\"], \"y\": [16, 16], \"name\": 16, \"marker\": {\"color\": \"DCD300\"}}, {\"type\": \"scatter\", \"x\": [\"2018-12-13 20:42:08\", \"2019-01-07 23:48:17\"], \"y\": [17, 17], \"name\": 17, \"marker\": {\"color\": \"882D17\"}}, {\"type\": \"scatter\", \"x\": [\"2018-12-18 17:18:33\", \"2019-01-07 23:48:08\"], \"y\": [18, 18], \"name\": 18, \"marker\": {\"color\": \"8DB600\"}}], {\"title\": \"Device reporting times   - speedtest\"}, {\"showLink\": true, \"linkText\": \"Export to plot.ly\"})});</script>"
      ]
     },
     "metadata": {},
     "output_type": "display_data"
    }
   ],
   "source": [
    "data=[]\n",
    "for device in device_numbers:\n",
    "    points_ping_last=result_ping_last.get_points(tags={'SK_PI':str(device)})\n",
    "    points_ping_first=result_ping_first.get_points(tags={'SK_PI':str(device)})\n",
    "    first=0\n",
    "    last=0\n",
    "    for point in points_ping_first:\n",
    "        first=dateutil.parser.parse(point['time']).strftime('%Y-%m-%d %H:%M:%S')\n",
    "    for point in points_ping_last:\n",
    "        last=dateutil.parser.parse(point['time']).strftime('%Y-%m-%d %H:%M:%S')\n",
    "   # print(\"Device: \", device,\"  was reporting from \", first, \" to \", last)\n",
    "    trace = go.Scatter(x=[first,last],y=[device,device], name = device,marker=dict(color=colors[device]))\n",
    "    data.append(trace)\n",
    "layout = dict(title = \"Device reporting times - collectd\")\n",
    "fig1 = go.Figure(data=data, layout=layout)\n",
    "iplot(fig1)\n",
    "\n",
    "start_times=upload_df.groupby('SK_PI')['time'].min()\n",
    "end_times=upload_df.groupby('SK_PI')['time'].max()\n",
    "device_numbers=sorted(upload_df['SK_PI'].unique())\n",
    "#print(device_numbers)\n",
    "data=[]\n",
    "for device in device_numbers:\n",
    "    time_last=end_times[device]\n",
    "    time_first=start_times[device]\n",
    "    #print(\"Device: \", device,\"  was reporting from \", time_first, \" to \", time_last)\n",
    "    trace = go.Scatter(x=[time_first,time_last],y=[device,device], name = device,marker=dict(color=colors[device]))\n",
    "    data.append(trace)\n",
    "layout = dict(title = \"Device reporting times   - speedtest\")\n",
    "fig2 = go.Figure(data=data, layout=layout)\n",
    "iplot(fig2)"
   ]
  },
  {
   "cell_type": "markdown",
   "metadata": {},
   "source": [
    "## Summary:\n",
    "## Questions:"
   ]
  },
  {
   "cell_type": "markdown",
   "metadata": {},
   "source": [
    "# Part2: Speedtest statistics  by provider - number of providers per device, number of datapoints per provider, latency/upload/download speeds by provider."
   ]
  },
  {
   "cell_type": "code",
   "execution_count": 19,
   "metadata": {},
   "outputs": [
    {
     "data": {
      "application/vnd.plotly.v1+json": {
       "data": [
        {
         "labels": [
          2,
          1,
          3
         ],
         "type": "pie",
         "values": [
          11,
          5,
          1
         ]
        }
       ],
       "layout": {
        "title": "Number of providers per device"
       }
      },
      "text/html": [
       "<div id=\"20bbcaf4-1084-4130-813e-8b4ecdba7d2c\" style=\"height: 525px; width: 100%;\" class=\"plotly-graph-div\"></div><script type=\"text/javascript\">require([\"plotly\"], function(Plotly) { window.PLOTLYENV=window.PLOTLYENV || {};window.PLOTLYENV.BASE_URL=\"https://plot.ly\";Plotly.newPlot(\"20bbcaf4-1084-4130-813e-8b4ecdba7d2c\", [{\"type\": \"pie\", \"labels\": [2, 1, 3], \"values\": [11, 5, 1]}], {\"title\": \"Number of providers per device\"}, {\"showLink\": true, \"linkText\": \"Export to plot.ly\"})});</script>"
      ],
      "text/vnd.plotly.v1+html": [
       "<div id=\"20bbcaf4-1084-4130-813e-8b4ecdba7d2c\" style=\"height: 525px; width: 100%;\" class=\"plotly-graph-div\"></div><script type=\"text/javascript\">require([\"plotly\"], function(Plotly) { window.PLOTLYENV=window.PLOTLYENV || {};window.PLOTLYENV.BASE_URL=\"https://plot.ly\";Plotly.newPlot(\"20bbcaf4-1084-4130-813e-8b4ecdba7d2c\", [{\"type\": \"pie\", \"labels\": [2, 1, 3], \"values\": [11, 5, 1]}], {\"title\": \"Number of providers per device\"}, {\"showLink\": true, \"linkText\": \"Export to plot.ly\"})});</script>"
      ]
     },
     "metadata": {},
     "output_type": "display_data"
    },
    {
     "data": {
      "application/vnd.plotly.v1+json": {
       "data": [
        {
         "marker": {
          "color": "F2F3F4"
         },
         "name": "Bell MTS",
         "type": "bar",
         "x": [
          1,
          2,
          3,
          4,
          5,
          6,
          7,
          8,
          9,
          10,
          11,
          12,
          14,
          15,
          16,
          17,
          18
         ],
         "y": [
          6,
          135,
          0,
          217,
          473,
          6,
          314,
          0,
          0,
          0,
          0,
          0,
          0,
          216,
          195,
          0,
          0
         ]
        },
        {
         "marker": {
          "color": "222222"
         },
         "name": "iperf",
         "type": "bar",
         "x": [
          1,
          2,
          3,
          4,
          5,
          6,
          7,
          8,
          9,
          10,
          11,
          12,
          14,
          15,
          16,
          17,
          18
         ],
         "y": [
          4,
          105,
          21,
          70,
          82,
          26,
          51,
          2,
          8,
          0,
          3,
          4,
          0,
          0,
          0,
          0,
          0
         ]
        },
        {
         "marker": {
          "color": "F3C300"
         },
         "name": "Cybera",
         "type": "bar",
         "x": [
          1,
          2,
          3,
          4,
          5,
          6,
          7,
          8,
          9,
          10,
          11,
          12,
          14,
          15,
          16,
          17,
          18
         ],
         "y": [
          0,
          0,
          278,
          0,
          0,
          0,
          0,
          0,
          0,
          0,
          0,
          0,
          0,
          0,
          0,
          0,
          0
         ]
        },
        {
         "marker": {
          "color": "875692"
         },
         "name": "MERLIN",
         "type": "bar",
         "x": [
          1,
          2,
          3,
          4,
          5,
          6,
          7,
          8,
          9,
          10,
          11,
          12,
          14,
          15,
          16,
          17,
          18
         ],
         "y": [
          0,
          0,
          0,
          0,
          0,
          0,
          0,
          8,
          0,
          0,
          0,
          0,
          0,
          0,
          0,
          0,
          0
         ]
        },
        {
         "marker": {
          "color": "F38400"
         },
         "name": "High Speed Crow",
         "type": "bar",
         "x": [
          1,
          2,
          3,
          4,
          5,
          6,
          7,
          8,
          9,
          10,
          11,
          12,
          14,
          15,
          16,
          17,
          18
         ],
         "y": [
          0,
          0,
          0,
          0,
          0,
          0,
          0,
          0,
          0,
          0,
          0,
          249,
          0,
          0,
          0,
          0,
          0
         ]
        },
        {
         "marker": {
          "color": "A1CAF1"
         },
         "name": "Cogent Communications",
         "type": "bar",
         "x": [
          1,
          2,
          3,
          4,
          5,
          6,
          7,
          8,
          9,
          10,
          11,
          12,
          14,
          15,
          16,
          17,
          18
         ],
         "y": [
          0,
          0,
          0,
          0,
          0,
          0,
          0,
          0,
          0,
          0,
          239,
          0,
          0,
          0,
          0,
          0,
          0
         ]
        },
        {
         "marker": {
          "color": "BE0032"
         },
         "name": "Xplornet Communications",
         "type": "bar",
         "x": [
          1,
          2,
          3,
          4,
          5,
          6,
          7,
          8,
          9,
          10,
          11,
          12,
          14,
          15,
          16,
          17,
          18
         ],
         "y": [
          0,
          0,
          0,
          0,
          0,
          0,
          0,
          0,
          248,
          0,
          0,
          0,
          0,
          0,
          0,
          0,
          0
         ]
        },
        {
         "marker": {
          "color": "C2B280"
         },
         "name": "Commstream Communications",
         "type": "bar",
         "x": [
          1,
          2,
          3,
          4,
          5,
          6,
          7,
          8,
          9,
          10,
          11,
          12,
          14,
          15,
          16,
          17,
          18
         ],
         "y": [
          0,
          0,
          0,
          0,
          0,
          0,
          0,
          13,
          0,
          0,
          0,
          0,
          0,
          0,
          0,
          0,
          0
         ]
        },
        {
         "marker": {
          "color": "848482"
         },
         "name": "Keewaytinook Okimakanak",
         "type": "bar",
         "x": [
          1,
          2,
          3,
          4,
          5,
          6,
          7,
          8,
          9,
          10,
          11,
          12,
          14,
          15,
          16,
          17,
          18
         ],
         "y": [
          0,
          0,
          0,
          0,
          0,
          0,
          0,
          0,
          0,
          0,
          0,
          0,
          57,
          0,
          0,
          164,
          130
         ]
        },
        {
         "marker": {
          "color": "008856"
         },
         "name": "TeraGo Networks",
         "type": "bar",
         "x": [
          1,
          2,
          3,
          4,
          5,
          6,
          7,
          8,
          9,
          10,
          11,
          12,
          14,
          15,
          16,
          17,
          18
         ],
         "y": [
          0,
          0,
          0,
          0,
          0,
          0,
          0,
          0,
          0,
          168,
          0,
          0,
          0,
          0,
          0,
          0,
          0
         ]
        },
        {
         "marker": {
          "color": "E68FAC"
         },
         "name": "Manitoba Hydro International",
         "type": "bar",
         "x": [
          1,
          2,
          3,
          4,
          5,
          6,
          7,
          8,
          9,
          10,
          11,
          12,
          14,
          15,
          16,
          17,
          18
         ],
         "y": [
          0,
          0,
          0,
          0,
          0,
          0,
          0,
          0,
          0,
          0,
          0,
          0,
          159,
          0,
          0,
          0,
          0
         ]
        }
       ],
       "layout": {
        "barmode": "stack",
        "title": "Number of data points per device per provider"
       }
      },
      "text/html": [
       "<div id=\"bd1cd21e-1912-4266-bd2b-cfe1f60a256b\" style=\"height: 525px; width: 100%;\" class=\"plotly-graph-div\"></div><script type=\"text/javascript\">require([\"plotly\"], function(Plotly) { window.PLOTLYENV=window.PLOTLYENV || {};window.PLOTLYENV.BASE_URL=\"https://plot.ly\";Plotly.newPlot(\"bd1cd21e-1912-4266-bd2b-cfe1f60a256b\", [{\"type\": \"bar\", \"x\": [1, 2, 3, 4, 5, 6, 7, 8, 9, 10, 11, 12, 14, 15, 16, 17, 18], \"y\": [6, 135, 0, 217, 473, 6, 314, 0, 0, 0, 0, 0, 0, 216, 195, 0, 0], \"name\": \"Bell MTS\", \"marker\": {\"color\": \"F2F3F4\"}}, {\"type\": \"bar\", \"x\": [1, 2, 3, 4, 5, 6, 7, 8, 9, 10, 11, 12, 14, 15, 16, 17, 18], \"y\": [4, 105, 21, 70, 82, 26, 51, 2, 8, 0, 3, 4, 0, 0, 0, 0, 0], \"name\": \"iperf\", \"marker\": {\"color\": \"222222\"}}, {\"type\": \"bar\", \"x\": [1, 2, 3, 4, 5, 6, 7, 8, 9, 10, 11, 12, 14, 15, 16, 17, 18], \"y\": [0, 0, 278, 0, 0, 0, 0, 0, 0, 0, 0, 0, 0, 0, 0, 0, 0], \"name\": \"Cybera\", \"marker\": {\"color\": \"F3C300\"}}, {\"type\": \"bar\", \"x\": [1, 2, 3, 4, 5, 6, 7, 8, 9, 10, 11, 12, 14, 15, 16, 17, 18], \"y\": [0, 0, 0, 0, 0, 0, 0, 8, 0, 0, 0, 0, 0, 0, 0, 0, 0], \"name\": \"MERLIN\", \"marker\": {\"color\": \"875692\"}}, {\"type\": \"bar\", \"x\": [1, 2, 3, 4, 5, 6, 7, 8, 9, 10, 11, 12, 14, 15, 16, 17, 18], \"y\": [0, 0, 0, 0, 0, 0, 0, 0, 0, 0, 0, 249, 0, 0, 0, 0, 0], \"name\": \"High Speed Crow\", \"marker\": {\"color\": \"F38400\"}}, {\"type\": \"bar\", \"x\": [1, 2, 3, 4, 5, 6, 7, 8, 9, 10, 11, 12, 14, 15, 16, 17, 18], \"y\": [0, 0, 0, 0, 0, 0, 0, 0, 0, 0, 239, 0, 0, 0, 0, 0, 0], \"name\": \"Cogent Communications\", \"marker\": {\"color\": \"A1CAF1\"}}, {\"type\": \"bar\", \"x\": [1, 2, 3, 4, 5, 6, 7, 8, 9, 10, 11, 12, 14, 15, 16, 17, 18], \"y\": [0, 0, 0, 0, 0, 0, 0, 0, 248, 0, 0, 0, 0, 0, 0, 0, 0], \"name\": \"Xplornet Communications\", \"marker\": {\"color\": \"BE0032\"}}, {\"type\": \"bar\", \"x\": [1, 2, 3, 4, 5, 6, 7, 8, 9, 10, 11, 12, 14, 15, 16, 17, 18], \"y\": [0, 0, 0, 0, 0, 0, 0, 13, 0, 0, 0, 0, 0, 0, 0, 0, 0], \"name\": \"Commstream Communications\", \"marker\": {\"color\": \"C2B280\"}}, {\"type\": \"bar\", \"x\": [1, 2, 3, 4, 5, 6, 7, 8, 9, 10, 11, 12, 14, 15, 16, 17, 18], \"y\": [0, 0, 0, 0, 0, 0, 0, 0, 0, 0, 0, 0, 57, 0, 0, 164, 130], \"name\": \"Keewaytinook Okimakanak\", \"marker\": {\"color\": \"848482\"}}, {\"type\": \"bar\", \"x\": [1, 2, 3, 4, 5, 6, 7, 8, 9, 10, 11, 12, 14, 15, 16, 17, 18], \"y\": [0, 0, 0, 0, 0, 0, 0, 0, 0, 168, 0, 0, 0, 0, 0, 0, 0], \"name\": \"TeraGo Networks\", \"marker\": {\"color\": \"008856\"}}, {\"type\": \"bar\", \"x\": [1, 2, 3, 4, 5, 6, 7, 8, 9, 10, 11, 12, 14, 15, 16, 17, 18], \"y\": [0, 0, 0, 0, 0, 0, 0, 0, 0, 0, 0, 0, 159, 0, 0, 0, 0], \"name\": \"Manitoba Hydro International\", \"marker\": {\"color\": \"E68FAC\"}}], {\"barmode\": \"stack\", \"title\": \"Number of data points per device per provider\"}, {\"showLink\": true, \"linkText\": \"Export to plot.ly\"})});</script>"
      ],
      "text/vnd.plotly.v1+html": [
       "<div id=\"bd1cd21e-1912-4266-bd2b-cfe1f60a256b\" style=\"height: 525px; width: 100%;\" class=\"plotly-graph-div\"></div><script type=\"text/javascript\">require([\"plotly\"], function(Plotly) { window.PLOTLYENV=window.PLOTLYENV || {};window.PLOTLYENV.BASE_URL=\"https://plot.ly\";Plotly.newPlot(\"bd1cd21e-1912-4266-bd2b-cfe1f60a256b\", [{\"type\": \"bar\", \"x\": [1, 2, 3, 4, 5, 6, 7, 8, 9, 10, 11, 12, 14, 15, 16, 17, 18], \"y\": [6, 135, 0, 217, 473, 6, 314, 0, 0, 0, 0, 0, 0, 216, 195, 0, 0], \"name\": \"Bell MTS\", \"marker\": {\"color\": \"F2F3F4\"}}, {\"type\": \"bar\", \"x\": [1, 2, 3, 4, 5, 6, 7, 8, 9, 10, 11, 12, 14, 15, 16, 17, 18], \"y\": [4, 105, 21, 70, 82, 26, 51, 2, 8, 0, 3, 4, 0, 0, 0, 0, 0], \"name\": \"iperf\", \"marker\": {\"color\": \"222222\"}}, {\"type\": \"bar\", \"x\": [1, 2, 3, 4, 5, 6, 7, 8, 9, 10, 11, 12, 14, 15, 16, 17, 18], \"y\": [0, 0, 278, 0, 0, 0, 0, 0, 0, 0, 0, 0, 0, 0, 0, 0, 0], \"name\": \"Cybera\", \"marker\": {\"color\": \"F3C300\"}}, {\"type\": \"bar\", \"x\": [1, 2, 3, 4, 5, 6, 7, 8, 9, 10, 11, 12, 14, 15, 16, 17, 18], \"y\": [0, 0, 0, 0, 0, 0, 0, 8, 0, 0, 0, 0, 0, 0, 0, 0, 0], \"name\": \"MERLIN\", \"marker\": {\"color\": \"875692\"}}, {\"type\": \"bar\", \"x\": [1, 2, 3, 4, 5, 6, 7, 8, 9, 10, 11, 12, 14, 15, 16, 17, 18], \"y\": [0, 0, 0, 0, 0, 0, 0, 0, 0, 0, 0, 249, 0, 0, 0, 0, 0], \"name\": \"High Speed Crow\", \"marker\": {\"color\": \"F38400\"}}, {\"type\": \"bar\", \"x\": [1, 2, 3, 4, 5, 6, 7, 8, 9, 10, 11, 12, 14, 15, 16, 17, 18], \"y\": [0, 0, 0, 0, 0, 0, 0, 0, 0, 0, 239, 0, 0, 0, 0, 0, 0], \"name\": \"Cogent Communications\", \"marker\": {\"color\": \"A1CAF1\"}}, {\"type\": \"bar\", \"x\": [1, 2, 3, 4, 5, 6, 7, 8, 9, 10, 11, 12, 14, 15, 16, 17, 18], \"y\": [0, 0, 0, 0, 0, 0, 0, 0, 248, 0, 0, 0, 0, 0, 0, 0, 0], \"name\": \"Xplornet Communications\", \"marker\": {\"color\": \"BE0032\"}}, {\"type\": \"bar\", \"x\": [1, 2, 3, 4, 5, 6, 7, 8, 9, 10, 11, 12, 14, 15, 16, 17, 18], \"y\": [0, 0, 0, 0, 0, 0, 0, 13, 0, 0, 0, 0, 0, 0, 0, 0, 0], \"name\": \"Commstream Communications\", \"marker\": {\"color\": \"C2B280\"}}, {\"type\": \"bar\", \"x\": [1, 2, 3, 4, 5, 6, 7, 8, 9, 10, 11, 12, 14, 15, 16, 17, 18], \"y\": [0, 0, 0, 0, 0, 0, 0, 0, 0, 0, 0, 0, 57, 0, 0, 164, 130], \"name\": \"Keewaytinook Okimakanak\", \"marker\": {\"color\": \"848482\"}}, {\"type\": \"bar\", \"x\": [1, 2, 3, 4, 5, 6, 7, 8, 9, 10, 11, 12, 14, 15, 16, 17, 18], \"y\": [0, 0, 0, 0, 0, 0, 0, 0, 0, 168, 0, 0, 0, 0, 0, 0, 0], \"name\": \"TeraGo Networks\", \"marker\": {\"color\": \"008856\"}}, {\"type\": \"bar\", \"x\": [1, 2, 3, 4, 5, 6, 7, 8, 9, 10, 11, 12, 14, 15, 16, 17, 18], \"y\": [0, 0, 0, 0, 0, 0, 0, 0, 0, 0, 0, 0, 159, 0, 0, 0, 0], \"name\": \"Manitoba Hydro International\", \"marker\": {\"color\": \"E68FAC\"}}], {\"barmode\": \"stack\", \"title\": \"Number of data points per device per provider\"}, {\"showLink\": true, \"linkText\": \"Export to plot.ly\"})});</script>"
      ]
     },
     "metadata": {},
     "output_type": "display_data"
    }
   ],
   "source": [
    "providers_per_device = upload_df.groupby('SK_PI').apply(lambda x: x[\"PROVIDER\"].unique()).apply(pd.Series)\n",
    "providers_per_device['provider_count'] = providers_per_device.apply(lambda x: x.count(), axis=1)\n",
    "#providers_per_device.head()\n",
    "provider_counts_per_device = pd.Series(providers_per_device['provider_count']).value_counts().reset_index()\n",
    "#provider_counts_per_device\n",
    "data = [go.Pie(\n",
    "            labels=provider_counts_per_device['index'],\n",
    "            values=provider_counts_per_device[\"provider_count\"],\n",
    "    )]\n",
    "layout = go.Layout(\n",
    "        #barmode='stack',\n",
    "        title=\"Number of providers per device\"\n",
    "    )\n",
    "\n",
    "fig1 = go.Figure(data=data, layout=layout)\n",
    "iplot(fig1)\n",
    "points_by_device_by_provider=upload_df.groupby(['SK_PI', 'PROVIDER']).size().reset_index()\n",
    "providers=upload_df['PROVIDER'].unique()\n",
    "data=[]\n",
    "i=0\n",
    "for provider in providers:\n",
    "    prov=[]\n",
    "    for device in device_numbers:\n",
    "        by_provider=points_by_device_by_provider.loc[(points_by_device_by_provider['SK_PI']==device)&(points_by_device_by_provider['PROVIDER']==provider)]\n",
    "        if not by_provider.empty:\n",
    "            prov.append(by_provider[0].iloc[0])\n",
    "        else:\n",
    "            prov.append(0)\n",
    "    trace = go.Bar(x=device_numbers,y=prov, name = provider, marker=dict(color=colors[i]))\n",
    "    i=i+1\n",
    "    data.append(trace)\n",
    "    layout = go.Layout(\n",
    "        barmode='stack',\n",
    "        title=\"Number of data points per device per provider\"\n",
    "    )\n",
    "fig2 = go.Figure(data=data, layout=layout)\n",
    "iplot(fig2)"
   ]
  },
  {
   "cell_type": "code",
   "execution_count": 20,
   "metadata": {},
   "outputs": [
    {
     "data": {
      "application/vnd.plotly.v1+json": {
       "data": [
        {
         "name": "Mean",
         "type": "bar",
         "x": [
          "Bell MTS",
          "Cogent Communications",
          "Commstream Communications",
          "Cybera",
          "High Speed Crow",
          "Keewaytinook Okimakanak",
          "MERLIN",
          "Manitoba Hydro International",
          "TeraGo Networks",
          "Xplornet Communications",
          "iperf"
         ],
         "y": [
          8.460813060179262,
          45.418158995815915,
          85.52615384615385,
          118.43410071942444,
          7.917911646586343,
          26.809344729344705,
          120.30749999999999,
          113.34150943396226,
          4.576130952380949,
          50.912903225806424,
          1922.4420212765963
         ]
        },
        {
         "name": "Max",
         "type": "bar",
         "x": [
          "Bell MTS",
          "Cogent Communications",
          "Commstream Communications",
          "Cybera",
          "High Speed Crow",
          "Keewaytinook Okimakanak",
          "MERLIN",
          "Manitoba Hydro International",
          "TeraGo Networks",
          "Xplornet Communications",
          "iperf"
         ],
         "y": [
          52.49,
          62.63,
          92.88,
          130.94,
          10.57,
          94.94,
          140.53,
          150.63,
          6.5,
          58.77,
          20480
         ]
        },
        {
         "name": "Median",
         "type": "bar",
         "x": [
          "Bell MTS",
          "Cogent Communications",
          "Commstream Communications",
          "Cybera",
          "High Speed Crow",
          "Keewaytinook Okimakanak",
          "MERLIN",
          "Manitoba Hydro International",
          "TeraGo Networks",
          "Xplornet Communications",
          "iperf"
         ],
         "y": [
          1.63,
          52.87,
          87.76,
          125.21000000000001,
          8.18,
          9.86,
          133.42000000000002,
          135.96,
          4.52,
          51.865,
          768
         ]
        }
       ],
       "layout": {
        "title": "Maximum, mean and median upload speed per provider"
       }
      },
      "text/html": [
       "<div id=\"6a813304-89da-493e-b8c7-b1a2bc95fbb1\" style=\"height: 525px; width: 100%;\" class=\"plotly-graph-div\"></div><script type=\"text/javascript\">require([\"plotly\"], function(Plotly) { window.PLOTLYENV=window.PLOTLYENV || {};window.PLOTLYENV.BASE_URL=\"https://plot.ly\";Plotly.newPlot(\"6a813304-89da-493e-b8c7-b1a2bc95fbb1\", [{\"type\": \"bar\", \"x\": [\"Bell MTS\", \"Cogent Communications\", \"Commstream Communications\", \"Cybera\", \"High Speed Crow\", \"Keewaytinook Okimakanak\", \"MERLIN\", \"Manitoba Hydro International\", \"TeraGo Networks\", \"Xplornet Communications\", \"iperf\"], \"y\": [8.460813060179262, 45.418158995815915, 85.52615384615385, 118.43410071942444, 7.917911646586343, 26.809344729344705, 120.30749999999999, 113.34150943396226, 4.576130952380949, 50.912903225806424, 1922.4420212765963], \"name\": \"Mean\"}, {\"type\": \"bar\", \"x\": [\"Bell MTS\", \"Cogent Communications\", \"Commstream Communications\", \"Cybera\", \"High Speed Crow\", \"Keewaytinook Okimakanak\", \"MERLIN\", \"Manitoba Hydro International\", \"TeraGo Networks\", \"Xplornet Communications\", \"iperf\"], \"y\": [52.49, 62.63, 92.88, 130.94, 10.57, 94.94, 140.53, 150.63, 6.5, 58.77, 20480.0], \"name\": \"Max\"}, {\"type\": \"bar\", \"x\": [\"Bell MTS\", \"Cogent Communications\", \"Commstream Communications\", \"Cybera\", \"High Speed Crow\", \"Keewaytinook Okimakanak\", \"MERLIN\", \"Manitoba Hydro International\", \"TeraGo Networks\", \"Xplornet Communications\", \"iperf\"], \"y\": [1.63, 52.87, 87.76, 125.21000000000001, 8.18, 9.86, 133.42000000000002, 135.96, 4.52, 51.865, 768.0], \"name\": \"Median\"}], {\"title\": \"Maximum, mean and median upload speed per provider\"}, {\"showLink\": true, \"linkText\": \"Export to plot.ly\"})});</script>"
      ],
      "text/vnd.plotly.v1+html": [
       "<div id=\"6a813304-89da-493e-b8c7-b1a2bc95fbb1\" style=\"height: 525px; width: 100%;\" class=\"plotly-graph-div\"></div><script type=\"text/javascript\">require([\"plotly\"], function(Plotly) { window.PLOTLYENV=window.PLOTLYENV || {};window.PLOTLYENV.BASE_URL=\"https://plot.ly\";Plotly.newPlot(\"6a813304-89da-493e-b8c7-b1a2bc95fbb1\", [{\"type\": \"bar\", \"x\": [\"Bell MTS\", \"Cogent Communications\", \"Commstream Communications\", \"Cybera\", \"High Speed Crow\", \"Keewaytinook Okimakanak\", \"MERLIN\", \"Manitoba Hydro International\", \"TeraGo Networks\", \"Xplornet Communications\", \"iperf\"], \"y\": [8.460813060179262, 45.418158995815915, 85.52615384615385, 118.43410071942444, 7.917911646586343, 26.809344729344705, 120.30749999999999, 113.34150943396226, 4.576130952380949, 50.912903225806424, 1922.4420212765963], \"name\": \"Mean\"}, {\"type\": \"bar\", \"x\": [\"Bell MTS\", \"Cogent Communications\", \"Commstream Communications\", \"Cybera\", \"High Speed Crow\", \"Keewaytinook Okimakanak\", \"MERLIN\", \"Manitoba Hydro International\", \"TeraGo Networks\", \"Xplornet Communications\", \"iperf\"], \"y\": [52.49, 62.63, 92.88, 130.94, 10.57, 94.94, 140.53, 150.63, 6.5, 58.77, 20480.0], \"name\": \"Max\"}, {\"type\": \"bar\", \"x\": [\"Bell MTS\", \"Cogent Communications\", \"Commstream Communications\", \"Cybera\", \"High Speed Crow\", \"Keewaytinook Okimakanak\", \"MERLIN\", \"Manitoba Hydro International\", \"TeraGo Networks\", \"Xplornet Communications\", \"iperf\"], \"y\": [1.63, 52.87, 87.76, 125.21000000000001, 8.18, 9.86, 133.42000000000002, 135.96, 4.52, 51.865, 768.0], \"name\": \"Median\"}], {\"title\": \"Maximum, mean and median upload speed per provider\"}, {\"showLink\": true, \"linkText\": \"Export to plot.ly\"})});</script>"
      ]
     },
     "metadata": {},
     "output_type": "display_data"
    },
    {
     "data": {
      "application/vnd.plotly.v1+json": {
       "data": [
        {
         "name": "Mean",
         "type": "bar",
         "x": [
          "Bell MTS",
          "Cogent Communications",
          "Commstream Communications",
          "Cybera",
          "High Speed Crow",
          "Keewaytinook Okimakanak",
          "MERLIN",
          "Manitoba Hydro International",
          "TeraGo Networks",
          "Xplornet Communications",
          "iperf"
         ],
         "y": [
          8.12968010236725,
          27.790585774058602,
          93.9423076923077,
          168.27611510791374,
          15.67943775100402,
          22.893361823361833,
          117.365,
          127.0030188679245,
          4.113035714285713,
          41.13931451612903,
          7760.040851063824
         ]
        },
        {
         "name": "Max",
         "type": "bar",
         "x": [
          "Bell MTS",
          "Cogent Communications",
          "Commstream Communications",
          "Cybera",
          "High Speed Crow",
          "Keewaytinook Okimakanak",
          "MERLIN",
          "Manitoba Hydro International",
          "TeraGo Networks",
          "Xplornet Communications",
          "iperf"
         ],
         "y": [
          27.66,
          51.06,
          128.39,
          186.16,
          19.17,
          168.07,
          128.73,
          174.28,
          7.32,
          50.61,
          42086.4
         ]
        },
        {
         "name": "Median",
         "type": "bar",
         "x": [
          "Bell MTS",
          "Cogent Communications",
          "Commstream Communications",
          "Cybera",
          "High Speed Crow",
          "Keewaytinook Okimakanak",
          "MERLIN",
          "Manitoba Hydro International",
          "TeraGo Networks",
          "Xplornet Communications",
          "iperf"
         ],
         "y": [
          6.42,
          26.25,
          91.51,
          180.39,
          16.47,
          9.52,
          125.705,
          158.98,
          4.175000000000001,
          43.555,
          5795.84
         ]
        }
       ],
       "layout": {
        "title": "Maximum, mean and median download speed per provider"
       }
      },
      "text/html": [
       "<div id=\"7a1b078d-df8c-4c3b-8816-2d57ca965e86\" style=\"height: 525px; width: 100%;\" class=\"plotly-graph-div\"></div><script type=\"text/javascript\">require([\"plotly\"], function(Plotly) { window.PLOTLYENV=window.PLOTLYENV || {};window.PLOTLYENV.BASE_URL=\"https://plot.ly\";Plotly.newPlot(\"7a1b078d-df8c-4c3b-8816-2d57ca965e86\", [{\"type\": \"bar\", \"x\": [\"Bell MTS\", \"Cogent Communications\", \"Commstream Communications\", \"Cybera\", \"High Speed Crow\", \"Keewaytinook Okimakanak\", \"MERLIN\", \"Manitoba Hydro International\", \"TeraGo Networks\", \"Xplornet Communications\", \"iperf\"], \"y\": [8.12968010236725, 27.790585774058602, 93.9423076923077, 168.27611510791374, 15.67943775100402, 22.893361823361833, 117.365, 127.0030188679245, 4.113035714285713, 41.13931451612903, 7760.040851063824], \"name\": \"Mean\"}, {\"type\": \"bar\", \"x\": [\"Bell MTS\", \"Cogent Communications\", \"Commstream Communications\", \"Cybera\", \"High Speed Crow\", \"Keewaytinook Okimakanak\", \"MERLIN\", \"Manitoba Hydro International\", \"TeraGo Networks\", \"Xplornet Communications\", \"iperf\"], \"y\": [27.66, 51.06, 128.39, 186.16, 19.17, 168.07, 128.73, 174.28, 7.32, 50.61, 42086.4], \"name\": \"Max\"}, {\"type\": \"bar\", \"x\": [\"Bell MTS\", \"Cogent Communications\", \"Commstream Communications\", \"Cybera\", \"High Speed Crow\", \"Keewaytinook Okimakanak\", \"MERLIN\", \"Manitoba Hydro International\", \"TeraGo Networks\", \"Xplornet Communications\", \"iperf\"], \"y\": [6.42, 26.25, 91.51, 180.39, 16.47, 9.52, 125.705, 158.98, 4.175000000000001, 43.555, 5795.84], \"name\": \"Median\"}], {\"title\": \"Maximum, mean and median download speed per provider\"}, {\"showLink\": true, \"linkText\": \"Export to plot.ly\"})});</script>"
      ],
      "text/vnd.plotly.v1+html": [
       "<div id=\"7a1b078d-df8c-4c3b-8816-2d57ca965e86\" style=\"height: 525px; width: 100%;\" class=\"plotly-graph-div\"></div><script type=\"text/javascript\">require([\"plotly\"], function(Plotly) { window.PLOTLYENV=window.PLOTLYENV || {};window.PLOTLYENV.BASE_URL=\"https://plot.ly\";Plotly.newPlot(\"7a1b078d-df8c-4c3b-8816-2d57ca965e86\", [{\"type\": \"bar\", \"x\": [\"Bell MTS\", \"Cogent Communications\", \"Commstream Communications\", \"Cybera\", \"High Speed Crow\", \"Keewaytinook Okimakanak\", \"MERLIN\", \"Manitoba Hydro International\", \"TeraGo Networks\", \"Xplornet Communications\", \"iperf\"], \"y\": [8.12968010236725, 27.790585774058602, 93.9423076923077, 168.27611510791374, 15.67943775100402, 22.893361823361833, 117.365, 127.0030188679245, 4.113035714285713, 41.13931451612903, 7760.040851063824], \"name\": \"Mean\"}, {\"type\": \"bar\", \"x\": [\"Bell MTS\", \"Cogent Communications\", \"Commstream Communications\", \"Cybera\", \"High Speed Crow\", \"Keewaytinook Okimakanak\", \"MERLIN\", \"Manitoba Hydro International\", \"TeraGo Networks\", \"Xplornet Communications\", \"iperf\"], \"y\": [27.66, 51.06, 128.39, 186.16, 19.17, 168.07, 128.73, 174.28, 7.32, 50.61, 42086.4], \"name\": \"Max\"}, {\"type\": \"bar\", \"x\": [\"Bell MTS\", \"Cogent Communications\", \"Commstream Communications\", \"Cybera\", \"High Speed Crow\", \"Keewaytinook Okimakanak\", \"MERLIN\", \"Manitoba Hydro International\", \"TeraGo Networks\", \"Xplornet Communications\", \"iperf\"], \"y\": [6.42, 26.25, 91.51, 180.39, 16.47, 9.52, 125.705, 158.98, 4.175000000000001, 43.555, 5795.84], \"name\": \"Median\"}], {\"title\": \"Maximum, mean and median download speed per provider\"}, {\"showLink\": true, \"linkText\": \"Export to plot.ly\"})});</script>"
      ]
     },
     "metadata": {},
     "output_type": "display_data"
    },
    {
     "data": {
      "application/vnd.plotly.v1+json": {
       "data": [
        {
         "name": "Mean",
         "type": "bar",
         "x": [
          "Bell MTS",
          "Cogent Communications",
          "Commstream Communications",
          "Cybera",
          "High Speed Crow",
          "Keewaytinook Okimakanak",
          "MERLIN",
          "Manitoba Hydro International",
          "TeraGo Networks",
          "Xplornet Communications",
          "iperf"
         ],
         "y": [
          92.459938618926,
          72.64277824267785,
          18.950076923076924,
          14.426482014388489,
          46.456518072289185,
          58.08707692307695,
          35.77525,
          36.550383647798746,
          112.05979761904759,
          59.967883064516165,
          71.80574468085108
         ]
        },
        {
         "name": "Max",
         "type": "bar",
         "x": [
          "Bell MTS",
          "Cogent Communications",
          "Commstream Communications",
          "Cybera",
          "High Speed Crow",
          "Keewaytinook Okimakanak",
          "MERLIN",
          "Manitoba Hydro International",
          "TeraGo Networks",
          "Xplornet Communications",
          "iperf"
         ],
         "y": [
          1258.02,
          90.874,
          54.83,
          44.07,
          76.434,
          520.789,
          90.184,
          59.573,
          679.029,
          130.437,
          669.219
         ]
        },
        {
         "name": "Median",
         "type": "bar",
         "x": [
          "Bell MTS",
          "Cogent Communications",
          "Commstream Communications",
          "Cybera",
          "High Speed Crow",
          "Keewaytinook Okimakanak",
          "MERLIN",
          "Manitoba Hydro International",
          "TeraGo Networks",
          "Xplornet Communications",
          "iperf"
         ],
         "y": [
          82.5485,
          72.617,
          16.458,
          14.7395,
          49.93,
          52.768,
          18.0565,
          36.943,
          103.26599999999999,
          50.9295,
          64.82249999999999
         ]
        }
       ],
       "layout": {
        "title": "Maximum, mean and median ping latency per provider"
       }
      },
      "text/html": [
       "<div id=\"f6fbd0f0-18a2-4e39-a663-630b042c312e\" style=\"height: 525px; width: 100%;\" class=\"plotly-graph-div\"></div><script type=\"text/javascript\">require([\"plotly\"], function(Plotly) { window.PLOTLYENV=window.PLOTLYENV || {};window.PLOTLYENV.BASE_URL=\"https://plot.ly\";Plotly.newPlot(\"f6fbd0f0-18a2-4e39-a663-630b042c312e\", [{\"type\": \"bar\", \"x\": [\"Bell MTS\", \"Cogent Communications\", \"Commstream Communications\", \"Cybera\", \"High Speed Crow\", \"Keewaytinook Okimakanak\", \"MERLIN\", \"Manitoba Hydro International\", \"TeraGo Networks\", \"Xplornet Communications\", \"iperf\"], \"y\": [92.459938618926, 72.64277824267785, 18.950076923076924, 14.426482014388489, 46.456518072289185, 58.08707692307695, 35.77525, 36.550383647798746, 112.05979761904759, 59.967883064516165, 71.80574468085108], \"name\": \"Mean\"}, {\"type\": \"bar\", \"x\": [\"Bell MTS\", \"Cogent Communications\", \"Commstream Communications\", \"Cybera\", \"High Speed Crow\", \"Keewaytinook Okimakanak\", \"MERLIN\", \"Manitoba Hydro International\", \"TeraGo Networks\", \"Xplornet Communications\", \"iperf\"], \"y\": [1258.02, 90.874, 54.83, 44.07, 76.434, 520.789, 90.184, 59.573, 679.029, 130.437, 669.219], \"name\": \"Max\"}, {\"type\": \"bar\", \"x\": [\"Bell MTS\", \"Cogent Communications\", \"Commstream Communications\", \"Cybera\", \"High Speed Crow\", \"Keewaytinook Okimakanak\", \"MERLIN\", \"Manitoba Hydro International\", \"TeraGo Networks\", \"Xplornet Communications\", \"iperf\"], \"y\": [82.5485, 72.617, 16.458, 14.7395, 49.93, 52.768, 18.0565, 36.943, 103.26599999999999, 50.9295, 64.82249999999999], \"name\": \"Median\"}], {\"title\": \"Maximum, mean and median ping latency per provider\"}, {\"showLink\": true, \"linkText\": \"Export to plot.ly\"})});</script>"
      ],
      "text/vnd.plotly.v1+html": [
       "<div id=\"f6fbd0f0-18a2-4e39-a663-630b042c312e\" style=\"height: 525px; width: 100%;\" class=\"plotly-graph-div\"></div><script type=\"text/javascript\">require([\"plotly\"], function(Plotly) { window.PLOTLYENV=window.PLOTLYENV || {};window.PLOTLYENV.BASE_URL=\"https://plot.ly\";Plotly.newPlot(\"f6fbd0f0-18a2-4e39-a663-630b042c312e\", [{\"type\": \"bar\", \"x\": [\"Bell MTS\", \"Cogent Communications\", \"Commstream Communications\", \"Cybera\", \"High Speed Crow\", \"Keewaytinook Okimakanak\", \"MERLIN\", \"Manitoba Hydro International\", \"TeraGo Networks\", \"Xplornet Communications\", \"iperf\"], \"y\": [92.459938618926, 72.64277824267785, 18.950076923076924, 14.426482014388489, 46.456518072289185, 58.08707692307695, 35.77525, 36.550383647798746, 112.05979761904759, 59.967883064516165, 71.80574468085108], \"name\": \"Mean\"}, {\"type\": \"bar\", \"x\": [\"Bell MTS\", \"Cogent Communications\", \"Commstream Communications\", \"Cybera\", \"High Speed Crow\", \"Keewaytinook Okimakanak\", \"MERLIN\", \"Manitoba Hydro International\", \"TeraGo Networks\", \"Xplornet Communications\", \"iperf\"], \"y\": [1258.02, 90.874, 54.83, 44.07, 76.434, 520.789, 90.184, 59.573, 679.029, 130.437, 669.219], \"name\": \"Max\"}, {\"type\": \"bar\", \"x\": [\"Bell MTS\", \"Cogent Communications\", \"Commstream Communications\", \"Cybera\", \"High Speed Crow\", \"Keewaytinook Okimakanak\", \"MERLIN\", \"Manitoba Hydro International\", \"TeraGo Networks\", \"Xplornet Communications\", \"iperf\"], \"y\": [82.5485, 72.617, 16.458, 14.7395, 49.93, 52.768, 18.0565, 36.943, 103.26599999999999, 50.9295, 64.82249999999999], \"name\": \"Median\"}], {\"title\": \"Maximum, mean and median ping latency per provider\"}, {\"showLink\": true, \"linkText\": \"Export to plot.ly\"})});</script>"
      ]
     },
     "metadata": {},
     "output_type": "display_data"
    }
   ],
   "source": [
    "barplot_averages(upload_df,'UPLOAD',\"Maximum, mean and median upload speed per provider\",index_col='PROVIDER')\n",
    "\n",
    "query_download = 'SELECT * FROM SPEEDTEST_DOWNLOAD;'\n",
    "result_download= client_df.query(query_download)\n",
    "download_df = result_download['SPEEDTEST_DOWNLOAD']\n",
    "\n",
    "download_df.reset_index(level=0, inplace=True)\n",
    "download_df['index']=download_df['index'].dt.strftime('%Y-%m-%d %H:%M:%S')\n",
    "download_df['index'] = pd.to_datetime(download_df['index'])\n",
    "download_df['SK_PI']=pd.to_numeric(download_df['SK_PI'])\n",
    "\n",
    "download_df.rename(columns={'index':'time'}, inplace=True)\n",
    "download_df = download_df[download_df.DOWNLOAD != 0]\n",
    "\n",
    "\n",
    "barplot_averages(download_df,'DOWNLOAD',\"Maximum, mean and median download speed per provider\", index_col='PROVIDER')\n",
    "\n",
    "query_ping = 'SELECT * FROM SPEEDTEST_PING;'\n",
    "result_ping= client_df.query(query_ping)\n",
    "ping_df = result_ping['SPEEDTEST_PING']\n",
    "\n",
    "ping_df.reset_index(level=0, inplace=True)\n",
    "ping_df['index']=ping_df['index'].dt.strftime('%Y-%m-%d %H:%M:%S')\n",
    "ping_df['index'] = pd.to_datetime(ping_df['index'])\n",
    "ping_df['SK_PI']=pd.to_numeric(ping_df['SK_PI'])\n",
    "\n",
    "ping_df.rename(columns={'index':'time'}, inplace=True)\n",
    "ping_df = ping_df[ping_df.PING != 1800000.000] ## Removed outier that was found in the ms sql table\n",
    "\n",
    "barplot_averages(ping_df,'PING',\"Maximum, mean and median ping latency per provider\", index_col='PROVIDER')"
   ]
  },
  {
   "cell_type": "markdown",
   "metadata": {},
   "source": [
    "## Summary:\n",
    "## Questions:"
   ]
  },
  {
   "cell_type": "markdown",
   "metadata": {},
   "source": [
    "# Part3: Speedtest statistics  by test server - number of test servers per device, number of datapoints per test server, latency/upload/download speeds by test server."
   ]
  },
  {
   "cell_type": "code",
   "execution_count": 21,
   "metadata": {},
   "outputs": [
    {
     "data": {
      "application/vnd.plotly.v1+json": {
       "data": [
        {
         "labels": [
          5,
          8,
          6,
          4,
          3,
          9,
          7
         ],
         "type": "pie",
         "values": [
          5,
          3,
          3,
          2,
          2,
          1,
          1
         ]
        }
       ],
       "layout": {
        "title": "Number of test servers per device"
       }
      },
      "text/html": [
       "<div id=\"89566e5a-73ad-4aca-86b8-8eb8900cba79\" style=\"height: 525px; width: 100%;\" class=\"plotly-graph-div\"></div><script type=\"text/javascript\">require([\"plotly\"], function(Plotly) { window.PLOTLYENV=window.PLOTLYENV || {};window.PLOTLYENV.BASE_URL=\"https://plot.ly\";Plotly.newPlot(\"89566e5a-73ad-4aca-86b8-8eb8900cba79\", [{\"type\": \"pie\", \"labels\": [5, 8, 6, 4, 3, 9, 7], \"values\": [5, 3, 3, 2, 2, 1, 1]}], {\"title\": \"Number of test servers per device\"}, {\"showLink\": true, \"linkText\": \"Export to plot.ly\"})});</script>"
      ],
      "text/vnd.plotly.v1+html": [
       "<div id=\"89566e5a-73ad-4aca-86b8-8eb8900cba79\" style=\"height: 525px; width: 100%;\" class=\"plotly-graph-div\"></div><script type=\"text/javascript\">require([\"plotly\"], function(Plotly) { window.PLOTLYENV=window.PLOTLYENV || {};window.PLOTLYENV.BASE_URL=\"https://plot.ly\";Plotly.newPlot(\"89566e5a-73ad-4aca-86b8-8eb8900cba79\", [{\"type\": \"pie\", \"labels\": [5, 8, 6, 4, 3, 9, 7], \"values\": [5, 3, 3, 2, 2, 1, 1]}], {\"title\": \"Number of test servers per device\"}, {\"showLink\": true, \"linkText\": \"Export to plot.ly\"})});</script>"
      ]
     },
     "metadata": {},
     "output_type": "display_data"
    },
    {
     "data": {
      "application/vnd.plotly.v1+json": {
       "data": [
        {
         "marker": {
          "color": "F2F3F4"
         },
         "name": "Shaw Communications (Winnipeg  MB)",
         "type": "bar",
         "x": [
          1,
          2,
          3,
          4,
          5,
          6,
          7,
          8,
          9,
          10,
          11,
          12,
          14,
          15,
          16,
          17,
          18
         ],
         "y": [
          4,
          25,
          0,
          127,
          64,
          1,
          30,
          0,
          0,
          32,
          0,
          12,
          75,
          44,
          0,
          0,
          0
         ]
        },
        {
         "marker": {
          "color": "222222"
         },
         "name": "Rogers (Winnipeg  MB)",
         "type": "bar",
         "x": [
          1,
          2,
          3,
          4,
          5,
          6,
          7,
          8,
          9,
          10,
          11,
          12,
          14,
          15,
          16,
          17,
          18
         ],
         "y": [
          1,
          36,
          0,
          7,
          200,
          3,
          51,
          0,
          0,
          6,
          0,
          0,
          0,
          2,
          0,
          0,
          0
         ]
        },
        {
         "marker": {
          "color": "F3C300"
         },
         "name": "clearskystatus.info iperf",
         "type": "bar",
         "x": [
          1,
          2,
          3,
          4,
          5,
          6,
          7,
          8,
          9,
          10,
          11,
          12,
          14,
          15,
          16,
          17,
          18
         ],
         "y": [
          4,
          105,
          21,
          70,
          82,
          26,
          51,
          2,
          8,
          0,
          3,
          4,
          0,
          0,
          0,
          0,
          0
         ]
        },
        {
         "marker": {
          "color": "875692"
         },
         "name": "LES.NET (Winnipeg  MB)",
         "type": "bar",
         "x": [
          1,
          2,
          3,
          4,
          5,
          6,
          7,
          8,
          9,
          10,
          11,
          12,
          14,
          15,
          16,
          17,
          18
         ],
         "y": [
          1,
          15,
          0,
          6,
          55,
          1,
          50,
          5,
          0,
          28,
          40,
          74,
          38,
          53,
          0,
          0,
          28
         ]
        },
        {
         "marker": {
          "color": "F38400"
         },
         "name": "Commstream Communications (Winnipeg  MB)",
         "type": "bar",
         "x": [
          1,
          2,
          3,
          4,
          5,
          6,
          7,
          8,
          9,
          10,
          11,
          12,
          14,
          15,
          16,
          17,
          18
         ],
         "y": [
          0,
          2,
          0,
          2,
          34,
          0,
          19,
          9,
          0,
          44,
          62,
          93,
          32,
          10,
          0,
          0,
          46
         ]
        },
        {
         "marker": {
          "color": "A1CAF1"
         },
         "name": "Voyageur Internet (Winnipeg  MB)",
         "type": "bar",
         "x": [
          1,
          2,
          3,
          4,
          5,
          6,
          7,
          8,
          9,
          10,
          11,
          12,
          14,
          15,
          16,
          17,
          18
         ],
         "y": [
          0,
          52,
          0,
          75,
          117,
          1,
          163,
          7,
          0,
          58,
          63,
          70,
          30,
          107,
          0,
          0,
          56
         ]
        },
        {
         "marker": {
          "color": "BE0032"
         },
         "name": "TELUS Mobility (Calgary  AB)",
         "type": "bar",
         "x": [
          1,
          2,
          3,
          4,
          5,
          6,
          7,
          8,
          9,
          10,
          11,
          12,
          14,
          15,
          16,
          17,
          18
         ],
         "y": [
          0,
          0,
          3,
          0,
          0,
          0,
          0,
          0,
          0,
          0,
          0,
          0,
          0,
          0,
          0,
          0,
          0
         ]
        },
        {
         "marker": {
          "color": "C2B280"
         },
         "name": "Axia Connect Ltd (Calgary  AB)",
         "type": "bar",
         "x": [
          1,
          2,
          3,
          4,
          5,
          6,
          7,
          8,
          9,
          10,
          11,
          12,
          14,
          15,
          16,
          17,
          18
         ],
         "y": [
          0,
          0,
          177,
          0,
          0,
          0,
          0,
          0,
          0,
          0,
          0,
          0,
          0,
          0,
          0,
          0,
          0
         ]
        },
        {
         "marker": {
          "color": "848482"
         },
         "name": "VOI Network Solutions (Winnipeg  MB)",
         "type": "bar",
         "x": [
          1,
          2,
          3,
          4,
          5,
          6,
          7,
          8,
          9,
          10,
          11,
          12,
          14,
          15,
          16,
          17,
          18
         ],
         "y": [
          0,
          2,
          0,
          0,
          2,
          0,
          1,
          0,
          0,
          0,
          8,
          0,
          16,
          0,
          0,
          0,
          0
         ]
        },
        {
         "marker": {
          "color": "008856"
         },
         "name": "Swift High Speed.com (Winnipeg  MB)",
         "type": "bar",
         "x": [
          1,
          2,
          3,
          4,
          5,
          6,
          7,
          8,
          9,
          10,
          11,
          12,
          14,
          15,
          16,
          17,
          18
         ],
         "y": [
          0,
          3,
          0,
          0,
          1,
          0,
          0,
          0,
          0,
          0,
          0,
          0,
          0,
          0,
          0,
          0,
          0
         ]
        },
        {
         "marker": {
          "color": "E68FAC"
         },
         "name": "DataHive (Calgary  AB)",
         "type": "bar",
         "x": [
          1,
          2,
          3,
          4,
          5,
          6,
          7,
          8,
          9,
          10,
          11,
          12,
          14,
          15,
          16,
          17,
          18
         ],
         "y": [
          0,
          0,
          28,
          0,
          0,
          0,
          0,
          0,
          0,
          0,
          0,
          0,
          0,
          0,
          0,
          0,
          0
         ]
        },
        {
         "marker": {
          "color": "0067A5"
         },
         "name": "Westman Communications (Brandon  MB)",
         "type": "bar",
         "x": [
          1,
          2,
          3,
          4,
          5,
          6,
          7,
          8,
          9,
          10,
          11,
          12,
          14,
          15,
          16,
          17,
          18
         ],
         "y": [
          0,
          0,
          0,
          0,
          0,
          0,
          0,
          0,
          95,
          0,
          0,
          0,
          1,
          0,
          4,
          156,
          0
         ]
        },
        {
         "marker": {
          "color": "F99379"
         },
         "name": "NetSet Communications (Brandon  MB)",
         "type": "bar",
         "x": [
          1,
          2,
          3,
          4,
          5,
          6,
          7,
          8,
          9,
          10,
          11,
          12,
          14,
          15,
          16,
          17,
          18
         ],
         "y": [
          0,
          0,
          0,
          0,
          0,
          0,
          0,
          0,
          77,
          0,
          0,
          0,
          0,
          0,
          5,
          6,
          0
         ]
        },
        {
         "marker": {
          "color": "604E97"
         },
         "name": "Morenet (Morden  MB)",
         "type": "bar",
         "x": [
          1,
          2,
          3,
          4,
          5,
          6,
          7,
          8,
          9,
          10,
          11,
          12,
          14,
          15,
          16,
          17,
          18
         ],
         "y": [
          0,
          0,
          0,
          0,
          0,
          0,
          0,
          0,
          4,
          0,
          0,
          0,
          2,
          0,
          89,
          0,
          0
         ]
        },
        {
         "marker": {
          "color": "F6A600"
         },
         "name": "Valley Fiber (Winkler  MB)",
         "type": "bar",
         "x": [
          1,
          2,
          3,
          4,
          5,
          6,
          7,
          8,
          9,
          10,
          11,
          12,
          14,
          15,
          16,
          17,
          18
         ],
         "y": [
          0,
          0,
          0,
          0,
          0,
          0,
          0,
          0,
          0,
          0,
          0,
          0,
          16,
          0,
          69,
          0,
          0
         ]
        },
        {
         "marker": {
          "color": "B3446C"
         },
         "name": "RFNow Inc. (Virden  MB)",
         "type": "bar",
         "x": [
          1,
          2,
          3,
          4,
          5,
          6,
          7,
          8,
          9,
          10,
          11,
          12,
          14,
          15,
          16,
          17,
          18
         ],
         "y": [
          0,
          0,
          0,
          0,
          0,
          0,
          0,
          0,
          38,
          0,
          0,
          0,
          6,
          0,
          25,
          0,
          0
         ]
        },
        {
         "marker": {
          "color": "DCD300"
         },
         "name": "BlackSun Inc. (Saskatoon  SK)",
         "type": "bar",
         "x": [
          1,
          2,
          3,
          4,
          5,
          6,
          7,
          8,
          9,
          10,
          11,
          12,
          14,
          15,
          16,
          17,
          18
         ],
         "y": [
          0,
          0,
          0,
          0,
          0,
          0,
          0,
          0,
          20,
          0,
          0,
          0,
          0,
          0,
          0,
          2,
          0
         ]
        },
        {
         "marker": {
          "color": "882D17"
         },
         "name": "SaskTel (Regina  SK)",
         "type": "bar",
         "x": [
          1,
          2,
          3,
          4,
          5,
          6,
          7,
          8,
          9,
          10,
          11,
          12,
          14,
          15,
          16,
          17,
          18
         ],
         "y": [
          0,
          0,
          0,
          0,
          0,
          0,
          0,
          0,
          13,
          0,
          0,
          0,
          0,
          0,
          0,
          0,
          0
         ]
        },
        {
         "marker": {
          "color": "8DB600"
         },
         "name": "Access Communications Co-operative Limited (Regina  SK)",
         "type": "bar",
         "x": [
          1,
          2,
          3,
          4,
          5,
          6,
          7,
          8,
          9,
          10,
          11,
          12,
          14,
          15,
          16,
          17,
          18
         ],
         "y": [
          0,
          0,
          0,
          0,
          0,
          0,
          0,
          0,
          1,
          0,
          0,
          0,
          0,
          0,
          0,
          0,
          0
         ]
        },
        {
         "marker": {
          "color": "654522"
         },
         "name": "Bell Mobility (Winnipeg  MB)",
         "type": "bar",
         "x": [
          1,
          2,
          3,
          4,
          5,
          6,
          7,
          8,
          9,
          10,
          11,
          12,
          14,
          15,
          16,
          17,
          18
         ],
         "y": [
          0,
          0,
          0,
          0,
          0,
          0,
          0,
          0,
          0,
          0,
          66,
          0,
          0,
          0,
          0,
          0,
          0
         ]
        },
        {
         "marker": {
          "color": "E25822"
         },
         "name": "Cybera (Calgary  AB)",
         "type": "bar",
         "x": [
          1,
          2,
          3,
          4,
          5,
          6,
          7,
          8,
          9,
          10,
          11,
          12,
          14,
          15,
          16,
          17,
          18
         ],
         "y": [
          0,
          0,
          70,
          0,
          0,
          0,
          0,
          0,
          0,
          0,
          0,
          0,
          0,
          0,
          0,
          0,
          0
         ]
        },
        {
         "marker": {
          "color": "2B3D26"
         },
         "name": "Midco (Minot  ND)",
         "type": "bar",
         "x": [
          1,
          2,
          3,
          4,
          5,
          6,
          7,
          8,
          9,
          10,
          11,
          12,
          14,
          15,
          16,
          17,
          18
         ],
         "y": [
          0,
          0,
          0,
          0,
          0,
          0,
          0,
          0,
          0,
          0,
          0,
          0,
          0,
          0,
          3,
          0,
          0
         ]
        }
       ],
       "layout": {
        "barmode": "stack",
        "title": "Number of data points per device per test server"
       }
      },
      "text/html": [
       "<div id=\"b351b1f5-942a-49bd-89d7-f720ad36cd73\" style=\"height: 525px; width: 100%;\" class=\"plotly-graph-div\"></div><script type=\"text/javascript\">require([\"plotly\"], function(Plotly) { window.PLOTLYENV=window.PLOTLYENV || {};window.PLOTLYENV.BASE_URL=\"https://plot.ly\";Plotly.newPlot(\"b351b1f5-942a-49bd-89d7-f720ad36cd73\", [{\"type\": \"bar\", \"x\": [1, 2, 3, 4, 5, 6, 7, 8, 9, 10, 11, 12, 14, 15, 16, 17, 18], \"y\": [4, 25, 0, 127, 64, 1, 30, 0, 0, 32, 0, 12, 75, 44, 0, 0, 0], \"name\": \"Shaw Communications (Winnipeg  MB)\", \"marker\": {\"color\": \"F2F3F4\"}}, {\"type\": \"bar\", \"x\": [1, 2, 3, 4, 5, 6, 7, 8, 9, 10, 11, 12, 14, 15, 16, 17, 18], \"y\": [1, 36, 0, 7, 200, 3, 51, 0, 0, 6, 0, 0, 0, 2, 0, 0, 0], \"name\": \"Rogers (Winnipeg  MB)\", \"marker\": {\"color\": \"222222\"}}, {\"type\": \"bar\", \"x\": [1, 2, 3, 4, 5, 6, 7, 8, 9, 10, 11, 12, 14, 15, 16, 17, 18], \"y\": [4, 105, 21, 70, 82, 26, 51, 2, 8, 0, 3, 4, 0, 0, 0, 0, 0], \"name\": \"clearskystatus.info iperf\", \"marker\": {\"color\": \"F3C300\"}}, {\"type\": \"bar\", \"x\": [1, 2, 3, 4, 5, 6, 7, 8, 9, 10, 11, 12, 14, 15, 16, 17, 18], \"y\": [1, 15, 0, 6, 55, 1, 50, 5, 0, 28, 40, 74, 38, 53, 0, 0, 28], \"name\": \"LES.NET (Winnipeg  MB)\", \"marker\": {\"color\": \"875692\"}}, {\"type\": \"bar\", \"x\": [1, 2, 3, 4, 5, 6, 7, 8, 9, 10, 11, 12, 14, 15, 16, 17, 18], \"y\": [0, 2, 0, 2, 34, 0, 19, 9, 0, 44, 62, 93, 32, 10, 0, 0, 46], \"name\": \"Commstream Communications (Winnipeg  MB)\", \"marker\": {\"color\": \"F38400\"}}, {\"type\": \"bar\", \"x\": [1, 2, 3, 4, 5, 6, 7, 8, 9, 10, 11, 12, 14, 15, 16, 17, 18], \"y\": [0, 52, 0, 75, 117, 1, 163, 7, 0, 58, 63, 70, 30, 107, 0, 0, 56], \"name\": \"Voyageur Internet (Winnipeg  MB)\", \"marker\": {\"color\": \"A1CAF1\"}}, {\"type\": \"bar\", \"x\": [1, 2, 3, 4, 5, 6, 7, 8, 9, 10, 11, 12, 14, 15, 16, 17, 18], \"y\": [0, 0, 3, 0, 0, 0, 0, 0, 0, 0, 0, 0, 0, 0, 0, 0, 0], \"name\": \"TELUS Mobility (Calgary  AB)\", \"marker\": {\"color\": \"BE0032\"}}, {\"type\": \"bar\", \"x\": [1, 2, 3, 4, 5, 6, 7, 8, 9, 10, 11, 12, 14, 15, 16, 17, 18], \"y\": [0, 0, 177, 0, 0, 0, 0, 0, 0, 0, 0, 0, 0, 0, 0, 0, 0], \"name\": \"Axia Connect Ltd (Calgary  AB)\", \"marker\": {\"color\": \"C2B280\"}}, {\"type\": \"bar\", \"x\": [1, 2, 3, 4, 5, 6, 7, 8, 9, 10, 11, 12, 14, 15, 16, 17, 18], \"y\": [0, 2, 0, 0, 2, 0, 1, 0, 0, 0, 8, 0, 16, 0, 0, 0, 0], \"name\": \"VOI Network Solutions (Winnipeg  MB)\", \"marker\": {\"color\": \"848482\"}}, {\"type\": \"bar\", \"x\": [1, 2, 3, 4, 5, 6, 7, 8, 9, 10, 11, 12, 14, 15, 16, 17, 18], \"y\": [0, 3, 0, 0, 1, 0, 0, 0, 0, 0, 0, 0, 0, 0, 0, 0, 0], \"name\": \"Swift High Speed.com (Winnipeg  MB)\", \"marker\": {\"color\": \"008856\"}}, {\"type\": \"bar\", \"x\": [1, 2, 3, 4, 5, 6, 7, 8, 9, 10, 11, 12, 14, 15, 16, 17, 18], \"y\": [0, 0, 28, 0, 0, 0, 0, 0, 0, 0, 0, 0, 0, 0, 0, 0, 0], \"name\": \"DataHive (Calgary  AB)\", \"marker\": {\"color\": \"E68FAC\"}}, {\"type\": \"bar\", \"x\": [1, 2, 3, 4, 5, 6, 7, 8, 9, 10, 11, 12, 14, 15, 16, 17, 18], \"y\": [0, 0, 0, 0, 0, 0, 0, 0, 95, 0, 0, 0, 1, 0, 4, 156, 0], \"name\": \"Westman Communications (Brandon  MB)\", \"marker\": {\"color\": \"0067A5\"}}, {\"type\": \"bar\", \"x\": [1, 2, 3, 4, 5, 6, 7, 8, 9, 10, 11, 12, 14, 15, 16, 17, 18], \"y\": [0, 0, 0, 0, 0, 0, 0, 0, 77, 0, 0, 0, 0, 0, 5, 6, 0], \"name\": \"NetSet Communications (Brandon  MB)\", \"marker\": {\"color\": \"F99379\"}}, {\"type\": \"bar\", \"x\": [1, 2, 3, 4, 5, 6, 7, 8, 9, 10, 11, 12, 14, 15, 16, 17, 18], \"y\": [0, 0, 0, 0, 0, 0, 0, 0, 4, 0, 0, 0, 2, 0, 89, 0, 0], \"name\": \"Morenet (Morden  MB)\", \"marker\": {\"color\": \"604E97\"}}, {\"type\": \"bar\", \"x\": [1, 2, 3, 4, 5, 6, 7, 8, 9, 10, 11, 12, 14, 15, 16, 17, 18], \"y\": [0, 0, 0, 0, 0, 0, 0, 0, 0, 0, 0, 0, 16, 0, 69, 0, 0], \"name\": \"Valley Fiber (Winkler  MB)\", \"marker\": {\"color\": \"F6A600\"}}, {\"type\": \"bar\", \"x\": [1, 2, 3, 4, 5, 6, 7, 8, 9, 10, 11, 12, 14, 15, 16, 17, 18], \"y\": [0, 0, 0, 0, 0, 0, 0, 0, 38, 0, 0, 0, 6, 0, 25, 0, 0], \"name\": \"RFNow Inc. (Virden  MB)\", \"marker\": {\"color\": \"B3446C\"}}, {\"type\": \"bar\", \"x\": [1, 2, 3, 4, 5, 6, 7, 8, 9, 10, 11, 12, 14, 15, 16, 17, 18], \"y\": [0, 0, 0, 0, 0, 0, 0, 0, 20, 0, 0, 0, 0, 0, 0, 2, 0], \"name\": \"BlackSun Inc. (Saskatoon  SK)\", \"marker\": {\"color\": \"DCD300\"}}, {\"type\": \"bar\", \"x\": [1, 2, 3, 4, 5, 6, 7, 8, 9, 10, 11, 12, 14, 15, 16, 17, 18], \"y\": [0, 0, 0, 0, 0, 0, 0, 0, 13, 0, 0, 0, 0, 0, 0, 0, 0], \"name\": \"SaskTel (Regina  SK)\", \"marker\": {\"color\": \"882D17\"}}, {\"type\": \"bar\", \"x\": [1, 2, 3, 4, 5, 6, 7, 8, 9, 10, 11, 12, 14, 15, 16, 17, 18], \"y\": [0, 0, 0, 0, 0, 0, 0, 0, 1, 0, 0, 0, 0, 0, 0, 0, 0], \"name\": \"Access Communications Co-operative Limited (Regina  SK)\", \"marker\": {\"color\": \"8DB600\"}}, {\"type\": \"bar\", \"x\": [1, 2, 3, 4, 5, 6, 7, 8, 9, 10, 11, 12, 14, 15, 16, 17, 18], \"y\": [0, 0, 0, 0, 0, 0, 0, 0, 0, 0, 66, 0, 0, 0, 0, 0, 0], \"name\": \"Bell Mobility (Winnipeg  MB)\", \"marker\": {\"color\": \"654522\"}}, {\"type\": \"bar\", \"x\": [1, 2, 3, 4, 5, 6, 7, 8, 9, 10, 11, 12, 14, 15, 16, 17, 18], \"y\": [0, 0, 70, 0, 0, 0, 0, 0, 0, 0, 0, 0, 0, 0, 0, 0, 0], \"name\": \"Cybera (Calgary  AB)\", \"marker\": {\"color\": \"E25822\"}}, {\"type\": \"bar\", \"x\": [1, 2, 3, 4, 5, 6, 7, 8, 9, 10, 11, 12, 14, 15, 16, 17, 18], \"y\": [0, 0, 0, 0, 0, 0, 0, 0, 0, 0, 0, 0, 0, 0, 3, 0, 0], \"name\": \"Midco (Minot  ND)\", \"marker\": {\"color\": \"2B3D26\"}}], {\"barmode\": \"stack\", \"title\": \"Number of data points per device per test server\"}, {\"showLink\": true, \"linkText\": \"Export to plot.ly\"})});</script>"
      ],
      "text/vnd.plotly.v1+html": [
       "<div id=\"b351b1f5-942a-49bd-89d7-f720ad36cd73\" style=\"height: 525px; width: 100%;\" class=\"plotly-graph-div\"></div><script type=\"text/javascript\">require([\"plotly\"], function(Plotly) { window.PLOTLYENV=window.PLOTLYENV || {};window.PLOTLYENV.BASE_URL=\"https://plot.ly\";Plotly.newPlot(\"b351b1f5-942a-49bd-89d7-f720ad36cd73\", [{\"type\": \"bar\", \"x\": [1, 2, 3, 4, 5, 6, 7, 8, 9, 10, 11, 12, 14, 15, 16, 17, 18], \"y\": [4, 25, 0, 127, 64, 1, 30, 0, 0, 32, 0, 12, 75, 44, 0, 0, 0], \"name\": \"Shaw Communications (Winnipeg  MB)\", \"marker\": {\"color\": \"F2F3F4\"}}, {\"type\": \"bar\", \"x\": [1, 2, 3, 4, 5, 6, 7, 8, 9, 10, 11, 12, 14, 15, 16, 17, 18], \"y\": [1, 36, 0, 7, 200, 3, 51, 0, 0, 6, 0, 0, 0, 2, 0, 0, 0], \"name\": \"Rogers (Winnipeg  MB)\", \"marker\": {\"color\": \"222222\"}}, {\"type\": \"bar\", \"x\": [1, 2, 3, 4, 5, 6, 7, 8, 9, 10, 11, 12, 14, 15, 16, 17, 18], \"y\": [4, 105, 21, 70, 82, 26, 51, 2, 8, 0, 3, 4, 0, 0, 0, 0, 0], \"name\": \"clearskystatus.info iperf\", \"marker\": {\"color\": \"F3C300\"}}, {\"type\": \"bar\", \"x\": [1, 2, 3, 4, 5, 6, 7, 8, 9, 10, 11, 12, 14, 15, 16, 17, 18], \"y\": [1, 15, 0, 6, 55, 1, 50, 5, 0, 28, 40, 74, 38, 53, 0, 0, 28], \"name\": \"LES.NET (Winnipeg  MB)\", \"marker\": {\"color\": \"875692\"}}, {\"type\": \"bar\", \"x\": [1, 2, 3, 4, 5, 6, 7, 8, 9, 10, 11, 12, 14, 15, 16, 17, 18], \"y\": [0, 2, 0, 2, 34, 0, 19, 9, 0, 44, 62, 93, 32, 10, 0, 0, 46], \"name\": \"Commstream Communications (Winnipeg  MB)\", \"marker\": {\"color\": \"F38400\"}}, {\"type\": \"bar\", \"x\": [1, 2, 3, 4, 5, 6, 7, 8, 9, 10, 11, 12, 14, 15, 16, 17, 18], \"y\": [0, 52, 0, 75, 117, 1, 163, 7, 0, 58, 63, 70, 30, 107, 0, 0, 56], \"name\": \"Voyageur Internet (Winnipeg  MB)\", \"marker\": {\"color\": \"A1CAF1\"}}, {\"type\": \"bar\", \"x\": [1, 2, 3, 4, 5, 6, 7, 8, 9, 10, 11, 12, 14, 15, 16, 17, 18], \"y\": [0, 0, 3, 0, 0, 0, 0, 0, 0, 0, 0, 0, 0, 0, 0, 0, 0], \"name\": \"TELUS Mobility (Calgary  AB)\", \"marker\": {\"color\": \"BE0032\"}}, {\"type\": \"bar\", \"x\": [1, 2, 3, 4, 5, 6, 7, 8, 9, 10, 11, 12, 14, 15, 16, 17, 18], \"y\": [0, 0, 177, 0, 0, 0, 0, 0, 0, 0, 0, 0, 0, 0, 0, 0, 0], \"name\": \"Axia Connect Ltd (Calgary  AB)\", \"marker\": {\"color\": \"C2B280\"}}, {\"type\": \"bar\", \"x\": [1, 2, 3, 4, 5, 6, 7, 8, 9, 10, 11, 12, 14, 15, 16, 17, 18], \"y\": [0, 2, 0, 0, 2, 0, 1, 0, 0, 0, 8, 0, 16, 0, 0, 0, 0], \"name\": \"VOI Network Solutions (Winnipeg  MB)\", \"marker\": {\"color\": \"848482\"}}, {\"type\": \"bar\", \"x\": [1, 2, 3, 4, 5, 6, 7, 8, 9, 10, 11, 12, 14, 15, 16, 17, 18], \"y\": [0, 3, 0, 0, 1, 0, 0, 0, 0, 0, 0, 0, 0, 0, 0, 0, 0], \"name\": \"Swift High Speed.com (Winnipeg  MB)\", \"marker\": {\"color\": \"008856\"}}, {\"type\": \"bar\", \"x\": [1, 2, 3, 4, 5, 6, 7, 8, 9, 10, 11, 12, 14, 15, 16, 17, 18], \"y\": [0, 0, 28, 0, 0, 0, 0, 0, 0, 0, 0, 0, 0, 0, 0, 0, 0], \"name\": \"DataHive (Calgary  AB)\", \"marker\": {\"color\": \"E68FAC\"}}, {\"type\": \"bar\", \"x\": [1, 2, 3, 4, 5, 6, 7, 8, 9, 10, 11, 12, 14, 15, 16, 17, 18], \"y\": [0, 0, 0, 0, 0, 0, 0, 0, 95, 0, 0, 0, 1, 0, 4, 156, 0], \"name\": \"Westman Communications (Brandon  MB)\", \"marker\": {\"color\": \"0067A5\"}}, {\"type\": \"bar\", \"x\": [1, 2, 3, 4, 5, 6, 7, 8, 9, 10, 11, 12, 14, 15, 16, 17, 18], \"y\": [0, 0, 0, 0, 0, 0, 0, 0, 77, 0, 0, 0, 0, 0, 5, 6, 0], \"name\": \"NetSet Communications (Brandon  MB)\", \"marker\": {\"color\": \"F99379\"}}, {\"type\": \"bar\", \"x\": [1, 2, 3, 4, 5, 6, 7, 8, 9, 10, 11, 12, 14, 15, 16, 17, 18], \"y\": [0, 0, 0, 0, 0, 0, 0, 0, 4, 0, 0, 0, 2, 0, 89, 0, 0], \"name\": \"Morenet (Morden  MB)\", \"marker\": {\"color\": \"604E97\"}}, {\"type\": \"bar\", \"x\": [1, 2, 3, 4, 5, 6, 7, 8, 9, 10, 11, 12, 14, 15, 16, 17, 18], \"y\": [0, 0, 0, 0, 0, 0, 0, 0, 0, 0, 0, 0, 16, 0, 69, 0, 0], \"name\": \"Valley Fiber (Winkler  MB)\", \"marker\": {\"color\": \"F6A600\"}}, {\"type\": \"bar\", \"x\": [1, 2, 3, 4, 5, 6, 7, 8, 9, 10, 11, 12, 14, 15, 16, 17, 18], \"y\": [0, 0, 0, 0, 0, 0, 0, 0, 38, 0, 0, 0, 6, 0, 25, 0, 0], \"name\": \"RFNow Inc. (Virden  MB)\", \"marker\": {\"color\": \"B3446C\"}}, {\"type\": \"bar\", \"x\": [1, 2, 3, 4, 5, 6, 7, 8, 9, 10, 11, 12, 14, 15, 16, 17, 18], \"y\": [0, 0, 0, 0, 0, 0, 0, 0, 20, 0, 0, 0, 0, 0, 0, 2, 0], \"name\": \"BlackSun Inc. (Saskatoon  SK)\", \"marker\": {\"color\": \"DCD300\"}}, {\"type\": \"bar\", \"x\": [1, 2, 3, 4, 5, 6, 7, 8, 9, 10, 11, 12, 14, 15, 16, 17, 18], \"y\": [0, 0, 0, 0, 0, 0, 0, 0, 13, 0, 0, 0, 0, 0, 0, 0, 0], \"name\": \"SaskTel (Regina  SK)\", \"marker\": {\"color\": \"882D17\"}}, {\"type\": \"bar\", \"x\": [1, 2, 3, 4, 5, 6, 7, 8, 9, 10, 11, 12, 14, 15, 16, 17, 18], \"y\": [0, 0, 0, 0, 0, 0, 0, 0, 1, 0, 0, 0, 0, 0, 0, 0, 0], \"name\": \"Access Communications Co-operative Limited (Regina  SK)\", \"marker\": {\"color\": \"8DB600\"}}, {\"type\": \"bar\", \"x\": [1, 2, 3, 4, 5, 6, 7, 8, 9, 10, 11, 12, 14, 15, 16, 17, 18], \"y\": [0, 0, 0, 0, 0, 0, 0, 0, 0, 0, 66, 0, 0, 0, 0, 0, 0], \"name\": \"Bell Mobility (Winnipeg  MB)\", \"marker\": {\"color\": \"654522\"}}, {\"type\": \"bar\", \"x\": [1, 2, 3, 4, 5, 6, 7, 8, 9, 10, 11, 12, 14, 15, 16, 17, 18], \"y\": [0, 0, 70, 0, 0, 0, 0, 0, 0, 0, 0, 0, 0, 0, 0, 0, 0], \"name\": \"Cybera (Calgary  AB)\", \"marker\": {\"color\": \"E25822\"}}, {\"type\": \"bar\", \"x\": [1, 2, 3, 4, 5, 6, 7, 8, 9, 10, 11, 12, 14, 15, 16, 17, 18], \"y\": [0, 0, 0, 0, 0, 0, 0, 0, 0, 0, 0, 0, 0, 0, 3, 0, 0], \"name\": \"Midco (Minot  ND)\", \"marker\": {\"color\": \"2B3D26\"}}], {\"barmode\": \"stack\", \"title\": \"Number of data points per device per test server\"}, {\"showLink\": true, \"linkText\": \"Export to plot.ly\"})});</script>"
      ]
     },
     "metadata": {},
     "output_type": "display_data"
    }
   ],
   "source": [
    "pd.options.mode.chained_assignment = None\n",
    "upload_df[\"server\"] = upload_df[\"TEST_SERVER\"] + \" \" +upload_df[\"PROVINCE\"]\n",
    "test_servers_per_device = upload_df.groupby('SK_PI').apply(lambda x: x['server'].unique()).apply(pd.Series)\n",
    "test_servers_per_device['server_count'] = test_servers_per_device.apply(lambda x: x.count(), axis=1)\n",
    "#print(test_servers_per_device[\"server_count\"].head())\n",
    "test_server_counts_per_device = pd.Series(test_servers_per_device['server_count']).value_counts().reset_index()\n",
    "#print(test_server_counts_per_device)\n",
    "#data = [go.Bar(\n",
    "#            x=test_servers_per_device.index,\n",
    "#            y=test_servers_per_device[\"server_count\"],\n",
    "#    )]\n",
    "data = [go.Pie(\n",
    "            labels=test_server_counts_per_device['index'],\n",
    "            values=test_server_counts_per_device[\"server_count\"],\n",
    "    )]\n",
    "layout = go.Layout(\n",
    "        #barmode='stack',\n",
    "        title=\"Number of test servers per device\"\n",
    "    )\n",
    "\n",
    "fig1 = go.Figure(data=data, layout=layout)\n",
    "#print(points_by_device)\n",
    "iplot(fig1)\n",
    "points_by_device_by_server=upload_df.groupby(['SK_PI', 'server']).size().reset_index()\n",
    "test_servers=upload_df[\"server\"].unique()\n",
    "data=[]\n",
    "i=0\n",
    "for server in test_servers:\n",
    "    serv=[]\n",
    "    for device in device_numbers:\n",
    "        by_server=points_by_device_by_server.loc[(points_by_device_by_server['SK_PI']==device)&(points_by_device_by_server['server']==server)]\n",
    "        if not by_server.empty:\n",
    "            serv.append(by_server[0].iloc[0])\n",
    "        else:\n",
    "            serv.append(0)\n",
    "    trace = go.Bar(x=device_numbers,y=serv, name = server, marker=dict(color=colors[i]))\n",
    "    i=i+1\n",
    "    data.append(trace)\n",
    "    layout = go.Layout(\n",
    "        barmode='stack',\n",
    "        title=\"Number of data points per device per test server\"\n",
    "    )\n",
    "fig2 = go.Figure(data=data, layout=layout)\n",
    "iplot(fig2)"
   ]
  },
  {
   "cell_type": "code",
   "execution_count": 22,
   "metadata": {},
   "outputs": [
    {
     "data": {
      "application/vnd.plotly.v1+json": {
       "data": [
        {
         "name": "Mean",
         "type": "bar",
         "x": [
          "Access Communications Co-operative Limited (Regina  SK)",
          "Axia Connect Ltd (Calgary  AB)",
          "Bell Mobility (Winnipeg  MB)",
          "BlackSun Inc. (Saskatoon  SK)",
          "Commstream Communications (Winnipeg  MB)",
          "Cybera (Calgary  AB)",
          "DataHive (Calgary  AB)",
          "LES.NET (Winnipeg  MB)",
          "Midco (Minot  ND)",
          "Morenet (Morden  MB)",
          "NetSet Communications (Brandon  MB)",
          "RFNow Inc. (Virden  MB)",
          "Rogers (Winnipeg  MB)",
          "SaskTel (Regina  SK)",
          "Shaw Communications (Winnipeg  MB)",
          "Swift High Speed.com (Winnipeg  MB)",
          "TELUS Mobility (Calgary  AB)",
          "VOI Network Solutions (Winnipeg  MB)",
          "Valley Fiber (Winkler  MB)",
          "Voyageur Internet (Winnipeg  MB)",
          "Westman Communications (Brandon  MB)",
          "clearskystatus.info iperf"
         ],
         "y": [
          42.67,
          123.50169491525428,
          56.188939393939386,
          37.925454545454535,
          16.41419263456091,
          126.86157142857142,
          64.42,
          22.591192893401008,
          3.633333333333333,
          5.780000000000001,
          48.229545454545466,
          41.6110144927536,
          2.1225490196078427,
          51.13615384615385,
          31.03765700483093,
          0.3225,
          126.93666666666667,
          67.60724137931035,
          27.945058823529404,
          14.084067584480598,
          47.78476562499998,
          1922.4420212765963
         ]
        },
        {
         "name": "Max",
         "type": "bar",
         "x": [
          "Access Communications Co-operative Limited (Regina  SK)",
          "Axia Connect Ltd (Calgary  AB)",
          "Bell Mobility (Winnipeg  MB)",
          "BlackSun Inc. (Saskatoon  SK)",
          "Commstream Communications (Winnipeg  MB)",
          "Cybera (Calgary  AB)",
          "DataHive (Calgary  AB)",
          "LES.NET (Winnipeg  MB)",
          "Midco (Minot  ND)",
          "Morenet (Morden  MB)",
          "NetSet Communications (Brandon  MB)",
          "RFNow Inc. (Virden  MB)",
          "Rogers (Winnipeg  MB)",
          "SaskTel (Regina  SK)",
          "Shaw Communications (Winnipeg  MB)",
          "Swift High Speed.com (Winnipeg  MB)",
          "TELUS Mobility (Calgary  AB)",
          "VOI Network Solutions (Winnipeg  MB)",
          "Valley Fiber (Winkler  MB)",
          "Voyageur Internet (Winnipeg  MB)",
          "Westman Communications (Brandon  MB)",
          "clearskystatus.info iperf"
         ],
         "y": [
          42.67,
          127.6,
          62.63,
          52.62,
          98.24,
          130.74,
          67.98,
          147.12,
          3.87,
          52.2,
          58.77,
          141.2,
          43.91,
          55.94,
          150.63,
          0.46,
          130.94,
          142.72,
          149.05,
          140.53,
          94.52,
          20480
         ]
        },
        {
         "name": "Median",
         "type": "bar",
         "x": [
          "Access Communications Co-operative Limited (Regina  SK)",
          "Axia Connect Ltd (Calgary  AB)",
          "Bell Mobility (Winnipeg  MB)",
          "BlackSun Inc. (Saskatoon  SK)",
          "Commstream Communications (Winnipeg  MB)",
          "Cybera (Calgary  AB)",
          "DataHive (Calgary  AB)",
          "LES.NET (Winnipeg  MB)",
          "Midco (Minot  ND)",
          "Morenet (Morden  MB)",
          "NetSet Communications (Brandon  MB)",
          "RFNow Inc. (Virden  MB)",
          "Rogers (Winnipeg  MB)",
          "SaskTel (Regina  SK)",
          "Shaw Communications (Winnipeg  MB)",
          "Swift High Speed.com (Winnipeg  MB)",
          "TELUS Mobility (Calgary  AB)",
          "VOI Network Solutions (Winnipeg  MB)",
          "Valley Fiber (Winkler  MB)",
          "Voyageur Internet (Winnipeg  MB)",
          "Westman Communications (Brandon  MB)",
          "clearskystatus.info iperf"
         ],
         "y": [
          42.67,
          124.88,
          57.16,
          41.855000000000004,
          8.88,
          127.065,
          66.92,
          8.565000000000001,
          3.82,
          3.84,
          50.31,
          53.89,
          0.54,
          51.92,
          0.67,
          0.335,
          128.78,
          56.92,
          3.92,
          7.73,
          48.155,
          768
         ]
        }
       ],
       "layout": {
        "title": "Maximum, mean and median upload speed per test server"
       }
      },
      "text/html": [
       "<div id=\"b36526ea-d2ef-4a4c-864b-f123e9289ab8\" style=\"height: 525px; width: 100%;\" class=\"plotly-graph-div\"></div><script type=\"text/javascript\">require([\"plotly\"], function(Plotly) { window.PLOTLYENV=window.PLOTLYENV || {};window.PLOTLYENV.BASE_URL=\"https://plot.ly\";Plotly.newPlot(\"b36526ea-d2ef-4a4c-864b-f123e9289ab8\", [{\"type\": \"bar\", \"x\": [\"Access Communications Co-operative Limited (Regina  SK)\", \"Axia Connect Ltd (Calgary  AB)\", \"Bell Mobility (Winnipeg  MB)\", \"BlackSun Inc. (Saskatoon  SK)\", \"Commstream Communications (Winnipeg  MB)\", \"Cybera (Calgary  AB)\", \"DataHive (Calgary  AB)\", \"LES.NET (Winnipeg  MB)\", \"Midco (Minot  ND)\", \"Morenet (Morden  MB)\", \"NetSet Communications (Brandon  MB)\", \"RFNow Inc. (Virden  MB)\", \"Rogers (Winnipeg  MB)\", \"SaskTel (Regina  SK)\", \"Shaw Communications (Winnipeg  MB)\", \"Swift High Speed.com (Winnipeg  MB)\", \"TELUS Mobility (Calgary  AB)\", \"VOI Network Solutions (Winnipeg  MB)\", \"Valley Fiber (Winkler  MB)\", \"Voyageur Internet (Winnipeg  MB)\", \"Westman Communications (Brandon  MB)\", \"clearskystatus.info iperf\"], \"y\": [42.67, 123.50169491525428, 56.188939393939386, 37.925454545454535, 16.41419263456091, 126.86157142857142, 64.42, 22.591192893401008, 3.633333333333333, 5.780000000000001, 48.229545454545466, 41.6110144927536, 2.1225490196078427, 51.13615384615385, 31.03765700483093, 0.3225, 126.93666666666667, 67.60724137931035, 27.945058823529404, 14.084067584480598, 47.78476562499998, 1922.4420212765963], \"name\": \"Mean\"}, {\"type\": \"bar\", \"x\": [\"Access Communications Co-operative Limited (Regina  SK)\", \"Axia Connect Ltd (Calgary  AB)\", \"Bell Mobility (Winnipeg  MB)\", \"BlackSun Inc. (Saskatoon  SK)\", \"Commstream Communications (Winnipeg  MB)\", \"Cybera (Calgary  AB)\", \"DataHive (Calgary  AB)\", \"LES.NET (Winnipeg  MB)\", \"Midco (Minot  ND)\", \"Morenet (Morden  MB)\", \"NetSet Communications (Brandon  MB)\", \"RFNow Inc. (Virden  MB)\", \"Rogers (Winnipeg  MB)\", \"SaskTel (Regina  SK)\", \"Shaw Communications (Winnipeg  MB)\", \"Swift High Speed.com (Winnipeg  MB)\", \"TELUS Mobility (Calgary  AB)\", \"VOI Network Solutions (Winnipeg  MB)\", \"Valley Fiber (Winkler  MB)\", \"Voyageur Internet (Winnipeg  MB)\", \"Westman Communications (Brandon  MB)\", \"clearskystatus.info iperf\"], \"y\": [42.67, 127.6, 62.63, 52.62, 98.24, 130.74, 67.98, 147.12, 3.87, 52.2, 58.77, 141.2, 43.91, 55.94, 150.63, 0.46, 130.94, 142.72, 149.05, 140.53, 94.52, 20480.0], \"name\": \"Max\"}, {\"type\": \"bar\", \"x\": [\"Access Communications Co-operative Limited (Regina  SK)\", \"Axia Connect Ltd (Calgary  AB)\", \"Bell Mobility (Winnipeg  MB)\", \"BlackSun Inc. (Saskatoon  SK)\", \"Commstream Communications (Winnipeg  MB)\", \"Cybera (Calgary  AB)\", \"DataHive (Calgary  AB)\", \"LES.NET (Winnipeg  MB)\", \"Midco (Minot  ND)\", \"Morenet (Morden  MB)\", \"NetSet Communications (Brandon  MB)\", \"RFNow Inc. (Virden  MB)\", \"Rogers (Winnipeg  MB)\", \"SaskTel (Regina  SK)\", \"Shaw Communications (Winnipeg  MB)\", \"Swift High Speed.com (Winnipeg  MB)\", \"TELUS Mobility (Calgary  AB)\", \"VOI Network Solutions (Winnipeg  MB)\", \"Valley Fiber (Winkler  MB)\", \"Voyageur Internet (Winnipeg  MB)\", \"Westman Communications (Brandon  MB)\", \"clearskystatus.info iperf\"], \"y\": [42.67, 124.88, 57.16, 41.855000000000004, 8.88, 127.065, 66.92, 8.565000000000001, 3.82, 3.84, 50.31, 53.89, 0.54, 51.92, 0.67, 0.335, 128.78, 56.92, 3.92, 7.73, 48.155, 768.0], \"name\": \"Median\"}], {\"title\": \"Maximum, mean and median upload speed per test server\"}, {\"showLink\": true, \"linkText\": \"Export to plot.ly\"})});</script>"
      ],
      "text/vnd.plotly.v1+html": [
       "<div id=\"b36526ea-d2ef-4a4c-864b-f123e9289ab8\" style=\"height: 525px; width: 100%;\" class=\"plotly-graph-div\"></div><script type=\"text/javascript\">require([\"plotly\"], function(Plotly) { window.PLOTLYENV=window.PLOTLYENV || {};window.PLOTLYENV.BASE_URL=\"https://plot.ly\";Plotly.newPlot(\"b36526ea-d2ef-4a4c-864b-f123e9289ab8\", [{\"type\": \"bar\", \"x\": [\"Access Communications Co-operative Limited (Regina  SK)\", \"Axia Connect Ltd (Calgary  AB)\", \"Bell Mobility (Winnipeg  MB)\", \"BlackSun Inc. (Saskatoon  SK)\", \"Commstream Communications (Winnipeg  MB)\", \"Cybera (Calgary  AB)\", \"DataHive (Calgary  AB)\", \"LES.NET (Winnipeg  MB)\", \"Midco (Minot  ND)\", \"Morenet (Morden  MB)\", \"NetSet Communications (Brandon  MB)\", \"RFNow Inc. (Virden  MB)\", \"Rogers (Winnipeg  MB)\", \"SaskTel (Regina  SK)\", \"Shaw Communications (Winnipeg  MB)\", \"Swift High Speed.com (Winnipeg  MB)\", \"TELUS Mobility (Calgary  AB)\", \"VOI Network Solutions (Winnipeg  MB)\", \"Valley Fiber (Winkler  MB)\", \"Voyageur Internet (Winnipeg  MB)\", \"Westman Communications (Brandon  MB)\", \"clearskystatus.info iperf\"], \"y\": [42.67, 123.50169491525428, 56.188939393939386, 37.925454545454535, 16.41419263456091, 126.86157142857142, 64.42, 22.591192893401008, 3.633333333333333, 5.780000000000001, 48.229545454545466, 41.6110144927536, 2.1225490196078427, 51.13615384615385, 31.03765700483093, 0.3225, 126.93666666666667, 67.60724137931035, 27.945058823529404, 14.084067584480598, 47.78476562499998, 1922.4420212765963], \"name\": \"Mean\"}, {\"type\": \"bar\", \"x\": [\"Access Communications Co-operative Limited (Regina  SK)\", \"Axia Connect Ltd (Calgary  AB)\", \"Bell Mobility (Winnipeg  MB)\", \"BlackSun Inc. (Saskatoon  SK)\", \"Commstream Communications (Winnipeg  MB)\", \"Cybera (Calgary  AB)\", \"DataHive (Calgary  AB)\", \"LES.NET (Winnipeg  MB)\", \"Midco (Minot  ND)\", \"Morenet (Morden  MB)\", \"NetSet Communications (Brandon  MB)\", \"RFNow Inc. (Virden  MB)\", \"Rogers (Winnipeg  MB)\", \"SaskTel (Regina  SK)\", \"Shaw Communications (Winnipeg  MB)\", \"Swift High Speed.com (Winnipeg  MB)\", \"TELUS Mobility (Calgary  AB)\", \"VOI Network Solutions (Winnipeg  MB)\", \"Valley Fiber (Winkler  MB)\", \"Voyageur Internet (Winnipeg  MB)\", \"Westman Communications (Brandon  MB)\", \"clearskystatus.info iperf\"], \"y\": [42.67, 127.6, 62.63, 52.62, 98.24, 130.74, 67.98, 147.12, 3.87, 52.2, 58.77, 141.2, 43.91, 55.94, 150.63, 0.46, 130.94, 142.72, 149.05, 140.53, 94.52, 20480.0], \"name\": \"Max\"}, {\"type\": \"bar\", \"x\": [\"Access Communications Co-operative Limited (Regina  SK)\", \"Axia Connect Ltd (Calgary  AB)\", \"Bell Mobility (Winnipeg  MB)\", \"BlackSun Inc. (Saskatoon  SK)\", \"Commstream Communications (Winnipeg  MB)\", \"Cybera (Calgary  AB)\", \"DataHive (Calgary  AB)\", \"LES.NET (Winnipeg  MB)\", \"Midco (Minot  ND)\", \"Morenet (Morden  MB)\", \"NetSet Communications (Brandon  MB)\", \"RFNow Inc. (Virden  MB)\", \"Rogers (Winnipeg  MB)\", \"SaskTel (Regina  SK)\", \"Shaw Communications (Winnipeg  MB)\", \"Swift High Speed.com (Winnipeg  MB)\", \"TELUS Mobility (Calgary  AB)\", \"VOI Network Solutions (Winnipeg  MB)\", \"Valley Fiber (Winkler  MB)\", \"Voyageur Internet (Winnipeg  MB)\", \"Westman Communications (Brandon  MB)\", \"clearskystatus.info iperf\"], \"y\": [42.67, 124.88, 57.16, 41.855000000000004, 8.88, 127.065, 66.92, 8.565000000000001, 3.82, 3.84, 50.31, 53.89, 0.54, 51.92, 0.67, 0.335, 128.78, 56.92, 3.92, 7.73, 48.155, 768.0], \"name\": \"Median\"}], {\"title\": \"Maximum, mean and median upload speed per test server\"}, {\"showLink\": true, \"linkText\": \"Export to plot.ly\"})});</script>"
      ]
     },
     "metadata": {},
     "output_type": "display_data"
    },
    {
     "data": {
      "application/vnd.plotly.v1+json": {
       "data": [
        {
         "name": "Mean",
         "type": "bar",
         "x": [
          "Access Communications Co-operative Limited (Regina  SK)",
          "Axia Connect Ltd (Calgary  AB)",
          "Bell Mobility (Winnipeg  MB)",
          "BlackSun Inc. (Saskatoon  SK)",
          "Commstream Communications (Winnipeg  MB)",
          "Cybera (Calgary  AB)",
          "DataHive (Calgary  AB)",
          "LES.NET (Winnipeg  MB)",
          "Midco (Minot  ND)",
          "Morenet (Morden  MB)",
          "NetSet Communications (Brandon  MB)",
          "RFNow Inc. (Virden  MB)",
          "Rogers (Winnipeg  MB)",
          "SaskTel (Regina  SK)",
          "Shaw Communications (Winnipeg  MB)",
          "Swift High Speed.com (Winnipeg  MB)",
          "TELUS Mobility (Calgary  AB)",
          "VOI Network Solutions (Winnipeg  MB)",
          "Valley Fiber (Winkler  MB)",
          "Voyageur Internet (Winnipeg  MB)",
          "Westman Communications (Brandon  MB)",
          "clearskystatus.info iperf"
         ],
         "y": [
          6.73,
          180.12316384180795,
          36.4990909090909,
          32.317727272727275,
          16.018611898017003,
          182.49657142857143,
          60.813571428571436,
          21.381954314720815,
          6.039999999999999,
          7.063157894736843,
          39.82181818181818,
          38.06376811594201,
          6.713464052287582,
          38.72692307692307,
          33.89200483091787,
          4.614999999999999,
          140.47333333333333,
          71.74793103448275,
          29.681294117647056,
          11.832637499999997,
          38.4093359375,
          7760.040851063824
         ]
        },
        {
         "name": "Max",
         "type": "bar",
         "x": [
          "Access Communications Co-operative Limited (Regina  SK)",
          "Axia Connect Ltd (Calgary  AB)",
          "Bell Mobility (Winnipeg  MB)",
          "BlackSun Inc. (Saskatoon  SK)",
          "Commstream Communications (Winnipeg  MB)",
          "Cybera (Calgary  AB)",
          "DataHive (Calgary  AB)",
          "LES.NET (Winnipeg  MB)",
          "Midco (Minot  ND)",
          "Morenet (Morden  MB)",
          "NetSet Communications (Brandon  MB)",
          "RFNow Inc. (Virden  MB)",
          "Rogers (Winnipeg  MB)",
          "SaskTel (Regina  SK)",
          "Shaw Communications (Winnipeg  MB)",
          "Swift High Speed.com (Winnipeg  MB)",
          "TELUS Mobility (Calgary  AB)",
          "VOI Network Solutions (Winnipeg  MB)",
          "Valley Fiber (Winkler  MB)",
          "Voyageur Internet (Winnipeg  MB)",
          "Westman Communications (Brandon  MB)",
          "clearskystatus.info iperf"
         ],
         "y": [
          6.73,
          184.88,
          51.06,
          49.71,
          168.07,
          186.16,
          68.72,
          173.12,
          6.06,
          45.99,
          49.94,
          169.25,
          18.25,
          46.14,
          174.28,
          6.7,
          148.23,
          164.45,
          167.85,
          128.25,
          50.61,
          42086.4
         ]
        },
        {
         "name": "Median",
         "type": "bar",
         "x": [
          "Access Communications Co-operative Limited (Regina  SK)",
          "Axia Connect Ltd (Calgary  AB)",
          "Bell Mobility (Winnipeg  MB)",
          "BlackSun Inc. (Saskatoon  SK)",
          "Commstream Communications (Winnipeg  MB)",
          "Cybera (Calgary  AB)",
          "DataHive (Calgary  AB)",
          "LES.NET (Winnipeg  MB)",
          "Midco (Minot  ND)",
          "Morenet (Morden  MB)",
          "NetSet Communications (Brandon  MB)",
          "RFNow Inc. (Virden  MB)",
          "Rogers (Winnipeg  MB)",
          "SaskTel (Regina  SK)",
          "Shaw Communications (Winnipeg  MB)",
          "Swift High Speed.com (Winnipeg  MB)",
          "TELUS Mobility (Calgary  AB)",
          "VOI Network Solutions (Winnipeg  MB)",
          "Valley Fiber (Winkler  MB)",
          "Voyageur Internet (Winnipeg  MB)",
          "Westman Communications (Brandon  MB)",
          "clearskystatus.info iperf"
         ],
         "y": [
          6.73,
          180.27,
          36.01,
          37.07,
          10.72,
          182.26999999999998,
          68.11,
          12.265,
          6.04,
          6.07,
          43.865,
          40.56,
          6.47,
          41.66,
          6.27,
          4.435,
          145.29,
          34.34,
          6.08,
          9.49,
          39.959999999999994,
          5795.84
         ]
        }
       ],
       "layout": {
        "title": "Maximum, mean and median download speed per test server"
       }
      },
      "text/html": [
       "<div id=\"14b4f236-4dec-4170-ad6a-9d90920cc6ef\" style=\"height: 525px; width: 100%;\" class=\"plotly-graph-div\"></div><script type=\"text/javascript\">require([\"plotly\"], function(Plotly) { window.PLOTLYENV=window.PLOTLYENV || {};window.PLOTLYENV.BASE_URL=\"https://plot.ly\";Plotly.newPlot(\"14b4f236-4dec-4170-ad6a-9d90920cc6ef\", [{\"type\": \"bar\", \"x\": [\"Access Communications Co-operative Limited (Regina  SK)\", \"Axia Connect Ltd (Calgary  AB)\", \"Bell Mobility (Winnipeg  MB)\", \"BlackSun Inc. (Saskatoon  SK)\", \"Commstream Communications (Winnipeg  MB)\", \"Cybera (Calgary  AB)\", \"DataHive (Calgary  AB)\", \"LES.NET (Winnipeg  MB)\", \"Midco (Minot  ND)\", \"Morenet (Morden  MB)\", \"NetSet Communications (Brandon  MB)\", \"RFNow Inc. (Virden  MB)\", \"Rogers (Winnipeg  MB)\", \"SaskTel (Regina  SK)\", \"Shaw Communications (Winnipeg  MB)\", \"Swift High Speed.com (Winnipeg  MB)\", \"TELUS Mobility (Calgary  AB)\", \"VOI Network Solutions (Winnipeg  MB)\", \"Valley Fiber (Winkler  MB)\", \"Voyageur Internet (Winnipeg  MB)\", \"Westman Communications (Brandon  MB)\", \"clearskystatus.info iperf\"], \"y\": [6.73, 180.12316384180795, 36.4990909090909, 32.317727272727275, 16.018611898017003, 182.49657142857143, 60.813571428571436, 21.381954314720815, 6.039999999999999, 7.063157894736843, 39.82181818181818, 38.06376811594201, 6.713464052287582, 38.72692307692307, 33.89200483091787, 4.614999999999999, 140.47333333333333, 71.74793103448275, 29.681294117647056, 11.832637499999997, 38.4093359375, 7760.040851063824], \"name\": \"Mean\"}, {\"type\": \"bar\", \"x\": [\"Access Communications Co-operative Limited (Regina  SK)\", \"Axia Connect Ltd (Calgary  AB)\", \"Bell Mobility (Winnipeg  MB)\", \"BlackSun Inc. (Saskatoon  SK)\", \"Commstream Communications (Winnipeg  MB)\", \"Cybera (Calgary  AB)\", \"DataHive (Calgary  AB)\", \"LES.NET (Winnipeg  MB)\", \"Midco (Minot  ND)\", \"Morenet (Morden  MB)\", \"NetSet Communications (Brandon  MB)\", \"RFNow Inc. (Virden  MB)\", \"Rogers (Winnipeg  MB)\", \"SaskTel (Regina  SK)\", \"Shaw Communications (Winnipeg  MB)\", \"Swift High Speed.com (Winnipeg  MB)\", \"TELUS Mobility (Calgary  AB)\", \"VOI Network Solutions (Winnipeg  MB)\", \"Valley Fiber (Winkler  MB)\", \"Voyageur Internet (Winnipeg  MB)\", \"Westman Communications (Brandon  MB)\", \"clearskystatus.info iperf\"], \"y\": [6.73, 184.88, 51.06, 49.71, 168.07, 186.16, 68.72, 173.12, 6.06, 45.99, 49.94, 169.25, 18.25, 46.14, 174.28, 6.7, 148.23, 164.45, 167.85, 128.25, 50.61, 42086.4], \"name\": \"Max\"}, {\"type\": \"bar\", \"x\": [\"Access Communications Co-operative Limited (Regina  SK)\", \"Axia Connect Ltd (Calgary  AB)\", \"Bell Mobility (Winnipeg  MB)\", \"BlackSun Inc. (Saskatoon  SK)\", \"Commstream Communications (Winnipeg  MB)\", \"Cybera (Calgary  AB)\", \"DataHive (Calgary  AB)\", \"LES.NET (Winnipeg  MB)\", \"Midco (Minot  ND)\", \"Morenet (Morden  MB)\", \"NetSet Communications (Brandon  MB)\", \"RFNow Inc. (Virden  MB)\", \"Rogers (Winnipeg  MB)\", \"SaskTel (Regina  SK)\", \"Shaw Communications (Winnipeg  MB)\", \"Swift High Speed.com (Winnipeg  MB)\", \"TELUS Mobility (Calgary  AB)\", \"VOI Network Solutions (Winnipeg  MB)\", \"Valley Fiber (Winkler  MB)\", \"Voyageur Internet (Winnipeg  MB)\", \"Westman Communications (Brandon  MB)\", \"clearskystatus.info iperf\"], \"y\": [6.73, 180.27, 36.01, 37.07, 10.72, 182.26999999999998, 68.11, 12.265, 6.04, 6.07, 43.865, 40.56, 6.47, 41.66, 6.27, 4.435, 145.29, 34.34, 6.08, 9.49, 39.959999999999994, 5795.84], \"name\": \"Median\"}], {\"title\": \"Maximum, mean and median download speed per test server\"}, {\"showLink\": true, \"linkText\": \"Export to plot.ly\"})});</script>"
      ],
      "text/vnd.plotly.v1+html": [
       "<div id=\"14b4f236-4dec-4170-ad6a-9d90920cc6ef\" style=\"height: 525px; width: 100%;\" class=\"plotly-graph-div\"></div><script type=\"text/javascript\">require([\"plotly\"], function(Plotly) { window.PLOTLYENV=window.PLOTLYENV || {};window.PLOTLYENV.BASE_URL=\"https://plot.ly\";Plotly.newPlot(\"14b4f236-4dec-4170-ad6a-9d90920cc6ef\", [{\"type\": \"bar\", \"x\": [\"Access Communications Co-operative Limited (Regina  SK)\", \"Axia Connect Ltd (Calgary  AB)\", \"Bell Mobility (Winnipeg  MB)\", \"BlackSun Inc. (Saskatoon  SK)\", \"Commstream Communications (Winnipeg  MB)\", \"Cybera (Calgary  AB)\", \"DataHive (Calgary  AB)\", \"LES.NET (Winnipeg  MB)\", \"Midco (Minot  ND)\", \"Morenet (Morden  MB)\", \"NetSet Communications (Brandon  MB)\", \"RFNow Inc. (Virden  MB)\", \"Rogers (Winnipeg  MB)\", \"SaskTel (Regina  SK)\", \"Shaw Communications (Winnipeg  MB)\", \"Swift High Speed.com (Winnipeg  MB)\", \"TELUS Mobility (Calgary  AB)\", \"VOI Network Solutions (Winnipeg  MB)\", \"Valley Fiber (Winkler  MB)\", \"Voyageur Internet (Winnipeg  MB)\", \"Westman Communications (Brandon  MB)\", \"clearskystatus.info iperf\"], \"y\": [6.73, 180.12316384180795, 36.4990909090909, 32.317727272727275, 16.018611898017003, 182.49657142857143, 60.813571428571436, 21.381954314720815, 6.039999999999999, 7.063157894736843, 39.82181818181818, 38.06376811594201, 6.713464052287582, 38.72692307692307, 33.89200483091787, 4.614999999999999, 140.47333333333333, 71.74793103448275, 29.681294117647056, 11.832637499999997, 38.4093359375, 7760.040851063824], \"name\": \"Mean\"}, {\"type\": \"bar\", \"x\": [\"Access Communications Co-operative Limited (Regina  SK)\", \"Axia Connect Ltd (Calgary  AB)\", \"Bell Mobility (Winnipeg  MB)\", \"BlackSun Inc. (Saskatoon  SK)\", \"Commstream Communications (Winnipeg  MB)\", \"Cybera (Calgary  AB)\", \"DataHive (Calgary  AB)\", \"LES.NET (Winnipeg  MB)\", \"Midco (Minot  ND)\", \"Morenet (Morden  MB)\", \"NetSet Communications (Brandon  MB)\", \"RFNow Inc. (Virden  MB)\", \"Rogers (Winnipeg  MB)\", \"SaskTel (Regina  SK)\", \"Shaw Communications (Winnipeg  MB)\", \"Swift High Speed.com (Winnipeg  MB)\", \"TELUS Mobility (Calgary  AB)\", \"VOI Network Solutions (Winnipeg  MB)\", \"Valley Fiber (Winkler  MB)\", \"Voyageur Internet (Winnipeg  MB)\", \"Westman Communications (Brandon  MB)\", \"clearskystatus.info iperf\"], \"y\": [6.73, 184.88, 51.06, 49.71, 168.07, 186.16, 68.72, 173.12, 6.06, 45.99, 49.94, 169.25, 18.25, 46.14, 174.28, 6.7, 148.23, 164.45, 167.85, 128.25, 50.61, 42086.4], \"name\": \"Max\"}, {\"type\": \"bar\", \"x\": [\"Access Communications Co-operative Limited (Regina  SK)\", \"Axia Connect Ltd (Calgary  AB)\", \"Bell Mobility (Winnipeg  MB)\", \"BlackSun Inc. (Saskatoon  SK)\", \"Commstream Communications (Winnipeg  MB)\", \"Cybera (Calgary  AB)\", \"DataHive (Calgary  AB)\", \"LES.NET (Winnipeg  MB)\", \"Midco (Minot  ND)\", \"Morenet (Morden  MB)\", \"NetSet Communications (Brandon  MB)\", \"RFNow Inc. (Virden  MB)\", \"Rogers (Winnipeg  MB)\", \"SaskTel (Regina  SK)\", \"Shaw Communications (Winnipeg  MB)\", \"Swift High Speed.com (Winnipeg  MB)\", \"TELUS Mobility (Calgary  AB)\", \"VOI Network Solutions (Winnipeg  MB)\", \"Valley Fiber (Winkler  MB)\", \"Voyageur Internet (Winnipeg  MB)\", \"Westman Communications (Brandon  MB)\", \"clearskystatus.info iperf\"], \"y\": [6.73, 180.27, 36.01, 37.07, 10.72, 182.26999999999998, 68.11, 12.265, 6.04, 6.07, 43.865, 40.56, 6.47, 41.66, 6.27, 4.435, 145.29, 34.34, 6.08, 9.49, 39.959999999999994, 5795.84], \"name\": \"Median\"}], {\"title\": \"Maximum, mean and median download speed per test server\"}, {\"showLink\": true, \"linkText\": \"Export to plot.ly\"})});</script>"
      ]
     },
     "metadata": {},
     "output_type": "display_data"
    },
    {
     "data": {
      "application/vnd.plotly.v1+json": {
       "data": [
        {
         "name": "Mean",
         "type": "bar",
         "x": [
          "Access Communications Co-operative Limited (Regina  SK)",
          "Axia Connect Ltd (Calgary  AB)",
          "Bell Mobility (Winnipeg  MB)",
          "BlackSun Inc. (Saskatoon  SK)",
          "Commstream Communications (Winnipeg  MB)",
          "Cybera (Calgary  AB)",
          "DataHive (Calgary  AB)",
          "LES.NET (Winnipeg  MB)",
          "Midco (Minot  ND)",
          "Morenet (Morden  MB)",
          "NetSet Communications (Brandon  MB)",
          "RFNow Inc. (Virden  MB)",
          "Rogers (Winnipeg  MB)",
          "SaskTel (Regina  SK)",
          "Shaw Communications (Winnipeg  MB)",
          "Swift High Speed.com (Winnipeg  MB)",
          "TELUS Mobility (Calgary  AB)",
          "VOI Network Solutions (Winnipeg  MB)",
          "Valley Fiber (Winkler  MB)",
          "Voyageur Internet (Winnipeg  MB)",
          "Westman Communications (Brandon  MB)",
          "clearskystatus.info iperf"
         ],
         "y": [
          98.623,
          16.62242372881356,
          69.2050303030303,
          95.42800000000001,
          68.20698016997167,
          6.4343,
          17.805428571428575,
          77.71981218274117,
          111.004,
          105.20769473684209,
          56.85029545454545,
          84.76114492753625,
          91.47680718954246,
          87.79738461538462,
          73.09001204819279,
          445.96500000000003,
          39.81333333333333,
          81.86393103448276,
          104.97970588235297,
          76.07142125000004,
          70.00027734375003,
          71.80574468085108
         ]
        },
        {
         "name": "Max",
         "type": "bar",
         "x": [
          "Access Communications Co-operative Limited (Regina  SK)",
          "Axia Connect Ltd (Calgary  AB)",
          "Bell Mobility (Winnipeg  MB)",
          "BlackSun Inc. (Saskatoon  SK)",
          "Commstream Communications (Winnipeg  MB)",
          "Cybera (Calgary  AB)",
          "DataHive (Calgary  AB)",
          "LES.NET (Winnipeg  MB)",
          "Midco (Minot  ND)",
          "Morenet (Morden  MB)",
          "NetSet Communications (Brandon  MB)",
          "RFNow Inc. (Virden  MB)",
          "Rogers (Winnipeg  MB)",
          "SaskTel (Regina  SK)",
          "Shaw Communications (Winnipeg  MB)",
          "Swift High Speed.com (Winnipeg  MB)",
          "TELUS Mobility (Calgary  AB)",
          "VOI Network Solutions (Winnipeg  MB)",
          "Valley Fiber (Winkler  MB)",
          "Voyageur Internet (Winnipeg  MB)",
          "Westman Communications (Brandon  MB)",
          "clearskystatus.info iperf"
         ],
         "y": [
          98.623,
          44.07,
          75.848,
          130.437,
          511.859,
          8.929,
          33.232,
          679.029,
          116.987,
          320.886,
          298.15,
          291.275,
          266.557,
          94.775,
          817.343,
          1125.501,
          40.113,
          520.789,
          816.299,
          257.849,
          1258.02,
          669.219
         ]
        },
        {
         "name": "Median",
         "type": "bar",
         "x": [
          "Access Communications Co-operative Limited (Regina  SK)",
          "Axia Connect Ltd (Calgary  AB)",
          "Bell Mobility (Winnipeg  MB)",
          "BlackSun Inc. (Saskatoon  SK)",
          "Commstream Communications (Winnipeg  MB)",
          "Cybera (Calgary  AB)",
          "DataHive (Calgary  AB)",
          "LES.NET (Winnipeg  MB)",
          "Midco (Minot  ND)",
          "Morenet (Morden  MB)",
          "NetSet Communications (Brandon  MB)",
          "RFNow Inc. (Virden  MB)",
          "Rogers (Winnipeg  MB)",
          "SaskTel (Regina  SK)",
          "Shaw Communications (Winnipeg  MB)",
          "Swift High Speed.com (Winnipeg  MB)",
          "TELUS Mobility (Calgary  AB)",
          "VOI Network Solutions (Winnipeg  MB)",
          "Valley Fiber (Winkler  MB)",
          "Voyageur Internet (Winnipeg  MB)",
          "Westman Communications (Brandon  MB)",
          "clearskystatus.info iperf"
         ],
         "y": [
          98.623,
          16.41,
          68.8885,
          91.8375,
          60.018,
          6.365,
          10.3985,
          77.8215,
          112.076,
          99.044,
          49.35,
          90.57,
          84.18549999999999,
          88.871,
          70.2,
          285.0545,
          39.89,
          46.19,
          96.384,
          77.5635,
          68.119,
          64.82249999999999
         ]
        }
       ],
       "layout": {
        "title": "Maximum, mean and median ping latency per test server"
       }
      },
      "text/html": [
       "<div id=\"b49f769f-e69e-456a-9b9b-ae3bcdce560a\" style=\"height: 525px; width: 100%;\" class=\"plotly-graph-div\"></div><script type=\"text/javascript\">require([\"plotly\"], function(Plotly) { window.PLOTLYENV=window.PLOTLYENV || {};window.PLOTLYENV.BASE_URL=\"https://plot.ly\";Plotly.newPlot(\"b49f769f-e69e-456a-9b9b-ae3bcdce560a\", [{\"type\": \"bar\", \"x\": [\"Access Communications Co-operative Limited (Regina  SK)\", \"Axia Connect Ltd (Calgary  AB)\", \"Bell Mobility (Winnipeg  MB)\", \"BlackSun Inc. (Saskatoon  SK)\", \"Commstream Communications (Winnipeg  MB)\", \"Cybera (Calgary  AB)\", \"DataHive (Calgary  AB)\", \"LES.NET (Winnipeg  MB)\", \"Midco (Minot  ND)\", \"Morenet (Morden  MB)\", \"NetSet Communications (Brandon  MB)\", \"RFNow Inc. (Virden  MB)\", \"Rogers (Winnipeg  MB)\", \"SaskTel (Regina  SK)\", \"Shaw Communications (Winnipeg  MB)\", \"Swift High Speed.com (Winnipeg  MB)\", \"TELUS Mobility (Calgary  AB)\", \"VOI Network Solutions (Winnipeg  MB)\", \"Valley Fiber (Winkler  MB)\", \"Voyageur Internet (Winnipeg  MB)\", \"Westman Communications (Brandon  MB)\", \"clearskystatus.info iperf\"], \"y\": [98.623, 16.62242372881356, 69.2050303030303, 95.42800000000001, 68.20698016997167, 6.4343, 17.805428571428575, 77.71981218274117, 111.004, 105.20769473684209, 56.85029545454545, 84.76114492753625, 91.47680718954246, 87.79738461538462, 73.09001204819279, 445.96500000000003, 39.81333333333333, 81.86393103448276, 104.97970588235297, 76.07142125000004, 70.00027734375003, 71.80574468085108], \"name\": \"Mean\"}, {\"type\": \"bar\", \"x\": [\"Access Communications Co-operative Limited (Regina  SK)\", \"Axia Connect Ltd (Calgary  AB)\", \"Bell Mobility (Winnipeg  MB)\", \"BlackSun Inc. (Saskatoon  SK)\", \"Commstream Communications (Winnipeg  MB)\", \"Cybera (Calgary  AB)\", \"DataHive (Calgary  AB)\", \"LES.NET (Winnipeg  MB)\", \"Midco (Minot  ND)\", \"Morenet (Morden  MB)\", \"NetSet Communications (Brandon  MB)\", \"RFNow Inc. (Virden  MB)\", \"Rogers (Winnipeg  MB)\", \"SaskTel (Regina  SK)\", \"Shaw Communications (Winnipeg  MB)\", \"Swift High Speed.com (Winnipeg  MB)\", \"TELUS Mobility (Calgary  AB)\", \"VOI Network Solutions (Winnipeg  MB)\", \"Valley Fiber (Winkler  MB)\", \"Voyageur Internet (Winnipeg  MB)\", \"Westman Communications (Brandon  MB)\", \"clearskystatus.info iperf\"], \"y\": [98.623, 44.07, 75.848, 130.437, 511.859, 8.929, 33.232, 679.029, 116.987, 320.886, 298.15, 291.275, 266.557, 94.775, 817.343, 1125.501, 40.113, 520.789, 816.299, 257.849, 1258.02, 669.219], \"name\": \"Max\"}, {\"type\": \"bar\", \"x\": [\"Access Communications Co-operative Limited (Regina  SK)\", \"Axia Connect Ltd (Calgary  AB)\", \"Bell Mobility (Winnipeg  MB)\", \"BlackSun Inc. (Saskatoon  SK)\", \"Commstream Communications (Winnipeg  MB)\", \"Cybera (Calgary  AB)\", \"DataHive (Calgary  AB)\", \"LES.NET (Winnipeg  MB)\", \"Midco (Minot  ND)\", \"Morenet (Morden  MB)\", \"NetSet Communications (Brandon  MB)\", \"RFNow Inc. (Virden  MB)\", \"Rogers (Winnipeg  MB)\", \"SaskTel (Regina  SK)\", \"Shaw Communications (Winnipeg  MB)\", \"Swift High Speed.com (Winnipeg  MB)\", \"TELUS Mobility (Calgary  AB)\", \"VOI Network Solutions (Winnipeg  MB)\", \"Valley Fiber (Winkler  MB)\", \"Voyageur Internet (Winnipeg  MB)\", \"Westman Communications (Brandon  MB)\", \"clearskystatus.info iperf\"], \"y\": [98.623, 16.41, 68.8885, 91.8375, 60.018, 6.365, 10.3985, 77.8215, 112.076, 99.044, 49.35, 90.57, 84.18549999999999, 88.871, 70.2, 285.0545, 39.89, 46.19, 96.384, 77.5635, 68.119, 64.82249999999999], \"name\": \"Median\"}], {\"title\": \"Maximum, mean and median ping latency per test server\"}, {\"showLink\": true, \"linkText\": \"Export to plot.ly\"})});</script>"
      ],
      "text/vnd.plotly.v1+html": [
       "<div id=\"b49f769f-e69e-456a-9b9b-ae3bcdce560a\" style=\"height: 525px; width: 100%;\" class=\"plotly-graph-div\"></div><script type=\"text/javascript\">require([\"plotly\"], function(Plotly) { window.PLOTLYENV=window.PLOTLYENV || {};window.PLOTLYENV.BASE_URL=\"https://plot.ly\";Plotly.newPlot(\"b49f769f-e69e-456a-9b9b-ae3bcdce560a\", [{\"type\": \"bar\", \"x\": [\"Access Communications Co-operative Limited (Regina  SK)\", \"Axia Connect Ltd (Calgary  AB)\", \"Bell Mobility (Winnipeg  MB)\", \"BlackSun Inc. (Saskatoon  SK)\", \"Commstream Communications (Winnipeg  MB)\", \"Cybera (Calgary  AB)\", \"DataHive (Calgary  AB)\", \"LES.NET (Winnipeg  MB)\", \"Midco (Minot  ND)\", \"Morenet (Morden  MB)\", \"NetSet Communications (Brandon  MB)\", \"RFNow Inc. (Virden  MB)\", \"Rogers (Winnipeg  MB)\", \"SaskTel (Regina  SK)\", \"Shaw Communications (Winnipeg  MB)\", \"Swift High Speed.com (Winnipeg  MB)\", \"TELUS Mobility (Calgary  AB)\", \"VOI Network Solutions (Winnipeg  MB)\", \"Valley Fiber (Winkler  MB)\", \"Voyageur Internet (Winnipeg  MB)\", \"Westman Communications (Brandon  MB)\", \"clearskystatus.info iperf\"], \"y\": [98.623, 16.62242372881356, 69.2050303030303, 95.42800000000001, 68.20698016997167, 6.4343, 17.805428571428575, 77.71981218274117, 111.004, 105.20769473684209, 56.85029545454545, 84.76114492753625, 91.47680718954246, 87.79738461538462, 73.09001204819279, 445.96500000000003, 39.81333333333333, 81.86393103448276, 104.97970588235297, 76.07142125000004, 70.00027734375003, 71.80574468085108], \"name\": \"Mean\"}, {\"type\": \"bar\", \"x\": [\"Access Communications Co-operative Limited (Regina  SK)\", \"Axia Connect Ltd (Calgary  AB)\", \"Bell Mobility (Winnipeg  MB)\", \"BlackSun Inc. (Saskatoon  SK)\", \"Commstream Communications (Winnipeg  MB)\", \"Cybera (Calgary  AB)\", \"DataHive (Calgary  AB)\", \"LES.NET (Winnipeg  MB)\", \"Midco (Minot  ND)\", \"Morenet (Morden  MB)\", \"NetSet Communications (Brandon  MB)\", \"RFNow Inc. (Virden  MB)\", \"Rogers (Winnipeg  MB)\", \"SaskTel (Regina  SK)\", \"Shaw Communications (Winnipeg  MB)\", \"Swift High Speed.com (Winnipeg  MB)\", \"TELUS Mobility (Calgary  AB)\", \"VOI Network Solutions (Winnipeg  MB)\", \"Valley Fiber (Winkler  MB)\", \"Voyageur Internet (Winnipeg  MB)\", \"Westman Communications (Brandon  MB)\", \"clearskystatus.info iperf\"], \"y\": [98.623, 44.07, 75.848, 130.437, 511.859, 8.929, 33.232, 679.029, 116.987, 320.886, 298.15, 291.275, 266.557, 94.775, 817.343, 1125.501, 40.113, 520.789, 816.299, 257.849, 1258.02, 669.219], \"name\": \"Max\"}, {\"type\": \"bar\", \"x\": [\"Access Communications Co-operative Limited (Regina  SK)\", \"Axia Connect Ltd (Calgary  AB)\", \"Bell Mobility (Winnipeg  MB)\", \"BlackSun Inc. (Saskatoon  SK)\", \"Commstream Communications (Winnipeg  MB)\", \"Cybera (Calgary  AB)\", \"DataHive (Calgary  AB)\", \"LES.NET (Winnipeg  MB)\", \"Midco (Minot  ND)\", \"Morenet (Morden  MB)\", \"NetSet Communications (Brandon  MB)\", \"RFNow Inc. (Virden  MB)\", \"Rogers (Winnipeg  MB)\", \"SaskTel (Regina  SK)\", \"Shaw Communications (Winnipeg  MB)\", \"Swift High Speed.com (Winnipeg  MB)\", \"TELUS Mobility (Calgary  AB)\", \"VOI Network Solutions (Winnipeg  MB)\", \"Valley Fiber (Winkler  MB)\", \"Voyageur Internet (Winnipeg  MB)\", \"Westman Communications (Brandon  MB)\", \"clearskystatus.info iperf\"], \"y\": [98.623, 16.41, 68.8885, 91.8375, 60.018, 6.365, 10.3985, 77.8215, 112.076, 99.044, 49.35, 90.57, 84.18549999999999, 88.871, 70.2, 285.0545, 39.89, 46.19, 96.384, 77.5635, 68.119, 64.82249999999999], \"name\": \"Median\"}], {\"title\": \"Maximum, mean and median ping latency per test server\"}, {\"showLink\": true, \"linkText\": \"Export to plot.ly\"})});</script>"
      ]
     },
     "metadata": {},
     "output_type": "display_data"
    }
   ],
   "source": [
    "barplot_averages(upload_df,'UPLOAD',\"Maximum, mean and median upload speed per test server\",index_col='server')\n",
    "download_df[\"server\"] = download_df[\"TEST_SERVER\"] + \" \" +download_df[\"PROVINCE\"]\n",
    "barplot_averages(download_df,'DOWNLOAD',\"Maximum, mean and median download speed per test server\", index_col='server')\n",
    "ping_df[\"server\"] = ping_df[\"TEST_SERVER\"] + \" \" +ping_df[\"PROVINCE\"]\n",
    "barplot_averages(ping_df,'PING',\"Maximum, mean and median ping latency per test server\", index_col='server')"
   ]
  },
  {
   "cell_type": "markdown",
   "metadata": {},
   "source": [
    "## Summary:\n",
    "## Questions:"
   ]
  },
  {
   "cell_type": "markdown",
   "metadata": {},
   "source": [
    " # Part4: statistics by device"
   ]
  },
  {
   "cell_type": "code",
   "execution_count": 23,
   "metadata": {
    "collapsed": true
   },
   "outputs": [],
   "source": [
    "query_ping_max_dec = \"SELECT MAX(PING), MEAN(PING), MEDIAN(PING) FROM PING WHERE PING!=0  GROUP BY SK_PI;\"\n",
    "result_ping_max_dec = client.query(query_ping_max_dec)"
   ]
  },
  {
   "cell_type": "code",
   "execution_count": 24,
   "metadata": {
    "collapsed": true
   },
   "outputs": [],
   "source": [
    "device_max_dec=[]\n",
    "device_mean_dec = []\n",
    "device_median_dec = []\n",
    "for device in device_numbers_dec:\n",
    "    points_max_dec=result_ping_max_dec.get_points(tags={'SK_PI':str(device)})\n",
    "    for point in points_max_dec:\n",
    "        device_median_dec.append(point['median'])\n",
    "        device_max_dec.append(point['max'])\n",
    "        device_mean_dec.append(point['mean'])"
   ]
  },
  {
   "cell_type": "code",
   "execution_count": 27,
   "metadata": {},
   "outputs": [
    {
     "data": {
      "application/vnd.plotly.v1+json": {
       "data": [
        {
         "name": "Mean",
         "type": "bar",
         "x": [
          3,
          7,
          9,
          10,
          11,
          12,
          15,
          16,
          17,
          18
         ],
         "y": [
          14.878539673718318,
          37.71124228029298,
          35.22890821566217,
          46.774480281260416,
          28.166411913834352,
          34.19805353063054,
          35.01571373084191,
          60.5823232706064,
          46.34449168311719,
          48.22876181218442
         ]
        },
        {
         "name": "Max",
         "type": "bar",
         "x": [
          3,
          7,
          9,
          10,
          11,
          12,
          15,
          16,
          17,
          18
         ],
         "y": [
          84.621,
          900.768,
          686.282,
          446.59,
          180.611,
          867.817,
          262.352,
          901.052,
          832.237,
          813.922
         ]
        },
        {
         "name": "Median",
         "type": "bar",
         "x": [
          3,
          7,
          9,
          10,
          11,
          12,
          15,
          16,
          17,
          18
         ],
         "y": [
          14.714,
          33.725,
          32.55,
          44.895,
          27.634,
          35.086,
          35.004,
          37.81,
          43.903,
          44.528
         ]
        }
       ],
       "layout": {
        "title": "Collectd: Maximum, mean and median ping latency per device"
       }
      },
      "text/html": [
       "<div id=\"2fc8fc78-0904-4c67-a388-6d2a66d0bc49\" style=\"height: 525px; width: 100%;\" class=\"plotly-graph-div\"></div><script type=\"text/javascript\">require([\"plotly\"], function(Plotly) { window.PLOTLYENV=window.PLOTLYENV || {};window.PLOTLYENV.BASE_URL=\"https://plot.ly\";Plotly.newPlot(\"2fc8fc78-0904-4c67-a388-6d2a66d0bc49\", [{\"type\": \"bar\", \"x\": [3, 7, 9, 10, 11, 12, 15, 16, 17, 18], \"y\": [14.878539673718318, 37.71124228029298, 35.22890821566217, 46.774480281260416, 28.166411913834352, 34.19805353063054, 35.01571373084191, 60.5823232706064, 46.34449168311719, 48.22876181218442], \"name\": \"Mean\"}, {\"type\": \"bar\", \"x\": [3, 7, 9, 10, 11, 12, 15, 16, 17, 18], \"y\": [84.621, 900.768, 686.282, 446.59, 180.611, 867.817, 262.352, 901.052, 832.237, 813.922], \"name\": \"Max\"}, {\"type\": \"bar\", \"x\": [3, 7, 9, 10, 11, 12, 15, 16, 17, 18], \"y\": [14.714, 33.725, 32.55, 44.895, 27.634, 35.086, 35.004, 37.81, 43.903, 44.528], \"name\": \"Median\"}], {\"title\": \"Collectd: Maximum, mean and median ping latency per device\"}, {\"showLink\": true, \"linkText\": \"Export to plot.ly\"})});</script>"
      ],
      "text/vnd.plotly.v1+html": [
       "<div id=\"2fc8fc78-0904-4c67-a388-6d2a66d0bc49\" style=\"height: 525px; width: 100%;\" class=\"plotly-graph-div\"></div><script type=\"text/javascript\">require([\"plotly\"], function(Plotly) { window.PLOTLYENV=window.PLOTLYENV || {};window.PLOTLYENV.BASE_URL=\"https://plot.ly\";Plotly.newPlot(\"2fc8fc78-0904-4c67-a388-6d2a66d0bc49\", [{\"type\": \"bar\", \"x\": [3, 7, 9, 10, 11, 12, 15, 16, 17, 18], \"y\": [14.878539673718318, 37.71124228029298, 35.22890821566217, 46.774480281260416, 28.166411913834352, 34.19805353063054, 35.01571373084191, 60.5823232706064, 46.34449168311719, 48.22876181218442], \"name\": \"Mean\"}, {\"type\": \"bar\", \"x\": [3, 7, 9, 10, 11, 12, 15, 16, 17, 18], \"y\": [84.621, 900.768, 686.282, 446.59, 180.611, 867.817, 262.352, 901.052, 832.237, 813.922], \"name\": \"Max\"}, {\"type\": \"bar\", \"x\": [3, 7, 9, 10, 11, 12, 15, 16, 17, 18], \"y\": [14.714, 33.725, 32.55, 44.895, 27.634, 35.086, 35.004, 37.81, 43.903, 44.528], \"name\": \"Median\"}], {\"title\": \"Collectd: Maximum, mean and median ping latency per device\"}, {\"showLink\": true, \"linkText\": \"Export to plot.ly\"})});</script>"
      ]
     },
     "metadata": {},
     "output_type": "display_data"
    },
    {
     "data": {
      "application/vnd.plotly.v1+json": {
       "data": [
        {
         "name": "Mean",
         "type": "bar",
         "x": [
          1,
          2,
          3,
          4,
          5,
          6,
          7,
          8,
          9,
          10,
          11,
          12,
          14,
          15,
          16,
          17,
          18
         ],
         "y": [
          75.8511,
          86.71691666666666,
          16.861317725752496,
          68.68412456747407,
          98.33885945945948,
          72.2733125,
          84.83041095890414,
          27.708173913043478,
          59.479335937500046,
          112.05979761904759,
          72.47095041322316,
          46.10386956521743,
          40.20700462962964,
          76.5313148148148,
          123.27184615384618,
          69.2146646341463,
          47.416592307692305
         ]
        },
        {
         "name": "Max",
         "type": "bar",
         "x": [
          1,
          2,
          3,
          4,
          5,
          6,
          7,
          8,
          9,
          10,
          11,
          12,
          14,
          15,
          16,
          17,
          18
         ],
         "y": [
          91.057,
          384.464,
          50.677,
          196.284,
          1125.501,
          153.61,
          511.859,
          90.184,
          130.437,
          679.029,
          90.874,
          76.434,
          520.789,
          96.08,
          1258.02,
          93.918,
          55.826
         ]
        },
        {
         "name": "Median",
         "type": "bar",
         "x": [
          1,
          2,
          3,
          4,
          5,
          6,
          7,
          8,
          9,
          10,
          11,
          12,
          14,
          15,
          16,
          17,
          18
         ],
         "y": [
          74.848,
          80.23150000000001,
          16.217,
          67.523,
          84.249,
          63.944,
          81.793,
          16.946,
          50.4795,
          103.26599999999999,
          72.5685,
          49.536,
          37.7225,
          76.864,
          98.406,
          68.5685,
          46.784499999999994
         ]
        }
       ],
       "layout": {
        "title": "Sppedtest: Maximum, mean and median ping latency per device"
       }
      },
      "text/html": [
       "<div id=\"07eeefe7-d897-4b62-a900-70618d812add\" style=\"height: 525px; width: 100%;\" class=\"plotly-graph-div\"></div><script type=\"text/javascript\">require([\"plotly\"], function(Plotly) { window.PLOTLYENV=window.PLOTLYENV || {};window.PLOTLYENV.BASE_URL=\"https://plot.ly\";Plotly.newPlot(\"07eeefe7-d897-4b62-a900-70618d812add\", [{\"type\": \"bar\", \"x\": [1, 2, 3, 4, 5, 6, 7, 8, 9, 10, 11, 12, 14, 15, 16, 17, 18], \"y\": [75.8511, 86.71691666666666, 16.861317725752496, 68.68412456747407, 98.33885945945948, 72.2733125, 84.83041095890414, 27.708173913043478, 59.479335937500046, 112.05979761904759, 72.47095041322316, 46.10386956521743, 40.20700462962964, 76.5313148148148, 123.27184615384618, 69.2146646341463, 47.416592307692305], \"name\": \"Mean\"}, {\"type\": \"bar\", \"x\": [1, 2, 3, 4, 5, 6, 7, 8, 9, 10, 11, 12, 14, 15, 16, 17, 18], \"y\": [91.057, 384.464, 50.677, 196.284, 1125.501, 153.61, 511.859, 90.184, 130.437, 679.029, 90.874, 76.434, 520.789, 96.08, 1258.02, 93.918, 55.826], \"name\": \"Max\"}, {\"type\": \"bar\", \"x\": [1, 2, 3, 4, 5, 6, 7, 8, 9, 10, 11, 12, 14, 15, 16, 17, 18], \"y\": [74.848, 80.23150000000001, 16.217, 67.523, 84.249, 63.944, 81.793, 16.946, 50.4795, 103.26599999999999, 72.5685, 49.536, 37.7225, 76.864, 98.406, 68.5685, 46.784499999999994], \"name\": \"Median\"}], {\"title\": \"Sppedtest: Maximum, mean and median ping latency per device\"}, {\"showLink\": true, \"linkText\": \"Export to plot.ly\"})});</script>"
      ],
      "text/vnd.plotly.v1+html": [
       "<div id=\"07eeefe7-d897-4b62-a900-70618d812add\" style=\"height: 525px; width: 100%;\" class=\"plotly-graph-div\"></div><script type=\"text/javascript\">require([\"plotly\"], function(Plotly) { window.PLOTLYENV=window.PLOTLYENV || {};window.PLOTLYENV.BASE_URL=\"https://plot.ly\";Plotly.newPlot(\"07eeefe7-d897-4b62-a900-70618d812add\", [{\"type\": \"bar\", \"x\": [1, 2, 3, 4, 5, 6, 7, 8, 9, 10, 11, 12, 14, 15, 16, 17, 18], \"y\": [75.8511, 86.71691666666666, 16.861317725752496, 68.68412456747407, 98.33885945945948, 72.2733125, 84.83041095890414, 27.708173913043478, 59.479335937500046, 112.05979761904759, 72.47095041322316, 46.10386956521743, 40.20700462962964, 76.5313148148148, 123.27184615384618, 69.2146646341463, 47.416592307692305], \"name\": \"Mean\"}, {\"type\": \"bar\", \"x\": [1, 2, 3, 4, 5, 6, 7, 8, 9, 10, 11, 12, 14, 15, 16, 17, 18], \"y\": [91.057, 384.464, 50.677, 196.284, 1125.501, 153.61, 511.859, 90.184, 130.437, 679.029, 90.874, 76.434, 520.789, 96.08, 1258.02, 93.918, 55.826], \"name\": \"Max\"}, {\"type\": \"bar\", \"x\": [1, 2, 3, 4, 5, 6, 7, 8, 9, 10, 11, 12, 14, 15, 16, 17, 18], \"y\": [74.848, 80.23150000000001, 16.217, 67.523, 84.249, 63.944, 81.793, 16.946, 50.4795, 103.26599999999999, 72.5685, 49.536, 37.7225, 76.864, 98.406, 68.5685, 46.784499999999994], \"name\": \"Median\"}], {\"title\": \"Sppedtest: Maximum, mean and median ping latency per device\"}, {\"showLink\": true, \"linkText\": \"Export to plot.ly\"})});</script>"
      ]
     },
     "metadata": {},
     "output_type": "display_data"
    }
   ],
   "source": [
    "trace1 = go.Bar(\n",
    "            x=device_numbers_dec,\n",
    "            y=device_mean_dec,\n",
    "            name='Mean',\n",
    "    )\n",
    "trace2 = go.Bar(\n",
    "            x=device_numbers_dec,\n",
    "            y=device_max_dec,\n",
    "            name='Max',\n",
    "    \n",
    "    )\n",
    "trace3 = go.Bar(\n",
    "            x=device_numbers_dec,\n",
    "            y=device_median_dec,\n",
    "            name='Median',\n",
    "    \n",
    "    )\n",
    "data = [trace1, trace2, trace3]\n",
    "layout = go.Layout(\n",
    "       # barmode='stack',\n",
    "        title=\"Collectd: Maximum, mean and median ping latency per device\"\n",
    "    )\n",
    "\n",
    "fig1 = go.Figure(data=data, layout=layout)\n",
    "iplot(fig1)\n",
    "barplot_averages(ping_df,'PING',\"Sppedtest: Maximum, mean and median ping latency per device\")"
   ]
  },
  {
   "cell_type": "code",
   "execution_count": 28,
   "metadata": {},
   "outputs": [
    {
     "data": {
      "application/vnd.plotly.v1+json": {
       "data": [
        {
         "name": "Mean",
         "type": "bar",
         "x": [
          1,
          2,
          3,
          4,
          5,
          6,
          7,
          8,
          9,
          10,
          11,
          12,
          14,
          15,
          16,
          17,
          18
         ],
         "y": [
          2528.6189999999997,
          2509.1447083333355,
          2638.030635451504,
          916.1203124999998,
          829.2636036036043,
          4066.4518750000016,
          932.2395068493154,
          3450.8595652173913,
          837.8537109375008,
          4.113035714285713,
          131.96177685950428,
          232.77857707509884,
          97.18328703703702,
          16.98013888888889,
          5.569179487179485,
          36.73006097560977,
          9.336384615384617
         ]
        },
        {
         "name": "Max",
         "type": "bar",
         "x": [
          1,
          2,
          3,
          4,
          5,
          6,
          7,
          8,
          9,
          10,
          11,
          12,
          14,
          15,
          16,
          17,
          18
         ],
         "y": [
          9666.56,
          11878.4,
          42086.4,
          4075.52,
          6871.04,
          6656,
          10342.4,
          38809.6,
          31744,
          7.32,
          12288,
          15257.6,
          174.28,
          27.66,
          6.34,
          46.02,
          9.55
         ]
        },
        {
         "name": "Median",
         "type": "bar",
         "x": [
          1,
          2,
          3,
          4,
          5,
          6,
          7,
          8,
          9,
          10,
          11,
          12,
          14,
          15,
          16,
          17,
          18
         ],
         "y": [
          9.059999999999999,
          11.260000000000002,
          180.76,
          3.76,
          6.46,
          5580.8,
          12.12,
          92.11,
          43.75,
          4.175000000000001,
          26.28,
          16.53,
          136.575,
          16.525,
          6.05,
          38.93,
          9.45
         ]
        }
       ],
       "layout": {
        "title": "Maximum, mean and median download speed per device"
       }
      },
      "text/html": [
       "<div id=\"a8399d40-76c0-4106-8357-f657bad00b4d\" style=\"height: 525px; width: 100%;\" class=\"plotly-graph-div\"></div><script type=\"text/javascript\">require([\"plotly\"], function(Plotly) { window.PLOTLYENV=window.PLOTLYENV || {};window.PLOTLYENV.BASE_URL=\"https://plot.ly\";Plotly.newPlot(\"a8399d40-76c0-4106-8357-f657bad00b4d\", [{\"type\": \"bar\", \"x\": [1, 2, 3, 4, 5, 6, 7, 8, 9, 10, 11, 12, 14, 15, 16, 17, 18], \"y\": [2528.6189999999997, 2509.1447083333355, 2638.030635451504, 916.1203124999998, 829.2636036036043, 4066.4518750000016, 932.2395068493154, 3450.8595652173913, 837.8537109375008, 4.113035714285713, 131.96177685950428, 232.77857707509884, 97.18328703703702, 16.98013888888889, 5.569179487179485, 36.73006097560977, 9.336384615384617], \"name\": \"Mean\"}, {\"type\": \"bar\", \"x\": [1, 2, 3, 4, 5, 6, 7, 8, 9, 10, 11, 12, 14, 15, 16, 17, 18], \"y\": [9666.56, 11878.4, 42086.4, 4075.52, 6871.04, 6656.0, 10342.4, 38809.6, 31744.0, 7.32, 12288.0, 15257.6, 174.28, 27.66, 6.34, 46.02, 9.55], \"name\": \"Max\"}, {\"type\": \"bar\", \"x\": [1, 2, 3, 4, 5, 6, 7, 8, 9, 10, 11, 12, 14, 15, 16, 17, 18], \"y\": [9.059999999999999, 11.260000000000002, 180.76, 3.76, 6.46, 5580.8, 12.12, 92.11, 43.75, 4.175000000000001, 26.28, 16.53, 136.575, 16.525, 6.05, 38.93, 9.45], \"name\": \"Median\"}], {\"title\": \"Maximum, mean and median download speed per device\"}, {\"showLink\": true, \"linkText\": \"Export to plot.ly\"})});</script>"
      ],
      "text/vnd.plotly.v1+html": [
       "<div id=\"a8399d40-76c0-4106-8357-f657bad00b4d\" style=\"height: 525px; width: 100%;\" class=\"plotly-graph-div\"></div><script type=\"text/javascript\">require([\"plotly\"], function(Plotly) { window.PLOTLYENV=window.PLOTLYENV || {};window.PLOTLYENV.BASE_URL=\"https://plot.ly\";Plotly.newPlot(\"a8399d40-76c0-4106-8357-f657bad00b4d\", [{\"type\": \"bar\", \"x\": [1, 2, 3, 4, 5, 6, 7, 8, 9, 10, 11, 12, 14, 15, 16, 17, 18], \"y\": [2528.6189999999997, 2509.1447083333355, 2638.030635451504, 916.1203124999998, 829.2636036036043, 4066.4518750000016, 932.2395068493154, 3450.8595652173913, 837.8537109375008, 4.113035714285713, 131.96177685950428, 232.77857707509884, 97.18328703703702, 16.98013888888889, 5.569179487179485, 36.73006097560977, 9.336384615384617], \"name\": \"Mean\"}, {\"type\": \"bar\", \"x\": [1, 2, 3, 4, 5, 6, 7, 8, 9, 10, 11, 12, 14, 15, 16, 17, 18], \"y\": [9666.56, 11878.4, 42086.4, 4075.52, 6871.04, 6656.0, 10342.4, 38809.6, 31744.0, 7.32, 12288.0, 15257.6, 174.28, 27.66, 6.34, 46.02, 9.55], \"name\": \"Max\"}, {\"type\": \"bar\", \"x\": [1, 2, 3, 4, 5, 6, 7, 8, 9, 10, 11, 12, 14, 15, 16, 17, 18], \"y\": [9.059999999999999, 11.260000000000002, 180.76, 3.76, 6.46, 5580.8, 12.12, 92.11, 43.75, 4.175000000000001, 26.28, 16.53, 136.575, 16.525, 6.05, 38.93, 9.45], \"name\": \"Median\"}], {\"title\": \"Maximum, mean and median download speed per device\"}, {\"showLink\": true, \"linkText\": \"Export to plot.ly\"})});</script>"
      ]
     },
     "metadata": {},
     "output_type": "display_data"
    },
    {
     "data": {
      "application/vnd.plotly.v1+json": {
       "data": [
        {
         "name": "Mean",
         "type": "bar",
         "x": [
          1,
          2,
          3,
          4,
          5,
          6,
          7,
          8,
          9,
          10,
          11,
          12,
          14,
          15,
          16,
          17,
          18
         ],
         "y": [
          283.248,
          670.6246666666664,
          636.808026755853,
          181.53728222996523,
          75.48717117117114,
          630.83125,
          631.2367671232873,
          561.6721739130435,
          183.96187499999985,
          4.576130952380949,
          64.48884297520664,
          47.29565217391308,
          86.52064814814814,
          43.563842592592565,
          3.7881025641025663,
          45.70310975609755,
          9.596999999999994
         ]
        },
        {
         "name": "Max",
         "type": "bar",
         "x": [
          1,
          2,
          3,
          4,
          5,
          6,
          7,
          8,
          9,
          10,
          11,
          12,
          14,
          15,
          16,
          17,
          18
         ],
         "y": [
          844,
          6492.16,
          20480,
          842,
          620,
          926,
          8140.8,
          6809.6,
          7444.48,
          6.5,
          1669.12,
          3235.84,
          150.63,
          52.49,
          4.03,
          50.87,
          11.53
         ]
        },
        {
         "name": "Median",
         "type": "bar",
         "x": [
          1,
          2,
          3,
          4,
          5,
          6,
          7,
          8,
          9,
          10,
          11,
          12,
          14,
          15,
          16,
          17,
          18
         ],
         "y": [
          0.89,
          7.115,
          125.42,
          0.64,
          0.53,
          798.5,
          7.99,
          92.49,
          52.44,
          4.52,
          52.94,
          8.19,
          122.16,
          43.685,
          3.85,
          47.155,
          9.56
         ]
        }
       ],
       "layout": {
        "title": "Maximum, mean and median upload speed per device"
       }
      },
      "text/html": [
       "<div id=\"848f8b9a-ec1f-4e27-a7fe-bd917c588f43\" style=\"height: 525px; width: 100%;\" class=\"plotly-graph-div\"></div><script type=\"text/javascript\">require([\"plotly\"], function(Plotly) { window.PLOTLYENV=window.PLOTLYENV || {};window.PLOTLYENV.BASE_URL=\"https://plot.ly\";Plotly.newPlot(\"848f8b9a-ec1f-4e27-a7fe-bd917c588f43\", [{\"type\": \"bar\", \"x\": [1, 2, 3, 4, 5, 6, 7, 8, 9, 10, 11, 12, 14, 15, 16, 17, 18], \"y\": [283.248, 670.6246666666664, 636.808026755853, 181.53728222996523, 75.48717117117114, 630.83125, 631.2367671232873, 561.6721739130435, 183.96187499999985, 4.576130952380949, 64.48884297520664, 47.29565217391308, 86.52064814814814, 43.563842592592565, 3.7881025641025663, 45.70310975609755, 9.596999999999994], \"name\": \"Mean\"}, {\"type\": \"bar\", \"x\": [1, 2, 3, 4, 5, 6, 7, 8, 9, 10, 11, 12, 14, 15, 16, 17, 18], \"y\": [844.0, 6492.16, 20480.0, 842.0, 620.0, 926.0, 8140.8, 6809.6, 7444.48, 6.5, 1669.12, 3235.84, 150.63, 52.49, 4.03, 50.87, 11.53], \"name\": \"Max\"}, {\"type\": \"bar\", \"x\": [1, 2, 3, 4, 5, 6, 7, 8, 9, 10, 11, 12, 14, 15, 16, 17, 18], \"y\": [0.89, 7.115, 125.42, 0.64, 0.53, 798.5, 7.99, 92.49, 52.44, 4.52, 52.94, 8.19, 122.16, 43.685, 3.85, 47.155, 9.56], \"name\": \"Median\"}], {\"title\": \"Maximum, mean and median upload speed per device\"}, {\"showLink\": true, \"linkText\": \"Export to plot.ly\"})});</script>"
      ],
      "text/vnd.plotly.v1+html": [
       "<div id=\"848f8b9a-ec1f-4e27-a7fe-bd917c588f43\" style=\"height: 525px; width: 100%;\" class=\"plotly-graph-div\"></div><script type=\"text/javascript\">require([\"plotly\"], function(Plotly) { window.PLOTLYENV=window.PLOTLYENV || {};window.PLOTLYENV.BASE_URL=\"https://plot.ly\";Plotly.newPlot(\"848f8b9a-ec1f-4e27-a7fe-bd917c588f43\", [{\"type\": \"bar\", \"x\": [1, 2, 3, 4, 5, 6, 7, 8, 9, 10, 11, 12, 14, 15, 16, 17, 18], \"y\": [283.248, 670.6246666666664, 636.808026755853, 181.53728222996523, 75.48717117117114, 630.83125, 631.2367671232873, 561.6721739130435, 183.96187499999985, 4.576130952380949, 64.48884297520664, 47.29565217391308, 86.52064814814814, 43.563842592592565, 3.7881025641025663, 45.70310975609755, 9.596999999999994], \"name\": \"Mean\"}, {\"type\": \"bar\", \"x\": [1, 2, 3, 4, 5, 6, 7, 8, 9, 10, 11, 12, 14, 15, 16, 17, 18], \"y\": [844.0, 6492.16, 20480.0, 842.0, 620.0, 926.0, 8140.8, 6809.6, 7444.48, 6.5, 1669.12, 3235.84, 150.63, 52.49, 4.03, 50.87, 11.53], \"name\": \"Max\"}, {\"type\": \"bar\", \"x\": [1, 2, 3, 4, 5, 6, 7, 8, 9, 10, 11, 12, 14, 15, 16, 17, 18], \"y\": [0.89, 7.115, 125.42, 0.64, 0.53, 798.5, 7.99, 92.49, 52.44, 4.52, 52.94, 8.19, 122.16, 43.685, 3.85, 47.155, 9.56], \"name\": \"Median\"}], {\"title\": \"Maximum, mean and median upload speed per device\"}, {\"showLink\": true, \"linkText\": \"Export to plot.ly\"})});</script>"
      ]
     },
     "metadata": {},
     "output_type": "display_data"
    }
   ],
   "source": [
    "barplot_averages(download_df,'DOWNLOAD',\"Maximum, mean and median download speed per device\")\n",
    "barplot_averages(upload_df,'UPLOAD',\"Maximum, mean and median upload speed per device\")"
   ]
  },
  {
   "cell_type": "markdown",
   "metadata": {},
   "source": [
    "## Summary:\n",
    "## Questions:"
   ]
  }
 ],
 "metadata": {
  "kernelspec": {
   "display_name": "Python 3",
   "language": "python",
   "name": "python3"
  },
  "language_info": {
   "codemirror_mode": {
    "name": "ipython",
    "version": 3
   },
   "file_extension": ".py",
   "mimetype": "text/x-python",
   "name": "python",
   "nbconvert_exporter": "python",
   "pygments_lexer": "ipython3",
   "version": "3.6.3"
  },
  "nbTranslate": {
   "displayLangs": [
    "*"
   ],
   "hotkey": "alt-t",
   "langInMainMenu": true,
   "sourceLang": "en",
   "targetLang": "fr",
   "useGoogleTranslate": true
  }
 },
 "nbformat": 4,
 "nbformat_minor": 2
}
