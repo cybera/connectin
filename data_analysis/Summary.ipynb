{
 "cells": [
  {
   "cell_type": "code",
   "execution_count": null,
   "metadata": {},
   "outputs": [],
   "source": [
    "from IPython.display import display, Math, Latex, HTML\n",
    "HTML('''<script>\n",
    "  function code_toggle() {\n",
    "    if (code_shown){\n",
    "      $('div.input').hide('500');\n",
    "      $('#toggleButton').val('Show Code')\n",
    "    } else {\n",
    "      $('div.input').show('500');\n",
    "      $('#toggleButton').val('Hide Code')\n",
    "    }\n",
    "    code_shown = !code_shown\n",
    "  }\n",
    "  \n",
    "  $( document ).ready(function(){\n",
    "    code_shown=false;\n",
    "    $('div.input').hide()\n",
    "  });\n",
    "</script>\n",
    "<form action=\"javascript:code_toggle()\"><input type=\"submit\" id=\"toggleButton\" value=\"Show Code\"></form>''') "
   ]
  },
  {
   "cell_type": "code",
   "execution_count": null,
   "metadata": {},
   "outputs": [],
   "source": [
    "from influxdb import DataFrameClient\n",
    "from influxdb import InfluxDBClient\n",
    "import json\n",
    "import pandas as pd\n",
    "\n",
    "import datetime \n",
    "from plotly.offline import init_notebook_mode, iplot\n",
    "import plotly.graph_objs as go\n",
    "import plotly.plotly as py\n",
    "from plotly import tools\n",
    "#from datetime import datetime\n",
    "import dateutil.parser\n",
    "init_notebook_mode(connected=True)"
   ]
  },
  {
   "cell_type": "code",
   "execution_count": null,
   "metadata": {},
   "outputs": [],
   "source": [
    "colors=['#F2F3F4', '#222222', '#F3C300', '#875692', '#F38400', '#A1CAF1', '#BE0032', '#C2B280', \n",
    "        '#848482', '#008856', '#E68FAC', '#0067A5', '#F99379', '#604E97', '#F6A600', '#B3446C',\n",
    "        '#DCD300', '#882D17', '#8DB600', '#654522', '#E25822', '#2B3D26']"
   ]
  },
  {
   "cell_type": "code",
   "execution_count": null,
   "metadata": {},
   "outputs": [],
   "source": [
    "def barplot_averages(df,column, title,index_col='SK_PI'):\n",
    "    max_df = df.groupby(index_col)[column].max().reset_index()\n",
    "    max_df.columns = [index_col, column+'_MAX']\n",
    "    med_df = df.groupby(index_col)[column].median().reset_index()\n",
    "    med_df.columns = [index_col, column+'_MEDIAN']\n",
    "    avg_df = df.groupby(index_col)[column].mean().reset_index()\n",
    "    avg_df.columns = [index_col, column+'_MEAN']\n",
    "    med_max_avg_df=pd.merge(pd.merge(max_df, med_df,on=index_col),avg_df, on=index_col)\n",
    "    trace1 = go.Bar(\n",
    "                x=med_max_avg_df[index_col],\n",
    "                y=med_max_avg_df[column+'_MEAN'],\n",
    "                name='Mean',\n",
    "        )\n",
    "    trace2 = go.Bar(\n",
    "                x=med_max_avg_df[index_col],\n",
    "                y=med_max_avg_df[column+'_MAX'],\n",
    "                name='Max',\n",
    "\n",
    "        )\n",
    "    trace3 = go.Bar(\n",
    "                x=med_max_avg_df[index_col],\n",
    "                y=med_max_avg_df[column+'_MEDIAN'],\n",
    "                name='Median',\n",
    "\n",
    "        )\n",
    "    data = [trace1, trace2, trace3]\n",
    "    layout = go.Layout(\n",
    "           # barmode='stack',\n",
    "            title=title,\n",
    "            margin = dict(\n",
    "            l= 30,\n",
    "            r= 30,\n",
    "            t= 50,\n",
    "            b= 250\n",
    "            )\n",
    "            #margin=go.layout.Margin(\n",
    "           # l=50)\n",
    "            #title=\"Maximum, mean and median upload speed per device\"\n",
    "        )\n",
    "\n",
    "    fig = go.Figure(data=data, layout=layout)\n",
    "    iplot(fig)"
   ]
  },
  {
   "cell_type": "code",
   "execution_count": null,
   "metadata": {},
   "outputs": [],
   "source": [
    "with open('../credentials.json', 'r') as f_credentials:\n",
    "    credentials_config = json.load(f_credentials)"
   ]
  },
  {
   "cell_type": "code",
   "execution_count": null,
   "metadata": {},
   "outputs": [],
   "source": [
    "host=credentials_config['influxdb_host']\n",
    "port=8086\n",
    "dbname = 'net_speed_md'\n",
    "client = InfluxDBClient(host, port, '', '', dbname)"
   ]
  },
  {
   "cell_type": "code",
   "execution_count": null,
   "metadata": {},
   "outputs": [],
   "source": [
    "query_unique_devices = \"SHOW TAG VALUES FROM PING WITH KEY=SK_PI;\"\n",
    "result_unique_devices = client.query(query_unique_devices)\n",
    "points_unique_devices = result_unique_devices.get_points()\n",
    "device_numbers=[]\n",
    "for point in points_unique_devices:\n",
    "    device_numbers.append(point['value'])\n",
    "device_numbers=list(map(int, device_numbers))\n",
    "device_numbers= sorted(device_numbers)\n",
    "#print(device_numbers)"
   ]
  },
  {
   "cell_type": "code",
   "execution_count": null,
   "metadata": {},
   "outputs": [],
   "source": [
    "query_ping_counts = 'SELECT COUNT(PING) FROM PING WHERE PING!=0 GROUP BY SK_PI;'\n",
    "result_ping_counts = client.query(query_ping_counts)\n",
    "query_ping_counts_dec = \"SELECT COUNT(PING) FROM PING WHERE time >= now()-4w  AND PING!=0 GROUP BY SK_PI ;\"\n",
    "result_ping_counts_dec = client.query(query_ping_counts_dec)"
   ]
  },
  {
   "cell_type": "code",
   "execution_count": null,
   "metadata": {},
   "outputs": [],
   "source": [
    "query_pingdroprate_counts = 'SELECT COUNT(PING_DROPRATE) FROM PING WHERE PING_DROPRATE!=0 GROUP BY SK_PI;'\n",
    "result_pingdroprate_counts = client.query(query_pingdroprate_counts)\n",
    "query_pingdroprate_counts_dec = 'SELECT COUNT(PING_DROPRATE) FROM PING WHERE time >= now()-4w AND PING_DROPRATE!=0 GROUP BY SK_PI;'\n",
    "result_pingdroprate_counts_dec = client.query(query_pingdroprate_counts_dec)"
   ]
  },
  {
   "cell_type": "code",
   "execution_count": null,
   "metadata": {},
   "outputs": [],
   "source": [
    "ping_counts=[]\n",
    "pingdroprate_counts=[]\n",
    "for device in device_numbers:\n",
    "    points_ping_counts=result_ping_counts.get_points(tags={'SK_PI':str(device)})\n",
    "    points_pingdroprate_counts=result_pingdroprate_counts.get_points(tags={'SK_PI':str(device)})\n",
    "    point_ping=0\n",
    "    point_pingdroprate=0\n",
    "    for point in points_ping_counts:\n",
    "        point_ping=point['count']\n",
    "    count_ping=point_ping\n",
    "    for point in points_pingdroprate_counts:\n",
    "        point_pingdroprate=point['count']\n",
    "    count_pingdroprate=point_pingdroprate\n",
    "    ping_counts.append(count_ping+count_pingdroprate)\n",
    "    pingdroprate_counts.append(count_pingdroprate)"
   ]
  },
  {
   "cell_type": "code",
   "execution_count": null,
   "metadata": {},
   "outputs": [],
   "source": [
    "ping_counts_dec=[]\n",
    "device_numbers_dec = []\n",
    "pingdroprate_counts_dec = []\n",
    "ping_sent_counts_dec = []\n",
    "for device in device_numbers:\n",
    "    points_ping_counts_dec=result_ping_counts_dec.get_points(tags={'SK_PI':str(device)})\n",
    "    points_pingdroprate_counts_dec=result_pingdroprate_counts_dec.get_points(tags={'SK_PI':str(device)})\n",
    "    point_ping=0\n",
    "    point_pingdroprate=0\n",
    "    for point in points_ping_counts_dec:\n",
    "        point_ping=point['count']\n",
    "    for point in points_pingdroprate_counts_dec:\n",
    "        point_pingdroprate=point['count']\n",
    "    if (point_pingdroprate+point_ping!=0): \n",
    "        device_numbers_dec.append(device)\n",
    "    ping_counts_dec.append(point_pingdroprate+point_ping)\n",
    "    pingdroprate_counts_dec.append(point_pingdroprate)\n",
    "    ping_sent_counts_dec.append(point_ping)\n",
    "#print(\"Devices, that have data in last 4 weeks: \",device_numbers_dec)"
   ]
  },
  {
   "cell_type": "code",
   "execution_count": null,
   "metadata": {},
   "outputs": [],
   "source": [
    "client_df = DataFrameClient(host, port, '', '', dbname)\n",
    "query_upload = \"SELECT * FROM SPEEDTEST_UPLOAD WHERE PROVIDER!='iperf';\"\n",
    "result_upload= client_df.query(query_upload)\n",
    "upload_df = result_upload['SPEEDTEST_UPLOAD']"
   ]
  },
  {
   "cell_type": "code",
   "execution_count": null,
   "metadata": {},
   "outputs": [],
   "source": [
    "upload_df.reset_index(level=0, inplace=True)\n",
    "upload_df['index']=upload_df['index'].dt.strftime('%Y-%m-%d %H:%M:%S')\n",
    "upload_df['index'] = pd.to_datetime(upload_df['index'])\n",
    "upload_df['SK_PI']=pd.to_numeric(upload_df['SK_PI'])\n",
    "upload_df.rename(columns={'index':'time'}, inplace=True)\n",
    "upload_df = upload_df[upload_df.UPLOAD != 0]"
   ]
  },
  {
   "cell_type": "code",
   "execution_count": null,
   "metadata": {},
   "outputs": [],
   "source": [
    "points_by_device=upload_df.groupby(['SK_PI']).size().reset_index(name='counts').sort_values('SK_PI')\n",
    "four_weeks_ago = datetime.date.today() - datetime.timedelta(days=28)\n",
    "upload_df_last4weeks = upload_df[upload_df['time']>four_weeks_ago]\n",
    "points_by_device_las4weeks = upload_df_last4weeks.groupby(['SK_PI']).size().reset_index(name='counts').sort_values('SK_PI')\n",
    "merged_results=pd.merge(points_by_device, points_by_device_las4weeks, on='SK_PI', how='outer')\n",
    "merged_results['counts_y']=merged_results['counts_y'].fillna(0)\n",
    "merged_results['result']=merged_results['counts_x'].sub(merged_results['counts_y'], axis=0)"
   ]
  },
  {
   "cell_type": "markdown",
   "metadata": {},
   "source": [
    "# Part1: Number of data points, device reporting times."
   ]
  },
  {
   "cell_type": "code",
   "execution_count": null,
   "metadata": {},
   "outputs": [],
   "source": [
    "trace1 = go.Bar(\n",
    "            x=device_numbers,\n",
    "            y=ping_counts_dec,\n",
    "            name='Last 4 weeks', \n",
    "            marker=dict(color=colors[1])\n",
    "    )\n",
    "trace2 = go.Bar(\n",
    "            x=device_numbers,\n",
    "            y=[a - b for a, b in zip(ping_counts, ping_counts_dec)],\n",
    "            name='The rest of the time',\n",
    "            marker=dict(color=colors[2])\n",
    "    )\n",
    "\n",
    "trace3 = go.Bar(\n",
    "            x=merged_results[\"SK_PI\"],\n",
    "            y=merged_results[\"counts_y\"],\n",
    "            name='Last 4 weeks',\n",
    "            marker=dict(color=colors[1])\n",
    "    )\n",
    "trace4= go.Bar(\n",
    "            x=merged_results[\"SK_PI\"],\n",
    "            y=merged_results['result'],\n",
    "            name='The rest of the time',\n",
    "            marker=dict(color=colors[2])\n",
    "    )\n",
    "#fig = tools.make_subplots(rows=1, cols=2)#, shared_xaxes=True)\n",
    "#fig.append_trace(trace1, 1,1)\n",
    "#fig.append_trace(trace2, 1,1)\n",
    "#fig.append_trace(trace3, 1,2)\n",
    "#fig.append_trace(trace4, 1,2)\n",
    "#fig['layout'].update(barmode='stack',title=\"Number of datapoints: collectd data on the right, speedtest data on the left\")#, width=1000)\n",
    "data1 = [trace1, trace2]\n",
    "layout1 = go.Layout(\n",
    "        barmode='stack',\n",
    "        title=\"Number of datapoints :collectd\"\n",
    "    )\n",
    "\n",
    "fig1 = go.Figure(data=data1, layout=layout1)\n",
    "iplot(fig1)\n",
    "data2=[trace3, trace4]\n",
    "layout2 = go.Layout(\n",
    "        barmode='stack',\n",
    "        title=\"Number of datapoints :speedtest\"\n",
    "    )\n",
    "\n",
    "fig2 = go.Figure(data=data2, layout=layout2)\n",
    "iplot(fig2)"
   ]
  },
  {
   "cell_type": "code",
   "execution_count": null,
   "metadata": {},
   "outputs": [],
   "source": [
    "query_ping_last = \"SELECT LAST(PING), time FROM PING WHERE PING!=0 OR PING_DROPRATE!=0 GROUP BY SK_PI;\"\n",
    "result_ping_last = client.query(query_ping_last)"
   ]
  },
  {
   "cell_type": "code",
   "execution_count": null,
   "metadata": {},
   "outputs": [],
   "source": [
    "query_ping_first = \"SELECT FIRST(PING), time FROM PING WHERE PING!=0 OR PING_DROPRATE!=0 GROUP BY SK_PI;\"\n",
    "result_ping_first = client.query(query_ping_first)"
   ]
  },
  {
   "cell_type": "code",
   "execution_count": null,
   "metadata": {},
   "outputs": [],
   "source": [
    "data=[]\n",
    "for device in device_numbers:\n",
    "\n",
    "    points_ping_last=result_ping_last.get_points(tags={'SK_PI':str(device)})\n",
    "    points_ping_first=result_ping_first.get_points(tags={'SK_PI':str(device)})\n",
    "    first=0\n",
    "    last=0\n",
    "    for point in points_ping_first:\n",
    "        first=dateutil.parser.parse(point['time']).strftime('%Y-%m-%d %H:%M:%S')\n",
    "    for point in points_ping_last:\n",
    "        last=dateutil.parser.parse(point['time']).strftime('%Y-%m-%d %H:%M:%S')\n",
    "   # print(\"Device: \", device,\"  was reporting from \", first, \" to \", last)\n",
    "    trace = go.Scatter(x=[first,last],y=[device,device], name = str(device),marker=dict(color=colors[device]))\n",
    "    data.append(trace)\n",
    "layout = dict(title = \"Device reporting times - collectd\")\n",
    "fig1 = go.Figure(data=data, layout=layout)\n",
    "iplot(fig1)\n",
    "\n",
    "start_times=upload_df.groupby('SK_PI')['time'].min()\n",
    "end_times=upload_df.groupby('SK_PI')['time'].max()\n",
    "device_numbers=sorted(upload_df['SK_PI'].unique())\n",
    "#print(device_numbers)\n",
    "data=[]\n",
    "for device in device_numbers:\n",
    "    time_last=end_times[device]\n",
    "    time_first=start_times[device]\n",
    "    #print(\"Device: \", device,\"  was reporting from \", time_first, \" to \", time_last)\n",
    "    trace = go.Scatter(x=[time_first,time_last],y=[device,device], name = str(device),marker=dict(color=colors[device]))\n",
    "    data.append(trace)\n",
    "layout = dict(title = \"Device reporting times   - speedtest\")\n",
    "fig2 = go.Figure(data=data, layout=layout)\n",
    "iplot(fig2)"
   ]
  },
  {
   "cell_type": "markdown",
   "metadata": {},
   "source": [
    "## Summary: \n",
    "There are 18 devices set up.     \n",
    "Devices 1,2,4 6,8 started reporting and then stopped.  \n",
    "Device 13 has not sent any speedtest data (sent several collectd data points).\n",
    "Devices 10,13, 14 do not send collectd data but sending speedtest data.  \n",
    "More detailed timeline can be found in [grafana](https://grafana-connectin.cybera.ca)  "
   ]
  },
  {
   "cell_type": "markdown",
   "metadata": {},
   "source": [
    "# Part2: Speedtest statistics  by provider"
   ]
  },
  {
   "cell_type": "code",
   "execution_count": null,
   "metadata": {},
   "outputs": [],
   "source": [
    "providers_per_device = upload_df.groupby('SK_PI').apply(lambda x: x[\"PROVIDER\"].unique()).apply(pd.Series)\n",
    "providers_per_device['provider_count'] = providers_per_device.apply(lambda x: x.count(), axis=1)\n",
    "#providers_per_device.head()\n",
    "provider_counts_per_device = pd.Series(providers_per_device['provider_count']).value_counts().reset_index()\n",
    "#provider_counts_per_device\n",
    "#data = [go.Pie(\n",
    "#            labels=provider_counts_per_device['index'],\n",
    "#            values=provider_counts_per_device[\"provider_count\"],\n",
    "#    )]\n",
    "#layout = go.Layout(\n",
    "#        #barmode='stack',\n",
    "#        title=\"Number of providers per device\"\n",
    "#    )\n",
    "\n",
    "#fig1 = go.Figure(data=data, layout=layout)\n",
    "#iplot(fig1)\n",
    "points_by_device_by_provider=upload_df.groupby(['SK_PI', 'PROVIDER']).size().reset_index()\n",
    "providers=upload_df['PROVIDER'].unique()\n",
    "data=[]\n",
    "i=0\n",
    "for provider in providers:\n",
    "    prov=[]\n",
    "    for device in device_numbers:\n",
    "        by_provider=points_by_device_by_provider.loc[(points_by_device_by_provider['SK_PI']==device)&(points_by_device_by_provider['PROVIDER']==provider)]\n",
    "        if not by_provider.empty:\n",
    "            prov.append(by_provider[0].iloc[0])\n",
    "        else:\n",
    "            prov.append(0)\n",
    "    trace = go.Bar(x=device_numbers,y=prov, name = provider, marker=dict(color=colors[i]))\n",
    "    i=i+1\n",
    "    data.append(trace)\n",
    "    layout = go.Layout(\n",
    "        barmode='stack',\n",
    "        title=\"Number of data points per device per provider\"\n",
    "    )\n",
    "fig2 = go.Figure(data=data, layout=layout)\n",
    "iplot(fig2)"
   ]
  },
  {
   "cell_type": "code",
   "execution_count": null,
   "metadata": {},
   "outputs": [],
   "source": [
    "barplot_averages(upload_df,'UPLOAD',\"Maximum, mean and median upload speed per provider\",index_col='PROVIDER')\n",
    "\n",
    "query_download = \"SELECT * FROM SPEEDTEST_DOWNLOAD WHERE PROVIDER!='iperf';\"\n",
    "result_download= client_df.query(query_download)\n",
    "download_df = result_download['SPEEDTEST_DOWNLOAD']\n",
    "\n",
    "download_df.reset_index(level=0, inplace=True)\n",
    "download_df['index']=download_df['index'].dt.strftime('%Y-%m-%d %H:%M:%S')\n",
    "download_df['index'] = pd.to_datetime(download_df['index'])\n",
    "download_df['SK_PI']=pd.to_numeric(download_df['SK_PI'])\n",
    "\n",
    "download_df.rename(columns={'index':'time'}, inplace=True)\n",
    "download_df = download_df[download_df.DOWNLOAD != 0]\n",
    "\n",
    "\n",
    "barplot_averages(download_df,'DOWNLOAD',\"Maximum, mean and median download speed per provider\", index_col='PROVIDER')\n",
    "\n",
    "query_ping = \"SELECT * FROM SPEEDTEST_PING WHERE PROVIDER!='iperf';\"\n",
    "result_ping= client_df.query(query_ping)\n",
    "ping_df = result_ping['SPEEDTEST_PING']\n",
    "\n",
    "ping_df.reset_index(level=0, inplace=True)\n",
    "ping_df['index']=ping_df['index'].dt.strftime('%Y-%m-%d %H:%M:%S')\n",
    "ping_df['index'] = pd.to_datetime(ping_df['index'])\n",
    "ping_df['SK_PI']=pd.to_numeric(ping_df['SK_PI'])\n",
    "\n",
    "ping_df.rename(columns={'index':'time'}, inplace=True)\n",
    "ping_df = ping_df[ping_df.PING != 1800000.000] ## Removed outier that was found in the ms sql table\n",
    "\n",
    "barplot_averages(ping_df,'PING',\"Maximum, mean and median ping latency per provider\", index_col='PROVIDER')"
   ]
  },
  {
   "cell_type": "markdown",
   "metadata": {},
   "source": [
    "## Summary:\n",
    "There are 10 Internet Service Providers.  \n",
    "Most of the devices have one provider, devices 8 and 14 using 2 providers.Probably moved from one location to another?\n",
    "Multiple devices using Bell and Keewaytinook provider.   \n",
    "The rest of the providers used only by one device.  \n",
    "   \n",
    "For upload speed CRTC target is 50Mbps:  Commstream Communications, MERLIN, Xplornet Communications and Manitoba Hydro International average upload speeds are around or above 50.\n",
    "   \n",
    "For download speed speed CRTC target is 10Mbps. For every provider except Bell MTS and  TeraGo Networks  download speed is above 10.\n",
    "\n",
    "The largest ping latencies are TeraGo Networks,Bell MTS and Cogent Communications."
   ]
  },
  {
   "cell_type": "markdown",
   "metadata": {},
   "source": [
    "# Part3: Speedtest statistics  by test server."
   ]
  },
  {
   "cell_type": "code",
   "execution_count": null,
   "metadata": {},
   "outputs": [],
   "source": [
    "pd.options.mode.chained_assignment = None\n",
    "upload_df[\"server\"] = upload_df[\"TEST_SERVER\"] + \" \" +upload_df[\"PROVINCE\"]\n",
    "test_servers_per_device = upload_df.groupby('SK_PI').apply(lambda x: x['server'].unique()).apply(pd.Series)\n",
    "test_servers_per_device['server_count'] = test_servers_per_device.apply(lambda x: x.count(), axis=1)\n",
    "#print(test_servers_per_device[\"server_count\"].head())\n",
    "test_server_counts_per_device = pd.Series(test_servers_per_device['server_count']).value_counts().reset_index()\n",
    "#print(test_server_counts_per_device)\n",
    "data = [go.Bar(\n",
    "            x=test_servers_per_device.index,\n",
    "            y=test_servers_per_device[\"server_count\"],\n",
    "    )]\n",
    "#data = [go.Pie(\n",
    "#            labels=test_server_counts_per_device['index'],\n",
    "#            values=test_server_counts_per_device[\"server_count\"],\n",
    "#    )]\n",
    "layout = go.Layout(\n",
    "        #barmode='stack',\n",
    "        title=\"Number of test servers per device\"\n",
    "    )\n",
    "\n",
    "fig1 = go.Figure(data=data, layout=layout)\n",
    "#print(points_by_device)\n",
    "iplot(fig1)\n",
    "points_by_device_by_server=upload_df.groupby(['SK_PI', 'server']).size().reset_index()\n",
    "test_servers=upload_df[\"server\"].unique()\n",
    "data=[]\n",
    "i=0\n",
    "for server in test_servers:\n",
    "    serv=[]\n",
    "    for device in device_numbers:\n",
    "        by_server=points_by_device_by_server.loc[(points_by_device_by_server['SK_PI']==device)&(points_by_device_by_server['server']==server)]\n",
    "        if not by_server.empty:\n",
    "            serv.append(by_server[0].iloc[0])\n",
    "        else:\n",
    "            serv.append(0)\n",
    "    trace = go.Bar(x=device_numbers,y=serv, name = server, marker=dict(color=colors[i]))\n",
    "    i=i+1\n",
    "    data.append(trace)\n",
    "    layout = go.Layout(\n",
    "        barmode='stack',\n",
    "        title=\"Number of data points per device per test server\"\n",
    "    )\n",
    "fig2 = go.Figure(data=data, layout=layout)\n",
    "iplot(fig2)"
   ]
  },
  {
   "cell_type": "code",
   "execution_count": null,
   "metadata": {},
   "outputs": [],
   "source": [
    "barplot_averages(upload_df,'UPLOAD',\"Maximum, mean and median upload speed per test server\",index_col='server')\n",
    "download_df[\"server\"] = download_df[\"TEST_SERVER\"] + \" \" +download_df[\"PROVINCE\"]\n",
    "barplot_averages(download_df,'DOWNLOAD',\"Maximum, mean and median download speed per test server\", index_col='server')\n",
    "ping_df[\"server\"] = ping_df[\"TEST_SERVER\"] + \" \" +ping_df[\"PROVINCE\"]\n",
    "barplot_averages(ping_df,'PING',\"Maximum, mean and median ping latency per test server\", index_col='server')"
   ]
  },
  {
   "cell_type": "markdown",
   "metadata": {},
   "source": [
    "## Summary:\n",
    "There are 21 test servers. Devices use 3-9 test servers.   \n",
    "The servers with the highest ypload/download speeds (Axia, Telus, DataHive and Cybera) were actually used by out test device in Cybera office and can be ignored.  \n",
    "From the rest of the test servers only 'Bell Mobility (Winnipeg  MB)', 'VOI Network Solutions (Winnipeg  MB)' and 'SaskTel (Regina  SK)' have average upload speeds abouve 50Mbps.\n",
    " \n",
    " For download speed most of the server have average above 10Mbps (except for 'Morenet (Morden  MB)', 'Swift High Speed.com (Winnipeg  MB)','Midco (Minot  ND)', 'Access Communications Co-operative Limited (Regina  SK)' and 'Rogers (Winnipeg  MB)')."
   ]
  },
  {
   "cell_type": "markdown",
   "metadata": {},
   "source": [
    " # Part4: statistics by device"
   ]
  },
  {
   "cell_type": "code",
   "execution_count": null,
   "metadata": {},
   "outputs": [],
   "source": [
    "query_ping_max_dec = \"SELECT MAX(PING), MEAN(PING), MEDIAN(PING) FROM PING WHERE PING!=0  GROUP BY SK_PI;\"\n",
    "result_ping_max_dec = client.query(query_ping_max_dec)"
   ]
  },
  {
   "cell_type": "code",
   "execution_count": null,
   "metadata": {},
   "outputs": [],
   "source": [
    "device_max_dec=[]\n",
    "device_mean_dec = []\n",
    "device_median_dec = []\n",
    "for device in device_numbers:\n",
    "    points_max_dec=result_ping_max_dec.get_points(tags={'SK_PI':str(device)})\n",
    "    for point in points_max_dec:\n",
    "        device_median_dec.append(point['median'])\n",
    "        device_max_dec.append(point['max'])\n",
    "        device_mean_dec.append(point['mean'])"
   ]
  },
  {
   "cell_type": "code",
   "execution_count": null,
   "metadata": {},
   "outputs": [],
   "source": [
    "#trace1 = go.Bar(\n",
    "#            x=device_numbers,\n",
    "#            y=device_mean_dec,\n",
    "#            name='Mean',\n",
    "#    )\n",
    "#trace2 = go.Bar(\n",
    "#            x=device_numbers,\n",
    "#            y=device_max_dec,\n",
    "#            name='Max',\n",
    "#    \n",
    "#    )\n",
    "#trace3 = go.Bar(\n",
    "#            x=device_numbers,\n",
    "#            y=device_median_dec,\n",
    "#            name='Median',\n",
    "#    \n",
    "#    )\n",
    "#data = [trace1, trace2, trace3]\n",
    "#layout = go.Layout(\n",
    "#       # barmode='stack',\n",
    "#        title=\"Collectd: Maximum, mean and median ping latency per device\"\n",
    "#    )\n",
    "#\n",
    "#fig1 = go.Figure(data=data, layout=layout)\n",
    "#iplot(fig1)\n",
    "#ping_df1=ping_df.loc[ping_df['PROVIDER']!='iperf']\n",
    "#barplot_averages(ping_df,'PING',\"Sppedtest: Maximum, mean and median ping latency per device\")"
   ]
  },
  {
   "cell_type": "code",
   "execution_count": null,
   "metadata": {},
   "outputs": [],
   "source": [
    "#download_df1=download_df.loc[download_df['PROVIDER']!='iperf']\n",
    "#upload_df1=upload_df.loc[upload_df['PROVIDER']!='iperf']\n",
    "#barplot_averages(download_df,'DOWNLOAD',\"Maximum, mean and median download speed per device\")\n",
    "#barplot_averages(upload_df,'UPLOAD',\"Maximum, mean and median upload speed per device\")\n",
    "data1=[]\n",
    "for device in device_numbers:\n",
    "    trace=go.Violin(\n",
    "    y=download_df.loc[download_df['SK_PI']==device]['DOWNLOAD'], name=device, marker=dict(color=colors[device])\n",
    ")\n",
    "    data1.append(trace)\n",
    "#data1.append(go.Scatter(x=list(range(20)),y=[10] * 20, mode='lines',marker=dict(color='red'), name='10Mps'))\n",
    "layout1 = go.Layout(\n",
    "            title=\"Download speed per device\"\n",
    "        )\n",
    "\n",
    "fig1 = go.Figure(data=data1, layout=layout1)\n",
    "iplot(fig1)\n",
    "\n",
    "data2=[]\n",
    "for device in device_numbers:\n",
    "    trace=go.Violin(\n",
    "    y=upload_df.loc[upload_df['SK_PI']==device]['UPLOAD'], name=device, marker=dict(color=colors[device])\n",
    ")\n",
    "    data2.append(trace)\n",
    "#data2.append(go.Scatter(x=list(range(20)),y=[50] * 20, mode='lines',marker=dict(color='red'), name='50Mps'))\n",
    "layout2 = go.Layout(\n",
    "            title=\"Upload speed per device\"\n",
    "        )\n",
    "\n",
    "fig = go.Figure(data=data2, layout=layout2)\n",
    "iplot(fig)\n",
    "\n",
    "data3=[]\n",
    "for device in device_numbers:\n",
    "    trace=go.Violin(\n",
    "    y=ping_df.loc[ping_df['SK_PI']==device]['PING'], name=device,marker=dict(color=colors[device])\n",
    ")\n",
    "    data3.append(trace)\n",
    "\n",
    "layout3 = go.Layout(\n",
    "            title=\"Ping latency per device\"\n",
    "        )\n",
    "\n",
    "fig = go.Figure(data=data3, layout=layout3)\n",
    "iplot(fig)"
   ]
  },
  {
   "cell_type": "code",
   "execution_count": null,
   "metadata": {},
   "outputs": [],
   "source": []
  }
 ],
 "metadata": {
  "kernelspec": {
   "display_name": "Python 3",
   "language": "python",
   "name": "python3"
  },
  "language_info": {
   "codemirror_mode": {
    "name": "ipython",
    "version": 3
   },
   "file_extension": ".py",
   "mimetype": "text/x-python",
   "name": "python",
   "nbconvert_exporter": "python",
   "pygments_lexer": "ipython3",
   "version": "3.7.0"
  },
  "nbTranslate": {
   "displayLangs": [
    "*"
   ],
   "hotkey": "alt-t",
   "langInMainMenu": true,
   "sourceLang": "en",
   "targetLang": "fr",
   "useGoogleTranslate": true
  }
 },
 "nbformat": 4,
 "nbformat_minor": 2
}
