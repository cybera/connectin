{
 "cells": [
  {
   "cell_type": "markdown",
   "metadata": {},
   "source": [
    "# Speedtest statistics"
   ]
  },
  {
   "cell_type": "markdown",
   "metadata": {},
   "source": [
    "### How data is  collected"
   ]
  },
  {
   "cell_type": "markdown",
   "metadata": {},
   "source": [
    "Running speedtest application (?) similar to speedtest.net Calculating upload, download speed + png latency"
   ]
  },
  {
   "cell_type": "markdown",
   "metadata": {},
   "source": [
    "### How data looks like\n",
    "Load libraries:"
   ]
  },
  {
   "cell_type": "code",
   "execution_count": 1,
   "metadata": {},
   "outputs": [
    {
     "data": {
      "text/html": [
       "<script>requirejs.config({paths: { 'plotly': ['https://cdn.plot.ly/plotly-latest.min']},});if(!window.Plotly) {{require(['plotly'],function(plotly) {window.Plotly=plotly;});}}</script>"
      ],
      "text/vnd.plotly.v1+html": [
       "<script>requirejs.config({paths: { 'plotly': ['https://cdn.plot.ly/plotly-latest.min']},});if(!window.Plotly) {{require(['plotly'],function(plotly) {window.Plotly=plotly;});}}</script>"
      ]
     },
     "metadata": {},
     "output_type": "display_data"
    }
   ],
   "source": [
    "from influxdb import DataFrameClient\n",
    "from influxdb import InfluxDBClient\n",
    "import json\n",
    "import pandas as pd\n",
    "\n",
    "import datetime \n",
    "from plotly.offline import init_notebook_mode, iplot\n",
    "import plotly.graph_objs as go\n",
    "import plotly.plotly as py\n",
    "from plotly import tools\n",
    "init_notebook_mode(connected=True)"
   ]
  },
  {
   "cell_type": "markdown",
   "metadata": {},
   "source": [
    "Read credentials:"
   ]
  },
  {
   "cell_type": "code",
   "execution_count": 2,
   "metadata": {
    "collapsed": true
   },
   "outputs": [],
   "source": [
    "with open('../credentials.json', 'r') as f_credentials:\n",
    "    credentials_config = json.load(f_credentials)"
   ]
  },
  {
   "cell_type": "markdown",
   "metadata": {},
   "source": [
    "Set up influxdb connection:"
   ]
  },
  {
   "cell_type": "code",
   "execution_count": 3,
   "metadata": {
    "collapsed": true
   },
   "outputs": [],
   "source": [
    "host=credentials_config['influxdb_host']\n",
    "port=8086\n",
    "dbname = 'net_speed_md'\n",
    "client = InfluxDBClient(host, port, '', '', dbname)"
   ]
  },
  {
   "cell_type": "markdown",
   "metadata": {},
   "source": [
    "Read all the data into pandas dataframe:"
   ]
  },
  {
   "cell_type": "code",
   "execution_count": 4,
   "metadata": {},
   "outputs": [
    {
     "data": {
      "text/html": [
       "<div>\n",
       "<style>\n",
       "    .dataframe thead tr:only-child th {\n",
       "        text-align: right;\n",
       "    }\n",
       "\n",
       "    .dataframe thead th {\n",
       "        text-align: left;\n",
       "    }\n",
       "\n",
       "    .dataframe tbody tr th {\n",
       "        vertical-align: top;\n",
       "    }\n",
       "</style>\n",
       "<table border=\"1\" class=\"dataframe\">\n",
       "  <thead>\n",
       "    <tr style=\"text-align: right;\">\n",
       "      <th></th>\n",
       "      <th>IP</th>\n",
       "      <th>PI_MAC</th>\n",
       "      <th>PROVIDER</th>\n",
       "      <th>PROVINCE</th>\n",
       "      <th>SK_PI</th>\n",
       "      <th>TEST_SERVER</th>\n",
       "      <th>UPLOAD</th>\n",
       "    </tr>\n",
       "  </thead>\n",
       "  <tbody>\n",
       "    <tr>\n",
       "      <th>2018-10-10 15:45:43.343000064+00:00</th>\n",
       "      <td>204.112.96.66</td>\n",
       "      <td>02-d1-08-c2-95-9b</td>\n",
       "      <td>Bell MTS</td>\n",
       "      <td>MB)</td>\n",
       "      <td>1</td>\n",
       "      <td>Shaw Communications (Winnipeg</td>\n",
       "      <td>0.47</td>\n",
       "    </tr>\n",
       "    <tr>\n",
       "      <th>2018-10-10 15:51:04.663000064+00:00</th>\n",
       "      <td>204.112.96.66</td>\n",
       "      <td>02-d1-08-c2-95-9b</td>\n",
       "      <td>Bell MTS</td>\n",
       "      <td>MB)</td>\n",
       "      <td>1</td>\n",
       "      <td>Shaw Communications (Winnipeg</td>\n",
       "      <td>0.35</td>\n",
       "    </tr>\n",
       "    <tr>\n",
       "      <th>2018-10-10 18:40:35.836999936+00:00</th>\n",
       "      <td>204.112.96.66</td>\n",
       "      <td>02-d1-08-c2-95-9b</td>\n",
       "      <td>Bell MTS</td>\n",
       "      <td>MB)</td>\n",
       "      <td>1</td>\n",
       "      <td>Rogers (Winnipeg</td>\n",
       "      <td>0.29</td>\n",
       "    </tr>\n",
       "    <tr>\n",
       "      <th>2018-10-10 22:38:54.132999936+00:00</th>\n",
       "      <td>204.112.96.66</td>\n",
       "      <td>02-d1-08-c2-95-9b</td>\n",
       "      <td>iperf</td>\n",
       "      <td>iperf</td>\n",
       "      <td>1</td>\n",
       "      <td>clearskystatus.info</td>\n",
       "      <td>698.00</td>\n",
       "    </tr>\n",
       "    <tr>\n",
       "      <th>2018-10-10 22:52:08.927000064+00:00</th>\n",
       "      <td>204.112.96.66</td>\n",
       "      <td>02-d1-08-c2-95-9b</td>\n",
       "      <td>iperf</td>\n",
       "      <td>iperf</td>\n",
       "      <td>1</td>\n",
       "      <td>clearskystatus.info</td>\n",
       "      <td>656.00</td>\n",
       "    </tr>\n",
       "  </tbody>\n",
       "</table>\n",
       "</div>"
      ],
      "text/plain": [
       "                                                IP             PI_MAC  \\\n",
       "2018-10-10 15:45:43.343000064+00:00  204.112.96.66  02-d1-08-c2-95-9b   \n",
       "2018-10-10 15:51:04.663000064+00:00  204.112.96.66  02-d1-08-c2-95-9b   \n",
       "2018-10-10 18:40:35.836999936+00:00  204.112.96.66  02-d1-08-c2-95-9b   \n",
       "2018-10-10 22:38:54.132999936+00:00  204.112.96.66  02-d1-08-c2-95-9b   \n",
       "2018-10-10 22:52:08.927000064+00:00  204.112.96.66  02-d1-08-c2-95-9b   \n",
       "\n",
       "                                     PROVIDER PROVINCE SK_PI  \\\n",
       "2018-10-10 15:45:43.343000064+00:00  Bell MTS      MB)     1   \n",
       "2018-10-10 15:51:04.663000064+00:00  Bell MTS      MB)     1   \n",
       "2018-10-10 18:40:35.836999936+00:00  Bell MTS      MB)     1   \n",
       "2018-10-10 22:38:54.132999936+00:00     iperf    iperf     1   \n",
       "2018-10-10 22:52:08.927000064+00:00     iperf    iperf     1   \n",
       "\n",
       "                                                       TEST_SERVER  UPLOAD  \n",
       "2018-10-10 15:45:43.343000064+00:00  Shaw Communications (Winnipeg    0.47  \n",
       "2018-10-10 15:51:04.663000064+00:00  Shaw Communications (Winnipeg    0.35  \n",
       "2018-10-10 18:40:35.836999936+00:00               Rogers (Winnipeg    0.29  \n",
       "2018-10-10 22:38:54.132999936+00:00            clearskystatus.info  698.00  \n",
       "2018-10-10 22:52:08.927000064+00:00            clearskystatus.info  656.00  "
      ]
     },
     "execution_count": 4,
     "metadata": {},
     "output_type": "execute_result"
    }
   ],
   "source": [
    "client = DataFrameClient(host, port, '', '', dbname)\n",
    "query_upload = 'SELECT * FROM SPEEDTEST_UPLOAD;'\n",
    "result_upload= client.query(query_upload)\n",
    "upload_df = result_upload['SPEEDTEST_UPLOAD']\n",
    "upload_df.head()"
   ]
  },
  {
   "cell_type": "markdown",
   "metadata": {},
   "source": [
    "It's indexed by time, lets reset index and convert time to different format(remove miliseconds)"
   ]
  },
  {
   "cell_type": "code",
   "execution_count": 5,
   "metadata": {},
   "outputs": [
    {
     "data": {
      "text/html": [
       "<div>\n",
       "<style>\n",
       "    .dataframe thead tr:only-child th {\n",
       "        text-align: right;\n",
       "    }\n",
       "\n",
       "    .dataframe thead th {\n",
       "        text-align: left;\n",
       "    }\n",
       "\n",
       "    .dataframe tbody tr th {\n",
       "        vertical-align: top;\n",
       "    }\n",
       "</style>\n",
       "<table border=\"1\" class=\"dataframe\">\n",
       "  <thead>\n",
       "    <tr style=\"text-align: right;\">\n",
       "      <th></th>\n",
       "      <th>time</th>\n",
       "      <th>IP</th>\n",
       "      <th>PI_MAC</th>\n",
       "      <th>PROVIDER</th>\n",
       "      <th>PROVINCE</th>\n",
       "      <th>SK_PI</th>\n",
       "      <th>TEST_SERVER</th>\n",
       "      <th>UPLOAD</th>\n",
       "    </tr>\n",
       "  </thead>\n",
       "  <tbody>\n",
       "    <tr>\n",
       "      <th>0</th>\n",
       "      <td>2018-10-10 15:45:43</td>\n",
       "      <td>204.112.96.66</td>\n",
       "      <td>02-d1-08-c2-95-9b</td>\n",
       "      <td>Bell MTS</td>\n",
       "      <td>MB)</td>\n",
       "      <td>1</td>\n",
       "      <td>Shaw Communications (Winnipeg</td>\n",
       "      <td>0.47</td>\n",
       "    </tr>\n",
       "    <tr>\n",
       "      <th>1</th>\n",
       "      <td>2018-10-10 15:51:04</td>\n",
       "      <td>204.112.96.66</td>\n",
       "      <td>02-d1-08-c2-95-9b</td>\n",
       "      <td>Bell MTS</td>\n",
       "      <td>MB)</td>\n",
       "      <td>1</td>\n",
       "      <td>Shaw Communications (Winnipeg</td>\n",
       "      <td>0.35</td>\n",
       "    </tr>\n",
       "    <tr>\n",
       "      <th>2</th>\n",
       "      <td>2018-10-10 18:40:35</td>\n",
       "      <td>204.112.96.66</td>\n",
       "      <td>02-d1-08-c2-95-9b</td>\n",
       "      <td>Bell MTS</td>\n",
       "      <td>MB)</td>\n",
       "      <td>1</td>\n",
       "      <td>Rogers (Winnipeg</td>\n",
       "      <td>0.29</td>\n",
       "    </tr>\n",
       "    <tr>\n",
       "      <th>3</th>\n",
       "      <td>2018-10-10 22:38:54</td>\n",
       "      <td>204.112.96.66</td>\n",
       "      <td>02-d1-08-c2-95-9b</td>\n",
       "      <td>iperf</td>\n",
       "      <td>iperf</td>\n",
       "      <td>1</td>\n",
       "      <td>clearskystatus.info</td>\n",
       "      <td>698.00</td>\n",
       "    </tr>\n",
       "    <tr>\n",
       "      <th>4</th>\n",
       "      <td>2018-10-10 22:52:08</td>\n",
       "      <td>204.112.96.66</td>\n",
       "      <td>02-d1-08-c2-95-9b</td>\n",
       "      <td>iperf</td>\n",
       "      <td>iperf</td>\n",
       "      <td>1</td>\n",
       "      <td>clearskystatus.info</td>\n",
       "      <td>656.00</td>\n",
       "    </tr>\n",
       "  </tbody>\n",
       "</table>\n",
       "</div>"
      ],
      "text/plain": [
       "                 time             IP             PI_MAC  PROVIDER PROVINCE  \\\n",
       "0 2018-10-10 15:45:43  204.112.96.66  02-d1-08-c2-95-9b  Bell MTS      MB)   \n",
       "1 2018-10-10 15:51:04  204.112.96.66  02-d1-08-c2-95-9b  Bell MTS      MB)   \n",
       "2 2018-10-10 18:40:35  204.112.96.66  02-d1-08-c2-95-9b  Bell MTS      MB)   \n",
       "3 2018-10-10 22:38:54  204.112.96.66  02-d1-08-c2-95-9b     iperf    iperf   \n",
       "4 2018-10-10 22:52:08  204.112.96.66  02-d1-08-c2-95-9b     iperf    iperf   \n",
       "\n",
       "   SK_PI                    TEST_SERVER  UPLOAD  \n",
       "0      1  Shaw Communications (Winnipeg    0.47  \n",
       "1      1  Shaw Communications (Winnipeg    0.35  \n",
       "2      1               Rogers (Winnipeg    0.29  \n",
       "3      1            clearskystatus.info  698.00  \n",
       "4      1            clearskystatus.info  656.00  "
      ]
     },
     "execution_count": 5,
     "metadata": {},
     "output_type": "execute_result"
    }
   ],
   "source": [
    "upload_df.reset_index(level=0, inplace=True)\n",
    "upload_df['index']=upload_df['index'].dt.strftime('%Y-%m-%d %H:%M:%S')\n",
    "upload_df['index'] = pd.to_datetime(upload_df['index'])\n",
    "upload_df['SK_PI']=pd.to_numeric(upload_df['SK_PI'])\n",
    "upload_df.rename(columns={'index':'time'}, inplace=True)\n",
    "upload_df.head()"
   ]
  },
  {
   "cell_type": "markdown",
   "metadata": {
    "collapsed": true
   },
   "source": [
    "How much data do we have:"
   ]
  },
  {
   "cell_type": "code",
   "execution_count": 6,
   "metadata": {},
   "outputs": [
    {
     "data": {
      "text/plain": [
       "(3504, 8)"
      ]
     },
     "execution_count": 6,
     "metadata": {},
     "output_type": "execute_result"
    }
   ],
   "source": [
    "upload_df.shape"
   ]
  },
  {
   "cell_type": "markdown",
   "metadata": {},
   "source": [
    "Are there any zeros in Upload speed colum and do they come from NaNs in the original table?"
   ]
  },
  {
   "cell_type": "code",
   "execution_count": 7,
   "metadata": {},
   "outputs": [
    {
     "data": {
      "text/html": [
       "<div>\n",
       "<style>\n",
       "    .dataframe thead tr:only-child th {\n",
       "        text-align: right;\n",
       "    }\n",
       "\n",
       "    .dataframe thead th {\n",
       "        text-align: left;\n",
       "    }\n",
       "\n",
       "    .dataframe tbody tr th {\n",
       "        vertical-align: top;\n",
       "    }\n",
       "</style>\n",
       "<table border=\"1\" class=\"dataframe\">\n",
       "  <thead>\n",
       "    <tr style=\"text-align: right;\">\n",
       "      <th></th>\n",
       "      <th>time</th>\n",
       "      <th>IP</th>\n",
       "      <th>PI_MAC</th>\n",
       "      <th>PROVIDER</th>\n",
       "      <th>PROVINCE</th>\n",
       "      <th>SK_PI</th>\n",
       "      <th>TEST_SERVER</th>\n",
       "      <th>UPLOAD</th>\n",
       "    </tr>\n",
       "  </thead>\n",
       "  <tbody>\n",
       "    <tr>\n",
       "      <th>914</th>\n",
       "      <td>2018-11-24 21:36:08</td>\n",
       "      <td>204.112.96.94</td>\n",
       "      <td>02-cd-05-c1-92-3f</td>\n",
       "      <td>Bell MTS</td>\n",
       "      <td>MB)</td>\n",
       "      <td>4</td>\n",
       "      <td>Voyageur Internet (Winnipeg</td>\n",
       "      <td>0.0</td>\n",
       "    </tr>\n",
       "    <tr>\n",
       "      <th>1061</th>\n",
       "      <td>2018-11-30 14:30:05</td>\n",
       "      <td>204.112.96.94</td>\n",
       "      <td>02-cd-05-c1-92-3f</td>\n",
       "      <td>Bell MTS</td>\n",
       "      <td>MB)</td>\n",
       "      <td>4</td>\n",
       "      <td>Shaw Communications (Winnipeg</td>\n",
       "      <td>0.0</td>\n",
       "    </tr>\n",
       "    <tr>\n",
       "      <th>1759</th>\n",
       "      <td>2018-12-13 20:42:03</td>\n",
       "      <td>204.112.96.66</td>\n",
       "      <td>02-07-06-80-d4-7c</td>\n",
       "      <td>Bell MTS</td>\n",
       "      <td>MB)</td>\n",
       "      <td>7</td>\n",
       "      <td>Commstream Communications (Winnipeg</td>\n",
       "      <td>0.0</td>\n",
       "    </tr>\n",
       "  </tbody>\n",
       "</table>\n",
       "</div>"
      ],
      "text/plain": [
       "                    time             IP             PI_MAC  PROVIDER PROVINCE  \\\n",
       "914  2018-11-24 21:36:08  204.112.96.94  02-cd-05-c1-92-3f  Bell MTS      MB)   \n",
       "1061 2018-11-30 14:30:05  204.112.96.94  02-cd-05-c1-92-3f  Bell MTS      MB)   \n",
       "1759 2018-12-13 20:42:03  204.112.96.66  02-07-06-80-d4-7c  Bell MTS      MB)   \n",
       "\n",
       "      SK_PI                          TEST_SERVER  UPLOAD  \n",
       "914       4          Voyageur Internet (Winnipeg     0.0  \n",
       "1061      4        Shaw Communications (Winnipeg     0.0  \n",
       "1759      7  Commstream Communications (Winnipeg     0.0  "
      ]
     },
     "execution_count": 7,
     "metadata": {},
     "output_type": "execute_result"
    }
   ],
   "source": [
    "mylist=['UPLOAD']\n",
    "upload_df[upload_df[mylist].eq(0).all(1)]"
   ]
  },
  {
   "cell_type": "code",
   "execution_count": 8,
   "metadata": {},
   "outputs": [
    {
     "data": {
      "text/html": [
       "<div>\n",
       "<style>\n",
       "    .dataframe thead tr:only-child th {\n",
       "        text-align: right;\n",
       "    }\n",
       "\n",
       "    .dataframe thead th {\n",
       "        text-align: left;\n",
       "    }\n",
       "\n",
       "    .dataframe tbody tr th {\n",
       "        vertical-align: top;\n",
       "    }\n",
       "</style>\n",
       "<table border=\"1\" class=\"dataframe\">\n",
       "  <thead>\n",
       "    <tr style=\"text-align: right;\">\n",
       "      <th></th>\n",
       "      <th>SK_PI</th>\n",
       "      <th>SK_FILE_PATTERN</th>\n",
       "      <th>DATA_DATE</th>\n",
       "      <th>PROVIDER</th>\n",
       "      <th>IP</th>\n",
       "      <th>TEST_SERVER</th>\n",
       "      <th>PROVINCE</th>\n",
       "      <th>PING</th>\n",
       "      <th>DOWNLOAD</th>\n",
       "      <th>UPLOAD</th>\n",
       "    </tr>\n",
       "  </thead>\n",
       "  <tbody>\n",
       "    <tr>\n",
       "      <th>0</th>\n",
       "      <td>7</td>\n",
       "      <td>19</td>\n",
       "      <td>2018-12-13 20:42:03.723</td>\n",
       "      <td>Bell MTS</td>\n",
       "      <td>204.112.96.66</td>\n",
       "      <td>Commstream Communications (Winnipeg</td>\n",
       "      <td>MB)</td>\n",
       "      <td>1800000.000</td>\n",
       "      <td>0.00</td>\n",
       "      <td>0.00</td>\n",
       "    </tr>\n",
       "    <tr>\n",
       "      <th>1</th>\n",
       "      <td>4</td>\n",
       "      <td>19</td>\n",
       "      <td>2018-11-24 21:36:08.367</td>\n",
       "      <td>Bell MTS</td>\n",
       "      <td>204.112.96.94</td>\n",
       "      <td>Voyageur Internet (Winnipeg</td>\n",
       "      <td>MB)</td>\n",
       "      <td>67.381</td>\n",
       "      <td>1.19</td>\n",
       "      <td>0.00</td>\n",
       "    </tr>\n",
       "    <tr>\n",
       "      <th>2</th>\n",
       "      <td>4</td>\n",
       "      <td>19</td>\n",
       "      <td>2018-11-27 05:06:15.177</td>\n",
       "      <td>Bell MTS</td>\n",
       "      <td>204.112.96.94</td>\n",
       "      <td>Shaw Communications (Winnipeg</td>\n",
       "      <td>MB)</td>\n",
       "      <td>68.232</td>\n",
       "      <td>0.00</td>\n",
       "      <td>0.65</td>\n",
       "    </tr>\n",
       "    <tr>\n",
       "      <th>3</th>\n",
       "      <td>4</td>\n",
       "      <td>19</td>\n",
       "      <td>2018-11-30 14:30:05.207</td>\n",
       "      <td>Bell MTS</td>\n",
       "      <td>204.112.96.94</td>\n",
       "      <td>Shaw Communications (Winnipeg</td>\n",
       "      <td>MB)</td>\n",
       "      <td>78.877</td>\n",
       "      <td>1.01</td>\n",
       "      <td>0.00</td>\n",
       "    </tr>\n",
       "  </tbody>\n",
       "</table>\n",
       "</div>"
      ],
      "text/plain": [
       "   SK_PI  SK_FILE_PATTERN               DATA_DATE  PROVIDER             IP  \\\n",
       "0      7               19 2018-12-13 20:42:03.723  Bell MTS  204.112.96.66   \n",
       "1      4               19 2018-11-24 21:36:08.367  Bell MTS  204.112.96.94   \n",
       "2      4               19 2018-11-27 05:06:15.177  Bell MTS  204.112.96.94   \n",
       "3      4               19 2018-11-30 14:30:05.207  Bell MTS  204.112.96.94   \n",
       "\n",
       "                           TEST_SERVER PROVINCE         PING  DOWNLOAD  UPLOAD  \n",
       "0  Commstream Communications (Winnipeg      MB)  1800000.000      0.00    0.00  \n",
       "1          Voyageur Internet (Winnipeg      MB)       67.381      1.19    0.00  \n",
       "2        Shaw Communications (Winnipeg      MB)       68.232      0.00    0.65  \n",
       "3        Shaw Communications (Winnipeg      MB)       78.877      1.01    0.00  "
      ]
     },
     "execution_count": 8,
     "metadata": {},
     "output_type": "execute_result"
    }
   ],
   "source": [
    "import pyodbc\n",
    "password=credentials_config['mssql_password']\n",
    "srv=credentials_config['mssql_host']\n",
    "cnxn = pyodbc.connect(driver='/usr/local/lib/libtdsodbc.so', server=srv,port='1433', database='net_speed_md', uid='cybera_sql', pwd=password)\n",
    "sql = \"SELECT TOP 10 * FROM FCT_SPEEDTEST WHERE UPLOAD='0'OR DOWNLOAD='0' OR PING='0';\"\n",
    "data = pd.read_sql(sql,cnxn)\n",
    "data"
   ]
  },
  {
   "cell_type": "markdown",
   "metadata": {},
   "source": [
    "Something is possibly wrong with these measurments, we wille exclude them for now:"
   ]
  },
  {
   "cell_type": "code",
   "execution_count": 9,
   "metadata": {},
   "outputs": [
    {
     "data": {
      "text/plain": [
       "(3501, 8)"
      ]
     },
     "execution_count": 9,
     "metadata": {},
     "output_type": "execute_result"
    }
   ],
   "source": [
    "upload_df = upload_df[upload_df.UPLOAD != 0]\n",
    "upload_df.shape"
   ]
  },
  {
   "cell_type": "code",
   "execution_count": 10,
   "metadata": {
    "collapsed": true
   },
   "outputs": [],
   "source": [
    "#upload_df.describe(include='all')"
   ]
  },
  {
   "cell_type": "markdown",
   "metadata": {},
   "source": [
    "### How may data points per device?"
   ]
  },
  {
   "cell_type": "code",
   "execution_count": 11,
   "metadata": {},
   "outputs": [
    {
     "data": {
      "application/vnd.plotly.v1+json": {
       "data": [
        {
         "type": "bar",
         "x": [
          1,
          2,
          3,
          4,
          5,
          6,
          7,
          8,
          9,
          10,
          11,
          12,
          14,
          15,
          16,
          17,
          18
         ],
         "y": [
          10,
          240,
          287,
          287,
          542,
          32,
          352,
          23,
          243,
          157,
          229,
          240,
          203,
          203,
          183,
          151,
          119
         ]
        }
       ],
       "layout": {
        "barmode": "stack",
        "title": "Number of data points per device"
       }
      },
      "text/html": [
       "<div id=\"16005568-3e36-49ef-9153-ca81f0db6863\" style=\"height: 525px; width: 100%;\" class=\"plotly-graph-div\"></div><script type=\"text/javascript\">require([\"plotly\"], function(Plotly) { window.PLOTLYENV=window.PLOTLYENV || {};window.PLOTLYENV.BASE_URL=\"https://plot.ly\";Plotly.newPlot(\"16005568-3e36-49ef-9153-ca81f0db6863\", [{\"type\": \"bar\", \"x\": [1, 2, 3, 4, 5, 6, 7, 8, 9, 10, 11, 12, 14, 15, 16, 17, 18], \"y\": [10, 240, 287, 287, 542, 32, 352, 23, 243, 157, 229, 240, 203, 203, 183, 151, 119]}], {\"barmode\": \"stack\", \"title\": \"Number of data points per device\"}, {\"showLink\": true, \"linkText\": \"Export to plot.ly\"})});</script>"
      ],
      "text/vnd.plotly.v1+html": [
       "<div id=\"16005568-3e36-49ef-9153-ca81f0db6863\" style=\"height: 525px; width: 100%;\" class=\"plotly-graph-div\"></div><script type=\"text/javascript\">require([\"plotly\"], function(Plotly) { window.PLOTLYENV=window.PLOTLYENV || {};window.PLOTLYENV.BASE_URL=\"https://plot.ly\";Plotly.newPlot(\"16005568-3e36-49ef-9153-ca81f0db6863\", [{\"type\": \"bar\", \"x\": [1, 2, 3, 4, 5, 6, 7, 8, 9, 10, 11, 12, 14, 15, 16, 17, 18], \"y\": [10, 240, 287, 287, 542, 32, 352, 23, 243, 157, 229, 240, 203, 203, 183, 151, 119]}], {\"barmode\": \"stack\", \"title\": \"Number of data points per device\"}, {\"showLink\": true, \"linkText\": \"Export to plot.ly\"})});</script>"
      ]
     },
     "metadata": {},
     "output_type": "display_data"
    }
   ],
   "source": [
    "points_by_device=upload_df.groupby(['SK_PI']).size().reset_index(name='counts').sort_values('SK_PI')\n",
    "data = [go.Bar(\n",
    "            x=points_by_device[\"SK_PI\"],\n",
    "            y=points_by_device[\"counts\"],\n",
    "    )]\n",
    "\n",
    "layout = go.Layout(\n",
    "        barmode='stack',\n",
    "        title=\"Number of data points per device\"\n",
    "    )\n",
    "\n",
    "fig = go.Figure(data=data, layout=layout)\n",
    "#print(points_by_device)\n",
    "iplot(fig)"
   ]
  },
  {
   "cell_type": "markdown",
   "metadata": {},
   "source": [
    "Device 13 doesn to have any speedtest data?"
   ]
  },
  {
   "cell_type": "markdown",
   "metadata": {},
   "source": [
    "#### How many datapoints in the last 4 weeks?"
   ]
  },
  {
   "cell_type": "code",
   "execution_count": 12,
   "metadata": {
    "collapsed": true
   },
   "outputs": [],
   "source": [
    "four_weeks_ago = datetime.date.today() - datetime.timedelta(days=28)\n",
    "upload_df_last4weeks = upload_df[upload_df['time']>four_weeks_ago]\n",
    "points_by_device_las4weeks = upload_df_last4weeks.groupby(['SK_PI']).size().reset_index(name='counts').sort_values('SK_PI')\n",
    "merged_results=pd.merge(points_by_device, points_by_device_las4weeks, on='SK_PI', how='outer')\n",
    "merged_results['counts_y']=merged_results['counts_y'].fillna(0)\n",
    "merged_results['result']=merged_results['counts_x'].sub(merged_results['counts_y'], axis=0)"
   ]
  },
  {
   "cell_type": "code",
   "execution_count": 13,
   "metadata": {},
   "outputs": [
    {
     "data": {
      "application/vnd.plotly.v1+json": {
       "data": [
        {
         "name": "Last 4 weeks",
         "type": "bar",
         "x": [
          1,
          2,
          3,
          4,
          5,
          6,
          7,
          8,
          9,
          10,
          11,
          12,
          14,
          15,
          16,
          17,
          18
         ],
         "y": [
          0,
          0,
          176,
          0,
          176,
          0,
          137,
          0,
          176,
          157,
          167,
          176,
          175,
          176,
          165,
          151,
          119
         ]
        },
        {
         "name": "The rest of the time",
         "type": "bar",
         "x": [
          1,
          2,
          3,
          4,
          5,
          6,
          7,
          8,
          9,
          10,
          11,
          12,
          14,
          15,
          16,
          17,
          18
         ],
         "y": [
          10,
          240,
          111,
          287,
          366,
          32,
          215,
          23,
          67,
          0,
          62,
          64,
          28,
          27,
          18,
          0,
          0
         ]
        }
       ],
       "layout": {
        "barmode": "stack",
        "title": "Number of data points per device: last 4 weeks vs entire time"
       }
      },
      "text/html": [
       "<div id=\"36742555-cb6d-455e-91bf-82534214f554\" style=\"height: 525px; width: 100%;\" class=\"plotly-graph-div\"></div><script type=\"text/javascript\">require([\"plotly\"], function(Plotly) { window.PLOTLYENV=window.PLOTLYENV || {};window.PLOTLYENV.BASE_URL=\"https://plot.ly\";Plotly.newPlot(\"36742555-cb6d-455e-91bf-82534214f554\", [{\"type\": \"bar\", \"x\": [1, 2, 3, 4, 5, 6, 7, 8, 9, 10, 11, 12, 14, 15, 16, 17, 18], \"y\": [0.0, 0.0, 176.0, 0.0, 176.0, 0.0, 137.0, 0.0, 176.0, 157.0, 167.0, 176.0, 175.0, 176.0, 165.0, 151.0, 119.0], \"name\": \"Last 4 weeks\"}, {\"type\": \"bar\", \"x\": [1, 2, 3, 4, 5, 6, 7, 8, 9, 10, 11, 12, 14, 15, 16, 17, 18], \"y\": [10.0, 240.0, 111.0, 287.0, 366.0, 32.0, 215.0, 23.0, 67.0, 0.0, 62.0, 64.0, 28.0, 27.0, 18.0, 0.0, 0.0], \"name\": \"The rest of the time\"}], {\"barmode\": \"stack\", \"title\": \"Number of data points per device: last 4 weeks vs entire time\"}, {\"showLink\": true, \"linkText\": \"Export to plot.ly\"})});</script>"
      ],
      "text/vnd.plotly.v1+html": [
       "<div id=\"36742555-cb6d-455e-91bf-82534214f554\" style=\"height: 525px; width: 100%;\" class=\"plotly-graph-div\"></div><script type=\"text/javascript\">require([\"plotly\"], function(Plotly) { window.PLOTLYENV=window.PLOTLYENV || {};window.PLOTLYENV.BASE_URL=\"https://plot.ly\";Plotly.newPlot(\"36742555-cb6d-455e-91bf-82534214f554\", [{\"type\": \"bar\", \"x\": [1, 2, 3, 4, 5, 6, 7, 8, 9, 10, 11, 12, 14, 15, 16, 17, 18], \"y\": [0.0, 0.0, 176.0, 0.0, 176.0, 0.0, 137.0, 0.0, 176.0, 157.0, 167.0, 176.0, 175.0, 176.0, 165.0, 151.0, 119.0], \"name\": \"Last 4 weeks\"}, {\"type\": \"bar\", \"x\": [1, 2, 3, 4, 5, 6, 7, 8, 9, 10, 11, 12, 14, 15, 16, 17, 18], \"y\": [10.0, 240.0, 111.0, 287.0, 366.0, 32.0, 215.0, 23.0, 67.0, 0.0, 62.0, 64.0, 28.0, 27.0, 18.0, 0.0, 0.0], \"name\": \"The rest of the time\"}], {\"barmode\": \"stack\", \"title\": \"Number of data points per device: last 4 weeks vs entire time\"}, {\"showLink\": true, \"linkText\": \"Export to plot.ly\"})});</script>"
      ]
     },
     "metadata": {},
     "output_type": "display_data"
    }
   ],
   "source": [
    "trace1 = go.Bar(\n",
    "            x=merged_results[\"SK_PI\"],\n",
    "            y=merged_results[\"counts_y\"],\n",
    "            name='Last 4 weeks',\n",
    "    )\n",
    "trace2= go.Bar(\n",
    "            x=merged_results[\"SK_PI\"],\n",
    "            y=merged_results['result'],\n",
    "            name='The rest of the time',\n",
    "    )\n",
    "data=[trace1, trace2]\n",
    "layout = go.Layout(\n",
    "        barmode='stack',\n",
    "        title=\"Number of data points per device: last 4 weeks vs entire time\"\n",
    "    )\n",
    "\n",
    "fig = go.Figure(data=data, layout=layout)\n",
    "iplot(fig)"
   ]
  },
  {
   "cell_type": "markdown",
   "metadata": {},
   "source": [
    "Devices 1,2,4,6 and 8 have data but not in the last 4 weeks. Lets check when they started/ended reporting"
   ]
  },
  {
   "cell_type": "code",
   "execution_count": 14,
   "metadata": {},
   "outputs": [
    {
     "name": "stdout",
     "output_type": "stream",
     "text": [
      "[1, 2, 3, 4, 5, 6, 7, 8, 9, 10, 11, 12, 14, 15, 16, 17, 18]\n"
     ]
    }
   ],
   "source": [
    "start_times=upload_df.groupby('SK_PI')['time'].min()\n",
    "end_times=upload_df.groupby('SK_PI')['time'].max()\n",
    "device_numbers=sorted(upload_df['SK_PI'].unique())\n",
    "print(device_numbers)"
   ]
  },
  {
   "cell_type": "code",
   "execution_count": 15,
   "metadata": {},
   "outputs": [
    {
     "name": "stdout",
     "output_type": "stream",
     "text": [
      "Device:  1   was reporting from  2018-10-10 15:45:43  to  2018-10-11 12:00:09\n",
      "Device:  2   was reporting from  2018-10-11 15:55:58  to  2018-11-03 16:52:07\n",
      "Device:  3   was reporting from  2018-10-15 19:36:18  to  2019-01-05 23:42:11\n",
      "Device:  4   was reporting from  2018-10-27 00:03:48  to  2018-12-05 16:36:12\n",
      "Device:  5   was reporting from  2018-10-26 18:18:08  to  2019-01-05 23:42:02\n",
      "Device:  6   was reporting from  2018-10-26 23:53:09  to  2018-10-31 14:52:59\n",
      "Device:  7   was reporting from  2018-11-11 00:36:13  to  2019-01-05 23:42:15\n",
      "Device:  8   was reporting from  2018-11-07 18:22:07  to  2018-12-03 16:30:07\n",
      "Device:  9   was reporting from  2018-11-30 18:12:12  to  2019-01-05 23:42:17\n",
      "Device:  10   was reporting from  2018-12-12 22:29:40  to  2019-01-05 23:42:13\n",
      "Device:  11   was reporting from  2018-11-30 18:12:09  to  2019-01-05 23:42:09\n",
      "Device:  12   was reporting from  2018-11-30 18:12:06  to  2019-01-05 23:42:11\n",
      "Device:  14   was reporting from  2018-12-05 16:48:41  to  2019-01-05 23:42:11\n",
      "Device:  15   was reporting from  2018-12-05 18:23:59  to  2019-01-05 23:42:05\n",
      "Device:  16   was reporting from  2018-12-06 22:12:11  to  2019-01-05 23:42:12\n",
      "Device:  17   was reporting from  2018-12-13 20:42:08  to  2019-01-05 23:42:05\n",
      "Device:  18   was reporting from  2018-12-18 17:18:33  to  2019-01-05 23:42:07\n"
     ]
    },
    {
     "data": {
      "application/vnd.plotly.v1+json": {
       "data": [
        {
         "name": 1,
         "type": "scatter",
         "x": [
          "2018-10-10 15:45:43",
          "2018-10-11 12:00:09"
         ],
         "y": [
          1,
          1
         ]
        },
        {
         "name": 2,
         "type": "scatter",
         "x": [
          "2018-10-11 15:55:58",
          "2018-11-03 16:52:07"
         ],
         "y": [
          2,
          2
         ]
        },
        {
         "name": 3,
         "type": "scatter",
         "x": [
          "2018-10-15 19:36:18",
          "2019-01-05 23:42:11"
         ],
         "y": [
          3,
          3
         ]
        },
        {
         "name": 4,
         "type": "scatter",
         "x": [
          "2018-10-27 00:03:48",
          "2018-12-05 16:36:12"
         ],
         "y": [
          4,
          4
         ]
        },
        {
         "name": 5,
         "type": "scatter",
         "x": [
          "2018-10-26 18:18:08",
          "2019-01-05 23:42:02"
         ],
         "y": [
          5,
          5
         ]
        },
        {
         "name": 6,
         "type": "scatter",
         "x": [
          "2018-10-26 23:53:09",
          "2018-10-31 14:52:59"
         ],
         "y": [
          6,
          6
         ]
        },
        {
         "name": 7,
         "type": "scatter",
         "x": [
          "2018-11-11 00:36:13",
          "2019-01-05 23:42:15"
         ],
         "y": [
          7,
          7
         ]
        },
        {
         "name": 8,
         "type": "scatter",
         "x": [
          "2018-11-07 18:22:07",
          "2018-12-03 16:30:07"
         ],
         "y": [
          8,
          8
         ]
        },
        {
         "name": 9,
         "type": "scatter",
         "x": [
          "2018-11-30 18:12:12",
          "2019-01-05 23:42:17"
         ],
         "y": [
          9,
          9
         ]
        },
        {
         "name": 10,
         "type": "scatter",
         "x": [
          "2018-12-12 22:29:40",
          "2019-01-05 23:42:13"
         ],
         "y": [
          10,
          10
         ]
        },
        {
         "name": 11,
         "type": "scatter",
         "x": [
          "2018-11-30 18:12:09",
          "2019-01-05 23:42:09"
         ],
         "y": [
          11,
          11
         ]
        },
        {
         "name": 12,
         "type": "scatter",
         "x": [
          "2018-11-30 18:12:06",
          "2019-01-05 23:42:11"
         ],
         "y": [
          12,
          12
         ]
        },
        {
         "name": 14,
         "type": "scatter",
         "x": [
          "2018-12-05 16:48:41",
          "2019-01-05 23:42:11"
         ],
         "y": [
          14,
          14
         ]
        },
        {
         "name": 15,
         "type": "scatter",
         "x": [
          "2018-12-05 18:23:59",
          "2019-01-05 23:42:05"
         ],
         "y": [
          15,
          15
         ]
        },
        {
         "name": 16,
         "type": "scatter",
         "x": [
          "2018-12-06 22:12:11",
          "2019-01-05 23:42:12"
         ],
         "y": [
          16,
          16
         ]
        },
        {
         "name": 17,
         "type": "scatter",
         "x": [
          "2018-12-13 20:42:08",
          "2019-01-05 23:42:05"
         ],
         "y": [
          17,
          17
         ]
        },
        {
         "name": 18,
         "type": "scatter",
         "x": [
          "2018-12-18 17:18:33",
          "2019-01-05 23:42:07"
         ],
         "y": [
          18,
          18
         ]
        }
       ],
       "layout": {
        "title": "Device reporting times"
       }
      },
      "text/html": [
       "<div id=\"1bdec4e3-97d4-4831-bee0-914934d5cb48\" style=\"height: 525px; width: 100%;\" class=\"plotly-graph-div\"></div><script type=\"text/javascript\">require([\"plotly\"], function(Plotly) { window.PLOTLYENV=window.PLOTLYENV || {};window.PLOTLYENV.BASE_URL=\"https://plot.ly\";Plotly.newPlot(\"1bdec4e3-97d4-4831-bee0-914934d5cb48\", [{\"type\": \"scatter\", \"x\": [\"2018-10-10 15:45:43\", \"2018-10-11 12:00:09\"], \"y\": [1, 1], \"name\": 1}, {\"type\": \"scatter\", \"x\": [\"2018-10-11 15:55:58\", \"2018-11-03 16:52:07\"], \"y\": [2, 2], \"name\": 2}, {\"type\": \"scatter\", \"x\": [\"2018-10-15 19:36:18\", \"2019-01-05 23:42:11\"], \"y\": [3, 3], \"name\": 3}, {\"type\": \"scatter\", \"x\": [\"2018-10-27 00:03:48\", \"2018-12-05 16:36:12\"], \"y\": [4, 4], \"name\": 4}, {\"type\": \"scatter\", \"x\": [\"2018-10-26 18:18:08\", \"2019-01-05 23:42:02\"], \"y\": [5, 5], \"name\": 5}, {\"type\": \"scatter\", \"x\": [\"2018-10-26 23:53:09\", \"2018-10-31 14:52:59\"], \"y\": [6, 6], \"name\": 6}, {\"type\": \"scatter\", \"x\": [\"2018-11-11 00:36:13\", \"2019-01-05 23:42:15\"], \"y\": [7, 7], \"name\": 7}, {\"type\": \"scatter\", \"x\": [\"2018-11-07 18:22:07\", \"2018-12-03 16:30:07\"], \"y\": [8, 8], \"name\": 8}, {\"type\": \"scatter\", \"x\": [\"2018-11-30 18:12:12\", \"2019-01-05 23:42:17\"], \"y\": [9, 9], \"name\": 9}, {\"type\": \"scatter\", \"x\": [\"2018-12-12 22:29:40\", \"2019-01-05 23:42:13\"], \"y\": [10, 10], \"name\": 10}, {\"type\": \"scatter\", \"x\": [\"2018-11-30 18:12:09\", \"2019-01-05 23:42:09\"], \"y\": [11, 11], \"name\": 11}, {\"type\": \"scatter\", \"x\": [\"2018-11-30 18:12:06\", \"2019-01-05 23:42:11\"], \"y\": [12, 12], \"name\": 12}, {\"type\": \"scatter\", \"x\": [\"2018-12-05 16:48:41\", \"2019-01-05 23:42:11\"], \"y\": [14, 14], \"name\": 14}, {\"type\": \"scatter\", \"x\": [\"2018-12-05 18:23:59\", \"2019-01-05 23:42:05\"], \"y\": [15, 15], \"name\": 15}, {\"type\": \"scatter\", \"x\": [\"2018-12-06 22:12:11\", \"2019-01-05 23:42:12\"], \"y\": [16, 16], \"name\": 16}, {\"type\": \"scatter\", \"x\": [\"2018-12-13 20:42:08\", \"2019-01-05 23:42:05\"], \"y\": [17, 17], \"name\": 17}, {\"type\": \"scatter\", \"x\": [\"2018-12-18 17:18:33\", \"2019-01-05 23:42:07\"], \"y\": [18, 18], \"name\": 18}], {\"title\": \"Device reporting times\"}, {\"showLink\": true, \"linkText\": \"Export to plot.ly\"})});</script>"
      ],
      "text/vnd.plotly.v1+html": [
       "<div id=\"1bdec4e3-97d4-4831-bee0-914934d5cb48\" style=\"height: 525px; width: 100%;\" class=\"plotly-graph-div\"></div><script type=\"text/javascript\">require([\"plotly\"], function(Plotly) { window.PLOTLYENV=window.PLOTLYENV || {};window.PLOTLYENV.BASE_URL=\"https://plot.ly\";Plotly.newPlot(\"1bdec4e3-97d4-4831-bee0-914934d5cb48\", [{\"type\": \"scatter\", \"x\": [\"2018-10-10 15:45:43\", \"2018-10-11 12:00:09\"], \"y\": [1, 1], \"name\": 1}, {\"type\": \"scatter\", \"x\": [\"2018-10-11 15:55:58\", \"2018-11-03 16:52:07\"], \"y\": [2, 2], \"name\": 2}, {\"type\": \"scatter\", \"x\": [\"2018-10-15 19:36:18\", \"2019-01-05 23:42:11\"], \"y\": [3, 3], \"name\": 3}, {\"type\": \"scatter\", \"x\": [\"2018-10-27 00:03:48\", \"2018-12-05 16:36:12\"], \"y\": [4, 4], \"name\": 4}, {\"type\": \"scatter\", \"x\": [\"2018-10-26 18:18:08\", \"2019-01-05 23:42:02\"], \"y\": [5, 5], \"name\": 5}, {\"type\": \"scatter\", \"x\": [\"2018-10-26 23:53:09\", \"2018-10-31 14:52:59\"], \"y\": [6, 6], \"name\": 6}, {\"type\": \"scatter\", \"x\": [\"2018-11-11 00:36:13\", \"2019-01-05 23:42:15\"], \"y\": [7, 7], \"name\": 7}, {\"type\": \"scatter\", \"x\": [\"2018-11-07 18:22:07\", \"2018-12-03 16:30:07\"], \"y\": [8, 8], \"name\": 8}, {\"type\": \"scatter\", \"x\": [\"2018-11-30 18:12:12\", \"2019-01-05 23:42:17\"], \"y\": [9, 9], \"name\": 9}, {\"type\": \"scatter\", \"x\": [\"2018-12-12 22:29:40\", \"2019-01-05 23:42:13\"], \"y\": [10, 10], \"name\": 10}, {\"type\": \"scatter\", \"x\": [\"2018-11-30 18:12:09\", \"2019-01-05 23:42:09\"], \"y\": [11, 11], \"name\": 11}, {\"type\": \"scatter\", \"x\": [\"2018-11-30 18:12:06\", \"2019-01-05 23:42:11\"], \"y\": [12, 12], \"name\": 12}, {\"type\": \"scatter\", \"x\": [\"2018-12-05 16:48:41\", \"2019-01-05 23:42:11\"], \"y\": [14, 14], \"name\": 14}, {\"type\": \"scatter\", \"x\": [\"2018-12-05 18:23:59\", \"2019-01-05 23:42:05\"], \"y\": [15, 15], \"name\": 15}, {\"type\": \"scatter\", \"x\": [\"2018-12-06 22:12:11\", \"2019-01-05 23:42:12\"], \"y\": [16, 16], \"name\": 16}, {\"type\": \"scatter\", \"x\": [\"2018-12-13 20:42:08\", \"2019-01-05 23:42:05\"], \"y\": [17, 17], \"name\": 17}, {\"type\": \"scatter\", \"x\": [\"2018-12-18 17:18:33\", \"2019-01-05 23:42:07\"], \"y\": [18, 18], \"name\": 18}], {\"title\": \"Device reporting times\"}, {\"showLink\": true, \"linkText\": \"Export to plot.ly\"})});</script>"
      ]
     },
     "metadata": {},
     "output_type": "display_data"
    }
   ],
   "source": [
    "data=[]\n",
    "for device in device_numbers:\n",
    "    time_last=end_times[device]\n",
    "    time_first=start_times[device]\n",
    "    print(\"Device: \", device,\"  was reporting from \", time_first, \" to \", time_last)\n",
    "    trace = go.Scatter(x=[time_first,time_last],y=[device,device], name = device)\n",
    "    data.append(trace)\n",
    "layout = dict(title = \"Device reporting times\")\n",
    "fig = go.Figure(data=data, layout=layout)\n",
    "iplot(fig)"
   ]
  },
  {
   "cell_type": "markdown",
   "metadata": {},
   "source": [
    "### Test server and province\n",
    "Are there any NaNs or empty strings?"
   ]
  },
  {
   "cell_type": "code",
   "execution_count": 16,
   "metadata": {},
   "outputs": [
    {
     "name": "stdout",
     "output_type": "stream",
     "text": [
      "0\n",
      "0\n",
      "0\n",
      "0\n"
     ]
    }
   ],
   "source": [
    "print(sum(pd.isnull(upload_df[\"TEST_SERVER\"])))\n",
    "print(sum(pd.isnull(upload_df[\"PROVINCE\"])))\n",
    "#print(upload_df[upload_df[[\"TEST_SERVER\",\"PROVINCE\"]].isnull().any(axis=1)])\n",
    "print(sum(upload_df[\"TEST_SERVER\"] == ''))\n",
    "print(sum(upload_df[\"PROVINCE\"] == ''))"
   ]
  },
  {
   "cell_type": "code",
   "execution_count": 17,
   "metadata": {},
   "outputs": [
    {
     "name": "stdout",
     "output_type": "stream",
     "text": [
      "There are  5  provinces:  [' MB)' 'iperf' ' AB)' ' SK)' ' ND)'] \n",
      "\n",
      "There are  22  test servers ['Shaw Communications (Winnipeg' 'Rogers (Winnipeg' 'clearskystatus.info'\n",
      " 'LES.NET (Winnipeg' 'Commstream Communications (Winnipeg'\n",
      " 'Voyageur Internet (Winnipeg' 'TELUS Mobility (Calgary'\n",
      " 'Axia Connect Ltd (Calgary' 'VOI Network Solutions (Winnipeg'\n",
      " 'Swift High Speed.com (Winnipeg' 'DataHive (Calgary'\n",
      " 'Westman Communications (Brandon' 'NetSet Communications (Brandon'\n",
      " 'Morenet (Morden' 'Valley Fiber (Winkler' 'RFNow Inc. (Virden'\n",
      " 'BlackSun Inc. (Saskatoon' 'SaskTel (Regina'\n",
      " 'Access Communications Co-operative Limited (Regina'\n",
      " 'Bell Mobility (Winnipeg' 'Cybera (Calgary' 'Midco (Minot'] \n",
      "\n",
      "There are  22  test servers+provinces ['Shaw Communications (Winnipeg  MB)' 'Rogers (Winnipeg  MB)'\n",
      " 'clearskystatus.info iperf' 'LES.NET (Winnipeg  MB)'\n",
      " 'Commstream Communications (Winnipeg  MB)'\n",
      " 'Voyageur Internet (Winnipeg  MB)' 'TELUS Mobility (Calgary  AB)'\n",
      " 'Axia Connect Ltd (Calgary  AB)' 'VOI Network Solutions (Winnipeg  MB)'\n",
      " 'Swift High Speed.com (Winnipeg  MB)' 'DataHive (Calgary  AB)'\n",
      " 'Westman Communications (Brandon  MB)'\n",
      " 'NetSet Communications (Brandon  MB)' 'Morenet (Morden  MB)'\n",
      " 'Valley Fiber (Winkler  MB)' 'RFNow Inc. (Virden  MB)'\n",
      " 'BlackSun Inc. (Saskatoon  SK)' 'SaskTel (Regina  SK)'\n",
      " 'Access Communications Co-operative Limited (Regina  SK)'\n",
      " 'Bell Mobility (Winnipeg  MB)' 'Cybera (Calgary  AB)' 'Midco (Minot  ND)'] \n",
      "\n"
     ]
    }
   ],
   "source": [
    "print(\"There are \",len(upload_df[\"PROVINCE\"].unique()), \" provinces: \", upload_df[\"PROVINCE\"].unique(), \"\\n\")\n",
    "print(\"There are \",len(upload_df[\"TEST_SERVER\"].unique()), \" test servers\", upload_df[\"TEST_SERVER\"].unique(), \"\\n\")\n",
    "\n",
    "pd.options.mode.chained_assignment = None\n",
    "upload_df[\"server\"] = upload_df[\"TEST_SERVER\"] + \" \" +upload_df[\"PROVINCE\"]\n",
    "print(\"There are \",len(upload_df[\"server\"].unique()), \" test servers+provinces\", upload_df[\"server\"].unique(), \"\\n\")"
   ]
  },
  {
   "cell_type": "code",
   "execution_count": 18,
   "metadata": {},
   "outputs": [
    {
     "data": {
      "text/html": [
       "<div>\n",
       "<style>\n",
       "    .dataframe thead tr:only-child th {\n",
       "        text-align: right;\n",
       "    }\n",
       "\n",
       "    .dataframe thead th {\n",
       "        text-align: left;\n",
       "    }\n",
       "\n",
       "    .dataframe tbody tr th {\n",
       "        vertical-align: top;\n",
       "    }\n",
       "</style>\n",
       "<table border=\"1\" class=\"dataframe\">\n",
       "  <thead>\n",
       "    <tr style=\"text-align: right;\">\n",
       "      <th></th>\n",
       "      <th>0</th>\n",
       "      <th>1</th>\n",
       "      <th>2</th>\n",
       "      <th>3</th>\n",
       "      <th>4</th>\n",
       "      <th>5</th>\n",
       "      <th>6</th>\n",
       "      <th>7</th>\n",
       "      <th>server_count</th>\n",
       "    </tr>\n",
       "    <tr>\n",
       "      <th>SK_PI</th>\n",
       "      <th></th>\n",
       "      <th></th>\n",
       "      <th></th>\n",
       "      <th></th>\n",
       "      <th></th>\n",
       "      <th></th>\n",
       "      <th></th>\n",
       "      <th></th>\n",
       "      <th></th>\n",
       "    </tr>\n",
       "  </thead>\n",
       "  <tbody>\n",
       "    <tr>\n",
       "      <th>1</th>\n",
       "      <td>Shaw Communications (Winnipeg  MB)</td>\n",
       "      <td>Rogers (Winnipeg  MB)</td>\n",
       "      <td>clearskystatus.info iperf</td>\n",
       "      <td>LES.NET (Winnipeg  MB)</td>\n",
       "      <td>NaN</td>\n",
       "      <td>NaN</td>\n",
       "      <td>NaN</td>\n",
       "      <td>NaN</td>\n",
       "      <td>4</td>\n",
       "    </tr>\n",
       "    <tr>\n",
       "      <th>2</th>\n",
       "      <td>Shaw Communications (Winnipeg  MB)</td>\n",
       "      <td>clearskystatus.info iperf</td>\n",
       "      <td>Commstream Communications (Winnipeg  MB)</td>\n",
       "      <td>Voyageur Internet (Winnipeg  MB)</td>\n",
       "      <td>LES.NET (Winnipeg  MB)</td>\n",
       "      <td>Rogers (Winnipeg  MB)</td>\n",
       "      <td>VOI Network Solutions (Winnipeg  MB)</td>\n",
       "      <td>Swift High Speed.com (Winnipeg  MB)</td>\n",
       "      <td>8</td>\n",
       "    </tr>\n",
       "    <tr>\n",
       "      <th>3</th>\n",
       "      <td>TELUS Mobility (Calgary  AB)</td>\n",
       "      <td>clearskystatus.info iperf</td>\n",
       "      <td>Axia Connect Ltd (Calgary  AB)</td>\n",
       "      <td>DataHive (Calgary  AB)</td>\n",
       "      <td>Cybera (Calgary  AB)</td>\n",
       "      <td>NaN</td>\n",
       "      <td>NaN</td>\n",
       "      <td>NaN</td>\n",
       "      <td>5</td>\n",
       "    </tr>\n",
       "    <tr>\n",
       "      <th>4</th>\n",
       "      <td>Shaw Communications (Winnipeg  MB)</td>\n",
       "      <td>clearskystatus.info iperf</td>\n",
       "      <td>Voyageur Internet (Winnipeg  MB)</td>\n",
       "      <td>Rogers (Winnipeg  MB)</td>\n",
       "      <td>LES.NET (Winnipeg  MB)</td>\n",
       "      <td>Commstream Communications (Winnipeg  MB)</td>\n",
       "      <td>NaN</td>\n",
       "      <td>NaN</td>\n",
       "      <td>6</td>\n",
       "    </tr>\n",
       "    <tr>\n",
       "      <th>5</th>\n",
       "      <td>Voyageur Internet (Winnipeg  MB)</td>\n",
       "      <td>clearskystatus.info iperf</td>\n",
       "      <td>Shaw Communications (Winnipeg  MB)</td>\n",
       "      <td>LES.NET (Winnipeg  MB)</td>\n",
       "      <td>Rogers (Winnipeg  MB)</td>\n",
       "      <td>Swift High Speed.com (Winnipeg  MB)</td>\n",
       "      <td>VOI Network Solutions (Winnipeg  MB)</td>\n",
       "      <td>Commstream Communications (Winnipeg  MB)</td>\n",
       "      <td>8</td>\n",
       "    </tr>\n",
       "  </tbody>\n",
       "</table>\n",
       "</div>"
      ],
      "text/plain": [
       "                                        0                          1  \\\n",
       "SK_PI                                                                  \n",
       "1      Shaw Communications (Winnipeg  MB)      Rogers (Winnipeg  MB)   \n",
       "2      Shaw Communications (Winnipeg  MB)  clearskystatus.info iperf   \n",
       "3            TELUS Mobility (Calgary  AB)  clearskystatus.info iperf   \n",
       "4      Shaw Communications (Winnipeg  MB)  clearskystatus.info iperf   \n",
       "5        Voyageur Internet (Winnipeg  MB)  clearskystatus.info iperf   \n",
       "\n",
       "                                              2  \\\n",
       "SK_PI                                             \n",
       "1                     clearskystatus.info iperf   \n",
       "2      Commstream Communications (Winnipeg  MB)   \n",
       "3                Axia Connect Ltd (Calgary  AB)   \n",
       "4              Voyageur Internet (Winnipeg  MB)   \n",
       "5            Shaw Communications (Winnipeg  MB)   \n",
       "\n",
       "                                      3                       4  \\\n",
       "SK_PI                                                             \n",
       "1                LES.NET (Winnipeg  MB)                     NaN   \n",
       "2      Voyageur Internet (Winnipeg  MB)  LES.NET (Winnipeg  MB)   \n",
       "3                DataHive (Calgary  AB)    Cybera (Calgary  AB)   \n",
       "4                 Rogers (Winnipeg  MB)  LES.NET (Winnipeg  MB)   \n",
       "5                LES.NET (Winnipeg  MB)   Rogers (Winnipeg  MB)   \n",
       "\n",
       "                                              5  \\\n",
       "SK_PI                                             \n",
       "1                                           NaN   \n",
       "2                         Rogers (Winnipeg  MB)   \n",
       "3                                           NaN   \n",
       "4      Commstream Communications (Winnipeg  MB)   \n",
       "5           Swift High Speed.com (Winnipeg  MB)   \n",
       "\n",
       "                                          6  \\\n",
       "SK_PI                                         \n",
       "1                                       NaN   \n",
       "2      VOI Network Solutions (Winnipeg  MB)   \n",
       "3                                       NaN   \n",
       "4                                       NaN   \n",
       "5      VOI Network Solutions (Winnipeg  MB)   \n",
       "\n",
       "                                              7  server_count  \n",
       "SK_PI                                                          \n",
       "1                                           NaN             4  \n",
       "2           Swift High Speed.com (Winnipeg  MB)             8  \n",
       "3                                           NaN             5  \n",
       "4                                           NaN             6  \n",
       "5      Commstream Communications (Winnipeg  MB)             8  "
      ]
     },
     "execution_count": 18,
     "metadata": {},
     "output_type": "execute_result"
    }
   ],
   "source": [
    "pd.options.mode.chained_assignment = None\n",
    "upload_df[\"server\"] = upload_df[\"TEST_SERVER\"] + \" \" +upload_df[\"PROVINCE\"]\n",
    "test_servers_per_device = upload_df.groupby('SK_PI').apply(lambda x: x['server'].unique()).apply(pd.Series)\n",
    "test_servers_per_device['server_count'] = test_servers_per_device.apply(lambda x: x.count(), axis=1)\n",
    "test_servers_per_device.head()"
   ]
  },
  {
   "cell_type": "code",
   "execution_count": 19,
   "metadata": {},
   "outputs": [
    {
     "data": {
      "application/vnd.plotly.v1+json": {
       "data": [
        {
         "type": "bar",
         "x": [
          1,
          2,
          3,
          4,
          5,
          6,
          7,
          8,
          9,
          10,
          11,
          12,
          14,
          15,
          16,
          17,
          18
         ],
         "y": [
          4,
          8,
          5,
          6,
          8,
          5,
          7,
          4,
          8,
          5,
          6,
          5,
          8,
          5,
          6,
          3,
          3
         ]
        }
       ],
       "layout": {
        "barmode": "stack",
        "title": "Number of test servers per device"
       }
      },
      "text/html": [
       "<div id=\"aea8e86f-d5f1-4600-a632-5acb18a10b9b\" style=\"height: 525px; width: 100%;\" class=\"plotly-graph-div\"></div><script type=\"text/javascript\">require([\"plotly\"], function(Plotly) { window.PLOTLYENV=window.PLOTLYENV || {};window.PLOTLYENV.BASE_URL=\"https://plot.ly\";Plotly.newPlot(\"aea8e86f-d5f1-4600-a632-5acb18a10b9b\", [{\"type\": \"bar\", \"x\": [1, 2, 3, 4, 5, 6, 7, 8, 9, 10, 11, 12, 14, 15, 16, 17, 18], \"y\": [4, 8, 5, 6, 8, 5, 7, 4, 8, 5, 6, 5, 8, 5, 6, 3, 3]}], {\"barmode\": \"stack\", \"title\": \"Number of test servers per device\"}, {\"showLink\": true, \"linkText\": \"Export to plot.ly\"})});</script>"
      ],
      "text/vnd.plotly.v1+html": [
       "<div id=\"aea8e86f-d5f1-4600-a632-5acb18a10b9b\" style=\"height: 525px; width: 100%;\" class=\"plotly-graph-div\"></div><script type=\"text/javascript\">require([\"plotly\"], function(Plotly) { window.PLOTLYENV=window.PLOTLYENV || {};window.PLOTLYENV.BASE_URL=\"https://plot.ly\";Plotly.newPlot(\"aea8e86f-d5f1-4600-a632-5acb18a10b9b\", [{\"type\": \"bar\", \"x\": [1, 2, 3, 4, 5, 6, 7, 8, 9, 10, 11, 12, 14, 15, 16, 17, 18], \"y\": [4, 8, 5, 6, 8, 5, 7, 4, 8, 5, 6, 5, 8, 5, 6, 3, 3]}], {\"barmode\": \"stack\", \"title\": \"Number of test servers per device\"}, {\"showLink\": true, \"linkText\": \"Export to plot.ly\"})});</script>"
      ]
     },
     "metadata": {},
     "output_type": "display_data"
    }
   ],
   "source": [
    "data = [go.Bar(\n",
    "            x=test_servers_per_device.index,\n",
    "            y=test_servers_per_device[\"server_count\"],\n",
    "    )]\n",
    "\n",
    "layout = go.Layout(\n",
    "        barmode='stack',\n",
    "        title=\"Number of test servers per device\"\n",
    "    )\n",
    "\n",
    "fig = go.Figure(data=data, layout=layout)\n",
    "#print(points_by_device)\n",
    "iplot(fig)"
   ]
  },
  {
   "cell_type": "markdown",
   "metadata": {},
   "source": [
    "Devices have different number of test servers: 3-8, how is it defined?"
   ]
  },
  {
   "cell_type": "markdown",
   "metadata": {},
   "source": [
    "### Providers\n",
    "Are there any NaNs or empty strings?"
   ]
  },
  {
   "cell_type": "code",
   "execution_count": 20,
   "metadata": {},
   "outputs": [
    {
     "name": "stdout",
     "output_type": "stream",
     "text": [
      "0\n",
      "0\n"
     ]
    }
   ],
   "source": [
    "print(sum(pd.isnull(upload_df[\"PROVIDER\"])))\n",
    "print(sum(upload_df[\"PROVIDER\"] == ''))"
   ]
  },
  {
   "cell_type": "code",
   "execution_count": 21,
   "metadata": {},
   "outputs": [
    {
     "name": "stdout",
     "output_type": "stream",
     "text": [
      "There are  11  providers ['Bell MTS' 'iperf' 'Cybera' 'MERLIN' 'High Speed Crow'\n",
      " 'Cogent Communications' 'Xplornet Communications'\n",
      " 'Commstream Communications' 'Keewaytinook Okimakanak' 'TeraGo Networks'\n",
      " 'Manitoba Hydro International'] \n",
      "\n"
     ]
    }
   ],
   "source": [
    "print(\"There are \",len(upload_df[\"PROVIDER\"].unique()), \" providers\", upload_df[\"PROVIDER\"].unique(), \"\\n\")"
   ]
  },
  {
   "cell_type": "code",
   "execution_count": 22,
   "metadata": {},
   "outputs": [
    {
     "data": {
      "text/html": [
       "<div>\n",
       "<style>\n",
       "    .dataframe thead tr:only-child th {\n",
       "        text-align: right;\n",
       "    }\n",
       "\n",
       "    .dataframe thead th {\n",
       "        text-align: left;\n",
       "    }\n",
       "\n",
       "    .dataframe tbody tr th {\n",
       "        vertical-align: top;\n",
       "    }\n",
       "</style>\n",
       "<table border=\"1\" class=\"dataframe\">\n",
       "  <thead>\n",
       "    <tr style=\"text-align: right;\">\n",
       "      <th></th>\n",
       "      <th>0</th>\n",
       "      <th>1</th>\n",
       "      <th>2</th>\n",
       "      <th>provider_count</th>\n",
       "    </tr>\n",
       "    <tr>\n",
       "      <th>SK_PI</th>\n",
       "      <th></th>\n",
       "      <th></th>\n",
       "      <th></th>\n",
       "      <th></th>\n",
       "    </tr>\n",
       "  </thead>\n",
       "  <tbody>\n",
       "    <tr>\n",
       "      <th>1</th>\n",
       "      <td>Bell MTS</td>\n",
       "      <td>iperf</td>\n",
       "      <td>NaN</td>\n",
       "      <td>2</td>\n",
       "    </tr>\n",
       "    <tr>\n",
       "      <th>2</th>\n",
       "      <td>Bell MTS</td>\n",
       "      <td>iperf</td>\n",
       "      <td>NaN</td>\n",
       "      <td>2</td>\n",
       "    </tr>\n",
       "    <tr>\n",
       "      <th>3</th>\n",
       "      <td>Cybera</td>\n",
       "      <td>iperf</td>\n",
       "      <td>NaN</td>\n",
       "      <td>2</td>\n",
       "    </tr>\n",
       "    <tr>\n",
       "      <th>4</th>\n",
       "      <td>Bell MTS</td>\n",
       "      <td>iperf</td>\n",
       "      <td>NaN</td>\n",
       "      <td>2</td>\n",
       "    </tr>\n",
       "    <tr>\n",
       "      <th>5</th>\n",
       "      <td>Bell MTS</td>\n",
       "      <td>iperf</td>\n",
       "      <td>NaN</td>\n",
       "      <td>2</td>\n",
       "    </tr>\n",
       "  </tbody>\n",
       "</table>\n",
       "</div>"
      ],
      "text/plain": [
       "              0      1    2  provider_count\n",
       "SK_PI                                      \n",
       "1      Bell MTS  iperf  NaN               2\n",
       "2      Bell MTS  iperf  NaN               2\n",
       "3        Cybera  iperf  NaN               2\n",
       "4      Bell MTS  iperf  NaN               2\n",
       "5      Bell MTS  iperf  NaN               2"
      ]
     },
     "execution_count": 22,
     "metadata": {},
     "output_type": "execute_result"
    }
   ],
   "source": [
    "providers_per_device = upload_df.groupby('SK_PI').apply(lambda x: x[\"PROVIDER\"].unique()).apply(pd.Series)\n",
    "providers_per_device['provider_count'] = providers_per_device.apply(lambda x: x.count(), axis=1)\n",
    "providers_per_device.head()"
   ]
  },
  {
   "cell_type": "code",
   "execution_count": 23,
   "metadata": {},
   "outputs": [
    {
     "data": {
      "application/vnd.plotly.v1+json": {
       "data": [
        {
         "type": "bar",
         "x": [
          1,
          2,
          3,
          4,
          5,
          6,
          7,
          8,
          9,
          10,
          11,
          12,
          14,
          15,
          16,
          17,
          18
         ],
         "y": [
          2,
          2,
          2,
          2,
          2,
          2,
          2,
          3,
          2,
          1,
          2,
          2,
          2,
          1,
          1,
          1,
          1
         ]
        }
       ],
       "layout": {
        "barmode": "stack",
        "title": "Number of providers per device"
       }
      },
      "text/html": [
       "<div id=\"66f4d04d-c4d7-4330-903b-133278cc8672\" style=\"height: 525px; width: 100%;\" class=\"plotly-graph-div\"></div><script type=\"text/javascript\">require([\"plotly\"], function(Plotly) { window.PLOTLYENV=window.PLOTLYENV || {};window.PLOTLYENV.BASE_URL=\"https://plot.ly\";Plotly.newPlot(\"66f4d04d-c4d7-4330-903b-133278cc8672\", [{\"type\": \"bar\", \"x\": [1, 2, 3, 4, 5, 6, 7, 8, 9, 10, 11, 12, 14, 15, 16, 17, 18], \"y\": [2, 2, 2, 2, 2, 2, 2, 3, 2, 1, 2, 2, 2, 1, 1, 1, 1]}], {\"barmode\": \"stack\", \"title\": \"Number of providers per device\"}, {\"showLink\": true, \"linkText\": \"Export to plot.ly\"})});</script>"
      ],
      "text/vnd.plotly.v1+html": [
       "<div id=\"66f4d04d-c4d7-4330-903b-133278cc8672\" style=\"height: 525px; width: 100%;\" class=\"plotly-graph-div\"></div><script type=\"text/javascript\">require([\"plotly\"], function(Plotly) { window.PLOTLYENV=window.PLOTLYENV || {};window.PLOTLYENV.BASE_URL=\"https://plot.ly\";Plotly.newPlot(\"66f4d04d-c4d7-4330-903b-133278cc8672\", [{\"type\": \"bar\", \"x\": [1, 2, 3, 4, 5, 6, 7, 8, 9, 10, 11, 12, 14, 15, 16, 17, 18], \"y\": [2, 2, 2, 2, 2, 2, 2, 3, 2, 1, 2, 2, 2, 1, 1, 1, 1]}], {\"barmode\": \"stack\", \"title\": \"Number of providers per device\"}, {\"showLink\": true, \"linkText\": \"Export to plot.ly\"})});</script>"
      ]
     },
     "metadata": {},
     "output_type": "display_data"
    }
   ],
   "source": [
    "data = [go.Bar(\n",
    "            x=providers_per_device.index,\n",
    "            y=providers_per_device[\"provider_count\"],\n",
    "    )]\n",
    "\n",
    "layout = go.Layout(\n",
    "        barmode='stack',\n",
    "        title=\"Number of providers per device\"\n",
    "    )\n",
    "\n",
    "fig = go.Figure(data=data, layout=layout)\n",
    "#print(points_by_device)\n",
    "iplot(fig)"
   ]
  },
  {
   "cell_type": "markdown",
   "metadata": {},
   "source": [
    "Devices have 1-3 network providers. (3 just for 1 device), how is it defined?"
   ]
  },
  {
   "cell_type": "markdown",
   "metadata": {},
   "source": [
    "### How often data is collected?\n",
    "\n",
    "Let's ceck device number 5 with the larges number of datapoints and (8 test servers, 2 providers)  and device number 8 with largest number of providers (3) and 4 test servers?"
   ]
  },
  {
   "cell_type": "code",
   "execution_count": 24,
   "metadata": {},
   "outputs": [
    {
     "data": {
      "text/html": [
       "<div>\n",
       "<style>\n",
       "    .dataframe thead tr:only-child th {\n",
       "        text-align: right;\n",
       "    }\n",
       "\n",
       "    .dataframe thead th {\n",
       "        text-align: left;\n",
       "    }\n",
       "\n",
       "    .dataframe tbody tr th {\n",
       "        vertical-align: top;\n",
       "    }\n",
       "</style>\n",
       "<table border=\"1\" class=\"dataframe\">\n",
       "  <thead>\n",
       "    <tr style=\"text-align: right;\">\n",
       "      <th></th>\n",
       "      <th>time</th>\n",
       "      <th>SK_PI</th>\n",
       "      <th>PROVIDER</th>\n",
       "      <th>server</th>\n",
       "      <th>UPLOAD</th>\n",
       "    </tr>\n",
       "  </thead>\n",
       "  <tbody>\n",
       "    <tr>\n",
       "      <th>219</th>\n",
       "      <td>2018-10-26 18:18:08</td>\n",
       "      <td>5</td>\n",
       "      <td>Bell MTS</td>\n",
       "      <td>Voyageur Internet (Winnipeg  MB)</td>\n",
       "      <td>0.53</td>\n",
       "    </tr>\n",
       "    <tr>\n",
       "      <th>220</th>\n",
       "      <td>2018-10-26 20:10:16</td>\n",
       "      <td>5</td>\n",
       "      <td>iperf</td>\n",
       "      <td>clearskystatus.info iperf</td>\n",
       "      <td>514.00</td>\n",
       "    </tr>\n",
       "    <tr>\n",
       "      <th>221</th>\n",
       "      <td>2018-10-26 22:00:13</td>\n",
       "      <td>5</td>\n",
       "      <td>Bell MTS</td>\n",
       "      <td>Shaw Communications (Winnipeg  MB)</td>\n",
       "      <td>0.60</td>\n",
       "    </tr>\n",
       "    <tr>\n",
       "      <th>223</th>\n",
       "      <td>2018-10-26 23:52:22</td>\n",
       "      <td>5</td>\n",
       "      <td>iperf</td>\n",
       "      <td>clearskystatus.info iperf</td>\n",
       "      <td>574.00</td>\n",
       "    </tr>\n",
       "    <tr>\n",
       "      <th>226</th>\n",
       "      <td>2018-10-27 01:42:06</td>\n",
       "      <td>5</td>\n",
       "      <td>Bell MTS</td>\n",
       "      <td>LES.NET (Winnipeg  MB)</td>\n",
       "      <td>0.37</td>\n",
       "    </tr>\n",
       "    <tr>\n",
       "      <th>229</th>\n",
       "      <td>2018-10-27 03:34:20</td>\n",
       "      <td>5</td>\n",
       "      <td>iperf</td>\n",
       "      <td>clearskystatus.info iperf</td>\n",
       "      <td>574.00</td>\n",
       "    </tr>\n",
       "    <tr>\n",
       "      <th>233</th>\n",
       "      <td>2018-10-27 05:24:19</td>\n",
       "      <td>5</td>\n",
       "      <td>Bell MTS</td>\n",
       "      <td>Voyageur Internet (Winnipeg  MB)</td>\n",
       "      <td>0.48</td>\n",
       "    </tr>\n",
       "    <tr>\n",
       "      <th>236</th>\n",
       "      <td>2018-10-27 09:06:03</td>\n",
       "      <td>5</td>\n",
       "      <td>Bell MTS</td>\n",
       "      <td>Rogers (Winnipeg  MB)</td>\n",
       "      <td>0.55</td>\n",
       "    </tr>\n",
       "    <tr>\n",
       "      <th>241</th>\n",
       "      <td>2018-10-27 12:48:02</td>\n",
       "      <td>5</td>\n",
       "      <td>Bell MTS</td>\n",
       "      <td>Rogers (Winnipeg  MB)</td>\n",
       "      <td>0.50</td>\n",
       "    </tr>\n",
       "    <tr>\n",
       "      <th>244</th>\n",
       "      <td>2018-10-27 14:40:15</td>\n",
       "      <td>5</td>\n",
       "      <td>iperf</td>\n",
       "      <td>clearskystatus.info iperf</td>\n",
       "      <td>541.00</td>\n",
       "    </tr>\n",
       "    <tr>\n",
       "      <th>247</th>\n",
       "      <td>2018-10-27 16:30:08</td>\n",
       "      <td>5</td>\n",
       "      <td>Bell MTS</td>\n",
       "      <td>Rogers (Winnipeg  MB)</td>\n",
       "      <td>0.54</td>\n",
       "    </tr>\n",
       "    <tr>\n",
       "      <th>249</th>\n",
       "      <td>2018-10-27 18:22:12</td>\n",
       "      <td>5</td>\n",
       "      <td>iperf</td>\n",
       "      <td>clearskystatus.info iperf</td>\n",
       "      <td>608.00</td>\n",
       "    </tr>\n",
       "    <tr>\n",
       "      <th>252</th>\n",
       "      <td>2018-10-27 20:12:12</td>\n",
       "      <td>5</td>\n",
       "      <td>Bell MTS</td>\n",
       "      <td>Rogers (Winnipeg  MB)</td>\n",
       "      <td>0.49</td>\n",
       "    </tr>\n",
       "    <tr>\n",
       "      <th>257</th>\n",
       "      <td>2018-10-27 23:54:04</td>\n",
       "      <td>5</td>\n",
       "      <td>Bell MTS</td>\n",
       "      <td>Voyageur Internet (Winnipeg  MB)</td>\n",
       "      <td>0.55</td>\n",
       "    </tr>\n",
       "    <tr>\n",
       "      <th>260</th>\n",
       "      <td>2018-10-28 01:46:13</td>\n",
       "      <td>5</td>\n",
       "      <td>iperf</td>\n",
       "      <td>clearskystatus.info iperf</td>\n",
       "      <td>558.00</td>\n",
       "    </tr>\n",
       "    <tr>\n",
       "      <th>262</th>\n",
       "      <td>2018-10-28 03:36:09</td>\n",
       "      <td>5</td>\n",
       "      <td>Bell MTS</td>\n",
       "      <td>LES.NET (Winnipeg  MB)</td>\n",
       "      <td>0.58</td>\n",
       "    </tr>\n",
       "    <tr>\n",
       "      <th>264</th>\n",
       "      <td>2018-10-28 05:28:15</td>\n",
       "      <td>5</td>\n",
       "      <td>iperf</td>\n",
       "      <td>clearskystatus.info iperf</td>\n",
       "      <td>566.00</td>\n",
       "    </tr>\n",
       "    <tr>\n",
       "      <th>266</th>\n",
       "      <td>2018-10-28 07:18:01</td>\n",
       "      <td>5</td>\n",
       "      <td>Bell MTS</td>\n",
       "      <td>Rogers (Winnipeg  MB)</td>\n",
       "      <td>0.54</td>\n",
       "    </tr>\n",
       "    <tr>\n",
       "      <th>269</th>\n",
       "      <td>2018-10-28 09:10:08</td>\n",
       "      <td>5</td>\n",
       "      <td>iperf</td>\n",
       "      <td>clearskystatus.info iperf</td>\n",
       "      <td>574.00</td>\n",
       "    </tr>\n",
       "    <tr>\n",
       "      <th>271</th>\n",
       "      <td>2018-10-28 11:00:10</td>\n",
       "      <td>5</td>\n",
       "      <td>Bell MTS</td>\n",
       "      <td>Rogers (Winnipeg  MB)</td>\n",
       "      <td>0.48</td>\n",
       "    </tr>\n",
       "  </tbody>\n",
       "</table>\n",
       "</div>"
      ],
      "text/plain": [
       "                   time  SK_PI  PROVIDER                              server  \\\n",
       "219 2018-10-26 18:18:08      5  Bell MTS    Voyageur Internet (Winnipeg  MB)   \n",
       "220 2018-10-26 20:10:16      5     iperf           clearskystatus.info iperf   \n",
       "221 2018-10-26 22:00:13      5  Bell MTS  Shaw Communications (Winnipeg  MB)   \n",
       "223 2018-10-26 23:52:22      5     iperf           clearskystatus.info iperf   \n",
       "226 2018-10-27 01:42:06      5  Bell MTS              LES.NET (Winnipeg  MB)   \n",
       "229 2018-10-27 03:34:20      5     iperf           clearskystatus.info iperf   \n",
       "233 2018-10-27 05:24:19      5  Bell MTS    Voyageur Internet (Winnipeg  MB)   \n",
       "236 2018-10-27 09:06:03      5  Bell MTS               Rogers (Winnipeg  MB)   \n",
       "241 2018-10-27 12:48:02      5  Bell MTS               Rogers (Winnipeg  MB)   \n",
       "244 2018-10-27 14:40:15      5     iperf           clearskystatus.info iperf   \n",
       "247 2018-10-27 16:30:08      5  Bell MTS               Rogers (Winnipeg  MB)   \n",
       "249 2018-10-27 18:22:12      5     iperf           clearskystatus.info iperf   \n",
       "252 2018-10-27 20:12:12      5  Bell MTS               Rogers (Winnipeg  MB)   \n",
       "257 2018-10-27 23:54:04      5  Bell MTS    Voyageur Internet (Winnipeg  MB)   \n",
       "260 2018-10-28 01:46:13      5     iperf           clearskystatus.info iperf   \n",
       "262 2018-10-28 03:36:09      5  Bell MTS              LES.NET (Winnipeg  MB)   \n",
       "264 2018-10-28 05:28:15      5     iperf           clearskystatus.info iperf   \n",
       "266 2018-10-28 07:18:01      5  Bell MTS               Rogers (Winnipeg  MB)   \n",
       "269 2018-10-28 09:10:08      5     iperf           clearskystatus.info iperf   \n",
       "271 2018-10-28 11:00:10      5  Bell MTS               Rogers (Winnipeg  MB)   \n",
       "\n",
       "     UPLOAD  \n",
       "219    0.53  \n",
       "220  514.00  \n",
       "221    0.60  \n",
       "223  574.00  \n",
       "226    0.37  \n",
       "229  574.00  \n",
       "233    0.48  \n",
       "236    0.55  \n",
       "241    0.50  \n",
       "244  541.00  \n",
       "247    0.54  \n",
       "249  608.00  \n",
       "252    0.49  \n",
       "257    0.55  \n",
       "260  558.00  \n",
       "262    0.58  \n",
       "264  566.00  \n",
       "266    0.54  \n",
       "269  574.00  \n",
       "271    0.48  "
      ]
     },
     "execution_count": 24,
     "metadata": {},
     "output_type": "execute_result"
    }
   ],
   "source": [
    "upload_df.loc[upload_df['SK_PI']==5][['time','SK_PI', 'PROVIDER', 'server','UPLOAD']].head(20)"
   ]
  },
  {
   "cell_type": "code",
   "execution_count": 25,
   "metadata": {},
   "outputs": [
    {
     "data": {
      "text/html": [
       "<div>\n",
       "<style>\n",
       "    .dataframe thead tr:only-child th {\n",
       "        text-align: right;\n",
       "    }\n",
       "\n",
       "    .dataframe thead th {\n",
       "        text-align: left;\n",
       "    }\n",
       "\n",
       "    .dataframe tbody tr th {\n",
       "        vertical-align: top;\n",
       "    }\n",
       "</style>\n",
       "<table border=\"1\" class=\"dataframe\">\n",
       "  <thead>\n",
       "    <tr style=\"text-align: right;\">\n",
       "      <th></th>\n",
       "      <th>time</th>\n",
       "      <th>SK_PI</th>\n",
       "      <th>PROVIDER</th>\n",
       "      <th>server</th>\n",
       "      <th>UPLOAD</th>\n",
       "    </tr>\n",
       "  </thead>\n",
       "  <tbody>\n",
       "    <tr>\n",
       "      <th>3264</th>\n",
       "      <td>2019-01-03 01:24:04</td>\n",
       "      <td>5</td>\n",
       "      <td>Bell MTS</td>\n",
       "      <td>Voyageur Internet (Winnipeg  MB)</td>\n",
       "      <td>0.58</td>\n",
       "    </tr>\n",
       "    <tr>\n",
       "      <th>3281</th>\n",
       "      <td>2019-01-03 05:06:10</td>\n",
       "      <td>5</td>\n",
       "      <td>Bell MTS</td>\n",
       "      <td>LES.NET (Winnipeg  MB)</td>\n",
       "      <td>0.52</td>\n",
       "    </tr>\n",
       "    <tr>\n",
       "      <th>3298</th>\n",
       "      <td>2019-01-03 08:48:17</td>\n",
       "      <td>5</td>\n",
       "      <td>Bell MTS</td>\n",
       "      <td>Rogers (Winnipeg  MB)</td>\n",
       "      <td>0.44</td>\n",
       "    </tr>\n",
       "    <tr>\n",
       "      <th>3303</th>\n",
       "      <td>2019-01-03 12:30:10</td>\n",
       "      <td>5</td>\n",
       "      <td>Bell MTS</td>\n",
       "      <td>Rogers (Winnipeg  MB)</td>\n",
       "      <td>0.47</td>\n",
       "    </tr>\n",
       "    <tr>\n",
       "      <th>3312</th>\n",
       "      <td>2019-01-03 16:12:06</td>\n",
       "      <td>5</td>\n",
       "      <td>Bell MTS</td>\n",
       "      <td>Rogers (Winnipeg  MB)</td>\n",
       "      <td>0.46</td>\n",
       "    </tr>\n",
       "    <tr>\n",
       "      <th>3335</th>\n",
       "      <td>2019-01-03 19:54:17</td>\n",
       "      <td>5</td>\n",
       "      <td>Bell MTS</td>\n",
       "      <td>LES.NET (Winnipeg  MB)</td>\n",
       "      <td>0.29</td>\n",
       "    </tr>\n",
       "    <tr>\n",
       "      <th>3344</th>\n",
       "      <td>2019-01-03 23:36:10</td>\n",
       "      <td>5</td>\n",
       "      <td>Bell MTS</td>\n",
       "      <td>Voyageur Internet (Winnipeg  MB)</td>\n",
       "      <td>0.55</td>\n",
       "    </tr>\n",
       "    <tr>\n",
       "      <th>3358</th>\n",
       "      <td>2019-01-04 03:18:17</td>\n",
       "      <td>5</td>\n",
       "      <td>Bell MTS</td>\n",
       "      <td>Voyageur Internet (Winnipeg  MB)</td>\n",
       "      <td>0.56</td>\n",
       "    </tr>\n",
       "    <tr>\n",
       "      <th>3361</th>\n",
       "      <td>2019-01-04 07:00:06</td>\n",
       "      <td>5</td>\n",
       "      <td>Bell MTS</td>\n",
       "      <td>Rogers (Winnipeg  MB)</td>\n",
       "      <td>0.40</td>\n",
       "    </tr>\n",
       "    <tr>\n",
       "      <th>3380</th>\n",
       "      <td>2019-01-04 10:42:15</td>\n",
       "      <td>5</td>\n",
       "      <td>Bell MTS</td>\n",
       "      <td>Rogers (Winnipeg  MB)</td>\n",
       "      <td>0.50</td>\n",
       "    </tr>\n",
       "    <tr>\n",
       "      <th>3388</th>\n",
       "      <td>2019-01-04 14:24:08</td>\n",
       "      <td>5</td>\n",
       "      <td>Bell MTS</td>\n",
       "      <td>Rogers (Winnipeg  MB)</td>\n",
       "      <td>0.48</td>\n",
       "    </tr>\n",
       "    <tr>\n",
       "      <th>3403</th>\n",
       "      <td>2019-01-04 18:06:13</td>\n",
       "      <td>5</td>\n",
       "      <td>Bell MTS</td>\n",
       "      <td>Shaw Communications (Winnipeg  MB)</td>\n",
       "      <td>0.46</td>\n",
       "    </tr>\n",
       "    <tr>\n",
       "      <th>3414</th>\n",
       "      <td>2019-01-04 21:48:13</td>\n",
       "      <td>5</td>\n",
       "      <td>Bell MTS</td>\n",
       "      <td>Voyageur Internet (Winnipeg  MB)</td>\n",
       "      <td>0.57</td>\n",
       "    </tr>\n",
       "    <tr>\n",
       "      <th>3429</th>\n",
       "      <td>2019-01-05 01:30:14</td>\n",
       "      <td>5</td>\n",
       "      <td>Bell MTS</td>\n",
       "      <td>Commstream Communications (Winnipeg  MB)</td>\n",
       "      <td>0.54</td>\n",
       "    </tr>\n",
       "    <tr>\n",
       "      <th>3439</th>\n",
       "      <td>2019-01-05 05:12:12</td>\n",
       "      <td>5</td>\n",
       "      <td>Bell MTS</td>\n",
       "      <td>Rogers (Winnipeg  MB)</td>\n",
       "      <td>0.57</td>\n",
       "    </tr>\n",
       "    <tr>\n",
       "      <th>3452</th>\n",
       "      <td>2019-01-05 08:54:13</td>\n",
       "      <td>5</td>\n",
       "      <td>Bell MTS</td>\n",
       "      <td>Shaw Communications (Winnipeg  MB)</td>\n",
       "      <td>0.52</td>\n",
       "    </tr>\n",
       "    <tr>\n",
       "      <th>3465</th>\n",
       "      <td>2019-01-05 12:36:14</td>\n",
       "      <td>5</td>\n",
       "      <td>Bell MTS</td>\n",
       "      <td>Rogers (Winnipeg  MB)</td>\n",
       "      <td>0.46</td>\n",
       "    </tr>\n",
       "    <tr>\n",
       "      <th>3468</th>\n",
       "      <td>2019-01-05 16:18:02</td>\n",
       "      <td>5</td>\n",
       "      <td>Bell MTS</td>\n",
       "      <td>Voyageur Internet (Winnipeg  MB)</td>\n",
       "      <td>0.55</td>\n",
       "    </tr>\n",
       "    <tr>\n",
       "      <th>3490</th>\n",
       "      <td>2019-01-05 20:00:16</td>\n",
       "      <td>5</td>\n",
       "      <td>Bell MTS</td>\n",
       "      <td>LES.NET (Winnipeg  MB)</td>\n",
       "      <td>0.59</td>\n",
       "    </tr>\n",
       "    <tr>\n",
       "      <th>3492</th>\n",
       "      <td>2019-01-05 23:42:02</td>\n",
       "      <td>5</td>\n",
       "      <td>Bell MTS</td>\n",
       "      <td>Voyageur Internet (Winnipeg  MB)</td>\n",
       "      <td>0.49</td>\n",
       "    </tr>\n",
       "  </tbody>\n",
       "</table>\n",
       "</div>"
      ],
      "text/plain": [
       "                    time  SK_PI  PROVIDER  \\\n",
       "3264 2019-01-03 01:24:04      5  Bell MTS   \n",
       "3281 2019-01-03 05:06:10      5  Bell MTS   \n",
       "3298 2019-01-03 08:48:17      5  Bell MTS   \n",
       "3303 2019-01-03 12:30:10      5  Bell MTS   \n",
       "3312 2019-01-03 16:12:06      5  Bell MTS   \n",
       "3335 2019-01-03 19:54:17      5  Bell MTS   \n",
       "3344 2019-01-03 23:36:10      5  Bell MTS   \n",
       "3358 2019-01-04 03:18:17      5  Bell MTS   \n",
       "3361 2019-01-04 07:00:06      5  Bell MTS   \n",
       "3380 2019-01-04 10:42:15      5  Bell MTS   \n",
       "3388 2019-01-04 14:24:08      5  Bell MTS   \n",
       "3403 2019-01-04 18:06:13      5  Bell MTS   \n",
       "3414 2019-01-04 21:48:13      5  Bell MTS   \n",
       "3429 2019-01-05 01:30:14      5  Bell MTS   \n",
       "3439 2019-01-05 05:12:12      5  Bell MTS   \n",
       "3452 2019-01-05 08:54:13      5  Bell MTS   \n",
       "3465 2019-01-05 12:36:14      5  Bell MTS   \n",
       "3468 2019-01-05 16:18:02      5  Bell MTS   \n",
       "3490 2019-01-05 20:00:16      5  Bell MTS   \n",
       "3492 2019-01-05 23:42:02      5  Bell MTS   \n",
       "\n",
       "                                        server  UPLOAD  \n",
       "3264          Voyageur Internet (Winnipeg  MB)    0.58  \n",
       "3281                    LES.NET (Winnipeg  MB)    0.52  \n",
       "3298                     Rogers (Winnipeg  MB)    0.44  \n",
       "3303                     Rogers (Winnipeg  MB)    0.47  \n",
       "3312                     Rogers (Winnipeg  MB)    0.46  \n",
       "3335                    LES.NET (Winnipeg  MB)    0.29  \n",
       "3344          Voyageur Internet (Winnipeg  MB)    0.55  \n",
       "3358          Voyageur Internet (Winnipeg  MB)    0.56  \n",
       "3361                     Rogers (Winnipeg  MB)    0.40  \n",
       "3380                     Rogers (Winnipeg  MB)    0.50  \n",
       "3388                     Rogers (Winnipeg  MB)    0.48  \n",
       "3403        Shaw Communications (Winnipeg  MB)    0.46  \n",
       "3414          Voyageur Internet (Winnipeg  MB)    0.57  \n",
       "3429  Commstream Communications (Winnipeg  MB)    0.54  \n",
       "3439                     Rogers (Winnipeg  MB)    0.57  \n",
       "3452        Shaw Communications (Winnipeg  MB)    0.52  \n",
       "3465                     Rogers (Winnipeg  MB)    0.46  \n",
       "3468          Voyageur Internet (Winnipeg  MB)    0.55  \n",
       "3490                    LES.NET (Winnipeg  MB)    0.59  \n",
       "3492          Voyageur Internet (Winnipeg  MB)    0.49  "
      ]
     },
     "execution_count": 25,
     "metadata": {},
     "output_type": "execute_result"
    }
   ],
   "source": [
    "upload_df.loc[upload_df['SK_PI']==5][['time','SK_PI', 'PROVIDER', 'server','UPLOAD']].tail(20)"
   ]
  },
  {
   "cell_type": "code",
   "execution_count": 26,
   "metadata": {},
   "outputs": [
    {
     "data": {
      "text/html": [
       "<div>\n",
       "<style>\n",
       "    .dataframe thead tr:only-child th {\n",
       "        text-align: right;\n",
       "    }\n",
       "\n",
       "    .dataframe thead th {\n",
       "        text-align: left;\n",
       "    }\n",
       "\n",
       "    .dataframe tbody tr th {\n",
       "        vertical-align: top;\n",
       "    }\n",
       "</style>\n",
       "<table border=\"1\" class=\"dataframe\">\n",
       "  <thead>\n",
       "    <tr style=\"text-align: right;\">\n",
       "      <th></th>\n",
       "      <th>time</th>\n",
       "      <th>SK_PI</th>\n",
       "      <th>PROVIDER</th>\n",
       "      <th>server</th>\n",
       "      <th>UPLOAD</th>\n",
       "    </tr>\n",
       "  </thead>\n",
       "  <tbody>\n",
       "    <tr>\n",
       "      <th>520</th>\n",
       "      <td>2018-11-07 18:22:07</td>\n",
       "      <td>8</td>\n",
       "      <td>MERLIN</td>\n",
       "      <td>Voyageur Internet (Winnipeg  MB)</td>\n",
       "      <td>136.88</td>\n",
       "    </tr>\n",
       "    <tr>\n",
       "      <th>523</th>\n",
       "      <td>2018-11-07 20:14:27</td>\n",
       "      <td>8</td>\n",
       "      <td>iperf</td>\n",
       "      <td>clearskystatus.info iperf</td>\n",
       "      <td>4034.56</td>\n",
       "    </tr>\n",
       "    <tr>\n",
       "      <th>1072</th>\n",
       "      <td>2018-11-30 18:12:12</td>\n",
       "      <td>8</td>\n",
       "      <td>MERLIN</td>\n",
       "      <td>Voyageur Internet (Winnipeg  MB)</td>\n",
       "      <td>140.37</td>\n",
       "    </tr>\n",
       "    <tr>\n",
       "      <th>1077</th>\n",
       "      <td>2018-11-30 21:54:11</td>\n",
       "      <td>8</td>\n",
       "      <td>MERLIN</td>\n",
       "      <td>Commstream Communications (Winnipeg  MB)</td>\n",
       "      <td>86.70</td>\n",
       "    </tr>\n",
       "    <tr>\n",
       "      <th>1087</th>\n",
       "      <td>2018-12-01 01:36:11</td>\n",
       "      <td>8</td>\n",
       "      <td>Commstream Communications</td>\n",
       "      <td>Commstream Communications (Winnipeg  MB)</td>\n",
       "      <td>85.11</td>\n",
       "    </tr>\n",
       "    <tr>\n",
       "      <th>1096</th>\n",
       "      <td>2018-12-01 05:18:13</td>\n",
       "      <td>8</td>\n",
       "      <td>MERLIN</td>\n",
       "      <td>Commstream Communications (Winnipeg  MB)</td>\n",
       "      <td>98.24</td>\n",
       "    </tr>\n",
       "    <tr>\n",
       "      <th>1101</th>\n",
       "      <td>2018-12-01 09:00:06</td>\n",
       "      <td>8</td>\n",
       "      <td>Commstream Communications</td>\n",
       "      <td>Commstream Communications (Winnipeg  MB)</td>\n",
       "      <td>66.03</td>\n",
       "    </tr>\n",
       "    <tr>\n",
       "      <th>1112</th>\n",
       "      <td>2018-12-01 12:42:11</td>\n",
       "      <td>8</td>\n",
       "      <td>MERLIN</td>\n",
       "      <td>LES.NET (Winnipeg  MB)</td>\n",
       "      <td>132.91</td>\n",
       "    </tr>\n",
       "    <tr>\n",
       "      <th>1122</th>\n",
       "      <td>2018-12-01 16:24:10</td>\n",
       "      <td>8</td>\n",
       "      <td>Commstream Communications</td>\n",
       "      <td>LES.NET (Winnipeg  MB)</td>\n",
       "      <td>92.83</td>\n",
       "    </tr>\n",
       "    <tr>\n",
       "      <th>1133</th>\n",
       "      <td>2018-12-01 20:06:10</td>\n",
       "      <td>8</td>\n",
       "      <td>Commstream Communications</td>\n",
       "      <td>Voyageur Internet (Winnipeg  MB)</td>\n",
       "      <td>92.23</td>\n",
       "    </tr>\n",
       "    <tr>\n",
       "      <th>1137</th>\n",
       "      <td>2018-12-01 21:58:23</td>\n",
       "      <td>8</td>\n",
       "      <td>iperf</td>\n",
       "      <td>clearskystatus.info iperf</td>\n",
       "      <td>6809.60</td>\n",
       "    </tr>\n",
       "    <tr>\n",
       "      <th>1139</th>\n",
       "      <td>2018-12-01 23:48:09</td>\n",
       "      <td>8</td>\n",
       "      <td>Commstream Communications</td>\n",
       "      <td>Commstream Communications (Winnipeg  MB)</td>\n",
       "      <td>87.21</td>\n",
       "    </tr>\n",
       "    <tr>\n",
       "      <th>1150</th>\n",
       "      <td>2018-12-02 03:30:06</td>\n",
       "      <td>8</td>\n",
       "      <td>Commstream Communications</td>\n",
       "      <td>Commstream Communications (Winnipeg  MB)</td>\n",
       "      <td>78.58</td>\n",
       "    </tr>\n",
       "    <tr>\n",
       "      <th>1164</th>\n",
       "      <td>2018-12-02 07:12:17</td>\n",
       "      <td>8</td>\n",
       "      <td>Commstream Communications</td>\n",
       "      <td>Commstream Communications (Winnipeg  MB)</td>\n",
       "      <td>74.60</td>\n",
       "    </tr>\n",
       "    <tr>\n",
       "      <th>1173</th>\n",
       "      <td>2018-12-02 10:54:19</td>\n",
       "      <td>8</td>\n",
       "      <td>MERLIN</td>\n",
       "      <td>LES.NET (Winnipeg  MB)</td>\n",
       "      <td>133.93</td>\n",
       "    </tr>\n",
       "    <tr>\n",
       "      <th>1177</th>\n",
       "      <td>2018-12-02 14:36:08</td>\n",
       "      <td>8</td>\n",
       "      <td>Commstream Communications</td>\n",
       "      <td>LES.NET (Winnipeg  MB)</td>\n",
       "      <td>87.76</td>\n",
       "    </tr>\n",
       "    <tr>\n",
       "      <th>1191</th>\n",
       "      <td>2018-12-02 18:18:16</td>\n",
       "      <td>8</td>\n",
       "      <td>MERLIN</td>\n",
       "      <td>Voyageur Internet (Winnipeg  MB)</td>\n",
       "      <td>92.90</td>\n",
       "    </tr>\n",
       "    <tr>\n",
       "      <th>1199</th>\n",
       "      <td>2018-12-02 22:00:14</td>\n",
       "      <td>8</td>\n",
       "      <td>MERLIN</td>\n",
       "      <td>Voyageur Internet (Winnipeg  MB)</td>\n",
       "      <td>140.53</td>\n",
       "    </tr>\n",
       "    <tr>\n",
       "      <th>1210</th>\n",
       "      <td>2018-12-03 01:42:17</td>\n",
       "      <td>8</td>\n",
       "      <td>Commstream Communications</td>\n",
       "      <td>Commstream Communications (Winnipeg  MB)</td>\n",
       "      <td>89.50</td>\n",
       "    </tr>\n",
       "    <tr>\n",
       "      <th>1217</th>\n",
       "      <td>2018-12-03 05:24:13</td>\n",
       "      <td>8</td>\n",
       "      <td>Commstream Communications</td>\n",
       "      <td>Voyageur Internet (Winnipeg  MB)</td>\n",
       "      <td>92.88</td>\n",
       "    </tr>\n",
       "  </tbody>\n",
       "</table>\n",
       "</div>"
      ],
      "text/plain": [
       "                    time  SK_PI                   PROVIDER  \\\n",
       "520  2018-11-07 18:22:07      8                     MERLIN   \n",
       "523  2018-11-07 20:14:27      8                      iperf   \n",
       "1072 2018-11-30 18:12:12      8                     MERLIN   \n",
       "1077 2018-11-30 21:54:11      8                     MERLIN   \n",
       "1087 2018-12-01 01:36:11      8  Commstream Communications   \n",
       "1096 2018-12-01 05:18:13      8                     MERLIN   \n",
       "1101 2018-12-01 09:00:06      8  Commstream Communications   \n",
       "1112 2018-12-01 12:42:11      8                     MERLIN   \n",
       "1122 2018-12-01 16:24:10      8  Commstream Communications   \n",
       "1133 2018-12-01 20:06:10      8  Commstream Communications   \n",
       "1137 2018-12-01 21:58:23      8                      iperf   \n",
       "1139 2018-12-01 23:48:09      8  Commstream Communications   \n",
       "1150 2018-12-02 03:30:06      8  Commstream Communications   \n",
       "1164 2018-12-02 07:12:17      8  Commstream Communications   \n",
       "1173 2018-12-02 10:54:19      8                     MERLIN   \n",
       "1177 2018-12-02 14:36:08      8  Commstream Communications   \n",
       "1191 2018-12-02 18:18:16      8                     MERLIN   \n",
       "1199 2018-12-02 22:00:14      8                     MERLIN   \n",
       "1210 2018-12-03 01:42:17      8  Commstream Communications   \n",
       "1217 2018-12-03 05:24:13      8  Commstream Communications   \n",
       "\n",
       "                                        server   UPLOAD  \n",
       "520           Voyageur Internet (Winnipeg  MB)   136.88  \n",
       "523                  clearskystatus.info iperf  4034.56  \n",
       "1072          Voyageur Internet (Winnipeg  MB)   140.37  \n",
       "1077  Commstream Communications (Winnipeg  MB)    86.70  \n",
       "1087  Commstream Communications (Winnipeg  MB)    85.11  \n",
       "1096  Commstream Communications (Winnipeg  MB)    98.24  \n",
       "1101  Commstream Communications (Winnipeg  MB)    66.03  \n",
       "1112                    LES.NET (Winnipeg  MB)   132.91  \n",
       "1122                    LES.NET (Winnipeg  MB)    92.83  \n",
       "1133          Voyageur Internet (Winnipeg  MB)    92.23  \n",
       "1137                 clearskystatus.info iperf  6809.60  \n",
       "1139  Commstream Communications (Winnipeg  MB)    87.21  \n",
       "1150  Commstream Communications (Winnipeg  MB)    78.58  \n",
       "1164  Commstream Communications (Winnipeg  MB)    74.60  \n",
       "1173                    LES.NET (Winnipeg  MB)   133.93  \n",
       "1177                    LES.NET (Winnipeg  MB)    87.76  \n",
       "1191          Voyageur Internet (Winnipeg  MB)    92.90  \n",
       "1199          Voyageur Internet (Winnipeg  MB)   140.53  \n",
       "1210  Commstream Communications (Winnipeg  MB)    89.50  \n",
       "1217          Voyageur Internet (Winnipeg  MB)    92.88  "
      ]
     },
     "execution_count": 26,
     "metadata": {},
     "output_type": "execute_result"
    }
   ],
   "source": [
    "upload_df.loc[upload_df['SK_PI']==8][['time','SK_PI', 'PROVIDER', 'server','UPLOAD']].head(20)"
   ]
  },
  {
   "cell_type": "code",
   "execution_count": 27,
   "metadata": {},
   "outputs": [
    {
     "data": {
      "text/html": [
       "<div>\n",
       "<style>\n",
       "    .dataframe thead tr:only-child th {\n",
       "        text-align: right;\n",
       "    }\n",
       "\n",
       "    .dataframe thead th {\n",
       "        text-align: left;\n",
       "    }\n",
       "\n",
       "    .dataframe tbody tr th {\n",
       "        vertical-align: top;\n",
       "    }\n",
       "</style>\n",
       "<table border=\"1\" class=\"dataframe\">\n",
       "  <thead>\n",
       "    <tr style=\"text-align: right;\">\n",
       "      <th></th>\n",
       "      <th>time</th>\n",
       "      <th>SK_PI</th>\n",
       "      <th>PROVIDER</th>\n",
       "      <th>server</th>\n",
       "      <th>UPLOAD</th>\n",
       "    </tr>\n",
       "  </thead>\n",
       "  <tbody>\n",
       "    <tr>\n",
       "      <th>3264</th>\n",
       "      <td>2019-01-03 01:24:04</td>\n",
       "      <td>5</td>\n",
       "      <td>Bell MTS</td>\n",
       "      <td>Voyageur Internet (Winnipeg  MB)</td>\n",
       "      <td>0.58</td>\n",
       "    </tr>\n",
       "    <tr>\n",
       "      <th>3281</th>\n",
       "      <td>2019-01-03 05:06:10</td>\n",
       "      <td>5</td>\n",
       "      <td>Bell MTS</td>\n",
       "      <td>LES.NET (Winnipeg  MB)</td>\n",
       "      <td>0.52</td>\n",
       "    </tr>\n",
       "    <tr>\n",
       "      <th>3298</th>\n",
       "      <td>2019-01-03 08:48:17</td>\n",
       "      <td>5</td>\n",
       "      <td>Bell MTS</td>\n",
       "      <td>Rogers (Winnipeg  MB)</td>\n",
       "      <td>0.44</td>\n",
       "    </tr>\n",
       "    <tr>\n",
       "      <th>3303</th>\n",
       "      <td>2019-01-03 12:30:10</td>\n",
       "      <td>5</td>\n",
       "      <td>Bell MTS</td>\n",
       "      <td>Rogers (Winnipeg  MB)</td>\n",
       "      <td>0.47</td>\n",
       "    </tr>\n",
       "    <tr>\n",
       "      <th>3312</th>\n",
       "      <td>2019-01-03 16:12:06</td>\n",
       "      <td>5</td>\n",
       "      <td>Bell MTS</td>\n",
       "      <td>Rogers (Winnipeg  MB)</td>\n",
       "      <td>0.46</td>\n",
       "    </tr>\n",
       "    <tr>\n",
       "      <th>3335</th>\n",
       "      <td>2019-01-03 19:54:17</td>\n",
       "      <td>5</td>\n",
       "      <td>Bell MTS</td>\n",
       "      <td>LES.NET (Winnipeg  MB)</td>\n",
       "      <td>0.29</td>\n",
       "    </tr>\n",
       "    <tr>\n",
       "      <th>3344</th>\n",
       "      <td>2019-01-03 23:36:10</td>\n",
       "      <td>5</td>\n",
       "      <td>Bell MTS</td>\n",
       "      <td>Voyageur Internet (Winnipeg  MB)</td>\n",
       "      <td>0.55</td>\n",
       "    </tr>\n",
       "    <tr>\n",
       "      <th>3358</th>\n",
       "      <td>2019-01-04 03:18:17</td>\n",
       "      <td>5</td>\n",
       "      <td>Bell MTS</td>\n",
       "      <td>Voyageur Internet (Winnipeg  MB)</td>\n",
       "      <td>0.56</td>\n",
       "    </tr>\n",
       "    <tr>\n",
       "      <th>3361</th>\n",
       "      <td>2019-01-04 07:00:06</td>\n",
       "      <td>5</td>\n",
       "      <td>Bell MTS</td>\n",
       "      <td>Rogers (Winnipeg  MB)</td>\n",
       "      <td>0.40</td>\n",
       "    </tr>\n",
       "    <tr>\n",
       "      <th>3380</th>\n",
       "      <td>2019-01-04 10:42:15</td>\n",
       "      <td>5</td>\n",
       "      <td>Bell MTS</td>\n",
       "      <td>Rogers (Winnipeg  MB)</td>\n",
       "      <td>0.50</td>\n",
       "    </tr>\n",
       "    <tr>\n",
       "      <th>3388</th>\n",
       "      <td>2019-01-04 14:24:08</td>\n",
       "      <td>5</td>\n",
       "      <td>Bell MTS</td>\n",
       "      <td>Rogers (Winnipeg  MB)</td>\n",
       "      <td>0.48</td>\n",
       "    </tr>\n",
       "    <tr>\n",
       "      <th>3403</th>\n",
       "      <td>2019-01-04 18:06:13</td>\n",
       "      <td>5</td>\n",
       "      <td>Bell MTS</td>\n",
       "      <td>Shaw Communications (Winnipeg  MB)</td>\n",
       "      <td>0.46</td>\n",
       "    </tr>\n",
       "    <tr>\n",
       "      <th>3414</th>\n",
       "      <td>2019-01-04 21:48:13</td>\n",
       "      <td>5</td>\n",
       "      <td>Bell MTS</td>\n",
       "      <td>Voyageur Internet (Winnipeg  MB)</td>\n",
       "      <td>0.57</td>\n",
       "    </tr>\n",
       "    <tr>\n",
       "      <th>3429</th>\n",
       "      <td>2019-01-05 01:30:14</td>\n",
       "      <td>5</td>\n",
       "      <td>Bell MTS</td>\n",
       "      <td>Commstream Communications (Winnipeg  MB)</td>\n",
       "      <td>0.54</td>\n",
       "    </tr>\n",
       "    <tr>\n",
       "      <th>3439</th>\n",
       "      <td>2019-01-05 05:12:12</td>\n",
       "      <td>5</td>\n",
       "      <td>Bell MTS</td>\n",
       "      <td>Rogers (Winnipeg  MB)</td>\n",
       "      <td>0.57</td>\n",
       "    </tr>\n",
       "    <tr>\n",
       "      <th>3452</th>\n",
       "      <td>2019-01-05 08:54:13</td>\n",
       "      <td>5</td>\n",
       "      <td>Bell MTS</td>\n",
       "      <td>Shaw Communications (Winnipeg  MB)</td>\n",
       "      <td>0.52</td>\n",
       "    </tr>\n",
       "    <tr>\n",
       "      <th>3465</th>\n",
       "      <td>2019-01-05 12:36:14</td>\n",
       "      <td>5</td>\n",
       "      <td>Bell MTS</td>\n",
       "      <td>Rogers (Winnipeg  MB)</td>\n",
       "      <td>0.46</td>\n",
       "    </tr>\n",
       "    <tr>\n",
       "      <th>3468</th>\n",
       "      <td>2019-01-05 16:18:02</td>\n",
       "      <td>5</td>\n",
       "      <td>Bell MTS</td>\n",
       "      <td>Voyageur Internet (Winnipeg  MB)</td>\n",
       "      <td>0.55</td>\n",
       "    </tr>\n",
       "    <tr>\n",
       "      <th>3490</th>\n",
       "      <td>2019-01-05 20:00:16</td>\n",
       "      <td>5</td>\n",
       "      <td>Bell MTS</td>\n",
       "      <td>LES.NET (Winnipeg  MB)</td>\n",
       "      <td>0.59</td>\n",
       "    </tr>\n",
       "    <tr>\n",
       "      <th>3492</th>\n",
       "      <td>2019-01-05 23:42:02</td>\n",
       "      <td>5</td>\n",
       "      <td>Bell MTS</td>\n",
       "      <td>Voyageur Internet (Winnipeg  MB)</td>\n",
       "      <td>0.49</td>\n",
       "    </tr>\n",
       "  </tbody>\n",
       "</table>\n",
       "</div>"
      ],
      "text/plain": [
       "                    time  SK_PI  PROVIDER  \\\n",
       "3264 2019-01-03 01:24:04      5  Bell MTS   \n",
       "3281 2019-01-03 05:06:10      5  Bell MTS   \n",
       "3298 2019-01-03 08:48:17      5  Bell MTS   \n",
       "3303 2019-01-03 12:30:10      5  Bell MTS   \n",
       "3312 2019-01-03 16:12:06      5  Bell MTS   \n",
       "3335 2019-01-03 19:54:17      5  Bell MTS   \n",
       "3344 2019-01-03 23:36:10      5  Bell MTS   \n",
       "3358 2019-01-04 03:18:17      5  Bell MTS   \n",
       "3361 2019-01-04 07:00:06      5  Bell MTS   \n",
       "3380 2019-01-04 10:42:15      5  Bell MTS   \n",
       "3388 2019-01-04 14:24:08      5  Bell MTS   \n",
       "3403 2019-01-04 18:06:13      5  Bell MTS   \n",
       "3414 2019-01-04 21:48:13      5  Bell MTS   \n",
       "3429 2019-01-05 01:30:14      5  Bell MTS   \n",
       "3439 2019-01-05 05:12:12      5  Bell MTS   \n",
       "3452 2019-01-05 08:54:13      5  Bell MTS   \n",
       "3465 2019-01-05 12:36:14      5  Bell MTS   \n",
       "3468 2019-01-05 16:18:02      5  Bell MTS   \n",
       "3490 2019-01-05 20:00:16      5  Bell MTS   \n",
       "3492 2019-01-05 23:42:02      5  Bell MTS   \n",
       "\n",
       "                                        server  UPLOAD  \n",
       "3264          Voyageur Internet (Winnipeg  MB)    0.58  \n",
       "3281                    LES.NET (Winnipeg  MB)    0.52  \n",
       "3298                     Rogers (Winnipeg  MB)    0.44  \n",
       "3303                     Rogers (Winnipeg  MB)    0.47  \n",
       "3312                     Rogers (Winnipeg  MB)    0.46  \n",
       "3335                    LES.NET (Winnipeg  MB)    0.29  \n",
       "3344          Voyageur Internet (Winnipeg  MB)    0.55  \n",
       "3358          Voyageur Internet (Winnipeg  MB)    0.56  \n",
       "3361                     Rogers (Winnipeg  MB)    0.40  \n",
       "3380                     Rogers (Winnipeg  MB)    0.50  \n",
       "3388                     Rogers (Winnipeg  MB)    0.48  \n",
       "3403        Shaw Communications (Winnipeg  MB)    0.46  \n",
       "3414          Voyageur Internet (Winnipeg  MB)    0.57  \n",
       "3429  Commstream Communications (Winnipeg  MB)    0.54  \n",
       "3439                     Rogers (Winnipeg  MB)    0.57  \n",
       "3452        Shaw Communications (Winnipeg  MB)    0.52  \n",
       "3465                     Rogers (Winnipeg  MB)    0.46  \n",
       "3468          Voyageur Internet (Winnipeg  MB)    0.55  \n",
       "3490                    LES.NET (Winnipeg  MB)    0.59  \n",
       "3492          Voyageur Internet (Winnipeg  MB)    0.49  "
      ]
     },
     "execution_count": 27,
     "metadata": {},
     "output_type": "execute_result"
    }
   ],
   "source": [
    "upload_df.loc[upload_df['SK_PI']==5][['time','SK_PI', 'PROVIDER', 'server','UPLOAD']].tail(20)"
   ]
  },
  {
   "cell_type": "markdown",
   "metadata": {},
   "source": [
    " Looks like data is collected with 3 hours 42 mins intervals using different test servers. \n",
    " How is it determined which test server to use?\n",
    " \n",
    " ### To do : \n",
    " Calculate all the intevals?\n",
    " For some devices -plot data by test server?"
   ]
  },
  {
   "cell_type": "markdown",
   "metadata": {},
   "source": [
    "### Median, average, maximum upload speed per device"
   ]
  },
  {
   "cell_type": "code",
   "execution_count": 28,
   "metadata": {},
   "outputs": [
    {
     "data": {
      "application/vnd.plotly.v1+json": {
       "data": [
        {
         "name": "Mean",
         "type": "bar",
         "x": [
          1,
          2,
          3,
          4,
          5,
          6,
          7,
          8,
          9,
          10,
          11,
          12,
          14,
          15,
          16,
          17,
          18
         ],
         "y": [
          283.248,
          670.6246666666664,
          658.1263066202092,
          181.53728222996523,
          77.28529520295199,
          630.83125,
          654.2795454545451,
          561.6721739130435,
          191.18078189300397,
          4.625095541401271,
          64.91794759825329,
          49.4129166666667,
          83.35931034482758,
          43.53054187192116,
          3.7896174863387992,
          45.662384105960236,
          9.594033613445374
         ]
        },
        {
         "name": "Max",
         "type": "bar",
         "x": [
          1,
          2,
          3,
          4,
          5,
          6,
          7,
          8,
          9,
          10,
          11,
          12,
          14,
          15,
          16,
          17,
          18
         ],
         "y": [
          844,
          6492.16,
          20480,
          842,
          620,
          926,
          8140.8,
          6809.6,
          7444.48,
          6.5,
          1669.12,
          3235.84,
          150.63,
          52.49,
          4.03,
          50.87,
          11.53
         ]
        },
        {
         "name": "Median",
         "type": "bar",
         "x": [
          1,
          2,
          3,
          4,
          5,
          6,
          7,
          8,
          9,
          10,
          11,
          12,
          14,
          15,
          16,
          17,
          18
         ],
         "y": [
          0.89,
          7.115,
          125.34,
          0.64,
          0.52,
          798.5,
          8.045,
          92.49,
          52.31,
          4.64,
          52.42,
          8.184999999999999,
          120.12,
          43.65,
          3.85,
          47.14,
          9.56
         ]
        }
       ],
       "layout": {
        "title": "Maximum, mean and median upload speed per device"
       }
      },
      "text/html": [
       "<div id=\"fae3d65f-0155-4b11-8215-71d2eb124d3c\" style=\"height: 525px; width: 100%;\" class=\"plotly-graph-div\"></div><script type=\"text/javascript\">require([\"plotly\"], function(Plotly) { window.PLOTLYENV=window.PLOTLYENV || {};window.PLOTLYENV.BASE_URL=\"https://plot.ly\";Plotly.newPlot(\"fae3d65f-0155-4b11-8215-71d2eb124d3c\", [{\"type\": \"bar\", \"x\": [1, 2, 3, 4, 5, 6, 7, 8, 9, 10, 11, 12, 14, 15, 16, 17, 18], \"y\": [283.248, 670.6246666666664, 658.1263066202092, 181.53728222996523, 77.28529520295199, 630.83125, 654.2795454545451, 561.6721739130435, 191.18078189300397, 4.625095541401271, 64.91794759825329, 49.4129166666667, 83.35931034482758, 43.53054187192116, 3.7896174863387992, 45.662384105960236, 9.594033613445374], \"name\": \"Mean\"}, {\"type\": \"bar\", \"x\": [1, 2, 3, 4, 5, 6, 7, 8, 9, 10, 11, 12, 14, 15, 16, 17, 18], \"y\": [844.0, 6492.16, 20480.0, 842.0, 620.0, 926.0, 8140.8, 6809.6, 7444.48, 6.5, 1669.12, 3235.84, 150.63, 52.49, 4.03, 50.87, 11.53], \"name\": \"Max\"}, {\"type\": \"bar\", \"x\": [1, 2, 3, 4, 5, 6, 7, 8, 9, 10, 11, 12, 14, 15, 16, 17, 18], \"y\": [0.89, 7.115, 125.34, 0.64, 0.52, 798.5, 8.045, 92.49, 52.31, 4.64, 52.42, 8.184999999999999, 120.12, 43.65, 3.85, 47.14, 9.56], \"name\": \"Median\"}], {\"title\": \"Maximum, mean and median upload speed per device\"}, {\"showLink\": true, \"linkText\": \"Export to plot.ly\"})});</script>"
      ],
      "text/vnd.plotly.v1+html": [
       "<div id=\"fae3d65f-0155-4b11-8215-71d2eb124d3c\" style=\"height: 525px; width: 100%;\" class=\"plotly-graph-div\"></div><script type=\"text/javascript\">require([\"plotly\"], function(Plotly) { window.PLOTLYENV=window.PLOTLYENV || {};window.PLOTLYENV.BASE_URL=\"https://plot.ly\";Plotly.newPlot(\"fae3d65f-0155-4b11-8215-71d2eb124d3c\", [{\"type\": \"bar\", \"x\": [1, 2, 3, 4, 5, 6, 7, 8, 9, 10, 11, 12, 14, 15, 16, 17, 18], \"y\": [283.248, 670.6246666666664, 658.1263066202092, 181.53728222996523, 77.28529520295199, 630.83125, 654.2795454545451, 561.6721739130435, 191.18078189300397, 4.625095541401271, 64.91794759825329, 49.4129166666667, 83.35931034482758, 43.53054187192116, 3.7896174863387992, 45.662384105960236, 9.594033613445374], \"name\": \"Mean\"}, {\"type\": \"bar\", \"x\": [1, 2, 3, 4, 5, 6, 7, 8, 9, 10, 11, 12, 14, 15, 16, 17, 18], \"y\": [844.0, 6492.16, 20480.0, 842.0, 620.0, 926.0, 8140.8, 6809.6, 7444.48, 6.5, 1669.12, 3235.84, 150.63, 52.49, 4.03, 50.87, 11.53], \"name\": \"Max\"}, {\"type\": \"bar\", \"x\": [1, 2, 3, 4, 5, 6, 7, 8, 9, 10, 11, 12, 14, 15, 16, 17, 18], \"y\": [0.89, 7.115, 125.34, 0.64, 0.52, 798.5, 8.045, 92.49, 52.31, 4.64, 52.42, 8.184999999999999, 120.12, 43.65, 3.85, 47.14, 9.56], \"name\": \"Median\"}], {\"title\": \"Maximum, mean and median upload speed per device\"}, {\"showLink\": true, \"linkText\": \"Export to plot.ly\"})});</script>"
      ]
     },
     "metadata": {},
     "output_type": "display_data"
    }
   ],
   "source": [
    "max_upload = upload_df.groupby('SK_PI')['UPLOAD'].max().reset_index()\n",
    "max_upload.columns = ['SK_PI', 'UPLOAD_MAX']\n",
    "med_upload = upload_df.groupby('SK_PI')['UPLOAD'].median().reset_index()\n",
    "med_upload.columns = ['SK_PI', 'UPLOAD_MEDIAN']\n",
    "avg_upload = upload_df.groupby('SK_PI')['UPLOAD'].mean().reset_index()\n",
    "avg_upload.columns = ['SK_PI', 'UPLOAD_MEAN']\n",
    "med_max_avg_upload=pd.merge(pd.merge(max_upload, med_upload,on='SK_PI'),avg_upload, on='SK_PI')\n",
    "trace1 = go.Bar(\n",
    "            x=med_max_avg_upload['SK_PI'],\n",
    "            y=med_max_avg_upload['UPLOAD_MEAN'],\n",
    "            name='Mean',\n",
    "    )\n",
    "trace2 = go.Bar(\n",
    "            x=med_max_avg_upload['SK_PI'],\n",
    "            y=med_max_avg_upload['UPLOAD_MAX'],\n",
    "            name='Max',\n",
    "    \n",
    "    )\n",
    "trace3 = go.Bar(\n",
    "            x=med_max_avg_upload['SK_PI'],\n",
    "            y=med_max_avg_upload['UPLOAD_MEDIAN'],\n",
    "            name='Median',\n",
    "    \n",
    "    )\n",
    "data = [trace1, trace2, trace3]\n",
    "layout = go.Layout(\n",
    "       # barmode='stack',\n",
    "        title=\"Maximum, mean and median upload speed per device\"\n",
    "    )\n",
    "\n",
    "fig = go.Figure(data=data, layout=layout)\n",
    "iplot(fig)"
   ]
  },
  {
   "cell_type": "markdown",
   "metadata": {},
   "source": [
    "Device #3 (Cybera office)  has the larges spikes, but device 6 have larger median - potentially an issue there."
   ]
  },
  {
   "cell_type": "markdown",
   "metadata": {},
   "source": [
    "### Median, average, maximum download speed per device"
   ]
  },
  {
   "cell_type": "code",
   "execution_count": 29,
   "metadata": {},
   "outputs": [
    {
     "data": {
      "application/vnd.plotly.v1+json": {
       "data": [
        {
         "name": "Mean",
         "type": "bar",
         "x": [
          1,
          2,
          3,
          4,
          5,
          6,
          7,
          8,
          9,
          10,
          11,
          12,
          14,
          15,
          16,
          17,
          18
         ],
         "y": [
          2528.6189999999997,
          2509.1447083333355,
          2740.696620209058,
          916.1203124999998,
          848.9979151291517,
          4066.4518750000016,
          966.2593750000001,
          3450.8595652173913,
          880.6203292181077,
          4.139745222929936,
          137.64659388646308,
          244.48587500000002,
          94.68926108374383,
          16.955024630541878,
          5.559836065573769,
          36.687748344370874,
          9.351596638655463
         ]
        },
        {
         "name": "Max",
         "type": "bar",
         "x": [
          1,
          2,
          3,
          4,
          5,
          6,
          7,
          8,
          9,
          10,
          11,
          12,
          14,
          15,
          16,
          17,
          18
         ],
         "y": [
          9666.56,
          11878.4,
          42086.4,
          4075.52,
          6871.04,
          6656,
          10342.4,
          38809.6,
          31744,
          7.32,
          12288,
          15257.6,
          174.28,
          27.66,
          6.34,
          46.02,
          9.55
         ]
        },
        {
         "name": "Median",
         "type": "bar",
         "x": [
          1,
          2,
          3,
          4,
          5,
          6,
          7,
          8,
          9,
          10,
          11,
          12,
          14,
          15,
          16,
          17,
          18
         ],
         "y": [
          9.059999999999999,
          11.260000000000002,
          180.64,
          3.76,
          6.46,
          5580.8,
          12.2,
          92.11,
          43.85,
          4.19,
          26.18,
          16.465,
          136.14,
          16.49,
          6.05,
          38.99,
          9.45
         ]
        }
       ],
       "layout": {
        "title": "Maximum, mean and median download speed per device"
       }
      },
      "text/html": [
       "<div id=\"d31094a6-1728-4fc8-83a8-d466213195bc\" style=\"height: 525px; width: 100%;\" class=\"plotly-graph-div\"></div><script type=\"text/javascript\">require([\"plotly\"], function(Plotly) { window.PLOTLYENV=window.PLOTLYENV || {};window.PLOTLYENV.BASE_URL=\"https://plot.ly\";Plotly.newPlot(\"d31094a6-1728-4fc8-83a8-d466213195bc\", [{\"type\": \"bar\", \"x\": [1, 2, 3, 4, 5, 6, 7, 8, 9, 10, 11, 12, 14, 15, 16, 17, 18], \"y\": [2528.6189999999997, 2509.1447083333355, 2740.696620209058, 916.1203124999998, 848.9979151291517, 4066.4518750000016, 966.2593750000001, 3450.8595652173913, 880.6203292181077, 4.139745222929936, 137.64659388646308, 244.48587500000002, 94.68926108374383, 16.955024630541878, 5.559836065573769, 36.687748344370874, 9.351596638655463], \"name\": \"Mean\"}, {\"type\": \"bar\", \"x\": [1, 2, 3, 4, 5, 6, 7, 8, 9, 10, 11, 12, 14, 15, 16, 17, 18], \"y\": [9666.56, 11878.4, 42086.4, 4075.52, 6871.04, 6656.0, 10342.4, 38809.6, 31744.0, 7.32, 12288.0, 15257.6, 174.28, 27.66, 6.34, 46.02, 9.55], \"name\": \"Max\"}, {\"type\": \"bar\", \"x\": [1, 2, 3, 4, 5, 6, 7, 8, 9, 10, 11, 12, 14, 15, 16, 17, 18], \"y\": [9.059999999999999, 11.260000000000002, 180.64, 3.76, 6.46, 5580.8, 12.2, 92.11, 43.85, 4.19, 26.18, 16.465, 136.14, 16.49, 6.05, 38.99, 9.45], \"name\": \"Median\"}], {\"title\": \"Maximum, mean and median download speed per device\"}, {\"showLink\": true, \"linkText\": \"Export to plot.ly\"})});</script>"
      ],
      "text/vnd.plotly.v1+html": [
       "<div id=\"d31094a6-1728-4fc8-83a8-d466213195bc\" style=\"height: 525px; width: 100%;\" class=\"plotly-graph-div\"></div><script type=\"text/javascript\">require([\"plotly\"], function(Plotly) { window.PLOTLYENV=window.PLOTLYENV || {};window.PLOTLYENV.BASE_URL=\"https://plot.ly\";Plotly.newPlot(\"d31094a6-1728-4fc8-83a8-d466213195bc\", [{\"type\": \"bar\", \"x\": [1, 2, 3, 4, 5, 6, 7, 8, 9, 10, 11, 12, 14, 15, 16, 17, 18], \"y\": [2528.6189999999997, 2509.1447083333355, 2740.696620209058, 916.1203124999998, 848.9979151291517, 4066.4518750000016, 966.2593750000001, 3450.8595652173913, 880.6203292181077, 4.139745222929936, 137.64659388646308, 244.48587500000002, 94.68926108374383, 16.955024630541878, 5.559836065573769, 36.687748344370874, 9.351596638655463], \"name\": \"Mean\"}, {\"type\": \"bar\", \"x\": [1, 2, 3, 4, 5, 6, 7, 8, 9, 10, 11, 12, 14, 15, 16, 17, 18], \"y\": [9666.56, 11878.4, 42086.4, 4075.52, 6871.04, 6656.0, 10342.4, 38809.6, 31744.0, 7.32, 12288.0, 15257.6, 174.28, 27.66, 6.34, 46.02, 9.55], \"name\": \"Max\"}, {\"type\": \"bar\", \"x\": [1, 2, 3, 4, 5, 6, 7, 8, 9, 10, 11, 12, 14, 15, 16, 17, 18], \"y\": [9.059999999999999, 11.260000000000002, 180.64, 3.76, 6.46, 5580.8, 12.2, 92.11, 43.85, 4.19, 26.18, 16.465, 136.14, 16.49, 6.05, 38.99, 9.45], \"name\": \"Median\"}], {\"title\": \"Maximum, mean and median download speed per device\"}, {\"showLink\": true, \"linkText\": \"Export to plot.ly\"})});</script>"
      ]
     },
     "metadata": {},
     "output_type": "display_data"
    }
   ],
   "source": [
    "query_download = 'SELECT * FROM SPEEDTEST_DOWNLOAD;'\n",
    "result_download= client.query(query_download)\n",
    "download_df = result_download['SPEEDTEST_DOWNLOAD']\n",
    "\n",
    "download_df.reset_index(level=0, inplace=True)\n",
    "download_df['index']=download_df['index'].dt.strftime('%Y-%m-%d %H:%M:%S')\n",
    "download_df['index'] = pd.to_datetime(download_df['index'])\n",
    "download_df['SK_PI']=pd.to_numeric(download_df['SK_PI'])\n",
    "\n",
    "download_df.rename(columns={'index':'time'}, inplace=True)\n",
    "download_df = download_df[download_df.DOWNLOAD != 0]\n",
    "\n",
    "max_download = download_df.groupby('SK_PI')['DOWNLOAD'].max().reset_index()\n",
    "max_download.columns = ['SK_PI', 'DOWNLOAD_MAX']\n",
    "med_download = download_df.groupby('SK_PI')['DOWNLOAD'].median().reset_index()\n",
    "med_download.columns = ['SK_PI', 'DOWNLOAD_MEDIAN']\n",
    "avg_download = download_df.groupby('SK_PI')['DOWNLOAD'].mean().reset_index()\n",
    "avg_download.columns = ['SK_PI', 'DOWNLOAD_MEAN']\n",
    "med_max_avg_download=pd.merge(pd.merge(max_download, med_download,on='SK_PI'),avg_download, on='SK_PI')\n",
    "trace1 = go.Bar(\n",
    "            x=med_max_avg_download['SK_PI'],\n",
    "            y=med_max_avg_download['DOWNLOAD_MEAN'],\n",
    "            name='Mean',\n",
    "    )\n",
    "trace2 = go.Bar(\n",
    "            x=med_max_avg_download['SK_PI'],\n",
    "            y=med_max_avg_download['DOWNLOAD_MAX'],\n",
    "            name='Max',\n",
    "    \n",
    "    )\n",
    "trace3 = go.Bar(\n",
    "            x=med_max_avg_download['SK_PI'],\n",
    "            y=med_max_avg_download['DOWNLOAD_MEDIAN'],\n",
    "            name='Median',\n",
    "    \n",
    "    )\n",
    "data = [trace1, trace2, trace3]\n",
    "layout = go.Layout(\n",
    "       # barmode='stack',\n",
    "        title=\"Maximum, mean and median download speed per device\"\n",
    "    )\n",
    "\n",
    "fig = go.Figure(data=data, layout=layout)\n",
    "iplot(fig)"
   ]
  },
  {
   "cell_type": "markdown",
   "metadata": {},
   "source": [
    "Clearly device #6 has an issue with largest median. Devices 3, 8 9 having spikes as well."
   ]
  },
  {
   "cell_type": "markdown",
   "metadata": {},
   "source": [
    "### Median, average, maximum ping latency per device"
   ]
  },
  {
   "cell_type": "code",
   "execution_count": 30,
   "metadata": {},
   "outputs": [
    {
     "data": {
      "application/vnd.plotly.v1+json": {
       "data": [
        {
         "name": "Mean",
         "type": "bar",
         "x": [
          1,
          2,
          3,
          4,
          5,
          6,
          7,
          8,
          9,
          10,
          11,
          12,
          14,
          15,
          16,
          17,
          18
         ],
         "y": [
          75.8511,
          86.71691666666666,
          17.29585714285713,
          68.68412456747407,
          98.73371771217714,
          72.2733125,
          84.83940909090911,
          27.708173913043478,
          58.17627572016466,
          111.82328025477706,
          72.49317030567686,
          46.67680000000004,
          40.23353201970443,
          76.43048768472904,
          124.30046994535526,
          69.22038410596024,
          47.37664705882353
         ]
        },
        {
         "name": "Max",
         "type": "bar",
         "x": [
          1,
          2,
          3,
          4,
          5,
          6,
          7,
          8,
          9,
          10,
          11,
          12,
          14,
          15,
          16,
          17,
          18
         ],
         "y": [
          91.057,
          384.464,
          50.677,
          196.284,
          1125.501,
          153.61,
          511.859,
          90.184,
          130.437,
          679.029,
          90.874,
          76.434,
          520.789,
          96.08,
          1258.02,
          93.918,
          55.826
         ]
        },
        {
         "name": "Median",
         "type": "bar",
         "x": [
          1,
          2,
          3,
          4,
          5,
          6,
          7,
          8,
          9,
          10,
          11,
          12,
          14,
          15,
          16,
          17,
          18
         ],
         "y": [
          74.848,
          80.23150000000001,
          16.309,
          67.523,
          84.3935,
          63.944,
          81.7185,
          16.946,
          49.917,
          102.664,
          72.617,
          50.385999999999996,
          37.39,
          76.657,
          98.347,
          68.5,
          46.821
         ]
        }
       ],
       "layout": {
        "title": "Maximum, mean and medianping latency per device"
       }
      },
      "text/html": [
       "<div id=\"b2084384-c249-42ce-99f6-e2efc05d7426\" style=\"height: 525px; width: 100%;\" class=\"plotly-graph-div\"></div><script type=\"text/javascript\">require([\"plotly\"], function(Plotly) { window.PLOTLYENV=window.PLOTLYENV || {};window.PLOTLYENV.BASE_URL=\"https://plot.ly\";Plotly.newPlot(\"b2084384-c249-42ce-99f6-e2efc05d7426\", [{\"type\": \"bar\", \"x\": [1, 2, 3, 4, 5, 6, 7, 8, 9, 10, 11, 12, 14, 15, 16, 17, 18], \"y\": [75.8511, 86.71691666666666, 17.29585714285713, 68.68412456747407, 98.73371771217714, 72.2733125, 84.83940909090911, 27.708173913043478, 58.17627572016466, 111.82328025477706, 72.49317030567686, 46.67680000000004, 40.23353201970443, 76.43048768472904, 124.30046994535526, 69.22038410596024, 47.37664705882353], \"name\": \"Mean\"}, {\"type\": \"bar\", \"x\": [1, 2, 3, 4, 5, 6, 7, 8, 9, 10, 11, 12, 14, 15, 16, 17, 18], \"y\": [91.057, 384.464, 50.677, 196.284, 1125.501, 153.61, 511.859, 90.184, 130.437, 679.029, 90.874, 76.434, 520.789, 96.08, 1258.02, 93.918, 55.826], \"name\": \"Max\"}, {\"type\": \"bar\", \"x\": [1, 2, 3, 4, 5, 6, 7, 8, 9, 10, 11, 12, 14, 15, 16, 17, 18], \"y\": [74.848, 80.23150000000001, 16.309, 67.523, 84.3935, 63.944, 81.7185, 16.946, 49.917, 102.664, 72.617, 50.385999999999996, 37.39, 76.657, 98.347, 68.5, 46.821], \"name\": \"Median\"}], {\"title\": \"Maximum, mean and medianping latency per device\"}, {\"showLink\": true, \"linkText\": \"Export to plot.ly\"})});</script>"
      ],
      "text/vnd.plotly.v1+html": [
       "<div id=\"b2084384-c249-42ce-99f6-e2efc05d7426\" style=\"height: 525px; width: 100%;\" class=\"plotly-graph-div\"></div><script type=\"text/javascript\">require([\"plotly\"], function(Plotly) { window.PLOTLYENV=window.PLOTLYENV || {};window.PLOTLYENV.BASE_URL=\"https://plot.ly\";Plotly.newPlot(\"b2084384-c249-42ce-99f6-e2efc05d7426\", [{\"type\": \"bar\", \"x\": [1, 2, 3, 4, 5, 6, 7, 8, 9, 10, 11, 12, 14, 15, 16, 17, 18], \"y\": [75.8511, 86.71691666666666, 17.29585714285713, 68.68412456747407, 98.73371771217714, 72.2733125, 84.83940909090911, 27.708173913043478, 58.17627572016466, 111.82328025477706, 72.49317030567686, 46.67680000000004, 40.23353201970443, 76.43048768472904, 124.30046994535526, 69.22038410596024, 47.37664705882353], \"name\": \"Mean\"}, {\"type\": \"bar\", \"x\": [1, 2, 3, 4, 5, 6, 7, 8, 9, 10, 11, 12, 14, 15, 16, 17, 18], \"y\": [91.057, 384.464, 50.677, 196.284, 1125.501, 153.61, 511.859, 90.184, 130.437, 679.029, 90.874, 76.434, 520.789, 96.08, 1258.02, 93.918, 55.826], \"name\": \"Max\"}, {\"type\": \"bar\", \"x\": [1, 2, 3, 4, 5, 6, 7, 8, 9, 10, 11, 12, 14, 15, 16, 17, 18], \"y\": [74.848, 80.23150000000001, 16.309, 67.523, 84.3935, 63.944, 81.7185, 16.946, 49.917, 102.664, 72.617, 50.385999999999996, 37.39, 76.657, 98.347, 68.5, 46.821], \"name\": \"Median\"}], {\"title\": \"Maximum, mean and medianping latency per device\"}, {\"showLink\": true, \"linkText\": \"Export to plot.ly\"})});</script>"
      ]
     },
     "metadata": {},
     "output_type": "display_data"
    }
   ],
   "source": [
    "query_ping = 'SELECT * FROM SPEEDTEST_PING;'\n",
    "result_ping= client.query(query_ping)\n",
    "ping_df = result_ping['SPEEDTEST_PING']\n",
    "\n",
    "ping_df.reset_index(level=0, inplace=True)\n",
    "ping_df['index']=ping_df['index'].dt.strftime('%Y-%m-%d %H:%M:%S')\n",
    "ping_df['index'] = pd.to_datetime(ping_df['index'])\n",
    "ping_df['SK_PI']=pd.to_numeric(ping_df['SK_PI'])\n",
    "\n",
    "ping_df.rename(columns={'index':'time'}, inplace=True)\n",
    "ping_df = ping_df[ping_df.PING != 1800000.000] ## Removed outier that was found in the ms sql table\n",
    "\n",
    "max_ping = ping_df.groupby('SK_PI')['PING'].max().reset_index()\n",
    "max_ping.columns = ['SK_PI', 'PING_MAX']\n",
    "med_ping = ping_df.groupby('SK_PI')['PING'].median().reset_index()\n",
    "med_ping.columns = ['SK_PI', 'PING_MEDIAN']\n",
    "avg_ping = ping_df.groupby('SK_PI')['PING'].mean().reset_index()\n",
    "avg_ping.columns = ['SK_PI', 'PING_MEAN']\n",
    "med_max_avg_ping=pd.merge(pd.merge(max_ping, med_ping,on='SK_PI'),avg_ping, on='SK_PI')\n",
    "trace1 = go.Bar(\n",
    "            x=med_max_avg_ping['SK_PI'],\n",
    "            y=med_max_avg_ping['PING_MEAN'],\n",
    "            name='Mean',\n",
    "    )\n",
    "trace2 = go.Bar(\n",
    "            x=med_max_avg_ping['SK_PI'],\n",
    "            y=med_max_avg_ping['PING_MAX'],\n",
    "            name='Max',\n",
    "    \n",
    "    )\n",
    "trace3 = go.Bar(\n",
    "            x=med_max_avg_ping['SK_PI'],\n",
    "            y=med_max_avg_ping['PING_MEDIAN'],\n",
    "            name='Median',\n",
    "    \n",
    "    )\n",
    "data = [trace1, trace2, trace3]\n",
    "layout = go.Layout(\n",
    "       # barmode='stack',\n",
    "        title=\"Maximum, mean and medianping latency per device\"\n",
    "    )\n",
    "\n",
    "fig = go.Figure(data=data, layout=layout)\n",
    "iplot(fig)"
   ]
  },
  {
   "cell_type": "markdown",
   "metadata": {},
   "source": [
    "Devices 5 and 16 have larges maximum. Device #10 has large median, average as well."
   ]
  },
  {
   "cell_type": "markdown",
   "metadata": {},
   "source": [
    "### To do:\n",
    "Calculate latency, upload/download speeds per device per test server?  \n",
    "Calculate latency, upload/download speeds per device per provider?  "
   ]
  },
  {
   "cell_type": "code",
   "execution_count": null,
   "metadata": {
    "collapsed": true
   },
   "outputs": [],
   "source": []
  }
 ],
 "metadata": {
  "kernelspec": {
   "display_name": "Python 3",
   "language": "python",
   "name": "python3"
  },
  "language_info": {
   "codemirror_mode": {
    "name": "ipython",
    "version": 3
   },
   "file_extension": ".py",
   "mimetype": "text/x-python",
   "name": "python",
   "nbconvert_exporter": "python",
   "pygments_lexer": "ipython3",
   "version": "3.6.3"
  },
  "nbTranslate": {
   "displayLangs": [
    "*"
   ],
   "hotkey": "alt-t",
   "langInMainMenu": true,
   "sourceLang": "en",
   "targetLang": "fr",
   "useGoogleTranslate": true
  }
 },
 "nbformat": 4,
 "nbformat_minor": 2
}
