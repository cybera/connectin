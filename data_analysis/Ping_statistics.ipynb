{
 "cells": [
  {
   "cell_type": "markdown",
   "metadata": {},
   "source": [
    "# Ping statistics"
   ]
  },
  {
   "cell_type": "markdown",
   "metadata": {},
   "source": [
    "## How data is  collected\n",
    "Ping data is collected every 5 seconds doing single pings to 8.8.8.8\n",
    "\n",
    "**Example**:\n",
    ">$ ping -c 1 8.8.8.8  \n",
    ">PING 8.8.8.8 (8.8.8.8): 56 data bytes  \n",
    ">64 bytes from 8.8.8.8: icmp_seq=0 ttl=119 **time=22.985 ms**  \n",
    ">--- 8.8.8.8 ping statistics ---  \n",
    ">1 packets transmitted, 1 packets received, **0.0% packet loss**  \n",
    ">round-trip min/**avg**/max/**stddev** = 22.985/22.985/**22.985**/**0.000** ms  "
   ]
  },
  {
   "cell_type": "markdown",
   "metadata": {},
   "source": [
    "Data being collected:\n",
    " - **Ping latency** (in miliseconds, 22.985 ms in the example)\n",
    " - __Percentage of packets dropped__  (0.0% in the example, can be only 0% or 100%, data collected for single pings) \n",
    " - **Standart deviation (for latency)**  - always 0 for single pings\n"
   ]
  },
  {
   "cell_type": "markdown",
   "metadata": {},
   "source": [
    "## How data looks like\n",
    "Load libraries:"
   ]
  },
  {
   "cell_type": "code",
   "execution_count": 1,
   "metadata": {},
   "outputs": [
    {
     "data": {
      "text/html": [
       "<script>requirejs.config({paths: { 'plotly': ['https://cdn.plot.ly/plotly-latest.min']},});if(!window.Plotly) {{require(['plotly'],function(plotly) {window.Plotly=plotly;});}}</script>"
      ],
      "text/vnd.plotly.v1+html": [
       "<script>requirejs.config({paths: { 'plotly': ['https://cdn.plot.ly/plotly-latest.min']},});if(!window.Plotly) {{require(['plotly'],function(plotly) {window.Plotly=plotly;});}}</script>"
      ]
     },
     "metadata": {},
     "output_type": "display_data"
    }
   ],
   "source": [
    "from influxdb import DataFrameClient\n",
    "from influxdb import InfluxDBClient\n",
    "import json\n",
    "\n",
    "from plotly.offline import init_notebook_mode, iplot\n",
    "import plotly.graph_objs as go\n",
    "import plotly.plotly as py\n",
    "from plotly import tools\n",
    "init_notebook_mode(connected=True)"
   ]
  },
  {
   "cell_type": "markdown",
   "metadata": {},
   "source": [
    "Read credentials:"
   ]
  },
  {
   "cell_type": "code",
   "execution_count": 2,
   "metadata": {
    "collapsed": true
   },
   "outputs": [],
   "source": [
    "with open('../credentials.json', 'r') as f_credentials:\n",
    "    credentials_config = json.load(f_credentials)"
   ]
  },
  {
   "cell_type": "markdown",
   "metadata": {},
   "source": [
    "Set up influxdb connection:"
   ]
  },
  {
   "cell_type": "code",
   "execution_count": 3,
   "metadata": {
    "collapsed": true
   },
   "outputs": [],
   "source": [
    "host=credentials_config['influxdb_host']\n",
    "port=8086\n",
    "dbname = 'net_speed_md'\n",
    "client = InfluxDBClient(host, port, '', '', dbname)"
   ]
  },
  {
   "cell_type": "code",
   "execution_count": 4,
   "metadata": {
    "collapsed": true
   },
   "outputs": [],
   "source": [
    "#Trying to load entire table, convert to dataframe and estimate how much memory its taking\n",
    "#from here https://stackoverflow.com/questions/18089667/how-to-estimate-how-much-memory-a-pandas-dataframe-will-need\n",
    "#client = DataFrameClient(host, port, '', '', dbname)\n",
    "#query_ping = 'SELECT * FROM PING;'\n",
    "#result_ping = client.query(query_ping)\n",
    "#ping_df = result_ping['PING']\n",
    "#print(ping_df.memory_usage())\n",
    "#print(sys.getsizeof(ping_df))\n",
    "#rint( df.memory_usage(deep=True).sum())"
   ]
  },
  {
   "cell_type": "markdown",
   "metadata": {},
   "source": [
    "Checking last 10 records in the ping measurment and see how data looks like:"
   ]
  },
  {
   "cell_type": "code",
   "execution_count": 5,
   "metadata": {},
   "outputs": [
    {
     "data": {
      "text/html": [
       "<div>\n",
       "<style>\n",
       "    .dataframe thead tr:only-child th {\n",
       "        text-align: right;\n",
       "    }\n",
       "\n",
       "    .dataframe thead th {\n",
       "        text-align: left;\n",
       "    }\n",
       "\n",
       "    .dataframe tbody tr th {\n",
       "        vertical-align: top;\n",
       "    }\n",
       "</style>\n",
       "<table border=\"1\" class=\"dataframe\">\n",
       "  <thead>\n",
       "    <tr style=\"text-align: right;\">\n",
       "      <th></th>\n",
       "      <th>PING</th>\n",
       "      <th>SK_PI</th>\n",
       "    </tr>\n",
       "  </thead>\n",
       "  <tbody>\n",
       "    <tr>\n",
       "      <th>2019-01-04 23:59:54.392999936+00:00</th>\n",
       "      <td>32.125</td>\n",
       "      <td>9</td>\n",
       "    </tr>\n",
       "    <tr>\n",
       "      <th>2019-01-04 23:59:54.392999936+00:00</th>\n",
       "      <td>35.012</td>\n",
       "      <td>15</td>\n",
       "    </tr>\n",
       "    <tr>\n",
       "      <th>2019-01-04 23:59:55.396999936+00:00</th>\n",
       "      <td>43.733</td>\n",
       "      <td>17</td>\n",
       "    </tr>\n",
       "    <tr>\n",
       "      <th>2019-01-04 23:59:55.396999936+00:00</th>\n",
       "      <td>24.654</td>\n",
       "      <td>12</td>\n",
       "    </tr>\n",
       "    <tr>\n",
       "      <th>2019-01-04 23:59:56.396999936+00:00</th>\n",
       "      <td>44.349</td>\n",
       "      <td>18</td>\n",
       "    </tr>\n",
       "    <tr>\n",
       "      <th>2019-01-04 23:59:56.396999936+00:00</th>\n",
       "      <td>35.750</td>\n",
       "      <td>7</td>\n",
       "    </tr>\n",
       "    <tr>\n",
       "      <th>2019-01-04 23:59:57.396999936+00:00</th>\n",
       "      <td>27.891</td>\n",
       "      <td>11</td>\n",
       "    </tr>\n",
       "    <tr>\n",
       "      <th>2019-01-04 23:59:57.396999936+00:00</th>\n",
       "      <td>14.635</td>\n",
       "      <td>3</td>\n",
       "    </tr>\n",
       "    <tr>\n",
       "      <th>2019-01-04 23:59:58.396999936+00:00</th>\n",
       "      <td>37.908</td>\n",
       "      <td>16</td>\n",
       "    </tr>\n",
       "    <tr>\n",
       "      <th>2019-01-04 23:59:59.400000+00:00</th>\n",
       "      <td>43.682</td>\n",
       "      <td>17</td>\n",
       "    </tr>\n",
       "  </tbody>\n",
       "</table>\n",
       "</div>"
      ],
      "text/plain": [
       "                                       PING SK_PI\n",
       "2019-01-04 23:59:54.392999936+00:00  32.125     9\n",
       "2019-01-04 23:59:54.392999936+00:00  35.012    15\n",
       "2019-01-04 23:59:55.396999936+00:00  43.733    17\n",
       "2019-01-04 23:59:55.396999936+00:00  24.654    12\n",
       "2019-01-04 23:59:56.396999936+00:00  44.349    18\n",
       "2019-01-04 23:59:56.396999936+00:00  35.750     7\n",
       "2019-01-04 23:59:57.396999936+00:00  27.891    11\n",
       "2019-01-04 23:59:57.396999936+00:00  14.635     3\n",
       "2019-01-04 23:59:58.396999936+00:00  37.908    16\n",
       "2019-01-04 23:59:59.400000+00:00     43.682    17"
      ]
     },
     "execution_count": 5,
     "metadata": {},
     "output_type": "execute_result"
    }
   ],
   "source": [
    "client_df = DataFrameClient(host, port, '', '', dbname)\n",
    "query_ping = 'SELECT PING,SK_PI FROM PING ORDER BY time DESC LIMIT 10;'\n",
    "result_ping = client_df.query(query_ping)\n",
    "ping_df = result_ping['PING']\n",
    "ping_df"
   ]
  },
  {
   "cell_type": "markdown",
   "metadata": {},
   "source": [
    "Let's take just one device, for example 3:"
   ]
  },
  {
   "cell_type": "code",
   "execution_count": 6,
   "metadata": {},
   "outputs": [
    {
     "data": {
      "text/html": [
       "<div>\n",
       "<style>\n",
       "    .dataframe thead tr:only-child th {\n",
       "        text-align: right;\n",
       "    }\n",
       "\n",
       "    .dataframe thead th {\n",
       "        text-align: left;\n",
       "    }\n",
       "\n",
       "    .dataframe tbody tr th {\n",
       "        vertical-align: top;\n",
       "    }\n",
       "</style>\n",
       "<table border=\"1\" class=\"dataframe\">\n",
       "  <thead>\n",
       "    <tr style=\"text-align: right;\">\n",
       "      <th></th>\n",
       "      <th>PING</th>\n",
       "      <th>SK_PI</th>\n",
       "    </tr>\n",
       "  </thead>\n",
       "  <tbody>\n",
       "    <tr>\n",
       "      <th>2019-01-04 23:59:13.352999936+00:00</th>\n",
       "      <td>14.635</td>\n",
       "      <td>3</td>\n",
       "    </tr>\n",
       "    <tr>\n",
       "      <th>2019-01-04 23:59:17.356999936+00:00</th>\n",
       "      <td>14.667</td>\n",
       "      <td>3</td>\n",
       "    </tr>\n",
       "    <tr>\n",
       "      <th>2019-01-04 23:59:23.363000064+00:00</th>\n",
       "      <td>14.738</td>\n",
       "      <td>3</td>\n",
       "    </tr>\n",
       "    <tr>\n",
       "      <th>2019-01-04 23:59:27.367000064+00:00</th>\n",
       "      <td>14.713</td>\n",
       "      <td>3</td>\n",
       "    </tr>\n",
       "    <tr>\n",
       "      <th>2019-01-04 23:59:33.372999936+00:00</th>\n",
       "      <td>14.762</td>\n",
       "      <td>3</td>\n",
       "    </tr>\n",
       "    <tr>\n",
       "      <th>2019-01-04 23:59:37.376999936+00:00</th>\n",
       "      <td>14.733</td>\n",
       "      <td>3</td>\n",
       "    </tr>\n",
       "    <tr>\n",
       "      <th>2019-01-04 23:59:43.383000064+00:00</th>\n",
       "      <td>14.655</td>\n",
       "      <td>3</td>\n",
       "    </tr>\n",
       "    <tr>\n",
       "      <th>2019-01-04 23:59:47.387000064+00:00</th>\n",
       "      <td>14.567</td>\n",
       "      <td>3</td>\n",
       "    </tr>\n",
       "    <tr>\n",
       "      <th>2019-01-04 23:59:53.392999936+00:00</th>\n",
       "      <td>14.670</td>\n",
       "      <td>3</td>\n",
       "    </tr>\n",
       "    <tr>\n",
       "      <th>2019-01-04 23:59:57.396999936+00:00</th>\n",
       "      <td>14.635</td>\n",
       "      <td>3</td>\n",
       "    </tr>\n",
       "  </tbody>\n",
       "</table>\n",
       "</div>"
      ],
      "text/plain": [
       "                                       PING SK_PI\n",
       "2019-01-04 23:59:13.352999936+00:00  14.635     3\n",
       "2019-01-04 23:59:17.356999936+00:00  14.667     3\n",
       "2019-01-04 23:59:23.363000064+00:00  14.738     3\n",
       "2019-01-04 23:59:27.367000064+00:00  14.713     3\n",
       "2019-01-04 23:59:33.372999936+00:00  14.762     3\n",
       "2019-01-04 23:59:37.376999936+00:00  14.733     3\n",
       "2019-01-04 23:59:43.383000064+00:00  14.655     3\n",
       "2019-01-04 23:59:47.387000064+00:00  14.567     3\n",
       "2019-01-04 23:59:53.392999936+00:00  14.670     3\n",
       "2019-01-04 23:59:57.396999936+00:00  14.635     3"
      ]
     },
     "execution_count": 6,
     "metadata": {},
     "output_type": "execute_result"
    }
   ],
   "source": [
    "query_ping = \"SELECT PING,SK_PI FROM PING WHERE SK_PI='3' ORDER BY time  DESC LIMIT 10 ;\"\n",
    "result_ping = client_df.query(query_ping)\n",
    "ping_df = result_ping['PING']\n",
    "ping_df"
   ]
  },
  {
   "cell_type": "markdown",
   "metadata": {},
   "source": [
    "Let's compare with what we have in MS SQL database:"
   ]
  },
  {
   "cell_type": "code",
   "execution_count": 7,
   "metadata": {},
   "outputs": [
    {
     "data": {
      "text/html": [
       "<div>\n",
       "<style>\n",
       "    .dataframe thead tr:only-child th {\n",
       "        text-align: right;\n",
       "    }\n",
       "\n",
       "    .dataframe thead th {\n",
       "        text-align: left;\n",
       "    }\n",
       "\n",
       "    .dataframe tbody tr th {\n",
       "        vertical-align: top;\n",
       "    }\n",
       "</style>\n",
       "<table border=\"1\" class=\"dataframe\">\n",
       "  <thead>\n",
       "    <tr style=\"text-align: right;\">\n",
       "      <th></th>\n",
       "      <th>DATA_DATE</th>\n",
       "      <th>PING</th>\n",
       "      <th>SK_PI</th>\n",
       "      <th>CONNTRACK</th>\n",
       "    </tr>\n",
       "  </thead>\n",
       "  <tbody>\n",
       "    <tr>\n",
       "      <th>0</th>\n",
       "      <td>2019-01-04 23:59:59.400</td>\n",
       "      <td>NaN</td>\n",
       "      <td>3</td>\n",
       "      <td>16</td>\n",
       "    </tr>\n",
       "    <tr>\n",
       "      <th>1</th>\n",
       "      <td>2019-01-04 23:59:57.397</td>\n",
       "      <td>14.635</td>\n",
       "      <td>3</td>\n",
       "      <td>16</td>\n",
       "    </tr>\n",
       "    <tr>\n",
       "      <th>2</th>\n",
       "      <td>2019-01-04 23:59:55.397</td>\n",
       "      <td>NaN</td>\n",
       "      <td>3</td>\n",
       "      <td>16</td>\n",
       "    </tr>\n",
       "    <tr>\n",
       "      <th>3</th>\n",
       "      <td>2019-01-04 23:59:53.393</td>\n",
       "      <td>14.670</td>\n",
       "      <td>3</td>\n",
       "      <td>17</td>\n",
       "    </tr>\n",
       "    <tr>\n",
       "      <th>4</th>\n",
       "      <td>2019-01-04 23:59:51.390</td>\n",
       "      <td>NaN</td>\n",
       "      <td>3</td>\n",
       "      <td>18</td>\n",
       "    </tr>\n",
       "    <tr>\n",
       "      <th>5</th>\n",
       "      <td>2019-01-04 23:59:49.390</td>\n",
       "      <td>NaN</td>\n",
       "      <td>3</td>\n",
       "      <td>21</td>\n",
       "    </tr>\n",
       "    <tr>\n",
       "      <th>6</th>\n",
       "      <td>2019-01-04 23:59:47.387</td>\n",
       "      <td>14.567</td>\n",
       "      <td>3</td>\n",
       "      <td>21</td>\n",
       "    </tr>\n",
       "    <tr>\n",
       "      <th>7</th>\n",
       "      <td>2019-01-04 23:59:45.387</td>\n",
       "      <td>NaN</td>\n",
       "      <td>3</td>\n",
       "      <td>21</td>\n",
       "    </tr>\n",
       "    <tr>\n",
       "      <th>8</th>\n",
       "      <td>2019-01-04 23:59:43.383</td>\n",
       "      <td>14.655</td>\n",
       "      <td>3</td>\n",
       "      <td>21</td>\n",
       "    </tr>\n",
       "    <tr>\n",
       "      <th>9</th>\n",
       "      <td>2019-01-04 23:59:41.380</td>\n",
       "      <td>NaN</td>\n",
       "      <td>3</td>\n",
       "      <td>21</td>\n",
       "    </tr>\n",
       "  </tbody>\n",
       "</table>\n",
       "</div>"
      ],
      "text/plain": [
       "                DATA_DATE    PING  SK_PI  CONNTRACK\n",
       "0 2019-01-04 23:59:59.400     NaN      3         16\n",
       "1 2019-01-04 23:59:57.397  14.635      3         16\n",
       "2 2019-01-04 23:59:55.397     NaN      3         16\n",
       "3 2019-01-04 23:59:53.393  14.670      3         17\n",
       "4 2019-01-04 23:59:51.390     NaN      3         18\n",
       "5 2019-01-04 23:59:49.390     NaN      3         21\n",
       "6 2019-01-04 23:59:47.387  14.567      3         21\n",
       "7 2019-01-04 23:59:45.387     NaN      3         21\n",
       "8 2019-01-04 23:59:43.383  14.655      3         21\n",
       "9 2019-01-04 23:59:41.380     NaN      3         21"
      ]
     },
     "execution_count": 7,
     "metadata": {},
     "output_type": "execute_result"
    }
   ],
   "source": [
    "import pyodbc\n",
    "import pandas as pd\n",
    "password=credentials_config['mssql_password']\n",
    "srv=credentials_config['mssql_host']\n",
    "cnxn = pyodbc.connect(driver='/usr/local/lib/libtdsodbc.so', server=srv,port='1433', database='net_speed_md', uid='cybera_sql', pwd=password)\n",
    "sql = \"SELECT TOP 10 DATA_DATE, PING, SK_PI,CONNTRACK FROM FCT_PI WHERE SK_PI='3' ORDER BY DATA_DATE DESC;\"\n",
    "data = pd.read_sql(sql,cnxn)\n",
    "data"
   ]
  },
  {
   "cell_type": "markdown",
   "metadata": {},
   "source": [
    "Pings are coming every 4-6 seconds."
   ]
  },
  {
   "cell_type": "markdown",
   "metadata": {},
   "source": [
    "Checking statistics for number of packets dropped:"
   ]
  },
  {
   "cell_type": "code",
   "execution_count": 8,
   "metadata": {},
   "outputs": [
    {
     "data": {
      "text/html": [
       "<div>\n",
       "<style>\n",
       "    .dataframe thead tr:only-child th {\n",
       "        text-align: right;\n",
       "    }\n",
       "\n",
       "    .dataframe thead th {\n",
       "        text-align: left;\n",
       "    }\n",
       "\n",
       "    .dataframe tbody tr th {\n",
       "        vertical-align: top;\n",
       "    }\n",
       "</style>\n",
       "<table border=\"1\" class=\"dataframe\">\n",
       "  <thead>\n",
       "    <tr style=\"text-align: right;\">\n",
       "      <th></th>\n",
       "      <th>distinct</th>\n",
       "    </tr>\n",
       "  </thead>\n",
       "  <tbody>\n",
       "    <tr>\n",
       "      <th>1970-01-01 00:00:00+00:00</th>\n",
       "      <td>0</td>\n",
       "    </tr>\n",
       "    <tr>\n",
       "      <th>1970-01-01 00:00:00+00:00</th>\n",
       "      <td>100</td>\n",
       "    </tr>\n",
       "  </tbody>\n",
       "</table>\n",
       "</div>"
      ],
      "text/plain": [
       "                           distinct\n",
       "1970-01-01 00:00:00+00:00         0\n",
       "1970-01-01 00:00:00+00:00       100"
      ]
     },
     "execution_count": 8,
     "metadata": {},
     "output_type": "execute_result"
    }
   ],
   "source": [
    "query_ping = \"SELECT DISTINCT(PING_DROPRATE) from PING;\"\n",
    "result_ping = client_df.query(query_ping)\n",
    "ping_df = result_ping['PING']\n",
    "ping_df"
   ]
  },
  {
   "cell_type": "markdown",
   "metadata": {},
   "source": [
    "Lets see what is the value of *PING* measurment when *PING_DROPRATE* is equal to 100:"
   ]
  },
  {
   "cell_type": "code",
   "execution_count": 9,
   "metadata": {},
   "outputs": [
    {
     "data": {
      "text/html": [
       "<div>\n",
       "<style>\n",
       "    .dataframe thead tr:only-child th {\n",
       "        text-align: right;\n",
       "    }\n",
       "\n",
       "    .dataframe thead th {\n",
       "        text-align: left;\n",
       "    }\n",
       "\n",
       "    .dataframe tbody tr th {\n",
       "        vertical-align: top;\n",
       "    }\n",
       "</style>\n",
       "<table border=\"1\" class=\"dataframe\">\n",
       "  <thead>\n",
       "    <tr style=\"text-align: right;\">\n",
       "      <th></th>\n",
       "      <th>PING</th>\n",
       "      <th>PING_DROPRATE</th>\n",
       "    </tr>\n",
       "  </thead>\n",
       "  <tbody>\n",
       "    <tr>\n",
       "      <th>2019-01-04 23:54:39.080000+00:00</th>\n",
       "      <td>0</td>\n",
       "      <td>100</td>\n",
       "    </tr>\n",
       "    <tr>\n",
       "      <th>2019-01-04 23:56:22.183000064+00:00</th>\n",
       "      <td>0</td>\n",
       "      <td>100</td>\n",
       "    </tr>\n",
       "    <tr>\n",
       "      <th>2019-01-04 23:56:35.196999936+00:00</th>\n",
       "      <td>0</td>\n",
       "      <td>100</td>\n",
       "    </tr>\n",
       "    <tr>\n",
       "      <th>2019-01-04 23:57:12.232999936+00:00</th>\n",
       "      <td>0</td>\n",
       "      <td>100</td>\n",
       "    </tr>\n",
       "    <tr>\n",
       "      <th>2019-01-04 23:58:16.296999936+00:00</th>\n",
       "      <td>0</td>\n",
       "      <td>100</td>\n",
       "    </tr>\n",
       "  </tbody>\n",
       "</table>\n",
       "</div>"
      ],
      "text/plain": [
       "                                     PING  PING_DROPRATE\n",
       "2019-01-04 23:54:39.080000+00:00        0            100\n",
       "2019-01-04 23:56:22.183000064+00:00     0            100\n",
       "2019-01-04 23:56:35.196999936+00:00     0            100\n",
       "2019-01-04 23:57:12.232999936+00:00     0            100\n",
       "2019-01-04 23:58:16.296999936+00:00     0            100"
      ]
     },
     "execution_count": 9,
     "metadata": {},
     "output_type": "execute_result"
    }
   ],
   "source": [
    "query_ping = \"SELECT PING, PING_DROPRATE FROM PING WHERE PING_DROPRATE=100 ORDER BY time DESC LIMIT 5;\"\n",
    "result_ping = client_df.query(query_ping)\n",
    "ping_df = result_ping['PING']\n",
    "ping_df"
   ]
  },
  {
   "cell_type": "markdown",
   "metadata": {},
   "source": [
    "*PING* is equal to 0 when PING_DROPRATE=100, its importatnt to note."
   ]
  },
  {
   "cell_type": "markdown",
   "metadata": {},
   "source": [
    "## Number of datapoints per device"
   ]
  },
  {
   "cell_type": "markdown",
   "metadata": {},
   "source": [
    "Getting device numbers(tags SK_PI):"
   ]
  },
  {
   "cell_type": "code",
   "execution_count": 10,
   "metadata": {},
   "outputs": [
    {
     "name": "stdout",
     "output_type": "stream",
     "text": [
      "[1, 2, 3, 4, 5, 6, 7, 8, 9, 10, 11, 12, 13, 14, 15, 16, 17, 18]\n"
     ]
    }
   ],
   "source": [
    "query_unique_devices = \"SHOW TAG VALUES FROM PING WITH KEY=SK_PI;\"\n",
    "result_unique_devices = client.query(query_unique_devices)\n",
    "points_unique_devices = result_unique_devices.get_points()\n",
    "device_numbers=[]\n",
    "for point in points_unique_devices:\n",
    "    device_numbers.append(point['value'])\n",
    "device_numbers=list(map(int, device_numbers))\n",
    "device_numbers= sorted(device_numbers)\n",
    "print(device_numbers)"
   ]
  },
  {
   "cell_type": "markdown",
   "metadata": {},
   "source": [
    "Getting number of data points per device for the entire period of time."
   ]
  },
  {
   "cell_type": "code",
   "execution_count": 11,
   "metadata": {
    "collapsed": true
   },
   "outputs": [],
   "source": [
    "query_ping_counts = 'SELECT COUNT(PING) FROM PING WHERE PING!=0 GROUP BY SK_PI;'\n",
    "result_ping_counts = client.query(query_ping_counts)"
   ]
  },
  {
   "cell_type": "code",
   "execution_count": 12,
   "metadata": {
    "collapsed": true
   },
   "outputs": [],
   "source": [
    "query_pingdroprate_counts = 'SELECT COUNT(PING_DROPRATE) FROM PING WHERE PING_DROPRATE!=0 GROUP BY SK_PI;'\n",
    "result_pingdroprate_counts = client.query(query_pingdroprate_counts)"
   ]
  },
  {
   "cell_type": "code",
   "execution_count": 13,
   "metadata": {
    "collapsed": true
   },
   "outputs": [],
   "source": [
    "ping_counts=[]\n",
    "pingdroprate_counts=[]\n",
    "for device in device_numbers:\n",
    "    points_ping_counts=result_ping_counts.get_points(tags={'SK_PI':str(device)})\n",
    "    points_pingdroprate_counts=result_pingdroprate_counts.get_points(tags={'SK_PI':str(device)})\n",
    "    point_ping=0\n",
    "    point_pingdroprate=0\n",
    "    for point in points_ping_counts:\n",
    "        point_ping=point['count']\n",
    "    count_ping=point_ping\n",
    "    for point in points_pingdroprate_counts:\n",
    "        point_pingdroprate=point['count']\n",
    "    count_pingdroprate=point_pingdroprate\n",
    "    ping_counts.append(count_ping+count_pingdroprate)\n",
    "    pingdroprate_counts.append(count_pingdroprate)"
   ]
  },
  {
   "cell_type": "markdown",
   "metadata": {},
   "source": [
    "Plotting device numbers and number of data points. "
   ]
  },
  {
   "cell_type": "code",
   "execution_count": 14,
   "metadata": {},
   "outputs": [
    {
     "data": {
      "application/vnd.plotly.v1+json": {
       "data": [
        {
         "type": "bar",
         "x": [
          1,
          2,
          3,
          4,
          5,
          6,
          7,
          8,
          9,
          10,
          11,
          12,
          13,
          14,
          15,
          16,
          17,
          18
         ],
         "y": [
          7025,
          397617,
          693329,
          674108,
          175987,
          84990,
          834192,
          72282,
          607446,
          539314,
          607390,
          610174,
          285,
          6905,
          525425,
          506860,
          383682,
          309373
         ]
        }
       ],
       "layout": {
        "barmode": "stack",
        "title": "Number of data points per device"
       }
      },
      "text/html": [
       "<div id=\"d0109e1f-74c9-4bb7-bd26-191e41b9db25\" style=\"height: 525px; width: 100%;\" class=\"plotly-graph-div\"></div><script type=\"text/javascript\">require([\"plotly\"], function(Plotly) { window.PLOTLYENV=window.PLOTLYENV || {};window.PLOTLYENV.BASE_URL=\"https://plot.ly\";Plotly.newPlot(\"d0109e1f-74c9-4bb7-bd26-191e41b9db25\", [{\"type\": \"bar\", \"x\": [1, 2, 3, 4, 5, 6, 7, 8, 9, 10, 11, 12, 13, 14, 15, 16, 17, 18], \"y\": [7025, 397617, 693329, 674108, 175987, 84990, 834192, 72282, 607446, 539314, 607390, 610174, 285, 6905, 525425, 506860, 383682, 309373]}], {\"barmode\": \"stack\", \"title\": \"Number of data points per device\"}, {\"showLink\": true, \"linkText\": \"Export to plot.ly\"})});</script>"
      ],
      "text/vnd.plotly.v1+html": [
       "<div id=\"d0109e1f-74c9-4bb7-bd26-191e41b9db25\" style=\"height: 525px; width: 100%;\" class=\"plotly-graph-div\"></div><script type=\"text/javascript\">require([\"plotly\"], function(Plotly) { window.PLOTLYENV=window.PLOTLYENV || {};window.PLOTLYENV.BASE_URL=\"https://plot.ly\";Plotly.newPlot(\"d0109e1f-74c9-4bb7-bd26-191e41b9db25\", [{\"type\": \"bar\", \"x\": [1, 2, 3, 4, 5, 6, 7, 8, 9, 10, 11, 12, 13, 14, 15, 16, 17, 18], \"y\": [7025, 397617, 693329, 674108, 175987, 84990, 834192, 72282, 607446, 539314, 607390, 610174, 285, 6905, 525425, 506860, 383682, 309373]}], {\"barmode\": \"stack\", \"title\": \"Number of data points per device\"}, {\"showLink\": true, \"linkText\": \"Export to plot.ly\"})});</script>"
      ]
     },
     "metadata": {},
     "output_type": "display_data"
    }
   ],
   "source": [
    "data = [go.Bar(\n",
    "            x=device_numbers,\n",
    "            y=ping_counts\n",
    "    )]\n",
    "\n",
    "layout = go.Layout(\n",
    "        barmode='stack',\n",
    "        title=\"Number of data points per device\"\n",
    "    )\n",
    "\n",
    "fig = go.Figure(data=data, layout=layout)\n",
    "iplot(fig)"
   ]
  },
  {
   "cell_type": "markdown",
   "metadata": {},
   "source": [
    "Some of the devices have small number of datapoints, may be they are just installed? Lets check how many dataponts came in last 4 weeks."
   ]
  },
  {
   "cell_type": "markdown",
   "metadata": {},
   "source": [
    "Getting number of datapoints per device in last 4 weeks and list of the devices that have data for this period of time(not all of the have)."
   ]
  },
  {
   "cell_type": "code",
   "execution_count": 15,
   "metadata": {
    "collapsed": true
   },
   "outputs": [],
   "source": [
    "#query_ping_counts_dec = \"SELECT COUNT(PING) FROM PING WHERE time >= '2018-12-01 00:00:00' GROUP BY SK_PI ;\"\n",
    "query_ping_counts_dec = \"SELECT COUNT(PING) FROM PING WHERE time >= now()-4w  AND PING!=0 GROUP BY SK_PI ;\"\n",
    "result_ping_counts_dec = client.query(query_ping_counts_dec)"
   ]
  },
  {
   "cell_type": "code",
   "execution_count": 16,
   "metadata": {
    "collapsed": true
   },
   "outputs": [],
   "source": [
    "query_pingdroprate_counts_dec = 'SELECT COUNT(PING_DROPRATE) FROM PING WHERE time >= now()-4w AND PING_DROPRATE!=0 GROUP BY SK_PI;'\n",
    "result_pingdroprate_counts_dec = client.query(query_pingdroprate_counts_dec)"
   ]
  },
  {
   "cell_type": "code",
   "execution_count": 17,
   "metadata": {},
   "outputs": [
    {
     "name": "stdout",
     "output_type": "stream",
     "text": [
      "Devices, that have data in last 4 weeks:  [3, 7, 9, 10, 11, 12, 15, 16, 17, 18]\n"
     ]
    }
   ],
   "source": [
    "ping_counts_dec=[]\n",
    "device_numbers_dec = []\n",
    "pingdroprate_counts_dec = []\n",
    "ping_sent_counts_dec = []\n",
    "for device in device_numbers:\n",
    "    points_ping_counts_dec=result_ping_counts_dec.get_points(tags={'SK_PI':str(device)})\n",
    "    points_pingdroprate_counts_dec=result_pingdroprate_counts_dec.get_points(tags={'SK_PI':str(device)})\n",
    "    point_ping=0\n",
    "    point_pingdroprate=0\n",
    "    for point in points_ping_counts_dec:\n",
    "        point_ping=point['count']\n",
    "    for point in points_pingdroprate_counts_dec:\n",
    "        point_pingdroprate=point['count']\n",
    "    if (point_pingdroprate+point_ping!=0): \n",
    "        device_numbers_dec.append(device)\n",
    "    ping_counts_dec.append(point_pingdroprate+point_ping)\n",
    "    pingdroprate_counts_dec.append(point_pingdroprate)\n",
    "    ping_sent_counts_dec.append(point_ping)\n",
    "print(\"Devices, that have data in last 4 weeks: \",device_numbers_dec)"
   ]
  },
  {
   "cell_type": "markdown",
   "metadata": {},
   "source": [
    "Plotting combined barchart - entire number of datapoints vs number of datapoints in last 4 weeks."
   ]
  },
  {
   "cell_type": "code",
   "execution_count": 18,
   "metadata": {},
   "outputs": [
    {
     "data": {
      "application/vnd.plotly.v1+json": {
       "data": [
        {
         "name": "Last 4 weeks",
         "type": "bar",
         "x": [
          1,
          2,
          3,
          4,
          5,
          6,
          7,
          8,
          9,
          10,
          11,
          12,
          13,
          14,
          15,
          16,
          17,
          18
         ],
         "y": [
          0,
          0,
          461367,
          0,
          0,
          0,
          385908,
          0,
          461366,
          336473,
          458301,
          461366,
          0,
          0,
          461366,
          461366,
          383677,
          300554
         ]
        },
        {
         "name": "The rest of the time",
         "type": "bar",
         "x": [
          1,
          2,
          3,
          4,
          5,
          6,
          7,
          8,
          9,
          10,
          11,
          12,
          13,
          14,
          15,
          16,
          17,
          18
         ],
         "y": [
          7025,
          397617,
          231962,
          674108,
          175987,
          84990,
          448284,
          72282,
          146080,
          202841,
          149089,
          148808,
          285,
          6905,
          64059,
          45494,
          5,
          8819
         ]
        }
       ],
       "layout": {
        "barmode": "stack",
        "title": "Comparing number of datapoints in last 4 weeks vs entire time"
       }
      },
      "text/html": [
       "<div id=\"ebf91457-3bfa-4927-ac58-2da647da9c9f\" style=\"height: 525px; width: 100%;\" class=\"plotly-graph-div\"></div><script type=\"text/javascript\">require([\"plotly\"], function(Plotly) { window.PLOTLYENV=window.PLOTLYENV || {};window.PLOTLYENV.BASE_URL=\"https://plot.ly\";Plotly.newPlot(\"ebf91457-3bfa-4927-ac58-2da647da9c9f\", [{\"type\": \"bar\", \"x\": [1, 2, 3, 4, 5, 6, 7, 8, 9, 10, 11, 12, 13, 14, 15, 16, 17, 18], \"y\": [0, 0, 461367, 0, 0, 0, 385908, 0, 461366, 336473, 458301, 461366, 0, 0, 461366, 461366, 383677, 300554], \"name\": \"Last 4 weeks\"}, {\"type\": \"bar\", \"x\": [1, 2, 3, 4, 5, 6, 7, 8, 9, 10, 11, 12, 13, 14, 15, 16, 17, 18], \"y\": [7025, 397617, 231962, 674108, 175987, 84990, 448284, 72282, 146080, 202841, 149089, 148808, 285, 6905, 64059, 45494, 5, 8819], \"name\": \"The rest of the time\"}], {\"barmode\": \"stack\", \"title\": \"Comparing number of datapoints in last 4 weeks vs entire time\"}, {\"showLink\": true, \"linkText\": \"Export to plot.ly\"})});</script>"
      ],
      "text/vnd.plotly.v1+html": [
       "<div id=\"ebf91457-3bfa-4927-ac58-2da647da9c9f\" style=\"height: 525px; width: 100%;\" class=\"plotly-graph-div\"></div><script type=\"text/javascript\">require([\"plotly\"], function(Plotly) { window.PLOTLYENV=window.PLOTLYENV || {};window.PLOTLYENV.BASE_URL=\"https://plot.ly\";Plotly.newPlot(\"ebf91457-3bfa-4927-ac58-2da647da9c9f\", [{\"type\": \"bar\", \"x\": [1, 2, 3, 4, 5, 6, 7, 8, 9, 10, 11, 12, 13, 14, 15, 16, 17, 18], \"y\": [0, 0, 461367, 0, 0, 0, 385908, 0, 461366, 336473, 458301, 461366, 0, 0, 461366, 461366, 383677, 300554], \"name\": \"Last 4 weeks\"}, {\"type\": \"bar\", \"x\": [1, 2, 3, 4, 5, 6, 7, 8, 9, 10, 11, 12, 13, 14, 15, 16, 17, 18], \"y\": [7025, 397617, 231962, 674108, 175987, 84990, 448284, 72282, 146080, 202841, 149089, 148808, 285, 6905, 64059, 45494, 5, 8819], \"name\": \"The rest of the time\"}], {\"barmode\": \"stack\", \"title\": \"Comparing number of datapoints in last 4 weeks vs entire time\"}, {\"showLink\": true, \"linkText\": \"Export to plot.ly\"})});</script>"
      ]
     },
     "metadata": {},
     "output_type": "display_data"
    }
   ],
   "source": [
    "trace1 = go.Bar(\n",
    "            x=device_numbers,\n",
    "            y=ping_counts_dec,\n",
    "            name='Last 4 weeks',\n",
    "    )\n",
    "trace2 = go.Bar(\n",
    "            x=device_numbers,\n",
    "            y=[a - b for a, b in zip(ping_counts, ping_counts_dec)],\n",
    "            name='The rest of the time',\n",
    "    \n",
    "    )\n",
    "data = [trace1, trace2]\n",
    "layout = go.Layout(\n",
    "        barmode='stack',\n",
    "        title=\"Comparing number of datapoints in last 4 weeks vs entire time\"\n",
    "    )\n",
    "\n",
    "fig = go.Figure(data=data, layout=layout)\n",
    "iplot(fig)"
   ]
  },
  {
   "cell_type": "markdown",
   "metadata": {},
   "source": [
    "Devices 1,2,4,5,6,8 and possibly 13 and 14 need to be double checked. Looks like they have started reporting and then stopped. Let's check last reporting time for every device."
   ]
  },
  {
   "cell_type": "code",
   "execution_count": 19,
   "metadata": {
    "collapsed": true
   },
   "outputs": [],
   "source": [
    "query_ping_last = \"SELECT LAST(PING), time FROM PING WHERE PING!=0 OR PING_DROPRATE!=0 GROUP BY SK_PI;\"\n",
    "result_ping_last = client.query(query_ping_last)"
   ]
  },
  {
   "cell_type": "code",
   "execution_count": 20,
   "metadata": {
    "collapsed": true
   },
   "outputs": [],
   "source": [
    "query_ping_first = \"SELECT FIRST(PING), time FROM PING WHERE PING!=0 OR PING_DROPRATE!=0 GROUP BY SK_PI;\"\n",
    "result_ping_first = client.query(query_ping_first)"
   ]
  },
  {
   "cell_type": "code",
   "execution_count": 22,
   "metadata": {},
   "outputs": [
    {
     "name": "stdout",
     "output_type": "stream",
     "text": [
      "Device:  1   was reporting from  2018-10-10 14:16:15  to  2018-10-11 15:46:31\n",
      "Device:  2   was reporting from  2018-10-11 15:27:46  to  2018-11-06 19:16:32\n",
      "Device:  3   was reporting from  2018-10-11 15:27:46  to  2019-01-04 23:59:57\n",
      "Device:  4   was reporting from  2018-10-11 15:27:46  to  2018-12-05 22:53:02\n",
      "Device:  5   was reporting from  2018-10-11 15:27:46  to  2018-11-05 21:32:30\n",
      "Device:  6   was reporting from  2018-10-11 15:27:46  to  2018-10-31 14:55:00\n",
      "Device:  7   was reporting from  2018-11-11 00:00:03  to  2019-01-04 23:59:56\n",
      "Device:  8   was reporting from  2018-10-11 15:27:46  to  2018-12-03 19:58:50\n",
      "Device:  9   was reporting from  2018-10-11 15:27:46  to  2019-01-04 23:59:54\n",
      "Device:  10   was reporting from  2018-10-11 15:27:46  to  2018-12-31 04:39:59\n",
      "Device:  11   was reporting from  2018-10-11 15:27:46  to  2019-01-04 23:59:57\n",
      "Device:  12   was reporting from  2018-10-11 15:27:46  to  2019-01-04 23:59:55\n",
      "Device:  13   was reporting from  2018-10-11 15:27:46  to  2018-12-04 20:27:05\n",
      "Device:  14   was reporting from  2018-10-11 15:27:46  to  2018-12-06 02:12:27\n",
      "Device:  15   was reporting from  2018-10-11 15:27:46  to  2019-01-04 23:59:54\n",
      "Device:  16   was reporting from  2018-10-11 15:27:46  to  2019-01-04 23:59:58\n",
      "Device:  17   was reporting from  2018-10-11 15:27:46  to  2019-01-04 23:59:59\n",
      "Device:  18   was reporting from  2018-10-11 15:27:46  to  2019-01-04 23:59:56\n"
     ]
    },
    {
     "data": {
      "application/vnd.plotly.v1+json": {
       "data": [
        {
         "name": 1,
         "type": "scatter",
         "x": [
          "2018-10-10 14:16:15",
          "2018-10-11 15:46:31"
         ],
         "y": [
          1,
          1
         ]
        },
        {
         "name": 2,
         "type": "scatter",
         "x": [
          "2018-10-11 15:27:46",
          "2018-11-06 19:16:32"
         ],
         "y": [
          2,
          2
         ]
        },
        {
         "name": 3,
         "type": "scatter",
         "x": [
          "2018-10-11 15:27:46",
          "2019-01-04 23:59:57"
         ],
         "y": [
          3,
          3
         ]
        },
        {
         "name": 4,
         "type": "scatter",
         "x": [
          "2018-10-11 15:27:46",
          "2018-12-05 22:53:02"
         ],
         "y": [
          4,
          4
         ]
        },
        {
         "name": 5,
         "type": "scatter",
         "x": [
          "2018-10-11 15:27:46",
          "2018-11-05 21:32:30"
         ],
         "y": [
          5,
          5
         ]
        },
        {
         "name": 6,
         "type": "scatter",
         "x": [
          "2018-10-11 15:27:46",
          "2018-10-31 14:55:00"
         ],
         "y": [
          6,
          6
         ]
        },
        {
         "name": 7,
         "type": "scatter",
         "x": [
          "2018-11-11 00:00:03",
          "2019-01-04 23:59:56"
         ],
         "y": [
          7,
          7
         ]
        },
        {
         "name": 8,
         "type": "scatter",
         "x": [
          "2018-10-11 15:27:46",
          "2018-12-03 19:58:50"
         ],
         "y": [
          8,
          8
         ]
        },
        {
         "name": 9,
         "type": "scatter",
         "x": [
          "2018-10-11 15:27:46",
          "2019-01-04 23:59:54"
         ],
         "y": [
          9,
          9
         ]
        },
        {
         "name": 10,
         "type": "scatter",
         "x": [
          "2018-10-11 15:27:46",
          "2018-12-31 04:39:59"
         ],
         "y": [
          10,
          10
         ]
        },
        {
         "name": 11,
         "type": "scatter",
         "x": [
          "2018-10-11 15:27:46",
          "2019-01-04 23:59:57"
         ],
         "y": [
          11,
          11
         ]
        },
        {
         "name": 12,
         "type": "scatter",
         "x": [
          "2018-10-11 15:27:46",
          "2019-01-04 23:59:55"
         ],
         "y": [
          12,
          12
         ]
        },
        {
         "name": 13,
         "type": "scatter",
         "x": [
          "2018-10-11 15:27:46",
          "2018-12-04 20:27:05"
         ],
         "y": [
          13,
          13
         ]
        },
        {
         "name": 14,
         "type": "scatter",
         "x": [
          "2018-10-11 15:27:46",
          "2018-12-06 02:12:27"
         ],
         "y": [
          14,
          14
         ]
        },
        {
         "name": 15,
         "type": "scatter",
         "x": [
          "2018-10-11 15:27:46",
          "2019-01-04 23:59:54"
         ],
         "y": [
          15,
          15
         ]
        },
        {
         "name": 16,
         "type": "scatter",
         "x": [
          "2018-10-11 15:27:46",
          "2019-01-04 23:59:58"
         ],
         "y": [
          16,
          16
         ]
        },
        {
         "name": 17,
         "type": "scatter",
         "x": [
          "2018-10-11 15:27:46",
          "2019-01-04 23:59:59"
         ],
         "y": [
          17,
          17
         ]
        },
        {
         "name": 18,
         "type": "scatter",
         "x": [
          "2018-10-11 15:27:46",
          "2019-01-04 23:59:56"
         ],
         "y": [
          18,
          18
         ]
        }
       ],
       "layout": {
        "title": "Device reporting times"
       }
      },
      "text/html": [
       "<div id=\"213eb232-9383-4b09-b4c5-dbb193e73776\" style=\"height: 525px; width: 100%;\" class=\"plotly-graph-div\"></div><script type=\"text/javascript\">require([\"plotly\"], function(Plotly) { window.PLOTLYENV=window.PLOTLYENV || {};window.PLOTLYENV.BASE_URL=\"https://plot.ly\";Plotly.newPlot(\"213eb232-9383-4b09-b4c5-dbb193e73776\", [{\"type\": \"scatter\", \"x\": [\"2018-10-10 14:16:15\", \"2018-10-11 15:46:31\"], \"y\": [1, 1], \"name\": 1}, {\"type\": \"scatter\", \"x\": [\"2018-10-11 15:27:46\", \"2018-11-06 19:16:32\"], \"y\": [2, 2], \"name\": 2}, {\"type\": \"scatter\", \"x\": [\"2018-10-11 15:27:46\", \"2019-01-04 23:59:57\"], \"y\": [3, 3], \"name\": 3}, {\"type\": \"scatter\", \"x\": [\"2018-10-11 15:27:46\", \"2018-12-05 22:53:02\"], \"y\": [4, 4], \"name\": 4}, {\"type\": \"scatter\", \"x\": [\"2018-10-11 15:27:46\", \"2018-11-05 21:32:30\"], \"y\": [5, 5], \"name\": 5}, {\"type\": \"scatter\", \"x\": [\"2018-10-11 15:27:46\", \"2018-10-31 14:55:00\"], \"y\": [6, 6], \"name\": 6}, {\"type\": \"scatter\", \"x\": [\"2018-11-11 00:00:03\", \"2019-01-04 23:59:56\"], \"y\": [7, 7], \"name\": 7}, {\"type\": \"scatter\", \"x\": [\"2018-10-11 15:27:46\", \"2018-12-03 19:58:50\"], \"y\": [8, 8], \"name\": 8}, {\"type\": \"scatter\", \"x\": [\"2018-10-11 15:27:46\", \"2019-01-04 23:59:54\"], \"y\": [9, 9], \"name\": 9}, {\"type\": \"scatter\", \"x\": [\"2018-10-11 15:27:46\", \"2018-12-31 04:39:59\"], \"y\": [10, 10], \"name\": 10}, {\"type\": \"scatter\", \"x\": [\"2018-10-11 15:27:46\", \"2019-01-04 23:59:57\"], \"y\": [11, 11], \"name\": 11}, {\"type\": \"scatter\", \"x\": [\"2018-10-11 15:27:46\", \"2019-01-04 23:59:55\"], \"y\": [12, 12], \"name\": 12}, {\"type\": \"scatter\", \"x\": [\"2018-10-11 15:27:46\", \"2018-12-04 20:27:05\"], \"y\": [13, 13], \"name\": 13}, {\"type\": \"scatter\", \"x\": [\"2018-10-11 15:27:46\", \"2018-12-06 02:12:27\"], \"y\": [14, 14], \"name\": 14}, {\"type\": \"scatter\", \"x\": [\"2018-10-11 15:27:46\", \"2019-01-04 23:59:54\"], \"y\": [15, 15], \"name\": 15}, {\"type\": \"scatter\", \"x\": [\"2018-10-11 15:27:46\", \"2019-01-04 23:59:58\"], \"y\": [16, 16], \"name\": 16}, {\"type\": \"scatter\", \"x\": [\"2018-10-11 15:27:46\", \"2019-01-04 23:59:59\"], \"y\": [17, 17], \"name\": 17}, {\"type\": \"scatter\", \"x\": [\"2018-10-11 15:27:46\", \"2019-01-04 23:59:56\"], \"y\": [18, 18], \"name\": 18}], {\"title\": \"Device reporting times\"}, {\"showLink\": true, \"linkText\": \"Export to plot.ly\"})});</script>"
      ],
      "text/vnd.plotly.v1+html": [
       "<div id=\"213eb232-9383-4b09-b4c5-dbb193e73776\" style=\"height: 525px; width: 100%;\" class=\"plotly-graph-div\"></div><script type=\"text/javascript\">require([\"plotly\"], function(Plotly) { window.PLOTLYENV=window.PLOTLYENV || {};window.PLOTLYENV.BASE_URL=\"https://plot.ly\";Plotly.newPlot(\"213eb232-9383-4b09-b4c5-dbb193e73776\", [{\"type\": \"scatter\", \"x\": [\"2018-10-10 14:16:15\", \"2018-10-11 15:46:31\"], \"y\": [1, 1], \"name\": 1}, {\"type\": \"scatter\", \"x\": [\"2018-10-11 15:27:46\", \"2018-11-06 19:16:32\"], \"y\": [2, 2], \"name\": 2}, {\"type\": \"scatter\", \"x\": [\"2018-10-11 15:27:46\", \"2019-01-04 23:59:57\"], \"y\": [3, 3], \"name\": 3}, {\"type\": \"scatter\", \"x\": [\"2018-10-11 15:27:46\", \"2018-12-05 22:53:02\"], \"y\": [4, 4], \"name\": 4}, {\"type\": \"scatter\", \"x\": [\"2018-10-11 15:27:46\", \"2018-11-05 21:32:30\"], \"y\": [5, 5], \"name\": 5}, {\"type\": \"scatter\", \"x\": [\"2018-10-11 15:27:46\", \"2018-10-31 14:55:00\"], \"y\": [6, 6], \"name\": 6}, {\"type\": \"scatter\", \"x\": [\"2018-11-11 00:00:03\", \"2019-01-04 23:59:56\"], \"y\": [7, 7], \"name\": 7}, {\"type\": \"scatter\", \"x\": [\"2018-10-11 15:27:46\", \"2018-12-03 19:58:50\"], \"y\": [8, 8], \"name\": 8}, {\"type\": \"scatter\", \"x\": [\"2018-10-11 15:27:46\", \"2019-01-04 23:59:54\"], \"y\": [9, 9], \"name\": 9}, {\"type\": \"scatter\", \"x\": [\"2018-10-11 15:27:46\", \"2018-12-31 04:39:59\"], \"y\": [10, 10], \"name\": 10}, {\"type\": \"scatter\", \"x\": [\"2018-10-11 15:27:46\", \"2019-01-04 23:59:57\"], \"y\": [11, 11], \"name\": 11}, {\"type\": \"scatter\", \"x\": [\"2018-10-11 15:27:46\", \"2019-01-04 23:59:55\"], \"y\": [12, 12], \"name\": 12}, {\"type\": \"scatter\", \"x\": [\"2018-10-11 15:27:46\", \"2018-12-04 20:27:05\"], \"y\": [13, 13], \"name\": 13}, {\"type\": \"scatter\", \"x\": [\"2018-10-11 15:27:46\", \"2018-12-06 02:12:27\"], \"y\": [14, 14], \"name\": 14}, {\"type\": \"scatter\", \"x\": [\"2018-10-11 15:27:46\", \"2019-01-04 23:59:54\"], \"y\": [15, 15], \"name\": 15}, {\"type\": \"scatter\", \"x\": [\"2018-10-11 15:27:46\", \"2019-01-04 23:59:58\"], \"y\": [16, 16], \"name\": 16}, {\"type\": \"scatter\", \"x\": [\"2018-10-11 15:27:46\", \"2019-01-04 23:59:59\"], \"y\": [17, 17], \"name\": 17}, {\"type\": \"scatter\", \"x\": [\"2018-10-11 15:27:46\", \"2019-01-04 23:59:56\"], \"y\": [18, 18], \"name\": 18}], {\"title\": \"Device reporting times\"}, {\"showLink\": true, \"linkText\": \"Export to plot.ly\"})});</script>"
      ]
     },
     "metadata": {},
     "output_type": "display_data"
    }
   ],
   "source": [
    "from datetime import datetime\n",
    "import dateutil.parser\n",
    "data=[]\n",
    "for device in device_numbers:\n",
    "    points_ping_last=result_ping_last.get_points(tags={'SK_PI':str(device)})\n",
    "    points_ping_first=result_ping_first.get_points(tags={'SK_PI':str(device)})\n",
    "    first=0\n",
    "    last=0\n",
    "    for point in points_ping_first:\n",
    "        first=dateutil.parser.parse(point['time']).strftime('%Y-%m-%d %H:%M:%S')\n",
    "    for point in points_ping_last:\n",
    "        last=dateutil.parser.parse(point['time']).strftime('%Y-%m-%d %H:%M:%S')\n",
    "    print(\"Device: \", device,\"  was reporting from \", first, \" to \", last)\n",
    "    trace = go.Scatter(x=[first,last],y=[device,device], name = device)\n",
    "    data.append(trace)\n",
    "layout = dict(title = \"Device reporting times\")\n",
    "fig = go.Figure(data=data, layout=layout)\n",
    "iplot(fig)"
   ]
  },
  {
   "cell_type": "markdown",
   "metadata": {},
   "source": [
    "Something is happening with devices  1,2,4,5,6,8,13 and 14. They stopped reporting - does it need to be investigated?"
   ]
  },
  {
   "cell_type": "markdown",
   "metadata": {},
   "source": [
    "## Ping latency "
   ]
  },
  {
   "cell_type": "markdown",
   "metadata": {},
   "source": [
    "What is normal ping latency? From [this link](https://www.pingman.com/kb/article/what-s-normal-for-latency-and-packet-loss-42.html):\n",
    "\n",
    ">There are two normal factors that significantly influence the latency of a consumer device (like a cable modem, dsl modem or dial-up modem).\n",
    "\n",
    ">The latency of the connecting device. For a cable modem, this can normally be between 5 and 40 ms. For a DSL modem this is normally 10 to 70ms. For a dial-up modem, this is normally anywhere from 100 to 220ms. For a cellular link, this can be from 200 to 600 ms. For a T1, this is normally 0 to 10 ms.\n",
    "The distance the data is traveling. Data travels at (very roughly) 120,000 miles (or 192,000 kilometers) per second, or 120 miles (192 km) per ms (millisecond) over a network connection. With traceroute, we have to send the data there and back again, so roughly 1 ms of latency is added for every 60 miles (96km, although with the level of accuracy we're using here, we should say '100km') of distance between you and the target.\n",
    "Connecting to a web site across 1500 miles (2400 km) of distance is going to add at least 25 ms to the latency. Normally, it's more like 75 after the data zig-zags around a bit and goes through numerous routers.\n",
    "\n",
    ">This means that a DSL modem on the west coast of the United States, tracing to a server on the east coast of the United States should expect somewhere around 120 ms (depending on the route and a number of other factors, but this is a rough ballpark) - 25 ms for the DSL modem and 100 ms for the distance. Tracing across an ocean, or through a satellite link, or some other link where the distance is further will certainly impact the expected latency more.\n",
    "\n"
   ]
  },
  {
   "cell_type": "markdown",
   "metadata": {},
   "source": [
    "Let's check actual ping latency numbers in last 4 weeks:"
   ]
  },
  {
   "cell_type": "code",
   "execution_count": 23,
   "metadata": {
    "collapsed": true
   },
   "outputs": [],
   "source": [
    "#query_ping_max_dec = \"SELECT MAX(PING), MEAN(PING) FROM PING WHERE time >= '2018-12-01 00:00:00' GROUP BY SK_PI;\"\n",
    "query_ping_max_dec = \"SELECT MAX(PING), MEAN(PING), MEDIAN(PING) FROM PING WHERE PING!=0 AND  time >= now()-4w  GROUP BY SK_PI;\"\n",
    "result_ping_max_dec = client.query(query_ping_max_dec)"
   ]
  },
  {
   "cell_type": "code",
   "execution_count": 24,
   "metadata": {
    "collapsed": true
   },
   "outputs": [],
   "source": [
    "device_max_dec=[]\n",
    "device_mean_dec = []\n",
    "device_median_dec = []\n",
    "for device in device_numbers_dec:\n",
    "    points_max_dec=result_ping_max_dec.get_points(tags={'SK_PI':str(device)})\n",
    "    for point in points_max_dec:\n",
    "        device_median_dec.append(point['median'])\n",
    "        device_max_dec.append(point['max'])\n",
    "        device_mean_dec.append(point['mean'])"
   ]
  },
  {
   "cell_type": "markdown",
   "metadata": {},
   "source": [
    "Plotting mean and max ping latency results for every reporting result in December."
   ]
  },
  {
   "cell_type": "code",
   "execution_count": 25,
   "metadata": {},
   "outputs": [
    {
     "data": {
      "application/vnd.plotly.v1+json": {
       "data": [
        {
         "name": "Mean",
         "type": "bar",
         "x": [
          3,
          7,
          9,
          10,
          11,
          12,
          15,
          16,
          17,
          18
         ],
         "y": [
          14.787086333773441,
          38.552318668536365,
          35.80065103671415,
          46.77210278925424,
          28.03592613540682,
          33.073143910539166,
          35.01542428498943,
          54.37213696189028,
          46.5733003641143,
          48.652652721637914
         ]
        },
        {
         "name": "Max",
         "type": "bar",
         "x": [
          3,
          7,
          9,
          10,
          11,
          12,
          15,
          16,
          17,
          18
         ],
         "y": [
          80.319,
          900.689,
          686.282,
          446.59,
          180.611,
          867.817,
          262.352,
          901.052,
          832.237,
          813.922
         ]
        },
        {
         "name": "Median",
         "type": "bar",
         "x": [
          3,
          7,
          9,
          10,
          11,
          12,
          15,
          16,
          17,
          18
         ],
         "y": [
          14.723,
          33.797,
          32.582,
          44.894,
          27.62,
          30.874,
          35.003,
          37.803,
          43.891,
          44.532
         ]
        }
       ],
       "layout": {
        "title": "Maximum, mean and median ping delay in miliseconds for the last 4 weeks"
       }
      },
      "text/html": [
       "<div id=\"72a289fa-aa25-4509-8341-303e74b15bad\" style=\"height: 525px; width: 100%;\" class=\"plotly-graph-div\"></div><script type=\"text/javascript\">require([\"plotly\"], function(Plotly) { window.PLOTLYENV=window.PLOTLYENV || {};window.PLOTLYENV.BASE_URL=\"https://plot.ly\";Plotly.newPlot(\"72a289fa-aa25-4509-8341-303e74b15bad\", [{\"type\": \"bar\", \"x\": [3, 7, 9, 10, 11, 12, 15, 16, 17, 18], \"y\": [14.787086333773441, 38.552318668536365, 35.80065103671415, 46.77210278925424, 28.03592613540682, 33.073143910539166, 35.01542428498943, 54.37213696189028, 46.5733003641143, 48.652652721637914], \"name\": \"Mean\"}, {\"type\": \"bar\", \"x\": [3, 7, 9, 10, 11, 12, 15, 16, 17, 18], \"y\": [80.319, 900.689, 686.282, 446.59, 180.611, 867.817, 262.352, 901.052, 832.237, 813.922], \"name\": \"Max\"}, {\"type\": \"bar\", \"x\": [3, 7, 9, 10, 11, 12, 15, 16, 17, 18], \"y\": [14.723, 33.797, 32.582, 44.894, 27.62, 30.874, 35.003, 37.803, 43.891, 44.532], \"name\": \"Median\"}], {\"title\": \"Maximum, mean and median ping delay in miliseconds for the last 4 weeks\"}, {\"showLink\": true, \"linkText\": \"Export to plot.ly\"})});</script>"
      ],
      "text/vnd.plotly.v1+html": [
       "<div id=\"72a289fa-aa25-4509-8341-303e74b15bad\" style=\"height: 525px; width: 100%;\" class=\"plotly-graph-div\"></div><script type=\"text/javascript\">require([\"plotly\"], function(Plotly) { window.PLOTLYENV=window.PLOTLYENV || {};window.PLOTLYENV.BASE_URL=\"https://plot.ly\";Plotly.newPlot(\"72a289fa-aa25-4509-8341-303e74b15bad\", [{\"type\": \"bar\", \"x\": [3, 7, 9, 10, 11, 12, 15, 16, 17, 18], \"y\": [14.787086333773441, 38.552318668536365, 35.80065103671415, 46.77210278925424, 28.03592613540682, 33.073143910539166, 35.01542428498943, 54.37213696189028, 46.5733003641143, 48.652652721637914], \"name\": \"Mean\"}, {\"type\": \"bar\", \"x\": [3, 7, 9, 10, 11, 12, 15, 16, 17, 18], \"y\": [80.319, 900.689, 686.282, 446.59, 180.611, 867.817, 262.352, 901.052, 832.237, 813.922], \"name\": \"Max\"}, {\"type\": \"bar\", \"x\": [3, 7, 9, 10, 11, 12, 15, 16, 17, 18], \"y\": [14.723, 33.797, 32.582, 44.894, 27.62, 30.874, 35.003, 37.803, 43.891, 44.532], \"name\": \"Median\"}], {\"title\": \"Maximum, mean and median ping delay in miliseconds for the last 4 weeks\"}, {\"showLink\": true, \"linkText\": \"Export to plot.ly\"})});</script>"
      ]
     },
     "metadata": {},
     "output_type": "display_data"
    }
   ],
   "source": [
    "trace1 = go.Bar(\n",
    "            x=device_numbers_dec,\n",
    "            y=device_mean_dec,\n",
    "            name='Mean',\n",
    "    )\n",
    "trace2 = go.Bar(\n",
    "            x=device_numbers_dec,\n",
    "            y=device_max_dec,\n",
    "            name='Max',\n",
    "    \n",
    "    )\n",
    "trace3 = go.Bar(\n",
    "            x=device_numbers_dec,\n",
    "            y=device_median_dec,\n",
    "            name='Median',\n",
    "    \n",
    "    )\n",
    "data = [trace1, trace2, trace3]\n",
    "layout = go.Layout(\n",
    "       # barmode='stack',\n",
    "        title=\"Maximum, mean and median ping delay in miliseconds for the last 4 weeks\"\n",
    "    )\n",
    "\n",
    "fig = go.Figure(data=data, layout=layout)\n",
    "iplot(fig)"
   ]
  },
  {
   "cell_type": "markdown",
   "metadata": {},
   "source": [
    "Device 16 has the highest mean and highest max.Devices 7,10,12,17 and 18 have large ping delays as well."
   ]
  },
  {
   "cell_type": "markdown",
   "metadata": {},
   "source": [
    "### Ping latency grouped by duration\n",
    "Lets divide ping latencies into 3 groups:\n",
    " - group1:  1-40Ms delay\n",
    " - group2:  41-100Ms delay\n",
    " - group3:  101+Ms delay  \n",
    " And calculate percentages of ping latencies in each group for every device:"
   ]
  },
  {
   "cell_type": "code",
   "execution_count": 26,
   "metadata": {
    "collapsed": true
   },
   "outputs": [],
   "source": [
    "query_ping_group1= \"SELECT COUNT(PING) FROM PING WHERE PING > 0 AND PING < 41 AND time >= now()-4w GROUP BY SK_PI;\"\n",
    "result_ping_group1 = client.query(query_ping_group1)"
   ]
  },
  {
   "cell_type": "code",
   "execution_count": 27,
   "metadata": {
    "collapsed": true
   },
   "outputs": [],
   "source": [
    "query_ping_group2= \"SELECT COUNT(PING) FROM PING WHERE PING > 40 AND PING < 101 AND  time >= now()-4w  GROUP BY SK_PI;\"\n",
    "result_ping_group2 = client.query(query_ping_group2)"
   ]
  },
  {
   "cell_type": "code",
   "execution_count": 28,
   "metadata": {
    "collapsed": true
   },
   "outputs": [],
   "source": [
    "query_ping_group3= \"SELECT COUNT(PING) FROM PING WHERE PING > 100  AND  time >= now()-4w  GROUP BY SK_PI;\"\n",
    "result_ping_group3 = client.query(query_ping_group3)"
   ]
  },
  {
   "cell_type": "code",
   "execution_count": 39,
   "metadata": {
    "collapsed": true
   },
   "outputs": [],
   "source": [
    "ping_group1=[]\n",
    "ping_group2 = []\n",
    "ping_group3 = []\n",
    "for device in device_numbers_dec:\n",
    "    points_ping_group1=result_ping_group1.get_points(tags={'SK_PI':str(device)})\n",
    "    points_ping_group2=result_ping_group2.get_points(tags={'SK_PI':str(device)})\n",
    "    points_ping_group3=result_ping_group3.get_points(tags={'SK_PI':str(device)})\n",
    "    point_new=0\n",
    "    for point in points_ping_group1:\n",
    "        point_new=point['count']\n",
    "    ping_group1.append(point_new)\n",
    "    point_new=0\n",
    "    for point in points_ping_group2:\n",
    "        point_new=point['count']\n",
    "    ping_group2.append(point_new)\n",
    "    point_new=0\n",
    "    for point in points_ping_group3:\n",
    "        point_new=point['count']\n",
    "    ping_group3.append(point_new)\n",
    "    "
   ]
  },
  {
   "cell_type": "code",
   "execution_count": 40,
   "metadata": {
    "collapsed": true
   },
   "outputs": [],
   "source": [
    "#ping_counts_dec1=list(filter(lambda a: a != 0, ping_counts_dec))\n",
    "#pingdroprate_counts_dec1=list(filter(lambda a: a != 0, pingdroprate_counts_dec))\n",
    "#packets_sent_dec = [(a - b) for a, b in zip(ping_counts_dec1, pingdroprate_counts_dec1)]\n",
    "#packets_sent_dec= [(a + b +c) for a, b,c in zip(ping_group1, ping_group2,ping_group3)]\n",
    "#print(ping_group1)\n",
    "#print(ping_group2)\n",
    "#print(ping_group3)\n",
    "#print(ping_counts_dec1)\n",
    "#print(pingdroprate_counts_dec1)\n",
    "#print(packets_sent_dec)"
   ]
  },
  {
   "cell_type": "code",
   "execution_count": 41,
   "metadata": {
    "scrolled": true
   },
   "outputs": [
    {
     "data": {
      "application/vnd.plotly.v1+json": {
       "data": [
        {
         "name": "percentage of pings with 1-40Ms delay",
         "type": "bar",
         "x": [
          3,
          7,
          9,
          10,
          11,
          12,
          15,
          16,
          17,
          18
         ],
         "y": [
          99.92934102923677,
          86.1203030295251,
          91.72438705409505,
          0,
          99.3614524443784,
          77.08674716490249,
          99.96596847857423,
          87.42175484171057,
          0,
          0
         ]
        },
        {
         "name": "percentage of pings with 41-100Ms delay",
         "type": "bar",
         "x": [
          3,
          7,
          9,
          10,
          11,
          12,
          15,
          16,
          17,
          18
         ],
         "y": [
          0.07065897076322526,
          12.597392262016314,
          7.115765010020825,
          99.8344126792577,
          0.638329024630628,
          22.813591683014593,
          0.03164714731313552,
          4.465102604551768,
          99.49479481601892,
          99.31530893006992
         ]
        },
        {
         "name": "percentage of pings with 101+Ms delay",
         "type": "bar",
         "x": [
          3,
          7,
          9,
          10,
          11,
          12,
          15,
          16,
          17,
          18
         ],
         "y": [
          0,
          1.2823047084585901,
          1.1598479358841283,
          0.16558732074229743,
          0.00021853099097248475,
          0.09966115208291809,
          0.002384374112633498,
          8.113142553737667,
          0.5052051839810693,
          0.6846910699300933
         ]
        }
       ],
       "layout": {
        "barmode": "stack",
        "title": " Ping latency grouped by duration(percentage)"
       }
      },
      "text/html": [
       "<div id=\"1e3038cb-bfc7-468f-9055-2e1eddc62ad2\" style=\"height: 525px; width: 100%;\" class=\"plotly-graph-div\"></div><script type=\"text/javascript\">require([\"plotly\"], function(Plotly) { window.PLOTLYENV=window.PLOTLYENV || {};window.PLOTLYENV.BASE_URL=\"https://plot.ly\";Plotly.newPlot(\"1e3038cb-bfc7-468f-9055-2e1eddc62ad2\", [{\"type\": \"bar\", \"x\": [3, 7, 9, 10, 11, 12, 15, 16, 17, 18], \"y\": [99.92934102923677, 86.1203030295251, 91.72438705409505, 0.0, 99.3614524443784, 77.08674716490249, 99.96596847857423, 87.42175484171057, 0.0, 0.0], \"name\": \"percentage of pings with 1-40Ms delay\"}, {\"type\": \"bar\", \"x\": [3, 7, 9, 10, 11, 12, 15, 16, 17, 18], \"y\": [0.07065897076322526, 12.597392262016314, 7.115765010020825, 99.8344126792577, 0.638329024630628, 22.813591683014593, 0.03164714731313552, 4.465102604551768, 99.49479481601892, 99.31530893006992], \"name\": \"percentage of pings with 41-100Ms delay\"}, {\"type\": \"bar\", \"x\": [3, 7, 9, 10, 11, 12, 15, 16, 17, 18], \"y\": [0.0, 1.2823047084585901, 1.1598479358841283, 0.16558732074229743, 0.00021853099097248475, 0.09966115208291809, 0.002384374112633498, 8.113142553737667, 0.5052051839810693, 0.6846910699300933], \"name\": \"percentage of pings with 101+Ms delay\"}], {\"barmode\": \"stack\", \"title\": \" Ping latency grouped by duration(percentage)\"}, {\"showLink\": true, \"linkText\": \"Export to plot.ly\"})});</script>"
      ],
      "text/vnd.plotly.v1+html": [
       "<div id=\"1e3038cb-bfc7-468f-9055-2e1eddc62ad2\" style=\"height: 525px; width: 100%;\" class=\"plotly-graph-div\"></div><script type=\"text/javascript\">require([\"plotly\"], function(Plotly) { window.PLOTLYENV=window.PLOTLYENV || {};window.PLOTLYENV.BASE_URL=\"https://plot.ly\";Plotly.newPlot(\"1e3038cb-bfc7-468f-9055-2e1eddc62ad2\", [{\"type\": \"bar\", \"x\": [3, 7, 9, 10, 11, 12, 15, 16, 17, 18], \"y\": [99.92934102923677, 86.1203030295251, 91.72438705409505, 0.0, 99.3614524443784, 77.08674716490249, 99.96596847857423, 87.42175484171057, 0.0, 0.0], \"name\": \"percentage of pings with 1-40Ms delay\"}, {\"type\": \"bar\", \"x\": [3, 7, 9, 10, 11, 12, 15, 16, 17, 18], \"y\": [0.07065897076322526, 12.597392262016314, 7.115765010020825, 99.8344126792577, 0.638329024630628, 22.813591683014593, 0.03164714731313552, 4.465102604551768, 99.49479481601892, 99.31530893006992], \"name\": \"percentage of pings with 41-100Ms delay\"}, {\"type\": \"bar\", \"x\": [3, 7, 9, 10, 11, 12, 15, 16, 17, 18], \"y\": [0.0, 1.2823047084585901, 1.1598479358841283, 0.16558732074229743, 0.00021853099097248475, 0.09966115208291809, 0.002384374112633498, 8.113142553737667, 0.5052051839810693, 0.6846910699300933], \"name\": \"percentage of pings with 101+Ms delay\"}], {\"barmode\": \"stack\", \"title\": \" Ping latency grouped by duration(percentage)\"}, {\"showLink\": true, \"linkText\": \"Export to plot.ly\"})});</script>"
      ]
     },
     "metadata": {},
     "output_type": "display_data"
    },
    {
     "data": {
      "application/vnd.plotly.v1+json": {
       "data": [
        {
         "name": "number of pings with 1-40Ms delay",
         "type": "bar",
         "x": [
          3,
          7,
          9,
          10,
          11,
          12,
          15,
          16,
          17,
          18
         ],
         "y": [
          461045,
          335467,
          421513,
          0,
          454679,
          367407,
          461180,
          398450,
          0,
          0
         ]
        },
        {
         "name": "number of pings with 41-100Ms delay",
         "type": "bar",
         "x": [
          3,
          7,
          9,
          10,
          11,
          12,
          15,
          16,
          17,
          18
         ],
         "y": [
          326,
          49071,
          32700,
          291206,
          2921,
          108733,
          146,
          20351,
          380093,
          297065
         ]
        },
        {
         "name": "number of pings with 101+Ms delay",
         "type": "bar",
         "x": [
          3,
          7,
          9,
          10,
          11,
          12,
          15,
          16,
          17,
          18
         ],
         "y": [
          0,
          4995,
          5330,
          483,
          1,
          475,
          11,
          36978,
          1930,
          2048
         ]
        }
       ],
       "layout": {
        "barmode": "stack",
        "title": " Ping latency grouped by duration(actual number)"
       }
      },
      "text/html": [
       "<div id=\"0a532962-bf53-4723-bac2-136e135a5ecf\" style=\"height: 525px; width: 100%;\" class=\"plotly-graph-div\"></div><script type=\"text/javascript\">require([\"plotly\"], function(Plotly) { window.PLOTLYENV=window.PLOTLYENV || {};window.PLOTLYENV.BASE_URL=\"https://plot.ly\";Plotly.newPlot(\"0a532962-bf53-4723-bac2-136e135a5ecf\", [{\"type\": \"bar\", \"x\": [3, 7, 9, 10, 11, 12, 15, 16, 17, 18], \"y\": [461045, 335467, 421513, 0, 454679, 367407, 461180, 398450, 0, 0], \"name\": \"number of pings with 1-40Ms delay\"}, {\"type\": \"bar\", \"x\": [3, 7, 9, 10, 11, 12, 15, 16, 17, 18], \"y\": [326, 49071, 32700, 291206, 2921, 108733, 146, 20351, 380093, 297065], \"name\": \"number of pings with 41-100Ms delay\"}, {\"type\": \"bar\", \"x\": [3, 7, 9, 10, 11, 12, 15, 16, 17, 18], \"y\": [0, 4995, 5330, 483, 1, 475, 11, 36978, 1930, 2048], \"name\": \"number of pings with 101+Ms delay\"}], {\"barmode\": \"stack\", \"title\": \" Ping latency grouped by duration(actual number)\"}, {\"showLink\": true, \"linkText\": \"Export to plot.ly\"})});</script>"
      ],
      "text/vnd.plotly.v1+html": [
       "<div id=\"0a532962-bf53-4723-bac2-136e135a5ecf\" style=\"height: 525px; width: 100%;\" class=\"plotly-graph-div\"></div><script type=\"text/javascript\">require([\"plotly\"], function(Plotly) { window.PLOTLYENV=window.PLOTLYENV || {};window.PLOTLYENV.BASE_URL=\"https://plot.ly\";Plotly.newPlot(\"0a532962-bf53-4723-bac2-136e135a5ecf\", [{\"type\": \"bar\", \"x\": [3, 7, 9, 10, 11, 12, 15, 16, 17, 18], \"y\": [461045, 335467, 421513, 0, 454679, 367407, 461180, 398450, 0, 0], \"name\": \"number of pings with 1-40Ms delay\"}, {\"type\": \"bar\", \"x\": [3, 7, 9, 10, 11, 12, 15, 16, 17, 18], \"y\": [326, 49071, 32700, 291206, 2921, 108733, 146, 20351, 380093, 297065], \"name\": \"number of pings with 41-100Ms delay\"}, {\"type\": \"bar\", \"x\": [3, 7, 9, 10, 11, 12, 15, 16, 17, 18], \"y\": [0, 4995, 5330, 483, 1, 475, 11, 36978, 1930, 2048], \"name\": \"number of pings with 101+Ms delay\"}], {\"barmode\": \"stack\", \"title\": \" Ping latency grouped by duration(actual number)\"}, {\"showLink\": true, \"linkText\": \"Export to plot.ly\"})});</script>"
      ]
     },
     "metadata": {},
     "output_type": "display_data"
    }
   ],
   "source": [
    "packets_sent_dec= [(a + b +c) for a, b,c in zip(ping_group1, ping_group2,ping_group3)]\n",
    "trace1 = go.Bar(\n",
    "            x=device_numbers_dec,\n",
    "            y=[(a / b)*100 for a, b in zip(ping_group1, packets_sent_dec)],\n",
    "            name='percentage of pings with 1-40Ms delay',\n",
    "    )\n",
    "trace2 = go.Bar(\n",
    "            x=device_numbers_dec,\n",
    "            y=[(a / b)*100 for a, b in zip(ping_group2, packets_sent_dec)],\n",
    "            name='percentage of pings with 41-100Ms delay',\n",
    "    \n",
    "    )\n",
    "trace3 = go.Bar(\n",
    "            x=device_numbers_dec,\n",
    "            y=[(a / b)*100 for a, b in zip(ping_group3, packets_sent_dec)],\n",
    "            name='percentage of pings with 101+Ms delay',\n",
    "    \n",
    "    )\n",
    "data1 = [trace1, trace2, trace3]\n",
    "\n",
    "trace4 = go.Bar(\n",
    "            x=device_numbers_dec,\n",
    "            y=ping_group1,\n",
    "            name='number of pings with 1-40Ms delay',\n",
    "    )\n",
    "trace5 = go.Bar(\n",
    "            x=device_numbers_dec,\n",
    "            y=ping_group2,\n",
    "            name='number of pings with 41-100Ms delay',\n",
    "    \n",
    "    )\n",
    "trace6 = go.Bar(\n",
    "            x=device_numbers_dec,\n",
    "            y=ping_group3,\n",
    "            name='number of pings with 101+Ms delay',\n",
    "    \n",
    "    )\n",
    "data2 = [trace4, trace5, trace6]\n",
    "\n",
    "layout1 = go.Layout(\n",
    "        barmode='stack',\n",
    "        title=\" Ping latency grouped by duration(percentage)\"\n",
    "    )\n",
    "layout2 = go.Layout(\n",
    "        barmode='stack',\n",
    "        title=\" Ping latency grouped by duration(actual number)\"\n",
    "    )\n",
    "fig1 = go.Figure(data=data1, layout=layout1)\n",
    "fig2 = go.Figure(data=data2, layout=layout2)\n",
    "iplot(fig1)\n",
    "iplot(fig2)"
   ]
  },
  {
   "cell_type": "markdown",
   "metadata": {},
   "source": [
    "### Ping latency grouped by time of the day\n",
    "We will find mean latency for different time of the day for all the devices in the last 4 weeks:\n",
    " - night: 23:00 - 07:00\n",
    " - day: 07:00 - 17:00\n",
    " - evening: 17:00 - 23:00"
   ]
  },
  {
   "cell_type": "markdown",
   "metadata": {},
   "source": [
    "Could not figure out how to do this, may be something from here: https://docs.influxdata.com/influxdb/v1.7/query_language/data_exploration/#advanced-group-by-time-syntax"
   ]
  },
  {
   "cell_type": "markdown",
   "metadata": {
    "collapsed": true
   },
   "source": [
    "## Ping droprate \n",
    "We will calculate the etite number of packets dropped by device using formula:SUM(PING_DROPRATE)/100"
   ]
  },
  {
   "cell_type": "code",
   "execution_count": 33,
   "metadata": {
    "collapsed": true
   },
   "outputs": [],
   "source": [
    "#query_dropped_counts = \"SELECT SUM(PING_DROPRATE)/100 FROM PING WHERE time >= now()-4w GROUP BY SK_PI ;\"\n",
    "#result_dropped_counts = client.query(query_dropped_counts)"
   ]
  },
  {
   "cell_type": "code",
   "execution_count": 34,
   "metadata": {
    "collapsed": true
   },
   "outputs": [],
   "source": [
    "#device_dropped_counts=[]\n",
    "#for device in device_numbers:\n",
    "#    points_dropped_counts=result_dropped_counts.get_points(tags={'SK_PI':str(device)})\n",
    "#    for point in points_dropped_counts:\n",
    "#        device_dropped_counts.append(point['sum'])\n",
    "#print(device_dropped_counts)\n",
    "#print(sum(device_dropped_counts))"
   ]
  },
  {
   "cell_type": "code",
   "execution_count": 42,
   "metadata": {
    "collapsed": true
   },
   "outputs": [],
   "source": [
    "query_pingdroprate_mean= \"SELECT MEAN(PING_DROPRATE) FROM PING WHERE  time >= now()-4w  GROUP BY SK_PI;\"\n",
    "result_pingdroprate_mean = client.query(query_pingdroprate_mean)"
   ]
  },
  {
   "cell_type": "code",
   "execution_count": 45,
   "metadata": {},
   "outputs": [],
   "source": [
    "pingdroprate_mean_dec = []\n",
    "for device in device_numbers_dec:\n",
    "    points_mean_dec=result_pingdroprate_mean.get_points(tags={'SK_PI':str(device)})\n",
    "    for point in points_mean_dec:\n",
    "        pingdroprate_mean_dec.append(point['mean'])"
   ]
  },
  {
   "cell_type": "code",
   "execution_count": 48,
   "metadata": {},
   "outputs": [
    {
     "data": {
      "application/vnd.plotly.v1+json": {
       "data": [
        {
         "name": "Mean",
         "type": "bar",
         "x": [
          3,
          7,
          9,
          10,
          11,
          12,
          15,
          16,
          17,
          18
         ],
         "y": [
          14.787086333773441,
          38.552318668536365,
          35.80065103671415,
          46.77210278925424,
          28.03592613540682,
          33.073143910539166,
          35.01542428498943,
          54.37213696189028,
          46.5733003641143,
          48.652652721637914
         ]
        }
       ],
       "layout": {
        "title": "Average percentage of ping droprate per device in the last 4 weeks"
       }
      },
      "text/html": [
       "<div id=\"6d32c607-30b4-4456-a551-dedd17045f6c\" style=\"height: 525px; width: 100%;\" class=\"plotly-graph-div\"></div><script type=\"text/javascript\">require([\"plotly\"], function(Plotly) { window.PLOTLYENV=window.PLOTLYENV || {};window.PLOTLYENV.BASE_URL=\"https://plot.ly\";Plotly.newPlot(\"6d32c607-30b4-4456-a551-dedd17045f6c\", [{\"type\": \"bar\", \"x\": [3, 7, 9, 10, 11, 12, 15, 16, 17, 18], \"y\": [14.787086333773441, 38.552318668536365, 35.80065103671415, 46.77210278925424, 28.03592613540682, 33.073143910539166, 35.01542428498943, 54.37213696189028, 46.5733003641143, 48.652652721637914], \"name\": \"Mean\"}], {\"title\": \"Average percentage of ping droprate per device in the last 4 weeks\"}, {\"showLink\": true, \"linkText\": \"Export to plot.ly\"})});</script>"
      ],
      "text/vnd.plotly.v1+html": [
       "<div id=\"6d32c607-30b4-4456-a551-dedd17045f6c\" style=\"height: 525px; width: 100%;\" class=\"plotly-graph-div\"></div><script type=\"text/javascript\">require([\"plotly\"], function(Plotly) { window.PLOTLYENV=window.PLOTLYENV || {};window.PLOTLYENV.BASE_URL=\"https://plot.ly\";Plotly.newPlot(\"6d32c607-30b4-4456-a551-dedd17045f6c\", [{\"type\": \"bar\", \"x\": [3, 7, 9, 10, 11, 12, 15, 16, 17, 18], \"y\": [14.787086333773441, 38.552318668536365, 35.80065103671415, 46.77210278925424, 28.03592613540682, 33.073143910539166, 35.01542428498943, 54.37213696189028, 46.5733003641143, 48.652652721637914], \"name\": \"Mean\"}], {\"title\": \"Average percentage of ping droprate per device in the last 4 weeks\"}, {\"showLink\": true, \"linkText\": \"Export to plot.ly\"})});</script>"
      ]
     },
     "metadata": {},
     "output_type": "display_data"
    }
   ],
   "source": [
    "trace1 = go.Bar(\n",
    "            x=device_numbers_dec,\n",
    "            y=device_mean_dec,\n",
    "            name='Mean',\n",
    "    )\n",
    "\n",
    "data = [trace1]\n",
    "layout = go.Layout(\n",
    "       # barmode='stack',\n",
    "        title=\"Average percentage of ping droprate per device in the last 4 weeks\"\n",
    "    )\n",
    "\n",
    "fig = go.Figure(data=data, layout=layout)\n",
    "iplot(fig)"
   ]
  },
  {
   "cell_type": "markdown",
   "metadata": {},
   "source": [
    "Device 16 has the highest mean - highst percentage of packets dropped - more than 50 percent."
   ]
  },
  {
   "cell_type": "code",
   "execution_count": 35,
   "metadata": {},
   "outputs": [
    {
     "data": {
      "application/vnd.plotly.v1+json": {
       "data": [
        {
         "name": "percentage of pings dropped",
         "type": "bar",
         "x": [
          3,
          7,
          9,
          10,
          11,
          12,
          15,
          16,
          17,
          18
         ],
         "y": [
          0.002817713447212306,
          0.41693875224146687,
          0.8468330999683549,
          13.319939489944217,
          0.23608938230551538,
          0.46969217497604937,
          0.008669906321662195,
          1.601548445269049,
          0.43109177771927953,
          0.4827751419046161
         ]
        },
        {
         "name": "percentage of pings delievered",
         "type": "bar",
         "x": [
          3,
          7,
          9,
          10,
          11,
          12,
          15,
          16,
          17,
          18
         ],
         "y": [
          99.99718228655279,
          99.58306124775854,
          99.15316690003164,
          86.6800605100558,
          99.76391061769448,
          99.53030782502395,
          99.99133009367834,
          98.39845155473095,
          99.56890822228071,
          99.51722485809539
         ]
        }
       ],
       "layout": {
        "barmode": "stack",
        "title": "Ping droprate(percentage)"
       }
      },
      "text/html": [
       "<div id=\"d15ca47b-ba7a-490f-936b-dd096c426ca3\" style=\"height: 525px; width: 100%;\" class=\"plotly-graph-div\"></div><script type=\"text/javascript\">require([\"plotly\"], function(Plotly) { window.PLOTLYENV=window.PLOTLYENV || {};window.PLOTLYENV.BASE_URL=\"https://plot.ly\";Plotly.newPlot(\"d15ca47b-ba7a-490f-936b-dd096c426ca3\", [{\"type\": \"bar\", \"x\": [3, 7, 9, 10, 11, 12, 15, 16, 17, 18], \"y\": [0.002817713447212306, 0.41693875224146687, 0.8468330999683549, 13.319939489944217, 0.23608938230551538, 0.46969217497604937, 0.008669906321662195, 1.601548445269049, 0.43109177771927953, 0.4827751419046161], \"name\": \"percentage of pings dropped\"}, {\"type\": \"bar\", \"x\": [3, 7, 9, 10, 11, 12, 15, 16, 17, 18], \"y\": [99.99718228655279, 99.58306124775854, 99.15316690003164, 86.6800605100558, 99.76391061769448, 99.53030782502395, 99.99133009367834, 98.39845155473095, 99.56890822228071, 99.51722485809539], \"name\": \"percentage of pings delievered\"}], {\"barmode\": \"stack\", \"title\": \"Ping droprate(percentage)\"}, {\"showLink\": true, \"linkText\": \"Export to plot.ly\"})});</script>"
      ],
      "text/vnd.plotly.v1+html": [
       "<div id=\"d15ca47b-ba7a-490f-936b-dd096c426ca3\" style=\"height: 525px; width: 100%;\" class=\"plotly-graph-div\"></div><script type=\"text/javascript\">require([\"plotly\"], function(Plotly) { window.PLOTLYENV=window.PLOTLYENV || {};window.PLOTLYENV.BASE_URL=\"https://plot.ly\";Plotly.newPlot(\"d15ca47b-ba7a-490f-936b-dd096c426ca3\", [{\"type\": \"bar\", \"x\": [3, 7, 9, 10, 11, 12, 15, 16, 17, 18], \"y\": [0.002817713447212306, 0.41693875224146687, 0.8468330999683549, 13.319939489944217, 0.23608938230551538, 0.46969217497604937, 0.008669906321662195, 1.601548445269049, 0.43109177771927953, 0.4827751419046161], \"name\": \"percentage of pings dropped\"}, {\"type\": \"bar\", \"x\": [3, 7, 9, 10, 11, 12, 15, 16, 17, 18], \"y\": [99.99718228655279, 99.58306124775854, 99.15316690003164, 86.6800605100558, 99.76391061769448, 99.53030782502395, 99.99133009367834, 98.39845155473095, 99.56890822228071, 99.51722485809539], \"name\": \"percentage of pings delievered\"}], {\"barmode\": \"stack\", \"title\": \"Ping droprate(percentage)\"}, {\"showLink\": true, \"linkText\": \"Export to plot.ly\"})});</script>"
      ]
     },
     "metadata": {},
     "output_type": "display_data"
    },
    {
     "data": {
      "application/vnd.plotly.v1+json": {
       "data": [
        {
         "name": "number of pings dropped",
         "type": "bar",
         "x": [
          3,
          7,
          9,
          10,
          11,
          12,
          15,
          16,
          17,
          18
         ],
         "y": [
          13,
          1609,
          3907,
          44818,
          1082,
          2167,
          40,
          7389,
          1654,
          1451
         ]
        },
        {
         "name": "number of pings delievered",
         "type": "bar",
         "x": [
          3,
          7,
          9,
          10,
          11,
          12,
          15,
          16,
          17,
          18
         ],
         "y": [
          461354,
          384299,
          457459,
          291655,
          457219,
          459199,
          461326,
          453977,
          382023,
          299103
         ]
        }
       ],
       "layout": {
        "barmode": "stack",
        "title": "Ping droprate(actual number)"
       }
      },
      "text/html": [
       "<div id=\"0efe1e0d-8e6d-4833-a4b3-913100835f43\" style=\"height: 525px; width: 100%;\" class=\"plotly-graph-div\"></div><script type=\"text/javascript\">require([\"plotly\"], function(Plotly) { window.PLOTLYENV=window.PLOTLYENV || {};window.PLOTLYENV.BASE_URL=\"https://plot.ly\";Plotly.newPlot(\"0efe1e0d-8e6d-4833-a4b3-913100835f43\", [{\"type\": \"bar\", \"x\": [3, 7, 9, 10, 11, 12, 15, 16, 17, 18], \"y\": [13, 1609, 3907, 44818, 1082, 2167, 40, 7389, 1654, 1451], \"name\": \"number of pings dropped\"}, {\"type\": \"bar\", \"x\": [3, 7, 9, 10, 11, 12, 15, 16, 17, 18], \"y\": [461354, 384299, 457459, 291655, 457219, 459199, 461326, 453977, 382023, 299103], \"name\": \"number of pings delievered\"}], {\"barmode\": \"stack\", \"title\": \"Ping droprate(actual number)\"}, {\"showLink\": true, \"linkText\": \"Export to plot.ly\"})});</script>"
      ],
      "text/vnd.plotly.v1+html": [
       "<div id=\"0efe1e0d-8e6d-4833-a4b3-913100835f43\" style=\"height: 525px; width: 100%;\" class=\"plotly-graph-div\"></div><script type=\"text/javascript\">require([\"plotly\"], function(Plotly) { window.PLOTLYENV=window.PLOTLYENV || {};window.PLOTLYENV.BASE_URL=\"https://plot.ly\";Plotly.newPlot(\"0efe1e0d-8e6d-4833-a4b3-913100835f43\", [{\"type\": \"bar\", \"x\": [3, 7, 9, 10, 11, 12, 15, 16, 17, 18], \"y\": [13, 1609, 3907, 44818, 1082, 2167, 40, 7389, 1654, 1451], \"name\": \"number of pings dropped\"}, {\"type\": \"bar\", \"x\": [3, 7, 9, 10, 11, 12, 15, 16, 17, 18], \"y\": [461354, 384299, 457459, 291655, 457219, 459199, 461326, 453977, 382023, 299103], \"name\": \"number of pings delievered\"}], {\"barmode\": \"stack\", \"title\": \"Ping droprate(actual number)\"}, {\"showLink\": true, \"linkText\": \"Export to plot.ly\"})});</script>"
      ]
     },
     "metadata": {},
     "output_type": "display_data"
    }
   ],
   "source": [
    "ping_counts_dec1=list(filter(lambda a: a != 0, ping_counts_dec))\n",
    "pingdroprate_counts_dec1=list(filter(lambda a: a != 0, pingdroprate_counts_dec))\n",
    "trace1 = go.Bar(\n",
    "            x=device_numbers_dec,\n",
    "            y=[(a / b)*100 for a, b in zip(pingdroprate_counts_dec1, ping_counts_dec1)],\n",
    "            name='percentage of pings dropped',\n",
    "    )\n",
    "trace2 = go.Bar(\n",
    "            x=device_numbers_dec,\n",
    "            y=[((b-a) / b)*100 for a, b in zip(pingdroprate_counts_dec1, ping_counts_dec1)],\n",
    "            name='percentage of pings delievered',\n",
    "    \n",
    "    )\n",
    "\n",
    "data1 = [trace1, trace2]\n",
    "\n",
    "trace3 = go.Bar(\n",
    "            x=device_numbers_dec,\n",
    "            y=pingdroprate_counts_dec1,\n",
    "            name='number of pings dropped',\n",
    "    )\n",
    "trace4 = go.Bar(\n",
    "            x=device_numbers_dec,\n",
    "            y=[(b-a)  for a, b in zip(pingdroprate_counts_dec1, ping_counts_dec1)],\n",
    "            name='number of pings delievered',    \n",
    "    )\n",
    "\n",
    "data2 = [trace3, trace4]\n",
    "\n",
    "layout1 = go.Layout(\n",
    "        barmode='stack',\n",
    "        title=\"Ping droprate(percentage)\"\n",
    "    )\n",
    "layout2 = go.Layout(\n",
    "        barmode='stack',\n",
    "        title=\"Ping droprate(actual number)\"\n",
    "    )\n",
    "fig1 = go.Figure(data=data1, layout=layout1)\n",
    "fig2 = go.Figure(data=data2, layout=layout2)\n",
    "iplot(fig1)\n",
    "iplot(fig2)"
   ]
  },
  {
   "cell_type": "markdown",
   "metadata": {},
   "source": [
    "Device #10 and device #16  have the largest number of packets dropped."
   ]
  },
  {
   "cell_type": "code",
   "execution_count": 36,
   "metadata": {
    "collapsed": true
   },
   "outputs": [],
   "source": [
    "#trace = go.Pie(labels=device_numbers, values=device_dropped_counts)\n",
    "#data=[trace]\n",
    "#layout = go.Layout(\n",
    "#        title=\"Total number of packets dropped by device\"\n",
    "#    )\n",
    "#fig = go.Figure(data=data, layout=layout)\n",
    "#iplot(fig)"
   ]
  },
  {
   "cell_type": "code",
   "execution_count": 37,
   "metadata": {
    "collapsed": true
   },
   "outputs": [],
   "source": [
    "#query_dropped_counts_dec = \"SELECT SUM(PING_DROPRATE)/100 FROM PING WHERE time >= '2018-12-01 00:00:00' GROUP BY SK_PI ;\"\n",
    "#result_dropped_counts_dec = client.query(query_dropped_counts_dec)"
   ]
  },
  {
   "cell_type": "code",
   "execution_count": 38,
   "metadata": {
    "collapsed": true
   },
   "outputs": [],
   "source": [
    "#device_dropped_counts_dec=[]\n",
    "#for device in device_numbers:\n",
    "#    points_dropped_counts_dec=result_dropped_counts_dec.get_points(tags={'SK_PI':str(device)})\n",
    "#    point_sum=0\n",
    "#    for point in points_dropped_counts_dec:\n",
    "#        point_sum=point['sum']\n",
    "#    device_dropped_counts_dec.append(point_sum)    "
   ]
  },
  {
   "cell_type": "code",
   "execution_count": null,
   "metadata": {
    "collapsed": true
   },
   "outputs": [],
   "source": [
    "#trace = go.Pie(labels=device_numbers, values=device_dropped_counts_dec)\n",
    "#data=[trace]\n",
    "#layout = go.Layout(\n",
    "#        title=\"Total number of packets dropped by device in December\"\n",
    "#    )\n",
    "#fig = go.Figure(data=data, layout=layout)\n",
    "#iplot(fig)"
   ]
  }
 ],
 "metadata": {
  "kernelspec": {
   "display_name": "Python 3",
   "language": "python",
   "name": "python3"
  },
  "language_info": {
   "codemirror_mode": {
    "name": "ipython",
    "version": 3
   },
   "file_extension": ".py",
   "mimetype": "text/x-python",
   "name": "python",
   "nbconvert_exporter": "python",
   "pygments_lexer": "ipython3",
   "version": "3.6.3"
  },
  "nbTranslate": {
   "displayLangs": [
    "*"
   ],
   "hotkey": "alt-t",
   "langInMainMenu": true,
   "sourceLang": "en",
   "targetLang": "fr",
   "useGoogleTranslate": true
  }
 },
 "nbformat": 4,
 "nbformat_minor": 2
}
