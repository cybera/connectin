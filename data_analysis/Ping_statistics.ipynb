{
 "cells": [
  {
   "cell_type": "markdown",
   "metadata": {},
   "source": [
    "### Collecting some ping statistics"
   ]
  },
  {
   "cell_type": "markdown",
   "metadata": {},
   "source": [
    "Ping data collected every 5 seconds doing single pings to 8.8.8.8\n",
    "\n",
    "**Example**:\n",
    ">$ ping -c 1 8.8.8.8  \n",
    ">PING 8.8.8.8 (8.8.8.8): 56 data bytes  \n",
    ">64 bytes from 8.8.8.8: icmp_seq=0 ttl=119 **time=22.985 ms**  \n",
    ">--- 8.8.8.8 ping statistics ---  \n",
    ">1 packets transmitted, 1 packets received, **0.0% packet loss**  \n",
    ">round-trip min/**avg**/max/**stddev** = 22.985/22.985/**22.985**/**0.000** ms  "
   ]
  },
  {
   "cell_type": "markdown",
   "metadata": {},
   "source": [
    "Data beeing collected:\n",
    " - **Ping latency** (in miliseconds, 22.985 ms in the example)\n",
    " - __Percentage of packets dropped__  (0.0% in the example, can be only 0% or 100%, data collected for single pings) \n",
    " - **Standart deviation (for latency)**  - always 0 for single pings\n"
   ]
  },
  {
   "cell_type": "code",
   "execution_count": 1,
   "metadata": {},
   "outputs": [
    {
     "data": {
      "text/html": [
       "<script>requirejs.config({paths: { 'plotly': ['https://cdn.plot.ly/plotly-latest.min']},});if(!window.Plotly) {{require(['plotly'],function(plotly) {window.Plotly=plotly;});}}</script>"
      ],
      "text/vnd.plotly.v1+html": [
       "<script>requirejs.config({paths: { 'plotly': ['https://cdn.plot.ly/plotly-latest.min']},});if(!window.Plotly) {{require(['plotly'],function(plotly) {window.Plotly=plotly;});}}</script>"
      ]
     },
     "metadata": {},
     "output_type": "display_data"
    }
   ],
   "source": [
    "from influxdb import DataFrameClient\n",
    "from influxdb import InfluxDBClient\n",
    "\n",
    "from plotly.offline import init_notebook_mode, iplot\n",
    "import plotly.graph_objs as go\n",
    "import plotly.plotly as py\n",
    "from plotly import tools\n",
    "init_notebook_mode(connected=True)"
   ]
  },
  {
   "cell_type": "markdown",
   "metadata": {},
   "source": [
    "Set up influxdb connection:"
   ]
  },
  {
   "cell_type": "code",
   "execution_count": 2,
   "metadata": {
    "collapsed": true
   },
   "outputs": [],
   "source": [
    "host='204.209.76.145'\n",
    "port=8086\n",
    "dbname = 'net_speed_md'\n",
    "client = InfluxDBClient(host, port, '', '', dbname)"
   ]
  },
  {
   "cell_type": "markdown",
   "metadata": {},
   "source": [
    " Used this to learn about influxdb:\n",
    " - https://influxdb-python.readthedocs.io/en/latest/examples.html\n",
    " - https://www.influxdata.com/blog/getting-started-python-influxdb/\n",
    " - https://influxdb-python.readthedocs.io/en/latest/resultset.html\n",
    " - https://influxdb-python.readthedocs.io/en/latest/api-documentation.html\n",
    " - https://docs.influxdata.com/influxdb/v1.0//query_language/functions  - Functions!!"
   ]
  },
  {
   "cell_type": "code",
   "execution_count": 4,
   "metadata": {
    "collapsed": true
   },
   "outputs": [],
   "source": [
    "#Trying to load entire table, convert to dataframe and estimate how much memory its taking\n",
    "#from here https://stackoverflow.com/questions/18089667/how-to-estimate-how-much-memory-a-pandas-dataframe-will-need\n",
    "#client = DataFrameClient(host, port, '', '', dbname)\n",
    "#query_ping = 'SELECT * FROM PING;'\n",
    "#result_ping = client.query(query_ping)\n",
    "#ping_df = result_ping['PING']\n",
    "#print(ping_df.memory_usage())\n",
    "#print(sys.getsizeof(ping_df))\n",
    "#rint( df.memory_usage(deep=True).sum())"
   ]
  },
  {
   "cell_type": "markdown",
   "metadata": {},
   "source": [
    "Checking last 20 records in the ping measurment and see how data looks like:"
   ]
  },
  {
   "cell_type": "code",
   "execution_count": 5,
   "metadata": {},
   "outputs": [
    {
     "data": {
      "text/html": [
       "<div>\n",
       "<style>\n",
       "    .dataframe thead tr:only-child th {\n",
       "        text-align: right;\n",
       "    }\n",
       "\n",
       "    .dataframe thead th {\n",
       "        text-align: left;\n",
       "    }\n",
       "\n",
       "    .dataframe tbody tr th {\n",
       "        vertical-align: top;\n",
       "    }\n",
       "</style>\n",
       "<table border=\"1\" class=\"dataframe\">\n",
       "  <thead>\n",
       "    <tr style=\"text-align: right;\">\n",
       "      <th></th>\n",
       "      <th>PING</th>\n",
       "      <th>SK_PI</th>\n",
       "    </tr>\n",
       "  </thead>\n",
       "  <tbody>\n",
       "    <tr>\n",
       "      <th>2018-12-19 23:59:57.996999936+00:00</th>\n",
       "      <td>0.000</td>\n",
       "      <td>3</td>\n",
       "    </tr>\n",
       "    <tr>\n",
       "      <th>2018-12-19 23:59:58.996999936+00:00</th>\n",
       "      <td>43.154</td>\n",
       "      <td>18</td>\n",
       "    </tr>\n",
       "    <tr>\n",
       "      <th>2018-12-19 23:59:58.996999936+00:00</th>\n",
       "      <td>32.492</td>\n",
       "      <td>9</td>\n",
       "    </tr>\n",
       "    <tr>\n",
       "      <th>2018-12-19 23:59:58.996999936+00:00</th>\n",
       "      <td>35.068</td>\n",
       "      <td>15</td>\n",
       "    </tr>\n",
       "    <tr>\n",
       "      <th>2018-12-19 23:59:58.996999936+00:00</th>\n",
       "      <td>0.000</td>\n",
       "      <td>16</td>\n",
       "    </tr>\n",
       "    <tr>\n",
       "      <th>2018-12-20 00:00:00+00:00</th>\n",
       "      <td>27.172</td>\n",
       "      <td>11</td>\n",
       "    </tr>\n",
       "    <tr>\n",
       "      <th>2018-12-20 00:00:00+00:00</th>\n",
       "      <td>0.000</td>\n",
       "      <td>10</td>\n",
       "    </tr>\n",
       "    <tr>\n",
       "      <th>2018-12-20 00:00:00+00:00</th>\n",
       "      <td>0.000</td>\n",
       "      <td>17</td>\n",
       "    </tr>\n",
       "    <tr>\n",
       "      <th>2018-12-20 00:00:00+00:00</th>\n",
       "      <td>0.000</td>\n",
       "      <td>3</td>\n",
       "    </tr>\n",
       "    <tr>\n",
       "      <th>2018-12-20 00:00:00+00:00</th>\n",
       "      <td>80.602</td>\n",
       "      <td>12</td>\n",
       "    </tr>\n",
       "  </tbody>\n",
       "</table>\n",
       "</div>"
      ],
      "text/plain": [
       "                                       PING SK_PI\n",
       "2018-12-19 23:59:57.996999936+00:00   0.000     3\n",
       "2018-12-19 23:59:58.996999936+00:00  43.154    18\n",
       "2018-12-19 23:59:58.996999936+00:00  32.492     9\n",
       "2018-12-19 23:59:58.996999936+00:00  35.068    15\n",
       "2018-12-19 23:59:58.996999936+00:00   0.000    16\n",
       "2018-12-20 00:00:00+00:00            27.172    11\n",
       "2018-12-20 00:00:00+00:00             0.000    10\n",
       "2018-12-20 00:00:00+00:00             0.000    17\n",
       "2018-12-20 00:00:00+00:00             0.000     3\n",
       "2018-12-20 00:00:00+00:00            80.602    12"
      ]
     },
     "execution_count": 5,
     "metadata": {},
     "output_type": "execute_result"
    }
   ],
   "source": [
    "client_df = DataFrameClient(host, port, '', '', dbname)\n",
    "query_ping = 'SELECT PING,SK_PI FROM PING ORDER BY time DESC LIMIT 10;'\n",
    "result_ping = client_df.query(query_ping)\n",
    "ping_df = result_ping['PING']\n",
    "ping_df"
   ]
  },
  {
   "cell_type": "markdown",
   "metadata": {},
   "source": [
    "Let's take just one device, for example 3:"
   ]
  },
  {
   "cell_type": "code",
   "execution_count": 6,
   "metadata": {},
   "outputs": [
    {
     "data": {
      "text/html": [
       "<div>\n",
       "<style>\n",
       "    .dataframe thead tr:only-child th {\n",
       "        text-align: right;\n",
       "    }\n",
       "\n",
       "    .dataframe thead th {\n",
       "        text-align: left;\n",
       "    }\n",
       "\n",
       "    .dataframe tbody tr th {\n",
       "        vertical-align: top;\n",
       "    }\n",
       "</style>\n",
       "<table border=\"1\" class=\"dataframe\">\n",
       "  <thead>\n",
       "    <tr style=\"text-align: right;\">\n",
       "      <th></th>\n",
       "      <th>PING</th>\n",
       "    </tr>\n",
       "  </thead>\n",
       "  <tbody>\n",
       "    <tr>\n",
       "      <th>2018-12-19 23:59:41.980000+00:00</th>\n",
       "      <td>14.701</td>\n",
       "    </tr>\n",
       "    <tr>\n",
       "      <th>2018-12-19 23:59:43.983000064+00:00</th>\n",
       "      <td>0.000</td>\n",
       "    </tr>\n",
       "    <tr>\n",
       "      <th>2018-12-19 23:59:45.987000064+00:00</th>\n",
       "      <td>14.610</td>\n",
       "    </tr>\n",
       "    <tr>\n",
       "      <th>2018-12-19 23:59:47.987000064+00:00</th>\n",
       "      <td>0.000</td>\n",
       "    </tr>\n",
       "    <tr>\n",
       "      <th>2018-12-19 23:59:49.990000128+00:00</th>\n",
       "      <td>0.000</td>\n",
       "    </tr>\n",
       "    <tr>\n",
       "      <th>2018-12-19 23:59:51.990000128+00:00</th>\n",
       "      <td>14.740</td>\n",
       "    </tr>\n",
       "    <tr>\n",
       "      <th>2018-12-19 23:59:53.992999936+00:00</th>\n",
       "      <td>0.000</td>\n",
       "    </tr>\n",
       "    <tr>\n",
       "      <th>2018-12-19 23:59:55.996999936+00:00</th>\n",
       "      <td>14.666</td>\n",
       "    </tr>\n",
       "    <tr>\n",
       "      <th>2018-12-19 23:59:57.996999936+00:00</th>\n",
       "      <td>0.000</td>\n",
       "    </tr>\n",
       "    <tr>\n",
       "      <th>2018-12-20 00:00:00+00:00</th>\n",
       "      <td>0.000</td>\n",
       "    </tr>\n",
       "  </tbody>\n",
       "</table>\n",
       "</div>"
      ],
      "text/plain": [
       "                                       PING\n",
       "2018-12-19 23:59:41.980000+00:00     14.701\n",
       "2018-12-19 23:59:43.983000064+00:00   0.000\n",
       "2018-12-19 23:59:45.987000064+00:00  14.610\n",
       "2018-12-19 23:59:47.987000064+00:00   0.000\n",
       "2018-12-19 23:59:49.990000128+00:00   0.000\n",
       "2018-12-19 23:59:51.990000128+00:00  14.740\n",
       "2018-12-19 23:59:53.992999936+00:00   0.000\n",
       "2018-12-19 23:59:55.996999936+00:00  14.666\n",
       "2018-12-19 23:59:57.996999936+00:00   0.000\n",
       "2018-12-20 00:00:00+00:00             0.000"
      ]
     },
     "execution_count": 6,
     "metadata": {},
     "output_type": "execute_result"
    }
   ],
   "source": [
    "query_ping = \"SELECT PING FROM PING WHERE SK_PI='3' ORDER BY time DESC LIMIT 10;\"\n",
    "result_ping = client_df.query(query_ping)\n",
    "ping_df = result_ping['PING']\n",
    "ping_df"
   ]
  },
  {
   "cell_type": "markdown",
   "metadata": {},
   "source": [
    "Lets compare with what we have in mysql database."
   ]
  },
  {
   "cell_type": "code",
   "execution_count": 8,
   "metadata": {},
   "outputs": [
    {
     "data": {
      "text/html": [
       "<div>\n",
       "<style>\n",
       "    .dataframe thead tr:only-child th {\n",
       "        text-align: right;\n",
       "    }\n",
       "\n",
       "    .dataframe thead th {\n",
       "        text-align: left;\n",
       "    }\n",
       "\n",
       "    .dataframe tbody tr th {\n",
       "        vertical-align: top;\n",
       "    }\n",
       "</style>\n",
       "<table border=\"1\" class=\"dataframe\">\n",
       "  <thead>\n",
       "    <tr style=\"text-align: right;\">\n",
       "      <th></th>\n",
       "      <th>DATA_DATE</th>\n",
       "      <th>PING</th>\n",
       "    </tr>\n",
       "  </thead>\n",
       "  <tbody>\n",
       "    <tr>\n",
       "      <th>0</th>\n",
       "      <td>2018-12-20 23:59:59.400</td>\n",
       "      <td>NaN</td>\n",
       "    </tr>\n",
       "    <tr>\n",
       "      <th>1</th>\n",
       "      <td>2018-12-20 23:59:57.397</td>\n",
       "      <td>14.707</td>\n",
       "    </tr>\n",
       "    <tr>\n",
       "      <th>2</th>\n",
       "      <td>2018-12-20 23:59:55.397</td>\n",
       "      <td>NaN</td>\n",
       "    </tr>\n",
       "    <tr>\n",
       "      <th>3</th>\n",
       "      <td>2018-12-20 23:59:53.393</td>\n",
       "      <td>NaN</td>\n",
       "    </tr>\n",
       "    <tr>\n",
       "      <th>4</th>\n",
       "      <td>2018-12-20 23:59:51.390</td>\n",
       "      <td>14.699</td>\n",
       "    </tr>\n",
       "    <tr>\n",
       "      <th>5</th>\n",
       "      <td>2018-12-20 23:59:49.390</td>\n",
       "      <td>NaN</td>\n",
       "    </tr>\n",
       "    <tr>\n",
       "      <th>6</th>\n",
       "      <td>2018-12-20 23:59:47.387</td>\n",
       "      <td>14.696</td>\n",
       "    </tr>\n",
       "    <tr>\n",
       "      <th>7</th>\n",
       "      <td>2018-12-20 23:59:45.387</td>\n",
       "      <td>NaN</td>\n",
       "    </tr>\n",
       "    <tr>\n",
       "      <th>8</th>\n",
       "      <td>2018-12-20 23:59:43.383</td>\n",
       "      <td>NaN</td>\n",
       "    </tr>\n",
       "    <tr>\n",
       "      <th>9</th>\n",
       "      <td>2018-12-20 23:59:41.380</td>\n",
       "      <td>14.563</td>\n",
       "    </tr>\n",
       "  </tbody>\n",
       "</table>\n",
       "</div>"
      ],
      "text/plain": [
       "                DATA_DATE    PING\n",
       "0 2018-12-20 23:59:59.400     NaN\n",
       "1 2018-12-20 23:59:57.397  14.707\n",
       "2 2018-12-20 23:59:55.397     NaN\n",
       "3 2018-12-20 23:59:53.393     NaN\n",
       "4 2018-12-20 23:59:51.390  14.699\n",
       "5 2018-12-20 23:59:49.390     NaN\n",
       "6 2018-12-20 23:59:47.387  14.696\n",
       "7 2018-12-20 23:59:45.387     NaN\n",
       "8 2018-12-20 23:59:43.383     NaN\n",
       "9 2018-12-20 23:59:41.380  14.563"
      ]
     },
     "execution_count": 8,
     "metadata": {},
     "output_type": "execute_result"
    }
   ],
   "source": [
    "import pyodbc\n",
    "import pandas as pd\n",
    "password='' #from 1Password! \n",
    "cnxn = pyodbc.connect(driver='/usr/local/lib/libtdsodbc.so', server='198.62.164.54',port='1433', database='net_speed_md', uid='cybera_sql', pwd=password)\n",
    "sql = \"SELECT TOP 10 DATA_DATE, PING FROM FCT_PI where sk_pi='3' ORDER BY DATA_DATE DESC;\"\n",
    "data = pd.read_sql(sql,cnxn)\n",
    "data"
   ]
  },
  {
   "cell_type": "markdown",
   "metadata": {},
   "source": [
    "Pings are coming every 5 seconds. Missing values are NaN in original and 0 in the influxdb (we might consider re-importing and omitting values with NaN)"
   ]
  },
  {
   "cell_type": "markdown",
   "metadata": {},
   "source": [
    "Checking statistics for number of packets dropped:"
   ]
  },
  {
   "cell_type": "code",
   "execution_count": 9,
   "metadata": {},
   "outputs": [
    {
     "data": {
      "text/html": [
       "<div>\n",
       "<style>\n",
       "    .dataframe thead tr:only-child th {\n",
       "        text-align: right;\n",
       "    }\n",
       "\n",
       "    .dataframe thead th {\n",
       "        text-align: left;\n",
       "    }\n",
       "\n",
       "    .dataframe tbody tr th {\n",
       "        vertical-align: top;\n",
       "    }\n",
       "</style>\n",
       "<table border=\"1\" class=\"dataframe\">\n",
       "  <thead>\n",
       "    <tr style=\"text-align: right;\">\n",
       "      <th></th>\n",
       "      <th>distinct</th>\n",
       "    </tr>\n",
       "  </thead>\n",
       "  <tbody>\n",
       "    <tr>\n",
       "      <th>1970-01-01 00:00:00+00:00</th>\n",
       "      <td>0</td>\n",
       "    </tr>\n",
       "    <tr>\n",
       "      <th>1970-01-01 00:00:00+00:00</th>\n",
       "      <td>100</td>\n",
       "    </tr>\n",
       "  </tbody>\n",
       "</table>\n",
       "</div>"
      ],
      "text/plain": [
       "                           distinct\n",
       "1970-01-01 00:00:00+00:00         0\n",
       "1970-01-01 00:00:00+00:00       100"
      ]
     },
     "execution_count": 9,
     "metadata": {},
     "output_type": "execute_result"
    }
   ],
   "source": [
    "query_ping = \"SELECT DISTINCT(PING_DROPRATE) from PING;\"\n",
    "result_ping = client_df.query(query_ping)\n",
    "ping_df = result_ping['PING']\n",
    "ping_df"
   ]
  },
  {
   "cell_type": "markdown",
   "metadata": {},
   "source": [
    "In Grafana we see that the device #10 has  some packets dropped, lets see what is the value of *PING* measurment when *PING_DROPRATE* is equal to 100:"
   ]
  },
  {
   "cell_type": "code",
   "execution_count": 11,
   "metadata": {},
   "outputs": [
    {
     "data": {
      "text/html": [
       "<div>\n",
       "<style>\n",
       "    .dataframe thead tr:only-child th {\n",
       "        text-align: right;\n",
       "    }\n",
       "\n",
       "    .dataframe thead th {\n",
       "        text-align: left;\n",
       "    }\n",
       "\n",
       "    .dataframe tbody tr th {\n",
       "        vertical-align: top;\n",
       "    }\n",
       "</style>\n",
       "<table border=\"1\" class=\"dataframe\">\n",
       "  <thead>\n",
       "    <tr style=\"text-align: right;\">\n",
       "      <th></th>\n",
       "      <th>PING</th>\n",
       "      <th>PING_DROPRATE</th>\n",
       "    </tr>\n",
       "  </thead>\n",
       "  <tbody>\n",
       "    <tr>\n",
       "      <th>2018-12-19 23:59:41.980000+00:00</th>\n",
       "      <td>45.827</td>\n",
       "      <td>0</td>\n",
       "    </tr>\n",
       "    <tr>\n",
       "      <th>2018-12-19 23:59:43.983000064+00:00</th>\n",
       "      <td>0.000</td>\n",
       "      <td>0</td>\n",
       "    </tr>\n",
       "    <tr>\n",
       "      <th>2018-12-19 23:59:45.987000064+00:00</th>\n",
       "      <td>0.000</td>\n",
       "      <td>0</td>\n",
       "    </tr>\n",
       "    <tr>\n",
       "      <th>2018-12-19 23:59:47.987000064+00:00</th>\n",
       "      <td>45.482</td>\n",
       "      <td>0</td>\n",
       "    </tr>\n",
       "    <tr>\n",
       "      <th>2018-12-19 23:59:49.990000128+00:00</th>\n",
       "      <td>0.000</td>\n",
       "      <td>0</td>\n",
       "    </tr>\n",
       "    <tr>\n",
       "      <th>2018-12-19 23:59:51.990000128+00:00</th>\n",
       "      <td>46.267</td>\n",
       "      <td>0</td>\n",
       "    </tr>\n",
       "    <tr>\n",
       "      <th>2018-12-19 23:59:53.992999936+00:00</th>\n",
       "      <td>0.000</td>\n",
       "      <td>0</td>\n",
       "    </tr>\n",
       "    <tr>\n",
       "      <th>2018-12-19 23:59:55.996999936+00:00</th>\n",
       "      <td>0.000</td>\n",
       "      <td>0</td>\n",
       "    </tr>\n",
       "    <tr>\n",
       "      <th>2018-12-19 23:59:57.996999936+00:00</th>\n",
       "      <td>0.000</td>\n",
       "      <td>100</td>\n",
       "    </tr>\n",
       "    <tr>\n",
       "      <th>2018-12-20 00:00:00+00:00</th>\n",
       "      <td>0.000</td>\n",
       "      <td>0</td>\n",
       "    </tr>\n",
       "  </tbody>\n",
       "</table>\n",
       "</div>"
      ],
      "text/plain": [
       "                                       PING  PING_DROPRATE\n",
       "2018-12-19 23:59:41.980000+00:00     45.827              0\n",
       "2018-12-19 23:59:43.983000064+00:00   0.000              0\n",
       "2018-12-19 23:59:45.987000064+00:00   0.000              0\n",
       "2018-12-19 23:59:47.987000064+00:00  45.482              0\n",
       "2018-12-19 23:59:49.990000128+00:00   0.000              0\n",
       "2018-12-19 23:59:51.990000128+00:00  46.267              0\n",
       "2018-12-19 23:59:53.992999936+00:00   0.000              0\n",
       "2018-12-19 23:59:55.996999936+00:00   0.000              0\n",
       "2018-12-19 23:59:57.996999936+00:00   0.000            100\n",
       "2018-12-20 00:00:00+00:00             0.000              0"
      ]
     },
     "execution_count": 11,
     "metadata": {},
     "output_type": "execute_result"
    }
   ],
   "source": [
    "query_ping = \"SELECT PING, PING_DROPRATE FROM PING WHERE SK_PI='10' ORDER BY time DESC LIMIT 10;\"\n",
    "result_ping = client_df.query(query_ping)\n",
    "ping_df = result_ping['PING']\n",
    "ping_df"
   ]
  },
  {
   "cell_type": "markdown",
   "metadata": {},
   "source": [
    "*PING* is equal to 0 in this case, its importatnt to know."
   ]
  },
  {
   "cell_type": "markdown",
   "metadata": {},
   "source": [
    "### Number of datapoints per device"
   ]
  },
  {
   "cell_type": "markdown",
   "metadata": {},
   "source": [
    "Getting device numbers(tags SK_PI):"
   ]
  },
  {
   "cell_type": "code",
   "execution_count": 12,
   "metadata": {},
   "outputs": [
    {
     "name": "stdout",
     "output_type": "stream",
     "text": [
      "[1, 2, 3, 4, 5, 6, 7, 8, 9, 10, 11, 12, 13, 14, 15, 16, 17, 18]\n"
     ]
    }
   ],
   "source": [
    "query_unique_devices = \"SHOW TAG VALUES FROM PING WITH KEY=SK_PI;\"\n",
    "result_unique_devices = client.query(query_unique_devices)\n",
    "points_unique_devices = result_unique_devices.get_points()\n",
    "device_numbers=[]\n",
    "for point in points_unique_devices:\n",
    "    device_numbers.append(point['value'])\n",
    "device_numbers=list(map(int, device_numbers))\n",
    "device_numbers= sorted(device_numbers)\n",
    "print(device_numbers)"
   ]
  },
  {
   "cell_type": "markdown",
   "metadata": {},
   "source": [
    "Getting number of data points per device for the entire period of time."
   ]
  },
  {
   "cell_type": "code",
   "execution_count": 13,
   "metadata": {
    "collapsed": true
   },
   "outputs": [],
   "source": [
    "query_ping_counts = 'SELECT COUNT(PING) FROM PING GROUP BY SK_PI;'\n",
    "result_ping_counts = client.query(query_ping_counts)"
   ]
  },
  {
   "cell_type": "code",
   "execution_count": 14,
   "metadata": {
    "collapsed": true
   },
   "outputs": [],
   "source": [
    "device_counts=[]\n",
    "for device in device_numbers:\n",
    "    points_ping_counts=result_ping_counts.get_points(tags={'SK_PI':str(device)})\n",
    "    for point in points_ping_counts:\n",
    "        device_counts.append(point['count'])"
   ]
  },
  {
   "cell_type": "markdown",
   "metadata": {},
   "source": [
    "Plotting device numbers and number of data points. "
   ]
  },
  {
   "cell_type": "code",
   "execution_count": 15,
   "metadata": {},
   "outputs": [
    {
     "data": {
      "application/vnd.plotly.v1+json": {
       "data": [
        {
         "type": "bar",
         "x": [
          1,
          2,
          3,
          4,
          5,
          6,
          7,
          8,
          9,
          10,
          11,
          12,
          13,
          14,
          15,
          16,
          17,
          18
         ],
         "y": [
          17576,
          1009756,
          1042150,
          1685299,
          439977,
          212379,
          1351647,
          180700,
          827446,
          773100,
          827298,
          834258,
          713,
          17263,
          622383,
          575970,
          268019,
          82244
         ]
        }
       ],
       "layout": {
        "barmode": "stack",
        "title": "Number of data points per device"
       }
      },
      "text/html": [
       "<div id=\"34153252-cde1-430d-a666-e866a5cc1fd9\" style=\"height: 525px; width: 100%;\" class=\"plotly-graph-div\"></div><script type=\"text/javascript\">require([\"plotly\"], function(Plotly) { window.PLOTLYENV=window.PLOTLYENV || {};window.PLOTLYENV.BASE_URL=\"https://plot.ly\";Plotly.newPlot(\"34153252-cde1-430d-a666-e866a5cc1fd9\", [{\"type\": \"bar\", \"x\": [1, 2, 3, 4, 5, 6, 7, 8, 9, 10, 11, 12, 13, 14, 15, 16, 17, 18], \"y\": [17576, 1009756, 1042150, 1685299, 439977, 212379, 1351647, 180700, 827446, 773100, 827298, 834258, 713, 17263, 622383, 575970, 268019, 82244]}], {\"barmode\": \"stack\", \"title\": \"Number of data points per device\"}, {\"showLink\": true, \"linkText\": \"Export to plot.ly\"})});</script>"
      ],
      "text/vnd.plotly.v1+html": [
       "<div id=\"34153252-cde1-430d-a666-e866a5cc1fd9\" style=\"height: 525px; width: 100%;\" class=\"plotly-graph-div\"></div><script type=\"text/javascript\">require([\"plotly\"], function(Plotly) { window.PLOTLYENV=window.PLOTLYENV || {};window.PLOTLYENV.BASE_URL=\"https://plot.ly\";Plotly.newPlot(\"34153252-cde1-430d-a666-e866a5cc1fd9\", [{\"type\": \"bar\", \"x\": [1, 2, 3, 4, 5, 6, 7, 8, 9, 10, 11, 12, 13, 14, 15, 16, 17, 18], \"y\": [17576, 1009756, 1042150, 1685299, 439977, 212379, 1351647, 180700, 827446, 773100, 827298, 834258, 713, 17263, 622383, 575970, 268019, 82244]}], {\"barmode\": \"stack\", \"title\": \"Number of data points per device\"}, {\"showLink\": true, \"linkText\": \"Export to plot.ly\"})});</script>"
      ]
     },
     "metadata": {},
     "output_type": "display_data"
    }
   ],
   "source": [
    "data = [go.Bar(\n",
    "            x=device_numbers,\n",
    "            y=device_counts\n",
    "    )]\n",
    "\n",
    "layout = go.Layout(\n",
    "        barmode='stack',\n",
    "        title=\"Number of data points per device\"\n",
    "    )\n",
    "\n",
    "fig = go.Figure(data=data, layout=layout)\n",
    "iplot(fig)"
   ]
  },
  {
   "cell_type": "markdown",
   "metadata": {},
   "source": [
    "Some of the devices have small number of datapoints, may be they are just installed? Lets check how many dataponts came in December."
   ]
  },
  {
   "cell_type": "markdown",
   "metadata": {},
   "source": [
    "Getting number of datapoints per device in December and list of the devices that have data for December(not all of the have)."
   ]
  },
  {
   "cell_type": "code",
   "execution_count": 22,
   "metadata": {
    "collapsed": true
   },
   "outputs": [],
   "source": [
    "query_ping_counts_dec = \"SELECT COUNT(PING) FROM PING WHERE time >= '2018-12-01 00:00:00' GROUP BY SK_PI ;\"\n",
    "# another option - check last 4 weeks\n",
    "#query_ping_counts_dec = \"SELECT COUNT(PING) FROM PING WHERE time >= now()-4w GROUP BY SK_PI ;\"\n",
    "result_ping_counts_dec = client.query(query_ping_counts_dec)"
   ]
  },
  {
   "cell_type": "code",
   "execution_count": 23,
   "metadata": {},
   "outputs": [
    {
     "name": "stdout",
     "output_type": "stream",
     "text": [
      "Devices, that have data in December:  [3, 4, 7, 8, 9, 10, 11, 12, 13, 14, 15, 16, 17, 18]\n"
     ]
    }
   ],
   "source": [
    "device_counts_dec=[]\n",
    "device_numbers_dec = []\n",
    "for device in device_numbers:\n",
    "    points_ping_counts_dec=result_ping_counts_dec.get_points(tags={'SK_PI':str(device)})\n",
    "    point_new=0\n",
    "    for point in points_ping_counts_dec:\n",
    "        point_new=point['count']\n",
    "    if (point_new!=0): \n",
    "        device_numbers_dec.append(device)\n",
    "    device_counts_dec.append(point_new)\n",
    "print(\"Devices, that have data in December: \",device_numbers_dec)"
   ]
  },
  {
   "cell_type": "markdown",
   "metadata": {},
   "source": [
    "Plotting combined barchart - entire number of datapoints vs number of datapoints in December."
   ]
  },
  {
   "cell_type": "code",
   "execution_count": 24,
   "metadata": {},
   "outputs": [
    {
     "data": {
      "application/vnd.plotly.v1+json": {
       "data": [
        {
         "name": "December",
         "type": "bar",
         "x": [
          1,
          2,
          3,
          4,
          5,
          6,
          7,
          8,
          9,
          10,
          11,
          12,
          13,
          14,
          15,
          16,
          17,
          18
         ],
         "y": [
          0,
          0,
          820800,
          213977,
          0,
          0,
          525521,
          122366,
          813640,
          725526,
          813138,
          820800,
          11,
          17045,
          619196,
          575538,
          268007,
          60198
         ]
        },
        {
         "name": "Entire time",
         "type": "bar",
         "x": [
          1,
          2,
          3,
          4,
          5,
          6,
          7,
          8,
          9,
          10,
          11,
          12,
          13,
          14,
          15,
          16,
          17,
          18
         ],
         "y": [
          17576,
          1009756,
          221350,
          1471322,
          439977,
          212379,
          826126,
          58334,
          13806,
          47574,
          14160,
          13458,
          702,
          218,
          3187,
          432,
          12,
          22046
         ]
        }
       ],
       "layout": {
        "barmode": "stack",
        "title": "Comparing number of datapoints in December vs entire time"
       }
      },
      "text/html": [
       "<div id=\"f882ddda-acee-4da0-8419-c294d66c2a81\" style=\"height: 525px; width: 100%;\" class=\"plotly-graph-div\"></div><script type=\"text/javascript\">require([\"plotly\"], function(Plotly) { window.PLOTLYENV=window.PLOTLYENV || {};window.PLOTLYENV.BASE_URL=\"https://plot.ly\";Plotly.newPlot(\"f882ddda-acee-4da0-8419-c294d66c2a81\", [{\"type\": \"bar\", \"x\": [1, 2, 3, 4, 5, 6, 7, 8, 9, 10, 11, 12, 13, 14, 15, 16, 17, 18], \"y\": [0, 0, 820800, 213977, 0, 0, 525521, 122366, 813640, 725526, 813138, 820800, 11, 17045, 619196, 575538, 268007, 60198], \"name\": \"December\"}, {\"type\": \"bar\", \"x\": [1, 2, 3, 4, 5, 6, 7, 8, 9, 10, 11, 12, 13, 14, 15, 16, 17, 18], \"y\": [17576, 1009756, 221350, 1471322, 439977, 212379, 826126, 58334, 13806, 47574, 14160, 13458, 702, 218, 3187, 432, 12, 22046], \"name\": \"Entire time\"}], {\"barmode\": \"stack\", \"title\": \"Comparing number of datapoints in December vs entire time\"}, {\"showLink\": true, \"linkText\": \"Export to plot.ly\"})});</script>"
      ],
      "text/vnd.plotly.v1+html": [
       "<div id=\"f882ddda-acee-4da0-8419-c294d66c2a81\" style=\"height: 525px; width: 100%;\" class=\"plotly-graph-div\"></div><script type=\"text/javascript\">require([\"plotly\"], function(Plotly) { window.PLOTLYENV=window.PLOTLYENV || {};window.PLOTLYENV.BASE_URL=\"https://plot.ly\";Plotly.newPlot(\"f882ddda-acee-4da0-8419-c294d66c2a81\", [{\"type\": \"bar\", \"x\": [1, 2, 3, 4, 5, 6, 7, 8, 9, 10, 11, 12, 13, 14, 15, 16, 17, 18], \"y\": [0, 0, 820800, 213977, 0, 0, 525521, 122366, 813640, 725526, 813138, 820800, 11, 17045, 619196, 575538, 268007, 60198], \"name\": \"December\"}, {\"type\": \"bar\", \"x\": [1, 2, 3, 4, 5, 6, 7, 8, 9, 10, 11, 12, 13, 14, 15, 16, 17, 18], \"y\": [17576, 1009756, 221350, 1471322, 439977, 212379, 826126, 58334, 13806, 47574, 14160, 13458, 702, 218, 3187, 432, 12, 22046], \"name\": \"Entire time\"}], {\"barmode\": \"stack\", \"title\": \"Comparing number of datapoints in December vs entire time\"}, {\"showLink\": true, \"linkText\": \"Export to plot.ly\"})});</script>"
      ]
     },
     "metadata": {},
     "output_type": "display_data"
    }
   ],
   "source": [
    "trace1 = go.Bar(\n",
    "            x=device_numbers,\n",
    "            y=device_counts_dec,\n",
    "            name='December',\n",
    "    )\n",
    "trace2 = go.Bar(\n",
    "            x=device_numbers,\n",
    "            y=[a - b for a, b in zip(device_counts, device_counts_dec)],\n",
    "            name='Entire time',\n",
    "    \n",
    "    )\n",
    "data = [trace1, trace2]\n",
    "layout = go.Layout(\n",
    "        barmode='stack',\n",
    "        title=\"Comparing number of datapoints in December vs entire time\"\n",
    "    )\n",
    "\n",
    "fig = go.Figure(data=data, layout=layout)\n",
    "iplot(fig)"
   ]
  },
  {
   "cell_type": "markdown",
   "metadata": {},
   "source": [
    "Devices 1,2,4,5,6,7 and possibly 13 and 14 need to be double checked. Looks like they have started reporting and then stopped. Let's check last reporting time for every device."
   ]
  },
  {
   "cell_type": "code",
   "execution_count": 25,
   "metadata": {
    "collapsed": true
   },
   "outputs": [],
   "source": [
    "query_ping_last = \"SELECT last(PING), time FROM PING GROUP BY SK_PI;\"\n",
    "result_ping_last = client.query(query_ping_last)"
   ]
  },
  {
   "cell_type": "code",
   "execution_count": 26,
   "metadata": {},
   "outputs": [
    {
     "name": "stdout",
     "output_type": "stream",
     "text": [
      "Device:  1  reported last time on  2018-10-11T15:46:31.790000128Z\n",
      "Device:  2  reported last time on  2018-11-06T19:16:32.792999936Z\n",
      "Device:  3  reported last time on  2018-12-20T00:00:00Z\n",
      "Device:  4  reported last time on  2018-12-05T22:53:02.383000064Z\n",
      "Device:  5  reported last time on  2018-11-05T21:32:32.552999936Z\n",
      "Device:  6  reported last time on  2018-10-31T14:55:02.703000064Z\n",
      "Device:  7  reported last time on  2018-12-18T08:46:02.763000064Z\n",
      "Device:  8  reported last time on  2018-12-03T19:58:50.129999872Z\n",
      "Device:  9  reported last time on  2018-12-19T23:59:58.996999936Z\n",
      "Device:  10  reported last time on  2018-12-20T00:00:00Z\n",
      "Device:  11  reported last time on  2018-12-20T00:00:00Z\n",
      "Device:  12  reported last time on  2018-12-20T00:00:00Z\n",
      "Device:  13  reported last time on  2018-12-04T20:27:07.227000064Z\n",
      "Device:  14  reported last time on  2018-12-06T02:12:31.350000128Z\n",
      "Device:  15  reported last time on  2018-12-19T23:59:58.996999936Z\n",
      "Device:  16  reported last time on  2018-12-19T23:59:58.996999936Z\n",
      "Device:  17  reported last time on  2018-12-20T00:00:00Z\n",
      "Device:  18  reported last time on  2018-12-19T23:59:58.996999936Z\n"
     ]
    }
   ],
   "source": [
    "for device in device_numbers:\n",
    "    points_ping_last=result_ping_last.get_points(tags={'SK_PI':str(device)})\n",
    "    for point in points_ping_last:\n",
    "        print(\"Device: \", device,\" reported last time on \", point['time'])"
   ]
  },
  {
   "cell_type": "markdown",
   "metadata": {},
   "source": [
    "Something is happening with devices  1,2,4,5,6,8,13 and 14. They stopped reporting - does it need to be investigated?"
   ]
  },
  {
   "cell_type": "markdown",
   "metadata": {},
   "source": [
    "### Ping latency "
   ]
  },
  {
   "cell_type": "markdown",
   "metadata": {},
   "source": [
    "Let's check actual ping latency numbers for December:"
   ]
  },
  {
   "cell_type": "code",
   "execution_count": 37,
   "metadata": {
    "collapsed": true
   },
   "outputs": [],
   "source": [
    "query_ping_max_dec = \"SELECT MAX(PING), MEAN(PING) FROM PING WHERE time >= '2018-12-01 00:00:00' GROUP BY SK_PI;\"\n",
    "result_ping_max_dec = client.query(query_ping_max_dec)"
   ]
  },
  {
   "cell_type": "markdown",
   "metadata": {},
   "source": [
    "We will exclude devices  1,2,4,5,6,8,13,14 as they are not reporting any more"
   ]
  },
  {
   "cell_type": "code",
   "execution_count": 38,
   "metadata": {
    "collapsed": true
   },
   "outputs": [],
   "source": [
    "#device_numbers_dec = [x for x in device_numbers if x not in [1,2,4,5,6,8,13,14]]\n",
    "#print(device_numbers_dec)"
   ]
  },
  {
   "cell_type": "code",
   "execution_count": 39,
   "metadata": {
    "collapsed": true
   },
   "outputs": [],
   "source": [
    "device_max_dec=[]\n",
    "device_mean_dec = []\n",
    "for device in device_numbers_dec:\n",
    "    points_max_dec=result_ping_max_dec.get_points(tags={'SK_PI':str(device)})\n",
    "    for point in points_max_dec:\n",
    "        device_max_dec.append(point['max'])\n",
    "        device_mean_dec.append(point['mean'])"
   ]
  },
  {
   "cell_type": "markdown",
   "metadata": {},
   "source": [
    "Plotting mean and max ping latency results for every reporting result in December."
   ]
  },
  {
   "cell_type": "code",
   "execution_count": 40,
   "metadata": {},
   "outputs": [
    {
     "data": {
      "application/vnd.plotly.v1+json": {
       "data": [
        {
         "name": "Mean",
         "type": "bar",
         "x": [
          3,
          4,
          7,
          8,
          9,
          10,
          11,
          12,
          13,
          14,
          15,
          16,
          17,
          18
         ],
         "y": [
          5.907079429824545,
          13.657755469045712,
          14.822221005440257,
          11.769641379141294,
          13.58930277518313,
          7.428193331458813,
          11.255812127830747,
          16.191730174220165,
          227.26445454545456,
          19.694195599882637,
          14.007650072028783,
          32.77051830634998,
          17.573936165846526,
          18.408047709226267
         ]
        },
        {
         "name": "Max",
         "type": "bar",
         "x": [
          3,
          4,
          7,
          8,
          9,
          10,
          11,
          12,
          13,
          14,
          15,
          16,
          17,
          18
         ],
         "y": [
          84.621,
          894.098,
          900.768,
          86.907,
          156.102,
          446.59,
          180.611,
          712.071,
          671.416,
          93.413,
          262.352,
          901.052,
          200.319,
          470.64
         ]
        }
       ],
       "layout": {
        "title": "Maximum and mean delay in miliseconds"
       }
      },
      "text/html": [
       "<div id=\"1b08e196-03c6-4c83-8325-8dabe7c62302\" style=\"height: 525px; width: 100%;\" class=\"plotly-graph-div\"></div><script type=\"text/javascript\">require([\"plotly\"], function(Plotly) { window.PLOTLYENV=window.PLOTLYENV || {};window.PLOTLYENV.BASE_URL=\"https://plot.ly\";Plotly.newPlot(\"1b08e196-03c6-4c83-8325-8dabe7c62302\", [{\"type\": \"bar\", \"x\": [3, 4, 7, 8, 9, 10, 11, 12, 13, 14, 15, 16, 17, 18], \"y\": [5.907079429824545, 13.657755469045712, 14.822221005440257, 11.769641379141294, 13.58930277518313, 7.428193331458813, 11.255812127830747, 16.191730174220165, 227.26445454545456, 19.694195599882637, 14.007650072028783, 32.77051830634998, 17.573936165846526, 18.408047709226267], \"name\": \"Mean\"}, {\"type\": \"bar\", \"x\": [3, 4, 7, 8, 9, 10, 11, 12, 13, 14, 15, 16, 17, 18], \"y\": [84.621, 894.098, 900.768, 86.907, 156.102, 446.59, 180.611, 712.071, 671.416, 93.413, 262.352, 901.052, 200.319, 470.64], \"name\": \"Max\"}], {\"title\": \"Maximum and mean delay in miliseconds\"}, {\"showLink\": true, \"linkText\": \"Export to plot.ly\"})});</script>"
      ],
      "text/vnd.plotly.v1+html": [
       "<div id=\"1b08e196-03c6-4c83-8325-8dabe7c62302\" style=\"height: 525px; width: 100%;\" class=\"plotly-graph-div\"></div><script type=\"text/javascript\">require([\"plotly\"], function(Plotly) { window.PLOTLYENV=window.PLOTLYENV || {};window.PLOTLYENV.BASE_URL=\"https://plot.ly\";Plotly.newPlot(\"1b08e196-03c6-4c83-8325-8dabe7c62302\", [{\"type\": \"bar\", \"x\": [3, 4, 7, 8, 9, 10, 11, 12, 13, 14, 15, 16, 17, 18], \"y\": [5.907079429824545, 13.657755469045712, 14.822221005440257, 11.769641379141294, 13.58930277518313, 7.428193331458813, 11.255812127830747, 16.191730174220165, 227.26445454545456, 19.694195599882637, 14.007650072028783, 32.77051830634998, 17.573936165846526, 18.408047709226267], \"name\": \"Mean\"}, {\"type\": \"bar\", \"x\": [3, 4, 7, 8, 9, 10, 11, 12, 13, 14, 15, 16, 17, 18], \"y\": [84.621, 894.098, 900.768, 86.907, 156.102, 446.59, 180.611, 712.071, 671.416, 93.413, 262.352, 901.052, 200.319, 470.64], \"name\": \"Max\"}], {\"title\": \"Maximum and mean delay in miliseconds\"}, {\"showLink\": true, \"linkText\": \"Export to plot.ly\"})});</script>"
      ]
     },
     "metadata": {},
     "output_type": "display_data"
    }
   ],
   "source": [
    "trace1 = go.Bar(\n",
    "            x=device_numbers_dec,\n",
    "            y=device_mean_dec,\n",
    "            name='Mean',\n",
    "    )\n",
    "trace2 = go.Bar(\n",
    "            x=device_numbers_dec,\n",
    "            y=device_max_dec,\n",
    "            name='Max',\n",
    "    \n",
    "    )\n",
    "data = [trace1, trace2]\n",
    "layout = go.Layout(\n",
    "       # barmode='stack',\n",
    "        title=\"Maximum and mean delay in miliseconds\"\n",
    "    )\n",
    "\n",
    "fig = go.Figure(data=data, layout=layout)\n",
    "iplot(fig)"
   ]
  },
  {
   "cell_type": "markdown",
   "metadata": {},
   "source": [
    "Device 16 has the highest mean, it needs to be, (all these spikes are also visible in Grafana). Something is going on there. Device 13 looks like it was giving high latency but stopped reporting Dec 4th"
   ]
  },
  {
   "cell_type": "markdown",
   "metadata": {},
   "source": [
    "### To do: \n",
    "Find median?  (Tried to use median function from influxdb but it always returns 0, too many zeros in the database?)  \n",
    "Check by time of the day?  \n",
    "Divide ping latencies into groups  and calculate percentage of devices by group?  "
   ]
  },
  {
   "cell_type": "markdown",
   "metadata": {
    "collapsed": true
   },
   "source": [
    "### Number of packets dropped \n",
    "We will calculate the etite number of packets dropped by device using formula:SUM(PING_DROPRATE)/100"
   ]
  },
  {
   "cell_type": "code",
   "execution_count": 48,
   "metadata": {
    "collapsed": true
   },
   "outputs": [],
   "source": [
    "query_dropped_counts = \"SELECT SUM(PING_DROPRATE)/100 FROM PING GROUP BY SK_PI ;\"\n",
    "result_dropped_counts = client.query(query_dropped_counts)"
   ]
  },
  {
   "cell_type": "code",
   "execution_count": 49,
   "metadata": {},
   "outputs": [
    {
     "name": "stdout",
     "output_type": "stream",
     "text": [
      "[36, 9881, 221, 82788, 1520, 2484, 1502, 15285, 3280, 236190, 5002, 2520, 269, 474, 1319, 9992, 578, 8996]\n",
      "382337\n"
     ]
    }
   ],
   "source": [
    "device_dropped_counts=[]\n",
    "for device in device_numbers:\n",
    "    points_dropped_counts=result_dropped_counts.get_points(tags={'SK_PI':str(device)})\n",
    "    for point in points_dropped_counts:\n",
    "        device_dropped_counts.append(point['sum'])\n",
    "print(device_dropped_counts)\n",
    "print(sum(device_dropped_counts))"
   ]
  },
  {
   "cell_type": "code",
   "execution_count": 50,
   "metadata": {},
   "outputs": [
    {
     "data": {
      "application/vnd.plotly.v1+json": {
       "data": [
        {
         "labels": [
          1,
          2,
          3,
          4,
          5,
          6,
          7,
          8,
          9,
          10,
          11,
          12,
          13,
          14,
          15,
          16,
          17,
          18
         ],
         "type": "pie",
         "values": [
          36,
          9881,
          221,
          82788,
          1520,
          2484,
          1502,
          15285,
          3280,
          236190,
          5002,
          2520,
          269,
          474,
          1319,
          9992,
          578,
          8996
         ]
        }
       ],
       "layout": {
        "title": "Total number of packets dropped by device"
       }
      },
      "text/html": [
       "<div id=\"f81ba530-de15-4564-9f0b-9585f1497eda\" style=\"height: 525px; width: 100%;\" class=\"plotly-graph-div\"></div><script type=\"text/javascript\">require([\"plotly\"], function(Plotly) { window.PLOTLYENV=window.PLOTLYENV || {};window.PLOTLYENV.BASE_URL=\"https://plot.ly\";Plotly.newPlot(\"f81ba530-de15-4564-9f0b-9585f1497eda\", [{\"type\": \"pie\", \"labels\": [1, 2, 3, 4, 5, 6, 7, 8, 9, 10, 11, 12, 13, 14, 15, 16, 17, 18], \"values\": [36, 9881, 221, 82788, 1520, 2484, 1502, 15285, 3280, 236190, 5002, 2520, 269, 474, 1319, 9992, 578, 8996]}], {\"title\": \"Total number of packets dropped by device\"}, {\"showLink\": true, \"linkText\": \"Export to plot.ly\"})});</script>"
      ],
      "text/vnd.plotly.v1+html": [
       "<div id=\"f81ba530-de15-4564-9f0b-9585f1497eda\" style=\"height: 525px; width: 100%;\" class=\"plotly-graph-div\"></div><script type=\"text/javascript\">require([\"plotly\"], function(Plotly) { window.PLOTLYENV=window.PLOTLYENV || {};window.PLOTLYENV.BASE_URL=\"https://plot.ly\";Plotly.newPlot(\"f81ba530-de15-4564-9f0b-9585f1497eda\", [{\"type\": \"pie\", \"labels\": [1, 2, 3, 4, 5, 6, 7, 8, 9, 10, 11, 12, 13, 14, 15, 16, 17, 18], \"values\": [36, 9881, 221, 82788, 1520, 2484, 1502, 15285, 3280, 236190, 5002, 2520, 269, 474, 1319, 9992, 578, 8996]}], {\"title\": \"Total number of packets dropped by device\"}, {\"showLink\": true, \"linkText\": \"Export to plot.ly\"})});</script>"
      ]
     },
     "metadata": {},
     "output_type": "display_data"
    }
   ],
   "source": [
    "trace = go.Pie(labels=device_numbers, values=device_dropped_counts)\n",
    "data=[trace]\n",
    "layout = go.Layout(\n",
    "        title=\"Total number of packets dropped by device\"\n",
    "    )\n",
    "fig = go.Figure(data=data, layout=layout)\n",
    "iplot(fig)"
   ]
  },
  {
   "cell_type": "markdown",
   "metadata": {},
   "source": [
    "Device #10 and device #7  have the largest number of packets dropped.\n",
    "We will do the same for December:"
   ]
  },
  {
   "cell_type": "code",
   "execution_count": 53,
   "metadata": {},
   "outputs": [],
   "source": [
    "query_dropped_counts_dec = \"SELECT SUM(PING_DROPRATE)/100 FROM PING WHERE time >= '2018-12-01 00:00:00' GROUP BY SK_PI ;\"\n",
    "result_dropped_counts_dec = client.query(query_dropped_counts_dec)"
   ]
  },
  {
   "cell_type": "code",
   "execution_count": 54,
   "metadata": {
    "collapsed": true
   },
   "outputs": [],
   "source": [
    "device_dropped_counts_dec=[]\n",
    "for device in device_numbers:\n",
    "    points_dropped_counts_dec=result_dropped_counts_dec.get_points(tags={'SK_PI':str(device)})\n",
    "    point_sum=0\n",
    "    for point in points_dropped_counts_dec:\n",
    "        point_sum=point['sum']\n",
    "    device_dropped_counts_dec.append(point_sum)    "
   ]
  },
  {
   "cell_type": "code",
   "execution_count": 55,
   "metadata": {},
   "outputs": [
    {
     "data": {
      "application/vnd.plotly.v1+json": {
       "data": [
        {
         "labels": [
          1,
          2,
          3,
          4,
          5,
          6,
          7,
          8,
          9,
          10,
          11,
          12,
          13,
          14,
          15,
          16,
          17,
          18
         ],
         "type": "pie",
         "values": [
          0,
          0,
          15,
          10397,
          0,
          0,
          569,
          4,
          3070,
          214971,
          4384,
          2004,
          0,
          389,
          45,
          9824,
          573,
          178
         ]
        }
       ],
       "layout": {
        "title": "Total number of packets dropped by device in December"
       }
      },
      "text/html": [
       "<div id=\"f093a805-53c9-4311-adad-51873484c82a\" style=\"height: 525px; width: 100%;\" class=\"plotly-graph-div\"></div><script type=\"text/javascript\">require([\"plotly\"], function(Plotly) { window.PLOTLYENV=window.PLOTLYENV || {};window.PLOTLYENV.BASE_URL=\"https://plot.ly\";Plotly.newPlot(\"f093a805-53c9-4311-adad-51873484c82a\", [{\"type\": \"pie\", \"labels\": [1, 2, 3, 4, 5, 6, 7, 8, 9, 10, 11, 12, 13, 14, 15, 16, 17, 18], \"values\": [0, 0, 15, 10397, 0, 0, 569, 4, 3070, 214971, 4384, 2004, 0, 389, 45, 9824, 573, 178]}], {\"title\": \"Total number of packets dropped by device in December\"}, {\"showLink\": true, \"linkText\": \"Export to plot.ly\"})});</script>"
      ],
      "text/vnd.plotly.v1+html": [
       "<div id=\"f093a805-53c9-4311-adad-51873484c82a\" style=\"height: 525px; width: 100%;\" class=\"plotly-graph-div\"></div><script type=\"text/javascript\">require([\"plotly\"], function(Plotly) { window.PLOTLYENV=window.PLOTLYENV || {};window.PLOTLYENV.BASE_URL=\"https://plot.ly\";Plotly.newPlot(\"f093a805-53c9-4311-adad-51873484c82a\", [{\"type\": \"pie\", \"labels\": [1, 2, 3, 4, 5, 6, 7, 8, 9, 10, 11, 12, 13, 14, 15, 16, 17, 18], \"values\": [0, 0, 15, 10397, 0, 0, 569, 4, 3070, 214971, 4384, 2004, 0, 389, 45, 9824, 573, 178]}], {\"title\": \"Total number of packets dropped by device in December\"}, {\"showLink\": true, \"linkText\": \"Export to plot.ly\"})});</script>"
      ]
     },
     "metadata": {},
     "output_type": "display_data"
    }
   ],
   "source": [
    "trace = go.Pie(labels=device_numbers, values=device_dropped_counts_dec)\n",
    "data=[trace]\n",
    "layout = go.Layout(\n",
    "        title=\"Total number of packets dropped by device in December\"\n",
    "    )\n",
    "fig = go.Figure(data=data, layout=layout)\n",
    "iplot(fig)"
   ]
  },
  {
   "cell_type": "markdown",
   "metadata": {},
   "source": [
    "We still have issues with device #10  as well as 4 and 16."
   ]
  },
  {
   "cell_type": "markdown",
   "metadata": {},
   "source": [
    "### To do: \n",
    "- By time of the day?\n",
    "- Relatively to the number of datapoints(pings)?"
   ]
  }
 ],
 "metadata": {
  "kernelspec": {
   "display_name": "Python 3",
   "language": "python",
   "name": "python3"
  },
  "language_info": {
   "codemirror_mode": {
    "name": "ipython",
    "version": 3
   },
   "file_extension": ".py",
   "mimetype": "text/x-python",
   "name": "python",
   "nbconvert_exporter": "python",
   "pygments_lexer": "ipython3",
   "version": "3.6.3"
  },
  "nbTranslate": {
   "displayLangs": [
    "*"
   ],
   "hotkey": "alt-t",
   "langInMainMenu": true,
   "sourceLang": "en",
   "targetLang": "fr",
   "useGoogleTranslate": true
  }
 },
 "nbformat": 4,
 "nbformat_minor": 2
}
