{
 "cells": [
  {
   "cell_type": "markdown",
   "metadata": {},
   "source": [
    "### Collecting some ping statistics"
   ]
  },
  {
   "cell_type": "markdown",
   "metadata": {},
   "source": [
    "Ping data collected every 5 seconds doing single pings to 8.8.8.8\n",
    "\n",
    "**Example**:\n",
    ">$ ping -c 1 8.8.8.8  \n",
    ">PING 8.8.8.8 (8.8.8.8): 56 data bytes  \n",
    ">64 bytes from 8.8.8.8: icmp_seq=0 ttl=119 **time=22.985 ms**  \n",
    ">--- 8.8.8.8 ping statistics ---  \n",
    ">1 packets transmitted, 1 packets received, **0.0% packet loss**  \n",
    ">round-trip min/**avg**/max/**stddev** = 22.985/22.985/**22.985**/**0.000** ms  "
   ]
  },
  {
   "cell_type": "markdown",
   "metadata": {},
   "source": [
    "Data beeing collected:\n",
    " - **Ping latency** (in miliseconds, 22.985 ms in the example)\n",
    " - __Percentage of packets dropped__  (0.0% in the example, can be only 0% or 100%, data collected for single pings) \n",
    " - **Standart deviation (for latency)**  - always 0 for single pings\n"
   ]
  },
  {
   "cell_type": "code",
   "execution_count": 1,
   "metadata": {},
   "outputs": [
    {
     "data": {
      "text/html": [
       "<script>requirejs.config({paths: { 'plotly': ['https://cdn.plot.ly/plotly-latest.min']},});if(!window.Plotly) {{require(['plotly'],function(plotly) {window.Plotly=plotly;});}}</script>"
      ],
      "text/vnd.plotly.v1+html": [
       "<script>requirejs.config({paths: { 'plotly': ['https://cdn.plot.ly/plotly-latest.min']},});if(!window.Plotly) {{require(['plotly'],function(plotly) {window.Plotly=plotly;});}}</script>"
      ]
     },
     "metadata": {},
     "output_type": "display_data"
    }
   ],
   "source": [
    "from influxdb import DataFrameClient\n",
    "from influxdb import InfluxDBClient\n",
    "import json\n",
    "\n",
    "from plotly.offline import init_notebook_mode, iplot\n",
    "import plotly.graph_objs as go\n",
    "import plotly.plotly as py\n",
    "from plotly import tools\n",
    "init_notebook_mode(connected=True)"
   ]
  },
  {
   "cell_type": "markdown",
   "metadata": {},
   "source": [
    "Read credentials:"
   ]
  },
  {
   "cell_type": "code",
   "execution_count": 2,
   "metadata": {
    "collapsed": true
   },
   "outputs": [],
   "source": [
    "with open('../credentials.json', 'r') as f_credentials:\n",
    "    credentials_config = json.load(f_credentials)"
   ]
  },
  {
   "cell_type": "markdown",
   "metadata": {},
   "source": [
    "Set up influxdb connection:"
   ]
  },
  {
   "cell_type": "code",
   "execution_count": 3,
   "metadata": {
    "collapsed": true
   },
   "outputs": [],
   "source": [
    "host=credentials_config['influxdb_host']\n",
    "port=8086\n",
    "dbname = 'net_speed_md'\n",
    "client = InfluxDBClient(host, port, '', '', dbname)"
   ]
  },
  {
   "cell_type": "code",
   "execution_count": 4,
   "metadata": {
    "collapsed": true
   },
   "outputs": [],
   "source": [
    "#Trying to load entire table, convert to dataframe and estimate how much memory its taking\n",
    "#from here https://stackoverflow.com/questions/18089667/how-to-estimate-how-much-memory-a-pandas-dataframe-will-need\n",
    "#client = DataFrameClient(host, port, '', '', dbname)\n",
    "#query_ping = 'SELECT * FROM PING;'\n",
    "#result_ping = client.query(query_ping)\n",
    "#ping_df = result_ping['PING']\n",
    "#print(ping_df.memory_usage())\n",
    "#print(sys.getsizeof(ping_df))\n",
    "#rint( df.memory_usage(deep=True).sum())"
   ]
  },
  {
   "cell_type": "markdown",
   "metadata": {},
   "source": [
    "Checking last 20 records in the ping measurment and see how data looks like:"
   ]
  },
  {
   "cell_type": "code",
   "execution_count": 5,
   "metadata": {},
   "outputs": [
    {
     "data": {
      "text/html": [
       "<div>\n",
       "<style>\n",
       "    .dataframe thead tr:only-child th {\n",
       "        text-align: right;\n",
       "    }\n",
       "\n",
       "    .dataframe thead th {\n",
       "        text-align: left;\n",
       "    }\n",
       "\n",
       "    .dataframe tbody tr th {\n",
       "        vertical-align: top;\n",
       "    }\n",
       "</style>\n",
       "<table border=\"1\" class=\"dataframe\">\n",
       "  <thead>\n",
       "    <tr style=\"text-align: right;\">\n",
       "      <th></th>\n",
       "      <th>PING</th>\n",
       "      <th>SK_PI</th>\n",
       "    </tr>\n",
       "  </thead>\n",
       "  <tbody>\n",
       "    <tr>\n",
       "      <th>2019-01-01 23:59:57.196999936+00:00</th>\n",
       "      <td>0.000</td>\n",
       "      <td>12</td>\n",
       "    </tr>\n",
       "    <tr>\n",
       "      <th>2019-01-01 23:59:58.196999936+00:00</th>\n",
       "      <td>0.000</td>\n",
       "      <td>18</td>\n",
       "    </tr>\n",
       "    <tr>\n",
       "      <th>2019-01-01 23:59:58.196999936+00:00</th>\n",
       "      <td>0.000</td>\n",
       "      <td>9</td>\n",
       "    </tr>\n",
       "    <tr>\n",
       "      <th>2019-01-01 23:59:58.196999936+00:00</th>\n",
       "      <td>0.000</td>\n",
       "      <td>7</td>\n",
       "    </tr>\n",
       "    <tr>\n",
       "      <th>2019-01-01 23:59:58.196999936+00:00</th>\n",
       "      <td>0.000</td>\n",
       "      <td>15</td>\n",
       "    </tr>\n",
       "    <tr>\n",
       "      <th>2019-01-01 23:59:58.196999936+00:00</th>\n",
       "      <td>38.004</td>\n",
       "      <td>16</td>\n",
       "    </tr>\n",
       "    <tr>\n",
       "      <th>2019-01-01 23:59:59.200000+00:00</th>\n",
       "      <td>0.000</td>\n",
       "      <td>11</td>\n",
       "    </tr>\n",
       "    <tr>\n",
       "      <th>2019-01-01 23:59:59.200000+00:00</th>\n",
       "      <td>44.217</td>\n",
       "      <td>17</td>\n",
       "    </tr>\n",
       "    <tr>\n",
       "      <th>2019-01-01 23:59:59.200000+00:00</th>\n",
       "      <td>0.000</td>\n",
       "      <td>3</td>\n",
       "    </tr>\n",
       "    <tr>\n",
       "      <th>2019-01-01 23:59:59.200000+00:00</th>\n",
       "      <td>0.000</td>\n",
       "      <td>12</td>\n",
       "    </tr>\n",
       "  </tbody>\n",
       "</table>\n",
       "</div>"
      ],
      "text/plain": [
       "                                       PING SK_PI\n",
       "2019-01-01 23:59:57.196999936+00:00   0.000    12\n",
       "2019-01-01 23:59:58.196999936+00:00   0.000    18\n",
       "2019-01-01 23:59:58.196999936+00:00   0.000     9\n",
       "2019-01-01 23:59:58.196999936+00:00   0.000     7\n",
       "2019-01-01 23:59:58.196999936+00:00   0.000    15\n",
       "2019-01-01 23:59:58.196999936+00:00  38.004    16\n",
       "2019-01-01 23:59:59.200000+00:00      0.000    11\n",
       "2019-01-01 23:59:59.200000+00:00     44.217    17\n",
       "2019-01-01 23:59:59.200000+00:00      0.000     3\n",
       "2019-01-01 23:59:59.200000+00:00      0.000    12"
      ]
     },
     "execution_count": 5,
     "metadata": {},
     "output_type": "execute_result"
    }
   ],
   "source": [
    "client_df = DataFrameClient(host, port, '', '', dbname)\n",
    "query_ping = 'SELECT PING,SK_PI FROM PING ORDER BY time DESC LIMIT 10;'\n",
    "result_ping = client_df.query(query_ping)\n",
    "ping_df = result_ping['PING']\n",
    "ping_df"
   ]
  },
  {
   "cell_type": "markdown",
   "metadata": {},
   "source": [
    "Let's take just one device, for example 3:"
   ]
  },
  {
   "cell_type": "code",
   "execution_count": 6,
   "metadata": {},
   "outputs": [
    {
     "data": {
      "text/html": [
       "<div>\n",
       "<style>\n",
       "    .dataframe thead tr:only-child th {\n",
       "        text-align: right;\n",
       "    }\n",
       "\n",
       "    .dataframe thead th {\n",
       "        text-align: left;\n",
       "    }\n",
       "\n",
       "    .dataframe tbody tr th {\n",
       "        vertical-align: top;\n",
       "    }\n",
       "</style>\n",
       "<table border=\"1\" class=\"dataframe\">\n",
       "  <thead>\n",
       "    <tr style=\"text-align: right;\">\n",
       "      <th></th>\n",
       "      <th>PING</th>\n",
       "    </tr>\n",
       "  </thead>\n",
       "  <tbody>\n",
       "    <tr>\n",
       "      <th>2019-01-01 23:59:41.180000+00:00</th>\n",
       "      <td>0.000</td>\n",
       "    </tr>\n",
       "    <tr>\n",
       "      <th>2019-01-01 23:59:43.183000064+00:00</th>\n",
       "      <td>14.573</td>\n",
       "    </tr>\n",
       "    <tr>\n",
       "      <th>2019-01-01 23:59:45.187000064+00:00</th>\n",
       "      <td>0.000</td>\n",
       "    </tr>\n",
       "    <tr>\n",
       "      <th>2019-01-01 23:59:47.187000064+00:00</th>\n",
       "      <td>14.690</td>\n",
       "    </tr>\n",
       "    <tr>\n",
       "      <th>2019-01-01 23:59:49.190000128+00:00</th>\n",
       "      <td>0.000</td>\n",
       "    </tr>\n",
       "    <tr>\n",
       "      <th>2019-01-01 23:59:51.190000128+00:00</th>\n",
       "      <td>0.000</td>\n",
       "    </tr>\n",
       "    <tr>\n",
       "      <th>2019-01-01 23:59:53.192999936+00:00</th>\n",
       "      <td>14.670</td>\n",
       "    </tr>\n",
       "    <tr>\n",
       "      <th>2019-01-01 23:59:55.196999936+00:00</th>\n",
       "      <td>0.000</td>\n",
       "    </tr>\n",
       "    <tr>\n",
       "      <th>2019-01-01 23:59:57.196999936+00:00</th>\n",
       "      <td>14.804</td>\n",
       "    </tr>\n",
       "    <tr>\n",
       "      <th>2019-01-01 23:59:59.200000+00:00</th>\n",
       "      <td>0.000</td>\n",
       "    </tr>\n",
       "  </tbody>\n",
       "</table>\n",
       "</div>"
      ],
      "text/plain": [
       "                                       PING\n",
       "2019-01-01 23:59:41.180000+00:00      0.000\n",
       "2019-01-01 23:59:43.183000064+00:00  14.573\n",
       "2019-01-01 23:59:45.187000064+00:00   0.000\n",
       "2019-01-01 23:59:47.187000064+00:00  14.690\n",
       "2019-01-01 23:59:49.190000128+00:00   0.000\n",
       "2019-01-01 23:59:51.190000128+00:00   0.000\n",
       "2019-01-01 23:59:53.192999936+00:00  14.670\n",
       "2019-01-01 23:59:55.196999936+00:00   0.000\n",
       "2019-01-01 23:59:57.196999936+00:00  14.804\n",
       "2019-01-01 23:59:59.200000+00:00      0.000"
      ]
     },
     "execution_count": 6,
     "metadata": {},
     "output_type": "execute_result"
    }
   ],
   "source": [
    "query_ping = \"SELECT PING FROM PING WHERE SK_PI='3' ORDER BY time  DESC LIMIT 10 ;\"\n",
    "result_ping = client_df.query(query_ping)\n",
    "ping_df = result_ping['PING']\n",
    "ping_df"
   ]
  },
  {
   "cell_type": "markdown",
   "metadata": {},
   "source": [
    "Lets compare with what we have in mysql database."
   ]
  },
  {
   "cell_type": "code",
   "execution_count": 54,
   "metadata": {},
   "outputs": [
    {
     "data": {
      "text/html": [
       "<div>\n",
       "<style>\n",
       "    .dataframe thead tr:only-child th {\n",
       "        text-align: right;\n",
       "    }\n",
       "\n",
       "    .dataframe thead th {\n",
       "        text-align: left;\n",
       "    }\n",
       "\n",
       "    .dataframe tbody tr th {\n",
       "        vertical-align: top;\n",
       "    }\n",
       "</style>\n",
       "<table border=\"1\" class=\"dataframe\">\n",
       "  <thead>\n",
       "    <tr style=\"text-align: right;\">\n",
       "      <th></th>\n",
       "      <th>DATA_DATE</th>\n",
       "      <th>PING</th>\n",
       "    </tr>\n",
       "  </thead>\n",
       "  <tbody>\n",
       "    <tr>\n",
       "      <th>0</th>\n",
       "      <td>2019-01-02 23:59:59.600</td>\n",
       "      <td>14.668</td>\n",
       "    </tr>\n",
       "    <tr>\n",
       "      <th>1</th>\n",
       "      <td>2019-01-02 23:59:57.597</td>\n",
       "      <td>NaN</td>\n",
       "    </tr>\n",
       "    <tr>\n",
       "      <th>2</th>\n",
       "      <td>2019-01-02 23:59:55.597</td>\n",
       "      <td>14.791</td>\n",
       "    </tr>\n",
       "    <tr>\n",
       "      <th>3</th>\n",
       "      <td>2019-01-02 23:59:53.593</td>\n",
       "      <td>NaN</td>\n",
       "    </tr>\n",
       "    <tr>\n",
       "      <th>4</th>\n",
       "      <td>2019-01-02 23:59:51.590</td>\n",
       "      <td>NaN</td>\n",
       "    </tr>\n",
       "    <tr>\n",
       "      <th>5</th>\n",
       "      <td>2019-01-02 23:59:49.590</td>\n",
       "      <td>14.648</td>\n",
       "    </tr>\n",
       "    <tr>\n",
       "      <th>6</th>\n",
       "      <td>2019-01-02 23:59:47.587</td>\n",
       "      <td>NaN</td>\n",
       "    </tr>\n",
       "    <tr>\n",
       "      <th>7</th>\n",
       "      <td>2019-01-02 23:59:45.587</td>\n",
       "      <td>14.762</td>\n",
       "    </tr>\n",
       "    <tr>\n",
       "      <th>8</th>\n",
       "      <td>2019-01-02 23:59:43.583</td>\n",
       "      <td>NaN</td>\n",
       "    </tr>\n",
       "    <tr>\n",
       "      <th>9</th>\n",
       "      <td>2019-01-02 23:59:41.580</td>\n",
       "      <td>NaN</td>\n",
       "    </tr>\n",
       "  </tbody>\n",
       "</table>\n",
       "</div>"
      ],
      "text/plain": [
       "                DATA_DATE    PING\n",
       "0 2019-01-02 23:59:59.600  14.668\n",
       "1 2019-01-02 23:59:57.597     NaN\n",
       "2 2019-01-02 23:59:55.597  14.791\n",
       "3 2019-01-02 23:59:53.593     NaN\n",
       "4 2019-01-02 23:59:51.590     NaN\n",
       "5 2019-01-02 23:59:49.590  14.648\n",
       "6 2019-01-02 23:59:47.587     NaN\n",
       "7 2019-01-02 23:59:45.587  14.762\n",
       "8 2019-01-02 23:59:43.583     NaN\n",
       "9 2019-01-02 23:59:41.580     NaN"
      ]
     },
     "execution_count": 54,
     "metadata": {},
     "output_type": "execute_result"
    }
   ],
   "source": [
    "import pyodbc\n",
    "import pandas as pd\n",
    "password=credentials_config['mssql_password']\n",
    "srv=credentials_config['mssql_host']\n",
    "cnxn = pyodbc.connect(driver='/usr/local/lib/libtdsodbc.so', server=srv,port='1433', database='net_speed_md', uid='cybera_sql', pwd=password)\n",
    "sql = \"SELECT TOP 10 DATA_DATE, PING FROM FCT_PI where sk_pi='3' ORDER BY DATA_DATE DESC;\"\n",
    "data = pd.read_sql(sql,cnxn)\n",
    "data"
   ]
  },
  {
   "cell_type": "markdown",
   "metadata": {},
   "source": [
    "Pings are coming every 4-6 seconds. Missing values are NaN in original and 0 in the influxdb (we might consider re-importing and omitting values with NaN)"
   ]
  },
  {
   "cell_type": "markdown",
   "metadata": {},
   "source": [
    "Checking statistics for number of packets dropped:"
   ]
  },
  {
   "cell_type": "code",
   "execution_count": 8,
   "metadata": {},
   "outputs": [
    {
     "data": {
      "text/html": [
       "<div>\n",
       "<style>\n",
       "    .dataframe thead tr:only-child th {\n",
       "        text-align: right;\n",
       "    }\n",
       "\n",
       "    .dataframe thead th {\n",
       "        text-align: left;\n",
       "    }\n",
       "\n",
       "    .dataframe tbody tr th {\n",
       "        vertical-align: top;\n",
       "    }\n",
       "</style>\n",
       "<table border=\"1\" class=\"dataframe\">\n",
       "  <thead>\n",
       "    <tr style=\"text-align: right;\">\n",
       "      <th></th>\n",
       "      <th>distinct</th>\n",
       "    </tr>\n",
       "  </thead>\n",
       "  <tbody>\n",
       "    <tr>\n",
       "      <th>1970-01-01 00:00:00+00:00</th>\n",
       "      <td>0</td>\n",
       "    </tr>\n",
       "    <tr>\n",
       "      <th>1970-01-01 00:00:00+00:00</th>\n",
       "      <td>100</td>\n",
       "    </tr>\n",
       "  </tbody>\n",
       "</table>\n",
       "</div>"
      ],
      "text/plain": [
       "                           distinct\n",
       "1970-01-01 00:00:00+00:00         0\n",
       "1970-01-01 00:00:00+00:00       100"
      ]
     },
     "execution_count": 8,
     "metadata": {},
     "output_type": "execute_result"
    }
   ],
   "source": [
    "query_ping = \"SELECT DISTINCT(PING_DROPRATE) from PING;\"\n",
    "result_ping = client_df.query(query_ping)\n",
    "ping_df = result_ping['PING']\n",
    "ping_df"
   ]
  },
  {
   "cell_type": "markdown",
   "metadata": {},
   "source": [
    "In Grafana we see that the device #10 has  some packets dropped, lets see what is the value of *PING* measurment when *PING_DROPRATE* is equal to 100:"
   ]
  },
  {
   "cell_type": "code",
   "execution_count": 9,
   "metadata": {},
   "outputs": [
    {
     "data": {
      "text/html": [
       "<div>\n",
       "<style>\n",
       "    .dataframe thead tr:only-child th {\n",
       "        text-align: right;\n",
       "    }\n",
       "\n",
       "    .dataframe thead th {\n",
       "        text-align: left;\n",
       "    }\n",
       "\n",
       "    .dataframe tbody tr th {\n",
       "        vertical-align: top;\n",
       "    }\n",
       "</style>\n",
       "<table border=\"1\" class=\"dataframe\">\n",
       "  <thead>\n",
       "    <tr style=\"text-align: right;\">\n",
       "      <th></th>\n",
       "      <th>PING</th>\n",
       "      <th>PING_DROPRATE</th>\n",
       "    </tr>\n",
       "  </thead>\n",
       "  <tbody>\n",
       "    <tr>\n",
       "      <th>2018-12-31 04:39:45.187000064+00:00</th>\n",
       "      <td>46.312</td>\n",
       "      <td>0</td>\n",
       "    </tr>\n",
       "    <tr>\n",
       "      <th>2018-12-31 04:39:47.187000064+00:00</th>\n",
       "      <td>0.000</td>\n",
       "      <td>0</td>\n",
       "    </tr>\n",
       "    <tr>\n",
       "      <th>2018-12-31 04:39:49.190000128+00:00</th>\n",
       "      <td>46.767</td>\n",
       "      <td>0</td>\n",
       "    </tr>\n",
       "    <tr>\n",
       "      <th>2018-12-31 04:39:51.190000128+00:00</th>\n",
       "      <td>0.000</td>\n",
       "      <td>0</td>\n",
       "    </tr>\n",
       "    <tr>\n",
       "      <th>2018-12-31 04:39:53.192999936+00:00</th>\n",
       "      <td>0.000</td>\n",
       "      <td>0</td>\n",
       "    </tr>\n",
       "    <tr>\n",
       "      <th>2018-12-31 04:39:55.196999936+00:00</th>\n",
       "      <td>43.976</td>\n",
       "      <td>0</td>\n",
       "    </tr>\n",
       "    <tr>\n",
       "      <th>2018-12-31 04:39:57.196999936+00:00</th>\n",
       "      <td>0.000</td>\n",
       "      <td>0</td>\n",
       "    </tr>\n",
       "    <tr>\n",
       "      <th>2018-12-31 04:39:59.200000+00:00</th>\n",
       "      <td>46.056</td>\n",
       "      <td>0</td>\n",
       "    </tr>\n",
       "    <tr>\n",
       "      <th>2018-12-31 04:40:01.200000+00:00</th>\n",
       "      <td>0.000</td>\n",
       "      <td>0</td>\n",
       "    </tr>\n",
       "    <tr>\n",
       "      <th>2018-12-31 04:40:03.203000064+00:00</th>\n",
       "      <td>0.000</td>\n",
       "      <td>0</td>\n",
       "    </tr>\n",
       "  </tbody>\n",
       "</table>\n",
       "</div>"
      ],
      "text/plain": [
       "                                       PING  PING_DROPRATE\n",
       "2018-12-31 04:39:45.187000064+00:00  46.312              0\n",
       "2018-12-31 04:39:47.187000064+00:00   0.000              0\n",
       "2018-12-31 04:39:49.190000128+00:00  46.767              0\n",
       "2018-12-31 04:39:51.190000128+00:00   0.000              0\n",
       "2018-12-31 04:39:53.192999936+00:00   0.000              0\n",
       "2018-12-31 04:39:55.196999936+00:00  43.976              0\n",
       "2018-12-31 04:39:57.196999936+00:00   0.000              0\n",
       "2018-12-31 04:39:59.200000+00:00     46.056              0\n",
       "2018-12-31 04:40:01.200000+00:00      0.000              0\n",
       "2018-12-31 04:40:03.203000064+00:00   0.000              0"
      ]
     },
     "execution_count": 9,
     "metadata": {},
     "output_type": "execute_result"
    }
   ],
   "source": [
    "query_ping = \"SELECT PING, PING_DROPRATE FROM PING WHERE SK_PI='10' ORDER BY time DESC LIMIT 10;\"\n",
    "result_ping = client_df.query(query_ping)\n",
    "ping_df = result_ping['PING']\n",
    "ping_df"
   ]
  },
  {
   "cell_type": "markdown",
   "metadata": {},
   "source": [
    "*PING* is equal to 0 in this case, its importatnt to note."
   ]
  },
  {
   "cell_type": "markdown",
   "metadata": {},
   "source": [
    "### Number of datapoints per device"
   ]
  },
  {
   "cell_type": "markdown",
   "metadata": {},
   "source": [
    "Getting device numbers(tags SK_PI):"
   ]
  },
  {
   "cell_type": "code",
   "execution_count": 10,
   "metadata": {},
   "outputs": [
    {
     "name": "stdout",
     "output_type": "stream",
     "text": [
      "[1, 2, 3, 4, 5, 6, 7, 8, 9, 10, 11, 12, 13, 14, 15, 16, 17, 18]\n"
     ]
    }
   ],
   "source": [
    "query_unique_devices = \"SHOW TAG VALUES FROM PING WITH KEY=SK_PI;\"\n",
    "result_unique_devices = client.query(query_unique_devices)\n",
    "points_unique_devices = result_unique_devices.get_points()\n",
    "device_numbers=[]\n",
    "for point in points_unique_devices:\n",
    "    device_numbers.append(point['value'])\n",
    "device_numbers=list(map(int, device_numbers))\n",
    "device_numbers= sorted(device_numbers)\n",
    "print(device_numbers)"
   ]
  },
  {
   "cell_type": "markdown",
   "metadata": {},
   "source": [
    "Getting number of data points per device for the entire period of time."
   ]
  },
  {
   "cell_type": "code",
   "execution_count": 11,
   "metadata": {
    "collapsed": true
   },
   "outputs": [],
   "source": [
    "query_ping_counts = 'SELECT COUNT(PING) FROM PING WHERE PING!=0 GROUP BY SK_PI;'\n",
    "result_ping_counts = client.query(query_ping_counts)"
   ]
  },
  {
   "cell_type": "code",
   "execution_count": 12,
   "metadata": {
    "collapsed": true
   },
   "outputs": [],
   "source": [
    "query_pingdroprate_counts = 'SELECT COUNT(PING_DROPRATE) FROM PING WHERE PING_DROPRATE!=0 GROUP BY SK_PI;'\n",
    "result_pingdroprate_counts = client.query(query_pingdroprate_counts)"
   ]
  },
  {
   "cell_type": "code",
   "execution_count": 13,
   "metadata": {
    "collapsed": true
   },
   "outputs": [],
   "source": [
    "ping_counts=[]\n",
    "pingdroprate_counts=[]\n",
    "for device in device_numbers:\n",
    "    points_ping_counts=result_ping_counts.get_points(tags={'SK_PI':str(device)})\n",
    "    points_pingdroprate_counts=result_pingdroprate_counts.get_points(tags={'SK_PI':str(device)})\n",
    "    for point in points_ping_counts:\n",
    "        count_ping=point['count']\n",
    "    for point in points_pingdroprate_counts:\n",
    "        count_pingdroprate=point['count']\n",
    "    ping_counts.append(count_ping+count_pingdroprate)\n",
    "    pingdroprate_counts.append(count_ping+count_pingdroprate)"
   ]
  },
  {
   "cell_type": "markdown",
   "metadata": {},
   "source": [
    "Plotting device numbers and number of data points. "
   ]
  },
  {
   "cell_type": "code",
   "execution_count": 14,
   "metadata": {},
   "outputs": [
    {
     "data": {
      "application/vnd.plotly.v1+json": {
       "data": [
        {
         "type": "bar",
         "x": [
          1,
          2,
          3,
          4,
          5,
          6,
          7,
          8,
          9,
          10,
          11,
          12,
          13,
          14,
          15,
          16,
          17,
          18
         ],
         "y": [
          7025,
          397617,
          641490,
          674108,
          175987,
          84990,
          730532,
          72282,
          555607,
          539314,
          555551,
          558335,
          285,
          6905,
          473586,
          455021,
          331843,
          257534
         ]
        }
       ],
       "layout": {
        "barmode": "stack",
        "title": "Number of data points per device"
       }
      },
      "text/html": [
       "<div id=\"0133ac1b-8526-414c-b445-b01e9b5fa862\" style=\"height: 525px; width: 100%;\" class=\"plotly-graph-div\"></div><script type=\"text/javascript\">require([\"plotly\"], function(Plotly) { window.PLOTLYENV=window.PLOTLYENV || {};window.PLOTLYENV.BASE_URL=\"https://plot.ly\";Plotly.newPlot(\"0133ac1b-8526-414c-b445-b01e9b5fa862\", [{\"type\": \"bar\", \"x\": [1, 2, 3, 4, 5, 6, 7, 8, 9, 10, 11, 12, 13, 14, 15, 16, 17, 18], \"y\": [7025, 397617, 641490, 674108, 175987, 84990, 730532, 72282, 555607, 539314, 555551, 558335, 285, 6905, 473586, 455021, 331843, 257534]}], {\"barmode\": \"stack\", \"title\": \"Number of data points per device\"}, {\"showLink\": true, \"linkText\": \"Export to plot.ly\"})});</script>"
      ],
      "text/vnd.plotly.v1+html": [
       "<div id=\"0133ac1b-8526-414c-b445-b01e9b5fa862\" style=\"height: 525px; width: 100%;\" class=\"plotly-graph-div\"></div><script type=\"text/javascript\">require([\"plotly\"], function(Plotly) { window.PLOTLYENV=window.PLOTLYENV || {};window.PLOTLYENV.BASE_URL=\"https://plot.ly\";Plotly.newPlot(\"0133ac1b-8526-414c-b445-b01e9b5fa862\", [{\"type\": \"bar\", \"x\": [1, 2, 3, 4, 5, 6, 7, 8, 9, 10, 11, 12, 13, 14, 15, 16, 17, 18], \"y\": [7025, 397617, 641490, 674108, 175987, 84990, 730532, 72282, 555607, 539314, 555551, 558335, 285, 6905, 473586, 455021, 331843, 257534]}], {\"barmode\": \"stack\", \"title\": \"Number of data points per device\"}, {\"showLink\": true, \"linkText\": \"Export to plot.ly\"})});</script>"
      ]
     },
     "metadata": {},
     "output_type": "display_data"
    }
   ],
   "source": [
    "data = [go.Bar(\n",
    "            x=device_numbers,\n",
    "            y=ping_counts\n",
    "    )]\n",
    "\n",
    "layout = go.Layout(\n",
    "        barmode='stack',\n",
    "        title=\"Number of data points per device\"\n",
    "    )\n",
    "\n",
    "fig = go.Figure(data=data, layout=layout)\n",
    "iplot(fig)"
   ]
  },
  {
   "cell_type": "markdown",
   "metadata": {},
   "source": [
    "Some of the devices have small number of datapoints, may be they are just installed? Lets check how many dataponts came in last 4 weeks."
   ]
  },
  {
   "cell_type": "markdown",
   "metadata": {},
   "source": [
    "Getting number of datapoints per device in last 4 weeks and list of the devices that have data for this period of time(not all of the have)."
   ]
  },
  {
   "cell_type": "code",
   "execution_count": 15,
   "metadata": {
    "collapsed": true
   },
   "outputs": [],
   "source": [
    "#query_ping_counts_dec = \"SELECT COUNT(PING) FROM PING WHERE time >= '2018-12-01 00:00:00' GROUP BY SK_PI ;\"\n",
    "query_ping_counts_dec = \"SELECT COUNT(PING) FROM PING WHERE time >= now()-4w  AND PING!=0 GROUP BY SK_PI ;\"\n",
    "result_ping_counts_dec = client.query(query_ping_counts_dec)"
   ]
  },
  {
   "cell_type": "code",
   "execution_count": 16,
   "metadata": {},
   "outputs": [],
   "source": [
    "query_pingdroprate_counts_dec = 'SELECT COUNT(PING_DROPRATE) FROM PING WHERE time >= now()-4w AND PING_DROPRATE!=0 GROUP BY SK_PI;'\n",
    "result_pingdroprate_counts_dec = client.query(query_pingdroprate_counts_dec)"
   ]
  },
  {
   "cell_type": "code",
   "execution_count": 17,
   "metadata": {},
   "outputs": [
    {
     "name": "stdout",
     "output_type": "stream",
     "text": [
      "Devices, that have data in last 4 weeks:  [3, 7, 9, 10, 11, 12, 15, 16, 17, 18]\n"
     ]
    }
   ],
   "source": [
    "ping_counts_dec=[]\n",
    "device_numbers_dec = []\n",
    "pingdroprate_counts_dec = []\n",
    "#ping_sent_counts_dec = []\n",
    "for device in device_numbers:\n",
    "    points_ping_counts_dec=result_ping_counts_dec.get_points(tags={'SK_PI':str(device)})\n",
    "    points_pingdroprate_counts_dec=result_pingdroprate_counts_dec.get_points(tags={'SK_PI':str(device)})\n",
    "    point_new=0\n",
    "    point_ping=0\n",
    "    point_pingdroprate=0\n",
    "    #print(device)\n",
    "    for point in points_ping_counts_dec:\n",
    "        point_ping=point['count']\n",
    "    for point in points_pingdroprate_counts_dec:\n",
    "        point_pingdroprate=point['count']\n",
    "    #print(point_ping)\n",
    "    #print(point_pingdroprate)\n",
    "    point_new=point_pingdroprate+point_ping\n",
    "    #print(point_new)\n",
    "    if (point_new!=0): \n",
    "        device_numbers_dec.append(device)\n",
    "    ping_counts_dec.append(point_new)\n",
    "    pingdroprate_counts_dec.append(point_pingdroprate)\n",
    "    #ping_sent_counts_dec.append(point_ping)\n",
    "print(\"Devices, that have data in last 4 weeks: \",device_numbers_dec)"
   ]
  },
  {
   "cell_type": "markdown",
   "metadata": {},
   "source": [
    "Plotting combined barchart - entire number of datapoints vs number of datapoints in last 4 weeks."
   ]
  },
  {
   "cell_type": "code",
   "execution_count": 18,
   "metadata": {},
   "outputs": [
    {
     "data": {
      "application/vnd.plotly.v1+json": {
       "data": [
        {
         "name": "Last 4 weeks",
         "type": "bar",
         "x": [
          1,
          2,
          3,
          4,
          5,
          6,
          7,
          8,
          9,
          10,
          11,
          12,
          13,
          14,
          15,
          16,
          17,
          18
         ],
         "y": [
          0,
          0,
          449985,
          0,
          0,
          0,
          297139,
          0,
          449985,
          411498,
          446921,
          449985,
          0,
          0,
          449985,
          449986,
          331838,
          248715
         ]
        },
        {
         "name": "Entire time",
         "type": "bar",
         "x": [
          1,
          2,
          3,
          4,
          5,
          6,
          7,
          8,
          9,
          10,
          11,
          12,
          13,
          14,
          15,
          16,
          17,
          18
         ],
         "y": [
          7025,
          397617,
          191505,
          674108,
          175987,
          84990,
          433393,
          72282,
          105622,
          127816,
          108630,
          108350,
          285,
          6905,
          23601,
          5035,
          5,
          8819
         ]
        }
       ],
       "layout": {
        "barmode": "stack",
        "title": "Comparing number of datapoints in last 4 weeks vs entire time"
       }
      },
      "text/html": [
       "<div id=\"884fcd6c-e20c-48a7-9048-6b8e5739c718\" style=\"height: 525px; width: 100%;\" class=\"plotly-graph-div\"></div><script type=\"text/javascript\">require([\"plotly\"], function(Plotly) { window.PLOTLYENV=window.PLOTLYENV || {};window.PLOTLYENV.BASE_URL=\"https://plot.ly\";Plotly.newPlot(\"884fcd6c-e20c-48a7-9048-6b8e5739c718\", [{\"type\": \"bar\", \"x\": [1, 2, 3, 4, 5, 6, 7, 8, 9, 10, 11, 12, 13, 14, 15, 16, 17, 18], \"y\": [0, 0, 449985, 0, 0, 0, 297139, 0, 449985, 411498, 446921, 449985, 0, 0, 449985, 449986, 331838, 248715], \"name\": \"Last 4 weeks\"}, {\"type\": \"bar\", \"x\": [1, 2, 3, 4, 5, 6, 7, 8, 9, 10, 11, 12, 13, 14, 15, 16, 17, 18], \"y\": [7025, 397617, 191505, 674108, 175987, 84990, 433393, 72282, 105622, 127816, 108630, 108350, 285, 6905, 23601, 5035, 5, 8819], \"name\": \"Entire time\"}], {\"barmode\": \"stack\", \"title\": \"Comparing number of datapoints in last 4 weeks vs entire time\"}, {\"showLink\": true, \"linkText\": \"Export to plot.ly\"})});</script>"
      ],
      "text/vnd.plotly.v1+html": [
       "<div id=\"884fcd6c-e20c-48a7-9048-6b8e5739c718\" style=\"height: 525px; width: 100%;\" class=\"plotly-graph-div\"></div><script type=\"text/javascript\">require([\"plotly\"], function(Plotly) { window.PLOTLYENV=window.PLOTLYENV || {};window.PLOTLYENV.BASE_URL=\"https://plot.ly\";Plotly.newPlot(\"884fcd6c-e20c-48a7-9048-6b8e5739c718\", [{\"type\": \"bar\", \"x\": [1, 2, 3, 4, 5, 6, 7, 8, 9, 10, 11, 12, 13, 14, 15, 16, 17, 18], \"y\": [0, 0, 449985, 0, 0, 0, 297139, 0, 449985, 411498, 446921, 449985, 0, 0, 449985, 449986, 331838, 248715], \"name\": \"Last 4 weeks\"}, {\"type\": \"bar\", \"x\": [1, 2, 3, 4, 5, 6, 7, 8, 9, 10, 11, 12, 13, 14, 15, 16, 17, 18], \"y\": [7025, 397617, 191505, 674108, 175987, 84990, 433393, 72282, 105622, 127816, 108630, 108350, 285, 6905, 23601, 5035, 5, 8819], \"name\": \"Entire time\"}], {\"barmode\": \"stack\", \"title\": \"Comparing number of datapoints in last 4 weeks vs entire time\"}, {\"showLink\": true, \"linkText\": \"Export to plot.ly\"})});</script>"
      ]
     },
     "metadata": {},
     "output_type": "display_data"
    }
   ],
   "source": [
    "trace1 = go.Bar(\n",
    "            x=device_numbers,\n",
    "            y=ping_counts_dec,\n",
    "            name='Last 4 weeks',\n",
    "    )\n",
    "trace2 = go.Bar(\n",
    "            x=device_numbers,\n",
    "            y=[a - b for a, b in zip(ping_counts, ping_counts_dec)],\n",
    "            name='Entire time',\n",
    "    \n",
    "    )\n",
    "data = [trace1, trace2]\n",
    "layout = go.Layout(\n",
    "        barmode='stack',\n",
    "        title=\"Comparing number of datapoints in last 4 weeks vs entire time\"\n",
    "    )\n",
    "\n",
    "fig = go.Figure(data=data, layout=layout)\n",
    "iplot(fig)"
   ]
  },
  {
   "cell_type": "markdown",
   "metadata": {},
   "source": [
    "Devices 1,2,4,5,6,8 and possibly 13 and 14 need to be double checked. Looks like they have started reporting and then stopped. Let's check last reporting time for every device."
   ]
  },
  {
   "cell_type": "code",
   "execution_count": 19,
   "metadata": {
    "collapsed": true
   },
   "outputs": [],
   "source": [
    "query_ping_last = \"SELECT last(PING), time FROM PING WHERE PING!=0 OR PING_DROPRATE!=0 GROUP BY SK_PI;\"\n",
    "result_ping_last = client.query(query_ping_last)"
   ]
  },
  {
   "cell_type": "code",
   "execution_count": 20,
   "metadata": {},
   "outputs": [
    {
     "name": "stdout",
     "output_type": "stream",
     "text": [
      "Device:  1  reported last time on  2018-10-11T15:46:31.790000128Z\n",
      "Device:  2  reported last time on  2018-11-06T19:16:32.792999936Z\n",
      "Device:  3  reported last time on  2019-01-01T23:59:57.196999936Z\n",
      "Device:  4  reported last time on  2018-12-05T22:53:02.383000064Z\n",
      "Device:  5  reported last time on  2018-11-05T21:32:30.550000128Z\n",
      "Device:  6  reported last time on  2018-10-31T14:55:00.7Z\n",
      "Device:  7  reported last time on  2019-01-01T23:59:56.196999936Z\n",
      "Device:  8  reported last time on  2018-12-03T19:58:50.129999872Z\n",
      "Device:  9  reported last time on  2019-01-01T23:59:56.196999936Z\n",
      "Device:  10  reported last time on  2018-12-31T04:39:59.2Z\n",
      "Device:  11  reported last time on  2019-01-01T23:59:57.196999936Z\n",
      "Device:  12  reported last time on  2019-01-01T23:59:55.196999936Z\n",
      "Device:  13  reported last time on  2018-12-04T20:27:05.227000064Z\n",
      "Device:  14  reported last time on  2018-12-06T02:12:27.347000064Z\n",
      "Device:  15  reported last time on  2019-01-01T23:59:56.196999936Z\n",
      "Device:  16  reported last time on  2019-01-01T23:59:58.196999936Z\n",
      "Device:  17  reported last time on  2019-01-01T23:59:59.2Z\n",
      "Device:  18  reported last time on  2019-01-01T23:59:56.196999936Z\n"
     ]
    }
   ],
   "source": [
    "for device in device_numbers:\n",
    "    points_ping_last=result_ping_last.get_points(tags={'SK_PI':str(device)})\n",
    "    for point in points_ping_last:\n",
    "        print(\"Device: \", device,\" reported last time on \", point['time'])"
   ]
  },
  {
   "cell_type": "markdown",
   "metadata": {},
   "source": [
    "Something is happening with devices  1,2,4,5,6,8,13 and 14. They stopped reporting - does it need to be investigated?"
   ]
  },
  {
   "cell_type": "markdown",
   "metadata": {},
   "source": [
    "## Ping latency "
   ]
  },
  {
   "cell_type": "markdown",
   "metadata": {},
   "source": [
    "What is normal ping latency? From [this link](https://www.pingman.com/kb/article/what-s-normal-for-latency-and-packet-loss-42.html):\n",
    "\n",
    ">There are two normal factors that significantly influence the latency of a consumer device (like a cable modem, dsl modem or dial-up modem).\n",
    "\n",
    ">The latency of the connecting device. For a cable modem, this can normally be between 5 and 40 ms. For a DSL modem this is normally 10 to 70ms. For a dial-up modem, this is normally anywhere from 100 to 220ms. For a cellular link, this can be from 200 to 600 ms. For a T1, this is normally 0 to 10 ms.\n",
    "The distance the data is traveling. Data travels at (very roughly) 120,000 miles (or 192,000 kilometers) per second, or 120 miles (192 km) per ms (millisecond) over a network connection. With traceroute, we have to send the data there and back again, so roughly 1 ms of latency is added for every 60 miles (96km, although with the level of accuracy we're using here, we should say '100km') of distance between you and the target.\n",
    "Connecting to a web site across 1500 miles (2400 km) of distance is going to add at least 25 ms to the latency. Normally, it's more like 75 after the data zig-zags around a bit and goes through numerous routers.\n",
    "\n",
    ">This means that a DSL modem on the west coast of the United States, tracing to a server on the east coast of the United States should expect somewhere around 120 ms (depending on the route and a number of other factors, but this is a rough ballpark) - 25 ms for the DSL modem and 100 ms for the distance. Tracing across an ocean, or through a satellite link, or some other link where the distance is further will certainly impact the expected latency more.\n",
    "\n"
   ]
  },
  {
   "cell_type": "markdown",
   "metadata": {},
   "source": [
    "Let's check actual ping latency numbers in last 4 weeks:"
   ]
  },
  {
   "cell_type": "code",
   "execution_count": 21,
   "metadata": {
    "collapsed": true
   },
   "outputs": [],
   "source": [
    "#query_ping_max_dec = \"SELECT MAX(PING), MEAN(PING) FROM PING WHERE time >= '2018-12-01 00:00:00' GROUP BY SK_PI;\"\n",
    "query_ping_max_dec = \"SELECT MAX(PING), MEAN(PING), MEDIAN(PING) FROM PING WHERE PING!=0 AND  time >= now()-4w  GROUP BY SK_PI;\"\n",
    "result_ping_max_dec = client.query(query_ping_max_dec)"
   ]
  },
  {
   "cell_type": "markdown",
   "metadata": {},
   "source": [
    "We will exclude devices  1,2,4,5,6,8,13,14 as they are not reporting any more"
   ]
  },
  {
   "cell_type": "code",
   "execution_count": 22,
   "metadata": {
    "collapsed": true
   },
   "outputs": [],
   "source": [
    "#device_numbers_dec = [x for x in device_numbers if x not in [1,2,4,5,6,8,13,14]]\n",
    "#print(device_numbers_dec)"
   ]
  },
  {
   "cell_type": "code",
   "execution_count": 23,
   "metadata": {
    "collapsed": true
   },
   "outputs": [],
   "source": [
    "device_max_dec=[]\n",
    "device_mean_dec = []\n",
    "device_median_dec = []\n",
    "for device in device_numbers_dec:\n",
    "    points_max_dec=result_ping_max_dec.get_points(tags={'SK_PI':str(device)})\n",
    "    for point in points_max_dec:\n",
    "        device_median_dec.append(point['median'])\n",
    "        device_max_dec.append(point['max'])\n",
    "        device_mean_dec.append(point['mean'])"
   ]
  },
  {
   "cell_type": "markdown",
   "metadata": {},
   "source": [
    "Plotting mean and max ping latency results for every reporting result in December."
   ]
  },
  {
   "cell_type": "code",
   "execution_count": 24,
   "metadata": {},
   "outputs": [
    {
     "data": {
      "application/vnd.plotly.v1+json": {
       "data": [
        {
         "name": "Mean",
         "type": "bar",
         "x": [
          3,
          7,
          9,
          10,
          11,
          12,
          15,
          16,
          17,
          18
         ],
         "y": [
          14.783351489978365,
          38.23751613981517,
          35.30947689422975,
          46.772179714527496,
          28.114078878055157,
          34.577338501268954,
          35.01698491795535,
          63.17379981740575,
          46.929098651287624,
          49.345974749882984
         ]
        },
        {
         "name": "Max",
         "type": "bar",
         "x": [
          3,
          7,
          9,
          10,
          11,
          12,
          15,
          16,
          17,
          18
         ],
         "y": [
          80.319,
          898.413,
          173.17,
          446.59,
          180.611,
          867.817,
          262.352,
          901.052,
          832.237,
          813.922
         ]
        },
        {
         "name": "Median",
         "type": "bar",
         "x": [
          3,
          7,
          9,
          10,
          11,
          12,
          15,
          16,
          17,
          18
         ],
         "y": [
          14.722,
          33.734,
          32.57,
          44.894,
          27.63,
          35.45,
          35.004,
          37.814,
          43.877,
          44.504
         ]
        }
       ],
       "layout": {
        "title": "Maximum, mean and median ping delay in miliseconds for the last 4 weeks"
       }
      },
      "text/html": [
       "<div id=\"a0a0675a-2ff8-462f-bee8-f029b95f3763\" style=\"height: 525px; width: 100%;\" class=\"plotly-graph-div\"></div><script type=\"text/javascript\">require([\"plotly\"], function(Plotly) { window.PLOTLYENV=window.PLOTLYENV || {};window.PLOTLYENV.BASE_URL=\"https://plot.ly\";Plotly.newPlot(\"a0a0675a-2ff8-462f-bee8-f029b95f3763\", [{\"type\": \"bar\", \"x\": [3, 7, 9, 10, 11, 12, 15, 16, 17, 18], \"y\": [14.783351489978365, 38.23751613981517, 35.30947689422975, 46.772179714527496, 28.114078878055157, 34.577338501268954, 35.01698491795535, 63.17379981740575, 46.929098651287624, 49.345974749882984], \"name\": \"Mean\"}, {\"type\": \"bar\", \"x\": [3, 7, 9, 10, 11, 12, 15, 16, 17, 18], \"y\": [80.319, 898.413, 173.17, 446.59, 180.611, 867.817, 262.352, 901.052, 832.237, 813.922], \"name\": \"Max\"}, {\"type\": \"bar\", \"x\": [3, 7, 9, 10, 11, 12, 15, 16, 17, 18], \"y\": [14.722, 33.734, 32.57, 44.894, 27.63, 35.45, 35.004, 37.814, 43.877, 44.504], \"name\": \"Median\"}], {\"title\": \"Maximum, mean and median ping delay in miliseconds for the last 4 weeks\"}, {\"showLink\": true, \"linkText\": \"Export to plot.ly\"})});</script>"
      ],
      "text/vnd.plotly.v1+html": [
       "<div id=\"a0a0675a-2ff8-462f-bee8-f029b95f3763\" style=\"height: 525px; width: 100%;\" class=\"plotly-graph-div\"></div><script type=\"text/javascript\">require([\"plotly\"], function(Plotly) { window.PLOTLYENV=window.PLOTLYENV || {};window.PLOTLYENV.BASE_URL=\"https://plot.ly\";Plotly.newPlot(\"a0a0675a-2ff8-462f-bee8-f029b95f3763\", [{\"type\": \"bar\", \"x\": [3, 7, 9, 10, 11, 12, 15, 16, 17, 18], \"y\": [14.783351489978365, 38.23751613981517, 35.30947689422975, 46.772179714527496, 28.114078878055157, 34.577338501268954, 35.01698491795535, 63.17379981740575, 46.929098651287624, 49.345974749882984], \"name\": \"Mean\"}, {\"type\": \"bar\", \"x\": [3, 7, 9, 10, 11, 12, 15, 16, 17, 18], \"y\": [80.319, 898.413, 173.17, 446.59, 180.611, 867.817, 262.352, 901.052, 832.237, 813.922], \"name\": \"Max\"}, {\"type\": \"bar\", \"x\": [3, 7, 9, 10, 11, 12, 15, 16, 17, 18], \"y\": [14.722, 33.734, 32.57, 44.894, 27.63, 35.45, 35.004, 37.814, 43.877, 44.504], \"name\": \"Median\"}], {\"title\": \"Maximum, mean and median ping delay in miliseconds for the last 4 weeks\"}, {\"showLink\": true, \"linkText\": \"Export to plot.ly\"})});</script>"
      ]
     },
     "metadata": {},
     "output_type": "display_data"
    }
   ],
   "source": [
    "trace1 = go.Bar(\n",
    "            x=device_numbers_dec,\n",
    "            y=device_mean_dec,\n",
    "            name='Mean',\n",
    "    )\n",
    "trace2 = go.Bar(\n",
    "            x=device_numbers_dec,\n",
    "            y=device_max_dec,\n",
    "            name='Max',\n",
    "    \n",
    "    )\n",
    "trace3 = go.Bar(\n",
    "            x=device_numbers_dec,\n",
    "            y=device_median_dec,\n",
    "            name='Median',\n",
    "    \n",
    "    )\n",
    "data = [trace1, trace2, trace3]\n",
    "layout = go.Layout(\n",
    "       # barmode='stack',\n",
    "        title=\"Maximum, mean and median ping delay in miliseconds for the last 4 weeks\"\n",
    "    )\n",
    "\n",
    "fig = go.Figure(data=data, layout=layout)\n",
    "iplot(fig)"
   ]
  },
  {
   "cell_type": "markdown",
   "metadata": {},
   "source": [
    "Device 16 has the highest mean, it needs to be, (all these spikes are also visible in Grafana). Something is going on there. Device 13 looks like it was giving high latency but stopped reporting Dec 4th"
   ]
  },
  {
   "cell_type": "markdown",
   "metadata": {},
   "source": [
    "### Ping latency grouped by duration\n",
    "Lets divide ping latencies into 3 groups:\n",
    " - group1:  1-40Ms delay\n",
    " - group2:  41-100Ms delay\n",
    " - group3:  101+Ms delay  \n",
    " And calculate percentages of ping latencies in each group for every device:"
   ]
  },
  {
   "cell_type": "code",
   "execution_count": 25,
   "metadata": {
    "collapsed": true
   },
   "outputs": [],
   "source": [
    "query_ping_group1= \"SELECT COUNT(PING) FROM PING WHERE PING > 0 AND PING < 41 AND time >= now()-4w GROUP BY SK_PI;\"\n",
    "result_ping_group1 = client.query(query_ping_group1)"
   ]
  },
  {
   "cell_type": "code",
   "execution_count": 26,
   "metadata": {
    "collapsed": true
   },
   "outputs": [],
   "source": [
    "query_ping_group2= \"SELECT COUNT(PING) FROM PING WHERE PING > 40 AND PING < 101 AND  time >= now()-4w  GROUP BY SK_PI;\"\n",
    "result_ping_group2 = client.query(query_ping_group2)"
   ]
  },
  {
   "cell_type": "code",
   "execution_count": 27,
   "metadata": {
    "collapsed": true
   },
   "outputs": [],
   "source": [
    "query_ping_group3= \"SELECT COUNT(PING) FROM PING WHERE PING > 100  AND  time >= now()-4w  GROUP BY SK_PI;\"\n",
    "result_ping_group3 = client.query(query_ping_group3)"
   ]
  },
  {
   "cell_type": "code",
   "execution_count": 28,
   "metadata": {
    "collapsed": true
   },
   "outputs": [],
   "source": [
    "ping_group1=[]\n",
    "ping_group2 = []\n",
    "ping_group3 = []\n",
    "for device in device_numbers_dec:\n",
    "    points_ping_group1=result_ping_group1.get_points(tags={'SK_PI':str(device)})\n",
    "    points_ping_group2=result_ping_group2.get_points(tags={'SK_PI':str(device)})\n",
    "    points_ping_group3=result_ping_group3.get_points(tags={'SK_PI':str(device)})\n",
    "    point_new=0\n",
    "    for point in points_ping_group1:\n",
    "        point_new=point['count']\n",
    "    ping_group1.append(point_new)\n",
    "    point_new=0\n",
    "    for point in points_ping_group2:\n",
    "        point_new=point['count']\n",
    "    ping_group2.append(point_new)\n",
    "    point_new=0\n",
    "    for point in points_ping_group3:\n",
    "        point_new=point['count']\n",
    "    ping_group3.append(point_new)\n",
    "    "
   ]
  },
  {
   "cell_type": "code",
   "execution_count": 29,
   "metadata": {},
   "outputs": [
    {
     "name": "stdout",
     "output_type": "stream",
     "text": [
      "[449681, 260633, 414968, 0, 442476, 340265, 449802, 374993, 0, 0]\n",
      "[312, 35824, 29787, 291208, 3717, 127227, 144, 20759, 328399, 245455]\n",
      "[0, 3619, 3640, 483, 1, 486, 10, 45265, 1916, 2039]\n",
      "[449993, 300076, 448395, 291691, 446194, 467978, 449956, 441017, 330315, 247494]\n"
     ]
    }
   ],
   "source": [
    "#ping_counts_dec1=list(filter(lambda a: a != 0, ping_counts_dec))\n",
    "#pingdroprate_counts_dec1=list(filter(lambda a: a != 0, pingdroprate_counts_dec))\n",
    "#packets_sent_dec = [(a - b) for a, b in zip(ping_counts_dec1, pingdroprate_counts_dec1)]\n",
    "packets_sent_dec= [(a + b +c) for a, b,c in zip(ping_group1, ping_group2,ping_group3)]\n",
    "print(ping_group1)\n",
    "print(ping_group2)\n",
    "print(ping_group3)\n",
    "#print(ping_counts_dec1)\n",
    "#print(pingdroprate_counts_dec1)\n",
    "print(packets_sent_dec)\n"
   ]
  },
  {
   "cell_type": "code",
   "execution_count": 42,
   "metadata": {},
   "outputs": [
    {
     "data": {
      "application/vnd.plotly.v1+json": {
       "data": [
        {
         "name": "percentage of pings with 1-40Ms delay",
         "type": "bar",
         "x": [
          3,
          7,
          9,
          10,
          11,
          12,
          15,
          16,
          17,
          18
         ],
         "y": [
          99.93066558813138,
          86.85566323198123,
          92.54518895170553,
          0,
          99.16673016669878,
          72.70961455453035,
          99.96577443127772,
          85.02914853622423,
          0,
          0
         ]
        },
        {
         "name": "percentage of pings with 41-100Ms delay",
         "type": "bar",
         "x": [
          3,
          7,
          9,
          10,
          11,
          12,
          15,
          16,
          17,
          18
         ],
         "y": [
          0.06933441186862907,
          11.938308961729694,
          6.6430267955708695,
          99.8344138146189,
          0.8330457155407738,
          27.186534409737213,
          0.03200312919485461,
          4.707074783965244,
          99.41994762575118,
          99.17614164383784
         ]
        },
        {
         "name": "percentage of pings with 101+Ms delay",
         "type": "bar",
         "x": [
          3,
          7,
          9,
          10,
          11,
          12,
          15,
          16,
          17,
          18
         ],
         "y": [
          0,
          1.2060278062890735,
          0.8117842527236031,
          0.16558618538110537,
          0.00022411776043604353,
          0.10385103573244896,
          0.002222439527420459,
          10.263776679810528,
          0.580052374248823,
          0.8238583561621696
         ]
        }
       ],
       "layout": {
        "barmode": "stack",
        "title": " Ping latency grouped by duration(percentage)"
       }
      },
      "text/html": [
       "<div id=\"e8034adf-41e8-441f-b32e-2610bfcaddb6\" style=\"height: 525px; width: 100%;\" class=\"plotly-graph-div\"></div><script type=\"text/javascript\">require([\"plotly\"], function(Plotly) { window.PLOTLYENV=window.PLOTLYENV || {};window.PLOTLYENV.BASE_URL=\"https://plot.ly\";Plotly.newPlot(\"e8034adf-41e8-441f-b32e-2610bfcaddb6\", [{\"type\": \"bar\", \"x\": [3, 7, 9, 10, 11, 12, 15, 16, 17, 18], \"y\": [99.93066558813138, 86.85566323198123, 92.54518895170553, 0.0, 99.16673016669878, 72.70961455453035, 99.96577443127772, 85.02914853622423, 0.0, 0.0], \"name\": \"percentage of pings with 1-40Ms delay\"}, {\"type\": \"bar\", \"x\": [3, 7, 9, 10, 11, 12, 15, 16, 17, 18], \"y\": [0.06933441186862907, 11.938308961729694, 6.6430267955708695, 99.8344138146189, 0.8330457155407738, 27.186534409737213, 0.03200312919485461, 4.707074783965244, 99.41994762575118, 99.17614164383784], \"name\": \"percentage of pings with 41-100Ms delay\"}, {\"type\": \"bar\", \"x\": [3, 7, 9, 10, 11, 12, 15, 16, 17, 18], \"y\": [0.0, 1.2060278062890735, 0.8117842527236031, 0.16558618538110537, 0.00022411776043604353, 0.10385103573244896, 0.002222439527420459, 10.263776679810528, 0.580052374248823, 0.8238583561621696], \"name\": \"percentage of pings with 101+Ms delay\"}], {\"barmode\": \"stack\", \"title\": \" Ping latency grouped by duration(percentage)\"}, {\"showLink\": true, \"linkText\": \"Export to plot.ly\"})});</script>"
      ],
      "text/vnd.plotly.v1+html": [
       "<div id=\"e8034adf-41e8-441f-b32e-2610bfcaddb6\" style=\"height: 525px; width: 100%;\" class=\"plotly-graph-div\"></div><script type=\"text/javascript\">require([\"plotly\"], function(Plotly) { window.PLOTLYENV=window.PLOTLYENV || {};window.PLOTLYENV.BASE_URL=\"https://plot.ly\";Plotly.newPlot(\"e8034adf-41e8-441f-b32e-2610bfcaddb6\", [{\"type\": \"bar\", \"x\": [3, 7, 9, 10, 11, 12, 15, 16, 17, 18], \"y\": [99.93066558813138, 86.85566323198123, 92.54518895170553, 0.0, 99.16673016669878, 72.70961455453035, 99.96577443127772, 85.02914853622423, 0.0, 0.0], \"name\": \"percentage of pings with 1-40Ms delay\"}, {\"type\": \"bar\", \"x\": [3, 7, 9, 10, 11, 12, 15, 16, 17, 18], \"y\": [0.06933441186862907, 11.938308961729694, 6.6430267955708695, 99.8344138146189, 0.8330457155407738, 27.186534409737213, 0.03200312919485461, 4.707074783965244, 99.41994762575118, 99.17614164383784], \"name\": \"percentage of pings with 41-100Ms delay\"}, {\"type\": \"bar\", \"x\": [3, 7, 9, 10, 11, 12, 15, 16, 17, 18], \"y\": [0.0, 1.2060278062890735, 0.8117842527236031, 0.16558618538110537, 0.00022411776043604353, 0.10385103573244896, 0.002222439527420459, 10.263776679810528, 0.580052374248823, 0.8238583561621696], \"name\": \"percentage of pings with 101+Ms delay\"}], {\"barmode\": \"stack\", \"title\": \" Ping latency grouped by duration(percentage)\"}, {\"showLink\": true, \"linkText\": \"Export to plot.ly\"})});</script>"
      ]
     },
     "metadata": {},
     "output_type": "display_data"
    },
    {
     "data": {
      "application/vnd.plotly.v1+json": {
       "data": [
        {
         "name": "number of pings with 1-40Ms delay",
         "type": "bar",
         "x": [
          3,
          7,
          9,
          10,
          11,
          12,
          15,
          16,
          17,
          18
         ],
         "y": [
          449681,
          260633,
          414968,
          0,
          442476,
          340265,
          449802,
          374993,
          0,
          0
         ]
        },
        {
         "name": "number of pings with 41-100Ms delay",
         "type": "bar",
         "x": [
          3,
          7,
          9,
          10,
          11,
          12,
          15,
          16,
          17,
          18
         ],
         "y": [
          312,
          35824,
          29787,
          291208,
          3717,
          127227,
          144,
          20759,
          328399,
          245455
         ]
        },
        {
         "name": "number of pings with 101+Ms delay",
         "type": "bar",
         "x": [
          3,
          7,
          9,
          10,
          11,
          12,
          15,
          16,
          17,
          18
         ],
         "y": [
          0,
          3619,
          3640,
          483,
          1,
          486,
          10,
          45265,
          1916,
          2039
         ]
        }
       ],
       "layout": {
        "barmode": "stack",
        "title": " Ping latency grouped by duration(actual number)"
       }
      },
      "text/html": [
       "<div id=\"6f53c686-cb24-40fc-a47c-3eba14f0c131\" style=\"height: 525px; width: 100%;\" class=\"plotly-graph-div\"></div><script type=\"text/javascript\">require([\"plotly\"], function(Plotly) { window.PLOTLYENV=window.PLOTLYENV || {};window.PLOTLYENV.BASE_URL=\"https://plot.ly\";Plotly.newPlot(\"6f53c686-cb24-40fc-a47c-3eba14f0c131\", [{\"type\": \"bar\", \"x\": [3, 7, 9, 10, 11, 12, 15, 16, 17, 18], \"y\": [449681, 260633, 414968, 0, 442476, 340265, 449802, 374993, 0, 0], \"name\": \"number of pings with 1-40Ms delay\"}, {\"type\": \"bar\", \"x\": [3, 7, 9, 10, 11, 12, 15, 16, 17, 18], \"y\": [312, 35824, 29787, 291208, 3717, 127227, 144, 20759, 328399, 245455], \"name\": \"number of pings with 41-100Ms delay\"}, {\"type\": \"bar\", \"x\": [3, 7, 9, 10, 11, 12, 15, 16, 17, 18], \"y\": [0, 3619, 3640, 483, 1, 486, 10, 45265, 1916, 2039], \"name\": \"number of pings with 101+Ms delay\"}], {\"barmode\": \"stack\", \"title\": \" Ping latency grouped by duration(actual number)\"}, {\"showLink\": true, \"linkText\": \"Export to plot.ly\"})});</script>"
      ],
      "text/vnd.plotly.v1+html": [
       "<div id=\"6f53c686-cb24-40fc-a47c-3eba14f0c131\" style=\"height: 525px; width: 100%;\" class=\"plotly-graph-div\"></div><script type=\"text/javascript\">require([\"plotly\"], function(Plotly) { window.PLOTLYENV=window.PLOTLYENV || {};window.PLOTLYENV.BASE_URL=\"https://plot.ly\";Plotly.newPlot(\"6f53c686-cb24-40fc-a47c-3eba14f0c131\", [{\"type\": \"bar\", \"x\": [3, 7, 9, 10, 11, 12, 15, 16, 17, 18], \"y\": [449681, 260633, 414968, 0, 442476, 340265, 449802, 374993, 0, 0], \"name\": \"number of pings with 1-40Ms delay\"}, {\"type\": \"bar\", \"x\": [3, 7, 9, 10, 11, 12, 15, 16, 17, 18], \"y\": [312, 35824, 29787, 291208, 3717, 127227, 144, 20759, 328399, 245455], \"name\": \"number of pings with 41-100Ms delay\"}, {\"type\": \"bar\", \"x\": [3, 7, 9, 10, 11, 12, 15, 16, 17, 18], \"y\": [0, 3619, 3640, 483, 1, 486, 10, 45265, 1916, 2039], \"name\": \"number of pings with 101+Ms delay\"}], {\"barmode\": \"stack\", \"title\": \" Ping latency grouped by duration(actual number)\"}, {\"showLink\": true, \"linkText\": \"Export to plot.ly\"})});</script>"
      ]
     },
     "metadata": {},
     "output_type": "display_data"
    }
   ],
   "source": [
    "trace1 = go.Bar(\n",
    "            x=device_numbers_dec,\n",
    "            y=[(a / b)*100 for a, b in zip(ping_group1, packets_sent_dec)],\n",
    "            name='percentage of pings with 1-40Ms delay',\n",
    "    )\n",
    "trace2 = go.Bar(\n",
    "            x=device_numbers_dec,\n",
    "            y=[(a / b)*100 for a, b in zip(ping_group2, packets_sent_dec)],\n",
    "            name='percentage of pings with 41-100Ms delay',\n",
    "    \n",
    "    )\n",
    "trace3 = go.Bar(\n",
    "            x=device_numbers_dec,\n",
    "            y=[(a / b)*100 for a, b in zip(ping_group3, packets_sent_dec)],\n",
    "            name='percentage of pings with 101+Ms delay',\n",
    "    \n",
    "    )\n",
    "data1 = [trace1, trace2, trace3]\n",
    "\n",
    "trace4 = go.Bar(\n",
    "            x=device_numbers_dec,\n",
    "            y=ping_group1,\n",
    "            name='number of pings with 1-40Ms delay',\n",
    "    )\n",
    "trace5 = go.Bar(\n",
    "            x=device_numbers_dec,\n",
    "            y=ping_group2,\n",
    "            name='number of pings with 41-100Ms delay',\n",
    "    \n",
    "    )\n",
    "trace6 = go.Bar(\n",
    "            x=device_numbers_dec,\n",
    "            y=ping_group3,\n",
    "            name='number of pings with 101+Ms delay',\n",
    "    \n",
    "    )\n",
    "data2 = [trace4, trace5, trace6]\n",
    "\n",
    "layout1 = go.Layout(\n",
    "        barmode='stack',\n",
    "        title=\" Ping latency grouped by duration(percentage)\"\n",
    "    )\n",
    "layout2 = go.Layout(\n",
    "        barmode='stack',\n",
    "        title=\" Ping latency grouped by duration(actual number)\"\n",
    "    )\n",
    "fig1 = go.Figure(data=data1, layout=layout1)\n",
    "fig2 = go.Figure(data=data2, layout=layout2)\n",
    "iplot(fig1)\n",
    "iplot(fig2)"
   ]
  },
  {
   "cell_type": "markdown",
   "metadata": {},
   "source": [
    "### Ping latency grouped by time of the day\n",
    "We will find mean latency for different time of the day for all the devices in the last 4 weeks:\n",
    " - night: 23:00 - 07:00\n",
    " - day: 07:00 - 17:00\n",
    " - evening: 17:00 - 23:00"
   ]
  },
  {
   "cell_type": "markdown",
   "metadata": {},
   "source": [
    "Could not figure out how to do this, may be something from here: https://docs.influxdata.com/influxdb/v1.7/query_language/data_exploration/#advanced-group-by-time-syntax"
   ]
  },
  {
   "cell_type": "markdown",
   "metadata": {
    "collapsed": true
   },
   "source": [
    "## Ping droprate \n",
    "We will calculate the etite number of packets dropped by device using formula:SUM(PING_DROPRATE)/100"
   ]
  },
  {
   "cell_type": "code",
   "execution_count": 40,
   "metadata": {
    "collapsed": true
   },
   "outputs": [],
   "source": [
    "#query_dropped_counts = \"SELECT SUM(PING_DROPRATE)/100 FROM PING WHERE time >= now()-4w GROUP BY SK_PI ;\"\n",
    "#result_dropped_counts = client.query(query_dropped_counts)"
   ]
  },
  {
   "cell_type": "code",
   "execution_count": 41,
   "metadata": {},
   "outputs": [
    {
     "name": "stdout",
     "output_type": "stream",
     "text": [
      "[10, 974, 3601, 118815, 1192, 2320, 43, 10628, 1523, 1231]\n",
      "140337\n"
     ]
    }
   ],
   "source": [
    "#device_dropped_counts=[]\n",
    "#for device in device_numbers:\n",
    "#    points_dropped_counts=result_dropped_counts.get_points(tags={'SK_PI':str(device)})\n",
    "#    for point in points_dropped_counts:\n",
    "#        device_dropped_counts.append(point['sum'])\n",
    "#print(device_dropped_counts)\n",
    "#print(sum(device_dropped_counts))"
   ]
  },
  {
   "cell_type": "code",
   "execution_count": 53,
   "metadata": {},
   "outputs": [
    {
     "data": {
      "application/vnd.plotly.v1+json": {
       "data": [
        {
         "name": "percentage of pings dropped",
         "type": "bar",
         "x": [
          3,
          7,
          9,
          10,
          11,
          12,
          15,
          16,
          17,
          18
         ],
         "y": [
          0.0022222962987655144,
          0.3281292593701937,
          0.8002488971854618,
          29.123106309143665,
          0.2667138040056296,
          0.5224618598397724,
          0.009555874084691713,
          2.391185503548999,
          0.45895888957864983,
          0.4949440122228253
         ]
        },
        {
         "name": "percentage of pings delievered",
         "type": "bar",
         "x": [
          3,
          7,
          9,
          10,
          11,
          12,
          15,
          16,
          17,
          18
         ],
         "y": [
          99.99777770370123,
          99.67187074062981,
          99.19975110281453,
          70.87689369085633,
          99.73328619599438,
          99.47753814016022,
          99.99044412591532,
          97.608814496451,
          99.54104111042135,
          99.50505598777718
         ]
        }
       ],
       "layout": {
        "barmode": "stack",
        "title": "Ping droprate(percentage)"
       }
      },
      "text/html": [
       "<div id=\"4e377200-e0a4-4dda-9d88-e4fc6963b8e9\" style=\"height: 525px; width: 100%;\" class=\"plotly-graph-div\"></div><script type=\"text/javascript\">require([\"plotly\"], function(Plotly) { window.PLOTLYENV=window.PLOTLYENV || {};window.PLOTLYENV.BASE_URL=\"https://plot.ly\";Plotly.newPlot(\"4e377200-e0a4-4dda-9d88-e4fc6963b8e9\", [{\"type\": \"bar\", \"x\": [3, 7, 9, 10, 11, 12, 15, 16, 17, 18], \"y\": [0.0022222962987655144, 0.3281292593701937, 0.8002488971854618, 29.123106309143665, 0.2667138040056296, 0.5224618598397724, 0.009555874084691713, 2.391185503548999, 0.45895888957864983, 0.4949440122228253], \"name\": \"percentage of pings dropped\"}, {\"type\": \"bar\", \"x\": [3, 7, 9, 10, 11, 12, 15, 16, 17, 18], \"y\": [99.99777770370123, 99.67187074062981, 99.19975110281453, 70.87689369085633, 99.73328619599438, 99.47753814016022, 99.99044412591532, 97.608814496451, 99.54104111042135, 99.50505598777718], \"name\": \"percentage of pings delievered\"}], {\"barmode\": \"stack\", \"title\": \"Ping droprate(percentage)\"}, {\"showLink\": true, \"linkText\": \"Export to plot.ly\"})});</script>"
      ],
      "text/vnd.plotly.v1+html": [
       "<div id=\"4e377200-e0a4-4dda-9d88-e4fc6963b8e9\" style=\"height: 525px; width: 100%;\" class=\"plotly-graph-div\"></div><script type=\"text/javascript\">require([\"plotly\"], function(Plotly) { window.PLOTLYENV=window.PLOTLYENV || {};window.PLOTLYENV.BASE_URL=\"https://plot.ly\";Plotly.newPlot(\"4e377200-e0a4-4dda-9d88-e4fc6963b8e9\", [{\"type\": \"bar\", \"x\": [3, 7, 9, 10, 11, 12, 15, 16, 17, 18], \"y\": [0.0022222962987655144, 0.3281292593701937, 0.8002488971854618, 29.123106309143665, 0.2667138040056296, 0.5224618598397724, 0.009555874084691713, 2.391185503548999, 0.45895888957864983, 0.4949440122228253], \"name\": \"percentage of pings dropped\"}, {\"type\": \"bar\", \"x\": [3, 7, 9, 10, 11, 12, 15, 16, 17, 18], \"y\": [99.99777770370123, 99.67187074062981, 99.19975110281453, 70.87689369085633, 99.73328619599438, 99.47753814016022, 99.99044412591532, 97.608814496451, 99.54104111042135, 99.50505598777718], \"name\": \"percentage of pings delievered\"}], {\"barmode\": \"stack\", \"title\": \"Ping droprate(percentage)\"}, {\"showLink\": true, \"linkText\": \"Export to plot.ly\"})});</script>"
      ]
     },
     "metadata": {},
     "output_type": "display_data"
    },
    {
     "data": {
      "application/vnd.plotly.v1+json": {
       "data": [
        {
         "name": "number of pings dropped",
         "type": "bar",
         "x": [
          3,
          7,
          9,
          10,
          11,
          12,
          15,
          16,
          17,
          18
         ],
         "y": [
          10,
          975,
          3601,
          119841,
          1192,
          2351,
          43,
          10760,
          1523,
          1231
         ]
        },
        {
         "name": "number of pings delievered",
         "type": "bar",
         "x": [
          3,
          7,
          9,
          10,
          11,
          12,
          15,
          16,
          17,
          18
         ],
         "y": [
          449975,
          296164,
          446384,
          291657,
          445729,
          447634,
          449942,
          439226,
          330315,
          247484
         ]
        }
       ],
       "layout": {
        "title": "Ping droprate(actual number)"
       }
      },
      "text/html": [
       "<div id=\"0e8d5752-2cb2-49fc-b98d-36522dbccf2b\" style=\"height: 525px; width: 100%;\" class=\"plotly-graph-div\"></div><script type=\"text/javascript\">require([\"plotly\"], function(Plotly) { window.PLOTLYENV=window.PLOTLYENV || {};window.PLOTLYENV.BASE_URL=\"https://plot.ly\";Plotly.newPlot(\"0e8d5752-2cb2-49fc-b98d-36522dbccf2b\", [{\"type\": \"bar\", \"x\": [3, 7, 9, 10, 11, 12, 15, 16, 17, 18], \"y\": [10, 975, 3601, 119841, 1192, 2351, 43, 10760, 1523, 1231], \"name\": \"number of pings dropped\"}, {\"type\": \"bar\", \"x\": [3, 7, 9, 10, 11, 12, 15, 16, 17, 18], \"y\": [449975, 296164, 446384, 291657, 445729, 447634, 449942, 439226, 330315, 247484], \"name\": \"number of pings delievered\"}], {\"title\": \"Ping droprate(actual number)\"}, {\"showLink\": true, \"linkText\": \"Export to plot.ly\"})});</script>"
      ],
      "text/vnd.plotly.v1+html": [
       "<div id=\"0e8d5752-2cb2-49fc-b98d-36522dbccf2b\" style=\"height: 525px; width: 100%;\" class=\"plotly-graph-div\"></div><script type=\"text/javascript\">require([\"plotly\"], function(Plotly) { window.PLOTLYENV=window.PLOTLYENV || {};window.PLOTLYENV.BASE_URL=\"https://plot.ly\";Plotly.newPlot(\"0e8d5752-2cb2-49fc-b98d-36522dbccf2b\", [{\"type\": \"bar\", \"x\": [3, 7, 9, 10, 11, 12, 15, 16, 17, 18], \"y\": [10, 975, 3601, 119841, 1192, 2351, 43, 10760, 1523, 1231], \"name\": \"number of pings dropped\"}, {\"type\": \"bar\", \"x\": [3, 7, 9, 10, 11, 12, 15, 16, 17, 18], \"y\": [449975, 296164, 446384, 291657, 445729, 447634, 449942, 439226, 330315, 247484], \"name\": \"number of pings delievered\"}], {\"title\": \"Ping droprate(actual number)\"}, {\"showLink\": true, \"linkText\": \"Export to plot.ly\"})});</script>"
      ]
     },
     "metadata": {},
     "output_type": "display_data"
    }
   ],
   "source": [
    "ping_counts_dec1=list(filter(lambda a: a != 0, ping_counts_dec))\n",
    "pingdroprate_counts_dec1=list(filter(lambda a: a != 0, pingdroprate_counts_dec))\n",
    "trace1 = go.Bar(\n",
    "            x=device_numbers_dec,\n",
    "            y=[(a / b)*100 for a, b in zip(pingdroprate_counts_dec1, ping_counts_dec1)],\n",
    "            name='percentage of pings dropped',\n",
    "    )\n",
    "trace2 = go.Bar(\n",
    "            x=device_numbers_dec,\n",
    "            y=[((b-a) / b)*100 for a, b in zip(pingdroprate_counts_dec1, ping_counts_dec1)],\n",
    "            name='percentage of pings delievered',\n",
    "    \n",
    "    )\n",
    "\n",
    "data1 = [trace1, trace2]\n",
    "\n",
    "trace3 = go.Bar(\n",
    "            x=device_numbers_dec,\n",
    "            y=pingdroprate_counts_dec1,\n",
    "            name='number of pings dropped',\n",
    "    )\n",
    "trace4 = go.Bar(\n",
    "            x=device_numbers_dec,\n",
    "            y=[(b-a)  for a, b in zip(pingdroprate_counts_dec1, ping_counts_dec1)],\n",
    "            name='number of pings delievered',\n",
    "    \n",
    "    )\n",
    "\n",
    "data2 = [trace3, trace4]\n",
    "\n",
    "layout1 = go.Layout(\n",
    "        barmode='stack',\n",
    "        title=\"Ping droprate(percentage)\"\n",
    "    )\n",
    "layout2 = go.Layout(\n",
    "        #barmode='stack',\n",
    "        title=\"Ping droprate(actual number)\"\n",
    "    )\n",
    "fig1 = go.Figure(data=data1, layout=layout1)\n",
    "fig2 = go.Figure(data=data2, layout=layout2)\n",
    "iplot(fig1)\n",
    "iplot(fig2)"
   ]
  },
  {
   "cell_type": "markdown",
   "metadata": {},
   "source": [
    "Device #10 and device #16  have the largest number of packets dropped."
   ]
  },
  {
   "cell_type": "code",
   "execution_count": 49,
   "metadata": {},
   "outputs": [],
   "source": [
    "#trace = go.Pie(labels=device_numbers, values=device_dropped_counts)\n",
    "#data=[trace]\n",
    "#layout = go.Layout(\n",
    "#        title=\"Total number of packets dropped by device\"\n",
    "#    )\n",
    "#fig = go.Figure(data=data, layout=layout)\n",
    "#iplot(fig)"
   ]
  },
  {
   "cell_type": "code",
   "execution_count": 50,
   "metadata": {
    "collapsed": true
   },
   "outputs": [],
   "source": [
    "#query_dropped_counts_dec = \"SELECT SUM(PING_DROPRATE)/100 FROM PING WHERE time >= '2018-12-01 00:00:00' GROUP BY SK_PI ;\"\n",
    "#result_dropped_counts_dec = client.query(query_dropped_counts_dec)"
   ]
  },
  {
   "cell_type": "code",
   "execution_count": 51,
   "metadata": {
    "collapsed": true
   },
   "outputs": [],
   "source": [
    "#device_dropped_counts_dec=[]\n",
    "#for device in device_numbers:\n",
    "#    points_dropped_counts_dec=result_dropped_counts_dec.get_points(tags={'SK_PI':str(device)})\n",
    "#    point_sum=0\n",
    "#    for point in points_dropped_counts_dec:\n",
    "#        point_sum=point['sum']\n",
    "#    device_dropped_counts_dec.append(point_sum)    "
   ]
  },
  {
   "cell_type": "code",
   "execution_count": 52,
   "metadata": {},
   "outputs": [],
   "source": [
    "#trace = go.Pie(labels=device_numbers, values=device_dropped_counts_dec)\n",
    "#data=[trace]\n",
    "#layout = go.Layout(\n",
    "#        title=\"Total number of packets dropped by device in December\"\n",
    "#    )\n",
    "#fig = go.Figure(data=data, layout=layout)\n",
    "#iplot(fig)"
   ]
  }
 ],
 "metadata": {
  "kernelspec": {
   "display_name": "Python 3",
   "language": "python",
   "name": "python3"
  },
  "language_info": {
   "codemirror_mode": {
    "name": "ipython",
    "version": 3
   },
   "file_extension": ".py",
   "mimetype": "text/x-python",
   "name": "python",
   "nbconvert_exporter": "python",
   "pygments_lexer": "ipython3",
   "version": "3.6.3"
  },
  "nbTranslate": {
   "displayLangs": [
    "*"
   ],
   "hotkey": "alt-t",
   "langInMainMenu": true,
   "sourceLang": "en",
   "targetLang": "fr",
   "useGoogleTranslate": true
  }
 },
 "nbformat": 4,
 "nbformat_minor": 2
}
