{
 "cells": [
  {
   "cell_type": "markdown",
   "metadata": {},
   "source": [
    "# Ping data exploration"
   ]
  },
  {
   "cell_type": "markdown",
   "metadata": {},
   "source": [
    "## How data is  collected\n",
    "Ping data is collected every 5 seconds doing single pings to 8.8.8.8\n",
    "\n",
    "**Example**:\n",
    ">$ ping -c 1 8.8.8.8  \n",
    ">PING 8.8.8.8 (8.8.8.8): 56 data bytes  \n",
    ">64 bytes from 8.8.8.8: icmp_seq=0 ttl=119 **time=22.985 ms**  \n",
    ">--- 8.8.8.8 ping statistics ---  \n",
    ">1 packets transmitted, 1 packets received, **0.0% packet loss**  \n",
    ">round-trip min/**avg**/max/**stddev** = 22.985/22.985/**22.985**/**0.000** ms  "
   ]
  },
  {
   "cell_type": "markdown",
   "metadata": {},
   "source": [
    "Data being collected:\n",
    " - **Ping latency** (in miliseconds, 22.985 ms in the example)\n",
    " - __Percentage of packets dropped__  (0.0% in the example, can be only 0% or 100%, data collected for single pings) \n",
    " - **Standart deviation (for latency)**  - always 0 for single pings\n"
   ]
  },
  {
   "cell_type": "markdown",
   "metadata": {},
   "source": [
    "## How data looks like\n",
    "Load libraries:"
   ]
  },
  {
   "cell_type": "code",
   "execution_count": 1,
   "metadata": {},
   "outputs": [
    {
     "data": {
      "text/html": [
       "<script>requirejs.config({paths: { 'plotly': ['https://cdn.plot.ly/plotly-latest.min']},});if(!window.Plotly) {{require(['plotly'],function(plotly) {window.Plotly=plotly;});}}</script>"
      ],
      "text/vnd.plotly.v1+html": [
       "<script>requirejs.config({paths: { 'plotly': ['https://cdn.plot.ly/plotly-latest.min']},});if(!window.Plotly) {{require(['plotly'],function(plotly) {window.Plotly=plotly;});}}</script>"
      ]
     },
     "metadata": {},
     "output_type": "display_data"
    }
   ],
   "source": [
    "from data_exploration import *"
   ]
  },
  {
   "cell_type": "markdown",
   "metadata": {},
   "source": [
    "Set up test time interval:"
   ]
  },
  {
   "cell_type": "code",
   "execution_count": 2,
   "metadata": {
    "collapsed": true
   },
   "outputs": [],
   "source": [
    "time_interval='4w' #5d"
   ]
  },
  {
   "cell_type": "markdown",
   "metadata": {},
   "source": [
    "Set up influxdb connection:"
   ]
  },
  {
   "cell_type": "code",
   "execution_count": 3,
   "metadata": {
    "collapsed": true
   },
   "outputs": [],
   "source": [
    "client, client_df = connect_to_influxdb()"
   ]
  },
  {
   "cell_type": "markdown",
   "metadata": {},
   "source": [
    "Checking last 10 records in the ping measurment and see how data looks like:"
   ]
  },
  {
   "cell_type": "code",
   "execution_count": 4,
   "metadata": {},
   "outputs": [
    {
     "data": {
      "text/html": [
       "<div>\n",
       "<style>\n",
       "    .dataframe thead tr:only-child th {\n",
       "        text-align: right;\n",
       "    }\n",
       "\n",
       "    .dataframe thead th {\n",
       "        text-align: left;\n",
       "    }\n",
       "\n",
       "    .dataframe tbody tr th {\n",
       "        vertical-align: top;\n",
       "    }\n",
       "</style>\n",
       "<table border=\"1\" class=\"dataframe\">\n",
       "  <thead>\n",
       "    <tr style=\"text-align: right;\">\n",
       "      <th></th>\n",
       "      <th>time</th>\n",
       "      <th>PING</th>\n",
       "      <th>SK_PI</th>\n",
       "    </tr>\n",
       "  </thead>\n",
       "  <tbody>\n",
       "    <tr>\n",
       "      <th>6</th>\n",
       "      <td>2019-01-18 23:59:57</td>\n",
       "      <td>14.757</td>\n",
       "      <td>3</td>\n",
       "    </tr>\n",
       "    <tr>\n",
       "      <th>2</th>\n",
       "      <td>2019-01-18 23:59:54</td>\n",
       "      <td>37.799</td>\n",
       "      <td>7</td>\n",
       "    </tr>\n",
       "    <tr>\n",
       "      <th>7</th>\n",
       "      <td>2019-01-18 23:59:58</td>\n",
       "      <td>29.995</td>\n",
       "      <td>7</td>\n",
       "    </tr>\n",
       "    <tr>\n",
       "      <th>3</th>\n",
       "      <td>2019-01-18 23:59:54</td>\n",
       "      <td>32.705</td>\n",
       "      <td>9</td>\n",
       "    </tr>\n",
       "    <tr>\n",
       "      <th>5</th>\n",
       "      <td>2019-01-18 23:59:55</td>\n",
       "      <td>27.534</td>\n",
       "      <td>11</td>\n",
       "    </tr>\n",
       "    <tr>\n",
       "      <th>4</th>\n",
       "      <td>2019-01-18 23:59:55</td>\n",
       "      <td>26.040</td>\n",
       "      <td>12</td>\n",
       "    </tr>\n",
       "    <tr>\n",
       "      <th>9</th>\n",
       "      <td>2019-01-19 00:00:00</td>\n",
       "      <td>48.096</td>\n",
       "      <td>12</td>\n",
       "    </tr>\n",
       "    <tr>\n",
       "      <th>1</th>\n",
       "      <td>2019-01-18 23:59:54</td>\n",
       "      <td>35.011</td>\n",
       "      <td>15</td>\n",
       "    </tr>\n",
       "    <tr>\n",
       "      <th>0</th>\n",
       "      <td>2019-01-18 23:59:52</td>\n",
       "      <td>816.015</td>\n",
       "      <td>16</td>\n",
       "    </tr>\n",
       "    <tr>\n",
       "      <th>8</th>\n",
       "      <td>2019-01-18 23:59:58</td>\n",
       "      <td>797.279</td>\n",
       "      <td>16</td>\n",
       "    </tr>\n",
       "  </tbody>\n",
       "</table>\n",
       "</div>"
      ],
      "text/plain": [
       "                 time     PING  SK_PI\n",
       "6 2019-01-18 23:59:57   14.757      3\n",
       "2 2019-01-18 23:59:54   37.799      7\n",
       "7 2019-01-18 23:59:58   29.995      7\n",
       "3 2019-01-18 23:59:54   32.705      9\n",
       "5 2019-01-18 23:59:55   27.534     11\n",
       "4 2019-01-18 23:59:55   26.040     12\n",
       "9 2019-01-19 00:00:00   48.096     12\n",
       "1 2019-01-18 23:59:54   35.011     15\n",
       "0 2019-01-18 23:59:52  816.015     16\n",
       "8 2019-01-18 23:59:58  797.279     16"
      ]
     },
     "execution_count": 4,
     "metadata": {},
     "output_type": "execute_result"
    }
   ],
   "source": [
    "query_ping = 'SELECT PING,SK_PI FROM PING ORDER BY time DESC LIMIT 10;'\n",
    "ping_df = get_dataframe_from_influxdb(client_df=client_df,query_influx=query_ping,table_name='PING')\n",
    "ping_df"
   ]
  },
  {
   "cell_type": "markdown",
   "metadata": {},
   "source": [
    "Let's take just one device, for example 3:"
   ]
  },
  {
   "cell_type": "code",
   "execution_count": 5,
   "metadata": {},
   "outputs": [
    {
     "data": {
      "text/html": [
       "<div>\n",
       "<style>\n",
       "    .dataframe thead tr:only-child th {\n",
       "        text-align: right;\n",
       "    }\n",
       "\n",
       "    .dataframe thead th {\n",
       "        text-align: left;\n",
       "    }\n",
       "\n",
       "    .dataframe tbody tr th {\n",
       "        vertical-align: top;\n",
       "    }\n",
       "</style>\n",
       "<table border=\"1\" class=\"dataframe\">\n",
       "  <thead>\n",
       "    <tr style=\"text-align: right;\">\n",
       "      <th></th>\n",
       "      <th>time</th>\n",
       "      <th>PING</th>\n",
       "      <th>SK_PI</th>\n",
       "    </tr>\n",
       "  </thead>\n",
       "  <tbody>\n",
       "    <tr>\n",
       "      <th>0</th>\n",
       "      <td>2019-01-18 23:59:11</td>\n",
       "      <td>14.612</td>\n",
       "      <td>3</td>\n",
       "    </tr>\n",
       "    <tr>\n",
       "      <th>1</th>\n",
       "      <td>2019-01-18 23:59:17</td>\n",
       "      <td>14.638</td>\n",
       "      <td>3</td>\n",
       "    </tr>\n",
       "    <tr>\n",
       "      <th>2</th>\n",
       "      <td>2019-01-18 23:59:21</td>\n",
       "      <td>14.760</td>\n",
       "      <td>3</td>\n",
       "    </tr>\n",
       "    <tr>\n",
       "      <th>3</th>\n",
       "      <td>2019-01-18 23:59:27</td>\n",
       "      <td>14.755</td>\n",
       "      <td>3</td>\n",
       "    </tr>\n",
       "    <tr>\n",
       "      <th>4</th>\n",
       "      <td>2019-01-18 23:59:31</td>\n",
       "      <td>14.631</td>\n",
       "      <td>3</td>\n",
       "    </tr>\n",
       "    <tr>\n",
       "      <th>5</th>\n",
       "      <td>2019-01-18 23:59:37</td>\n",
       "      <td>14.712</td>\n",
       "      <td>3</td>\n",
       "    </tr>\n",
       "    <tr>\n",
       "      <th>6</th>\n",
       "      <td>2019-01-18 23:59:41</td>\n",
       "      <td>14.728</td>\n",
       "      <td>3</td>\n",
       "    </tr>\n",
       "    <tr>\n",
       "      <th>7</th>\n",
       "      <td>2019-01-18 23:59:47</td>\n",
       "      <td>14.766</td>\n",
       "      <td>3</td>\n",
       "    </tr>\n",
       "    <tr>\n",
       "      <th>8</th>\n",
       "      <td>2019-01-18 23:59:51</td>\n",
       "      <td>14.623</td>\n",
       "      <td>3</td>\n",
       "    </tr>\n",
       "    <tr>\n",
       "      <th>9</th>\n",
       "      <td>2019-01-18 23:59:57</td>\n",
       "      <td>14.757</td>\n",
       "      <td>3</td>\n",
       "    </tr>\n",
       "  </tbody>\n",
       "</table>\n",
       "</div>"
      ],
      "text/plain": [
       "                 time    PING  SK_PI\n",
       "0 2019-01-18 23:59:11  14.612      3\n",
       "1 2019-01-18 23:59:17  14.638      3\n",
       "2 2019-01-18 23:59:21  14.760      3\n",
       "3 2019-01-18 23:59:27  14.755      3\n",
       "4 2019-01-18 23:59:31  14.631      3\n",
       "5 2019-01-18 23:59:37  14.712      3\n",
       "6 2019-01-18 23:59:41  14.728      3\n",
       "7 2019-01-18 23:59:47  14.766      3\n",
       "8 2019-01-18 23:59:51  14.623      3\n",
       "9 2019-01-18 23:59:57  14.757      3"
      ]
     },
     "execution_count": 5,
     "metadata": {},
     "output_type": "execute_result"
    }
   ],
   "source": [
    "query_ping = \"SELECT PING,SK_PI FROM PING WHERE SK_PI='3' ORDER BY time  DESC LIMIT 10 ;\"\n",
    "ping_df = get_dataframe_from_influxdb(client_df=client_df,query_influx=query_ping,table_name='PING')\n",
    "ping_df"
   ]
  },
  {
   "cell_type": "markdown",
   "metadata": {},
   "source": [
    "Let's compare with what we have in MS SQL database:"
   ]
  },
  {
   "cell_type": "code",
   "execution_count": 6,
   "metadata": {},
   "outputs": [
    {
     "data": {
      "text/html": [
       "<div>\n",
       "<style>\n",
       "    .dataframe thead tr:only-child th {\n",
       "        text-align: right;\n",
       "    }\n",
       "\n",
       "    .dataframe thead th {\n",
       "        text-align: left;\n",
       "    }\n",
       "\n",
       "    .dataframe tbody tr th {\n",
       "        vertical-align: top;\n",
       "    }\n",
       "</style>\n",
       "<table border=\"1\" class=\"dataframe\">\n",
       "  <thead>\n",
       "    <tr style=\"text-align: right;\">\n",
       "      <th></th>\n",
       "      <th>DATA_DATE</th>\n",
       "      <th>PING</th>\n",
       "      <th>SK_PI</th>\n",
       "      <th>CONNTRACK</th>\n",
       "    </tr>\n",
       "  </thead>\n",
       "  <tbody>\n",
       "    <tr>\n",
       "      <th>0</th>\n",
       "      <td>2019-01-19 23:59:59.400</td>\n",
       "      <td>NaN</td>\n",
       "      <td>3</td>\n",
       "      <td>15</td>\n",
       "    </tr>\n",
       "    <tr>\n",
       "      <th>1</th>\n",
       "      <td>2019-01-19 23:59:57.397</td>\n",
       "      <td>14.669</td>\n",
       "      <td>3</td>\n",
       "      <td>15</td>\n",
       "    </tr>\n",
       "    <tr>\n",
       "      <th>2</th>\n",
       "      <td>2019-01-19 23:59:55.397</td>\n",
       "      <td>NaN</td>\n",
       "      <td>3</td>\n",
       "      <td>15</td>\n",
       "    </tr>\n",
       "    <tr>\n",
       "      <th>3</th>\n",
       "      <td>2019-01-19 23:59:53.393</td>\n",
       "      <td>14.765</td>\n",
       "      <td>3</td>\n",
       "      <td>15</td>\n",
       "    </tr>\n",
       "    <tr>\n",
       "      <th>4</th>\n",
       "      <td>2019-01-19 23:59:51.390</td>\n",
       "      <td>NaN</td>\n",
       "      <td>3</td>\n",
       "      <td>15</td>\n",
       "    </tr>\n",
       "    <tr>\n",
       "      <th>5</th>\n",
       "      <td>2019-01-19 23:59:49.390</td>\n",
       "      <td>NaN</td>\n",
       "      <td>3</td>\n",
       "      <td>16</td>\n",
       "    </tr>\n",
       "    <tr>\n",
       "      <th>6</th>\n",
       "      <td>2019-01-19 23:59:47.387</td>\n",
       "      <td>14.633</td>\n",
       "      <td>3</td>\n",
       "      <td>16</td>\n",
       "    </tr>\n",
       "    <tr>\n",
       "      <th>7</th>\n",
       "      <td>2019-01-19 23:59:45.387</td>\n",
       "      <td>NaN</td>\n",
       "      <td>3</td>\n",
       "      <td>16</td>\n",
       "    </tr>\n",
       "    <tr>\n",
       "      <th>8</th>\n",
       "      <td>2019-01-19 23:59:43.383</td>\n",
       "      <td>14.657</td>\n",
       "      <td>3</td>\n",
       "      <td>17</td>\n",
       "    </tr>\n",
       "    <tr>\n",
       "      <th>9</th>\n",
       "      <td>2019-01-19 23:59:41.380</td>\n",
       "      <td>NaN</td>\n",
       "      <td>3</td>\n",
       "      <td>19</td>\n",
       "    </tr>\n",
       "  </tbody>\n",
       "</table>\n",
       "</div>"
      ],
      "text/plain": [
       "                DATA_DATE    PING  SK_PI  CONNTRACK\n",
       "0 2019-01-19 23:59:59.400     NaN      3         15\n",
       "1 2019-01-19 23:59:57.397  14.669      3         15\n",
       "2 2019-01-19 23:59:55.397     NaN      3         15\n",
       "3 2019-01-19 23:59:53.393  14.765      3         15\n",
       "4 2019-01-19 23:59:51.390     NaN      3         15\n",
       "5 2019-01-19 23:59:49.390     NaN      3         16\n",
       "6 2019-01-19 23:59:47.387  14.633      3         16\n",
       "7 2019-01-19 23:59:45.387     NaN      3         16\n",
       "8 2019-01-19 23:59:43.383  14.657      3         17\n",
       "9 2019-01-19 23:59:41.380     NaN      3         19"
      ]
     },
     "execution_count": 6,
     "metadata": {},
     "output_type": "execute_result"
    }
   ],
   "source": [
    "cnxn = connect_to_mssql()\n",
    "sql = \"SELECT TOP 10 DATA_DATE, PING, SK_PI,CONNTRACK FROM FCT_PI WHERE SK_PI='3' ORDER BY DATA_DATE DESC;\"\n",
    "pd.read_sql(sql,cnxn)"
   ]
  },
  {
   "cell_type": "markdown",
   "metadata": {},
   "source": [
    "Pings are coming every 4-6 seconds."
   ]
  },
  {
   "cell_type": "markdown",
   "metadata": {},
   "source": [
    "Checking statistics for number of packets dropped:"
   ]
  },
  {
   "cell_type": "code",
   "execution_count": 7,
   "metadata": {},
   "outputs": [
    {
     "data": {
      "text/html": [
       "<div>\n",
       "<style>\n",
       "    .dataframe thead tr:only-child th {\n",
       "        text-align: right;\n",
       "    }\n",
       "\n",
       "    .dataframe thead th {\n",
       "        text-align: left;\n",
       "    }\n",
       "\n",
       "    .dataframe tbody tr th {\n",
       "        vertical-align: top;\n",
       "    }\n",
       "</style>\n",
       "<table border=\"1\" class=\"dataframe\">\n",
       "  <thead>\n",
       "    <tr style=\"text-align: right;\">\n",
       "      <th></th>\n",
       "      <th>time</th>\n",
       "      <th>distinct</th>\n",
       "    </tr>\n",
       "  </thead>\n",
       "  <tbody>\n",
       "    <tr>\n",
       "      <th>0</th>\n",
       "      <td>1970-01-01</td>\n",
       "      <td>0</td>\n",
       "    </tr>\n",
       "    <tr>\n",
       "      <th>1</th>\n",
       "      <td>1970-01-01</td>\n",
       "      <td>100</td>\n",
       "    </tr>\n",
       "  </tbody>\n",
       "</table>\n",
       "</div>"
      ],
      "text/plain": [
       "        time  distinct\n",
       "0 1970-01-01         0\n",
       "1 1970-01-01       100"
      ]
     },
     "execution_count": 7,
     "metadata": {},
     "output_type": "execute_result"
    }
   ],
   "source": [
    "query_ping = \"SELECT DISTINCT(PING_DROPRATE) from PING;\"\n",
    "ping_df = get_dataframe_from_influxdb(client_df=client_df,query_influx=query_ping,table_name='PING')\n",
    "ping_df"
   ]
  },
  {
   "cell_type": "markdown",
   "metadata": {},
   "source": [
    "Lets see what is the value of *PING* measurment when *PING_DROPRATE* is equal to 100:"
   ]
  },
  {
   "cell_type": "code",
   "execution_count": 8,
   "metadata": {},
   "outputs": [
    {
     "data": {
      "text/html": [
       "<div>\n",
       "<style>\n",
       "    .dataframe thead tr:only-child th {\n",
       "        text-align: right;\n",
       "    }\n",
       "\n",
       "    .dataframe thead th {\n",
       "        text-align: left;\n",
       "    }\n",
       "\n",
       "    .dataframe tbody tr th {\n",
       "        vertical-align: top;\n",
       "    }\n",
       "</style>\n",
       "<table border=\"1\" class=\"dataframe\">\n",
       "  <thead>\n",
       "    <tr style=\"text-align: right;\">\n",
       "      <th></th>\n",
       "      <th>time</th>\n",
       "      <th>PING</th>\n",
       "      <th>PING_DROPRATE</th>\n",
       "    </tr>\n",
       "  </thead>\n",
       "  <tbody>\n",
       "    <tr>\n",
       "      <th>0</th>\n",
       "      <td>2019-01-18 23:57:55</td>\n",
       "      <td>0</td>\n",
       "      <td>100</td>\n",
       "    </tr>\n",
       "    <tr>\n",
       "      <th>1</th>\n",
       "      <td>2019-01-18 23:57:58</td>\n",
       "      <td>0</td>\n",
       "      <td>100</td>\n",
       "    </tr>\n",
       "    <tr>\n",
       "      <th>2</th>\n",
       "      <td>2019-01-18 23:58:12</td>\n",
       "      <td>0</td>\n",
       "      <td>100</td>\n",
       "    </tr>\n",
       "    <tr>\n",
       "      <th>3</th>\n",
       "      <td>2019-01-18 23:59:12</td>\n",
       "      <td>0</td>\n",
       "      <td>100</td>\n",
       "    </tr>\n",
       "    <tr>\n",
       "      <th>4</th>\n",
       "      <td>2019-01-18 23:59:42</td>\n",
       "      <td>0</td>\n",
       "      <td>100</td>\n",
       "    </tr>\n",
       "  </tbody>\n",
       "</table>\n",
       "</div>"
      ],
      "text/plain": [
       "                 time  PING  PING_DROPRATE\n",
       "0 2019-01-18 23:57:55     0            100\n",
       "1 2019-01-18 23:57:58     0            100\n",
       "2 2019-01-18 23:58:12     0            100\n",
       "3 2019-01-18 23:59:12     0            100\n",
       "4 2019-01-18 23:59:42     0            100"
      ]
     },
     "execution_count": 8,
     "metadata": {},
     "output_type": "execute_result"
    }
   ],
   "source": [
    "query_ping = \"SELECT PING, PING_DROPRATE FROM PING WHERE PING_DROPRATE=100 ORDER BY time DESC LIMIT 5;\"\n",
    "ping_df = get_dataframe_from_influxdb(client_df=client_df,query_influx=query_ping,table_name='PING')\n",
    "ping_df"
   ]
  },
  {
   "cell_type": "markdown",
   "metadata": {},
   "source": [
    "*PING* is equal to 0 when PING_DROPRATE=100, its importatnt to note."
   ]
  },
  {
   "cell_type": "markdown",
   "metadata": {},
   "source": [
    "## Number of datapoints per device"
   ]
  },
  {
   "cell_type": "markdown",
   "metadata": {},
   "source": [
    "Getting device numbers(tags SK_PI):"
   ]
  },
  {
   "cell_type": "code",
   "execution_count": 9,
   "metadata": {},
   "outputs": [
    {
     "name": "stdout",
     "output_type": "stream",
     "text": [
      "[1, 2, 3, 4, 5, 6, 7, 8, 9, 10, 11, 12, 13, 14, 15, 16, 17, 18]\n"
     ]
    }
   ],
   "source": [
    "device_numbers=get_tag_values_influxdb(client_influx=client,table_name='PING', tag_name='SK_PI')\n",
    "device_numbers=list(map(int, device_numbers))\n",
    "device_numbers= sorted(device_numbers)\n",
    "print(device_numbers)"
   ]
  },
  {
   "cell_type": "markdown",
   "metadata": {},
   "source": [
    "Getting number of data points per device for the entire period of time."
   ]
  },
  {
   "cell_type": "code",
   "execution_count": 10,
   "metadata": {
    "collapsed": true
   },
   "outputs": [],
   "source": [
    "query_ping_counts = 'SELECT COUNT(PING) FROM PING GROUP BY SK_PI;'\n",
    "ping_counts=get_stats_influxdb(client_influx=client,\n",
    "                               query_influx=query_ping_counts,\n",
    "                               stat_name='count',\n",
    "                               device_numbers=device_numbers)"
   ]
  },
  {
   "cell_type": "markdown",
   "metadata": {},
   "source": [
    "Plotting device numbers and number of data points. "
   ]
  },
  {
   "cell_type": "code",
   "execution_count": 11,
   "metadata": {},
   "outputs": [
    {
     "data": {
      "application/vnd.plotly.v1+json": {
       "data": [
        {
         "marker": {
          "color": "F3C300"
         },
         "name": "ping datapoints",
         "type": "bar",
         "x": [
          1,
          2,
          3,
          4,
          5,
          6,
          7,
          8,
          9,
          10,
          11,
          12,
          13,
          14,
          15,
          16,
          17,
          18
         ],
         "y": [
          7025,
          397617,
          935245,
          674108,
          175987,
          84990,
          1076108,
          137579,
          849362,
          539314,
          849306,
          852091,
          285,
          6905,
          767341,
          748776,
          427297,
          352988
         ]
        }
       ],
       "layout": {
        "barmode": "stack",
        "title": "Number of data points per device",
        "xaxis": {
         "title": "Device Number"
        },
        "yaxis": {
         "title": "Number of datapoints"
        }
       }
      },
      "text/html": [
       "<div id=\"ebd19fbf-4d78-4ff1-97ad-07398d3b9336\" style=\"height: 525px; width: 100%;\" class=\"plotly-graph-div\"></div><script type=\"text/javascript\">require([\"plotly\"], function(Plotly) { window.PLOTLYENV=window.PLOTLYENV || {};window.PLOTLYENV.BASE_URL=\"https://plot.ly\";Plotly.newPlot(\"ebd19fbf-4d78-4ff1-97ad-07398d3b9336\", [{\"type\": \"bar\", \"x\": [1, 2, 3, 4, 5, 6, 7, 8, 9, 10, 11, 12, 13, 14, 15, 16, 17, 18], \"y\": [7025, 397617, 935245, 674108, 175987, 84990, 1076108, 137579, 849362, 539314, 849306, 852091, 285, 6905, 767341, 748776, 427297, 352988], \"marker\": {\"color\": \"F3C300\"}, \"name\": \"ping datapoints\"}], {\"barmode\": \"stack\", \"title\": \"Number of data points per device\", \"xaxis\": {\"title\": \"Device Number\"}, \"yaxis\": {\"title\": \"Number of datapoints\"}}, {\"showLink\": true, \"linkText\": \"Export to plot.ly\"})});</script>"
      ],
      "text/vnd.plotly.v1+html": [
       "<div id=\"ebd19fbf-4d78-4ff1-97ad-07398d3b9336\" style=\"height: 525px; width: 100%;\" class=\"plotly-graph-div\"></div><script type=\"text/javascript\">require([\"plotly\"], function(Plotly) { window.PLOTLYENV=window.PLOTLYENV || {};window.PLOTLYENV.BASE_URL=\"https://plot.ly\";Plotly.newPlot(\"ebd19fbf-4d78-4ff1-97ad-07398d3b9336\", [{\"type\": \"bar\", \"x\": [1, 2, 3, 4, 5, 6, 7, 8, 9, 10, 11, 12, 13, 14, 15, 16, 17, 18], \"y\": [7025, 397617, 935245, 674108, 175987, 84990, 1076108, 137579, 849362, 539314, 849306, 852091, 285, 6905, 767341, 748776, 427297, 352988], \"marker\": {\"color\": \"F3C300\"}, \"name\": \"ping datapoints\"}], {\"barmode\": \"stack\", \"title\": \"Number of data points per device\", \"xaxis\": {\"title\": \"Device Number\"}, \"yaxis\": {\"title\": \"Number of datapoints\"}}, {\"showLink\": true, \"linkText\": \"Export to plot.ly\"})});</script>"
      ]
     },
     "metadata": {},
     "output_type": "display_data"
    }
   ],
   "source": [
    "simple_bar_plot(xvalues=device_numbers,\n",
    "                yvalues=ping_counts,\n",
    "                name=\"ping datapoints\",\n",
    "                title=\"Number of data points per device\",\n",
    "                ytitle=\"Number of datapoints\")"
   ]
  },
  {
   "cell_type": "markdown",
   "metadata": {},
   "source": [
    "Some of the devices have small number of datapoints, may be they are just installed? Lets check how many dataponts came in last 4 weeks."
   ]
  },
  {
   "cell_type": "markdown",
   "metadata": {},
   "source": [
    "Getting number of datapoints per device in last 4 weeks and list of the devices that have data for this period of time(not all of the have)."
   ]
  },
  {
   "cell_type": "code",
   "execution_count": 12,
   "metadata": {
    "collapsed": true
   },
   "outputs": [],
   "source": [
    "#query_ping_counts_dec = \"SELECT COUNT(PING) FROM PING WHERE time >= '2018-12-01 00:00:00' GROUP BY SK_PI ;\"\n",
    "query_ping_counts_time = \"SELECT COUNT(PING) FROM PING WHERE time >= now()-\"+time_interval+\" GROUP BY SK_PI ;\"\n",
    "ping_counts_time = get_stats_influxdb(client_influx=client,\n",
    "                                      query_influx=query_ping_counts_time,\n",
    "                                      stat_name='count',\n",
    "                                      device_numbers=device_numbers)"
   ]
  },
  {
   "cell_type": "markdown",
   "metadata": {},
   "source": [
    "Plotting combined barchart - entire number of datapoints vs number of datapoints in last 4 weeks."
   ]
  },
  {
   "cell_type": "code",
   "execution_count": 13,
   "metadata": {},
   "outputs": [
    {
     "data": {
      "application/vnd.plotly.v1+json": {
       "data": [
        {
         "marker": {
          "color": "F3C300"
         },
         "name": "Last 4w",
         "type": "bar",
         "x": [
          1,
          2,
          3,
          4,
          5,
          6,
          7,
          8,
          9,
          10,
          11,
          12,
          13,
          14,
          15,
          16,
          17,
          18
         ],
         "y": [
          0,
          0,
          446997,
          0,
          0,
          0,
          446978,
          65297,
          446996,
          122043,
          446997,
          446997,
          0,
          0,
          446996,
          446997,
          248696,
          248696
         ]
        },
        {
         "marker": {
          "color": "875692"
         },
         "name": "The rest of the time",
         "type": "bar",
         "x": [
          1,
          2,
          3,
          4,
          5,
          6,
          7,
          8,
          9,
          10,
          11,
          12,
          13,
          14,
          15,
          16,
          17,
          18
         ],
         "y": [
          7025,
          397617,
          488248,
          674108,
          175987,
          84990,
          629130,
          72282,
          402366,
          417271,
          402309,
          405094,
          285,
          6905,
          320345,
          301779,
          178601,
          104292
         ]
        }
       ],
       "layout": {
        "barmode": "stack",
        "title": "Comparing number of datapoints in last 4w vs entire time",
        "xaxis": {
         "title": "Device Number"
        },
        "yaxis": {
         "title": "Number of datapoints"
        }
       }
      },
      "text/html": [
       "<div id=\"ada92b90-a6e5-474d-9624-7bcd8759d401\" style=\"height: 525px; width: 100%;\" class=\"plotly-graph-div\"></div><script type=\"text/javascript\">require([\"plotly\"], function(Plotly) { window.PLOTLYENV=window.PLOTLYENV || {};window.PLOTLYENV.BASE_URL=\"https://plot.ly\";Plotly.newPlot(\"ada92b90-a6e5-474d-9624-7bcd8759d401\", [{\"type\": \"bar\", \"x\": [1, 2, 3, 4, 5, 6, 7, 8, 9, 10, 11, 12, 13, 14, 15, 16, 17, 18], \"y\": [0, 0, 446997, 0, 0, 0, 446978, 65297, 446996, 122043, 446997, 446997, 0, 0, 446996, 446997, 248696, 248696], \"marker\": {\"color\": \"F3C300\"}, \"name\": \"Last 4w\"}, {\"type\": \"bar\", \"x\": [1, 2, 3, 4, 5, 6, 7, 8, 9, 10, 11, 12, 13, 14, 15, 16, 17, 18], \"y\": [7025, 397617, 488248, 674108, 175987, 84990, 629130, 72282, 402366, 417271, 402309, 405094, 285, 6905, 320345, 301779, 178601, 104292], \"marker\": {\"color\": \"875692\"}, \"name\": \"The rest of the time\"}], {\"barmode\": \"stack\", \"title\": \"Comparing number of datapoints in last 4w vs entire time\", \"xaxis\": {\"title\": \"Device Number\"}, \"yaxis\": {\"title\": \"Number of datapoints\"}}, {\"showLink\": true, \"linkText\": \"Export to plot.ly\"})});</script>"
      ],
      "text/vnd.plotly.v1+html": [
       "<div id=\"ada92b90-a6e5-474d-9624-7bcd8759d401\" style=\"height: 525px; width: 100%;\" class=\"plotly-graph-div\"></div><script type=\"text/javascript\">require([\"plotly\"], function(Plotly) { window.PLOTLYENV=window.PLOTLYENV || {};window.PLOTLYENV.BASE_URL=\"https://plot.ly\";Plotly.newPlot(\"ada92b90-a6e5-474d-9624-7bcd8759d401\", [{\"type\": \"bar\", \"x\": [1, 2, 3, 4, 5, 6, 7, 8, 9, 10, 11, 12, 13, 14, 15, 16, 17, 18], \"y\": [0, 0, 446997, 0, 0, 0, 446978, 65297, 446996, 122043, 446997, 446997, 0, 0, 446996, 446997, 248696, 248696], \"marker\": {\"color\": \"F3C300\"}, \"name\": \"Last 4w\"}, {\"type\": \"bar\", \"x\": [1, 2, 3, 4, 5, 6, 7, 8, 9, 10, 11, 12, 13, 14, 15, 16, 17, 18], \"y\": [7025, 397617, 488248, 674108, 175987, 84990, 629130, 72282, 402366, 417271, 402309, 405094, 285, 6905, 320345, 301779, 178601, 104292], \"marker\": {\"color\": \"875692\"}, \"name\": \"The rest of the time\"}], {\"barmode\": \"stack\", \"title\": \"Comparing number of datapoints in last 4w vs entire time\", \"xaxis\": {\"title\": \"Device Number\"}, \"yaxis\": {\"title\": \"Number of datapoints\"}}, {\"showLink\": true, \"linkText\": \"Export to plot.ly\"})});</script>"
      ]
     },
     "metadata": {},
     "output_type": "display_data"
    }
   ],
   "source": [
    "combined_bar_plot_2traces(xvalues=device_numbers,\n",
    "                          yvalues1=ping_counts_time,\n",
    "                          yvalues2=[a - b for a, b in zip(ping_counts, ping_counts_time)],\n",
    "                          name1='Last '+time_interval,\n",
    "                          name2='The rest of the time',\n",
    "                          title=\"Comparing number of datapoints in last \"+time_interval+\" vs entire time\",\n",
    "                          ytitle=\"Number of datapoints\")"
   ]
  },
  {
   "cell_type": "markdown",
   "metadata": {},
   "source": [
    "Devices 1,2,4,5,6,8 and possibly 13 and 14 need to be double checked. Looks like they have started reporting and then stopped. Let's check last reporting time for every device."
   ]
  },
  {
   "cell_type": "code",
   "execution_count": 14,
   "metadata": {
    "collapsed": true
   },
   "outputs": [],
   "source": [
    "query_ping_last = \"SELECT LAST(PING), time FROM PING GROUP BY SK_PI;\"\n",
    "result_ping_last=get_stats_influxdb(client_influx=client,\n",
    "                               query_influx=query_ping_last,\n",
    "                               stat_name='time',\n",
    "                               device_numbers=device_numbers)"
   ]
  },
  {
   "cell_type": "code",
   "execution_count": 15,
   "metadata": {
    "collapsed": true
   },
   "outputs": [],
   "source": [
    "query_ping_first = \"SELECT FIRST(PING), time FROM PING GROUP BY SK_PI;\"\n",
    "result_ping_first=get_stats_influxdb(client_influx=client,\n",
    "                               query_influx=query_ping_first,\n",
    "                               stat_name='time',\n",
    "                               device_numbers=device_numbers)"
   ]
  },
  {
   "cell_type": "code",
   "execution_count": 16,
   "metadata": {},
   "outputs": [
    {
     "name": "stdout",
     "output_type": "stream",
     "text": [
      "Collectd reporting times:\n",
      "Device:  1   was reporting from  2018-10-10 14:16:15  to  2018-10-11 15:46:31\n",
      "Device:  2   was reporting from  2018-10-11 15:27:46  to  2018-11-06 19:16:32\n",
      "Device:  3   was reporting from  2018-10-11 15:27:46  to  2019-01-18 23:59:57\n",
      "Device:  4   was reporting from  2018-10-11 15:27:46  to  2018-12-05 22:53:02\n",
      "Device:  5   was reporting from  2018-10-11 15:27:46  to  2018-11-05 21:32:30\n",
      "Device:  6   was reporting from  2018-10-11 15:27:46  to  2018-10-31 14:55:00\n",
      "Device:  7   was reporting from  2018-11-11 00:00:03  to  2019-01-18 23:59:58\n",
      "Device:  8   was reporting from  2018-10-11 15:27:46  to  2019-01-14 14:27:00\n",
      "Device:  9   was reporting from  2018-10-11 15:27:46  to  2019-01-18 23:59:54\n",
      "Device:  10   was reporting from  2018-10-11 15:27:46  to  2018-12-31 04:39:59\n",
      "Device:  11   was reporting from  2018-10-11 15:27:46  to  2019-01-18 23:59:55\n",
      "Device:  12   was reporting from  2018-10-11 15:27:46  to  2019-01-19 00:00:00\n",
      "Device:  13   was reporting from  2018-10-11 15:27:46  to  2018-12-04 20:27:05\n",
      "Device:  14   was reporting from  2018-10-11 15:27:46  to  2018-12-06 02:12:27\n",
      "Device:  15   was reporting from  2018-10-11 15:27:46  to  2019-01-18 23:59:54\n",
      "Device:  16   was reporting from  2018-10-11 15:27:46  to  2019-01-18 23:59:58\n",
      "Device:  17   was reporting from  2018-10-11 15:27:46  to  2019-01-07 12:46:58\n",
      "Device:  18   was reporting from  2018-10-11 15:27:46  to  2019-01-07 12:46:58\n"
     ]
    },
    {
     "data": {
      "application/vnd.plotly.v1+json": {
       "data": [
        {
         "marker": {
          "color": "F2F3F4"
         },
         "name": 1,
         "type": "scatter",
         "x": [
          "2018-10-10 14:16:15",
          "2018-10-11 15:46:31"
         ],
         "y": [
          1,
          1
         ]
        },
        {
         "marker": {
          "color": "222222"
         },
         "name": 2,
         "type": "scatter",
         "x": [
          "2018-10-11 15:27:46",
          "2018-11-06 19:16:32"
         ],
         "y": [
          2,
          2
         ]
        },
        {
         "marker": {
          "color": "F3C300"
         },
         "name": 3,
         "type": "scatter",
         "x": [
          "2018-10-11 15:27:46",
          "2019-01-18 23:59:57"
         ],
         "y": [
          3,
          3
         ]
        },
        {
         "marker": {
          "color": "875692"
         },
         "name": 4,
         "type": "scatter",
         "x": [
          "2018-10-11 15:27:46",
          "2018-12-05 22:53:02"
         ],
         "y": [
          4,
          4
         ]
        },
        {
         "marker": {
          "color": "F38400"
         },
         "name": 5,
         "type": "scatter",
         "x": [
          "2018-10-11 15:27:46",
          "2018-11-05 21:32:30"
         ],
         "y": [
          5,
          5
         ]
        },
        {
         "marker": {
          "color": "A1CAF1"
         },
         "name": 6,
         "type": "scatter",
         "x": [
          "2018-10-11 15:27:46",
          "2018-10-31 14:55:00"
         ],
         "y": [
          6,
          6
         ]
        },
        {
         "marker": {
          "color": "BE0032"
         },
         "name": 7,
         "type": "scatter",
         "x": [
          "2018-11-11 00:00:03",
          "2019-01-18 23:59:58"
         ],
         "y": [
          7,
          7
         ]
        },
        {
         "marker": {
          "color": "C2B280"
         },
         "name": 8,
         "type": "scatter",
         "x": [
          "2018-10-11 15:27:46",
          "2019-01-14 14:27:00"
         ],
         "y": [
          8,
          8
         ]
        },
        {
         "marker": {
          "color": "848482"
         },
         "name": 9,
         "type": "scatter",
         "x": [
          "2018-10-11 15:27:46",
          "2019-01-18 23:59:54"
         ],
         "y": [
          9,
          9
         ]
        },
        {
         "marker": {
          "color": "008856"
         },
         "name": 10,
         "type": "scatter",
         "x": [
          "2018-10-11 15:27:46",
          "2018-12-31 04:39:59"
         ],
         "y": [
          10,
          10
         ]
        },
        {
         "marker": {
          "color": "E68FAC"
         },
         "name": 11,
         "type": "scatter",
         "x": [
          "2018-10-11 15:27:46",
          "2019-01-18 23:59:55"
         ],
         "y": [
          11,
          11
         ]
        },
        {
         "marker": {
          "color": "0067A5"
         },
         "name": 12,
         "type": "scatter",
         "x": [
          "2018-10-11 15:27:46",
          "2019-01-19 00:00:00"
         ],
         "y": [
          12,
          12
         ]
        },
        {
         "marker": {
          "color": "F99379"
         },
         "name": 13,
         "type": "scatter",
         "x": [
          "2018-10-11 15:27:46",
          "2018-12-04 20:27:05"
         ],
         "y": [
          13,
          13
         ]
        },
        {
         "marker": {
          "color": "604E97"
         },
         "name": 14,
         "type": "scatter",
         "x": [
          "2018-10-11 15:27:46",
          "2018-12-06 02:12:27"
         ],
         "y": [
          14,
          14
         ]
        },
        {
         "marker": {
          "color": "F6A600"
         },
         "name": 15,
         "type": "scatter",
         "x": [
          "2018-10-11 15:27:46",
          "2019-01-18 23:59:54"
         ],
         "y": [
          15,
          15
         ]
        },
        {
         "marker": {
          "color": "B3446C"
         },
         "name": 16,
         "type": "scatter",
         "x": [
          "2018-10-11 15:27:46",
          "2019-01-18 23:59:58"
         ],
         "y": [
          16,
          16
         ]
        },
        {
         "marker": {
          "color": "DCD300"
         },
         "name": 17,
         "type": "scatter",
         "x": [
          "2018-10-11 15:27:46",
          "2019-01-07 12:46:58"
         ],
         "y": [
          17,
          17
         ]
        },
        {
         "marker": {
          "color": "882D17"
         },
         "name": 18,
         "type": "scatter",
         "x": [
          "2018-10-11 15:27:46",
          "2019-01-07 12:46:58"
         ],
         "y": [
          18,
          18
         ]
        }
       ],
       "layout": {
        "title": "Device reporting times(collectd)",
        "xaxis": {
         "title": "Time"
        },
        "yaxis": {
         "title": "Device Number"
        }
       }
      },
      "text/html": [
       "<div id=\"c75a71dd-8f4c-456a-aebf-f3662313ffc7\" style=\"height: 525px; width: 100%;\" class=\"plotly-graph-div\"></div><script type=\"text/javascript\">require([\"plotly\"], function(Plotly) { window.PLOTLYENV=window.PLOTLYENV || {};window.PLOTLYENV.BASE_URL=\"https://plot.ly\";Plotly.newPlot(\"c75a71dd-8f4c-456a-aebf-f3662313ffc7\", [{\"type\": \"scatter\", \"x\": [\"2018-10-10 14:16:15\", \"2018-10-11 15:46:31\"], \"y\": [1, 1], \"name\": 1, \"marker\": {\"color\": \"F2F3F4\"}}, {\"type\": \"scatter\", \"x\": [\"2018-10-11 15:27:46\", \"2018-11-06 19:16:32\"], \"y\": [2, 2], \"name\": 2, \"marker\": {\"color\": \"222222\"}}, {\"type\": \"scatter\", \"x\": [\"2018-10-11 15:27:46\", \"2019-01-18 23:59:57\"], \"y\": [3, 3], \"name\": 3, \"marker\": {\"color\": \"F3C300\"}}, {\"type\": \"scatter\", \"x\": [\"2018-10-11 15:27:46\", \"2018-12-05 22:53:02\"], \"y\": [4, 4], \"name\": 4, \"marker\": {\"color\": \"875692\"}}, {\"type\": \"scatter\", \"x\": [\"2018-10-11 15:27:46\", \"2018-11-05 21:32:30\"], \"y\": [5, 5], \"name\": 5, \"marker\": {\"color\": \"F38400\"}}, {\"type\": \"scatter\", \"x\": [\"2018-10-11 15:27:46\", \"2018-10-31 14:55:00\"], \"y\": [6, 6], \"name\": 6, \"marker\": {\"color\": \"A1CAF1\"}}, {\"type\": \"scatter\", \"x\": [\"2018-11-11 00:00:03\", \"2019-01-18 23:59:58\"], \"y\": [7, 7], \"name\": 7, \"marker\": {\"color\": \"BE0032\"}}, {\"type\": \"scatter\", \"x\": [\"2018-10-11 15:27:46\", \"2019-01-14 14:27:00\"], \"y\": [8, 8], \"name\": 8, \"marker\": {\"color\": \"C2B280\"}}, {\"type\": \"scatter\", \"x\": [\"2018-10-11 15:27:46\", \"2019-01-18 23:59:54\"], \"y\": [9, 9], \"name\": 9, \"marker\": {\"color\": \"848482\"}}, {\"type\": \"scatter\", \"x\": [\"2018-10-11 15:27:46\", \"2018-12-31 04:39:59\"], \"y\": [10, 10], \"name\": 10, \"marker\": {\"color\": \"008856\"}}, {\"type\": \"scatter\", \"x\": [\"2018-10-11 15:27:46\", \"2019-01-18 23:59:55\"], \"y\": [11, 11], \"name\": 11, \"marker\": {\"color\": \"E68FAC\"}}, {\"type\": \"scatter\", \"x\": [\"2018-10-11 15:27:46\", \"2019-01-19 00:00:00\"], \"y\": [12, 12], \"name\": 12, \"marker\": {\"color\": \"0067A5\"}}, {\"type\": \"scatter\", \"x\": [\"2018-10-11 15:27:46\", \"2018-12-04 20:27:05\"], \"y\": [13, 13], \"name\": 13, \"marker\": {\"color\": \"F99379\"}}, {\"type\": \"scatter\", \"x\": [\"2018-10-11 15:27:46\", \"2018-12-06 02:12:27\"], \"y\": [14, 14], \"name\": 14, \"marker\": {\"color\": \"604E97\"}}, {\"type\": \"scatter\", \"x\": [\"2018-10-11 15:27:46\", \"2019-01-18 23:59:54\"], \"y\": [15, 15], \"name\": 15, \"marker\": {\"color\": \"F6A600\"}}, {\"type\": \"scatter\", \"x\": [\"2018-10-11 15:27:46\", \"2019-01-18 23:59:58\"], \"y\": [16, 16], \"name\": 16, \"marker\": {\"color\": \"B3446C\"}}, {\"type\": \"scatter\", \"x\": [\"2018-10-11 15:27:46\", \"2019-01-07 12:46:58\"], \"y\": [17, 17], \"name\": 17, \"marker\": {\"color\": \"DCD300\"}}, {\"type\": \"scatter\", \"x\": [\"2018-10-11 15:27:46\", \"2019-01-07 12:46:58\"], \"y\": [18, 18], \"name\": 18, \"marker\": {\"color\": \"882D17\"}}], {\"title\": \"Device reporting times(collectd)\", \"xaxis\": {\"title\": \"Time\"}, \"yaxis\": {\"title\": \"Device Number\"}}, {\"showLink\": true, \"linkText\": \"Export to plot.ly\"})});</script>"
      ],
      "text/vnd.plotly.v1+html": [
       "<div id=\"c75a71dd-8f4c-456a-aebf-f3662313ffc7\" style=\"height: 525px; width: 100%;\" class=\"plotly-graph-div\"></div><script type=\"text/javascript\">require([\"plotly\"], function(Plotly) { window.PLOTLYENV=window.PLOTLYENV || {};window.PLOTLYENV.BASE_URL=\"https://plot.ly\";Plotly.newPlot(\"c75a71dd-8f4c-456a-aebf-f3662313ffc7\", [{\"type\": \"scatter\", \"x\": [\"2018-10-10 14:16:15\", \"2018-10-11 15:46:31\"], \"y\": [1, 1], \"name\": 1, \"marker\": {\"color\": \"F2F3F4\"}}, {\"type\": \"scatter\", \"x\": [\"2018-10-11 15:27:46\", \"2018-11-06 19:16:32\"], \"y\": [2, 2], \"name\": 2, \"marker\": {\"color\": \"222222\"}}, {\"type\": \"scatter\", \"x\": [\"2018-10-11 15:27:46\", \"2019-01-18 23:59:57\"], \"y\": [3, 3], \"name\": 3, \"marker\": {\"color\": \"F3C300\"}}, {\"type\": \"scatter\", \"x\": [\"2018-10-11 15:27:46\", \"2018-12-05 22:53:02\"], \"y\": [4, 4], \"name\": 4, \"marker\": {\"color\": \"875692\"}}, {\"type\": \"scatter\", \"x\": [\"2018-10-11 15:27:46\", \"2018-11-05 21:32:30\"], \"y\": [5, 5], \"name\": 5, \"marker\": {\"color\": \"F38400\"}}, {\"type\": \"scatter\", \"x\": [\"2018-10-11 15:27:46\", \"2018-10-31 14:55:00\"], \"y\": [6, 6], \"name\": 6, \"marker\": {\"color\": \"A1CAF1\"}}, {\"type\": \"scatter\", \"x\": [\"2018-11-11 00:00:03\", \"2019-01-18 23:59:58\"], \"y\": [7, 7], \"name\": 7, \"marker\": {\"color\": \"BE0032\"}}, {\"type\": \"scatter\", \"x\": [\"2018-10-11 15:27:46\", \"2019-01-14 14:27:00\"], \"y\": [8, 8], \"name\": 8, \"marker\": {\"color\": \"C2B280\"}}, {\"type\": \"scatter\", \"x\": [\"2018-10-11 15:27:46\", \"2019-01-18 23:59:54\"], \"y\": [9, 9], \"name\": 9, \"marker\": {\"color\": \"848482\"}}, {\"type\": \"scatter\", \"x\": [\"2018-10-11 15:27:46\", \"2018-12-31 04:39:59\"], \"y\": [10, 10], \"name\": 10, \"marker\": {\"color\": \"008856\"}}, {\"type\": \"scatter\", \"x\": [\"2018-10-11 15:27:46\", \"2019-01-18 23:59:55\"], \"y\": [11, 11], \"name\": 11, \"marker\": {\"color\": \"E68FAC\"}}, {\"type\": \"scatter\", \"x\": [\"2018-10-11 15:27:46\", \"2019-01-19 00:00:00\"], \"y\": [12, 12], \"name\": 12, \"marker\": {\"color\": \"0067A5\"}}, {\"type\": \"scatter\", \"x\": [\"2018-10-11 15:27:46\", \"2018-12-04 20:27:05\"], \"y\": [13, 13], \"name\": 13, \"marker\": {\"color\": \"F99379\"}}, {\"type\": \"scatter\", \"x\": [\"2018-10-11 15:27:46\", \"2018-12-06 02:12:27\"], \"y\": [14, 14], \"name\": 14, \"marker\": {\"color\": \"604E97\"}}, {\"type\": \"scatter\", \"x\": [\"2018-10-11 15:27:46\", \"2019-01-18 23:59:54\"], \"y\": [15, 15], \"name\": 15, \"marker\": {\"color\": \"F6A600\"}}, {\"type\": \"scatter\", \"x\": [\"2018-10-11 15:27:46\", \"2019-01-18 23:59:58\"], \"y\": [16, 16], \"name\": 16, \"marker\": {\"color\": \"B3446C\"}}, {\"type\": \"scatter\", \"x\": [\"2018-10-11 15:27:46\", \"2019-01-07 12:46:58\"], \"y\": [17, 17], \"name\": 17, \"marker\": {\"color\": \"DCD300\"}}, {\"type\": \"scatter\", \"x\": [\"2018-10-11 15:27:46\", \"2019-01-07 12:46:58\"], \"y\": [18, 18], \"name\": 18, \"marker\": {\"color\": \"882D17\"}}], {\"title\": \"Device reporting times(collectd)\", \"xaxis\": {\"title\": \"Time\"}, \"yaxis\": {\"title\": \"Device Number\"}}, {\"showLink\": true, \"linkText\": \"Export to plot.ly\"})});</script>"
      ]
     },
     "metadata": {},
     "output_type": "display_data"
    }
   ],
   "source": [
    "print(\"Collectd reporting times:\")\n",
    "data=[]\n",
    "for i in range(len(device_numbers)):\n",
    "    try:\n",
    "        result_ping_first[i] = dateutil.parser.parse(result_ping_first[i]).strftime('%Y-%m-%d %H:%M:%S')\n",
    "    except:\n",
    "        result_ping_first[i]=None\n",
    "    try:\n",
    "        result_ping_last[i] = dateutil.parser.parse(result_ping_last[i]).strftime('%Y-%m-%d %H:%M:%S')\n",
    "    except:\n",
    "        result_ping_last[i]=None\n",
    "    print(\"Device: \", device_numbers[i],\"  was reporting from \", result_ping_first[i], \" to \",result_ping_last[i])\n",
    "    trace = go.Scatter(x=[result_ping_first[i],result_ping_last[i]],y=[device_numbers[i],device_numbers[i]], \n",
    "                       name = device_numbers[i],marker=dict(color=colors[i]))\n",
    "    data.append(trace)\n",
    "layout = dict(title = \"Device reporting times(collectd)\",xaxis=dict(title=\"Time\"),\n",
    "        yaxis=dict(title=\"Device Number\"))\n",
    "fig = go.Figure(data=data, layout=layout)\n",
    "iplot(fig)"
   ]
  },
  {
   "cell_type": "markdown",
   "metadata": {},
   "source": [
    "Something is happening with devices  1,2,4,5,6,8,13 and 14. They stopped reporting - does it need to be investigated?"
   ]
  },
  {
   "cell_type": "markdown",
   "metadata": {},
   "source": [
    "## Ping latency "
   ]
  },
  {
   "cell_type": "markdown",
   "metadata": {},
   "source": [
    "What is normal ping latency? From [this link](https://www.pingman.com/kb/article/what-s-normal-for-latency-and-packet-loss-42.html):\n",
    "\n",
    ">There are two normal factors that significantly influence the latency of a consumer device (like a cable modem, dsl modem or dial-up modem).\n",
    "\n",
    ">The latency of the connecting device. For a cable modem, this can normally be between 5 and 40 ms. For a DSL modem this is normally 10 to 70ms. For a dial-up modem, this is normally anywhere from 100 to 220ms. For a cellular link, this can be from 200 to 600 ms. For a T1, this is normally 0 to 10 ms.\n",
    "The distance the data is traveling. Data travels at (very roughly) 120,000 miles (or 192,000 kilometers) per second, or 120 miles (192 km) per ms (millisecond) over a network connection. With traceroute, we have to send the data there and back again, so roughly 1 ms of latency is added for every 60 miles (96km, although with the level of accuracy we're using here, we should say '100km') of distance between you and the target.\n",
    "Connecting to a web site across 1500 miles (2400 km) of distance is going to add at least 25 ms to the latency. Normally, it's more like 75 after the data zig-zags around a bit and goes through numerous routers.\n",
    "\n",
    ">This means that a DSL modem on the west coast of the United States, tracing to a server on the east coast of the United States should expect somewhere around 120 ms (depending on the route and a number of other factors, but this is a rough ballpark) - 25 ms for the DSL modem and 100 ms for the distance. Tracing across an ocean, or through a satellite link, or some other link where the distance is further will certainly impact the expected latency more.\n",
    "\n"
   ]
  },
  {
   "cell_type": "markdown",
   "metadata": {},
   "source": [
    "Let's check actual ping latency numbers in last 4 weeks:"
   ]
  },
  {
   "cell_type": "code",
   "execution_count": 17,
   "metadata": {
    "collapsed": true
   },
   "outputs": [],
   "source": [
    "#query_ping_max_dec = \"SELECT MAX(PING), MEAN(PING) FROM PING WHERE time >= '2018-12-01 00:00:00' GROUP BY SK_PI;\"\n",
    "#time_interval='4w'\n",
    "query_ping_stats_time = \"SELECT MAX(PING), MEAN(PING), MEDIAN(PING) FROM PING WHERE PING!=0 AND time >= now()-\"+\\\n",
    "                         time_interval+\" GROUP BY SK_PI;\"\n",
    "result_ping_stats=get_3_stats_influxdb(client_influx=client,\n",
    "                                       query_influx=query_ping_stats_time,\n",
    "                                       stat_name1='max',\n",
    "                                       stat_name2='mean',\n",
    "                                       stat_name3='median',\n",
    "                                       device_numbers=device_numbers)"
   ]
  },
  {
   "cell_type": "markdown",
   "metadata": {},
   "source": [
    "Plotting mean and max ping latency results for every reporting result in December."
   ]
  },
  {
   "cell_type": "code",
   "execution_count": 18,
   "metadata": {},
   "outputs": [
    {
     "data": {
      "application/vnd.plotly.v1+json": {
       "data": [
        {
         "marker": {
          "color": "F3C300"
         },
         "name": "Max",
         "type": "bar",
         "x": [
          3,
          7,
          8,
          9,
          10,
          11,
          12,
          15,
          16,
          17,
          18
         ],
         "y": [
          108.257,
          898.413,
          87.63,
          686.282,
          183.26,
          69.222,
          890.666,
          137.011,
          900.973,
          832.237,
          813.922
         ]
        },
        {
         "marker": {
          "color": "875692"
         },
         "name": "Mean",
         "type": "bar",
         "x": [
          3,
          7,
          8,
          9,
          10,
          11,
          12,
          15,
          16,
          17,
          18
         ],
         "y": [
          14.794862471587345,
          38.233798984552486,
          29.42818952446608,
          36.290326407942295,
          45.97565219762606,
          27.878124573936788,
          27.573690654733905,
          35.01343112767678,
          62.57729936724232,
          47.91747020134926,
          49.240816503199454
         ]
        },
        {
         "marker": {
          "color": "F38400"
         },
         "name": "Median",
         "type": "bar",
         "x": [
          3,
          7,
          8,
          9,
          10,
          11,
          12,
          15,
          16,
          17,
          18
         ],
         "y": [
          14.72,
          33.572,
          29.365,
          32.592,
          44.685,
          27.61,
          25.111,
          35.005,
          37.8,
          43.954,
          44.523
         ]
        }
       ],
       "layout": {
        "title": "Maximum, mean and median ping delay in miliseconds for the last 4w",
        "xaxis": {
         "title": "Device Number"
        },
        "yaxis": {
         "title": "Miliseconds"
        }
       }
      },
      "text/html": [
       "<div id=\"ae63d311-f7f0-454d-834e-85a6a869540a\" style=\"height: 525px; width: 100%;\" class=\"plotly-graph-div\"></div><script type=\"text/javascript\">require([\"plotly\"], function(Plotly) { window.PLOTLYENV=window.PLOTLYENV || {};window.PLOTLYENV.BASE_URL=\"https://plot.ly\";Plotly.newPlot(\"ae63d311-f7f0-454d-834e-85a6a869540a\", [{\"type\": \"bar\", \"x\": [3, 7, 8, 9, 10, 11, 12, 15, 16, 17, 18], \"y\": [108.257, 898.413, 87.63, 686.282, 183.26, 69.222, 890.666, 137.011, 900.973, 832.237, 813.922], \"marker\": {\"color\": \"F3C300\"}, \"name\": \"Max\"}, {\"type\": \"bar\", \"x\": [3, 7, 8, 9, 10, 11, 12, 15, 16, 17, 18], \"y\": [14.794862471587345, 38.233798984552486, 29.42818952446608, 36.290326407942295, 45.97565219762606, 27.878124573936788, 27.573690654733905, 35.01343112767678, 62.57729936724232, 47.91747020134926, 49.240816503199454], \"marker\": {\"color\": \"875692\"}, \"name\": \"Mean\"}, {\"type\": \"bar\", \"x\": [3, 7, 8, 9, 10, 11, 12, 15, 16, 17, 18], \"y\": [14.72, 33.572, 29.365, 32.592, 44.685, 27.61, 25.111, 35.005, 37.8, 43.954, 44.523], \"marker\": {\"color\": \"F38400\"}, \"name\": \"Median\"}], {\"title\": \"Maximum, mean and median ping delay in miliseconds for the last 4w\", \"xaxis\": {\"title\": \"Device Number\"}, \"yaxis\": {\"title\": \"Miliseconds\"}}, {\"showLink\": true, \"linkText\": \"Export to plot.ly\"})});</script>"
      ],
      "text/vnd.plotly.v1+html": [
       "<div id=\"ae63d311-f7f0-454d-834e-85a6a869540a\" style=\"height: 525px; width: 100%;\" class=\"plotly-graph-div\"></div><script type=\"text/javascript\">require([\"plotly\"], function(Plotly) { window.PLOTLYENV=window.PLOTLYENV || {};window.PLOTLYENV.BASE_URL=\"https://plot.ly\";Plotly.newPlot(\"ae63d311-f7f0-454d-834e-85a6a869540a\", [{\"type\": \"bar\", \"x\": [3, 7, 8, 9, 10, 11, 12, 15, 16, 17, 18], \"y\": [108.257, 898.413, 87.63, 686.282, 183.26, 69.222, 890.666, 137.011, 900.973, 832.237, 813.922], \"marker\": {\"color\": \"F3C300\"}, \"name\": \"Max\"}, {\"type\": \"bar\", \"x\": [3, 7, 8, 9, 10, 11, 12, 15, 16, 17, 18], \"y\": [14.794862471587345, 38.233798984552486, 29.42818952446608, 36.290326407942295, 45.97565219762606, 27.878124573936788, 27.573690654733905, 35.01343112767678, 62.57729936724232, 47.91747020134926, 49.240816503199454], \"marker\": {\"color\": \"875692\"}, \"name\": \"Mean\"}, {\"type\": \"bar\", \"x\": [3, 7, 8, 9, 10, 11, 12, 15, 16, 17, 18], \"y\": [14.72, 33.572, 29.365, 32.592, 44.685, 27.61, 25.111, 35.005, 37.8, 43.954, 44.523], \"marker\": {\"color\": \"F38400\"}, \"name\": \"Median\"}], {\"title\": \"Maximum, mean and median ping delay in miliseconds for the last 4w\", \"xaxis\": {\"title\": \"Device Number\"}, \"yaxis\": {\"title\": \"Miliseconds\"}}, {\"showLink\": true, \"linkText\": \"Export to plot.ly\"})});</script>"
      ]
     },
     "metadata": {},
     "output_type": "display_data"
    }
   ],
   "source": [
    "combined_bar_plot_3traces(xvalues=result_ping_stats[\"SK_PI\"],\n",
    "                         yvalues1=result_ping_stats[\"max\"],\n",
    "                         yvalues2=result_ping_stats[\"mean\"],\n",
    "                         yvalues3=result_ping_stats[\"median\"],\n",
    "                         name1=\"Max\",\n",
    "                         name2=\"Mean\",\n",
    "                         name3=\"Median\",\n",
    "                         title=\"Maximum, mean and median ping delay in miliseconds for the last \"+time_interval,\n",
    "                         stack=False)"
   ]
  },
  {
   "cell_type": "markdown",
   "metadata": {},
   "source": [
    "Device 16 has the highest mean and highest max.Devices 7,10,12,17 and 18 have large ping delays as well."
   ]
  },
  {
   "cell_type": "markdown",
   "metadata": {},
   "source": [
    "### Ping latency grouped by duration\n",
    "Lets divide ping latencies into 3 groups:\n",
    " - group1:  1-40Ms delay\n",
    " - group2:  41-100Ms delay\n",
    " - group3:  101+Ms delay  \n",
    " And calculate percentages of ping latencies in each group for every device:"
   ]
  },
  {
   "cell_type": "code",
   "execution_count": 19,
   "metadata": {
    "collapsed": true
   },
   "outputs": [],
   "source": [
    "range1=40\n",
    "range2=100\n",
    "#time_interval='4w'"
   ]
  },
  {
   "cell_type": "code",
   "execution_count": 20,
   "metadata": {
    "collapsed": true
   },
   "outputs": [],
   "source": [
    "query_ping_group1 = \"SELECT COUNT(PING) FROM PING WHERE PING > 0 AND PING < \"+str(range1+1)+\\\n",
    "                   \" AND time >= now()-\"+time_interval+\" GROUP BY SK_PI;\"\n",
    "ping_group1_time  = get_stats_influxdb(client_influx=client,\n",
    "                                      query_influx=query_ping_group1,\n",
    "                                      stat_name='count',\n",
    "                                      device_numbers=device_numbers)"
   ]
  },
  {
   "cell_type": "code",
   "execution_count": 21,
   "metadata": {
    "collapsed": true
   },
   "outputs": [],
   "source": [
    "query_ping_group2 = \"SELECT COUNT(PING) FROM PING WHERE PING > \"+str(range1)+\\\n",
    "                   \" AND PING < \"+str(range2+1)+\" AND time >= now()-\"+time_interval+\" GROUP BY SK_PI;\"\n",
    "ping_group2_time = get_stats_influxdb(client_influx=client,\n",
    "                                      query_influx=query_ping_group2,\n",
    "                                      stat_name='count',\n",
    "                                      device_numbers=device_numbers)"
   ]
  },
  {
   "cell_type": "code",
   "execution_count": 22,
   "metadata": {
    "collapsed": true
   },
   "outputs": [],
   "source": [
    "query_ping_group3= \"SELECT COUNT(PING) FROM PING WHERE PING > \"+str(range2+1)+\" AND  time >= now()-\"+\\\n",
    "                   time_interval+\" GROUP BY SK_PI;\"\n",
    "ping_group3_time = get_stats_influxdb(client_influx=client,\n",
    "                                      query_influx=query_ping_group3,\n",
    "                                      stat_name='count',\n",
    "                                      device_numbers=device_numbers)"
   ]
  },
  {
   "cell_type": "code",
   "execution_count": 23,
   "metadata": {
    "scrolled": false
   },
   "outputs": [
    {
     "data": {
      "application/vnd.plotly.v1+json": {
       "data": [
        {
         "marker": {
          "color": "F3C300"
         },
         "name": "Number of pings with 1-40Ms delay",
         "type": "bar",
         "x": [
          1,
          2,
          3,
          4,
          5,
          6,
          7,
          8,
          9,
          10,
          11,
          12,
          13,
          14,
          15,
          16,
          17,
          18
         ],
         "y": [
          0,
          0,
          446632,
          0,
          0,
          0,
          397669,
          65222,
          401285,
          0,
          445895,
          423699,
          0,
          0,
          446847,
          379322,
          0,
          0
         ]
        },
        {
         "marker": {
          "color": "875692"
         },
         "name": "Number of pings with 41-100Ms delay",
         "type": "bar",
         "x": [
          1,
          2,
          3,
          4,
          5,
          6,
          7,
          8,
          9,
          10,
          11,
          12,
          13,
          14,
          15,
          16,
          17,
          18
         ],
         "y": [
          0,
          0,
          384,
          0,
          0,
          0,
          47011,
          84,
          38953,
          115430,
          850,
          18663,
          0,
          0,
          147,
          17331,
          245764,
          245516
         ]
        },
        {
         "marker": {
          "color": "F38400"
         },
         "name": "Number of pings with 101+Ms delay",
         "type": "bar",
         "x": [
          1,
          2,
          3,
          4,
          5,
          6,
          7,
          8,
          9,
          10,
          11,
          12,
          13,
          14,
          15,
          16,
          17,
          18
         ],
         "y": [
          0,
          0,
          1,
          0,
          0,
          0,
          6037,
          0,
          4751,
          77,
          0,
          1513,
          0,
          0,
          3,
          41652,
          1910,
          2031
         ]
        }
       ],
       "layout": {
        "barmode": "stack",
        "title": "Ping latency grouped by duration in the last4w",
        "xaxis": {
         "title": "Device Number"
        },
        "yaxis": {
         "title": "Number of datapoints"
        }
       }
      },
      "text/html": [
       "<div id=\"a400bea0-06ce-4bef-a307-6e83dac79c68\" style=\"height: 525px; width: 100%;\" class=\"plotly-graph-div\"></div><script type=\"text/javascript\">require([\"plotly\"], function(Plotly) { window.PLOTLYENV=window.PLOTLYENV || {};window.PLOTLYENV.BASE_URL=\"https://plot.ly\";Plotly.newPlot(\"a400bea0-06ce-4bef-a307-6e83dac79c68\", [{\"type\": \"bar\", \"x\": [1, 2, 3, 4, 5, 6, 7, 8, 9, 10, 11, 12, 13, 14, 15, 16, 17, 18], \"y\": [0, 0, 446632, 0, 0, 0, 397669, 65222, 401285, 0, 445895, 423699, 0, 0, 446847, 379322, 0, 0], \"marker\": {\"color\": \"F3C300\"}, \"name\": \"Number of pings with 1-40Ms delay\"}, {\"type\": \"bar\", \"x\": [1, 2, 3, 4, 5, 6, 7, 8, 9, 10, 11, 12, 13, 14, 15, 16, 17, 18], \"y\": [0, 0, 384, 0, 0, 0, 47011, 84, 38953, 115430, 850, 18663, 0, 0, 147, 17331, 245764, 245516], \"marker\": {\"color\": \"875692\"}, \"name\": \"Number of pings with 41-100Ms delay\"}, {\"type\": \"bar\", \"x\": [1, 2, 3, 4, 5, 6, 7, 8, 9, 10, 11, 12, 13, 14, 15, 16, 17, 18], \"y\": [0, 0, 1, 0, 0, 0, 6037, 0, 4751, 77, 0, 1513, 0, 0, 3, 41652, 1910, 2031], \"marker\": {\"color\": \"F38400\"}, \"name\": \"Number of pings with 101+Ms delay\"}], {\"title\": \"Ping latency grouped by duration in the last4w\", \"xaxis\": {\"title\": \"Device Number\"}, \"yaxis\": {\"title\": \"Number of datapoints\"}, \"barmode\": \"stack\"}, {\"showLink\": true, \"linkText\": \"Export to plot.ly\"})});</script>"
      ],
      "text/vnd.plotly.v1+html": [
       "<div id=\"a400bea0-06ce-4bef-a307-6e83dac79c68\" style=\"height: 525px; width: 100%;\" class=\"plotly-graph-div\"></div><script type=\"text/javascript\">require([\"plotly\"], function(Plotly) { window.PLOTLYENV=window.PLOTLYENV || {};window.PLOTLYENV.BASE_URL=\"https://plot.ly\";Plotly.newPlot(\"a400bea0-06ce-4bef-a307-6e83dac79c68\", [{\"type\": \"bar\", \"x\": [1, 2, 3, 4, 5, 6, 7, 8, 9, 10, 11, 12, 13, 14, 15, 16, 17, 18], \"y\": [0, 0, 446632, 0, 0, 0, 397669, 65222, 401285, 0, 445895, 423699, 0, 0, 446847, 379322, 0, 0], \"marker\": {\"color\": \"F3C300\"}, \"name\": \"Number of pings with 1-40Ms delay\"}, {\"type\": \"bar\", \"x\": [1, 2, 3, 4, 5, 6, 7, 8, 9, 10, 11, 12, 13, 14, 15, 16, 17, 18], \"y\": [0, 0, 384, 0, 0, 0, 47011, 84, 38953, 115430, 850, 18663, 0, 0, 147, 17331, 245764, 245516], \"marker\": {\"color\": \"875692\"}, \"name\": \"Number of pings with 41-100Ms delay\"}, {\"type\": \"bar\", \"x\": [1, 2, 3, 4, 5, 6, 7, 8, 9, 10, 11, 12, 13, 14, 15, 16, 17, 18], \"y\": [0, 0, 1, 0, 0, 0, 6037, 0, 4751, 77, 0, 1513, 0, 0, 3, 41652, 1910, 2031], \"marker\": {\"color\": \"F38400\"}, \"name\": \"Number of pings with 101+Ms delay\"}], {\"title\": \"Ping latency grouped by duration in the last4w\", \"xaxis\": {\"title\": \"Device Number\"}, \"yaxis\": {\"title\": \"Number of datapoints\"}, \"barmode\": \"stack\"}, {\"showLink\": true, \"linkText\": \"Export to plot.ly\"})});</script>"
      ]
     },
     "metadata": {},
     "output_type": "display_data"
    }
   ],
   "source": [
    "combined_bar_plot_3traces(xvalues=device_numbers,\n",
    "                         yvalues1=ping_group1_time,\n",
    "                         yvalues2=ping_group2_time,\n",
    "                         yvalues3=ping_group3_time,\n",
    "                         name1=\"Number of pings with 1-\"+str(range1)+\"Ms delay\",\n",
    "                         name2=\"Number of pings with \"+str(range1+1)+\"-\"+str(range2)+\"Ms delay\",\n",
    "                         name3=\"Number of pings with \"+str(range2+1)+\"+Ms delay\",\n",
    "                         title=\"Ping latency grouped by duration in the last\"+time_interval,\n",
    "                         ytitle=\"Number of datapoints\")"
   ]
  },
  {
   "cell_type": "markdown",
   "metadata": {
    "collapsed": true
   },
   "source": [
    "## Ping droprate \n",
    "We will calculate the etite number of packets dropped by device using formula:SUM(PING_DROPRATE)/100"
   ]
  },
  {
   "cell_type": "code",
   "execution_count": 24,
   "metadata": {
    "collapsed": true
   },
   "outputs": [],
   "source": [
    "query_pingdroprate_mean_time= \"SELECT MEAN(PING_DROPRATE) FROM PING WHERE  time >= now()-\"+time_interval+\"  GROUP BY SK_PI;\"\n",
    "pingdroprate_mean_time=get_stats_influxdb(client_influx=client,\n",
    "                               query_influx=query_pingdroprate_mean_time,\n",
    "                               stat_name='mean',\n",
    "                               device_numbers=device_numbers)"
   ]
  },
  {
   "cell_type": "code",
   "execution_count": 25,
   "metadata": {},
   "outputs": [
    {
     "data": {
      "application/vnd.plotly.v1+json": {
       "data": [
        {
         "marker": {
          "color": "F3C300"
         },
         "name": "Mean",
         "type": "bar",
         "x": [
          1,
          2,
          3,
          4,
          5,
          6,
          7,
          8,
          9,
          10,
          11,
          12,
          13,
          14,
          15,
          16,
          17,
          18
         ],
         "y": [
          0,
          0,
          0.002684617811096868,
          0,
          0,
          0,
          0.32664238475788193,
          0.0030629278527344287,
          0.8492360008053872,
          5.3516556454190125,
          0.10425265833092837,
          1.0127720692362934,
          0,
          0,
          0.0053692476341752615,
          2.277227058262918,
          0.4089428605894889,
          0.45960834774216897
         ]
        }
       ],
       "layout": {
        "barmode": "stack",
        "title": "Average percentage of ping droprate per device in the last 4w",
        "xaxis": {
         "title": "Device Number"
        },
        "yaxis": {
         "title": "Percent"
        }
       }
      },
      "text/html": [
       "<div id=\"c58447eb-0413-441d-aa9c-81afeef3d805\" style=\"height: 525px; width: 100%;\" class=\"plotly-graph-div\"></div><script type=\"text/javascript\">require([\"plotly\"], function(Plotly) { window.PLOTLYENV=window.PLOTLYENV || {};window.PLOTLYENV.BASE_URL=\"https://plot.ly\";Plotly.newPlot(\"c58447eb-0413-441d-aa9c-81afeef3d805\", [{\"type\": \"bar\", \"x\": [1, 2, 3, 4, 5, 6, 7, 8, 9, 10, 11, 12, 13, 14, 15, 16, 17, 18], \"y\": [0, 0, 0.002684617811096868, 0, 0, 0, 0.32664238475788193, 0.0030629278527344287, 0.8492360008053872, 5.3516556454190125, 0.10425265833092837, 1.0127720692362934, 0, 0, 0.0053692476341752615, 2.277227058262918, 0.4089428605894889, 0.45960834774216897], \"marker\": {\"color\": \"F3C300\"}, \"name\": \"Mean\"}], {\"barmode\": \"stack\", \"title\": \"Average percentage of ping droprate per device in the last 4w\", \"xaxis\": {\"title\": \"Device Number\"}, \"yaxis\": {\"title\": \"Percent\"}}, {\"showLink\": true, \"linkText\": \"Export to plot.ly\"})});</script>"
      ],
      "text/vnd.plotly.v1+html": [
       "<div id=\"c58447eb-0413-441d-aa9c-81afeef3d805\" style=\"height: 525px; width: 100%;\" class=\"plotly-graph-div\"></div><script type=\"text/javascript\">require([\"plotly\"], function(Plotly) { window.PLOTLYENV=window.PLOTLYENV || {};window.PLOTLYENV.BASE_URL=\"https://plot.ly\";Plotly.newPlot(\"c58447eb-0413-441d-aa9c-81afeef3d805\", [{\"type\": \"bar\", \"x\": [1, 2, 3, 4, 5, 6, 7, 8, 9, 10, 11, 12, 13, 14, 15, 16, 17, 18], \"y\": [0, 0, 0.002684617811096868, 0, 0, 0, 0.32664238475788193, 0.0030629278527344287, 0.8492360008053872, 5.3516556454190125, 0.10425265833092837, 1.0127720692362934, 0, 0, 0.0053692476341752615, 2.277227058262918, 0.4089428605894889, 0.45960834774216897], \"marker\": {\"color\": \"F3C300\"}, \"name\": \"Mean\"}], {\"barmode\": \"stack\", \"title\": \"Average percentage of ping droprate per device in the last 4w\", \"xaxis\": {\"title\": \"Device Number\"}, \"yaxis\": {\"title\": \"Percent\"}}, {\"showLink\": true, \"linkText\": \"Export to plot.ly\"})});</script>"
      ]
     },
     "metadata": {},
     "output_type": "display_data"
    }
   ],
   "source": [
    "simple_bar_plot(xvalues=device_numbers,\n",
    "                yvalues=pingdroprate_mean_time,\n",
    "                name=\"Mean\",\n",
    "                title=\"Average percentage of ping droprate per device in the last \"+time_interval,\n",
    "                ytitle=\"Percent\")"
   ]
  },
  {
   "cell_type": "markdown",
   "metadata": {},
   "source": [
    "Device 10 has the highest mean - highst percentage of packets dropped - more than 6%."
   ]
  },
  {
   "cell_type": "code",
   "execution_count": 26,
   "metadata": {},
   "outputs": [],
   "source": [
    "query_pingdroprate_counts_time = \"SELECT COUNT(PING_DROPRATE) FROM PING WHERE time >= now()-\"+time_interval+\\\n",
    "                                 \" AND PING_DROPRATE>0 GROUP BY SK_PI ;\"\n",
    "pingdroprate_counts_time=get_stats_influxdb(client_influx=client,\n",
    "                               query_influx=query_pingdroprate_counts_time,\n",
    "                               stat_name='count',\n",
    "                               device_numbers=device_numbers)"
   ]
  },
  {
   "cell_type": "code",
   "execution_count": 27,
   "metadata": {
    "collapsed": true
   },
   "outputs": [],
   "source": [
    "query_ping_counts_time = \"SELECT COUNT(PING) FROM PING WHERE time >= now()-\"+time_interval+\" GROUP BY SK_PI ;\"\n",
    "ping_counts_time = get_stats_influxdb(client_influx=client,\n",
    "                                      query_influx=query_ping_counts_time,\n",
    "                                      stat_name='count',\n",
    "                                      device_numbers=device_numbers)"
   ]
  },
  {
   "cell_type": "code",
   "execution_count": 28,
   "metadata": {},
   "outputs": [
    {
     "name": "stdout",
     "output_type": "stream",
     "text": [
      "[0, 0, 12, 0, 0, 0, 1460, 2, 3796, 6531, 466, 4527, 0, 0, 24, 10179, 1017, 1143]\n",
      "[0, 0, 446978, 0, 0, 0, 445511, 65295, 443194, 115505, 446524, 442464, 0, 0, 446966, 436811, 247673, 247546]\n"
     ]
    }
   ],
   "source": [
    "print(pingdroprate_counts_time)\n",
    "print([a - b for a, b in zip(ping_counts_time, pingdroprate_counts_time)])"
   ]
  },
  {
   "cell_type": "code",
   "execution_count": 29,
   "metadata": {},
   "outputs": [
    {
     "data": {
      "application/vnd.plotly.v1+json": {
       "data": [
        {
         "marker": {
          "color": "F3C300"
         },
         "name": "Number of pings dropped",
         "type": "bar",
         "x": [
          1,
          2,
          3,
          4,
          5,
          6,
          7,
          8,
          9,
          10,
          11,
          12,
          13,
          14,
          15,
          16,
          17,
          18
         ],
         "y": [
          0,
          0,
          12,
          0,
          0,
          0,
          1460,
          2,
          3796,
          6531,
          466,
          4527,
          0,
          0,
          24,
          10179,
          1017,
          1143
         ]
        },
        {
         "marker": {
          "color": "875692"
         },
         "name": "Number of pings delievered",
         "type": "bar",
         "x": [
          1,
          2,
          3,
          4,
          5,
          6,
          7,
          8,
          9,
          10,
          11,
          12,
          13,
          14,
          15,
          16,
          17,
          18
         ],
         "y": [
          0,
          0,
          446978,
          0,
          0,
          0,
          445511,
          65295,
          443194,
          115505,
          446524,
          442464,
          0,
          0,
          446966,
          436811,
          247673,
          247546
         ]
        }
       ],
       "layout": {
        "barmode": "stack",
        "title": "Ping droprate(actual number) in the last 4w",
        "xaxis": {
         "title": "Device Number"
        },
        "yaxis": {
         "title": "Number of datapoints"
        }
       }
      },
      "text/html": [
       "<div id=\"f152ccc1-2e1b-4818-a6f4-7db82ef42af1\" style=\"height: 525px; width: 100%;\" class=\"plotly-graph-div\"></div><script type=\"text/javascript\">require([\"plotly\"], function(Plotly) { window.PLOTLYENV=window.PLOTLYENV || {};window.PLOTLYENV.BASE_URL=\"https://plot.ly\";Plotly.newPlot(\"f152ccc1-2e1b-4818-a6f4-7db82ef42af1\", [{\"type\": \"bar\", \"x\": [1, 2, 3, 4, 5, 6, 7, 8, 9, 10, 11, 12, 13, 14, 15, 16, 17, 18], \"y\": [0, 0, 12, 0, 0, 0, 1460, 2, 3796, 6531, 466, 4527, 0, 0, 24, 10179, 1017, 1143], \"marker\": {\"color\": \"F3C300\"}, \"name\": \"Number of pings dropped\"}, {\"type\": \"bar\", \"x\": [1, 2, 3, 4, 5, 6, 7, 8, 9, 10, 11, 12, 13, 14, 15, 16, 17, 18], \"y\": [0, 0, 446978, 0, 0, 0, 445511, 65295, 443194, 115505, 446524, 442464, 0, 0, 446966, 436811, 247673, 247546], \"marker\": {\"color\": \"875692\"}, \"name\": \"Number of pings delievered\"}], {\"barmode\": \"stack\", \"title\": \"Ping droprate(actual number) in the last 4w\", \"xaxis\": {\"title\": \"Device Number\"}, \"yaxis\": {\"title\": \"Number of datapoints\"}}, {\"showLink\": true, \"linkText\": \"Export to plot.ly\"})});</script>"
      ],
      "text/vnd.plotly.v1+html": [
       "<div id=\"f152ccc1-2e1b-4818-a6f4-7db82ef42af1\" style=\"height: 525px; width: 100%;\" class=\"plotly-graph-div\"></div><script type=\"text/javascript\">require([\"plotly\"], function(Plotly) { window.PLOTLYENV=window.PLOTLYENV || {};window.PLOTLYENV.BASE_URL=\"https://plot.ly\";Plotly.newPlot(\"f152ccc1-2e1b-4818-a6f4-7db82ef42af1\", [{\"type\": \"bar\", \"x\": [1, 2, 3, 4, 5, 6, 7, 8, 9, 10, 11, 12, 13, 14, 15, 16, 17, 18], \"y\": [0, 0, 12, 0, 0, 0, 1460, 2, 3796, 6531, 466, 4527, 0, 0, 24, 10179, 1017, 1143], \"marker\": {\"color\": \"F3C300\"}, \"name\": \"Number of pings dropped\"}, {\"type\": \"bar\", \"x\": [1, 2, 3, 4, 5, 6, 7, 8, 9, 10, 11, 12, 13, 14, 15, 16, 17, 18], \"y\": [0, 0, 446978, 0, 0, 0, 445511, 65295, 443194, 115505, 446524, 442464, 0, 0, 446966, 436811, 247673, 247546], \"marker\": {\"color\": \"875692\"}, \"name\": \"Number of pings delievered\"}], {\"barmode\": \"stack\", \"title\": \"Ping droprate(actual number) in the last 4w\", \"xaxis\": {\"title\": \"Device Number\"}, \"yaxis\": {\"title\": \"Number of datapoints\"}}, {\"showLink\": true, \"linkText\": \"Export to plot.ly\"})});</script>"
      ]
     },
     "metadata": {},
     "output_type": "display_data"
    }
   ],
   "source": [
    "combined_bar_plot_2traces(xvalues=device_numbers,\n",
    "                          yvalues1=pingdroprate_counts_time,\n",
    "                          yvalues2=[a - b for a, b in zip(ping_counts_time, pingdroprate_counts_time)],\n",
    "                          name1='Number of pings dropped',\n",
    "                          name2='Number of pings delievered',\n",
    "                          title=\"Ping droprate(actual number) in the last \"+time_interval,\n",
    "                          ytitle=\"Number of datapoints\")"
   ]
  },
  {
   "cell_type": "markdown",
   "metadata": {},
   "source": [
    "Device #10 and device #16  have the largest number of packets dropped."
   ]
  },
  {
   "cell_type": "code",
   "execution_count": 30,
   "metadata": {
    "collapsed": true
   },
   "outputs": [],
   "source": [
    "#trace = go.Pie(labels=device_numbers, values=device_dropped_counts)\n",
    "#data=[trace]\n",
    "#layout = go.Layout(\n",
    "#        title=\"Total number of packets dropped by device\"\n",
    "#    )\n",
    "#fig = go.Figure(data=data, layout=layout)\n",
    "#iplot(fig)"
   ]
  }
 ],
 "metadata": {
  "kernelspec": {
   "display_name": "Python 3",
   "language": "python",
   "name": "python3"
  },
  "language_info": {
   "codemirror_mode": {
    "name": "ipython",
    "version": 3
   },
   "file_extension": ".py",
   "mimetype": "text/x-python",
   "name": "python",
   "nbconvert_exporter": "python",
   "pygments_lexer": "ipython3",
   "version": "3.6.3"
  },
  "nbTranslate": {
   "displayLangs": [
    "*"
   ],
   "hotkey": "alt-t",
   "langInMainMenu": true,
   "sourceLang": "en",
   "targetLang": "fr",
   "useGoogleTranslate": true
  }
 },
 "nbformat": 4,
 "nbformat_minor": 2
}
