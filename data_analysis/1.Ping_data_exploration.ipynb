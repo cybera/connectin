{
 "cells": [
  {
   "cell_type": "markdown",
   "metadata": {},
   "source": [
    "# Ping data exploration"
   ]
  },
  {
   "cell_type": "markdown",
   "metadata": {},
   "source": [
    "## How data is  collected\n",
    "Ping data is collected every 5 seconds doing single pings to 8.8.8.8\n",
    "\n",
    "**Example**:\n",
    ">$ ping -c 1 8.8.8.8  \n",
    ">PING 8.8.8.8 (8.8.8.8): 56 data bytes  \n",
    ">64 bytes from 8.8.8.8: icmp_seq=0 ttl=119 **time=22.985 ms**  \n",
    ">--- 8.8.8.8 ping statistics ---  \n",
    ">1 packets transmitted, 1 packets received, **0.0% packet loss**  \n",
    ">round-trip min/**avg**/max/**stddev** = 22.985/22.985/**22.985**/**0.000** ms  "
   ]
  },
  {
   "cell_type": "markdown",
   "metadata": {},
   "source": [
    "Data being collected:\n",
    " - **Ping latency** (in miliseconds, 22.985 ms in the example)\n",
    " - __Percentage of packets dropped__  (0.0% in the example, can be only 0% or 100%, data collected for single pings) \n",
    " - **Standart deviation (for latency)**  - always 0 for single pings\n"
   ]
  },
  {
   "cell_type": "markdown",
   "metadata": {},
   "source": [
    "## How data looks like\n",
    "Load libraries:"
   ]
  },
  {
   "cell_type": "code",
   "execution_count": 1,
   "metadata": {},
   "outputs": [
    {
     "data": {
      "text/html": [
       "<script>requirejs.config({paths: { 'plotly': ['https://cdn.plot.ly/plotly-latest.min']},});if(!window.Plotly) {{require(['plotly'],function(plotly) {window.Plotly=plotly;});}}</script>"
      ],
      "text/vnd.plotly.v1+html": [
       "<script>requirejs.config({paths: { 'plotly': ['https://cdn.plot.ly/plotly-latest.min']},});if(!window.Plotly) {{require(['plotly'],function(plotly) {window.Plotly=plotly;});}}</script>"
      ]
     },
     "metadata": {},
     "output_type": "display_data"
    }
   ],
   "source": [
    "from data_exploration import *"
   ]
  },
  {
   "cell_type": "code",
   "execution_count": 2,
   "metadata": {},
   "outputs": [],
   "source": [
    "import pyodbc\n",
    "def connect_to_mssql():\n",
    "    with open('../credentials.json', 'r') as f_credentials:\n",
    "        credentials_config = json.load(f_credentials)\n",
    "    password=credentials_config['mssql_password']\n",
    "    srv=credentials_config['mssql_host']\n",
    "    connection = pyodbc.connect(driver='/usr/local/lib/libtdsodbc.so', server=srv,port='1433', database='net_speed_md', uid='cybera_sql', pwd=password)\n",
    "    return connection"
   ]
  },
  {
   "cell_type": "markdown",
   "metadata": {},
   "source": [
    "Set up test time interval:"
   ]
  },
  {
   "cell_type": "code",
   "execution_count": 3,
   "metadata": {},
   "outputs": [],
   "source": [
    "time_interval='4w' #5d"
   ]
  },
  {
   "cell_type": "code",
   "execution_count": 4,
   "metadata": {},
   "outputs": [
    {
     "name": "stdout",
     "output_type": "stream",
     "text": [
      "Starting point: 2019-02-04 16:54:37\n"
     ]
    }
   ],
   "source": [
    "#Set up starting point, by default if will start from current time\n",
    "starting_point=datetime.now().strftime('%Y-%m-%d %H:%M:%S')\n",
    "#starting point=\"2019-01-10 14:00:00\"  # to set upl alternative starting point\n",
    "print(\"Starting point:\",starting_point )"
   ]
  },
  {
   "cell_type": "markdown",
   "metadata": {},
   "source": [
    "Set up influxdb connection:"
   ]
  },
  {
   "cell_type": "code",
   "execution_count": 5,
   "metadata": {},
   "outputs": [],
   "source": [
    "client, client_df = connect_to_influxdb()"
   ]
  },
  {
   "cell_type": "markdown",
   "metadata": {},
   "source": [
    "Checking last 10 records in the ping measurment and see how data looks like:"
   ]
  },
  {
   "cell_type": "code",
   "execution_count": 6,
   "metadata": {},
   "outputs": [
    {
     "data": {
      "text/html": [
       "<div>\n",
       "<style>\n",
       "    .dataframe thead tr:only-child th {\n",
       "        text-align: right;\n",
       "    }\n",
       "\n",
       "    .dataframe thead th {\n",
       "        text-align: left;\n",
       "    }\n",
       "\n",
       "    .dataframe tbody tr th {\n",
       "        vertical-align: top;\n",
       "    }\n",
       "</style>\n",
       "<table border=\"1\" class=\"dataframe\">\n",
       "  <thead>\n",
       "    <tr style=\"text-align: right;\">\n",
       "      <th></th>\n",
       "      <th>time</th>\n",
       "      <th>PING</th>\n",
       "      <th>SK_PI</th>\n",
       "    </tr>\n",
       "  </thead>\n",
       "  <tbody>\n",
       "    <tr>\n",
       "      <th>6</th>\n",
       "      <td>2019-02-02 17:59:57-06:00</td>\n",
       "      <td>14.746</td>\n",
       "      <td>3</td>\n",
       "    </tr>\n",
       "    <tr>\n",
       "      <th>2</th>\n",
       "      <td>2019-02-02 17:59:56-06:00</td>\n",
       "      <td>38.336</td>\n",
       "      <td>5</td>\n",
       "    </tr>\n",
       "    <tr>\n",
       "      <th>5</th>\n",
       "      <td>2019-02-02 17:59:57-06:00</td>\n",
       "      <td>27.604</td>\n",
       "      <td>11</td>\n",
       "    </tr>\n",
       "    <tr>\n",
       "      <th>0</th>\n",
       "      <td>2019-02-02 17:59:55-06:00</td>\n",
       "      <td>24.877</td>\n",
       "      <td>12</td>\n",
       "    </tr>\n",
       "    <tr>\n",
       "      <th>1</th>\n",
       "      <td>2019-02-02 17:59:55-06:00</td>\n",
       "      <td>35.105</td>\n",
       "      <td>15</td>\n",
       "    </tr>\n",
       "    <tr>\n",
       "      <th>7</th>\n",
       "      <td>2019-02-02 17:59:58-06:00</td>\n",
       "      <td>38.158</td>\n",
       "      <td>16</td>\n",
       "    </tr>\n",
       "    <tr>\n",
       "      <th>8</th>\n",
       "      <td>2019-02-02 17:59:58-06:00</td>\n",
       "      <td>91.810</td>\n",
       "      <td>19</td>\n",
       "    </tr>\n",
       "    <tr>\n",
       "      <th>4</th>\n",
       "      <td>2019-02-02 17:59:57-06:00</td>\n",
       "      <td>52.810</td>\n",
       "      <td>20</td>\n",
       "    </tr>\n",
       "    <tr>\n",
       "      <th>9</th>\n",
       "      <td>2019-02-02 17:59:58-06:00</td>\n",
       "      <td>270.969</td>\n",
       "      <td>21</td>\n",
       "    </tr>\n",
       "    <tr>\n",
       "      <th>3</th>\n",
       "      <td>2019-02-02 17:59:56-06:00</td>\n",
       "      <td>47.418</td>\n",
       "      <td>22</td>\n",
       "    </tr>\n",
       "  </tbody>\n",
       "</table>\n",
       "</div>"
      ],
      "text/plain": [
       "                       time     PING  SK_PI\n",
       "6 2019-02-02 17:59:57-06:00   14.746      3\n",
       "2 2019-02-02 17:59:56-06:00   38.336      5\n",
       "5 2019-02-02 17:59:57-06:00   27.604     11\n",
       "0 2019-02-02 17:59:55-06:00   24.877     12\n",
       "1 2019-02-02 17:59:55-06:00   35.105     15\n",
       "7 2019-02-02 17:59:58-06:00   38.158     16\n",
       "8 2019-02-02 17:59:58-06:00   91.810     19\n",
       "4 2019-02-02 17:59:57-06:00   52.810     20\n",
       "9 2019-02-02 17:59:58-06:00  270.969     21\n",
       "3 2019-02-02 17:59:56-06:00   47.418     22"
      ]
     },
     "execution_count": 6,
     "metadata": {},
     "output_type": "execute_result"
    }
   ],
   "source": [
    "query_ping = 'SELECT PING,SK_PI FROM PING ORDER BY time DESC LIMIT 10;'\n",
    "ping_df = get_dataframe_from_influxdb(client_df=client_df,query_influx=query_ping,table_name='PING')\n",
    "ping_df"
   ]
  },
  {
   "cell_type": "markdown",
   "metadata": {},
   "source": [
    "Let's take just one device, for example 3:"
   ]
  },
  {
   "cell_type": "code",
   "execution_count": 7,
   "metadata": {},
   "outputs": [
    {
     "data": {
      "text/html": [
       "<div>\n",
       "<style>\n",
       "    .dataframe thead tr:only-child th {\n",
       "        text-align: right;\n",
       "    }\n",
       "\n",
       "    .dataframe thead th {\n",
       "        text-align: left;\n",
       "    }\n",
       "\n",
       "    .dataframe tbody tr th {\n",
       "        vertical-align: top;\n",
       "    }\n",
       "</style>\n",
       "<table border=\"1\" class=\"dataframe\">\n",
       "  <thead>\n",
       "    <tr style=\"text-align: right;\">\n",
       "      <th></th>\n",
       "      <th>time</th>\n",
       "      <th>PING</th>\n",
       "      <th>SK_PI</th>\n",
       "    </tr>\n",
       "  </thead>\n",
       "  <tbody>\n",
       "    <tr>\n",
       "      <th>0</th>\n",
       "      <td>2019-02-02 17:59:13-06:00</td>\n",
       "      <td>14.736</td>\n",
       "      <td>3</td>\n",
       "    </tr>\n",
       "    <tr>\n",
       "      <th>1</th>\n",
       "      <td>2019-02-02 17:59:17-06:00</td>\n",
       "      <td>14.781</td>\n",
       "      <td>3</td>\n",
       "    </tr>\n",
       "    <tr>\n",
       "      <th>2</th>\n",
       "      <td>2019-02-02 17:59:23-06:00</td>\n",
       "      <td>14.738</td>\n",
       "      <td>3</td>\n",
       "    </tr>\n",
       "    <tr>\n",
       "      <th>3</th>\n",
       "      <td>2019-02-02 17:59:27-06:00</td>\n",
       "      <td>14.824</td>\n",
       "      <td>3</td>\n",
       "    </tr>\n",
       "    <tr>\n",
       "      <th>4</th>\n",
       "      <td>2019-02-02 17:59:33-06:00</td>\n",
       "      <td>14.696</td>\n",
       "      <td>3</td>\n",
       "    </tr>\n",
       "    <tr>\n",
       "      <th>5</th>\n",
       "      <td>2019-02-02 17:59:37-06:00</td>\n",
       "      <td>14.755</td>\n",
       "      <td>3</td>\n",
       "    </tr>\n",
       "    <tr>\n",
       "      <th>6</th>\n",
       "      <td>2019-02-02 17:59:43-06:00</td>\n",
       "      <td>14.875</td>\n",
       "      <td>3</td>\n",
       "    </tr>\n",
       "    <tr>\n",
       "      <th>7</th>\n",
       "      <td>2019-02-02 17:59:47-06:00</td>\n",
       "      <td>14.677</td>\n",
       "      <td>3</td>\n",
       "    </tr>\n",
       "    <tr>\n",
       "      <th>8</th>\n",
       "      <td>2019-02-02 17:59:53-06:00</td>\n",
       "      <td>14.856</td>\n",
       "      <td>3</td>\n",
       "    </tr>\n",
       "    <tr>\n",
       "      <th>9</th>\n",
       "      <td>2019-02-02 17:59:57-06:00</td>\n",
       "      <td>14.746</td>\n",
       "      <td>3</td>\n",
       "    </tr>\n",
       "  </tbody>\n",
       "</table>\n",
       "</div>"
      ],
      "text/plain": [
       "                       time    PING  SK_PI\n",
       "0 2019-02-02 17:59:13-06:00  14.736      3\n",
       "1 2019-02-02 17:59:17-06:00  14.781      3\n",
       "2 2019-02-02 17:59:23-06:00  14.738      3\n",
       "3 2019-02-02 17:59:27-06:00  14.824      3\n",
       "4 2019-02-02 17:59:33-06:00  14.696      3\n",
       "5 2019-02-02 17:59:37-06:00  14.755      3\n",
       "6 2019-02-02 17:59:43-06:00  14.875      3\n",
       "7 2019-02-02 17:59:47-06:00  14.677      3\n",
       "8 2019-02-02 17:59:53-06:00  14.856      3\n",
       "9 2019-02-02 17:59:57-06:00  14.746      3"
      ]
     },
     "execution_count": 7,
     "metadata": {},
     "output_type": "execute_result"
    }
   ],
   "source": [
    "query_ping = \"SELECT PING,SK_PI FROM PING WHERE SK_PI='3' ORDER BY time  DESC LIMIT 10 ;\"\n",
    "ping_df = get_dataframe_from_influxdb(client_df=client_df,query_influx=query_ping,table_name='PING')\n",
    "ping_df"
   ]
  },
  {
   "cell_type": "markdown",
   "metadata": {},
   "source": [
    "Let's compare with what we have in MS SQL database:"
   ]
  },
  {
   "cell_type": "code",
   "execution_count": 8,
   "metadata": {},
   "outputs": [
    {
     "data": {
      "text/html": [
       "<div>\n",
       "<style>\n",
       "    .dataframe thead tr:only-child th {\n",
       "        text-align: right;\n",
       "    }\n",
       "\n",
       "    .dataframe thead th {\n",
       "        text-align: left;\n",
       "    }\n",
       "\n",
       "    .dataframe tbody tr th {\n",
       "        vertical-align: top;\n",
       "    }\n",
       "</style>\n",
       "<table border=\"1\" class=\"dataframe\">\n",
       "  <thead>\n",
       "    <tr style=\"text-align: right;\">\n",
       "      <th></th>\n",
       "      <th>DATA_DATE</th>\n",
       "      <th>PING</th>\n",
       "      <th>SK_PI</th>\n",
       "      <th>CONNTRACK</th>\n",
       "    </tr>\n",
       "  </thead>\n",
       "  <tbody>\n",
       "    <tr>\n",
       "      <th>0</th>\n",
       "      <td>2019-02-03 23:59:59.400</td>\n",
       "      <td>14.771</td>\n",
       "      <td>3</td>\n",
       "      <td>18</td>\n",
       "    </tr>\n",
       "    <tr>\n",
       "      <th>1</th>\n",
       "      <td>2019-02-03 23:59:57.397</td>\n",
       "      <td>NaN</td>\n",
       "      <td>3</td>\n",
       "      <td>18</td>\n",
       "    </tr>\n",
       "    <tr>\n",
       "      <th>2</th>\n",
       "      <td>2019-02-03 23:59:55.397</td>\n",
       "      <td>NaN</td>\n",
       "      <td>3</td>\n",
       "      <td>18</td>\n",
       "    </tr>\n",
       "    <tr>\n",
       "      <th>3</th>\n",
       "      <td>2019-02-03 23:59:53.393</td>\n",
       "      <td>14.827</td>\n",
       "      <td>3</td>\n",
       "      <td>18</td>\n",
       "    </tr>\n",
       "    <tr>\n",
       "      <th>4</th>\n",
       "      <td>2019-02-03 23:59:51.390</td>\n",
       "      <td>NaN</td>\n",
       "      <td>3</td>\n",
       "      <td>18</td>\n",
       "    </tr>\n",
       "    <tr>\n",
       "      <th>5</th>\n",
       "      <td>2019-02-03 23:59:49.390</td>\n",
       "      <td>14.829</td>\n",
       "      <td>3</td>\n",
       "      <td>18</td>\n",
       "    </tr>\n",
       "    <tr>\n",
       "      <th>6</th>\n",
       "      <td>2019-02-03 23:59:47.387</td>\n",
       "      <td>NaN</td>\n",
       "      <td>3</td>\n",
       "      <td>18</td>\n",
       "    </tr>\n",
       "    <tr>\n",
       "      <th>7</th>\n",
       "      <td>2019-02-03 23:59:45.387</td>\n",
       "      <td>NaN</td>\n",
       "      <td>3</td>\n",
       "      <td>18</td>\n",
       "    </tr>\n",
       "    <tr>\n",
       "      <th>8</th>\n",
       "      <td>2019-02-03 23:59:43.383</td>\n",
       "      <td>14.806</td>\n",
       "      <td>3</td>\n",
       "      <td>18</td>\n",
       "    </tr>\n",
       "    <tr>\n",
       "      <th>9</th>\n",
       "      <td>2019-02-03 23:59:41.380</td>\n",
       "      <td>NaN</td>\n",
       "      <td>3</td>\n",
       "      <td>18</td>\n",
       "    </tr>\n",
       "  </tbody>\n",
       "</table>\n",
       "</div>"
      ],
      "text/plain": [
       "                DATA_DATE    PING  SK_PI  CONNTRACK\n",
       "0 2019-02-03 23:59:59.400  14.771      3         18\n",
       "1 2019-02-03 23:59:57.397     NaN      3         18\n",
       "2 2019-02-03 23:59:55.397     NaN      3         18\n",
       "3 2019-02-03 23:59:53.393  14.827      3         18\n",
       "4 2019-02-03 23:59:51.390     NaN      3         18\n",
       "5 2019-02-03 23:59:49.390  14.829      3         18\n",
       "6 2019-02-03 23:59:47.387     NaN      3         18\n",
       "7 2019-02-03 23:59:45.387     NaN      3         18\n",
       "8 2019-02-03 23:59:43.383  14.806      3         18\n",
       "9 2019-02-03 23:59:41.380     NaN      3         18"
      ]
     },
     "execution_count": 8,
     "metadata": {},
     "output_type": "execute_result"
    }
   ],
   "source": [
    "cnxn = connect_to_mssql()\n",
    "sql = \"SELECT TOP 10 DATA_DATE, PING, SK_PI,CONNTRACK FROM FCT_PI WHERE SK_PI='3' ORDER BY DATA_DATE DESC;\"\n",
    "pd.read_sql(sql,cnxn)"
   ]
  },
  {
   "cell_type": "markdown",
   "metadata": {},
   "source": [
    "Pings are coming every 4-6 seconds."
   ]
  },
  {
   "cell_type": "markdown",
   "metadata": {},
   "source": [
    "Checking statistics for number of packets dropped:"
   ]
  },
  {
   "cell_type": "code",
   "execution_count": 9,
   "metadata": {},
   "outputs": [
    {
     "data": {
      "text/html": [
       "<div>\n",
       "<style>\n",
       "    .dataframe thead tr:only-child th {\n",
       "        text-align: right;\n",
       "    }\n",
       "\n",
       "    .dataframe thead th {\n",
       "        text-align: left;\n",
       "    }\n",
       "\n",
       "    .dataframe tbody tr th {\n",
       "        vertical-align: top;\n",
       "    }\n",
       "</style>\n",
       "<table border=\"1\" class=\"dataframe\">\n",
       "  <thead>\n",
       "    <tr style=\"text-align: right;\">\n",
       "      <th></th>\n",
       "      <th>time</th>\n",
       "      <th>distinct</th>\n",
       "    </tr>\n",
       "  </thead>\n",
       "  <tbody>\n",
       "    <tr>\n",
       "      <th>0</th>\n",
       "      <td>1969-12-31 18:00:00-06:00</td>\n",
       "      <td>0</td>\n",
       "    </tr>\n",
       "    <tr>\n",
       "      <th>1</th>\n",
       "      <td>1969-12-31 18:00:00-06:00</td>\n",
       "      <td>100</td>\n",
       "    </tr>\n",
       "  </tbody>\n",
       "</table>\n",
       "</div>"
      ],
      "text/plain": [
       "                       time  distinct\n",
       "0 1969-12-31 18:00:00-06:00         0\n",
       "1 1969-12-31 18:00:00-06:00       100"
      ]
     },
     "execution_count": 9,
     "metadata": {},
     "output_type": "execute_result"
    }
   ],
   "source": [
    "query_ping = \"SELECT DISTINCT(PING_DROPRATE) from PING;\"\n",
    "ping_df = get_dataframe_from_influxdb(client_df=client_df,query_influx=query_ping,table_name='PING')\n",
    "ping_df"
   ]
  },
  {
   "cell_type": "markdown",
   "metadata": {},
   "source": [
    "Lets see what is the value of *PING* measurment when *PING_DROPRATE* is equal to 100:"
   ]
  },
  {
   "cell_type": "code",
   "execution_count": 10,
   "metadata": {},
   "outputs": [
    {
     "data": {
      "text/html": [
       "<div>\n",
       "<style>\n",
       "    .dataframe thead tr:only-child th {\n",
       "        text-align: right;\n",
       "    }\n",
       "\n",
       "    .dataframe thead th {\n",
       "        text-align: left;\n",
       "    }\n",
       "\n",
       "    .dataframe tbody tr th {\n",
       "        vertical-align: top;\n",
       "    }\n",
       "</style>\n",
       "<table border=\"1\" class=\"dataframe\">\n",
       "  <thead>\n",
       "    <tr style=\"text-align: right;\">\n",
       "      <th></th>\n",
       "      <th>time</th>\n",
       "      <th>PING</th>\n",
       "      <th>PING_DROPRATE</th>\n",
       "    </tr>\n",
       "  </thead>\n",
       "  <tbody>\n",
       "    <tr>\n",
       "      <th>0</th>\n",
       "      <td>2019-02-02 17:56:24-06:00</td>\n",
       "      <td>0</td>\n",
       "      <td>100</td>\n",
       "    </tr>\n",
       "    <tr>\n",
       "      <th>1</th>\n",
       "      <td>2019-02-02 17:57:14-06:00</td>\n",
       "      <td>0</td>\n",
       "      <td>100</td>\n",
       "    </tr>\n",
       "    <tr>\n",
       "      <th>2</th>\n",
       "      <td>2019-02-02 17:58:28-06:00</td>\n",
       "      <td>0</td>\n",
       "      <td>100</td>\n",
       "    </tr>\n",
       "    <tr>\n",
       "      <th>3</th>\n",
       "      <td>2019-02-02 17:59:34-06:00</td>\n",
       "      <td>0</td>\n",
       "      <td>100</td>\n",
       "    </tr>\n",
       "    <tr>\n",
       "      <th>4</th>\n",
       "      <td>2019-02-02 17:59:48-06:00</td>\n",
       "      <td>0</td>\n",
       "      <td>100</td>\n",
       "    </tr>\n",
       "  </tbody>\n",
       "</table>\n",
       "</div>"
      ],
      "text/plain": [
       "                       time  PING  PING_DROPRATE\n",
       "0 2019-02-02 17:56:24-06:00     0            100\n",
       "1 2019-02-02 17:57:14-06:00     0            100\n",
       "2 2019-02-02 17:58:28-06:00     0            100\n",
       "3 2019-02-02 17:59:34-06:00     0            100\n",
       "4 2019-02-02 17:59:48-06:00     0            100"
      ]
     },
     "execution_count": 10,
     "metadata": {},
     "output_type": "execute_result"
    }
   ],
   "source": [
    "query_ping = \"SELECT PING, PING_DROPRATE FROM PING WHERE PING_DROPRATE=100 ORDER BY time DESC LIMIT 5;\"\n",
    "ping_df = get_dataframe_from_influxdb(client_df=client_df,query_influx=query_ping,table_name='PING')\n",
    "ping_df"
   ]
  },
  {
   "cell_type": "markdown",
   "metadata": {},
   "source": [
    "*PING* is equal to 0 when PING_DROPRATE=100, its importatnt to note."
   ]
  },
  {
   "cell_type": "markdown",
   "metadata": {},
   "source": [
    "## Number of datapoints per device"
   ]
  },
  {
   "cell_type": "markdown",
   "metadata": {},
   "source": [
    "Getting device numbers(tags SK_PI):"
   ]
  },
  {
   "cell_type": "code",
   "execution_count": 11,
   "metadata": {},
   "outputs": [
    {
     "name": "stdout",
     "output_type": "stream",
     "text": [
      "[1, 2, 3, 4, 5, 6, 7, 8, 9, 10, 11, 12, 13, 14, 15, 16, 17, 18, 19, 20, 21, 22]\n"
     ]
    }
   ],
   "source": [
    "device_numbers=get_tag_values_influxdb(client_influx=client,table_name='PING', tag_name='SK_PI')\n",
    "device_numbers=list(map(int, device_numbers))\n",
    "device_numbers= sorted(device_numbers)\n",
    "print(device_numbers)"
   ]
  },
  {
   "cell_type": "markdown",
   "metadata": {},
   "source": [
    "Getting number of data points per device for the entire period of time."
   ]
  },
  {
   "cell_type": "code",
   "execution_count": 12,
   "metadata": {},
   "outputs": [],
   "source": [
    "query_ping_counts = \"SELECT COUNT(PING) FROM PING WHERE time <= '\"+starting_point+\"'GROUP BY SK_PI;\"\n",
    "ping_counts=get_stats_influxdb(client_influx=client,\n",
    "                               query_influx=query_ping_counts,\n",
    "                               stat_name='count',\n",
    "                               device_numbers=device_numbers)"
   ]
  },
  {
   "cell_type": "markdown",
   "metadata": {},
   "source": [
    "Plotting device numbers and number of data points. "
   ]
  },
  {
   "cell_type": "code",
   "execution_count": 13,
   "metadata": {},
   "outputs": [
    {
     "data": {
      "application/vnd.plotly.v1+json": {
       "data": [
        {
         "marker": {
          "color": "#F3C300"
         },
         "name": "ping datapoints",
         "type": "bar",
         "x": [
          1,
          2,
          3,
          4,
          5,
          6,
          7,
          8,
          9,
          10,
          11,
          12,
          13,
          14,
          15,
          16,
          17,
          18,
          19,
          20,
          21,
          22
         ],
         "y": [
          7025,
          397617,
          1194441,
          674108,
          210533,
          84990,
          1335302,
          137579,
          1108558,
          539314,
          1108502,
          1111286,
          285,
          6905,
          1026520,
          1007972,
          427297,
          352988,
          154381,
          142011,
          74274,
          54262
         ]
        }
       ],
       "layout": {
        "barmode": "stack",
        "title": "Number of data points per device to the date 2019-02-04 16:54:37",
        "xaxis": {
         "title": "Device Number"
        },
        "yaxis": {
         "title": "Number of datapoints"
        }
       }
      },
      "text/html": [
       "<div id=\"3f479f91-19e6-4a12-94ff-0d3b09c5025e\" style=\"height: 525px; width: 100%;\" class=\"plotly-graph-div\"></div><script type=\"text/javascript\">require([\"plotly\"], function(Plotly) { window.PLOTLYENV=window.PLOTLYENV || {};window.PLOTLYENV.BASE_URL=\"https://plot.ly\";Plotly.newPlot(\"3f479f91-19e6-4a12-94ff-0d3b09c5025e\", [{\"type\": \"bar\", \"x\": [1, 2, 3, 4, 5, 6, 7, 8, 9, 10, 11, 12, 13, 14, 15, 16, 17, 18, 19, 20, 21, 22], \"y\": [7025, 397617, 1194441, 674108, 210533, 84990, 1335302, 137579, 1108558, 539314, 1108502, 1111286, 285, 6905, 1026520, 1007972, 427297, 352988, 154381, 142011, 74274, 54262], \"marker\": {\"color\": \"#F3C300\"}, \"name\": \"ping datapoints\"}], {\"barmode\": \"stack\", \"title\": \"Number of data points per device to the date 2019-02-04 16:54:37\", \"xaxis\": {\"title\": \"Device Number\"}, \"yaxis\": {\"title\": \"Number of datapoints\"}}, {\"showLink\": true, \"linkText\": \"Export to plot.ly\"})});</script>"
      ],
      "text/vnd.plotly.v1+html": [
       "<div id=\"3f479f91-19e6-4a12-94ff-0d3b09c5025e\" style=\"height: 525px; width: 100%;\" class=\"plotly-graph-div\"></div><script type=\"text/javascript\">require([\"plotly\"], function(Plotly) { window.PLOTLYENV=window.PLOTLYENV || {};window.PLOTLYENV.BASE_URL=\"https://plot.ly\";Plotly.newPlot(\"3f479f91-19e6-4a12-94ff-0d3b09c5025e\", [{\"type\": \"bar\", \"x\": [1, 2, 3, 4, 5, 6, 7, 8, 9, 10, 11, 12, 13, 14, 15, 16, 17, 18, 19, 20, 21, 22], \"y\": [7025, 397617, 1194441, 674108, 210533, 84990, 1335302, 137579, 1108558, 539314, 1108502, 1111286, 285, 6905, 1026520, 1007972, 427297, 352988, 154381, 142011, 74274, 54262], \"marker\": {\"color\": \"#F3C300\"}, \"name\": \"ping datapoints\"}], {\"barmode\": \"stack\", \"title\": \"Number of data points per device to the date 2019-02-04 16:54:37\", \"xaxis\": {\"title\": \"Device Number\"}, \"yaxis\": {\"title\": \"Number of datapoints\"}}, {\"showLink\": true, \"linkText\": \"Export to plot.ly\"})});</script>"
      ]
     },
     "metadata": {},
     "output_type": "display_data"
    }
   ],
   "source": [
    "simple_bar_plot(xvalues=device_numbers,\n",
    "                yvalues=ping_counts,\n",
    "                name=\"ping datapoints\",\n",
    "                title=\"Number of data points per device to the date \"+ starting_point,\n",
    "                ytitle=\"Number of datapoints\")"
   ]
  },
  {
   "cell_type": "markdown",
   "metadata": {},
   "source": [
    "Some of the devices have small number of datapoints, may be they are just installed? Lets check how many dataponts came in last 4 weeks."
   ]
  },
  {
   "cell_type": "markdown",
   "metadata": {},
   "source": [
    "Getting number of datapoints per device in last 4 weeks and list of the devices that have data for this period of time(not all of the have)."
   ]
  },
  {
   "cell_type": "code",
   "execution_count": 14,
   "metadata": {},
   "outputs": [],
   "source": [
    "#query_ping_counts_dec = \"SELECT COUNT(PING) FROM PING WHERE time >= '2018-12-01 00:00:00' GROUP BY SK_PI ;\"\n",
    "query_ping_counts_time = \"SELECT COUNT(PING) FROM PING WHERE time >= '\"+starting_point+\"'-\"+time_interval+\" GROUP BY SK_PI ;\"\n",
    "ping_counts_time = get_stats_influxdb(client_influx=client,\n",
    "                                      query_influx=query_ping_counts_time,\n",
    "                                      stat_name='count',\n",
    "                                      device_numbers=device_numbers)"
   ]
  },
  {
   "cell_type": "markdown",
   "metadata": {},
   "source": [
    "Plotting combined barchart - entire number of datapoints vs number of datapoints in last 4 weeks."
   ]
  },
  {
   "cell_type": "code",
   "execution_count": 15,
   "metadata": {},
   "outputs": [
    {
     "data": {
      "application/vnd.plotly.v1+json": {
       "data": [
        {
         "marker": {
          "color": "#F3C300"
         },
         "name": "Last 4w",
         "type": "bar",
         "x": [
          1,
          2,
          3,
          4,
          5,
          6,
          7,
          8,
          9,
          10,
          11,
          12,
          13,
          14,
          15,
          16,
          17,
          18,
          19,
          20,
          21,
          22
         ],
         "y": [
          0,
          0,
          454377,
          0,
          34546,
          0,
          454375,
          65297,
          454377,
          0,
          454377,
          454377,
          0,
          0,
          454360,
          454378,
          0,
          0,
          154381,
          142011,
          74274,
          54262
         ]
        },
        {
         "marker": {
          "color": "#875692"
         },
         "name": "The rest of the time",
         "type": "bar",
         "x": [
          1,
          2,
          3,
          4,
          5,
          6,
          7,
          8,
          9,
          10,
          11,
          12,
          13,
          14,
          15,
          16,
          17,
          18,
          19,
          20,
          21,
          22
         ],
         "y": [
          7025,
          397617,
          740064,
          674108,
          175987,
          84990,
          880927,
          72282,
          654181,
          539314,
          654125,
          656909,
          285,
          6905,
          572160,
          553594,
          427297,
          352988,
          0,
          0,
          0,
          0
         ]
        }
       ],
       "layout": {
        "barmode": "stack",
        "title": "Comparing number of datapoints in last 4w vs entire time starting from 2019-02-04 16:54:37",
        "xaxis": {
         "title": "Device Number"
        },
        "yaxis": {
         "title": "Number of datapoints"
        }
       }
      },
      "text/html": [
       "<div id=\"af9c386d-6689-4ebf-afef-6a88702a9170\" style=\"height: 525px; width: 100%;\" class=\"plotly-graph-div\"></div><script type=\"text/javascript\">require([\"plotly\"], function(Plotly) { window.PLOTLYENV=window.PLOTLYENV || {};window.PLOTLYENV.BASE_URL=\"https://plot.ly\";Plotly.newPlot(\"af9c386d-6689-4ebf-afef-6a88702a9170\", [{\"type\": \"bar\", \"x\": [1, 2, 3, 4, 5, 6, 7, 8, 9, 10, 11, 12, 13, 14, 15, 16, 17, 18, 19, 20, 21, 22], \"y\": [0, 0, 454377, 0, 34546, 0, 454375, 65297, 454377, 0, 454377, 454377, 0, 0, 454360, 454378, 0, 0, 154381, 142011, 74274, 54262], \"marker\": {\"color\": \"#F3C300\"}, \"name\": \"Last 4w\"}, {\"type\": \"bar\", \"x\": [1, 2, 3, 4, 5, 6, 7, 8, 9, 10, 11, 12, 13, 14, 15, 16, 17, 18, 19, 20, 21, 22], \"y\": [7025, 397617, 740064, 674108, 175987, 84990, 880927, 72282, 654181, 539314, 654125, 656909, 285, 6905, 572160, 553594, 427297, 352988, 0, 0, 0, 0], \"marker\": {\"color\": \"#875692\"}, \"name\": \"The rest of the time\"}], {\"barmode\": \"stack\", \"title\": \"Comparing number of datapoints in last 4w vs entire time starting from 2019-02-04 16:54:37\", \"xaxis\": {\"title\": \"Device Number\"}, \"yaxis\": {\"title\": \"Number of datapoints\"}}, {\"showLink\": true, \"linkText\": \"Export to plot.ly\"})});</script>"
      ],
      "text/vnd.plotly.v1+html": [
       "<div id=\"af9c386d-6689-4ebf-afef-6a88702a9170\" style=\"height: 525px; width: 100%;\" class=\"plotly-graph-div\"></div><script type=\"text/javascript\">require([\"plotly\"], function(Plotly) { window.PLOTLYENV=window.PLOTLYENV || {};window.PLOTLYENV.BASE_URL=\"https://plot.ly\";Plotly.newPlot(\"af9c386d-6689-4ebf-afef-6a88702a9170\", [{\"type\": \"bar\", \"x\": [1, 2, 3, 4, 5, 6, 7, 8, 9, 10, 11, 12, 13, 14, 15, 16, 17, 18, 19, 20, 21, 22], \"y\": [0, 0, 454377, 0, 34546, 0, 454375, 65297, 454377, 0, 454377, 454377, 0, 0, 454360, 454378, 0, 0, 154381, 142011, 74274, 54262], \"marker\": {\"color\": \"#F3C300\"}, \"name\": \"Last 4w\"}, {\"type\": \"bar\", \"x\": [1, 2, 3, 4, 5, 6, 7, 8, 9, 10, 11, 12, 13, 14, 15, 16, 17, 18, 19, 20, 21, 22], \"y\": [7025, 397617, 740064, 674108, 175987, 84990, 880927, 72282, 654181, 539314, 654125, 656909, 285, 6905, 572160, 553594, 427297, 352988, 0, 0, 0, 0], \"marker\": {\"color\": \"#875692\"}, \"name\": \"The rest of the time\"}], {\"barmode\": \"stack\", \"title\": \"Comparing number of datapoints in last 4w vs entire time starting from 2019-02-04 16:54:37\", \"xaxis\": {\"title\": \"Device Number\"}, \"yaxis\": {\"title\": \"Number of datapoints\"}}, {\"showLink\": true, \"linkText\": \"Export to plot.ly\"})});</script>"
      ]
     },
     "metadata": {},
     "output_type": "display_data"
    }
   ],
   "source": [
    "combined_bar_plot_2traces(xvalues=device_numbers,\n",
    "                          yvalues1=ping_counts_time,\n",
    "                          yvalues2=[a - b for a, b in zip(ping_counts, ping_counts_time)],\n",
    "                          name1='Last '+time_interval,\n",
    "                          name2='The rest of the time',\n",
    "                          title=\"Comparing number of datapoints in last \"+time_interval+\" vs entire time\" + \" starting from \"+ starting_point,\n",
    "                          ytitle=\"Number of datapoints\")"
   ]
  },
  {
   "cell_type": "markdown",
   "metadata": {},
   "source": [
    "Devices 1,2,4,5,6,8 and possibly 13 and 14 need to be double checked. Looks like they have started reporting and then stopped. Let's check last reporting time for every device."
   ]
  },
  {
   "cell_type": "code",
   "execution_count": 16,
   "metadata": {},
   "outputs": [],
   "source": [
    "query_ping_last = \"SELECT LAST(PING), time FROM PING WHERE time <= '\"+starting_point+\"' GROUP BY SK_PI;\"\n",
    "result_ping_last=get_stats_influxdb(client_influx=client,\n",
    "                               query_influx=query_ping_last,\n",
    "                               stat_name='time',\n",
    "                               device_numbers=device_numbers)"
   ]
  },
  {
   "cell_type": "code",
   "execution_count": 17,
   "metadata": {},
   "outputs": [],
   "source": [
    "query_ping_first = \"SELECT FIRST(PING), time FROM PING WHERE time <= '\"+starting_point+\"' GROUP BY SK_PI;\"\n",
    "result_ping_first=get_stats_influxdb(client_influx=client,\n",
    "                               query_influx=query_ping_first,\n",
    "                               stat_name='time',\n",
    "                               device_numbers=device_numbers)"
   ]
  },
  {
   "cell_type": "code",
   "execution_count": 18,
   "metadata": {},
   "outputs": [
    {
     "name": "stdout",
     "output_type": "stream",
     "text": [
      "Collectd reporting times:\n",
      "Device:  1   was reporting from  2018-10-10 14:16:15  to  2018-10-11 15:46:31\n",
      "Device:  2   was reporting from  2018-10-11 15:27:46  to  2018-11-06 19:16:32\n",
      "Device:  3   was reporting from  2018-10-11 15:27:46  to  2019-02-02 23:59:57\n",
      "Device:  4   was reporting from  2018-10-11 15:27:46  to  2018-12-05 22:53:02\n",
      "Device:  5   was reporting from  2018-10-11 15:27:46  to  2019-02-02 23:59:56\n",
      "Device:  6   was reporting from  2018-10-11 15:27:46  to  2018-10-31 14:55:00\n",
      "Device:  7   was reporting from  2018-11-11 00:00:03  to  2019-02-02 23:59:54\n",
      "Device:  8   was reporting from  2018-10-11 15:27:46  to  2019-01-14 14:27:00\n",
      "Device:  9   was reporting from  2018-10-11 15:27:46  to  2019-02-02 23:59:54\n",
      "Device:  10   was reporting from  2018-10-11 15:27:46  to  2018-12-31 04:39:59\n",
      "Device:  11   was reporting from  2018-10-11 15:27:46  to  2019-02-02 23:59:57\n",
      "Device:  12   was reporting from  2018-10-11 15:27:46  to  2019-02-02 23:59:55\n",
      "Device:  13   was reporting from  2018-10-11 15:27:46  to  2018-12-04 20:27:05\n",
      "Device:  14   was reporting from  2018-10-11 15:27:46  to  2018-12-06 02:12:27\n",
      "Device:  15   was reporting from  2018-10-11 15:27:46  to  2019-02-02 23:59:55\n",
      "Device:  16   was reporting from  2018-10-11 15:27:46  to  2019-02-02 23:59:58\n",
      "Device:  17   was reporting from  2018-10-11 15:27:46  to  2019-01-07 12:46:58\n",
      "Device:  18   was reporting from  2018-10-11 15:27:46  to  2019-01-07 12:46:58\n",
      "Device:  19   was reporting from  2019-01-25 01:34:46  to  2019-02-02 23:59:58\n",
      "Device:  20   was reporting from  2019-01-25 18:45:37  to  2019-02-02 23:59:57\n",
      "Device:  21   was reporting from  2019-01-29 16:50:28  to  2019-02-02 23:59:58\n",
      "Device:  22   was reporting from  2019-01-30 20:33:37  to  2019-02-02 23:59:56\n"
     ]
    },
    {
     "data": {
      "application/vnd.plotly.v1+json": {
       "data": [
        {
         "marker": {
          "color": "#F2F3F4"
         },
         "name": 1,
         "type": "scatter",
         "x": [
          "2018-10-10 14:16:15",
          "2018-10-11 15:46:31"
         ],
         "y": [
          1,
          1
         ]
        },
        {
         "marker": {
          "color": "#222222"
         },
         "name": 2,
         "type": "scatter",
         "x": [
          "2018-10-11 15:27:46",
          "2018-11-06 19:16:32"
         ],
         "y": [
          2,
          2
         ]
        },
        {
         "marker": {
          "color": "#F3C300"
         },
         "name": 3,
         "type": "scatter",
         "x": [
          "2018-10-11 15:27:46",
          "2019-02-02 23:59:57"
         ],
         "y": [
          3,
          3
         ]
        },
        {
         "marker": {
          "color": "#875692"
         },
         "name": 4,
         "type": "scatter",
         "x": [
          "2018-10-11 15:27:46",
          "2018-12-05 22:53:02"
         ],
         "y": [
          4,
          4
         ]
        },
        {
         "marker": {
          "color": "#F38400"
         },
         "name": 5,
         "type": "scatter",
         "x": [
          "2018-10-11 15:27:46",
          "2019-02-02 23:59:56"
         ],
         "y": [
          5,
          5
         ]
        },
        {
         "marker": {
          "color": "#A1CAF1"
         },
         "name": 6,
         "type": "scatter",
         "x": [
          "2018-10-11 15:27:46",
          "2018-10-31 14:55:00"
         ],
         "y": [
          6,
          6
         ]
        },
        {
         "marker": {
          "color": "#BE0032"
         },
         "name": 7,
         "type": "scatter",
         "x": [
          "2018-11-11 00:00:03",
          "2019-02-02 23:59:54"
         ],
         "y": [
          7,
          7
         ]
        },
        {
         "marker": {
          "color": "#C2B280"
         },
         "name": 8,
         "type": "scatter",
         "x": [
          "2018-10-11 15:27:46",
          "2019-01-14 14:27:00"
         ],
         "y": [
          8,
          8
         ]
        },
        {
         "marker": {
          "color": "#848482"
         },
         "name": 9,
         "type": "scatter",
         "x": [
          "2018-10-11 15:27:46",
          "2019-02-02 23:59:54"
         ],
         "y": [
          9,
          9
         ]
        },
        {
         "marker": {
          "color": "#008856"
         },
         "name": 10,
         "type": "scatter",
         "x": [
          "2018-10-11 15:27:46",
          "2018-12-31 04:39:59"
         ],
         "y": [
          10,
          10
         ]
        },
        {
         "marker": {
          "color": "#E68FAC"
         },
         "name": 11,
         "type": "scatter",
         "x": [
          "2018-10-11 15:27:46",
          "2019-02-02 23:59:57"
         ],
         "y": [
          11,
          11
         ]
        },
        {
         "marker": {
          "color": "#0067A5"
         },
         "name": 12,
         "type": "scatter",
         "x": [
          "2018-10-11 15:27:46",
          "2019-02-02 23:59:55"
         ],
         "y": [
          12,
          12
         ]
        },
        {
         "marker": {
          "color": "#F99379"
         },
         "name": 13,
         "type": "scatter",
         "x": [
          "2018-10-11 15:27:46",
          "2018-12-04 20:27:05"
         ],
         "y": [
          13,
          13
         ]
        },
        {
         "marker": {
          "color": "#604E97"
         },
         "name": 14,
         "type": "scatter",
         "x": [
          "2018-10-11 15:27:46",
          "2018-12-06 02:12:27"
         ],
         "y": [
          14,
          14
         ]
        },
        {
         "marker": {
          "color": "#F6A600"
         },
         "name": 15,
         "type": "scatter",
         "x": [
          "2018-10-11 15:27:46",
          "2019-02-02 23:59:55"
         ],
         "y": [
          15,
          15
         ]
        },
        {
         "marker": {
          "color": "#B3446C"
         },
         "name": 16,
         "type": "scatter",
         "x": [
          "2018-10-11 15:27:46",
          "2019-02-02 23:59:58"
         ],
         "y": [
          16,
          16
         ]
        },
        {
         "marker": {
          "color": "#DCD300"
         },
         "name": 17,
         "type": "scatter",
         "x": [
          "2018-10-11 15:27:46",
          "2019-01-07 12:46:58"
         ],
         "y": [
          17,
          17
         ]
        },
        {
         "marker": {
          "color": "#882D17"
         },
         "name": 18,
         "type": "scatter",
         "x": [
          "2018-10-11 15:27:46",
          "2019-01-07 12:46:58"
         ],
         "y": [
          18,
          18
         ]
        },
        {
         "marker": {
          "color": "#8DB600"
         },
         "name": 19,
         "type": "scatter",
         "x": [
          "2019-01-25 01:34:46",
          "2019-02-02 23:59:58"
         ],
         "y": [
          19,
          19
         ]
        },
        {
         "marker": {
          "color": "#654522"
         },
         "name": 20,
         "type": "scatter",
         "x": [
          "2019-01-25 18:45:37",
          "2019-02-02 23:59:57"
         ],
         "y": [
          20,
          20
         ]
        },
        {
         "marker": {
          "color": "#E25822"
         },
         "name": 21,
         "type": "scatter",
         "x": [
          "2019-01-29 16:50:28",
          "2019-02-02 23:59:58"
         ],
         "y": [
          21,
          21
         ]
        },
        {
         "marker": {
          "color": "#2B3D26"
         },
         "name": 22,
         "type": "scatter",
         "x": [
          "2019-01-30 20:33:37",
          "2019-02-02 23:59:56"
         ],
         "y": [
          22,
          22
         ]
        }
       ],
       "layout": {
        "title": "Device reporting times(collectd)",
        "xaxis": {
         "title": "Time"
        },
        "yaxis": {
         "title": "Device Number"
        }
       }
      },
      "text/html": [
       "<div id=\"6cbf9b5b-7b8f-4990-bb39-4ffb544f1e48\" style=\"height: 525px; width: 100%;\" class=\"plotly-graph-div\"></div><script type=\"text/javascript\">require([\"plotly\"], function(Plotly) { window.PLOTLYENV=window.PLOTLYENV || {};window.PLOTLYENV.BASE_URL=\"https://plot.ly\";Plotly.newPlot(\"6cbf9b5b-7b8f-4990-bb39-4ffb544f1e48\", [{\"type\": \"scatter\", \"x\": [\"2018-10-10 14:16:15\", \"2018-10-11 15:46:31\"], \"y\": [1, 1], \"name\": 1, \"marker\": {\"color\": \"#F2F3F4\"}}, {\"type\": \"scatter\", \"x\": [\"2018-10-11 15:27:46\", \"2018-11-06 19:16:32\"], \"y\": [2, 2], \"name\": 2, \"marker\": {\"color\": \"#222222\"}}, {\"type\": \"scatter\", \"x\": [\"2018-10-11 15:27:46\", \"2019-02-02 23:59:57\"], \"y\": [3, 3], \"name\": 3, \"marker\": {\"color\": \"#F3C300\"}}, {\"type\": \"scatter\", \"x\": [\"2018-10-11 15:27:46\", \"2018-12-05 22:53:02\"], \"y\": [4, 4], \"name\": 4, \"marker\": {\"color\": \"#875692\"}}, {\"type\": \"scatter\", \"x\": [\"2018-10-11 15:27:46\", \"2019-02-02 23:59:56\"], \"y\": [5, 5], \"name\": 5, \"marker\": {\"color\": \"#F38400\"}}, {\"type\": \"scatter\", \"x\": [\"2018-10-11 15:27:46\", \"2018-10-31 14:55:00\"], \"y\": [6, 6], \"name\": 6, \"marker\": {\"color\": \"#A1CAF1\"}}, {\"type\": \"scatter\", \"x\": [\"2018-11-11 00:00:03\", \"2019-02-02 23:59:54\"], \"y\": [7, 7], \"name\": 7, \"marker\": {\"color\": \"#BE0032\"}}, {\"type\": \"scatter\", \"x\": [\"2018-10-11 15:27:46\", \"2019-01-14 14:27:00\"], \"y\": [8, 8], \"name\": 8, \"marker\": {\"color\": \"#C2B280\"}}, {\"type\": \"scatter\", \"x\": [\"2018-10-11 15:27:46\", \"2019-02-02 23:59:54\"], \"y\": [9, 9], \"name\": 9, \"marker\": {\"color\": \"#848482\"}}, {\"type\": \"scatter\", \"x\": [\"2018-10-11 15:27:46\", \"2018-12-31 04:39:59\"], \"y\": [10, 10], \"name\": 10, \"marker\": {\"color\": \"#008856\"}}, {\"type\": \"scatter\", \"x\": [\"2018-10-11 15:27:46\", \"2019-02-02 23:59:57\"], \"y\": [11, 11], \"name\": 11, \"marker\": {\"color\": \"#E68FAC\"}}, {\"type\": \"scatter\", \"x\": [\"2018-10-11 15:27:46\", \"2019-02-02 23:59:55\"], \"y\": [12, 12], \"name\": 12, \"marker\": {\"color\": \"#0067A5\"}}, {\"type\": \"scatter\", \"x\": [\"2018-10-11 15:27:46\", \"2018-12-04 20:27:05\"], \"y\": [13, 13], \"name\": 13, \"marker\": {\"color\": \"#F99379\"}}, {\"type\": \"scatter\", \"x\": [\"2018-10-11 15:27:46\", \"2018-12-06 02:12:27\"], \"y\": [14, 14], \"name\": 14, \"marker\": {\"color\": \"#604E97\"}}, {\"type\": \"scatter\", \"x\": [\"2018-10-11 15:27:46\", \"2019-02-02 23:59:55\"], \"y\": [15, 15], \"name\": 15, \"marker\": {\"color\": \"#F6A600\"}}, {\"type\": \"scatter\", \"x\": [\"2018-10-11 15:27:46\", \"2019-02-02 23:59:58\"], \"y\": [16, 16], \"name\": 16, \"marker\": {\"color\": \"#B3446C\"}}, {\"type\": \"scatter\", \"x\": [\"2018-10-11 15:27:46\", \"2019-01-07 12:46:58\"], \"y\": [17, 17], \"name\": 17, \"marker\": {\"color\": \"#DCD300\"}}, {\"type\": \"scatter\", \"x\": [\"2018-10-11 15:27:46\", \"2019-01-07 12:46:58\"], \"y\": [18, 18], \"name\": 18, \"marker\": {\"color\": \"#882D17\"}}, {\"type\": \"scatter\", \"x\": [\"2019-01-25 01:34:46\", \"2019-02-02 23:59:58\"], \"y\": [19, 19], \"name\": 19, \"marker\": {\"color\": \"#8DB600\"}}, {\"type\": \"scatter\", \"x\": [\"2019-01-25 18:45:37\", \"2019-02-02 23:59:57\"], \"y\": [20, 20], \"name\": 20, \"marker\": {\"color\": \"#654522\"}}, {\"type\": \"scatter\", \"x\": [\"2019-01-29 16:50:28\", \"2019-02-02 23:59:58\"], \"y\": [21, 21], \"name\": 21, \"marker\": {\"color\": \"#E25822\"}}, {\"type\": \"scatter\", \"x\": [\"2019-01-30 20:33:37\", \"2019-02-02 23:59:56\"], \"y\": [22, 22], \"name\": 22, \"marker\": {\"color\": \"#2B3D26\"}}], {\"title\": \"Device reporting times(collectd)\", \"xaxis\": {\"title\": \"Time\"}, \"yaxis\": {\"title\": \"Device Number\"}}, {\"showLink\": true, \"linkText\": \"Export to plot.ly\"})});</script>"
      ],
      "text/vnd.plotly.v1+html": [
       "<div id=\"6cbf9b5b-7b8f-4990-bb39-4ffb544f1e48\" style=\"height: 525px; width: 100%;\" class=\"plotly-graph-div\"></div><script type=\"text/javascript\">require([\"plotly\"], function(Plotly) { window.PLOTLYENV=window.PLOTLYENV || {};window.PLOTLYENV.BASE_URL=\"https://plot.ly\";Plotly.newPlot(\"6cbf9b5b-7b8f-4990-bb39-4ffb544f1e48\", [{\"type\": \"scatter\", \"x\": [\"2018-10-10 14:16:15\", \"2018-10-11 15:46:31\"], \"y\": [1, 1], \"name\": 1, \"marker\": {\"color\": \"#F2F3F4\"}}, {\"type\": \"scatter\", \"x\": [\"2018-10-11 15:27:46\", \"2018-11-06 19:16:32\"], \"y\": [2, 2], \"name\": 2, \"marker\": {\"color\": \"#222222\"}}, {\"type\": \"scatter\", \"x\": [\"2018-10-11 15:27:46\", \"2019-02-02 23:59:57\"], \"y\": [3, 3], \"name\": 3, \"marker\": {\"color\": \"#F3C300\"}}, {\"type\": \"scatter\", \"x\": [\"2018-10-11 15:27:46\", \"2018-12-05 22:53:02\"], \"y\": [4, 4], \"name\": 4, \"marker\": {\"color\": \"#875692\"}}, {\"type\": \"scatter\", \"x\": [\"2018-10-11 15:27:46\", \"2019-02-02 23:59:56\"], \"y\": [5, 5], \"name\": 5, \"marker\": {\"color\": \"#F38400\"}}, {\"type\": \"scatter\", \"x\": [\"2018-10-11 15:27:46\", \"2018-10-31 14:55:00\"], \"y\": [6, 6], \"name\": 6, \"marker\": {\"color\": \"#A1CAF1\"}}, {\"type\": \"scatter\", \"x\": [\"2018-11-11 00:00:03\", \"2019-02-02 23:59:54\"], \"y\": [7, 7], \"name\": 7, \"marker\": {\"color\": \"#BE0032\"}}, {\"type\": \"scatter\", \"x\": [\"2018-10-11 15:27:46\", \"2019-01-14 14:27:00\"], \"y\": [8, 8], \"name\": 8, \"marker\": {\"color\": \"#C2B280\"}}, {\"type\": \"scatter\", \"x\": [\"2018-10-11 15:27:46\", \"2019-02-02 23:59:54\"], \"y\": [9, 9], \"name\": 9, \"marker\": {\"color\": \"#848482\"}}, {\"type\": \"scatter\", \"x\": [\"2018-10-11 15:27:46\", \"2018-12-31 04:39:59\"], \"y\": [10, 10], \"name\": 10, \"marker\": {\"color\": \"#008856\"}}, {\"type\": \"scatter\", \"x\": [\"2018-10-11 15:27:46\", \"2019-02-02 23:59:57\"], \"y\": [11, 11], \"name\": 11, \"marker\": {\"color\": \"#E68FAC\"}}, {\"type\": \"scatter\", \"x\": [\"2018-10-11 15:27:46\", \"2019-02-02 23:59:55\"], \"y\": [12, 12], \"name\": 12, \"marker\": {\"color\": \"#0067A5\"}}, {\"type\": \"scatter\", \"x\": [\"2018-10-11 15:27:46\", \"2018-12-04 20:27:05\"], \"y\": [13, 13], \"name\": 13, \"marker\": {\"color\": \"#F99379\"}}, {\"type\": \"scatter\", \"x\": [\"2018-10-11 15:27:46\", \"2018-12-06 02:12:27\"], \"y\": [14, 14], \"name\": 14, \"marker\": {\"color\": \"#604E97\"}}, {\"type\": \"scatter\", \"x\": [\"2018-10-11 15:27:46\", \"2019-02-02 23:59:55\"], \"y\": [15, 15], \"name\": 15, \"marker\": {\"color\": \"#F6A600\"}}, {\"type\": \"scatter\", \"x\": [\"2018-10-11 15:27:46\", \"2019-02-02 23:59:58\"], \"y\": [16, 16], \"name\": 16, \"marker\": {\"color\": \"#B3446C\"}}, {\"type\": \"scatter\", \"x\": [\"2018-10-11 15:27:46\", \"2019-01-07 12:46:58\"], \"y\": [17, 17], \"name\": 17, \"marker\": {\"color\": \"#DCD300\"}}, {\"type\": \"scatter\", \"x\": [\"2018-10-11 15:27:46\", \"2019-01-07 12:46:58\"], \"y\": [18, 18], \"name\": 18, \"marker\": {\"color\": \"#882D17\"}}, {\"type\": \"scatter\", \"x\": [\"2019-01-25 01:34:46\", \"2019-02-02 23:59:58\"], \"y\": [19, 19], \"name\": 19, \"marker\": {\"color\": \"#8DB600\"}}, {\"type\": \"scatter\", \"x\": [\"2019-01-25 18:45:37\", \"2019-02-02 23:59:57\"], \"y\": [20, 20], \"name\": 20, \"marker\": {\"color\": \"#654522\"}}, {\"type\": \"scatter\", \"x\": [\"2019-01-29 16:50:28\", \"2019-02-02 23:59:58\"], \"y\": [21, 21], \"name\": 21, \"marker\": {\"color\": \"#E25822\"}}, {\"type\": \"scatter\", \"x\": [\"2019-01-30 20:33:37\", \"2019-02-02 23:59:56\"], \"y\": [22, 22], \"name\": 22, \"marker\": {\"color\": \"#2B3D26\"}}], {\"title\": \"Device reporting times(collectd)\", \"xaxis\": {\"title\": \"Time\"}, \"yaxis\": {\"title\": \"Device Number\"}}, {\"showLink\": true, \"linkText\": \"Export to plot.ly\"})});</script>"
      ]
     },
     "metadata": {},
     "output_type": "display_data"
    }
   ],
   "source": [
    "print(\"Collectd reporting times:\")\n",
    "data=[]\n",
    "for i in range(len(device_numbers)):\n",
    "    try:\n",
    "        result_ping_first[i] = dateutil.parser.parse(result_ping_first[i]).strftime('%Y-%m-%d %H:%M:%S')\n",
    "    except:\n",
    "        result_ping_first[i]=None\n",
    "    try:\n",
    "        result_ping_last[i] = dateutil.parser.parse(result_ping_last[i]).strftime('%Y-%m-%d %H:%M:%S')\n",
    "    except:\n",
    "        result_ping_last[i]=None\n",
    "    print(\"Device: \", device_numbers[i],\"  was reporting from \", result_ping_first[i], \" to \",result_ping_last[i])\n",
    "    trace = go.Scatter(x=[result_ping_first[i],result_ping_last[i]],y=[device_numbers[i],device_numbers[i]], \n",
    "                       name = device_numbers[i],marker=dict(color=colors[i]))\n",
    "    data.append(trace)\n",
    "layout = dict(title = \"Device reporting times(collectd)\",xaxis=dict(title=\"Time\"),\n",
    "        yaxis=dict(title=\"Device Number\"))\n",
    "fig = go.Figure(data=data, layout=layout)\n",
    "iplot(fig)"
   ]
  },
  {
   "cell_type": "markdown",
   "metadata": {},
   "source": [
    "Something is happening with devices  1,2,4,5,6,8,13 and 14. They stopped reporting - does it need to be investigated?"
   ]
  },
  {
   "cell_type": "markdown",
   "metadata": {},
   "source": [
    "## Ping latency "
   ]
  },
  {
   "cell_type": "markdown",
   "metadata": {},
   "source": [
    "What is normal ping latency? From [this link](https://www.pingman.com/kb/article/what-s-normal-for-latency-and-packet-loss-42.html):\n",
    "\n",
    ">There are two normal factors that significantly influence the latency of a consumer device (like a cable modem, dsl modem or dial-up modem).\n",
    "\n",
    ">The latency of the connecting device. For a cable modem, this can normally be between 5 and 40 ms. For a DSL modem this is normally 10 to 70ms. For a dial-up modem, this is normally anywhere from 100 to 220ms. For a cellular link, this can be from 200 to 600 ms. For a T1, this is normally 0 to 10 ms.\n",
    "The distance the data is traveling. Data travels at (very roughly) 120,000 miles (or 192,000 kilometers) per second, or 120 miles (192 km) per ms (millisecond) over a network connection. With traceroute, we have to send the data there and back again, so roughly 1 ms of latency is added for every 60 miles (96km, although with the level of accuracy we're using here, we should say '100km') of distance between you and the target.\n",
    "Connecting to a web site across 1500 miles (2400 km) of distance is going to add at least 25 ms to the latency. Normally, it's more like 75 after the data zig-zags around a bit and goes through numerous routers.\n",
    "\n",
    ">This means that a DSL modem on the west coast of the United States, tracing to a server on the east coast of the United States should expect somewhere around 120 ms (depending on the route and a number of other factors, but this is a rough ballpark) - 25 ms for the DSL modem and 100 ms for the distance. Tracing across an ocean, or through a satellite link, or some other link where the distance is further will certainly impact the expected latency more.\n",
    "\n"
   ]
  },
  {
   "cell_type": "markdown",
   "metadata": {},
   "source": [
    "Let's check actual ping latency numbers in last 4 weeks:"
   ]
  },
  {
   "cell_type": "code",
   "execution_count": 19,
   "metadata": {},
   "outputs": [],
   "source": [
    "#query_ping_max_dec = \"SELECT MAX(PING), MEAN(PING) FROM PING WHERE time >= '2018-12-01 00:00:00' GROUP BY SK_PI;\"\n",
    "#time_interval='4w'\n",
    "query_ping_stats_time = \"SELECT MAX(PING), MEAN(PING), MEDIAN(PING) FROM PING WHERE PING!=0 AND time >= '\"+starting_point+\"'-\"+\\\n",
    "                         time_interval+\" GROUP BY SK_PI;\"\n",
    "result_ping_stats=get_3_stats_influxdb(client_influx=client,\n",
    "                                       query_influx=query_ping_stats_time,\n",
    "                                       stat_name1='max',\n",
    "                                       stat_name2='mean',\n",
    "                                       stat_name3='median',\n",
    "                                       device_numbers=device_numbers)"
   ]
  },
  {
   "cell_type": "markdown",
   "metadata": {},
   "source": [
    "Plotting mean and max ping latency results for every reporting result in December."
   ]
  },
  {
   "cell_type": "code",
   "execution_count": 20,
   "metadata": {},
   "outputs": [
    {
     "data": {
      "application/vnd.plotly.v1+json": {
       "data": [
        {
         "marker": {
          "color": "#F3C300"
         },
         "name": "Max",
         "type": "bar",
         "x": [
          3,
          5,
          7,
          8,
          9,
          11,
          12,
          15,
          16,
          19,
          20,
          21,
          22
         ],
         "y": [
          108.257,
          894.159,
          885.945,
          87.63,
          246.753,
          233.662,
          890.666,
          103.482,
          901.001,
          873.855,
          243.753,
          856.365,
          525.898
         ]
        },
        {
         "marker": {
          "color": "#875692"
         },
         "name": "Mean",
         "type": "bar",
         "x": [
          3,
          5,
          7,
          8,
          9,
          11,
          12,
          15,
          16,
          19,
          20,
          21,
          22
         ],
         "y": [
          14.817892106091158,
          61.844376329946314,
          37.550565594624814,
          29.42818952446608,
          37.654265434200596,
          28.823444613746158,
          29.703327162637123,
          35.40761141781665,
          79.25618560134713,
          101.08111250141958,
          54.69082835107377,
          216.72616047571339,
          66.71563580588041
         ]
        },
        {
         "marker": {
          "color": "#F38400"
         },
         "name": "Median",
         "type": "bar",
         "x": [
          3,
          5,
          7,
          8,
          9,
          11,
          12,
          15,
          16,
          19,
          20,
          21,
          22
         ],
         "y": [
          14.711,
          39.731,
          33.615,
          29.365,
          32.823,
          27.64,
          26.085,
          35.014,
          37.828,
          92.137,
          49.18,
          229.65699999999998,
          50.377
         ]
        }
       ],
       "layout": {
        "title": "Maximum, mean and median ping delay in miliseconds for the last 4w starting from 2019-02-04 16:54:37",
        "xaxis": {
         "title": "Device Number"
        },
        "yaxis": {
         "title": "Miliseconds"
        }
       }
      },
      "text/html": [
       "<div id=\"cddeaf6c-791a-404f-8fd3-8e1a0398d50b\" style=\"height: 525px; width: 100%;\" class=\"plotly-graph-div\"></div><script type=\"text/javascript\">require([\"plotly\"], function(Plotly) { window.PLOTLYENV=window.PLOTLYENV || {};window.PLOTLYENV.BASE_URL=\"https://plot.ly\";Plotly.newPlot(\"cddeaf6c-791a-404f-8fd3-8e1a0398d50b\", [{\"type\": \"bar\", \"x\": [3, 5, 7, 8, 9, 11, 12, 15, 16, 19, 20, 21, 22], \"y\": [108.257, 894.159, 885.945, 87.63, 246.753, 233.662, 890.666, 103.482, 901.001, 873.855, 243.753, 856.365, 525.898], \"marker\": {\"color\": \"#F3C300\"}, \"name\": \"Max\"}, {\"type\": \"bar\", \"x\": [3, 5, 7, 8, 9, 11, 12, 15, 16, 19, 20, 21, 22], \"y\": [14.817892106091158, 61.844376329946314, 37.550565594624814, 29.42818952446608, 37.654265434200596, 28.823444613746158, 29.703327162637123, 35.40761141781665, 79.25618560134713, 101.08111250141958, 54.69082835107377, 216.72616047571339, 66.71563580588041], \"marker\": {\"color\": \"#875692\"}, \"name\": \"Mean\"}, {\"type\": \"bar\", \"x\": [3, 5, 7, 8, 9, 11, 12, 15, 16, 19, 20, 21, 22], \"y\": [14.711, 39.731, 33.615, 29.365, 32.823, 27.64, 26.085, 35.014, 37.828, 92.137, 49.18, 229.65699999999998, 50.377], \"marker\": {\"color\": \"#F38400\"}, \"name\": \"Median\"}], {\"title\": \"Maximum, mean and median ping delay in miliseconds for the last 4w starting from 2019-02-04 16:54:37\", \"xaxis\": {\"title\": \"Device Number\"}, \"yaxis\": {\"title\": \"Miliseconds\"}}, {\"showLink\": true, \"linkText\": \"Export to plot.ly\"})});</script>"
      ],
      "text/vnd.plotly.v1+html": [
       "<div id=\"cddeaf6c-791a-404f-8fd3-8e1a0398d50b\" style=\"height: 525px; width: 100%;\" class=\"plotly-graph-div\"></div><script type=\"text/javascript\">require([\"plotly\"], function(Plotly) { window.PLOTLYENV=window.PLOTLYENV || {};window.PLOTLYENV.BASE_URL=\"https://plot.ly\";Plotly.newPlot(\"cddeaf6c-791a-404f-8fd3-8e1a0398d50b\", [{\"type\": \"bar\", \"x\": [3, 5, 7, 8, 9, 11, 12, 15, 16, 19, 20, 21, 22], \"y\": [108.257, 894.159, 885.945, 87.63, 246.753, 233.662, 890.666, 103.482, 901.001, 873.855, 243.753, 856.365, 525.898], \"marker\": {\"color\": \"#F3C300\"}, \"name\": \"Max\"}, {\"type\": \"bar\", \"x\": [3, 5, 7, 8, 9, 11, 12, 15, 16, 19, 20, 21, 22], \"y\": [14.817892106091158, 61.844376329946314, 37.550565594624814, 29.42818952446608, 37.654265434200596, 28.823444613746158, 29.703327162637123, 35.40761141781665, 79.25618560134713, 101.08111250141958, 54.69082835107377, 216.72616047571339, 66.71563580588041], \"marker\": {\"color\": \"#875692\"}, \"name\": \"Mean\"}, {\"type\": \"bar\", \"x\": [3, 5, 7, 8, 9, 11, 12, 15, 16, 19, 20, 21, 22], \"y\": [14.711, 39.731, 33.615, 29.365, 32.823, 27.64, 26.085, 35.014, 37.828, 92.137, 49.18, 229.65699999999998, 50.377], \"marker\": {\"color\": \"#F38400\"}, \"name\": \"Median\"}], {\"title\": \"Maximum, mean and median ping delay in miliseconds for the last 4w starting from 2019-02-04 16:54:37\", \"xaxis\": {\"title\": \"Device Number\"}, \"yaxis\": {\"title\": \"Miliseconds\"}}, {\"showLink\": true, \"linkText\": \"Export to plot.ly\"})});</script>"
      ]
     },
     "metadata": {},
     "output_type": "display_data"
    }
   ],
   "source": [
    "combined_bar_plot_3traces(xvalues=result_ping_stats[\"SK_PI\"],\n",
    "                         yvalues1=result_ping_stats[\"max\"],\n",
    "                         yvalues2=result_ping_stats[\"mean\"],\n",
    "                         yvalues3=result_ping_stats[\"median\"],\n",
    "                         name1=\"Max\",\n",
    "                         name2=\"Mean\",\n",
    "                         name3=\"Median\",\n",
    "                         title=\"Maximum, mean and median ping delay in miliseconds for the last \"+time_interval+ \" starting from \"+ starting_point,\n",
    "                         stack=False)"
   ]
  },
  {
   "cell_type": "markdown",
   "metadata": {},
   "source": [
    "Device 16 has the highest mean and highest max.Devices 7,10,12,17 and 18 have large ping delays as well."
   ]
  },
  {
   "cell_type": "markdown",
   "metadata": {},
   "source": [
    "### Ping latency grouped by duration\n",
    "Lets divide ping latencies into 3 groups:\n",
    " - group1:  1-40Ms delay\n",
    " - group2:  41-100Ms delay\n",
    " - group3:  101+Ms delay  \n",
    " And calculate percentages of ping latencies in each group for every device:"
   ]
  },
  {
   "cell_type": "code",
   "execution_count": 21,
   "metadata": {},
   "outputs": [],
   "source": [
    "range1=40\n",
    "range2=100\n",
    "#time_interval='4w'"
   ]
  },
  {
   "cell_type": "code",
   "execution_count": 22,
   "metadata": {},
   "outputs": [],
   "source": [
    "query_ping_group1 = \"SELECT COUNT(PING) FROM PING WHERE PING > 0 AND PING < \"+str(range1+1)+\\\n",
    "                   \" AND time >= '\"+starting_point+\"'-\"+time_interval+\" GROUP BY SK_PI;\"\n",
    "ping_group1_time  = get_stats_influxdb(client_influx=client,\n",
    "                                      query_influx=query_ping_group1,\n",
    "                                      stat_name='count',\n",
    "                                      device_numbers=device_numbers)"
   ]
  },
  {
   "cell_type": "code",
   "execution_count": 23,
   "metadata": {},
   "outputs": [],
   "source": [
    "query_ping_group2 = \"SELECT COUNT(PING) FROM PING WHERE PING > \"+str(range1)+\\\n",
    "                   \" AND PING < \"+str(range2+1)+\" AND time >= '\"+starting_point+\"'-\"+time_interval+\" GROUP BY SK_PI;\"\n",
    "ping_group2_time = get_stats_influxdb(client_influx=client,\n",
    "                                      query_influx=query_ping_group2,\n",
    "                                      stat_name='count',\n",
    "                                      device_numbers=device_numbers)"
   ]
  },
  {
   "cell_type": "code",
   "execution_count": 24,
   "metadata": {},
   "outputs": [],
   "source": [
    "query_ping_group3= \"SELECT COUNT(PING) FROM PING WHERE PING > \"+str(range2+1)+\" AND  time >= '\"+starting_point+\"'-\"+\\\n",
    "                   time_interval+\" GROUP BY SK_PI;\"\n",
    "ping_group3_time = get_stats_influxdb(client_influx=client,\n",
    "                                      query_influx=query_ping_group3,\n",
    "                                      stat_name='count',\n",
    "                                      device_numbers=device_numbers)"
   ]
  },
  {
   "cell_type": "code",
   "execution_count": 25,
   "metadata": {
    "scrolled": false
   },
   "outputs": [
    {
     "data": {
      "application/vnd.plotly.v1+json": {
       "data": [
        {
         "marker": {
          "color": "#F3C300"
         },
         "name": "Number of pings with 1-40Ms delay",
         "type": "bar",
         "x": [
          1,
          2,
          3,
          4,
          5,
          6,
          7,
          8,
          9,
          10,
          11,
          12,
          13,
          14,
          15,
          16,
          17,
          18,
          19,
          20,
          21,
          22
         ],
         "y": [
          0,
          0,
          453775,
          0,
          18927,
          0,
          400394,
          65222,
          388380,
          0,
          444689,
          415931,
          0,
          0,
          446301,
          341374,
          0,
          0,
          0,
          7556,
          0,
          0
         ]
        },
        {
         "marker": {
          "color": "#875692"
         },
         "name": "Number of pings with 41-100Ms delay",
         "type": "bar",
         "x": [
          1,
          2,
          3,
          4,
          5,
          6,
          7,
          8,
          9,
          10,
          11,
          12,
          13,
          14,
          15,
          16,
          17,
          18,
          19,
          20,
          21,
          22
         ],
         "y": [
          0,
          0,
          652,
          0,
          13018,
          0,
          53310,
          84,
          57094,
          0,
          9091,
          28670,
          0,
          0,
          8012,
          31775,
          0,
          0,
          104782,
          133115,
          14843,
          46519
         ]
        },
        {
         "marker": {
          "color": "#F38400"
         },
         "name": "Number of pings with 101+Ms delay",
         "type": "bar",
         "x": [
          1,
          2,
          3,
          4,
          5,
          6,
          7,
          8,
          9,
          10,
          11,
          12,
          13,
          14,
          15,
          16,
          17,
          18,
          19,
          20,
          21,
          22
         ],
         "y": [
          0,
          0,
          1,
          0,
          2518,
          0,
          4605,
          0,
          6457,
          0,
          1,
          3748,
          0,
          0,
          1,
          68145,
          0,
          0,
          44742,
          8084,
          50574,
          5964
         ]
        }
       ],
       "layout": {
        "barmode": "stack",
        "title": "Ping latency grouped by duration in the last 4w starting from 2019-02-04 16:54:37",
        "xaxis": {
         "title": "Device Number"
        },
        "yaxis": {
         "title": "Number of datapoints"
        }
       }
      },
      "text/html": [
       "<div id=\"4cc30cf0-8cd6-46d7-ab92-9de8e06b35d7\" style=\"height: 525px; width: 100%;\" class=\"plotly-graph-div\"></div><script type=\"text/javascript\">require([\"plotly\"], function(Plotly) { window.PLOTLYENV=window.PLOTLYENV || {};window.PLOTLYENV.BASE_URL=\"https://plot.ly\";Plotly.newPlot(\"4cc30cf0-8cd6-46d7-ab92-9de8e06b35d7\", [{\"type\": \"bar\", \"x\": [1, 2, 3, 4, 5, 6, 7, 8, 9, 10, 11, 12, 13, 14, 15, 16, 17, 18, 19, 20, 21, 22], \"y\": [0, 0, 453775, 0, 18927, 0, 400394, 65222, 388380, 0, 444689, 415931, 0, 0, 446301, 341374, 0, 0, 0, 7556, 0, 0], \"marker\": {\"color\": \"#F3C300\"}, \"name\": \"Number of pings with 1-40Ms delay\"}, {\"type\": \"bar\", \"x\": [1, 2, 3, 4, 5, 6, 7, 8, 9, 10, 11, 12, 13, 14, 15, 16, 17, 18, 19, 20, 21, 22], \"y\": [0, 0, 652, 0, 13018, 0, 53310, 84, 57094, 0, 9091, 28670, 0, 0, 8012, 31775, 0, 0, 104782, 133115, 14843, 46519], \"marker\": {\"color\": \"#875692\"}, \"name\": \"Number of pings with 41-100Ms delay\"}, {\"type\": \"bar\", \"x\": [1, 2, 3, 4, 5, 6, 7, 8, 9, 10, 11, 12, 13, 14, 15, 16, 17, 18, 19, 20, 21, 22], \"y\": [0, 0, 1, 0, 2518, 0, 4605, 0, 6457, 0, 1, 3748, 0, 0, 1, 68145, 0, 0, 44742, 8084, 50574, 5964], \"marker\": {\"color\": \"#F38400\"}, \"name\": \"Number of pings with 101+Ms delay\"}], {\"title\": \"Ping latency grouped by duration in the last 4w starting from 2019-02-04 16:54:37\", \"xaxis\": {\"title\": \"Device Number\"}, \"yaxis\": {\"title\": \"Number of datapoints\"}, \"barmode\": \"stack\"}, {\"showLink\": true, \"linkText\": \"Export to plot.ly\"})});</script>"
      ],
      "text/vnd.plotly.v1+html": [
       "<div id=\"4cc30cf0-8cd6-46d7-ab92-9de8e06b35d7\" style=\"height: 525px; width: 100%;\" class=\"plotly-graph-div\"></div><script type=\"text/javascript\">require([\"plotly\"], function(Plotly) { window.PLOTLYENV=window.PLOTLYENV || {};window.PLOTLYENV.BASE_URL=\"https://plot.ly\";Plotly.newPlot(\"4cc30cf0-8cd6-46d7-ab92-9de8e06b35d7\", [{\"type\": \"bar\", \"x\": [1, 2, 3, 4, 5, 6, 7, 8, 9, 10, 11, 12, 13, 14, 15, 16, 17, 18, 19, 20, 21, 22], \"y\": [0, 0, 453775, 0, 18927, 0, 400394, 65222, 388380, 0, 444689, 415931, 0, 0, 446301, 341374, 0, 0, 0, 7556, 0, 0], \"marker\": {\"color\": \"#F3C300\"}, \"name\": \"Number of pings with 1-40Ms delay\"}, {\"type\": \"bar\", \"x\": [1, 2, 3, 4, 5, 6, 7, 8, 9, 10, 11, 12, 13, 14, 15, 16, 17, 18, 19, 20, 21, 22], \"y\": [0, 0, 652, 0, 13018, 0, 53310, 84, 57094, 0, 9091, 28670, 0, 0, 8012, 31775, 0, 0, 104782, 133115, 14843, 46519], \"marker\": {\"color\": \"#875692\"}, \"name\": \"Number of pings with 41-100Ms delay\"}, {\"type\": \"bar\", \"x\": [1, 2, 3, 4, 5, 6, 7, 8, 9, 10, 11, 12, 13, 14, 15, 16, 17, 18, 19, 20, 21, 22], \"y\": [0, 0, 1, 0, 2518, 0, 4605, 0, 6457, 0, 1, 3748, 0, 0, 1, 68145, 0, 0, 44742, 8084, 50574, 5964], \"marker\": {\"color\": \"#F38400\"}, \"name\": \"Number of pings with 101+Ms delay\"}], {\"title\": \"Ping latency grouped by duration in the last 4w starting from 2019-02-04 16:54:37\", \"xaxis\": {\"title\": \"Device Number\"}, \"yaxis\": {\"title\": \"Number of datapoints\"}, \"barmode\": \"stack\"}, {\"showLink\": true, \"linkText\": \"Export to plot.ly\"})});</script>"
      ]
     },
     "metadata": {},
     "output_type": "display_data"
    }
   ],
   "source": [
    "combined_bar_plot_3traces(xvalues=device_numbers,\n",
    "                         yvalues1=ping_group1_time,\n",
    "                         yvalues2=ping_group2_time,\n",
    "                         yvalues3=ping_group3_time,\n",
    "                         name1=\"Number of pings with 1-\"+str(range1)+\"Ms delay\",\n",
    "                         name2=\"Number of pings with \"+str(range1+1)+\"-\"+str(range2)+\"Ms delay\",\n",
    "                         name3=\"Number of pings with \"+str(range2+1)+\"+Ms delay\",\n",
    "                         title=\"Ping latency grouped by duration in the last \"+time_interval+ \" starting from \"+ starting_point,\n",
    "                         ytitle=\"Number of datapoints\")"
   ]
  },
  {
   "cell_type": "markdown",
   "metadata": {
    "collapsed": true
   },
   "source": [
    "## Ping droprate \n",
    "We will calculate the etite number of packets dropped by device using formula:SUM(PING_DROPRATE)/100"
   ]
  },
  {
   "cell_type": "code",
   "execution_count": 26,
   "metadata": {},
   "outputs": [],
   "source": [
    "query_pingdroprate_mean_time= \"SELECT MEAN(PING_DROPRATE) FROM PING WHERE  time >= '\"+starting_point+\"'-\"+time_interval+\"  GROUP BY SK_PI;\"\n",
    "pingdroprate_mean_time=get_stats_influxdb(client_influx=client,\n",
    "                               query_influx=query_pingdroprate_mean_time,\n",
    "                               stat_name='mean',\n",
    "                               device_numbers=device_numbers)"
   ]
  },
  {
   "cell_type": "code",
   "execution_count": 27,
   "metadata": {},
   "outputs": [
    {
     "data": {
      "application/vnd.plotly.v1+json": {
       "data": [
        {
         "marker": {
          "color": "#F3C300"
         },
         "name": "Mean",
         "type": "bar",
         "x": [
          1,
          2,
          3,
          4,
          5,
          6,
          7,
          8,
          9,
          10,
          11,
          12,
          13,
          14,
          15,
          16,
          17,
          18,
          19,
          20,
          21,
          22
         ],
         "y": [
          0,
          0,
          0.003081141871177458,
          0,
          3.143634574190934,
          0,
          0.261898211829436,
          0.0030629278527344287,
          1.1078905842505233,
          0,
          0.19367177475972597,
          1.7531697246999738,
          0,
          0,
          0.015406285764591953,
          3.262261817253476,
          0,
          0,
          3.1441692954443874,
          0.570378350972812,
          11.923418692947735,
          3.2785374663668865
         ]
        }
       ],
       "layout": {
        "barmode": "stack",
        "title": "Average percentage of ping droprate per device in the last 4w starting from 2019-02-04 16:54:37",
        "xaxis": {
         "title": "Device Number"
        },
        "yaxis": {
         "title": "Percent"
        }
       }
      },
      "text/html": [
       "<div id=\"44159d79-4796-49a3-9f9d-07138d7b0176\" style=\"height: 525px; width: 100%;\" class=\"plotly-graph-div\"></div><script type=\"text/javascript\">require([\"plotly\"], function(Plotly) { window.PLOTLYENV=window.PLOTLYENV || {};window.PLOTLYENV.BASE_URL=\"https://plot.ly\";Plotly.newPlot(\"44159d79-4796-49a3-9f9d-07138d7b0176\", [{\"type\": \"bar\", \"x\": [1, 2, 3, 4, 5, 6, 7, 8, 9, 10, 11, 12, 13, 14, 15, 16, 17, 18, 19, 20, 21, 22], \"y\": [0, 0, 0.003081141871177458, 0, 3.143634574190934, 0, 0.261898211829436, 0.0030629278527344287, 1.1078905842505233, 0, 0.19367177475972597, 1.7531697246999738, 0, 0, 0.015406285764591953, 3.262261817253476, 0, 0, 3.1441692954443874, 0.570378350972812, 11.923418692947735, 3.2785374663668865], \"marker\": {\"color\": \"#F3C300\"}, \"name\": \"Mean\"}], {\"barmode\": \"stack\", \"title\": \"Average percentage of ping droprate per device in the last 4w starting from 2019-02-04 16:54:37\", \"xaxis\": {\"title\": \"Device Number\"}, \"yaxis\": {\"title\": \"Percent\"}}, {\"showLink\": true, \"linkText\": \"Export to plot.ly\"})});</script>"
      ],
      "text/vnd.plotly.v1+html": [
       "<div id=\"44159d79-4796-49a3-9f9d-07138d7b0176\" style=\"height: 525px; width: 100%;\" class=\"plotly-graph-div\"></div><script type=\"text/javascript\">require([\"plotly\"], function(Plotly) { window.PLOTLYENV=window.PLOTLYENV || {};window.PLOTLYENV.BASE_URL=\"https://plot.ly\";Plotly.newPlot(\"44159d79-4796-49a3-9f9d-07138d7b0176\", [{\"type\": \"bar\", \"x\": [1, 2, 3, 4, 5, 6, 7, 8, 9, 10, 11, 12, 13, 14, 15, 16, 17, 18, 19, 20, 21, 22], \"y\": [0, 0, 0.003081141871177458, 0, 3.143634574190934, 0, 0.261898211829436, 0.0030629278527344287, 1.1078905842505233, 0, 0.19367177475972597, 1.7531697246999738, 0, 0, 0.015406285764591953, 3.262261817253476, 0, 0, 3.1441692954443874, 0.570378350972812, 11.923418692947735, 3.2785374663668865], \"marker\": {\"color\": \"#F3C300\"}, \"name\": \"Mean\"}], {\"barmode\": \"stack\", \"title\": \"Average percentage of ping droprate per device in the last 4w starting from 2019-02-04 16:54:37\", \"xaxis\": {\"title\": \"Device Number\"}, \"yaxis\": {\"title\": \"Percent\"}}, {\"showLink\": true, \"linkText\": \"Export to plot.ly\"})});</script>"
      ]
     },
     "metadata": {},
     "output_type": "display_data"
    }
   ],
   "source": [
    "simple_bar_plot(xvalues=device_numbers,\n",
    "                yvalues=pingdroprate_mean_time,\n",
    "                name=\"Mean\",\n",
    "                title=\"Average percentage of ping droprate per device in the last \"+time_interval + \" starting from \"+ starting_point,\n",
    "                ytitle=\"Percent\")"
   ]
  },
  {
   "cell_type": "markdown",
   "metadata": {},
   "source": [
    "Device 10 has the highest mean - highst percentage of packets dropped - more than 6%."
   ]
  },
  {
   "cell_type": "code",
   "execution_count": 28,
   "metadata": {},
   "outputs": [],
   "source": [
    "query_pingdroprate_counts_time = \"SELECT COUNT(PING_DROPRATE) FROM PING WHERE time >= '\"+starting_point+\"'-\"+time_interval+\\\n",
    "                                 \" AND PING_DROPRATE>0 GROUP BY SK_PI ;\"\n",
    "pingdroprate_counts_time=get_stats_influxdb(client_influx=client,\n",
    "                               query_influx=query_pingdroprate_counts_time,\n",
    "                               stat_name='count',\n",
    "                               device_numbers=device_numbers)"
   ]
  },
  {
   "cell_type": "code",
   "execution_count": 29,
   "metadata": {},
   "outputs": [],
   "source": [
    "query_ping_counts_time = \"SELECT COUNT(PING) FROM PING WHERE time >= '\"+starting_point+\"'-\"+time_interval+\" GROUP BY SK_PI ;\"\n",
    "ping_counts_time = get_stats_influxdb(client_influx=client,\n",
    "                                      query_influx=query_ping_counts_time,\n",
    "                                      stat_name='count',\n",
    "                                      device_numbers=device_numbers)"
   ]
  },
  {
   "cell_type": "code",
   "execution_count": 30,
   "metadata": {},
   "outputs": [
    {
     "name": "stdout",
     "output_type": "stream",
     "text": [
      "[0, 0, 14, 0, 1086, 0, 1190, 2, 5034, 0, 880, 7966, 0, 0, 70, 14823, 0, 0, 4854, 810, 8856, 1779]\n",
      "[0, 0, 454363, 0, 33460, 0, 453185, 65295, 449343, 0, 453497, 446411, 0, 0, 454290, 439555, 0, 0, 149527, 141201, 65418, 52483]\n"
     ]
    }
   ],
   "source": [
    "print(pingdroprate_counts_time)\n",
    "print([a - b for a, b in zip(ping_counts_time, pingdroprate_counts_time)])"
   ]
  },
  {
   "cell_type": "code",
   "execution_count": 31,
   "metadata": {},
   "outputs": [
    {
     "data": {
      "application/vnd.plotly.v1+json": {
       "data": [
        {
         "marker": {
          "color": "#F3C300"
         },
         "name": "Number of pings dropped",
         "type": "bar",
         "x": [
          1,
          2,
          3,
          4,
          5,
          6,
          7,
          8,
          9,
          10,
          11,
          12,
          13,
          14,
          15,
          16,
          17,
          18,
          19,
          20,
          21,
          22
         ],
         "y": [
          0,
          0,
          14,
          0,
          1086,
          0,
          1190,
          2,
          5034,
          0,
          880,
          7966,
          0,
          0,
          70,
          14823,
          0,
          0,
          4854,
          810,
          8856,
          1779
         ]
        },
        {
         "marker": {
          "color": "#875692"
         },
         "name": "Number of pings delievered",
         "type": "bar",
         "x": [
          1,
          2,
          3,
          4,
          5,
          6,
          7,
          8,
          9,
          10,
          11,
          12,
          13,
          14,
          15,
          16,
          17,
          18,
          19,
          20,
          21,
          22
         ],
         "y": [
          0,
          0,
          454363,
          0,
          33460,
          0,
          453185,
          65295,
          449343,
          0,
          453497,
          446411,
          0,
          0,
          454290,
          439555,
          0,
          0,
          149527,
          141201,
          65418,
          52483
         ]
        }
       ],
       "layout": {
        "barmode": "stack",
        "title": "Ping droprate(actual number) in the last 4w starting from 2019-02-04 16:54:37",
        "xaxis": {
         "title": "Device Number"
        },
        "yaxis": {
         "title": "Number of datapoints"
        }
       }
      },
      "text/html": [
       "<div id=\"20b107e6-4244-4139-bd70-b25131ee47d6\" style=\"height: 525px; width: 100%;\" class=\"plotly-graph-div\"></div><script type=\"text/javascript\">require([\"plotly\"], function(Plotly) { window.PLOTLYENV=window.PLOTLYENV || {};window.PLOTLYENV.BASE_URL=\"https://plot.ly\";Plotly.newPlot(\"20b107e6-4244-4139-bd70-b25131ee47d6\", [{\"type\": \"bar\", \"x\": [1, 2, 3, 4, 5, 6, 7, 8, 9, 10, 11, 12, 13, 14, 15, 16, 17, 18, 19, 20, 21, 22], \"y\": [0, 0, 14, 0, 1086, 0, 1190, 2, 5034, 0, 880, 7966, 0, 0, 70, 14823, 0, 0, 4854, 810, 8856, 1779], \"marker\": {\"color\": \"#F3C300\"}, \"name\": \"Number of pings dropped\"}, {\"type\": \"bar\", \"x\": [1, 2, 3, 4, 5, 6, 7, 8, 9, 10, 11, 12, 13, 14, 15, 16, 17, 18, 19, 20, 21, 22], \"y\": [0, 0, 454363, 0, 33460, 0, 453185, 65295, 449343, 0, 453497, 446411, 0, 0, 454290, 439555, 0, 0, 149527, 141201, 65418, 52483], \"marker\": {\"color\": \"#875692\"}, \"name\": \"Number of pings delievered\"}], {\"barmode\": \"stack\", \"title\": \"Ping droprate(actual number) in the last 4w starting from 2019-02-04 16:54:37\", \"xaxis\": {\"title\": \"Device Number\"}, \"yaxis\": {\"title\": \"Number of datapoints\"}}, {\"showLink\": true, \"linkText\": \"Export to plot.ly\"})});</script>"
      ],
      "text/vnd.plotly.v1+html": [
       "<div id=\"20b107e6-4244-4139-bd70-b25131ee47d6\" style=\"height: 525px; width: 100%;\" class=\"plotly-graph-div\"></div><script type=\"text/javascript\">require([\"plotly\"], function(Plotly) { window.PLOTLYENV=window.PLOTLYENV || {};window.PLOTLYENV.BASE_URL=\"https://plot.ly\";Plotly.newPlot(\"20b107e6-4244-4139-bd70-b25131ee47d6\", [{\"type\": \"bar\", \"x\": [1, 2, 3, 4, 5, 6, 7, 8, 9, 10, 11, 12, 13, 14, 15, 16, 17, 18, 19, 20, 21, 22], \"y\": [0, 0, 14, 0, 1086, 0, 1190, 2, 5034, 0, 880, 7966, 0, 0, 70, 14823, 0, 0, 4854, 810, 8856, 1779], \"marker\": {\"color\": \"#F3C300\"}, \"name\": \"Number of pings dropped\"}, {\"type\": \"bar\", \"x\": [1, 2, 3, 4, 5, 6, 7, 8, 9, 10, 11, 12, 13, 14, 15, 16, 17, 18, 19, 20, 21, 22], \"y\": [0, 0, 454363, 0, 33460, 0, 453185, 65295, 449343, 0, 453497, 446411, 0, 0, 454290, 439555, 0, 0, 149527, 141201, 65418, 52483], \"marker\": {\"color\": \"#875692\"}, \"name\": \"Number of pings delievered\"}], {\"barmode\": \"stack\", \"title\": \"Ping droprate(actual number) in the last 4w starting from 2019-02-04 16:54:37\", \"xaxis\": {\"title\": \"Device Number\"}, \"yaxis\": {\"title\": \"Number of datapoints\"}}, {\"showLink\": true, \"linkText\": \"Export to plot.ly\"})});</script>"
      ]
     },
     "metadata": {},
     "output_type": "display_data"
    }
   ],
   "source": [
    "combined_bar_plot_2traces(xvalues=device_numbers,\n",
    "                          yvalues1=pingdroprate_counts_time,\n",
    "                          yvalues2=[a - b for a, b in zip(ping_counts_time, pingdroprate_counts_time)],\n",
    "                          name1='Number of pings dropped',\n",
    "                          name2='Number of pings delievered',\n",
    "                          title=\"Ping droprate(actual number) in the last \"+time_interval+ \" starting from \"+ starting_point,\n",
    "                          ytitle=\"Number of datapoints\")"
   ]
  },
  {
   "cell_type": "markdown",
   "metadata": {},
   "source": [
    "Device #10 and device #16  have the largest number of packets dropped."
   ]
  },
  {
   "cell_type": "code",
   "execution_count": 32,
   "metadata": {},
   "outputs": [],
   "source": [
    "#trace = go.Pie(labels=device_numbers, values=device_dropped_counts)\n",
    "#data=[trace]\n",
    "#layout = go.Layout(\n",
    "#        title=\"Total number of packets dropped by device\"\n",
    "#    )\n",
    "#fig = go.Figure(data=data, layout=layout)\n",
    "#iplot(fig)"
   ]
  }
 ],
 "metadata": {
  "kernelspec": {
   "display_name": "Python 3",
   "language": "python",
   "name": "python3"
  },
  "language_info": {
   "codemirror_mode": {
    "name": "ipython",
    "version": 3
   },
   "file_extension": ".py",
   "mimetype": "text/x-python",
   "name": "python",
   "nbconvert_exporter": "python",
   "pygments_lexer": "ipython3",
   "version": "3.6.5"
  },
  "nbTranslate": {
   "displayLangs": [
    "*"
   ],
   "hotkey": "alt-t",
   "langInMainMenu": true,
   "sourceLang": "en",
   "targetLang": "fr",
   "useGoogleTranslate": true
  }
 },
 "nbformat": 4,
 "nbformat_minor": 2
}
