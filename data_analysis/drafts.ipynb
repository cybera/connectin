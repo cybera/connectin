{
 "cells": [
  {
   "cell_type": "code",
   "execution_count": null,
   "metadata": {
    "collapsed": true
   },
   "outputs": [],
   "source": [
    "query_upload = \"SELECT * FROM SPEEDTEST_UPLOAD WHERE PROVIDER!='iperf' AND time >= now()-\"+time_interval+\";\"\n",
    "upload_df = get_dataframe_from_influxdb(client_df=client_df,query_influx=query_upload,table_name='SPEEDTEST_UPLOAD')\n",
    "upload_df.head()"
   ]
  },
  {
   "cell_type": "markdown",
   "metadata": {},
   "source": [
    "Are there any zeros in Upload speed colum and do they come from NaNs in the original table?"
   ]
  },
  {
   "cell_type": "code",
   "execution_count": null,
   "metadata": {
    "collapsed": true
   },
   "outputs": [],
   "source": [
    "mylist=['UPLOAD']\n",
    "upload_df[upload_df[mylist].eq(0).all(1)]"
   ]
  },
  {
   "cell_type": "code",
   "execution_count": null,
   "metadata": {
    "collapsed": true
   },
   "outputs": [],
   "source": [
    "upload_df = upload_df[upload_df.UPLOAD != 0]\n",
    "upload_df.shape"
   ]
  },
  {
   "cell_type": "code",
   "execution_count": null,
   "metadata": {
    "collapsed": true
   },
   "outputs": [],
   "source": [
    "points_by_device=upload_df.groupby(['SK_PI']).size().reset_index(name='counts').sort_values('SK_PI')\n",
    "simple_bar_plot(xvalues=points_by_device[\"SK_PI\"],\n",
    "                yvalues=points_by_device[\"counts\"],\n",
    "                name=\"ping datapoints\",\n",
    "                title=\"Number of data points per device\")"
   ]
  },
  {
   "cell_type": "markdown",
   "metadata": {},
   "source": [
    "Device 13 doesn to have any speedtest data?  \n",
    "Device 5 has the largest amount of datapoints - is it on for a longest time?"
   ]
  },
  {
   "cell_type": "markdown",
   "metadata": {},
   "source": [
    "#### How many datapoints in the last 4 weeks?"
   ]
  },
  {
   "cell_type": "code",
   "execution_count": null,
   "metadata": {
    "collapsed": true
   },
   "outputs": [],
   "source": [
    "time_interval='4w' #5d"
   ]
  },
  {
   "cell_type": "code",
   "execution_count": null,
   "metadata": {
    "collapsed": true
   },
   "outputs": [],
   "source": [
    "our_weeks_ago = datetime.date.today() - datetime.timedelta(days=28)\n",
    "upload_df_last4weeks = upload_df[upload_df['time']>four_weeks_ago]\n",
    "points_by_device_las4weeks = upload_df_last4weeks.groupby(['SK_PI']).size().reset_index(name='counts').sort_values('SK_PI')\n",
    "merged_results=pd.merge(points_by_device, points_by_device_las4weeks, on='SK_PI', how='outer')\n",
    "merged_results['counts_y']=merged_results['counts_y'].fillna(0)\n",
    "merged_results['result']=merged_results['counts_x'].sub(merged_results['counts_y'], axis=0)"
   ]
  },
  {
   "cell_type": "code",
   "execution_count": null,
   "metadata": {
    "collapsed": true
   },
   "outputs": [],
   "source": [
    "trace1 = go.Bar(\n",
    "            x=merged_results[\"SK_PI\"],\n",
    "            y=merged_results[\"counts_y\"],\n",
    "            name='Last 4 weeks',\n",
    "    )\n",
    "trace2= go.Bar(\n",
    "            x=merged_results[\"SK_PI\"],\n",
    "            y=merged_results['result'],\n",
    "            name='The rest of the time',\n",
    "    )\n",
    "data=[trace1, trace2]\n",
    "layout = go.Layout(\n",
    "        barmode='stack',\n",
    "        title=\"Number of data points per device: last 4 weeks vs entire time\"\n",
    "    )\n",
    "\n",
    "fig = go.Figure(data=data, layout=layout)\n",
    "iplot(fig)"
   ]
  },
  {
   "cell_type": "markdown",
   "metadata": {},
   "source": [
    "Devices 1,2,4,6 and 8 have data but not in the last 4 weeks.  \n",
    "#### When  all the devices started/ended reporting:"
   ]
  },
  {
   "cell_type": "code",
   "execution_count": null,
   "metadata": {
    "collapsed": true
   },
   "outputs": [],
   "source": [
    "start_times=upload_df.groupby('SK_PI')['time'].min()\n",
    "end_times=upload_df.groupby('SK_PI')['time'].max()\n",
    "device_numbers=sorted(upload_df['SK_PI'].unique())\n",
    "#print(device_numbers)\n",
    "data=[]\n",
    "for device in device_numbers:\n",
    "    time_last=end_times[device]\n",
    "    time_first=start_times[device]\n",
    "    print(\"Device: \", device,\"  was reporting from \", time_first, \" to \", time_last)\n",
    "    trace = go.Scatter(x=[time_first,time_last],y=[device,device], name = device)\n",
    "    data.append(trace)\n",
    "layout = dict(title = \"Device reporting times\")\n",
    "fig = go.Figure(data=data, layout=layout)\n",
    "iplot(fig)"
   ]
  }
 ],
 "metadata": {
  "kernelspec": {
   "display_name": "Python 3",
   "language": "python",
   "name": "python3"
  },
  "language_info": {
   "codemirror_mode": {
    "name": "ipython",
    "version": 3
   },
   "file_extension": ".py",
   "mimetype": "text/x-python",
   "name": "python",
   "nbconvert_exporter": "python",
   "pygments_lexer": "ipython3",
   "version": "3.6.3"
  },
  "nbTranslate": {
   "displayLangs": [
    "*"
   ],
   "hotkey": "alt-t",
   "langInMainMenu": true,
   "sourceLang": "en",
   "targetLang": "fr",
   "useGoogleTranslate": true
  }
 },
 "nbformat": 4,
 "nbformat_minor": 2
}
