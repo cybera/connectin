{
 "cells": [
  {
   "cell_type": "markdown",
   "metadata": {},
   "source": [
    "# Iperf data exploration"
   ]
  },
  {
   "cell_type": "markdown",
   "metadata": {},
   "source": [
    "## How data is  collected\n",
    "Iperf data is collected by running iperf3 test with test server **clearskystatus.info**\n",
    "\n",
    "**Commands**:  \n",
    "Bandwidth test:\n",
    ">/usr/bin/iperf3 -c clearskystatus.info\n",
    "\n",
    "Reverse bandwidth test(server sends data to the client):\n",
    ">/usr/bin/iperf3 -c clearskystatus.info -R"
   ]
  },
  {
   "cell_type": "markdown",
   "metadata": {},
   "source": [
    "Data being collected(???):\n",
    " - **Ping latency** \n",
    " - **Upload speed**\n",
    " - **Download speed**"
   ]
  },
  {
   "cell_type": "markdown",
   "metadata": {},
   "source": [
    "## How data looks like"
   ]
  },
  {
   "cell_type": "code",
   "execution_count": 1,
   "metadata": {},
   "outputs": [
    {
     "data": {
      "text/html": [
       "<script>requirejs.config({paths: { 'plotly': ['https://cdn.plot.ly/plotly-latest.min']},});if(!window.Plotly) {{require(['plotly'],function(plotly) {window.Plotly=plotly;});}}</script>"
      ],
      "text/vnd.plotly.v1+html": [
       "<script>requirejs.config({paths: { 'plotly': ['https://cdn.plot.ly/plotly-latest.min']},});if(!window.Plotly) {{require(['plotly'],function(plotly) {window.Plotly=plotly;});}}</script>"
      ]
     },
     "metadata": {},
     "output_type": "display_data"
    }
   ],
   "source": [
    "from data_exploration import *\n",
    "import numpy as np"
   ]
  },
  {
   "cell_type": "code",
   "execution_count": 2,
   "metadata": {},
   "outputs": [],
   "source": [
    "import pyodbc\n",
    "def connect_to_mssql():\n",
    "    with open('../credentials.json', 'r') as f_credentials:\n",
    "        credentials_config = json.load(f_credentials)\n",
    "    password=credentials_config['mssql_password']\n",
    "    srv=credentials_config['mssql_host']\n",
    "    connection = pyodbc.connect(driver='/usr/local/lib/libtdsodbc.so', server=srv,port='1433', database='net_speed_md', uid='cybera_sql', pwd=password)\n",
    "    return connection"
   ]
  },
  {
   "cell_type": "code",
   "execution_count": 61,
   "metadata": {},
   "outputs": [
    {
     "name": "stdout",
     "output_type": "stream",
     "text": [
      "Starting point: 2019-02-05 10:57:47\n"
     ]
    }
   ],
   "source": [
    "#Set up starting point, by default if will start from current time\n",
    "starting_point=datetime.now().strftime('%Y-%m-%d %H:%M:%S')\n",
    "#starting point=\"2019-01-10 14:00:00\"  # to set upl alternative starting point\n",
    "print(\"Starting point:\",starting_point )\n",
    "\n",
    "title_tail=\" to the date \"+ starting_point"
   ]
  },
  {
   "cell_type": "code",
   "execution_count": 4,
   "metadata": {},
   "outputs": [],
   "source": [
    "time_interval='4w' #5d"
   ]
  },
  {
   "cell_type": "markdown",
   "metadata": {},
   "source": [
    "Set up influxdb connection:"
   ]
  },
  {
   "cell_type": "code",
   "execution_count": 5,
   "metadata": {},
   "outputs": [],
   "source": [
    "client, client_df = connect_to_influxdb()"
   ]
  },
  {
   "cell_type": "code",
   "execution_count": 6,
   "metadata": {},
   "outputs": [
    {
     "data": {
      "text/html": [
       "<div>\n",
       "<style>\n",
       "    .dataframe thead tr:only-child th {\n",
       "        text-align: right;\n",
       "    }\n",
       "\n",
       "    .dataframe thead th {\n",
       "        text-align: left;\n",
       "    }\n",
       "\n",
       "    .dataframe tbody tr th {\n",
       "        vertical-align: top;\n",
       "    }\n",
       "</style>\n",
       "<table border=\"1\" class=\"dataframe\">\n",
       "  <thead>\n",
       "    <tr style=\"text-align: right;\">\n",
       "      <th></th>\n",
       "      <th>time</th>\n",
       "      <th>IP</th>\n",
       "      <th>PI_MAC</th>\n",
       "      <th>PROVIDER</th>\n",
       "      <th>PROVINCE</th>\n",
       "      <th>SK_PI</th>\n",
       "      <th>TEST_SERVER</th>\n",
       "      <th>UPLOAD</th>\n",
       "    </tr>\n",
       "  </thead>\n",
       "  <tbody>\n",
       "    <tr>\n",
       "      <th>7</th>\n",
       "      <td>2018-12-03 08:41:47-06:00</td>\n",
       "      <td>199.116.232.249</td>\n",
       "      <td>02-99-03-82-52-06</td>\n",
       "      <td>iperf</td>\n",
       "      <td>iperf</td>\n",
       "      <td>3</td>\n",
       "      <td>clearskystatus.info</td>\n",
       "      <td>2529.28</td>\n",
       "    </tr>\n",
       "    <tr>\n",
       "      <th>6</th>\n",
       "      <td>2018-12-03 04:59:09-06:00</td>\n",
       "      <td>204.112.96.94</td>\n",
       "      <td>02-cd-05-c1-92-3f</td>\n",
       "      <td>iperf</td>\n",
       "      <td>iperf</td>\n",
       "      <td>4</td>\n",
       "      <td>clearskystatus.info</td>\n",
       "      <td>718.00</td>\n",
       "    </tr>\n",
       "    <tr>\n",
       "      <th>0</th>\n",
       "      <td>2018-12-02 10:27:57-06:00</td>\n",
       "      <td>204.112.96.66</td>\n",
       "      <td>02-07-06-80-d4-7c</td>\n",
       "      <td>iperf</td>\n",
       "      <td>iperf</td>\n",
       "      <td>7</td>\n",
       "      <td>clearskystatus.info</td>\n",
       "      <td>4311.04</td>\n",
       "    </tr>\n",
       "    <tr>\n",
       "      <th>1</th>\n",
       "      <td>2018-12-02 10:28:23-06:00</td>\n",
       "      <td>204.9.14.110</td>\n",
       "      <td>02-0e-04-82-02-40</td>\n",
       "      <td>iperf</td>\n",
       "      <td>iperf</td>\n",
       "      <td>9</td>\n",
       "      <td>clearskystatus.info</td>\n",
       "      <td>3133.44</td>\n",
       "    </tr>\n",
       "    <tr>\n",
       "      <th>2</th>\n",
       "      <td>2018-12-02 14:10:05-06:00</td>\n",
       "      <td>204.9.14.110</td>\n",
       "      <td>02-0e-04-82-02-40</td>\n",
       "      <td>iperf</td>\n",
       "      <td>iperf</td>\n",
       "      <td>9</td>\n",
       "      <td>clearskystatus.info</td>\n",
       "      <td>6522.88</td>\n",
       "    </tr>\n",
       "    <tr>\n",
       "      <th>3</th>\n",
       "      <td>2018-12-02 17:52:07-06:00</td>\n",
       "      <td>204.9.14.110</td>\n",
       "      <td>02-0e-04-82-02-40</td>\n",
       "      <td>iperf</td>\n",
       "      <td>iperf</td>\n",
       "      <td>9</td>\n",
       "      <td>clearskystatus.info</td>\n",
       "      <td>7444.48</td>\n",
       "    </tr>\n",
       "    <tr>\n",
       "      <th>4</th>\n",
       "      <td>2018-12-03 01:18:00-06:00</td>\n",
       "      <td>204.9.14.110</td>\n",
       "      <td>02-0e-04-82-02-40</td>\n",
       "      <td>iperf</td>\n",
       "      <td>iperf</td>\n",
       "      <td>9</td>\n",
       "      <td>clearskystatus.info</td>\n",
       "      <td>2150.40</td>\n",
       "    </tr>\n",
       "    <tr>\n",
       "      <th>8</th>\n",
       "      <td>2018-12-03 12:24:06-06:00</td>\n",
       "      <td>204.9.14.110</td>\n",
       "      <td>02-0e-04-82-02-40</td>\n",
       "      <td>iperf</td>\n",
       "      <td>iperf</td>\n",
       "      <td>9</td>\n",
       "      <td>clearskystatus.info</td>\n",
       "      <td>3205.12</td>\n",
       "    </tr>\n",
       "    <tr>\n",
       "      <th>5</th>\n",
       "      <td>2018-12-03 01:18:24-06:00</td>\n",
       "      <td>38.64.198.5</td>\n",
       "      <td>02-d8-06-c2-53-e7</td>\n",
       "      <td>iperf</td>\n",
       "      <td>iperf</td>\n",
       "      <td>11</td>\n",
       "      <td>clearskystatus.info</td>\n",
       "      <td>1669.12</td>\n",
       "    </tr>\n",
       "    <tr>\n",
       "      <th>9</th>\n",
       "      <td>2018-12-03 16:05:59-06:00</td>\n",
       "      <td>38.64.198.5</td>\n",
       "      <td>02-d8-06-c2-53-e7</td>\n",
       "      <td>iperf</td>\n",
       "      <td>iperf</td>\n",
       "      <td>11</td>\n",
       "      <td>clearskystatus.info</td>\n",
       "      <td>1443.84</td>\n",
       "    </tr>\n",
       "  </tbody>\n",
       "</table>\n",
       "</div>"
      ],
      "text/plain": [
       "                       time               IP             PI_MAC PROVIDER  \\\n",
       "7 2018-12-03 08:41:47-06:00  199.116.232.249  02-99-03-82-52-06    iperf   \n",
       "6 2018-12-03 04:59:09-06:00    204.112.96.94  02-cd-05-c1-92-3f    iperf   \n",
       "0 2018-12-02 10:27:57-06:00    204.112.96.66  02-07-06-80-d4-7c    iperf   \n",
       "1 2018-12-02 10:28:23-06:00     204.9.14.110  02-0e-04-82-02-40    iperf   \n",
       "2 2018-12-02 14:10:05-06:00     204.9.14.110  02-0e-04-82-02-40    iperf   \n",
       "3 2018-12-02 17:52:07-06:00     204.9.14.110  02-0e-04-82-02-40    iperf   \n",
       "4 2018-12-03 01:18:00-06:00     204.9.14.110  02-0e-04-82-02-40    iperf   \n",
       "8 2018-12-03 12:24:06-06:00     204.9.14.110  02-0e-04-82-02-40    iperf   \n",
       "5 2018-12-03 01:18:24-06:00      38.64.198.5  02-d8-06-c2-53-e7    iperf   \n",
       "9 2018-12-03 16:05:59-06:00      38.64.198.5  02-d8-06-c2-53-e7    iperf   \n",
       "\n",
       "  PROVINCE  SK_PI          TEST_SERVER   UPLOAD  \n",
       "7    iperf      3  clearskystatus.info  2529.28  \n",
       "6    iperf      4  clearskystatus.info   718.00  \n",
       "0    iperf      7  clearskystatus.info  4311.04  \n",
       "1    iperf      9  clearskystatus.info  3133.44  \n",
       "2    iperf      9  clearskystatus.info  6522.88  \n",
       "3    iperf      9  clearskystatus.info  7444.48  \n",
       "4    iperf      9  clearskystatus.info  2150.40  \n",
       "8    iperf      9  clearskystatus.info  3205.12  \n",
       "5    iperf     11  clearskystatus.info  1669.12  \n",
       "9    iperf     11  clearskystatus.info  1443.84  "
      ]
     },
     "execution_count": 6,
     "metadata": {},
     "output_type": "execute_result"
    }
   ],
   "source": [
    "query1 = \"SELECT * FROM SPEEDTEST_UPLOAD WHERE PROVIDER='iperf' ORDER BY time DESC LIMIT 10;\"\n",
    "df1 = get_dataframe_from_influxdb(client_df=client_df,query_influx=query1,table_name='SPEEDTEST_UPLOAD')\n",
    "df1"
   ]
  },
  {
   "cell_type": "markdown",
   "metadata": {},
   "source": [
    "Let's take just one device, for example 4:"
   ]
  },
  {
   "cell_type": "code",
   "execution_count": 7,
   "metadata": {},
   "outputs": [
    {
     "data": {
      "text/html": [
       "<div>\n",
       "<style>\n",
       "    .dataframe thead tr:only-child th {\n",
       "        text-align: right;\n",
       "    }\n",
       "\n",
       "    .dataframe thead th {\n",
       "        text-align: left;\n",
       "    }\n",
       "\n",
       "    .dataframe tbody tr th {\n",
       "        vertical-align: top;\n",
       "    }\n",
       "</style>\n",
       "<table border=\"1\" class=\"dataframe\">\n",
       "  <thead>\n",
       "    <tr style=\"text-align: right;\">\n",
       "      <th></th>\n",
       "      <th>time</th>\n",
       "      <th>IP</th>\n",
       "      <th>PI_MAC</th>\n",
       "      <th>PROVIDER</th>\n",
       "      <th>PROVINCE</th>\n",
       "      <th>SK_PI</th>\n",
       "      <th>TEST_SERVER</th>\n",
       "      <th>UPLOAD</th>\n",
       "    </tr>\n",
       "  </thead>\n",
       "  <tbody>\n",
       "    <tr>\n",
       "      <th>0</th>\n",
       "      <td>2018-11-24 10:04:17-06:00</td>\n",
       "      <td>204.112.96.94</td>\n",
       "      <td>02-cd-05-c1-92-3f</td>\n",
       "      <td>iperf</td>\n",
       "      <td>iperf</td>\n",
       "      <td>4</td>\n",
       "      <td>clearskystatus.info</td>\n",
       "      <td>767</td>\n",
       "    </tr>\n",
       "    <tr>\n",
       "      <th>1</th>\n",
       "      <td>2018-11-24 13:46:18-06:00</td>\n",
       "      <td>204.112.96.94</td>\n",
       "      <td>02-cd-05-c1-92-3f</td>\n",
       "      <td>iperf</td>\n",
       "      <td>iperf</td>\n",
       "      <td>4</td>\n",
       "      <td>clearskystatus.info</td>\n",
       "      <td>775</td>\n",
       "    </tr>\n",
       "    <tr>\n",
       "      <th>2</th>\n",
       "      <td>2018-11-25 04:36:57-06:00</td>\n",
       "      <td>204.112.96.94</td>\n",
       "      <td>02-cd-05-c1-92-3f</td>\n",
       "      <td>iperf</td>\n",
       "      <td>iperf</td>\n",
       "      <td>4</td>\n",
       "      <td>clearskystatus.info</td>\n",
       "      <td>792</td>\n",
       "    </tr>\n",
       "    <tr>\n",
       "      <th>3</th>\n",
       "      <td>2018-11-25 23:04:18-06:00</td>\n",
       "      <td>204.112.96.94</td>\n",
       "      <td>02-cd-05-c1-92-3f</td>\n",
       "      <td>iperf</td>\n",
       "      <td>iperf</td>\n",
       "      <td>4</td>\n",
       "      <td>clearskystatus.info</td>\n",
       "      <td>780</td>\n",
       "    </tr>\n",
       "    <tr>\n",
       "      <th>4</th>\n",
       "      <td>2018-11-26 06:28:05-06:00</td>\n",
       "      <td>204.112.96.94</td>\n",
       "      <td>02-cd-05-c1-92-3f</td>\n",
       "      <td>iperf</td>\n",
       "      <td>iperf</td>\n",
       "      <td>4</td>\n",
       "      <td>clearskystatus.info</td>\n",
       "      <td>834</td>\n",
       "    </tr>\n",
       "    <tr>\n",
       "      <th>5</th>\n",
       "      <td>2018-11-26 10:10:15-06:00</td>\n",
       "      <td>204.112.96.94</td>\n",
       "      <td>02-cd-05-c1-92-3f</td>\n",
       "      <td>iperf</td>\n",
       "      <td>iperf</td>\n",
       "      <td>4</td>\n",
       "      <td>clearskystatus.info</td>\n",
       "      <td>768</td>\n",
       "    </tr>\n",
       "    <tr>\n",
       "      <th>6</th>\n",
       "      <td>2018-11-28 06:34:13-06:00</td>\n",
       "      <td>204.112.96.94</td>\n",
       "      <td>02-cd-05-c1-92-3f</td>\n",
       "      <td>iperf</td>\n",
       "      <td>iperf</td>\n",
       "      <td>4</td>\n",
       "      <td>clearskystatus.info</td>\n",
       "      <td>787</td>\n",
       "    </tr>\n",
       "    <tr>\n",
       "      <th>7</th>\n",
       "      <td>2018-11-28 10:16:08-06:00</td>\n",
       "      <td>204.112.96.94</td>\n",
       "      <td>02-cd-05-c1-92-3f</td>\n",
       "      <td>iperf</td>\n",
       "      <td>iperf</td>\n",
       "      <td>4</td>\n",
       "      <td>clearskystatus.info</td>\n",
       "      <td>723</td>\n",
       "    </tr>\n",
       "    <tr>\n",
       "      <th>8</th>\n",
       "      <td>2018-12-01 23:23:31-06:00</td>\n",
       "      <td>204.112.96.94</td>\n",
       "      <td>02-cd-05-c1-92-3f</td>\n",
       "      <td>iperf</td>\n",
       "      <td>iperf</td>\n",
       "      <td>4</td>\n",
       "      <td>clearskystatus.info</td>\n",
       "      <td>831</td>\n",
       "    </tr>\n",
       "    <tr>\n",
       "      <th>9</th>\n",
       "      <td>2018-12-03 04:59:09-06:00</td>\n",
       "      <td>204.112.96.94</td>\n",
       "      <td>02-cd-05-c1-92-3f</td>\n",
       "      <td>iperf</td>\n",
       "      <td>iperf</td>\n",
       "      <td>4</td>\n",
       "      <td>clearskystatus.info</td>\n",
       "      <td>718</td>\n",
       "    </tr>\n",
       "  </tbody>\n",
       "</table>\n",
       "</div>"
      ],
      "text/plain": [
       "                       time             IP             PI_MAC PROVIDER  \\\n",
       "0 2018-11-24 10:04:17-06:00  204.112.96.94  02-cd-05-c1-92-3f    iperf   \n",
       "1 2018-11-24 13:46:18-06:00  204.112.96.94  02-cd-05-c1-92-3f    iperf   \n",
       "2 2018-11-25 04:36:57-06:00  204.112.96.94  02-cd-05-c1-92-3f    iperf   \n",
       "3 2018-11-25 23:04:18-06:00  204.112.96.94  02-cd-05-c1-92-3f    iperf   \n",
       "4 2018-11-26 06:28:05-06:00  204.112.96.94  02-cd-05-c1-92-3f    iperf   \n",
       "5 2018-11-26 10:10:15-06:00  204.112.96.94  02-cd-05-c1-92-3f    iperf   \n",
       "6 2018-11-28 06:34:13-06:00  204.112.96.94  02-cd-05-c1-92-3f    iperf   \n",
       "7 2018-11-28 10:16:08-06:00  204.112.96.94  02-cd-05-c1-92-3f    iperf   \n",
       "8 2018-12-01 23:23:31-06:00  204.112.96.94  02-cd-05-c1-92-3f    iperf   \n",
       "9 2018-12-03 04:59:09-06:00  204.112.96.94  02-cd-05-c1-92-3f    iperf   \n",
       "\n",
       "  PROVINCE  SK_PI          TEST_SERVER  UPLOAD  \n",
       "0    iperf      4  clearskystatus.info     767  \n",
       "1    iperf      4  clearskystatus.info     775  \n",
       "2    iperf      4  clearskystatus.info     792  \n",
       "3    iperf      4  clearskystatus.info     780  \n",
       "4    iperf      4  clearskystatus.info     834  \n",
       "5    iperf      4  clearskystatus.info     768  \n",
       "6    iperf      4  clearskystatus.info     787  \n",
       "7    iperf      4  clearskystatus.info     723  \n",
       "8    iperf      4  clearskystatus.info     831  \n",
       "9    iperf      4  clearskystatus.info     718  "
      ]
     },
     "execution_count": 7,
     "metadata": {},
     "output_type": "execute_result"
    }
   ],
   "source": [
    "query1 = \"SELECT * FROM SPEEDTEST_UPLOAD WHERE PROVIDER='iperf' AND SK_PI='4' ORDER BY time DESC LIMIT 10;\"\n",
    "df1 = get_dataframe_from_influxdb(client_df=client_df,query_influx=query1,table_name='SPEEDTEST_UPLOAD')\n",
    "df1"
   ]
  },
  {
   "cell_type": "markdown",
   "metadata": {},
   "source": [
    "Checking upload speed coming for the same device from speedtest:"
   ]
  },
  {
   "cell_type": "code",
   "execution_count": 8,
   "metadata": {},
   "outputs": [
    {
     "data": {
      "text/html": [
       "<div>\n",
       "<style>\n",
       "    .dataframe thead tr:only-child th {\n",
       "        text-align: right;\n",
       "    }\n",
       "\n",
       "    .dataframe thead th {\n",
       "        text-align: left;\n",
       "    }\n",
       "\n",
       "    .dataframe tbody tr th {\n",
       "        vertical-align: top;\n",
       "    }\n",
       "</style>\n",
       "<table border=\"1\" class=\"dataframe\">\n",
       "  <thead>\n",
       "    <tr style=\"text-align: right;\">\n",
       "      <th></th>\n",
       "      <th>time</th>\n",
       "      <th>IP</th>\n",
       "      <th>PI_MAC</th>\n",
       "      <th>PROVIDER</th>\n",
       "      <th>PROVINCE</th>\n",
       "      <th>SK_PI</th>\n",
       "      <th>TEST_SERVER</th>\n",
       "      <th>UPLOAD</th>\n",
       "    </tr>\n",
       "  </thead>\n",
       "  <tbody>\n",
       "    <tr>\n",
       "      <th>0</th>\n",
       "      <td>2018-12-03 03:06:01-06:00</td>\n",
       "      <td>204.112.96.94</td>\n",
       "      <td>02-cd-05-c1-92-3f</td>\n",
       "      <td>Bell MTS</td>\n",
       "      <td>MB)</td>\n",
       "      <td>4</td>\n",
       "      <td>Shaw Communications (Winnipeg</td>\n",
       "      <td>0.63</td>\n",
       "    </tr>\n",
       "    <tr>\n",
       "      <th>1</th>\n",
       "      <td>2018-12-03 06:48:06-06:00</td>\n",
       "      <td>204.112.96.94</td>\n",
       "      <td>02-cd-05-c1-92-3f</td>\n",
       "      <td>Bell MTS</td>\n",
       "      <td>MB)</td>\n",
       "      <td>4</td>\n",
       "      <td>Voyageur Internet (Winnipeg</td>\n",
       "      <td>0.60</td>\n",
       "    </tr>\n",
       "    <tr>\n",
       "      <th>2</th>\n",
       "      <td>2018-12-03 10:30:09-06:00</td>\n",
       "      <td>204.112.96.94</td>\n",
       "      <td>02-cd-05-c1-92-3f</td>\n",
       "      <td>Bell MTS</td>\n",
       "      <td>MB)</td>\n",
       "      <td>4</td>\n",
       "      <td>Shaw Communications (Winnipeg</td>\n",
       "      <td>0.62</td>\n",
       "    </tr>\n",
       "    <tr>\n",
       "      <th>3</th>\n",
       "      <td>2018-12-04 01:18:08-06:00</td>\n",
       "      <td>204.112.96.94</td>\n",
       "      <td>02-cd-05-c1-92-3f</td>\n",
       "      <td>Bell MTS</td>\n",
       "      <td>MB)</td>\n",
       "      <td>4</td>\n",
       "      <td>Voyageur Internet (Winnipeg</td>\n",
       "      <td>0.64</td>\n",
       "    </tr>\n",
       "    <tr>\n",
       "      <th>4</th>\n",
       "      <td>2018-12-04 05:00:11-06:00</td>\n",
       "      <td>204.112.96.94</td>\n",
       "      <td>02-cd-05-c1-92-3f</td>\n",
       "      <td>Bell MTS</td>\n",
       "      <td>MB)</td>\n",
       "      <td>4</td>\n",
       "      <td>Voyageur Internet (Winnipeg</td>\n",
       "      <td>0.64</td>\n",
       "    </tr>\n",
       "    <tr>\n",
       "      <th>5</th>\n",
       "      <td>2018-12-04 12:24:11-06:00</td>\n",
       "      <td>204.112.96.94</td>\n",
       "      <td>02-cd-05-c1-92-3f</td>\n",
       "      <td>Bell MTS</td>\n",
       "      <td>MB)</td>\n",
       "      <td>4</td>\n",
       "      <td>Shaw Communications (Winnipeg</td>\n",
       "      <td>0.55</td>\n",
       "    </tr>\n",
       "    <tr>\n",
       "      <th>6</th>\n",
       "      <td>2018-12-04 16:06:13-06:00</td>\n",
       "      <td>204.112.96.94</td>\n",
       "      <td>02-cd-05-c1-92-3f</td>\n",
       "      <td>Bell MTS</td>\n",
       "      <td>MB)</td>\n",
       "      <td>4</td>\n",
       "      <td>Voyageur Internet (Winnipeg</td>\n",
       "      <td>0.60</td>\n",
       "    </tr>\n",
       "    <tr>\n",
       "      <th>7</th>\n",
       "      <td>2018-12-04 19:48:08-06:00</td>\n",
       "      <td>204.112.96.94</td>\n",
       "      <td>02-cd-05-c1-92-3f</td>\n",
       "      <td>Bell MTS</td>\n",
       "      <td>MB)</td>\n",
       "      <td>4</td>\n",
       "      <td>Voyageur Internet (Winnipeg</td>\n",
       "      <td>0.67</td>\n",
       "    </tr>\n",
       "    <tr>\n",
       "      <th>8</th>\n",
       "      <td>2018-12-05 06:54:17-06:00</td>\n",
       "      <td>204.112.96.94</td>\n",
       "      <td>02-cd-05-c1-92-3f</td>\n",
       "      <td>Bell MTS</td>\n",
       "      <td>MB)</td>\n",
       "      <td>4</td>\n",
       "      <td>Shaw Communications (Winnipeg</td>\n",
       "      <td>0.64</td>\n",
       "    </tr>\n",
       "    <tr>\n",
       "      <th>9</th>\n",
       "      <td>2018-12-05 10:36:12-06:00</td>\n",
       "      <td>204.112.96.94</td>\n",
       "      <td>02-cd-05-c1-92-3f</td>\n",
       "      <td>Bell MTS</td>\n",
       "      <td>MB)</td>\n",
       "      <td>4</td>\n",
       "      <td>Shaw Communications (Winnipeg</td>\n",
       "      <td>0.66</td>\n",
       "    </tr>\n",
       "  </tbody>\n",
       "</table>\n",
       "</div>"
      ],
      "text/plain": [
       "                       time             IP             PI_MAC  PROVIDER  \\\n",
       "0 2018-12-03 03:06:01-06:00  204.112.96.94  02-cd-05-c1-92-3f  Bell MTS   \n",
       "1 2018-12-03 06:48:06-06:00  204.112.96.94  02-cd-05-c1-92-3f  Bell MTS   \n",
       "2 2018-12-03 10:30:09-06:00  204.112.96.94  02-cd-05-c1-92-3f  Bell MTS   \n",
       "3 2018-12-04 01:18:08-06:00  204.112.96.94  02-cd-05-c1-92-3f  Bell MTS   \n",
       "4 2018-12-04 05:00:11-06:00  204.112.96.94  02-cd-05-c1-92-3f  Bell MTS   \n",
       "5 2018-12-04 12:24:11-06:00  204.112.96.94  02-cd-05-c1-92-3f  Bell MTS   \n",
       "6 2018-12-04 16:06:13-06:00  204.112.96.94  02-cd-05-c1-92-3f  Bell MTS   \n",
       "7 2018-12-04 19:48:08-06:00  204.112.96.94  02-cd-05-c1-92-3f  Bell MTS   \n",
       "8 2018-12-05 06:54:17-06:00  204.112.96.94  02-cd-05-c1-92-3f  Bell MTS   \n",
       "9 2018-12-05 10:36:12-06:00  204.112.96.94  02-cd-05-c1-92-3f  Bell MTS   \n",
       "\n",
       "  PROVINCE  SK_PI                    TEST_SERVER  UPLOAD  \n",
       "0      MB)      4  Shaw Communications (Winnipeg    0.63  \n",
       "1      MB)      4    Voyageur Internet (Winnipeg    0.60  \n",
       "2      MB)      4  Shaw Communications (Winnipeg    0.62  \n",
       "3      MB)      4    Voyageur Internet (Winnipeg    0.64  \n",
       "4      MB)      4    Voyageur Internet (Winnipeg    0.64  \n",
       "5      MB)      4  Shaw Communications (Winnipeg    0.55  \n",
       "6      MB)      4    Voyageur Internet (Winnipeg    0.60  \n",
       "7      MB)      4    Voyageur Internet (Winnipeg    0.67  \n",
       "8      MB)      4  Shaw Communications (Winnipeg    0.64  \n",
       "9      MB)      4  Shaw Communications (Winnipeg    0.66  "
      ]
     },
     "execution_count": 8,
     "metadata": {},
     "output_type": "execute_result"
    }
   ],
   "source": [
    "query1 = \"SELECT * FROM SPEEDTEST_UPLOAD WHERE PROVIDER!='iperf' AND SK_PI='4' ORDER BY time DESC LIMIT 10;\"\n",
    "df1 = get_dataframe_from_influxdb(client_df=client_df,query_influx=query1,table_name='SPEEDTEST_UPLOAD')\n",
    "df1"
   ]
  },
  {
   "cell_type": "markdown",
   "metadata": {},
   "source": [
    "Looks like iperf is collecting data in Kbps vs Speedtest is collecting data in Mbps.\n",
    "Kbps can be converted to Mbps by multiplying by 0.001"
   ]
  },
  {
   "cell_type": "markdown",
   "metadata": {},
   "source": [
    "Checking download speed and ping latency coming from the same device:"
   ]
  },
  {
   "cell_type": "code",
   "execution_count": 9,
   "metadata": {},
   "outputs": [
    {
     "data": {
      "text/html": [
       "<div>\n",
       "<style>\n",
       "    .dataframe thead tr:only-child th {\n",
       "        text-align: right;\n",
       "    }\n",
       "\n",
       "    .dataframe thead th {\n",
       "        text-align: left;\n",
       "    }\n",
       "\n",
       "    .dataframe tbody tr th {\n",
       "        vertical-align: top;\n",
       "    }\n",
       "</style>\n",
       "<table border=\"1\" class=\"dataframe\">\n",
       "  <thead>\n",
       "    <tr style=\"text-align: right;\">\n",
       "      <th></th>\n",
       "      <th>time</th>\n",
       "      <th>DOWNLOAD</th>\n",
       "      <th>IP</th>\n",
       "      <th>PI_MAC</th>\n",
       "      <th>PROVIDER</th>\n",
       "      <th>PROVINCE</th>\n",
       "      <th>SK_PI</th>\n",
       "      <th>TEST_SERVER</th>\n",
       "    </tr>\n",
       "  </thead>\n",
       "  <tbody>\n",
       "    <tr>\n",
       "      <th>0</th>\n",
       "      <td>2018-11-24 10:04:17-06:00</td>\n",
       "      <td>3758.08</td>\n",
       "      <td>204.112.96.94</td>\n",
       "      <td>02-cd-05-c1-92-3f</td>\n",
       "      <td>iperf</td>\n",
       "      <td>iperf</td>\n",
       "      <td>4</td>\n",
       "      <td>clearskystatus.info</td>\n",
       "    </tr>\n",
       "    <tr>\n",
       "      <th>1</th>\n",
       "      <td>2018-11-24 13:46:18-06:00</td>\n",
       "      <td>3860.48</td>\n",
       "      <td>204.112.96.94</td>\n",
       "      <td>02-cd-05-c1-92-3f</td>\n",
       "      <td>iperf</td>\n",
       "      <td>iperf</td>\n",
       "      <td>4</td>\n",
       "      <td>clearskystatus.info</td>\n",
       "    </tr>\n",
       "    <tr>\n",
       "      <th>2</th>\n",
       "      <td>2018-11-25 04:36:57-06:00</td>\n",
       "      <td>3860.48</td>\n",
       "      <td>204.112.96.94</td>\n",
       "      <td>02-cd-05-c1-92-3f</td>\n",
       "      <td>iperf</td>\n",
       "      <td>iperf</td>\n",
       "      <td>4</td>\n",
       "      <td>clearskystatus.info</td>\n",
       "    </tr>\n",
       "    <tr>\n",
       "      <th>3</th>\n",
       "      <td>2018-11-25 23:04:18-06:00</td>\n",
       "      <td>3973.12</td>\n",
       "      <td>204.112.96.94</td>\n",
       "      <td>02-cd-05-c1-92-3f</td>\n",
       "      <td>iperf</td>\n",
       "      <td>iperf</td>\n",
       "      <td>4</td>\n",
       "      <td>clearskystatus.info</td>\n",
       "    </tr>\n",
       "    <tr>\n",
       "      <th>4</th>\n",
       "      <td>2018-11-26 06:28:05-06:00</td>\n",
       "      <td>3860.48</td>\n",
       "      <td>204.112.96.94</td>\n",
       "      <td>02-cd-05-c1-92-3f</td>\n",
       "      <td>iperf</td>\n",
       "      <td>iperf</td>\n",
       "      <td>4</td>\n",
       "      <td>clearskystatus.info</td>\n",
       "    </tr>\n",
       "    <tr>\n",
       "      <th>5</th>\n",
       "      <td>2018-11-26 10:10:15-06:00</td>\n",
       "      <td>3860.48</td>\n",
       "      <td>204.112.96.94</td>\n",
       "      <td>02-cd-05-c1-92-3f</td>\n",
       "      <td>iperf</td>\n",
       "      <td>iperf</td>\n",
       "      <td>4</td>\n",
       "      <td>clearskystatus.info</td>\n",
       "    </tr>\n",
       "    <tr>\n",
       "      <th>6</th>\n",
       "      <td>2018-11-28 06:34:13-06:00</td>\n",
       "      <td>3860.48</td>\n",
       "      <td>204.112.96.94</td>\n",
       "      <td>02-cd-05-c1-92-3f</td>\n",
       "      <td>iperf</td>\n",
       "      <td>iperf</td>\n",
       "      <td>4</td>\n",
       "      <td>clearskystatus.info</td>\n",
       "    </tr>\n",
       "    <tr>\n",
       "      <th>7</th>\n",
       "      <td>2018-11-28 10:16:08-06:00</td>\n",
       "      <td>3655.68</td>\n",
       "      <td>204.112.96.94</td>\n",
       "      <td>02-cd-05-c1-92-3f</td>\n",
       "      <td>iperf</td>\n",
       "      <td>iperf</td>\n",
       "      <td>4</td>\n",
       "      <td>clearskystatus.info</td>\n",
       "    </tr>\n",
       "    <tr>\n",
       "      <th>8</th>\n",
       "      <td>2018-12-01 23:23:31-06:00</td>\n",
       "      <td>3860.48</td>\n",
       "      <td>204.112.96.94</td>\n",
       "      <td>02-cd-05-c1-92-3f</td>\n",
       "      <td>iperf</td>\n",
       "      <td>iperf</td>\n",
       "      <td>4</td>\n",
       "      <td>clearskystatus.info</td>\n",
       "    </tr>\n",
       "    <tr>\n",
       "      <th>9</th>\n",
       "      <td>2018-12-03 04:59:09-06:00</td>\n",
       "      <td>3758.08</td>\n",
       "      <td>204.112.96.94</td>\n",
       "      <td>02-cd-05-c1-92-3f</td>\n",
       "      <td>iperf</td>\n",
       "      <td>iperf</td>\n",
       "      <td>4</td>\n",
       "      <td>clearskystatus.info</td>\n",
       "    </tr>\n",
       "  </tbody>\n",
       "</table>\n",
       "</div>"
      ],
      "text/plain": [
       "                       time  DOWNLOAD             IP             PI_MAC  \\\n",
       "0 2018-11-24 10:04:17-06:00   3758.08  204.112.96.94  02-cd-05-c1-92-3f   \n",
       "1 2018-11-24 13:46:18-06:00   3860.48  204.112.96.94  02-cd-05-c1-92-3f   \n",
       "2 2018-11-25 04:36:57-06:00   3860.48  204.112.96.94  02-cd-05-c1-92-3f   \n",
       "3 2018-11-25 23:04:18-06:00   3973.12  204.112.96.94  02-cd-05-c1-92-3f   \n",
       "4 2018-11-26 06:28:05-06:00   3860.48  204.112.96.94  02-cd-05-c1-92-3f   \n",
       "5 2018-11-26 10:10:15-06:00   3860.48  204.112.96.94  02-cd-05-c1-92-3f   \n",
       "6 2018-11-28 06:34:13-06:00   3860.48  204.112.96.94  02-cd-05-c1-92-3f   \n",
       "7 2018-11-28 10:16:08-06:00   3655.68  204.112.96.94  02-cd-05-c1-92-3f   \n",
       "8 2018-12-01 23:23:31-06:00   3860.48  204.112.96.94  02-cd-05-c1-92-3f   \n",
       "9 2018-12-03 04:59:09-06:00   3758.08  204.112.96.94  02-cd-05-c1-92-3f   \n",
       "\n",
       "  PROVIDER PROVINCE  SK_PI          TEST_SERVER  \n",
       "0    iperf    iperf      4  clearskystatus.info  \n",
       "1    iperf    iperf      4  clearskystatus.info  \n",
       "2    iperf    iperf      4  clearskystatus.info  \n",
       "3    iperf    iperf      4  clearskystatus.info  \n",
       "4    iperf    iperf      4  clearskystatus.info  \n",
       "5    iperf    iperf      4  clearskystatus.info  \n",
       "6    iperf    iperf      4  clearskystatus.info  \n",
       "7    iperf    iperf      4  clearskystatus.info  \n",
       "8    iperf    iperf      4  clearskystatus.info  \n",
       "9    iperf    iperf      4  clearskystatus.info  "
      ]
     },
     "execution_count": 9,
     "metadata": {},
     "output_type": "execute_result"
    }
   ],
   "source": [
    "query2 = \"SELECT * FROM SPEEDTEST_DOWNLOAD WHERE PROVIDER='iperf' AND SK_PI='4' ORDER BY time DESC LIMIT 10;\"\n",
    "df2 = get_dataframe_from_influxdb(client_df=client_df,query_influx=query2,table_name='SPEEDTEST_DOWNLOAD')\n",
    "df2"
   ]
  },
  {
   "cell_type": "code",
   "execution_count": 10,
   "metadata": {},
   "outputs": [
    {
     "data": {
      "text/html": [
       "<div>\n",
       "<style>\n",
       "    .dataframe thead tr:only-child th {\n",
       "        text-align: right;\n",
       "    }\n",
       "\n",
       "    .dataframe thead th {\n",
       "        text-align: left;\n",
       "    }\n",
       "\n",
       "    .dataframe tbody tr th {\n",
       "        vertical-align: top;\n",
       "    }\n",
       "</style>\n",
       "<table border=\"1\" class=\"dataframe\">\n",
       "  <thead>\n",
       "    <tr style=\"text-align: right;\">\n",
       "      <th></th>\n",
       "      <th>time</th>\n",
       "      <th>IP</th>\n",
       "      <th>PING</th>\n",
       "      <th>PI_MAC</th>\n",
       "      <th>PROVIDER</th>\n",
       "      <th>PROVINCE</th>\n",
       "      <th>SK_PI</th>\n",
       "      <th>TEST_SERVER</th>\n",
       "    </tr>\n",
       "  </thead>\n",
       "  <tbody>\n",
       "    <tr>\n",
       "      <th>0</th>\n",
       "      <td>2018-11-24 10:04:17-06:00</td>\n",
       "      <td>204.112.96.94</td>\n",
       "      <td>57.105</td>\n",
       "      <td>02-cd-05-c1-92-3f</td>\n",
       "      <td>iperf</td>\n",
       "      <td>iperf</td>\n",
       "      <td>4</td>\n",
       "      <td>clearskystatus.info</td>\n",
       "    </tr>\n",
       "    <tr>\n",
       "      <th>1</th>\n",
       "      <td>2018-11-24 13:46:18-06:00</td>\n",
       "      <td>204.112.96.94</td>\n",
       "      <td>58.740</td>\n",
       "      <td>02-cd-05-c1-92-3f</td>\n",
       "      <td>iperf</td>\n",
       "      <td>iperf</td>\n",
       "      <td>4</td>\n",
       "      <td>clearskystatus.info</td>\n",
       "    </tr>\n",
       "    <tr>\n",
       "      <th>2</th>\n",
       "      <td>2018-11-25 04:36:57-06:00</td>\n",
       "      <td>204.112.96.94</td>\n",
       "      <td>56.491</td>\n",
       "      <td>02-cd-05-c1-92-3f</td>\n",
       "      <td>iperf</td>\n",
       "      <td>iperf</td>\n",
       "      <td>4</td>\n",
       "      <td>clearskystatus.info</td>\n",
       "    </tr>\n",
       "    <tr>\n",
       "      <th>3</th>\n",
       "      <td>2018-11-25 23:04:18-06:00</td>\n",
       "      <td>204.112.96.94</td>\n",
       "      <td>59.371</td>\n",
       "      <td>02-cd-05-c1-92-3f</td>\n",
       "      <td>iperf</td>\n",
       "      <td>iperf</td>\n",
       "      <td>4</td>\n",
       "      <td>clearskystatus.info</td>\n",
       "    </tr>\n",
       "    <tr>\n",
       "      <th>4</th>\n",
       "      <td>2018-11-26 06:28:05-06:00</td>\n",
       "      <td>204.112.96.94</td>\n",
       "      <td>55.602</td>\n",
       "      <td>02-cd-05-c1-92-3f</td>\n",
       "      <td>iperf</td>\n",
       "      <td>iperf</td>\n",
       "      <td>4</td>\n",
       "      <td>clearskystatus.info</td>\n",
       "    </tr>\n",
       "    <tr>\n",
       "      <th>5</th>\n",
       "      <td>2018-11-26 10:10:15-06:00</td>\n",
       "      <td>204.112.96.94</td>\n",
       "      <td>56.270</td>\n",
       "      <td>02-cd-05-c1-92-3f</td>\n",
       "      <td>iperf</td>\n",
       "      <td>iperf</td>\n",
       "      <td>4</td>\n",
       "      <td>clearskystatus.info</td>\n",
       "    </tr>\n",
       "    <tr>\n",
       "      <th>6</th>\n",
       "      <td>2018-11-28 06:34:13-06:00</td>\n",
       "      <td>204.112.96.94</td>\n",
       "      <td>55.919</td>\n",
       "      <td>02-cd-05-c1-92-3f</td>\n",
       "      <td>iperf</td>\n",
       "      <td>iperf</td>\n",
       "      <td>4</td>\n",
       "      <td>clearskystatus.info</td>\n",
       "    </tr>\n",
       "    <tr>\n",
       "      <th>7</th>\n",
       "      <td>2018-11-28 10:16:08-06:00</td>\n",
       "      <td>204.112.96.94</td>\n",
       "      <td>56.454</td>\n",
       "      <td>02-cd-05-c1-92-3f</td>\n",
       "      <td>iperf</td>\n",
       "      <td>iperf</td>\n",
       "      <td>4</td>\n",
       "      <td>clearskystatus.info</td>\n",
       "    </tr>\n",
       "    <tr>\n",
       "      <th>8</th>\n",
       "      <td>2018-12-01 23:23:31-06:00</td>\n",
       "      <td>204.112.96.94</td>\n",
       "      <td>56.683</td>\n",
       "      <td>02-cd-05-c1-92-3f</td>\n",
       "      <td>iperf</td>\n",
       "      <td>iperf</td>\n",
       "      <td>4</td>\n",
       "      <td>clearskystatus.info</td>\n",
       "    </tr>\n",
       "    <tr>\n",
       "      <th>9</th>\n",
       "      <td>2018-12-03 04:59:09-06:00</td>\n",
       "      <td>204.112.96.94</td>\n",
       "      <td>57.326</td>\n",
       "      <td>02-cd-05-c1-92-3f</td>\n",
       "      <td>iperf</td>\n",
       "      <td>iperf</td>\n",
       "      <td>4</td>\n",
       "      <td>clearskystatus.info</td>\n",
       "    </tr>\n",
       "  </tbody>\n",
       "</table>\n",
       "</div>"
      ],
      "text/plain": [
       "                       time             IP    PING             PI_MAC  \\\n",
       "0 2018-11-24 10:04:17-06:00  204.112.96.94  57.105  02-cd-05-c1-92-3f   \n",
       "1 2018-11-24 13:46:18-06:00  204.112.96.94  58.740  02-cd-05-c1-92-3f   \n",
       "2 2018-11-25 04:36:57-06:00  204.112.96.94  56.491  02-cd-05-c1-92-3f   \n",
       "3 2018-11-25 23:04:18-06:00  204.112.96.94  59.371  02-cd-05-c1-92-3f   \n",
       "4 2018-11-26 06:28:05-06:00  204.112.96.94  55.602  02-cd-05-c1-92-3f   \n",
       "5 2018-11-26 10:10:15-06:00  204.112.96.94  56.270  02-cd-05-c1-92-3f   \n",
       "6 2018-11-28 06:34:13-06:00  204.112.96.94  55.919  02-cd-05-c1-92-3f   \n",
       "7 2018-11-28 10:16:08-06:00  204.112.96.94  56.454  02-cd-05-c1-92-3f   \n",
       "8 2018-12-01 23:23:31-06:00  204.112.96.94  56.683  02-cd-05-c1-92-3f   \n",
       "9 2018-12-03 04:59:09-06:00  204.112.96.94  57.326  02-cd-05-c1-92-3f   \n",
       "\n",
       "  PROVIDER PROVINCE  SK_PI          TEST_SERVER  \n",
       "0    iperf    iperf      4  clearskystatus.info  \n",
       "1    iperf    iperf      4  clearskystatus.info  \n",
       "2    iperf    iperf      4  clearskystatus.info  \n",
       "3    iperf    iperf      4  clearskystatus.info  \n",
       "4    iperf    iperf      4  clearskystatus.info  \n",
       "5    iperf    iperf      4  clearskystatus.info  \n",
       "6    iperf    iperf      4  clearskystatus.info  \n",
       "7    iperf    iperf      4  clearskystatus.info  \n",
       "8    iperf    iperf      4  clearskystatus.info  \n",
       "9    iperf    iperf      4  clearskystatus.info  "
      ]
     },
     "execution_count": 10,
     "metadata": {},
     "output_type": "execute_result"
    }
   ],
   "source": [
    "query3 = \"SELECT * FROM SPEEDTEST_PING WHERE PROVIDER='iperf' AND SK_PI='4' ORDER BY time DESC LIMIT 10;\"\n",
    "df3 = get_dataframe_from_influxdb(client_df=client_df,query_influx=query3,table_name='SPEEDTEST_PING')\n",
    "df3"
   ]
  },
  {
   "cell_type": "markdown",
   "metadata": {},
   "source": [
    "Comparing with ping latency coming from speedtest:"
   ]
  },
  {
   "cell_type": "code",
   "execution_count": 11,
   "metadata": {},
   "outputs": [
    {
     "data": {
      "text/html": [
       "<div>\n",
       "<style>\n",
       "    .dataframe thead tr:only-child th {\n",
       "        text-align: right;\n",
       "    }\n",
       "\n",
       "    .dataframe thead th {\n",
       "        text-align: left;\n",
       "    }\n",
       "\n",
       "    .dataframe tbody tr th {\n",
       "        vertical-align: top;\n",
       "    }\n",
       "</style>\n",
       "<table border=\"1\" class=\"dataframe\">\n",
       "  <thead>\n",
       "    <tr style=\"text-align: right;\">\n",
       "      <th></th>\n",
       "      <th>time</th>\n",
       "      <th>IP</th>\n",
       "      <th>PING</th>\n",
       "      <th>PI_MAC</th>\n",
       "      <th>PROVIDER</th>\n",
       "      <th>PROVINCE</th>\n",
       "      <th>SK_PI</th>\n",
       "      <th>TEST_SERVER</th>\n",
       "    </tr>\n",
       "  </thead>\n",
       "  <tbody>\n",
       "    <tr>\n",
       "      <th>0</th>\n",
       "      <td>2018-12-03 03:06:01-06:00</td>\n",
       "      <td>204.112.96.94</td>\n",
       "      <td>66.148</td>\n",
       "      <td>02-cd-05-c1-92-3f</td>\n",
       "      <td>Bell MTS</td>\n",
       "      <td>MB)</td>\n",
       "      <td>4</td>\n",
       "      <td>Shaw Communications (Winnipeg</td>\n",
       "    </tr>\n",
       "    <tr>\n",
       "      <th>1</th>\n",
       "      <td>2018-12-03 06:48:06-06:00</td>\n",
       "      <td>204.112.96.94</td>\n",
       "      <td>62.255</td>\n",
       "      <td>02-cd-05-c1-92-3f</td>\n",
       "      <td>Bell MTS</td>\n",
       "      <td>MB)</td>\n",
       "      <td>4</td>\n",
       "      <td>Voyageur Internet (Winnipeg</td>\n",
       "    </tr>\n",
       "    <tr>\n",
       "      <th>2</th>\n",
       "      <td>2018-12-03 10:30:09-06:00</td>\n",
       "      <td>204.112.96.94</td>\n",
       "      <td>70.408</td>\n",
       "      <td>02-cd-05-c1-92-3f</td>\n",
       "      <td>Bell MTS</td>\n",
       "      <td>MB)</td>\n",
       "      <td>4</td>\n",
       "      <td>Shaw Communications (Winnipeg</td>\n",
       "    </tr>\n",
       "    <tr>\n",
       "      <th>3</th>\n",
       "      <td>2018-12-04 01:18:08-06:00</td>\n",
       "      <td>204.112.96.94</td>\n",
       "      <td>64.617</td>\n",
       "      <td>02-cd-05-c1-92-3f</td>\n",
       "      <td>Bell MTS</td>\n",
       "      <td>MB)</td>\n",
       "      <td>4</td>\n",
       "      <td>Voyageur Internet (Winnipeg</td>\n",
       "    </tr>\n",
       "    <tr>\n",
       "      <th>4</th>\n",
       "      <td>2018-12-04 05:00:11-06:00</td>\n",
       "      <td>204.112.96.94</td>\n",
       "      <td>68.327</td>\n",
       "      <td>02-cd-05-c1-92-3f</td>\n",
       "      <td>Bell MTS</td>\n",
       "      <td>MB)</td>\n",
       "      <td>4</td>\n",
       "      <td>Voyageur Internet (Winnipeg</td>\n",
       "    </tr>\n",
       "    <tr>\n",
       "      <th>5</th>\n",
       "      <td>2018-12-04 12:24:11-06:00</td>\n",
       "      <td>204.112.96.94</td>\n",
       "      <td>69.748</td>\n",
       "      <td>02-cd-05-c1-92-3f</td>\n",
       "      <td>Bell MTS</td>\n",
       "      <td>MB)</td>\n",
       "      <td>4</td>\n",
       "      <td>Shaw Communications (Winnipeg</td>\n",
       "    </tr>\n",
       "    <tr>\n",
       "      <th>6</th>\n",
       "      <td>2018-12-04 16:06:13-06:00</td>\n",
       "      <td>204.112.96.94</td>\n",
       "      <td>71.463</td>\n",
       "      <td>02-cd-05-c1-92-3f</td>\n",
       "      <td>Bell MTS</td>\n",
       "      <td>MB)</td>\n",
       "      <td>4</td>\n",
       "      <td>Voyageur Internet (Winnipeg</td>\n",
       "    </tr>\n",
       "    <tr>\n",
       "      <th>7</th>\n",
       "      <td>2018-12-04 19:48:08-06:00</td>\n",
       "      <td>204.112.96.94</td>\n",
       "      <td>71.544</td>\n",
       "      <td>02-cd-05-c1-92-3f</td>\n",
       "      <td>Bell MTS</td>\n",
       "      <td>MB)</td>\n",
       "      <td>4</td>\n",
       "      <td>Voyageur Internet (Winnipeg</td>\n",
       "    </tr>\n",
       "    <tr>\n",
       "      <th>8</th>\n",
       "      <td>2018-12-05 06:54:17-06:00</td>\n",
       "      <td>204.112.96.94</td>\n",
       "      <td>64.564</td>\n",
       "      <td>02-cd-05-c1-92-3f</td>\n",
       "      <td>Bell MTS</td>\n",
       "      <td>MB)</td>\n",
       "      <td>4</td>\n",
       "      <td>Shaw Communications (Winnipeg</td>\n",
       "    </tr>\n",
       "    <tr>\n",
       "      <th>9</th>\n",
       "      <td>2018-12-05 10:36:12-06:00</td>\n",
       "      <td>204.112.96.94</td>\n",
       "      <td>68.371</td>\n",
       "      <td>02-cd-05-c1-92-3f</td>\n",
       "      <td>Bell MTS</td>\n",
       "      <td>MB)</td>\n",
       "      <td>4</td>\n",
       "      <td>Shaw Communications (Winnipeg</td>\n",
       "    </tr>\n",
       "  </tbody>\n",
       "</table>\n",
       "</div>"
      ],
      "text/plain": [
       "                       time             IP    PING             PI_MAC  \\\n",
       "0 2018-12-03 03:06:01-06:00  204.112.96.94  66.148  02-cd-05-c1-92-3f   \n",
       "1 2018-12-03 06:48:06-06:00  204.112.96.94  62.255  02-cd-05-c1-92-3f   \n",
       "2 2018-12-03 10:30:09-06:00  204.112.96.94  70.408  02-cd-05-c1-92-3f   \n",
       "3 2018-12-04 01:18:08-06:00  204.112.96.94  64.617  02-cd-05-c1-92-3f   \n",
       "4 2018-12-04 05:00:11-06:00  204.112.96.94  68.327  02-cd-05-c1-92-3f   \n",
       "5 2018-12-04 12:24:11-06:00  204.112.96.94  69.748  02-cd-05-c1-92-3f   \n",
       "6 2018-12-04 16:06:13-06:00  204.112.96.94  71.463  02-cd-05-c1-92-3f   \n",
       "7 2018-12-04 19:48:08-06:00  204.112.96.94  71.544  02-cd-05-c1-92-3f   \n",
       "8 2018-12-05 06:54:17-06:00  204.112.96.94  64.564  02-cd-05-c1-92-3f   \n",
       "9 2018-12-05 10:36:12-06:00  204.112.96.94  68.371  02-cd-05-c1-92-3f   \n",
       "\n",
       "   PROVIDER PROVINCE  SK_PI                    TEST_SERVER  \n",
       "0  Bell MTS      MB)      4  Shaw Communications (Winnipeg  \n",
       "1  Bell MTS      MB)      4    Voyageur Internet (Winnipeg  \n",
       "2  Bell MTS      MB)      4  Shaw Communications (Winnipeg  \n",
       "3  Bell MTS      MB)      4    Voyageur Internet (Winnipeg  \n",
       "4  Bell MTS      MB)      4    Voyageur Internet (Winnipeg  \n",
       "5  Bell MTS      MB)      4  Shaw Communications (Winnipeg  \n",
       "6  Bell MTS      MB)      4    Voyageur Internet (Winnipeg  \n",
       "7  Bell MTS      MB)      4    Voyageur Internet (Winnipeg  \n",
       "8  Bell MTS      MB)      4  Shaw Communications (Winnipeg  \n",
       "9  Bell MTS      MB)      4  Shaw Communications (Winnipeg  "
      ]
     },
     "execution_count": 11,
     "metadata": {},
     "output_type": "execute_result"
    }
   ],
   "source": [
    "query3 = \"SELECT * FROM SPEEDTEST_PING WHERE PROVIDER!='iperf' AND SK_PI='4' ORDER BY time DESC LIMIT 10;\"\n",
    "df3 = get_dataframe_from_influxdb(client_df=client_df,query_influx=query3,table_name='SPEEDTEST_PING')\n",
    "df3"
   ]
  },
  {
   "cell_type": "markdown",
   "metadata": {},
   "source": [
    "Latencies are slightly different but not much, looks like units are the same - Miliseconds."
   ]
  },
  {
   "cell_type": "markdown",
   "metadata": {},
   "source": [
    "Let's compare with what we have in MS SQL database:"
   ]
  },
  {
   "cell_type": "code",
   "execution_count": 12,
   "metadata": {},
   "outputs": [
    {
     "data": {
      "text/html": [
       "<div>\n",
       "<style>\n",
       "    .dataframe thead tr:only-child th {\n",
       "        text-align: right;\n",
       "    }\n",
       "\n",
       "    .dataframe thead th {\n",
       "        text-align: left;\n",
       "    }\n",
       "\n",
       "    .dataframe tbody tr th {\n",
       "        vertical-align: top;\n",
       "    }\n",
       "</style>\n",
       "<table border=\"1\" class=\"dataframe\">\n",
       "  <thead>\n",
       "    <tr style=\"text-align: right;\">\n",
       "      <th></th>\n",
       "      <th>SK_PI</th>\n",
       "      <th>SK_FILE_PATTERN</th>\n",
       "      <th>DATA_DATE</th>\n",
       "      <th>PROVIDER</th>\n",
       "      <th>IP</th>\n",
       "      <th>TEST_SERVER</th>\n",
       "      <th>PROVINCE</th>\n",
       "      <th>PING</th>\n",
       "      <th>DOWNLOAD</th>\n",
       "      <th>UPLOAD</th>\n",
       "    </tr>\n",
       "  </thead>\n",
       "  <tbody>\n",
       "    <tr>\n",
       "      <th>0</th>\n",
       "      <td>4</td>\n",
       "      <td>20</td>\n",
       "      <td>2018-12-03 10:59:09.750</td>\n",
       "      <td>iperf</td>\n",
       "      <td>204.112.96.94</td>\n",
       "      <td>clearskystatus.info</td>\n",
       "      <td>iperf</td>\n",
       "      <td>57.326</td>\n",
       "      <td>3758.08</td>\n",
       "      <td>718.0</td>\n",
       "    </tr>\n",
       "    <tr>\n",
       "      <th>1</th>\n",
       "      <td>4</td>\n",
       "      <td>20</td>\n",
       "      <td>2018-12-02 05:23:31.210</td>\n",
       "      <td>iperf</td>\n",
       "      <td>204.112.96.94</td>\n",
       "      <td>clearskystatus.info</td>\n",
       "      <td>iperf</td>\n",
       "      <td>56.683</td>\n",
       "      <td>3860.48</td>\n",
       "      <td>831.0</td>\n",
       "    </tr>\n",
       "    <tr>\n",
       "      <th>2</th>\n",
       "      <td>4</td>\n",
       "      <td>20</td>\n",
       "      <td>2018-11-28 16:16:08.767</td>\n",
       "      <td>iperf</td>\n",
       "      <td>204.112.96.94</td>\n",
       "      <td>clearskystatus.info</td>\n",
       "      <td>iperf</td>\n",
       "      <td>56.454</td>\n",
       "      <td>3655.68</td>\n",
       "      <td>723.0</td>\n",
       "    </tr>\n",
       "    <tr>\n",
       "      <th>3</th>\n",
       "      <td>4</td>\n",
       "      <td>20</td>\n",
       "      <td>2018-11-28 12:34:13.453</td>\n",
       "      <td>iperf</td>\n",
       "      <td>204.112.96.94</td>\n",
       "      <td>clearskystatus.info</td>\n",
       "      <td>iperf</td>\n",
       "      <td>55.919</td>\n",
       "      <td>3860.48</td>\n",
       "      <td>787.0</td>\n",
       "    </tr>\n",
       "    <tr>\n",
       "      <th>4</th>\n",
       "      <td>4</td>\n",
       "      <td>20</td>\n",
       "      <td>2018-11-26 16:10:15.617</td>\n",
       "      <td>iperf</td>\n",
       "      <td>204.112.96.94</td>\n",
       "      <td>clearskystatus.info</td>\n",
       "      <td>iperf</td>\n",
       "      <td>56.270</td>\n",
       "      <td>3860.48</td>\n",
       "      <td>768.0</td>\n",
       "    </tr>\n",
       "    <tr>\n",
       "      <th>5</th>\n",
       "      <td>4</td>\n",
       "      <td>20</td>\n",
       "      <td>2018-11-26 12:28:05.287</td>\n",
       "      <td>iperf</td>\n",
       "      <td>204.112.96.94</td>\n",
       "      <td>clearskystatus.info</td>\n",
       "      <td>iperf</td>\n",
       "      <td>55.602</td>\n",
       "      <td>3860.48</td>\n",
       "      <td>834.0</td>\n",
       "    </tr>\n",
       "    <tr>\n",
       "      <th>6</th>\n",
       "      <td>4</td>\n",
       "      <td>20</td>\n",
       "      <td>2018-11-26 05:04:18.657</td>\n",
       "      <td>iperf</td>\n",
       "      <td>204.112.96.94</td>\n",
       "      <td>clearskystatus.info</td>\n",
       "      <td>iperf</td>\n",
       "      <td>59.371</td>\n",
       "      <td>3973.12</td>\n",
       "      <td>780.0</td>\n",
       "    </tr>\n",
       "    <tr>\n",
       "      <th>7</th>\n",
       "      <td>4</td>\n",
       "      <td>20</td>\n",
       "      <td>2018-11-25 10:36:57.217</td>\n",
       "      <td>iperf</td>\n",
       "      <td>204.112.96.94</td>\n",
       "      <td>clearskystatus.info</td>\n",
       "      <td>iperf</td>\n",
       "      <td>56.491</td>\n",
       "      <td>3860.48</td>\n",
       "      <td>792.0</td>\n",
       "    </tr>\n",
       "    <tr>\n",
       "      <th>8</th>\n",
       "      <td>4</td>\n",
       "      <td>20</td>\n",
       "      <td>2018-11-24 19:46:18.777</td>\n",
       "      <td>iperf</td>\n",
       "      <td>204.112.96.94</td>\n",
       "      <td>clearskystatus.info</td>\n",
       "      <td>iperf</td>\n",
       "      <td>58.740</td>\n",
       "      <td>3860.48</td>\n",
       "      <td>775.0</td>\n",
       "    </tr>\n",
       "    <tr>\n",
       "      <th>9</th>\n",
       "      <td>4</td>\n",
       "      <td>20</td>\n",
       "      <td>2018-11-24 16:04:17.457</td>\n",
       "      <td>iperf</td>\n",
       "      <td>204.112.96.94</td>\n",
       "      <td>clearskystatus.info</td>\n",
       "      <td>iperf</td>\n",
       "      <td>57.105</td>\n",
       "      <td>3758.08</td>\n",
       "      <td>767.0</td>\n",
       "    </tr>\n",
       "  </tbody>\n",
       "</table>\n",
       "</div>"
      ],
      "text/plain": [
       "   SK_PI  SK_FILE_PATTERN               DATA_DATE PROVIDER             IP  \\\n",
       "0      4               20 2018-12-03 10:59:09.750    iperf  204.112.96.94   \n",
       "1      4               20 2018-12-02 05:23:31.210    iperf  204.112.96.94   \n",
       "2      4               20 2018-11-28 16:16:08.767    iperf  204.112.96.94   \n",
       "3      4               20 2018-11-28 12:34:13.453    iperf  204.112.96.94   \n",
       "4      4               20 2018-11-26 16:10:15.617    iperf  204.112.96.94   \n",
       "5      4               20 2018-11-26 12:28:05.287    iperf  204.112.96.94   \n",
       "6      4               20 2018-11-26 05:04:18.657    iperf  204.112.96.94   \n",
       "7      4               20 2018-11-25 10:36:57.217    iperf  204.112.96.94   \n",
       "8      4               20 2018-11-24 19:46:18.777    iperf  204.112.96.94   \n",
       "9      4               20 2018-11-24 16:04:17.457    iperf  204.112.96.94   \n",
       "\n",
       "           TEST_SERVER PROVINCE    PING  DOWNLOAD  UPLOAD  \n",
       "0  clearskystatus.info    iperf  57.326   3758.08   718.0  \n",
       "1  clearskystatus.info    iperf  56.683   3860.48   831.0  \n",
       "2  clearskystatus.info    iperf  56.454   3655.68   723.0  \n",
       "3  clearskystatus.info    iperf  55.919   3860.48   787.0  \n",
       "4  clearskystatus.info    iperf  56.270   3860.48   768.0  \n",
       "5  clearskystatus.info    iperf  55.602   3860.48   834.0  \n",
       "6  clearskystatus.info    iperf  59.371   3973.12   780.0  \n",
       "7  clearskystatus.info    iperf  56.491   3860.48   792.0  \n",
       "8  clearskystatus.info    iperf  58.740   3860.48   775.0  \n",
       "9  clearskystatus.info    iperf  57.105   3758.08   767.0  "
      ]
     },
     "execution_count": 12,
     "metadata": {},
     "output_type": "execute_result"
    }
   ],
   "source": [
    "cnxn = connect_to_mssql()\n",
    "sql = \"SELECT TOP 10 * FROM FCT_SPEEDTEST WHERE PROVIDER='iperf' AND SK_PI='4' ORDER BY DATA_DATE DESC;\"\n",
    "pd.read_sql(sql,cnxn)"
   ]
  },
  {
   "cell_type": "markdown",
   "metadata": {},
   "source": [
    "Are there any zeros or NaNs?"
   ]
  },
  {
   "cell_type": "code",
   "execution_count": 13,
   "metadata": {},
   "outputs": [
    {
     "data": {
      "text/html": [
       "<div>\n",
       "<style>\n",
       "    .dataframe thead tr:only-child th {\n",
       "        text-align: right;\n",
       "    }\n",
       "\n",
       "    .dataframe thead th {\n",
       "        text-align: left;\n",
       "    }\n",
       "\n",
       "    .dataframe tbody tr th {\n",
       "        vertical-align: top;\n",
       "    }\n",
       "</style>\n",
       "<table border=\"1\" class=\"dataframe\">\n",
       "  <thead>\n",
       "    <tr style=\"text-align: right;\">\n",
       "      <th></th>\n",
       "      <th>SK_PI</th>\n",
       "      <th>SK_FILE_PATTERN</th>\n",
       "      <th>DATA_DATE</th>\n",
       "      <th>PROVIDER</th>\n",
       "      <th>IP</th>\n",
       "      <th>TEST_SERVER</th>\n",
       "      <th>PROVINCE</th>\n",
       "      <th>PING</th>\n",
       "      <th>DOWNLOAD</th>\n",
       "      <th>UPLOAD</th>\n",
       "    </tr>\n",
       "  </thead>\n",
       "  <tbody>\n",
       "  </tbody>\n",
       "</table>\n",
       "</div>"
      ],
      "text/plain": [
       "Empty DataFrame\n",
       "Columns: [SK_PI, SK_FILE_PATTERN, DATA_DATE, PROVIDER, IP, TEST_SERVER, PROVINCE, PING, DOWNLOAD, UPLOAD]\n",
       "Index: []"
      ]
     },
     "execution_count": 13,
     "metadata": {},
     "output_type": "execute_result"
    }
   ],
   "source": [
    "sql = \"SELECT  * FROM FCT_SPEEDTEST WHERE PROVIDER='iperf' AND (UPLOAD=0 OR DOWNLOAD=0 OR PING=0) ORDER BY DATA_DATE DESC;\"\n",
    "pd.read_sql(sql,cnxn)"
   ]
  },
  {
   "cell_type": "code",
   "execution_count": 14,
   "metadata": {},
   "outputs": [
    {
     "data": {
      "text/html": [
       "<div>\n",
       "<style>\n",
       "    .dataframe thead tr:only-child th {\n",
       "        text-align: right;\n",
       "    }\n",
       "\n",
       "    .dataframe thead th {\n",
       "        text-align: left;\n",
       "    }\n",
       "\n",
       "    .dataframe tbody tr th {\n",
       "        vertical-align: top;\n",
       "    }\n",
       "</style>\n",
       "<table border=\"1\" class=\"dataframe\">\n",
       "  <thead>\n",
       "    <tr style=\"text-align: right;\">\n",
       "      <th></th>\n",
       "      <th>SK_PI</th>\n",
       "      <th>SK_FILE_PATTERN</th>\n",
       "      <th>DATA_DATE</th>\n",
       "      <th>PROVIDER</th>\n",
       "      <th>IP</th>\n",
       "      <th>TEST_SERVER</th>\n",
       "      <th>PROVINCE</th>\n",
       "      <th>PING</th>\n",
       "      <th>DOWNLOAD</th>\n",
       "      <th>UPLOAD</th>\n",
       "    </tr>\n",
       "  </thead>\n",
       "  <tbody>\n",
       "  </tbody>\n",
       "</table>\n",
       "</div>"
      ],
      "text/plain": [
       "Empty DataFrame\n",
       "Columns: [SK_PI, SK_FILE_PATTERN, DATA_DATE, PROVIDER, IP, TEST_SERVER, PROVINCE, PING, DOWNLOAD, UPLOAD]\n",
       "Index: []"
      ]
     },
     "execution_count": 14,
     "metadata": {},
     "output_type": "execute_result"
    }
   ],
   "source": [
    "sql = \"SELECT  * FROM FCT_SPEEDTEST WHERE PROVIDER='iperf' AND (UPLOAD IS NULL OR DOWNLOAD IS NULL OR PING IS NULL) ORDER BY DATA_DATE DESC;\"\n",
    "pd.read_sql(sql,cnxn)"
   ]
  },
  {
   "cell_type": "markdown",
   "metadata": {},
   "source": [
    "No zeros and no NaNs"
   ]
  },
  {
   "cell_type": "markdown",
   "metadata": {},
   "source": [
    "## Number of datapoints per device"
   ]
  },
  {
   "cell_type": "code",
   "execution_count": 15,
   "metadata": {},
   "outputs": [
    {
     "name": "stdout",
     "output_type": "stream",
     "text": [
      "[1, 2, 3, 4, 5, 6, 7, 8, 9, 10, 11, 12, 14, 15, 16, 17, 18]\n"
     ]
    }
   ],
   "source": [
    "device_numbers=get_tag_values_influxdb(client_influx=client,table_name='SPEEDTEST_DOWNLOAD', tag_name='SK_PI')\n",
    "device_numbers=list(map(int, device_numbers))\n",
    "device_numbers= sorted(device_numbers)\n",
    "print(device_numbers)"
   ]
  },
  {
   "cell_type": "markdown",
   "metadata": {},
   "source": [
    "Getting number of data points per device for the entire period of time."
   ]
  },
  {
   "cell_type": "code",
   "execution_count": 16,
   "metadata": {},
   "outputs": [],
   "source": [
    "query_download_counts = \"SELECT COUNT(DOWNLOAD) FROM SPEEDTEST_DOWNLOAD WHERE PROVIDER='iperf' AND time<= '\"+starting_point+\"' AND DOWNLOAD>0 GROUP BY SK_PI;\"\n",
    "download_counts=get_stats_influxdb(client_influx=client,\n",
    "                               query_influx=query_download_counts,\n",
    "                               stat_name='count',\n",
    "                               device_numbers=device_numbers)"
   ]
  },
  {
   "cell_type": "code",
   "execution_count": 17,
   "metadata": {},
   "outputs": [
    {
     "data": {
      "application/vnd.plotly.v1+json": {
       "data": [
        {
         "marker": {
          "color": "#F3C300"
         },
         "name": "ping datapoints",
         "type": "bar",
         "x": [
          1,
          2,
          3,
          4,
          5,
          6,
          7,
          8,
          9,
          10,
          11,
          12,
          14,
          15,
          16,
          17,
          18
         ],
         "y": [
          4,
          105,
          21,
          70,
          82,
          26,
          51,
          2,
          8,
          0,
          3,
          4,
          0,
          0,
          0,
          0,
          0
         ]
        }
       ],
       "layout": {
        "barmode": "stack",
        "title": "Number of data points per device to the date 2019-02-05 10:43:24",
        "xaxis": {
         "title": "Device Number"
        },
        "yaxis": {
         "title": "Number of datapoints"
        }
       }
      },
      "text/html": [
       "<div id=\"61c9e147-8436-4e55-b9fe-445c0a5df5ea\" style=\"height: 525px; width: 100%;\" class=\"plotly-graph-div\"></div><script type=\"text/javascript\">require([\"plotly\"], function(Plotly) { window.PLOTLYENV=window.PLOTLYENV || {};window.PLOTLYENV.BASE_URL=\"https://plot.ly\";Plotly.newPlot(\"61c9e147-8436-4e55-b9fe-445c0a5df5ea\", [{\"type\": \"bar\", \"x\": [1, 2, 3, 4, 5, 6, 7, 8, 9, 10, 11, 12, 14, 15, 16, 17, 18], \"y\": [4, 105, 21, 70, 82, 26, 51, 2, 8, 0, 3, 4, 0, 0, 0, 0, 0], \"marker\": {\"color\": \"#F3C300\"}, \"name\": \"ping datapoints\"}], {\"barmode\": \"stack\", \"title\": \"Number of data points per device to the date 2019-02-05 10:43:24\", \"xaxis\": {\"title\": \"Device Number\"}, \"yaxis\": {\"title\": \"Number of datapoints\"}}, {\"showLink\": true, \"linkText\": \"Export to plot.ly\"})});</script>"
      ],
      "text/vnd.plotly.v1+html": [
       "<div id=\"61c9e147-8436-4e55-b9fe-445c0a5df5ea\" style=\"height: 525px; width: 100%;\" class=\"plotly-graph-div\"></div><script type=\"text/javascript\">require([\"plotly\"], function(Plotly) { window.PLOTLYENV=window.PLOTLYENV || {};window.PLOTLYENV.BASE_URL=\"https://plot.ly\";Plotly.newPlot(\"61c9e147-8436-4e55-b9fe-445c0a5df5ea\", [{\"type\": \"bar\", \"x\": [1, 2, 3, 4, 5, 6, 7, 8, 9, 10, 11, 12, 14, 15, 16, 17, 18], \"y\": [4, 105, 21, 70, 82, 26, 51, 2, 8, 0, 3, 4, 0, 0, 0, 0, 0], \"marker\": {\"color\": \"#F3C300\"}, \"name\": \"ping datapoints\"}], {\"barmode\": \"stack\", \"title\": \"Number of data points per device to the date 2019-02-05 10:43:24\", \"xaxis\": {\"title\": \"Device Number\"}, \"yaxis\": {\"title\": \"Number of datapoints\"}}, {\"showLink\": true, \"linkText\": \"Export to plot.ly\"})});</script>"
      ]
     },
     "metadata": {},
     "output_type": "display_data"
    }
   ],
   "source": [
    "simple_bar_plot(xvalues=device_numbers,\n",
    "                yvalues=download_counts,\n",
    "                name=\"ping datapoints\",\n",
    "                title=\"Number of data points per device \"+ title_tail,\n",
    "                ytitle=\"Number of datapoints\")"
   ]
  },
  {
   "cell_type": "markdown",
   "metadata": {},
   "source": [
    "Some of the devices have small number of datapoints, may be they are just installed? Lets check how many dataponts came in last 4 weeks."
   ]
  },
  {
   "cell_type": "markdown",
   "metadata": {},
   "source": [
    "Getting number of datapoints per device in last 4 weeks."
   ]
  },
  {
   "cell_type": "code",
   "execution_count": 18,
   "metadata": {},
   "outputs": [],
   "source": [
    "query_download_counts_time = \"SELECT COUNT(DOWNLOAD) FROM SPEEDTEST_DOWNLOAD WHERE time >= '\"+starting_point+\"'-\"+time_interval+\" AND PROVIDER='iperf' AND DOWNLOAD>0 GROUP BY SK_PI ;\"\n",
    "download_counts_time = get_stats_influxdb(client_influx=client,\n",
    "                                      query_influx=query_download_counts_time,\n",
    "                                      stat_name='count',\n",
    "                                      device_numbers=device_numbers)"
   ]
  },
  {
   "cell_type": "markdown",
   "metadata": {},
   "source": [
    "Plotting combined barchart - entire number of datapoints vs number of datapoints in last 4 weeks."
   ]
  },
  {
   "cell_type": "code",
   "execution_count": 19,
   "metadata": {},
   "outputs": [
    {
     "data": {
      "application/vnd.plotly.v1+json": {
       "data": [
        {
         "marker": {
          "color": "#F3C300"
         },
         "name": "Last 4w",
         "type": "bar",
         "x": [
          1,
          2,
          3,
          4,
          5,
          6,
          7,
          8,
          9,
          10,
          11,
          12,
          14,
          15,
          16,
          17,
          18
         ],
         "y": [
          0,
          0,
          0,
          0,
          0,
          0,
          0,
          0,
          0,
          0,
          0,
          0,
          0,
          0,
          0,
          0,
          0
         ]
        },
        {
         "marker": {
          "color": "#875692"
         },
         "name": "The rest of the time",
         "type": "bar",
         "x": [
          1,
          2,
          3,
          4,
          5,
          6,
          7,
          8,
          9,
          10,
          11,
          12,
          14,
          15,
          16,
          17,
          18
         ],
         "y": [
          4,
          105,
          21,
          70,
          82,
          26,
          51,
          2,
          8,
          0,
          3,
          4,
          0,
          0,
          0,
          0,
          0
         ]
        }
       ],
       "layout": {
        "barmode": "stack",
        "title": "Comparing number of datapoints in last 4w vs entire time to the date 2019-02-05 10:43:24",
        "xaxis": {
         "title": "Device Number"
        },
        "yaxis": {
         "title": "Number of datapoints"
        }
       }
      },
      "text/html": [
       "<div id=\"58f41d71-1c2c-4ecd-ac53-364aae813e72\" style=\"height: 525px; width: 100%;\" class=\"plotly-graph-div\"></div><script type=\"text/javascript\">require([\"plotly\"], function(Plotly) { window.PLOTLYENV=window.PLOTLYENV || {};window.PLOTLYENV.BASE_URL=\"https://plot.ly\";Plotly.newPlot(\"58f41d71-1c2c-4ecd-ac53-364aae813e72\", [{\"type\": \"bar\", \"x\": [1, 2, 3, 4, 5, 6, 7, 8, 9, 10, 11, 12, 14, 15, 16, 17, 18], \"y\": [0, 0, 0, 0, 0, 0, 0, 0, 0, 0, 0, 0, 0, 0, 0, 0, 0], \"marker\": {\"color\": \"#F3C300\"}, \"name\": \"Last 4w\"}, {\"type\": \"bar\", \"x\": [1, 2, 3, 4, 5, 6, 7, 8, 9, 10, 11, 12, 14, 15, 16, 17, 18], \"y\": [4, 105, 21, 70, 82, 26, 51, 2, 8, 0, 3, 4, 0, 0, 0, 0, 0], \"marker\": {\"color\": \"#875692\"}, \"name\": \"The rest of the time\"}], {\"barmode\": \"stack\", \"title\": \"Comparing number of datapoints in last 4w vs entire time to the date 2019-02-05 10:43:24\", \"xaxis\": {\"title\": \"Device Number\"}, \"yaxis\": {\"title\": \"Number of datapoints\"}}, {\"showLink\": true, \"linkText\": \"Export to plot.ly\"})});</script>"
      ],
      "text/vnd.plotly.v1+html": [
       "<div id=\"58f41d71-1c2c-4ecd-ac53-364aae813e72\" style=\"height: 525px; width: 100%;\" class=\"plotly-graph-div\"></div><script type=\"text/javascript\">require([\"plotly\"], function(Plotly) { window.PLOTLYENV=window.PLOTLYENV || {};window.PLOTLYENV.BASE_URL=\"https://plot.ly\";Plotly.newPlot(\"58f41d71-1c2c-4ecd-ac53-364aae813e72\", [{\"type\": \"bar\", \"x\": [1, 2, 3, 4, 5, 6, 7, 8, 9, 10, 11, 12, 14, 15, 16, 17, 18], \"y\": [0, 0, 0, 0, 0, 0, 0, 0, 0, 0, 0, 0, 0, 0, 0, 0, 0], \"marker\": {\"color\": \"#F3C300\"}, \"name\": \"Last 4w\"}, {\"type\": \"bar\", \"x\": [1, 2, 3, 4, 5, 6, 7, 8, 9, 10, 11, 12, 14, 15, 16, 17, 18], \"y\": [4, 105, 21, 70, 82, 26, 51, 2, 8, 0, 3, 4, 0, 0, 0, 0, 0], \"marker\": {\"color\": \"#875692\"}, \"name\": \"The rest of the time\"}], {\"barmode\": \"stack\", \"title\": \"Comparing number of datapoints in last 4w vs entire time to the date 2019-02-05 10:43:24\", \"xaxis\": {\"title\": \"Device Number\"}, \"yaxis\": {\"title\": \"Number of datapoints\"}}, {\"showLink\": true, \"linkText\": \"Export to plot.ly\"})});</script>"
      ]
     },
     "metadata": {},
     "output_type": "display_data"
    }
   ],
   "source": [
    "combined_bar_plot_2traces(xvalues=device_numbers,\n",
    "                          yvalues1=download_counts_time,\n",
    "                          yvalues2=[a - b for a, b in zip(download_counts, download_counts_time)],\n",
    "                          name1='Last '+time_interval,\n",
    "                          name2='The rest of the time',\n",
    "                          title=\"Comparing number of datapoints in last \"+time_interval+\" vs entire time \"+ title_tail,\n",
    "                          ytitle=\"Number of datapoints\")"
   ]
  },
  {
   "cell_type": "markdown",
   "metadata": {},
   "source": [
    "There are no datapoints in the last 4 weeks. Let's check last reporting time for every device."
   ]
  },
  {
   "cell_type": "code",
   "execution_count": 20,
   "metadata": {},
   "outputs": [],
   "source": [
    "query_upload_last = \"SELECT LAST(UPLOAD), time FROM SPEEDTEST_UPLOAD WHERE PROVIDER='iperf' AND time <= '\"+starting_point+\"' AND UPLOAD>0 GROUP BY SK_PI;\"\n",
    "result_upload_last=get_stats_influxdb(client_influx=client,\n",
    "                               query_influx=query_upload_last,\n",
    "                               stat_name='time',\n",
    "                               device_numbers=device_numbers)"
   ]
  },
  {
   "cell_type": "code",
   "execution_count": 21,
   "metadata": {},
   "outputs": [],
   "source": [
    "query_upload_first = \"SELECT FIRST(UPLOAD), time FROM SPEEDTEST_UPLOAD WHERE PROVIDER='iperf' AND time <= '\"+starting_point+\"' AND UPLOAD>0 GROUP BY SK_PI;\"\n",
    "result_upload_first=get_stats_influxdb(client_influx=client,\n",
    "                               query_influx=query_upload_first,\n",
    "                               stat_name='time',\n",
    "                               device_numbers=device_numbers)"
   ]
  },
  {
   "cell_type": "code",
   "execution_count": 22,
   "metadata": {},
   "outputs": [
    {
     "name": "stdout",
     "output_type": "stream",
     "text": [
      "Iperf reporting times:\n",
      "Device:  1   was reporting from  2018-10-10 22:38:54  to  2018-10-11 10:10:20\n",
      "Device:  2   was reporting from  2018-10-11 15:58:37  to  2018-11-03 16:52:07\n",
      "Device:  3   was reporting from  2018-10-15 21:28:35  to  2018-12-03 14:41:47\n",
      "Device:  4   was reporting from  2018-10-27 01:56:01  to  2018-12-03 10:59:09\n",
      "Device:  5   was reporting from  2018-10-26 20:10:16  to  2018-11-30 23:46:22\n",
      "Device:  6   was reporting from  2018-10-26 23:53:09  to  2018-10-31 14:52:59\n",
      "Device:  7   was reporting from  2018-11-11 09:52:14  to  2018-12-02 16:27:57\n",
      "Device:  8   was reporting from  2018-11-07 20:14:27  to  2018-12-01 21:58:23\n",
      "Device:  9   was reporting from  2018-12-01 14:34:26  to  2018-12-03 18:24:06\n",
      "Device:  10   was reporting from  None  to  None\n",
      "Device:  11   was reporting from  2018-12-01 07:10:18  to  2018-12-03 22:05:59\n",
      "Device:  12   was reporting from  2018-12-01 10:52:23  to  2018-12-02 01:40:24\n",
      "Device:  14   was reporting from  None  to  None\n",
      "Device:  15   was reporting from  None  to  None\n",
      "Device:  16   was reporting from  None  to  None\n",
      "Device:  17   was reporting from  None  to  None\n",
      "Device:  18   was reporting from  None  to  None\n"
     ]
    },
    {
     "data": {
      "application/vnd.plotly.v1+json": {
       "data": [
        {
         "marker": {
          "color": "#F2F3F4"
         },
         "name": 1,
         "type": "scatter",
         "x": [
          "2018-10-10 22:38:54",
          "2018-10-11 10:10:20"
         ],
         "y": [
          1,
          1
         ]
        },
        {
         "marker": {
          "color": "#222222"
         },
         "name": 2,
         "type": "scatter",
         "x": [
          "2018-10-11 15:58:37",
          "2018-11-03 16:52:07"
         ],
         "y": [
          2,
          2
         ]
        },
        {
         "marker": {
          "color": "#F3C300"
         },
         "name": 3,
         "type": "scatter",
         "x": [
          "2018-10-15 21:28:35",
          "2018-12-03 14:41:47"
         ],
         "y": [
          3,
          3
         ]
        },
        {
         "marker": {
          "color": "#875692"
         },
         "name": 4,
         "type": "scatter",
         "x": [
          "2018-10-27 01:56:01",
          "2018-12-03 10:59:09"
         ],
         "y": [
          4,
          4
         ]
        },
        {
         "marker": {
          "color": "#F38400"
         },
         "name": 5,
         "type": "scatter",
         "x": [
          "2018-10-26 20:10:16",
          "2018-11-30 23:46:22"
         ],
         "y": [
          5,
          5
         ]
        },
        {
         "marker": {
          "color": "#A1CAF1"
         },
         "name": 6,
         "type": "scatter",
         "x": [
          "2018-10-26 23:53:09",
          "2018-10-31 14:52:59"
         ],
         "y": [
          6,
          6
         ]
        },
        {
         "marker": {
          "color": "#BE0032"
         },
         "name": 7,
         "type": "scatter",
         "x": [
          "2018-11-11 09:52:14",
          "2018-12-02 16:27:57"
         ],
         "y": [
          7,
          7
         ]
        },
        {
         "marker": {
          "color": "#C2B280"
         },
         "name": 8,
         "type": "scatter",
         "x": [
          "2018-11-07 20:14:27",
          "2018-12-01 21:58:23"
         ],
         "y": [
          8,
          8
         ]
        },
        {
         "marker": {
          "color": "#848482"
         },
         "name": 9,
         "type": "scatter",
         "x": [
          "2018-12-01 14:34:26",
          "2018-12-03 18:24:06"
         ],
         "y": [
          9,
          9
         ]
        },
        {
         "marker": {
          "color": "#008856"
         },
         "name": 10,
         "type": "scatter",
         "x": [
          null,
          null
         ],
         "y": [
          10,
          10
         ]
        },
        {
         "marker": {
          "color": "#E68FAC"
         },
         "name": 11,
         "type": "scatter",
         "x": [
          "2018-12-01 07:10:18",
          "2018-12-03 22:05:59"
         ],
         "y": [
          11,
          11
         ]
        },
        {
         "marker": {
          "color": "#0067A5"
         },
         "name": 12,
         "type": "scatter",
         "x": [
          "2018-12-01 10:52:23",
          "2018-12-02 01:40:24"
         ],
         "y": [
          12,
          12
         ]
        },
        {
         "marker": {
          "color": "#F99379"
         },
         "name": 14,
         "type": "scatter",
         "x": [
          null,
          null
         ],
         "y": [
          14,
          14
         ]
        },
        {
         "marker": {
          "color": "#604E97"
         },
         "name": 15,
         "type": "scatter",
         "x": [
          null,
          null
         ],
         "y": [
          15,
          15
         ]
        },
        {
         "marker": {
          "color": "#F6A600"
         },
         "name": 16,
         "type": "scatter",
         "x": [
          null,
          null
         ],
         "y": [
          16,
          16
         ]
        },
        {
         "marker": {
          "color": "#B3446C"
         },
         "name": 17,
         "type": "scatter",
         "x": [
          null,
          null
         ],
         "y": [
          17,
          17
         ]
        },
        {
         "marker": {
          "color": "#DCD300"
         },
         "name": 18,
         "type": "scatter",
         "x": [
          null,
          null
         ],
         "y": [
          18,
          18
         ]
        }
       ],
       "layout": {
        "title": "Device reporting times(speedtest) to the date 2019-02-05 10:43:24",
        "xaxis": {
         "title": "Time"
        },
        "yaxis": {
         "title": "Device Number"
        }
       }
      },
      "text/html": [
       "<div id=\"1847d347-14d1-4ba8-bd7c-5382525c4102\" style=\"height: 525px; width: 100%;\" class=\"plotly-graph-div\"></div><script type=\"text/javascript\">require([\"plotly\"], function(Plotly) { window.PLOTLYENV=window.PLOTLYENV || {};window.PLOTLYENV.BASE_URL=\"https://plot.ly\";Plotly.newPlot(\"1847d347-14d1-4ba8-bd7c-5382525c4102\", [{\"type\": \"scatter\", \"x\": [\"2018-10-10 22:38:54\", \"2018-10-11 10:10:20\"], \"y\": [1, 1], \"name\": 1, \"marker\": {\"color\": \"#F2F3F4\"}}, {\"type\": \"scatter\", \"x\": [\"2018-10-11 15:58:37\", \"2018-11-03 16:52:07\"], \"y\": [2, 2], \"name\": 2, \"marker\": {\"color\": \"#222222\"}}, {\"type\": \"scatter\", \"x\": [\"2018-10-15 21:28:35\", \"2018-12-03 14:41:47\"], \"y\": [3, 3], \"name\": 3, \"marker\": {\"color\": \"#F3C300\"}}, {\"type\": \"scatter\", \"x\": [\"2018-10-27 01:56:01\", \"2018-12-03 10:59:09\"], \"y\": [4, 4], \"name\": 4, \"marker\": {\"color\": \"#875692\"}}, {\"type\": \"scatter\", \"x\": [\"2018-10-26 20:10:16\", \"2018-11-30 23:46:22\"], \"y\": [5, 5], \"name\": 5, \"marker\": {\"color\": \"#F38400\"}}, {\"type\": \"scatter\", \"x\": [\"2018-10-26 23:53:09\", \"2018-10-31 14:52:59\"], \"y\": [6, 6], \"name\": 6, \"marker\": {\"color\": \"#A1CAF1\"}}, {\"type\": \"scatter\", \"x\": [\"2018-11-11 09:52:14\", \"2018-12-02 16:27:57\"], \"y\": [7, 7], \"name\": 7, \"marker\": {\"color\": \"#BE0032\"}}, {\"type\": \"scatter\", \"x\": [\"2018-11-07 20:14:27\", \"2018-12-01 21:58:23\"], \"y\": [8, 8], \"name\": 8, \"marker\": {\"color\": \"#C2B280\"}}, {\"type\": \"scatter\", \"x\": [\"2018-12-01 14:34:26\", \"2018-12-03 18:24:06\"], \"y\": [9, 9], \"name\": 9, \"marker\": {\"color\": \"#848482\"}}, {\"type\": \"scatter\", \"x\": [null, null], \"y\": [10, 10], \"name\": 10, \"marker\": {\"color\": \"#008856\"}}, {\"type\": \"scatter\", \"x\": [\"2018-12-01 07:10:18\", \"2018-12-03 22:05:59\"], \"y\": [11, 11], \"name\": 11, \"marker\": {\"color\": \"#E68FAC\"}}, {\"type\": \"scatter\", \"x\": [\"2018-12-01 10:52:23\", \"2018-12-02 01:40:24\"], \"y\": [12, 12], \"name\": 12, \"marker\": {\"color\": \"#0067A5\"}}, {\"type\": \"scatter\", \"x\": [null, null], \"y\": [14, 14], \"name\": 14, \"marker\": {\"color\": \"#F99379\"}}, {\"type\": \"scatter\", \"x\": [null, null], \"y\": [15, 15], \"name\": 15, \"marker\": {\"color\": \"#604E97\"}}, {\"type\": \"scatter\", \"x\": [null, null], \"y\": [16, 16], \"name\": 16, \"marker\": {\"color\": \"#F6A600\"}}, {\"type\": \"scatter\", \"x\": [null, null], \"y\": [17, 17], \"name\": 17, \"marker\": {\"color\": \"#B3446C\"}}, {\"type\": \"scatter\", \"x\": [null, null], \"y\": [18, 18], \"name\": 18, \"marker\": {\"color\": \"#DCD300\"}}], {\"title\": \"Device reporting times(speedtest) to the date 2019-02-05 10:43:24\", \"xaxis\": {\"title\": \"Time\"}, \"yaxis\": {\"title\": \"Device Number\"}}, {\"showLink\": true, \"linkText\": \"Export to plot.ly\"})});</script>"
      ],
      "text/vnd.plotly.v1+html": [
       "<div id=\"1847d347-14d1-4ba8-bd7c-5382525c4102\" style=\"height: 525px; width: 100%;\" class=\"plotly-graph-div\"></div><script type=\"text/javascript\">require([\"plotly\"], function(Plotly) { window.PLOTLYENV=window.PLOTLYENV || {};window.PLOTLYENV.BASE_URL=\"https://plot.ly\";Plotly.newPlot(\"1847d347-14d1-4ba8-bd7c-5382525c4102\", [{\"type\": \"scatter\", \"x\": [\"2018-10-10 22:38:54\", \"2018-10-11 10:10:20\"], \"y\": [1, 1], \"name\": 1, \"marker\": {\"color\": \"#F2F3F4\"}}, {\"type\": \"scatter\", \"x\": [\"2018-10-11 15:58:37\", \"2018-11-03 16:52:07\"], \"y\": [2, 2], \"name\": 2, \"marker\": {\"color\": \"#222222\"}}, {\"type\": \"scatter\", \"x\": [\"2018-10-15 21:28:35\", \"2018-12-03 14:41:47\"], \"y\": [3, 3], \"name\": 3, \"marker\": {\"color\": \"#F3C300\"}}, {\"type\": \"scatter\", \"x\": [\"2018-10-27 01:56:01\", \"2018-12-03 10:59:09\"], \"y\": [4, 4], \"name\": 4, \"marker\": {\"color\": \"#875692\"}}, {\"type\": \"scatter\", \"x\": [\"2018-10-26 20:10:16\", \"2018-11-30 23:46:22\"], \"y\": [5, 5], \"name\": 5, \"marker\": {\"color\": \"#F38400\"}}, {\"type\": \"scatter\", \"x\": [\"2018-10-26 23:53:09\", \"2018-10-31 14:52:59\"], \"y\": [6, 6], \"name\": 6, \"marker\": {\"color\": \"#A1CAF1\"}}, {\"type\": \"scatter\", \"x\": [\"2018-11-11 09:52:14\", \"2018-12-02 16:27:57\"], \"y\": [7, 7], \"name\": 7, \"marker\": {\"color\": \"#BE0032\"}}, {\"type\": \"scatter\", \"x\": [\"2018-11-07 20:14:27\", \"2018-12-01 21:58:23\"], \"y\": [8, 8], \"name\": 8, \"marker\": {\"color\": \"#C2B280\"}}, {\"type\": \"scatter\", \"x\": [\"2018-12-01 14:34:26\", \"2018-12-03 18:24:06\"], \"y\": [9, 9], \"name\": 9, \"marker\": {\"color\": \"#848482\"}}, {\"type\": \"scatter\", \"x\": [null, null], \"y\": [10, 10], \"name\": 10, \"marker\": {\"color\": \"#008856\"}}, {\"type\": \"scatter\", \"x\": [\"2018-12-01 07:10:18\", \"2018-12-03 22:05:59\"], \"y\": [11, 11], \"name\": 11, \"marker\": {\"color\": \"#E68FAC\"}}, {\"type\": \"scatter\", \"x\": [\"2018-12-01 10:52:23\", \"2018-12-02 01:40:24\"], \"y\": [12, 12], \"name\": 12, \"marker\": {\"color\": \"#0067A5\"}}, {\"type\": \"scatter\", \"x\": [null, null], \"y\": [14, 14], \"name\": 14, \"marker\": {\"color\": \"#F99379\"}}, {\"type\": \"scatter\", \"x\": [null, null], \"y\": [15, 15], \"name\": 15, \"marker\": {\"color\": \"#604E97\"}}, {\"type\": \"scatter\", \"x\": [null, null], \"y\": [16, 16], \"name\": 16, \"marker\": {\"color\": \"#F6A600\"}}, {\"type\": \"scatter\", \"x\": [null, null], \"y\": [17, 17], \"name\": 17, \"marker\": {\"color\": \"#B3446C\"}}, {\"type\": \"scatter\", \"x\": [null, null], \"y\": [18, 18], \"name\": 18, \"marker\": {\"color\": \"#DCD300\"}}], {\"title\": \"Device reporting times(speedtest) to the date 2019-02-05 10:43:24\", \"xaxis\": {\"title\": \"Time\"}, \"yaxis\": {\"title\": \"Device Number\"}}, {\"showLink\": true, \"linkText\": \"Export to plot.ly\"})});</script>"
      ]
     },
     "metadata": {},
     "output_type": "display_data"
    }
   ],
   "source": [
    "print(\"Iperf reporting times:\")\n",
    "data=[]\n",
    "for i in range(len(device_numbers)):\n",
    "    try:\n",
    "        result_upload_first[i] = dateutil.parser.parse(result_upload_first[i]).strftime('%Y-%m-%d %H:%M:%S')\n",
    "    except:\n",
    "        result_upload_first[i]=None\n",
    "    try:    \n",
    "        result_upload_last[i] = dateutil.parser.parse(result_upload_last[i]).strftime('%Y-%m-%d %H:%M:%S')\n",
    "    except:\n",
    "        result_upload_last[i]=None\n",
    "    print(\"Device: \", device_numbers[i],\"  was reporting from \", result_upload_first[i], \" to \",result_upload_last[i])\n",
    "    trace = go.Scatter(x=[result_upload_first[i],result_upload_last[i]],y=[device_numbers[i],device_numbers[i]], \n",
    "                       name = device_numbers[i],marker=dict(color=colors[i]))\n",
    "    data.append(trace)\n",
    "layout = dict(title = \"Device reporting times(speedtest) \"+ title_tail,xaxis=dict(title=\"Time\"),\n",
    "        yaxis=dict(title=\"Device Number\"))\n",
    "fig = go.Figure(data=data, layout=layout)\n",
    "iplot(fig)"
   ]
  },
  {
   "cell_type": "markdown",
   "metadata": {},
   "source": [
    "Looks like iperf3 stopped listening on the test server on Dec3.  \n",
    "Able to ping `clearskystatus.info` but all iperf3 test failing:\n",
    "   >/usr/bin/iperf3 -c clearskystatus.info  \n",
    "   >iperf3: error - unable to connect to server: Operation timed out"
   ]
  },
  {
   "cell_type": "markdown",
   "metadata": {},
   "source": [
    "## How often data was collected"
   ]
  },
  {
   "cell_type": "markdown",
   "metadata": {},
   "source": [
    "Lets check devices 2 and 4 and see how often data was collected:"
   ]
  },
  {
   "cell_type": "code",
   "execution_count": 23,
   "metadata": {},
   "outputs": [
    {
     "data": {
      "text/html": [
       "<div>\n",
       "<style>\n",
       "    .dataframe thead tr:only-child th {\n",
       "        text-align: right;\n",
       "    }\n",
       "\n",
       "    .dataframe thead th {\n",
       "        text-align: left;\n",
       "    }\n",
       "\n",
       "    .dataframe tbody tr th {\n",
       "        vertical-align: top;\n",
       "    }\n",
       "</style>\n",
       "<table border=\"1\" class=\"dataframe\">\n",
       "  <thead>\n",
       "    <tr style=\"text-align: right;\">\n",
       "      <th></th>\n",
       "      <th>time</th>\n",
       "      <th>DOWNLOAD</th>\n",
       "      <th>IP</th>\n",
       "      <th>PI_MAC</th>\n",
       "      <th>PROVIDER</th>\n",
       "      <th>PROVINCE</th>\n",
       "      <th>SK_PI</th>\n",
       "      <th>TEST_SERVER</th>\n",
       "    </tr>\n",
       "  </thead>\n",
       "  <tbody>\n",
       "    <tr>\n",
       "      <th>0</th>\n",
       "      <td>2018-11-24 10:04:17-06:00</td>\n",
       "      <td>3758.08</td>\n",
       "      <td>204.112.96.94</td>\n",
       "      <td>02-cd-05-c1-92-3f</td>\n",
       "      <td>iperf</td>\n",
       "      <td>iperf</td>\n",
       "      <td>4</td>\n",
       "      <td>clearskystatus.info</td>\n",
       "    </tr>\n",
       "    <tr>\n",
       "      <th>1</th>\n",
       "      <td>2018-11-24 13:46:18-06:00</td>\n",
       "      <td>3860.48</td>\n",
       "      <td>204.112.96.94</td>\n",
       "      <td>02-cd-05-c1-92-3f</td>\n",
       "      <td>iperf</td>\n",
       "      <td>iperf</td>\n",
       "      <td>4</td>\n",
       "      <td>clearskystatus.info</td>\n",
       "    </tr>\n",
       "    <tr>\n",
       "      <th>2</th>\n",
       "      <td>2018-11-25 04:36:57-06:00</td>\n",
       "      <td>3860.48</td>\n",
       "      <td>204.112.96.94</td>\n",
       "      <td>02-cd-05-c1-92-3f</td>\n",
       "      <td>iperf</td>\n",
       "      <td>iperf</td>\n",
       "      <td>4</td>\n",
       "      <td>clearskystatus.info</td>\n",
       "    </tr>\n",
       "    <tr>\n",
       "      <th>3</th>\n",
       "      <td>2018-11-25 23:04:18-06:00</td>\n",
       "      <td>3973.12</td>\n",
       "      <td>204.112.96.94</td>\n",
       "      <td>02-cd-05-c1-92-3f</td>\n",
       "      <td>iperf</td>\n",
       "      <td>iperf</td>\n",
       "      <td>4</td>\n",
       "      <td>clearskystatus.info</td>\n",
       "    </tr>\n",
       "    <tr>\n",
       "      <th>4</th>\n",
       "      <td>2018-11-26 06:28:05-06:00</td>\n",
       "      <td>3860.48</td>\n",
       "      <td>204.112.96.94</td>\n",
       "      <td>02-cd-05-c1-92-3f</td>\n",
       "      <td>iperf</td>\n",
       "      <td>iperf</td>\n",
       "      <td>4</td>\n",
       "      <td>clearskystatus.info</td>\n",
       "    </tr>\n",
       "    <tr>\n",
       "      <th>5</th>\n",
       "      <td>2018-11-26 10:10:15-06:00</td>\n",
       "      <td>3860.48</td>\n",
       "      <td>204.112.96.94</td>\n",
       "      <td>02-cd-05-c1-92-3f</td>\n",
       "      <td>iperf</td>\n",
       "      <td>iperf</td>\n",
       "      <td>4</td>\n",
       "      <td>clearskystatus.info</td>\n",
       "    </tr>\n",
       "    <tr>\n",
       "      <th>6</th>\n",
       "      <td>2018-11-28 06:34:13-06:00</td>\n",
       "      <td>3860.48</td>\n",
       "      <td>204.112.96.94</td>\n",
       "      <td>02-cd-05-c1-92-3f</td>\n",
       "      <td>iperf</td>\n",
       "      <td>iperf</td>\n",
       "      <td>4</td>\n",
       "      <td>clearskystatus.info</td>\n",
       "    </tr>\n",
       "    <tr>\n",
       "      <th>7</th>\n",
       "      <td>2018-11-28 10:16:08-06:00</td>\n",
       "      <td>3655.68</td>\n",
       "      <td>204.112.96.94</td>\n",
       "      <td>02-cd-05-c1-92-3f</td>\n",
       "      <td>iperf</td>\n",
       "      <td>iperf</td>\n",
       "      <td>4</td>\n",
       "      <td>clearskystatus.info</td>\n",
       "    </tr>\n",
       "    <tr>\n",
       "      <th>8</th>\n",
       "      <td>2018-12-01 23:23:31-06:00</td>\n",
       "      <td>3860.48</td>\n",
       "      <td>204.112.96.94</td>\n",
       "      <td>02-cd-05-c1-92-3f</td>\n",
       "      <td>iperf</td>\n",
       "      <td>iperf</td>\n",
       "      <td>4</td>\n",
       "      <td>clearskystatus.info</td>\n",
       "    </tr>\n",
       "    <tr>\n",
       "      <th>9</th>\n",
       "      <td>2018-12-03 04:59:09-06:00</td>\n",
       "      <td>3758.08</td>\n",
       "      <td>204.112.96.94</td>\n",
       "      <td>02-cd-05-c1-92-3f</td>\n",
       "      <td>iperf</td>\n",
       "      <td>iperf</td>\n",
       "      <td>4</td>\n",
       "      <td>clearskystatus.info</td>\n",
       "    </tr>\n",
       "  </tbody>\n",
       "</table>\n",
       "</div>"
      ],
      "text/plain": [
       "                       time  DOWNLOAD             IP             PI_MAC  \\\n",
       "0 2018-11-24 10:04:17-06:00   3758.08  204.112.96.94  02-cd-05-c1-92-3f   \n",
       "1 2018-11-24 13:46:18-06:00   3860.48  204.112.96.94  02-cd-05-c1-92-3f   \n",
       "2 2018-11-25 04:36:57-06:00   3860.48  204.112.96.94  02-cd-05-c1-92-3f   \n",
       "3 2018-11-25 23:04:18-06:00   3973.12  204.112.96.94  02-cd-05-c1-92-3f   \n",
       "4 2018-11-26 06:28:05-06:00   3860.48  204.112.96.94  02-cd-05-c1-92-3f   \n",
       "5 2018-11-26 10:10:15-06:00   3860.48  204.112.96.94  02-cd-05-c1-92-3f   \n",
       "6 2018-11-28 06:34:13-06:00   3860.48  204.112.96.94  02-cd-05-c1-92-3f   \n",
       "7 2018-11-28 10:16:08-06:00   3655.68  204.112.96.94  02-cd-05-c1-92-3f   \n",
       "8 2018-12-01 23:23:31-06:00   3860.48  204.112.96.94  02-cd-05-c1-92-3f   \n",
       "9 2018-12-03 04:59:09-06:00   3758.08  204.112.96.94  02-cd-05-c1-92-3f   \n",
       "\n",
       "  PROVIDER PROVINCE  SK_PI          TEST_SERVER  \n",
       "0    iperf    iperf      4  clearskystatus.info  \n",
       "1    iperf    iperf      4  clearskystatus.info  \n",
       "2    iperf    iperf      4  clearskystatus.info  \n",
       "3    iperf    iperf      4  clearskystatus.info  \n",
       "4    iperf    iperf      4  clearskystatus.info  \n",
       "5    iperf    iperf      4  clearskystatus.info  \n",
       "6    iperf    iperf      4  clearskystatus.info  \n",
       "7    iperf    iperf      4  clearskystatus.info  \n",
       "8    iperf    iperf      4  clearskystatus.info  \n",
       "9    iperf    iperf      4  clearskystatus.info  "
      ]
     },
     "execution_count": 23,
     "metadata": {},
     "output_type": "execute_result"
    }
   ],
   "source": [
    "query2 = \"SELECT * FROM SPEEDTEST_DOWNLOAD WHERE PROVIDER='iperf' AND SK_PI='4' ORDER BY time DESC LIMIT 10;\"\n",
    "df2 = get_dataframe_from_influxdb(client_df=client_df,query_influx=query2,table_name='SPEEDTEST_DOWNLOAD')\n",
    "df2"
   ]
  },
  {
   "cell_type": "code",
   "execution_count": 24,
   "metadata": {},
   "outputs": [
    {
     "data": {
      "text/html": [
       "<div>\n",
       "<style>\n",
       "    .dataframe thead tr:only-child th {\n",
       "        text-align: right;\n",
       "    }\n",
       "\n",
       "    .dataframe thead th {\n",
       "        text-align: left;\n",
       "    }\n",
       "\n",
       "    .dataframe tbody tr th {\n",
       "        vertical-align: top;\n",
       "    }\n",
       "</style>\n",
       "<table border=\"1\" class=\"dataframe\">\n",
       "  <thead>\n",
       "    <tr style=\"text-align: right;\">\n",
       "      <th></th>\n",
       "      <th>time</th>\n",
       "      <th>DOWNLOAD</th>\n",
       "      <th>IP</th>\n",
       "      <th>PI_MAC</th>\n",
       "      <th>PROVIDER</th>\n",
       "      <th>PROVINCE</th>\n",
       "      <th>SK_PI</th>\n",
       "      <th>TEST_SERVER</th>\n",
       "    </tr>\n",
       "  </thead>\n",
       "  <tbody>\n",
       "    <tr>\n",
       "      <th>0</th>\n",
       "      <td>2018-11-24 10:04:17-06:00</td>\n",
       "      <td>3758.08</td>\n",
       "      <td>204.112.96.94</td>\n",
       "      <td>02-cd-05-c1-92-3f</td>\n",
       "      <td>iperf</td>\n",
       "      <td>iperf</td>\n",
       "      <td>4</td>\n",
       "      <td>clearskystatus.info</td>\n",
       "    </tr>\n",
       "    <tr>\n",
       "      <th>1</th>\n",
       "      <td>2018-11-24 13:46:18-06:00</td>\n",
       "      <td>3860.48</td>\n",
       "      <td>204.112.96.94</td>\n",
       "      <td>02-cd-05-c1-92-3f</td>\n",
       "      <td>iperf</td>\n",
       "      <td>iperf</td>\n",
       "      <td>4</td>\n",
       "      <td>clearskystatus.info</td>\n",
       "    </tr>\n",
       "    <tr>\n",
       "      <th>2</th>\n",
       "      <td>2018-11-25 04:36:57-06:00</td>\n",
       "      <td>3860.48</td>\n",
       "      <td>204.112.96.94</td>\n",
       "      <td>02-cd-05-c1-92-3f</td>\n",
       "      <td>iperf</td>\n",
       "      <td>iperf</td>\n",
       "      <td>4</td>\n",
       "      <td>clearskystatus.info</td>\n",
       "    </tr>\n",
       "    <tr>\n",
       "      <th>3</th>\n",
       "      <td>2018-11-25 23:04:18-06:00</td>\n",
       "      <td>3973.12</td>\n",
       "      <td>204.112.96.94</td>\n",
       "      <td>02-cd-05-c1-92-3f</td>\n",
       "      <td>iperf</td>\n",
       "      <td>iperf</td>\n",
       "      <td>4</td>\n",
       "      <td>clearskystatus.info</td>\n",
       "    </tr>\n",
       "    <tr>\n",
       "      <th>4</th>\n",
       "      <td>2018-11-26 06:28:05-06:00</td>\n",
       "      <td>3860.48</td>\n",
       "      <td>204.112.96.94</td>\n",
       "      <td>02-cd-05-c1-92-3f</td>\n",
       "      <td>iperf</td>\n",
       "      <td>iperf</td>\n",
       "      <td>4</td>\n",
       "      <td>clearskystatus.info</td>\n",
       "    </tr>\n",
       "    <tr>\n",
       "      <th>5</th>\n",
       "      <td>2018-11-26 10:10:15-06:00</td>\n",
       "      <td>3860.48</td>\n",
       "      <td>204.112.96.94</td>\n",
       "      <td>02-cd-05-c1-92-3f</td>\n",
       "      <td>iperf</td>\n",
       "      <td>iperf</td>\n",
       "      <td>4</td>\n",
       "      <td>clearskystatus.info</td>\n",
       "    </tr>\n",
       "    <tr>\n",
       "      <th>6</th>\n",
       "      <td>2018-11-28 06:34:13-06:00</td>\n",
       "      <td>3860.48</td>\n",
       "      <td>204.112.96.94</td>\n",
       "      <td>02-cd-05-c1-92-3f</td>\n",
       "      <td>iperf</td>\n",
       "      <td>iperf</td>\n",
       "      <td>4</td>\n",
       "      <td>clearskystatus.info</td>\n",
       "    </tr>\n",
       "    <tr>\n",
       "      <th>7</th>\n",
       "      <td>2018-11-28 10:16:08-06:00</td>\n",
       "      <td>3655.68</td>\n",
       "      <td>204.112.96.94</td>\n",
       "      <td>02-cd-05-c1-92-3f</td>\n",
       "      <td>iperf</td>\n",
       "      <td>iperf</td>\n",
       "      <td>4</td>\n",
       "      <td>clearskystatus.info</td>\n",
       "    </tr>\n",
       "    <tr>\n",
       "      <th>8</th>\n",
       "      <td>2018-12-01 23:23:31-06:00</td>\n",
       "      <td>3860.48</td>\n",
       "      <td>204.112.96.94</td>\n",
       "      <td>02-cd-05-c1-92-3f</td>\n",
       "      <td>iperf</td>\n",
       "      <td>iperf</td>\n",
       "      <td>4</td>\n",
       "      <td>clearskystatus.info</td>\n",
       "    </tr>\n",
       "    <tr>\n",
       "      <th>9</th>\n",
       "      <td>2018-12-03 04:59:09-06:00</td>\n",
       "      <td>3758.08</td>\n",
       "      <td>204.112.96.94</td>\n",
       "      <td>02-cd-05-c1-92-3f</td>\n",
       "      <td>iperf</td>\n",
       "      <td>iperf</td>\n",
       "      <td>4</td>\n",
       "      <td>clearskystatus.info</td>\n",
       "    </tr>\n",
       "  </tbody>\n",
       "</table>\n",
       "</div>"
      ],
      "text/plain": [
       "                       time  DOWNLOAD             IP             PI_MAC  \\\n",
       "0 2018-11-24 10:04:17-06:00   3758.08  204.112.96.94  02-cd-05-c1-92-3f   \n",
       "1 2018-11-24 13:46:18-06:00   3860.48  204.112.96.94  02-cd-05-c1-92-3f   \n",
       "2 2018-11-25 04:36:57-06:00   3860.48  204.112.96.94  02-cd-05-c1-92-3f   \n",
       "3 2018-11-25 23:04:18-06:00   3973.12  204.112.96.94  02-cd-05-c1-92-3f   \n",
       "4 2018-11-26 06:28:05-06:00   3860.48  204.112.96.94  02-cd-05-c1-92-3f   \n",
       "5 2018-11-26 10:10:15-06:00   3860.48  204.112.96.94  02-cd-05-c1-92-3f   \n",
       "6 2018-11-28 06:34:13-06:00   3860.48  204.112.96.94  02-cd-05-c1-92-3f   \n",
       "7 2018-11-28 10:16:08-06:00   3655.68  204.112.96.94  02-cd-05-c1-92-3f   \n",
       "8 2018-12-01 23:23:31-06:00   3860.48  204.112.96.94  02-cd-05-c1-92-3f   \n",
       "9 2018-12-03 04:59:09-06:00   3758.08  204.112.96.94  02-cd-05-c1-92-3f   \n",
       "\n",
       "  PROVIDER PROVINCE  SK_PI          TEST_SERVER  \n",
       "0    iperf    iperf      4  clearskystatus.info  \n",
       "1    iperf    iperf      4  clearskystatus.info  \n",
       "2    iperf    iperf      4  clearskystatus.info  \n",
       "3    iperf    iperf      4  clearskystatus.info  \n",
       "4    iperf    iperf      4  clearskystatus.info  \n",
       "5    iperf    iperf      4  clearskystatus.info  \n",
       "6    iperf    iperf      4  clearskystatus.info  \n",
       "7    iperf    iperf      4  clearskystatus.info  \n",
       "8    iperf    iperf      4  clearskystatus.info  \n",
       "9    iperf    iperf      4  clearskystatus.info  "
      ]
     },
     "execution_count": 24,
     "metadata": {},
     "output_type": "execute_result"
    }
   ],
   "source": [
    "query2 = \"SELECT * FROM SPEEDTEST_DOWNLOAD WHERE PROVIDER='iperf' AND SK_PI='4' ORDER BY time DESC LIMIT 10;\"\n",
    "df2 = get_dataframe_from_influxdb(client_df=client_df,query_influx=query2,table_name='SPEEDTEST_DOWNLOAD')\n",
    "df2"
   ]
  },
  {
   "cell_type": "markdown",
   "metadata": {},
   "source": [
    "Just by observing the data there is no consistency. \n",
    "Let's calculate the time intervals for all available datapoints for today for devices 2 and 4."
   ]
  },
  {
   "cell_type": "code",
   "execution_count": 25,
   "metadata": {},
   "outputs": [
    {
     "data": {
      "text/html": [
       "<div>\n",
       "<style>\n",
       "    .dataframe thead tr:only-child th {\n",
       "        text-align: right;\n",
       "    }\n",
       "\n",
       "    .dataframe thead th {\n",
       "        text-align: left;\n",
       "    }\n",
       "\n",
       "    .dataframe tbody tr th {\n",
       "        vertical-align: top;\n",
       "    }\n",
       "</style>\n",
       "<table border=\"1\" class=\"dataframe\">\n",
       "  <thead>\n",
       "    <tr style=\"text-align: right;\">\n",
       "      <th></th>\n",
       "      <th>time</th>\n",
       "      <th>DOWNLOAD</th>\n",
       "      <th>IP</th>\n",
       "      <th>PI_MAC</th>\n",
       "      <th>PROVIDER</th>\n",
       "      <th>PROVINCE</th>\n",
       "      <th>SK_PI</th>\n",
       "      <th>TEST_SERVER</th>\n",
       "    </tr>\n",
       "  </thead>\n",
       "  <tbody>\n",
       "    <tr>\n",
       "      <th>0</th>\n",
       "      <td>2018-10-26 20:56:01-05:00</td>\n",
       "      <td>3758.08</td>\n",
       "      <td>204.112.96.94</td>\n",
       "      <td>02-cd-05-c1-92-3f</td>\n",
       "      <td>iperf</td>\n",
       "      <td>iperf</td>\n",
       "      <td>4</td>\n",
       "      <td>clearskystatus.info</td>\n",
       "    </tr>\n",
       "    <tr>\n",
       "      <th>1</th>\n",
       "      <td>2018-10-27 02:16:18-05:00</td>\n",
       "      <td>3758.08</td>\n",
       "      <td>204.112.96.94</td>\n",
       "      <td>02-cd-05-c1-92-3f</td>\n",
       "      <td>iperf</td>\n",
       "      <td>iperf</td>\n",
       "      <td>4</td>\n",
       "      <td>clearskystatus.info</td>\n",
       "    </tr>\n",
       "    <tr>\n",
       "      <th>2</th>\n",
       "      <td>2018-10-27 17:04:19-05:00</td>\n",
       "      <td>3758.08</td>\n",
       "      <td>204.112.96.94</td>\n",
       "      <td>02-cd-05-c1-92-3f</td>\n",
       "      <td>iperf</td>\n",
       "      <td>iperf</td>\n",
       "      <td>4</td>\n",
       "      <td>clearskystatus.info</td>\n",
       "    </tr>\n",
       "    <tr>\n",
       "      <th>3</th>\n",
       "      <td>2018-10-28 11:34:03-05:00</td>\n",
       "      <td>3973.12</td>\n",
       "      <td>204.112.96.94</td>\n",
       "      <td>02-cd-05-c1-92-3f</td>\n",
       "      <td>iperf</td>\n",
       "      <td>iperf</td>\n",
       "      <td>4</td>\n",
       "      <td>clearskystatus.info</td>\n",
       "    </tr>\n",
       "    <tr>\n",
       "      <th>4</th>\n",
       "      <td>2018-10-29 20:52:20-05:00</td>\n",
       "      <td>3440.64</td>\n",
       "      <td>204.112.96.94</td>\n",
       "      <td>02-cd-05-c1-92-3f</td>\n",
       "      <td>iperf</td>\n",
       "      <td>iperf</td>\n",
       "      <td>4</td>\n",
       "      <td>clearskystatus.info</td>\n",
       "    </tr>\n",
       "  </tbody>\n",
       "</table>\n",
       "</div>"
      ],
      "text/plain": [
       "                       time  DOWNLOAD             IP             PI_MAC  \\\n",
       "0 2018-10-26 20:56:01-05:00   3758.08  204.112.96.94  02-cd-05-c1-92-3f   \n",
       "1 2018-10-27 02:16:18-05:00   3758.08  204.112.96.94  02-cd-05-c1-92-3f   \n",
       "2 2018-10-27 17:04:19-05:00   3758.08  204.112.96.94  02-cd-05-c1-92-3f   \n",
       "3 2018-10-28 11:34:03-05:00   3973.12  204.112.96.94  02-cd-05-c1-92-3f   \n",
       "4 2018-10-29 20:52:20-05:00   3440.64  204.112.96.94  02-cd-05-c1-92-3f   \n",
       "\n",
       "  PROVIDER PROVINCE  SK_PI          TEST_SERVER  \n",
       "0    iperf    iperf      4  clearskystatus.info  \n",
       "1    iperf    iperf      4  clearskystatus.info  \n",
       "2    iperf    iperf      4  clearskystatus.info  \n",
       "3    iperf    iperf      4  clearskystatus.info  \n",
       "4    iperf    iperf      4  clearskystatus.info  "
      ]
     },
     "execution_count": 25,
     "metadata": {},
     "output_type": "execute_result"
    }
   ],
   "source": [
    "query_device4 = \"SELECT * FROM SPEEDTEST_DOWNLOAD WHERE PROVIDER='iperf' AND SK_PI='4' AND time<= '\"+starting_point+\"';\"\n",
    "df_device4 = get_dataframe_from_influxdb(client_df=client_df,query_influx=query_device4,table_name='SPEEDTEST_DOWNLOAD')\n",
    "df_device4.head()"
   ]
  },
  {
   "cell_type": "code",
   "execution_count": 26,
   "metadata": {},
   "outputs": [],
   "source": [
    "df_device4['interval'] = df_device4['time'] - df_device4['time'].shift(+1)\n",
    "df_device4['interval']=round(df_device4['interval'].dt.total_seconds() / 60)"
   ]
  },
  {
   "cell_type": "code",
   "execution_count": 27,
   "metadata": {},
   "outputs": [
    {
     "data": {
      "text/html": [
       "<div>\n",
       "<style>\n",
       "    .dataframe thead tr:only-child th {\n",
       "        text-align: right;\n",
       "    }\n",
       "\n",
       "    .dataframe thead th {\n",
       "        text-align: left;\n",
       "    }\n",
       "\n",
       "    .dataframe tbody tr th {\n",
       "        vertical-align: top;\n",
       "    }\n",
       "</style>\n",
       "<table border=\"1\" class=\"dataframe\">\n",
       "  <thead>\n",
       "    <tr style=\"text-align: right;\">\n",
       "      <th></th>\n",
       "      <th>time</th>\n",
       "      <th>DOWNLOAD</th>\n",
       "      <th>IP</th>\n",
       "      <th>PI_MAC</th>\n",
       "      <th>PROVIDER</th>\n",
       "      <th>PROVINCE</th>\n",
       "      <th>SK_PI</th>\n",
       "      <th>TEST_SERVER</th>\n",
       "      <th>interval</th>\n",
       "    </tr>\n",
       "  </thead>\n",
       "  <tbody>\n",
       "    <tr>\n",
       "      <th>1</th>\n",
       "      <td>2018-10-27 02:16:18-05:00</td>\n",
       "      <td>3758.08</td>\n",
       "      <td>204.112.96.94</td>\n",
       "      <td>02-cd-05-c1-92-3f</td>\n",
       "      <td>iperf</td>\n",
       "      <td>iperf</td>\n",
       "      <td>4</td>\n",
       "      <td>clearskystatus.info</td>\n",
       "      <td>320.0</td>\n",
       "    </tr>\n",
       "    <tr>\n",
       "      <th>2</th>\n",
       "      <td>2018-10-27 17:04:19-05:00</td>\n",
       "      <td>3758.08</td>\n",
       "      <td>204.112.96.94</td>\n",
       "      <td>02-cd-05-c1-92-3f</td>\n",
       "      <td>iperf</td>\n",
       "      <td>iperf</td>\n",
       "      <td>4</td>\n",
       "      <td>clearskystatus.info</td>\n",
       "      <td>888.0</td>\n",
       "    </tr>\n",
       "    <tr>\n",
       "      <th>3</th>\n",
       "      <td>2018-10-28 11:34:03-05:00</td>\n",
       "      <td>3973.12</td>\n",
       "      <td>204.112.96.94</td>\n",
       "      <td>02-cd-05-c1-92-3f</td>\n",
       "      <td>iperf</td>\n",
       "      <td>iperf</td>\n",
       "      <td>4</td>\n",
       "      <td>clearskystatus.info</td>\n",
       "      <td>1110.0</td>\n",
       "    </tr>\n",
       "    <tr>\n",
       "      <th>4</th>\n",
       "      <td>2018-10-29 20:52:20-05:00</td>\n",
       "      <td>3440.64</td>\n",
       "      <td>204.112.96.94</td>\n",
       "      <td>02-cd-05-c1-92-3f</td>\n",
       "      <td>iperf</td>\n",
       "      <td>iperf</td>\n",
       "      <td>4</td>\n",
       "      <td>clearskystatus.info</td>\n",
       "      <td>1998.0</td>\n",
       "    </tr>\n",
       "    <tr>\n",
       "      <th>5</th>\n",
       "      <td>2018-10-30 00:34:14-05:00</td>\n",
       "      <td>3860.48</td>\n",
       "      <td>204.112.96.94</td>\n",
       "      <td>02-cd-05-c1-92-3f</td>\n",
       "      <td>iperf</td>\n",
       "      <td>iperf</td>\n",
       "      <td>4</td>\n",
       "      <td>clearskystatus.info</td>\n",
       "      <td>222.0</td>\n",
       "    </tr>\n",
       "  </tbody>\n",
       "</table>\n",
       "</div>"
      ],
      "text/plain": [
       "                       time  DOWNLOAD             IP             PI_MAC  \\\n",
       "1 2018-10-27 02:16:18-05:00   3758.08  204.112.96.94  02-cd-05-c1-92-3f   \n",
       "2 2018-10-27 17:04:19-05:00   3758.08  204.112.96.94  02-cd-05-c1-92-3f   \n",
       "3 2018-10-28 11:34:03-05:00   3973.12  204.112.96.94  02-cd-05-c1-92-3f   \n",
       "4 2018-10-29 20:52:20-05:00   3440.64  204.112.96.94  02-cd-05-c1-92-3f   \n",
       "5 2018-10-30 00:34:14-05:00   3860.48  204.112.96.94  02-cd-05-c1-92-3f   \n",
       "\n",
       "  PROVIDER PROVINCE  SK_PI          TEST_SERVER  interval  \n",
       "1    iperf    iperf      4  clearskystatus.info     320.0  \n",
       "2    iperf    iperf      4  clearskystatus.info     888.0  \n",
       "3    iperf    iperf      4  clearskystatus.info    1110.0  \n",
       "4    iperf    iperf      4  clearskystatus.info    1998.0  \n",
       "5    iperf    iperf      4  clearskystatus.info     222.0  "
      ]
     },
     "execution_count": 27,
     "metadata": {},
     "output_type": "execute_result"
    }
   ],
   "source": [
    "df_device4 = df_device4[np.isfinite(df_device4['interval'])]\n",
    "df_device4.head()"
   ]
  },
  {
   "cell_type": "code",
   "execution_count": 28,
   "metadata": {},
   "outputs": [
    {
     "name": "stdout",
     "output_type": "stream",
     "text": [
      "Time intervals for device 4:  [222.0, 320.0, 444.0, 445.0, 666.0, 888.0, 891.0, 1107.0, 1109.0, 1110.0, 1554.0, 1776.0, 1998.0, 2442.0, 2664.0, 3108.0, 5107.0]\n"
     ]
    }
   ],
   "source": [
    "time_intervals=df_device4['interval'].unique()\n",
    "time_intervals= sorted(time_intervals)\n",
    "print(\"Time intervals for device 4: \",time_intervals)"
   ]
  },
  {
   "cell_type": "code",
   "execution_count": 29,
   "metadata": {},
   "outputs": [
    {
     "name": "stdout",
     "output_type": "stream",
     "text": [
      "Frequencies for every time interval for device4:\n"
     ]
    },
    {
     "data": {
      "text/plain": [
       "interval\n",
       "222.0     27\n",
       "320.0      1\n",
       "444.0     10\n",
       "445.0      1\n",
       "666.0      9\n",
       "888.0      5\n",
       "891.0      1\n",
       "1107.0     1\n",
       "1109.0     1\n",
       "1110.0     3\n",
       "1554.0     1\n",
       "1776.0     2\n",
       "1998.0     1\n",
       "2442.0     1\n",
       "2664.0     3\n",
       "3108.0     1\n",
       "5107.0     1\n",
       "dtype: int64"
      ]
     },
     "execution_count": 29,
     "metadata": {},
     "output_type": "execute_result"
    }
   ],
   "source": [
    "print(\"Frequencies for every time interval for device4:\")\n",
    "df_device4.groupby(['interval']).size()"
   ]
  },
  {
   "cell_type": "code",
   "execution_count": 30,
   "metadata": {},
   "outputs": [
    {
     "name": "stdout",
     "output_type": "stream",
     "text": [
      "Frequencies for every time interval for device2:\n"
     ]
    },
    {
     "data": {
      "text/plain": [
       "interval\n",
       "211.0      1\n",
       "221.0      1\n",
       "222.0     76\n",
       "223.0      3\n",
       "233.0      1\n",
       "318.0      1\n",
       "443.0      1\n",
       "444.0     11\n",
       "665.0      1\n",
       "666.0      1\n",
       "667.0      2\n",
       "888.0      1\n",
       "1110.0     1\n",
       "1332.0     1\n",
       "1554.0     1\n",
       "1776.0     1\n",
       "dtype: int64"
      ]
     },
     "execution_count": 30,
     "metadata": {},
     "output_type": "execute_result"
    }
   ],
   "source": [
    "query_device2 = \"SELECT * FROM SPEEDTEST_DOWNLOAD WHERE PROVIDER='iperf' AND SK_PI='2' AND time<= '\"+starting_point+\"';\"\n",
    "df_device2 = get_dataframe_from_influxdb(client_df=client_df,query_influx=query_device2,table_name='SPEEDTEST_DOWNLOAD')\n",
    "df_device2['interval'] = df_device2['time'] - df_device2['time'].shift(+1)\n",
    "df_device2['interval']=round(df_device2['interval'].dt.total_seconds() / 60)\n",
    "df_device2 = df_device2[np.isfinite(df_device2['interval'])]\n",
    "print(\"Frequencies for every time interval for device2:\")\n",
    "df_device2.groupby(['interval']).size()"
   ]
  },
  {
   "cell_type": "code",
   "execution_count": 31,
   "metadata": {},
   "outputs": [],
   "source": [
    "#trace=go.Histogram(x=df_device4['interval'],xbins=dict(size=222))\n",
    "#fig = go.Figure(data=[trace])\n",
    "#fig['layout'].update(title='Download speed histogram per device')\n",
    "#iplot(fig)"
   ]
  },
  {
   "cell_type": "code",
   "execution_count": 32,
   "metadata": {},
   "outputs": [],
   "source": [
    "#import plotly.figure_factory as ff\n",
    "#hist_data = [df_device4['interval']]\n",
    "#group_labels = ['device 4 time interval']\n",
    "#fig = ff.create_distplot(hist_data, group_labels,bin_size=60)\n",
    "#fig['layout']['xaxis'].update(title='Download speed (Mbps)')\n",
    "#iplot(fig)"
   ]
  },
  {
   "cell_type": "markdown",
   "metadata": {},
   "source": [
    "Most of data is collected with 222 mins intervals(or 444 or 666) but its not consistent"
   ]
  },
  {
   "cell_type": "markdown",
   "metadata": {},
   "source": [
    "Comparing these intervals with speedtest we can see in grafana that they alternating(not happening at the same time)"
   ]
  },
  {
   "cell_type": "markdown",
   "metadata": {},
   "source": [
    "![](images/grafana_ping2.png)"
   ]
  },
  {
   "cell_type": "markdown",
   "metadata": {},
   "source": [
    "## Statistics by device"
   ]
  },
  {
   "cell_type": "markdown",
   "metadata": {},
   "source": [
    "Since there is not a lot of data - we will select the entire database back from todays date."
   ]
  },
  {
   "cell_type": "code",
   "execution_count": 33,
   "metadata": {},
   "outputs": [],
   "source": [
    "query_download = \"SELECT * FROM SPEEDTEST_DOWNLOAD WHERE PROVIDER='iperf'AND DOWNLOAD>0 AND time <'\"+starting_point+\"';\"\n",
    "download_df = get_dataframe_from_influxdb(client_df=client_df,query_influx=query_download,\n",
    "                                          table_name='SPEEDTEST_DOWNLOAD')\n",
    "download_df['DOWNLOAD']=download_df['DOWNLOAD']*0.001"
   ]
  },
  {
   "cell_type": "code",
   "execution_count": 34,
   "metadata": {},
   "outputs": [],
   "source": [
    "query_upload = \"SELECT * FROM SPEEDTEST_UPLOAD WHERE PROVIDER='iperf'AND UPLOAD>0 AND time < '\"+starting_point+\"';\"\n",
    "upload_df = get_dataframe_from_influxdb(client_df=client_df,query_influx=query_upload,\n",
    "                                          table_name='SPEEDTEST_UPLOAD')\n",
    "upload_df['UPLOAD']=upload_df['UPLOAD']*0.001"
   ]
  },
  {
   "cell_type": "code",
   "execution_count": 35,
   "metadata": {},
   "outputs": [],
   "source": [
    "query_ping = \"SELECT * FROM SPEEDTEST_PING WHERE PROVIDER='iperf'AND PING>0 AND time < '\"+starting_point+\"';\"\n",
    "ping_df = get_dataframe_from_influxdb(client_df=client_df,query_influx=query_ping,\n",
    "                                          table_name='SPEEDTEST_PING')"
   ]
  },
  {
   "cell_type": "code",
   "execution_count": 36,
   "metadata": {},
   "outputs": [
    {
     "data": {
      "application/vnd.plotly.v1+json": {
       "data": [
        {
         "marker": {
          "color": "#F3C300"
         },
         "name": "Max",
         "type": "bar",
         "x": [
          1,
          2,
          3,
          4,
          5,
          6,
          7,
          8,
          9,
          11,
          12
         ],
         "y": [
          9.66656,
          11.8784,
          42.086400000000005,
          4.07552,
          6.87104,
          6.656000000000001,
          10.3424,
          38.809599999999996,
          31.744,
          12.288,
          15.2576
         ]
        },
        {
         "marker": {
          "color": "#875692"
         },
         "name": "Mean",
         "type": "bar",
         "x": [
          1,
          2,
          3,
          4,
          5,
          6,
          7,
          8,
          9,
          11,
          12
         ],
         "y": [
          6.3104000000000005,
          5.727340190476192,
          35.3328761904762,
          3.7577525714285693,
          5.5785058536585375,
          5.004603076923077,
          6.603796078431373,
          38.6048,
          25.536000000000005,
          8.430933333333334,
          13.747200000000001
         ]
        },
        {
         "marker": {
          "color": "#F38400"
         },
         "name": "Median",
         "type": "bar",
         "x": [
          1,
          2,
          3,
          4,
          5,
          6,
          7,
          8,
          9,
          11,
          12
         ],
         "y": [
          6.174720000000001,
          5.4784,
          35.5328,
          3.86048,
          6.33856,
          5.74464,
          6.87104,
          38.6048,
          29.7472,
          10.752,
          14.5408
         ]
        },
        {
         "marker": {
          "color": "#A1CAF1"
         },
         "name": "Min",
         "type": "bar",
         "x": [
          1,
          2,
          3,
          4,
          5,
          6,
          7,
          8,
          9,
          11,
          12
         ],
         "y": [
          3.2256,
          0.21,
          14.540799999999999,
          0.315,
          0.21,
          1.72032,
          2.58048,
          38.4,
          14.6432,
          2.2528,
          10.649600000000001
         ]
        },
        {
         "marker": {
          "color": "red"
         },
         "mode": "markers",
         "name": "50Mbps",
         "type": "scatter",
         "x": [
          1,
          2,
          3,
          4,
          5,
          6,
          7,
          8,
          9,
          11,
          12
         ],
         "y": [
          50,
          50,
          50,
          50,
          50,
          50,
          50,
          50,
          50,
          50,
          50
         ]
        }
       ],
       "layout": {
        "title": "Download speed by deviceto the date 2019-02-05 10:43:24",
        "xaxis": {
         "title": "Device Number"
        },
        "yaxis": {
         "title": "Mbps"
        }
       }
      },
      "text/html": [
       "<div id=\"cf371259-bf94-4c38-bcdc-af6b0eaaecd3\" style=\"height: 525px; width: 100%;\" class=\"plotly-graph-div\"></div><script type=\"text/javascript\">require([\"plotly\"], function(Plotly) { window.PLOTLYENV=window.PLOTLYENV || {};window.PLOTLYENV.BASE_URL=\"https://plot.ly\";Plotly.newPlot(\"cf371259-bf94-4c38-bcdc-af6b0eaaecd3\", [{\"type\": \"bar\", \"x\": [1, 2, 3, 4, 5, 6, 7, 8, 9, 11, 12], \"y\": [9.66656, 11.8784, 42.086400000000005, 4.07552, 6.87104, 6.656000000000001, 10.3424, 38.809599999999996, 31.744, 12.288, 15.2576], \"marker\": {\"color\": \"#F3C300\"}, \"name\": \"Max\"}, {\"type\": \"bar\", \"x\": [1, 2, 3, 4, 5, 6, 7, 8, 9, 11, 12], \"y\": [6.3104000000000005, 5.727340190476192, 35.3328761904762, 3.7577525714285693, 5.5785058536585375, 5.004603076923077, 6.603796078431373, 38.6048, 25.536000000000005, 8.430933333333334, 13.747200000000001], \"marker\": {\"color\": \"#875692\"}, \"name\": \"Mean\"}, {\"type\": \"bar\", \"x\": [1, 2, 3, 4, 5, 6, 7, 8, 9, 11, 12], \"y\": [6.174720000000001, 5.4784, 35.5328, 3.86048, 6.33856, 5.74464, 6.87104, 38.6048, 29.7472, 10.752, 14.5408], \"marker\": {\"color\": \"#F38400\"}, \"name\": \"Median\"}, {\"type\": \"bar\", \"x\": [1, 2, 3, 4, 5, 6, 7, 8, 9, 11, 12], \"y\": [3.2256, 0.21, 14.540799999999999, 0.315, 0.21, 1.72032, 2.58048, 38.4, 14.6432, 2.2528, 10.649600000000001], \"marker\": {\"color\": \"#A1CAF1\"}, \"name\": \"Min\"}, {\"type\": \"scatter\", \"x\": [1, 2, 3, 4, 5, 6, 7, 8, 9, 11, 12], \"y\": [50, 50, 50, 50, 50, 50, 50, 50, 50, 50, 50], \"mode\": \"markers\", \"marker\": {\"color\": \"red\"}, \"name\": \"50Mbps\"}], {\"title\": \"Download speed by deviceto the date 2019-02-05 10:43:24\", \"xaxis\": {\"title\": \"Device Number\"}, \"yaxis\": {\"title\": \"Mbps\"}}, {\"showLink\": true, \"linkText\": \"Export to plot.ly\"})});</script>"
      ],
      "text/vnd.plotly.v1+html": [
       "<div id=\"cf371259-bf94-4c38-bcdc-af6b0eaaecd3\" style=\"height: 525px; width: 100%;\" class=\"plotly-graph-div\"></div><script type=\"text/javascript\">require([\"plotly\"], function(Plotly) { window.PLOTLYENV=window.PLOTLYENV || {};window.PLOTLYENV.BASE_URL=\"https://plot.ly\";Plotly.newPlot(\"cf371259-bf94-4c38-bcdc-af6b0eaaecd3\", [{\"type\": \"bar\", \"x\": [1, 2, 3, 4, 5, 6, 7, 8, 9, 11, 12], \"y\": [9.66656, 11.8784, 42.086400000000005, 4.07552, 6.87104, 6.656000000000001, 10.3424, 38.809599999999996, 31.744, 12.288, 15.2576], \"marker\": {\"color\": \"#F3C300\"}, \"name\": \"Max\"}, {\"type\": \"bar\", \"x\": [1, 2, 3, 4, 5, 6, 7, 8, 9, 11, 12], \"y\": [6.3104000000000005, 5.727340190476192, 35.3328761904762, 3.7577525714285693, 5.5785058536585375, 5.004603076923077, 6.603796078431373, 38.6048, 25.536000000000005, 8.430933333333334, 13.747200000000001], \"marker\": {\"color\": \"#875692\"}, \"name\": \"Mean\"}, {\"type\": \"bar\", \"x\": [1, 2, 3, 4, 5, 6, 7, 8, 9, 11, 12], \"y\": [6.174720000000001, 5.4784, 35.5328, 3.86048, 6.33856, 5.74464, 6.87104, 38.6048, 29.7472, 10.752, 14.5408], \"marker\": {\"color\": \"#F38400\"}, \"name\": \"Median\"}, {\"type\": \"bar\", \"x\": [1, 2, 3, 4, 5, 6, 7, 8, 9, 11, 12], \"y\": [3.2256, 0.21, 14.540799999999999, 0.315, 0.21, 1.72032, 2.58048, 38.4, 14.6432, 2.2528, 10.649600000000001], \"marker\": {\"color\": \"#A1CAF1\"}, \"name\": \"Min\"}, {\"type\": \"scatter\", \"x\": [1, 2, 3, 4, 5, 6, 7, 8, 9, 11, 12], \"y\": [50, 50, 50, 50, 50, 50, 50, 50, 50, 50, 50], \"mode\": \"markers\", \"marker\": {\"color\": \"red\"}, \"name\": \"50Mbps\"}], {\"title\": \"Download speed by deviceto the date 2019-02-05 10:43:24\", \"xaxis\": {\"title\": \"Device Number\"}, \"yaxis\": {\"title\": \"Mbps\"}}, {\"showLink\": true, \"linkText\": \"Export to plot.ly\"})});</script>"
      ]
     },
     "metadata": {},
     "output_type": "display_data"
    }
   ],
   "source": [
    "download_summary=mean_max_median_min_by1(download_df,'DOWNLOAD')\n",
    "device_numbers_d=download_summary[\"SK_PI\"].unique()\n",
    "download_line=go.Scatter(x=device_numbers_d,y=[50] * len(device_numbers_d), mode='markers',marker=dict(color='red'), name='50Mbps')\n",
    "combined_bar_plot_4traces(xvalues=download_summary[\"SK_PI\"],\n",
    "                         yvalues1=download_summary[\"max\"],\n",
    "                         yvalues2=download_summary[\"mean\"],\n",
    "                         yvalues3=download_summary[\"median\"],\n",
    "                         yvalues4=download_summary[\"min\"],\n",
    "                         name1=\"Max\",\n",
    "                         name2=\"Mean\",\n",
    "                         name3=\"Median\",\n",
    "                         name4=\"Min\",\n",
    "                         title=\"Download speed by device\"+ title_tail,\n",
    "                         ytitle=\"Mbps\",\n",
    "                         line=download_line,\n",
    "                         stack=False)"
   ]
  },
  {
   "cell_type": "code",
   "execution_count": 37,
   "metadata": {},
   "outputs": [
    {
     "data": {
      "application/vnd.plotly.v1+json": {
       "data": [
        {
         "marker": {
          "color": "#F3C300"
         },
         "name": "Max",
         "type": "bar",
         "x": [
          1,
          2,
          3,
          4,
          5,
          6,
          7,
          8,
          9,
          11,
          12
         ],
         "y": [
          0.844,
          6.49216,
          20.48,
          0.842,
          0.62,
          0.926,
          8.1408,
          6.8096000000000005,
          7.4444799999999995,
          1.66912,
          3.23584
         ]
        },
        {
         "marker": {
          "color": "#875692"
         },
         "name": "Mean",
         "type": "bar",
         "x": [
          1,
          2,
          3,
          4,
          5,
          6,
          7,
          8,
          9,
          11,
          12
         ],
         "y": [
          0.7072499999999999,
          1.529516952380953,
          7.499091428571428,
          0.7423142857142859,
          0.5080121951219512,
          0.7755000000000002,
          4.472341176470588,
          5.42208,
          4.30848,
          1.5837866666666667,
          2.49856
         ]
        },
        {
         "marker": {
          "color": "#F38400"
         },
         "name": "Median",
         "type": "bar",
         "x": [
          1,
          2,
          3,
          4,
          5,
          6,
          7,
          8,
          9,
          11,
          12
         ],
         "y": [
          0.677,
          0.733,
          4.9356800000000005,
          0.766,
          0.5205,
          0.808,
          4.4544,
          5.42208,
          3.74784,
          1.6384,
          2.49344
         ]
        },
        {
         "marker": {
          "color": "#A1CAF1"
         },
         "name": "Min",
         "type": "bar",
         "x": [
          1,
          2,
          3,
          4,
          5,
          6,
          7,
          8,
          9,
          11,
          12
         ],
         "y": [
          0.631,
          0.0232,
          1.55648,
          0.504,
          0.15,
          0.20500000000000002,
          0.659,
          4.03456,
          2.048,
          1.44384,
          1.77152
         ]
        },
        {
         "marker": {
          "color": "red"
         },
         "mode": "markers",
         "name": "10Mbps",
         "type": "scatter",
         "x": [
          1,
          2,
          3,
          4,
          5,
          6,
          7,
          8,
          9,
          11,
          12
         ],
         "y": [
          10,
          10,
          10,
          10,
          10,
          10,
          10,
          10,
          10,
          10,
          10
         ]
        }
       ],
       "layout": {
        "title": "Upload speed by deviceto the date 2019-02-05 10:43:24",
        "xaxis": {
         "title": "Device Number"
        },
        "yaxis": {
         "title": "Mbps"
        }
       }
      },
      "text/html": [
       "<div id=\"56fb1bec-521d-4fa1-9455-0521cf8bff3b\" style=\"height: 525px; width: 100%;\" class=\"plotly-graph-div\"></div><script type=\"text/javascript\">require([\"plotly\"], function(Plotly) { window.PLOTLYENV=window.PLOTLYENV || {};window.PLOTLYENV.BASE_URL=\"https://plot.ly\";Plotly.newPlot(\"56fb1bec-521d-4fa1-9455-0521cf8bff3b\", [{\"type\": \"bar\", \"x\": [1, 2, 3, 4, 5, 6, 7, 8, 9, 11, 12], \"y\": [0.844, 6.49216, 20.48, 0.842, 0.62, 0.926, 8.1408, 6.8096000000000005, 7.4444799999999995, 1.66912, 3.23584], \"marker\": {\"color\": \"#F3C300\"}, \"name\": \"Max\"}, {\"type\": \"bar\", \"x\": [1, 2, 3, 4, 5, 6, 7, 8, 9, 11, 12], \"y\": [0.7072499999999999, 1.529516952380953, 7.499091428571428, 0.7423142857142859, 0.5080121951219512, 0.7755000000000002, 4.472341176470588, 5.42208, 4.30848, 1.5837866666666667, 2.49856], \"marker\": {\"color\": \"#875692\"}, \"name\": \"Mean\"}, {\"type\": \"bar\", \"x\": [1, 2, 3, 4, 5, 6, 7, 8, 9, 11, 12], \"y\": [0.677, 0.733, 4.9356800000000005, 0.766, 0.5205, 0.808, 4.4544, 5.42208, 3.74784, 1.6384, 2.49344], \"marker\": {\"color\": \"#F38400\"}, \"name\": \"Median\"}, {\"type\": \"bar\", \"x\": [1, 2, 3, 4, 5, 6, 7, 8, 9, 11, 12], \"y\": [0.631, 0.0232, 1.55648, 0.504, 0.15, 0.20500000000000002, 0.659, 4.03456, 2.048, 1.44384, 1.77152], \"marker\": {\"color\": \"#A1CAF1\"}, \"name\": \"Min\"}, {\"type\": \"scatter\", \"x\": [1, 2, 3, 4, 5, 6, 7, 8, 9, 11, 12], \"y\": [10, 10, 10, 10, 10, 10, 10, 10, 10, 10, 10], \"mode\": \"markers\", \"marker\": {\"color\": \"red\"}, \"name\": \"10Mbps\"}], {\"title\": \"Upload speed by deviceto the date 2019-02-05 10:43:24\", \"xaxis\": {\"title\": \"Device Number\"}, \"yaxis\": {\"title\": \"Mbps\"}}, {\"showLink\": true, \"linkText\": \"Export to plot.ly\"})});</script>"
      ],
      "text/vnd.plotly.v1+html": [
       "<div id=\"56fb1bec-521d-4fa1-9455-0521cf8bff3b\" style=\"height: 525px; width: 100%;\" class=\"plotly-graph-div\"></div><script type=\"text/javascript\">require([\"plotly\"], function(Plotly) { window.PLOTLYENV=window.PLOTLYENV || {};window.PLOTLYENV.BASE_URL=\"https://plot.ly\";Plotly.newPlot(\"56fb1bec-521d-4fa1-9455-0521cf8bff3b\", [{\"type\": \"bar\", \"x\": [1, 2, 3, 4, 5, 6, 7, 8, 9, 11, 12], \"y\": [0.844, 6.49216, 20.48, 0.842, 0.62, 0.926, 8.1408, 6.8096000000000005, 7.4444799999999995, 1.66912, 3.23584], \"marker\": {\"color\": \"#F3C300\"}, \"name\": \"Max\"}, {\"type\": \"bar\", \"x\": [1, 2, 3, 4, 5, 6, 7, 8, 9, 11, 12], \"y\": [0.7072499999999999, 1.529516952380953, 7.499091428571428, 0.7423142857142859, 0.5080121951219512, 0.7755000000000002, 4.472341176470588, 5.42208, 4.30848, 1.5837866666666667, 2.49856], \"marker\": {\"color\": \"#875692\"}, \"name\": \"Mean\"}, {\"type\": \"bar\", \"x\": [1, 2, 3, 4, 5, 6, 7, 8, 9, 11, 12], \"y\": [0.677, 0.733, 4.9356800000000005, 0.766, 0.5205, 0.808, 4.4544, 5.42208, 3.74784, 1.6384, 2.49344], \"marker\": {\"color\": \"#F38400\"}, \"name\": \"Median\"}, {\"type\": \"bar\", \"x\": [1, 2, 3, 4, 5, 6, 7, 8, 9, 11, 12], \"y\": [0.631, 0.0232, 1.55648, 0.504, 0.15, 0.20500000000000002, 0.659, 4.03456, 2.048, 1.44384, 1.77152], \"marker\": {\"color\": \"#A1CAF1\"}, \"name\": \"Min\"}, {\"type\": \"scatter\", \"x\": [1, 2, 3, 4, 5, 6, 7, 8, 9, 11, 12], \"y\": [10, 10, 10, 10, 10, 10, 10, 10, 10, 10, 10], \"mode\": \"markers\", \"marker\": {\"color\": \"red\"}, \"name\": \"10Mbps\"}], {\"title\": \"Upload speed by deviceto the date 2019-02-05 10:43:24\", \"xaxis\": {\"title\": \"Device Number\"}, \"yaxis\": {\"title\": \"Mbps\"}}, {\"showLink\": true, \"linkText\": \"Export to plot.ly\"})});</script>"
      ]
     },
     "metadata": {},
     "output_type": "display_data"
    }
   ],
   "source": [
    "upload_summary=mean_max_median_min_by1(upload_df,'UPLOAD')\n",
    "device_numbers_u=upload_summary[\"SK_PI\"].unique()\n",
    "upload_line=go.Scatter(x=device_numbers_u,y=[10] * len(device_numbers_u), mode='markers',marker=dict(color='red'), name='10Mbps')\n",
    "\n",
    "combined_bar_plot_4traces(xvalues=upload_summary[\"SK_PI\"],\n",
    "                         yvalues1=upload_summary[\"max\"],\n",
    "                         yvalues2=upload_summary[\"mean\"],\n",
    "                         yvalues3=upload_summary[\"median\"],\n",
    "                         yvalues4=upload_summary[\"min\"],\n",
    "                         name1=\"Max\",\n",
    "                         name2=\"Mean\",\n",
    "                         name3=\"Median\",\n",
    "                         name4=\"Min\",\n",
    "                         title=\"Upload speed by device\"+ title_tail,\n",
    "                         ytitle=\"Mbps\",\n",
    "                         line=upload_line,\n",
    "                         stack=False)"
   ]
  },
  {
   "cell_type": "code",
   "execution_count": 38,
   "metadata": {},
   "outputs": [
    {
     "data": {
      "application/vnd.plotly.v1+json": {
       "data": [
        {
         "marker": {
          "color": "#F3C300"
         },
         "name": "Max",
         "type": "bar",
         "x": [
          1,
          2,
          3,
          4,
          5,
          6,
          7,
          8,
          9,
          11,
          12
         ],
         "y": [
          69.942,
          324.017,
          50.677,
          196.284,
          669.219,
          90.365,
          82.239,
          52.388,
          45.052,
          60.291,
          26.961
         ]
        },
        {
         "marker": {
          "color": "#875692"
         },
         "name": "Mean",
         "type": "bar",
         "x": [
          1,
          2,
          3,
          4,
          5,
          6,
          7,
          8,
          9,
          11,
          12
         ],
         "y": [
          65.217,
          73.55684761904759,
          49.09390476190476,
          62.693071428571436,
          94.92084146341463,
          65.83292307692308,
          66.03154901960784,
          52.3675,
          44.334375,
          58.782000000000004,
          24.1515
         ]
        },
        {
         "marker": {
          "color": "#F38400"
         },
         "name": "Median",
         "type": "bar",
         "x": [
          1,
          2,
          3,
          4,
          5,
          6,
          7,
          8,
          9,
          11,
          12
         ],
         "y": [
          63.9375,
          65.984,
          48.931,
          57.289,
          71.11949999999999,
          62.637,
          65.699,
          52.3675,
          44.238,
          58.21,
          23.7535
         ]
        },
        {
         "marker": {
          "color": "#A1CAF1"
         },
         "name": "Min",
         "type": "bar",
         "x": [
          1,
          2,
          3,
          4,
          5,
          6,
          7,
          8,
          9,
          11,
          12
         ],
         "y": [
          63.051,
          57.432,
          48.703,
          55.602,
          61.992,
          61.942,
          57.644,
          52.347,
          44.206,
          57.845,
          22.138
         ]
        }
       ],
       "layout": {
        "title": "Ping latency by device backto the date 2019-02-05 10:43:24",
        "xaxis": {
         "title": "Device Number"
        },
        "yaxis": {
         "title": "Miliseconds"
        }
       }
      },
      "text/html": [
       "<div id=\"9e55bac5-2dc1-4e00-a8d6-f5f4f67cedfb\" style=\"height: 525px; width: 100%;\" class=\"plotly-graph-div\"></div><script type=\"text/javascript\">require([\"plotly\"], function(Plotly) { window.PLOTLYENV=window.PLOTLYENV || {};window.PLOTLYENV.BASE_URL=\"https://plot.ly\";Plotly.newPlot(\"9e55bac5-2dc1-4e00-a8d6-f5f4f67cedfb\", [{\"type\": \"bar\", \"x\": [1, 2, 3, 4, 5, 6, 7, 8, 9, 11, 12], \"y\": [69.942, 324.017, 50.677, 196.284, 669.219, 90.365, 82.239, 52.388, 45.052, 60.291, 26.961], \"marker\": {\"color\": \"#F3C300\"}, \"name\": \"Max\"}, {\"type\": \"bar\", \"x\": [1, 2, 3, 4, 5, 6, 7, 8, 9, 11, 12], \"y\": [65.217, 73.55684761904759, 49.09390476190476, 62.693071428571436, 94.92084146341463, 65.83292307692308, 66.03154901960784, 52.3675, 44.334375, 58.782000000000004, 24.1515], \"marker\": {\"color\": \"#875692\"}, \"name\": \"Mean\"}, {\"type\": \"bar\", \"x\": [1, 2, 3, 4, 5, 6, 7, 8, 9, 11, 12], \"y\": [63.9375, 65.984, 48.931, 57.289, 71.11949999999999, 62.637, 65.699, 52.3675, 44.238, 58.21, 23.7535], \"marker\": {\"color\": \"#F38400\"}, \"name\": \"Median\"}, {\"type\": \"bar\", \"x\": [1, 2, 3, 4, 5, 6, 7, 8, 9, 11, 12], \"y\": [63.051, 57.432, 48.703, 55.602, 61.992, 61.942, 57.644, 52.347, 44.206, 57.845, 22.138], \"marker\": {\"color\": \"#A1CAF1\"}, \"name\": \"Min\"}], {\"title\": \"Ping latency by device backto the date 2019-02-05 10:43:24\", \"xaxis\": {\"title\": \"Device Number\"}, \"yaxis\": {\"title\": \"Miliseconds\"}}, {\"showLink\": true, \"linkText\": \"Export to plot.ly\"})});</script>"
      ],
      "text/vnd.plotly.v1+html": [
       "<div id=\"9e55bac5-2dc1-4e00-a8d6-f5f4f67cedfb\" style=\"height: 525px; width: 100%;\" class=\"plotly-graph-div\"></div><script type=\"text/javascript\">require([\"plotly\"], function(Plotly) { window.PLOTLYENV=window.PLOTLYENV || {};window.PLOTLYENV.BASE_URL=\"https://plot.ly\";Plotly.newPlot(\"9e55bac5-2dc1-4e00-a8d6-f5f4f67cedfb\", [{\"type\": \"bar\", \"x\": [1, 2, 3, 4, 5, 6, 7, 8, 9, 11, 12], \"y\": [69.942, 324.017, 50.677, 196.284, 669.219, 90.365, 82.239, 52.388, 45.052, 60.291, 26.961], \"marker\": {\"color\": \"#F3C300\"}, \"name\": \"Max\"}, {\"type\": \"bar\", \"x\": [1, 2, 3, 4, 5, 6, 7, 8, 9, 11, 12], \"y\": [65.217, 73.55684761904759, 49.09390476190476, 62.693071428571436, 94.92084146341463, 65.83292307692308, 66.03154901960784, 52.3675, 44.334375, 58.782000000000004, 24.1515], \"marker\": {\"color\": \"#875692\"}, \"name\": \"Mean\"}, {\"type\": \"bar\", \"x\": [1, 2, 3, 4, 5, 6, 7, 8, 9, 11, 12], \"y\": [63.9375, 65.984, 48.931, 57.289, 71.11949999999999, 62.637, 65.699, 52.3675, 44.238, 58.21, 23.7535], \"marker\": {\"color\": \"#F38400\"}, \"name\": \"Median\"}, {\"type\": \"bar\", \"x\": [1, 2, 3, 4, 5, 6, 7, 8, 9, 11, 12], \"y\": [63.051, 57.432, 48.703, 55.602, 61.992, 61.942, 57.644, 52.347, 44.206, 57.845, 22.138], \"marker\": {\"color\": \"#A1CAF1\"}, \"name\": \"Min\"}], {\"title\": \"Ping latency by device backto the date 2019-02-05 10:43:24\", \"xaxis\": {\"title\": \"Device Number\"}, \"yaxis\": {\"title\": \"Miliseconds\"}}, {\"showLink\": true, \"linkText\": \"Export to plot.ly\"})});</script>"
      ]
     },
     "metadata": {},
     "output_type": "display_data"
    }
   ],
   "source": [
    "ping_summary=mean_max_median_min_by1(ping_df,'PING')\n",
    "combined_bar_plot_4traces(xvalues=ping_summary[\"SK_PI\"],\n",
    "                         yvalues1=ping_summary[\"max\"],\n",
    "                         yvalues2=ping_summary[\"mean\"],\n",
    "                         yvalues3=ping_summary[\"median\"],\n",
    "                         yvalues4=ping_summary[\"min\"],  \n",
    "                         name1=\"Max\",\n",
    "                         name2=\"Mean\",\n",
    "                         name3=\"Median\",\n",
    "                         name4=\"Min\",\n",
    "                         title=\"Ping latency by device back\"+ title_tail,\n",
    "                         ytitle=\"Miliseconds\",\n",
    "                         stack=False)"
   ]
  },
  {
   "cell_type": "code",
   "execution_count": 39,
   "metadata": {},
   "outputs": [
    {
     "data": {
      "application/vnd.plotly.v1+json": {
       "data": [
        {
         "marker": {
          "color": "#222222"
         },
         "name": "1",
         "type": "box",
         "y": [
          3.2256,
          6.123520000000001,
          6.22592,
          9.66656
         ]
        },
        {
         "marker": {
          "color": "#F3C300"
         },
         "name": "2",
         "type": "box",
         "y": [
          7.7312,
          4.72064,
          4.5056,
          9.984,
          4.9356800000000005,
          4.9356800000000005,
          2.03776,
          9.12384,
          11.1616,
          4.83328,
          7.7312,
          11.3664,
          10.8544,
          1.29024,
          10.199,
          2.6828800000000004,
          6.656000000000001,
          10.199,
          6.76864,
          9.8816,
          8.26368,
          6.33856,
          5.90848,
          10.649600000000001,
          11.8784,
          7.08608,
          5.365760000000001,
          3.65568,
          5.79584,
          9.33888,
          5.4784,
          5.4784,
          2.89792,
          10.649600000000001,
          10.199,
          4.72064,
          1.8227200000000001,
          6.656000000000001,
          3.54304,
          5.4784,
          1.60768,
          2.2528,
          4.29056,
          4.61824,
          4.4032,
          5.150720000000001,
          4.4032,
          1.0752000000000002,
          7.08608,
          4.18816,
          2.03776,
          0.629,
          1.39264,
          2.7955200000000002,
          5.0483199999999995,
          7.08608,
          3.86048,
          4.18816,
          7.7312,
          7.61856,
          0.21,
          9.02144,
          6.76864,
          4.29056,
          4.5056,
          2.03776,
          1.60768,
          6.01088,
          3.86048,
          2.36544,
          2.36544,
          0.839,
          1.29024,
          4.18816,
          6.76864,
          6.123520000000001,
          3.44064,
          1.72032,
          3.54304,
          2.2528,
          5.79584,
          2.7955200000000002,
          1.39264,
          0.315,
          4.9356800000000005,
          5.90848,
          5.79584,
          6.01088,
          5.4784,
          6.656000000000001,
          5.4784,
          8.47872,
          10.199,
          10.0966,
          6.9836800000000006,
          8.9088,
          8.16128,
          9.66656,
          9.66656,
          7.51616,
          5.79584,
          8.04864,
          11.1616,
          11.8784,
          6.76864
         ]
        },
        {
         "marker": {
          "color": "#875692"
         },
         "name": "3",
         "type": "box",
         "y": [
          31.0272,
          35.5328,
          34.5088,
          30.6176,
          14.540799999999999,
          35.2256,
          35.6352,
          35.1232,
          34.816,
          35.5328,
          35.6352,
          35.4304,
          31.744,
          41.062400000000004,
          41.67680000000001,
          42.086400000000005,
          42.086400000000005,
          41.984,
          41.16480000000001,
          39.2192,
          27.3408
         ]
        },
        {
         "marker": {
          "color": "#F38400"
         },
         "name": "4",
         "type": "box",
         "y": [
          3.75808,
          3.75808,
          3.75808,
          3.9731199999999998,
          3.44064,
          3.86048,
          4.07552,
          3.86048,
          3.54304,
          4.07552,
          4.07552,
          3.86048,
          3.86048,
          3.86048,
          3.86048,
          4.07552,
          3.75808,
          2.58048,
          3.75808,
          3.9731199999999998,
          3.86048,
          3.9731199999999998,
          3.75808,
          3.86048,
          0.315,
          3.86048,
          3.86048,
          3.86048,
          3.65568,
          3.9731199999999998,
          3.86048,
          3.9731199999999998,
          3.9731199999999998,
          3.86048,
          3.86048,
          3.9731199999999998,
          3.86048,
          3.65568,
          3.86048,
          3.65568,
          3.75808,
          3.86048,
          2.36544,
          3.65568,
          3.9731199999999998,
          3.9731199999999998,
          4.07552,
          3.86048,
          3.65568,
          3.75808,
          3.86048,
          3.86048,
          3.65568,
          3.9731199999999998,
          3.86048,
          3.9731199999999998,
          3.86048,
          3.86048,
          3.86048,
          3.75808,
          3.75808,
          3.86048,
          3.86048,
          3.9731199999999998,
          3.86048,
          3.86048,
          3.86048,
          3.65568,
          3.86048,
          3.75808
         ]
        },
        {
         "marker": {
          "color": "#A1CAF1"
         },
         "name": "5",
         "type": "box",
         "y": [
          5.365760000000001,
          5.90848,
          5.26336,
          6.76864,
          5.79584,
          6.76864,
          5.150720000000001,
          6.87104,
          6.5536,
          6.87104,
          6.87104,
          6.76864,
          6.87104,
          6.33856,
          3.75808,
          6.87104,
          5.79584,
          5.365760000000001,
          5.79584,
          6.4409600000000005,
          6.5536,
          5.4784,
          6.76864,
          6.4409600000000005,
          5.26336,
          6.01088,
          6.76864,
          6.76864,
          6.76864,
          6.87104,
          6.656000000000001,
          3.65568,
          6.76864,
          6.76864,
          6.76864,
          6.33856,
          6.22592,
          5.365760000000001,
          5.4784,
          6.01088,
          6.656000000000001,
          6.33856,
          6.76864,
          6.76864,
          1.8227200000000001,
          6.123520000000001,
          6.76864,
          6.33856,
          6.123520000000001,
          6.01088,
          6.76864,
          6.4409600000000005,
          3.75808,
          6.22592,
          4.29056,
          6.656000000000001,
          6.656000000000001,
          6.5536,
          6.76864,
          5.365760000000001,
          1.60768,
          6.76864,
          6.656000000000001,
          0.9440000000000001,
          1.8227200000000001,
          4.4032,
          1.39264,
          1.39264,
          0.839,
          5.69344,
          6.76864,
          6.656000000000001,
          1.60768,
          5.90848,
          6.76864,
          6.33856,
          6.76864,
          0.21,
          3.75808,
          6.4409600000000005,
          2.7955200000000002,
          6.76864
         ]
        },
        {
         "marker": {
          "color": "#BE0032"
         },
         "name": "6",
         "type": "box",
         "y": [
          3.86048,
          6.656000000000001,
          6.01088,
          5.79584,
          6.4409600000000005,
          6.54336,
          3.44064,
          3.2256,
          6.656000000000001,
          6.01088,
          5.79584,
          5.69344,
          3.75808,
          1.8227200000000001,
          6.656000000000001,
          6.5536,
          4.18816,
          2.7955200000000002,
          5.5808,
          1.72032,
          5.69344,
          6.01088,
          5.79584,
          6.01088,
          1.8227200000000001,
          5.5808
         ]
        },
        {
         "marker": {
          "color": "#C2B280"
         },
         "name": "7",
         "type": "box",
         "y": [
          7.51616,
          8.26368,
          9.12384,
          6.87104,
          7.51616,
          8.37632,
          4.9356800000000005,
          8.37632,
          5.69344,
          3.3280000000000003,
          3.01056,
          5.4784,
          7.413760000000001,
          6.87104,
          6.87104,
          8.16128,
          5.150720000000001,
          6.9836800000000006,
          7.9462399999999995,
          8.04864,
          7.51616,
          7.30112,
          6.01088,
          5.79584,
          7.198720000000001,
          10.3424,
          8.26368,
          6.87104,
          8.16128,
          6.5536,
          5.5808,
          5.26336,
          6.76864,
          6.76864,
          2.58048,
          3.65568,
          6.4409600000000005,
          7.198720000000001,
          6.9836800000000006,
          6.5536,
          5.69344,
          6.87104,
          7.7312,
          6.656000000000001,
          4.83328,
          3.44064,
          7.51616,
          5.79584,
          8.59136,
          5.26336,
          6.656000000000001
         ]
        },
        {
         "marker": {
          "color": "#848482"
         },
         "name": "8",
         "type": "box",
         "y": [
          38.809599999999996,
          38.4
         ]
        },
        {
         "marker": {
          "color": "#008856"
         },
         "name": "9",
         "type": "box",
         "y": [
          30.208000000000002,
          19.456,
          30.6176,
          30.3104,
          31.744,
          29.2864,
          18.0224,
          14.6432
         ]
        },
        {
         "marker": {
          "color": "#E68FAC"
         },
         "name": "11",
         "type": "box",
         "y": [
          12.288,
          10.752,
          2.2528
         ]
        },
        {
         "marker": {
          "color": "#0067A5"
         },
         "name": "12",
         "type": "box",
         "y": [
          15.2576,
          14.848,
          14.233600000000001,
          10.649600000000001
         ]
        },
        {
         "marker": {
          "color": "red"
         },
         "mode": "markers",
         "name": "50Mbps",
         "type": "scatter",
         "x": [
          1,
          2,
          3,
          4,
          5,
          6,
          7,
          8,
          9,
          11,
          12
         ],
         "y": [
          50,
          50,
          50,
          50,
          50,
          50,
          50,
          50,
          50,
          50,
          50
         ]
        }
       ],
       "layout": {
        "title": "Download speed by device to the date 2019-02-05 10:43:24",
        "xaxis": {
         "title": ""
        },
        "yaxis": {
         "rangemode": "tozero",
         "title": "Mbps"
        }
       }
      },
      "text/html": [
       "<div id=\"0f4a75b3-936c-4b43-95ba-2a0d2a728791\" style=\"height: 525px; width: 100%;\" class=\"plotly-graph-div\"></div><script type=\"text/javascript\">require([\"plotly\"], function(Plotly) { window.PLOTLYENV=window.PLOTLYENV || {};window.PLOTLYENV.BASE_URL=\"https://plot.ly\";Plotly.newPlot(\"0f4a75b3-936c-4b43-95ba-2a0d2a728791\", [{\"type\": \"box\", \"y\": [3.2256, 6.123520000000001, 6.22592, 9.66656], \"name\": \"1\", \"marker\": {\"color\": \"#222222\"}}, {\"type\": \"box\", \"y\": [7.7312, 4.72064, 4.5056, 9.984, 4.9356800000000005, 4.9356800000000005, 2.03776, 9.12384, 11.1616, 4.83328, 7.7312, 11.3664, 10.8544, 1.29024, 10.199, 2.6828800000000004, 6.656000000000001, 10.199, 6.76864, 9.8816, 8.26368, 6.33856, 5.90848, 10.649600000000001, 11.8784, 7.08608, 5.365760000000001, 3.65568, 5.79584, 9.33888, 5.4784, 5.4784, 2.89792, 10.649600000000001, 10.199, 4.72064, 1.8227200000000001, 6.656000000000001, 3.54304, 5.4784, 1.60768, 2.2528, 4.29056, 4.61824, 4.4032, 5.150720000000001, 4.4032, 1.0752000000000002, 7.08608, 4.18816, 2.03776, 0.629, 1.39264, 2.7955200000000002, 5.0483199999999995, 7.08608, 3.86048, 4.18816, 7.7312, 7.61856, 0.21, 9.02144, 6.76864, 4.29056, 4.5056, 2.03776, 1.60768, 6.01088, 3.86048, 2.36544, 2.36544, 0.839, 1.29024, 4.18816, 6.76864, 6.123520000000001, 3.44064, 1.72032, 3.54304, 2.2528, 5.79584, 2.7955200000000002, 1.39264, 0.315, 4.9356800000000005, 5.90848, 5.79584, 6.01088, 5.4784, 6.656000000000001, 5.4784, 8.47872, 10.199, 10.0966, 6.9836800000000006, 8.9088, 8.16128, 9.66656, 9.66656, 7.51616, 5.79584, 8.04864, 11.1616, 11.8784, 6.76864], \"name\": \"2\", \"marker\": {\"color\": \"#F3C300\"}}, {\"type\": \"box\", \"y\": [31.0272, 35.5328, 34.5088, 30.6176, 14.540799999999999, 35.2256, 35.6352, 35.1232, 34.816, 35.5328, 35.6352, 35.4304, 31.744, 41.062400000000004, 41.67680000000001, 42.086400000000005, 42.086400000000005, 41.984, 41.16480000000001, 39.2192, 27.3408], \"name\": \"3\", \"marker\": {\"color\": \"#875692\"}}, {\"type\": \"box\", \"y\": [3.75808, 3.75808, 3.75808, 3.9731199999999998, 3.44064, 3.86048, 4.07552, 3.86048, 3.54304, 4.07552, 4.07552, 3.86048, 3.86048, 3.86048, 3.86048, 4.07552, 3.75808, 2.58048, 3.75808, 3.9731199999999998, 3.86048, 3.9731199999999998, 3.75808, 3.86048, 0.315, 3.86048, 3.86048, 3.86048, 3.65568, 3.9731199999999998, 3.86048, 3.9731199999999998, 3.9731199999999998, 3.86048, 3.86048, 3.9731199999999998, 3.86048, 3.65568, 3.86048, 3.65568, 3.75808, 3.86048, 2.36544, 3.65568, 3.9731199999999998, 3.9731199999999998, 4.07552, 3.86048, 3.65568, 3.75808, 3.86048, 3.86048, 3.65568, 3.9731199999999998, 3.86048, 3.9731199999999998, 3.86048, 3.86048, 3.86048, 3.75808, 3.75808, 3.86048, 3.86048, 3.9731199999999998, 3.86048, 3.86048, 3.86048, 3.65568, 3.86048, 3.75808], \"name\": \"4\", \"marker\": {\"color\": \"#F38400\"}}, {\"type\": \"box\", \"y\": [5.365760000000001, 5.90848, 5.26336, 6.76864, 5.79584, 6.76864, 5.150720000000001, 6.87104, 6.5536, 6.87104, 6.87104, 6.76864, 6.87104, 6.33856, 3.75808, 6.87104, 5.79584, 5.365760000000001, 5.79584, 6.4409600000000005, 6.5536, 5.4784, 6.76864, 6.4409600000000005, 5.26336, 6.01088, 6.76864, 6.76864, 6.76864, 6.87104, 6.656000000000001, 3.65568, 6.76864, 6.76864, 6.76864, 6.33856, 6.22592, 5.365760000000001, 5.4784, 6.01088, 6.656000000000001, 6.33856, 6.76864, 6.76864, 1.8227200000000001, 6.123520000000001, 6.76864, 6.33856, 6.123520000000001, 6.01088, 6.76864, 6.4409600000000005, 3.75808, 6.22592, 4.29056, 6.656000000000001, 6.656000000000001, 6.5536, 6.76864, 5.365760000000001, 1.60768, 6.76864, 6.656000000000001, 0.9440000000000001, 1.8227200000000001, 4.4032, 1.39264, 1.39264, 0.839, 5.69344, 6.76864, 6.656000000000001, 1.60768, 5.90848, 6.76864, 6.33856, 6.76864, 0.21, 3.75808, 6.4409600000000005, 2.7955200000000002, 6.76864], \"name\": \"5\", \"marker\": {\"color\": \"#A1CAF1\"}}, {\"type\": \"box\", \"y\": [3.86048, 6.656000000000001, 6.01088, 5.79584, 6.4409600000000005, 6.54336, 3.44064, 3.2256, 6.656000000000001, 6.01088, 5.79584, 5.69344, 3.75808, 1.8227200000000001, 6.656000000000001, 6.5536, 4.18816, 2.7955200000000002, 5.5808, 1.72032, 5.69344, 6.01088, 5.79584, 6.01088, 1.8227200000000001, 5.5808], \"name\": \"6\", \"marker\": {\"color\": \"#BE0032\"}}, {\"type\": \"box\", \"y\": [7.51616, 8.26368, 9.12384, 6.87104, 7.51616, 8.37632, 4.9356800000000005, 8.37632, 5.69344, 3.3280000000000003, 3.01056, 5.4784, 7.413760000000001, 6.87104, 6.87104, 8.16128, 5.150720000000001, 6.9836800000000006, 7.9462399999999995, 8.04864, 7.51616, 7.30112, 6.01088, 5.79584, 7.198720000000001, 10.3424, 8.26368, 6.87104, 8.16128, 6.5536, 5.5808, 5.26336, 6.76864, 6.76864, 2.58048, 3.65568, 6.4409600000000005, 7.198720000000001, 6.9836800000000006, 6.5536, 5.69344, 6.87104, 7.7312, 6.656000000000001, 4.83328, 3.44064, 7.51616, 5.79584, 8.59136, 5.26336, 6.656000000000001], \"name\": \"7\", \"marker\": {\"color\": \"#C2B280\"}}, {\"type\": \"box\", \"y\": [38.809599999999996, 38.4], \"name\": \"8\", \"marker\": {\"color\": \"#848482\"}}, {\"type\": \"box\", \"y\": [30.208000000000002, 19.456, 30.6176, 30.3104, 31.744, 29.2864, 18.0224, 14.6432], \"name\": \"9\", \"marker\": {\"color\": \"#008856\"}}, {\"type\": \"box\", \"y\": [12.288, 10.752, 2.2528], \"name\": \"11\", \"marker\": {\"color\": \"#E68FAC\"}}, {\"type\": \"box\", \"y\": [15.2576, 14.848, 14.233600000000001, 10.649600000000001], \"name\": \"12\", \"marker\": {\"color\": \"#0067A5\"}}, {\"type\": \"scatter\", \"x\": [1, 2, 3, 4, 5, 6, 7, 8, 9, 11, 12], \"y\": [50, 50, 50, 50, 50, 50, 50, 50, 50, 50, 50], \"mode\": \"markers\", \"marker\": {\"color\": \"red\"}, \"name\": \"50Mbps\"}], {\"title\": \"Download speed by device to the date 2019-02-05 10:43:24\", \"xaxis\": {\"title\": \"\"}, \"yaxis\": {\"title\": \"Mbps\", \"rangemode\": \"tozero\"}}, {\"showLink\": true, \"linkText\": \"Export to plot.ly\"})});</script>"
      ],
      "text/vnd.plotly.v1+html": [
       "<div id=\"0f4a75b3-936c-4b43-95ba-2a0d2a728791\" style=\"height: 525px; width: 100%;\" class=\"plotly-graph-div\"></div><script type=\"text/javascript\">require([\"plotly\"], function(Plotly) { window.PLOTLYENV=window.PLOTLYENV || {};window.PLOTLYENV.BASE_URL=\"https://plot.ly\";Plotly.newPlot(\"0f4a75b3-936c-4b43-95ba-2a0d2a728791\", [{\"type\": \"box\", \"y\": [3.2256, 6.123520000000001, 6.22592, 9.66656], \"name\": \"1\", \"marker\": {\"color\": \"#222222\"}}, {\"type\": \"box\", \"y\": [7.7312, 4.72064, 4.5056, 9.984, 4.9356800000000005, 4.9356800000000005, 2.03776, 9.12384, 11.1616, 4.83328, 7.7312, 11.3664, 10.8544, 1.29024, 10.199, 2.6828800000000004, 6.656000000000001, 10.199, 6.76864, 9.8816, 8.26368, 6.33856, 5.90848, 10.649600000000001, 11.8784, 7.08608, 5.365760000000001, 3.65568, 5.79584, 9.33888, 5.4784, 5.4784, 2.89792, 10.649600000000001, 10.199, 4.72064, 1.8227200000000001, 6.656000000000001, 3.54304, 5.4784, 1.60768, 2.2528, 4.29056, 4.61824, 4.4032, 5.150720000000001, 4.4032, 1.0752000000000002, 7.08608, 4.18816, 2.03776, 0.629, 1.39264, 2.7955200000000002, 5.0483199999999995, 7.08608, 3.86048, 4.18816, 7.7312, 7.61856, 0.21, 9.02144, 6.76864, 4.29056, 4.5056, 2.03776, 1.60768, 6.01088, 3.86048, 2.36544, 2.36544, 0.839, 1.29024, 4.18816, 6.76864, 6.123520000000001, 3.44064, 1.72032, 3.54304, 2.2528, 5.79584, 2.7955200000000002, 1.39264, 0.315, 4.9356800000000005, 5.90848, 5.79584, 6.01088, 5.4784, 6.656000000000001, 5.4784, 8.47872, 10.199, 10.0966, 6.9836800000000006, 8.9088, 8.16128, 9.66656, 9.66656, 7.51616, 5.79584, 8.04864, 11.1616, 11.8784, 6.76864], \"name\": \"2\", \"marker\": {\"color\": \"#F3C300\"}}, {\"type\": \"box\", \"y\": [31.0272, 35.5328, 34.5088, 30.6176, 14.540799999999999, 35.2256, 35.6352, 35.1232, 34.816, 35.5328, 35.6352, 35.4304, 31.744, 41.062400000000004, 41.67680000000001, 42.086400000000005, 42.086400000000005, 41.984, 41.16480000000001, 39.2192, 27.3408], \"name\": \"3\", \"marker\": {\"color\": \"#875692\"}}, {\"type\": \"box\", \"y\": [3.75808, 3.75808, 3.75808, 3.9731199999999998, 3.44064, 3.86048, 4.07552, 3.86048, 3.54304, 4.07552, 4.07552, 3.86048, 3.86048, 3.86048, 3.86048, 4.07552, 3.75808, 2.58048, 3.75808, 3.9731199999999998, 3.86048, 3.9731199999999998, 3.75808, 3.86048, 0.315, 3.86048, 3.86048, 3.86048, 3.65568, 3.9731199999999998, 3.86048, 3.9731199999999998, 3.9731199999999998, 3.86048, 3.86048, 3.9731199999999998, 3.86048, 3.65568, 3.86048, 3.65568, 3.75808, 3.86048, 2.36544, 3.65568, 3.9731199999999998, 3.9731199999999998, 4.07552, 3.86048, 3.65568, 3.75808, 3.86048, 3.86048, 3.65568, 3.9731199999999998, 3.86048, 3.9731199999999998, 3.86048, 3.86048, 3.86048, 3.75808, 3.75808, 3.86048, 3.86048, 3.9731199999999998, 3.86048, 3.86048, 3.86048, 3.65568, 3.86048, 3.75808], \"name\": \"4\", \"marker\": {\"color\": \"#F38400\"}}, {\"type\": \"box\", \"y\": [5.365760000000001, 5.90848, 5.26336, 6.76864, 5.79584, 6.76864, 5.150720000000001, 6.87104, 6.5536, 6.87104, 6.87104, 6.76864, 6.87104, 6.33856, 3.75808, 6.87104, 5.79584, 5.365760000000001, 5.79584, 6.4409600000000005, 6.5536, 5.4784, 6.76864, 6.4409600000000005, 5.26336, 6.01088, 6.76864, 6.76864, 6.76864, 6.87104, 6.656000000000001, 3.65568, 6.76864, 6.76864, 6.76864, 6.33856, 6.22592, 5.365760000000001, 5.4784, 6.01088, 6.656000000000001, 6.33856, 6.76864, 6.76864, 1.8227200000000001, 6.123520000000001, 6.76864, 6.33856, 6.123520000000001, 6.01088, 6.76864, 6.4409600000000005, 3.75808, 6.22592, 4.29056, 6.656000000000001, 6.656000000000001, 6.5536, 6.76864, 5.365760000000001, 1.60768, 6.76864, 6.656000000000001, 0.9440000000000001, 1.8227200000000001, 4.4032, 1.39264, 1.39264, 0.839, 5.69344, 6.76864, 6.656000000000001, 1.60768, 5.90848, 6.76864, 6.33856, 6.76864, 0.21, 3.75808, 6.4409600000000005, 2.7955200000000002, 6.76864], \"name\": \"5\", \"marker\": {\"color\": \"#A1CAF1\"}}, {\"type\": \"box\", \"y\": [3.86048, 6.656000000000001, 6.01088, 5.79584, 6.4409600000000005, 6.54336, 3.44064, 3.2256, 6.656000000000001, 6.01088, 5.79584, 5.69344, 3.75808, 1.8227200000000001, 6.656000000000001, 6.5536, 4.18816, 2.7955200000000002, 5.5808, 1.72032, 5.69344, 6.01088, 5.79584, 6.01088, 1.8227200000000001, 5.5808], \"name\": \"6\", \"marker\": {\"color\": \"#BE0032\"}}, {\"type\": \"box\", \"y\": [7.51616, 8.26368, 9.12384, 6.87104, 7.51616, 8.37632, 4.9356800000000005, 8.37632, 5.69344, 3.3280000000000003, 3.01056, 5.4784, 7.413760000000001, 6.87104, 6.87104, 8.16128, 5.150720000000001, 6.9836800000000006, 7.9462399999999995, 8.04864, 7.51616, 7.30112, 6.01088, 5.79584, 7.198720000000001, 10.3424, 8.26368, 6.87104, 8.16128, 6.5536, 5.5808, 5.26336, 6.76864, 6.76864, 2.58048, 3.65568, 6.4409600000000005, 7.198720000000001, 6.9836800000000006, 6.5536, 5.69344, 6.87104, 7.7312, 6.656000000000001, 4.83328, 3.44064, 7.51616, 5.79584, 8.59136, 5.26336, 6.656000000000001], \"name\": \"7\", \"marker\": {\"color\": \"#C2B280\"}}, {\"type\": \"box\", \"y\": [38.809599999999996, 38.4], \"name\": \"8\", \"marker\": {\"color\": \"#848482\"}}, {\"type\": \"box\", \"y\": [30.208000000000002, 19.456, 30.6176, 30.3104, 31.744, 29.2864, 18.0224, 14.6432], \"name\": \"9\", \"marker\": {\"color\": \"#008856\"}}, {\"type\": \"box\", \"y\": [12.288, 10.752, 2.2528], \"name\": \"11\", \"marker\": {\"color\": \"#E68FAC\"}}, {\"type\": \"box\", \"y\": [15.2576, 14.848, 14.233600000000001, 10.649600000000001], \"name\": \"12\", \"marker\": {\"color\": \"#0067A5\"}}, {\"type\": \"scatter\", \"x\": [1, 2, 3, 4, 5, 6, 7, 8, 9, 11, 12], \"y\": [50, 50, 50, 50, 50, 50, 50, 50, 50, 50, 50], \"mode\": \"markers\", \"marker\": {\"color\": \"red\"}, \"name\": \"50Mbps\"}], {\"title\": \"Download speed by device to the date 2019-02-05 10:43:24\", \"xaxis\": {\"title\": \"\"}, \"yaxis\": {\"title\": \"Mbps\", \"rangemode\": \"tozero\"}}, {\"showLink\": true, \"linkText\": \"Export to plot.ly\"})});</script>"
      ]
     },
     "metadata": {},
     "output_type": "display_data"
    }
   ],
   "source": [
    "simple_boxplot(dataframe=download_df,plot_value='DOWNLOAD',sort_value='SK_PI',\n",
    "               title=\"Download speed by device \"+ title_tail,\n",
    "               ytitle=\"Mbps\", downloadline=True)"
   ]
  },
  {
   "cell_type": "code",
   "execution_count": 40,
   "metadata": {},
   "outputs": [
    {
     "data": {
      "application/vnd.plotly.v1+json": {
       "data": [
        {
         "marker": {
          "color": "#222222"
         },
         "name": "1",
         "type": "box",
         "y": [
          0.6980000000000001,
          0.656,
          0.844,
          0.631
         ]
        },
        {
         "marker": {
          "color": "#F3C300"
         },
         "name": "2",
         "type": "box",
         "y": [
          0.863,
          1.90464,
          1.41312,
          4.21888,
          2.03776,
          1.88416,
          0.733,
          1.44384,
          4.94592,
          1.10592,
          2.0582399999999996,
          5.53984,
          5.87776,
          1.13664,
          3.33824,
          1.3824,
          2.03776,
          3.33824,
          2.77504,
          4.0448,
          0.937,
          2.10944,
          1.46432,
          4.2598400000000005,
          5.058560000000001,
          1.024,
          3.92192,
          0.9390000000000001,
          3.85024,
          2.5907199999999997,
          1.92512,
          3.6351999999999998,
          1.24928,
          3.75808,
          2.34496,
          0.182,
          0.051000000000000004,
          1.16736,
          0.34900000000000003,
          0.877,
          0.256,
          0.13,
          0.303,
          0.41400000000000003,
          0.454,
          0.433,
          0.111,
          0.0915,
          0.47700000000000004,
          0.733,
          0.316,
          0.0741,
          0.28700000000000003,
          0.6950000000000001,
          0.436,
          0.43,
          0.263,
          0.242,
          0.397,
          0.395,
          0.0232,
          0.5700000000000001,
          0.533,
          0.0707,
          0.18,
          0.114,
          0.308,
          0.49,
          0.195,
          0.316,
          0.838,
          0.0683,
          0.0579,
          0.517,
          0.78,
          0.507,
          0.352,
          0.229,
          0.493,
          0.326,
          0.504,
          0.262,
          0.248,
          0.0232,
          0.276,
          0.7030000000000001,
          0.221,
          0.111,
          0.225,
          0.295,
          0.0707,
          4.4544,
          5.6115200000000005,
          2.18112,
          2.4678400000000003,
          1.41312,
          2.16064,
          4.90496,
          4.29056,
          2.5907199999999997,
          1.8534400000000002,
          2.44736,
          5.69344,
          6.49216,
          3.42016
         ]
        },
        {
         "marker": {
          "color": "#875692"
         },
         "name": "3",
         "type": "box",
         "y": [
          4.9356800000000005,
          6.000640000000001,
          2.01728,
          2.7648,
          13.312000000000001,
          6.77888,
          17.8176,
          4.21888,
          1.55648,
          20.48,
          10.3424,
          8.64256,
          10.1478,
          17.6128,
          3.7068800000000004,
          2.9491199999999997,
          12.3904,
          2.85696,
          3.6147199999999997,
          2.8057600000000003,
          2.5292800000000004
         ]
        },
        {
         "marker": {
          "color": "#F38400"
         },
         "name": "4",
         "type": "box",
         "y": [
          0.739,
          0.785,
          0.724,
          0.723,
          0.8,
          0.802,
          0.5720000000000001,
          0.665,
          0.776,
          0.804,
          0.804,
          0.51,
          0.653,
          0.767,
          0.787,
          0.742,
          0.724,
          0.6930000000000001,
          0.725,
          0.77,
          0.504,
          0.5710000000000001,
          0.806,
          0.766,
          0.602,
          0.741,
          0.719,
          0.74,
          0.732,
          0.767,
          0.767,
          0.723,
          0.723,
          0.842,
          0.76,
          0.742,
          0.767,
          0.766,
          0.766,
          0.768,
          0.762,
          0.769,
          0.672,
          0.723,
          0.768,
          0.78,
          0.72,
          0.763,
          0.773,
          0.778,
          0.78,
          0.722,
          0.764,
          0.724,
          0.77,
          0.77,
          0.769,
          0.767,
          0.753,
          0.723,
          0.767,
          0.775,
          0.792,
          0.78,
          0.834,
          0.768,
          0.787,
          0.723,
          0.8310000000000001,
          0.718
         ]
        },
        {
         "marker": {
          "color": "#A1CAF1"
         },
         "name": "5",
         "type": "box",
         "y": [
          0.514,
          0.5740000000000001,
          0.5740000000000001,
          0.541,
          0.608,
          0.558,
          0.5660000000000001,
          0.5740000000000001,
          0.56,
          0.541,
          0.5740000000000001,
          0.544,
          0.15,
          0.5740000000000001,
          0.536,
          0.5740000000000001,
          0.5740000000000001,
          0.41600000000000004,
          0.362,
          0.532,
          0.518,
          0.487,
          0.485,
          0.461,
          0.532,
          0.556,
          0.496,
          0.5740000000000001,
          0.598,
          0.518,
          0.463,
          0.41500000000000004,
          0.457,
          0.47900000000000004,
          0.518,
          0.589,
          0.54,
          0.495,
          0.548,
          0.526,
          0.481,
          0.514,
          0.601,
          0.596,
          0.491,
          0.62,
          0.518,
          0.493,
          0.598,
          0.5740000000000001,
          0.495,
          0.53,
          0.488,
          0.555,
          0.447,
          0.481,
          0.522,
          0.601,
          0.47900000000000004,
          0.47800000000000004,
          0.4,
          0.519,
          0.556,
          0.34900000000000003,
          0.34700000000000003,
          0.505,
          0.419,
          0.389,
          0.404,
          0.515,
          0.525,
          0.525,
          0.528,
          0.47900000000000004,
          0.601,
          0.481,
          0.6,
          0.17200000000000001,
          0.505,
          0.554,
          0.425,
          0.596
         ]
        },
        {
         "marker": {
          "color": "#BE0032"
         },
         "name": "6",
         "type": "box",
         "y": [
          0.848,
          0.795,
          0.798,
          0.85,
          0.809,
          0.855,
          0.783,
          0.802,
          0.926,
          0.8180000000000001,
          0.852,
          0.859,
          0.783,
          0.799,
          0.807,
          0.878,
          0.20500000000000002,
          0.718,
          0.869,
          0.8290000000000001,
          0.79,
          0.8270000000000001,
          0.312,
          0.875,
          0.764,
          0.712
         ]
        },
        {
         "marker": {
          "color": "#C2B280"
         },
         "name": "7",
         "type": "box",
         "y": [
          6.307840000000001,
          5.94944,
          4.90496,
          4.4544,
          5.71392,
          7.7312,
          6.656000000000001,
          3.6147199999999997,
          3.2256,
          1.92512,
          2.63168,
          6.4204799999999995,
          2.99008,
          3.52256,
          6.307840000000001,
          4.49536,
          4.75136,
          3.9731199999999998,
          3.42016,
          3.7888,
          5.4784,
          6.90176,
          6.06208,
          3.85024,
          5.6832,
          5.67296,
          8.1408,
          5.12,
          3.77856,
          5.16096,
          4.167680000000001,
          3.0003200000000003,
          4.83328,
          3.29728,
          0.659,
          2.06848,
          2.92864,
          4.976640000000001,
          3.3075200000000002,
          5.57056,
          4.5568,
          4.300800000000001,
          2.89792,
          5.632,
          3.35872,
          2.18112,
          5.26336,
          4.66944,
          3.38944,
          4.0857600000000005,
          4.31104
         ]
        },
        {
         "marker": {
          "color": "#848482"
         },
         "name": "8",
         "type": "box",
         "y": [
          4.03456,
          6.8096000000000005
         ]
        },
        {
         "marker": {
          "color": "#008856"
         },
         "name": "9",
         "type": "box",
         "y": [
          5.67296,
          2.048,
          4.29056,
          3.1334400000000002,
          6.522880000000001,
          7.4444799999999995,
          2.1504000000000003,
          3.20512
         ]
        },
        {
         "marker": {
          "color": "#E68FAC"
         },
         "name": "11",
         "type": "box",
         "y": [
          1.6384,
          1.66912,
          1.44384
         ]
        },
        {
         "marker": {
          "color": "#0067A5"
         },
         "name": "12",
         "type": "box",
         "y": [
          1.77152,
          2.53952,
          3.23584,
          2.44736
         ]
        },
        {
         "marker": {
          "color": "red"
         },
         "mode": "markers",
         "name": "10Mbps",
         "type": "scatter",
         "x": [
          1,
          2,
          3,
          4,
          5,
          6,
          7,
          8,
          9,
          11,
          12
         ],
         "y": [
          10,
          10,
          10,
          10,
          10,
          10,
          10,
          10,
          10,
          10,
          10
         ]
        }
       ],
       "layout": {
        "title": "Upload speed by device to the date 2019-02-05 10:43:24",
        "xaxis": {
         "title": ""
        },
        "yaxis": {
         "rangemode": "tozero",
         "title": "Mbps"
        }
       }
      },
      "text/html": [
       "<div id=\"b82ca4bf-350d-441f-9b4c-75ef446280af\" style=\"height: 525px; width: 100%;\" class=\"plotly-graph-div\"></div><script type=\"text/javascript\">require([\"plotly\"], function(Plotly) { window.PLOTLYENV=window.PLOTLYENV || {};window.PLOTLYENV.BASE_URL=\"https://plot.ly\";Plotly.newPlot(\"b82ca4bf-350d-441f-9b4c-75ef446280af\", [{\"type\": \"box\", \"y\": [0.6980000000000001, 0.656, 0.844, 0.631], \"name\": \"1\", \"marker\": {\"color\": \"#222222\"}}, {\"type\": \"box\", \"y\": [0.863, 1.90464, 1.41312, 4.21888, 2.03776, 1.88416, 0.733, 1.44384, 4.94592, 1.10592, 2.0582399999999996, 5.53984, 5.87776, 1.13664, 3.33824, 1.3824, 2.03776, 3.33824, 2.77504, 4.0448, 0.937, 2.10944, 1.46432, 4.2598400000000005, 5.058560000000001, 1.024, 3.92192, 0.9390000000000001, 3.85024, 2.5907199999999997, 1.92512, 3.6351999999999998, 1.24928, 3.75808, 2.34496, 0.182, 0.051000000000000004, 1.16736, 0.34900000000000003, 0.877, 0.256, 0.13, 0.303, 0.41400000000000003, 0.454, 0.433, 0.111, 0.0915, 0.47700000000000004, 0.733, 0.316, 0.0741, 0.28700000000000003, 0.6950000000000001, 0.436, 0.43, 0.263, 0.242, 0.397, 0.395, 0.0232, 0.5700000000000001, 0.533, 0.0707, 0.18, 0.114, 0.308, 0.49, 0.195, 0.316, 0.838, 0.0683, 0.0579, 0.517, 0.78, 0.507, 0.352, 0.229, 0.493, 0.326, 0.504, 0.262, 0.248, 0.0232, 0.276, 0.7030000000000001, 0.221, 0.111, 0.225, 0.295, 0.0707, 4.4544, 5.6115200000000005, 2.18112, 2.4678400000000003, 1.41312, 2.16064, 4.90496, 4.29056, 2.5907199999999997, 1.8534400000000002, 2.44736, 5.69344, 6.49216, 3.42016], \"name\": \"2\", \"marker\": {\"color\": \"#F3C300\"}}, {\"type\": \"box\", \"y\": [4.9356800000000005, 6.000640000000001, 2.01728, 2.7648, 13.312000000000001, 6.77888, 17.8176, 4.21888, 1.55648, 20.48, 10.3424, 8.64256, 10.1478, 17.6128, 3.7068800000000004, 2.9491199999999997, 12.3904, 2.85696, 3.6147199999999997, 2.8057600000000003, 2.5292800000000004], \"name\": \"3\", \"marker\": {\"color\": \"#875692\"}}, {\"type\": \"box\", \"y\": [0.739, 0.785, 0.724, 0.723, 0.8, 0.802, 0.5720000000000001, 0.665, 0.776, 0.804, 0.804, 0.51, 0.653, 0.767, 0.787, 0.742, 0.724, 0.6930000000000001, 0.725, 0.77, 0.504, 0.5710000000000001, 0.806, 0.766, 0.602, 0.741, 0.719, 0.74, 0.732, 0.767, 0.767, 0.723, 0.723, 0.842, 0.76, 0.742, 0.767, 0.766, 0.766, 0.768, 0.762, 0.769, 0.672, 0.723, 0.768, 0.78, 0.72, 0.763, 0.773, 0.778, 0.78, 0.722, 0.764, 0.724, 0.77, 0.77, 0.769, 0.767, 0.753, 0.723, 0.767, 0.775, 0.792, 0.78, 0.834, 0.768, 0.787, 0.723, 0.8310000000000001, 0.718], \"name\": \"4\", \"marker\": {\"color\": \"#F38400\"}}, {\"type\": \"box\", \"y\": [0.514, 0.5740000000000001, 0.5740000000000001, 0.541, 0.608, 0.558, 0.5660000000000001, 0.5740000000000001, 0.56, 0.541, 0.5740000000000001, 0.544, 0.15, 0.5740000000000001, 0.536, 0.5740000000000001, 0.5740000000000001, 0.41600000000000004, 0.362, 0.532, 0.518, 0.487, 0.485, 0.461, 0.532, 0.556, 0.496, 0.5740000000000001, 0.598, 0.518, 0.463, 0.41500000000000004, 0.457, 0.47900000000000004, 0.518, 0.589, 0.54, 0.495, 0.548, 0.526, 0.481, 0.514, 0.601, 0.596, 0.491, 0.62, 0.518, 0.493, 0.598, 0.5740000000000001, 0.495, 0.53, 0.488, 0.555, 0.447, 0.481, 0.522, 0.601, 0.47900000000000004, 0.47800000000000004, 0.4, 0.519, 0.556, 0.34900000000000003, 0.34700000000000003, 0.505, 0.419, 0.389, 0.404, 0.515, 0.525, 0.525, 0.528, 0.47900000000000004, 0.601, 0.481, 0.6, 0.17200000000000001, 0.505, 0.554, 0.425, 0.596], \"name\": \"5\", \"marker\": {\"color\": \"#A1CAF1\"}}, {\"type\": \"box\", \"y\": [0.848, 0.795, 0.798, 0.85, 0.809, 0.855, 0.783, 0.802, 0.926, 0.8180000000000001, 0.852, 0.859, 0.783, 0.799, 0.807, 0.878, 0.20500000000000002, 0.718, 0.869, 0.8290000000000001, 0.79, 0.8270000000000001, 0.312, 0.875, 0.764, 0.712], \"name\": \"6\", \"marker\": {\"color\": \"#BE0032\"}}, {\"type\": \"box\", \"y\": [6.307840000000001, 5.94944, 4.90496, 4.4544, 5.71392, 7.7312, 6.656000000000001, 3.6147199999999997, 3.2256, 1.92512, 2.63168, 6.4204799999999995, 2.99008, 3.52256, 6.307840000000001, 4.49536, 4.75136, 3.9731199999999998, 3.42016, 3.7888, 5.4784, 6.90176, 6.06208, 3.85024, 5.6832, 5.67296, 8.1408, 5.12, 3.77856, 5.16096, 4.167680000000001, 3.0003200000000003, 4.83328, 3.29728, 0.659, 2.06848, 2.92864, 4.976640000000001, 3.3075200000000002, 5.57056, 4.5568, 4.300800000000001, 2.89792, 5.632, 3.35872, 2.18112, 5.26336, 4.66944, 3.38944, 4.0857600000000005, 4.31104], \"name\": \"7\", \"marker\": {\"color\": \"#C2B280\"}}, {\"type\": \"box\", \"y\": [4.03456, 6.8096000000000005], \"name\": \"8\", \"marker\": {\"color\": \"#848482\"}}, {\"type\": \"box\", \"y\": [5.67296, 2.048, 4.29056, 3.1334400000000002, 6.522880000000001, 7.4444799999999995, 2.1504000000000003, 3.20512], \"name\": \"9\", \"marker\": {\"color\": \"#008856\"}}, {\"type\": \"box\", \"y\": [1.6384, 1.66912, 1.44384], \"name\": \"11\", \"marker\": {\"color\": \"#E68FAC\"}}, {\"type\": \"box\", \"y\": [1.77152, 2.53952, 3.23584, 2.44736], \"name\": \"12\", \"marker\": {\"color\": \"#0067A5\"}}, {\"type\": \"scatter\", \"x\": [1, 2, 3, 4, 5, 6, 7, 8, 9, 11, 12], \"y\": [10, 10, 10, 10, 10, 10, 10, 10, 10, 10, 10], \"mode\": \"markers\", \"marker\": {\"color\": \"red\"}, \"name\": \"10Mbps\"}], {\"title\": \"Upload speed by device to the date 2019-02-05 10:43:24\", \"xaxis\": {\"title\": \"\"}, \"yaxis\": {\"title\": \"Mbps\", \"rangemode\": \"tozero\"}}, {\"showLink\": true, \"linkText\": \"Export to plot.ly\"})});</script>"
      ],
      "text/vnd.plotly.v1+html": [
       "<div id=\"b82ca4bf-350d-441f-9b4c-75ef446280af\" style=\"height: 525px; width: 100%;\" class=\"plotly-graph-div\"></div><script type=\"text/javascript\">require([\"plotly\"], function(Plotly) { window.PLOTLYENV=window.PLOTLYENV || {};window.PLOTLYENV.BASE_URL=\"https://plot.ly\";Plotly.newPlot(\"b82ca4bf-350d-441f-9b4c-75ef446280af\", [{\"type\": \"box\", \"y\": [0.6980000000000001, 0.656, 0.844, 0.631], \"name\": \"1\", \"marker\": {\"color\": \"#222222\"}}, {\"type\": \"box\", \"y\": [0.863, 1.90464, 1.41312, 4.21888, 2.03776, 1.88416, 0.733, 1.44384, 4.94592, 1.10592, 2.0582399999999996, 5.53984, 5.87776, 1.13664, 3.33824, 1.3824, 2.03776, 3.33824, 2.77504, 4.0448, 0.937, 2.10944, 1.46432, 4.2598400000000005, 5.058560000000001, 1.024, 3.92192, 0.9390000000000001, 3.85024, 2.5907199999999997, 1.92512, 3.6351999999999998, 1.24928, 3.75808, 2.34496, 0.182, 0.051000000000000004, 1.16736, 0.34900000000000003, 0.877, 0.256, 0.13, 0.303, 0.41400000000000003, 0.454, 0.433, 0.111, 0.0915, 0.47700000000000004, 0.733, 0.316, 0.0741, 0.28700000000000003, 0.6950000000000001, 0.436, 0.43, 0.263, 0.242, 0.397, 0.395, 0.0232, 0.5700000000000001, 0.533, 0.0707, 0.18, 0.114, 0.308, 0.49, 0.195, 0.316, 0.838, 0.0683, 0.0579, 0.517, 0.78, 0.507, 0.352, 0.229, 0.493, 0.326, 0.504, 0.262, 0.248, 0.0232, 0.276, 0.7030000000000001, 0.221, 0.111, 0.225, 0.295, 0.0707, 4.4544, 5.6115200000000005, 2.18112, 2.4678400000000003, 1.41312, 2.16064, 4.90496, 4.29056, 2.5907199999999997, 1.8534400000000002, 2.44736, 5.69344, 6.49216, 3.42016], \"name\": \"2\", \"marker\": {\"color\": \"#F3C300\"}}, {\"type\": \"box\", \"y\": [4.9356800000000005, 6.000640000000001, 2.01728, 2.7648, 13.312000000000001, 6.77888, 17.8176, 4.21888, 1.55648, 20.48, 10.3424, 8.64256, 10.1478, 17.6128, 3.7068800000000004, 2.9491199999999997, 12.3904, 2.85696, 3.6147199999999997, 2.8057600000000003, 2.5292800000000004], \"name\": \"3\", \"marker\": {\"color\": \"#875692\"}}, {\"type\": \"box\", \"y\": [0.739, 0.785, 0.724, 0.723, 0.8, 0.802, 0.5720000000000001, 0.665, 0.776, 0.804, 0.804, 0.51, 0.653, 0.767, 0.787, 0.742, 0.724, 0.6930000000000001, 0.725, 0.77, 0.504, 0.5710000000000001, 0.806, 0.766, 0.602, 0.741, 0.719, 0.74, 0.732, 0.767, 0.767, 0.723, 0.723, 0.842, 0.76, 0.742, 0.767, 0.766, 0.766, 0.768, 0.762, 0.769, 0.672, 0.723, 0.768, 0.78, 0.72, 0.763, 0.773, 0.778, 0.78, 0.722, 0.764, 0.724, 0.77, 0.77, 0.769, 0.767, 0.753, 0.723, 0.767, 0.775, 0.792, 0.78, 0.834, 0.768, 0.787, 0.723, 0.8310000000000001, 0.718], \"name\": \"4\", \"marker\": {\"color\": \"#F38400\"}}, {\"type\": \"box\", \"y\": [0.514, 0.5740000000000001, 0.5740000000000001, 0.541, 0.608, 0.558, 0.5660000000000001, 0.5740000000000001, 0.56, 0.541, 0.5740000000000001, 0.544, 0.15, 0.5740000000000001, 0.536, 0.5740000000000001, 0.5740000000000001, 0.41600000000000004, 0.362, 0.532, 0.518, 0.487, 0.485, 0.461, 0.532, 0.556, 0.496, 0.5740000000000001, 0.598, 0.518, 0.463, 0.41500000000000004, 0.457, 0.47900000000000004, 0.518, 0.589, 0.54, 0.495, 0.548, 0.526, 0.481, 0.514, 0.601, 0.596, 0.491, 0.62, 0.518, 0.493, 0.598, 0.5740000000000001, 0.495, 0.53, 0.488, 0.555, 0.447, 0.481, 0.522, 0.601, 0.47900000000000004, 0.47800000000000004, 0.4, 0.519, 0.556, 0.34900000000000003, 0.34700000000000003, 0.505, 0.419, 0.389, 0.404, 0.515, 0.525, 0.525, 0.528, 0.47900000000000004, 0.601, 0.481, 0.6, 0.17200000000000001, 0.505, 0.554, 0.425, 0.596], \"name\": \"5\", \"marker\": {\"color\": \"#A1CAF1\"}}, {\"type\": \"box\", \"y\": [0.848, 0.795, 0.798, 0.85, 0.809, 0.855, 0.783, 0.802, 0.926, 0.8180000000000001, 0.852, 0.859, 0.783, 0.799, 0.807, 0.878, 0.20500000000000002, 0.718, 0.869, 0.8290000000000001, 0.79, 0.8270000000000001, 0.312, 0.875, 0.764, 0.712], \"name\": \"6\", \"marker\": {\"color\": \"#BE0032\"}}, {\"type\": \"box\", \"y\": [6.307840000000001, 5.94944, 4.90496, 4.4544, 5.71392, 7.7312, 6.656000000000001, 3.6147199999999997, 3.2256, 1.92512, 2.63168, 6.4204799999999995, 2.99008, 3.52256, 6.307840000000001, 4.49536, 4.75136, 3.9731199999999998, 3.42016, 3.7888, 5.4784, 6.90176, 6.06208, 3.85024, 5.6832, 5.67296, 8.1408, 5.12, 3.77856, 5.16096, 4.167680000000001, 3.0003200000000003, 4.83328, 3.29728, 0.659, 2.06848, 2.92864, 4.976640000000001, 3.3075200000000002, 5.57056, 4.5568, 4.300800000000001, 2.89792, 5.632, 3.35872, 2.18112, 5.26336, 4.66944, 3.38944, 4.0857600000000005, 4.31104], \"name\": \"7\", \"marker\": {\"color\": \"#C2B280\"}}, {\"type\": \"box\", \"y\": [4.03456, 6.8096000000000005], \"name\": \"8\", \"marker\": {\"color\": \"#848482\"}}, {\"type\": \"box\", \"y\": [5.67296, 2.048, 4.29056, 3.1334400000000002, 6.522880000000001, 7.4444799999999995, 2.1504000000000003, 3.20512], \"name\": \"9\", \"marker\": {\"color\": \"#008856\"}}, {\"type\": \"box\", \"y\": [1.6384, 1.66912, 1.44384], \"name\": \"11\", \"marker\": {\"color\": \"#E68FAC\"}}, {\"type\": \"box\", \"y\": [1.77152, 2.53952, 3.23584, 2.44736], \"name\": \"12\", \"marker\": {\"color\": \"#0067A5\"}}, {\"type\": \"scatter\", \"x\": [1, 2, 3, 4, 5, 6, 7, 8, 9, 11, 12], \"y\": [10, 10, 10, 10, 10, 10, 10, 10, 10, 10, 10], \"mode\": \"markers\", \"marker\": {\"color\": \"red\"}, \"name\": \"10Mbps\"}], {\"title\": \"Upload speed by device to the date 2019-02-05 10:43:24\", \"xaxis\": {\"title\": \"\"}, \"yaxis\": {\"title\": \"Mbps\", \"rangemode\": \"tozero\"}}, {\"showLink\": true, \"linkText\": \"Export to plot.ly\"})});</script>"
      ]
     },
     "metadata": {},
     "output_type": "display_data"
    }
   ],
   "source": [
    "simple_boxplot(dataframe=upload_df,plot_value='UPLOAD',sort_value='SK_PI',\n",
    "               title=\"Upload speed by device \"+ title_tail,\n",
    "               ytitle=\"Mbps\", uploadline=True)"
   ]
  },
  {
   "cell_type": "code",
   "execution_count": 41,
   "metadata": {},
   "outputs": [
    {
     "data": {
      "application/vnd.plotly.v1+json": {
       "data": [
        {
         "marker": {
          "color": "#222222"
         },
         "name": "1",
         "type": "box",
         "y": [
          69.942,
          63.437,
          64.438,
          63.051
         ]
        },
        {
         "marker": {
          "color": "#F3C300"
         },
         "name": "2",
         "type": "box",
         "y": [
          64.647,
          70.761,
          79.382,
          64.641,
          79.9,
          92.021,
          91.542,
          68.19,
          63.837,
          73.064,
          65.157,
          66.006,
          63.99,
          63.901,
          324.017,
          68.756,
          63.569,
          70.192,
          63.318,
          63.737,
          65.984,
          69.789,
          74.455,
          63.706,
          64.79,
          70.693,
          68.217,
          66.128,
          64.699,
          63.066,
          72.162,
          70.688,
          59.988,
          64.177,
          63.904,
          73.805,
          122.777,
          63.471,
          64.354,
          67.109,
          66.211,
          67.673,
          63.668,
          65.727,
          66.017,
          63.435,
          64.419,
          89.017,
          63.797,
          63.568,
          86.351,
          75.884,
          65.629,
          66.177,
          65.053,
          64.956,
          65.609,
          66.992,
          66.788,
          66.018,
          86.393,
          63.339,
          64.276,
          66.39,
          63.317,
          87.332,
          189.677,
          64.358,
          64.835,
          104.323,
          64.976,
          74.145,
          113.491,
          70.287,
          65.019,
          65.958,
          68.442,
          94.595,
          64.81,
          65.021,
          61.626,
          57.432,
          67.839,
          115.159,
          64.596,
          68.613,
          64.737,
          70.257,
          65.417,
          70.441,
          74.111,
          64.715,
          64.265,
          64.428,
          66.329,
          67.605,
          71.869,
          66.574,
          63.489,
          63.082,
          65.547,
          64.556,
          65.248,
          63.584,
          73.387
         ]
        },
        {
         "marker": {
          "color": "#875692"
         },
         "name": "3",
         "type": "box",
         "y": [
          48.887,
          48.763,
          50.677,
          49.04,
          48.854,
          48.809,
          48.774,
          49.471,
          50.183,
          48.769,
          48.703,
          49.005,
          49.224,
          48.931,
          49.126,
          49.252,
          48.8,
          49.023,
          48.792,
          48.875,
          49.014
         ]
        },
        {
         "marker": {
          "color": "#F38400"
         },
         "name": "4",
         "type": "box",
         "y": [
          56.167,
          55.744,
          57.608,
          57.236,
          57.594,
          56.437,
          58.486,
          64.773,
          58.687,
          57.131,
          58.839,
          59.068,
          59.34,
          63.439,
          56.755,
          57.619,
          57.157,
          127.763,
          56.999,
          57.39,
          58.291,
          56.914,
          57.04,
          56.935,
          88.081,
          58.509,
          56.323,
          57.181,
          59.649,
          58.263,
          55.682,
          57.357,
          56.288,
          56.982,
          60.316,
          57.167,
          57.363,
          80.176,
          57.566,
          55.855,
          64.232,
          60.717,
          196.284,
          59.348,
          57.161,
          56.524,
          56.934,
          56.239,
          65.307,
          56.927,
          56.211,
          55.835,
          58.956,
          57.08,
          57.252,
          57.684,
          57.524,
          58.974,
          56.795,
          136.4,
          57.105,
          58.74,
          56.491,
          59.371,
          55.602,
          56.27,
          55.919,
          56.454,
          56.683,
          57.326
         ]
        },
        {
         "marker": {
          "color": "#A1CAF1"
         },
         "name": "5",
         "type": "box",
         "y": [
          64.587,
          63.9,
          63.923,
          64.298,
          65.04,
          64.534,
          64.731,
          64.343,
          65.653,
          73.84,
          65.3,
          64.882,
          68.748,
          66.179,
          88.711,
          65.722,
          70.419,
          65.67,
          103.615,
          66.507,
          66.962,
          71.838,
          68.11,
          69.5,
          67.569,
          101.556,
          67.654,
          68.021,
          68.312,
          68.976,
          68.953,
          155.516,
          69.556,
          74.501,
          69.915,
          70.069,
          70.936,
          73.024,
          96.303,
          70.911,
          92.478,
          71.142,
          70.415,
          71.097,
          215.951,
          75.992,
          71.31,
          71.426,
          77.581,
          71.696,
          75.963,
          74.457,
          81.315,
          72.517,
          101.577,
          76.015,
          80.276,
          73.69,
          73.958,
          79.141,
          231.343,
          75.302,
          81.776,
          169.46,
          223.103,
          188.605,
          220.01,
          236.27,
          64.957,
          71.785,
          62.329,
          61.992,
          219.696,
          64.281,
          102.28,
          64.444,
          70.412,
          669.219,
          73.153,
          68.254,
          101.786,
          66.271
         ]
        },
        {
         "marker": {
          "color": "#BE0032"
         },
         "name": "6",
         "type": "box",
         "y": [
          66.189,
          61.981,
          62.281,
          62.012,
          61.942,
          62.574,
          62.074,
          64.031,
          62.388,
          62.183,
          62.45,
          63.857,
          66.137,
          77.357,
          62.7,
          90.365,
          65.563,
          63.148,
          62.338,
          74.484,
          62.065,
          62.254,
          67.871,
          62.345,
          64.54,
          76.527
         ]
        },
        {
         "marker": {
          "color": "#C2B280"
         },
         "name": "7",
         "type": "box",
         "y": [
          65.212,
          66.035,
          66.274,
          63.594,
          65.229,
          64.773,
          66.081,
          69.404,
          65.771,
          67.22,
          70.075,
          65.315,
          69.498,
          65.203,
          64.785,
          64.723,
          64.422,
          65.713,
          68.643,
          65.827,
          65.015,
          64.171,
          65.947,
          65.674,
          60.139,
          57.644,
          59.629,
          65.165,
          66.006,
          63.657,
          67.245,
          65.04,
          65.494,
          70.535,
          82.239,
          63.938,
          63.875,
          63.687,
          67.794,
          64.048,
          64.766,
          66.834,
          66.904,
          69.524,
          66.588,
          70.517,
          65.807,
          62.818,
          66.655,
          70.758,
          65.699
         ]
        },
        {
         "marker": {
          "color": "#848482"
         },
         "name": "8",
         "type": "box",
         "y": [
          52.347,
          52.388
         ]
        },
        {
         "marker": {
          "color": "#008856"
         },
         "name": "9",
         "type": "box",
         "y": [
          44.239,
          45.052,
          44.212,
          44.237,
          44.247,
          44.228,
          44.254,
          44.206
         ]
        },
        {
         "marker": {
          "color": "#E68FAC"
         },
         "name": "11",
         "type": "box",
         "y": [
          57.845,
          58.21,
          60.291
         ]
        },
        {
         "marker": {
          "color": "#0067A5"
         },
         "name": "12",
         "type": "box",
         "y": [
          24.002,
          22.138,
          26.961,
          23.505
         ]
        }
       ],
       "layout": {
        "title": "Ping latency by device to the date 2019-02-05 10:43:24",
        "xaxis": {
         "title": ""
        },
        "yaxis": {
         "rangemode": "tozero",
         "title": "Miliseconds"
        }
       }
      },
      "text/html": [
       "<div id=\"a6c38f5b-c386-486d-8ae2-47c039a555c6\" style=\"height: 525px; width: 100%;\" class=\"plotly-graph-div\"></div><script type=\"text/javascript\">require([\"plotly\"], function(Plotly) { window.PLOTLYENV=window.PLOTLYENV || {};window.PLOTLYENV.BASE_URL=\"https://plot.ly\";Plotly.newPlot(\"a6c38f5b-c386-486d-8ae2-47c039a555c6\", [{\"type\": \"box\", \"y\": [69.942, 63.437, 64.438, 63.051], \"name\": \"1\", \"marker\": {\"color\": \"#222222\"}}, {\"type\": \"box\", \"y\": [64.647, 70.761, 79.382, 64.641, 79.9, 92.021, 91.542, 68.19, 63.837, 73.064, 65.157, 66.006, 63.99, 63.901, 324.017, 68.756, 63.569, 70.192, 63.318, 63.737, 65.984, 69.789, 74.455, 63.706, 64.79, 70.693, 68.217, 66.128, 64.699, 63.066, 72.162, 70.688, 59.988, 64.177, 63.904, 73.805, 122.777, 63.471, 64.354, 67.109, 66.211, 67.673, 63.668, 65.727, 66.017, 63.435, 64.419, 89.017, 63.797, 63.568, 86.351, 75.884, 65.629, 66.177, 65.053, 64.956, 65.609, 66.992, 66.788, 66.018, 86.393, 63.339, 64.276, 66.39, 63.317, 87.332, 189.677, 64.358, 64.835, 104.323, 64.976, 74.145, 113.491, 70.287, 65.019, 65.958, 68.442, 94.595, 64.81, 65.021, 61.626, 57.432, 67.839, 115.159, 64.596, 68.613, 64.737, 70.257, 65.417, 70.441, 74.111, 64.715, 64.265, 64.428, 66.329, 67.605, 71.869, 66.574, 63.489, 63.082, 65.547, 64.556, 65.248, 63.584, 73.387], \"name\": \"2\", \"marker\": {\"color\": \"#F3C300\"}}, {\"type\": \"box\", \"y\": [48.887, 48.763, 50.677, 49.04, 48.854, 48.809, 48.774, 49.471, 50.183, 48.769, 48.703, 49.005, 49.224, 48.931, 49.126, 49.252, 48.8, 49.023, 48.792, 48.875, 49.014], \"name\": \"3\", \"marker\": {\"color\": \"#875692\"}}, {\"type\": \"box\", \"y\": [56.167, 55.744, 57.608, 57.236, 57.594, 56.437, 58.486, 64.773, 58.687, 57.131, 58.839, 59.068, 59.34, 63.439, 56.755, 57.619, 57.157, 127.763, 56.999, 57.39, 58.291, 56.914, 57.04, 56.935, 88.081, 58.509, 56.323, 57.181, 59.649, 58.263, 55.682, 57.357, 56.288, 56.982, 60.316, 57.167, 57.363, 80.176, 57.566, 55.855, 64.232, 60.717, 196.284, 59.348, 57.161, 56.524, 56.934, 56.239, 65.307, 56.927, 56.211, 55.835, 58.956, 57.08, 57.252, 57.684, 57.524, 58.974, 56.795, 136.4, 57.105, 58.74, 56.491, 59.371, 55.602, 56.27, 55.919, 56.454, 56.683, 57.326], \"name\": \"4\", \"marker\": {\"color\": \"#F38400\"}}, {\"type\": \"box\", \"y\": [64.587, 63.9, 63.923, 64.298, 65.04, 64.534, 64.731, 64.343, 65.653, 73.84, 65.3, 64.882, 68.748, 66.179, 88.711, 65.722, 70.419, 65.67, 103.615, 66.507, 66.962, 71.838, 68.11, 69.5, 67.569, 101.556, 67.654, 68.021, 68.312, 68.976, 68.953, 155.516, 69.556, 74.501, 69.915, 70.069, 70.936, 73.024, 96.303, 70.911, 92.478, 71.142, 70.415, 71.097, 215.951, 75.992, 71.31, 71.426, 77.581, 71.696, 75.963, 74.457, 81.315, 72.517, 101.577, 76.015, 80.276, 73.69, 73.958, 79.141, 231.343, 75.302, 81.776, 169.46, 223.103, 188.605, 220.01, 236.27, 64.957, 71.785, 62.329, 61.992, 219.696, 64.281, 102.28, 64.444, 70.412, 669.219, 73.153, 68.254, 101.786, 66.271], \"name\": \"5\", \"marker\": {\"color\": \"#A1CAF1\"}}, {\"type\": \"box\", \"y\": [66.189, 61.981, 62.281, 62.012, 61.942, 62.574, 62.074, 64.031, 62.388, 62.183, 62.45, 63.857, 66.137, 77.357, 62.7, 90.365, 65.563, 63.148, 62.338, 74.484, 62.065, 62.254, 67.871, 62.345, 64.54, 76.527], \"name\": \"6\", \"marker\": {\"color\": \"#BE0032\"}}, {\"type\": \"box\", \"y\": [65.212, 66.035, 66.274, 63.594, 65.229, 64.773, 66.081, 69.404, 65.771, 67.22, 70.075, 65.315, 69.498, 65.203, 64.785, 64.723, 64.422, 65.713, 68.643, 65.827, 65.015, 64.171, 65.947, 65.674, 60.139, 57.644, 59.629, 65.165, 66.006, 63.657, 67.245, 65.04, 65.494, 70.535, 82.239, 63.938, 63.875, 63.687, 67.794, 64.048, 64.766, 66.834, 66.904, 69.524, 66.588, 70.517, 65.807, 62.818, 66.655, 70.758, 65.699], \"name\": \"7\", \"marker\": {\"color\": \"#C2B280\"}}, {\"type\": \"box\", \"y\": [52.347, 52.388], \"name\": \"8\", \"marker\": {\"color\": \"#848482\"}}, {\"type\": \"box\", \"y\": [44.239, 45.052, 44.212, 44.237, 44.247, 44.228, 44.254, 44.206], \"name\": \"9\", \"marker\": {\"color\": \"#008856\"}}, {\"type\": \"box\", \"y\": [57.845, 58.21, 60.291], \"name\": \"11\", \"marker\": {\"color\": \"#E68FAC\"}}, {\"type\": \"box\", \"y\": [24.002, 22.138, 26.961, 23.505], \"name\": \"12\", \"marker\": {\"color\": \"#0067A5\"}}], {\"title\": \"Ping latency by device to the date 2019-02-05 10:43:24\", \"xaxis\": {\"title\": \"\"}, \"yaxis\": {\"title\": \"Miliseconds\", \"rangemode\": \"tozero\"}}, {\"showLink\": true, \"linkText\": \"Export to plot.ly\"})});</script>"
      ],
      "text/vnd.plotly.v1+html": [
       "<div id=\"a6c38f5b-c386-486d-8ae2-47c039a555c6\" style=\"height: 525px; width: 100%;\" class=\"plotly-graph-div\"></div><script type=\"text/javascript\">require([\"plotly\"], function(Plotly) { window.PLOTLYENV=window.PLOTLYENV || {};window.PLOTLYENV.BASE_URL=\"https://plot.ly\";Plotly.newPlot(\"a6c38f5b-c386-486d-8ae2-47c039a555c6\", [{\"type\": \"box\", \"y\": [69.942, 63.437, 64.438, 63.051], \"name\": \"1\", \"marker\": {\"color\": \"#222222\"}}, {\"type\": \"box\", \"y\": [64.647, 70.761, 79.382, 64.641, 79.9, 92.021, 91.542, 68.19, 63.837, 73.064, 65.157, 66.006, 63.99, 63.901, 324.017, 68.756, 63.569, 70.192, 63.318, 63.737, 65.984, 69.789, 74.455, 63.706, 64.79, 70.693, 68.217, 66.128, 64.699, 63.066, 72.162, 70.688, 59.988, 64.177, 63.904, 73.805, 122.777, 63.471, 64.354, 67.109, 66.211, 67.673, 63.668, 65.727, 66.017, 63.435, 64.419, 89.017, 63.797, 63.568, 86.351, 75.884, 65.629, 66.177, 65.053, 64.956, 65.609, 66.992, 66.788, 66.018, 86.393, 63.339, 64.276, 66.39, 63.317, 87.332, 189.677, 64.358, 64.835, 104.323, 64.976, 74.145, 113.491, 70.287, 65.019, 65.958, 68.442, 94.595, 64.81, 65.021, 61.626, 57.432, 67.839, 115.159, 64.596, 68.613, 64.737, 70.257, 65.417, 70.441, 74.111, 64.715, 64.265, 64.428, 66.329, 67.605, 71.869, 66.574, 63.489, 63.082, 65.547, 64.556, 65.248, 63.584, 73.387], \"name\": \"2\", \"marker\": {\"color\": \"#F3C300\"}}, {\"type\": \"box\", \"y\": [48.887, 48.763, 50.677, 49.04, 48.854, 48.809, 48.774, 49.471, 50.183, 48.769, 48.703, 49.005, 49.224, 48.931, 49.126, 49.252, 48.8, 49.023, 48.792, 48.875, 49.014], \"name\": \"3\", \"marker\": {\"color\": \"#875692\"}}, {\"type\": \"box\", \"y\": [56.167, 55.744, 57.608, 57.236, 57.594, 56.437, 58.486, 64.773, 58.687, 57.131, 58.839, 59.068, 59.34, 63.439, 56.755, 57.619, 57.157, 127.763, 56.999, 57.39, 58.291, 56.914, 57.04, 56.935, 88.081, 58.509, 56.323, 57.181, 59.649, 58.263, 55.682, 57.357, 56.288, 56.982, 60.316, 57.167, 57.363, 80.176, 57.566, 55.855, 64.232, 60.717, 196.284, 59.348, 57.161, 56.524, 56.934, 56.239, 65.307, 56.927, 56.211, 55.835, 58.956, 57.08, 57.252, 57.684, 57.524, 58.974, 56.795, 136.4, 57.105, 58.74, 56.491, 59.371, 55.602, 56.27, 55.919, 56.454, 56.683, 57.326], \"name\": \"4\", \"marker\": {\"color\": \"#F38400\"}}, {\"type\": \"box\", \"y\": [64.587, 63.9, 63.923, 64.298, 65.04, 64.534, 64.731, 64.343, 65.653, 73.84, 65.3, 64.882, 68.748, 66.179, 88.711, 65.722, 70.419, 65.67, 103.615, 66.507, 66.962, 71.838, 68.11, 69.5, 67.569, 101.556, 67.654, 68.021, 68.312, 68.976, 68.953, 155.516, 69.556, 74.501, 69.915, 70.069, 70.936, 73.024, 96.303, 70.911, 92.478, 71.142, 70.415, 71.097, 215.951, 75.992, 71.31, 71.426, 77.581, 71.696, 75.963, 74.457, 81.315, 72.517, 101.577, 76.015, 80.276, 73.69, 73.958, 79.141, 231.343, 75.302, 81.776, 169.46, 223.103, 188.605, 220.01, 236.27, 64.957, 71.785, 62.329, 61.992, 219.696, 64.281, 102.28, 64.444, 70.412, 669.219, 73.153, 68.254, 101.786, 66.271], \"name\": \"5\", \"marker\": {\"color\": \"#A1CAF1\"}}, {\"type\": \"box\", \"y\": [66.189, 61.981, 62.281, 62.012, 61.942, 62.574, 62.074, 64.031, 62.388, 62.183, 62.45, 63.857, 66.137, 77.357, 62.7, 90.365, 65.563, 63.148, 62.338, 74.484, 62.065, 62.254, 67.871, 62.345, 64.54, 76.527], \"name\": \"6\", \"marker\": {\"color\": \"#BE0032\"}}, {\"type\": \"box\", \"y\": [65.212, 66.035, 66.274, 63.594, 65.229, 64.773, 66.081, 69.404, 65.771, 67.22, 70.075, 65.315, 69.498, 65.203, 64.785, 64.723, 64.422, 65.713, 68.643, 65.827, 65.015, 64.171, 65.947, 65.674, 60.139, 57.644, 59.629, 65.165, 66.006, 63.657, 67.245, 65.04, 65.494, 70.535, 82.239, 63.938, 63.875, 63.687, 67.794, 64.048, 64.766, 66.834, 66.904, 69.524, 66.588, 70.517, 65.807, 62.818, 66.655, 70.758, 65.699], \"name\": \"7\", \"marker\": {\"color\": \"#C2B280\"}}, {\"type\": \"box\", \"y\": [52.347, 52.388], \"name\": \"8\", \"marker\": {\"color\": \"#848482\"}}, {\"type\": \"box\", \"y\": [44.239, 45.052, 44.212, 44.237, 44.247, 44.228, 44.254, 44.206], \"name\": \"9\", \"marker\": {\"color\": \"#008856\"}}, {\"type\": \"box\", \"y\": [57.845, 58.21, 60.291], \"name\": \"11\", \"marker\": {\"color\": \"#E68FAC\"}}, {\"type\": \"box\", \"y\": [24.002, 22.138, 26.961, 23.505], \"name\": \"12\", \"marker\": {\"color\": \"#0067A5\"}}], {\"title\": \"Ping latency by device to the date 2019-02-05 10:43:24\", \"xaxis\": {\"title\": \"\"}, \"yaxis\": {\"title\": \"Miliseconds\", \"rangemode\": \"tozero\"}}, {\"showLink\": true, \"linkText\": \"Export to plot.ly\"})});</script>"
      ]
     },
     "metadata": {},
     "output_type": "display_data"
    }
   ],
   "source": [
    "simple_boxplot(dataframe=ping_df,plot_value='PING',sort_value='SK_PI',\n",
    "               title=\"Ping latency by device \"+ title_tail,\n",
    "               ytitle=\"Miliseconds\")"
   ]
  },
  {
   "cell_type": "markdown",
   "metadata": {},
   "source": [
    "## Statistic by time of the day, day of the week"
   ]
  },
  {
   "cell_type": "markdown",
   "metadata": {},
   "source": [
    "### Download speed"
   ]
  },
  {
   "cell_type": "code",
   "execution_count": 42,
   "metadata": {},
   "outputs": [],
   "source": [
    "download_df[\"hour\"]=pd.to_numeric(download_df[\"time\"].dt.hour)"
   ]
  },
  {
   "cell_type": "code",
   "execution_count": 43,
   "metadata": {},
   "outputs": [
    {
     "data": {
      "application/vnd.plotly.v1+json": {
       "data": [
        {
         "marker": {
          "color": "#222222"
         },
         "mode": "markers",
         "name": 1,
         "type": "scatter",
         "x": [
          17,
          17,
          1,
          5
         ],
         "y": [
          -1.1709217085859995,
          -0.07093550599732591,
          -0.03206673558783239,
          1.273923950171158
         ]
        },
        {
         "marker": {
          "color": "#F3C300"
         },
         "mode": "markers",
         "name": 2,
         "type": "scatter",
         "x": [
          10,
          16,
          19,
          23,
          3,
          7,
          10,
          14,
          18,
          21,
          1,
          5,
          8,
          12,
          16,
          20,
          23,
          3,
          7,
          10,
          14,
          18,
          21,
          1,
          5,
          9,
          12,
          16,
          23,
          7,
          22,
          5,
          12,
          7,
          11,
          18,
          22,
          1,
          5,
          9,
          12,
          20,
          0,
          3,
          7,
          11,
          14,
          22,
          1,
          5,
          9,
          13,
          16,
          20,
          0,
          3,
          7,
          11,
          14,
          18,
          22,
          2,
          5,
          13,
          16,
          20,
          0,
          3,
          7,
          11,
          15,
          18,
          22,
          2,
          5,
          9,
          13,
          16,
          20,
          0,
          4,
          7,
          11,
          22,
          5,
          7,
          13,
          0,
          11,
          15,
          2,
          0,
          4,
          8,
          11,
          15,
          19,
          2,
          6,
          10,
          13,
          17,
          0,
          4,
          11
         ],
         "y": [
          0.6603349282843267,
          -0.3317394235477409,
          -0.4026018772500315,
          1.4027034908797513,
          -0.26087696984545033,
          -0.26087696984545033,
          -1.215832893547747,
          1.1192536760705891,
          1.7907597849637233,
          -0.2946209954179697,
          0.6603349282843267,
          1.8582478361087622,
          1.6895277082461655,
          -1.462164280227138,
          1.4735527633220526,
          -1.003245532440875,
          0.3060226597728741,
          1.4735527633220526,
          0.34314108790264525,
          1.3689594653072323,
          0.8358038612614273,
          0.2014161804980641,
          0.05969127309348292,
          1.6220396571011273,
          2.0269679639713583,
          0.44774756717745495,
          -0.11915206244086915,
          -0.6826772895019418,
          0.02257284496371173,
          1.1901161297728795,
          -0.08203363431109825,
          -0.08203363431109825,
          -0.9323830787385847,
          1.6220396571011273,
          1.4735527633220526,
          -0.3317394235477409,
          -1.2866953472500373,
          0.3060226597728741,
          -0.7197957176317131,
          -0.08203363431109825,
          -1.357557800952328,
          -1.1449704398454563,
          -0.47346433095232204,
          -0.3654834491202603,
          -0.43634590282255087,
          -0.19001451614315973,
          -0.43634590282255087,
          -1.5330267339294286,
          0.44774756717745495,
          -0.5072083565248414,
          -1.215832893547747,
          -1.6800636891096832,
          -1.4284202546546185,
          -0.9661271043111039,
          -0.2237585417156794,
          0.44774756717745495,
          -0.6151892383569032,
          -0.5072083565248414,
          0.6603349282843267,
          0.6232165001545555,
          -1.818137387497238,
          1.08550965049807,
          0.34314108790264525,
          -0.47346433095232204,
          -0.4026018772500315,
          -1.215832893547747,
          -1.357557800952328,
          0.09343529866600232,
          -0.6151892383569032,
          -1.1078520117156851,
          -1.1078520117156851,
          -1.6108620741660404,
          -1.462164280227138,
          -0.5072083565248414,
          0.34314108790264525,
          0.1305537267957738,
          -0.7535397432042323,
          -1.3204393728225567,
          -0.7197957176317131,
          -1.1449704398454563,
          0.02257284496371173,
          -0.9661271043111039,
          -1.4284202546546185,
          -1.7835365800254164,
          -0.26087696984545033,
          0.05969127309348292,
          0.02257284496371173,
          0.09343529866600232,
          -0.08203363431109825,
          0.3060226597728741,
          -0.08203363431109825,
          0.9066663149637173,
          1.4735527633220526,
          1.4398087377495334,
          0.41400354160493585,
          1.0483912223682985,
          0.8020598356889076,
          1.2980970116049417,
          1.2980970116049417,
          0.5894724745820361,
          0.02257284496371173,
          0.7649414075591366,
          1.7907597849637233,
          2.0269679639713583,
          0.34314108790264525
         ]
        },
        {
         "marker": {
          "color": "#875692"
         },
         "mode": "markers",
         "name": 3,
         "type": "scatter",
         "x": [
          16,
          3,
          10,
          14,
          18,
          22,
          1,
          9,
          16,
          20,
          23,
          3,
          21,
          15,
          19,
          2,
          6,
          8,
          19,
          6,
          8
         ],
         "y": [
          -0.6770920122885999,
          0.03143915345847294,
          -0.12959065693858918,
          -0.7415039364474248,
          -3.269671959681298,
          -0.016869789660645923,
          0.04754213449817848,
          -0.03297277070035258,
          -0.08128171381947032,
          0.03143915345847294,
          0.04754213449817848,
          0.015336172418766277,
          -0.5643711450106567,
          0.9010001296026079,
          0.9976180158408456,
          1.06202993999967,
          1.06202993999967,
          1.0459269589599633,
          0.9171031106423145,
          0.6111464708878959,
          -1.2567993297180229
         ]
        },
        {
         "marker": {
          "color": "#F38400"
         },
         "mode": "markers",
         "name": 4,
         "type": "scatter",
         "x": [
          20,
          2,
          17,
          11,
          20,
          0,
          15,
          19,
          2,
          13,
          20,
          15,
          9,
          17,
          9,
          16,
          20,
          23,
          3,
          7,
          10,
          14,
          1,
          5,
          12,
          23,
          3,
          7,
          11,
          14,
          11,
          22,
          1,
          5,
          16,
          20,
          11,
          13,
          4,
          7,
          15,
          18,
          22,
          9,
          13,
          9,
          20,
          4,
          7,
          19,
          2,
          8,
          15,
          6,
          0,
          4,
          8,
          11,
          15,
          22,
          10,
          13,
          4,
          23,
          6,
          10,
          6,
          10,
          23,
          4
         ],
         "y": [
          0.0006640695941969017,
          0.0006640695941969017,
          0.0006640695941969017,
          0.43679438318322217,
          -0.6431473457038889,
          0.20834517130325653,
          0.6444754848922827,
          0.20834517130325653,
          -0.4354662439948293,
          0.6444754848922827,
          0.6444754848922827,
          0.20834517130325653,
          0.20834517130325653,
          0.20834517130325653,
          0.20834517130325653,
          0.6444754848922827,
          0.0006640695941969017,
          -2.387668600059993,
          0.0006640695941969017,
          0.43679438318322217,
          0.20834517130325653,
          0.43679438318322217,
          0.0006640695941969017,
          0.20834517130325653,
          -6.9823695990818795,
          0.20834517130325653,
          0.20834517130325653,
          0.20834517130325653,
          -0.2070170321148636,
          0.43679438318322217,
          0.20834517130325653,
          0.43679438318322217,
          0.43679438318322217,
          0.20834517130325653,
          0.20834517130325653,
          0.43679438318322217,
          0.20834517130325653,
          -0.2070170321148636,
          0.20834517130325653,
          -0.2070170321148636,
          0.0006640695941969017,
          0.20834517130325653,
          -2.823798913649019,
          -0.2070170321148636,
          0.43679438318322217,
          0.43679438318322217,
          0.6444754848922827,
          0.20834517130325653,
          -0.2070170321148636,
          0.0006640695941969017,
          0.20834517130325653,
          0.20834517130325653,
          -0.2070170321148636,
          0.43679438318322217,
          0.20834517130325653,
          0.43679438318322217,
          0.20834517130325653,
          0.20834517130325653,
          0.20834517130325653,
          0.0006640695941969017,
          0.0006640695941969017,
          0.20834517130325653,
          0.20834517130325653,
          0.43679438318322217,
          0.20834517130325653,
          0.20834517130325653,
          0.20834517130325653,
          -0.2070170321148636,
          0.20834517130325653,
          0.0006640695941969017
         ]
        },
        {
         "marker": {
          "color": "#A1CAF1"
         },
         "mode": "markers",
         "name": 5,
         "type": "scatter",
         "x": [
          15,
          18,
          22,
          9,
          13,
          20,
          0,
          4,
          15,
          18,
          22,
          2,
          9,
          17,
          4,
          7,
          22,
          6,
          9,
          13,
          22,
          8,
          15,
          19,
          22,
          1,
          5,
          12,
          16,
          18,
          22,
          9,
          16,
          20,
          22,
          1,
          20,
          0,
          3,
          7,
          14,
          18,
          5,
          20,
          0,
          22,
          0,
          3,
          7,
          18,
          22,
          2,
          20,
          0,
          2,
          17,
          0,
          18,
          6,
          0,
          15,
          22,
          6,
          13,
          17,
          20,
          4,
          19,
          13,
          11,
          19,
          6,
          2,
          13,
          17,
          19,
          23,
          10,
          13,
          23,
          10,
          17
         ],
         "y": [
          -0.12134988623648765,
          0.1882167122457188,
          -0.17975867840294246,
          0.6788505664439338,
          0.12396704086261932,
          0.6788505664439338,
          -0.2440083497860414,
          0.7372593586103876,
          0.55619210289438,
          0.7372593586103876,
          0.7372593586103876,
          0.6788505664439338,
          0.7372593586103876,
          0.4335336393448263,
          -1.038367923249818,
          0.7372593586103876,
          0.12396704086261932,
          -0.12134988623648765,
          0.12396704086261932,
          0.4919424315112806,
          0.55619210289438,
          -0.0571002148533887,
          0.6788505664439338,
          0.4919424315112806,
          -0.17975867840294246,
          0.24662550441217307,
          0.6788505664439338,
          0.6788505664439338,
          0.6788505664439338,
          0.7372593586103876,
          0.6146008950608343,
          -1.0967767154162722,
          0.6788505664439338,
          0.6788505664439338,
          0.6788505664439338,
          0.4335336393448263,
          0.3692839679617268,
          -0.12134988623648765,
          -0.0571002148533887,
          0.24662550441217307,
          0.6146008950608343,
          0.4335336393448263,
          0.6788505664439338,
          0.6788505664439338,
          -2.1422940951958007,
          0.310875175795273,
          0.6788505664439338,
          0.4335336393448263,
          0.310875175795273,
          0.24662550441217307,
          0.6788505664439338,
          0.4919424315112806,
          -1.038367923249818,
          0.3692839679617268,
          -0.7346422039842564,
          0.6146008950608343,
          0.6146008950608343,
          0.55619210289438,
          0.6788505664439338,
          -0.12134988623648765,
          -2.2649525587453545,
          0.6788505664439338,
          0.6146008950608343,
          -2.6435145429741858,
          -2.1422940951958007,
          -0.6703925326011569,
          -2.3876110222949083,
          -2.3876110222949083,
          -2.703406370879241,
          0.06555824869616504,
          0.6788505664439338,
          0.6146008950608343,
          -2.2649525587453545,
          0.1882167122457188,
          0.6788505664439338,
          0.4335336393448263,
          0.6788505664439338,
          -3.0621869399485737,
          -1.038367923249818,
          0.4919424315112806,
          -1.5874105696144867,
          0.6788505664439338
         ]
        },
        {
         "marker": {
          "color": "#BE0032"
         },
         "mode": "markers",
         "name": 6,
         "type": "scatter",
         "x": [
          18,
          2,
          5,
          9,
          13,
          17,
          20,
          0,
          4,
          7,
          11,
          15,
          18,
          22,
          2,
          6,
          9,
          13,
          17,
          20,
          4,
          7,
          11,
          19,
          22,
          9
         ],
         "y": [
          -0.695730997723015,
          1.0041996810508096,
          0.6119079859491576,
          0.4811440875819403,
          0.8734357826835923,
          0.9357043057156001,
          -0.9510319421542487,
          -1.081795840521466,
          1.0041996810508096,
          0.6119079859491576,
          0.4811440875819403,
          0.41887556454993197,
          -0.7579995207550232,
          -1.9348746060599784,
          1.0041996810508096,
          0.9419311580188012,
          -0.4964717240205888,
          -1.3433236372559003,
          0.350380189214723,
          -1.9971431290919868,
          0.41887556454993197,
          0.6119079859491576,
          0.4811440875819403,
          0.6119079859491576,
          -1.9348746060599784,
          0.350380189214723
         ]
        },
        {
         "marker": {
          "color": "#C2B280"
         },
         "mode": "markers",
         "name": 7,
         "type": "scatter",
         "x": [
          3,
          7,
          11,
          14,
          18,
          2,
          9,
          13,
          15,
          9,
          11,
          5,
          17,
          20,
          4,
          7,
          11,
          15,
          22,
          2,
          13,
          17,
          7,
          11,
          17,
          0,
          4,
          11,
          22,
          2,
          9,
          17,
          2,
          17,
          21,
          0,
          11,
          15,
          19,
          2,
          13,
          17,
          21,
          4,
          8,
          12,
          15,
          2,
          17,
          8,
          10
         ],
         "y": [
          0.5707233990836523,
          1.0383297403663199,
          1.576397311157333,
          0.1671727209903915,
          0.5707233990836523,
          1.1087909698746663,
          -1.04347931328939,
          1.1087909698746663,
          -0.5694674056877826,
          -2.0491532253630713,
          -2.2477257812502316,
          -0.7039842983855363,
          0.5066677358942463,
          0.1671727209903915,
          0.1671727209903915,
          0.9742740771769126,
          -0.9089624205916363,
          0.23763395049873903,
          0.839757184479159,
          0.9038128476685662,
          0.5707233990836523,
          0.4362065063858987,
          -0.37089484980062243,
          -0.5054117424983761,
          0.37215084319649266,
          2.33865970311127,
          1.0383297403663199,
          0.1671727209903915,
          0.9742740771769126,
          -0.0313998348967682,
          -0.6399286351961296,
          -0.8385011910832899,
          0.10311705780098541,
          0.10311705780098541,
          -2.5167595666457383,
          -1.844175103156971,
          -0.1018610644051152,
          0.37215084319649266,
          0.23763395049873903,
          -0.0313998348967682,
          -0.5694674056877826,
          0.1671727209903915,
          0.7052402917814059,
          0.03265582829263842,
          -1.1075349764787965,
          -1.9786919958547244,
          0.5707233990836523,
          -0.5054117424983761,
          1.2433078625724199,
          -0.8385011910832899,
          0.03265582829263842
         ]
        },
        {
         "marker": {
          "color": "#848482"
         },
         "mode": "markers",
         "name": 8,
         "type": "scatter",
         "x": [
          14,
          15
         ],
         "y": [
          0.7071067811865476,
          -0.7071067811865476
         ]
        },
        {
         "marker": {
          "color": "#008856"
         },
         "mode": "markers",
         "name": 9,
         "type": "scatter",
         "x": [
          8,
          23,
          3,
          10,
          14,
          17,
          1,
          12
         ],
         "y": [
          0.675226318299084,
          -0.8787191813481243,
          0.7344242420951677,
          0.6900257992481049,
          0.897218532534399,
          0.5420309897578944,
          -1.0859119146344185,
          -1.5742947859521124
         ]
        },
        {
         "marker": {
          "color": "#0067A5"
         },
         "mode": "markers",
         "name": 11,
         "type": "scatter",
         "x": [
          1,
          1,
          16
         ],
         "y": [
          0.7135766879572539,
          0.42940898036365727,
          -1.1429856683209112
         ]
        },
        {
         "marker": {
          "color": "#F99379"
         },
         "mode": "markers",
         "name": 12,
         "type": "scatter",
         "x": [
          4,
          12,
          15,
          19
         ],
         "y": [
          0.7166755501525801,
          0.522322858585779,
          0.2307938212355767,
          -1.4697922299739365
         ]
        }
       ],
       "layout": {
        "title": "Normalized download speed by hour to the date 2019-02-05 10:43:24",
        "xaxis": {
         "title": "Hour of the day"
        },
        "yaxis": {
         "title": "Difference to normalized speeds (Mbps)"
        }
       }
      },
      "text/html": [
       "<div id=\"78e2b887-d6a6-4148-a046-16d651891156\" style=\"height: 525px; width: 100%;\" class=\"plotly-graph-div\"></div><script type=\"text/javascript\">require([\"plotly\"], function(Plotly) { window.PLOTLYENV=window.PLOTLYENV || {};window.PLOTLYENV.BASE_URL=\"https://plot.ly\";Plotly.newPlot(\"78e2b887-d6a6-4148-a046-16d651891156\", [{\"type\": \"scatter\", \"x\": [17, 17, 1, 5], \"y\": [-1.1709217085859995, -0.07093550599732591, -0.03206673558783239, 1.273923950171158], \"mode\": \"markers\", \"marker\": {\"color\": \"#222222\"}, \"name\": 1}, {\"type\": \"scatter\", \"x\": [10, 16, 19, 23, 3, 7, 10, 14, 18, 21, 1, 5, 8, 12, 16, 20, 23, 3, 7, 10, 14, 18, 21, 1, 5, 9, 12, 16, 23, 7, 22, 5, 12, 7, 11, 18, 22, 1, 5, 9, 12, 20, 0, 3, 7, 11, 14, 22, 1, 5, 9, 13, 16, 20, 0, 3, 7, 11, 14, 18, 22, 2, 5, 13, 16, 20, 0, 3, 7, 11, 15, 18, 22, 2, 5, 9, 13, 16, 20, 0, 4, 7, 11, 22, 5, 7, 13, 0, 11, 15, 2, 0, 4, 8, 11, 15, 19, 2, 6, 10, 13, 17, 0, 4, 11], \"y\": [0.6603349282843267, -0.3317394235477409, -0.4026018772500315, 1.4027034908797513, -0.26087696984545033, -0.26087696984545033, -1.215832893547747, 1.1192536760705891, 1.7907597849637233, -0.2946209954179697, 0.6603349282843267, 1.8582478361087622, 1.6895277082461655, -1.462164280227138, 1.4735527633220526, -1.003245532440875, 0.3060226597728741, 1.4735527633220526, 0.34314108790264525, 1.3689594653072323, 0.8358038612614273, 0.2014161804980641, 0.05969127309348292, 1.6220396571011273, 2.0269679639713583, 0.44774756717745495, -0.11915206244086915, -0.6826772895019418, 0.02257284496371173, 1.1901161297728795, -0.08203363431109825, -0.08203363431109825, -0.9323830787385847, 1.6220396571011273, 1.4735527633220526, -0.3317394235477409, -1.2866953472500373, 0.3060226597728741, -0.7197957176317131, -0.08203363431109825, -1.357557800952328, -1.1449704398454563, -0.47346433095232204, -0.3654834491202603, -0.43634590282255087, -0.19001451614315973, -0.43634590282255087, -1.5330267339294286, 0.44774756717745495, -0.5072083565248414, -1.215832893547747, -1.6800636891096832, -1.4284202546546185, -0.9661271043111039, -0.2237585417156794, 0.44774756717745495, -0.6151892383569032, -0.5072083565248414, 0.6603349282843267, 0.6232165001545555, -1.818137387497238, 1.08550965049807, 0.34314108790264525, -0.47346433095232204, -0.4026018772500315, -1.215832893547747, -1.357557800952328, 0.09343529866600232, -0.6151892383569032, -1.1078520117156851, -1.1078520117156851, -1.6108620741660404, -1.462164280227138, -0.5072083565248414, 0.34314108790264525, 0.1305537267957738, -0.7535397432042323, -1.3204393728225567, -0.7197957176317131, -1.1449704398454563, 0.02257284496371173, -0.9661271043111039, -1.4284202546546185, -1.7835365800254164, -0.26087696984545033, 0.05969127309348292, 0.02257284496371173, 0.09343529866600232, -0.08203363431109825, 0.3060226597728741, -0.08203363431109825, 0.9066663149637173, 1.4735527633220526, 1.4398087377495334, 0.41400354160493585, 1.0483912223682985, 0.8020598356889076, 1.2980970116049417, 1.2980970116049417, 0.5894724745820361, 0.02257284496371173, 0.7649414075591366, 1.7907597849637233, 2.0269679639713583, 0.34314108790264525], \"mode\": \"markers\", \"marker\": {\"color\": \"#F3C300\"}, \"name\": 2}, {\"type\": \"scatter\", \"x\": [16, 3, 10, 14, 18, 22, 1, 9, 16, 20, 23, 3, 21, 15, 19, 2, 6, 8, 19, 6, 8], \"y\": [-0.6770920122885999, 0.03143915345847294, -0.12959065693858918, -0.7415039364474248, -3.269671959681298, -0.016869789660645923, 0.04754213449817848, -0.03297277070035258, -0.08128171381947032, 0.03143915345847294, 0.04754213449817848, 0.015336172418766277, -0.5643711450106567, 0.9010001296026079, 0.9976180158408456, 1.06202993999967, 1.06202993999967, 1.0459269589599633, 0.9171031106423145, 0.6111464708878959, -1.2567993297180229], \"mode\": \"markers\", \"marker\": {\"color\": \"#875692\"}, \"name\": 3}, {\"type\": \"scatter\", \"x\": [20, 2, 17, 11, 20, 0, 15, 19, 2, 13, 20, 15, 9, 17, 9, 16, 20, 23, 3, 7, 10, 14, 1, 5, 12, 23, 3, 7, 11, 14, 11, 22, 1, 5, 16, 20, 11, 13, 4, 7, 15, 18, 22, 9, 13, 9, 20, 4, 7, 19, 2, 8, 15, 6, 0, 4, 8, 11, 15, 22, 10, 13, 4, 23, 6, 10, 6, 10, 23, 4], \"y\": [0.0006640695941969017, 0.0006640695941969017, 0.0006640695941969017, 0.43679438318322217, -0.6431473457038889, 0.20834517130325653, 0.6444754848922827, 0.20834517130325653, -0.4354662439948293, 0.6444754848922827, 0.6444754848922827, 0.20834517130325653, 0.20834517130325653, 0.20834517130325653, 0.20834517130325653, 0.6444754848922827, 0.0006640695941969017, -2.387668600059993, 0.0006640695941969017, 0.43679438318322217, 0.20834517130325653, 0.43679438318322217, 0.0006640695941969017, 0.20834517130325653, -6.9823695990818795, 0.20834517130325653, 0.20834517130325653, 0.20834517130325653, -0.2070170321148636, 0.43679438318322217, 0.20834517130325653, 0.43679438318322217, 0.43679438318322217, 0.20834517130325653, 0.20834517130325653, 0.43679438318322217, 0.20834517130325653, -0.2070170321148636, 0.20834517130325653, -0.2070170321148636, 0.0006640695941969017, 0.20834517130325653, -2.823798913649019, -0.2070170321148636, 0.43679438318322217, 0.43679438318322217, 0.6444754848922827, 0.20834517130325653, -0.2070170321148636, 0.0006640695941969017, 0.20834517130325653, 0.20834517130325653, -0.2070170321148636, 0.43679438318322217, 0.20834517130325653, 0.43679438318322217, 0.20834517130325653, 0.20834517130325653, 0.20834517130325653, 0.0006640695941969017, 0.0006640695941969017, 0.20834517130325653, 0.20834517130325653, 0.43679438318322217, 0.20834517130325653, 0.20834517130325653, 0.20834517130325653, -0.2070170321148636, 0.20834517130325653, 0.0006640695941969017], \"mode\": \"markers\", \"marker\": {\"color\": \"#F38400\"}, \"name\": 4}, {\"type\": \"scatter\", \"x\": [15, 18, 22, 9, 13, 20, 0, 4, 15, 18, 22, 2, 9, 17, 4, 7, 22, 6, 9, 13, 22, 8, 15, 19, 22, 1, 5, 12, 16, 18, 22, 9, 16, 20, 22, 1, 20, 0, 3, 7, 14, 18, 5, 20, 0, 22, 0, 3, 7, 18, 22, 2, 20, 0, 2, 17, 0, 18, 6, 0, 15, 22, 6, 13, 17, 20, 4, 19, 13, 11, 19, 6, 2, 13, 17, 19, 23, 10, 13, 23, 10, 17], \"y\": [-0.12134988623648765, 0.1882167122457188, -0.17975867840294246, 0.6788505664439338, 0.12396704086261932, 0.6788505664439338, -0.2440083497860414, 0.7372593586103876, 0.55619210289438, 0.7372593586103876, 0.7372593586103876, 0.6788505664439338, 0.7372593586103876, 0.4335336393448263, -1.038367923249818, 0.7372593586103876, 0.12396704086261932, -0.12134988623648765, 0.12396704086261932, 0.4919424315112806, 0.55619210289438, -0.0571002148533887, 0.6788505664439338, 0.4919424315112806, -0.17975867840294246, 0.24662550441217307, 0.6788505664439338, 0.6788505664439338, 0.6788505664439338, 0.7372593586103876, 0.6146008950608343, -1.0967767154162722, 0.6788505664439338, 0.6788505664439338, 0.6788505664439338, 0.4335336393448263, 0.3692839679617268, -0.12134988623648765, -0.0571002148533887, 0.24662550441217307, 0.6146008950608343, 0.4335336393448263, 0.6788505664439338, 0.6788505664439338, -2.1422940951958007, 0.310875175795273, 0.6788505664439338, 0.4335336393448263, 0.310875175795273, 0.24662550441217307, 0.6788505664439338, 0.4919424315112806, -1.038367923249818, 0.3692839679617268, -0.7346422039842564, 0.6146008950608343, 0.6146008950608343, 0.55619210289438, 0.6788505664439338, -0.12134988623648765, -2.2649525587453545, 0.6788505664439338, 0.6146008950608343, -2.6435145429741858, -2.1422940951958007, -0.6703925326011569, -2.3876110222949083, -2.3876110222949083, -2.703406370879241, 0.06555824869616504, 0.6788505664439338, 0.6146008950608343, -2.2649525587453545, 0.1882167122457188, 0.6788505664439338, 0.4335336393448263, 0.6788505664439338, -3.0621869399485737, -1.038367923249818, 0.4919424315112806, -1.5874105696144867, 0.6788505664439338], \"mode\": \"markers\", \"marker\": {\"color\": \"#A1CAF1\"}, \"name\": 5}, {\"type\": \"scatter\", \"x\": [18, 2, 5, 9, 13, 17, 20, 0, 4, 7, 11, 15, 18, 22, 2, 6, 9, 13, 17, 20, 4, 7, 11, 19, 22, 9], \"y\": [-0.695730997723015, 1.0041996810508096, 0.6119079859491576, 0.4811440875819403, 0.8734357826835923, 0.9357043057156001, -0.9510319421542487, -1.081795840521466, 1.0041996810508096, 0.6119079859491576, 0.4811440875819403, 0.41887556454993197, -0.7579995207550232, -1.9348746060599784, 1.0041996810508096, 0.9419311580188012, -0.4964717240205888, -1.3433236372559003, 0.350380189214723, -1.9971431290919868, 0.41887556454993197, 0.6119079859491576, 0.4811440875819403, 0.6119079859491576, -1.9348746060599784, 0.350380189214723], \"mode\": \"markers\", \"marker\": {\"color\": \"#BE0032\"}, \"name\": 6}, {\"type\": \"scatter\", \"x\": [3, 7, 11, 14, 18, 2, 9, 13, 15, 9, 11, 5, 17, 20, 4, 7, 11, 15, 22, 2, 13, 17, 7, 11, 17, 0, 4, 11, 22, 2, 9, 17, 2, 17, 21, 0, 11, 15, 19, 2, 13, 17, 21, 4, 8, 12, 15, 2, 17, 8, 10], \"y\": [0.5707233990836523, 1.0383297403663199, 1.576397311157333, 0.1671727209903915, 0.5707233990836523, 1.1087909698746663, -1.04347931328939, 1.1087909698746663, -0.5694674056877826, -2.0491532253630713, -2.2477257812502316, -0.7039842983855363, 0.5066677358942463, 0.1671727209903915, 0.1671727209903915, 0.9742740771769126, -0.9089624205916363, 0.23763395049873903, 0.839757184479159, 0.9038128476685662, 0.5707233990836523, 0.4362065063858987, -0.37089484980062243, -0.5054117424983761, 0.37215084319649266, 2.33865970311127, 1.0383297403663199, 0.1671727209903915, 0.9742740771769126, -0.0313998348967682, -0.6399286351961296, -0.8385011910832899, 0.10311705780098541, 0.10311705780098541, -2.5167595666457383, -1.844175103156971, -0.1018610644051152, 0.37215084319649266, 0.23763395049873903, -0.0313998348967682, -0.5694674056877826, 0.1671727209903915, 0.7052402917814059, 0.03265582829263842, -1.1075349764787965, -1.9786919958547244, 0.5707233990836523, -0.5054117424983761, 1.2433078625724199, -0.8385011910832899, 0.03265582829263842], \"mode\": \"markers\", \"marker\": {\"color\": \"#C2B280\"}, \"name\": 7}, {\"type\": \"scatter\", \"x\": [14, 15], \"y\": [0.7071067811865476, -0.7071067811865476], \"mode\": \"markers\", \"marker\": {\"color\": \"#848482\"}, \"name\": 8}, {\"type\": \"scatter\", \"x\": [8, 23, 3, 10, 14, 17, 1, 12], \"y\": [0.675226318299084, -0.8787191813481243, 0.7344242420951677, 0.6900257992481049, 0.897218532534399, 0.5420309897578944, -1.0859119146344185, -1.5742947859521124], \"mode\": \"markers\", \"marker\": {\"color\": \"#008856\"}, \"name\": 9}, {\"type\": \"scatter\", \"x\": [1, 1, 16], \"y\": [0.7135766879572539, 0.42940898036365727, -1.1429856683209112], \"mode\": \"markers\", \"marker\": {\"color\": \"#0067A5\"}, \"name\": 11}, {\"type\": \"scatter\", \"x\": [4, 12, 15, 19], \"y\": [0.7166755501525801, 0.522322858585779, 0.2307938212355767, -1.4697922299739365], \"mode\": \"markers\", \"marker\": {\"color\": \"#F99379\"}, \"name\": 12}], {\"title\": \"Normalized download speed by hour to the date 2019-02-05 10:43:24\", \"xaxis\": {\"title\": \"Hour of the day\"}, \"yaxis\": {\"title\": \"Difference to normalized speeds (Mbps)\"}}, {\"showLink\": true, \"linkText\": \"Export to plot.ly\"})});</script>"
      ],
      "text/vnd.plotly.v1+html": [
       "<div id=\"78e2b887-d6a6-4148-a046-16d651891156\" style=\"height: 525px; width: 100%;\" class=\"plotly-graph-div\"></div><script type=\"text/javascript\">require([\"plotly\"], function(Plotly) { window.PLOTLYENV=window.PLOTLYENV || {};window.PLOTLYENV.BASE_URL=\"https://plot.ly\";Plotly.newPlot(\"78e2b887-d6a6-4148-a046-16d651891156\", [{\"type\": \"scatter\", \"x\": [17, 17, 1, 5], \"y\": [-1.1709217085859995, -0.07093550599732591, -0.03206673558783239, 1.273923950171158], \"mode\": \"markers\", \"marker\": {\"color\": \"#222222\"}, \"name\": 1}, {\"type\": \"scatter\", \"x\": [10, 16, 19, 23, 3, 7, 10, 14, 18, 21, 1, 5, 8, 12, 16, 20, 23, 3, 7, 10, 14, 18, 21, 1, 5, 9, 12, 16, 23, 7, 22, 5, 12, 7, 11, 18, 22, 1, 5, 9, 12, 20, 0, 3, 7, 11, 14, 22, 1, 5, 9, 13, 16, 20, 0, 3, 7, 11, 14, 18, 22, 2, 5, 13, 16, 20, 0, 3, 7, 11, 15, 18, 22, 2, 5, 9, 13, 16, 20, 0, 4, 7, 11, 22, 5, 7, 13, 0, 11, 15, 2, 0, 4, 8, 11, 15, 19, 2, 6, 10, 13, 17, 0, 4, 11], \"y\": [0.6603349282843267, -0.3317394235477409, -0.4026018772500315, 1.4027034908797513, -0.26087696984545033, -0.26087696984545033, -1.215832893547747, 1.1192536760705891, 1.7907597849637233, -0.2946209954179697, 0.6603349282843267, 1.8582478361087622, 1.6895277082461655, -1.462164280227138, 1.4735527633220526, -1.003245532440875, 0.3060226597728741, 1.4735527633220526, 0.34314108790264525, 1.3689594653072323, 0.8358038612614273, 0.2014161804980641, 0.05969127309348292, 1.6220396571011273, 2.0269679639713583, 0.44774756717745495, -0.11915206244086915, -0.6826772895019418, 0.02257284496371173, 1.1901161297728795, -0.08203363431109825, -0.08203363431109825, -0.9323830787385847, 1.6220396571011273, 1.4735527633220526, -0.3317394235477409, -1.2866953472500373, 0.3060226597728741, -0.7197957176317131, -0.08203363431109825, -1.357557800952328, -1.1449704398454563, -0.47346433095232204, -0.3654834491202603, -0.43634590282255087, -0.19001451614315973, -0.43634590282255087, -1.5330267339294286, 0.44774756717745495, -0.5072083565248414, -1.215832893547747, -1.6800636891096832, -1.4284202546546185, -0.9661271043111039, -0.2237585417156794, 0.44774756717745495, -0.6151892383569032, -0.5072083565248414, 0.6603349282843267, 0.6232165001545555, -1.818137387497238, 1.08550965049807, 0.34314108790264525, -0.47346433095232204, -0.4026018772500315, -1.215832893547747, -1.357557800952328, 0.09343529866600232, -0.6151892383569032, -1.1078520117156851, -1.1078520117156851, -1.6108620741660404, -1.462164280227138, -0.5072083565248414, 0.34314108790264525, 0.1305537267957738, -0.7535397432042323, -1.3204393728225567, -0.7197957176317131, -1.1449704398454563, 0.02257284496371173, -0.9661271043111039, -1.4284202546546185, -1.7835365800254164, -0.26087696984545033, 0.05969127309348292, 0.02257284496371173, 0.09343529866600232, -0.08203363431109825, 0.3060226597728741, -0.08203363431109825, 0.9066663149637173, 1.4735527633220526, 1.4398087377495334, 0.41400354160493585, 1.0483912223682985, 0.8020598356889076, 1.2980970116049417, 1.2980970116049417, 0.5894724745820361, 0.02257284496371173, 0.7649414075591366, 1.7907597849637233, 2.0269679639713583, 0.34314108790264525], \"mode\": \"markers\", \"marker\": {\"color\": \"#F3C300\"}, \"name\": 2}, {\"type\": \"scatter\", \"x\": [16, 3, 10, 14, 18, 22, 1, 9, 16, 20, 23, 3, 21, 15, 19, 2, 6, 8, 19, 6, 8], \"y\": [-0.6770920122885999, 0.03143915345847294, -0.12959065693858918, -0.7415039364474248, -3.269671959681298, -0.016869789660645923, 0.04754213449817848, -0.03297277070035258, -0.08128171381947032, 0.03143915345847294, 0.04754213449817848, 0.015336172418766277, -0.5643711450106567, 0.9010001296026079, 0.9976180158408456, 1.06202993999967, 1.06202993999967, 1.0459269589599633, 0.9171031106423145, 0.6111464708878959, -1.2567993297180229], \"mode\": \"markers\", \"marker\": {\"color\": \"#875692\"}, \"name\": 3}, {\"type\": \"scatter\", \"x\": [20, 2, 17, 11, 20, 0, 15, 19, 2, 13, 20, 15, 9, 17, 9, 16, 20, 23, 3, 7, 10, 14, 1, 5, 12, 23, 3, 7, 11, 14, 11, 22, 1, 5, 16, 20, 11, 13, 4, 7, 15, 18, 22, 9, 13, 9, 20, 4, 7, 19, 2, 8, 15, 6, 0, 4, 8, 11, 15, 22, 10, 13, 4, 23, 6, 10, 6, 10, 23, 4], \"y\": [0.0006640695941969017, 0.0006640695941969017, 0.0006640695941969017, 0.43679438318322217, -0.6431473457038889, 0.20834517130325653, 0.6444754848922827, 0.20834517130325653, -0.4354662439948293, 0.6444754848922827, 0.6444754848922827, 0.20834517130325653, 0.20834517130325653, 0.20834517130325653, 0.20834517130325653, 0.6444754848922827, 0.0006640695941969017, -2.387668600059993, 0.0006640695941969017, 0.43679438318322217, 0.20834517130325653, 0.43679438318322217, 0.0006640695941969017, 0.20834517130325653, -6.9823695990818795, 0.20834517130325653, 0.20834517130325653, 0.20834517130325653, -0.2070170321148636, 0.43679438318322217, 0.20834517130325653, 0.43679438318322217, 0.43679438318322217, 0.20834517130325653, 0.20834517130325653, 0.43679438318322217, 0.20834517130325653, -0.2070170321148636, 0.20834517130325653, -0.2070170321148636, 0.0006640695941969017, 0.20834517130325653, -2.823798913649019, -0.2070170321148636, 0.43679438318322217, 0.43679438318322217, 0.6444754848922827, 0.20834517130325653, -0.2070170321148636, 0.0006640695941969017, 0.20834517130325653, 0.20834517130325653, -0.2070170321148636, 0.43679438318322217, 0.20834517130325653, 0.43679438318322217, 0.20834517130325653, 0.20834517130325653, 0.20834517130325653, 0.0006640695941969017, 0.0006640695941969017, 0.20834517130325653, 0.20834517130325653, 0.43679438318322217, 0.20834517130325653, 0.20834517130325653, 0.20834517130325653, -0.2070170321148636, 0.20834517130325653, 0.0006640695941969017], \"mode\": \"markers\", \"marker\": {\"color\": \"#F38400\"}, \"name\": 4}, {\"type\": \"scatter\", \"x\": [15, 18, 22, 9, 13, 20, 0, 4, 15, 18, 22, 2, 9, 17, 4, 7, 22, 6, 9, 13, 22, 8, 15, 19, 22, 1, 5, 12, 16, 18, 22, 9, 16, 20, 22, 1, 20, 0, 3, 7, 14, 18, 5, 20, 0, 22, 0, 3, 7, 18, 22, 2, 20, 0, 2, 17, 0, 18, 6, 0, 15, 22, 6, 13, 17, 20, 4, 19, 13, 11, 19, 6, 2, 13, 17, 19, 23, 10, 13, 23, 10, 17], \"y\": [-0.12134988623648765, 0.1882167122457188, -0.17975867840294246, 0.6788505664439338, 0.12396704086261932, 0.6788505664439338, -0.2440083497860414, 0.7372593586103876, 0.55619210289438, 0.7372593586103876, 0.7372593586103876, 0.6788505664439338, 0.7372593586103876, 0.4335336393448263, -1.038367923249818, 0.7372593586103876, 0.12396704086261932, -0.12134988623648765, 0.12396704086261932, 0.4919424315112806, 0.55619210289438, -0.0571002148533887, 0.6788505664439338, 0.4919424315112806, -0.17975867840294246, 0.24662550441217307, 0.6788505664439338, 0.6788505664439338, 0.6788505664439338, 0.7372593586103876, 0.6146008950608343, -1.0967767154162722, 0.6788505664439338, 0.6788505664439338, 0.6788505664439338, 0.4335336393448263, 0.3692839679617268, -0.12134988623648765, -0.0571002148533887, 0.24662550441217307, 0.6146008950608343, 0.4335336393448263, 0.6788505664439338, 0.6788505664439338, -2.1422940951958007, 0.310875175795273, 0.6788505664439338, 0.4335336393448263, 0.310875175795273, 0.24662550441217307, 0.6788505664439338, 0.4919424315112806, -1.038367923249818, 0.3692839679617268, -0.7346422039842564, 0.6146008950608343, 0.6146008950608343, 0.55619210289438, 0.6788505664439338, -0.12134988623648765, -2.2649525587453545, 0.6788505664439338, 0.6146008950608343, -2.6435145429741858, -2.1422940951958007, -0.6703925326011569, -2.3876110222949083, -2.3876110222949083, -2.703406370879241, 0.06555824869616504, 0.6788505664439338, 0.6146008950608343, -2.2649525587453545, 0.1882167122457188, 0.6788505664439338, 0.4335336393448263, 0.6788505664439338, -3.0621869399485737, -1.038367923249818, 0.4919424315112806, -1.5874105696144867, 0.6788505664439338], \"mode\": \"markers\", \"marker\": {\"color\": \"#A1CAF1\"}, \"name\": 5}, {\"type\": \"scatter\", \"x\": [18, 2, 5, 9, 13, 17, 20, 0, 4, 7, 11, 15, 18, 22, 2, 6, 9, 13, 17, 20, 4, 7, 11, 19, 22, 9], \"y\": [-0.695730997723015, 1.0041996810508096, 0.6119079859491576, 0.4811440875819403, 0.8734357826835923, 0.9357043057156001, -0.9510319421542487, -1.081795840521466, 1.0041996810508096, 0.6119079859491576, 0.4811440875819403, 0.41887556454993197, -0.7579995207550232, -1.9348746060599784, 1.0041996810508096, 0.9419311580188012, -0.4964717240205888, -1.3433236372559003, 0.350380189214723, -1.9971431290919868, 0.41887556454993197, 0.6119079859491576, 0.4811440875819403, 0.6119079859491576, -1.9348746060599784, 0.350380189214723], \"mode\": \"markers\", \"marker\": {\"color\": \"#BE0032\"}, \"name\": 6}, {\"type\": \"scatter\", \"x\": [3, 7, 11, 14, 18, 2, 9, 13, 15, 9, 11, 5, 17, 20, 4, 7, 11, 15, 22, 2, 13, 17, 7, 11, 17, 0, 4, 11, 22, 2, 9, 17, 2, 17, 21, 0, 11, 15, 19, 2, 13, 17, 21, 4, 8, 12, 15, 2, 17, 8, 10], \"y\": [0.5707233990836523, 1.0383297403663199, 1.576397311157333, 0.1671727209903915, 0.5707233990836523, 1.1087909698746663, -1.04347931328939, 1.1087909698746663, -0.5694674056877826, -2.0491532253630713, -2.2477257812502316, -0.7039842983855363, 0.5066677358942463, 0.1671727209903915, 0.1671727209903915, 0.9742740771769126, -0.9089624205916363, 0.23763395049873903, 0.839757184479159, 0.9038128476685662, 0.5707233990836523, 0.4362065063858987, -0.37089484980062243, -0.5054117424983761, 0.37215084319649266, 2.33865970311127, 1.0383297403663199, 0.1671727209903915, 0.9742740771769126, -0.0313998348967682, -0.6399286351961296, -0.8385011910832899, 0.10311705780098541, 0.10311705780098541, -2.5167595666457383, -1.844175103156971, -0.1018610644051152, 0.37215084319649266, 0.23763395049873903, -0.0313998348967682, -0.5694674056877826, 0.1671727209903915, 0.7052402917814059, 0.03265582829263842, -1.1075349764787965, -1.9786919958547244, 0.5707233990836523, -0.5054117424983761, 1.2433078625724199, -0.8385011910832899, 0.03265582829263842], \"mode\": \"markers\", \"marker\": {\"color\": \"#C2B280\"}, \"name\": 7}, {\"type\": \"scatter\", \"x\": [14, 15], \"y\": [0.7071067811865476, -0.7071067811865476], \"mode\": \"markers\", \"marker\": {\"color\": \"#848482\"}, \"name\": 8}, {\"type\": \"scatter\", \"x\": [8, 23, 3, 10, 14, 17, 1, 12], \"y\": [0.675226318299084, -0.8787191813481243, 0.7344242420951677, 0.6900257992481049, 0.897218532534399, 0.5420309897578944, -1.0859119146344185, -1.5742947859521124], \"mode\": \"markers\", \"marker\": {\"color\": \"#008856\"}, \"name\": 9}, {\"type\": \"scatter\", \"x\": [1, 1, 16], \"y\": [0.7135766879572539, 0.42940898036365727, -1.1429856683209112], \"mode\": \"markers\", \"marker\": {\"color\": \"#0067A5\"}, \"name\": 11}, {\"type\": \"scatter\", \"x\": [4, 12, 15, 19], \"y\": [0.7166755501525801, 0.522322858585779, 0.2307938212355767, -1.4697922299739365], \"mode\": \"markers\", \"marker\": {\"color\": \"#F99379\"}, \"name\": 12}], {\"title\": \"Normalized download speed by hour to the date 2019-02-05 10:43:24\", \"xaxis\": {\"title\": \"Hour of the day\"}, \"yaxis\": {\"title\": \"Difference to normalized speeds (Mbps)\"}}, {\"showLink\": true, \"linkText\": \"Export to plot.ly\"})});</script>"
      ]
     },
     "metadata": {},
     "output_type": "display_data"
    }
   ],
   "source": [
    "t=\"Normalized download speed by hour \"+ title_tail\n",
    "traces=[]\n",
    "for device in device_numbers_d:\n",
    "    subset=download_df[download_df[\"SK_PI\"]==device]\n",
    "    trace = go.Scatter(\n",
    "        x = subset['hour'],\n",
    "        y=(subset['DOWNLOAD']-subset['DOWNLOAD'].mean())/subset['DOWNLOAD'].std(),\n",
    "        mode = 'markers',\n",
    "        marker = dict(color=colors[device]),\n",
    "        name = device\n",
    "    )\n",
    "    traces.append(trace)\n",
    "layout = go.Layout(\n",
    "        title=t,\n",
    "        xaxis=dict(title=\"Hour of the day\"),\n",
    "        yaxis=dict(title=\"Difference to normalized speeds (Mbps)\")\n",
    "        )\n",
    "data = traces\n",
    "fig = go.Figure(data=data, layout=layout)\n",
    "iplot(fig)"
   ]
  },
  {
   "cell_type": "code",
   "execution_count": 100,
   "metadata": {},
   "outputs": [
    {
     "data": {
      "application/vnd.plotly.v1+json": {
       "data": [
        {
         "marker": {
          "color": "#222222"
         },
         "name": "0",
         "type": "box",
         "y": [
          4.29056,
          5.0483199999999995,
          1.60768,
          2.2528,
          6.01088,
          8.47872,
          11.1616
         ]
        },
        {
         "marker": {
          "color": "#F3C300"
         },
         "name": "1",
         "type": "box",
         "y": [
          7.7312,
          10.649600000000001,
          6.656000000000001,
          7.08608
         ]
        },
        {
         "marker": {
          "color": "#875692"
         },
         "name": "2",
         "type": "box",
         "y": [
          9.02144,
          4.18816,
          5.4784,
          9.66656
         ]
        },
        {
         "marker": {
          "color": "#F38400"
         },
         "name": "3",
         "type": "box",
         "y": [
          4.9356800000000005,
          10.199,
          4.61824,
          7.08608,
          6.01088
         ]
        },
        {
         "marker": {
          "color": "#A1CAF1"
         },
         "name": "4",
         "type": "box",
         "y": [
          5.79584,
          10.199,
          11.8784
         ]
        },
        {
         "marker": {
          "color": "#BE0032"
         },
         "name": "5",
         "type": "box",
         "y": [
          11.3664,
          11.8784,
          5.4784,
          3.54304,
          4.18816,
          6.76864,
          6.76864,
          4.9356800000000005
         ]
        },
        {
         "marker": {
          "color": "#C2B280"
         },
         "name": "6",
         "type": "box",
         "y": [
          9.66656
         ]
        },
        {
         "marker": {
          "color": "#848482"
         },
         "name": "7",
         "type": "box",
         "y": [
          4.9356800000000005,
          6.76864,
          9.33888,
          10.649600000000001,
          4.4032,
          3.86048,
          3.86048,
          2.7955200000000002,
          5.90848
         ]
        },
        {
         "marker": {
          "color": "#008856"
         },
         "name": "8",
         "type": "box",
         "y": [
          10.8544,
          10.0966
         ]
        },
        {
         "marker": {
          "color": "#E68FAC"
         },
         "name": "9",
         "type": "box",
         "y": [
          7.08608,
          5.4784,
          2.03776,
          6.123520000000001
         ]
        },
        {
         "marker": {
          "color": "#0067A5"
         },
         "name": "10",
         "type": "box",
         "y": [
          7.7312,
          2.03776,
          9.8816,
          7.51616
         ]
        },
        {
         "marker": {
          "color": "#F99379"
         },
         "name": "11",
         "type": "box",
         "y": [
          10.199,
          5.150720000000001,
          4.18816,
          2.36544,
          1.39264,
          5.4784,
          6.9836800000000006,
          6.76864
         ]
        },
        {
         "marker": {
          "color": "#604E97"
         },
         "name": "12",
         "type": "box",
         "y": [
          1.29024,
          5.365760000000001,
          2.89792,
          1.60768
         ]
        },
        {
         "marker": {
          "color": "#F6A600"
         },
         "name": "13",
         "type": "box",
         "y": [
          0.629,
          4.29056,
          3.44064,
          5.79584,
          5.79584
         ]
        },
        {
         "marker": {
          "color": "#B3446C"
         },
         "name": "14",
         "type": "box",
         "y": [
          9.12384,
          8.26368,
          4.4032,
          7.7312
         ]
        },
        {
         "marker": {
          "color": "#DCD300"
         },
         "name": "15",
         "type": "box",
         "y": [
          2.36544,
          6.656000000000001,
          8.9088
         ]
        },
        {
         "marker": {
          "color": "#882D17"
         },
         "name": "16",
         "type": "box",
         "y": [
          4.72064,
          10.199,
          3.65568,
          1.39264,
          4.5056,
          1.72032
         ]
        },
        {
         "marker": {
          "color": "#8DB600"
         },
         "name": "17",
         "type": "box",
         "y": [
          8.04864
         ]
        },
        {
         "marker": {
          "color": "#654522"
         },
         "name": "18",
         "type": "box",
         "y": [
          11.1616,
          6.33856,
          4.72064,
          7.61856,
          0.839
         ]
        },
        {
         "marker": {
          "color": "#E25822"
         },
         "name": "19",
         "type": "box",
         "y": [
          4.5056,
          8.16128
         ]
        },
        {
         "marker": {
          "color": "#2B3D26"
         },
         "name": "20",
         "type": "box",
         "y": [
          2.6828800000000004,
          2.2528,
          2.7955200000000002,
          2.03776,
          3.54304
         ]
        },
        {
         "marker": {
          "color": "#F2F3F4"
         },
         "name": "21",
         "type": "box",
         "y": [
          4.83328,
          5.90848
         ]
        },
        {
         "marker": {
          "color": "#222222"
         },
         "name": "22",
         "type": "box",
         "y": [
          5.4784,
          1.8227200000000001,
          1.0752000000000002,
          0.21,
          1.29024,
          0.315
         ]
        },
        {
         "marker": {
          "color": "#F3C300"
         },
         "name": "23",
         "type": "box",
         "y": [
          9.984,
          6.656000000000001,
          5.79584
         ]
        },
        {
         "marker": {
          "color": "red"
         },
         "mode": "markers",
         "name": "50Mbps",
         "type": "scatter",
         "x": [
          0,
          1,
          2,
          3,
          4,
          5,
          6,
          7,
          8,
          9,
          10,
          11,
          12,
          13,
          14,
          15,
          16,
          17,
          18,
          19,
          20,
          21,
          22,
          23
         ],
         "y": [
          50,
          50,
          50,
          50,
          50,
          50,
          50,
          50,
          50,
          50,
          50,
          50,
          50,
          50,
          50,
          50,
          50,
          50,
          50,
          50,
          50,
          50,
          50,
          50
         ]
        }
       ],
       "layout": {
        "title": "Download speed by hour for the device 2  to the date 2019-02-05 10:57:47",
        "xaxis": {
         "title": "Hour of the day"
        },
        "yaxis": {
         "rangemode": "tozero",
         "title": "Device Number"
        }
       }
      },
      "text/html": [
       "<div id=\"5f191b33-535a-47b4-93a5-55c53ac466fd\" style=\"height: 525px; width: 100%;\" class=\"plotly-graph-div\"></div><script type=\"text/javascript\">require([\"plotly\"], function(Plotly) { window.PLOTLYENV=window.PLOTLYENV || {};window.PLOTLYENV.BASE_URL=\"https://plot.ly\";Plotly.newPlot(\"5f191b33-535a-47b4-93a5-55c53ac466fd\", [{\"type\": \"box\", \"y\": [4.29056, 5.0483199999999995, 1.60768, 2.2528, 6.01088, 8.47872, 11.1616], \"name\": \"0\", \"marker\": {\"color\": \"#222222\"}}, {\"type\": \"box\", \"y\": [7.7312, 10.649600000000001, 6.656000000000001, 7.08608], \"name\": \"1\", \"marker\": {\"color\": \"#F3C300\"}}, {\"type\": \"box\", \"y\": [9.02144, 4.18816, 5.4784, 9.66656], \"name\": \"2\", \"marker\": {\"color\": \"#875692\"}}, {\"type\": \"box\", \"y\": [4.9356800000000005, 10.199, 4.61824, 7.08608, 6.01088], \"name\": \"3\", \"marker\": {\"color\": \"#F38400\"}}, {\"type\": \"box\", \"y\": [5.79584, 10.199, 11.8784], \"name\": \"4\", \"marker\": {\"color\": \"#A1CAF1\"}}, {\"type\": \"box\", \"y\": [11.3664, 11.8784, 5.4784, 3.54304, 4.18816, 6.76864, 6.76864, 4.9356800000000005], \"name\": \"5\", \"marker\": {\"color\": \"#BE0032\"}}, {\"type\": \"box\", \"y\": [9.66656], \"name\": \"6\", \"marker\": {\"color\": \"#C2B280\"}}, {\"type\": \"box\", \"y\": [4.9356800000000005, 6.76864, 9.33888, 10.649600000000001, 4.4032, 3.86048, 3.86048, 2.7955200000000002, 5.90848], \"name\": \"7\", \"marker\": {\"color\": \"#848482\"}}, {\"type\": \"box\", \"y\": [10.8544, 10.0966], \"name\": \"8\", \"marker\": {\"color\": \"#008856\"}}, {\"type\": \"box\", \"y\": [7.08608, 5.4784, 2.03776, 6.123520000000001], \"name\": \"9\", \"marker\": {\"color\": \"#E68FAC\"}}, {\"type\": \"box\", \"y\": [7.7312, 2.03776, 9.8816, 7.51616], \"name\": \"10\", \"marker\": {\"color\": \"#0067A5\"}}, {\"type\": \"box\", \"y\": [10.199, 5.150720000000001, 4.18816, 2.36544, 1.39264, 5.4784, 6.9836800000000006, 6.76864], \"name\": \"11\", \"marker\": {\"color\": \"#F99379\"}}, {\"type\": \"box\", \"y\": [1.29024, 5.365760000000001, 2.89792, 1.60768], \"name\": \"12\", \"marker\": {\"color\": \"#604E97\"}}, {\"type\": \"box\", \"y\": [0.629, 4.29056, 3.44064, 5.79584, 5.79584], \"name\": \"13\", \"marker\": {\"color\": \"#F6A600\"}}, {\"type\": \"box\", \"y\": [9.12384, 8.26368, 4.4032, 7.7312], \"name\": \"14\", \"marker\": {\"color\": \"#B3446C\"}}, {\"type\": \"box\", \"y\": [2.36544, 6.656000000000001, 8.9088], \"name\": \"15\", \"marker\": {\"color\": \"#DCD300\"}}, {\"type\": \"box\", \"y\": [4.72064, 10.199, 3.65568, 1.39264, 4.5056, 1.72032], \"name\": \"16\", \"marker\": {\"color\": \"#882D17\"}}, {\"type\": \"box\", \"y\": [8.04864], \"name\": \"17\", \"marker\": {\"color\": \"#8DB600\"}}, {\"type\": \"box\", \"y\": [11.1616, 6.33856, 4.72064, 7.61856, 0.839], \"name\": \"18\", \"marker\": {\"color\": \"#654522\"}}, {\"type\": \"box\", \"y\": [4.5056, 8.16128], \"name\": \"19\", \"marker\": {\"color\": \"#E25822\"}}, {\"type\": \"box\", \"y\": [2.6828800000000004, 2.2528, 2.7955200000000002, 2.03776, 3.54304], \"name\": \"20\", \"marker\": {\"color\": \"#2B3D26\"}}, {\"type\": \"box\", \"y\": [4.83328, 5.90848], \"name\": \"21\", \"marker\": {\"color\": \"#F2F3F4\"}}, {\"type\": \"box\", \"y\": [5.4784, 1.8227200000000001, 1.0752000000000002, 0.21, 1.29024, 0.315], \"name\": \"22\", \"marker\": {\"color\": \"#222222\"}}, {\"type\": \"box\", \"y\": [9.984, 6.656000000000001, 5.79584], \"name\": \"23\", \"marker\": {\"color\": \"#F3C300\"}}, {\"type\": \"scatter\", \"x\": [0, 1, 2, 3, 4, 5, 6, 7, 8, 9, 10, 11, 12, 13, 14, 15, 16, 17, 18, 19, 20, 21, 22, 23], \"y\": [50, 50, 50, 50, 50, 50, 50, 50, 50, 50, 50, 50, 50, 50, 50, 50, 50, 50, 50, 50, 50, 50, 50, 50], \"mode\": \"markers\", \"marker\": {\"color\": \"red\"}, \"name\": \"50Mbps\"}], {\"title\": \"Download speed by hour for the device 2  to the date 2019-02-05 10:57:47\", \"xaxis\": {\"title\": \"Hour of the day\"}, \"yaxis\": {\"title\": \"Device Number\", \"rangemode\": \"tozero\"}}, {\"showLink\": true, \"linkText\": \"Export to plot.ly\"})});</script>"
      ],
      "text/vnd.plotly.v1+html": [
       "<div id=\"5f191b33-535a-47b4-93a5-55c53ac466fd\" style=\"height: 525px; width: 100%;\" class=\"plotly-graph-div\"></div><script type=\"text/javascript\">require([\"plotly\"], function(Plotly) { window.PLOTLYENV=window.PLOTLYENV || {};window.PLOTLYENV.BASE_URL=\"https://plot.ly\";Plotly.newPlot(\"5f191b33-535a-47b4-93a5-55c53ac466fd\", [{\"type\": \"box\", \"y\": [4.29056, 5.0483199999999995, 1.60768, 2.2528, 6.01088, 8.47872, 11.1616], \"name\": \"0\", \"marker\": {\"color\": \"#222222\"}}, {\"type\": \"box\", \"y\": [7.7312, 10.649600000000001, 6.656000000000001, 7.08608], \"name\": \"1\", \"marker\": {\"color\": \"#F3C300\"}}, {\"type\": \"box\", \"y\": [9.02144, 4.18816, 5.4784, 9.66656], \"name\": \"2\", \"marker\": {\"color\": \"#875692\"}}, {\"type\": \"box\", \"y\": [4.9356800000000005, 10.199, 4.61824, 7.08608, 6.01088], \"name\": \"3\", \"marker\": {\"color\": \"#F38400\"}}, {\"type\": \"box\", \"y\": [5.79584, 10.199, 11.8784], \"name\": \"4\", \"marker\": {\"color\": \"#A1CAF1\"}}, {\"type\": \"box\", \"y\": [11.3664, 11.8784, 5.4784, 3.54304, 4.18816, 6.76864, 6.76864, 4.9356800000000005], \"name\": \"5\", \"marker\": {\"color\": \"#BE0032\"}}, {\"type\": \"box\", \"y\": [9.66656], \"name\": \"6\", \"marker\": {\"color\": \"#C2B280\"}}, {\"type\": \"box\", \"y\": [4.9356800000000005, 6.76864, 9.33888, 10.649600000000001, 4.4032, 3.86048, 3.86048, 2.7955200000000002, 5.90848], \"name\": \"7\", \"marker\": {\"color\": \"#848482\"}}, {\"type\": \"box\", \"y\": [10.8544, 10.0966], \"name\": \"8\", \"marker\": {\"color\": \"#008856\"}}, {\"type\": \"box\", \"y\": [7.08608, 5.4784, 2.03776, 6.123520000000001], \"name\": \"9\", \"marker\": {\"color\": \"#E68FAC\"}}, {\"type\": \"box\", \"y\": [7.7312, 2.03776, 9.8816, 7.51616], \"name\": \"10\", \"marker\": {\"color\": \"#0067A5\"}}, {\"type\": \"box\", \"y\": [10.199, 5.150720000000001, 4.18816, 2.36544, 1.39264, 5.4784, 6.9836800000000006, 6.76864], \"name\": \"11\", \"marker\": {\"color\": \"#F99379\"}}, {\"type\": \"box\", \"y\": [1.29024, 5.365760000000001, 2.89792, 1.60768], \"name\": \"12\", \"marker\": {\"color\": \"#604E97\"}}, {\"type\": \"box\", \"y\": [0.629, 4.29056, 3.44064, 5.79584, 5.79584], \"name\": \"13\", \"marker\": {\"color\": \"#F6A600\"}}, {\"type\": \"box\", \"y\": [9.12384, 8.26368, 4.4032, 7.7312], \"name\": \"14\", \"marker\": {\"color\": \"#B3446C\"}}, {\"type\": \"box\", \"y\": [2.36544, 6.656000000000001, 8.9088], \"name\": \"15\", \"marker\": {\"color\": \"#DCD300\"}}, {\"type\": \"box\", \"y\": [4.72064, 10.199, 3.65568, 1.39264, 4.5056, 1.72032], \"name\": \"16\", \"marker\": {\"color\": \"#882D17\"}}, {\"type\": \"box\", \"y\": [8.04864], \"name\": \"17\", \"marker\": {\"color\": \"#8DB600\"}}, {\"type\": \"box\", \"y\": [11.1616, 6.33856, 4.72064, 7.61856, 0.839], \"name\": \"18\", \"marker\": {\"color\": \"#654522\"}}, {\"type\": \"box\", \"y\": [4.5056, 8.16128], \"name\": \"19\", \"marker\": {\"color\": \"#E25822\"}}, {\"type\": \"box\", \"y\": [2.6828800000000004, 2.2528, 2.7955200000000002, 2.03776, 3.54304], \"name\": \"20\", \"marker\": {\"color\": \"#2B3D26\"}}, {\"type\": \"box\", \"y\": [4.83328, 5.90848], \"name\": \"21\", \"marker\": {\"color\": \"#F2F3F4\"}}, {\"type\": \"box\", \"y\": [5.4784, 1.8227200000000001, 1.0752000000000002, 0.21, 1.29024, 0.315], \"name\": \"22\", \"marker\": {\"color\": \"#222222\"}}, {\"type\": \"box\", \"y\": [9.984, 6.656000000000001, 5.79584], \"name\": \"23\", \"marker\": {\"color\": \"#F3C300\"}}, {\"type\": \"scatter\", \"x\": [0, 1, 2, 3, 4, 5, 6, 7, 8, 9, 10, 11, 12, 13, 14, 15, 16, 17, 18, 19, 20, 21, 22, 23], \"y\": [50, 50, 50, 50, 50, 50, 50, 50, 50, 50, 50, 50, 50, 50, 50, 50, 50, 50, 50, 50, 50, 50, 50, 50], \"mode\": \"markers\", \"marker\": {\"color\": \"red\"}, \"name\": \"50Mbps\"}], {\"title\": \"Download speed by hour for the device 2  to the date 2019-02-05 10:57:47\", \"xaxis\": {\"title\": \"Hour of the day\"}, \"yaxis\": {\"title\": \"Device Number\", \"rangemode\": \"tozero\"}}, {\"showLink\": true, \"linkText\": \"Export to plot.ly\"})});</script>"
      ]
     },
     "metadata": {},
     "output_type": "display_data"
    }
   ],
   "source": [
    "device_number=2\n",
    "subset=download_df[download_df[\"SK_PI\"]==device_number]\n",
    "t=\"Download speed by hour for the device \" + str(device_number)+\" \"+ title_tail\n",
    "simple_boxplot(dataframe=subset,plot_value='DOWNLOAD',sort_value='hour',\n",
    "               title=t,\n",
    "               xtitle=\"Hour of the day\", downloadline=True)"
   ]
  },
  {
   "cell_type": "code",
   "execution_count": 64,
   "metadata": {},
   "outputs": [],
   "source": [
    "download_df[\"time_group\"]=\"\"\n",
    "download_df.loc[(download_df[\"hour\"]>23)|(download_df[\"hour\"]<=7),\"time_group\"]=\"night 23:00-07:00\"\n",
    "download_df.loc[(download_df[\"hour\"]>7)&(download_df[\"hour\"]<=17),\"time_group\"]=\"day 7:00-17:00\"\n",
    "download_df.loc[(download_df[\"hour\"]>17)&(download_df[\"hour\"]<=23),\"time_group\"]=\"evening 17:00-23:00\""
   ]
  },
  {
   "cell_type": "code",
   "execution_count": 66,
   "metadata": {},
   "outputs": [],
   "source": [
    "#subset=download_df[download_df[\"SK_PI\"]==device_number]\n",
    "#t=\"Upload speed by timegroup for the device \"+str(device_number)+title_tail\n",
    "#simple_boxplot(dataframe=subset,plot_value='DOWNLOAD',sort_value='time_group',\n",
    "#               title=t,\n",
    " #              ytitle=\"Mbps\",downloadline=True, jitter=True)"
   ]
  },
  {
   "cell_type": "code",
   "execution_count": 51,
   "metadata": {},
   "outputs": [],
   "source": [
    "download_df[\"weekday\"]=download_df[\"time\"].dt.weekday_name\n",
    "download_df[\"weekday\"] = pd.Categorical(download_df[\"weekday\"], [\"Monday\", \"Tuesday\", \"Wednesday\", \"Thursday\", \"Friday\", \"Saturday\", \"Sunday\"])"
   ]
  },
  {
   "cell_type": "code",
   "execution_count": 101,
   "metadata": {},
   "outputs": [
    {
     "data": {
      "application/vnd.plotly.v1+json": {
       "data": [
        {
         "boxpoints": "all",
         "jitter": 0.3,
         "marker": {
          "color": "#222222"
         },
         "name": "Monday",
         "pointpos": -1.8,
         "type": "box",
         "y": [
          10.649600000000001,
          11.8784,
          7.08608,
          5.365760000000001,
          3.65568,
          5.79584,
          5.0483199999999995,
          7.08608,
          3.86048,
          4.18816,
          7.7312,
          7.61856,
          0.21,
          5.79584,
          31.0272,
          27.3408,
          3.44064,
          3.75808,
          3.9731199999999998,
          3.86048,
          3.9731199999999998,
          3.86048,
          3.86048,
          3.9731199999999998,
          3.86048,
          3.65568,
          3.75808,
          3.86048,
          3.86048,
          3.75808,
          6.76864,
          6.87104,
          6.33856,
          6.87104,
          6.656000000000001,
          5.365760000000001,
          1.60768,
          6.76864,
          1.60768,
          5.90848,
          6.76864,
          6.656000000000001,
          6.5536,
          4.18816,
          2.7955200000000002,
          5.5808,
          1.72032,
          8.37632,
          4.9356800000000005,
          8.37632,
          6.01088,
          5.79584,
          6.5536,
          5.69344,
          6.87104,
          7.7312,
          18.0224,
          14.6432,
          10.752,
          2.2528
         ]
        },
        {
         "boxpoints": "all",
         "jitter": 0.3,
         "marker": {
          "color": "#F3C300"
         },
         "name": "Tuesday",
         "pointpos": -1.8,
         "type": "box",
         "y": [
          9.33888,
          5.4784,
          9.02144,
          6.76864,
          4.29056,
          4.5056,
          2.03776,
          6.01088,
          5.4784,
          6.656000000000001,
          35.5328,
          34.5088,
          30.6176,
          14.540799999999999,
          35.2256,
          3.86048,
          4.07552,
          3.86048,
          3.75808,
          3.86048,
          0.315,
          3.86048,
          3.86048,
          3.86048,
          3.75808,
          6.87104,
          5.79584,
          3.65568,
          6.76864,
          6.76864,
          6.76864,
          6.33856,
          6.123520000000001,
          6.01088,
          6.76864,
          6.656000000000001,
          0.9440000000000001,
          1.8227200000000001,
          4.4032,
          6.33856,
          6.76864,
          5.69344,
          6.01088,
          5.79584,
          6.01088,
          1.8227200000000001,
          5.69344,
          7.198720000000001,
          6.656000000000001,
          4.83328,
          3.44064,
          7.51616
         ]
        },
        {
         "boxpoints": "all",
         "jitter": 0.3,
         "marker": {
          "color": "#875692"
         },
         "name": "Wednesday",
         "pointpos": -1.8,
         "type": "box",
         "y": [
          3.2256,
          6.123520000000001,
          5.4784,
          2.89792,
          1.60768,
          6.01088,
          3.86048,
          2.36544,
          2.36544,
          0.839,
          1.29024,
          5.4784,
          35.6352,
          35.1232,
          34.816,
          35.5328,
          35.6352,
          31.744,
          3.54304,
          4.07552,
          4.07552,
          3.86048,
          3.86048,
          3.65568,
          3.9731199999999998,
          3.65568,
          3.86048,
          3.65568,
          3.86048,
          3.65568,
          5.365760000000001,
          5.79584,
          6.4409600000000005,
          6.76864,
          6.4409600000000005,
          3.75808,
          1.39264,
          1.39264,
          0.21,
          3.75808,
          5.5808,
          3.3280000000000003,
          10.3424,
          8.26368,
          6.87104,
          8.16128,
          5.79584,
          8.59136,
          38.809599999999996
         ]
        },
        {
         "boxpoints": "all",
         "jitter": 0.3,
         "marker": {
          "color": "#F38400"
         },
         "name": "Thursday",
         "pointpos": -1.8,
         "type": "box",
         "y": [
          6.22592,
          9.66656,
          7.7312,
          4.72064,
          4.5056,
          9.984,
          10.649600000000001,
          10.199,
          4.72064,
          1.8227200000000001,
          4.18816,
          6.76864,
          6.123520000000001,
          3.44064,
          1.72032,
          3.54304,
          8.47872,
          10.199,
          10.0966,
          6.9836800000000006,
          8.9088,
          8.16128,
          35.4304,
          41.062400000000004,
          41.67680000000001,
          3.86048,
          3.86048,
          3.65568,
          3.75808,
          3.86048,
          2.36544,
          3.9731199999999998,
          6.5536,
          6.33856,
          6.22592,
          6.22592,
          0.839,
          6.4409600000000005,
          3.01056,
          6.5536,
          5.5808,
          5.26336,
          5.26336
         ]
        },
        {
         "boxpoints": "all",
         "jitter": 0.3,
         "marker": {
          "color": "#A1CAF1"
         },
         "name": "Friday",
         "pointpos": -1.8,
         "type": "box",
         "y": [
          4.9356800000000005,
          4.9356800000000005,
          2.03776,
          9.12384,
          11.1616,
          4.83328,
          6.656000000000001,
          3.54304,
          5.4784,
          1.60768,
          2.2528,
          2.2528,
          5.79584,
          2.7955200000000002,
          1.39264,
          0.315,
          9.66656,
          9.66656,
          7.51616,
          5.79584,
          8.04864,
          42.086400000000005,
          42.086400000000005,
          3.75808,
          3.86048,
          3.86048,
          3.86048,
          3.9731199999999998,
          3.65568,
          3.9731199999999998,
          3.86048,
          3.9731199999999998,
          3.86048,
          3.86048,
          3.86048,
          3.75808,
          5.365760000000001,
          5.90848,
          5.26336,
          5.365760000000001,
          5.4784,
          6.01088,
          6.656000000000001,
          6.33856,
          4.29056,
          6.656000000000001,
          5.69344,
          6.76864,
          2.7955200000000002,
          6.76864,
          3.86048,
          5.4784,
          7.413760000000001,
          6.87104
         ]
        },
        {
         "boxpoints": "all",
         "jitter": 0.3,
         "marker": {
          "color": "#BE0032"
         },
         "name": "Saturday",
         "pointpos": -1.8,
         "type": "box",
         "y": [
          7.7312,
          11.3664,
          10.8544,
          1.29024,
          10.199,
          2.6828800000000004,
          6.656000000000001,
          4.29056,
          4.61824,
          4.4032,
          5.150720000000001,
          4.4032,
          1.0752000000000002,
          4.9356800000000005,
          11.1616,
          11.8784,
          6.76864,
          41.984,
          41.16480000000001,
          3.75808,
          3.75808,
          3.9731199999999998,
          3.75808,
          3.86048,
          3.86048,
          6.76864,
          5.79584,
          6.76864,
          5.4784,
          6.76864,
          6.4409600000000005,
          5.26336,
          6.76864,
          6.76864,
          6.656000000000001,
          6.5536,
          6.656000000000001,
          6.656000000000001,
          6.01088,
          5.79584,
          6.4409600000000005,
          6.54336,
          3.44064,
          6.87104,
          8.16128,
          5.150720000000001,
          6.9836800000000006,
          7.9462399999999995,
          6.76864,
          6.76864,
          2.58048,
          38.4,
          30.208000000000002,
          19.456,
          12.288,
          15.2576,
          14.848,
          14.233600000000001,
          10.649600000000001
         ]
        },
        {
         "boxpoints": "all",
         "jitter": 0.3,
         "marker": {
          "color": "#C2B280"
         },
         "name": "Sunday",
         "pointpos": -1.8,
         "type": "box",
         "y": [
          10.199,
          6.76864,
          9.8816,
          8.26368,
          6.33856,
          5.90848,
          7.08608,
          4.18816,
          2.03776,
          0.629,
          1.39264,
          2.7955200000000002,
          5.90848,
          39.2192,
          3.9731199999999998,
          3.86048,
          4.07552,
          3.75808,
          2.58048,
          3.9731199999999998,
          4.07552,
          3.86048,
          3.9731199999999998,
          5.150720000000001,
          6.87104,
          6.5536,
          6.87104,
          6.87104,
          6.01088,
          6.76864,
          6.76864,
          6.76864,
          1.8227200000000001,
          6.123520000000001,
          6.76864,
          3.2256,
          6.656000000000001,
          6.01088,
          5.79584,
          5.69344,
          3.75808,
          1.8227200000000001,
          7.51616,
          8.26368,
          9.12384,
          6.87104,
          7.51616,
          8.04864,
          7.51616,
          7.30112,
          3.65568,
          6.4409600000000005,
          7.198720000000001,
          6.9836800000000006,
          6.656000000000001,
          30.6176,
          30.3104,
          31.744,
          29.2864
         ]
        }
       ],
       "layout": {
        "title": "Download speed by day of the week to the date 2019-02-05 10:57:47",
        "xaxis": {
         "title": ""
        },
        "yaxis": {
         "rangemode": "tozero",
         "title": "Mbps"
        }
       }
      },
      "text/html": [
       "<div id=\"a74041d5-112d-401d-93c2-f5beda204c89\" style=\"height: 525px; width: 100%;\" class=\"plotly-graph-div\"></div><script type=\"text/javascript\">require([\"plotly\"], function(Plotly) { window.PLOTLYENV=window.PLOTLYENV || {};window.PLOTLYENV.BASE_URL=\"https://plot.ly\";Plotly.newPlot(\"a74041d5-112d-401d-93c2-f5beda204c89\", [{\"type\": \"box\", \"y\": [10.649600000000001, 11.8784, 7.08608, 5.365760000000001, 3.65568, 5.79584, 5.0483199999999995, 7.08608, 3.86048, 4.18816, 7.7312, 7.61856, 0.21, 5.79584, 31.0272, 27.3408, 3.44064, 3.75808, 3.9731199999999998, 3.86048, 3.9731199999999998, 3.86048, 3.86048, 3.9731199999999998, 3.86048, 3.65568, 3.75808, 3.86048, 3.86048, 3.75808, 6.76864, 6.87104, 6.33856, 6.87104, 6.656000000000001, 5.365760000000001, 1.60768, 6.76864, 1.60768, 5.90848, 6.76864, 6.656000000000001, 6.5536, 4.18816, 2.7955200000000002, 5.5808, 1.72032, 8.37632, 4.9356800000000005, 8.37632, 6.01088, 5.79584, 6.5536, 5.69344, 6.87104, 7.7312, 18.0224, 14.6432, 10.752, 2.2528], \"name\": \"Monday\", \"marker\": {\"color\": \"#222222\"}, \"boxpoints\": \"all\", \"jitter\": 0.3, \"pointpos\": -1.8}, {\"type\": \"box\", \"y\": [9.33888, 5.4784, 9.02144, 6.76864, 4.29056, 4.5056, 2.03776, 6.01088, 5.4784, 6.656000000000001, 35.5328, 34.5088, 30.6176, 14.540799999999999, 35.2256, 3.86048, 4.07552, 3.86048, 3.75808, 3.86048, 0.315, 3.86048, 3.86048, 3.86048, 3.75808, 6.87104, 5.79584, 3.65568, 6.76864, 6.76864, 6.76864, 6.33856, 6.123520000000001, 6.01088, 6.76864, 6.656000000000001, 0.9440000000000001, 1.8227200000000001, 4.4032, 6.33856, 6.76864, 5.69344, 6.01088, 5.79584, 6.01088, 1.8227200000000001, 5.69344, 7.198720000000001, 6.656000000000001, 4.83328, 3.44064, 7.51616], \"name\": \"Tuesday\", \"marker\": {\"color\": \"#F3C300\"}, \"boxpoints\": \"all\", \"jitter\": 0.3, \"pointpos\": -1.8}, {\"type\": \"box\", \"y\": [3.2256, 6.123520000000001, 5.4784, 2.89792, 1.60768, 6.01088, 3.86048, 2.36544, 2.36544, 0.839, 1.29024, 5.4784, 35.6352, 35.1232, 34.816, 35.5328, 35.6352, 31.744, 3.54304, 4.07552, 4.07552, 3.86048, 3.86048, 3.65568, 3.9731199999999998, 3.65568, 3.86048, 3.65568, 3.86048, 3.65568, 5.365760000000001, 5.79584, 6.4409600000000005, 6.76864, 6.4409600000000005, 3.75808, 1.39264, 1.39264, 0.21, 3.75808, 5.5808, 3.3280000000000003, 10.3424, 8.26368, 6.87104, 8.16128, 5.79584, 8.59136, 38.809599999999996], \"name\": \"Wednesday\", \"marker\": {\"color\": \"#875692\"}, \"boxpoints\": \"all\", \"jitter\": 0.3, \"pointpos\": -1.8}, {\"type\": \"box\", \"y\": [6.22592, 9.66656, 7.7312, 4.72064, 4.5056, 9.984, 10.649600000000001, 10.199, 4.72064, 1.8227200000000001, 4.18816, 6.76864, 6.123520000000001, 3.44064, 1.72032, 3.54304, 8.47872, 10.199, 10.0966, 6.9836800000000006, 8.9088, 8.16128, 35.4304, 41.062400000000004, 41.67680000000001, 3.86048, 3.86048, 3.65568, 3.75808, 3.86048, 2.36544, 3.9731199999999998, 6.5536, 6.33856, 6.22592, 6.22592, 0.839, 6.4409600000000005, 3.01056, 6.5536, 5.5808, 5.26336, 5.26336], \"name\": \"Thursday\", \"marker\": {\"color\": \"#F38400\"}, \"boxpoints\": \"all\", \"jitter\": 0.3, \"pointpos\": -1.8}, {\"type\": \"box\", \"y\": [4.9356800000000005, 4.9356800000000005, 2.03776, 9.12384, 11.1616, 4.83328, 6.656000000000001, 3.54304, 5.4784, 1.60768, 2.2528, 2.2528, 5.79584, 2.7955200000000002, 1.39264, 0.315, 9.66656, 9.66656, 7.51616, 5.79584, 8.04864, 42.086400000000005, 42.086400000000005, 3.75808, 3.86048, 3.86048, 3.86048, 3.9731199999999998, 3.65568, 3.9731199999999998, 3.86048, 3.9731199999999998, 3.86048, 3.86048, 3.86048, 3.75808, 5.365760000000001, 5.90848, 5.26336, 5.365760000000001, 5.4784, 6.01088, 6.656000000000001, 6.33856, 4.29056, 6.656000000000001, 5.69344, 6.76864, 2.7955200000000002, 6.76864, 3.86048, 5.4784, 7.413760000000001, 6.87104], \"name\": \"Friday\", \"marker\": {\"color\": \"#A1CAF1\"}, \"boxpoints\": \"all\", \"jitter\": 0.3, \"pointpos\": -1.8}, {\"type\": \"box\", \"y\": [7.7312, 11.3664, 10.8544, 1.29024, 10.199, 2.6828800000000004, 6.656000000000001, 4.29056, 4.61824, 4.4032, 5.150720000000001, 4.4032, 1.0752000000000002, 4.9356800000000005, 11.1616, 11.8784, 6.76864, 41.984, 41.16480000000001, 3.75808, 3.75808, 3.9731199999999998, 3.75808, 3.86048, 3.86048, 6.76864, 5.79584, 6.76864, 5.4784, 6.76864, 6.4409600000000005, 5.26336, 6.76864, 6.76864, 6.656000000000001, 6.5536, 6.656000000000001, 6.656000000000001, 6.01088, 5.79584, 6.4409600000000005, 6.54336, 3.44064, 6.87104, 8.16128, 5.150720000000001, 6.9836800000000006, 7.9462399999999995, 6.76864, 6.76864, 2.58048, 38.4, 30.208000000000002, 19.456, 12.288, 15.2576, 14.848, 14.233600000000001, 10.649600000000001], \"name\": \"Saturday\", \"marker\": {\"color\": \"#BE0032\"}, \"boxpoints\": \"all\", \"jitter\": 0.3, \"pointpos\": -1.8}, {\"type\": \"box\", \"y\": [10.199, 6.76864, 9.8816, 8.26368, 6.33856, 5.90848, 7.08608, 4.18816, 2.03776, 0.629, 1.39264, 2.7955200000000002, 5.90848, 39.2192, 3.9731199999999998, 3.86048, 4.07552, 3.75808, 2.58048, 3.9731199999999998, 4.07552, 3.86048, 3.9731199999999998, 5.150720000000001, 6.87104, 6.5536, 6.87104, 6.87104, 6.01088, 6.76864, 6.76864, 6.76864, 1.8227200000000001, 6.123520000000001, 6.76864, 3.2256, 6.656000000000001, 6.01088, 5.79584, 5.69344, 3.75808, 1.8227200000000001, 7.51616, 8.26368, 9.12384, 6.87104, 7.51616, 8.04864, 7.51616, 7.30112, 3.65568, 6.4409600000000005, 7.198720000000001, 6.9836800000000006, 6.656000000000001, 30.6176, 30.3104, 31.744, 29.2864], \"name\": \"Sunday\", \"marker\": {\"color\": \"#C2B280\"}, \"boxpoints\": \"all\", \"jitter\": 0.3, \"pointpos\": -1.8}], {\"title\": \"Download speed by day of the week to the date 2019-02-05 10:57:47\", \"xaxis\": {\"title\": \"\"}, \"yaxis\": {\"title\": \"Mbps\", \"rangemode\": \"tozero\"}}, {\"showLink\": true, \"linkText\": \"Export to plot.ly\"})});</script>"
      ],
      "text/vnd.plotly.v1+html": [
       "<div id=\"a74041d5-112d-401d-93c2-f5beda204c89\" style=\"height: 525px; width: 100%;\" class=\"plotly-graph-div\"></div><script type=\"text/javascript\">require([\"plotly\"], function(Plotly) { window.PLOTLYENV=window.PLOTLYENV || {};window.PLOTLYENV.BASE_URL=\"https://plot.ly\";Plotly.newPlot(\"a74041d5-112d-401d-93c2-f5beda204c89\", [{\"type\": \"box\", \"y\": [10.649600000000001, 11.8784, 7.08608, 5.365760000000001, 3.65568, 5.79584, 5.0483199999999995, 7.08608, 3.86048, 4.18816, 7.7312, 7.61856, 0.21, 5.79584, 31.0272, 27.3408, 3.44064, 3.75808, 3.9731199999999998, 3.86048, 3.9731199999999998, 3.86048, 3.86048, 3.9731199999999998, 3.86048, 3.65568, 3.75808, 3.86048, 3.86048, 3.75808, 6.76864, 6.87104, 6.33856, 6.87104, 6.656000000000001, 5.365760000000001, 1.60768, 6.76864, 1.60768, 5.90848, 6.76864, 6.656000000000001, 6.5536, 4.18816, 2.7955200000000002, 5.5808, 1.72032, 8.37632, 4.9356800000000005, 8.37632, 6.01088, 5.79584, 6.5536, 5.69344, 6.87104, 7.7312, 18.0224, 14.6432, 10.752, 2.2528], \"name\": \"Monday\", \"marker\": {\"color\": \"#222222\"}, \"boxpoints\": \"all\", \"jitter\": 0.3, \"pointpos\": -1.8}, {\"type\": \"box\", \"y\": [9.33888, 5.4784, 9.02144, 6.76864, 4.29056, 4.5056, 2.03776, 6.01088, 5.4784, 6.656000000000001, 35.5328, 34.5088, 30.6176, 14.540799999999999, 35.2256, 3.86048, 4.07552, 3.86048, 3.75808, 3.86048, 0.315, 3.86048, 3.86048, 3.86048, 3.75808, 6.87104, 5.79584, 3.65568, 6.76864, 6.76864, 6.76864, 6.33856, 6.123520000000001, 6.01088, 6.76864, 6.656000000000001, 0.9440000000000001, 1.8227200000000001, 4.4032, 6.33856, 6.76864, 5.69344, 6.01088, 5.79584, 6.01088, 1.8227200000000001, 5.69344, 7.198720000000001, 6.656000000000001, 4.83328, 3.44064, 7.51616], \"name\": \"Tuesday\", \"marker\": {\"color\": \"#F3C300\"}, \"boxpoints\": \"all\", \"jitter\": 0.3, \"pointpos\": -1.8}, {\"type\": \"box\", \"y\": [3.2256, 6.123520000000001, 5.4784, 2.89792, 1.60768, 6.01088, 3.86048, 2.36544, 2.36544, 0.839, 1.29024, 5.4784, 35.6352, 35.1232, 34.816, 35.5328, 35.6352, 31.744, 3.54304, 4.07552, 4.07552, 3.86048, 3.86048, 3.65568, 3.9731199999999998, 3.65568, 3.86048, 3.65568, 3.86048, 3.65568, 5.365760000000001, 5.79584, 6.4409600000000005, 6.76864, 6.4409600000000005, 3.75808, 1.39264, 1.39264, 0.21, 3.75808, 5.5808, 3.3280000000000003, 10.3424, 8.26368, 6.87104, 8.16128, 5.79584, 8.59136, 38.809599999999996], \"name\": \"Wednesday\", \"marker\": {\"color\": \"#875692\"}, \"boxpoints\": \"all\", \"jitter\": 0.3, \"pointpos\": -1.8}, {\"type\": \"box\", \"y\": [6.22592, 9.66656, 7.7312, 4.72064, 4.5056, 9.984, 10.649600000000001, 10.199, 4.72064, 1.8227200000000001, 4.18816, 6.76864, 6.123520000000001, 3.44064, 1.72032, 3.54304, 8.47872, 10.199, 10.0966, 6.9836800000000006, 8.9088, 8.16128, 35.4304, 41.062400000000004, 41.67680000000001, 3.86048, 3.86048, 3.65568, 3.75808, 3.86048, 2.36544, 3.9731199999999998, 6.5536, 6.33856, 6.22592, 6.22592, 0.839, 6.4409600000000005, 3.01056, 6.5536, 5.5808, 5.26336, 5.26336], \"name\": \"Thursday\", \"marker\": {\"color\": \"#F38400\"}, \"boxpoints\": \"all\", \"jitter\": 0.3, \"pointpos\": -1.8}, {\"type\": \"box\", \"y\": [4.9356800000000005, 4.9356800000000005, 2.03776, 9.12384, 11.1616, 4.83328, 6.656000000000001, 3.54304, 5.4784, 1.60768, 2.2528, 2.2528, 5.79584, 2.7955200000000002, 1.39264, 0.315, 9.66656, 9.66656, 7.51616, 5.79584, 8.04864, 42.086400000000005, 42.086400000000005, 3.75808, 3.86048, 3.86048, 3.86048, 3.9731199999999998, 3.65568, 3.9731199999999998, 3.86048, 3.9731199999999998, 3.86048, 3.86048, 3.86048, 3.75808, 5.365760000000001, 5.90848, 5.26336, 5.365760000000001, 5.4784, 6.01088, 6.656000000000001, 6.33856, 4.29056, 6.656000000000001, 5.69344, 6.76864, 2.7955200000000002, 6.76864, 3.86048, 5.4784, 7.413760000000001, 6.87104], \"name\": \"Friday\", \"marker\": {\"color\": \"#A1CAF1\"}, \"boxpoints\": \"all\", \"jitter\": 0.3, \"pointpos\": -1.8}, {\"type\": \"box\", \"y\": [7.7312, 11.3664, 10.8544, 1.29024, 10.199, 2.6828800000000004, 6.656000000000001, 4.29056, 4.61824, 4.4032, 5.150720000000001, 4.4032, 1.0752000000000002, 4.9356800000000005, 11.1616, 11.8784, 6.76864, 41.984, 41.16480000000001, 3.75808, 3.75808, 3.9731199999999998, 3.75808, 3.86048, 3.86048, 6.76864, 5.79584, 6.76864, 5.4784, 6.76864, 6.4409600000000005, 5.26336, 6.76864, 6.76864, 6.656000000000001, 6.5536, 6.656000000000001, 6.656000000000001, 6.01088, 5.79584, 6.4409600000000005, 6.54336, 3.44064, 6.87104, 8.16128, 5.150720000000001, 6.9836800000000006, 7.9462399999999995, 6.76864, 6.76864, 2.58048, 38.4, 30.208000000000002, 19.456, 12.288, 15.2576, 14.848, 14.233600000000001, 10.649600000000001], \"name\": \"Saturday\", \"marker\": {\"color\": \"#BE0032\"}, \"boxpoints\": \"all\", \"jitter\": 0.3, \"pointpos\": -1.8}, {\"type\": \"box\", \"y\": [10.199, 6.76864, 9.8816, 8.26368, 6.33856, 5.90848, 7.08608, 4.18816, 2.03776, 0.629, 1.39264, 2.7955200000000002, 5.90848, 39.2192, 3.9731199999999998, 3.86048, 4.07552, 3.75808, 2.58048, 3.9731199999999998, 4.07552, 3.86048, 3.9731199999999998, 5.150720000000001, 6.87104, 6.5536, 6.87104, 6.87104, 6.01088, 6.76864, 6.76864, 6.76864, 1.8227200000000001, 6.123520000000001, 6.76864, 3.2256, 6.656000000000001, 6.01088, 5.79584, 5.69344, 3.75808, 1.8227200000000001, 7.51616, 8.26368, 9.12384, 6.87104, 7.51616, 8.04864, 7.51616, 7.30112, 3.65568, 6.4409600000000005, 7.198720000000001, 6.9836800000000006, 6.656000000000001, 30.6176, 30.3104, 31.744, 29.2864], \"name\": \"Sunday\", \"marker\": {\"color\": \"#C2B280\"}, \"boxpoints\": \"all\", \"jitter\": 0.3, \"pointpos\": -1.8}], {\"title\": \"Download speed by day of the week to the date 2019-02-05 10:57:47\", \"xaxis\": {\"title\": \"\"}, \"yaxis\": {\"title\": \"Mbps\", \"rangemode\": \"tozero\"}}, {\"showLink\": true, \"linkText\": \"Export to plot.ly\"})});</script>"
      ]
     },
     "metadata": {},
     "output_type": "display_data"
    }
   ],
   "source": [
    "device_number=2\n",
    "subset=download_df[download_df[\"SK_PI\"]==device_number]\n",
    "t=\"Download speed by day of the week\"+title_tail\n",
    "simple_boxplot(dataframe=download_df,plot_value='DOWNLOAD',sort_value='weekday',\n",
    "               title=t,\n",
    "               ytitle=\"Mbps\", weekdays=True,jitter=True)"
   ]
  },
  {
   "cell_type": "code",
   "execution_count": 90,
   "metadata": {},
   "outputs": [],
   "source": [
    "download_df[\"day_group\"]=\"Weekday\"\n",
    "download_df.loc[(download_df[\"weekday\"]==\"Sunday\")|(download_df[\"weekday\"]==\"Saturday\"),\"day_group\"]=\"Weekend\""
   ]
  },
  {
   "cell_type": "code",
   "execution_count": 96,
   "metadata": {},
   "outputs": [
    {
     "data": {
      "application/vnd.plotly.v1+json": {
       "data": [
        {
         "boxpoints": "all",
         "jitter": 0.3,
         "marker": {
          "color": "#222222"
         },
         "name": "Weekday",
         "pointpos": -1.8,
         "type": "box",
         "y": [
          3.2256,
          6.123520000000001,
          6.22592,
          9.66656,
          7.7312,
          4.72064,
          4.5056,
          9.984,
          4.9356800000000005,
          4.9356800000000005,
          2.03776,
          9.12384,
          11.1616,
          4.83328,
          10.649600000000001,
          11.8784,
          7.08608,
          5.365760000000001,
          3.65568,
          5.79584,
          9.33888,
          5.4784,
          5.4784,
          2.89792,
          10.649600000000001,
          10.199,
          4.72064,
          1.8227200000000001,
          6.656000000000001,
          3.54304,
          5.4784,
          1.60768,
          2.2528,
          5.0483199999999995,
          7.08608,
          3.86048,
          4.18816,
          7.7312,
          7.61856,
          0.21,
          9.02144,
          6.76864,
          4.29056,
          4.5056,
          2.03776,
          1.60768,
          6.01088,
          3.86048,
          2.36544,
          2.36544,
          0.839,
          1.29024,
          4.18816,
          6.76864,
          6.123520000000001,
          3.44064,
          1.72032,
          3.54304,
          2.2528,
          5.79584,
          2.7955200000000002,
          1.39264,
          0.315,
          5.79584,
          6.01088,
          5.4784,
          6.656000000000001,
          5.4784,
          8.47872,
          10.199,
          10.0966,
          6.9836800000000006,
          8.9088,
          8.16128,
          9.66656,
          9.66656,
          7.51616,
          5.79584,
          8.04864,
          31.0272,
          35.5328,
          34.5088,
          30.6176,
          14.540799999999999,
          35.2256,
          35.6352,
          35.1232,
          34.816,
          35.5328,
          35.6352,
          35.4304,
          31.744,
          41.062400000000004,
          41.67680000000001,
          42.086400000000005,
          42.086400000000005,
          27.3408,
          3.75808,
          3.44064,
          3.86048,
          4.07552,
          3.86048,
          3.54304,
          4.07552,
          4.07552,
          3.86048,
          3.86048,
          3.86048,
          3.75808,
          3.9731199999999998,
          3.86048,
          3.9731199999999998,
          3.75808,
          3.86048,
          0.315,
          3.86048,
          3.86048,
          3.86048,
          3.65568,
          3.9731199999999998,
          3.86048,
          3.9731199999999998,
          3.86048,
          3.86048,
          3.9731199999999998,
          3.86048,
          3.65568,
          3.86048,
          3.65568,
          3.75808,
          3.86048,
          2.36544,
          3.65568,
          3.9731199999999998,
          3.86048,
          3.65568,
          3.75808,
          3.86048,
          3.86048,
          3.65568,
          3.9731199999999998,
          3.86048,
          3.9731199999999998,
          3.86048,
          3.86048,
          3.86048,
          3.75808,
          3.86048,
          3.86048,
          3.86048,
          3.65568,
          3.75808,
          5.365760000000001,
          5.90848,
          5.26336,
          6.76864,
          6.87104,
          6.33856,
          3.75808,
          6.87104,
          5.79584,
          5.365760000000001,
          5.79584,
          6.4409600000000005,
          6.5536,
          6.87104,
          6.656000000000001,
          3.65568,
          6.76864,
          6.76864,
          6.76864,
          6.33856,
          6.22592,
          5.365760000000001,
          5.4784,
          6.01088,
          6.656000000000001,
          6.33856,
          6.76864,
          6.33856,
          6.123520000000001,
          6.01088,
          6.76864,
          6.4409600000000005,
          3.75808,
          6.22592,
          4.29056,
          6.656000000000001,
          5.365760000000001,
          1.60768,
          6.76864,
          6.656000000000001,
          0.9440000000000001,
          1.8227200000000001,
          4.4032,
          1.39264,
          1.39264,
          0.839,
          5.69344,
          6.76864,
          1.60768,
          5.90848,
          6.76864,
          6.33856,
          6.76864,
          0.21,
          3.75808,
          6.4409600000000005,
          2.7955200000000002,
          6.76864,
          3.86048,
          6.656000000000001,
          6.5536,
          4.18816,
          2.7955200000000002,
          5.5808,
          1.72032,
          5.69344,
          6.01088,
          5.79584,
          6.01088,
          1.8227200000000001,
          5.5808,
          8.37632,
          4.9356800000000005,
          8.37632,
          5.69344,
          3.3280000000000003,
          3.01056,
          5.4784,
          7.413760000000001,
          6.87104,
          6.01088,
          5.79584,
          7.198720000000001,
          10.3424,
          8.26368,
          6.87104,
          8.16128,
          6.5536,
          5.5808,
          5.26336,
          6.5536,
          5.69344,
          6.87104,
          7.7312,
          6.656000000000001,
          4.83328,
          3.44064,
          7.51616,
          5.79584,
          8.59136,
          5.26336,
          38.809599999999996,
          18.0224,
          14.6432,
          10.752,
          2.2528
         ]
        },
        {
         "boxpoints": "all",
         "jitter": 0.3,
         "marker": {
          "color": "#F3C300"
         },
         "name": "Weekend",
         "pointpos": -1.8,
         "type": "box",
         "y": [
          7.7312,
          11.3664,
          10.8544,
          1.29024,
          10.199,
          2.6828800000000004,
          6.656000000000001,
          10.199,
          6.76864,
          9.8816,
          8.26368,
          6.33856,
          5.90848,
          4.29056,
          4.61824,
          4.4032,
          5.150720000000001,
          4.4032,
          1.0752000000000002,
          7.08608,
          4.18816,
          2.03776,
          0.629,
          1.39264,
          2.7955200000000002,
          4.9356800000000005,
          5.90848,
          11.1616,
          11.8784,
          6.76864,
          41.984,
          41.16480000000001,
          39.2192,
          3.75808,
          3.75808,
          3.9731199999999998,
          3.86048,
          4.07552,
          3.75808,
          2.58048,
          3.9731199999999998,
          3.9731199999999998,
          4.07552,
          3.75808,
          3.86048,
          3.86048,
          3.9731199999999998,
          3.86048,
          6.76864,
          5.79584,
          6.76864,
          5.150720000000001,
          6.87104,
          6.5536,
          6.87104,
          6.87104,
          5.4784,
          6.76864,
          6.4409600000000005,
          5.26336,
          6.01088,
          6.76864,
          6.76864,
          6.76864,
          6.76864,
          6.76864,
          1.8227200000000001,
          6.123520000000001,
          6.656000000000001,
          6.5536,
          6.76864,
          6.656000000000001,
          6.656000000000001,
          6.01088,
          5.79584,
          6.4409600000000005,
          6.54336,
          3.44064,
          3.2256,
          6.656000000000001,
          6.01088,
          5.79584,
          5.69344,
          3.75808,
          1.8227200000000001,
          7.51616,
          8.26368,
          9.12384,
          6.87104,
          7.51616,
          6.87104,
          8.16128,
          5.150720000000001,
          6.9836800000000006,
          7.9462399999999995,
          8.04864,
          7.51616,
          7.30112,
          6.76864,
          6.76864,
          2.58048,
          3.65568,
          6.4409600000000005,
          7.198720000000001,
          6.9836800000000006,
          6.656000000000001,
          38.4,
          30.208000000000002,
          19.456,
          30.6176,
          30.3104,
          31.744,
          29.2864,
          12.288,
          15.2576,
          14.848,
          14.233600000000001,
          10.649600000000001
         ]
        },
        {
         "marker": {
          "color": "red"
         },
         "mode": "markers",
         "name": "50Mbps",
         "type": "scatter",
         "x": [
          "Weekday",
          "Weekend"
         ],
         "y": [
          50,
          50
         ]
        }
       ],
       "layout": {
        "title": "Download speed by day group to the date 2019-02-05 10:57:47",
        "xaxis": {
         "title": ""
        },
        "yaxis": {
         "rangemode": "tozero",
         "title": "Mbps"
        }
       }
      },
      "text/html": [
       "<div id=\"ff45e57f-66a0-46ae-b499-c202a43bdece\" style=\"height: 525px; width: 100%;\" class=\"plotly-graph-div\"></div><script type=\"text/javascript\">require([\"plotly\"], function(Plotly) { window.PLOTLYENV=window.PLOTLYENV || {};window.PLOTLYENV.BASE_URL=\"https://plot.ly\";Plotly.newPlot(\"ff45e57f-66a0-46ae-b499-c202a43bdece\", [{\"type\": \"box\", \"y\": [3.2256, 6.123520000000001, 6.22592, 9.66656, 7.7312, 4.72064, 4.5056, 9.984, 4.9356800000000005, 4.9356800000000005, 2.03776, 9.12384, 11.1616, 4.83328, 10.649600000000001, 11.8784, 7.08608, 5.365760000000001, 3.65568, 5.79584, 9.33888, 5.4784, 5.4784, 2.89792, 10.649600000000001, 10.199, 4.72064, 1.8227200000000001, 6.656000000000001, 3.54304, 5.4784, 1.60768, 2.2528, 5.0483199999999995, 7.08608, 3.86048, 4.18816, 7.7312, 7.61856, 0.21, 9.02144, 6.76864, 4.29056, 4.5056, 2.03776, 1.60768, 6.01088, 3.86048, 2.36544, 2.36544, 0.839, 1.29024, 4.18816, 6.76864, 6.123520000000001, 3.44064, 1.72032, 3.54304, 2.2528, 5.79584, 2.7955200000000002, 1.39264, 0.315, 5.79584, 6.01088, 5.4784, 6.656000000000001, 5.4784, 8.47872, 10.199, 10.0966, 6.9836800000000006, 8.9088, 8.16128, 9.66656, 9.66656, 7.51616, 5.79584, 8.04864, 31.0272, 35.5328, 34.5088, 30.6176, 14.540799999999999, 35.2256, 35.6352, 35.1232, 34.816, 35.5328, 35.6352, 35.4304, 31.744, 41.062400000000004, 41.67680000000001, 42.086400000000005, 42.086400000000005, 27.3408, 3.75808, 3.44064, 3.86048, 4.07552, 3.86048, 3.54304, 4.07552, 4.07552, 3.86048, 3.86048, 3.86048, 3.75808, 3.9731199999999998, 3.86048, 3.9731199999999998, 3.75808, 3.86048, 0.315, 3.86048, 3.86048, 3.86048, 3.65568, 3.9731199999999998, 3.86048, 3.9731199999999998, 3.86048, 3.86048, 3.9731199999999998, 3.86048, 3.65568, 3.86048, 3.65568, 3.75808, 3.86048, 2.36544, 3.65568, 3.9731199999999998, 3.86048, 3.65568, 3.75808, 3.86048, 3.86048, 3.65568, 3.9731199999999998, 3.86048, 3.9731199999999998, 3.86048, 3.86048, 3.86048, 3.75808, 3.86048, 3.86048, 3.86048, 3.65568, 3.75808, 5.365760000000001, 5.90848, 5.26336, 6.76864, 6.87104, 6.33856, 3.75808, 6.87104, 5.79584, 5.365760000000001, 5.79584, 6.4409600000000005, 6.5536, 6.87104, 6.656000000000001, 3.65568, 6.76864, 6.76864, 6.76864, 6.33856, 6.22592, 5.365760000000001, 5.4784, 6.01088, 6.656000000000001, 6.33856, 6.76864, 6.33856, 6.123520000000001, 6.01088, 6.76864, 6.4409600000000005, 3.75808, 6.22592, 4.29056, 6.656000000000001, 5.365760000000001, 1.60768, 6.76864, 6.656000000000001, 0.9440000000000001, 1.8227200000000001, 4.4032, 1.39264, 1.39264, 0.839, 5.69344, 6.76864, 1.60768, 5.90848, 6.76864, 6.33856, 6.76864, 0.21, 3.75808, 6.4409600000000005, 2.7955200000000002, 6.76864, 3.86048, 6.656000000000001, 6.5536, 4.18816, 2.7955200000000002, 5.5808, 1.72032, 5.69344, 6.01088, 5.79584, 6.01088, 1.8227200000000001, 5.5808, 8.37632, 4.9356800000000005, 8.37632, 5.69344, 3.3280000000000003, 3.01056, 5.4784, 7.413760000000001, 6.87104, 6.01088, 5.79584, 7.198720000000001, 10.3424, 8.26368, 6.87104, 8.16128, 6.5536, 5.5808, 5.26336, 6.5536, 5.69344, 6.87104, 7.7312, 6.656000000000001, 4.83328, 3.44064, 7.51616, 5.79584, 8.59136, 5.26336, 38.809599999999996, 18.0224, 14.6432, 10.752, 2.2528], \"name\": \"Weekday\", \"marker\": {\"color\": \"#222222\"}, \"boxpoints\": \"all\", \"jitter\": 0.3, \"pointpos\": -1.8}, {\"type\": \"box\", \"y\": [7.7312, 11.3664, 10.8544, 1.29024, 10.199, 2.6828800000000004, 6.656000000000001, 10.199, 6.76864, 9.8816, 8.26368, 6.33856, 5.90848, 4.29056, 4.61824, 4.4032, 5.150720000000001, 4.4032, 1.0752000000000002, 7.08608, 4.18816, 2.03776, 0.629, 1.39264, 2.7955200000000002, 4.9356800000000005, 5.90848, 11.1616, 11.8784, 6.76864, 41.984, 41.16480000000001, 39.2192, 3.75808, 3.75808, 3.9731199999999998, 3.86048, 4.07552, 3.75808, 2.58048, 3.9731199999999998, 3.9731199999999998, 4.07552, 3.75808, 3.86048, 3.86048, 3.9731199999999998, 3.86048, 6.76864, 5.79584, 6.76864, 5.150720000000001, 6.87104, 6.5536, 6.87104, 6.87104, 5.4784, 6.76864, 6.4409600000000005, 5.26336, 6.01088, 6.76864, 6.76864, 6.76864, 6.76864, 6.76864, 1.8227200000000001, 6.123520000000001, 6.656000000000001, 6.5536, 6.76864, 6.656000000000001, 6.656000000000001, 6.01088, 5.79584, 6.4409600000000005, 6.54336, 3.44064, 3.2256, 6.656000000000001, 6.01088, 5.79584, 5.69344, 3.75808, 1.8227200000000001, 7.51616, 8.26368, 9.12384, 6.87104, 7.51616, 6.87104, 8.16128, 5.150720000000001, 6.9836800000000006, 7.9462399999999995, 8.04864, 7.51616, 7.30112, 6.76864, 6.76864, 2.58048, 3.65568, 6.4409600000000005, 7.198720000000001, 6.9836800000000006, 6.656000000000001, 38.4, 30.208000000000002, 19.456, 30.6176, 30.3104, 31.744, 29.2864, 12.288, 15.2576, 14.848, 14.233600000000001, 10.649600000000001], \"name\": \"Weekend\", \"marker\": {\"color\": \"#F3C300\"}, \"boxpoints\": \"all\", \"jitter\": 0.3, \"pointpos\": -1.8}, {\"type\": \"scatter\", \"x\": [\"Weekday\", \"Weekend\"], \"y\": [50, 50], \"mode\": \"markers\", \"marker\": {\"color\": \"red\"}, \"name\": \"50Mbps\"}], {\"title\": \"Download speed by day group to the date 2019-02-05 10:57:47\", \"xaxis\": {\"title\": \"\"}, \"yaxis\": {\"title\": \"Mbps\", \"rangemode\": \"tozero\"}}, {\"showLink\": true, \"linkText\": \"Export to plot.ly\"})});</script>"
      ],
      "text/vnd.plotly.v1+html": [
       "<div id=\"ff45e57f-66a0-46ae-b499-c202a43bdece\" style=\"height: 525px; width: 100%;\" class=\"plotly-graph-div\"></div><script type=\"text/javascript\">require([\"plotly\"], function(Plotly) { window.PLOTLYENV=window.PLOTLYENV || {};window.PLOTLYENV.BASE_URL=\"https://plot.ly\";Plotly.newPlot(\"ff45e57f-66a0-46ae-b499-c202a43bdece\", [{\"type\": \"box\", \"y\": [3.2256, 6.123520000000001, 6.22592, 9.66656, 7.7312, 4.72064, 4.5056, 9.984, 4.9356800000000005, 4.9356800000000005, 2.03776, 9.12384, 11.1616, 4.83328, 10.649600000000001, 11.8784, 7.08608, 5.365760000000001, 3.65568, 5.79584, 9.33888, 5.4784, 5.4784, 2.89792, 10.649600000000001, 10.199, 4.72064, 1.8227200000000001, 6.656000000000001, 3.54304, 5.4784, 1.60768, 2.2528, 5.0483199999999995, 7.08608, 3.86048, 4.18816, 7.7312, 7.61856, 0.21, 9.02144, 6.76864, 4.29056, 4.5056, 2.03776, 1.60768, 6.01088, 3.86048, 2.36544, 2.36544, 0.839, 1.29024, 4.18816, 6.76864, 6.123520000000001, 3.44064, 1.72032, 3.54304, 2.2528, 5.79584, 2.7955200000000002, 1.39264, 0.315, 5.79584, 6.01088, 5.4784, 6.656000000000001, 5.4784, 8.47872, 10.199, 10.0966, 6.9836800000000006, 8.9088, 8.16128, 9.66656, 9.66656, 7.51616, 5.79584, 8.04864, 31.0272, 35.5328, 34.5088, 30.6176, 14.540799999999999, 35.2256, 35.6352, 35.1232, 34.816, 35.5328, 35.6352, 35.4304, 31.744, 41.062400000000004, 41.67680000000001, 42.086400000000005, 42.086400000000005, 27.3408, 3.75808, 3.44064, 3.86048, 4.07552, 3.86048, 3.54304, 4.07552, 4.07552, 3.86048, 3.86048, 3.86048, 3.75808, 3.9731199999999998, 3.86048, 3.9731199999999998, 3.75808, 3.86048, 0.315, 3.86048, 3.86048, 3.86048, 3.65568, 3.9731199999999998, 3.86048, 3.9731199999999998, 3.86048, 3.86048, 3.9731199999999998, 3.86048, 3.65568, 3.86048, 3.65568, 3.75808, 3.86048, 2.36544, 3.65568, 3.9731199999999998, 3.86048, 3.65568, 3.75808, 3.86048, 3.86048, 3.65568, 3.9731199999999998, 3.86048, 3.9731199999999998, 3.86048, 3.86048, 3.86048, 3.75808, 3.86048, 3.86048, 3.86048, 3.65568, 3.75808, 5.365760000000001, 5.90848, 5.26336, 6.76864, 6.87104, 6.33856, 3.75808, 6.87104, 5.79584, 5.365760000000001, 5.79584, 6.4409600000000005, 6.5536, 6.87104, 6.656000000000001, 3.65568, 6.76864, 6.76864, 6.76864, 6.33856, 6.22592, 5.365760000000001, 5.4784, 6.01088, 6.656000000000001, 6.33856, 6.76864, 6.33856, 6.123520000000001, 6.01088, 6.76864, 6.4409600000000005, 3.75808, 6.22592, 4.29056, 6.656000000000001, 5.365760000000001, 1.60768, 6.76864, 6.656000000000001, 0.9440000000000001, 1.8227200000000001, 4.4032, 1.39264, 1.39264, 0.839, 5.69344, 6.76864, 1.60768, 5.90848, 6.76864, 6.33856, 6.76864, 0.21, 3.75808, 6.4409600000000005, 2.7955200000000002, 6.76864, 3.86048, 6.656000000000001, 6.5536, 4.18816, 2.7955200000000002, 5.5808, 1.72032, 5.69344, 6.01088, 5.79584, 6.01088, 1.8227200000000001, 5.5808, 8.37632, 4.9356800000000005, 8.37632, 5.69344, 3.3280000000000003, 3.01056, 5.4784, 7.413760000000001, 6.87104, 6.01088, 5.79584, 7.198720000000001, 10.3424, 8.26368, 6.87104, 8.16128, 6.5536, 5.5808, 5.26336, 6.5536, 5.69344, 6.87104, 7.7312, 6.656000000000001, 4.83328, 3.44064, 7.51616, 5.79584, 8.59136, 5.26336, 38.809599999999996, 18.0224, 14.6432, 10.752, 2.2528], \"name\": \"Weekday\", \"marker\": {\"color\": \"#222222\"}, \"boxpoints\": \"all\", \"jitter\": 0.3, \"pointpos\": -1.8}, {\"type\": \"box\", \"y\": [7.7312, 11.3664, 10.8544, 1.29024, 10.199, 2.6828800000000004, 6.656000000000001, 10.199, 6.76864, 9.8816, 8.26368, 6.33856, 5.90848, 4.29056, 4.61824, 4.4032, 5.150720000000001, 4.4032, 1.0752000000000002, 7.08608, 4.18816, 2.03776, 0.629, 1.39264, 2.7955200000000002, 4.9356800000000005, 5.90848, 11.1616, 11.8784, 6.76864, 41.984, 41.16480000000001, 39.2192, 3.75808, 3.75808, 3.9731199999999998, 3.86048, 4.07552, 3.75808, 2.58048, 3.9731199999999998, 3.9731199999999998, 4.07552, 3.75808, 3.86048, 3.86048, 3.9731199999999998, 3.86048, 6.76864, 5.79584, 6.76864, 5.150720000000001, 6.87104, 6.5536, 6.87104, 6.87104, 5.4784, 6.76864, 6.4409600000000005, 5.26336, 6.01088, 6.76864, 6.76864, 6.76864, 6.76864, 6.76864, 1.8227200000000001, 6.123520000000001, 6.656000000000001, 6.5536, 6.76864, 6.656000000000001, 6.656000000000001, 6.01088, 5.79584, 6.4409600000000005, 6.54336, 3.44064, 3.2256, 6.656000000000001, 6.01088, 5.79584, 5.69344, 3.75808, 1.8227200000000001, 7.51616, 8.26368, 9.12384, 6.87104, 7.51616, 6.87104, 8.16128, 5.150720000000001, 6.9836800000000006, 7.9462399999999995, 8.04864, 7.51616, 7.30112, 6.76864, 6.76864, 2.58048, 3.65568, 6.4409600000000005, 7.198720000000001, 6.9836800000000006, 6.656000000000001, 38.4, 30.208000000000002, 19.456, 30.6176, 30.3104, 31.744, 29.2864, 12.288, 15.2576, 14.848, 14.233600000000001, 10.649600000000001], \"name\": \"Weekend\", \"marker\": {\"color\": \"#F3C300\"}, \"boxpoints\": \"all\", \"jitter\": 0.3, \"pointpos\": -1.8}, {\"type\": \"scatter\", \"x\": [\"Weekday\", \"Weekend\"], \"y\": [50, 50], \"mode\": \"markers\", \"marker\": {\"color\": \"red\"}, \"name\": \"50Mbps\"}], {\"title\": \"Download speed by day group to the date 2019-02-05 10:57:47\", \"xaxis\": {\"title\": \"\"}, \"yaxis\": {\"title\": \"Mbps\", \"rangemode\": \"tozero\"}}, {\"showLink\": true, \"linkText\": \"Export to plot.ly\"})});</script>"
      ]
     },
     "metadata": {},
     "output_type": "display_data"
    }
   ],
   "source": [
    "t=\"Download speed by day group\"+title_tail\n",
    "simple_boxplot(dataframe=download_df,plot_value='DOWNLOAD',sort_value='day_group',\n",
    "               title=t,\n",
    "               ytitle=\"Mbps\", jitter=True, downloadline=True)"
   ]
  },
  {
   "cell_type": "markdown",
   "metadata": {},
   "source": [
    "### Upload speed"
   ]
  },
  {
   "cell_type": "code",
   "execution_count": 119,
   "metadata": {},
   "outputs": [
    {
     "data": {
      "application/vnd.plotly.v1+json": {
       "data": [
        {
         "marker": {
          "color": "#222222"
         },
         "mode": "markers",
         "name": 1,
         "type": "scatter",
         "x": [
          17,
          17,
          1,
          5
         ],
         "y": [
          -0.09709669740337827,
          -0.5379681883160213,
          1.4354565805310453,
          -0.8003916948116423
         ]
        },
        {
         "marker": {
          "color": "#F3C300"
         },
         "mode": "markers",
         "name": 2,
         "type": "scatter",
         "x": [
          10,
          16,
          19,
          23,
          3,
          7,
          10,
          14,
          18,
          21,
          1,
          5,
          8,
          12,
          16,
          20,
          23,
          3,
          7,
          10,
          14,
          18,
          21,
          1,
          5,
          9,
          12,
          16,
          23,
          7,
          22,
          5,
          12,
          7,
          11,
          18,
          22,
          1,
          5,
          9,
          12,
          20,
          0,
          3,
          7,
          11,
          14,
          22,
          1,
          5,
          9,
          13,
          16,
          20,
          0,
          3,
          7,
          11,
          14,
          18,
          22,
          2,
          5,
          13,
          16,
          20,
          0,
          3,
          7,
          11,
          15,
          18,
          22,
          2,
          5,
          9,
          13,
          16,
          20,
          0,
          4,
          7,
          11,
          22,
          5,
          7,
          13,
          0,
          11,
          15,
          2,
          0,
          4,
          8,
          11,
          15,
          19,
          2,
          6,
          10,
          13,
          17,
          0,
          4,
          11
         ],
         "y": [
          -0.3994560209951713,
          0.22481822772879975,
          -0.0697588610281665,
          1.6117853539595157,
          0.304599522600478,
          0.21254418236392614,
          -0.47736744176829465,
          -0.05134779298085607,
          2.047513964412528,
          -0.2538695415012703,
          0.3168735679653514,
          2.403461279993862,
          2.6059830285142764,
          -0.23545847345395987,
          1.0840014032699508,
          -0.0881699290754768,
          0.304599522600478,
          1.0840014032699508,
          0.7464651557359273,
          1.5074559683580901,
          -0.35510644301662414,
          0.3475586813775357,
          -0.03907374761598245,
          1.636333444689263,
          2.115021213919333,
          -0.3029657229607646,
          1.4338116961688485,
          -0.3539078057739607,
          1.3908525373917904,
          0.6359987474520647,
          0.23709227309367323,
          1.2619750610606177,
          -0.1679512239471552,
          1.3356193332498594,
          0.4887102030735818,
          -0.8075920021220715,
          -0.8861027415165266,
          -0.21704740540664957,
          -0.7075057923596745,
          -0.3910655602965272,
          -0.7632424241435243,
          -0.8387565704313207,
          -0.7350744489409335,
          -0.6685500819731128,
          -0.6445773371198441,
          -0.6571630281678101,
          -0.8501436242366234,
          -0.861830337352592,
          -0.6307930088292145,
          -0.47736744176829465,
          -0.7272833068636211,
          -0.8722584813637638,
          -0.7446635468822409,
          -0.5001415493788999,
          -0.655365072303815,
          -0.6589609840318054,
          -0.7590471937942022,
          -0.7716328848421683,
          -0.678738498535752,
          -0.6799371357784154,
          -0.9027637991895483,
          -0.5750563770453647,
          -0.5972311660346383,
          -0.8742961646762917,
          -0.8087906393647349,
          -0.8483456683726281,
          -0.7320778558342749,
          -0.6230018667519022,
          -0.799800860044759,
          -0.7272833068636211,
          -0.4144389865284643,
          -0.8757345293674877,
          -0.8819674430293376,
          -0.6068202639759457,
          -0.4491994665657039,
          -0.612813450189263,
          -0.7057078364956793,
          -0.7794240269194807,
          -0.6212039108879069,
          -0.721290120650304,
          -0.6146114060532581,
          -0.7596465124155339,
          -0.7680369731141781,
          -0.9027637991895483,
          -0.7512560517168899,
          -0.4953470004082462,
          -0.7842185758901343,
          -0.8501436242366234,
          -0.7818213014048074,
          -0.7398689979115873,
          -0.8742961646762917,
          1.7529368756555614,
          2.44642043877092,
          0.3905178401545931,
          0.5623544752628236,
          -0.0697588610281665,
          0.3782437947897195,
          2.0229658736827805,
          1.654744512736573,
          0.6359987474520647,
          0.19413311431661584,
          0.5500804298979499,
          2.495516620230414,
          2.974204389460484,
          1.1330975847294453
         ]
        },
        {
         "marker": {
          "color": "#875692"
         },
         "mode": "markers",
         "name": 3,
         "type": "scatter",
         "x": [
          16,
          3,
          10,
          14,
          18,
          22,
          1,
          9,
          16,
          20,
          23,
          3,
          21,
          15,
          19,
          2,
          6,
          8,
          19,
          6,
          8
         ],
         "y": [
          -0.44036496895103505,
          -0.25741693645535063,
          -0.9417129426170933,
          -0.8132974967306995,
          0.9985916712554058,
          -0.12372414347773522,
          1.7726025779679162,
          -0.5635030677462073,
          -1.0208731489854184,
          2.2299726592071276,
          0.4884481191039779,
          0.19643491338971242,
          0.4550180493138824,
          1.7374202640264387,
          -0.6514588525999017,
          -0.7816334141833696,
          0.8402712585187556,
          -0.7974654554570345,
          -0.6672908938735669,
          -0.8062610339424039,
          -0.8537571577633988
         ]
        },
        {
         "marker": {
          "color": "#F38400"
         },
         "mode": "markers",
         "name": 4,
         "type": "scatter",
         "x": [
          20,
          2,
          17,
          11,
          20,
          0,
          15,
          19,
          2,
          13,
          20,
          15,
          9,
          17,
          9,
          16,
          20,
          23,
          3,
          7,
          10,
          14,
          1,
          5,
          12,
          23,
          3,
          7,
          11,
          14,
          11,
          22,
          1,
          5,
          16,
          20,
          11,
          13,
          4,
          7,
          15,
          18,
          22,
          9,
          13,
          9,
          20,
          4,
          7,
          19,
          2,
          8,
          15,
          6,
          0,
          4,
          8,
          11,
          15,
          22,
          10,
          13,
          4,
          23,
          6,
          10,
          6,
          10,
          23,
          4
         ],
         "y": [
          -0.05109339126766469,
          0.6580476427059105,
          -0.28233503278078703,
          -0.2977511422149952,
          0.8892892842190329,
          0.9201215030874492,
          -2.6255836667804235,
          -1.1918854893990665,
          0.5193026577980371,
          0.9509537219558655,
          0.9509537219558655,
          -3.5813824517013293,
          -1.3768788026095644,
          0.3805576728901637,
          0.6888798615743268,
          -0.004845062965040224,
          -0.28233503278078703,
          -0.7602344252412382,
          -0.2669189233465789,
          0.42680600119278816,
          -3.6738791083065783,
          -2.6409997762146316,
          0.9817859408242818,
          0.36514156345595555,
          -2.1631003837541805,
          -0.020261172399248382,
          -0.3594155799518278,
          -0.03567728183345654,
          -0.15900615730712178,
          0.3805576728901637,
          0.3805576728901637,
          -0.2977511422149952,
          -0.2977511422149952,
          1.5367658804557738,
          0.2726449068507066,
          -0.004845062965040224,
          0.3805576728901637,
          0.36514156345595555,
          0.36514156345595555,
          0.39597378232437186,
          0.3034771257191229,
          0.41138989175858,
          -1.0839727233596095,
          -0.2977511422149952,
          0.39597378232437186,
          0.5809670955348697,
          -0.34399947051761964,
          0.31889323515333107,
          0.47305432949541265,
          0.5501348766664534,
          0.5809670955348697,
          -0.31316725164920334,
          0.33430934458753925,
          -0.28233503278078703,
          0.42680600119278816,
          0.42680600119278816,
          0.41138989175858,
          0.3805576728901637,
          0.1647321408112495,
          -0.2977511422149952,
          0.3805576728901637,
          0.503886548363829,
          0.7659604087453676,
          0.5809670955348697,
          1.4134370049821086,
          0.39597378232437186,
          0.6888798615743268,
          -0.2977511422149952,
          1.3671886766794856,
          -0.374831689386036
         ]
        },
        {
         "marker": {
          "color": "#A1CAF1"
         },
         "mode": "markers",
         "name": 5,
         "type": "scatter",
         "x": [
          15,
          18,
          22,
          9,
          13,
          20,
          0,
          4,
          15,
          18,
          22,
          2,
          9,
          17,
          4,
          7,
          22,
          6,
          9,
          13,
          22,
          8,
          15,
          19,
          22,
          1,
          5,
          12,
          16,
          18,
          22,
          9,
          16,
          20,
          22,
          1,
          20,
          0,
          3,
          7,
          14,
          18,
          5,
          20,
          0,
          22,
          0,
          3,
          7,
          18,
          22,
          2,
          20,
          0,
          2,
          17,
          0,
          18,
          6,
          0,
          15,
          22,
          6,
          13,
          17,
          20,
          4,
          19,
          13,
          11,
          19,
          6,
          2,
          13,
          17,
          19,
          23,
          10,
          13,
          23,
          10,
          17
         ],
         "y": [
          0.07180523104951748,
          0.7913199698756331,
          0.7913199698756331,
          0.39558686352126954,
          1.199044988543764,
          0.5994493728553356,
          0.6953846713654844,
          0.7913199698756331,
          0.6234331974828728,
          0.39558686352126954,
          0.7913199698756331,
          0.43156260046257533,
          -4.293250851162247,
          0.7913199698756331,
          0.33562730195242657,
          0.7913199698756331,
          0.7913199698756331,
          -1.1034021756998034,
          -1.7509654406433075,
          0.28765965269735216,
          0.11977288030459186,
          -0.25197640142223454,
          -0.2759602260497717,
          -0.5637661215802173,
          0.28765965269735216,
          0.5754655482277985,
          -0.1440491905983172,
          0.7913199698756331,
          1.079125865406078,
          0.11977288030459186,
          -0.5397822969526801,
          -1.115394088013572,
          -0.6117337708352917,
          -0.34791169993238263,
          0.11977288030459186,
          0.9711986545821607,
          0.3835949512075009,
          -0.15604110291208578,
          0.4795302497176497,
          0.2157081788147406,
          -0.3239278753048461,
          0.07180523104951748,
          1.1151016023473839,
          1.0551420407785408,
          -0.20400875216716016,
          1.3429479363089871,
          0.11977288030459186,
          -0.180024927539623,
          1.079125865406078,
          0.7913199698756331,
          -0.15604110291208578,
          0.263675828069815,
          -0.23998448910846595,
          0.5634736359140299,
          -0.7316528939729776,
          -0.3239278753048461,
          0.16774052955966626,
          1.1151016023473839,
          -0.34791169993238263,
          -0.35990361224615125,
          -1.295272772720101,
          0.13176479261836047,
          0.5754655482277985,
          -1.9068603007222986,
          -1.9308441253498356,
          -0.036121979774399855,
          -1.0674264387584982,
          -1.4271838081715555,
          -1.2473051234650265,
          0.08379714336328609,
          0.20371626650097202,
          0.20371626650097202,
          0.2396920034422778,
          -0.34791169993238263,
          1.1151016023473839,
          -0.3239278753048461,
          1.1031096900336153,
          -4.029428780259337,
          -0.036121979774399855,
          0.5514817236002613,
          -0.9954749648758867,
          1.0551420407785408
         ]
        },
        {
         "marker": {
          "color": "#BE0032"
         },
         "mode": "markers",
         "name": 6,
         "type": "scatter",
         "x": [
          18,
          2,
          5,
          9,
          13,
          17,
          20,
          0,
          4,
          7,
          11,
          15,
          18,
          22,
          2,
          6,
          9,
          13,
          17,
          20,
          4,
          7,
          11,
          19,
          22,
          9
         ],
         "y": [
          0.45262226733972233,
          0.12173978224999371,
          0.14046897951922369,
          0.46510839885254235,
          0.20914270283973355,
          0.49632372763459226,
          0.04682299317307387,
          0.16544124254486361,
          0.9395813963397014,
          0.2653302946474234,
          0.4775945303653623,
          0.5212959906602322,
          0.04682299317307387,
          0.14671204527563367,
          0.19665657132691355,
          0.639914240032022,
          -3.561669014031896,
          -0.3589762809935753,
          0.5837266482243321,
          0.3340040179679333,
          0.09052445346794377,
          0.3215178864551133,
          -2.893660978096028,
          0.621185042762792,
          -0.07179525619871589,
          -0.3964346755320352
         ]
        },
        {
         "marker": {
          "color": "#C2B280"
         },
         "mode": "markers",
         "name": 7,
         "type": "scatter",
         "x": [
          3,
          7,
          11,
          14,
          18,
          2,
          9,
          13,
          15,
          9,
          11,
          5,
          17,
          20,
          4,
          7,
          11,
          15,
          22,
          2,
          13,
          17,
          7,
          11,
          17,
          0,
          4,
          11,
          22,
          2,
          9,
          17,
          2,
          17,
          21,
          0,
          11,
          15,
          19,
          2,
          13,
          17,
          21,
          4,
          8,
          12,
          15,
          2,
          17,
          8,
          10
         ],
         "y": [
          1.2039095874725292,
          0.9688338736562294,
          0.28375607910587125,
          -0.011767675406048119,
          0.8143555474340897,
          2.1374959937715463,
          1.4322688523226486,
          -0.5625164906328066,
          -0.8177415513476457,
          -1.6707305700525035,
          -1.2072955913860848,
          1.2777905261005083,
          -0.9722198775697853,
          -0.6229645313284263,
          1.2039095874725292,
          0.015098120458671876,
          0.18300934461317156,
          -0.3274407768165072,
          -0.690129020990226,
          -0.4483368582077466,
          0.65987722121195,
          1.593463627510968,
          1.0427148122842091,
          -0.40803816441066687,
          0.79420620053555,
          0.7874897515693697,
          2.406153952418746,
          0.4248015073956509,
          -0.4550533071739266,
          0.4516673032603709,
          -0.19982824645908692,
          -0.965503428603605,
          0.23674093634261156,
          -0.7707264085843857,
          -2.501182754140374,
          -1.5767002845259834,
          -1.012518571366865,
          0.33077122186913155,
          -0.7640099596182057,
          0.7203252619075703,
          0.055396814255751874,
          -0.11251440989874723,
          -1.032667918265405,
          0.7606239557046497,
          -0.730427714787306,
          -1.502819345898004,
          0.5188317929221703,
          0.12927775288373156,
          -0.710278367888766,
          -0.2535598381885269,
          -0.10579796093256752
         ]
        },
        {
         "marker": {
          "color": "#848482"
         },
         "mode": "markers",
         "name": 8,
         "type": "scatter",
         "x": [
          14,
          15
         ],
         "y": [
          -0.7071067811865476,
          0.7071067811865476
         ]
        },
        {
         "marker": {
          "color": "#008856"
         },
         "mode": "markers",
         "name": 9,
         "type": "scatter",
         "x": [
          8,
          23,
          3,
          10,
          14,
          17,
          1,
          12
         ],
         "y": [
          0.6707744200209834,
          -1.1112454275394534,
          -0.00880942015036947,
          -0.5776462641456502,
          1.0885926328670752,
          1.5416485263146433,
          -1.0609058838230567,
          -0.5424085835441728
         ]
        },
        {
         "marker": {
          "color": "#0067A5"
         },
         "mode": "markers",
         "name": 11,
         "type": "scatter",
         "x": [
          1,
          1,
          16
         ],
         "y": [
          0.4470390049816907,
          0.6984984452838902,
          -1.1455374502655808
         ]
        },
        {
         "marker": {
          "color": "#F99379"
         },
         "mode": "markers",
         "name": 12,
         "type": "scatter",
         "x": [
          4,
          12,
          15,
          19
         ],
         "y": [
          -1.21371954641366,
          0.06837856599513596,
          1.2308141879124443,
          -0.0854732074939192
         ]
        }
       ],
       "layout": {
        "title": "Normalized upload speed by hour  to the date 2019-02-05 10:57:47",
        "xaxis": {
         "title": "Hour of the day"
        },
        "yaxis": {
         "title": "Difference to normalized speeds (Mbps)"
        }
       }
      },
      "text/html": [
       "<div id=\"89bd88e3-62ed-42b2-a823-c44821fd05d9\" style=\"height: 525px; width: 100%;\" class=\"plotly-graph-div\"></div><script type=\"text/javascript\">require([\"plotly\"], function(Plotly) { window.PLOTLYENV=window.PLOTLYENV || {};window.PLOTLYENV.BASE_URL=\"https://plot.ly\";Plotly.newPlot(\"89bd88e3-62ed-42b2-a823-c44821fd05d9\", [{\"type\": \"scatter\", \"x\": [17, 17, 1, 5], \"y\": [-0.09709669740337827, -0.5379681883160213, 1.4354565805310453, -0.8003916948116423], \"mode\": \"markers\", \"marker\": {\"color\": \"#222222\"}, \"name\": 1}, {\"type\": \"scatter\", \"x\": [10, 16, 19, 23, 3, 7, 10, 14, 18, 21, 1, 5, 8, 12, 16, 20, 23, 3, 7, 10, 14, 18, 21, 1, 5, 9, 12, 16, 23, 7, 22, 5, 12, 7, 11, 18, 22, 1, 5, 9, 12, 20, 0, 3, 7, 11, 14, 22, 1, 5, 9, 13, 16, 20, 0, 3, 7, 11, 14, 18, 22, 2, 5, 13, 16, 20, 0, 3, 7, 11, 15, 18, 22, 2, 5, 9, 13, 16, 20, 0, 4, 7, 11, 22, 5, 7, 13, 0, 11, 15, 2, 0, 4, 8, 11, 15, 19, 2, 6, 10, 13, 17, 0, 4, 11], \"y\": [-0.3994560209951713, 0.22481822772879975, -0.0697588610281665, 1.6117853539595157, 0.304599522600478, 0.21254418236392614, -0.47736744176829465, -0.05134779298085607, 2.047513964412528, -0.2538695415012703, 0.3168735679653514, 2.403461279993862, 2.6059830285142764, -0.23545847345395987, 1.0840014032699508, -0.0881699290754768, 0.304599522600478, 1.0840014032699508, 0.7464651557359273, 1.5074559683580901, -0.35510644301662414, 0.3475586813775357, -0.03907374761598245, 1.636333444689263, 2.115021213919333, -0.3029657229607646, 1.4338116961688485, -0.3539078057739607, 1.3908525373917904, 0.6359987474520647, 0.23709227309367323, 1.2619750610606177, -0.1679512239471552, 1.3356193332498594, 0.4887102030735818, -0.8075920021220715, -0.8861027415165266, -0.21704740540664957, -0.7075057923596745, -0.3910655602965272, -0.7632424241435243, -0.8387565704313207, -0.7350744489409335, -0.6685500819731128, -0.6445773371198441, -0.6571630281678101, -0.8501436242366234, -0.861830337352592, -0.6307930088292145, -0.47736744176829465, -0.7272833068636211, -0.8722584813637638, -0.7446635468822409, -0.5001415493788999, -0.655365072303815, -0.6589609840318054, -0.7590471937942022, -0.7716328848421683, -0.678738498535752, -0.6799371357784154, -0.9027637991895483, -0.5750563770453647, -0.5972311660346383, -0.8742961646762917, -0.8087906393647349, -0.8483456683726281, -0.7320778558342749, -0.6230018667519022, -0.799800860044759, -0.7272833068636211, -0.4144389865284643, -0.8757345293674877, -0.8819674430293376, -0.6068202639759457, -0.4491994665657039, -0.612813450189263, -0.7057078364956793, -0.7794240269194807, -0.6212039108879069, -0.721290120650304, -0.6146114060532581, -0.7596465124155339, -0.7680369731141781, -0.9027637991895483, -0.7512560517168899, -0.4953470004082462, -0.7842185758901343, -0.8501436242366234, -0.7818213014048074, -0.7398689979115873, -0.8742961646762917, 1.7529368756555614, 2.44642043877092, 0.3905178401545931, 0.5623544752628236, -0.0697588610281665, 0.3782437947897195, 2.0229658736827805, 1.654744512736573, 0.6359987474520647, 0.19413311431661584, 0.5500804298979499, 2.495516620230414, 2.974204389460484, 1.1330975847294453], \"mode\": \"markers\", \"marker\": {\"color\": \"#F3C300\"}, \"name\": 2}, {\"type\": \"scatter\", \"x\": [16, 3, 10, 14, 18, 22, 1, 9, 16, 20, 23, 3, 21, 15, 19, 2, 6, 8, 19, 6, 8], \"y\": [-0.44036496895103505, -0.25741693645535063, -0.9417129426170933, -0.8132974967306995, 0.9985916712554058, -0.12372414347773522, 1.7726025779679162, -0.5635030677462073, -1.0208731489854184, 2.2299726592071276, 0.4884481191039779, 0.19643491338971242, 0.4550180493138824, 1.7374202640264387, -0.6514588525999017, -0.7816334141833696, 0.8402712585187556, -0.7974654554570345, -0.6672908938735669, -0.8062610339424039, -0.8537571577633988], \"mode\": \"markers\", \"marker\": {\"color\": \"#875692\"}, \"name\": 3}, {\"type\": \"scatter\", \"x\": [20, 2, 17, 11, 20, 0, 15, 19, 2, 13, 20, 15, 9, 17, 9, 16, 20, 23, 3, 7, 10, 14, 1, 5, 12, 23, 3, 7, 11, 14, 11, 22, 1, 5, 16, 20, 11, 13, 4, 7, 15, 18, 22, 9, 13, 9, 20, 4, 7, 19, 2, 8, 15, 6, 0, 4, 8, 11, 15, 22, 10, 13, 4, 23, 6, 10, 6, 10, 23, 4], \"y\": [-0.05109339126766469, 0.6580476427059105, -0.28233503278078703, -0.2977511422149952, 0.8892892842190329, 0.9201215030874492, -2.6255836667804235, -1.1918854893990665, 0.5193026577980371, 0.9509537219558655, 0.9509537219558655, -3.5813824517013293, -1.3768788026095644, 0.3805576728901637, 0.6888798615743268, -0.004845062965040224, -0.28233503278078703, -0.7602344252412382, -0.2669189233465789, 0.42680600119278816, -3.6738791083065783, -2.6409997762146316, 0.9817859408242818, 0.36514156345595555, -2.1631003837541805, -0.020261172399248382, -0.3594155799518278, -0.03567728183345654, -0.15900615730712178, 0.3805576728901637, 0.3805576728901637, -0.2977511422149952, -0.2977511422149952, 1.5367658804557738, 0.2726449068507066, -0.004845062965040224, 0.3805576728901637, 0.36514156345595555, 0.36514156345595555, 0.39597378232437186, 0.3034771257191229, 0.41138989175858, -1.0839727233596095, -0.2977511422149952, 0.39597378232437186, 0.5809670955348697, -0.34399947051761964, 0.31889323515333107, 0.47305432949541265, 0.5501348766664534, 0.5809670955348697, -0.31316725164920334, 0.33430934458753925, -0.28233503278078703, 0.42680600119278816, 0.42680600119278816, 0.41138989175858, 0.3805576728901637, 0.1647321408112495, -0.2977511422149952, 0.3805576728901637, 0.503886548363829, 0.7659604087453676, 0.5809670955348697, 1.4134370049821086, 0.39597378232437186, 0.6888798615743268, -0.2977511422149952, 1.3671886766794856, -0.374831689386036], \"mode\": \"markers\", \"marker\": {\"color\": \"#F38400\"}, \"name\": 4}, {\"type\": \"scatter\", \"x\": [15, 18, 22, 9, 13, 20, 0, 4, 15, 18, 22, 2, 9, 17, 4, 7, 22, 6, 9, 13, 22, 8, 15, 19, 22, 1, 5, 12, 16, 18, 22, 9, 16, 20, 22, 1, 20, 0, 3, 7, 14, 18, 5, 20, 0, 22, 0, 3, 7, 18, 22, 2, 20, 0, 2, 17, 0, 18, 6, 0, 15, 22, 6, 13, 17, 20, 4, 19, 13, 11, 19, 6, 2, 13, 17, 19, 23, 10, 13, 23, 10, 17], \"y\": [0.07180523104951748, 0.7913199698756331, 0.7913199698756331, 0.39558686352126954, 1.199044988543764, 0.5994493728553356, 0.6953846713654844, 0.7913199698756331, 0.6234331974828728, 0.39558686352126954, 0.7913199698756331, 0.43156260046257533, -4.293250851162247, 0.7913199698756331, 0.33562730195242657, 0.7913199698756331, 0.7913199698756331, -1.1034021756998034, -1.7509654406433075, 0.28765965269735216, 0.11977288030459186, -0.25197640142223454, -0.2759602260497717, -0.5637661215802173, 0.28765965269735216, 0.5754655482277985, -0.1440491905983172, 0.7913199698756331, 1.079125865406078, 0.11977288030459186, -0.5397822969526801, -1.115394088013572, -0.6117337708352917, -0.34791169993238263, 0.11977288030459186, 0.9711986545821607, 0.3835949512075009, -0.15604110291208578, 0.4795302497176497, 0.2157081788147406, -0.3239278753048461, 0.07180523104951748, 1.1151016023473839, 1.0551420407785408, -0.20400875216716016, 1.3429479363089871, 0.11977288030459186, -0.180024927539623, 1.079125865406078, 0.7913199698756331, -0.15604110291208578, 0.263675828069815, -0.23998448910846595, 0.5634736359140299, -0.7316528939729776, -0.3239278753048461, 0.16774052955966626, 1.1151016023473839, -0.34791169993238263, -0.35990361224615125, -1.295272772720101, 0.13176479261836047, 0.5754655482277985, -1.9068603007222986, -1.9308441253498356, -0.036121979774399855, -1.0674264387584982, -1.4271838081715555, -1.2473051234650265, 0.08379714336328609, 0.20371626650097202, 0.20371626650097202, 0.2396920034422778, -0.34791169993238263, 1.1151016023473839, -0.3239278753048461, 1.1031096900336153, -4.029428780259337, -0.036121979774399855, 0.5514817236002613, -0.9954749648758867, 1.0551420407785408], \"mode\": \"markers\", \"marker\": {\"color\": \"#A1CAF1\"}, \"name\": 5}, {\"type\": \"scatter\", \"x\": [18, 2, 5, 9, 13, 17, 20, 0, 4, 7, 11, 15, 18, 22, 2, 6, 9, 13, 17, 20, 4, 7, 11, 19, 22, 9], \"y\": [0.45262226733972233, 0.12173978224999371, 0.14046897951922369, 0.46510839885254235, 0.20914270283973355, 0.49632372763459226, 0.04682299317307387, 0.16544124254486361, 0.9395813963397014, 0.2653302946474234, 0.4775945303653623, 0.5212959906602322, 0.04682299317307387, 0.14671204527563367, 0.19665657132691355, 0.639914240032022, -3.561669014031896, -0.3589762809935753, 0.5837266482243321, 0.3340040179679333, 0.09052445346794377, 0.3215178864551133, -2.893660978096028, 0.621185042762792, -0.07179525619871589, -0.3964346755320352], \"mode\": \"markers\", \"marker\": {\"color\": \"#BE0032\"}, \"name\": 6}, {\"type\": \"scatter\", \"x\": [3, 7, 11, 14, 18, 2, 9, 13, 15, 9, 11, 5, 17, 20, 4, 7, 11, 15, 22, 2, 13, 17, 7, 11, 17, 0, 4, 11, 22, 2, 9, 17, 2, 17, 21, 0, 11, 15, 19, 2, 13, 17, 21, 4, 8, 12, 15, 2, 17, 8, 10], \"y\": [1.2039095874725292, 0.9688338736562294, 0.28375607910587125, -0.011767675406048119, 0.8143555474340897, 2.1374959937715463, 1.4322688523226486, -0.5625164906328066, -0.8177415513476457, -1.6707305700525035, -1.2072955913860848, 1.2777905261005083, -0.9722198775697853, -0.6229645313284263, 1.2039095874725292, 0.015098120458671876, 0.18300934461317156, -0.3274407768165072, -0.690129020990226, -0.4483368582077466, 0.65987722121195, 1.593463627510968, 1.0427148122842091, -0.40803816441066687, 0.79420620053555, 0.7874897515693697, 2.406153952418746, 0.4248015073956509, -0.4550533071739266, 0.4516673032603709, -0.19982824645908692, -0.965503428603605, 0.23674093634261156, -0.7707264085843857, -2.501182754140374, -1.5767002845259834, -1.012518571366865, 0.33077122186913155, -0.7640099596182057, 0.7203252619075703, 0.055396814255751874, -0.11251440989874723, -1.032667918265405, 0.7606239557046497, -0.730427714787306, -1.502819345898004, 0.5188317929221703, 0.12927775288373156, -0.710278367888766, -0.2535598381885269, -0.10579796093256752], \"mode\": \"markers\", \"marker\": {\"color\": \"#C2B280\"}, \"name\": 7}, {\"type\": \"scatter\", \"x\": [14, 15], \"y\": [-0.7071067811865476, 0.7071067811865476], \"mode\": \"markers\", \"marker\": {\"color\": \"#848482\"}, \"name\": 8}, {\"type\": \"scatter\", \"x\": [8, 23, 3, 10, 14, 17, 1, 12], \"y\": [0.6707744200209834, -1.1112454275394534, -0.00880942015036947, -0.5776462641456502, 1.0885926328670752, 1.5416485263146433, -1.0609058838230567, -0.5424085835441728], \"mode\": \"markers\", \"marker\": {\"color\": \"#008856\"}, \"name\": 9}, {\"type\": \"scatter\", \"x\": [1, 1, 16], \"y\": [0.4470390049816907, 0.6984984452838902, -1.1455374502655808], \"mode\": \"markers\", \"marker\": {\"color\": \"#0067A5\"}, \"name\": 11}, {\"type\": \"scatter\", \"x\": [4, 12, 15, 19], \"y\": [-1.21371954641366, 0.06837856599513596, 1.2308141879124443, -0.0854732074939192], \"mode\": \"markers\", \"marker\": {\"color\": \"#F99379\"}, \"name\": 12}], {\"title\": \"Normalized upload speed by hour  to the date 2019-02-05 10:57:47\", \"xaxis\": {\"title\": \"Hour of the day\"}, \"yaxis\": {\"title\": \"Difference to normalized speeds (Mbps)\"}}, {\"showLink\": true, \"linkText\": \"Export to plot.ly\"})});</script>"
      ],
      "text/vnd.plotly.v1+html": [
       "<div id=\"89bd88e3-62ed-42b2-a823-c44821fd05d9\" style=\"height: 525px; width: 100%;\" class=\"plotly-graph-div\"></div><script type=\"text/javascript\">require([\"plotly\"], function(Plotly) { window.PLOTLYENV=window.PLOTLYENV || {};window.PLOTLYENV.BASE_URL=\"https://plot.ly\";Plotly.newPlot(\"89bd88e3-62ed-42b2-a823-c44821fd05d9\", [{\"type\": \"scatter\", \"x\": [17, 17, 1, 5], \"y\": [-0.09709669740337827, -0.5379681883160213, 1.4354565805310453, -0.8003916948116423], \"mode\": \"markers\", \"marker\": {\"color\": \"#222222\"}, \"name\": 1}, {\"type\": \"scatter\", \"x\": [10, 16, 19, 23, 3, 7, 10, 14, 18, 21, 1, 5, 8, 12, 16, 20, 23, 3, 7, 10, 14, 18, 21, 1, 5, 9, 12, 16, 23, 7, 22, 5, 12, 7, 11, 18, 22, 1, 5, 9, 12, 20, 0, 3, 7, 11, 14, 22, 1, 5, 9, 13, 16, 20, 0, 3, 7, 11, 14, 18, 22, 2, 5, 13, 16, 20, 0, 3, 7, 11, 15, 18, 22, 2, 5, 9, 13, 16, 20, 0, 4, 7, 11, 22, 5, 7, 13, 0, 11, 15, 2, 0, 4, 8, 11, 15, 19, 2, 6, 10, 13, 17, 0, 4, 11], \"y\": [-0.3994560209951713, 0.22481822772879975, -0.0697588610281665, 1.6117853539595157, 0.304599522600478, 0.21254418236392614, -0.47736744176829465, -0.05134779298085607, 2.047513964412528, -0.2538695415012703, 0.3168735679653514, 2.403461279993862, 2.6059830285142764, -0.23545847345395987, 1.0840014032699508, -0.0881699290754768, 0.304599522600478, 1.0840014032699508, 0.7464651557359273, 1.5074559683580901, -0.35510644301662414, 0.3475586813775357, -0.03907374761598245, 1.636333444689263, 2.115021213919333, -0.3029657229607646, 1.4338116961688485, -0.3539078057739607, 1.3908525373917904, 0.6359987474520647, 0.23709227309367323, 1.2619750610606177, -0.1679512239471552, 1.3356193332498594, 0.4887102030735818, -0.8075920021220715, -0.8861027415165266, -0.21704740540664957, -0.7075057923596745, -0.3910655602965272, -0.7632424241435243, -0.8387565704313207, -0.7350744489409335, -0.6685500819731128, -0.6445773371198441, -0.6571630281678101, -0.8501436242366234, -0.861830337352592, -0.6307930088292145, -0.47736744176829465, -0.7272833068636211, -0.8722584813637638, -0.7446635468822409, -0.5001415493788999, -0.655365072303815, -0.6589609840318054, -0.7590471937942022, -0.7716328848421683, -0.678738498535752, -0.6799371357784154, -0.9027637991895483, -0.5750563770453647, -0.5972311660346383, -0.8742961646762917, -0.8087906393647349, -0.8483456683726281, -0.7320778558342749, -0.6230018667519022, -0.799800860044759, -0.7272833068636211, -0.4144389865284643, -0.8757345293674877, -0.8819674430293376, -0.6068202639759457, -0.4491994665657039, -0.612813450189263, -0.7057078364956793, -0.7794240269194807, -0.6212039108879069, -0.721290120650304, -0.6146114060532581, -0.7596465124155339, -0.7680369731141781, -0.9027637991895483, -0.7512560517168899, -0.4953470004082462, -0.7842185758901343, -0.8501436242366234, -0.7818213014048074, -0.7398689979115873, -0.8742961646762917, 1.7529368756555614, 2.44642043877092, 0.3905178401545931, 0.5623544752628236, -0.0697588610281665, 0.3782437947897195, 2.0229658736827805, 1.654744512736573, 0.6359987474520647, 0.19413311431661584, 0.5500804298979499, 2.495516620230414, 2.974204389460484, 1.1330975847294453], \"mode\": \"markers\", \"marker\": {\"color\": \"#F3C300\"}, \"name\": 2}, {\"type\": \"scatter\", \"x\": [16, 3, 10, 14, 18, 22, 1, 9, 16, 20, 23, 3, 21, 15, 19, 2, 6, 8, 19, 6, 8], \"y\": [-0.44036496895103505, -0.25741693645535063, -0.9417129426170933, -0.8132974967306995, 0.9985916712554058, -0.12372414347773522, 1.7726025779679162, -0.5635030677462073, -1.0208731489854184, 2.2299726592071276, 0.4884481191039779, 0.19643491338971242, 0.4550180493138824, 1.7374202640264387, -0.6514588525999017, -0.7816334141833696, 0.8402712585187556, -0.7974654554570345, -0.6672908938735669, -0.8062610339424039, -0.8537571577633988], \"mode\": \"markers\", \"marker\": {\"color\": \"#875692\"}, \"name\": 3}, {\"type\": \"scatter\", \"x\": [20, 2, 17, 11, 20, 0, 15, 19, 2, 13, 20, 15, 9, 17, 9, 16, 20, 23, 3, 7, 10, 14, 1, 5, 12, 23, 3, 7, 11, 14, 11, 22, 1, 5, 16, 20, 11, 13, 4, 7, 15, 18, 22, 9, 13, 9, 20, 4, 7, 19, 2, 8, 15, 6, 0, 4, 8, 11, 15, 22, 10, 13, 4, 23, 6, 10, 6, 10, 23, 4], \"y\": [-0.05109339126766469, 0.6580476427059105, -0.28233503278078703, -0.2977511422149952, 0.8892892842190329, 0.9201215030874492, -2.6255836667804235, -1.1918854893990665, 0.5193026577980371, 0.9509537219558655, 0.9509537219558655, -3.5813824517013293, -1.3768788026095644, 0.3805576728901637, 0.6888798615743268, -0.004845062965040224, -0.28233503278078703, -0.7602344252412382, -0.2669189233465789, 0.42680600119278816, -3.6738791083065783, -2.6409997762146316, 0.9817859408242818, 0.36514156345595555, -2.1631003837541805, -0.020261172399248382, -0.3594155799518278, -0.03567728183345654, -0.15900615730712178, 0.3805576728901637, 0.3805576728901637, -0.2977511422149952, -0.2977511422149952, 1.5367658804557738, 0.2726449068507066, -0.004845062965040224, 0.3805576728901637, 0.36514156345595555, 0.36514156345595555, 0.39597378232437186, 0.3034771257191229, 0.41138989175858, -1.0839727233596095, -0.2977511422149952, 0.39597378232437186, 0.5809670955348697, -0.34399947051761964, 0.31889323515333107, 0.47305432949541265, 0.5501348766664534, 0.5809670955348697, -0.31316725164920334, 0.33430934458753925, -0.28233503278078703, 0.42680600119278816, 0.42680600119278816, 0.41138989175858, 0.3805576728901637, 0.1647321408112495, -0.2977511422149952, 0.3805576728901637, 0.503886548363829, 0.7659604087453676, 0.5809670955348697, 1.4134370049821086, 0.39597378232437186, 0.6888798615743268, -0.2977511422149952, 1.3671886766794856, -0.374831689386036], \"mode\": \"markers\", \"marker\": {\"color\": \"#F38400\"}, \"name\": 4}, {\"type\": \"scatter\", \"x\": [15, 18, 22, 9, 13, 20, 0, 4, 15, 18, 22, 2, 9, 17, 4, 7, 22, 6, 9, 13, 22, 8, 15, 19, 22, 1, 5, 12, 16, 18, 22, 9, 16, 20, 22, 1, 20, 0, 3, 7, 14, 18, 5, 20, 0, 22, 0, 3, 7, 18, 22, 2, 20, 0, 2, 17, 0, 18, 6, 0, 15, 22, 6, 13, 17, 20, 4, 19, 13, 11, 19, 6, 2, 13, 17, 19, 23, 10, 13, 23, 10, 17], \"y\": [0.07180523104951748, 0.7913199698756331, 0.7913199698756331, 0.39558686352126954, 1.199044988543764, 0.5994493728553356, 0.6953846713654844, 0.7913199698756331, 0.6234331974828728, 0.39558686352126954, 0.7913199698756331, 0.43156260046257533, -4.293250851162247, 0.7913199698756331, 0.33562730195242657, 0.7913199698756331, 0.7913199698756331, -1.1034021756998034, -1.7509654406433075, 0.28765965269735216, 0.11977288030459186, -0.25197640142223454, -0.2759602260497717, -0.5637661215802173, 0.28765965269735216, 0.5754655482277985, -0.1440491905983172, 0.7913199698756331, 1.079125865406078, 0.11977288030459186, -0.5397822969526801, -1.115394088013572, -0.6117337708352917, -0.34791169993238263, 0.11977288030459186, 0.9711986545821607, 0.3835949512075009, -0.15604110291208578, 0.4795302497176497, 0.2157081788147406, -0.3239278753048461, 0.07180523104951748, 1.1151016023473839, 1.0551420407785408, -0.20400875216716016, 1.3429479363089871, 0.11977288030459186, -0.180024927539623, 1.079125865406078, 0.7913199698756331, -0.15604110291208578, 0.263675828069815, -0.23998448910846595, 0.5634736359140299, -0.7316528939729776, -0.3239278753048461, 0.16774052955966626, 1.1151016023473839, -0.34791169993238263, -0.35990361224615125, -1.295272772720101, 0.13176479261836047, 0.5754655482277985, -1.9068603007222986, -1.9308441253498356, -0.036121979774399855, -1.0674264387584982, -1.4271838081715555, -1.2473051234650265, 0.08379714336328609, 0.20371626650097202, 0.20371626650097202, 0.2396920034422778, -0.34791169993238263, 1.1151016023473839, -0.3239278753048461, 1.1031096900336153, -4.029428780259337, -0.036121979774399855, 0.5514817236002613, -0.9954749648758867, 1.0551420407785408], \"mode\": \"markers\", \"marker\": {\"color\": \"#A1CAF1\"}, \"name\": 5}, {\"type\": \"scatter\", \"x\": [18, 2, 5, 9, 13, 17, 20, 0, 4, 7, 11, 15, 18, 22, 2, 6, 9, 13, 17, 20, 4, 7, 11, 19, 22, 9], \"y\": [0.45262226733972233, 0.12173978224999371, 0.14046897951922369, 0.46510839885254235, 0.20914270283973355, 0.49632372763459226, 0.04682299317307387, 0.16544124254486361, 0.9395813963397014, 0.2653302946474234, 0.4775945303653623, 0.5212959906602322, 0.04682299317307387, 0.14671204527563367, 0.19665657132691355, 0.639914240032022, -3.561669014031896, -0.3589762809935753, 0.5837266482243321, 0.3340040179679333, 0.09052445346794377, 0.3215178864551133, -2.893660978096028, 0.621185042762792, -0.07179525619871589, -0.3964346755320352], \"mode\": \"markers\", \"marker\": {\"color\": \"#BE0032\"}, \"name\": 6}, {\"type\": \"scatter\", \"x\": [3, 7, 11, 14, 18, 2, 9, 13, 15, 9, 11, 5, 17, 20, 4, 7, 11, 15, 22, 2, 13, 17, 7, 11, 17, 0, 4, 11, 22, 2, 9, 17, 2, 17, 21, 0, 11, 15, 19, 2, 13, 17, 21, 4, 8, 12, 15, 2, 17, 8, 10], \"y\": [1.2039095874725292, 0.9688338736562294, 0.28375607910587125, -0.011767675406048119, 0.8143555474340897, 2.1374959937715463, 1.4322688523226486, -0.5625164906328066, -0.8177415513476457, -1.6707305700525035, -1.2072955913860848, 1.2777905261005083, -0.9722198775697853, -0.6229645313284263, 1.2039095874725292, 0.015098120458671876, 0.18300934461317156, -0.3274407768165072, -0.690129020990226, -0.4483368582077466, 0.65987722121195, 1.593463627510968, 1.0427148122842091, -0.40803816441066687, 0.79420620053555, 0.7874897515693697, 2.406153952418746, 0.4248015073956509, -0.4550533071739266, 0.4516673032603709, -0.19982824645908692, -0.965503428603605, 0.23674093634261156, -0.7707264085843857, -2.501182754140374, -1.5767002845259834, -1.012518571366865, 0.33077122186913155, -0.7640099596182057, 0.7203252619075703, 0.055396814255751874, -0.11251440989874723, -1.032667918265405, 0.7606239557046497, -0.730427714787306, -1.502819345898004, 0.5188317929221703, 0.12927775288373156, -0.710278367888766, -0.2535598381885269, -0.10579796093256752], \"mode\": \"markers\", \"marker\": {\"color\": \"#C2B280\"}, \"name\": 7}, {\"type\": \"scatter\", \"x\": [14, 15], \"y\": [-0.7071067811865476, 0.7071067811865476], \"mode\": \"markers\", \"marker\": {\"color\": \"#848482\"}, \"name\": 8}, {\"type\": \"scatter\", \"x\": [8, 23, 3, 10, 14, 17, 1, 12], \"y\": [0.6707744200209834, -1.1112454275394534, -0.00880942015036947, -0.5776462641456502, 1.0885926328670752, 1.5416485263146433, -1.0609058838230567, -0.5424085835441728], \"mode\": \"markers\", \"marker\": {\"color\": \"#008856\"}, \"name\": 9}, {\"type\": \"scatter\", \"x\": [1, 1, 16], \"y\": [0.4470390049816907, 0.6984984452838902, -1.1455374502655808], \"mode\": \"markers\", \"marker\": {\"color\": \"#0067A5\"}, \"name\": 11}, {\"type\": \"scatter\", \"x\": [4, 12, 15, 19], \"y\": [-1.21371954641366, 0.06837856599513596, 1.2308141879124443, -0.0854732074939192], \"mode\": \"markers\", \"marker\": {\"color\": \"#F99379\"}, \"name\": 12}], {\"title\": \"Normalized upload speed by hour  to the date 2019-02-05 10:57:47\", \"xaxis\": {\"title\": \"Hour of the day\"}, \"yaxis\": {\"title\": \"Difference to normalized speeds (Mbps)\"}}, {\"showLink\": true, \"linkText\": \"Export to plot.ly\"})});</script>"
      ]
     },
     "metadata": {},
     "output_type": "display_data"
    }
   ],
   "source": [
    "traces=[]\n",
    "t=\"Normalized upload speed by hour \"+title_tail\n",
    "traces=[]\n",
    "for device in device_numbers_u:\n",
    "    subset=upload_df[upload_df[\"SK_PI\"]==device]\n",
    "    trace = go.Scatter(\n",
    "        x = subset['hour'],\n",
    "        y=(subset['UPLOAD']-subset['UPLOAD'].mean())/subset['UPLOAD'].std(),\n",
    "        mode = 'markers',\n",
    "        marker = dict(color=colors[device]),\n",
    "        name = device\n",
    "    )\n",
    "    traces.append(trace)\n",
    "layout = go.Layout(\n",
    "        title=t,\n",
    "        xaxis=dict(title=\"Hour of the day\"),\n",
    "        yaxis=dict(title=\"Difference to normalized speeds (Mbps)\")\n",
    "        )\n",
    "data = traces\n",
    "fig = go.Figure(data=data, layout=layout)\n",
    "iplot(fig)"
   ]
  },
  {
   "cell_type": "code",
   "execution_count": 75,
   "metadata": {},
   "outputs": [
    {
     "data": {
      "application/vnd.plotly.v1+json": {
       "data": [
        {
         "marker": {
          "color": "#222222"
         },
         "name": "1",
         "type": "box",
         "y": [
          17.8176
         ]
        },
        {
         "marker": {
          "color": "#F3C300"
         },
         "name": "2",
         "type": "box",
         "y": [
          2.9491199999999997
         ]
        },
        {
         "marker": {
          "color": "#875692"
         },
         "name": "3",
         "type": "box",
         "y": [
          6.000640000000001,
          8.64256
         ]
        },
        {
         "marker": {
          "color": "#F38400"
         },
         "name": "6",
         "type": "box",
         "y": [
          12.3904,
          2.8057600000000003
         ]
        },
        {
         "marker": {
          "color": "#A1CAF1"
         },
         "name": "8",
         "type": "box",
         "y": [
          2.85696,
          2.5292800000000004
         ]
        },
        {
         "marker": {
          "color": "#BE0032"
         },
         "name": "9",
         "type": "box",
         "y": [
          4.21888
         ]
        },
        {
         "marker": {
          "color": "#C2B280"
         },
         "name": "10",
         "type": "box",
         "y": [
          2.01728
         ]
        },
        {
         "marker": {
          "color": "#848482"
         },
         "name": "14",
         "type": "box",
         "y": [
          2.7648
         ]
        },
        {
         "marker": {
          "color": "#008856"
         },
         "name": "15",
         "type": "box",
         "y": [
          17.6128
         ]
        },
        {
         "marker": {
          "color": "#E68FAC"
         },
         "name": "16",
         "type": "box",
         "y": [
          4.9356800000000005,
          1.55648
         ]
        },
        {
         "marker": {
          "color": "#0067A5"
         },
         "name": "18",
         "type": "box",
         "y": [
          13.312000000000001
         ]
        },
        {
         "marker": {
          "color": "#F99379"
         },
         "name": "19",
         "type": "box",
         "y": [
          3.7068800000000004,
          3.6147199999999997
         ]
        },
        {
         "marker": {
          "color": "#604E97"
         },
         "name": "20",
         "type": "box",
         "y": [
          20.48
         ]
        },
        {
         "marker": {
          "color": "#F6A600"
         },
         "name": "21",
         "type": "box",
         "y": [
          10.1478
         ]
        },
        {
         "marker": {
          "color": "#B3446C"
         },
         "name": "22",
         "type": "box",
         "y": [
          6.77888
         ]
        },
        {
         "marker": {
          "color": "#DCD300"
         },
         "name": "23",
         "type": "box",
         "y": [
          10.3424
         ]
        },
        {
         "marker": {
          "color": "red"
         },
         "mode": "markers",
         "name": "10Mbps",
         "type": "scatter",
         "x": [
          1,
          2,
          3,
          6,
          8,
          9,
          10,
          14,
          15,
          16,
          18,
          19,
          20,
          21,
          22,
          23
         ],
         "y": [
          10,
          10,
          10,
          10,
          10,
          10,
          10,
          10,
          10,
          10,
          10,
          10,
          10,
          10,
          10,
          10
         ]
        }
       ],
       "layout": {
        "title": "Upload speed by hour for the device 3  to the date 2019-02-05 10:57:47",
        "xaxis": {
         "title": "Hour of the day"
        },
        "yaxis": {
         "rangemode": "tozero",
         "title": "Upload speed (Mbps)"
        }
       }
      },
      "text/html": [
       "<div id=\"c3a576b4-4044-4173-8f4b-1bd18cca9b2b\" style=\"height: 525px; width: 100%;\" class=\"plotly-graph-div\"></div><script type=\"text/javascript\">require([\"plotly\"], function(Plotly) { window.PLOTLYENV=window.PLOTLYENV || {};window.PLOTLYENV.BASE_URL=\"https://plot.ly\";Plotly.newPlot(\"c3a576b4-4044-4173-8f4b-1bd18cca9b2b\", [{\"type\": \"box\", \"y\": [17.8176], \"name\": \"1\", \"marker\": {\"color\": \"#222222\"}}, {\"type\": \"box\", \"y\": [2.9491199999999997], \"name\": \"2\", \"marker\": {\"color\": \"#F3C300\"}}, {\"type\": \"box\", \"y\": [6.000640000000001, 8.64256], \"name\": \"3\", \"marker\": {\"color\": \"#875692\"}}, {\"type\": \"box\", \"y\": [12.3904, 2.8057600000000003], \"name\": \"6\", \"marker\": {\"color\": \"#F38400\"}}, {\"type\": \"box\", \"y\": [2.85696, 2.5292800000000004], \"name\": \"8\", \"marker\": {\"color\": \"#A1CAF1\"}}, {\"type\": \"box\", \"y\": [4.21888], \"name\": \"9\", \"marker\": {\"color\": \"#BE0032\"}}, {\"type\": \"box\", \"y\": [2.01728], \"name\": \"10\", \"marker\": {\"color\": \"#C2B280\"}}, {\"type\": \"box\", \"y\": [2.7648], \"name\": \"14\", \"marker\": {\"color\": \"#848482\"}}, {\"type\": \"box\", \"y\": [17.6128], \"name\": \"15\", \"marker\": {\"color\": \"#008856\"}}, {\"type\": \"box\", \"y\": [4.9356800000000005, 1.55648], \"name\": \"16\", \"marker\": {\"color\": \"#E68FAC\"}}, {\"type\": \"box\", \"y\": [13.312000000000001], \"name\": \"18\", \"marker\": {\"color\": \"#0067A5\"}}, {\"type\": \"box\", \"y\": [3.7068800000000004, 3.6147199999999997], \"name\": \"19\", \"marker\": {\"color\": \"#F99379\"}}, {\"type\": \"box\", \"y\": [20.48], \"name\": \"20\", \"marker\": {\"color\": \"#604E97\"}}, {\"type\": \"box\", \"y\": [10.1478], \"name\": \"21\", \"marker\": {\"color\": \"#F6A600\"}}, {\"type\": \"box\", \"y\": [6.77888], \"name\": \"22\", \"marker\": {\"color\": \"#B3446C\"}}, {\"type\": \"box\", \"y\": [10.3424], \"name\": \"23\", \"marker\": {\"color\": \"#DCD300\"}}, {\"type\": \"scatter\", \"x\": [1, 2, 3, 6, 8, 9, 10, 14, 15, 16, 18, 19, 20, 21, 22, 23], \"y\": [10, 10, 10, 10, 10, 10, 10, 10, 10, 10, 10, 10, 10, 10, 10, 10], \"mode\": \"markers\", \"marker\": {\"color\": \"red\"}, \"name\": \"10Mbps\"}], {\"title\": \"Upload speed by hour for the device 3  to the date 2019-02-05 10:57:47\", \"xaxis\": {\"title\": \"Hour of the day\"}, \"yaxis\": {\"title\": \"Upload speed (Mbps)\", \"rangemode\": \"tozero\"}}, {\"showLink\": true, \"linkText\": \"Export to plot.ly\"})});</script>"
      ],
      "text/vnd.plotly.v1+html": [
       "<div id=\"c3a576b4-4044-4173-8f4b-1bd18cca9b2b\" style=\"height: 525px; width: 100%;\" class=\"plotly-graph-div\"></div><script type=\"text/javascript\">require([\"plotly\"], function(Plotly) { window.PLOTLYENV=window.PLOTLYENV || {};window.PLOTLYENV.BASE_URL=\"https://plot.ly\";Plotly.newPlot(\"c3a576b4-4044-4173-8f4b-1bd18cca9b2b\", [{\"type\": \"box\", \"y\": [17.8176], \"name\": \"1\", \"marker\": {\"color\": \"#222222\"}}, {\"type\": \"box\", \"y\": [2.9491199999999997], \"name\": \"2\", \"marker\": {\"color\": \"#F3C300\"}}, {\"type\": \"box\", \"y\": [6.000640000000001, 8.64256], \"name\": \"3\", \"marker\": {\"color\": \"#875692\"}}, {\"type\": \"box\", \"y\": [12.3904, 2.8057600000000003], \"name\": \"6\", \"marker\": {\"color\": \"#F38400\"}}, {\"type\": \"box\", \"y\": [2.85696, 2.5292800000000004], \"name\": \"8\", \"marker\": {\"color\": \"#A1CAF1\"}}, {\"type\": \"box\", \"y\": [4.21888], \"name\": \"9\", \"marker\": {\"color\": \"#BE0032\"}}, {\"type\": \"box\", \"y\": [2.01728], \"name\": \"10\", \"marker\": {\"color\": \"#C2B280\"}}, {\"type\": \"box\", \"y\": [2.7648], \"name\": \"14\", \"marker\": {\"color\": \"#848482\"}}, {\"type\": \"box\", \"y\": [17.6128], \"name\": \"15\", \"marker\": {\"color\": \"#008856\"}}, {\"type\": \"box\", \"y\": [4.9356800000000005, 1.55648], \"name\": \"16\", \"marker\": {\"color\": \"#E68FAC\"}}, {\"type\": \"box\", \"y\": [13.312000000000001], \"name\": \"18\", \"marker\": {\"color\": \"#0067A5\"}}, {\"type\": \"box\", \"y\": [3.7068800000000004, 3.6147199999999997], \"name\": \"19\", \"marker\": {\"color\": \"#F99379\"}}, {\"type\": \"box\", \"y\": [20.48], \"name\": \"20\", \"marker\": {\"color\": \"#604E97\"}}, {\"type\": \"box\", \"y\": [10.1478], \"name\": \"21\", \"marker\": {\"color\": \"#F6A600\"}}, {\"type\": \"box\", \"y\": [6.77888], \"name\": \"22\", \"marker\": {\"color\": \"#B3446C\"}}, {\"type\": \"box\", \"y\": [10.3424], \"name\": \"23\", \"marker\": {\"color\": \"#DCD300\"}}, {\"type\": \"scatter\", \"x\": [1, 2, 3, 6, 8, 9, 10, 14, 15, 16, 18, 19, 20, 21, 22, 23], \"y\": [10, 10, 10, 10, 10, 10, 10, 10, 10, 10, 10, 10, 10, 10, 10, 10], \"mode\": \"markers\", \"marker\": {\"color\": \"red\"}, \"name\": \"10Mbps\"}], {\"title\": \"Upload speed by hour for the device 3  to the date 2019-02-05 10:57:47\", \"xaxis\": {\"title\": \"Hour of the day\"}, \"yaxis\": {\"title\": \"Upload speed (Mbps)\", \"rangemode\": \"tozero\"}}, {\"showLink\": true, \"linkText\": \"Export to plot.ly\"})});</script>"
      ]
     },
     "metadata": {},
     "output_type": "display_data"
    }
   ],
   "source": [
    "upload_df[\"hour\"]=pd.to_numeric(upload_df[\"time\"].dt.hour)\n",
    "\n",
    "device_number=3\n",
    "subset=upload_df[upload_df[\"SK_PI\"]==device_number]\n",
    "t=\"Upload speed by hour for the device \" + str(device_number)+\" \"+title_tail\n",
    "simple_boxplot(dataframe=subset,plot_value='UPLOAD',sort_value='hour',\n",
    "               title=t,\n",
    "               ytitle=\"Upload speed (Mbps)\",\n",
    "               xtitle=\"Hour of the day\", uploadline=True)"
   ]
  },
  {
   "cell_type": "code",
   "execution_count": 59,
   "metadata": {},
   "outputs": [],
   "source": [
    "upload_df[\"time_group\"]=\"\"\n",
    "upload_df.loc[(upload_df[\"hour\"]>23)|(upload_df[\"hour\"]<=7),\"time_group\"]=\"night 23:00-07:00\"\n",
    "upload_df.loc[(upload_df[\"hour\"]>7)&(upload_df[\"hour\"]<=17),\"time_group\"]=\"day 7:00-17:00\"\n",
    "upload_df.loc[(upload_df[\"hour\"]>17)&(upload_df[\"hour\"]<=23),\"time_group\"]=\"evening 17:00-23:00\""
   ]
  },
  {
   "cell_type": "code",
   "execution_count": 62,
   "metadata": {},
   "outputs": [
    {
     "data": {
      "application/vnd.plotly.v1+json": {
       "data": [
        {
         "boxpoints": "all",
         "jitter": 0.3,
         "marker": {
          "color": "#222222"
         },
         "name": "day 7:00-17:00",
         "pointpos": -1.8,
         "type": "box",
         "y": [
          4.9356800000000005,
          2.01728,
          2.7648,
          4.21888,
          1.55648,
          17.6128,
          2.85696,
          2.5292800000000004
         ]
        },
        {
         "boxpoints": "all",
         "jitter": 0.3,
         "marker": {
          "color": "#F3C300"
         },
         "name": "evening 17:00-23:00",
         "pointpos": -1.8,
         "type": "box",
         "y": [
          13.312000000000001,
          6.77888,
          20.48,
          10.3424,
          10.1478,
          3.7068800000000004,
          3.6147199999999997
         ]
        },
        {
         "boxpoints": "all",
         "jitter": 0.3,
         "marker": {
          "color": "#875692"
         },
         "name": "night 23:00-07:00",
         "pointpos": -1.8,
         "type": "box",
         "y": [
          6.000640000000001,
          17.8176,
          8.64256,
          2.9491199999999997,
          12.3904,
          2.8057600000000003
         ]
        },
        {
         "marker": {
          "color": "red"
         },
         "mode": "markers",
         "name": "10Mbps",
         "type": "scatter",
         "x": [
          "day 7:00-17:00",
          "evening 17:00-23:00",
          "night 23:00-07:00"
         ],
         "y": [
          10,
          10,
          10
         ]
        }
       ],
       "layout": {
        "title": "Upload speed by timegroup for the device 3 to the date 2019-02-05 10:57:47",
        "xaxis": {
         "title": ""
        },
        "yaxis": {
         "rangemode": "tozero",
         "title": "Mbps"
        }
       }
      },
      "text/html": [
       "<div id=\"77e889a4-7f0c-4123-a681-a6f495266e2b\" style=\"height: 525px; width: 100%;\" class=\"plotly-graph-div\"></div><script type=\"text/javascript\">require([\"plotly\"], function(Plotly) { window.PLOTLYENV=window.PLOTLYENV || {};window.PLOTLYENV.BASE_URL=\"https://plot.ly\";Plotly.newPlot(\"77e889a4-7f0c-4123-a681-a6f495266e2b\", [{\"type\": \"box\", \"y\": [4.9356800000000005, 2.01728, 2.7648, 4.21888, 1.55648, 17.6128, 2.85696, 2.5292800000000004], \"name\": \"day 7:00-17:00\", \"marker\": {\"color\": \"#222222\"}, \"boxpoints\": \"all\", \"jitter\": 0.3, \"pointpos\": -1.8}, {\"type\": \"box\", \"y\": [13.312000000000001, 6.77888, 20.48, 10.3424, 10.1478, 3.7068800000000004, 3.6147199999999997], \"name\": \"evening 17:00-23:00\", \"marker\": {\"color\": \"#F3C300\"}, \"boxpoints\": \"all\", \"jitter\": 0.3, \"pointpos\": -1.8}, {\"type\": \"box\", \"y\": [6.000640000000001, 17.8176, 8.64256, 2.9491199999999997, 12.3904, 2.8057600000000003], \"name\": \"night 23:00-07:00\", \"marker\": {\"color\": \"#875692\"}, \"boxpoints\": \"all\", \"jitter\": 0.3, \"pointpos\": -1.8}, {\"type\": \"scatter\", \"x\": [\"day 7:00-17:00\", \"evening 17:00-23:00\", \"night 23:00-07:00\"], \"y\": [10, 10, 10], \"mode\": \"markers\", \"marker\": {\"color\": \"red\"}, \"name\": \"10Mbps\"}], {\"title\": \"Upload speed by timegroup for the device 3 to the date 2019-02-05 10:57:47\", \"xaxis\": {\"title\": \"\"}, \"yaxis\": {\"title\": \"Mbps\", \"rangemode\": \"tozero\"}}, {\"showLink\": true, \"linkText\": \"Export to plot.ly\"})});</script>"
      ],
      "text/vnd.plotly.v1+html": [
       "<div id=\"77e889a4-7f0c-4123-a681-a6f495266e2b\" style=\"height: 525px; width: 100%;\" class=\"plotly-graph-div\"></div><script type=\"text/javascript\">require([\"plotly\"], function(Plotly) { window.PLOTLYENV=window.PLOTLYENV || {};window.PLOTLYENV.BASE_URL=\"https://plot.ly\";Plotly.newPlot(\"77e889a4-7f0c-4123-a681-a6f495266e2b\", [{\"type\": \"box\", \"y\": [4.9356800000000005, 2.01728, 2.7648, 4.21888, 1.55648, 17.6128, 2.85696, 2.5292800000000004], \"name\": \"day 7:00-17:00\", \"marker\": {\"color\": \"#222222\"}, \"boxpoints\": \"all\", \"jitter\": 0.3, \"pointpos\": -1.8}, {\"type\": \"box\", \"y\": [13.312000000000001, 6.77888, 20.48, 10.3424, 10.1478, 3.7068800000000004, 3.6147199999999997], \"name\": \"evening 17:00-23:00\", \"marker\": {\"color\": \"#F3C300\"}, \"boxpoints\": \"all\", \"jitter\": 0.3, \"pointpos\": -1.8}, {\"type\": \"box\", \"y\": [6.000640000000001, 17.8176, 8.64256, 2.9491199999999997, 12.3904, 2.8057600000000003], \"name\": \"night 23:00-07:00\", \"marker\": {\"color\": \"#875692\"}, \"boxpoints\": \"all\", \"jitter\": 0.3, \"pointpos\": -1.8}, {\"type\": \"scatter\", \"x\": [\"day 7:00-17:00\", \"evening 17:00-23:00\", \"night 23:00-07:00\"], \"y\": [10, 10, 10], \"mode\": \"markers\", \"marker\": {\"color\": \"red\"}, \"name\": \"10Mbps\"}], {\"title\": \"Upload speed by timegroup for the device 3 to the date 2019-02-05 10:57:47\", \"xaxis\": {\"title\": \"\"}, \"yaxis\": {\"title\": \"Mbps\", \"rangemode\": \"tozero\"}}, {\"showLink\": true, \"linkText\": \"Export to plot.ly\"})});</script>"
      ]
     },
     "metadata": {},
     "output_type": "display_data"
    }
   ],
   "source": [
    "subset=upload_df[upload_df[\"SK_PI\"]==device_number]\n",
    "t=\"Upload speed by timegroup for the device \"+str(device_number)+title_tail\n",
    "simple_boxplot(dataframe=subset,plot_value='UPLOAD',sort_value='time_group',\n",
    "               title=t,\n",
    "               ytitle=\"Mbps\",uploadline=True, jitter=True)"
   ]
  },
  {
   "cell_type": "code",
   "execution_count": 71,
   "metadata": {},
   "outputs": [],
   "source": [
    "upload_df[\"weekday\"]=upload_df[\"time\"].dt.weekday_name\n",
    "upload_df[\"weekday\"] = pd.Categorical(upload_df[\"weekday\"], [\"Monday\", \"Tuesday\", \"Wednesday\", \"Thursday\", \"Friday\", \"Saturday\", \"Sunday\"])"
   ]
  },
  {
   "cell_type": "code",
   "execution_count": 72,
   "metadata": {},
   "outputs": [
    {
     "data": {
      "application/vnd.plotly.v1+json": {
       "data": [
        {
         "boxpoints": "all",
         "jitter": 0.3,
         "marker": {
          "color": "#222222"
         },
         "name": "Monday",
         "pointpos": -1.8,
         "type": "box",
         "y": [
          4.9356800000000005,
          2.5292800000000004
         ]
        },
        {
         "boxpoints": "all",
         "jitter": 0.3,
         "marker": {
          "color": "#F3C300"
         },
         "name": "Tuesday",
         "pointpos": -1.8,
         "type": "box",
         "y": [
          6.000640000000001,
          2.01728,
          2.7648,
          13.312000000000001,
          6.77888
         ]
        },
        {
         "boxpoints": "all",
         "jitter": 0.3,
         "marker": {
          "color": "#875692"
         },
         "name": "Wednesday",
         "pointpos": -1.8,
         "type": "box",
         "y": [
          17.8176,
          4.21888,
          1.55648,
          20.48,
          10.3424,
          10.1478
         ]
        },
        {
         "boxpoints": "all",
         "jitter": 0.3,
         "marker": {
          "color": "#F38400"
         },
         "name": "Thursday",
         "pointpos": -1.8,
         "type": "box",
         "y": [
          8.64256,
          17.6128,
          3.7068800000000004
         ]
        },
        {
         "boxpoints": "all",
         "jitter": 0.3,
         "marker": {
          "color": "#A1CAF1"
         },
         "name": "Friday",
         "pointpos": -1.8,
         "type": "box",
         "y": [
          2.9491199999999997,
          12.3904
         ]
        },
        {
         "boxpoints": "all",
         "jitter": 0.3,
         "marker": {
          "color": "#BE0032"
         },
         "name": "Saturday",
         "pointpos": -1.8,
         "type": "box",
         "y": [
          2.85696,
          3.6147199999999997
         ]
        },
        {
         "boxpoints": "all",
         "jitter": 0.3,
         "marker": {
          "color": "#C2B280"
         },
         "name": "Sunday",
         "pointpos": -1.8,
         "type": "box",
         "y": [
          2.8057600000000003
         ]
        },
        {
         "marker": {
          "color": "red"
         },
         "mode": "markers",
         "name": "10Mbps",
         "type": "scatter",
         "x": [
          "Monday",
          "Tuesday",
          "Wednesday",
          "Thursday",
          "Friday",
          "Saturday",
          "Sunday"
         ],
         "y": [
          10,
          10,
          10,
          10,
          10,
          10,
          10
         ]
        }
       ],
       "layout": {
        "title": "Upload speed by day of the week for the device 3 to the date 2019-02-05 10:57:47",
        "xaxis": {
         "title": ""
        },
        "yaxis": {
         "rangemode": "tozero",
         "title": "Mbps"
        }
       }
      },
      "text/html": [
       "<div id=\"b24947a9-6e0f-4928-b125-269e5ef3f132\" style=\"height: 525px; width: 100%;\" class=\"plotly-graph-div\"></div><script type=\"text/javascript\">require([\"plotly\"], function(Plotly) { window.PLOTLYENV=window.PLOTLYENV || {};window.PLOTLYENV.BASE_URL=\"https://plot.ly\";Plotly.newPlot(\"b24947a9-6e0f-4928-b125-269e5ef3f132\", [{\"type\": \"box\", \"y\": [4.9356800000000005, 2.5292800000000004], \"name\": \"Monday\", \"marker\": {\"color\": \"#222222\"}, \"boxpoints\": \"all\", \"jitter\": 0.3, \"pointpos\": -1.8}, {\"type\": \"box\", \"y\": [6.000640000000001, 2.01728, 2.7648, 13.312000000000001, 6.77888], \"name\": \"Tuesday\", \"marker\": {\"color\": \"#F3C300\"}, \"boxpoints\": \"all\", \"jitter\": 0.3, \"pointpos\": -1.8}, {\"type\": \"box\", \"y\": [17.8176, 4.21888, 1.55648, 20.48, 10.3424, 10.1478], \"name\": \"Wednesday\", \"marker\": {\"color\": \"#875692\"}, \"boxpoints\": \"all\", \"jitter\": 0.3, \"pointpos\": -1.8}, {\"type\": \"box\", \"y\": [8.64256, 17.6128, 3.7068800000000004], \"name\": \"Thursday\", \"marker\": {\"color\": \"#F38400\"}, \"boxpoints\": \"all\", \"jitter\": 0.3, \"pointpos\": -1.8}, {\"type\": \"box\", \"y\": [2.9491199999999997, 12.3904], \"name\": \"Friday\", \"marker\": {\"color\": \"#A1CAF1\"}, \"boxpoints\": \"all\", \"jitter\": 0.3, \"pointpos\": -1.8}, {\"type\": \"box\", \"y\": [2.85696, 3.6147199999999997], \"name\": \"Saturday\", \"marker\": {\"color\": \"#BE0032\"}, \"boxpoints\": \"all\", \"jitter\": 0.3, \"pointpos\": -1.8}, {\"type\": \"box\", \"y\": [2.8057600000000003], \"name\": \"Sunday\", \"marker\": {\"color\": \"#C2B280\"}, \"boxpoints\": \"all\", \"jitter\": 0.3, \"pointpos\": -1.8}, {\"type\": \"scatter\", \"x\": [\"Monday\", \"Tuesday\", \"Wednesday\", \"Thursday\", \"Friday\", \"Saturday\", \"Sunday\"], \"y\": [10, 10, 10, 10, 10, 10, 10], \"mode\": \"markers\", \"marker\": {\"color\": \"red\"}, \"name\": \"10Mbps\"}], {\"title\": \"Upload speed by day of the week for the device 3 to the date 2019-02-05 10:57:47\", \"xaxis\": {\"title\": \"\"}, \"yaxis\": {\"title\": \"Mbps\", \"rangemode\": \"tozero\"}}, {\"showLink\": true, \"linkText\": \"Export to plot.ly\"})});</script>"
      ],
      "text/vnd.plotly.v1+html": [
       "<div id=\"b24947a9-6e0f-4928-b125-269e5ef3f132\" style=\"height: 525px; width: 100%;\" class=\"plotly-graph-div\"></div><script type=\"text/javascript\">require([\"plotly\"], function(Plotly) { window.PLOTLYENV=window.PLOTLYENV || {};window.PLOTLYENV.BASE_URL=\"https://plot.ly\";Plotly.newPlot(\"b24947a9-6e0f-4928-b125-269e5ef3f132\", [{\"type\": \"box\", \"y\": [4.9356800000000005, 2.5292800000000004], \"name\": \"Monday\", \"marker\": {\"color\": \"#222222\"}, \"boxpoints\": \"all\", \"jitter\": 0.3, \"pointpos\": -1.8}, {\"type\": \"box\", \"y\": [6.000640000000001, 2.01728, 2.7648, 13.312000000000001, 6.77888], \"name\": \"Tuesday\", \"marker\": {\"color\": \"#F3C300\"}, \"boxpoints\": \"all\", \"jitter\": 0.3, \"pointpos\": -1.8}, {\"type\": \"box\", \"y\": [17.8176, 4.21888, 1.55648, 20.48, 10.3424, 10.1478], \"name\": \"Wednesday\", \"marker\": {\"color\": \"#875692\"}, \"boxpoints\": \"all\", \"jitter\": 0.3, \"pointpos\": -1.8}, {\"type\": \"box\", \"y\": [8.64256, 17.6128, 3.7068800000000004], \"name\": \"Thursday\", \"marker\": {\"color\": \"#F38400\"}, \"boxpoints\": \"all\", \"jitter\": 0.3, \"pointpos\": -1.8}, {\"type\": \"box\", \"y\": [2.9491199999999997, 12.3904], \"name\": \"Friday\", \"marker\": {\"color\": \"#A1CAF1\"}, \"boxpoints\": \"all\", \"jitter\": 0.3, \"pointpos\": -1.8}, {\"type\": \"box\", \"y\": [2.85696, 3.6147199999999997], \"name\": \"Saturday\", \"marker\": {\"color\": \"#BE0032\"}, \"boxpoints\": \"all\", \"jitter\": 0.3, \"pointpos\": -1.8}, {\"type\": \"box\", \"y\": [2.8057600000000003], \"name\": \"Sunday\", \"marker\": {\"color\": \"#C2B280\"}, \"boxpoints\": \"all\", \"jitter\": 0.3, \"pointpos\": -1.8}, {\"type\": \"scatter\", \"x\": [\"Monday\", \"Tuesday\", \"Wednesday\", \"Thursday\", \"Friday\", \"Saturday\", \"Sunday\"], \"y\": [10, 10, 10, 10, 10, 10, 10], \"mode\": \"markers\", \"marker\": {\"color\": \"red\"}, \"name\": \"10Mbps\"}], {\"title\": \"Upload speed by day of the week for the device 3 to the date 2019-02-05 10:57:47\", \"xaxis\": {\"title\": \"\"}, \"yaxis\": {\"title\": \"Mbps\", \"rangemode\": \"tozero\"}}, {\"showLink\": true, \"linkText\": \"Export to plot.ly\"})});</script>"
      ]
     },
     "metadata": {},
     "output_type": "display_data"
    }
   ],
   "source": [
    "subset=upload_df[upload_df[\"SK_PI\"]==device_number]\n",
    "t=\"Upload speed by day of the week for the device \"+str(device_number)+title_tail\n",
    "simple_boxplot(dataframe=subset,plot_value='UPLOAD',sort_value='weekday',\n",
    "               title=t,\n",
    "               ytitle=\"Mbps\",uploadline=True, weekdays=True, jitter=True)"
   ]
  },
  {
   "cell_type": "markdown",
   "metadata": {},
   "source": [
    "### Ping latency"
   ]
  },
  {
   "cell_type": "code",
   "execution_count": 120,
   "metadata": {},
   "outputs": [],
   "source": [
    "ping_df[\"hour\"]=pd.to_numeric(ping_df[\"time\"].dt.hour)\n",
    "device_numbers_p=ping_df[\"SK_PI\"].unique()"
   ]
  },
  {
   "cell_type": "code",
   "execution_count": 121,
   "metadata": {},
   "outputs": [
    {
     "data": {
      "application/vnd.plotly.v1+json": {
       "data": [
        {
         "marker": {
          "color": "#222222"
         },
         "mode": "markers",
         "name": 1,
         "type": "scatter",
         "x": [
          17,
          17,
          1,
          5
         ],
         "y": [
          1.4748250829169778,
          -0.5555954809718995,
          -0.24315105599837497,
          -0.6760785459467032
         ]
        },
        {
         "marker": {
          "color": "#F3C300"
         },
         "mode": "markers",
         "name": 2,
         "type": "scatter",
         "x": [
          10,
          16,
          19,
          23,
          3,
          7,
          10,
          14,
          18,
          21,
          1,
          5,
          8,
          12,
          16,
          20,
          23,
          3,
          7,
          10,
          14,
          18,
          21,
          1,
          5,
          9,
          12,
          16,
          23,
          7,
          22,
          5,
          12,
          7,
          11,
          18,
          22,
          1,
          5,
          9,
          12,
          20,
          0,
          3,
          7,
          11,
          14,
          22,
          1,
          5,
          9,
          13,
          16,
          20,
          0,
          3,
          7,
          11,
          14,
          18,
          22,
          2,
          5,
          13,
          16,
          20,
          0,
          3,
          7,
          11,
          15,
          18,
          22,
          2,
          5,
          9,
          13,
          16,
          20,
          0,
          4,
          7,
          11,
          22,
          5,
          7,
          13,
          0,
          11,
          15,
          2,
          0,
          4,
          8,
          11,
          15,
          19,
          2,
          6,
          10,
          13,
          17,
          0,
          4,
          11
         ],
         "y": [
          -0.3018824888092734,
          -0.09472860520815389,
          0.19736717996117156,
          -0.3020857801572627,
          0.21491799967091646,
          0.6256004045006797,
          0.6093709785528654,
          -0.18183894782157858,
          -0.329326820787832,
          -0.01669860947158562,
          -0.28460272423018124,
          -0.25583699848969194,
          -0.3241428914141043,
          -0.3271583797426126,
          8.48606366585583,
          -0.16266179732791905,
          -0.3384071676646884,
          -0.11400740137580807,
          -0.3469115223889086,
          -0.3327150099209874,
          -0.2565824000989863,
          -0.12766180358242396,
          0.030431101370605868,
          -0.33376534855226553,
          -0.2970373783488611,
          -0.09703257381869947,
          -0.1809241367556266,
          -0.25170340774724237,
          -0.30012063046003284,
          -0.35544975900445996,
          -0.04726007545264668,
          -0.09720198327535708,
          -0.45973822052298263,
          -0.3178069777351036,
          -0.3270567340686179,
          0.0084078720050962,
          1.6676718542939477,
          -0.3417275930151809,
          -0.3118098829694188,
          -0.2184652723509883,
          -0.2488912107667235,
          -0.19935588563999174,
          -0.33505286042286475,
          -0.26529004617119534,
          -0.255464297685045,
          -0.34294734110311664,
          -0.30960756003286793,
          0.523819202940692,
          -0.33068209644109436,
          -0.33844104955602017,
          0.43349008065076966,
          0.07884832408339629,
          -0.26861047152168754,
          -0.250043195071996,
          -0.2881264409286628,
          -0.2914129843878233,
          -0.269288109348319,
          -0.2224294536367798,
          -0.22934135946841702,
          -0.2554304157937133,
          0.43491312008669497,
          -0.3462000026709459,
          -0.31445267049328013,
          -0.24282635221837529,
          -0.34694540428024007,
          0.46672821604702375,
          3.9343703843748954,
          -0.31167435540409244,
          -0.29551269323894164,
          1.042415431661454,
          -0.2907353465611924,
          0.01992771505782412,
          1.3530446113891392,
          -0.11078862169931002,
          -0.2892784252339354,
          -0.2574633292736066,
          -0.1733007112060272,
          0.712812392788099,
          -0.2963597405222302,
          -0.2892106614512724,
          -0.40423968252189757,
          -0.546340334766434,
          -0.19373149167895393,
          1.4095596061301712,
          -0.30361046526718266,
          -0.16750690778833127,
          -0.2988331185894339,
          -0.11180507843925667,
          -0.2757934324839771,
          -0.10557081043425086,
          0.018775730752551567,
          -0.29957852019872777,
          -0.3148253712979271,
          -0.3093026230108839,
          -0.24489314758960032,
          -0.20165985425053734,
          -0.057187469612792155,
          -0.23659208421336947,
          -0.3411177189712129,
          -0.35490764874315517,
          -0.27138878661087523,
          -0.30496574092044504,
          -0.2815194721190096,
          -0.3378989392947151,
          -0.005754758571493496
         ]
        },
        {
         "marker": {
          "color": "#875692"
         },
         "mode": "markers",
         "name": 3,
         "type": "scatter",
         "x": [
          16,
          3,
          10,
          14,
          18,
          22,
          1,
          9,
          16,
          20,
          23,
          3,
          21,
          15,
          19,
          2,
          6,
          8,
          19,
          6,
          8
         ],
         "y": [
          -0.42219238165257195,
          -0.6752163084243397,
          3.2303304322301343,
          -0.10999350426483478,
          -0.48952939442247917,
          -0.5813525936541708,
          -0.6527706375010325,
          0.7694686928208845,
          2.2223157562200466,
          -0.6629732151934475,
          -0.7976472407332474,
          -0.1814115481116964,
          0.2654613548158407,
          -0.332409697959372,
          0.06549083204461073,
          0.3225957898933474,
          -0.5997172335005092,
          -0.14468226841901977,
          -0.6160413578083558,
          -0.4466785681143564,
          -0.1630469082653581
         ]
        },
        {
         "marker": {
          "color": "#F38400"
         },
         "mode": "markers",
         "name": 4,
         "type": "scatter",
         "x": [
          20,
          2,
          17,
          11,
          20,
          0,
          15,
          19,
          2,
          13,
          20,
          15,
          9,
          17,
          9,
          16,
          20,
          23,
          3,
          7,
          10,
          14,
          1,
          5,
          12,
          23,
          3,
          7,
          11,
          14,
          11,
          22,
          1,
          5,
          16,
          20,
          11,
          13,
          4,
          7,
          15,
          18,
          22,
          9,
          13,
          9,
          20,
          4,
          7,
          19,
          2,
          8,
          15,
          6,
          0,
          4,
          8,
          11,
          15,
          22,
          10,
          13,
          4,
          23,
          6,
          10,
          6,
          10,
          23,
          4
         ],
         "y": [
          -0.31161345207841695,
          -0.3318112834493839,
          -0.24280712818819686,
          -0.2605697600321677,
          -0.24347561433286224,
          -0.2987212192884383,
          -0.20088349711559905,
          0.09931453084957442,
          -0.19128594603861482,
          -0.2655834061171593,
          -0.18402809646796,
          -0.1730935731016447,
          -0.16010584229099908,
          0.03561735106501257,
          -0.28353703400246305,
          -0.24228188907453094,
          -0.26434193184849486,
          3.1070246917413002,
          -0.27188627548114885,
          -0.25321641244084625,
          -0.21019455413058377,
          -0.27594494135947556,
          -0.26992856605748555,
          -0.27494221214247716,
          1.2122484636970798,
          -0.19978526987793405,
          -0.30416460646642923,
          -0.2631959556004967,
          -0.14535139809802344,
          -0.21153152641991485,
          -0.3347717220900456,
          -0.25479212978184373,
          -0.3058358218280933,
          -0.2726980086568143,
          -0.11350280820574235,
          -0.26386444174516205,
          -0.2545056357198442,
          0.8347925370126998,
          -0.24481258662219332,
          -0.3265111433023927,
          0.07348231625928367,
          -0.09435545506210731,
          6.378834628786258,
          -0.15972385020833327,
          -0.2641509358071616,
          -0.294567055389445,
          -0.27498996115281066,
          -0.30817552333442283,
          0.12481250236753282,
          -0.2753242042251433,
          -0.3095124956237539,
          -0.3274661235090576,
          -0.17844146225896898,
          -0.2680186056441554,
          -0.25980577586683534,
          -0.23917820340286947,
          -0.2468180450561901,
          -0.17758198007297069,
          -0.28162707358913286,
          3.519432893989623,
          -0.2668248803858241,
          -0.1887552484909521,
          -0.2961427727304425,
          -0.15862562297066823,
          -0.3385916429167062,
          -0.3066953040140916,
          -0.32345520664106436,
          -0.29790948611277285,
          -0.2869749627464575,
          -0.25627234910217456
         ]
        },
        {
         "marker": {
          "color": "#A1CAF1"
         },
         "mode": "markers",
         "name": 5,
         "type": "scatter",
         "x": [
          15,
          18,
          22,
          9,
          13,
          20,
          0,
          4,
          15,
          18,
          22,
          2,
          9,
          17,
          4,
          7,
          22,
          6,
          9,
          13,
          22,
          8,
          15,
          19,
          22,
          1,
          5,
          12,
          16,
          18,
          22,
          9,
          16,
          20,
          22,
          1,
          20,
          0,
          3,
          7,
          14,
          18,
          5,
          20,
          0,
          22,
          0,
          3,
          7,
          18,
          22,
          2,
          20,
          0,
          2,
          17,
          0,
          18,
          6,
          0,
          15,
          22,
          6,
          13,
          17,
          20,
          4,
          19,
          13,
          11,
          19,
          6,
          2,
          13,
          17,
          19,
          23,
          10,
          13,
          23,
          10,
          17
         ],
         "y": [
          -0.38965458483623583,
          -0.3984794710645547,
          -0.3981840236362412,
          -0.39336694600069605,
          -0.3838355550524972,
          -0.3903353984753929,
          -0.3878048270241866,
          -0.3927888966844306,
          -0.37596123881092597,
          -0.2707947998717031,
          -0.3804957145585193,
          -0.38586515042960695,
          -0.33620429139222624,
          -0.3692044845808013,
          -0.0797687691565225,
          -0.3750748965259858,
          -0.3147393934482369,
          -0.3757428646247813,
          0.11168116439058608,
          -0.36499114734224436,
          -0.3591464264777829,
          -0.2965115716753339,
          -0.34439974614283386,
          -0.32654444504041297,
          -0.3513491834783804,
          0.08523219678635258,
          -0.3502573125476569,
          -0.34554299923500326,
          -0.3418049469898202,
          -0.33327550818981483,
          -0.3335709556181282,
          0.7783775546904038,
          -0.3258250947801716,
          -0.26230389769278206,
          -0.32121354579040956,
          -0.3192353325747457,
          -0.3080982490813651,
          -0.2812767608066495,
          0.017754573267635337,
          -0.30841938759040155,
          -0.03137961861492579,
          -0.30545206776690575,
          -0.3147907756096826,
          -0.3060301170831712,
          1.5546977864348692,
          -0.24315119701385432,
          -0.3032940169861814,
          -0.3018039343042528,
          -0.22273963337950414,
          -0.2983356384066603,
          -0.24352371768433664,
          -0.2628691014686862,
          -0.1747743856698354,
          -0.28778944976990667,
          0.08550195313394311,
          -0.24285574958554093,
          -0.188120902105386,
          -0.2727216309259213,
          -0.2692790261090516,
          -0.20270059041563604,
          1.7524163436783673,
          -0.25201461986325746,
          -0.1688525915632052,
          0.957495769490517,
          1.6465690910999875,
          1.2034236397105513,
          1.6068378347620105,
          1.8157063210392508,
          -0.384901734902498,
          -0.2971923853144909,
          -0.41865981497239874,
          -0.42298876207420877,
          1.602804335088514,
          -0.3935853201868407,
          0.09453236800804522,
          -0.39149149710792375,
          -0.314829312230767,
          7.377170174990348,
          -0.27961968610002186,
          -0.3425499883307844,
          0.08818667106948701,
          -0.3680226948675476
         ]
        },
        {
         "marker": {
          "color": "#BE0032"
         },
         "mode": "markers",
         "name": 6,
         "type": "scatter",
         "x": [
          18,
          2,
          5,
          9,
          13,
          17,
          20,
          0,
          4,
          7,
          11,
          15,
          18,
          22,
          2,
          6,
          9,
          13,
          17,
          20,
          4,
          7,
          11,
          19,
          22,
          9
         ],
         "y": [
          0.05310238433673024,
          -0.5744441338651647,
          -0.5297046007233949,
          -0.5698210487738485,
          -0.580260273173595,
          -0.4860089900215995,
          -0.5605748785912165,
          -0.2687239907297345,
          -0.5137475005694969,
          -0.5443195148830396,
          -0.5045013303868637,
          -0.2946729199519622,
          0.0453475319254912,
          1.7186060714276952,
          -0.4672183861020553,
          3.658512228454849,
          -0.04025410815242876,
          -0.40040734994367844,
          -0.5212040894264582,
          1.2901504757066755,
          -0.5619170645854695,
          -0.5337311587061544,
          0.30394203348492194,
          -0.5201601669864839,
          -0.19281591616586444,
          1.5948266964021314
         ]
        },
        {
         "marker": {
          "color": "#C2B280"
         },
         "mode": "markers",
         "name": 7,
         "type": "scatter",
         "x": [
          3,
          7,
          11,
          14,
          18,
          2,
          9,
          13,
          15,
          9,
          11,
          5,
          17,
          20,
          4,
          7,
          11,
          15,
          22,
          2,
          13,
          17,
          7,
          11,
          17,
          0,
          4,
          11,
          22,
          2,
          9,
          17,
          2,
          17,
          21,
          0,
          11,
          15,
          19,
          2,
          13,
          17,
          21,
          4,
          8,
          12,
          15,
          2,
          17,
          8,
          10
         ],
         "y": [
          -0.23710666326964716,
          0.000998415501961604,
          0.07014436182810496,
          -0.7052160404901412,
          -0.23218833235942066,
          -0.3641153261867052,
          0.014306840317873675,
          0.9756958764759062,
          -0.07538037039804353,
          0.3438350113031271,
          1.169825290638424,
          -0.2073073642253281,
          1.002891353273638,
          -0.2397104855162384,
          -0.3606435631912503,
          -0.3785810053344329,
          -0.46566439380375885,
          -0.09216055820941056,
          0.7555282398474801,
          -0.05917880975258839,
          -0.2941014391116981,
          -0.5382821031253531,
          -0.024461179798038735,
          -0.10344378794463509,
          -1.7047944695981783,
          -2.4266318590698304,
          -1.8523443969050102,
          -0.25070440166851105,
          -0.007391678403719859,
          -0.6869892847640047,
          0.351067850876993,
          -0.2868685995378322,
          -0.15552023287645958,
          1.3029095387975242,
          4.689035713697808,
          -0.605692167953769,
          -0.6239189236799075,
          -0.6783098772753673,
          0.5099010079190495,
          -0.5738676738287665,
          -0.36614052126738456,
          0.23215996828266455,
          0.2524119190894824,
          1.0104135064304558,
          0.16098882687583774,
          1.297701894304342,
          -0.06496508141167863,
          -0.9297233808628881,
          0.18037283693379602,
          1.367426467796393,
          -0.09621094837077332
         ]
        },
        {
         "marker": {
          "color": "#848482"
         },
         "mode": "markers",
         "name": 8,
         "type": "scatter",
         "x": [
          14,
          15
         ],
         "y": [
          -0.7071067811865475,
          0.7071067811865475
         ]
        },
        {
         "marker": {
          "color": "#008856"
         },
         "mode": "markers",
         "name": 9,
         "type": "scatter",
         "x": [
          8,
          23,
          3,
          10,
          14,
          17,
          1,
          12
         ],
         "y": [
          -0.32839717229062737,
          2.4709412400005295,
          -0.42136413063237893,
          -0.3352836136492612,
          -0.30085140685601897,
          -0.3662725997631865,
          -0.27674886210075184,
          -0.44202345470832916
         ]
        },
        {
         "marker": {
          "color": "#0067A5"
         },
         "mode": "markers",
         "name": 11,
         "type": "scatter",
         "x": [
          1,
          1,
          16
         ],
         "y": [
          -0.7101099744242583,
          -0.4334929619751074,
          1.143602936399355
         ]
        },
        {
         "marker": {
          "color": "#F99379"
         },
         "mode": "markers",
         "name": 12,
         "type": "scatter",
         "x": [
          4,
          12,
          15,
          19
         ],
         "y": [
          -0.0735707173104901,
          -0.9908671525396111,
          1.382588162433594,
          -0.31815029258349103
         ]
        }
       ],
       "layout": {
        "title": "Normalized ping latency by hour  to the date 2019-02-05 10:57:47",
        "xaxis": {
         "title": "Hour of the day"
        },
        "yaxis": {
         "title": "Difference to normalized latencies (Miliseconda)"
        }
       }
      },
      "text/html": [
       "<div id=\"78861c5e-f6a1-49f2-8cd2-69bd0365a0de\" style=\"height: 525px; width: 100%;\" class=\"plotly-graph-div\"></div><script type=\"text/javascript\">require([\"plotly\"], function(Plotly) { window.PLOTLYENV=window.PLOTLYENV || {};window.PLOTLYENV.BASE_URL=\"https://plot.ly\";Plotly.newPlot(\"78861c5e-f6a1-49f2-8cd2-69bd0365a0de\", [{\"type\": \"scatter\", \"x\": [17, 17, 1, 5], \"y\": [1.4748250829169778, -0.5555954809718995, -0.24315105599837497, -0.6760785459467032], \"mode\": \"markers\", \"marker\": {\"color\": \"#222222\"}, \"name\": 1}, {\"type\": \"scatter\", \"x\": [10, 16, 19, 23, 3, 7, 10, 14, 18, 21, 1, 5, 8, 12, 16, 20, 23, 3, 7, 10, 14, 18, 21, 1, 5, 9, 12, 16, 23, 7, 22, 5, 12, 7, 11, 18, 22, 1, 5, 9, 12, 20, 0, 3, 7, 11, 14, 22, 1, 5, 9, 13, 16, 20, 0, 3, 7, 11, 14, 18, 22, 2, 5, 13, 16, 20, 0, 3, 7, 11, 15, 18, 22, 2, 5, 9, 13, 16, 20, 0, 4, 7, 11, 22, 5, 7, 13, 0, 11, 15, 2, 0, 4, 8, 11, 15, 19, 2, 6, 10, 13, 17, 0, 4, 11], \"y\": [-0.3018824888092734, -0.09472860520815389, 0.19736717996117156, -0.3020857801572627, 0.21491799967091646, 0.6256004045006797, 0.6093709785528654, -0.18183894782157858, -0.329326820787832, -0.01669860947158562, -0.28460272423018124, -0.25583699848969194, -0.3241428914141043, -0.3271583797426126, 8.48606366585583, -0.16266179732791905, -0.3384071676646884, -0.11400740137580807, -0.3469115223889086, -0.3327150099209874, -0.2565824000989863, -0.12766180358242396, 0.030431101370605868, -0.33376534855226553, -0.2970373783488611, -0.09703257381869947, -0.1809241367556266, -0.25170340774724237, -0.30012063046003284, -0.35544975900445996, -0.04726007545264668, -0.09720198327535708, -0.45973822052298263, -0.3178069777351036, -0.3270567340686179, 0.0084078720050962, 1.6676718542939477, -0.3417275930151809, -0.3118098829694188, -0.2184652723509883, -0.2488912107667235, -0.19935588563999174, -0.33505286042286475, -0.26529004617119534, -0.255464297685045, -0.34294734110311664, -0.30960756003286793, 0.523819202940692, -0.33068209644109436, -0.33844104955602017, 0.43349008065076966, 0.07884832408339629, -0.26861047152168754, -0.250043195071996, -0.2881264409286628, -0.2914129843878233, -0.269288109348319, -0.2224294536367798, -0.22934135946841702, -0.2554304157937133, 0.43491312008669497, -0.3462000026709459, -0.31445267049328013, -0.24282635221837529, -0.34694540428024007, 0.46672821604702375, 3.9343703843748954, -0.31167435540409244, -0.29551269323894164, 1.042415431661454, -0.2907353465611924, 0.01992771505782412, 1.3530446113891392, -0.11078862169931002, -0.2892784252339354, -0.2574633292736066, -0.1733007112060272, 0.712812392788099, -0.2963597405222302, -0.2892106614512724, -0.40423968252189757, -0.546340334766434, -0.19373149167895393, 1.4095596061301712, -0.30361046526718266, -0.16750690778833127, -0.2988331185894339, -0.11180507843925667, -0.2757934324839771, -0.10557081043425086, 0.018775730752551567, -0.29957852019872777, -0.3148253712979271, -0.3093026230108839, -0.24489314758960032, -0.20165985425053734, -0.057187469612792155, -0.23659208421336947, -0.3411177189712129, -0.35490764874315517, -0.27138878661087523, -0.30496574092044504, -0.2815194721190096, -0.3378989392947151, -0.005754758571493496], \"mode\": \"markers\", \"marker\": {\"color\": \"#F3C300\"}, \"name\": 2}, {\"type\": \"scatter\", \"x\": [16, 3, 10, 14, 18, 22, 1, 9, 16, 20, 23, 3, 21, 15, 19, 2, 6, 8, 19, 6, 8], \"y\": [-0.42219238165257195, -0.6752163084243397, 3.2303304322301343, -0.10999350426483478, -0.48952939442247917, -0.5813525936541708, -0.6527706375010325, 0.7694686928208845, 2.2223157562200466, -0.6629732151934475, -0.7976472407332474, -0.1814115481116964, 0.2654613548158407, -0.332409697959372, 0.06549083204461073, 0.3225957898933474, -0.5997172335005092, -0.14468226841901977, -0.6160413578083558, -0.4466785681143564, -0.1630469082653581], \"mode\": \"markers\", \"marker\": {\"color\": \"#875692\"}, \"name\": 3}, {\"type\": \"scatter\", \"x\": [20, 2, 17, 11, 20, 0, 15, 19, 2, 13, 20, 15, 9, 17, 9, 16, 20, 23, 3, 7, 10, 14, 1, 5, 12, 23, 3, 7, 11, 14, 11, 22, 1, 5, 16, 20, 11, 13, 4, 7, 15, 18, 22, 9, 13, 9, 20, 4, 7, 19, 2, 8, 15, 6, 0, 4, 8, 11, 15, 22, 10, 13, 4, 23, 6, 10, 6, 10, 23, 4], \"y\": [-0.31161345207841695, -0.3318112834493839, -0.24280712818819686, -0.2605697600321677, -0.24347561433286224, -0.2987212192884383, -0.20088349711559905, 0.09931453084957442, -0.19128594603861482, -0.2655834061171593, -0.18402809646796, -0.1730935731016447, -0.16010584229099908, 0.03561735106501257, -0.28353703400246305, -0.24228188907453094, -0.26434193184849486, 3.1070246917413002, -0.27188627548114885, -0.25321641244084625, -0.21019455413058377, -0.27594494135947556, -0.26992856605748555, -0.27494221214247716, 1.2122484636970798, -0.19978526987793405, -0.30416460646642923, -0.2631959556004967, -0.14535139809802344, -0.21153152641991485, -0.3347717220900456, -0.25479212978184373, -0.3058358218280933, -0.2726980086568143, -0.11350280820574235, -0.26386444174516205, -0.2545056357198442, 0.8347925370126998, -0.24481258662219332, -0.3265111433023927, 0.07348231625928367, -0.09435545506210731, 6.378834628786258, -0.15972385020833327, -0.2641509358071616, -0.294567055389445, -0.27498996115281066, -0.30817552333442283, 0.12481250236753282, -0.2753242042251433, -0.3095124956237539, -0.3274661235090576, -0.17844146225896898, -0.2680186056441554, -0.25980577586683534, -0.23917820340286947, -0.2468180450561901, -0.17758198007297069, -0.28162707358913286, 3.519432893989623, -0.2668248803858241, -0.1887552484909521, -0.2961427727304425, -0.15862562297066823, -0.3385916429167062, -0.3066953040140916, -0.32345520664106436, -0.29790948611277285, -0.2869749627464575, -0.25627234910217456], \"mode\": \"markers\", \"marker\": {\"color\": \"#F38400\"}, \"name\": 4}, {\"type\": \"scatter\", \"x\": [15, 18, 22, 9, 13, 20, 0, 4, 15, 18, 22, 2, 9, 17, 4, 7, 22, 6, 9, 13, 22, 8, 15, 19, 22, 1, 5, 12, 16, 18, 22, 9, 16, 20, 22, 1, 20, 0, 3, 7, 14, 18, 5, 20, 0, 22, 0, 3, 7, 18, 22, 2, 20, 0, 2, 17, 0, 18, 6, 0, 15, 22, 6, 13, 17, 20, 4, 19, 13, 11, 19, 6, 2, 13, 17, 19, 23, 10, 13, 23, 10, 17], \"y\": [-0.38965458483623583, -0.3984794710645547, -0.3981840236362412, -0.39336694600069605, -0.3838355550524972, -0.3903353984753929, -0.3878048270241866, -0.3927888966844306, -0.37596123881092597, -0.2707947998717031, -0.3804957145585193, -0.38586515042960695, -0.33620429139222624, -0.3692044845808013, -0.0797687691565225, -0.3750748965259858, -0.3147393934482369, -0.3757428646247813, 0.11168116439058608, -0.36499114734224436, -0.3591464264777829, -0.2965115716753339, -0.34439974614283386, -0.32654444504041297, -0.3513491834783804, 0.08523219678635258, -0.3502573125476569, -0.34554299923500326, -0.3418049469898202, -0.33327550818981483, -0.3335709556181282, 0.7783775546904038, -0.3258250947801716, -0.26230389769278206, -0.32121354579040956, -0.3192353325747457, -0.3080982490813651, -0.2812767608066495, 0.017754573267635337, -0.30841938759040155, -0.03137961861492579, -0.30545206776690575, -0.3147907756096826, -0.3060301170831712, 1.5546977864348692, -0.24315119701385432, -0.3032940169861814, -0.3018039343042528, -0.22273963337950414, -0.2983356384066603, -0.24352371768433664, -0.2628691014686862, -0.1747743856698354, -0.28778944976990667, 0.08550195313394311, -0.24285574958554093, -0.188120902105386, -0.2727216309259213, -0.2692790261090516, -0.20270059041563604, 1.7524163436783673, -0.25201461986325746, -0.1688525915632052, 0.957495769490517, 1.6465690910999875, 1.2034236397105513, 1.6068378347620105, 1.8157063210392508, -0.384901734902498, -0.2971923853144909, -0.41865981497239874, -0.42298876207420877, 1.602804335088514, -0.3935853201868407, 0.09453236800804522, -0.39149149710792375, -0.314829312230767, 7.377170174990348, -0.27961968610002186, -0.3425499883307844, 0.08818667106948701, -0.3680226948675476], \"mode\": \"markers\", \"marker\": {\"color\": \"#A1CAF1\"}, \"name\": 5}, {\"type\": \"scatter\", \"x\": [18, 2, 5, 9, 13, 17, 20, 0, 4, 7, 11, 15, 18, 22, 2, 6, 9, 13, 17, 20, 4, 7, 11, 19, 22, 9], \"y\": [0.05310238433673024, -0.5744441338651647, -0.5297046007233949, -0.5698210487738485, -0.580260273173595, -0.4860089900215995, -0.5605748785912165, -0.2687239907297345, -0.5137475005694969, -0.5443195148830396, -0.5045013303868637, -0.2946729199519622, 0.0453475319254912, 1.7186060714276952, -0.4672183861020553, 3.658512228454849, -0.04025410815242876, -0.40040734994367844, -0.5212040894264582, 1.2901504757066755, -0.5619170645854695, -0.5337311587061544, 0.30394203348492194, -0.5201601669864839, -0.19281591616586444, 1.5948266964021314], \"mode\": \"markers\", \"marker\": {\"color\": \"#BE0032\"}, \"name\": 6}, {\"type\": \"scatter\", \"x\": [3, 7, 11, 14, 18, 2, 9, 13, 15, 9, 11, 5, 17, 20, 4, 7, 11, 15, 22, 2, 13, 17, 7, 11, 17, 0, 4, 11, 22, 2, 9, 17, 2, 17, 21, 0, 11, 15, 19, 2, 13, 17, 21, 4, 8, 12, 15, 2, 17, 8, 10], \"y\": [-0.23710666326964716, 0.000998415501961604, 0.07014436182810496, -0.7052160404901412, -0.23218833235942066, -0.3641153261867052, 0.014306840317873675, 0.9756958764759062, -0.07538037039804353, 0.3438350113031271, 1.169825290638424, -0.2073073642253281, 1.002891353273638, -0.2397104855162384, -0.3606435631912503, -0.3785810053344329, -0.46566439380375885, -0.09216055820941056, 0.7555282398474801, -0.05917880975258839, -0.2941014391116981, -0.5382821031253531, -0.024461179798038735, -0.10344378794463509, -1.7047944695981783, -2.4266318590698304, -1.8523443969050102, -0.25070440166851105, -0.007391678403719859, -0.6869892847640047, 0.351067850876993, -0.2868685995378322, -0.15552023287645958, 1.3029095387975242, 4.689035713697808, -0.605692167953769, -0.6239189236799075, -0.6783098772753673, 0.5099010079190495, -0.5738676738287665, -0.36614052126738456, 0.23215996828266455, 0.2524119190894824, 1.0104135064304558, 0.16098882687583774, 1.297701894304342, -0.06496508141167863, -0.9297233808628881, 0.18037283693379602, 1.367426467796393, -0.09621094837077332], \"mode\": \"markers\", \"marker\": {\"color\": \"#C2B280\"}, \"name\": 7}, {\"type\": \"scatter\", \"x\": [14, 15], \"y\": [-0.7071067811865475, 0.7071067811865475], \"mode\": \"markers\", \"marker\": {\"color\": \"#848482\"}, \"name\": 8}, {\"type\": \"scatter\", \"x\": [8, 23, 3, 10, 14, 17, 1, 12], \"y\": [-0.32839717229062737, 2.4709412400005295, -0.42136413063237893, -0.3352836136492612, -0.30085140685601897, -0.3662725997631865, -0.27674886210075184, -0.44202345470832916], \"mode\": \"markers\", \"marker\": {\"color\": \"#008856\"}, \"name\": 9}, {\"type\": \"scatter\", \"x\": [1, 1, 16], \"y\": [-0.7101099744242583, -0.4334929619751074, 1.143602936399355], \"mode\": \"markers\", \"marker\": {\"color\": \"#0067A5\"}, \"name\": 11}, {\"type\": \"scatter\", \"x\": [4, 12, 15, 19], \"y\": [-0.0735707173104901, -0.9908671525396111, 1.382588162433594, -0.31815029258349103], \"mode\": \"markers\", \"marker\": {\"color\": \"#F99379\"}, \"name\": 12}], {\"title\": \"Normalized ping latency by hour  to the date 2019-02-05 10:57:47\", \"xaxis\": {\"title\": \"Hour of the day\"}, \"yaxis\": {\"title\": \"Difference to normalized latencies (Miliseconda)\"}}, {\"showLink\": true, \"linkText\": \"Export to plot.ly\"})});</script>"
      ],
      "text/vnd.plotly.v1+html": [
       "<div id=\"78861c5e-f6a1-49f2-8cd2-69bd0365a0de\" style=\"height: 525px; width: 100%;\" class=\"plotly-graph-div\"></div><script type=\"text/javascript\">require([\"plotly\"], function(Plotly) { window.PLOTLYENV=window.PLOTLYENV || {};window.PLOTLYENV.BASE_URL=\"https://plot.ly\";Plotly.newPlot(\"78861c5e-f6a1-49f2-8cd2-69bd0365a0de\", [{\"type\": \"scatter\", \"x\": [17, 17, 1, 5], \"y\": [1.4748250829169778, -0.5555954809718995, -0.24315105599837497, -0.6760785459467032], \"mode\": \"markers\", \"marker\": {\"color\": \"#222222\"}, \"name\": 1}, {\"type\": \"scatter\", \"x\": [10, 16, 19, 23, 3, 7, 10, 14, 18, 21, 1, 5, 8, 12, 16, 20, 23, 3, 7, 10, 14, 18, 21, 1, 5, 9, 12, 16, 23, 7, 22, 5, 12, 7, 11, 18, 22, 1, 5, 9, 12, 20, 0, 3, 7, 11, 14, 22, 1, 5, 9, 13, 16, 20, 0, 3, 7, 11, 14, 18, 22, 2, 5, 13, 16, 20, 0, 3, 7, 11, 15, 18, 22, 2, 5, 9, 13, 16, 20, 0, 4, 7, 11, 22, 5, 7, 13, 0, 11, 15, 2, 0, 4, 8, 11, 15, 19, 2, 6, 10, 13, 17, 0, 4, 11], \"y\": [-0.3018824888092734, -0.09472860520815389, 0.19736717996117156, -0.3020857801572627, 0.21491799967091646, 0.6256004045006797, 0.6093709785528654, -0.18183894782157858, -0.329326820787832, -0.01669860947158562, -0.28460272423018124, -0.25583699848969194, -0.3241428914141043, -0.3271583797426126, 8.48606366585583, -0.16266179732791905, -0.3384071676646884, -0.11400740137580807, -0.3469115223889086, -0.3327150099209874, -0.2565824000989863, -0.12766180358242396, 0.030431101370605868, -0.33376534855226553, -0.2970373783488611, -0.09703257381869947, -0.1809241367556266, -0.25170340774724237, -0.30012063046003284, -0.35544975900445996, -0.04726007545264668, -0.09720198327535708, -0.45973822052298263, -0.3178069777351036, -0.3270567340686179, 0.0084078720050962, 1.6676718542939477, -0.3417275930151809, -0.3118098829694188, -0.2184652723509883, -0.2488912107667235, -0.19935588563999174, -0.33505286042286475, -0.26529004617119534, -0.255464297685045, -0.34294734110311664, -0.30960756003286793, 0.523819202940692, -0.33068209644109436, -0.33844104955602017, 0.43349008065076966, 0.07884832408339629, -0.26861047152168754, -0.250043195071996, -0.2881264409286628, -0.2914129843878233, -0.269288109348319, -0.2224294536367798, -0.22934135946841702, -0.2554304157937133, 0.43491312008669497, -0.3462000026709459, -0.31445267049328013, -0.24282635221837529, -0.34694540428024007, 0.46672821604702375, 3.9343703843748954, -0.31167435540409244, -0.29551269323894164, 1.042415431661454, -0.2907353465611924, 0.01992771505782412, 1.3530446113891392, -0.11078862169931002, -0.2892784252339354, -0.2574633292736066, -0.1733007112060272, 0.712812392788099, -0.2963597405222302, -0.2892106614512724, -0.40423968252189757, -0.546340334766434, -0.19373149167895393, 1.4095596061301712, -0.30361046526718266, -0.16750690778833127, -0.2988331185894339, -0.11180507843925667, -0.2757934324839771, -0.10557081043425086, 0.018775730752551567, -0.29957852019872777, -0.3148253712979271, -0.3093026230108839, -0.24489314758960032, -0.20165985425053734, -0.057187469612792155, -0.23659208421336947, -0.3411177189712129, -0.35490764874315517, -0.27138878661087523, -0.30496574092044504, -0.2815194721190096, -0.3378989392947151, -0.005754758571493496], \"mode\": \"markers\", \"marker\": {\"color\": \"#F3C300\"}, \"name\": 2}, {\"type\": \"scatter\", \"x\": [16, 3, 10, 14, 18, 22, 1, 9, 16, 20, 23, 3, 21, 15, 19, 2, 6, 8, 19, 6, 8], \"y\": [-0.42219238165257195, -0.6752163084243397, 3.2303304322301343, -0.10999350426483478, -0.48952939442247917, -0.5813525936541708, -0.6527706375010325, 0.7694686928208845, 2.2223157562200466, -0.6629732151934475, -0.7976472407332474, -0.1814115481116964, 0.2654613548158407, -0.332409697959372, 0.06549083204461073, 0.3225957898933474, -0.5997172335005092, -0.14468226841901977, -0.6160413578083558, -0.4466785681143564, -0.1630469082653581], \"mode\": \"markers\", \"marker\": {\"color\": \"#875692\"}, \"name\": 3}, {\"type\": \"scatter\", \"x\": [20, 2, 17, 11, 20, 0, 15, 19, 2, 13, 20, 15, 9, 17, 9, 16, 20, 23, 3, 7, 10, 14, 1, 5, 12, 23, 3, 7, 11, 14, 11, 22, 1, 5, 16, 20, 11, 13, 4, 7, 15, 18, 22, 9, 13, 9, 20, 4, 7, 19, 2, 8, 15, 6, 0, 4, 8, 11, 15, 22, 10, 13, 4, 23, 6, 10, 6, 10, 23, 4], \"y\": [-0.31161345207841695, -0.3318112834493839, -0.24280712818819686, -0.2605697600321677, -0.24347561433286224, -0.2987212192884383, -0.20088349711559905, 0.09931453084957442, -0.19128594603861482, -0.2655834061171593, -0.18402809646796, -0.1730935731016447, -0.16010584229099908, 0.03561735106501257, -0.28353703400246305, -0.24228188907453094, -0.26434193184849486, 3.1070246917413002, -0.27188627548114885, -0.25321641244084625, -0.21019455413058377, -0.27594494135947556, -0.26992856605748555, -0.27494221214247716, 1.2122484636970798, -0.19978526987793405, -0.30416460646642923, -0.2631959556004967, -0.14535139809802344, -0.21153152641991485, -0.3347717220900456, -0.25479212978184373, -0.3058358218280933, -0.2726980086568143, -0.11350280820574235, -0.26386444174516205, -0.2545056357198442, 0.8347925370126998, -0.24481258662219332, -0.3265111433023927, 0.07348231625928367, -0.09435545506210731, 6.378834628786258, -0.15972385020833327, -0.2641509358071616, -0.294567055389445, -0.27498996115281066, -0.30817552333442283, 0.12481250236753282, -0.2753242042251433, -0.3095124956237539, -0.3274661235090576, -0.17844146225896898, -0.2680186056441554, -0.25980577586683534, -0.23917820340286947, -0.2468180450561901, -0.17758198007297069, -0.28162707358913286, 3.519432893989623, -0.2668248803858241, -0.1887552484909521, -0.2961427727304425, -0.15862562297066823, -0.3385916429167062, -0.3066953040140916, -0.32345520664106436, -0.29790948611277285, -0.2869749627464575, -0.25627234910217456], \"mode\": \"markers\", \"marker\": {\"color\": \"#F38400\"}, \"name\": 4}, {\"type\": \"scatter\", \"x\": [15, 18, 22, 9, 13, 20, 0, 4, 15, 18, 22, 2, 9, 17, 4, 7, 22, 6, 9, 13, 22, 8, 15, 19, 22, 1, 5, 12, 16, 18, 22, 9, 16, 20, 22, 1, 20, 0, 3, 7, 14, 18, 5, 20, 0, 22, 0, 3, 7, 18, 22, 2, 20, 0, 2, 17, 0, 18, 6, 0, 15, 22, 6, 13, 17, 20, 4, 19, 13, 11, 19, 6, 2, 13, 17, 19, 23, 10, 13, 23, 10, 17], \"y\": [-0.38965458483623583, -0.3984794710645547, -0.3981840236362412, -0.39336694600069605, -0.3838355550524972, -0.3903353984753929, -0.3878048270241866, -0.3927888966844306, -0.37596123881092597, -0.2707947998717031, -0.3804957145585193, -0.38586515042960695, -0.33620429139222624, -0.3692044845808013, -0.0797687691565225, -0.3750748965259858, -0.3147393934482369, -0.3757428646247813, 0.11168116439058608, -0.36499114734224436, -0.3591464264777829, -0.2965115716753339, -0.34439974614283386, -0.32654444504041297, -0.3513491834783804, 0.08523219678635258, -0.3502573125476569, -0.34554299923500326, -0.3418049469898202, -0.33327550818981483, -0.3335709556181282, 0.7783775546904038, -0.3258250947801716, -0.26230389769278206, -0.32121354579040956, -0.3192353325747457, -0.3080982490813651, -0.2812767608066495, 0.017754573267635337, -0.30841938759040155, -0.03137961861492579, -0.30545206776690575, -0.3147907756096826, -0.3060301170831712, 1.5546977864348692, -0.24315119701385432, -0.3032940169861814, -0.3018039343042528, -0.22273963337950414, -0.2983356384066603, -0.24352371768433664, -0.2628691014686862, -0.1747743856698354, -0.28778944976990667, 0.08550195313394311, -0.24285574958554093, -0.188120902105386, -0.2727216309259213, -0.2692790261090516, -0.20270059041563604, 1.7524163436783673, -0.25201461986325746, -0.1688525915632052, 0.957495769490517, 1.6465690910999875, 1.2034236397105513, 1.6068378347620105, 1.8157063210392508, -0.384901734902498, -0.2971923853144909, -0.41865981497239874, -0.42298876207420877, 1.602804335088514, -0.3935853201868407, 0.09453236800804522, -0.39149149710792375, -0.314829312230767, 7.377170174990348, -0.27961968610002186, -0.3425499883307844, 0.08818667106948701, -0.3680226948675476], \"mode\": \"markers\", \"marker\": {\"color\": \"#A1CAF1\"}, \"name\": 5}, {\"type\": \"scatter\", \"x\": [18, 2, 5, 9, 13, 17, 20, 0, 4, 7, 11, 15, 18, 22, 2, 6, 9, 13, 17, 20, 4, 7, 11, 19, 22, 9], \"y\": [0.05310238433673024, -0.5744441338651647, -0.5297046007233949, -0.5698210487738485, -0.580260273173595, -0.4860089900215995, -0.5605748785912165, -0.2687239907297345, -0.5137475005694969, -0.5443195148830396, -0.5045013303868637, -0.2946729199519622, 0.0453475319254912, 1.7186060714276952, -0.4672183861020553, 3.658512228454849, -0.04025410815242876, -0.40040734994367844, -0.5212040894264582, 1.2901504757066755, -0.5619170645854695, -0.5337311587061544, 0.30394203348492194, -0.5201601669864839, -0.19281591616586444, 1.5948266964021314], \"mode\": \"markers\", \"marker\": {\"color\": \"#BE0032\"}, \"name\": 6}, {\"type\": \"scatter\", \"x\": [3, 7, 11, 14, 18, 2, 9, 13, 15, 9, 11, 5, 17, 20, 4, 7, 11, 15, 22, 2, 13, 17, 7, 11, 17, 0, 4, 11, 22, 2, 9, 17, 2, 17, 21, 0, 11, 15, 19, 2, 13, 17, 21, 4, 8, 12, 15, 2, 17, 8, 10], \"y\": [-0.23710666326964716, 0.000998415501961604, 0.07014436182810496, -0.7052160404901412, -0.23218833235942066, -0.3641153261867052, 0.014306840317873675, 0.9756958764759062, -0.07538037039804353, 0.3438350113031271, 1.169825290638424, -0.2073073642253281, 1.002891353273638, -0.2397104855162384, -0.3606435631912503, -0.3785810053344329, -0.46566439380375885, -0.09216055820941056, 0.7555282398474801, -0.05917880975258839, -0.2941014391116981, -0.5382821031253531, -0.024461179798038735, -0.10344378794463509, -1.7047944695981783, -2.4266318590698304, -1.8523443969050102, -0.25070440166851105, -0.007391678403719859, -0.6869892847640047, 0.351067850876993, -0.2868685995378322, -0.15552023287645958, 1.3029095387975242, 4.689035713697808, -0.605692167953769, -0.6239189236799075, -0.6783098772753673, 0.5099010079190495, -0.5738676738287665, -0.36614052126738456, 0.23215996828266455, 0.2524119190894824, 1.0104135064304558, 0.16098882687583774, 1.297701894304342, -0.06496508141167863, -0.9297233808628881, 0.18037283693379602, 1.367426467796393, -0.09621094837077332], \"mode\": \"markers\", \"marker\": {\"color\": \"#C2B280\"}, \"name\": 7}, {\"type\": \"scatter\", \"x\": [14, 15], \"y\": [-0.7071067811865475, 0.7071067811865475], \"mode\": \"markers\", \"marker\": {\"color\": \"#848482\"}, \"name\": 8}, {\"type\": \"scatter\", \"x\": [8, 23, 3, 10, 14, 17, 1, 12], \"y\": [-0.32839717229062737, 2.4709412400005295, -0.42136413063237893, -0.3352836136492612, -0.30085140685601897, -0.3662725997631865, -0.27674886210075184, -0.44202345470832916], \"mode\": \"markers\", \"marker\": {\"color\": \"#008856\"}, \"name\": 9}, {\"type\": \"scatter\", \"x\": [1, 1, 16], \"y\": [-0.7101099744242583, -0.4334929619751074, 1.143602936399355], \"mode\": \"markers\", \"marker\": {\"color\": \"#0067A5\"}, \"name\": 11}, {\"type\": \"scatter\", \"x\": [4, 12, 15, 19], \"y\": [-0.0735707173104901, -0.9908671525396111, 1.382588162433594, -0.31815029258349103], \"mode\": \"markers\", \"marker\": {\"color\": \"#F99379\"}, \"name\": 12}], {\"title\": \"Normalized ping latency by hour  to the date 2019-02-05 10:57:47\", \"xaxis\": {\"title\": \"Hour of the day\"}, \"yaxis\": {\"title\": \"Difference to normalized latencies (Miliseconda)\"}}, {\"showLink\": true, \"linkText\": \"Export to plot.ly\"})});</script>"
      ]
     },
     "metadata": {},
     "output_type": "display_data"
    }
   ],
   "source": [
    "traces=[]\n",
    "t=\"Normalized ping latency by hour \"+title_tail\n",
    "traces=[]\n",
    "for device in device_numbers_p:\n",
    "    subset=ping_df[ping_df[\"SK_PI\"]==device]\n",
    "    trace = go.Scatter(\n",
    "        x = subset['hour'],\n",
    "        y=(subset['PING']-subset['PING'].mean())/subset['PING'].std(),\n",
    "        mode = 'markers',\n",
    "        marker = dict(color=colors[device]),\n",
    "        name = device\n",
    "    )\n",
    "    traces.append(trace)\n",
    "layout = go.Layout(\n",
    "        title=t,\n",
    "        xaxis=dict(title=\"Hour of the day\"),\n",
    "        yaxis=dict(title=\"Difference to normalized latencies (Miliseconda)\")\n",
    "        )\n",
    "data = traces\n",
    "fig = go.Figure(data=data, layout=layout)\n",
    "iplot(fig)"
   ]
  },
  {
   "cell_type": "code",
   "execution_count": 127,
   "metadata": {},
   "outputs": [
    {
     "data": {
      "application/vnd.plotly.v1+json": {
       "data": [
        {
         "marker": {
          "color": "#222222"
         },
         "name": "0",
         "type": "box",
         "y": [
          63.668,
          65.053,
          189.677,
          65.021,
          70.257,
          64.715,
          65.248,
          56.437,
          57.252,
          64.731,
          73.024,
          215.951,
          71.31,
          72.517,
          80.276,
          79.141,
          64.031,
          57.644,
          63.938
         ]
        },
        {
         "marker": {
          "color": "#F3C300"
         },
         "name": "1",
         "type": "box",
         "y": [
          64.438,
          65.157,
          63.706,
          63.471,
          63.797,
          48.774,
          57.04,
          56.288,
          101.556,
          70.069,
          44.254,
          57.845,
          58.21
         ]
        },
        {
         "marker": {
          "color": "#875692"
         },
         "name": "2",
         "type": "box",
         "y": [
          63.339,
          70.287,
          74.111,
          66.574,
          49.252,
          55.744,
          58.687,
          56.211,
          64.882,
          74.457,
          101.577,
          219.696,
          61.981,
          62.7,
          64.773,
          65.827,
          63.657,
          65.494,
          64.048,
          62.818
         ]
        },
        {
         "marker": {
          "color": "#F38400"
         },
         "name": "3",
         "type": "box",
         "y": [
          79.9,
          70.192,
          65.727,
          64.956,
          64.358,
          48.763,
          49.005,
          56.999,
          56.323,
          96.303,
          71.426,
          65.212,
          44.212
         ]
        },
        {
         "marker": {
          "color": "#A1CAF1"
         },
         "name": "4",
         "type": "box",
         "y": [
          61.626,
          64.265,
          63.584,
          57.566,
          56.239,
          57.684,
          56.491,
          57.326,
          64.343,
          88.711,
          220.01,
          62.388,
          62.065,
          64.785,
          59.629,
          69.524,
          24.002
         ]
        },
        {
         "marker": {
          "color": "#BE0032"
         },
         "name": "5",
         "type": "box",
         "y": [
          63.051,
          66.006,
          64.79,
          70.688,
          64.354,
          63.568,
          64.276,
          65.019,
          64.596,
          56.935,
          56.982,
          67.654,
          70.415,
          62.281,
          65.315
         ]
        },
        {
         "marker": {
          "color": "#C2B280"
         },
         "name": "6",
         "type": "box",
         "y": [
          63.489,
          48.8,
          48.875,
          57.08,
          55.602,
          55.919,
          65.67,
          73.958,
          81.776,
          61.992,
          90.365
         ]
        },
        {
         "marker": {
          "color": "#848482"
         },
         "name": "7",
         "type": "box",
         "y": [
          92.021,
          63.318,
          63.066,
          64.177,
          66.017,
          65.609,
          64.835,
          57.432,
          68.613,
          57.39,
          57.181,
          55.855,
          65.307,
          65.722,
          70.911,
          77.581,
          62.183,
          62.254,
          66.035,
          64.723,
          65.947
         ]
        },
        {
         "marker": {
          "color": "#008856"
         },
         "name": "8",
         "type": "box",
         "y": [
          63.99,
          64.428,
          49.023,
          49.014,
          55.835,
          57.524,
          71.838,
          66.588,
          70.758,
          44.239
         ]
        },
        {
         "marker": {
          "color": "#E68FAC"
         },
         "name": "9",
         "type": "box",
         "y": [
          70.693,
          67.109,
          86.351,
          65.958,
          49.471,
          59.34,
          56.755,
          59.348,
          56.524,
          64.298,
          68.748,
          103.615,
          155.516,
          62.012,
          65.563,
          76.527,
          66.081,
          67.22,
          67.245
         ]
        },
        {
         "marker": {
          "color": "#0067A5"
         },
         "name": "10",
         "type": "box",
         "y": [
          64.647,
          91.542,
          63.737,
          63.082,
          50.677,
          58.291,
          57.105,
          56.27,
          56.454,
          669.219,
          101.786,
          65.699,
          44.237
         ]
        },
        {
         "marker": {
          "color": "#F99379"
         },
         "name": "11",
         "type": "box",
         "y": [
          63.904,
          63.435,
          66.992,
          104.323,
          67.839,
          65.417,
          66.329,
          73.387,
          57.236,
          59.649,
          55.682,
          57.363,
          58.974,
          71.785,
          62.45,
          67.871,
          66.274,
          70.075,
          64.422,
          65.674,
          65.165,
          63.875
         ]
        },
        {
         "marker": {
          "color": "#604E97"
         },
         "name": "12",
         "type": "box",
         "y": [
          63.901,
          68.217,
          59.988,
          66.211,
          88.081,
          68.021,
          70.517,
          44.206,
          22.138
         ]
        },
        {
         "marker": {
          "color": "#F6A600"
         },
         "name": "13",
         "type": "box",
         "y": [
          75.884,
          66.39,
          68.442,
          64.737,
          65.547,
          57.131,
          80.176,
          57.161,
          58.74,
          65.04,
          66.507,
          169.46,
          64.957,
          64.281,
          73.153,
          61.942,
          63.148,
          69.404,
          65.015,
          64.766
         ]
        },
        {
         "marker": {
          "color": "#B3446C"
         },
         "name": "14",
         "type": "box",
         "y": [
          68.19,
          65.984,
          64.419,
          66.788,
          49.04,
          56.914,
          58.263,
          92.478,
          63.594,
          52.347,
          44.247
         ]
        },
        {
         "marker": {
          "color": "#DCD300"
         },
         "name": "15",
         "type": "box",
         "y": [
          64.976,
          70.441,
          67.605,
          48.931,
          58.486,
          59.068,
          64.232,
          58.956,
          56.795,
          64.587,
          65.653,
          68.11,
          231.343,
          63.857,
          65.771,
          65.713,
          63.687,
          65.807,
          52.388,
          26.961
         ]
        },
        {
         "marker": {
          "color": "#882D17"
         },
         "name": "16",
         "type": "box",
         "y": [
          70.761,
          324.017,
          66.128,
          65.629,
          63.317,
          94.595,
          48.887,
          50.183,
          57.619,
          60.316,
          68.312,
          69.556,
          60.291
         ]
        },
        {
         "marker": {
          "color": "#8DB600"
         },
         "name": "17",
         "type": "box",
         "y": [
          69.942,
          63.437,
          64.556,
          57.608,
          63.439,
          66.179,
          76.015,
          223.103,
          102.28,
          66.271,
          62.574,
          62.338,
          69.498,
          64.171,
          60.139,
          65.04,
          70.535,
          66.834,
          66.655,
          44.228
         ]
        },
        {
         "marker": {
          "color": "#654522"
         },
         "name": "18",
         "type": "box",
         "y": [
          63.837,
          69.789,
          73.805,
          66.018,
          74.145,
          48.854,
          60.717,
          63.9,
          73.84,
          68.976,
          71.142,
          71.696,
          73.69,
          66.189,
          66.137,
          65.229
         ]
        },
        {
         "marker": {
          "color": "#E25822"
         },
         "name": "19",
         "type": "box",
         "y": [
          79.382,
          71.869,
          49.126,
          48.792,
          64.773,
          56.927,
          69.5,
          236.27,
          62.329,
          64.444,
          62.345,
          67.794,
          23.505
         ]
        },
        {
         "marker": {
          "color": "#2B3D26"
         },
         "name": "20",
         "type": "box",
         "y": [
          68.756,
          67.673,
          66.177,
          87.332,
          64.81,
          48.769,
          56.167,
          57.594,
          58.839,
          57.157,
          57.167,
          56.934,
          64.534,
          74.501,
          70.936,
          71.097,
          81.315,
          188.605,
          62.074,
          74.484,
          65.203
         ]
        },
        {
         "marker": {
          "color": "#F2F3F4"
         },
         "name": "21",
         "type": "box",
         "y": [
          73.064,
          74.455,
          49.224,
          82.239,
          66.904
         ]
        },
        {
         "marker": {
          "color": "#222222"
         },
         "name": "22",
         "type": "box",
         "y": [
          72.162,
          122.777,
          89.017,
          86.393,
          113.491,
          115.159,
          48.809,
          57.357,
          196.284,
          136.4,
          63.923,
          65.3,
          70.419,
          66.962,
          67.569,
          68.953,
          69.915,
          75.992,
          75.963,
          75.302,
          77.357,
          64.54,
          68.643,
          66.006
         ]
        },
        {
         "marker": {
          "color": "#F3C300"
         },
         "name": "23",
         "type": "box",
         "y": [
          64.641,
          63.569,
          64.699,
          48.703,
          127.763,
          58.509,
          59.371,
          56.683,
          70.412,
          68.254,
          45.052
         ]
        }
       ],
       "layout": {
        "title": "Ping latency by hour to the date 2019-02-05 10:57:47",
        "xaxis": {
         "title": "Hour of the day"
        },
        "yaxis": {
         "rangemode": "tozero",
         "title": "Miliseconds"
        }
       }
      },
      "text/html": [
       "<div id=\"a53055e6-d1ef-42c0-a47d-95422c3049d1\" style=\"height: 525px; width: 100%;\" class=\"plotly-graph-div\"></div><script type=\"text/javascript\">require([\"plotly\"], function(Plotly) { window.PLOTLYENV=window.PLOTLYENV || {};window.PLOTLYENV.BASE_URL=\"https://plot.ly\";Plotly.newPlot(\"a53055e6-d1ef-42c0-a47d-95422c3049d1\", [{\"type\": \"box\", \"y\": [63.668, 65.053, 189.677, 65.021, 70.257, 64.715, 65.248, 56.437, 57.252, 64.731, 73.024, 215.951, 71.31, 72.517, 80.276, 79.141, 64.031, 57.644, 63.938], \"name\": \"0\", \"marker\": {\"color\": \"#222222\"}}, {\"type\": \"box\", \"y\": [64.438, 65.157, 63.706, 63.471, 63.797, 48.774, 57.04, 56.288, 101.556, 70.069, 44.254, 57.845, 58.21], \"name\": \"1\", \"marker\": {\"color\": \"#F3C300\"}}, {\"type\": \"box\", \"y\": [63.339, 70.287, 74.111, 66.574, 49.252, 55.744, 58.687, 56.211, 64.882, 74.457, 101.577, 219.696, 61.981, 62.7, 64.773, 65.827, 63.657, 65.494, 64.048, 62.818], \"name\": \"2\", \"marker\": {\"color\": \"#875692\"}}, {\"type\": \"box\", \"y\": [79.9, 70.192, 65.727, 64.956, 64.358, 48.763, 49.005, 56.999, 56.323, 96.303, 71.426, 65.212, 44.212], \"name\": \"3\", \"marker\": {\"color\": \"#F38400\"}}, {\"type\": \"box\", \"y\": [61.626, 64.265, 63.584, 57.566, 56.239, 57.684, 56.491, 57.326, 64.343, 88.711, 220.01, 62.388, 62.065, 64.785, 59.629, 69.524, 24.002], \"name\": \"4\", \"marker\": {\"color\": \"#A1CAF1\"}}, {\"type\": \"box\", \"y\": [63.051, 66.006, 64.79, 70.688, 64.354, 63.568, 64.276, 65.019, 64.596, 56.935, 56.982, 67.654, 70.415, 62.281, 65.315], \"name\": \"5\", \"marker\": {\"color\": \"#BE0032\"}}, {\"type\": \"box\", \"y\": [63.489, 48.8, 48.875, 57.08, 55.602, 55.919, 65.67, 73.958, 81.776, 61.992, 90.365], \"name\": \"6\", \"marker\": {\"color\": \"#C2B280\"}}, {\"type\": \"box\", \"y\": [92.021, 63.318, 63.066, 64.177, 66.017, 65.609, 64.835, 57.432, 68.613, 57.39, 57.181, 55.855, 65.307, 65.722, 70.911, 77.581, 62.183, 62.254, 66.035, 64.723, 65.947], \"name\": \"7\", \"marker\": {\"color\": \"#848482\"}}, {\"type\": \"box\", \"y\": [63.99, 64.428, 49.023, 49.014, 55.835, 57.524, 71.838, 66.588, 70.758, 44.239], \"name\": \"8\", \"marker\": {\"color\": \"#008856\"}}, {\"type\": \"box\", \"y\": [70.693, 67.109, 86.351, 65.958, 49.471, 59.34, 56.755, 59.348, 56.524, 64.298, 68.748, 103.615, 155.516, 62.012, 65.563, 76.527, 66.081, 67.22, 67.245], \"name\": \"9\", \"marker\": {\"color\": \"#E68FAC\"}}, {\"type\": \"box\", \"y\": [64.647, 91.542, 63.737, 63.082, 50.677, 58.291, 57.105, 56.27, 56.454, 669.219, 101.786, 65.699, 44.237], \"name\": \"10\", \"marker\": {\"color\": \"#0067A5\"}}, {\"type\": \"box\", \"y\": [63.904, 63.435, 66.992, 104.323, 67.839, 65.417, 66.329, 73.387, 57.236, 59.649, 55.682, 57.363, 58.974, 71.785, 62.45, 67.871, 66.274, 70.075, 64.422, 65.674, 65.165, 63.875], \"name\": \"11\", \"marker\": {\"color\": \"#F99379\"}}, {\"type\": \"box\", \"y\": [63.901, 68.217, 59.988, 66.211, 88.081, 68.021, 70.517, 44.206, 22.138], \"name\": \"12\", \"marker\": {\"color\": \"#604E97\"}}, {\"type\": \"box\", \"y\": [75.884, 66.39, 68.442, 64.737, 65.547, 57.131, 80.176, 57.161, 58.74, 65.04, 66.507, 169.46, 64.957, 64.281, 73.153, 61.942, 63.148, 69.404, 65.015, 64.766], \"name\": \"13\", \"marker\": {\"color\": \"#F6A600\"}}, {\"type\": \"box\", \"y\": [68.19, 65.984, 64.419, 66.788, 49.04, 56.914, 58.263, 92.478, 63.594, 52.347, 44.247], \"name\": \"14\", \"marker\": {\"color\": \"#B3446C\"}}, {\"type\": \"box\", \"y\": [64.976, 70.441, 67.605, 48.931, 58.486, 59.068, 64.232, 58.956, 56.795, 64.587, 65.653, 68.11, 231.343, 63.857, 65.771, 65.713, 63.687, 65.807, 52.388, 26.961], \"name\": \"15\", \"marker\": {\"color\": \"#DCD300\"}}, {\"type\": \"box\", \"y\": [70.761, 324.017, 66.128, 65.629, 63.317, 94.595, 48.887, 50.183, 57.619, 60.316, 68.312, 69.556, 60.291], \"name\": \"16\", \"marker\": {\"color\": \"#882D17\"}}, {\"type\": \"box\", \"y\": [69.942, 63.437, 64.556, 57.608, 63.439, 66.179, 76.015, 223.103, 102.28, 66.271, 62.574, 62.338, 69.498, 64.171, 60.139, 65.04, 70.535, 66.834, 66.655, 44.228], \"name\": \"17\", \"marker\": {\"color\": \"#8DB600\"}}, {\"type\": \"box\", \"y\": [63.837, 69.789, 73.805, 66.018, 74.145, 48.854, 60.717, 63.9, 73.84, 68.976, 71.142, 71.696, 73.69, 66.189, 66.137, 65.229], \"name\": \"18\", \"marker\": {\"color\": \"#654522\"}}, {\"type\": \"box\", \"y\": [79.382, 71.869, 49.126, 48.792, 64.773, 56.927, 69.5, 236.27, 62.329, 64.444, 62.345, 67.794, 23.505], \"name\": \"19\", \"marker\": {\"color\": \"#E25822\"}}, {\"type\": \"box\", \"y\": [68.756, 67.673, 66.177, 87.332, 64.81, 48.769, 56.167, 57.594, 58.839, 57.157, 57.167, 56.934, 64.534, 74.501, 70.936, 71.097, 81.315, 188.605, 62.074, 74.484, 65.203], \"name\": \"20\", \"marker\": {\"color\": \"#2B3D26\"}}, {\"type\": \"box\", \"y\": [73.064, 74.455, 49.224, 82.239, 66.904], \"name\": \"21\", \"marker\": {\"color\": \"#F2F3F4\"}}, {\"type\": \"box\", \"y\": [72.162, 122.777, 89.017, 86.393, 113.491, 115.159, 48.809, 57.357, 196.284, 136.4, 63.923, 65.3, 70.419, 66.962, 67.569, 68.953, 69.915, 75.992, 75.963, 75.302, 77.357, 64.54, 68.643, 66.006], \"name\": \"22\", \"marker\": {\"color\": \"#222222\"}}, {\"type\": \"box\", \"y\": [64.641, 63.569, 64.699, 48.703, 127.763, 58.509, 59.371, 56.683, 70.412, 68.254, 45.052], \"name\": \"23\", \"marker\": {\"color\": \"#F3C300\"}}], {\"title\": \"Ping latency by hour to the date 2019-02-05 10:57:47\", \"xaxis\": {\"title\": \"Hour of the day\"}, \"yaxis\": {\"title\": \"Miliseconds\", \"rangemode\": \"tozero\"}}, {\"showLink\": true, \"linkText\": \"Export to plot.ly\"})});</script>"
      ],
      "text/vnd.plotly.v1+html": [
       "<div id=\"a53055e6-d1ef-42c0-a47d-95422c3049d1\" style=\"height: 525px; width: 100%;\" class=\"plotly-graph-div\"></div><script type=\"text/javascript\">require([\"plotly\"], function(Plotly) { window.PLOTLYENV=window.PLOTLYENV || {};window.PLOTLYENV.BASE_URL=\"https://plot.ly\";Plotly.newPlot(\"a53055e6-d1ef-42c0-a47d-95422c3049d1\", [{\"type\": \"box\", \"y\": [63.668, 65.053, 189.677, 65.021, 70.257, 64.715, 65.248, 56.437, 57.252, 64.731, 73.024, 215.951, 71.31, 72.517, 80.276, 79.141, 64.031, 57.644, 63.938], \"name\": \"0\", \"marker\": {\"color\": \"#222222\"}}, {\"type\": \"box\", \"y\": [64.438, 65.157, 63.706, 63.471, 63.797, 48.774, 57.04, 56.288, 101.556, 70.069, 44.254, 57.845, 58.21], \"name\": \"1\", \"marker\": {\"color\": \"#F3C300\"}}, {\"type\": \"box\", \"y\": [63.339, 70.287, 74.111, 66.574, 49.252, 55.744, 58.687, 56.211, 64.882, 74.457, 101.577, 219.696, 61.981, 62.7, 64.773, 65.827, 63.657, 65.494, 64.048, 62.818], \"name\": \"2\", \"marker\": {\"color\": \"#875692\"}}, {\"type\": \"box\", \"y\": [79.9, 70.192, 65.727, 64.956, 64.358, 48.763, 49.005, 56.999, 56.323, 96.303, 71.426, 65.212, 44.212], \"name\": \"3\", \"marker\": {\"color\": \"#F38400\"}}, {\"type\": \"box\", \"y\": [61.626, 64.265, 63.584, 57.566, 56.239, 57.684, 56.491, 57.326, 64.343, 88.711, 220.01, 62.388, 62.065, 64.785, 59.629, 69.524, 24.002], \"name\": \"4\", \"marker\": {\"color\": \"#A1CAF1\"}}, {\"type\": \"box\", \"y\": [63.051, 66.006, 64.79, 70.688, 64.354, 63.568, 64.276, 65.019, 64.596, 56.935, 56.982, 67.654, 70.415, 62.281, 65.315], \"name\": \"5\", \"marker\": {\"color\": \"#BE0032\"}}, {\"type\": \"box\", \"y\": [63.489, 48.8, 48.875, 57.08, 55.602, 55.919, 65.67, 73.958, 81.776, 61.992, 90.365], \"name\": \"6\", \"marker\": {\"color\": \"#C2B280\"}}, {\"type\": \"box\", \"y\": [92.021, 63.318, 63.066, 64.177, 66.017, 65.609, 64.835, 57.432, 68.613, 57.39, 57.181, 55.855, 65.307, 65.722, 70.911, 77.581, 62.183, 62.254, 66.035, 64.723, 65.947], \"name\": \"7\", \"marker\": {\"color\": \"#848482\"}}, {\"type\": \"box\", \"y\": [63.99, 64.428, 49.023, 49.014, 55.835, 57.524, 71.838, 66.588, 70.758, 44.239], \"name\": \"8\", \"marker\": {\"color\": \"#008856\"}}, {\"type\": \"box\", \"y\": [70.693, 67.109, 86.351, 65.958, 49.471, 59.34, 56.755, 59.348, 56.524, 64.298, 68.748, 103.615, 155.516, 62.012, 65.563, 76.527, 66.081, 67.22, 67.245], \"name\": \"9\", \"marker\": {\"color\": \"#E68FAC\"}}, {\"type\": \"box\", \"y\": [64.647, 91.542, 63.737, 63.082, 50.677, 58.291, 57.105, 56.27, 56.454, 669.219, 101.786, 65.699, 44.237], \"name\": \"10\", \"marker\": {\"color\": \"#0067A5\"}}, {\"type\": \"box\", \"y\": [63.904, 63.435, 66.992, 104.323, 67.839, 65.417, 66.329, 73.387, 57.236, 59.649, 55.682, 57.363, 58.974, 71.785, 62.45, 67.871, 66.274, 70.075, 64.422, 65.674, 65.165, 63.875], \"name\": \"11\", \"marker\": {\"color\": \"#F99379\"}}, {\"type\": \"box\", \"y\": [63.901, 68.217, 59.988, 66.211, 88.081, 68.021, 70.517, 44.206, 22.138], \"name\": \"12\", \"marker\": {\"color\": \"#604E97\"}}, {\"type\": \"box\", \"y\": [75.884, 66.39, 68.442, 64.737, 65.547, 57.131, 80.176, 57.161, 58.74, 65.04, 66.507, 169.46, 64.957, 64.281, 73.153, 61.942, 63.148, 69.404, 65.015, 64.766], \"name\": \"13\", \"marker\": {\"color\": \"#F6A600\"}}, {\"type\": \"box\", \"y\": [68.19, 65.984, 64.419, 66.788, 49.04, 56.914, 58.263, 92.478, 63.594, 52.347, 44.247], \"name\": \"14\", \"marker\": {\"color\": \"#B3446C\"}}, {\"type\": \"box\", \"y\": [64.976, 70.441, 67.605, 48.931, 58.486, 59.068, 64.232, 58.956, 56.795, 64.587, 65.653, 68.11, 231.343, 63.857, 65.771, 65.713, 63.687, 65.807, 52.388, 26.961], \"name\": \"15\", \"marker\": {\"color\": \"#DCD300\"}}, {\"type\": \"box\", \"y\": [70.761, 324.017, 66.128, 65.629, 63.317, 94.595, 48.887, 50.183, 57.619, 60.316, 68.312, 69.556, 60.291], \"name\": \"16\", \"marker\": {\"color\": \"#882D17\"}}, {\"type\": \"box\", \"y\": [69.942, 63.437, 64.556, 57.608, 63.439, 66.179, 76.015, 223.103, 102.28, 66.271, 62.574, 62.338, 69.498, 64.171, 60.139, 65.04, 70.535, 66.834, 66.655, 44.228], \"name\": \"17\", \"marker\": {\"color\": \"#8DB600\"}}, {\"type\": \"box\", \"y\": [63.837, 69.789, 73.805, 66.018, 74.145, 48.854, 60.717, 63.9, 73.84, 68.976, 71.142, 71.696, 73.69, 66.189, 66.137, 65.229], \"name\": \"18\", \"marker\": {\"color\": \"#654522\"}}, {\"type\": \"box\", \"y\": [79.382, 71.869, 49.126, 48.792, 64.773, 56.927, 69.5, 236.27, 62.329, 64.444, 62.345, 67.794, 23.505], \"name\": \"19\", \"marker\": {\"color\": \"#E25822\"}}, {\"type\": \"box\", \"y\": [68.756, 67.673, 66.177, 87.332, 64.81, 48.769, 56.167, 57.594, 58.839, 57.157, 57.167, 56.934, 64.534, 74.501, 70.936, 71.097, 81.315, 188.605, 62.074, 74.484, 65.203], \"name\": \"20\", \"marker\": {\"color\": \"#2B3D26\"}}, {\"type\": \"box\", \"y\": [73.064, 74.455, 49.224, 82.239, 66.904], \"name\": \"21\", \"marker\": {\"color\": \"#F2F3F4\"}}, {\"type\": \"box\", \"y\": [72.162, 122.777, 89.017, 86.393, 113.491, 115.159, 48.809, 57.357, 196.284, 136.4, 63.923, 65.3, 70.419, 66.962, 67.569, 68.953, 69.915, 75.992, 75.963, 75.302, 77.357, 64.54, 68.643, 66.006], \"name\": \"22\", \"marker\": {\"color\": \"#222222\"}}, {\"type\": \"box\", \"y\": [64.641, 63.569, 64.699, 48.703, 127.763, 58.509, 59.371, 56.683, 70.412, 68.254, 45.052], \"name\": \"23\", \"marker\": {\"color\": \"#F3C300\"}}], {\"title\": \"Ping latency by hour to the date 2019-02-05 10:57:47\", \"xaxis\": {\"title\": \"Hour of the day\"}, \"yaxis\": {\"title\": \"Miliseconds\", \"rangemode\": \"tozero\"}}, {\"showLink\": true, \"linkText\": \"Export to plot.ly\"})});</script>"
      ]
     },
     "metadata": {},
     "output_type": "display_data"
    }
   ],
   "source": [
    "t=\"Ping latency by hour\"+title_tail\n",
    "simple_boxplot(dataframe=ping_df,plot_value='PING',sort_value='hour',\n",
    "               title=t,\n",
    "               ytitle=\"Miliseconds\",\n",
    "               xtitle=\"Hour of the day\")"
   ]
  },
  {
   "cell_type": "code",
   "execution_count": 128,
   "metadata": {},
   "outputs": [
    {
     "data": {
      "application/vnd.plotly.v1+json": {
       "data": [
        {
         "marker": {
          "color": "#F3C300"
         },
         "name": "Max",
         "type": "bar",
         "x": [
          0,
          2,
          3,
          4,
          5,
          7,
          8,
          9,
          10,
          11,
          12,
          13,
          14,
          15,
          17,
          18,
          19,
          20,
          21,
          22
         ],
         "y": [
          63.938,
          65.827,
          65.212,
          69.524,
          65.315,
          66.035,
          70.758,
          67.245,
          65.699,
          70.075,
          70.517,
          69.404,
          63.594,
          65.807,
          70.535,
          65.229,
          67.794,
          65.203,
          82.239,
          68.643
         ]
        },
        {
         "marker": {
          "color": "#875692"
         },
         "name": "Mean",
         "type": "bar",
         "x": [
          0,
          2,
          3,
          4,
          5,
          7,
          8,
          9,
          10,
          11,
          12,
          13,
          14,
          15,
          17,
          18,
          19,
          20,
          21,
          22
         ],
         "y": [
          60.791,
          64.43616666666667,
          65.212,
          64.646,
          65.315,
          65.56833333333333,
          68.673,
          66.84866666666666,
          65.699,
          65.91416666666667,
          70.517,
          66.395,
          63.594,
          65.2445,
          66.12457142857144,
          65.229,
          67.794,
          65.203,
          74.5715,
          67.3245
         ]
        },
        {
         "marker": {
          "color": "#F38400"
         },
         "name": "Median",
         "type": "bar",
         "x": [
          0,
          2,
          3,
          4,
          5,
          7,
          8,
          9,
          10,
          11,
          12,
          13,
          14,
          15,
          17,
          18,
          19,
          20,
          21,
          22
         ],
         "y": [
          60.791,
          64.4105,
          65.212,
          64.785,
          65.315,
          65.947,
          68.673,
          67.22,
          65.699,
          65.4195,
          70.517,
          65.015,
          63.594,
          65.74199999999999,
          66.655,
          65.229,
          67.794,
          65.203,
          74.5715,
          67.3245
         ]
        }
       ],
       "layout": {
        "title": "Ping latency(speedtest) by hour for the device 7 to the date 2019-02-05 10:57:47",
        "xaxis": {
         "title": "hour"
        },
        "yaxis": {
         "title": "Miliseconds"
        }
       }
      },
      "text/html": [
       "<div id=\"5d4981cb-bcc6-43eb-aca1-7a8a53f3ef96\" style=\"height: 525px; width: 100%;\" class=\"plotly-graph-div\"></div><script type=\"text/javascript\">require([\"plotly\"], function(Plotly) { window.PLOTLYENV=window.PLOTLYENV || {};window.PLOTLYENV.BASE_URL=\"https://plot.ly\";Plotly.newPlot(\"5d4981cb-bcc6-43eb-aca1-7a8a53f3ef96\", [{\"type\": \"bar\", \"x\": [0, 2, 3, 4, 5, 7, 8, 9, 10, 11, 12, 13, 14, 15, 17, 18, 19, 20, 21, 22], \"y\": [63.938, 65.827, 65.212, 69.524, 65.315, 66.035, 70.758, 67.245, 65.699, 70.075, 70.517, 69.404, 63.594, 65.807, 70.535, 65.229, 67.794, 65.203, 82.239, 68.643], \"marker\": {\"color\": \"#F3C300\"}, \"name\": \"Max\"}, {\"type\": \"bar\", \"x\": [0, 2, 3, 4, 5, 7, 8, 9, 10, 11, 12, 13, 14, 15, 17, 18, 19, 20, 21, 22], \"y\": [60.791, 64.43616666666667, 65.212, 64.646, 65.315, 65.56833333333333, 68.673, 66.84866666666666, 65.699, 65.91416666666667, 70.517, 66.395, 63.594, 65.2445, 66.12457142857144, 65.229, 67.794, 65.203, 74.5715, 67.3245], \"marker\": {\"color\": \"#875692\"}, \"name\": \"Mean\"}, {\"type\": \"bar\", \"x\": [0, 2, 3, 4, 5, 7, 8, 9, 10, 11, 12, 13, 14, 15, 17, 18, 19, 20, 21, 22], \"y\": [60.791, 64.4105, 65.212, 64.785, 65.315, 65.947, 68.673, 67.22, 65.699, 65.4195, 70.517, 65.015, 63.594, 65.74199999999999, 66.655, 65.229, 67.794, 65.203, 74.5715, 67.3245], \"marker\": {\"color\": \"#F38400\"}, \"name\": \"Median\"}], {\"title\": \"Ping latency(speedtest) by hour for the device 7 to the date 2019-02-05 10:57:47\", \"xaxis\": {\"title\": \"hour\"}, \"yaxis\": {\"title\": \"Miliseconds\"}}, {\"showLink\": true, \"linkText\": \"Export to plot.ly\"})});</script>"
      ],
      "text/vnd.plotly.v1+html": [
       "<div id=\"5d4981cb-bcc6-43eb-aca1-7a8a53f3ef96\" style=\"height: 525px; width: 100%;\" class=\"plotly-graph-div\"></div><script type=\"text/javascript\">require([\"plotly\"], function(Plotly) { window.PLOTLYENV=window.PLOTLYENV || {};window.PLOTLYENV.BASE_URL=\"https://plot.ly\";Plotly.newPlot(\"5d4981cb-bcc6-43eb-aca1-7a8a53f3ef96\", [{\"type\": \"bar\", \"x\": [0, 2, 3, 4, 5, 7, 8, 9, 10, 11, 12, 13, 14, 15, 17, 18, 19, 20, 21, 22], \"y\": [63.938, 65.827, 65.212, 69.524, 65.315, 66.035, 70.758, 67.245, 65.699, 70.075, 70.517, 69.404, 63.594, 65.807, 70.535, 65.229, 67.794, 65.203, 82.239, 68.643], \"marker\": {\"color\": \"#F3C300\"}, \"name\": \"Max\"}, {\"type\": \"bar\", \"x\": [0, 2, 3, 4, 5, 7, 8, 9, 10, 11, 12, 13, 14, 15, 17, 18, 19, 20, 21, 22], \"y\": [60.791, 64.43616666666667, 65.212, 64.646, 65.315, 65.56833333333333, 68.673, 66.84866666666666, 65.699, 65.91416666666667, 70.517, 66.395, 63.594, 65.2445, 66.12457142857144, 65.229, 67.794, 65.203, 74.5715, 67.3245], \"marker\": {\"color\": \"#875692\"}, \"name\": \"Mean\"}, {\"type\": \"bar\", \"x\": [0, 2, 3, 4, 5, 7, 8, 9, 10, 11, 12, 13, 14, 15, 17, 18, 19, 20, 21, 22], \"y\": [60.791, 64.4105, 65.212, 64.785, 65.315, 65.947, 68.673, 67.22, 65.699, 65.4195, 70.517, 65.015, 63.594, 65.74199999999999, 66.655, 65.229, 67.794, 65.203, 74.5715, 67.3245], \"marker\": {\"color\": \"#F38400\"}, \"name\": \"Median\"}], {\"title\": \"Ping latency(speedtest) by hour for the device 7 to the date 2019-02-05 10:57:47\", \"xaxis\": {\"title\": \"hour\"}, \"yaxis\": {\"title\": \"Miliseconds\"}}, {\"showLink\": true, \"linkText\": \"Export to plot.ly\"})});</script>"
      ]
     },
     "metadata": {},
     "output_type": "display_data"
    }
   ],
   "source": [
    "device_number=7\n",
    "by_hour_by_device_p2=mean_max_median_by2(input_dataframe=ping_df,value1=\"PING\", value2=\"PING\",\n",
    "                                          value3=\"PING\",group_by_value=\"hour\", rename_columns=True)\n",
    "subset=by_hour_by_device_p2[by_hour_by_device_p2[\"SK_PI\"]==device_number]\n",
    "t=\"Ping latency(speedtest) by hour for the device \"+str(device_number)+title_tail\n",
    "combined_bar_plot_3traces(xvalues=subset[\"hour\"],\n",
    "                         yvalues1=subset[\"max\"],\n",
    "                         yvalues2=subset[\"mean\"],\n",
    "                         yvalues3=subset[\"median\"],\n",
    "                         name1=\"Max\",\n",
    "                         name2=\"Mean\",\n",
    "                         name3=\"Median\",\n",
    "                         title=t,\n",
    "                         xtitle=\"hour\",\n",
    "                         stack=False)"
   ]
  },
  {
   "cell_type": "code",
   "execution_count": 83,
   "metadata": {},
   "outputs": [],
   "source": [
    "ping_df[\"weekday\"]=ping_df[\"time\"].dt.weekday_name\n",
    "ping_df[\"weekday\"] = pd.Categorical(ping_df[\"weekday\"], [\"Monday\", \"Tuesday\", \"Wednesday\", \"Thursday\", \"Friday\", \"Saturday\", \"Sunday\"])"
   ]
  },
  {
   "cell_type": "code",
   "execution_count": 130,
   "metadata": {},
   "outputs": [
    {
     "data": {
      "application/vnd.plotly.v1+json": {
       "data": [
        {
         "marker": {
          "color": "#222222"
         },
         "name": "Monday",
         "type": "box",
         "y": [
          63.706,
          64.79,
          70.693,
          68.217,
          66.128,
          64.699,
          65.053,
          64.956,
          65.609,
          66.992,
          66.788,
          66.018,
          86.393,
          64.737,
          48.887,
          49.014,
          57.594,
          56.999,
          57.39,
          58.291,
          56.914,
          56.982,
          60.316,
          57.167,
          56.239,
          65.307,
          56.927,
          55.602,
          56.27,
          57.326,
          64.882,
          68.748,
          66.179,
          68.976,
          68.953,
          79.141,
          231.343,
          75.302,
          219.696,
          64.281,
          102.28,
          62.7,
          90.365,
          65.563,
          63.148,
          62.338,
          74.484,
          64.773,
          66.081,
          69.404,
          65.947,
          65.674,
          64.048,
          64.766,
          66.834,
          66.904,
          44.254,
          44.206,
          58.21,
          60.291
         ]
        },
        {
         "marker": {
          "color": "#F3C300"
         },
         "name": "Tuesday",
         "type": "box",
         "y": [
          63.066,
          72.162,
          63.339,
          64.276,
          66.39,
          63.317,
          87.332,
          70.257,
          65.417,
          70.441,
          48.763,
          50.677,
          49.04,
          48.854,
          48.809,
          56.437,
          58.486,
          64.773,
          57.04,
          56.935,
          88.081,
          58.509,
          57.363,
          56.211,
          88.711,
          65.722,
          70.419,
          155.516,
          69.556,
          74.501,
          71.31,
          71.426,
          77.581,
          71.696,
          75.963,
          81.776,
          169.46,
          223.103,
          188.605,
          64.444,
          70.412,
          62.065,
          62.254,
          67.871,
          62.345,
          64.54,
          65.771,
          60.139,
          69.524,
          66.588,
          70.517,
          65.807
         ]
        },
        {
         "marker": {
          "color": "#875692"
         },
         "name": "Wednesday",
         "type": "box",
         "y": [
          69.942,
          63.437,
          70.688,
          59.988,
          189.677,
          64.358,
          64.835,
          104.323,
          64.976,
          74.145,
          113.491,
          74.111,
          48.774,
          49.471,
          50.183,
          48.769,
          48.703,
          49.224,
          58.687,
          57.131,
          58.839,
          56.323,
          57.181,
          59.649,
          58.263,
          80.176,
          55.835,
          58.956,
          55.919,
          56.454,
          65.67,
          103.615,
          66.507,
          69.915,
          74.457,
          81.315,
          220.01,
          236.27,
          669.219,
          73.153,
          76.527,
          67.22,
          57.644,
          59.629,
          65.165,
          66.006,
          62.818,
          66.655,
          52.347
         ]
        },
        {
         "marker": {
          "color": "#F38400"
         },
         "name": "Thursday",
         "type": "box",
         "y": [
          64.438,
          63.051,
          64.647,
          70.761,
          79.382,
          64.641,
          64.177,
          63.904,
          73.805,
          122.777,
          70.287,
          65.019,
          65.958,
          68.442,
          94.595,
          64.81,
          64.715,
          64.265,
          64.428,
          66.329,
          67.605,
          71.869,
          49.005,
          48.931,
          49.126,
          59.068,
          57.566,
          55.855,
          64.232,
          60.717,
          196.284,
          57.08,
          66.962,
          70.069,
          70.936,
          72.517,
          64.957,
          68.254,
          70.075,
          63.657,
          67.245,
          65.04,
          70.758
         ]
        },
        {
         "marker": {
          "color": "#A1CAF1"
         },
         "name": "Friday",
         "type": "box",
         "y": [
          79.9,
          92.021,
          91.542,
          68.19,
          63.837,
          73.064,
          63.471,
          64.354,
          67.109,
          66.211,
          67.673,
          65.021,
          61.626,
          57.432,
          67.839,
          115.159,
          66.574,
          63.489,
          63.082,
          65.547,
          64.556,
          49.252,
          48.8,
          56.167,
          59.34,
          63.439,
          55.682,
          57.357,
          59.348,
          57.161,
          57.252,
          57.684,
          57.524,
          58.974,
          56.795,
          136.4,
          64.587,
          63.9,
          63.923,
          73.024,
          96.303,
          70.911,
          92.478,
          71.142,
          101.577,
          76.015,
          71.785,
          62.329,
          101.786,
          66.271,
          66.189,
          65.315,
          69.498,
          65.203
         ]
        },
        {
         "marker": {
          "color": "#BE0032"
         },
         "name": "Saturday",
         "type": "box",
         "y": [
          65.157,
          66.006,
          63.99,
          63.901,
          324.017,
          68.756,
          63.569,
          63.668,
          65.727,
          66.017,
          63.435,
          64.419,
          89.017,
          64.596,
          65.248,
          63.584,
          73.387,
          49.023,
          48.792,
          55.744,
          57.608,
          56.288,
          57.105,
          58.74,
          56.683,
          64.298,
          65.04,
          64.534,
          71.838,
          68.11,
          69.5,
          67.569,
          70.415,
          71.097,
          80.276,
          73.69,
          61.992,
          61.981,
          62.281,
          62.012,
          61.942,
          62.574,
          62.074,
          64.785,
          64.723,
          64.422,
          65.713,
          68.643,
          65.494,
          70.535,
          82.239,
          52.388,
          44.239,
          45.052,
          57.845,
          24.002,
          22.138,
          26.961,
          23.505
         ]
        },
        {
         "marker": {
          "color": "#C2B280"
         },
         "name": "Sunday",
         "type": "box",
         "y": [
          70.192,
          63.318,
          63.737,
          65.984,
          69.789,
          74.455,
          63.797,
          63.568,
          86.351,
          75.884,
          65.629,
          66.177,
          68.613,
          48.875,
          57.236,
          56.755,
          57.619,
          57.157,
          127.763,
          56.524,
          56.934,
          56.491,
          59.371,
          64.731,
          64.343,
          65.653,
          73.84,
          65.3,
          101.556,
          67.654,
          68.021,
          68.312,
          215.951,
          75.992,
          73.958,
          64.031,
          62.388,
          62.183,
          62.45,
          63.857,
          66.137,
          77.357,
          65.212,
          66.035,
          66.274,
          63.594,
          65.229,
          65.827,
          65.015,
          64.171,
          63.938,
          63.875,
          63.687,
          67.794,
          65.699,
          44.212,
          44.237,
          44.247,
          44.228
         ]
        }
       ],
       "layout": {
        "title": "Ping latency(collectd) by day of the week to the date 2019-02-05 10:57:47",
        "xaxis": {
         "title": ""
        },
        "yaxis": {
         "rangemode": "tozero",
         "title": "Miliseconds"
        }
       }
      },
      "text/html": [
       "<div id=\"44824a16-a434-4a09-9666-7442e5aa495f\" style=\"height: 525px; width: 100%;\" class=\"plotly-graph-div\"></div><script type=\"text/javascript\">require([\"plotly\"], function(Plotly) { window.PLOTLYENV=window.PLOTLYENV || {};window.PLOTLYENV.BASE_URL=\"https://plot.ly\";Plotly.newPlot(\"44824a16-a434-4a09-9666-7442e5aa495f\", [{\"type\": \"box\", \"y\": [63.706, 64.79, 70.693, 68.217, 66.128, 64.699, 65.053, 64.956, 65.609, 66.992, 66.788, 66.018, 86.393, 64.737, 48.887, 49.014, 57.594, 56.999, 57.39, 58.291, 56.914, 56.982, 60.316, 57.167, 56.239, 65.307, 56.927, 55.602, 56.27, 57.326, 64.882, 68.748, 66.179, 68.976, 68.953, 79.141, 231.343, 75.302, 219.696, 64.281, 102.28, 62.7, 90.365, 65.563, 63.148, 62.338, 74.484, 64.773, 66.081, 69.404, 65.947, 65.674, 64.048, 64.766, 66.834, 66.904, 44.254, 44.206, 58.21, 60.291], \"name\": \"Monday\", \"marker\": {\"color\": \"#222222\"}}, {\"type\": \"box\", \"y\": [63.066, 72.162, 63.339, 64.276, 66.39, 63.317, 87.332, 70.257, 65.417, 70.441, 48.763, 50.677, 49.04, 48.854, 48.809, 56.437, 58.486, 64.773, 57.04, 56.935, 88.081, 58.509, 57.363, 56.211, 88.711, 65.722, 70.419, 155.516, 69.556, 74.501, 71.31, 71.426, 77.581, 71.696, 75.963, 81.776, 169.46, 223.103, 188.605, 64.444, 70.412, 62.065, 62.254, 67.871, 62.345, 64.54, 65.771, 60.139, 69.524, 66.588, 70.517, 65.807], \"name\": \"Tuesday\", \"marker\": {\"color\": \"#F3C300\"}}, {\"type\": \"box\", \"y\": [69.942, 63.437, 70.688, 59.988, 189.677, 64.358, 64.835, 104.323, 64.976, 74.145, 113.491, 74.111, 48.774, 49.471, 50.183, 48.769, 48.703, 49.224, 58.687, 57.131, 58.839, 56.323, 57.181, 59.649, 58.263, 80.176, 55.835, 58.956, 55.919, 56.454, 65.67, 103.615, 66.507, 69.915, 74.457, 81.315, 220.01, 236.27, 669.219, 73.153, 76.527, 67.22, 57.644, 59.629, 65.165, 66.006, 62.818, 66.655, 52.347], \"name\": \"Wednesday\", \"marker\": {\"color\": \"#875692\"}}, {\"type\": \"box\", \"y\": [64.438, 63.051, 64.647, 70.761, 79.382, 64.641, 64.177, 63.904, 73.805, 122.777, 70.287, 65.019, 65.958, 68.442, 94.595, 64.81, 64.715, 64.265, 64.428, 66.329, 67.605, 71.869, 49.005, 48.931, 49.126, 59.068, 57.566, 55.855, 64.232, 60.717, 196.284, 57.08, 66.962, 70.069, 70.936, 72.517, 64.957, 68.254, 70.075, 63.657, 67.245, 65.04, 70.758], \"name\": \"Thursday\", \"marker\": {\"color\": \"#F38400\"}}, {\"type\": \"box\", \"y\": [79.9, 92.021, 91.542, 68.19, 63.837, 73.064, 63.471, 64.354, 67.109, 66.211, 67.673, 65.021, 61.626, 57.432, 67.839, 115.159, 66.574, 63.489, 63.082, 65.547, 64.556, 49.252, 48.8, 56.167, 59.34, 63.439, 55.682, 57.357, 59.348, 57.161, 57.252, 57.684, 57.524, 58.974, 56.795, 136.4, 64.587, 63.9, 63.923, 73.024, 96.303, 70.911, 92.478, 71.142, 101.577, 76.015, 71.785, 62.329, 101.786, 66.271, 66.189, 65.315, 69.498, 65.203], \"name\": \"Friday\", \"marker\": {\"color\": \"#A1CAF1\"}}, {\"type\": \"box\", \"y\": [65.157, 66.006, 63.99, 63.901, 324.017, 68.756, 63.569, 63.668, 65.727, 66.017, 63.435, 64.419, 89.017, 64.596, 65.248, 63.584, 73.387, 49.023, 48.792, 55.744, 57.608, 56.288, 57.105, 58.74, 56.683, 64.298, 65.04, 64.534, 71.838, 68.11, 69.5, 67.569, 70.415, 71.097, 80.276, 73.69, 61.992, 61.981, 62.281, 62.012, 61.942, 62.574, 62.074, 64.785, 64.723, 64.422, 65.713, 68.643, 65.494, 70.535, 82.239, 52.388, 44.239, 45.052, 57.845, 24.002, 22.138, 26.961, 23.505], \"name\": \"Saturday\", \"marker\": {\"color\": \"#BE0032\"}}, {\"type\": \"box\", \"y\": [70.192, 63.318, 63.737, 65.984, 69.789, 74.455, 63.797, 63.568, 86.351, 75.884, 65.629, 66.177, 68.613, 48.875, 57.236, 56.755, 57.619, 57.157, 127.763, 56.524, 56.934, 56.491, 59.371, 64.731, 64.343, 65.653, 73.84, 65.3, 101.556, 67.654, 68.021, 68.312, 215.951, 75.992, 73.958, 64.031, 62.388, 62.183, 62.45, 63.857, 66.137, 77.357, 65.212, 66.035, 66.274, 63.594, 65.229, 65.827, 65.015, 64.171, 63.938, 63.875, 63.687, 67.794, 65.699, 44.212, 44.237, 44.247, 44.228], \"name\": \"Sunday\", \"marker\": {\"color\": \"#C2B280\"}}], {\"title\": \"Ping latency(collectd) by day of the week to the date 2019-02-05 10:57:47\", \"xaxis\": {\"title\": \"\"}, \"yaxis\": {\"title\": \"Miliseconds\", \"rangemode\": \"tozero\"}}, {\"showLink\": true, \"linkText\": \"Export to plot.ly\"})});</script>"
      ],
      "text/vnd.plotly.v1+html": [
       "<div id=\"44824a16-a434-4a09-9666-7442e5aa495f\" style=\"height: 525px; width: 100%;\" class=\"plotly-graph-div\"></div><script type=\"text/javascript\">require([\"plotly\"], function(Plotly) { window.PLOTLYENV=window.PLOTLYENV || {};window.PLOTLYENV.BASE_URL=\"https://plot.ly\";Plotly.newPlot(\"44824a16-a434-4a09-9666-7442e5aa495f\", [{\"type\": \"box\", \"y\": [63.706, 64.79, 70.693, 68.217, 66.128, 64.699, 65.053, 64.956, 65.609, 66.992, 66.788, 66.018, 86.393, 64.737, 48.887, 49.014, 57.594, 56.999, 57.39, 58.291, 56.914, 56.982, 60.316, 57.167, 56.239, 65.307, 56.927, 55.602, 56.27, 57.326, 64.882, 68.748, 66.179, 68.976, 68.953, 79.141, 231.343, 75.302, 219.696, 64.281, 102.28, 62.7, 90.365, 65.563, 63.148, 62.338, 74.484, 64.773, 66.081, 69.404, 65.947, 65.674, 64.048, 64.766, 66.834, 66.904, 44.254, 44.206, 58.21, 60.291], \"name\": \"Monday\", \"marker\": {\"color\": \"#222222\"}}, {\"type\": \"box\", \"y\": [63.066, 72.162, 63.339, 64.276, 66.39, 63.317, 87.332, 70.257, 65.417, 70.441, 48.763, 50.677, 49.04, 48.854, 48.809, 56.437, 58.486, 64.773, 57.04, 56.935, 88.081, 58.509, 57.363, 56.211, 88.711, 65.722, 70.419, 155.516, 69.556, 74.501, 71.31, 71.426, 77.581, 71.696, 75.963, 81.776, 169.46, 223.103, 188.605, 64.444, 70.412, 62.065, 62.254, 67.871, 62.345, 64.54, 65.771, 60.139, 69.524, 66.588, 70.517, 65.807], \"name\": \"Tuesday\", \"marker\": {\"color\": \"#F3C300\"}}, {\"type\": \"box\", \"y\": [69.942, 63.437, 70.688, 59.988, 189.677, 64.358, 64.835, 104.323, 64.976, 74.145, 113.491, 74.111, 48.774, 49.471, 50.183, 48.769, 48.703, 49.224, 58.687, 57.131, 58.839, 56.323, 57.181, 59.649, 58.263, 80.176, 55.835, 58.956, 55.919, 56.454, 65.67, 103.615, 66.507, 69.915, 74.457, 81.315, 220.01, 236.27, 669.219, 73.153, 76.527, 67.22, 57.644, 59.629, 65.165, 66.006, 62.818, 66.655, 52.347], \"name\": \"Wednesday\", \"marker\": {\"color\": \"#875692\"}}, {\"type\": \"box\", \"y\": [64.438, 63.051, 64.647, 70.761, 79.382, 64.641, 64.177, 63.904, 73.805, 122.777, 70.287, 65.019, 65.958, 68.442, 94.595, 64.81, 64.715, 64.265, 64.428, 66.329, 67.605, 71.869, 49.005, 48.931, 49.126, 59.068, 57.566, 55.855, 64.232, 60.717, 196.284, 57.08, 66.962, 70.069, 70.936, 72.517, 64.957, 68.254, 70.075, 63.657, 67.245, 65.04, 70.758], \"name\": \"Thursday\", \"marker\": {\"color\": \"#F38400\"}}, {\"type\": \"box\", \"y\": [79.9, 92.021, 91.542, 68.19, 63.837, 73.064, 63.471, 64.354, 67.109, 66.211, 67.673, 65.021, 61.626, 57.432, 67.839, 115.159, 66.574, 63.489, 63.082, 65.547, 64.556, 49.252, 48.8, 56.167, 59.34, 63.439, 55.682, 57.357, 59.348, 57.161, 57.252, 57.684, 57.524, 58.974, 56.795, 136.4, 64.587, 63.9, 63.923, 73.024, 96.303, 70.911, 92.478, 71.142, 101.577, 76.015, 71.785, 62.329, 101.786, 66.271, 66.189, 65.315, 69.498, 65.203], \"name\": \"Friday\", \"marker\": {\"color\": \"#A1CAF1\"}}, {\"type\": \"box\", \"y\": [65.157, 66.006, 63.99, 63.901, 324.017, 68.756, 63.569, 63.668, 65.727, 66.017, 63.435, 64.419, 89.017, 64.596, 65.248, 63.584, 73.387, 49.023, 48.792, 55.744, 57.608, 56.288, 57.105, 58.74, 56.683, 64.298, 65.04, 64.534, 71.838, 68.11, 69.5, 67.569, 70.415, 71.097, 80.276, 73.69, 61.992, 61.981, 62.281, 62.012, 61.942, 62.574, 62.074, 64.785, 64.723, 64.422, 65.713, 68.643, 65.494, 70.535, 82.239, 52.388, 44.239, 45.052, 57.845, 24.002, 22.138, 26.961, 23.505], \"name\": \"Saturday\", \"marker\": {\"color\": \"#BE0032\"}}, {\"type\": \"box\", \"y\": [70.192, 63.318, 63.737, 65.984, 69.789, 74.455, 63.797, 63.568, 86.351, 75.884, 65.629, 66.177, 68.613, 48.875, 57.236, 56.755, 57.619, 57.157, 127.763, 56.524, 56.934, 56.491, 59.371, 64.731, 64.343, 65.653, 73.84, 65.3, 101.556, 67.654, 68.021, 68.312, 215.951, 75.992, 73.958, 64.031, 62.388, 62.183, 62.45, 63.857, 66.137, 77.357, 65.212, 66.035, 66.274, 63.594, 65.229, 65.827, 65.015, 64.171, 63.938, 63.875, 63.687, 67.794, 65.699, 44.212, 44.237, 44.247, 44.228], \"name\": \"Sunday\", \"marker\": {\"color\": \"#C2B280\"}}], {\"title\": \"Ping latency(collectd) by day of the week to the date 2019-02-05 10:57:47\", \"xaxis\": {\"title\": \"\"}, \"yaxis\": {\"title\": \"Miliseconds\", \"rangemode\": \"tozero\"}}, {\"showLink\": true, \"linkText\": \"Export to plot.ly\"})});</script>"
      ]
     },
     "metadata": {},
     "output_type": "display_data"
    }
   ],
   "source": [
    "t=\"Ping latency(collectd) by day of the week\"+title_tail\n",
    "simple_boxplot(dataframe=ping_df,plot_value='PING',sort_value='weekday',\n",
    "               title=t,\n",
    "               ytitle=\"Miliseconds\", weekdays=True)"
   ]
  },
  {
   "cell_type": "code",
   "execution_count": 126,
   "metadata": {},
   "outputs": [
    {
     "data": {
      "application/vnd.plotly.v1+json": {
       "data": [
        {
         "marker": {
          "color": "#F3C300"
         },
         "name": "Max",
         "type": "bar",
         "x": [
          "Monday",
          "Tuesday",
          "Wednesday",
          "Thursday",
          "Friday",
          "Saturday",
          "Sunday"
         ],
         "y": [
          69.404,
          70.517,
          67.22,
          70.758,
          69.498,
          82.239,
          67.794
         ]
        },
        {
         "marker": {
          "color": "#875692"
         },
         "name": "Mean",
         "type": "bar",
         "x": [
          "Monday",
          "Tuesday",
          "Wednesday",
          "Thursday",
          "Friday",
          "Saturday",
          "Sunday"
         ],
         "y": [
          66.04788888888889,
          66.391,
          63.590999999999994,
          67.35499999999999,
          66.672,
          68.31925,
          65.10384615384615
         ]
        },
        {
         "marker": {
          "color": "#F38400"
         },
         "name": "Median",
         "type": "bar",
         "x": [
          "Monday",
          "Tuesday",
          "Wednesday",
          "Thursday",
          "Friday",
          "Saturday",
          "Sunday"
         ],
         "y": [
          65.947,
          66.19749999999999,
          65.165,
          67.245,
          65.315,
          65.6035,
          65.212
         ]
        }
       ],
       "layout": {
        "title": "Ping latency(speedtest) by hour for the device 7 to the date 2019-02-05 10:57:47",
        "xaxis": {
         "title": "weekday"
        },
        "yaxis": {
         "title": "Miliseconds"
        }
       }
      },
      "text/html": [
       "<div id=\"9e44ef65-3a2c-4de0-8d1c-d43fc2385146\" style=\"height: 525px; width: 100%;\" class=\"plotly-graph-div\"></div><script type=\"text/javascript\">require([\"plotly\"], function(Plotly) { window.PLOTLYENV=window.PLOTLYENV || {};window.PLOTLYENV.BASE_URL=\"https://plot.ly\";Plotly.newPlot(\"9e44ef65-3a2c-4de0-8d1c-d43fc2385146\", [{\"type\": \"bar\", \"x\": [\"Monday\", \"Tuesday\", \"Wednesday\", \"Thursday\", \"Friday\", \"Saturday\", \"Sunday\"], \"y\": [69.404, 70.517, 67.22, 70.758, 69.498, 82.239, 67.794], \"marker\": {\"color\": \"#F3C300\"}, \"name\": \"Max\"}, {\"type\": \"bar\", \"x\": [\"Monday\", \"Tuesday\", \"Wednesday\", \"Thursday\", \"Friday\", \"Saturday\", \"Sunday\"], \"y\": [66.04788888888889, 66.391, 63.590999999999994, 67.35499999999999, 66.672, 68.31925, 65.10384615384615], \"marker\": {\"color\": \"#875692\"}, \"name\": \"Mean\"}, {\"type\": \"bar\", \"x\": [\"Monday\", \"Tuesday\", \"Wednesday\", \"Thursday\", \"Friday\", \"Saturday\", \"Sunday\"], \"y\": [65.947, 66.19749999999999, 65.165, 67.245, 65.315, 65.6035, 65.212], \"marker\": {\"color\": \"#F38400\"}, \"name\": \"Median\"}], {\"title\": \"Ping latency(speedtest) by hour for the device 7 to the date 2019-02-05 10:57:47\", \"xaxis\": {\"title\": \"weekday\"}, \"yaxis\": {\"title\": \"Miliseconds\"}}, {\"showLink\": true, \"linkText\": \"Export to plot.ly\"})});</script>"
      ],
      "text/vnd.plotly.v1+html": [
       "<div id=\"9e44ef65-3a2c-4de0-8d1c-d43fc2385146\" style=\"height: 525px; width: 100%;\" class=\"plotly-graph-div\"></div><script type=\"text/javascript\">require([\"plotly\"], function(Plotly) { window.PLOTLYENV=window.PLOTLYENV || {};window.PLOTLYENV.BASE_URL=\"https://plot.ly\";Plotly.newPlot(\"9e44ef65-3a2c-4de0-8d1c-d43fc2385146\", [{\"type\": \"bar\", \"x\": [\"Monday\", \"Tuesday\", \"Wednesday\", \"Thursday\", \"Friday\", \"Saturday\", \"Sunday\"], \"y\": [69.404, 70.517, 67.22, 70.758, 69.498, 82.239, 67.794], \"marker\": {\"color\": \"#F3C300\"}, \"name\": \"Max\"}, {\"type\": \"bar\", \"x\": [\"Monday\", \"Tuesday\", \"Wednesday\", \"Thursday\", \"Friday\", \"Saturday\", \"Sunday\"], \"y\": [66.04788888888889, 66.391, 63.590999999999994, 67.35499999999999, 66.672, 68.31925, 65.10384615384615], \"marker\": {\"color\": \"#875692\"}, \"name\": \"Mean\"}, {\"type\": \"bar\", \"x\": [\"Monday\", \"Tuesday\", \"Wednesday\", \"Thursday\", \"Friday\", \"Saturday\", \"Sunday\"], \"y\": [65.947, 66.19749999999999, 65.165, 67.245, 65.315, 65.6035, 65.212], \"marker\": {\"color\": \"#F38400\"}, \"name\": \"Median\"}], {\"title\": \"Ping latency(speedtest) by hour for the device 7 to the date 2019-02-05 10:57:47\", \"xaxis\": {\"title\": \"weekday\"}, \"yaxis\": {\"title\": \"Miliseconds\"}}, {\"showLink\": true, \"linkText\": \"Export to plot.ly\"})});</script>"
      ]
     },
     "metadata": {},
     "output_type": "display_data"
    }
   ],
   "source": [
    "device_number=7\n",
    "by_hour_by_device_p2=mean_max_median_by2(input_dataframe=ping_df,value1=\"PING\", value2=\"PING\",\n",
    "                                          value3=\"PING\",group_by_value=\"weekday\", rename_columns=True)\n",
    "subset=by_hour_by_device_p2[by_hour_by_device_p2[\"SK_PI\"]==device_number]\n",
    "t=\"Ping latency(speedtest) by hour for the device \"+str(device_number)+title_tail\n",
    "combined_bar_plot_3traces(xvalues=subset[\"weekday\"],\n",
    "                         yvalues1=subset[\"max\"],\n",
    "                         yvalues2=subset[\"mean\"],\n",
    "                         yvalues3=subset[\"median\"],\n",
    "                         name1=\"Max\",\n",
    "                         name2=\"Mean\",\n",
    "                         name3=\"Median\",\n",
    "                         title=t,\n",
    "                         xtitle=\"weekday\",\n",
    "                         stack=False)"
   ]
  },
  {
   "cell_type": "code",
   "execution_count": null,
   "metadata": {},
   "outputs": [],
   "source": []
  }
 ],
 "metadata": {
  "kernelspec": {
   "display_name": "Python 3",
   "language": "python",
   "name": "python3"
  },
  "language_info": {
   "codemirror_mode": {
    "name": "ipython",
    "version": 3
   },
   "file_extension": ".py",
   "mimetype": "text/x-python",
   "name": "python",
   "nbconvert_exporter": "python",
   "pygments_lexer": "ipython3",
   "version": "3.6.5"
  },
  "nbTranslate": {
   "displayLangs": [
    "*"
   ],
   "hotkey": "alt-t",
   "langInMainMenu": true,
   "sourceLang": "en",
   "targetLang": "fr",
   "useGoogleTranslate": true
  }
 },
 "nbformat": 4,
 "nbformat_minor": 2
}
