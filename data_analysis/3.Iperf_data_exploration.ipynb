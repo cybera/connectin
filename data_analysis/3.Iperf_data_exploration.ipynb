{
 "cells": [
  {
   "cell_type": "markdown",
   "metadata": {},
   "source": [
    "# Iperf data exploration"
   ]
  },
  {
   "cell_type": "markdown",
   "metadata": {},
   "source": [
    "## How data is  collected\n",
    "Iperf data is collected by running iperf3 test with test server **clearskystatus.info**\n",
    "\n",
    "**Commands**:  \n",
    "Bandwidth test:\n",
    ">/usr/bin/iperf3 -c clearskystatus.info\n",
    "\n",
    "Reverse bandwidth test(server sends data to the client):\n",
    ">/usr/bin/iperf3 -c clearskystatus.info -R"
   ]
  },
  {
   "cell_type": "markdown",
   "metadata": {},
   "source": [
    "Data being collected(???):\n",
    " - **Ping latency** \n",
    " - **Upload speed**\n",
    " - **Download speed**"
   ]
  },
  {
   "cell_type": "markdown",
   "metadata": {},
   "source": [
    "## How data looks like"
   ]
  },
  {
   "cell_type": "code",
   "execution_count": 1,
   "metadata": {},
   "outputs": [
    {
     "data": {
      "text/html": [
       "<script type=\"text/javascript\">window.PlotlyConfig = {MathJaxConfig: 'local'};</script><script type=\"text/javascript\">if (window.MathJax) {MathJax.Hub.Config({SVG: {font: \"STIX-Web\"}});}</script><script>requirejs.config({paths: { 'plotly': ['https://cdn.plot.ly/plotly-latest.min']},});if(!window._Plotly) {require(['plotly'],function(plotly) {window._Plotly=plotly;});}</script>"
      ],
      "text/vnd.plotly.v1+html": [
       "<script type=\"text/javascript\">window.PlotlyConfig = {MathJaxConfig: 'local'};</script><script type=\"text/javascript\">if (window.MathJax) {MathJax.Hub.Config({SVG: {font: \"STIX-Web\"}});}</script><script>requirejs.config({paths: { 'plotly': ['https://cdn.plot.ly/plotly-latest.min']},});if(!window._Plotly) {require(['plotly'],function(plotly) {window._Plotly=plotly;});}</script>"
      ]
     },
     "metadata": {},
     "output_type": "display_data"
    }
   ],
   "source": [
    "from data_exploration import *\n",
    "import numpy as np"
   ]
  },
  {
   "cell_type": "code",
   "execution_count": 2,
   "metadata": {},
   "outputs": [],
   "source": [
    "import pyodbc\n",
    "def connect_to_mssql():\n",
    "    with open('../credentials.json', 'r') as f_credentials:\n",
    "        credentials_config = json.load(f_credentials)\n",
    "    password=credentials_config['mssql_password']\n",
    "    srv=credentials_config['mssql_host']\n",
    "    connection = pyodbc.connect(driver='/usr/local/lib/libtdsodbc.so', server=srv,port='1433', database='net_speed_md', uid='cybera_sql', pwd=password)\n",
    "    return connection"
   ]
  },
  {
   "cell_type": "code",
   "execution_count": 3,
   "metadata": {},
   "outputs": [
    {
     "name": "stdout",
     "output_type": "stream",
     "text": [
      "Starting point: 2019-02-06 21:07:22\n"
     ]
    }
   ],
   "source": [
    "#Set up starting point, by default if will start from current time\n",
    "starting_point=datetime.now().strftime('%Y-%m-%d %H:%M:%S')\n",
    "#starting point=\"2019-01-10 14:00:00\"  # to set upl alternative starting point\n",
    "print(\"Starting point:\",starting_point )\n",
    "\n",
    "title_tail=\" to the date \"+ starting_point"
   ]
  },
  {
   "cell_type": "code",
   "execution_count": 4,
   "metadata": {},
   "outputs": [],
   "source": [
    "time_interval='4w' #5d"
   ]
  },
  {
   "cell_type": "markdown",
   "metadata": {},
   "source": [
    "Set up influxdb connection:"
   ]
  },
  {
   "cell_type": "code",
   "execution_count": 5,
   "metadata": {},
   "outputs": [],
   "source": [
    "client, client_df = connect_to_influxdb()"
   ]
  },
  {
   "cell_type": "code",
   "execution_count": 6,
   "metadata": {},
   "outputs": [
    {
     "data": {
      "text/html": [
       "<div>\n",
       "<style>\n",
       "    .dataframe thead tr:only-child th {\n",
       "        text-align: right;\n",
       "    }\n",
       "\n",
       "    .dataframe thead th {\n",
       "        text-align: left;\n",
       "    }\n",
       "\n",
       "    .dataframe tbody tr th {\n",
       "        vertical-align: top;\n",
       "    }\n",
       "</style>\n",
       "<table border=\"1\" class=\"dataframe\">\n",
       "  <thead>\n",
       "    <tr style=\"text-align: right;\">\n",
       "      <th></th>\n",
       "      <th>time</th>\n",
       "      <th>IP</th>\n",
       "      <th>PI_MAC</th>\n",
       "      <th>PROVIDER</th>\n",
       "      <th>PROVINCE</th>\n",
       "      <th>SK_PI</th>\n",
       "      <th>TEST_SERVER</th>\n",
       "      <th>UPLOAD</th>\n",
       "    </tr>\n",
       "  </thead>\n",
       "  <tbody>\n",
       "    <tr>\n",
       "      <th>7</th>\n",
       "      <td>2018-12-03 08:41:47-06:00</td>\n",
       "      <td>199.116.232.249</td>\n",
       "      <td>02-99-03-82-52-06</td>\n",
       "      <td>iperf</td>\n",
       "      <td>iperf</td>\n",
       "      <td>3</td>\n",
       "      <td>clearskystatus.info</td>\n",
       "      <td>2529.28</td>\n",
       "    </tr>\n",
       "    <tr>\n",
       "      <th>6</th>\n",
       "      <td>2018-12-03 04:59:09-06:00</td>\n",
       "      <td>204.112.96.94</td>\n",
       "      <td>02-cd-05-c1-92-3f</td>\n",
       "      <td>iperf</td>\n",
       "      <td>iperf</td>\n",
       "      <td>4</td>\n",
       "      <td>clearskystatus.info</td>\n",
       "      <td>718.00</td>\n",
       "    </tr>\n",
       "    <tr>\n",
       "      <th>0</th>\n",
       "      <td>2018-12-02 10:27:57-06:00</td>\n",
       "      <td>204.112.96.66</td>\n",
       "      <td>02-07-06-80-d4-7c</td>\n",
       "      <td>iperf</td>\n",
       "      <td>iperf</td>\n",
       "      <td>7</td>\n",
       "      <td>clearskystatus.info</td>\n",
       "      <td>4311.04</td>\n",
       "    </tr>\n",
       "    <tr>\n",
       "      <th>1</th>\n",
       "      <td>2018-12-02 10:28:23-06:00</td>\n",
       "      <td>204.9.14.110</td>\n",
       "      <td>02-0e-04-82-02-40</td>\n",
       "      <td>iperf</td>\n",
       "      <td>iperf</td>\n",
       "      <td>9</td>\n",
       "      <td>clearskystatus.info</td>\n",
       "      <td>3133.44</td>\n",
       "    </tr>\n",
       "    <tr>\n",
       "      <th>2</th>\n",
       "      <td>2018-12-02 14:10:05-06:00</td>\n",
       "      <td>204.9.14.110</td>\n",
       "      <td>02-0e-04-82-02-40</td>\n",
       "      <td>iperf</td>\n",
       "      <td>iperf</td>\n",
       "      <td>9</td>\n",
       "      <td>clearskystatus.info</td>\n",
       "      <td>6522.88</td>\n",
       "    </tr>\n",
       "    <tr>\n",
       "      <th>3</th>\n",
       "      <td>2018-12-02 17:52:07-06:00</td>\n",
       "      <td>204.9.14.110</td>\n",
       "      <td>02-0e-04-82-02-40</td>\n",
       "      <td>iperf</td>\n",
       "      <td>iperf</td>\n",
       "      <td>9</td>\n",
       "      <td>clearskystatus.info</td>\n",
       "      <td>7444.48</td>\n",
       "    </tr>\n",
       "    <tr>\n",
       "      <th>4</th>\n",
       "      <td>2018-12-03 01:18:00-06:00</td>\n",
       "      <td>204.9.14.110</td>\n",
       "      <td>02-0e-04-82-02-40</td>\n",
       "      <td>iperf</td>\n",
       "      <td>iperf</td>\n",
       "      <td>9</td>\n",
       "      <td>clearskystatus.info</td>\n",
       "      <td>2150.40</td>\n",
       "    </tr>\n",
       "    <tr>\n",
       "      <th>8</th>\n",
       "      <td>2018-12-03 12:24:06-06:00</td>\n",
       "      <td>204.9.14.110</td>\n",
       "      <td>02-0e-04-82-02-40</td>\n",
       "      <td>iperf</td>\n",
       "      <td>iperf</td>\n",
       "      <td>9</td>\n",
       "      <td>clearskystatus.info</td>\n",
       "      <td>3205.12</td>\n",
       "    </tr>\n",
       "    <tr>\n",
       "      <th>5</th>\n",
       "      <td>2018-12-03 01:18:24-06:00</td>\n",
       "      <td>38.64.198.5</td>\n",
       "      <td>02-d8-06-c2-53-e7</td>\n",
       "      <td>iperf</td>\n",
       "      <td>iperf</td>\n",
       "      <td>11</td>\n",
       "      <td>clearskystatus.info</td>\n",
       "      <td>1669.12</td>\n",
       "    </tr>\n",
       "    <tr>\n",
       "      <th>9</th>\n",
       "      <td>2018-12-03 16:05:59-06:00</td>\n",
       "      <td>38.64.198.5</td>\n",
       "      <td>02-d8-06-c2-53-e7</td>\n",
       "      <td>iperf</td>\n",
       "      <td>iperf</td>\n",
       "      <td>11</td>\n",
       "      <td>clearskystatus.info</td>\n",
       "      <td>1443.84</td>\n",
       "    </tr>\n",
       "  </tbody>\n",
       "</table>\n",
       "</div>"
      ],
      "text/plain": [
       "                       time               IP             PI_MAC PROVIDER  \\\n",
       "7 2018-12-03 08:41:47-06:00  199.116.232.249  02-99-03-82-52-06    iperf   \n",
       "6 2018-12-03 04:59:09-06:00    204.112.96.94  02-cd-05-c1-92-3f    iperf   \n",
       "0 2018-12-02 10:27:57-06:00    204.112.96.66  02-07-06-80-d4-7c    iperf   \n",
       "1 2018-12-02 10:28:23-06:00     204.9.14.110  02-0e-04-82-02-40    iperf   \n",
       "2 2018-12-02 14:10:05-06:00     204.9.14.110  02-0e-04-82-02-40    iperf   \n",
       "3 2018-12-02 17:52:07-06:00     204.9.14.110  02-0e-04-82-02-40    iperf   \n",
       "4 2018-12-03 01:18:00-06:00     204.9.14.110  02-0e-04-82-02-40    iperf   \n",
       "8 2018-12-03 12:24:06-06:00     204.9.14.110  02-0e-04-82-02-40    iperf   \n",
       "5 2018-12-03 01:18:24-06:00      38.64.198.5  02-d8-06-c2-53-e7    iperf   \n",
       "9 2018-12-03 16:05:59-06:00      38.64.198.5  02-d8-06-c2-53-e7    iperf   \n",
       "\n",
       "  PROVINCE  SK_PI          TEST_SERVER   UPLOAD  \n",
       "7    iperf      3  clearskystatus.info  2529.28  \n",
       "6    iperf      4  clearskystatus.info   718.00  \n",
       "0    iperf      7  clearskystatus.info  4311.04  \n",
       "1    iperf      9  clearskystatus.info  3133.44  \n",
       "2    iperf      9  clearskystatus.info  6522.88  \n",
       "3    iperf      9  clearskystatus.info  7444.48  \n",
       "4    iperf      9  clearskystatus.info  2150.40  \n",
       "8    iperf      9  clearskystatus.info  3205.12  \n",
       "5    iperf     11  clearskystatus.info  1669.12  \n",
       "9    iperf     11  clearskystatus.info  1443.84  "
      ]
     },
     "execution_count": 6,
     "metadata": {},
     "output_type": "execute_result"
    }
   ],
   "source": [
    "query1 = \"SELECT * FROM SPEEDTEST_UPLOAD WHERE PROVIDER='iperf' ORDER BY time DESC LIMIT 10;\"\n",
    "df1 = get_dataframe_from_influxdb(client_df=client_df,query_influx=query1,table_name='SPEEDTEST_UPLOAD')\n",
    "df1"
   ]
  },
  {
   "cell_type": "markdown",
   "metadata": {},
   "source": [
    "Let's take just one device, for example 4:"
   ]
  },
  {
   "cell_type": "code",
   "execution_count": 7,
   "metadata": {},
   "outputs": [
    {
     "data": {
      "text/html": [
       "<div>\n",
       "<style>\n",
       "    .dataframe thead tr:only-child th {\n",
       "        text-align: right;\n",
       "    }\n",
       "\n",
       "    .dataframe thead th {\n",
       "        text-align: left;\n",
       "    }\n",
       "\n",
       "    .dataframe tbody tr th {\n",
       "        vertical-align: top;\n",
       "    }\n",
       "</style>\n",
       "<table border=\"1\" class=\"dataframe\">\n",
       "  <thead>\n",
       "    <tr style=\"text-align: right;\">\n",
       "      <th></th>\n",
       "      <th>time</th>\n",
       "      <th>IP</th>\n",
       "      <th>PI_MAC</th>\n",
       "      <th>PROVIDER</th>\n",
       "      <th>PROVINCE</th>\n",
       "      <th>SK_PI</th>\n",
       "      <th>TEST_SERVER</th>\n",
       "      <th>UPLOAD</th>\n",
       "    </tr>\n",
       "  </thead>\n",
       "  <tbody>\n",
       "    <tr>\n",
       "      <th>0</th>\n",
       "      <td>2018-11-24 10:04:17-06:00</td>\n",
       "      <td>204.112.96.94</td>\n",
       "      <td>02-cd-05-c1-92-3f</td>\n",
       "      <td>iperf</td>\n",
       "      <td>iperf</td>\n",
       "      <td>4</td>\n",
       "      <td>clearskystatus.info</td>\n",
       "      <td>767</td>\n",
       "    </tr>\n",
       "    <tr>\n",
       "      <th>1</th>\n",
       "      <td>2018-11-24 13:46:18-06:00</td>\n",
       "      <td>204.112.96.94</td>\n",
       "      <td>02-cd-05-c1-92-3f</td>\n",
       "      <td>iperf</td>\n",
       "      <td>iperf</td>\n",
       "      <td>4</td>\n",
       "      <td>clearskystatus.info</td>\n",
       "      <td>775</td>\n",
       "    </tr>\n",
       "    <tr>\n",
       "      <th>2</th>\n",
       "      <td>2018-11-25 04:36:57-06:00</td>\n",
       "      <td>204.112.96.94</td>\n",
       "      <td>02-cd-05-c1-92-3f</td>\n",
       "      <td>iperf</td>\n",
       "      <td>iperf</td>\n",
       "      <td>4</td>\n",
       "      <td>clearskystatus.info</td>\n",
       "      <td>792</td>\n",
       "    </tr>\n",
       "    <tr>\n",
       "      <th>3</th>\n",
       "      <td>2018-11-25 23:04:18-06:00</td>\n",
       "      <td>204.112.96.94</td>\n",
       "      <td>02-cd-05-c1-92-3f</td>\n",
       "      <td>iperf</td>\n",
       "      <td>iperf</td>\n",
       "      <td>4</td>\n",
       "      <td>clearskystatus.info</td>\n",
       "      <td>780</td>\n",
       "    </tr>\n",
       "    <tr>\n",
       "      <th>4</th>\n",
       "      <td>2018-11-26 06:28:05-06:00</td>\n",
       "      <td>204.112.96.94</td>\n",
       "      <td>02-cd-05-c1-92-3f</td>\n",
       "      <td>iperf</td>\n",
       "      <td>iperf</td>\n",
       "      <td>4</td>\n",
       "      <td>clearskystatus.info</td>\n",
       "      <td>834</td>\n",
       "    </tr>\n",
       "    <tr>\n",
       "      <th>5</th>\n",
       "      <td>2018-11-26 10:10:15-06:00</td>\n",
       "      <td>204.112.96.94</td>\n",
       "      <td>02-cd-05-c1-92-3f</td>\n",
       "      <td>iperf</td>\n",
       "      <td>iperf</td>\n",
       "      <td>4</td>\n",
       "      <td>clearskystatus.info</td>\n",
       "      <td>768</td>\n",
       "    </tr>\n",
       "    <tr>\n",
       "      <th>6</th>\n",
       "      <td>2018-11-28 06:34:13-06:00</td>\n",
       "      <td>204.112.96.94</td>\n",
       "      <td>02-cd-05-c1-92-3f</td>\n",
       "      <td>iperf</td>\n",
       "      <td>iperf</td>\n",
       "      <td>4</td>\n",
       "      <td>clearskystatus.info</td>\n",
       "      <td>787</td>\n",
       "    </tr>\n",
       "    <tr>\n",
       "      <th>7</th>\n",
       "      <td>2018-11-28 10:16:08-06:00</td>\n",
       "      <td>204.112.96.94</td>\n",
       "      <td>02-cd-05-c1-92-3f</td>\n",
       "      <td>iperf</td>\n",
       "      <td>iperf</td>\n",
       "      <td>4</td>\n",
       "      <td>clearskystatus.info</td>\n",
       "      <td>723</td>\n",
       "    </tr>\n",
       "    <tr>\n",
       "      <th>8</th>\n",
       "      <td>2018-12-01 23:23:31-06:00</td>\n",
       "      <td>204.112.96.94</td>\n",
       "      <td>02-cd-05-c1-92-3f</td>\n",
       "      <td>iperf</td>\n",
       "      <td>iperf</td>\n",
       "      <td>4</td>\n",
       "      <td>clearskystatus.info</td>\n",
       "      <td>831</td>\n",
       "    </tr>\n",
       "    <tr>\n",
       "      <th>9</th>\n",
       "      <td>2018-12-03 04:59:09-06:00</td>\n",
       "      <td>204.112.96.94</td>\n",
       "      <td>02-cd-05-c1-92-3f</td>\n",
       "      <td>iperf</td>\n",
       "      <td>iperf</td>\n",
       "      <td>4</td>\n",
       "      <td>clearskystatus.info</td>\n",
       "      <td>718</td>\n",
       "    </tr>\n",
       "  </tbody>\n",
       "</table>\n",
       "</div>"
      ],
      "text/plain": [
       "                       time             IP             PI_MAC PROVIDER  \\\n",
       "0 2018-11-24 10:04:17-06:00  204.112.96.94  02-cd-05-c1-92-3f    iperf   \n",
       "1 2018-11-24 13:46:18-06:00  204.112.96.94  02-cd-05-c1-92-3f    iperf   \n",
       "2 2018-11-25 04:36:57-06:00  204.112.96.94  02-cd-05-c1-92-3f    iperf   \n",
       "3 2018-11-25 23:04:18-06:00  204.112.96.94  02-cd-05-c1-92-3f    iperf   \n",
       "4 2018-11-26 06:28:05-06:00  204.112.96.94  02-cd-05-c1-92-3f    iperf   \n",
       "5 2018-11-26 10:10:15-06:00  204.112.96.94  02-cd-05-c1-92-3f    iperf   \n",
       "6 2018-11-28 06:34:13-06:00  204.112.96.94  02-cd-05-c1-92-3f    iperf   \n",
       "7 2018-11-28 10:16:08-06:00  204.112.96.94  02-cd-05-c1-92-3f    iperf   \n",
       "8 2018-12-01 23:23:31-06:00  204.112.96.94  02-cd-05-c1-92-3f    iperf   \n",
       "9 2018-12-03 04:59:09-06:00  204.112.96.94  02-cd-05-c1-92-3f    iperf   \n",
       "\n",
       "  PROVINCE  SK_PI          TEST_SERVER  UPLOAD  \n",
       "0    iperf      4  clearskystatus.info     767  \n",
       "1    iperf      4  clearskystatus.info     775  \n",
       "2    iperf      4  clearskystatus.info     792  \n",
       "3    iperf      4  clearskystatus.info     780  \n",
       "4    iperf      4  clearskystatus.info     834  \n",
       "5    iperf      4  clearskystatus.info     768  \n",
       "6    iperf      4  clearskystatus.info     787  \n",
       "7    iperf      4  clearskystatus.info     723  \n",
       "8    iperf      4  clearskystatus.info     831  \n",
       "9    iperf      4  clearskystatus.info     718  "
      ]
     },
     "execution_count": 7,
     "metadata": {},
     "output_type": "execute_result"
    }
   ],
   "source": [
    "query1 = \"SELECT * FROM SPEEDTEST_UPLOAD WHERE PROVIDER='iperf' AND SK_PI='4' ORDER BY time DESC LIMIT 10;\"\n",
    "df1 = get_dataframe_from_influxdb(client_df=client_df,query_influx=query1,table_name='SPEEDTEST_UPLOAD')\n",
    "df1"
   ]
  },
  {
   "cell_type": "markdown",
   "metadata": {},
   "source": [
    "Checking upload speed coming for the same device from speedtest:"
   ]
  },
  {
   "cell_type": "code",
   "execution_count": 8,
   "metadata": {},
   "outputs": [
    {
     "data": {
      "text/html": [
       "<div>\n",
       "<style>\n",
       "    .dataframe thead tr:only-child th {\n",
       "        text-align: right;\n",
       "    }\n",
       "\n",
       "    .dataframe thead th {\n",
       "        text-align: left;\n",
       "    }\n",
       "\n",
       "    .dataframe tbody tr th {\n",
       "        vertical-align: top;\n",
       "    }\n",
       "</style>\n",
       "<table border=\"1\" class=\"dataframe\">\n",
       "  <thead>\n",
       "    <tr style=\"text-align: right;\">\n",
       "      <th></th>\n",
       "      <th>time</th>\n",
       "      <th>IP</th>\n",
       "      <th>PI_MAC</th>\n",
       "      <th>PROVIDER</th>\n",
       "      <th>PROVINCE</th>\n",
       "      <th>SK_PI</th>\n",
       "      <th>TEST_SERVER</th>\n",
       "      <th>UPLOAD</th>\n",
       "    </tr>\n",
       "  </thead>\n",
       "  <tbody>\n",
       "    <tr>\n",
       "      <th>0</th>\n",
       "      <td>2018-12-03 03:06:01-06:00</td>\n",
       "      <td>204.112.96.94</td>\n",
       "      <td>02-cd-05-c1-92-3f</td>\n",
       "      <td>Bell MTS</td>\n",
       "      <td>MB)</td>\n",
       "      <td>4</td>\n",
       "      <td>Shaw Communications (Winnipeg</td>\n",
       "      <td>0.63</td>\n",
       "    </tr>\n",
       "    <tr>\n",
       "      <th>1</th>\n",
       "      <td>2018-12-03 06:48:06-06:00</td>\n",
       "      <td>204.112.96.94</td>\n",
       "      <td>02-cd-05-c1-92-3f</td>\n",
       "      <td>Bell MTS</td>\n",
       "      <td>MB)</td>\n",
       "      <td>4</td>\n",
       "      <td>Voyageur Internet (Winnipeg</td>\n",
       "      <td>0.60</td>\n",
       "    </tr>\n",
       "    <tr>\n",
       "      <th>2</th>\n",
       "      <td>2018-12-03 10:30:09-06:00</td>\n",
       "      <td>204.112.96.94</td>\n",
       "      <td>02-cd-05-c1-92-3f</td>\n",
       "      <td>Bell MTS</td>\n",
       "      <td>MB)</td>\n",
       "      <td>4</td>\n",
       "      <td>Shaw Communications (Winnipeg</td>\n",
       "      <td>0.62</td>\n",
       "    </tr>\n",
       "    <tr>\n",
       "      <th>3</th>\n",
       "      <td>2018-12-04 01:18:08-06:00</td>\n",
       "      <td>204.112.96.94</td>\n",
       "      <td>02-cd-05-c1-92-3f</td>\n",
       "      <td>Bell MTS</td>\n",
       "      <td>MB)</td>\n",
       "      <td>4</td>\n",
       "      <td>Voyageur Internet (Winnipeg</td>\n",
       "      <td>0.64</td>\n",
       "    </tr>\n",
       "    <tr>\n",
       "      <th>4</th>\n",
       "      <td>2018-12-04 05:00:11-06:00</td>\n",
       "      <td>204.112.96.94</td>\n",
       "      <td>02-cd-05-c1-92-3f</td>\n",
       "      <td>Bell MTS</td>\n",
       "      <td>MB)</td>\n",
       "      <td>4</td>\n",
       "      <td>Voyageur Internet (Winnipeg</td>\n",
       "      <td>0.64</td>\n",
       "    </tr>\n",
       "    <tr>\n",
       "      <th>5</th>\n",
       "      <td>2018-12-04 12:24:11-06:00</td>\n",
       "      <td>204.112.96.94</td>\n",
       "      <td>02-cd-05-c1-92-3f</td>\n",
       "      <td>Bell MTS</td>\n",
       "      <td>MB)</td>\n",
       "      <td>4</td>\n",
       "      <td>Shaw Communications (Winnipeg</td>\n",
       "      <td>0.55</td>\n",
       "    </tr>\n",
       "    <tr>\n",
       "      <th>6</th>\n",
       "      <td>2018-12-04 16:06:13-06:00</td>\n",
       "      <td>204.112.96.94</td>\n",
       "      <td>02-cd-05-c1-92-3f</td>\n",
       "      <td>Bell MTS</td>\n",
       "      <td>MB)</td>\n",
       "      <td>4</td>\n",
       "      <td>Voyageur Internet (Winnipeg</td>\n",
       "      <td>0.60</td>\n",
       "    </tr>\n",
       "    <tr>\n",
       "      <th>7</th>\n",
       "      <td>2018-12-04 19:48:08-06:00</td>\n",
       "      <td>204.112.96.94</td>\n",
       "      <td>02-cd-05-c1-92-3f</td>\n",
       "      <td>Bell MTS</td>\n",
       "      <td>MB)</td>\n",
       "      <td>4</td>\n",
       "      <td>Voyageur Internet (Winnipeg</td>\n",
       "      <td>0.67</td>\n",
       "    </tr>\n",
       "    <tr>\n",
       "      <th>8</th>\n",
       "      <td>2018-12-05 06:54:17-06:00</td>\n",
       "      <td>204.112.96.94</td>\n",
       "      <td>02-cd-05-c1-92-3f</td>\n",
       "      <td>Bell MTS</td>\n",
       "      <td>MB)</td>\n",
       "      <td>4</td>\n",
       "      <td>Shaw Communications (Winnipeg</td>\n",
       "      <td>0.64</td>\n",
       "    </tr>\n",
       "    <tr>\n",
       "      <th>9</th>\n",
       "      <td>2018-12-05 10:36:12-06:00</td>\n",
       "      <td>204.112.96.94</td>\n",
       "      <td>02-cd-05-c1-92-3f</td>\n",
       "      <td>Bell MTS</td>\n",
       "      <td>MB)</td>\n",
       "      <td>4</td>\n",
       "      <td>Shaw Communications (Winnipeg</td>\n",
       "      <td>0.66</td>\n",
       "    </tr>\n",
       "  </tbody>\n",
       "</table>\n",
       "</div>"
      ],
      "text/plain": [
       "                       time             IP             PI_MAC  PROVIDER  \\\n",
       "0 2018-12-03 03:06:01-06:00  204.112.96.94  02-cd-05-c1-92-3f  Bell MTS   \n",
       "1 2018-12-03 06:48:06-06:00  204.112.96.94  02-cd-05-c1-92-3f  Bell MTS   \n",
       "2 2018-12-03 10:30:09-06:00  204.112.96.94  02-cd-05-c1-92-3f  Bell MTS   \n",
       "3 2018-12-04 01:18:08-06:00  204.112.96.94  02-cd-05-c1-92-3f  Bell MTS   \n",
       "4 2018-12-04 05:00:11-06:00  204.112.96.94  02-cd-05-c1-92-3f  Bell MTS   \n",
       "5 2018-12-04 12:24:11-06:00  204.112.96.94  02-cd-05-c1-92-3f  Bell MTS   \n",
       "6 2018-12-04 16:06:13-06:00  204.112.96.94  02-cd-05-c1-92-3f  Bell MTS   \n",
       "7 2018-12-04 19:48:08-06:00  204.112.96.94  02-cd-05-c1-92-3f  Bell MTS   \n",
       "8 2018-12-05 06:54:17-06:00  204.112.96.94  02-cd-05-c1-92-3f  Bell MTS   \n",
       "9 2018-12-05 10:36:12-06:00  204.112.96.94  02-cd-05-c1-92-3f  Bell MTS   \n",
       "\n",
       "  PROVINCE  SK_PI                    TEST_SERVER  UPLOAD  \n",
       "0      MB)      4  Shaw Communications (Winnipeg    0.63  \n",
       "1      MB)      4    Voyageur Internet (Winnipeg    0.60  \n",
       "2      MB)      4  Shaw Communications (Winnipeg    0.62  \n",
       "3      MB)      4    Voyageur Internet (Winnipeg    0.64  \n",
       "4      MB)      4    Voyageur Internet (Winnipeg    0.64  \n",
       "5      MB)      4  Shaw Communications (Winnipeg    0.55  \n",
       "6      MB)      4    Voyageur Internet (Winnipeg    0.60  \n",
       "7      MB)      4    Voyageur Internet (Winnipeg    0.67  \n",
       "8      MB)      4  Shaw Communications (Winnipeg    0.64  \n",
       "9      MB)      4  Shaw Communications (Winnipeg    0.66  "
      ]
     },
     "execution_count": 8,
     "metadata": {},
     "output_type": "execute_result"
    }
   ],
   "source": [
    "query1 = \"SELECT * FROM SPEEDTEST_UPLOAD WHERE PROVIDER!='iperf' AND SK_PI='4' ORDER BY time DESC LIMIT 10;\"\n",
    "df1 = get_dataframe_from_influxdb(client_df=client_df,query_influx=query1,table_name='SPEEDTEST_UPLOAD')\n",
    "df1"
   ]
  },
  {
   "cell_type": "markdown",
   "metadata": {},
   "source": [
    "Looks like iperf is collecting data in Kbps vs Speedtest is collecting data in Mbps.\n",
    "Kbps can be converted to Mbps by multiplying by 0.001"
   ]
  },
  {
   "cell_type": "markdown",
   "metadata": {},
   "source": [
    "Checking download speed and ping latency coming from the same device:"
   ]
  },
  {
   "cell_type": "code",
   "execution_count": 9,
   "metadata": {},
   "outputs": [
    {
     "data": {
      "text/html": [
       "<div>\n",
       "<style>\n",
       "    .dataframe thead tr:only-child th {\n",
       "        text-align: right;\n",
       "    }\n",
       "\n",
       "    .dataframe thead th {\n",
       "        text-align: left;\n",
       "    }\n",
       "\n",
       "    .dataframe tbody tr th {\n",
       "        vertical-align: top;\n",
       "    }\n",
       "</style>\n",
       "<table border=\"1\" class=\"dataframe\">\n",
       "  <thead>\n",
       "    <tr style=\"text-align: right;\">\n",
       "      <th></th>\n",
       "      <th>time</th>\n",
       "      <th>DOWNLOAD</th>\n",
       "      <th>IP</th>\n",
       "      <th>PI_MAC</th>\n",
       "      <th>PROVIDER</th>\n",
       "      <th>PROVINCE</th>\n",
       "      <th>SK_PI</th>\n",
       "      <th>TEST_SERVER</th>\n",
       "    </tr>\n",
       "  </thead>\n",
       "  <tbody>\n",
       "    <tr>\n",
       "      <th>0</th>\n",
       "      <td>2018-11-24 10:04:17-06:00</td>\n",
       "      <td>3758.08</td>\n",
       "      <td>204.112.96.94</td>\n",
       "      <td>02-cd-05-c1-92-3f</td>\n",
       "      <td>iperf</td>\n",
       "      <td>iperf</td>\n",
       "      <td>4</td>\n",
       "      <td>clearskystatus.info</td>\n",
       "    </tr>\n",
       "    <tr>\n",
       "      <th>1</th>\n",
       "      <td>2018-11-24 13:46:18-06:00</td>\n",
       "      <td>3860.48</td>\n",
       "      <td>204.112.96.94</td>\n",
       "      <td>02-cd-05-c1-92-3f</td>\n",
       "      <td>iperf</td>\n",
       "      <td>iperf</td>\n",
       "      <td>4</td>\n",
       "      <td>clearskystatus.info</td>\n",
       "    </tr>\n",
       "    <tr>\n",
       "      <th>2</th>\n",
       "      <td>2018-11-25 04:36:57-06:00</td>\n",
       "      <td>3860.48</td>\n",
       "      <td>204.112.96.94</td>\n",
       "      <td>02-cd-05-c1-92-3f</td>\n",
       "      <td>iperf</td>\n",
       "      <td>iperf</td>\n",
       "      <td>4</td>\n",
       "      <td>clearskystatus.info</td>\n",
       "    </tr>\n",
       "    <tr>\n",
       "      <th>3</th>\n",
       "      <td>2018-11-25 23:04:18-06:00</td>\n",
       "      <td>3973.12</td>\n",
       "      <td>204.112.96.94</td>\n",
       "      <td>02-cd-05-c1-92-3f</td>\n",
       "      <td>iperf</td>\n",
       "      <td>iperf</td>\n",
       "      <td>4</td>\n",
       "      <td>clearskystatus.info</td>\n",
       "    </tr>\n",
       "    <tr>\n",
       "      <th>4</th>\n",
       "      <td>2018-11-26 06:28:05-06:00</td>\n",
       "      <td>3860.48</td>\n",
       "      <td>204.112.96.94</td>\n",
       "      <td>02-cd-05-c1-92-3f</td>\n",
       "      <td>iperf</td>\n",
       "      <td>iperf</td>\n",
       "      <td>4</td>\n",
       "      <td>clearskystatus.info</td>\n",
       "    </tr>\n",
       "    <tr>\n",
       "      <th>5</th>\n",
       "      <td>2018-11-26 10:10:15-06:00</td>\n",
       "      <td>3860.48</td>\n",
       "      <td>204.112.96.94</td>\n",
       "      <td>02-cd-05-c1-92-3f</td>\n",
       "      <td>iperf</td>\n",
       "      <td>iperf</td>\n",
       "      <td>4</td>\n",
       "      <td>clearskystatus.info</td>\n",
       "    </tr>\n",
       "    <tr>\n",
       "      <th>6</th>\n",
       "      <td>2018-11-28 06:34:13-06:00</td>\n",
       "      <td>3860.48</td>\n",
       "      <td>204.112.96.94</td>\n",
       "      <td>02-cd-05-c1-92-3f</td>\n",
       "      <td>iperf</td>\n",
       "      <td>iperf</td>\n",
       "      <td>4</td>\n",
       "      <td>clearskystatus.info</td>\n",
       "    </tr>\n",
       "    <tr>\n",
       "      <th>7</th>\n",
       "      <td>2018-11-28 10:16:08-06:00</td>\n",
       "      <td>3655.68</td>\n",
       "      <td>204.112.96.94</td>\n",
       "      <td>02-cd-05-c1-92-3f</td>\n",
       "      <td>iperf</td>\n",
       "      <td>iperf</td>\n",
       "      <td>4</td>\n",
       "      <td>clearskystatus.info</td>\n",
       "    </tr>\n",
       "    <tr>\n",
       "      <th>8</th>\n",
       "      <td>2018-12-01 23:23:31-06:00</td>\n",
       "      <td>3860.48</td>\n",
       "      <td>204.112.96.94</td>\n",
       "      <td>02-cd-05-c1-92-3f</td>\n",
       "      <td>iperf</td>\n",
       "      <td>iperf</td>\n",
       "      <td>4</td>\n",
       "      <td>clearskystatus.info</td>\n",
       "    </tr>\n",
       "    <tr>\n",
       "      <th>9</th>\n",
       "      <td>2018-12-03 04:59:09-06:00</td>\n",
       "      <td>3758.08</td>\n",
       "      <td>204.112.96.94</td>\n",
       "      <td>02-cd-05-c1-92-3f</td>\n",
       "      <td>iperf</td>\n",
       "      <td>iperf</td>\n",
       "      <td>4</td>\n",
       "      <td>clearskystatus.info</td>\n",
       "    </tr>\n",
       "  </tbody>\n",
       "</table>\n",
       "</div>"
      ],
      "text/plain": [
       "                       time  DOWNLOAD             IP             PI_MAC  \\\n",
       "0 2018-11-24 10:04:17-06:00   3758.08  204.112.96.94  02-cd-05-c1-92-3f   \n",
       "1 2018-11-24 13:46:18-06:00   3860.48  204.112.96.94  02-cd-05-c1-92-3f   \n",
       "2 2018-11-25 04:36:57-06:00   3860.48  204.112.96.94  02-cd-05-c1-92-3f   \n",
       "3 2018-11-25 23:04:18-06:00   3973.12  204.112.96.94  02-cd-05-c1-92-3f   \n",
       "4 2018-11-26 06:28:05-06:00   3860.48  204.112.96.94  02-cd-05-c1-92-3f   \n",
       "5 2018-11-26 10:10:15-06:00   3860.48  204.112.96.94  02-cd-05-c1-92-3f   \n",
       "6 2018-11-28 06:34:13-06:00   3860.48  204.112.96.94  02-cd-05-c1-92-3f   \n",
       "7 2018-11-28 10:16:08-06:00   3655.68  204.112.96.94  02-cd-05-c1-92-3f   \n",
       "8 2018-12-01 23:23:31-06:00   3860.48  204.112.96.94  02-cd-05-c1-92-3f   \n",
       "9 2018-12-03 04:59:09-06:00   3758.08  204.112.96.94  02-cd-05-c1-92-3f   \n",
       "\n",
       "  PROVIDER PROVINCE  SK_PI          TEST_SERVER  \n",
       "0    iperf    iperf      4  clearskystatus.info  \n",
       "1    iperf    iperf      4  clearskystatus.info  \n",
       "2    iperf    iperf      4  clearskystatus.info  \n",
       "3    iperf    iperf      4  clearskystatus.info  \n",
       "4    iperf    iperf      4  clearskystatus.info  \n",
       "5    iperf    iperf      4  clearskystatus.info  \n",
       "6    iperf    iperf      4  clearskystatus.info  \n",
       "7    iperf    iperf      4  clearskystatus.info  \n",
       "8    iperf    iperf      4  clearskystatus.info  \n",
       "9    iperf    iperf      4  clearskystatus.info  "
      ]
     },
     "execution_count": 9,
     "metadata": {},
     "output_type": "execute_result"
    }
   ],
   "source": [
    "query2 = \"SELECT * FROM SPEEDTEST_DOWNLOAD WHERE PROVIDER='iperf' AND SK_PI='4' ORDER BY time DESC LIMIT 10;\"\n",
    "df2 = get_dataframe_from_influxdb(client_df=client_df,query_influx=query2,table_name='SPEEDTEST_DOWNLOAD')\n",
    "df2"
   ]
  },
  {
   "cell_type": "code",
   "execution_count": 10,
   "metadata": {},
   "outputs": [
    {
     "data": {
      "text/html": [
       "<div>\n",
       "<style>\n",
       "    .dataframe thead tr:only-child th {\n",
       "        text-align: right;\n",
       "    }\n",
       "\n",
       "    .dataframe thead th {\n",
       "        text-align: left;\n",
       "    }\n",
       "\n",
       "    .dataframe tbody tr th {\n",
       "        vertical-align: top;\n",
       "    }\n",
       "</style>\n",
       "<table border=\"1\" class=\"dataframe\">\n",
       "  <thead>\n",
       "    <tr style=\"text-align: right;\">\n",
       "      <th></th>\n",
       "      <th>time</th>\n",
       "      <th>IP</th>\n",
       "      <th>PING</th>\n",
       "      <th>PI_MAC</th>\n",
       "      <th>PROVIDER</th>\n",
       "      <th>PROVINCE</th>\n",
       "      <th>SK_PI</th>\n",
       "      <th>TEST_SERVER</th>\n",
       "    </tr>\n",
       "  </thead>\n",
       "  <tbody>\n",
       "    <tr>\n",
       "      <th>0</th>\n",
       "      <td>2018-11-24 10:04:17-06:00</td>\n",
       "      <td>204.112.96.94</td>\n",
       "      <td>57.105</td>\n",
       "      <td>02-cd-05-c1-92-3f</td>\n",
       "      <td>iperf</td>\n",
       "      <td>iperf</td>\n",
       "      <td>4</td>\n",
       "      <td>clearskystatus.info</td>\n",
       "    </tr>\n",
       "    <tr>\n",
       "      <th>1</th>\n",
       "      <td>2018-11-24 13:46:18-06:00</td>\n",
       "      <td>204.112.96.94</td>\n",
       "      <td>58.740</td>\n",
       "      <td>02-cd-05-c1-92-3f</td>\n",
       "      <td>iperf</td>\n",
       "      <td>iperf</td>\n",
       "      <td>4</td>\n",
       "      <td>clearskystatus.info</td>\n",
       "    </tr>\n",
       "    <tr>\n",
       "      <th>2</th>\n",
       "      <td>2018-11-25 04:36:57-06:00</td>\n",
       "      <td>204.112.96.94</td>\n",
       "      <td>56.491</td>\n",
       "      <td>02-cd-05-c1-92-3f</td>\n",
       "      <td>iperf</td>\n",
       "      <td>iperf</td>\n",
       "      <td>4</td>\n",
       "      <td>clearskystatus.info</td>\n",
       "    </tr>\n",
       "    <tr>\n",
       "      <th>3</th>\n",
       "      <td>2018-11-25 23:04:18-06:00</td>\n",
       "      <td>204.112.96.94</td>\n",
       "      <td>59.371</td>\n",
       "      <td>02-cd-05-c1-92-3f</td>\n",
       "      <td>iperf</td>\n",
       "      <td>iperf</td>\n",
       "      <td>4</td>\n",
       "      <td>clearskystatus.info</td>\n",
       "    </tr>\n",
       "    <tr>\n",
       "      <th>4</th>\n",
       "      <td>2018-11-26 06:28:05-06:00</td>\n",
       "      <td>204.112.96.94</td>\n",
       "      <td>55.602</td>\n",
       "      <td>02-cd-05-c1-92-3f</td>\n",
       "      <td>iperf</td>\n",
       "      <td>iperf</td>\n",
       "      <td>4</td>\n",
       "      <td>clearskystatus.info</td>\n",
       "    </tr>\n",
       "    <tr>\n",
       "      <th>5</th>\n",
       "      <td>2018-11-26 10:10:15-06:00</td>\n",
       "      <td>204.112.96.94</td>\n",
       "      <td>56.270</td>\n",
       "      <td>02-cd-05-c1-92-3f</td>\n",
       "      <td>iperf</td>\n",
       "      <td>iperf</td>\n",
       "      <td>4</td>\n",
       "      <td>clearskystatus.info</td>\n",
       "    </tr>\n",
       "    <tr>\n",
       "      <th>6</th>\n",
       "      <td>2018-11-28 06:34:13-06:00</td>\n",
       "      <td>204.112.96.94</td>\n",
       "      <td>55.919</td>\n",
       "      <td>02-cd-05-c1-92-3f</td>\n",
       "      <td>iperf</td>\n",
       "      <td>iperf</td>\n",
       "      <td>4</td>\n",
       "      <td>clearskystatus.info</td>\n",
       "    </tr>\n",
       "    <tr>\n",
       "      <th>7</th>\n",
       "      <td>2018-11-28 10:16:08-06:00</td>\n",
       "      <td>204.112.96.94</td>\n",
       "      <td>56.454</td>\n",
       "      <td>02-cd-05-c1-92-3f</td>\n",
       "      <td>iperf</td>\n",
       "      <td>iperf</td>\n",
       "      <td>4</td>\n",
       "      <td>clearskystatus.info</td>\n",
       "    </tr>\n",
       "    <tr>\n",
       "      <th>8</th>\n",
       "      <td>2018-12-01 23:23:31-06:00</td>\n",
       "      <td>204.112.96.94</td>\n",
       "      <td>56.683</td>\n",
       "      <td>02-cd-05-c1-92-3f</td>\n",
       "      <td>iperf</td>\n",
       "      <td>iperf</td>\n",
       "      <td>4</td>\n",
       "      <td>clearskystatus.info</td>\n",
       "    </tr>\n",
       "    <tr>\n",
       "      <th>9</th>\n",
       "      <td>2018-12-03 04:59:09-06:00</td>\n",
       "      <td>204.112.96.94</td>\n",
       "      <td>57.326</td>\n",
       "      <td>02-cd-05-c1-92-3f</td>\n",
       "      <td>iperf</td>\n",
       "      <td>iperf</td>\n",
       "      <td>4</td>\n",
       "      <td>clearskystatus.info</td>\n",
       "    </tr>\n",
       "  </tbody>\n",
       "</table>\n",
       "</div>"
      ],
      "text/plain": [
       "                       time             IP    PING             PI_MAC  \\\n",
       "0 2018-11-24 10:04:17-06:00  204.112.96.94  57.105  02-cd-05-c1-92-3f   \n",
       "1 2018-11-24 13:46:18-06:00  204.112.96.94  58.740  02-cd-05-c1-92-3f   \n",
       "2 2018-11-25 04:36:57-06:00  204.112.96.94  56.491  02-cd-05-c1-92-3f   \n",
       "3 2018-11-25 23:04:18-06:00  204.112.96.94  59.371  02-cd-05-c1-92-3f   \n",
       "4 2018-11-26 06:28:05-06:00  204.112.96.94  55.602  02-cd-05-c1-92-3f   \n",
       "5 2018-11-26 10:10:15-06:00  204.112.96.94  56.270  02-cd-05-c1-92-3f   \n",
       "6 2018-11-28 06:34:13-06:00  204.112.96.94  55.919  02-cd-05-c1-92-3f   \n",
       "7 2018-11-28 10:16:08-06:00  204.112.96.94  56.454  02-cd-05-c1-92-3f   \n",
       "8 2018-12-01 23:23:31-06:00  204.112.96.94  56.683  02-cd-05-c1-92-3f   \n",
       "9 2018-12-03 04:59:09-06:00  204.112.96.94  57.326  02-cd-05-c1-92-3f   \n",
       "\n",
       "  PROVIDER PROVINCE  SK_PI          TEST_SERVER  \n",
       "0    iperf    iperf      4  clearskystatus.info  \n",
       "1    iperf    iperf      4  clearskystatus.info  \n",
       "2    iperf    iperf      4  clearskystatus.info  \n",
       "3    iperf    iperf      4  clearskystatus.info  \n",
       "4    iperf    iperf      4  clearskystatus.info  \n",
       "5    iperf    iperf      4  clearskystatus.info  \n",
       "6    iperf    iperf      4  clearskystatus.info  \n",
       "7    iperf    iperf      4  clearskystatus.info  \n",
       "8    iperf    iperf      4  clearskystatus.info  \n",
       "9    iperf    iperf      4  clearskystatus.info  "
      ]
     },
     "execution_count": 10,
     "metadata": {},
     "output_type": "execute_result"
    }
   ],
   "source": [
    "query3 = \"SELECT * FROM SPEEDTEST_PING WHERE PROVIDER='iperf' AND SK_PI='4' ORDER BY time DESC LIMIT 10;\"\n",
    "df3 = get_dataframe_from_influxdb(client_df=client_df,query_influx=query3,table_name='SPEEDTEST_PING')\n",
    "df3"
   ]
  },
  {
   "cell_type": "markdown",
   "metadata": {},
   "source": [
    "Comparing with ping latency coming from speedtest:"
   ]
  },
  {
   "cell_type": "code",
   "execution_count": 11,
   "metadata": {},
   "outputs": [
    {
     "data": {
      "text/html": [
       "<div>\n",
       "<style>\n",
       "    .dataframe thead tr:only-child th {\n",
       "        text-align: right;\n",
       "    }\n",
       "\n",
       "    .dataframe thead th {\n",
       "        text-align: left;\n",
       "    }\n",
       "\n",
       "    .dataframe tbody tr th {\n",
       "        vertical-align: top;\n",
       "    }\n",
       "</style>\n",
       "<table border=\"1\" class=\"dataframe\">\n",
       "  <thead>\n",
       "    <tr style=\"text-align: right;\">\n",
       "      <th></th>\n",
       "      <th>time</th>\n",
       "      <th>IP</th>\n",
       "      <th>PING</th>\n",
       "      <th>PI_MAC</th>\n",
       "      <th>PROVIDER</th>\n",
       "      <th>PROVINCE</th>\n",
       "      <th>SK_PI</th>\n",
       "      <th>TEST_SERVER</th>\n",
       "    </tr>\n",
       "  </thead>\n",
       "  <tbody>\n",
       "    <tr>\n",
       "      <th>0</th>\n",
       "      <td>2018-12-03 03:06:01-06:00</td>\n",
       "      <td>204.112.96.94</td>\n",
       "      <td>66.148</td>\n",
       "      <td>02-cd-05-c1-92-3f</td>\n",
       "      <td>Bell MTS</td>\n",
       "      <td>MB)</td>\n",
       "      <td>4</td>\n",
       "      <td>Shaw Communications (Winnipeg</td>\n",
       "    </tr>\n",
       "    <tr>\n",
       "      <th>1</th>\n",
       "      <td>2018-12-03 06:48:06-06:00</td>\n",
       "      <td>204.112.96.94</td>\n",
       "      <td>62.255</td>\n",
       "      <td>02-cd-05-c1-92-3f</td>\n",
       "      <td>Bell MTS</td>\n",
       "      <td>MB)</td>\n",
       "      <td>4</td>\n",
       "      <td>Voyageur Internet (Winnipeg</td>\n",
       "    </tr>\n",
       "    <tr>\n",
       "      <th>2</th>\n",
       "      <td>2018-12-03 10:30:09-06:00</td>\n",
       "      <td>204.112.96.94</td>\n",
       "      <td>70.408</td>\n",
       "      <td>02-cd-05-c1-92-3f</td>\n",
       "      <td>Bell MTS</td>\n",
       "      <td>MB)</td>\n",
       "      <td>4</td>\n",
       "      <td>Shaw Communications (Winnipeg</td>\n",
       "    </tr>\n",
       "    <tr>\n",
       "      <th>3</th>\n",
       "      <td>2018-12-04 01:18:08-06:00</td>\n",
       "      <td>204.112.96.94</td>\n",
       "      <td>64.617</td>\n",
       "      <td>02-cd-05-c1-92-3f</td>\n",
       "      <td>Bell MTS</td>\n",
       "      <td>MB)</td>\n",
       "      <td>4</td>\n",
       "      <td>Voyageur Internet (Winnipeg</td>\n",
       "    </tr>\n",
       "    <tr>\n",
       "      <th>4</th>\n",
       "      <td>2018-12-04 05:00:11-06:00</td>\n",
       "      <td>204.112.96.94</td>\n",
       "      <td>68.327</td>\n",
       "      <td>02-cd-05-c1-92-3f</td>\n",
       "      <td>Bell MTS</td>\n",
       "      <td>MB)</td>\n",
       "      <td>4</td>\n",
       "      <td>Voyageur Internet (Winnipeg</td>\n",
       "    </tr>\n",
       "    <tr>\n",
       "      <th>5</th>\n",
       "      <td>2018-12-04 12:24:11-06:00</td>\n",
       "      <td>204.112.96.94</td>\n",
       "      <td>69.748</td>\n",
       "      <td>02-cd-05-c1-92-3f</td>\n",
       "      <td>Bell MTS</td>\n",
       "      <td>MB)</td>\n",
       "      <td>4</td>\n",
       "      <td>Shaw Communications (Winnipeg</td>\n",
       "    </tr>\n",
       "    <tr>\n",
       "      <th>6</th>\n",
       "      <td>2018-12-04 16:06:13-06:00</td>\n",
       "      <td>204.112.96.94</td>\n",
       "      <td>71.463</td>\n",
       "      <td>02-cd-05-c1-92-3f</td>\n",
       "      <td>Bell MTS</td>\n",
       "      <td>MB)</td>\n",
       "      <td>4</td>\n",
       "      <td>Voyageur Internet (Winnipeg</td>\n",
       "    </tr>\n",
       "    <tr>\n",
       "      <th>7</th>\n",
       "      <td>2018-12-04 19:48:08-06:00</td>\n",
       "      <td>204.112.96.94</td>\n",
       "      <td>71.544</td>\n",
       "      <td>02-cd-05-c1-92-3f</td>\n",
       "      <td>Bell MTS</td>\n",
       "      <td>MB)</td>\n",
       "      <td>4</td>\n",
       "      <td>Voyageur Internet (Winnipeg</td>\n",
       "    </tr>\n",
       "    <tr>\n",
       "      <th>8</th>\n",
       "      <td>2018-12-05 06:54:17-06:00</td>\n",
       "      <td>204.112.96.94</td>\n",
       "      <td>64.564</td>\n",
       "      <td>02-cd-05-c1-92-3f</td>\n",
       "      <td>Bell MTS</td>\n",
       "      <td>MB)</td>\n",
       "      <td>4</td>\n",
       "      <td>Shaw Communications (Winnipeg</td>\n",
       "    </tr>\n",
       "    <tr>\n",
       "      <th>9</th>\n",
       "      <td>2018-12-05 10:36:12-06:00</td>\n",
       "      <td>204.112.96.94</td>\n",
       "      <td>68.371</td>\n",
       "      <td>02-cd-05-c1-92-3f</td>\n",
       "      <td>Bell MTS</td>\n",
       "      <td>MB)</td>\n",
       "      <td>4</td>\n",
       "      <td>Shaw Communications (Winnipeg</td>\n",
       "    </tr>\n",
       "  </tbody>\n",
       "</table>\n",
       "</div>"
      ],
      "text/plain": [
       "                       time             IP    PING             PI_MAC  \\\n",
       "0 2018-12-03 03:06:01-06:00  204.112.96.94  66.148  02-cd-05-c1-92-3f   \n",
       "1 2018-12-03 06:48:06-06:00  204.112.96.94  62.255  02-cd-05-c1-92-3f   \n",
       "2 2018-12-03 10:30:09-06:00  204.112.96.94  70.408  02-cd-05-c1-92-3f   \n",
       "3 2018-12-04 01:18:08-06:00  204.112.96.94  64.617  02-cd-05-c1-92-3f   \n",
       "4 2018-12-04 05:00:11-06:00  204.112.96.94  68.327  02-cd-05-c1-92-3f   \n",
       "5 2018-12-04 12:24:11-06:00  204.112.96.94  69.748  02-cd-05-c1-92-3f   \n",
       "6 2018-12-04 16:06:13-06:00  204.112.96.94  71.463  02-cd-05-c1-92-3f   \n",
       "7 2018-12-04 19:48:08-06:00  204.112.96.94  71.544  02-cd-05-c1-92-3f   \n",
       "8 2018-12-05 06:54:17-06:00  204.112.96.94  64.564  02-cd-05-c1-92-3f   \n",
       "9 2018-12-05 10:36:12-06:00  204.112.96.94  68.371  02-cd-05-c1-92-3f   \n",
       "\n",
       "   PROVIDER PROVINCE  SK_PI                    TEST_SERVER  \n",
       "0  Bell MTS      MB)      4  Shaw Communications (Winnipeg  \n",
       "1  Bell MTS      MB)      4    Voyageur Internet (Winnipeg  \n",
       "2  Bell MTS      MB)      4  Shaw Communications (Winnipeg  \n",
       "3  Bell MTS      MB)      4    Voyageur Internet (Winnipeg  \n",
       "4  Bell MTS      MB)      4    Voyageur Internet (Winnipeg  \n",
       "5  Bell MTS      MB)      4  Shaw Communications (Winnipeg  \n",
       "6  Bell MTS      MB)      4    Voyageur Internet (Winnipeg  \n",
       "7  Bell MTS      MB)      4    Voyageur Internet (Winnipeg  \n",
       "8  Bell MTS      MB)      4  Shaw Communications (Winnipeg  \n",
       "9  Bell MTS      MB)      4  Shaw Communications (Winnipeg  "
      ]
     },
     "execution_count": 11,
     "metadata": {},
     "output_type": "execute_result"
    }
   ],
   "source": [
    "query3 = \"SELECT * FROM SPEEDTEST_PING WHERE PROVIDER!='iperf' AND SK_PI='4' ORDER BY time DESC LIMIT 10;\"\n",
    "df3 = get_dataframe_from_influxdb(client_df=client_df,query_influx=query3,table_name='SPEEDTEST_PING')\n",
    "df3"
   ]
  },
  {
   "cell_type": "markdown",
   "metadata": {},
   "source": [
    "Latencies are slightly different but not much, looks like units are the same - Miliseconds."
   ]
  },
  {
   "cell_type": "markdown",
   "metadata": {},
   "source": [
    "Let's compare with what we have in MS SQL database:"
   ]
  },
  {
   "cell_type": "code",
   "execution_count": 12,
   "metadata": {},
   "outputs": [
    {
     "data": {
      "text/html": [
       "<div>\n",
       "<style>\n",
       "    .dataframe thead tr:only-child th {\n",
       "        text-align: right;\n",
       "    }\n",
       "\n",
       "    .dataframe thead th {\n",
       "        text-align: left;\n",
       "    }\n",
       "\n",
       "    .dataframe tbody tr th {\n",
       "        vertical-align: top;\n",
       "    }\n",
       "</style>\n",
       "<table border=\"1\" class=\"dataframe\">\n",
       "  <thead>\n",
       "    <tr style=\"text-align: right;\">\n",
       "      <th></th>\n",
       "      <th>SK_PI</th>\n",
       "      <th>SK_FILE_PATTERN</th>\n",
       "      <th>DATA_DATE</th>\n",
       "      <th>PROVIDER</th>\n",
       "      <th>IP</th>\n",
       "      <th>TEST_SERVER</th>\n",
       "      <th>PROVINCE</th>\n",
       "      <th>PING</th>\n",
       "      <th>DOWNLOAD</th>\n",
       "      <th>UPLOAD</th>\n",
       "    </tr>\n",
       "  </thead>\n",
       "  <tbody>\n",
       "    <tr>\n",
       "      <th>0</th>\n",
       "      <td>4</td>\n",
       "      <td>20</td>\n",
       "      <td>2018-12-03 10:59:09.750</td>\n",
       "      <td>iperf</td>\n",
       "      <td>204.112.96.94</td>\n",
       "      <td>clearskystatus.info</td>\n",
       "      <td>iperf</td>\n",
       "      <td>57.326</td>\n",
       "      <td>3758.08</td>\n",
       "      <td>718.0</td>\n",
       "    </tr>\n",
       "    <tr>\n",
       "      <th>1</th>\n",
       "      <td>4</td>\n",
       "      <td>20</td>\n",
       "      <td>2018-12-02 05:23:31.210</td>\n",
       "      <td>iperf</td>\n",
       "      <td>204.112.96.94</td>\n",
       "      <td>clearskystatus.info</td>\n",
       "      <td>iperf</td>\n",
       "      <td>56.683</td>\n",
       "      <td>3860.48</td>\n",
       "      <td>831.0</td>\n",
       "    </tr>\n",
       "    <tr>\n",
       "      <th>2</th>\n",
       "      <td>4</td>\n",
       "      <td>20</td>\n",
       "      <td>2018-11-28 16:16:08.767</td>\n",
       "      <td>iperf</td>\n",
       "      <td>204.112.96.94</td>\n",
       "      <td>clearskystatus.info</td>\n",
       "      <td>iperf</td>\n",
       "      <td>56.454</td>\n",
       "      <td>3655.68</td>\n",
       "      <td>723.0</td>\n",
       "    </tr>\n",
       "    <tr>\n",
       "      <th>3</th>\n",
       "      <td>4</td>\n",
       "      <td>20</td>\n",
       "      <td>2018-11-28 12:34:13.453</td>\n",
       "      <td>iperf</td>\n",
       "      <td>204.112.96.94</td>\n",
       "      <td>clearskystatus.info</td>\n",
       "      <td>iperf</td>\n",
       "      <td>55.919</td>\n",
       "      <td>3860.48</td>\n",
       "      <td>787.0</td>\n",
       "    </tr>\n",
       "    <tr>\n",
       "      <th>4</th>\n",
       "      <td>4</td>\n",
       "      <td>20</td>\n",
       "      <td>2018-11-26 16:10:15.617</td>\n",
       "      <td>iperf</td>\n",
       "      <td>204.112.96.94</td>\n",
       "      <td>clearskystatus.info</td>\n",
       "      <td>iperf</td>\n",
       "      <td>56.270</td>\n",
       "      <td>3860.48</td>\n",
       "      <td>768.0</td>\n",
       "    </tr>\n",
       "    <tr>\n",
       "      <th>5</th>\n",
       "      <td>4</td>\n",
       "      <td>20</td>\n",
       "      <td>2018-11-26 12:28:05.287</td>\n",
       "      <td>iperf</td>\n",
       "      <td>204.112.96.94</td>\n",
       "      <td>clearskystatus.info</td>\n",
       "      <td>iperf</td>\n",
       "      <td>55.602</td>\n",
       "      <td>3860.48</td>\n",
       "      <td>834.0</td>\n",
       "    </tr>\n",
       "    <tr>\n",
       "      <th>6</th>\n",
       "      <td>4</td>\n",
       "      <td>20</td>\n",
       "      <td>2018-11-26 05:04:18.657</td>\n",
       "      <td>iperf</td>\n",
       "      <td>204.112.96.94</td>\n",
       "      <td>clearskystatus.info</td>\n",
       "      <td>iperf</td>\n",
       "      <td>59.371</td>\n",
       "      <td>3973.12</td>\n",
       "      <td>780.0</td>\n",
       "    </tr>\n",
       "    <tr>\n",
       "      <th>7</th>\n",
       "      <td>4</td>\n",
       "      <td>20</td>\n",
       "      <td>2018-11-25 10:36:57.217</td>\n",
       "      <td>iperf</td>\n",
       "      <td>204.112.96.94</td>\n",
       "      <td>clearskystatus.info</td>\n",
       "      <td>iperf</td>\n",
       "      <td>56.491</td>\n",
       "      <td>3860.48</td>\n",
       "      <td>792.0</td>\n",
       "    </tr>\n",
       "    <tr>\n",
       "      <th>8</th>\n",
       "      <td>4</td>\n",
       "      <td>20</td>\n",
       "      <td>2018-11-24 19:46:18.777</td>\n",
       "      <td>iperf</td>\n",
       "      <td>204.112.96.94</td>\n",
       "      <td>clearskystatus.info</td>\n",
       "      <td>iperf</td>\n",
       "      <td>58.740</td>\n",
       "      <td>3860.48</td>\n",
       "      <td>775.0</td>\n",
       "    </tr>\n",
       "    <tr>\n",
       "      <th>9</th>\n",
       "      <td>4</td>\n",
       "      <td>20</td>\n",
       "      <td>2018-11-24 16:04:17.457</td>\n",
       "      <td>iperf</td>\n",
       "      <td>204.112.96.94</td>\n",
       "      <td>clearskystatus.info</td>\n",
       "      <td>iperf</td>\n",
       "      <td>57.105</td>\n",
       "      <td>3758.08</td>\n",
       "      <td>767.0</td>\n",
       "    </tr>\n",
       "  </tbody>\n",
       "</table>\n",
       "</div>"
      ],
      "text/plain": [
       "   SK_PI  SK_FILE_PATTERN               DATA_DATE PROVIDER             IP  \\\n",
       "0      4               20 2018-12-03 10:59:09.750    iperf  204.112.96.94   \n",
       "1      4               20 2018-12-02 05:23:31.210    iperf  204.112.96.94   \n",
       "2      4               20 2018-11-28 16:16:08.767    iperf  204.112.96.94   \n",
       "3      4               20 2018-11-28 12:34:13.453    iperf  204.112.96.94   \n",
       "4      4               20 2018-11-26 16:10:15.617    iperf  204.112.96.94   \n",
       "5      4               20 2018-11-26 12:28:05.287    iperf  204.112.96.94   \n",
       "6      4               20 2018-11-26 05:04:18.657    iperf  204.112.96.94   \n",
       "7      4               20 2018-11-25 10:36:57.217    iperf  204.112.96.94   \n",
       "8      4               20 2018-11-24 19:46:18.777    iperf  204.112.96.94   \n",
       "9      4               20 2018-11-24 16:04:17.457    iperf  204.112.96.94   \n",
       "\n",
       "           TEST_SERVER PROVINCE    PING  DOWNLOAD  UPLOAD  \n",
       "0  clearskystatus.info    iperf  57.326   3758.08   718.0  \n",
       "1  clearskystatus.info    iperf  56.683   3860.48   831.0  \n",
       "2  clearskystatus.info    iperf  56.454   3655.68   723.0  \n",
       "3  clearskystatus.info    iperf  55.919   3860.48   787.0  \n",
       "4  clearskystatus.info    iperf  56.270   3860.48   768.0  \n",
       "5  clearskystatus.info    iperf  55.602   3860.48   834.0  \n",
       "6  clearskystatus.info    iperf  59.371   3973.12   780.0  \n",
       "7  clearskystatus.info    iperf  56.491   3860.48   792.0  \n",
       "8  clearskystatus.info    iperf  58.740   3860.48   775.0  \n",
       "9  clearskystatus.info    iperf  57.105   3758.08   767.0  "
      ]
     },
     "execution_count": 12,
     "metadata": {},
     "output_type": "execute_result"
    }
   ],
   "source": [
    "cnxn = connect_to_mssql()\n",
    "sql = \"SELECT TOP 10 * FROM FCT_SPEEDTEST WHERE PROVIDER='iperf' AND SK_PI='4' ORDER BY DATA_DATE DESC;\"\n",
    "pd.read_sql(sql,cnxn)"
   ]
  },
  {
   "cell_type": "markdown",
   "metadata": {},
   "source": [
    "Are there any zeros or NaNs?"
   ]
  },
  {
   "cell_type": "code",
   "execution_count": 13,
   "metadata": {},
   "outputs": [
    {
     "data": {
      "text/html": [
       "<div>\n",
       "<style>\n",
       "    .dataframe thead tr:only-child th {\n",
       "        text-align: right;\n",
       "    }\n",
       "\n",
       "    .dataframe thead th {\n",
       "        text-align: left;\n",
       "    }\n",
       "\n",
       "    .dataframe tbody tr th {\n",
       "        vertical-align: top;\n",
       "    }\n",
       "</style>\n",
       "<table border=\"1\" class=\"dataframe\">\n",
       "  <thead>\n",
       "    <tr style=\"text-align: right;\">\n",
       "      <th></th>\n",
       "      <th>SK_PI</th>\n",
       "      <th>SK_FILE_PATTERN</th>\n",
       "      <th>DATA_DATE</th>\n",
       "      <th>PROVIDER</th>\n",
       "      <th>IP</th>\n",
       "      <th>TEST_SERVER</th>\n",
       "      <th>PROVINCE</th>\n",
       "      <th>PING</th>\n",
       "      <th>DOWNLOAD</th>\n",
       "      <th>UPLOAD</th>\n",
       "    </tr>\n",
       "  </thead>\n",
       "  <tbody>\n",
       "  </tbody>\n",
       "</table>\n",
       "</div>"
      ],
      "text/plain": [
       "Empty DataFrame\n",
       "Columns: [SK_PI, SK_FILE_PATTERN, DATA_DATE, PROVIDER, IP, TEST_SERVER, PROVINCE, PING, DOWNLOAD, UPLOAD]\n",
       "Index: []"
      ]
     },
     "execution_count": 13,
     "metadata": {},
     "output_type": "execute_result"
    }
   ],
   "source": [
    "sql = \"SELECT  * FROM FCT_SPEEDTEST WHERE PROVIDER='iperf' AND (UPLOAD=0 OR DOWNLOAD=0 OR PING=0) ORDER BY DATA_DATE DESC;\"\n",
    "pd.read_sql(sql,cnxn)"
   ]
  },
  {
   "cell_type": "code",
   "execution_count": 14,
   "metadata": {},
   "outputs": [
    {
     "data": {
      "text/html": [
       "<div>\n",
       "<style>\n",
       "    .dataframe thead tr:only-child th {\n",
       "        text-align: right;\n",
       "    }\n",
       "\n",
       "    .dataframe thead th {\n",
       "        text-align: left;\n",
       "    }\n",
       "\n",
       "    .dataframe tbody tr th {\n",
       "        vertical-align: top;\n",
       "    }\n",
       "</style>\n",
       "<table border=\"1\" class=\"dataframe\">\n",
       "  <thead>\n",
       "    <tr style=\"text-align: right;\">\n",
       "      <th></th>\n",
       "      <th>SK_PI</th>\n",
       "      <th>SK_FILE_PATTERN</th>\n",
       "      <th>DATA_DATE</th>\n",
       "      <th>PROVIDER</th>\n",
       "      <th>IP</th>\n",
       "      <th>TEST_SERVER</th>\n",
       "      <th>PROVINCE</th>\n",
       "      <th>PING</th>\n",
       "      <th>DOWNLOAD</th>\n",
       "      <th>UPLOAD</th>\n",
       "    </tr>\n",
       "  </thead>\n",
       "  <tbody>\n",
       "  </tbody>\n",
       "</table>\n",
       "</div>"
      ],
      "text/plain": [
       "Empty DataFrame\n",
       "Columns: [SK_PI, SK_FILE_PATTERN, DATA_DATE, PROVIDER, IP, TEST_SERVER, PROVINCE, PING, DOWNLOAD, UPLOAD]\n",
       "Index: []"
      ]
     },
     "execution_count": 14,
     "metadata": {},
     "output_type": "execute_result"
    }
   ],
   "source": [
    "sql = \"SELECT  * FROM FCT_SPEEDTEST WHERE PROVIDER='iperf' AND (UPLOAD IS NULL OR DOWNLOAD IS NULL OR PING IS NULL) ORDER BY DATA_DATE DESC;\"\n",
    "pd.read_sql(sql,cnxn)"
   ]
  },
  {
   "cell_type": "markdown",
   "metadata": {},
   "source": [
    "No zeros and no NaNs"
   ]
  },
  {
   "cell_type": "markdown",
   "metadata": {},
   "source": [
    "## Number of datapoints per device"
   ]
  },
  {
   "cell_type": "code",
   "execution_count": 15,
   "metadata": {},
   "outputs": [
    {
     "name": "stdout",
     "output_type": "stream",
     "text": [
      "[1, 2, 3, 4, 5, 6, 7, 8, 9, 10, 11, 12, 14, 15, 16, 17, 18]\n"
     ]
    }
   ],
   "source": [
    "device_numbers=get_tag_values_influxdb(client_influx=client,table_name='SPEEDTEST_DOWNLOAD', tag_name='SK_PI')\n",
    "device_numbers=list(map(int, device_numbers))\n",
    "device_numbers= sorted(device_numbers)\n",
    "print(device_numbers)"
   ]
  },
  {
   "cell_type": "markdown",
   "metadata": {},
   "source": [
    "Getting number of data points per device for the entire period of time."
   ]
  },
  {
   "cell_type": "code",
   "execution_count": 16,
   "metadata": {},
   "outputs": [],
   "source": [
    "query_download_counts = \"SELECT COUNT(DOWNLOAD) FROM SPEEDTEST_DOWNLOAD WHERE PROVIDER='iperf' AND time<= '\"+starting_point+\"' AND DOWNLOAD>0 GROUP BY SK_PI;\"\n",
    "download_counts=get_stats_influxdb(client_influx=client,\n",
    "                               query_influx=query_download_counts,\n",
    "                               stat_name='count',\n",
    "                               device_numbers=device_numbers)"
   ]
  },
  {
   "cell_type": "code",
   "execution_count": 17,
   "metadata": {},
   "outputs": [
    {
     "data": {
      "application/vnd.plotly.v1+json": {
       "config": {
        "linkText": "Export to plot.ly",
        "plotlyServerURL": "https://plot.ly",
        "showLink": false
       },
       "data": [
        {
         "marker": {
          "color": "#F3C300"
         },
         "name": "ping datapoints",
         "type": "bar",
         "uid": "63da6075-a05e-4ead-b3ae-aab3d1e23308",
         "x": [
          1,
          2,
          3,
          4,
          5,
          6,
          7,
          8,
          9,
          10,
          11,
          12,
          14,
          15,
          16,
          17,
          18
         ],
         "y": [
          4,
          105,
          21,
          70,
          82,
          26,
          51,
          2,
          8,
          0,
          3,
          4,
          0,
          0,
          0,
          0,
          0
         ]
        }
       ],
       "layout": {
        "barmode": "stack",
        "title": {
         "text": "Number of data points per device  to the date 2019-02-06 21:07:22"
        },
        "xaxis": {
         "title": {
          "text": "Device Number"
         }
        },
        "yaxis": {
         "title": {
          "text": "Number of datapoints"
         }
        }
       }
      },
      "text/html": [
       "<div id=\"3a6daf47-77b7-4eae-b317-47b86896214b\" style=\"height: 525px; width: 100%;\" class=\"plotly-graph-div\"></div><script type=\"text/javascript\">require([\"plotly\"], function(Plotly) { window.PLOTLYENV=window.PLOTLYENV || {};window.PLOTLYENV.BASE_URL=\"https://plot.ly\";Plotly.newPlot(\"3a6daf47-77b7-4eae-b317-47b86896214b\", [{\"marker\": {\"color\": \"#F3C300\"}, \"name\": \"ping datapoints\", \"x\": [1, 2, 3, 4, 5, 6, 7, 8, 9, 10, 11, 12, 14, 15, 16, 17, 18], \"y\": [4, 105, 21, 70, 82, 26, 51, 2, 8, 0, 3, 4, 0, 0, 0, 0, 0], \"type\": \"bar\", \"uid\": \"63da6075-a05e-4ead-b3ae-aab3d1e23308\"}], {\"barmode\": \"stack\", \"title\": {\"text\": \"Number of data points per device  to the date 2019-02-06 21:07:22\"}, \"xaxis\": {\"title\": {\"text\": \"Device Number\"}}, \"yaxis\": {\"title\": {\"text\": \"Number of datapoints\"}}}, {\"showLink\": false, \"linkText\": \"Export to plot.ly\", \"plotlyServerURL\": \"https://plot.ly\"})});</script><script type=\"text/javascript\">window.addEventListener(\"resize\", function(){window._Plotly.Plots.resize(document.getElementById(\"3a6daf47-77b7-4eae-b317-47b86896214b\"));});</script>"
      ],
      "text/vnd.plotly.v1+html": [
       "<div id=\"3a6daf47-77b7-4eae-b317-47b86896214b\" style=\"height: 525px; width: 100%;\" class=\"plotly-graph-div\"></div><script type=\"text/javascript\">require([\"plotly\"], function(Plotly) { window.PLOTLYENV=window.PLOTLYENV || {};window.PLOTLYENV.BASE_URL=\"https://plot.ly\";Plotly.newPlot(\"3a6daf47-77b7-4eae-b317-47b86896214b\", [{\"marker\": {\"color\": \"#F3C300\"}, \"name\": \"ping datapoints\", \"x\": [1, 2, 3, 4, 5, 6, 7, 8, 9, 10, 11, 12, 14, 15, 16, 17, 18], \"y\": [4, 105, 21, 70, 82, 26, 51, 2, 8, 0, 3, 4, 0, 0, 0, 0, 0], \"type\": \"bar\", \"uid\": \"63da6075-a05e-4ead-b3ae-aab3d1e23308\"}], {\"barmode\": \"stack\", \"title\": {\"text\": \"Number of data points per device  to the date 2019-02-06 21:07:22\"}, \"xaxis\": {\"title\": {\"text\": \"Device Number\"}}, \"yaxis\": {\"title\": {\"text\": \"Number of datapoints\"}}}, {\"showLink\": false, \"linkText\": \"Export to plot.ly\", \"plotlyServerURL\": \"https://plot.ly\"})});</script><script type=\"text/javascript\">window.addEventListener(\"resize\", function(){window._Plotly.Plots.resize(document.getElementById(\"3a6daf47-77b7-4eae-b317-47b86896214b\"));});</script>"
      ]
     },
     "metadata": {},
     "output_type": "display_data"
    }
   ],
   "source": [
    "simple_bar_plot(xvalues=device_numbers,\n",
    "                yvalues=download_counts,\n",
    "                name=\"ping datapoints\",\n",
    "                title=\"Number of data points per device \"+ title_tail,\n",
    "                ytitle=\"Number of datapoints\")"
   ]
  },
  {
   "cell_type": "markdown",
   "metadata": {},
   "source": [
    "Some of the devices have small number of datapoints, may be they are just installed? Lets check how many dataponts came in last 4 weeks."
   ]
  },
  {
   "cell_type": "markdown",
   "metadata": {},
   "source": [
    "Getting number of datapoints per device in last 4 weeks."
   ]
  },
  {
   "cell_type": "code",
   "execution_count": 18,
   "metadata": {},
   "outputs": [],
   "source": [
    "query_download_counts_time = \"SELECT COUNT(DOWNLOAD) FROM SPEEDTEST_DOWNLOAD WHERE time >= '\"+starting_point+\"'-\"+time_interval+\" AND PROVIDER='iperf' AND DOWNLOAD>0 GROUP BY SK_PI ;\"\n",
    "download_counts_time = get_stats_influxdb(client_influx=client,\n",
    "                                      query_influx=query_download_counts_time,\n",
    "                                      stat_name='count',\n",
    "                                      device_numbers=device_numbers)"
   ]
  },
  {
   "cell_type": "markdown",
   "metadata": {},
   "source": [
    "Plotting combined barchart - entire number of datapoints vs number of datapoints in last 4 weeks."
   ]
  },
  {
   "cell_type": "code",
   "execution_count": 19,
   "metadata": {},
   "outputs": [
    {
     "data": {
      "application/vnd.plotly.v1+json": {
       "config": {
        "linkText": "Export to plot.ly",
        "plotlyServerURL": "https://plot.ly",
        "showLink": false
       },
       "data": [
        {
         "marker": {
          "color": "#F3C300"
         },
         "name": "Last 4w",
         "type": "bar",
         "uid": "61fa8156-ec1f-42af-8136-62e26dd92aac",
         "x": [
          1,
          2,
          3,
          4,
          5,
          6,
          7,
          8,
          9,
          10,
          11,
          12,
          14,
          15,
          16,
          17,
          18
         ],
         "y": [
          0,
          0,
          0,
          0,
          0,
          0,
          0,
          0,
          0,
          0,
          0,
          0,
          0,
          0,
          0,
          0,
          0
         ]
        },
        {
         "marker": {
          "color": "#875692"
         },
         "name": "The rest of the time",
         "type": "bar",
         "uid": "240cecfb-1ae8-4bda-a182-0367945389a6",
         "x": [
          1,
          2,
          3,
          4,
          5,
          6,
          7,
          8,
          9,
          10,
          11,
          12,
          14,
          15,
          16,
          17,
          18
         ],
         "y": [
          4,
          105,
          21,
          70,
          82,
          26,
          51,
          2,
          8,
          0,
          3,
          4,
          0,
          0,
          0,
          0,
          0
         ]
        }
       ],
       "layout": {
        "barmode": "stack",
        "title": {
         "text": "Comparing number of datapoints in last 4w vs entire time  to the date 2019-02-06 21:07:22"
        },
        "xaxis": {
         "title": {
          "text": "Device Number"
         }
        },
        "yaxis": {
         "title": {
          "text": "Number of datapoints"
         }
        }
       }
      },
      "text/html": [
       "<div id=\"9d6c983f-d9b1-4351-b3fb-d6e866fa0b1e\" style=\"height: 525px; width: 100%;\" class=\"plotly-graph-div\"></div><script type=\"text/javascript\">require([\"plotly\"], function(Plotly) { window.PLOTLYENV=window.PLOTLYENV || {};window.PLOTLYENV.BASE_URL=\"https://plot.ly\";Plotly.newPlot(\"9d6c983f-d9b1-4351-b3fb-d6e866fa0b1e\", [{\"marker\": {\"color\": \"#F3C300\"}, \"name\": \"Last 4w\", \"x\": [1, 2, 3, 4, 5, 6, 7, 8, 9, 10, 11, 12, 14, 15, 16, 17, 18], \"y\": [0, 0, 0, 0, 0, 0, 0, 0, 0, 0, 0, 0, 0, 0, 0, 0, 0], \"type\": \"bar\", \"uid\": \"61fa8156-ec1f-42af-8136-62e26dd92aac\"}, {\"marker\": {\"color\": \"#875692\"}, \"name\": \"The rest of the time\", \"x\": [1, 2, 3, 4, 5, 6, 7, 8, 9, 10, 11, 12, 14, 15, 16, 17, 18], \"y\": [4, 105, 21, 70, 82, 26, 51, 2, 8, 0, 3, 4, 0, 0, 0, 0, 0], \"type\": \"bar\", \"uid\": \"240cecfb-1ae8-4bda-a182-0367945389a6\"}], {\"barmode\": \"stack\", \"title\": {\"text\": \"Comparing number of datapoints in last 4w vs entire time  to the date 2019-02-06 21:07:22\"}, \"xaxis\": {\"title\": {\"text\": \"Device Number\"}}, \"yaxis\": {\"title\": {\"text\": \"Number of datapoints\"}}}, {\"showLink\": false, \"linkText\": \"Export to plot.ly\", \"plotlyServerURL\": \"https://plot.ly\"})});</script><script type=\"text/javascript\">window.addEventListener(\"resize\", function(){window._Plotly.Plots.resize(document.getElementById(\"9d6c983f-d9b1-4351-b3fb-d6e866fa0b1e\"));});</script>"
      ],
      "text/vnd.plotly.v1+html": [
       "<div id=\"9d6c983f-d9b1-4351-b3fb-d6e866fa0b1e\" style=\"height: 525px; width: 100%;\" class=\"plotly-graph-div\"></div><script type=\"text/javascript\">require([\"plotly\"], function(Plotly) { window.PLOTLYENV=window.PLOTLYENV || {};window.PLOTLYENV.BASE_URL=\"https://plot.ly\";Plotly.newPlot(\"9d6c983f-d9b1-4351-b3fb-d6e866fa0b1e\", [{\"marker\": {\"color\": \"#F3C300\"}, \"name\": \"Last 4w\", \"x\": [1, 2, 3, 4, 5, 6, 7, 8, 9, 10, 11, 12, 14, 15, 16, 17, 18], \"y\": [0, 0, 0, 0, 0, 0, 0, 0, 0, 0, 0, 0, 0, 0, 0, 0, 0], \"type\": \"bar\", \"uid\": \"61fa8156-ec1f-42af-8136-62e26dd92aac\"}, {\"marker\": {\"color\": \"#875692\"}, \"name\": \"The rest of the time\", \"x\": [1, 2, 3, 4, 5, 6, 7, 8, 9, 10, 11, 12, 14, 15, 16, 17, 18], \"y\": [4, 105, 21, 70, 82, 26, 51, 2, 8, 0, 3, 4, 0, 0, 0, 0, 0], \"type\": \"bar\", \"uid\": \"240cecfb-1ae8-4bda-a182-0367945389a6\"}], {\"barmode\": \"stack\", \"title\": {\"text\": \"Comparing number of datapoints in last 4w vs entire time  to the date 2019-02-06 21:07:22\"}, \"xaxis\": {\"title\": {\"text\": \"Device Number\"}}, \"yaxis\": {\"title\": {\"text\": \"Number of datapoints\"}}}, {\"showLink\": false, \"linkText\": \"Export to plot.ly\", \"plotlyServerURL\": \"https://plot.ly\"})});</script><script type=\"text/javascript\">window.addEventListener(\"resize\", function(){window._Plotly.Plots.resize(document.getElementById(\"9d6c983f-d9b1-4351-b3fb-d6e866fa0b1e\"));});</script>"
      ]
     },
     "metadata": {},
     "output_type": "display_data"
    }
   ],
   "source": [
    "combined_bar_plot_2traces(xvalues=device_numbers,\n",
    "                          yvalues1=download_counts_time,\n",
    "                          yvalues2=[a - b for a, b in zip(download_counts, download_counts_time)],\n",
    "                          name1='Last '+time_interval,\n",
    "                          name2='The rest of the time',\n",
    "                          title=\"Comparing number of datapoints in last \"+time_interval+\" vs entire time \"+ title_tail,\n",
    "                          ytitle=\"Number of datapoints\")"
   ]
  },
  {
   "cell_type": "markdown",
   "metadata": {},
   "source": [
    "There are no datapoints in the last 4 weeks. Let's check last reporting time for every device."
   ]
  },
  {
   "cell_type": "code",
   "execution_count": 20,
   "metadata": {},
   "outputs": [],
   "source": [
    "query_upload_last = \"SELECT LAST(UPLOAD), time FROM SPEEDTEST_UPLOAD WHERE PROVIDER='iperf' AND time <= '\"+starting_point+\"' AND UPLOAD>0 GROUP BY SK_PI;\"\n",
    "result_upload_last=get_stats_influxdb(client_influx=client,\n",
    "                               query_influx=query_upload_last,\n",
    "                               stat_name='time',\n",
    "                               device_numbers=device_numbers)"
   ]
  },
  {
   "cell_type": "code",
   "execution_count": 21,
   "metadata": {},
   "outputs": [],
   "source": [
    "query_upload_first = \"SELECT FIRST(UPLOAD), time FROM SPEEDTEST_UPLOAD WHERE PROVIDER='iperf' AND time <= '\"+starting_point+\"' AND UPLOAD>0 GROUP BY SK_PI;\"\n",
    "result_upload_first=get_stats_influxdb(client_influx=client,\n",
    "                               query_influx=query_upload_first,\n",
    "                               stat_name='time',\n",
    "                               device_numbers=device_numbers)"
   ]
  },
  {
   "cell_type": "code",
   "execution_count": 22,
   "metadata": {},
   "outputs": [
    {
     "name": "stdout",
     "output_type": "stream",
     "text": [
      "Iperf reporting times:\n",
      "Device:  1   was reporting from  2018-10-10 22:38:54  to  2018-10-11 10:10:20\n",
      "Device:  2   was reporting from  2018-10-11 15:58:37  to  2018-11-03 16:52:07\n",
      "Device:  3   was reporting from  2018-10-15 21:28:35  to  2018-12-03 14:41:47\n",
      "Device:  4   was reporting from  2018-10-27 01:56:01  to  2018-12-03 10:59:09\n",
      "Device:  5   was reporting from  2018-10-26 20:10:16  to  2018-11-30 23:46:22\n",
      "Device:  6   was reporting from  2018-10-26 23:53:09  to  2018-10-31 14:52:59\n",
      "Device:  7   was reporting from  2018-11-11 09:52:14  to  2018-12-02 16:27:57\n",
      "Device:  8   was reporting from  2018-11-07 20:14:27  to  2018-12-01 21:58:23\n",
      "Device:  9   was reporting from  2018-12-01 14:34:26  to  2018-12-03 18:24:06\n",
      "Device:  10   was reporting from  None  to  None\n",
      "Device:  11   was reporting from  2018-12-01 07:10:18  to  2018-12-03 22:05:59\n",
      "Device:  12   was reporting from  2018-12-01 10:52:23  to  2018-12-02 01:40:24\n",
      "Device:  14   was reporting from  None  to  None\n",
      "Device:  15   was reporting from  None  to  None\n",
      "Device:  16   was reporting from  None  to  None\n",
      "Device:  17   was reporting from  None  to  None\n",
      "Device:  18   was reporting from  None  to  None\n"
     ]
    },
    {
     "data": {
      "application/vnd.plotly.v1+json": {
       "config": {
        "linkText": "Export to plot.ly",
        "plotlyServerURL": "https://plot.ly",
        "showLink": false
       },
       "data": [
        {
         "marker": {
          "color": "#F2F3F4"
         },
         "name": "1",
         "type": "scatter",
         "uid": "869625ee-274c-454f-a81f-e70bda62f566",
         "x": [
          "2018-10-10 22:38:54",
          "2018-10-11 10:10:20"
         ],
         "y": [
          1,
          1
         ]
        },
        {
         "marker": {
          "color": "#222222"
         },
         "name": "2",
         "type": "scatter",
         "uid": "73fde46b-25e5-43e3-99b1-93e712051d8d",
         "x": [
          "2018-10-11 15:58:37",
          "2018-11-03 16:52:07"
         ],
         "y": [
          2,
          2
         ]
        },
        {
         "marker": {
          "color": "#F3C300"
         },
         "name": "3",
         "type": "scatter",
         "uid": "d6991f99-6003-42ca-bfcc-d4c1c71711ae",
         "x": [
          "2018-10-15 21:28:35",
          "2018-12-03 14:41:47"
         ],
         "y": [
          3,
          3
         ]
        },
        {
         "marker": {
          "color": "#875692"
         },
         "name": "4",
         "type": "scatter",
         "uid": "2cc04439-990a-426c-b839-02adda5b4a5f",
         "x": [
          "2018-10-27 01:56:01",
          "2018-12-03 10:59:09"
         ],
         "y": [
          4,
          4
         ]
        },
        {
         "marker": {
          "color": "#F38400"
         },
         "name": "5",
         "type": "scatter",
         "uid": "ed36481a-ad69-48f8-aa20-e70d45937374",
         "x": [
          "2018-10-26 20:10:16",
          "2018-11-30 23:46:22"
         ],
         "y": [
          5,
          5
         ]
        },
        {
         "marker": {
          "color": "#A1CAF1"
         },
         "name": "6",
         "type": "scatter",
         "uid": "0545c9ac-2d37-434e-ae5f-d0efa26e3b49",
         "x": [
          "2018-10-26 23:53:09",
          "2018-10-31 14:52:59"
         ],
         "y": [
          6,
          6
         ]
        },
        {
         "marker": {
          "color": "#BE0032"
         },
         "name": "7",
         "type": "scatter",
         "uid": "dc9ae0a2-4031-406c-a83a-b3bfed85faf4",
         "x": [
          "2018-11-11 09:52:14",
          "2018-12-02 16:27:57"
         ],
         "y": [
          7,
          7
         ]
        },
        {
         "marker": {
          "color": "#C2B280"
         },
         "name": "8",
         "type": "scatter",
         "uid": "0f4811ff-2702-451d-9618-60b5207f7e2d",
         "x": [
          "2018-11-07 20:14:27",
          "2018-12-01 21:58:23"
         ],
         "y": [
          8,
          8
         ]
        },
        {
         "marker": {
          "color": "#848482"
         },
         "name": "9",
         "type": "scatter",
         "uid": "b4d3a22f-8a79-4e9b-b494-f131ee7f8819",
         "x": [
          "2018-12-01 14:34:26",
          "2018-12-03 18:24:06"
         ],
         "y": [
          9,
          9
         ]
        },
        {
         "marker": {
          "color": "#008856"
         },
         "name": "10",
         "type": "scatter",
         "uid": "7a7716b4-f0b1-4939-b85b-c21ea020eab7",
         "x": [
          null,
          null
         ],
         "y": [
          10,
          10
         ]
        },
        {
         "marker": {
          "color": "#E68FAC"
         },
         "name": "11",
         "type": "scatter",
         "uid": "7d6c3c8f-8521-4ae9-a820-822ad8ae3d26",
         "x": [
          "2018-12-01 07:10:18",
          "2018-12-03 22:05:59"
         ],
         "y": [
          11,
          11
         ]
        },
        {
         "marker": {
          "color": "#0067A5"
         },
         "name": "12",
         "type": "scatter",
         "uid": "c8def173-7df0-441d-b9d1-8c03c0baa861",
         "x": [
          "2018-12-01 10:52:23",
          "2018-12-02 01:40:24"
         ],
         "y": [
          12,
          12
         ]
        },
        {
         "marker": {
          "color": "#F99379"
         },
         "name": "14",
         "type": "scatter",
         "uid": "bc3d46b0-63e1-47b2-ac28-45ea1b9e192d",
         "x": [
          null,
          null
         ],
         "y": [
          14,
          14
         ]
        },
        {
         "marker": {
          "color": "#604E97"
         },
         "name": "15",
         "type": "scatter",
         "uid": "9073ac92-29c0-4a26-b6fb-b850f7aab732",
         "x": [
          null,
          null
         ],
         "y": [
          15,
          15
         ]
        },
        {
         "marker": {
          "color": "#F6A600"
         },
         "name": "16",
         "type": "scatter",
         "uid": "944aa074-17b4-4b26-acb0-10aa334c3cd6",
         "x": [
          null,
          null
         ],
         "y": [
          16,
          16
         ]
        },
        {
         "marker": {
          "color": "#B3446C"
         },
         "name": "17",
         "type": "scatter",
         "uid": "be4ae544-eae6-41b1-88d6-56debb699eb0",
         "x": [
          null,
          null
         ],
         "y": [
          17,
          17
         ]
        },
        {
         "marker": {
          "color": "#DCD300"
         },
         "name": "18",
         "type": "scatter",
         "uid": "25b823d1-2403-40fd-a5d7-cbcc864f5e6c",
         "x": [
          null,
          null
         ],
         "y": [
          18,
          18
         ]
        }
       ],
       "layout": {
        "title": {
         "text": "Device reporting times(speedtest)  to the date 2019-02-06 21:07:22"
        },
        "xaxis": {
         "title": {
          "text": "Time"
         }
        },
        "yaxis": {
         "title": {
          "text": "Device Number"
         }
        }
       }
      },
      "text/html": [
       "<div id=\"8049b09f-8aea-4685-ab95-57a51d5aa6a1\" style=\"height: 525px; width: 100%;\" class=\"plotly-graph-div\"></div><script type=\"text/javascript\">require([\"plotly\"], function(Plotly) { window.PLOTLYENV=window.PLOTLYENV || {};window.PLOTLYENV.BASE_URL=\"https://plot.ly\";Plotly.newPlot(\"8049b09f-8aea-4685-ab95-57a51d5aa6a1\", [{\"marker\": {\"color\": \"#F2F3F4\"}, \"name\": \"1\", \"x\": [\"2018-10-10 22:38:54\", \"2018-10-11 10:10:20\"], \"y\": [1, 1], \"type\": \"scatter\", \"uid\": \"869625ee-274c-454f-a81f-e70bda62f566\"}, {\"marker\": {\"color\": \"#222222\"}, \"name\": \"2\", \"x\": [\"2018-10-11 15:58:37\", \"2018-11-03 16:52:07\"], \"y\": [2, 2], \"type\": \"scatter\", \"uid\": \"73fde46b-25e5-43e3-99b1-93e712051d8d\"}, {\"marker\": {\"color\": \"#F3C300\"}, \"name\": \"3\", \"x\": [\"2018-10-15 21:28:35\", \"2018-12-03 14:41:47\"], \"y\": [3, 3], \"type\": \"scatter\", \"uid\": \"d6991f99-6003-42ca-bfcc-d4c1c71711ae\"}, {\"marker\": {\"color\": \"#875692\"}, \"name\": \"4\", \"x\": [\"2018-10-27 01:56:01\", \"2018-12-03 10:59:09\"], \"y\": [4, 4], \"type\": \"scatter\", \"uid\": \"2cc04439-990a-426c-b839-02adda5b4a5f\"}, {\"marker\": {\"color\": \"#F38400\"}, \"name\": \"5\", \"x\": [\"2018-10-26 20:10:16\", \"2018-11-30 23:46:22\"], \"y\": [5, 5], \"type\": \"scatter\", \"uid\": \"ed36481a-ad69-48f8-aa20-e70d45937374\"}, {\"marker\": {\"color\": \"#A1CAF1\"}, \"name\": \"6\", \"x\": [\"2018-10-26 23:53:09\", \"2018-10-31 14:52:59\"], \"y\": [6, 6], \"type\": \"scatter\", \"uid\": \"0545c9ac-2d37-434e-ae5f-d0efa26e3b49\"}, {\"marker\": {\"color\": \"#BE0032\"}, \"name\": \"7\", \"x\": [\"2018-11-11 09:52:14\", \"2018-12-02 16:27:57\"], \"y\": [7, 7], \"type\": \"scatter\", \"uid\": \"dc9ae0a2-4031-406c-a83a-b3bfed85faf4\"}, {\"marker\": {\"color\": \"#C2B280\"}, \"name\": \"8\", \"x\": [\"2018-11-07 20:14:27\", \"2018-12-01 21:58:23\"], \"y\": [8, 8], \"type\": \"scatter\", \"uid\": \"0f4811ff-2702-451d-9618-60b5207f7e2d\"}, {\"marker\": {\"color\": \"#848482\"}, \"name\": \"9\", \"x\": [\"2018-12-01 14:34:26\", \"2018-12-03 18:24:06\"], \"y\": [9, 9], \"type\": \"scatter\", \"uid\": \"b4d3a22f-8a79-4e9b-b494-f131ee7f8819\"}, {\"marker\": {\"color\": \"#008856\"}, \"name\": \"10\", \"x\": [null, null], \"y\": [10, 10], \"type\": \"scatter\", \"uid\": \"7a7716b4-f0b1-4939-b85b-c21ea020eab7\"}, {\"marker\": {\"color\": \"#E68FAC\"}, \"name\": \"11\", \"x\": [\"2018-12-01 07:10:18\", \"2018-12-03 22:05:59\"], \"y\": [11, 11], \"type\": \"scatter\", \"uid\": \"7d6c3c8f-8521-4ae9-a820-822ad8ae3d26\"}, {\"marker\": {\"color\": \"#0067A5\"}, \"name\": \"12\", \"x\": [\"2018-12-01 10:52:23\", \"2018-12-02 01:40:24\"], \"y\": [12, 12], \"type\": \"scatter\", \"uid\": \"c8def173-7df0-441d-b9d1-8c03c0baa861\"}, {\"marker\": {\"color\": \"#F99379\"}, \"name\": \"14\", \"x\": [null, null], \"y\": [14, 14], \"type\": \"scatter\", \"uid\": \"bc3d46b0-63e1-47b2-ac28-45ea1b9e192d\"}, {\"marker\": {\"color\": \"#604E97\"}, \"name\": \"15\", \"x\": [null, null], \"y\": [15, 15], \"type\": \"scatter\", \"uid\": \"9073ac92-29c0-4a26-b6fb-b850f7aab732\"}, {\"marker\": {\"color\": \"#F6A600\"}, \"name\": \"16\", \"x\": [null, null], \"y\": [16, 16], \"type\": \"scatter\", \"uid\": \"944aa074-17b4-4b26-acb0-10aa334c3cd6\"}, {\"marker\": {\"color\": \"#B3446C\"}, \"name\": \"17\", \"x\": [null, null], \"y\": [17, 17], \"type\": \"scatter\", \"uid\": \"be4ae544-eae6-41b1-88d6-56debb699eb0\"}, {\"marker\": {\"color\": \"#DCD300\"}, \"name\": \"18\", \"x\": [null, null], \"y\": [18, 18], \"type\": \"scatter\", \"uid\": \"25b823d1-2403-40fd-a5d7-cbcc864f5e6c\"}], {\"title\": {\"text\": \"Device reporting times(speedtest)  to the date 2019-02-06 21:07:22\"}, \"xaxis\": {\"title\": {\"text\": \"Time\"}}, \"yaxis\": {\"title\": {\"text\": \"Device Number\"}}}, {\"showLink\": false, \"linkText\": \"Export to plot.ly\", \"plotlyServerURL\": \"https://plot.ly\"})});</script><script type=\"text/javascript\">window.addEventListener(\"resize\", function(){window._Plotly.Plots.resize(document.getElementById(\"8049b09f-8aea-4685-ab95-57a51d5aa6a1\"));});</script>"
      ],
      "text/vnd.plotly.v1+html": [
       "<div id=\"8049b09f-8aea-4685-ab95-57a51d5aa6a1\" style=\"height: 525px; width: 100%;\" class=\"plotly-graph-div\"></div><script type=\"text/javascript\">require([\"plotly\"], function(Plotly) { window.PLOTLYENV=window.PLOTLYENV || {};window.PLOTLYENV.BASE_URL=\"https://plot.ly\";Plotly.newPlot(\"8049b09f-8aea-4685-ab95-57a51d5aa6a1\", [{\"marker\": {\"color\": \"#F2F3F4\"}, \"name\": \"1\", \"x\": [\"2018-10-10 22:38:54\", \"2018-10-11 10:10:20\"], \"y\": [1, 1], \"type\": \"scatter\", \"uid\": \"869625ee-274c-454f-a81f-e70bda62f566\"}, {\"marker\": {\"color\": \"#222222\"}, \"name\": \"2\", \"x\": [\"2018-10-11 15:58:37\", \"2018-11-03 16:52:07\"], \"y\": [2, 2], \"type\": \"scatter\", \"uid\": \"73fde46b-25e5-43e3-99b1-93e712051d8d\"}, {\"marker\": {\"color\": \"#F3C300\"}, \"name\": \"3\", \"x\": [\"2018-10-15 21:28:35\", \"2018-12-03 14:41:47\"], \"y\": [3, 3], \"type\": \"scatter\", \"uid\": \"d6991f99-6003-42ca-bfcc-d4c1c71711ae\"}, {\"marker\": {\"color\": \"#875692\"}, \"name\": \"4\", \"x\": [\"2018-10-27 01:56:01\", \"2018-12-03 10:59:09\"], \"y\": [4, 4], \"type\": \"scatter\", \"uid\": \"2cc04439-990a-426c-b839-02adda5b4a5f\"}, {\"marker\": {\"color\": \"#F38400\"}, \"name\": \"5\", \"x\": [\"2018-10-26 20:10:16\", \"2018-11-30 23:46:22\"], \"y\": [5, 5], \"type\": \"scatter\", \"uid\": \"ed36481a-ad69-48f8-aa20-e70d45937374\"}, {\"marker\": {\"color\": \"#A1CAF1\"}, \"name\": \"6\", \"x\": [\"2018-10-26 23:53:09\", \"2018-10-31 14:52:59\"], \"y\": [6, 6], \"type\": \"scatter\", \"uid\": \"0545c9ac-2d37-434e-ae5f-d0efa26e3b49\"}, {\"marker\": {\"color\": \"#BE0032\"}, \"name\": \"7\", \"x\": [\"2018-11-11 09:52:14\", \"2018-12-02 16:27:57\"], \"y\": [7, 7], \"type\": \"scatter\", \"uid\": \"dc9ae0a2-4031-406c-a83a-b3bfed85faf4\"}, {\"marker\": {\"color\": \"#C2B280\"}, \"name\": \"8\", \"x\": [\"2018-11-07 20:14:27\", \"2018-12-01 21:58:23\"], \"y\": [8, 8], \"type\": \"scatter\", \"uid\": \"0f4811ff-2702-451d-9618-60b5207f7e2d\"}, {\"marker\": {\"color\": \"#848482\"}, \"name\": \"9\", \"x\": [\"2018-12-01 14:34:26\", \"2018-12-03 18:24:06\"], \"y\": [9, 9], \"type\": \"scatter\", \"uid\": \"b4d3a22f-8a79-4e9b-b494-f131ee7f8819\"}, {\"marker\": {\"color\": \"#008856\"}, \"name\": \"10\", \"x\": [null, null], \"y\": [10, 10], \"type\": \"scatter\", \"uid\": \"7a7716b4-f0b1-4939-b85b-c21ea020eab7\"}, {\"marker\": {\"color\": \"#E68FAC\"}, \"name\": \"11\", \"x\": [\"2018-12-01 07:10:18\", \"2018-12-03 22:05:59\"], \"y\": [11, 11], \"type\": \"scatter\", \"uid\": \"7d6c3c8f-8521-4ae9-a820-822ad8ae3d26\"}, {\"marker\": {\"color\": \"#0067A5\"}, \"name\": \"12\", \"x\": [\"2018-12-01 10:52:23\", \"2018-12-02 01:40:24\"], \"y\": [12, 12], \"type\": \"scatter\", \"uid\": \"c8def173-7df0-441d-b9d1-8c03c0baa861\"}, {\"marker\": {\"color\": \"#F99379\"}, \"name\": \"14\", \"x\": [null, null], \"y\": [14, 14], \"type\": \"scatter\", \"uid\": \"bc3d46b0-63e1-47b2-ac28-45ea1b9e192d\"}, {\"marker\": {\"color\": \"#604E97\"}, \"name\": \"15\", \"x\": [null, null], \"y\": [15, 15], \"type\": \"scatter\", \"uid\": \"9073ac92-29c0-4a26-b6fb-b850f7aab732\"}, {\"marker\": {\"color\": \"#F6A600\"}, \"name\": \"16\", \"x\": [null, null], \"y\": [16, 16], \"type\": \"scatter\", \"uid\": \"944aa074-17b4-4b26-acb0-10aa334c3cd6\"}, {\"marker\": {\"color\": \"#B3446C\"}, \"name\": \"17\", \"x\": [null, null], \"y\": [17, 17], \"type\": \"scatter\", \"uid\": \"be4ae544-eae6-41b1-88d6-56debb699eb0\"}, {\"marker\": {\"color\": \"#DCD300\"}, \"name\": \"18\", \"x\": [null, null], \"y\": [18, 18], \"type\": \"scatter\", \"uid\": \"25b823d1-2403-40fd-a5d7-cbcc864f5e6c\"}], {\"title\": {\"text\": \"Device reporting times(speedtest)  to the date 2019-02-06 21:07:22\"}, \"xaxis\": {\"title\": {\"text\": \"Time\"}}, \"yaxis\": {\"title\": {\"text\": \"Device Number\"}}}, {\"showLink\": false, \"linkText\": \"Export to plot.ly\", \"plotlyServerURL\": \"https://plot.ly\"})});</script><script type=\"text/javascript\">window.addEventListener(\"resize\", function(){window._Plotly.Plots.resize(document.getElementById(\"8049b09f-8aea-4685-ab95-57a51d5aa6a1\"));});</script>"
      ]
     },
     "metadata": {},
     "output_type": "display_data"
    }
   ],
   "source": [
    "print(\"Iperf reporting times:\")\n",
    "data=[]\n",
    "for i in range(len(device_numbers)):\n",
    "    try:\n",
    "        result_upload_first[i] = dateutil.parser.parse(result_upload_first[i]).strftime('%Y-%m-%d %H:%M:%S')\n",
    "    except:\n",
    "        result_upload_first[i]=None\n",
    "    try:    \n",
    "        result_upload_last[i] = dateutil.parser.parse(result_upload_last[i]).strftime('%Y-%m-%d %H:%M:%S')\n",
    "    except:\n",
    "        result_upload_last[i]=None\n",
    "    print(\"Device: \", device_numbers[i],\"  was reporting from \", result_upload_first[i], \" to \",result_upload_last[i])\n",
    "    trace = go.Scatter(x=[result_upload_first[i],result_upload_last[i]],y=[device_numbers[i],device_numbers[i]], \n",
    "                       name = device_numbers[i],marker=dict(color=colors[i]))\n",
    "    data.append(trace)\n",
    "layout = dict(title = \"Device reporting times(speedtest) \"+ title_tail,xaxis=dict(title=\"Time\"),\n",
    "        yaxis=dict(title=\"Device Number\"))\n",
    "fig = go.Figure(data=data, layout=layout)\n",
    "iplot(fig)"
   ]
  },
  {
   "cell_type": "markdown",
   "metadata": {},
   "source": [
    "Looks like iperf3 stopped listening on the test server on Dec3.  \n",
    "Able to ping `clearskystatus.info` but all iperf3 test failing:\n",
    "   >/usr/bin/iperf3 -c clearskystatus.info  \n",
    "   >iperf3: error - unable to connect to server: Operation timed out"
   ]
  },
  {
   "cell_type": "markdown",
   "metadata": {},
   "source": [
    "## How often data was collected"
   ]
  },
  {
   "cell_type": "markdown",
   "metadata": {},
   "source": [
    "Lets check devices 2 and 4 and see how often data was collected:"
   ]
  },
  {
   "cell_type": "code",
   "execution_count": 23,
   "metadata": {},
   "outputs": [
    {
     "data": {
      "text/html": [
       "<div>\n",
       "<style>\n",
       "    .dataframe thead tr:only-child th {\n",
       "        text-align: right;\n",
       "    }\n",
       "\n",
       "    .dataframe thead th {\n",
       "        text-align: left;\n",
       "    }\n",
       "\n",
       "    .dataframe tbody tr th {\n",
       "        vertical-align: top;\n",
       "    }\n",
       "</style>\n",
       "<table border=\"1\" class=\"dataframe\">\n",
       "  <thead>\n",
       "    <tr style=\"text-align: right;\">\n",
       "      <th></th>\n",
       "      <th>time</th>\n",
       "      <th>DOWNLOAD</th>\n",
       "      <th>IP</th>\n",
       "      <th>PI_MAC</th>\n",
       "      <th>PROVIDER</th>\n",
       "      <th>PROVINCE</th>\n",
       "      <th>SK_PI</th>\n",
       "      <th>TEST_SERVER</th>\n",
       "    </tr>\n",
       "  </thead>\n",
       "  <tbody>\n",
       "    <tr>\n",
       "      <th>0</th>\n",
       "      <td>2018-11-24 10:04:17-06:00</td>\n",
       "      <td>3758.08</td>\n",
       "      <td>204.112.96.94</td>\n",
       "      <td>02-cd-05-c1-92-3f</td>\n",
       "      <td>iperf</td>\n",
       "      <td>iperf</td>\n",
       "      <td>4</td>\n",
       "      <td>clearskystatus.info</td>\n",
       "    </tr>\n",
       "    <tr>\n",
       "      <th>1</th>\n",
       "      <td>2018-11-24 13:46:18-06:00</td>\n",
       "      <td>3860.48</td>\n",
       "      <td>204.112.96.94</td>\n",
       "      <td>02-cd-05-c1-92-3f</td>\n",
       "      <td>iperf</td>\n",
       "      <td>iperf</td>\n",
       "      <td>4</td>\n",
       "      <td>clearskystatus.info</td>\n",
       "    </tr>\n",
       "    <tr>\n",
       "      <th>2</th>\n",
       "      <td>2018-11-25 04:36:57-06:00</td>\n",
       "      <td>3860.48</td>\n",
       "      <td>204.112.96.94</td>\n",
       "      <td>02-cd-05-c1-92-3f</td>\n",
       "      <td>iperf</td>\n",
       "      <td>iperf</td>\n",
       "      <td>4</td>\n",
       "      <td>clearskystatus.info</td>\n",
       "    </tr>\n",
       "    <tr>\n",
       "      <th>3</th>\n",
       "      <td>2018-11-25 23:04:18-06:00</td>\n",
       "      <td>3973.12</td>\n",
       "      <td>204.112.96.94</td>\n",
       "      <td>02-cd-05-c1-92-3f</td>\n",
       "      <td>iperf</td>\n",
       "      <td>iperf</td>\n",
       "      <td>4</td>\n",
       "      <td>clearskystatus.info</td>\n",
       "    </tr>\n",
       "    <tr>\n",
       "      <th>4</th>\n",
       "      <td>2018-11-26 06:28:05-06:00</td>\n",
       "      <td>3860.48</td>\n",
       "      <td>204.112.96.94</td>\n",
       "      <td>02-cd-05-c1-92-3f</td>\n",
       "      <td>iperf</td>\n",
       "      <td>iperf</td>\n",
       "      <td>4</td>\n",
       "      <td>clearskystatus.info</td>\n",
       "    </tr>\n",
       "    <tr>\n",
       "      <th>5</th>\n",
       "      <td>2018-11-26 10:10:15-06:00</td>\n",
       "      <td>3860.48</td>\n",
       "      <td>204.112.96.94</td>\n",
       "      <td>02-cd-05-c1-92-3f</td>\n",
       "      <td>iperf</td>\n",
       "      <td>iperf</td>\n",
       "      <td>4</td>\n",
       "      <td>clearskystatus.info</td>\n",
       "    </tr>\n",
       "    <tr>\n",
       "      <th>6</th>\n",
       "      <td>2018-11-28 06:34:13-06:00</td>\n",
       "      <td>3860.48</td>\n",
       "      <td>204.112.96.94</td>\n",
       "      <td>02-cd-05-c1-92-3f</td>\n",
       "      <td>iperf</td>\n",
       "      <td>iperf</td>\n",
       "      <td>4</td>\n",
       "      <td>clearskystatus.info</td>\n",
       "    </tr>\n",
       "    <tr>\n",
       "      <th>7</th>\n",
       "      <td>2018-11-28 10:16:08-06:00</td>\n",
       "      <td>3655.68</td>\n",
       "      <td>204.112.96.94</td>\n",
       "      <td>02-cd-05-c1-92-3f</td>\n",
       "      <td>iperf</td>\n",
       "      <td>iperf</td>\n",
       "      <td>4</td>\n",
       "      <td>clearskystatus.info</td>\n",
       "    </tr>\n",
       "    <tr>\n",
       "      <th>8</th>\n",
       "      <td>2018-12-01 23:23:31-06:00</td>\n",
       "      <td>3860.48</td>\n",
       "      <td>204.112.96.94</td>\n",
       "      <td>02-cd-05-c1-92-3f</td>\n",
       "      <td>iperf</td>\n",
       "      <td>iperf</td>\n",
       "      <td>4</td>\n",
       "      <td>clearskystatus.info</td>\n",
       "    </tr>\n",
       "    <tr>\n",
       "      <th>9</th>\n",
       "      <td>2018-12-03 04:59:09-06:00</td>\n",
       "      <td>3758.08</td>\n",
       "      <td>204.112.96.94</td>\n",
       "      <td>02-cd-05-c1-92-3f</td>\n",
       "      <td>iperf</td>\n",
       "      <td>iperf</td>\n",
       "      <td>4</td>\n",
       "      <td>clearskystatus.info</td>\n",
       "    </tr>\n",
       "  </tbody>\n",
       "</table>\n",
       "</div>"
      ],
      "text/plain": [
       "                       time  DOWNLOAD             IP             PI_MAC  \\\n",
       "0 2018-11-24 10:04:17-06:00   3758.08  204.112.96.94  02-cd-05-c1-92-3f   \n",
       "1 2018-11-24 13:46:18-06:00   3860.48  204.112.96.94  02-cd-05-c1-92-3f   \n",
       "2 2018-11-25 04:36:57-06:00   3860.48  204.112.96.94  02-cd-05-c1-92-3f   \n",
       "3 2018-11-25 23:04:18-06:00   3973.12  204.112.96.94  02-cd-05-c1-92-3f   \n",
       "4 2018-11-26 06:28:05-06:00   3860.48  204.112.96.94  02-cd-05-c1-92-3f   \n",
       "5 2018-11-26 10:10:15-06:00   3860.48  204.112.96.94  02-cd-05-c1-92-3f   \n",
       "6 2018-11-28 06:34:13-06:00   3860.48  204.112.96.94  02-cd-05-c1-92-3f   \n",
       "7 2018-11-28 10:16:08-06:00   3655.68  204.112.96.94  02-cd-05-c1-92-3f   \n",
       "8 2018-12-01 23:23:31-06:00   3860.48  204.112.96.94  02-cd-05-c1-92-3f   \n",
       "9 2018-12-03 04:59:09-06:00   3758.08  204.112.96.94  02-cd-05-c1-92-3f   \n",
       "\n",
       "  PROVIDER PROVINCE  SK_PI          TEST_SERVER  \n",
       "0    iperf    iperf      4  clearskystatus.info  \n",
       "1    iperf    iperf      4  clearskystatus.info  \n",
       "2    iperf    iperf      4  clearskystatus.info  \n",
       "3    iperf    iperf      4  clearskystatus.info  \n",
       "4    iperf    iperf      4  clearskystatus.info  \n",
       "5    iperf    iperf      4  clearskystatus.info  \n",
       "6    iperf    iperf      4  clearskystatus.info  \n",
       "7    iperf    iperf      4  clearskystatus.info  \n",
       "8    iperf    iperf      4  clearskystatus.info  \n",
       "9    iperf    iperf      4  clearskystatus.info  "
      ]
     },
     "execution_count": 23,
     "metadata": {},
     "output_type": "execute_result"
    }
   ],
   "source": [
    "query2 = \"SELECT * FROM SPEEDTEST_DOWNLOAD WHERE PROVIDER='iperf' AND SK_PI='4' ORDER BY time DESC LIMIT 10;\"\n",
    "df2 = get_dataframe_from_influxdb(client_df=client_df,query_influx=query2,table_name='SPEEDTEST_DOWNLOAD')\n",
    "df2"
   ]
  },
  {
   "cell_type": "code",
   "execution_count": 24,
   "metadata": {},
   "outputs": [
    {
     "data": {
      "text/html": [
       "<div>\n",
       "<style>\n",
       "    .dataframe thead tr:only-child th {\n",
       "        text-align: right;\n",
       "    }\n",
       "\n",
       "    .dataframe thead th {\n",
       "        text-align: left;\n",
       "    }\n",
       "\n",
       "    .dataframe tbody tr th {\n",
       "        vertical-align: top;\n",
       "    }\n",
       "</style>\n",
       "<table border=\"1\" class=\"dataframe\">\n",
       "  <thead>\n",
       "    <tr style=\"text-align: right;\">\n",
       "      <th></th>\n",
       "      <th>time</th>\n",
       "      <th>DOWNLOAD</th>\n",
       "      <th>IP</th>\n",
       "      <th>PI_MAC</th>\n",
       "      <th>PROVIDER</th>\n",
       "      <th>PROVINCE</th>\n",
       "      <th>SK_PI</th>\n",
       "      <th>TEST_SERVER</th>\n",
       "    </tr>\n",
       "  </thead>\n",
       "  <tbody>\n",
       "    <tr>\n",
       "      <th>0</th>\n",
       "      <td>2018-11-24 10:04:17-06:00</td>\n",
       "      <td>3758.08</td>\n",
       "      <td>204.112.96.94</td>\n",
       "      <td>02-cd-05-c1-92-3f</td>\n",
       "      <td>iperf</td>\n",
       "      <td>iperf</td>\n",
       "      <td>4</td>\n",
       "      <td>clearskystatus.info</td>\n",
       "    </tr>\n",
       "    <tr>\n",
       "      <th>1</th>\n",
       "      <td>2018-11-24 13:46:18-06:00</td>\n",
       "      <td>3860.48</td>\n",
       "      <td>204.112.96.94</td>\n",
       "      <td>02-cd-05-c1-92-3f</td>\n",
       "      <td>iperf</td>\n",
       "      <td>iperf</td>\n",
       "      <td>4</td>\n",
       "      <td>clearskystatus.info</td>\n",
       "    </tr>\n",
       "    <tr>\n",
       "      <th>2</th>\n",
       "      <td>2018-11-25 04:36:57-06:00</td>\n",
       "      <td>3860.48</td>\n",
       "      <td>204.112.96.94</td>\n",
       "      <td>02-cd-05-c1-92-3f</td>\n",
       "      <td>iperf</td>\n",
       "      <td>iperf</td>\n",
       "      <td>4</td>\n",
       "      <td>clearskystatus.info</td>\n",
       "    </tr>\n",
       "    <tr>\n",
       "      <th>3</th>\n",
       "      <td>2018-11-25 23:04:18-06:00</td>\n",
       "      <td>3973.12</td>\n",
       "      <td>204.112.96.94</td>\n",
       "      <td>02-cd-05-c1-92-3f</td>\n",
       "      <td>iperf</td>\n",
       "      <td>iperf</td>\n",
       "      <td>4</td>\n",
       "      <td>clearskystatus.info</td>\n",
       "    </tr>\n",
       "    <tr>\n",
       "      <th>4</th>\n",
       "      <td>2018-11-26 06:28:05-06:00</td>\n",
       "      <td>3860.48</td>\n",
       "      <td>204.112.96.94</td>\n",
       "      <td>02-cd-05-c1-92-3f</td>\n",
       "      <td>iperf</td>\n",
       "      <td>iperf</td>\n",
       "      <td>4</td>\n",
       "      <td>clearskystatus.info</td>\n",
       "    </tr>\n",
       "    <tr>\n",
       "      <th>5</th>\n",
       "      <td>2018-11-26 10:10:15-06:00</td>\n",
       "      <td>3860.48</td>\n",
       "      <td>204.112.96.94</td>\n",
       "      <td>02-cd-05-c1-92-3f</td>\n",
       "      <td>iperf</td>\n",
       "      <td>iperf</td>\n",
       "      <td>4</td>\n",
       "      <td>clearskystatus.info</td>\n",
       "    </tr>\n",
       "    <tr>\n",
       "      <th>6</th>\n",
       "      <td>2018-11-28 06:34:13-06:00</td>\n",
       "      <td>3860.48</td>\n",
       "      <td>204.112.96.94</td>\n",
       "      <td>02-cd-05-c1-92-3f</td>\n",
       "      <td>iperf</td>\n",
       "      <td>iperf</td>\n",
       "      <td>4</td>\n",
       "      <td>clearskystatus.info</td>\n",
       "    </tr>\n",
       "    <tr>\n",
       "      <th>7</th>\n",
       "      <td>2018-11-28 10:16:08-06:00</td>\n",
       "      <td>3655.68</td>\n",
       "      <td>204.112.96.94</td>\n",
       "      <td>02-cd-05-c1-92-3f</td>\n",
       "      <td>iperf</td>\n",
       "      <td>iperf</td>\n",
       "      <td>4</td>\n",
       "      <td>clearskystatus.info</td>\n",
       "    </tr>\n",
       "    <tr>\n",
       "      <th>8</th>\n",
       "      <td>2018-12-01 23:23:31-06:00</td>\n",
       "      <td>3860.48</td>\n",
       "      <td>204.112.96.94</td>\n",
       "      <td>02-cd-05-c1-92-3f</td>\n",
       "      <td>iperf</td>\n",
       "      <td>iperf</td>\n",
       "      <td>4</td>\n",
       "      <td>clearskystatus.info</td>\n",
       "    </tr>\n",
       "    <tr>\n",
       "      <th>9</th>\n",
       "      <td>2018-12-03 04:59:09-06:00</td>\n",
       "      <td>3758.08</td>\n",
       "      <td>204.112.96.94</td>\n",
       "      <td>02-cd-05-c1-92-3f</td>\n",
       "      <td>iperf</td>\n",
       "      <td>iperf</td>\n",
       "      <td>4</td>\n",
       "      <td>clearskystatus.info</td>\n",
       "    </tr>\n",
       "  </tbody>\n",
       "</table>\n",
       "</div>"
      ],
      "text/plain": [
       "                       time  DOWNLOAD             IP             PI_MAC  \\\n",
       "0 2018-11-24 10:04:17-06:00   3758.08  204.112.96.94  02-cd-05-c1-92-3f   \n",
       "1 2018-11-24 13:46:18-06:00   3860.48  204.112.96.94  02-cd-05-c1-92-3f   \n",
       "2 2018-11-25 04:36:57-06:00   3860.48  204.112.96.94  02-cd-05-c1-92-3f   \n",
       "3 2018-11-25 23:04:18-06:00   3973.12  204.112.96.94  02-cd-05-c1-92-3f   \n",
       "4 2018-11-26 06:28:05-06:00   3860.48  204.112.96.94  02-cd-05-c1-92-3f   \n",
       "5 2018-11-26 10:10:15-06:00   3860.48  204.112.96.94  02-cd-05-c1-92-3f   \n",
       "6 2018-11-28 06:34:13-06:00   3860.48  204.112.96.94  02-cd-05-c1-92-3f   \n",
       "7 2018-11-28 10:16:08-06:00   3655.68  204.112.96.94  02-cd-05-c1-92-3f   \n",
       "8 2018-12-01 23:23:31-06:00   3860.48  204.112.96.94  02-cd-05-c1-92-3f   \n",
       "9 2018-12-03 04:59:09-06:00   3758.08  204.112.96.94  02-cd-05-c1-92-3f   \n",
       "\n",
       "  PROVIDER PROVINCE  SK_PI          TEST_SERVER  \n",
       "0    iperf    iperf      4  clearskystatus.info  \n",
       "1    iperf    iperf      4  clearskystatus.info  \n",
       "2    iperf    iperf      4  clearskystatus.info  \n",
       "3    iperf    iperf      4  clearskystatus.info  \n",
       "4    iperf    iperf      4  clearskystatus.info  \n",
       "5    iperf    iperf      4  clearskystatus.info  \n",
       "6    iperf    iperf      4  clearskystatus.info  \n",
       "7    iperf    iperf      4  clearskystatus.info  \n",
       "8    iperf    iperf      4  clearskystatus.info  \n",
       "9    iperf    iperf      4  clearskystatus.info  "
      ]
     },
     "execution_count": 24,
     "metadata": {},
     "output_type": "execute_result"
    }
   ],
   "source": [
    "query2 = \"SELECT * FROM SPEEDTEST_DOWNLOAD WHERE PROVIDER='iperf' AND SK_PI='4' ORDER BY time DESC LIMIT 10;\"\n",
    "df2 = get_dataframe_from_influxdb(client_df=client_df,query_influx=query2,table_name='SPEEDTEST_DOWNLOAD')\n",
    "df2"
   ]
  },
  {
   "cell_type": "markdown",
   "metadata": {},
   "source": [
    "Just by observing the data there is no consistency. \n",
    "Let's calculate the time intervals for all available datapoints for today for devices 2 and 4."
   ]
  },
  {
   "cell_type": "code",
   "execution_count": 25,
   "metadata": {},
   "outputs": [
    {
     "data": {
      "text/html": [
       "<div>\n",
       "<style>\n",
       "    .dataframe thead tr:only-child th {\n",
       "        text-align: right;\n",
       "    }\n",
       "\n",
       "    .dataframe thead th {\n",
       "        text-align: left;\n",
       "    }\n",
       "\n",
       "    .dataframe tbody tr th {\n",
       "        vertical-align: top;\n",
       "    }\n",
       "</style>\n",
       "<table border=\"1\" class=\"dataframe\">\n",
       "  <thead>\n",
       "    <tr style=\"text-align: right;\">\n",
       "      <th></th>\n",
       "      <th>time</th>\n",
       "      <th>DOWNLOAD</th>\n",
       "      <th>IP</th>\n",
       "      <th>PI_MAC</th>\n",
       "      <th>PROVIDER</th>\n",
       "      <th>PROVINCE</th>\n",
       "      <th>SK_PI</th>\n",
       "      <th>TEST_SERVER</th>\n",
       "    </tr>\n",
       "  </thead>\n",
       "  <tbody>\n",
       "    <tr>\n",
       "      <th>0</th>\n",
       "      <td>2018-10-26 20:56:01-05:00</td>\n",
       "      <td>3758.08</td>\n",
       "      <td>204.112.96.94</td>\n",
       "      <td>02-cd-05-c1-92-3f</td>\n",
       "      <td>iperf</td>\n",
       "      <td>iperf</td>\n",
       "      <td>4</td>\n",
       "      <td>clearskystatus.info</td>\n",
       "    </tr>\n",
       "    <tr>\n",
       "      <th>1</th>\n",
       "      <td>2018-10-27 02:16:18-05:00</td>\n",
       "      <td>3758.08</td>\n",
       "      <td>204.112.96.94</td>\n",
       "      <td>02-cd-05-c1-92-3f</td>\n",
       "      <td>iperf</td>\n",
       "      <td>iperf</td>\n",
       "      <td>4</td>\n",
       "      <td>clearskystatus.info</td>\n",
       "    </tr>\n",
       "    <tr>\n",
       "      <th>2</th>\n",
       "      <td>2018-10-27 17:04:19-05:00</td>\n",
       "      <td>3758.08</td>\n",
       "      <td>204.112.96.94</td>\n",
       "      <td>02-cd-05-c1-92-3f</td>\n",
       "      <td>iperf</td>\n",
       "      <td>iperf</td>\n",
       "      <td>4</td>\n",
       "      <td>clearskystatus.info</td>\n",
       "    </tr>\n",
       "    <tr>\n",
       "      <th>3</th>\n",
       "      <td>2018-10-28 11:34:03-05:00</td>\n",
       "      <td>3973.12</td>\n",
       "      <td>204.112.96.94</td>\n",
       "      <td>02-cd-05-c1-92-3f</td>\n",
       "      <td>iperf</td>\n",
       "      <td>iperf</td>\n",
       "      <td>4</td>\n",
       "      <td>clearskystatus.info</td>\n",
       "    </tr>\n",
       "    <tr>\n",
       "      <th>4</th>\n",
       "      <td>2018-10-29 20:52:20-05:00</td>\n",
       "      <td>3440.64</td>\n",
       "      <td>204.112.96.94</td>\n",
       "      <td>02-cd-05-c1-92-3f</td>\n",
       "      <td>iperf</td>\n",
       "      <td>iperf</td>\n",
       "      <td>4</td>\n",
       "      <td>clearskystatus.info</td>\n",
       "    </tr>\n",
       "  </tbody>\n",
       "</table>\n",
       "</div>"
      ],
      "text/plain": [
       "                       time  DOWNLOAD             IP             PI_MAC  \\\n",
       "0 2018-10-26 20:56:01-05:00   3758.08  204.112.96.94  02-cd-05-c1-92-3f   \n",
       "1 2018-10-27 02:16:18-05:00   3758.08  204.112.96.94  02-cd-05-c1-92-3f   \n",
       "2 2018-10-27 17:04:19-05:00   3758.08  204.112.96.94  02-cd-05-c1-92-3f   \n",
       "3 2018-10-28 11:34:03-05:00   3973.12  204.112.96.94  02-cd-05-c1-92-3f   \n",
       "4 2018-10-29 20:52:20-05:00   3440.64  204.112.96.94  02-cd-05-c1-92-3f   \n",
       "\n",
       "  PROVIDER PROVINCE  SK_PI          TEST_SERVER  \n",
       "0    iperf    iperf      4  clearskystatus.info  \n",
       "1    iperf    iperf      4  clearskystatus.info  \n",
       "2    iperf    iperf      4  clearskystatus.info  \n",
       "3    iperf    iperf      4  clearskystatus.info  \n",
       "4    iperf    iperf      4  clearskystatus.info  "
      ]
     },
     "execution_count": 25,
     "metadata": {},
     "output_type": "execute_result"
    }
   ],
   "source": [
    "query_device4 = \"SELECT * FROM SPEEDTEST_DOWNLOAD WHERE PROVIDER='iperf' AND SK_PI='4' AND time<= '\"+starting_point+\"';\"\n",
    "df_device4 = get_dataframe_from_influxdb(client_df=client_df,query_influx=query_device4,table_name='SPEEDTEST_DOWNLOAD')\n",
    "df_device4.head()"
   ]
  },
  {
   "cell_type": "code",
   "execution_count": 26,
   "metadata": {},
   "outputs": [],
   "source": [
    "df_device4['interval'] = df_device4['time'] - df_device4['time'].shift(+1)\n",
    "df_device4['interval']=round(df_device4['interval'].dt.total_seconds() / 60)"
   ]
  },
  {
   "cell_type": "code",
   "execution_count": 27,
   "metadata": {},
   "outputs": [
    {
     "data": {
      "text/html": [
       "<div>\n",
       "<style>\n",
       "    .dataframe thead tr:only-child th {\n",
       "        text-align: right;\n",
       "    }\n",
       "\n",
       "    .dataframe thead th {\n",
       "        text-align: left;\n",
       "    }\n",
       "\n",
       "    .dataframe tbody tr th {\n",
       "        vertical-align: top;\n",
       "    }\n",
       "</style>\n",
       "<table border=\"1\" class=\"dataframe\">\n",
       "  <thead>\n",
       "    <tr style=\"text-align: right;\">\n",
       "      <th></th>\n",
       "      <th>time</th>\n",
       "      <th>DOWNLOAD</th>\n",
       "      <th>IP</th>\n",
       "      <th>PI_MAC</th>\n",
       "      <th>PROVIDER</th>\n",
       "      <th>PROVINCE</th>\n",
       "      <th>SK_PI</th>\n",
       "      <th>TEST_SERVER</th>\n",
       "      <th>interval</th>\n",
       "    </tr>\n",
       "  </thead>\n",
       "  <tbody>\n",
       "    <tr>\n",
       "      <th>1</th>\n",
       "      <td>2018-10-27 02:16:18-05:00</td>\n",
       "      <td>3758.08</td>\n",
       "      <td>204.112.96.94</td>\n",
       "      <td>02-cd-05-c1-92-3f</td>\n",
       "      <td>iperf</td>\n",
       "      <td>iperf</td>\n",
       "      <td>4</td>\n",
       "      <td>clearskystatus.info</td>\n",
       "      <td>320.0</td>\n",
       "    </tr>\n",
       "    <tr>\n",
       "      <th>2</th>\n",
       "      <td>2018-10-27 17:04:19-05:00</td>\n",
       "      <td>3758.08</td>\n",
       "      <td>204.112.96.94</td>\n",
       "      <td>02-cd-05-c1-92-3f</td>\n",
       "      <td>iperf</td>\n",
       "      <td>iperf</td>\n",
       "      <td>4</td>\n",
       "      <td>clearskystatus.info</td>\n",
       "      <td>888.0</td>\n",
       "    </tr>\n",
       "    <tr>\n",
       "      <th>3</th>\n",
       "      <td>2018-10-28 11:34:03-05:00</td>\n",
       "      <td>3973.12</td>\n",
       "      <td>204.112.96.94</td>\n",
       "      <td>02-cd-05-c1-92-3f</td>\n",
       "      <td>iperf</td>\n",
       "      <td>iperf</td>\n",
       "      <td>4</td>\n",
       "      <td>clearskystatus.info</td>\n",
       "      <td>1110.0</td>\n",
       "    </tr>\n",
       "    <tr>\n",
       "      <th>4</th>\n",
       "      <td>2018-10-29 20:52:20-05:00</td>\n",
       "      <td>3440.64</td>\n",
       "      <td>204.112.96.94</td>\n",
       "      <td>02-cd-05-c1-92-3f</td>\n",
       "      <td>iperf</td>\n",
       "      <td>iperf</td>\n",
       "      <td>4</td>\n",
       "      <td>clearskystatus.info</td>\n",
       "      <td>1998.0</td>\n",
       "    </tr>\n",
       "    <tr>\n",
       "      <th>5</th>\n",
       "      <td>2018-10-30 00:34:14-05:00</td>\n",
       "      <td>3860.48</td>\n",
       "      <td>204.112.96.94</td>\n",
       "      <td>02-cd-05-c1-92-3f</td>\n",
       "      <td>iperf</td>\n",
       "      <td>iperf</td>\n",
       "      <td>4</td>\n",
       "      <td>clearskystatus.info</td>\n",
       "      <td>222.0</td>\n",
       "    </tr>\n",
       "  </tbody>\n",
       "</table>\n",
       "</div>"
      ],
      "text/plain": [
       "                       time  DOWNLOAD             IP             PI_MAC  \\\n",
       "1 2018-10-27 02:16:18-05:00   3758.08  204.112.96.94  02-cd-05-c1-92-3f   \n",
       "2 2018-10-27 17:04:19-05:00   3758.08  204.112.96.94  02-cd-05-c1-92-3f   \n",
       "3 2018-10-28 11:34:03-05:00   3973.12  204.112.96.94  02-cd-05-c1-92-3f   \n",
       "4 2018-10-29 20:52:20-05:00   3440.64  204.112.96.94  02-cd-05-c1-92-3f   \n",
       "5 2018-10-30 00:34:14-05:00   3860.48  204.112.96.94  02-cd-05-c1-92-3f   \n",
       "\n",
       "  PROVIDER PROVINCE  SK_PI          TEST_SERVER  interval  \n",
       "1    iperf    iperf      4  clearskystatus.info     320.0  \n",
       "2    iperf    iperf      4  clearskystatus.info     888.0  \n",
       "3    iperf    iperf      4  clearskystatus.info    1110.0  \n",
       "4    iperf    iperf      4  clearskystatus.info    1998.0  \n",
       "5    iperf    iperf      4  clearskystatus.info     222.0  "
      ]
     },
     "execution_count": 27,
     "metadata": {},
     "output_type": "execute_result"
    }
   ],
   "source": [
    "df_device4 = df_device4[np.isfinite(df_device4['interval'])]\n",
    "df_device4.head()"
   ]
  },
  {
   "cell_type": "code",
   "execution_count": 28,
   "metadata": {},
   "outputs": [
    {
     "name": "stdout",
     "output_type": "stream",
     "text": [
      "Time intervals for device 4:  [222.0, 320.0, 444.0, 445.0, 666.0, 888.0, 891.0, 1107.0, 1109.0, 1110.0, 1554.0, 1776.0, 1998.0, 2442.0, 2664.0, 3108.0, 5107.0]\n"
     ]
    }
   ],
   "source": [
    "time_intervals=df_device4['interval'].unique()\n",
    "time_intervals= sorted(time_intervals)\n",
    "print(\"Time intervals for device 4: \",time_intervals)"
   ]
  },
  {
   "cell_type": "code",
   "execution_count": 29,
   "metadata": {},
   "outputs": [
    {
     "name": "stdout",
     "output_type": "stream",
     "text": [
      "Frequencies for every time interval for device4:\n"
     ]
    },
    {
     "data": {
      "text/plain": [
       "interval\n",
       "222.0     27\n",
       "320.0      1\n",
       "444.0     10\n",
       "445.0      1\n",
       "666.0      9\n",
       "888.0      5\n",
       "891.0      1\n",
       "1107.0     1\n",
       "1109.0     1\n",
       "1110.0     3\n",
       "1554.0     1\n",
       "1776.0     2\n",
       "1998.0     1\n",
       "2442.0     1\n",
       "2664.0     3\n",
       "3108.0     1\n",
       "5107.0     1\n",
       "dtype: int64"
      ]
     },
     "execution_count": 29,
     "metadata": {},
     "output_type": "execute_result"
    }
   ],
   "source": [
    "print(\"Frequencies for every time interval for device4:\")\n",
    "df_device4.groupby(['interval']).size()"
   ]
  },
  {
   "cell_type": "code",
   "execution_count": 30,
   "metadata": {},
   "outputs": [
    {
     "name": "stdout",
     "output_type": "stream",
     "text": [
      "Frequencies for every time interval for device2:\n"
     ]
    },
    {
     "data": {
      "text/plain": [
       "interval\n",
       "211.0      1\n",
       "221.0      1\n",
       "222.0     76\n",
       "223.0      3\n",
       "233.0      1\n",
       "318.0      1\n",
       "443.0      1\n",
       "444.0     11\n",
       "665.0      1\n",
       "666.0      1\n",
       "667.0      2\n",
       "888.0      1\n",
       "1110.0     1\n",
       "1332.0     1\n",
       "1554.0     1\n",
       "1776.0     1\n",
       "dtype: int64"
      ]
     },
     "execution_count": 30,
     "metadata": {},
     "output_type": "execute_result"
    }
   ],
   "source": [
    "query_device2 = \"SELECT * FROM SPEEDTEST_DOWNLOAD WHERE PROVIDER='iperf' AND SK_PI='2' AND time<= '\"+starting_point+\"';\"\n",
    "df_device2 = get_dataframe_from_influxdb(client_df=client_df,query_influx=query_device2,table_name='SPEEDTEST_DOWNLOAD')\n",
    "df_device2['interval'] = df_device2['time'] - df_device2['time'].shift(+1)\n",
    "df_device2['interval']=round(df_device2['interval'].dt.total_seconds() / 60)\n",
    "df_device2 = df_device2[np.isfinite(df_device2['interval'])]\n",
    "print(\"Frequencies for every time interval for device2:\")\n",
    "df_device2.groupby(['interval']).size()"
   ]
  },
  {
   "cell_type": "code",
   "execution_count": 31,
   "metadata": {},
   "outputs": [],
   "source": [
    "#trace=go.Histogram(x=df_device4['interval'],xbins=dict(size=222))\n",
    "#fig = go.Figure(data=[trace])\n",
    "#fig['layout'].update(title='Download speed histogram per device')\n",
    "#iplot(fig)"
   ]
  },
  {
   "cell_type": "code",
   "execution_count": 32,
   "metadata": {},
   "outputs": [],
   "source": [
    "#import plotly.figure_factory as ff\n",
    "#hist_data = [df_device4['interval']]\n",
    "#group_labels = ['device 4 time interval']\n",
    "#fig = ff.create_distplot(hist_data, group_labels,bin_size=60)\n",
    "#fig['layout']['xaxis'].update(title='Download speed (Mbps)')\n",
    "#iplot(fig)"
   ]
  },
  {
   "cell_type": "markdown",
   "metadata": {},
   "source": [
    "Most of data is collected with 222 mins intervals(or 444 or 666) but its not consistent"
   ]
  },
  {
   "cell_type": "markdown",
   "metadata": {},
   "source": [
    "Comparing these intervals with speedtest we can see in grafana that they alternating(not happening at the same time)"
   ]
  },
  {
   "cell_type": "markdown",
   "metadata": {},
   "source": [
    "![](images/grafana_ping2.png)"
   ]
  },
  {
   "cell_type": "markdown",
   "metadata": {},
   "source": [
    "## Statistics by device"
   ]
  },
  {
   "cell_type": "markdown",
   "metadata": {},
   "source": [
    "Since there is not a lot of data - we will select the entire database back from todays date."
   ]
  },
  {
   "cell_type": "code",
   "execution_count": 33,
   "metadata": {},
   "outputs": [],
   "source": [
    "query_download = \"SELECT * FROM SPEEDTEST_DOWNLOAD WHERE PROVIDER='iperf'AND DOWNLOAD>0 AND time <'\"+starting_point+\"';\"\n",
    "download_df = get_dataframe_from_influxdb(client_df=client_df,query_influx=query_download,\n",
    "                                          table_name='SPEEDTEST_DOWNLOAD')\n",
    "download_df['DOWNLOAD']=download_df['DOWNLOAD']*0.001"
   ]
  },
  {
   "cell_type": "code",
   "execution_count": 34,
   "metadata": {},
   "outputs": [],
   "source": [
    "query_upload = \"SELECT * FROM SPEEDTEST_UPLOAD WHERE PROVIDER='iperf'AND UPLOAD>0 AND time < '\"+starting_point+\"';\"\n",
    "upload_df = get_dataframe_from_influxdb(client_df=client_df,query_influx=query_upload,\n",
    "                                          table_name='SPEEDTEST_UPLOAD')\n",
    "upload_df['UPLOAD']=upload_df['UPLOAD']*0.001"
   ]
  },
  {
   "cell_type": "code",
   "execution_count": 35,
   "metadata": {},
   "outputs": [],
   "source": [
    "query_ping = \"SELECT * FROM SPEEDTEST_PING WHERE PROVIDER='iperf'AND PING>0 AND time < '\"+starting_point+\"';\"\n",
    "ping_df = get_dataframe_from_influxdb(client_df=client_df,query_influx=query_ping,\n",
    "                                          table_name='SPEEDTEST_PING')"
   ]
  },
  {
   "cell_type": "code",
   "execution_count": 36,
   "metadata": {},
   "outputs": [
    {
     "data": {
      "application/vnd.plotly.v1+json": {
       "config": {
        "linkText": "Export to plot.ly",
        "plotlyServerURL": "https://plot.ly",
        "showLink": false
       },
       "data": [
        {
         "marker": {
          "color": "#F3C300"
         },
         "name": "Max",
         "type": "bar",
         "uid": "e1b0c4fc-702d-4872-90da-0b636c3bb335",
         "x": [
          1,
          2,
          3,
          4,
          5,
          6,
          7,
          8,
          9,
          11,
          12
         ],
         "y": [
          9.66656,
          11.8784,
          42.086400000000005,
          4.07552,
          6.87104,
          6.656000000000001,
          10.3424,
          38.809599999999996,
          31.744,
          12.288,
          15.2576
         ]
        },
        {
         "marker": {
          "color": "#875692"
         },
         "name": "Mean",
         "type": "bar",
         "uid": "c167a9a1-e282-479a-8489-1d854af5886b",
         "x": [
          1,
          2,
          3,
          4,
          5,
          6,
          7,
          8,
          9,
          11,
          12
         ],
         "y": [
          6.3104000000000005,
          5.727340190476192,
          35.3328761904762,
          3.7577525714285693,
          5.5785058536585375,
          5.004603076923077,
          6.603796078431373,
          38.6048,
          25.536000000000005,
          8.430933333333334,
          13.747200000000001
         ]
        },
        {
         "marker": {
          "color": "#F38400"
         },
         "name": "Median",
         "type": "bar",
         "uid": "8f3265c6-00b3-47ed-a8c8-4d2e3f1df43e",
         "x": [
          1,
          2,
          3,
          4,
          5,
          6,
          7,
          8,
          9,
          11,
          12
         ],
         "y": [
          6.174720000000001,
          5.4784,
          35.5328,
          3.86048,
          6.33856,
          5.74464,
          6.87104,
          38.6048,
          29.7472,
          10.752,
          14.5408
         ]
        },
        {
         "marker": {
          "color": "#A1CAF1"
         },
         "name": "Min",
         "type": "bar",
         "uid": "2af973ae-7cbc-4008-bf0e-27f16e86ceb2",
         "x": [
          1,
          2,
          3,
          4,
          5,
          6,
          7,
          8,
          9,
          11,
          12
         ],
         "y": [
          3.2256,
          0.21,
          14.540799999999999,
          0.315,
          0.21,
          1.72032,
          2.58048,
          38.4,
          14.6432,
          2.2528,
          10.649600000000001
         ]
        },
        {
         "marker": {
          "color": "red"
         },
         "mode": "markers",
         "name": "50Mbps",
         "type": "scatter",
         "uid": "7294ab1c-7f5e-417c-9e78-8eb06ee0d5c4",
         "x": [
          1,
          2,
          3,
          4,
          5,
          6,
          7,
          8,
          9,
          11,
          12
         ],
         "y": [
          50,
          50,
          50,
          50,
          50,
          50,
          50,
          50,
          50,
          50,
          50
         ]
        }
       ],
       "layout": {
        "title": {
         "text": "Download speed by device to the date 2019-02-06 21:07:22"
        },
        "xaxis": {
         "title": {
          "text": "Device Number"
         }
        },
        "yaxis": {
         "title": {
          "text": "Mbps"
         }
        }
       }
      },
      "text/html": [
       "<div id=\"95e37a1e-de8d-4778-932b-c36bb4909a90\" style=\"height: 525px; width: 100%;\" class=\"plotly-graph-div\"></div><script type=\"text/javascript\">require([\"plotly\"], function(Plotly) { window.PLOTLYENV=window.PLOTLYENV || {};window.PLOTLYENV.BASE_URL=\"https://plot.ly\";Plotly.newPlot(\"95e37a1e-de8d-4778-932b-c36bb4909a90\", [{\"marker\": {\"color\": \"#F3C300\"}, \"name\": \"Max\", \"x\": [1, 2, 3, 4, 5, 6, 7, 8, 9, 11, 12], \"y\": [9.66656, 11.8784, 42.086400000000005, 4.07552, 6.87104, 6.656000000000001, 10.3424, 38.809599999999996, 31.744, 12.288, 15.2576], \"type\": \"bar\", \"uid\": \"e1b0c4fc-702d-4872-90da-0b636c3bb335\"}, {\"marker\": {\"color\": \"#875692\"}, \"name\": \"Mean\", \"x\": [1, 2, 3, 4, 5, 6, 7, 8, 9, 11, 12], \"y\": [6.3104000000000005, 5.727340190476192, 35.3328761904762, 3.7577525714285693, 5.5785058536585375, 5.004603076923077, 6.603796078431373, 38.6048, 25.536000000000005, 8.430933333333334, 13.747200000000001], \"type\": \"bar\", \"uid\": \"c167a9a1-e282-479a-8489-1d854af5886b\"}, {\"marker\": {\"color\": \"#F38400\"}, \"name\": \"Median\", \"x\": [1, 2, 3, 4, 5, 6, 7, 8, 9, 11, 12], \"y\": [6.174720000000001, 5.4784, 35.5328, 3.86048, 6.33856, 5.74464, 6.87104, 38.6048, 29.7472, 10.752, 14.5408], \"type\": \"bar\", \"uid\": \"8f3265c6-00b3-47ed-a8c8-4d2e3f1df43e\"}, {\"marker\": {\"color\": \"#A1CAF1\"}, \"name\": \"Min\", \"x\": [1, 2, 3, 4, 5, 6, 7, 8, 9, 11, 12], \"y\": [3.2256, 0.21, 14.540799999999999, 0.315, 0.21, 1.72032, 2.58048, 38.4, 14.6432, 2.2528, 10.649600000000001], \"type\": \"bar\", \"uid\": \"2af973ae-7cbc-4008-bf0e-27f16e86ceb2\"}, {\"marker\": {\"color\": \"red\"}, \"mode\": \"markers\", \"name\": \"50Mbps\", \"x\": [1, 2, 3, 4, 5, 6, 7, 8, 9, 11, 12], \"y\": [50, 50, 50, 50, 50, 50, 50, 50, 50, 50, 50], \"type\": \"scatter\", \"uid\": \"7294ab1c-7f5e-417c-9e78-8eb06ee0d5c4\"}], {\"title\": {\"text\": \"Download speed by device to the date 2019-02-06 21:07:22\"}, \"xaxis\": {\"title\": {\"text\": \"Device Number\"}}, \"yaxis\": {\"title\": {\"text\": \"Mbps\"}}}, {\"showLink\": false, \"linkText\": \"Export to plot.ly\", \"plotlyServerURL\": \"https://plot.ly\"})});</script><script type=\"text/javascript\">window.addEventListener(\"resize\", function(){window._Plotly.Plots.resize(document.getElementById(\"95e37a1e-de8d-4778-932b-c36bb4909a90\"));});</script>"
      ],
      "text/vnd.plotly.v1+html": [
       "<div id=\"95e37a1e-de8d-4778-932b-c36bb4909a90\" style=\"height: 525px; width: 100%;\" class=\"plotly-graph-div\"></div><script type=\"text/javascript\">require([\"plotly\"], function(Plotly) { window.PLOTLYENV=window.PLOTLYENV || {};window.PLOTLYENV.BASE_URL=\"https://plot.ly\";Plotly.newPlot(\"95e37a1e-de8d-4778-932b-c36bb4909a90\", [{\"marker\": {\"color\": \"#F3C300\"}, \"name\": \"Max\", \"x\": [1, 2, 3, 4, 5, 6, 7, 8, 9, 11, 12], \"y\": [9.66656, 11.8784, 42.086400000000005, 4.07552, 6.87104, 6.656000000000001, 10.3424, 38.809599999999996, 31.744, 12.288, 15.2576], \"type\": \"bar\", \"uid\": \"e1b0c4fc-702d-4872-90da-0b636c3bb335\"}, {\"marker\": {\"color\": \"#875692\"}, \"name\": \"Mean\", \"x\": [1, 2, 3, 4, 5, 6, 7, 8, 9, 11, 12], \"y\": [6.3104000000000005, 5.727340190476192, 35.3328761904762, 3.7577525714285693, 5.5785058536585375, 5.004603076923077, 6.603796078431373, 38.6048, 25.536000000000005, 8.430933333333334, 13.747200000000001], \"type\": \"bar\", \"uid\": \"c167a9a1-e282-479a-8489-1d854af5886b\"}, {\"marker\": {\"color\": \"#F38400\"}, \"name\": \"Median\", \"x\": [1, 2, 3, 4, 5, 6, 7, 8, 9, 11, 12], \"y\": [6.174720000000001, 5.4784, 35.5328, 3.86048, 6.33856, 5.74464, 6.87104, 38.6048, 29.7472, 10.752, 14.5408], \"type\": \"bar\", \"uid\": \"8f3265c6-00b3-47ed-a8c8-4d2e3f1df43e\"}, {\"marker\": {\"color\": \"#A1CAF1\"}, \"name\": \"Min\", \"x\": [1, 2, 3, 4, 5, 6, 7, 8, 9, 11, 12], \"y\": [3.2256, 0.21, 14.540799999999999, 0.315, 0.21, 1.72032, 2.58048, 38.4, 14.6432, 2.2528, 10.649600000000001], \"type\": \"bar\", \"uid\": \"2af973ae-7cbc-4008-bf0e-27f16e86ceb2\"}, {\"marker\": {\"color\": \"red\"}, \"mode\": \"markers\", \"name\": \"50Mbps\", \"x\": [1, 2, 3, 4, 5, 6, 7, 8, 9, 11, 12], \"y\": [50, 50, 50, 50, 50, 50, 50, 50, 50, 50, 50], \"type\": \"scatter\", \"uid\": \"7294ab1c-7f5e-417c-9e78-8eb06ee0d5c4\"}], {\"title\": {\"text\": \"Download speed by device to the date 2019-02-06 21:07:22\"}, \"xaxis\": {\"title\": {\"text\": \"Device Number\"}}, \"yaxis\": {\"title\": {\"text\": \"Mbps\"}}}, {\"showLink\": false, \"linkText\": \"Export to plot.ly\", \"plotlyServerURL\": \"https://plot.ly\"})});</script><script type=\"text/javascript\">window.addEventListener(\"resize\", function(){window._Plotly.Plots.resize(document.getElementById(\"95e37a1e-de8d-4778-932b-c36bb4909a90\"));});</script>"
      ]
     },
     "metadata": {},
     "output_type": "display_data"
    }
   ],
   "source": [
    "download_summary=mean_max_median_min_by1(download_df,'DOWNLOAD')\n",
    "device_numbers_d=download_summary[\"SK_PI\"].unique()\n",
    "download_line=go.Scatter(x=device_numbers_d,y=[50] * len(device_numbers_d), mode='markers',marker=dict(color='red'), name='50Mbps')\n",
    "combined_bar_plot_4traces(xvalues=download_summary[\"SK_PI\"],\n",
    "                         yvalues1=download_summary[\"max\"],\n",
    "                         yvalues2=download_summary[\"mean\"],\n",
    "                         yvalues3=download_summary[\"median\"],\n",
    "                         yvalues4=download_summary[\"min\"],\n",
    "                         name1=\"Max\",\n",
    "                         name2=\"Mean\",\n",
    "                         name3=\"Median\",\n",
    "                         name4=\"Min\",\n",
    "                         title=\"Download speed by device\"+ title_tail,\n",
    "                         ytitle=\"Mbps\",\n",
    "                         line=download_line,\n",
    "                         stack=False)"
   ]
  },
  {
   "cell_type": "code",
   "execution_count": 37,
   "metadata": {},
   "outputs": [
    {
     "data": {
      "application/vnd.plotly.v1+json": {
       "config": {
        "linkText": "Export to plot.ly",
        "plotlyServerURL": "https://plot.ly",
        "showLink": false
       },
       "data": [
        {
         "marker": {
          "color": "#F3C300"
         },
         "name": "Max",
         "type": "bar",
         "uid": "50154b6e-4fd6-4efb-9a02-17c45c4d111a",
         "x": [
          1,
          2,
          3,
          4,
          5,
          6,
          7,
          8,
          9,
          11,
          12
         ],
         "y": [
          0.844,
          6.49216,
          20.48,
          0.842,
          0.62,
          0.926,
          8.1408,
          6.8096000000000005,
          7.4444799999999995,
          1.66912,
          3.23584
         ]
        },
        {
         "marker": {
          "color": "#875692"
         },
         "name": "Mean",
         "type": "bar",
         "uid": "47b881d4-5175-497d-b0c4-7c98fa695b04",
         "x": [
          1,
          2,
          3,
          4,
          5,
          6,
          7,
          8,
          9,
          11,
          12
         ],
         "y": [
          0.7072499999999999,
          1.529516952380953,
          7.499091428571428,
          0.7423142857142859,
          0.5080121951219512,
          0.7755000000000002,
          4.472341176470588,
          5.42208,
          4.30848,
          1.5837866666666667,
          2.49856
         ]
        },
        {
         "marker": {
          "color": "#F38400"
         },
         "name": "Median",
         "type": "bar",
         "uid": "88c01280-1f1e-4b19-8816-83cb2cc2c3d9",
         "x": [
          1,
          2,
          3,
          4,
          5,
          6,
          7,
          8,
          9,
          11,
          12
         ],
         "y": [
          0.677,
          0.733,
          4.9356800000000005,
          0.766,
          0.5205,
          0.808,
          4.4544,
          5.42208,
          3.74784,
          1.6384,
          2.49344
         ]
        },
        {
         "marker": {
          "color": "#A1CAF1"
         },
         "name": "Min",
         "type": "bar",
         "uid": "41510b4f-c4e9-4de5-9f0c-2c48d70adca4",
         "x": [
          1,
          2,
          3,
          4,
          5,
          6,
          7,
          8,
          9,
          11,
          12
         ],
         "y": [
          0.631,
          0.0232,
          1.55648,
          0.504,
          0.15,
          0.20500000000000002,
          0.659,
          4.03456,
          2.048,
          1.44384,
          1.77152
         ]
        },
        {
         "marker": {
          "color": "red"
         },
         "mode": "markers",
         "name": "10Mbps",
         "type": "scatter",
         "uid": "a64ff34c-66fc-42c0-94e9-606663a0f51d",
         "x": [
          1,
          2,
          3,
          4,
          5,
          6,
          7,
          8,
          9,
          11,
          12
         ],
         "y": [
          10,
          10,
          10,
          10,
          10,
          10,
          10,
          10,
          10,
          10,
          10
         ]
        }
       ],
       "layout": {
        "title": {
         "text": "Upload speed by device to the date 2019-02-06 21:07:22"
        },
        "xaxis": {
         "title": {
          "text": "Device Number"
         }
        },
        "yaxis": {
         "title": {
          "text": "Mbps"
         }
        }
       }
      },
      "text/html": [
       "<div id=\"af82ce7a-ec9d-448c-b7b3-2754f7b21cf4\" style=\"height: 525px; width: 100%;\" class=\"plotly-graph-div\"></div><script type=\"text/javascript\">require([\"plotly\"], function(Plotly) { window.PLOTLYENV=window.PLOTLYENV || {};window.PLOTLYENV.BASE_URL=\"https://plot.ly\";Plotly.newPlot(\"af82ce7a-ec9d-448c-b7b3-2754f7b21cf4\", [{\"marker\": {\"color\": \"#F3C300\"}, \"name\": \"Max\", \"x\": [1, 2, 3, 4, 5, 6, 7, 8, 9, 11, 12], \"y\": [0.844, 6.49216, 20.48, 0.842, 0.62, 0.926, 8.1408, 6.8096000000000005, 7.4444799999999995, 1.66912, 3.23584], \"type\": \"bar\", \"uid\": \"50154b6e-4fd6-4efb-9a02-17c45c4d111a\"}, {\"marker\": {\"color\": \"#875692\"}, \"name\": \"Mean\", \"x\": [1, 2, 3, 4, 5, 6, 7, 8, 9, 11, 12], \"y\": [0.7072499999999999, 1.529516952380953, 7.499091428571428, 0.7423142857142859, 0.5080121951219512, 0.7755000000000002, 4.472341176470588, 5.42208, 4.30848, 1.5837866666666667, 2.49856], \"type\": \"bar\", \"uid\": \"47b881d4-5175-497d-b0c4-7c98fa695b04\"}, {\"marker\": {\"color\": \"#F38400\"}, \"name\": \"Median\", \"x\": [1, 2, 3, 4, 5, 6, 7, 8, 9, 11, 12], \"y\": [0.677, 0.733, 4.9356800000000005, 0.766, 0.5205, 0.808, 4.4544, 5.42208, 3.74784, 1.6384, 2.49344], \"type\": \"bar\", \"uid\": \"88c01280-1f1e-4b19-8816-83cb2cc2c3d9\"}, {\"marker\": {\"color\": \"#A1CAF1\"}, \"name\": \"Min\", \"x\": [1, 2, 3, 4, 5, 6, 7, 8, 9, 11, 12], \"y\": [0.631, 0.0232, 1.55648, 0.504, 0.15, 0.20500000000000002, 0.659, 4.03456, 2.048, 1.44384, 1.77152], \"type\": \"bar\", \"uid\": \"41510b4f-c4e9-4de5-9f0c-2c48d70adca4\"}, {\"marker\": {\"color\": \"red\"}, \"mode\": \"markers\", \"name\": \"10Mbps\", \"x\": [1, 2, 3, 4, 5, 6, 7, 8, 9, 11, 12], \"y\": [10, 10, 10, 10, 10, 10, 10, 10, 10, 10, 10], \"type\": \"scatter\", \"uid\": \"a64ff34c-66fc-42c0-94e9-606663a0f51d\"}], {\"title\": {\"text\": \"Upload speed by device to the date 2019-02-06 21:07:22\"}, \"xaxis\": {\"title\": {\"text\": \"Device Number\"}}, \"yaxis\": {\"title\": {\"text\": \"Mbps\"}}}, {\"showLink\": false, \"linkText\": \"Export to plot.ly\", \"plotlyServerURL\": \"https://plot.ly\"})});</script><script type=\"text/javascript\">window.addEventListener(\"resize\", function(){window._Plotly.Plots.resize(document.getElementById(\"af82ce7a-ec9d-448c-b7b3-2754f7b21cf4\"));});</script>"
      ],
      "text/vnd.plotly.v1+html": [
       "<div id=\"af82ce7a-ec9d-448c-b7b3-2754f7b21cf4\" style=\"height: 525px; width: 100%;\" class=\"plotly-graph-div\"></div><script type=\"text/javascript\">require([\"plotly\"], function(Plotly) { window.PLOTLYENV=window.PLOTLYENV || {};window.PLOTLYENV.BASE_URL=\"https://plot.ly\";Plotly.newPlot(\"af82ce7a-ec9d-448c-b7b3-2754f7b21cf4\", [{\"marker\": {\"color\": \"#F3C300\"}, \"name\": \"Max\", \"x\": [1, 2, 3, 4, 5, 6, 7, 8, 9, 11, 12], \"y\": [0.844, 6.49216, 20.48, 0.842, 0.62, 0.926, 8.1408, 6.8096000000000005, 7.4444799999999995, 1.66912, 3.23584], \"type\": \"bar\", \"uid\": \"50154b6e-4fd6-4efb-9a02-17c45c4d111a\"}, {\"marker\": {\"color\": \"#875692\"}, \"name\": \"Mean\", \"x\": [1, 2, 3, 4, 5, 6, 7, 8, 9, 11, 12], \"y\": [0.7072499999999999, 1.529516952380953, 7.499091428571428, 0.7423142857142859, 0.5080121951219512, 0.7755000000000002, 4.472341176470588, 5.42208, 4.30848, 1.5837866666666667, 2.49856], \"type\": \"bar\", \"uid\": \"47b881d4-5175-497d-b0c4-7c98fa695b04\"}, {\"marker\": {\"color\": \"#F38400\"}, \"name\": \"Median\", \"x\": [1, 2, 3, 4, 5, 6, 7, 8, 9, 11, 12], \"y\": [0.677, 0.733, 4.9356800000000005, 0.766, 0.5205, 0.808, 4.4544, 5.42208, 3.74784, 1.6384, 2.49344], \"type\": \"bar\", \"uid\": \"88c01280-1f1e-4b19-8816-83cb2cc2c3d9\"}, {\"marker\": {\"color\": \"#A1CAF1\"}, \"name\": \"Min\", \"x\": [1, 2, 3, 4, 5, 6, 7, 8, 9, 11, 12], \"y\": [0.631, 0.0232, 1.55648, 0.504, 0.15, 0.20500000000000002, 0.659, 4.03456, 2.048, 1.44384, 1.77152], \"type\": \"bar\", \"uid\": \"41510b4f-c4e9-4de5-9f0c-2c48d70adca4\"}, {\"marker\": {\"color\": \"red\"}, \"mode\": \"markers\", \"name\": \"10Mbps\", \"x\": [1, 2, 3, 4, 5, 6, 7, 8, 9, 11, 12], \"y\": [10, 10, 10, 10, 10, 10, 10, 10, 10, 10, 10], \"type\": \"scatter\", \"uid\": \"a64ff34c-66fc-42c0-94e9-606663a0f51d\"}], {\"title\": {\"text\": \"Upload speed by device to the date 2019-02-06 21:07:22\"}, \"xaxis\": {\"title\": {\"text\": \"Device Number\"}}, \"yaxis\": {\"title\": {\"text\": \"Mbps\"}}}, {\"showLink\": false, \"linkText\": \"Export to plot.ly\", \"plotlyServerURL\": \"https://plot.ly\"})});</script><script type=\"text/javascript\">window.addEventListener(\"resize\", function(){window._Plotly.Plots.resize(document.getElementById(\"af82ce7a-ec9d-448c-b7b3-2754f7b21cf4\"));});</script>"
      ]
     },
     "metadata": {},
     "output_type": "display_data"
    }
   ],
   "source": [
    "upload_summary=mean_max_median_min_by1(upload_df,'UPLOAD')\n",
    "device_numbers_u=upload_summary[\"SK_PI\"].unique()\n",
    "upload_line=go.Scatter(x=device_numbers_u,y=[10] * len(device_numbers_u), mode='markers',marker=dict(color='red'), name='10Mbps')\n",
    "\n",
    "combined_bar_plot_4traces(xvalues=upload_summary[\"SK_PI\"],\n",
    "                         yvalues1=upload_summary[\"max\"],\n",
    "                         yvalues2=upload_summary[\"mean\"],\n",
    "                         yvalues3=upload_summary[\"median\"],\n",
    "                         yvalues4=upload_summary[\"min\"],\n",
    "                         name1=\"Max\",\n",
    "                         name2=\"Mean\",\n",
    "                         name3=\"Median\",\n",
    "                         name4=\"Min\",\n",
    "                         title=\"Upload speed by device\"+ title_tail,\n",
    "                         ytitle=\"Mbps\",\n",
    "                         line=upload_line,\n",
    "                         stack=False)"
   ]
  },
  {
   "cell_type": "code",
   "execution_count": 38,
   "metadata": {},
   "outputs": [
    {
     "data": {
      "application/vnd.plotly.v1+json": {
       "config": {
        "linkText": "Export to plot.ly",
        "plotlyServerURL": "https://plot.ly",
        "showLink": false
       },
       "data": [
        {
         "marker": {
          "color": "#F3C300"
         },
         "name": "Max",
         "type": "bar",
         "uid": "bee8c64d-445e-4e18-abad-03a6061690c9",
         "x": [
          1,
          2,
          3,
          4,
          5,
          6,
          7,
          8,
          9,
          11,
          12
         ],
         "y": [
          69.942,
          324.017,
          50.677,
          196.284,
          669.219,
          90.365,
          82.239,
          52.388,
          45.052,
          60.291,
          26.961
         ]
        },
        {
         "marker": {
          "color": "#875692"
         },
         "name": "Mean",
         "type": "bar",
         "uid": "4ead5a1e-a964-45bb-b385-af15d3373f88",
         "x": [
          1,
          2,
          3,
          4,
          5,
          6,
          7,
          8,
          9,
          11,
          12
         ],
         "y": [
          65.217,
          73.55684761904759,
          49.09390476190476,
          62.693071428571436,
          94.92084146341463,
          65.83292307692308,
          66.03154901960784,
          52.3675,
          44.334375,
          58.782000000000004,
          24.1515
         ]
        },
        {
         "marker": {
          "color": "#F38400"
         },
         "name": "Median",
         "type": "bar",
         "uid": "7718752b-1c18-42b8-a260-29261c817db0",
         "x": [
          1,
          2,
          3,
          4,
          5,
          6,
          7,
          8,
          9,
          11,
          12
         ],
         "y": [
          63.9375,
          65.984,
          48.931,
          57.289,
          71.11949999999999,
          62.637,
          65.699,
          52.3675,
          44.238,
          58.21,
          23.7535
         ]
        },
        {
         "marker": {
          "color": "#A1CAF1"
         },
         "name": "Min",
         "type": "bar",
         "uid": "0be7c5ae-ac07-4c48-97ba-55afde2554e8",
         "x": [
          1,
          2,
          3,
          4,
          5,
          6,
          7,
          8,
          9,
          11,
          12
         ],
         "y": [
          63.051,
          57.432,
          48.703,
          55.602,
          61.992,
          61.942,
          57.644,
          52.347,
          44.206,
          57.845,
          22.138
         ]
        }
       ],
       "layout": {
        "title": {
         "text": "Ping latency by device back to the date 2019-02-06 21:07:22"
        },
        "xaxis": {
         "title": {
          "text": "Device Number"
         }
        },
        "yaxis": {
         "title": {
          "text": "Miliseconds"
         }
        }
       }
      },
      "text/html": [
       "<div id=\"c11ba2c9-348c-4d98-9108-3b5db7a5c40a\" style=\"height: 525px; width: 100%;\" class=\"plotly-graph-div\"></div><script type=\"text/javascript\">require([\"plotly\"], function(Plotly) { window.PLOTLYENV=window.PLOTLYENV || {};window.PLOTLYENV.BASE_URL=\"https://plot.ly\";Plotly.newPlot(\"c11ba2c9-348c-4d98-9108-3b5db7a5c40a\", [{\"marker\": {\"color\": \"#F3C300\"}, \"name\": \"Max\", \"x\": [1, 2, 3, 4, 5, 6, 7, 8, 9, 11, 12], \"y\": [69.942, 324.017, 50.677, 196.284, 669.219, 90.365, 82.239, 52.388, 45.052, 60.291, 26.961], \"type\": \"bar\", \"uid\": \"bee8c64d-445e-4e18-abad-03a6061690c9\"}, {\"marker\": {\"color\": \"#875692\"}, \"name\": \"Mean\", \"x\": [1, 2, 3, 4, 5, 6, 7, 8, 9, 11, 12], \"y\": [65.217, 73.55684761904759, 49.09390476190476, 62.693071428571436, 94.92084146341463, 65.83292307692308, 66.03154901960784, 52.3675, 44.334375, 58.782000000000004, 24.1515], \"type\": \"bar\", \"uid\": \"4ead5a1e-a964-45bb-b385-af15d3373f88\"}, {\"marker\": {\"color\": \"#F38400\"}, \"name\": \"Median\", \"x\": [1, 2, 3, 4, 5, 6, 7, 8, 9, 11, 12], \"y\": [63.9375, 65.984, 48.931, 57.289, 71.11949999999999, 62.637, 65.699, 52.3675, 44.238, 58.21, 23.7535], \"type\": \"bar\", \"uid\": \"7718752b-1c18-42b8-a260-29261c817db0\"}, {\"marker\": {\"color\": \"#A1CAF1\"}, \"name\": \"Min\", \"x\": [1, 2, 3, 4, 5, 6, 7, 8, 9, 11, 12], \"y\": [63.051, 57.432, 48.703, 55.602, 61.992, 61.942, 57.644, 52.347, 44.206, 57.845, 22.138], \"type\": \"bar\", \"uid\": \"0be7c5ae-ac07-4c48-97ba-55afde2554e8\"}], {\"title\": {\"text\": \"Ping latency by device back to the date 2019-02-06 21:07:22\"}, \"xaxis\": {\"title\": {\"text\": \"Device Number\"}}, \"yaxis\": {\"title\": {\"text\": \"Miliseconds\"}}}, {\"showLink\": false, \"linkText\": \"Export to plot.ly\", \"plotlyServerURL\": \"https://plot.ly\"})});</script><script type=\"text/javascript\">window.addEventListener(\"resize\", function(){window._Plotly.Plots.resize(document.getElementById(\"c11ba2c9-348c-4d98-9108-3b5db7a5c40a\"));});</script>"
      ],
      "text/vnd.plotly.v1+html": [
       "<div id=\"c11ba2c9-348c-4d98-9108-3b5db7a5c40a\" style=\"height: 525px; width: 100%;\" class=\"plotly-graph-div\"></div><script type=\"text/javascript\">require([\"plotly\"], function(Plotly) { window.PLOTLYENV=window.PLOTLYENV || {};window.PLOTLYENV.BASE_URL=\"https://plot.ly\";Plotly.newPlot(\"c11ba2c9-348c-4d98-9108-3b5db7a5c40a\", [{\"marker\": {\"color\": \"#F3C300\"}, \"name\": \"Max\", \"x\": [1, 2, 3, 4, 5, 6, 7, 8, 9, 11, 12], \"y\": [69.942, 324.017, 50.677, 196.284, 669.219, 90.365, 82.239, 52.388, 45.052, 60.291, 26.961], \"type\": \"bar\", \"uid\": \"bee8c64d-445e-4e18-abad-03a6061690c9\"}, {\"marker\": {\"color\": \"#875692\"}, \"name\": \"Mean\", \"x\": [1, 2, 3, 4, 5, 6, 7, 8, 9, 11, 12], \"y\": [65.217, 73.55684761904759, 49.09390476190476, 62.693071428571436, 94.92084146341463, 65.83292307692308, 66.03154901960784, 52.3675, 44.334375, 58.782000000000004, 24.1515], \"type\": \"bar\", \"uid\": \"4ead5a1e-a964-45bb-b385-af15d3373f88\"}, {\"marker\": {\"color\": \"#F38400\"}, \"name\": \"Median\", \"x\": [1, 2, 3, 4, 5, 6, 7, 8, 9, 11, 12], \"y\": [63.9375, 65.984, 48.931, 57.289, 71.11949999999999, 62.637, 65.699, 52.3675, 44.238, 58.21, 23.7535], \"type\": \"bar\", \"uid\": \"7718752b-1c18-42b8-a260-29261c817db0\"}, {\"marker\": {\"color\": \"#A1CAF1\"}, \"name\": \"Min\", \"x\": [1, 2, 3, 4, 5, 6, 7, 8, 9, 11, 12], \"y\": [63.051, 57.432, 48.703, 55.602, 61.992, 61.942, 57.644, 52.347, 44.206, 57.845, 22.138], \"type\": \"bar\", \"uid\": \"0be7c5ae-ac07-4c48-97ba-55afde2554e8\"}], {\"title\": {\"text\": \"Ping latency by device back to the date 2019-02-06 21:07:22\"}, \"xaxis\": {\"title\": {\"text\": \"Device Number\"}}, \"yaxis\": {\"title\": {\"text\": \"Miliseconds\"}}}, {\"showLink\": false, \"linkText\": \"Export to plot.ly\", \"plotlyServerURL\": \"https://plot.ly\"})});</script><script type=\"text/javascript\">window.addEventListener(\"resize\", function(){window._Plotly.Plots.resize(document.getElementById(\"c11ba2c9-348c-4d98-9108-3b5db7a5c40a\"));});</script>"
      ]
     },
     "metadata": {},
     "output_type": "display_data"
    }
   ],
   "source": [
    "ping_summary=mean_max_median_min_by1(ping_df,'PING')\n",
    "combined_bar_plot_4traces(xvalues=ping_summary[\"SK_PI\"],\n",
    "                         yvalues1=ping_summary[\"max\"],\n",
    "                         yvalues2=ping_summary[\"mean\"],\n",
    "                         yvalues3=ping_summary[\"median\"],\n",
    "                         yvalues4=ping_summary[\"min\"],  \n",
    "                         name1=\"Max\",\n",
    "                         name2=\"Mean\",\n",
    "                         name3=\"Median\",\n",
    "                         name4=\"Min\",\n",
    "                         title=\"Ping latency by device back\"+ title_tail,\n",
    "                         ytitle=\"Miliseconds\",\n",
    "                         stack=False)"
   ]
  },
  {
   "cell_type": "code",
   "execution_count": 39,
   "metadata": {},
   "outputs": [
    {
     "data": {
      "application/vnd.plotly.v1+json": {
       "config": {
        "linkText": "Export to plot.ly",
        "plotlyServerURL": "https://plot.ly",
        "showLink": false
       },
       "data": [
        {
         "marker": {
          "color": "#222222"
         },
         "name": "1",
         "type": "box",
         "uid": "f59bb426-62a9-4739-a6b4-2b4c50c3c3ed",
         "y": [
          3.2256,
          6.123520000000001,
          6.22592,
          9.66656
         ]
        },
        {
         "marker": {
          "color": "#F3C300"
         },
         "name": "2",
         "type": "box",
         "uid": "14519011-0255-4072-b58d-f4538b295cb8",
         "y": [
          7.7312,
          4.72064,
          4.5056,
          9.984,
          4.9356800000000005,
          4.9356800000000005,
          2.03776,
          9.12384,
          11.1616,
          4.83328,
          7.7312,
          11.3664,
          10.8544,
          1.29024,
          10.199,
          2.6828800000000004,
          6.656000000000001,
          10.199,
          6.76864,
          9.8816,
          8.26368,
          6.33856,
          5.90848,
          10.649600000000001,
          11.8784,
          7.08608,
          5.365760000000001,
          3.65568,
          5.79584,
          9.33888,
          5.4784,
          5.4784,
          2.89792,
          10.649600000000001,
          10.199,
          4.72064,
          1.8227200000000001,
          6.656000000000001,
          3.54304,
          5.4784,
          1.60768,
          2.2528,
          4.29056,
          4.61824,
          4.4032,
          5.150720000000001,
          4.4032,
          1.0752000000000002,
          7.08608,
          4.18816,
          2.03776,
          0.629,
          1.39264,
          2.7955200000000002,
          5.0483199999999995,
          7.08608,
          3.86048,
          4.18816,
          7.7312,
          7.61856,
          0.21,
          9.02144,
          6.76864,
          4.29056,
          4.5056,
          2.03776,
          1.60768,
          6.01088,
          3.86048,
          2.36544,
          2.36544,
          0.839,
          1.29024,
          4.18816,
          6.76864,
          6.123520000000001,
          3.44064,
          1.72032,
          3.54304,
          2.2528,
          5.79584,
          2.7955200000000002,
          1.39264,
          0.315,
          4.9356800000000005,
          5.90848,
          5.79584,
          6.01088,
          5.4784,
          6.656000000000001,
          5.4784,
          8.47872,
          10.199,
          10.0966,
          6.9836800000000006,
          8.9088,
          8.16128,
          9.66656,
          9.66656,
          7.51616,
          5.79584,
          8.04864,
          11.1616,
          11.8784,
          6.76864
         ]
        },
        {
         "marker": {
          "color": "#875692"
         },
         "name": "3",
         "type": "box",
         "uid": "a94575ec-a184-4a54-99b9-e13d5ce1bea0",
         "y": [
          31.0272,
          35.5328,
          34.5088,
          30.6176,
          14.540799999999999,
          35.2256,
          35.6352,
          35.1232,
          34.816,
          35.5328,
          35.6352,
          35.4304,
          31.744,
          41.062400000000004,
          41.67680000000001,
          42.086400000000005,
          42.086400000000005,
          41.984,
          41.16480000000001,
          39.2192,
          27.3408
         ]
        },
        {
         "marker": {
          "color": "#F38400"
         },
         "name": "4",
         "type": "box",
         "uid": "15247267-3d88-4b2e-8aa2-52914df88fbe",
         "y": [
          3.75808,
          3.75808,
          3.75808,
          3.9731199999999998,
          3.44064,
          3.86048,
          4.07552,
          3.86048,
          3.54304,
          4.07552,
          4.07552,
          3.86048,
          3.86048,
          3.86048,
          3.86048,
          4.07552,
          3.75808,
          2.58048,
          3.75808,
          3.9731199999999998,
          3.86048,
          3.9731199999999998,
          3.75808,
          3.86048,
          0.315,
          3.86048,
          3.86048,
          3.86048,
          3.65568,
          3.9731199999999998,
          3.86048,
          3.9731199999999998,
          3.9731199999999998,
          3.86048,
          3.86048,
          3.9731199999999998,
          3.86048,
          3.65568,
          3.86048,
          3.65568,
          3.75808,
          3.86048,
          2.36544,
          3.65568,
          3.9731199999999998,
          3.9731199999999998,
          4.07552,
          3.86048,
          3.65568,
          3.75808,
          3.86048,
          3.86048,
          3.65568,
          3.9731199999999998,
          3.86048,
          3.9731199999999998,
          3.86048,
          3.86048,
          3.86048,
          3.75808,
          3.75808,
          3.86048,
          3.86048,
          3.9731199999999998,
          3.86048,
          3.86048,
          3.86048,
          3.65568,
          3.86048,
          3.75808
         ]
        },
        {
         "marker": {
          "color": "#A1CAF1"
         },
         "name": "5",
         "type": "box",
         "uid": "c6c31b50-cd18-47f6-b7d8-91c66fb2b789",
         "y": [
          5.365760000000001,
          5.90848,
          5.26336,
          6.76864,
          5.79584,
          6.76864,
          5.150720000000001,
          6.87104,
          6.5536,
          6.87104,
          6.87104,
          6.76864,
          6.87104,
          6.33856,
          3.75808,
          6.87104,
          5.79584,
          5.365760000000001,
          5.79584,
          6.4409600000000005,
          6.5536,
          5.4784,
          6.76864,
          6.4409600000000005,
          5.26336,
          6.01088,
          6.76864,
          6.76864,
          6.76864,
          6.87104,
          6.656000000000001,
          3.65568,
          6.76864,
          6.76864,
          6.76864,
          6.33856,
          6.22592,
          5.365760000000001,
          5.4784,
          6.01088,
          6.656000000000001,
          6.33856,
          6.76864,
          6.76864,
          1.8227200000000001,
          6.123520000000001,
          6.76864,
          6.33856,
          6.123520000000001,
          6.01088,
          6.76864,
          6.4409600000000005,
          3.75808,
          6.22592,
          4.29056,
          6.656000000000001,
          6.656000000000001,
          6.5536,
          6.76864,
          5.365760000000001,
          1.60768,
          6.76864,
          6.656000000000001,
          0.9440000000000001,
          1.8227200000000001,
          4.4032,
          1.39264,
          1.39264,
          0.839,
          5.69344,
          6.76864,
          6.656000000000001,
          1.60768,
          5.90848,
          6.76864,
          6.33856,
          6.76864,
          0.21,
          3.75808,
          6.4409600000000005,
          2.7955200000000002,
          6.76864
         ]
        },
        {
         "marker": {
          "color": "#BE0032"
         },
         "name": "6",
         "type": "box",
         "uid": "a412be7f-71b0-4be8-9125-365a2927d4aa",
         "y": [
          3.86048,
          6.656000000000001,
          6.01088,
          5.79584,
          6.4409600000000005,
          6.54336,
          3.44064,
          3.2256,
          6.656000000000001,
          6.01088,
          5.79584,
          5.69344,
          3.75808,
          1.8227200000000001,
          6.656000000000001,
          6.5536,
          4.18816,
          2.7955200000000002,
          5.5808,
          1.72032,
          5.69344,
          6.01088,
          5.79584,
          6.01088,
          1.8227200000000001,
          5.5808
         ]
        },
        {
         "marker": {
          "color": "#C2B280"
         },
         "name": "7",
         "type": "box",
         "uid": "fee3ba58-49d6-461b-b9ce-6188a8401a01",
         "y": [
          7.51616,
          8.26368,
          9.12384,
          6.87104,
          7.51616,
          8.37632,
          4.9356800000000005,
          8.37632,
          5.69344,
          3.3280000000000003,
          3.01056,
          5.4784,
          7.413760000000001,
          6.87104,
          6.87104,
          8.16128,
          5.150720000000001,
          6.9836800000000006,
          7.9462399999999995,
          8.04864,
          7.51616,
          7.30112,
          6.01088,
          5.79584,
          7.198720000000001,
          10.3424,
          8.26368,
          6.87104,
          8.16128,
          6.5536,
          5.5808,
          5.26336,
          6.76864,
          6.76864,
          2.58048,
          3.65568,
          6.4409600000000005,
          7.198720000000001,
          6.9836800000000006,
          6.5536,
          5.69344,
          6.87104,
          7.7312,
          6.656000000000001,
          4.83328,
          3.44064,
          7.51616,
          5.79584,
          8.59136,
          5.26336,
          6.656000000000001
         ]
        },
        {
         "marker": {
          "color": "#848482"
         },
         "name": "8",
         "type": "box",
         "uid": "14f2d7a2-554f-4af4-b9ef-bc08de94334f",
         "y": [
          38.809599999999996,
          38.4
         ]
        },
        {
         "marker": {
          "color": "#008856"
         },
         "name": "9",
         "type": "box",
         "uid": "039cf953-05d9-45e7-8fad-b59a93a6ebc0",
         "y": [
          30.208000000000002,
          19.456,
          30.6176,
          30.3104,
          31.744,
          29.2864,
          18.0224,
          14.6432
         ]
        },
        {
         "marker": {
          "color": "#E68FAC"
         },
         "name": "11",
         "type": "box",
         "uid": "f824647f-1212-4f78-b1d9-c34dacbf24cf",
         "y": [
          12.288,
          10.752,
          2.2528
         ]
        },
        {
         "marker": {
          "color": "#0067A5"
         },
         "name": "12",
         "type": "box",
         "uid": "1a663401-6fcc-440a-8443-dfcc4101bd74",
         "y": [
          15.2576,
          14.848,
          14.233600000000001,
          10.649600000000001
         ]
        },
        {
         "marker": {
          "color": "red"
         },
         "mode": "markers",
         "name": "50Mbps",
         "type": "scatter",
         "uid": "d31cbf00-137b-47fb-bdc8-44c461fef3f0",
         "x": [
          1,
          2,
          3,
          4,
          5,
          6,
          7,
          8,
          9,
          11,
          12
         ],
         "y": [
          50,
          50,
          50,
          50,
          50,
          50,
          50,
          50,
          50,
          50,
          50
         ]
        }
       ],
       "layout": {
        "title": {
         "text": "Download speed by device  to the date 2019-02-06 21:07:22"
        },
        "xaxis": {
         "title": {
          "text": ""
         }
        },
        "yaxis": {
         "rangemode": "tozero",
         "title": {
          "text": "Mbps"
         }
        }
       }
      },
      "text/html": [
       "<div id=\"25230beb-610f-4b5d-8a22-b9e69fe3de7d\" style=\"height: 525px; width: 100%;\" class=\"plotly-graph-div\"></div><script type=\"text/javascript\">require([\"plotly\"], function(Plotly) { window.PLOTLYENV=window.PLOTLYENV || {};window.PLOTLYENV.BASE_URL=\"https://plot.ly\";Plotly.newPlot(\"25230beb-610f-4b5d-8a22-b9e69fe3de7d\", [{\"marker\": {\"color\": \"#222222\"}, \"name\": \"1\", \"y\": [3.2256, 6.123520000000001, 6.22592, 9.66656], \"type\": \"box\", \"uid\": \"f59bb426-62a9-4739-a6b4-2b4c50c3c3ed\"}, {\"marker\": {\"color\": \"#F3C300\"}, \"name\": \"2\", \"y\": [7.7312, 4.72064, 4.5056, 9.984, 4.9356800000000005, 4.9356800000000005, 2.03776, 9.12384, 11.1616, 4.83328, 7.7312, 11.3664, 10.8544, 1.29024, 10.199, 2.6828800000000004, 6.656000000000001, 10.199, 6.76864, 9.8816, 8.26368, 6.33856, 5.90848, 10.649600000000001, 11.8784, 7.08608, 5.365760000000001, 3.65568, 5.79584, 9.33888, 5.4784, 5.4784, 2.89792, 10.649600000000001, 10.199, 4.72064, 1.8227200000000001, 6.656000000000001, 3.54304, 5.4784, 1.60768, 2.2528, 4.29056, 4.61824, 4.4032, 5.150720000000001, 4.4032, 1.0752000000000002, 7.08608, 4.18816, 2.03776, 0.629, 1.39264, 2.7955200000000002, 5.0483199999999995, 7.08608, 3.86048, 4.18816, 7.7312, 7.61856, 0.21, 9.02144, 6.76864, 4.29056, 4.5056, 2.03776, 1.60768, 6.01088, 3.86048, 2.36544, 2.36544, 0.839, 1.29024, 4.18816, 6.76864, 6.123520000000001, 3.44064, 1.72032, 3.54304, 2.2528, 5.79584, 2.7955200000000002, 1.39264, 0.315, 4.9356800000000005, 5.90848, 5.79584, 6.01088, 5.4784, 6.656000000000001, 5.4784, 8.47872, 10.199, 10.0966, 6.9836800000000006, 8.9088, 8.16128, 9.66656, 9.66656, 7.51616, 5.79584, 8.04864, 11.1616, 11.8784, 6.76864], \"type\": \"box\", \"uid\": \"14519011-0255-4072-b58d-f4538b295cb8\"}, {\"marker\": {\"color\": \"#875692\"}, \"name\": \"3\", \"y\": [31.0272, 35.5328, 34.5088, 30.6176, 14.540799999999999, 35.2256, 35.6352, 35.1232, 34.816, 35.5328, 35.6352, 35.4304, 31.744, 41.062400000000004, 41.67680000000001, 42.086400000000005, 42.086400000000005, 41.984, 41.16480000000001, 39.2192, 27.3408], \"type\": \"box\", \"uid\": \"a94575ec-a184-4a54-99b9-e13d5ce1bea0\"}, {\"marker\": {\"color\": \"#F38400\"}, \"name\": \"4\", \"y\": [3.75808, 3.75808, 3.75808, 3.9731199999999998, 3.44064, 3.86048, 4.07552, 3.86048, 3.54304, 4.07552, 4.07552, 3.86048, 3.86048, 3.86048, 3.86048, 4.07552, 3.75808, 2.58048, 3.75808, 3.9731199999999998, 3.86048, 3.9731199999999998, 3.75808, 3.86048, 0.315, 3.86048, 3.86048, 3.86048, 3.65568, 3.9731199999999998, 3.86048, 3.9731199999999998, 3.9731199999999998, 3.86048, 3.86048, 3.9731199999999998, 3.86048, 3.65568, 3.86048, 3.65568, 3.75808, 3.86048, 2.36544, 3.65568, 3.9731199999999998, 3.9731199999999998, 4.07552, 3.86048, 3.65568, 3.75808, 3.86048, 3.86048, 3.65568, 3.9731199999999998, 3.86048, 3.9731199999999998, 3.86048, 3.86048, 3.86048, 3.75808, 3.75808, 3.86048, 3.86048, 3.9731199999999998, 3.86048, 3.86048, 3.86048, 3.65568, 3.86048, 3.75808], \"type\": \"box\", \"uid\": \"15247267-3d88-4b2e-8aa2-52914df88fbe\"}, {\"marker\": {\"color\": \"#A1CAF1\"}, \"name\": \"5\", \"y\": [5.365760000000001, 5.90848, 5.26336, 6.76864, 5.79584, 6.76864, 5.150720000000001, 6.87104, 6.5536, 6.87104, 6.87104, 6.76864, 6.87104, 6.33856, 3.75808, 6.87104, 5.79584, 5.365760000000001, 5.79584, 6.4409600000000005, 6.5536, 5.4784, 6.76864, 6.4409600000000005, 5.26336, 6.01088, 6.76864, 6.76864, 6.76864, 6.87104, 6.656000000000001, 3.65568, 6.76864, 6.76864, 6.76864, 6.33856, 6.22592, 5.365760000000001, 5.4784, 6.01088, 6.656000000000001, 6.33856, 6.76864, 6.76864, 1.8227200000000001, 6.123520000000001, 6.76864, 6.33856, 6.123520000000001, 6.01088, 6.76864, 6.4409600000000005, 3.75808, 6.22592, 4.29056, 6.656000000000001, 6.656000000000001, 6.5536, 6.76864, 5.365760000000001, 1.60768, 6.76864, 6.656000000000001, 0.9440000000000001, 1.8227200000000001, 4.4032, 1.39264, 1.39264, 0.839, 5.69344, 6.76864, 6.656000000000001, 1.60768, 5.90848, 6.76864, 6.33856, 6.76864, 0.21, 3.75808, 6.4409600000000005, 2.7955200000000002, 6.76864], \"type\": \"box\", \"uid\": \"c6c31b50-cd18-47f6-b7d8-91c66fb2b789\"}, {\"marker\": {\"color\": \"#BE0032\"}, \"name\": \"6\", \"y\": [3.86048, 6.656000000000001, 6.01088, 5.79584, 6.4409600000000005, 6.54336, 3.44064, 3.2256, 6.656000000000001, 6.01088, 5.79584, 5.69344, 3.75808, 1.8227200000000001, 6.656000000000001, 6.5536, 4.18816, 2.7955200000000002, 5.5808, 1.72032, 5.69344, 6.01088, 5.79584, 6.01088, 1.8227200000000001, 5.5808], \"type\": \"box\", \"uid\": \"a412be7f-71b0-4be8-9125-365a2927d4aa\"}, {\"marker\": {\"color\": \"#C2B280\"}, \"name\": \"7\", \"y\": [7.51616, 8.26368, 9.12384, 6.87104, 7.51616, 8.37632, 4.9356800000000005, 8.37632, 5.69344, 3.3280000000000003, 3.01056, 5.4784, 7.413760000000001, 6.87104, 6.87104, 8.16128, 5.150720000000001, 6.9836800000000006, 7.9462399999999995, 8.04864, 7.51616, 7.30112, 6.01088, 5.79584, 7.198720000000001, 10.3424, 8.26368, 6.87104, 8.16128, 6.5536, 5.5808, 5.26336, 6.76864, 6.76864, 2.58048, 3.65568, 6.4409600000000005, 7.198720000000001, 6.9836800000000006, 6.5536, 5.69344, 6.87104, 7.7312, 6.656000000000001, 4.83328, 3.44064, 7.51616, 5.79584, 8.59136, 5.26336, 6.656000000000001], \"type\": \"box\", \"uid\": \"fee3ba58-49d6-461b-b9ce-6188a8401a01\"}, {\"marker\": {\"color\": \"#848482\"}, \"name\": \"8\", \"y\": [38.809599999999996, 38.4], \"type\": \"box\", \"uid\": \"14f2d7a2-554f-4af4-b9ef-bc08de94334f\"}, {\"marker\": {\"color\": \"#008856\"}, \"name\": \"9\", \"y\": [30.208000000000002, 19.456, 30.6176, 30.3104, 31.744, 29.2864, 18.0224, 14.6432], \"type\": \"box\", \"uid\": \"039cf953-05d9-45e7-8fad-b59a93a6ebc0\"}, {\"marker\": {\"color\": \"#E68FAC\"}, \"name\": \"11\", \"y\": [12.288, 10.752, 2.2528], \"type\": \"box\", \"uid\": \"f824647f-1212-4f78-b1d9-c34dacbf24cf\"}, {\"marker\": {\"color\": \"#0067A5\"}, \"name\": \"12\", \"y\": [15.2576, 14.848, 14.233600000000001, 10.649600000000001], \"type\": \"box\", \"uid\": \"1a663401-6fcc-440a-8443-dfcc4101bd74\"}, {\"marker\": {\"color\": \"red\"}, \"mode\": \"markers\", \"name\": \"50Mbps\", \"x\": [1, 2, 3, 4, 5, 6, 7, 8, 9, 11, 12], \"y\": [50, 50, 50, 50, 50, 50, 50, 50, 50, 50, 50], \"type\": \"scatter\", \"uid\": \"d31cbf00-137b-47fb-bdc8-44c461fef3f0\"}], {\"title\": {\"text\": \"Download speed by device  to the date 2019-02-06 21:07:22\"}, \"xaxis\": {\"title\": {\"text\": \"\"}}, \"yaxis\": {\"rangemode\": \"tozero\", \"title\": {\"text\": \"Mbps\"}}}, {\"showLink\": false, \"linkText\": \"Export to plot.ly\", \"plotlyServerURL\": \"https://plot.ly\"})});</script><script type=\"text/javascript\">window.addEventListener(\"resize\", function(){window._Plotly.Plots.resize(document.getElementById(\"25230beb-610f-4b5d-8a22-b9e69fe3de7d\"));});</script>"
      ],
      "text/vnd.plotly.v1+html": [
       "<div id=\"25230beb-610f-4b5d-8a22-b9e69fe3de7d\" style=\"height: 525px; width: 100%;\" class=\"plotly-graph-div\"></div><script type=\"text/javascript\">require([\"plotly\"], function(Plotly) { window.PLOTLYENV=window.PLOTLYENV || {};window.PLOTLYENV.BASE_URL=\"https://plot.ly\";Plotly.newPlot(\"25230beb-610f-4b5d-8a22-b9e69fe3de7d\", [{\"marker\": {\"color\": \"#222222\"}, \"name\": \"1\", \"y\": [3.2256, 6.123520000000001, 6.22592, 9.66656], \"type\": \"box\", \"uid\": \"f59bb426-62a9-4739-a6b4-2b4c50c3c3ed\"}, {\"marker\": {\"color\": \"#F3C300\"}, \"name\": \"2\", \"y\": [7.7312, 4.72064, 4.5056, 9.984, 4.9356800000000005, 4.9356800000000005, 2.03776, 9.12384, 11.1616, 4.83328, 7.7312, 11.3664, 10.8544, 1.29024, 10.199, 2.6828800000000004, 6.656000000000001, 10.199, 6.76864, 9.8816, 8.26368, 6.33856, 5.90848, 10.649600000000001, 11.8784, 7.08608, 5.365760000000001, 3.65568, 5.79584, 9.33888, 5.4784, 5.4784, 2.89792, 10.649600000000001, 10.199, 4.72064, 1.8227200000000001, 6.656000000000001, 3.54304, 5.4784, 1.60768, 2.2528, 4.29056, 4.61824, 4.4032, 5.150720000000001, 4.4032, 1.0752000000000002, 7.08608, 4.18816, 2.03776, 0.629, 1.39264, 2.7955200000000002, 5.0483199999999995, 7.08608, 3.86048, 4.18816, 7.7312, 7.61856, 0.21, 9.02144, 6.76864, 4.29056, 4.5056, 2.03776, 1.60768, 6.01088, 3.86048, 2.36544, 2.36544, 0.839, 1.29024, 4.18816, 6.76864, 6.123520000000001, 3.44064, 1.72032, 3.54304, 2.2528, 5.79584, 2.7955200000000002, 1.39264, 0.315, 4.9356800000000005, 5.90848, 5.79584, 6.01088, 5.4784, 6.656000000000001, 5.4784, 8.47872, 10.199, 10.0966, 6.9836800000000006, 8.9088, 8.16128, 9.66656, 9.66656, 7.51616, 5.79584, 8.04864, 11.1616, 11.8784, 6.76864], \"type\": \"box\", \"uid\": \"14519011-0255-4072-b58d-f4538b295cb8\"}, {\"marker\": {\"color\": \"#875692\"}, \"name\": \"3\", \"y\": [31.0272, 35.5328, 34.5088, 30.6176, 14.540799999999999, 35.2256, 35.6352, 35.1232, 34.816, 35.5328, 35.6352, 35.4304, 31.744, 41.062400000000004, 41.67680000000001, 42.086400000000005, 42.086400000000005, 41.984, 41.16480000000001, 39.2192, 27.3408], \"type\": \"box\", \"uid\": \"a94575ec-a184-4a54-99b9-e13d5ce1bea0\"}, {\"marker\": {\"color\": \"#F38400\"}, \"name\": \"4\", \"y\": [3.75808, 3.75808, 3.75808, 3.9731199999999998, 3.44064, 3.86048, 4.07552, 3.86048, 3.54304, 4.07552, 4.07552, 3.86048, 3.86048, 3.86048, 3.86048, 4.07552, 3.75808, 2.58048, 3.75808, 3.9731199999999998, 3.86048, 3.9731199999999998, 3.75808, 3.86048, 0.315, 3.86048, 3.86048, 3.86048, 3.65568, 3.9731199999999998, 3.86048, 3.9731199999999998, 3.9731199999999998, 3.86048, 3.86048, 3.9731199999999998, 3.86048, 3.65568, 3.86048, 3.65568, 3.75808, 3.86048, 2.36544, 3.65568, 3.9731199999999998, 3.9731199999999998, 4.07552, 3.86048, 3.65568, 3.75808, 3.86048, 3.86048, 3.65568, 3.9731199999999998, 3.86048, 3.9731199999999998, 3.86048, 3.86048, 3.86048, 3.75808, 3.75808, 3.86048, 3.86048, 3.9731199999999998, 3.86048, 3.86048, 3.86048, 3.65568, 3.86048, 3.75808], \"type\": \"box\", \"uid\": \"15247267-3d88-4b2e-8aa2-52914df88fbe\"}, {\"marker\": {\"color\": \"#A1CAF1\"}, \"name\": \"5\", \"y\": [5.365760000000001, 5.90848, 5.26336, 6.76864, 5.79584, 6.76864, 5.150720000000001, 6.87104, 6.5536, 6.87104, 6.87104, 6.76864, 6.87104, 6.33856, 3.75808, 6.87104, 5.79584, 5.365760000000001, 5.79584, 6.4409600000000005, 6.5536, 5.4784, 6.76864, 6.4409600000000005, 5.26336, 6.01088, 6.76864, 6.76864, 6.76864, 6.87104, 6.656000000000001, 3.65568, 6.76864, 6.76864, 6.76864, 6.33856, 6.22592, 5.365760000000001, 5.4784, 6.01088, 6.656000000000001, 6.33856, 6.76864, 6.76864, 1.8227200000000001, 6.123520000000001, 6.76864, 6.33856, 6.123520000000001, 6.01088, 6.76864, 6.4409600000000005, 3.75808, 6.22592, 4.29056, 6.656000000000001, 6.656000000000001, 6.5536, 6.76864, 5.365760000000001, 1.60768, 6.76864, 6.656000000000001, 0.9440000000000001, 1.8227200000000001, 4.4032, 1.39264, 1.39264, 0.839, 5.69344, 6.76864, 6.656000000000001, 1.60768, 5.90848, 6.76864, 6.33856, 6.76864, 0.21, 3.75808, 6.4409600000000005, 2.7955200000000002, 6.76864], \"type\": \"box\", \"uid\": \"c6c31b50-cd18-47f6-b7d8-91c66fb2b789\"}, {\"marker\": {\"color\": \"#BE0032\"}, \"name\": \"6\", \"y\": [3.86048, 6.656000000000001, 6.01088, 5.79584, 6.4409600000000005, 6.54336, 3.44064, 3.2256, 6.656000000000001, 6.01088, 5.79584, 5.69344, 3.75808, 1.8227200000000001, 6.656000000000001, 6.5536, 4.18816, 2.7955200000000002, 5.5808, 1.72032, 5.69344, 6.01088, 5.79584, 6.01088, 1.8227200000000001, 5.5808], \"type\": \"box\", \"uid\": \"a412be7f-71b0-4be8-9125-365a2927d4aa\"}, {\"marker\": {\"color\": \"#C2B280\"}, \"name\": \"7\", \"y\": [7.51616, 8.26368, 9.12384, 6.87104, 7.51616, 8.37632, 4.9356800000000005, 8.37632, 5.69344, 3.3280000000000003, 3.01056, 5.4784, 7.413760000000001, 6.87104, 6.87104, 8.16128, 5.150720000000001, 6.9836800000000006, 7.9462399999999995, 8.04864, 7.51616, 7.30112, 6.01088, 5.79584, 7.198720000000001, 10.3424, 8.26368, 6.87104, 8.16128, 6.5536, 5.5808, 5.26336, 6.76864, 6.76864, 2.58048, 3.65568, 6.4409600000000005, 7.198720000000001, 6.9836800000000006, 6.5536, 5.69344, 6.87104, 7.7312, 6.656000000000001, 4.83328, 3.44064, 7.51616, 5.79584, 8.59136, 5.26336, 6.656000000000001], \"type\": \"box\", \"uid\": \"fee3ba58-49d6-461b-b9ce-6188a8401a01\"}, {\"marker\": {\"color\": \"#848482\"}, \"name\": \"8\", \"y\": [38.809599999999996, 38.4], \"type\": \"box\", \"uid\": \"14f2d7a2-554f-4af4-b9ef-bc08de94334f\"}, {\"marker\": {\"color\": \"#008856\"}, \"name\": \"9\", \"y\": [30.208000000000002, 19.456, 30.6176, 30.3104, 31.744, 29.2864, 18.0224, 14.6432], \"type\": \"box\", \"uid\": \"039cf953-05d9-45e7-8fad-b59a93a6ebc0\"}, {\"marker\": {\"color\": \"#E68FAC\"}, \"name\": \"11\", \"y\": [12.288, 10.752, 2.2528], \"type\": \"box\", \"uid\": \"f824647f-1212-4f78-b1d9-c34dacbf24cf\"}, {\"marker\": {\"color\": \"#0067A5\"}, \"name\": \"12\", \"y\": [15.2576, 14.848, 14.233600000000001, 10.649600000000001], \"type\": \"box\", \"uid\": \"1a663401-6fcc-440a-8443-dfcc4101bd74\"}, {\"marker\": {\"color\": \"red\"}, \"mode\": \"markers\", \"name\": \"50Mbps\", \"x\": [1, 2, 3, 4, 5, 6, 7, 8, 9, 11, 12], \"y\": [50, 50, 50, 50, 50, 50, 50, 50, 50, 50, 50], \"type\": \"scatter\", \"uid\": \"d31cbf00-137b-47fb-bdc8-44c461fef3f0\"}], {\"title\": {\"text\": \"Download speed by device  to the date 2019-02-06 21:07:22\"}, \"xaxis\": {\"title\": {\"text\": \"\"}}, \"yaxis\": {\"rangemode\": \"tozero\", \"title\": {\"text\": \"Mbps\"}}}, {\"showLink\": false, \"linkText\": \"Export to plot.ly\", \"plotlyServerURL\": \"https://plot.ly\"})});</script><script type=\"text/javascript\">window.addEventListener(\"resize\", function(){window._Plotly.Plots.resize(document.getElementById(\"25230beb-610f-4b5d-8a22-b9e69fe3de7d\"));});</script>"
      ]
     },
     "metadata": {},
     "output_type": "display_data"
    }
   ],
   "source": [
    "simple_boxplot(dataframe=download_df,plot_value='DOWNLOAD',sort_value='SK_PI',\n",
    "               title=\"Download speed by device \"+ title_tail,\n",
    "               ytitle=\"Mbps\", downloadline=True)"
   ]
  },
  {
   "cell_type": "code",
   "execution_count": 40,
   "metadata": {},
   "outputs": [
    {
     "data": {
      "application/vnd.plotly.v1+json": {
       "config": {
        "linkText": "Export to plot.ly",
        "plotlyServerURL": "https://plot.ly",
        "showLink": false
       },
       "data": [
        {
         "marker": {
          "color": "#222222"
         },
         "name": "1",
         "type": "box",
         "uid": "e7b90a66-e00f-4444-bd56-463b2cadb7c9",
         "y": [
          0.6980000000000001,
          0.656,
          0.844,
          0.631
         ]
        },
        {
         "marker": {
          "color": "#F3C300"
         },
         "name": "2",
         "type": "box",
         "uid": "1401d5a5-6aaa-4d17-afde-17deaa04f338",
         "y": [
          0.863,
          1.90464,
          1.41312,
          4.21888,
          2.03776,
          1.88416,
          0.733,
          1.44384,
          4.94592,
          1.10592,
          2.0582399999999996,
          5.53984,
          5.87776,
          1.13664,
          3.33824,
          1.3824,
          2.03776,
          3.33824,
          2.77504,
          4.0448,
          0.937,
          2.10944,
          1.46432,
          4.2598400000000005,
          5.058560000000001,
          1.024,
          3.92192,
          0.9390000000000001,
          3.85024,
          2.5907199999999997,
          1.92512,
          3.6351999999999998,
          1.24928,
          3.75808,
          2.34496,
          0.182,
          0.051000000000000004,
          1.16736,
          0.34900000000000003,
          0.877,
          0.256,
          0.13,
          0.303,
          0.41400000000000003,
          0.454,
          0.433,
          0.111,
          0.0915,
          0.47700000000000004,
          0.733,
          0.316,
          0.0741,
          0.28700000000000003,
          0.6950000000000001,
          0.436,
          0.43,
          0.263,
          0.242,
          0.397,
          0.395,
          0.0232,
          0.5700000000000001,
          0.533,
          0.0707,
          0.18,
          0.114,
          0.308,
          0.49,
          0.195,
          0.316,
          0.838,
          0.0683,
          0.0579,
          0.517,
          0.78,
          0.507,
          0.352,
          0.229,
          0.493,
          0.326,
          0.504,
          0.262,
          0.248,
          0.0232,
          0.276,
          0.7030000000000001,
          0.221,
          0.111,
          0.225,
          0.295,
          0.0707,
          4.4544,
          5.6115200000000005,
          2.18112,
          2.4678400000000003,
          1.41312,
          2.16064,
          4.90496,
          4.29056,
          2.5907199999999997,
          1.8534400000000002,
          2.44736,
          5.69344,
          6.49216,
          3.42016
         ]
        },
        {
         "marker": {
          "color": "#875692"
         },
         "name": "3",
         "type": "box",
         "uid": "06174ee7-4f6b-43a8-a406-770bb6f70bd7",
         "y": [
          4.9356800000000005,
          6.000640000000001,
          2.01728,
          2.7648,
          13.312000000000001,
          6.77888,
          17.8176,
          4.21888,
          1.55648,
          20.48,
          10.3424,
          8.64256,
          10.1478,
          17.6128,
          3.7068800000000004,
          2.9491199999999997,
          12.3904,
          2.85696,
          3.6147199999999997,
          2.8057600000000003,
          2.5292800000000004
         ]
        },
        {
         "marker": {
          "color": "#F38400"
         },
         "name": "4",
         "type": "box",
         "uid": "48666238-a9b5-4a9c-8737-629fe8d324b5",
         "y": [
          0.739,
          0.785,
          0.724,
          0.723,
          0.8,
          0.802,
          0.5720000000000001,
          0.665,
          0.776,
          0.804,
          0.804,
          0.51,
          0.653,
          0.767,
          0.787,
          0.742,
          0.724,
          0.6930000000000001,
          0.725,
          0.77,
          0.504,
          0.5710000000000001,
          0.806,
          0.766,
          0.602,
          0.741,
          0.719,
          0.74,
          0.732,
          0.767,
          0.767,
          0.723,
          0.723,
          0.842,
          0.76,
          0.742,
          0.767,
          0.766,
          0.766,
          0.768,
          0.762,
          0.769,
          0.672,
          0.723,
          0.768,
          0.78,
          0.72,
          0.763,
          0.773,
          0.778,
          0.78,
          0.722,
          0.764,
          0.724,
          0.77,
          0.77,
          0.769,
          0.767,
          0.753,
          0.723,
          0.767,
          0.775,
          0.792,
          0.78,
          0.834,
          0.768,
          0.787,
          0.723,
          0.8310000000000001,
          0.718
         ]
        },
        {
         "marker": {
          "color": "#A1CAF1"
         },
         "name": "5",
         "type": "box",
         "uid": "746fc2ae-2143-456c-8a4e-884f313b2d93",
         "y": [
          0.514,
          0.5740000000000001,
          0.5740000000000001,
          0.541,
          0.608,
          0.558,
          0.5660000000000001,
          0.5740000000000001,
          0.56,
          0.541,
          0.5740000000000001,
          0.544,
          0.15,
          0.5740000000000001,
          0.536,
          0.5740000000000001,
          0.5740000000000001,
          0.41600000000000004,
          0.362,
          0.532,
          0.518,
          0.487,
          0.485,
          0.461,
          0.532,
          0.556,
          0.496,
          0.5740000000000001,
          0.598,
          0.518,
          0.463,
          0.41500000000000004,
          0.457,
          0.47900000000000004,
          0.518,
          0.589,
          0.54,
          0.495,
          0.548,
          0.526,
          0.481,
          0.514,
          0.601,
          0.596,
          0.491,
          0.62,
          0.518,
          0.493,
          0.598,
          0.5740000000000001,
          0.495,
          0.53,
          0.488,
          0.555,
          0.447,
          0.481,
          0.522,
          0.601,
          0.47900000000000004,
          0.47800000000000004,
          0.4,
          0.519,
          0.556,
          0.34900000000000003,
          0.34700000000000003,
          0.505,
          0.419,
          0.389,
          0.404,
          0.515,
          0.525,
          0.525,
          0.528,
          0.47900000000000004,
          0.601,
          0.481,
          0.6,
          0.17200000000000001,
          0.505,
          0.554,
          0.425,
          0.596
         ]
        },
        {
         "marker": {
          "color": "#BE0032"
         },
         "name": "6",
         "type": "box",
         "uid": "5b54360a-f454-4e28-a89d-ed5a2b9d8bed",
         "y": [
          0.848,
          0.795,
          0.798,
          0.85,
          0.809,
          0.855,
          0.783,
          0.802,
          0.926,
          0.8180000000000001,
          0.852,
          0.859,
          0.783,
          0.799,
          0.807,
          0.878,
          0.20500000000000002,
          0.718,
          0.869,
          0.8290000000000001,
          0.79,
          0.8270000000000001,
          0.312,
          0.875,
          0.764,
          0.712
         ]
        },
        {
         "marker": {
          "color": "#C2B280"
         },
         "name": "7",
         "type": "box",
         "uid": "b91fb7ff-eba3-48db-836f-ed0d6e9ec005",
         "y": [
          6.307840000000001,
          5.94944,
          4.90496,
          4.4544,
          5.71392,
          7.7312,
          6.656000000000001,
          3.6147199999999997,
          3.2256,
          1.92512,
          2.63168,
          6.4204799999999995,
          2.99008,
          3.52256,
          6.307840000000001,
          4.49536,
          4.75136,
          3.9731199999999998,
          3.42016,
          3.7888,
          5.4784,
          6.90176,
          6.06208,
          3.85024,
          5.6832,
          5.67296,
          8.1408,
          5.12,
          3.77856,
          5.16096,
          4.167680000000001,
          3.0003200000000003,
          4.83328,
          3.29728,
          0.659,
          2.06848,
          2.92864,
          4.976640000000001,
          3.3075200000000002,
          5.57056,
          4.5568,
          4.300800000000001,
          2.89792,
          5.632,
          3.35872,
          2.18112,
          5.26336,
          4.66944,
          3.38944,
          4.0857600000000005,
          4.31104
         ]
        },
        {
         "marker": {
          "color": "#848482"
         },
         "name": "8",
         "type": "box",
         "uid": "fd3538ad-f9ba-46d5-9ae9-b1b3b522679f",
         "y": [
          4.03456,
          6.8096000000000005
         ]
        },
        {
         "marker": {
          "color": "#008856"
         },
         "name": "9",
         "type": "box",
         "uid": "6bb0efb3-e6be-40ce-97fb-778dedf4bd15",
         "y": [
          5.67296,
          2.048,
          4.29056,
          3.1334400000000002,
          6.522880000000001,
          7.4444799999999995,
          2.1504000000000003,
          3.20512
         ]
        },
        {
         "marker": {
          "color": "#E68FAC"
         },
         "name": "11",
         "type": "box",
         "uid": "3f1da41a-2c2d-4d6b-b537-250e8789f9e8",
         "y": [
          1.6384,
          1.66912,
          1.44384
         ]
        },
        {
         "marker": {
          "color": "#0067A5"
         },
         "name": "12",
         "type": "box",
         "uid": "4297278f-60eb-4ca8-aceb-39893a84d573",
         "y": [
          1.77152,
          2.53952,
          3.23584,
          2.44736
         ]
        },
        {
         "marker": {
          "color": "red"
         },
         "mode": "markers",
         "name": "10Mbps",
         "type": "scatter",
         "uid": "9fad5398-6f5a-425b-87d5-7b39867b8d68",
         "x": [
          1,
          2,
          3,
          4,
          5,
          6,
          7,
          8,
          9,
          11,
          12
         ],
         "y": [
          10,
          10,
          10,
          10,
          10,
          10,
          10,
          10,
          10,
          10,
          10
         ]
        }
       ],
       "layout": {
        "title": {
         "text": "Upload speed by device  to the date 2019-02-06 21:07:22"
        },
        "xaxis": {
         "title": {
          "text": ""
         }
        },
        "yaxis": {
         "rangemode": "tozero",
         "title": {
          "text": "Mbps"
         }
        }
       }
      },
      "text/html": [
       "<div id=\"de12750b-62eb-4fef-9cff-f841b8e7de21\" style=\"height: 525px; width: 100%;\" class=\"plotly-graph-div\"></div><script type=\"text/javascript\">require([\"plotly\"], function(Plotly) { window.PLOTLYENV=window.PLOTLYENV || {};window.PLOTLYENV.BASE_URL=\"https://plot.ly\";Plotly.newPlot(\"de12750b-62eb-4fef-9cff-f841b8e7de21\", [{\"marker\": {\"color\": \"#222222\"}, \"name\": \"1\", \"y\": [0.6980000000000001, 0.656, 0.844, 0.631], \"type\": \"box\", \"uid\": \"e7b90a66-e00f-4444-bd56-463b2cadb7c9\"}, {\"marker\": {\"color\": \"#F3C300\"}, \"name\": \"2\", \"y\": [0.863, 1.90464, 1.41312, 4.21888, 2.03776, 1.88416, 0.733, 1.44384, 4.94592, 1.10592, 2.0582399999999996, 5.53984, 5.87776, 1.13664, 3.33824, 1.3824, 2.03776, 3.33824, 2.77504, 4.0448, 0.937, 2.10944, 1.46432, 4.2598400000000005, 5.058560000000001, 1.024, 3.92192, 0.9390000000000001, 3.85024, 2.5907199999999997, 1.92512, 3.6351999999999998, 1.24928, 3.75808, 2.34496, 0.182, 0.051000000000000004, 1.16736, 0.34900000000000003, 0.877, 0.256, 0.13, 0.303, 0.41400000000000003, 0.454, 0.433, 0.111, 0.0915, 0.47700000000000004, 0.733, 0.316, 0.0741, 0.28700000000000003, 0.6950000000000001, 0.436, 0.43, 0.263, 0.242, 0.397, 0.395, 0.0232, 0.5700000000000001, 0.533, 0.0707, 0.18, 0.114, 0.308, 0.49, 0.195, 0.316, 0.838, 0.0683, 0.0579, 0.517, 0.78, 0.507, 0.352, 0.229, 0.493, 0.326, 0.504, 0.262, 0.248, 0.0232, 0.276, 0.7030000000000001, 0.221, 0.111, 0.225, 0.295, 0.0707, 4.4544, 5.6115200000000005, 2.18112, 2.4678400000000003, 1.41312, 2.16064, 4.90496, 4.29056, 2.5907199999999997, 1.8534400000000002, 2.44736, 5.69344, 6.49216, 3.42016], \"type\": \"box\", \"uid\": \"1401d5a5-6aaa-4d17-afde-17deaa04f338\"}, {\"marker\": {\"color\": \"#875692\"}, \"name\": \"3\", \"y\": [4.9356800000000005, 6.000640000000001, 2.01728, 2.7648, 13.312000000000001, 6.77888, 17.8176, 4.21888, 1.55648, 20.48, 10.3424, 8.64256, 10.1478, 17.6128, 3.7068800000000004, 2.9491199999999997, 12.3904, 2.85696, 3.6147199999999997, 2.8057600000000003, 2.5292800000000004], \"type\": \"box\", \"uid\": \"06174ee7-4f6b-43a8-a406-770bb6f70bd7\"}, {\"marker\": {\"color\": \"#F38400\"}, \"name\": \"4\", \"y\": [0.739, 0.785, 0.724, 0.723, 0.8, 0.802, 0.5720000000000001, 0.665, 0.776, 0.804, 0.804, 0.51, 0.653, 0.767, 0.787, 0.742, 0.724, 0.6930000000000001, 0.725, 0.77, 0.504, 0.5710000000000001, 0.806, 0.766, 0.602, 0.741, 0.719, 0.74, 0.732, 0.767, 0.767, 0.723, 0.723, 0.842, 0.76, 0.742, 0.767, 0.766, 0.766, 0.768, 0.762, 0.769, 0.672, 0.723, 0.768, 0.78, 0.72, 0.763, 0.773, 0.778, 0.78, 0.722, 0.764, 0.724, 0.77, 0.77, 0.769, 0.767, 0.753, 0.723, 0.767, 0.775, 0.792, 0.78, 0.834, 0.768, 0.787, 0.723, 0.8310000000000001, 0.718], \"type\": \"box\", \"uid\": \"48666238-a9b5-4a9c-8737-629fe8d324b5\"}, {\"marker\": {\"color\": \"#A1CAF1\"}, \"name\": \"5\", \"y\": [0.514, 0.5740000000000001, 0.5740000000000001, 0.541, 0.608, 0.558, 0.5660000000000001, 0.5740000000000001, 0.56, 0.541, 0.5740000000000001, 0.544, 0.15, 0.5740000000000001, 0.536, 0.5740000000000001, 0.5740000000000001, 0.41600000000000004, 0.362, 0.532, 0.518, 0.487, 0.485, 0.461, 0.532, 0.556, 0.496, 0.5740000000000001, 0.598, 0.518, 0.463, 0.41500000000000004, 0.457, 0.47900000000000004, 0.518, 0.589, 0.54, 0.495, 0.548, 0.526, 0.481, 0.514, 0.601, 0.596, 0.491, 0.62, 0.518, 0.493, 0.598, 0.5740000000000001, 0.495, 0.53, 0.488, 0.555, 0.447, 0.481, 0.522, 0.601, 0.47900000000000004, 0.47800000000000004, 0.4, 0.519, 0.556, 0.34900000000000003, 0.34700000000000003, 0.505, 0.419, 0.389, 0.404, 0.515, 0.525, 0.525, 0.528, 0.47900000000000004, 0.601, 0.481, 0.6, 0.17200000000000001, 0.505, 0.554, 0.425, 0.596], \"type\": \"box\", \"uid\": \"746fc2ae-2143-456c-8a4e-884f313b2d93\"}, {\"marker\": {\"color\": \"#BE0032\"}, \"name\": \"6\", \"y\": [0.848, 0.795, 0.798, 0.85, 0.809, 0.855, 0.783, 0.802, 0.926, 0.8180000000000001, 0.852, 0.859, 0.783, 0.799, 0.807, 0.878, 0.20500000000000002, 0.718, 0.869, 0.8290000000000001, 0.79, 0.8270000000000001, 0.312, 0.875, 0.764, 0.712], \"type\": \"box\", \"uid\": \"5b54360a-f454-4e28-a89d-ed5a2b9d8bed\"}, {\"marker\": {\"color\": \"#C2B280\"}, \"name\": \"7\", \"y\": [6.307840000000001, 5.94944, 4.90496, 4.4544, 5.71392, 7.7312, 6.656000000000001, 3.6147199999999997, 3.2256, 1.92512, 2.63168, 6.4204799999999995, 2.99008, 3.52256, 6.307840000000001, 4.49536, 4.75136, 3.9731199999999998, 3.42016, 3.7888, 5.4784, 6.90176, 6.06208, 3.85024, 5.6832, 5.67296, 8.1408, 5.12, 3.77856, 5.16096, 4.167680000000001, 3.0003200000000003, 4.83328, 3.29728, 0.659, 2.06848, 2.92864, 4.976640000000001, 3.3075200000000002, 5.57056, 4.5568, 4.300800000000001, 2.89792, 5.632, 3.35872, 2.18112, 5.26336, 4.66944, 3.38944, 4.0857600000000005, 4.31104], \"type\": \"box\", \"uid\": \"b91fb7ff-eba3-48db-836f-ed0d6e9ec005\"}, {\"marker\": {\"color\": \"#848482\"}, \"name\": \"8\", \"y\": [4.03456, 6.8096000000000005], \"type\": \"box\", \"uid\": \"fd3538ad-f9ba-46d5-9ae9-b1b3b522679f\"}, {\"marker\": {\"color\": \"#008856\"}, \"name\": \"9\", \"y\": [5.67296, 2.048, 4.29056, 3.1334400000000002, 6.522880000000001, 7.4444799999999995, 2.1504000000000003, 3.20512], \"type\": \"box\", \"uid\": \"6bb0efb3-e6be-40ce-97fb-778dedf4bd15\"}, {\"marker\": {\"color\": \"#E68FAC\"}, \"name\": \"11\", \"y\": [1.6384, 1.66912, 1.44384], \"type\": \"box\", \"uid\": \"3f1da41a-2c2d-4d6b-b537-250e8789f9e8\"}, {\"marker\": {\"color\": \"#0067A5\"}, \"name\": \"12\", \"y\": [1.77152, 2.53952, 3.23584, 2.44736], \"type\": \"box\", \"uid\": \"4297278f-60eb-4ca8-aceb-39893a84d573\"}, {\"marker\": {\"color\": \"red\"}, \"mode\": \"markers\", \"name\": \"10Mbps\", \"x\": [1, 2, 3, 4, 5, 6, 7, 8, 9, 11, 12], \"y\": [10, 10, 10, 10, 10, 10, 10, 10, 10, 10, 10], \"type\": \"scatter\", \"uid\": \"9fad5398-6f5a-425b-87d5-7b39867b8d68\"}], {\"title\": {\"text\": \"Upload speed by device  to the date 2019-02-06 21:07:22\"}, \"xaxis\": {\"title\": {\"text\": \"\"}}, \"yaxis\": {\"rangemode\": \"tozero\", \"title\": {\"text\": \"Mbps\"}}}, {\"showLink\": false, \"linkText\": \"Export to plot.ly\", \"plotlyServerURL\": \"https://plot.ly\"})});</script><script type=\"text/javascript\">window.addEventListener(\"resize\", function(){window._Plotly.Plots.resize(document.getElementById(\"de12750b-62eb-4fef-9cff-f841b8e7de21\"));});</script>"
      ],
      "text/vnd.plotly.v1+html": [
       "<div id=\"de12750b-62eb-4fef-9cff-f841b8e7de21\" style=\"height: 525px; width: 100%;\" class=\"plotly-graph-div\"></div><script type=\"text/javascript\">require([\"plotly\"], function(Plotly) { window.PLOTLYENV=window.PLOTLYENV || {};window.PLOTLYENV.BASE_URL=\"https://plot.ly\";Plotly.newPlot(\"de12750b-62eb-4fef-9cff-f841b8e7de21\", [{\"marker\": {\"color\": \"#222222\"}, \"name\": \"1\", \"y\": [0.6980000000000001, 0.656, 0.844, 0.631], \"type\": \"box\", \"uid\": \"e7b90a66-e00f-4444-bd56-463b2cadb7c9\"}, {\"marker\": {\"color\": \"#F3C300\"}, \"name\": \"2\", \"y\": [0.863, 1.90464, 1.41312, 4.21888, 2.03776, 1.88416, 0.733, 1.44384, 4.94592, 1.10592, 2.0582399999999996, 5.53984, 5.87776, 1.13664, 3.33824, 1.3824, 2.03776, 3.33824, 2.77504, 4.0448, 0.937, 2.10944, 1.46432, 4.2598400000000005, 5.058560000000001, 1.024, 3.92192, 0.9390000000000001, 3.85024, 2.5907199999999997, 1.92512, 3.6351999999999998, 1.24928, 3.75808, 2.34496, 0.182, 0.051000000000000004, 1.16736, 0.34900000000000003, 0.877, 0.256, 0.13, 0.303, 0.41400000000000003, 0.454, 0.433, 0.111, 0.0915, 0.47700000000000004, 0.733, 0.316, 0.0741, 0.28700000000000003, 0.6950000000000001, 0.436, 0.43, 0.263, 0.242, 0.397, 0.395, 0.0232, 0.5700000000000001, 0.533, 0.0707, 0.18, 0.114, 0.308, 0.49, 0.195, 0.316, 0.838, 0.0683, 0.0579, 0.517, 0.78, 0.507, 0.352, 0.229, 0.493, 0.326, 0.504, 0.262, 0.248, 0.0232, 0.276, 0.7030000000000001, 0.221, 0.111, 0.225, 0.295, 0.0707, 4.4544, 5.6115200000000005, 2.18112, 2.4678400000000003, 1.41312, 2.16064, 4.90496, 4.29056, 2.5907199999999997, 1.8534400000000002, 2.44736, 5.69344, 6.49216, 3.42016], \"type\": \"box\", \"uid\": \"1401d5a5-6aaa-4d17-afde-17deaa04f338\"}, {\"marker\": {\"color\": \"#875692\"}, \"name\": \"3\", \"y\": [4.9356800000000005, 6.000640000000001, 2.01728, 2.7648, 13.312000000000001, 6.77888, 17.8176, 4.21888, 1.55648, 20.48, 10.3424, 8.64256, 10.1478, 17.6128, 3.7068800000000004, 2.9491199999999997, 12.3904, 2.85696, 3.6147199999999997, 2.8057600000000003, 2.5292800000000004], \"type\": \"box\", \"uid\": \"06174ee7-4f6b-43a8-a406-770bb6f70bd7\"}, {\"marker\": {\"color\": \"#F38400\"}, \"name\": \"4\", \"y\": [0.739, 0.785, 0.724, 0.723, 0.8, 0.802, 0.5720000000000001, 0.665, 0.776, 0.804, 0.804, 0.51, 0.653, 0.767, 0.787, 0.742, 0.724, 0.6930000000000001, 0.725, 0.77, 0.504, 0.5710000000000001, 0.806, 0.766, 0.602, 0.741, 0.719, 0.74, 0.732, 0.767, 0.767, 0.723, 0.723, 0.842, 0.76, 0.742, 0.767, 0.766, 0.766, 0.768, 0.762, 0.769, 0.672, 0.723, 0.768, 0.78, 0.72, 0.763, 0.773, 0.778, 0.78, 0.722, 0.764, 0.724, 0.77, 0.77, 0.769, 0.767, 0.753, 0.723, 0.767, 0.775, 0.792, 0.78, 0.834, 0.768, 0.787, 0.723, 0.8310000000000001, 0.718], \"type\": \"box\", \"uid\": \"48666238-a9b5-4a9c-8737-629fe8d324b5\"}, {\"marker\": {\"color\": \"#A1CAF1\"}, \"name\": \"5\", \"y\": [0.514, 0.5740000000000001, 0.5740000000000001, 0.541, 0.608, 0.558, 0.5660000000000001, 0.5740000000000001, 0.56, 0.541, 0.5740000000000001, 0.544, 0.15, 0.5740000000000001, 0.536, 0.5740000000000001, 0.5740000000000001, 0.41600000000000004, 0.362, 0.532, 0.518, 0.487, 0.485, 0.461, 0.532, 0.556, 0.496, 0.5740000000000001, 0.598, 0.518, 0.463, 0.41500000000000004, 0.457, 0.47900000000000004, 0.518, 0.589, 0.54, 0.495, 0.548, 0.526, 0.481, 0.514, 0.601, 0.596, 0.491, 0.62, 0.518, 0.493, 0.598, 0.5740000000000001, 0.495, 0.53, 0.488, 0.555, 0.447, 0.481, 0.522, 0.601, 0.47900000000000004, 0.47800000000000004, 0.4, 0.519, 0.556, 0.34900000000000003, 0.34700000000000003, 0.505, 0.419, 0.389, 0.404, 0.515, 0.525, 0.525, 0.528, 0.47900000000000004, 0.601, 0.481, 0.6, 0.17200000000000001, 0.505, 0.554, 0.425, 0.596], \"type\": \"box\", \"uid\": \"746fc2ae-2143-456c-8a4e-884f313b2d93\"}, {\"marker\": {\"color\": \"#BE0032\"}, \"name\": \"6\", \"y\": [0.848, 0.795, 0.798, 0.85, 0.809, 0.855, 0.783, 0.802, 0.926, 0.8180000000000001, 0.852, 0.859, 0.783, 0.799, 0.807, 0.878, 0.20500000000000002, 0.718, 0.869, 0.8290000000000001, 0.79, 0.8270000000000001, 0.312, 0.875, 0.764, 0.712], \"type\": \"box\", \"uid\": \"5b54360a-f454-4e28-a89d-ed5a2b9d8bed\"}, {\"marker\": {\"color\": \"#C2B280\"}, \"name\": \"7\", \"y\": [6.307840000000001, 5.94944, 4.90496, 4.4544, 5.71392, 7.7312, 6.656000000000001, 3.6147199999999997, 3.2256, 1.92512, 2.63168, 6.4204799999999995, 2.99008, 3.52256, 6.307840000000001, 4.49536, 4.75136, 3.9731199999999998, 3.42016, 3.7888, 5.4784, 6.90176, 6.06208, 3.85024, 5.6832, 5.67296, 8.1408, 5.12, 3.77856, 5.16096, 4.167680000000001, 3.0003200000000003, 4.83328, 3.29728, 0.659, 2.06848, 2.92864, 4.976640000000001, 3.3075200000000002, 5.57056, 4.5568, 4.300800000000001, 2.89792, 5.632, 3.35872, 2.18112, 5.26336, 4.66944, 3.38944, 4.0857600000000005, 4.31104], \"type\": \"box\", \"uid\": \"b91fb7ff-eba3-48db-836f-ed0d6e9ec005\"}, {\"marker\": {\"color\": \"#848482\"}, \"name\": \"8\", \"y\": [4.03456, 6.8096000000000005], \"type\": \"box\", \"uid\": \"fd3538ad-f9ba-46d5-9ae9-b1b3b522679f\"}, {\"marker\": {\"color\": \"#008856\"}, \"name\": \"9\", \"y\": [5.67296, 2.048, 4.29056, 3.1334400000000002, 6.522880000000001, 7.4444799999999995, 2.1504000000000003, 3.20512], \"type\": \"box\", \"uid\": \"6bb0efb3-e6be-40ce-97fb-778dedf4bd15\"}, {\"marker\": {\"color\": \"#E68FAC\"}, \"name\": \"11\", \"y\": [1.6384, 1.66912, 1.44384], \"type\": \"box\", \"uid\": \"3f1da41a-2c2d-4d6b-b537-250e8789f9e8\"}, {\"marker\": {\"color\": \"#0067A5\"}, \"name\": \"12\", \"y\": [1.77152, 2.53952, 3.23584, 2.44736], \"type\": \"box\", \"uid\": \"4297278f-60eb-4ca8-aceb-39893a84d573\"}, {\"marker\": {\"color\": \"red\"}, \"mode\": \"markers\", \"name\": \"10Mbps\", \"x\": [1, 2, 3, 4, 5, 6, 7, 8, 9, 11, 12], \"y\": [10, 10, 10, 10, 10, 10, 10, 10, 10, 10, 10], \"type\": \"scatter\", \"uid\": \"9fad5398-6f5a-425b-87d5-7b39867b8d68\"}], {\"title\": {\"text\": \"Upload speed by device  to the date 2019-02-06 21:07:22\"}, \"xaxis\": {\"title\": {\"text\": \"\"}}, \"yaxis\": {\"rangemode\": \"tozero\", \"title\": {\"text\": \"Mbps\"}}}, {\"showLink\": false, \"linkText\": \"Export to plot.ly\", \"plotlyServerURL\": \"https://plot.ly\"})});</script><script type=\"text/javascript\">window.addEventListener(\"resize\", function(){window._Plotly.Plots.resize(document.getElementById(\"de12750b-62eb-4fef-9cff-f841b8e7de21\"));});</script>"
      ]
     },
     "metadata": {},
     "output_type": "display_data"
    }
   ],
   "source": [
    "simple_boxplot(dataframe=upload_df,plot_value='UPLOAD',sort_value='SK_PI',\n",
    "               title=\"Upload speed by device \"+ title_tail,\n",
    "               ytitle=\"Mbps\", uploadline=True)"
   ]
  },
  {
   "cell_type": "code",
   "execution_count": 41,
   "metadata": {},
   "outputs": [
    {
     "data": {
      "application/vnd.plotly.v1+json": {
       "config": {
        "linkText": "Export to plot.ly",
        "plotlyServerURL": "https://plot.ly",
        "showLink": false
       },
       "data": [
        {
         "marker": {
          "color": "#222222"
         },
         "name": "1",
         "type": "box",
         "uid": "e0c4b4b2-cc42-4ac7-9bee-af66e4ecfbb4",
         "y": [
          69.942,
          63.437,
          64.438,
          63.051
         ]
        },
        {
         "marker": {
          "color": "#F3C300"
         },
         "name": "2",
         "type": "box",
         "uid": "1a9df57a-0763-44fd-bbba-7f0825ffaf23",
         "y": [
          64.647,
          70.761,
          79.382,
          64.641,
          79.9,
          92.021,
          91.542,
          68.19,
          63.837,
          73.064,
          65.157,
          66.006,
          63.99,
          63.901,
          324.017,
          68.756,
          63.569,
          70.192,
          63.318,
          63.737,
          65.984,
          69.789,
          74.455,
          63.706,
          64.79,
          70.693,
          68.217,
          66.128,
          64.699,
          63.066,
          72.162,
          70.688,
          59.988,
          64.177,
          63.904,
          73.805,
          122.777,
          63.471,
          64.354,
          67.109,
          66.211,
          67.673,
          63.668,
          65.727,
          66.017,
          63.435,
          64.419,
          89.017,
          63.797,
          63.568,
          86.351,
          75.884,
          65.629,
          66.177,
          65.053,
          64.956,
          65.609,
          66.992,
          66.788,
          66.018,
          86.393,
          63.339,
          64.276,
          66.39,
          63.317,
          87.332,
          189.677,
          64.358,
          64.835,
          104.323,
          64.976,
          74.145,
          113.491,
          70.287,
          65.019,
          65.958,
          68.442,
          94.595,
          64.81,
          65.021,
          61.626,
          57.432,
          67.839,
          115.159,
          64.596,
          68.613,
          64.737,
          70.257,
          65.417,
          70.441,
          74.111,
          64.715,
          64.265,
          64.428,
          66.329,
          67.605,
          71.869,
          66.574,
          63.489,
          63.082,
          65.547,
          64.556,
          65.248,
          63.584,
          73.387
         ]
        },
        {
         "marker": {
          "color": "#875692"
         },
         "name": "3",
         "type": "box",
         "uid": "1bd3f8a8-38b0-47eb-8a0e-f0c2f32301a9",
         "y": [
          48.887,
          48.763,
          50.677,
          49.04,
          48.854,
          48.809,
          48.774,
          49.471,
          50.183,
          48.769,
          48.703,
          49.005,
          49.224,
          48.931,
          49.126,
          49.252,
          48.8,
          49.023,
          48.792,
          48.875,
          49.014
         ]
        },
        {
         "marker": {
          "color": "#F38400"
         },
         "name": "4",
         "type": "box",
         "uid": "04008c1a-6bb0-4e1d-a785-2eacf1ad8449",
         "y": [
          56.167,
          55.744,
          57.608,
          57.236,
          57.594,
          56.437,
          58.486,
          64.773,
          58.687,
          57.131,
          58.839,
          59.068,
          59.34,
          63.439,
          56.755,
          57.619,
          57.157,
          127.763,
          56.999,
          57.39,
          58.291,
          56.914,
          57.04,
          56.935,
          88.081,
          58.509,
          56.323,
          57.181,
          59.649,
          58.263,
          55.682,
          57.357,
          56.288,
          56.982,
          60.316,
          57.167,
          57.363,
          80.176,
          57.566,
          55.855,
          64.232,
          60.717,
          196.284,
          59.348,
          57.161,
          56.524,
          56.934,
          56.239,
          65.307,
          56.927,
          56.211,
          55.835,
          58.956,
          57.08,
          57.252,
          57.684,
          57.524,
          58.974,
          56.795,
          136.4,
          57.105,
          58.74,
          56.491,
          59.371,
          55.602,
          56.27,
          55.919,
          56.454,
          56.683,
          57.326
         ]
        },
        {
         "marker": {
          "color": "#A1CAF1"
         },
         "name": "5",
         "type": "box",
         "uid": "eb249e0e-0897-46ba-a950-83417b0ed7c3",
         "y": [
          64.587,
          63.9,
          63.923,
          64.298,
          65.04,
          64.534,
          64.731,
          64.343,
          65.653,
          73.84,
          65.3,
          64.882,
          68.748,
          66.179,
          88.711,
          65.722,
          70.419,
          65.67,
          103.615,
          66.507,
          66.962,
          71.838,
          68.11,
          69.5,
          67.569,
          101.556,
          67.654,
          68.021,
          68.312,
          68.976,
          68.953,
          155.516,
          69.556,
          74.501,
          69.915,
          70.069,
          70.936,
          73.024,
          96.303,
          70.911,
          92.478,
          71.142,
          70.415,
          71.097,
          215.951,
          75.992,
          71.31,
          71.426,
          77.581,
          71.696,
          75.963,
          74.457,
          81.315,
          72.517,
          101.577,
          76.015,
          80.276,
          73.69,
          73.958,
          79.141,
          231.343,
          75.302,
          81.776,
          169.46,
          223.103,
          188.605,
          220.01,
          236.27,
          64.957,
          71.785,
          62.329,
          61.992,
          219.696,
          64.281,
          102.28,
          64.444,
          70.412,
          669.219,
          73.153,
          68.254,
          101.786,
          66.271
         ]
        },
        {
         "marker": {
          "color": "#BE0032"
         },
         "name": "6",
         "type": "box",
         "uid": "671dc569-d65c-4dd6-80bc-f54dcbdd9fd3",
         "y": [
          66.189,
          61.981,
          62.281,
          62.012,
          61.942,
          62.574,
          62.074,
          64.031,
          62.388,
          62.183,
          62.45,
          63.857,
          66.137,
          77.357,
          62.7,
          90.365,
          65.563,
          63.148,
          62.338,
          74.484,
          62.065,
          62.254,
          67.871,
          62.345,
          64.54,
          76.527
         ]
        },
        {
         "marker": {
          "color": "#C2B280"
         },
         "name": "7",
         "type": "box",
         "uid": "df73cd23-31e2-49f2-90aa-66816db12d22",
         "y": [
          65.212,
          66.035,
          66.274,
          63.594,
          65.229,
          64.773,
          66.081,
          69.404,
          65.771,
          67.22,
          70.075,
          65.315,
          69.498,
          65.203,
          64.785,
          64.723,
          64.422,
          65.713,
          68.643,
          65.827,
          65.015,
          64.171,
          65.947,
          65.674,
          60.139,
          57.644,
          59.629,
          65.165,
          66.006,
          63.657,
          67.245,
          65.04,
          65.494,
          70.535,
          82.239,
          63.938,
          63.875,
          63.687,
          67.794,
          64.048,
          64.766,
          66.834,
          66.904,
          69.524,
          66.588,
          70.517,
          65.807,
          62.818,
          66.655,
          70.758,
          65.699
         ]
        },
        {
         "marker": {
          "color": "#848482"
         },
         "name": "8",
         "type": "box",
         "uid": "6002e71f-adf0-48c1-b1c6-71443c287bb3",
         "y": [
          52.347,
          52.388
         ]
        },
        {
         "marker": {
          "color": "#008856"
         },
         "name": "9",
         "type": "box",
         "uid": "46a843a7-0e98-4cc8-b45c-b1c589362251",
         "y": [
          44.239,
          45.052,
          44.212,
          44.237,
          44.247,
          44.228,
          44.254,
          44.206
         ]
        },
        {
         "marker": {
          "color": "#E68FAC"
         },
         "name": "11",
         "type": "box",
         "uid": "e03b0063-13f4-4065-a08f-68818d0057f9",
         "y": [
          57.845,
          58.21,
          60.291
         ]
        },
        {
         "marker": {
          "color": "#0067A5"
         },
         "name": "12",
         "type": "box",
         "uid": "f125de13-03af-4d25-871f-31b8468993b7",
         "y": [
          24.002,
          22.138,
          26.961,
          23.505
         ]
        }
       ],
       "layout": {
        "title": {
         "text": "Ping latency by device  to the date 2019-02-06 21:07:22"
        },
        "xaxis": {
         "title": {
          "text": ""
         }
        },
        "yaxis": {
         "rangemode": "tozero",
         "title": {
          "text": "Miliseconds"
         }
        }
       }
      },
      "text/html": [
       "<div id=\"fcb3d22e-9f3c-4929-8d46-b0d2890b2d18\" style=\"height: 525px; width: 100%;\" class=\"plotly-graph-div\"></div><script type=\"text/javascript\">require([\"plotly\"], function(Plotly) { window.PLOTLYENV=window.PLOTLYENV || {};window.PLOTLYENV.BASE_URL=\"https://plot.ly\";Plotly.newPlot(\"fcb3d22e-9f3c-4929-8d46-b0d2890b2d18\", [{\"marker\": {\"color\": \"#222222\"}, \"name\": \"1\", \"y\": [69.942, 63.437, 64.438, 63.051], \"type\": \"box\", \"uid\": \"e0c4b4b2-cc42-4ac7-9bee-af66e4ecfbb4\"}, {\"marker\": {\"color\": \"#F3C300\"}, \"name\": \"2\", \"y\": [64.647, 70.761, 79.382, 64.641, 79.9, 92.021, 91.542, 68.19, 63.837, 73.064, 65.157, 66.006, 63.99, 63.901, 324.017, 68.756, 63.569, 70.192, 63.318, 63.737, 65.984, 69.789, 74.455, 63.706, 64.79, 70.693, 68.217, 66.128, 64.699, 63.066, 72.162, 70.688, 59.988, 64.177, 63.904, 73.805, 122.777, 63.471, 64.354, 67.109, 66.211, 67.673, 63.668, 65.727, 66.017, 63.435, 64.419, 89.017, 63.797, 63.568, 86.351, 75.884, 65.629, 66.177, 65.053, 64.956, 65.609, 66.992, 66.788, 66.018, 86.393, 63.339, 64.276, 66.39, 63.317, 87.332, 189.677, 64.358, 64.835, 104.323, 64.976, 74.145, 113.491, 70.287, 65.019, 65.958, 68.442, 94.595, 64.81, 65.021, 61.626, 57.432, 67.839, 115.159, 64.596, 68.613, 64.737, 70.257, 65.417, 70.441, 74.111, 64.715, 64.265, 64.428, 66.329, 67.605, 71.869, 66.574, 63.489, 63.082, 65.547, 64.556, 65.248, 63.584, 73.387], \"type\": \"box\", \"uid\": \"1a9df57a-0763-44fd-bbba-7f0825ffaf23\"}, {\"marker\": {\"color\": \"#875692\"}, \"name\": \"3\", \"y\": [48.887, 48.763, 50.677, 49.04, 48.854, 48.809, 48.774, 49.471, 50.183, 48.769, 48.703, 49.005, 49.224, 48.931, 49.126, 49.252, 48.8, 49.023, 48.792, 48.875, 49.014], \"type\": \"box\", \"uid\": \"1bd3f8a8-38b0-47eb-8a0e-f0c2f32301a9\"}, {\"marker\": {\"color\": \"#F38400\"}, \"name\": \"4\", \"y\": [56.167, 55.744, 57.608, 57.236, 57.594, 56.437, 58.486, 64.773, 58.687, 57.131, 58.839, 59.068, 59.34, 63.439, 56.755, 57.619, 57.157, 127.763, 56.999, 57.39, 58.291, 56.914, 57.04, 56.935, 88.081, 58.509, 56.323, 57.181, 59.649, 58.263, 55.682, 57.357, 56.288, 56.982, 60.316, 57.167, 57.363, 80.176, 57.566, 55.855, 64.232, 60.717, 196.284, 59.348, 57.161, 56.524, 56.934, 56.239, 65.307, 56.927, 56.211, 55.835, 58.956, 57.08, 57.252, 57.684, 57.524, 58.974, 56.795, 136.4, 57.105, 58.74, 56.491, 59.371, 55.602, 56.27, 55.919, 56.454, 56.683, 57.326], \"type\": \"box\", \"uid\": \"04008c1a-6bb0-4e1d-a785-2eacf1ad8449\"}, {\"marker\": {\"color\": \"#A1CAF1\"}, \"name\": \"5\", \"y\": [64.587, 63.9, 63.923, 64.298, 65.04, 64.534, 64.731, 64.343, 65.653, 73.84, 65.3, 64.882, 68.748, 66.179, 88.711, 65.722, 70.419, 65.67, 103.615, 66.507, 66.962, 71.838, 68.11, 69.5, 67.569, 101.556, 67.654, 68.021, 68.312, 68.976, 68.953, 155.516, 69.556, 74.501, 69.915, 70.069, 70.936, 73.024, 96.303, 70.911, 92.478, 71.142, 70.415, 71.097, 215.951, 75.992, 71.31, 71.426, 77.581, 71.696, 75.963, 74.457, 81.315, 72.517, 101.577, 76.015, 80.276, 73.69, 73.958, 79.141, 231.343, 75.302, 81.776, 169.46, 223.103, 188.605, 220.01, 236.27, 64.957, 71.785, 62.329, 61.992, 219.696, 64.281, 102.28, 64.444, 70.412, 669.219, 73.153, 68.254, 101.786, 66.271], \"type\": \"box\", \"uid\": \"eb249e0e-0897-46ba-a950-83417b0ed7c3\"}, {\"marker\": {\"color\": \"#BE0032\"}, \"name\": \"6\", \"y\": [66.189, 61.981, 62.281, 62.012, 61.942, 62.574, 62.074, 64.031, 62.388, 62.183, 62.45, 63.857, 66.137, 77.357, 62.7, 90.365, 65.563, 63.148, 62.338, 74.484, 62.065, 62.254, 67.871, 62.345, 64.54, 76.527], \"type\": \"box\", \"uid\": \"671dc569-d65c-4dd6-80bc-f54dcbdd9fd3\"}, {\"marker\": {\"color\": \"#C2B280\"}, \"name\": \"7\", \"y\": [65.212, 66.035, 66.274, 63.594, 65.229, 64.773, 66.081, 69.404, 65.771, 67.22, 70.075, 65.315, 69.498, 65.203, 64.785, 64.723, 64.422, 65.713, 68.643, 65.827, 65.015, 64.171, 65.947, 65.674, 60.139, 57.644, 59.629, 65.165, 66.006, 63.657, 67.245, 65.04, 65.494, 70.535, 82.239, 63.938, 63.875, 63.687, 67.794, 64.048, 64.766, 66.834, 66.904, 69.524, 66.588, 70.517, 65.807, 62.818, 66.655, 70.758, 65.699], \"type\": \"box\", \"uid\": \"df73cd23-31e2-49f2-90aa-66816db12d22\"}, {\"marker\": {\"color\": \"#848482\"}, \"name\": \"8\", \"y\": [52.347, 52.388], \"type\": \"box\", \"uid\": \"6002e71f-adf0-48c1-b1c6-71443c287bb3\"}, {\"marker\": {\"color\": \"#008856\"}, \"name\": \"9\", \"y\": [44.239, 45.052, 44.212, 44.237, 44.247, 44.228, 44.254, 44.206], \"type\": \"box\", \"uid\": \"46a843a7-0e98-4cc8-b45c-b1c589362251\"}, {\"marker\": {\"color\": \"#E68FAC\"}, \"name\": \"11\", \"y\": [57.845, 58.21, 60.291], \"type\": \"box\", \"uid\": \"e03b0063-13f4-4065-a08f-68818d0057f9\"}, {\"marker\": {\"color\": \"#0067A5\"}, \"name\": \"12\", \"y\": [24.002, 22.138, 26.961, 23.505], \"type\": \"box\", \"uid\": \"f125de13-03af-4d25-871f-31b8468993b7\"}], {\"title\": {\"text\": \"Ping latency by device  to the date 2019-02-06 21:07:22\"}, \"xaxis\": {\"title\": {\"text\": \"\"}}, \"yaxis\": {\"rangemode\": \"tozero\", \"title\": {\"text\": \"Miliseconds\"}}}, {\"showLink\": false, \"linkText\": \"Export to plot.ly\", \"plotlyServerURL\": \"https://plot.ly\"})});</script><script type=\"text/javascript\">window.addEventListener(\"resize\", function(){window._Plotly.Plots.resize(document.getElementById(\"fcb3d22e-9f3c-4929-8d46-b0d2890b2d18\"));});</script>"
      ],
      "text/vnd.plotly.v1+html": [
       "<div id=\"fcb3d22e-9f3c-4929-8d46-b0d2890b2d18\" style=\"height: 525px; width: 100%;\" class=\"plotly-graph-div\"></div><script type=\"text/javascript\">require([\"plotly\"], function(Plotly) { window.PLOTLYENV=window.PLOTLYENV || {};window.PLOTLYENV.BASE_URL=\"https://plot.ly\";Plotly.newPlot(\"fcb3d22e-9f3c-4929-8d46-b0d2890b2d18\", [{\"marker\": {\"color\": \"#222222\"}, \"name\": \"1\", \"y\": [69.942, 63.437, 64.438, 63.051], \"type\": \"box\", \"uid\": \"e0c4b4b2-cc42-4ac7-9bee-af66e4ecfbb4\"}, {\"marker\": {\"color\": \"#F3C300\"}, \"name\": \"2\", \"y\": [64.647, 70.761, 79.382, 64.641, 79.9, 92.021, 91.542, 68.19, 63.837, 73.064, 65.157, 66.006, 63.99, 63.901, 324.017, 68.756, 63.569, 70.192, 63.318, 63.737, 65.984, 69.789, 74.455, 63.706, 64.79, 70.693, 68.217, 66.128, 64.699, 63.066, 72.162, 70.688, 59.988, 64.177, 63.904, 73.805, 122.777, 63.471, 64.354, 67.109, 66.211, 67.673, 63.668, 65.727, 66.017, 63.435, 64.419, 89.017, 63.797, 63.568, 86.351, 75.884, 65.629, 66.177, 65.053, 64.956, 65.609, 66.992, 66.788, 66.018, 86.393, 63.339, 64.276, 66.39, 63.317, 87.332, 189.677, 64.358, 64.835, 104.323, 64.976, 74.145, 113.491, 70.287, 65.019, 65.958, 68.442, 94.595, 64.81, 65.021, 61.626, 57.432, 67.839, 115.159, 64.596, 68.613, 64.737, 70.257, 65.417, 70.441, 74.111, 64.715, 64.265, 64.428, 66.329, 67.605, 71.869, 66.574, 63.489, 63.082, 65.547, 64.556, 65.248, 63.584, 73.387], \"type\": \"box\", \"uid\": \"1a9df57a-0763-44fd-bbba-7f0825ffaf23\"}, {\"marker\": {\"color\": \"#875692\"}, \"name\": \"3\", \"y\": [48.887, 48.763, 50.677, 49.04, 48.854, 48.809, 48.774, 49.471, 50.183, 48.769, 48.703, 49.005, 49.224, 48.931, 49.126, 49.252, 48.8, 49.023, 48.792, 48.875, 49.014], \"type\": \"box\", \"uid\": \"1bd3f8a8-38b0-47eb-8a0e-f0c2f32301a9\"}, {\"marker\": {\"color\": \"#F38400\"}, \"name\": \"4\", \"y\": [56.167, 55.744, 57.608, 57.236, 57.594, 56.437, 58.486, 64.773, 58.687, 57.131, 58.839, 59.068, 59.34, 63.439, 56.755, 57.619, 57.157, 127.763, 56.999, 57.39, 58.291, 56.914, 57.04, 56.935, 88.081, 58.509, 56.323, 57.181, 59.649, 58.263, 55.682, 57.357, 56.288, 56.982, 60.316, 57.167, 57.363, 80.176, 57.566, 55.855, 64.232, 60.717, 196.284, 59.348, 57.161, 56.524, 56.934, 56.239, 65.307, 56.927, 56.211, 55.835, 58.956, 57.08, 57.252, 57.684, 57.524, 58.974, 56.795, 136.4, 57.105, 58.74, 56.491, 59.371, 55.602, 56.27, 55.919, 56.454, 56.683, 57.326], \"type\": \"box\", \"uid\": \"04008c1a-6bb0-4e1d-a785-2eacf1ad8449\"}, {\"marker\": {\"color\": \"#A1CAF1\"}, \"name\": \"5\", \"y\": [64.587, 63.9, 63.923, 64.298, 65.04, 64.534, 64.731, 64.343, 65.653, 73.84, 65.3, 64.882, 68.748, 66.179, 88.711, 65.722, 70.419, 65.67, 103.615, 66.507, 66.962, 71.838, 68.11, 69.5, 67.569, 101.556, 67.654, 68.021, 68.312, 68.976, 68.953, 155.516, 69.556, 74.501, 69.915, 70.069, 70.936, 73.024, 96.303, 70.911, 92.478, 71.142, 70.415, 71.097, 215.951, 75.992, 71.31, 71.426, 77.581, 71.696, 75.963, 74.457, 81.315, 72.517, 101.577, 76.015, 80.276, 73.69, 73.958, 79.141, 231.343, 75.302, 81.776, 169.46, 223.103, 188.605, 220.01, 236.27, 64.957, 71.785, 62.329, 61.992, 219.696, 64.281, 102.28, 64.444, 70.412, 669.219, 73.153, 68.254, 101.786, 66.271], \"type\": \"box\", \"uid\": \"eb249e0e-0897-46ba-a950-83417b0ed7c3\"}, {\"marker\": {\"color\": \"#BE0032\"}, \"name\": \"6\", \"y\": [66.189, 61.981, 62.281, 62.012, 61.942, 62.574, 62.074, 64.031, 62.388, 62.183, 62.45, 63.857, 66.137, 77.357, 62.7, 90.365, 65.563, 63.148, 62.338, 74.484, 62.065, 62.254, 67.871, 62.345, 64.54, 76.527], \"type\": \"box\", \"uid\": \"671dc569-d65c-4dd6-80bc-f54dcbdd9fd3\"}, {\"marker\": {\"color\": \"#C2B280\"}, \"name\": \"7\", \"y\": [65.212, 66.035, 66.274, 63.594, 65.229, 64.773, 66.081, 69.404, 65.771, 67.22, 70.075, 65.315, 69.498, 65.203, 64.785, 64.723, 64.422, 65.713, 68.643, 65.827, 65.015, 64.171, 65.947, 65.674, 60.139, 57.644, 59.629, 65.165, 66.006, 63.657, 67.245, 65.04, 65.494, 70.535, 82.239, 63.938, 63.875, 63.687, 67.794, 64.048, 64.766, 66.834, 66.904, 69.524, 66.588, 70.517, 65.807, 62.818, 66.655, 70.758, 65.699], \"type\": \"box\", \"uid\": \"df73cd23-31e2-49f2-90aa-66816db12d22\"}, {\"marker\": {\"color\": \"#848482\"}, \"name\": \"8\", \"y\": [52.347, 52.388], \"type\": \"box\", \"uid\": \"6002e71f-adf0-48c1-b1c6-71443c287bb3\"}, {\"marker\": {\"color\": \"#008856\"}, \"name\": \"9\", \"y\": [44.239, 45.052, 44.212, 44.237, 44.247, 44.228, 44.254, 44.206], \"type\": \"box\", \"uid\": \"46a843a7-0e98-4cc8-b45c-b1c589362251\"}, {\"marker\": {\"color\": \"#E68FAC\"}, \"name\": \"11\", \"y\": [57.845, 58.21, 60.291], \"type\": \"box\", \"uid\": \"e03b0063-13f4-4065-a08f-68818d0057f9\"}, {\"marker\": {\"color\": \"#0067A5\"}, \"name\": \"12\", \"y\": [24.002, 22.138, 26.961, 23.505], \"type\": \"box\", \"uid\": \"f125de13-03af-4d25-871f-31b8468993b7\"}], {\"title\": {\"text\": \"Ping latency by device  to the date 2019-02-06 21:07:22\"}, \"xaxis\": {\"title\": {\"text\": \"\"}}, \"yaxis\": {\"rangemode\": \"tozero\", \"title\": {\"text\": \"Miliseconds\"}}}, {\"showLink\": false, \"linkText\": \"Export to plot.ly\", \"plotlyServerURL\": \"https://plot.ly\"})});</script><script type=\"text/javascript\">window.addEventListener(\"resize\", function(){window._Plotly.Plots.resize(document.getElementById(\"fcb3d22e-9f3c-4929-8d46-b0d2890b2d18\"));});</script>"
      ]
     },
     "metadata": {},
     "output_type": "display_data"
    }
   ],
   "source": [
    "simple_boxplot(dataframe=ping_df,plot_value='PING',sort_value='SK_PI',\n",
    "               title=\"Ping latency by device \"+ title_tail,\n",
    "               ytitle=\"Miliseconds\")"
   ]
  },
  {
   "cell_type": "markdown",
   "metadata": {},
   "source": [
    "## Statistic by time of the day, day of the week"
   ]
  },
  {
   "cell_type": "markdown",
   "metadata": {},
   "source": [
    "### Download speed"
   ]
  },
  {
   "cell_type": "code",
   "execution_count": 42,
   "metadata": {},
   "outputs": [],
   "source": [
    "download_df[\"hour\"]=pd.to_numeric(download_df[\"time\"].dt.hour)"
   ]
  },
  {
   "cell_type": "code",
   "execution_count": 43,
   "metadata": {},
   "outputs": [
    {
     "ename": "ValueError",
     "evalue": "\n    Invalid value of type 'numpy.int64' received for the 'name' property of scatter\n        Received value: 1\n\n    The 'name' property is a string and must be specified as:\n      - A string\n      - A number that will be converted to a string",
     "output_type": "error",
     "traceback": [
      "\u001b[0;31m---------------------------------------------------------------------------\u001b[0m",
      "\u001b[0;31mValueError\u001b[0m                                Traceback (most recent call last)",
      "\u001b[0;32m<ipython-input-43-571e96ddd16c>\u001b[0m in \u001b[0;36m<module>\u001b[0;34m\u001b[0m\n\u001b[1;32m      8\u001b[0m         \u001b[0mmode\u001b[0m \u001b[0;34m=\u001b[0m \u001b[0;34m'markers'\u001b[0m\u001b[0;34m,\u001b[0m\u001b[0;34m\u001b[0m\u001b[0m\n\u001b[1;32m      9\u001b[0m         \u001b[0mmarker\u001b[0m \u001b[0;34m=\u001b[0m \u001b[0mdict\u001b[0m\u001b[0;34m(\u001b[0m\u001b[0mcolor\u001b[0m\u001b[0;34m=\u001b[0m\u001b[0mcolors\u001b[0m\u001b[0;34m[\u001b[0m\u001b[0mdevice\u001b[0m\u001b[0;34m]\u001b[0m\u001b[0;34m)\u001b[0m\u001b[0;34m,\u001b[0m\u001b[0;34m\u001b[0m\u001b[0m\n\u001b[0;32m---> 10\u001b[0;31m         \u001b[0mname\u001b[0m \u001b[0;34m=\u001b[0m \u001b[0mdevice\u001b[0m\u001b[0;34m\u001b[0m\u001b[0m\n\u001b[0m\u001b[1;32m     11\u001b[0m     )\n\u001b[1;32m     12\u001b[0m     \u001b[0mtraces\u001b[0m\u001b[0;34m.\u001b[0m\u001b[0mappend\u001b[0m\u001b[0;34m(\u001b[0m\u001b[0mtrace\u001b[0m\u001b[0;34m)\u001b[0m\u001b[0;34m\u001b[0m\u001b[0m\n",
      "\u001b[0;32m~/anaconda3/lib/python3.6/site-packages/plotly/graph_objs/_scatter.py\u001b[0m in \u001b[0;36m__init__\u001b[0;34m(self, arg, cliponaxis, connectgaps, customdata, customdatasrc, dx, dy, error_x, error_y, fill, fillcolor, groupnorm, hoverinfo, hoverinfosrc, hoverlabel, hoveron, hovertemplate, hovertemplatesrc, hovertext, hovertextsrc, ids, idssrc, legendgroup, line, marker, mode, name, opacity, orientation, r, rsrc, selected, selectedpoints, showlegend, stackgaps, stackgroup, stream, t, text, textfont, textposition, textpositionsrc, textsrc, tsrc, uid, uirevision, unselected, visible, x, x0, xaxis, xcalendar, xsrc, y, y0, yaxis, ycalendar, ysrc, **kwargs)\u001b[0m\n\u001b[1;32m   2509\u001b[0m         \u001b[0mself\u001b[0m\u001b[0;34m[\u001b[0m\u001b[0;34m'mode'\u001b[0m\u001b[0;34m]\u001b[0m \u001b[0;34m=\u001b[0m \u001b[0mmode\u001b[0m \u001b[0;32mif\u001b[0m \u001b[0mmode\u001b[0m \u001b[0;32mis\u001b[0m \u001b[0;32mnot\u001b[0m \u001b[0;32mNone\u001b[0m \u001b[0;32melse\u001b[0m \u001b[0m_v\u001b[0m\u001b[0;34m\u001b[0m\u001b[0m\n\u001b[1;32m   2510\u001b[0m         \u001b[0m_v\u001b[0m \u001b[0;34m=\u001b[0m \u001b[0marg\u001b[0m\u001b[0;34m.\u001b[0m\u001b[0mpop\u001b[0m\u001b[0;34m(\u001b[0m\u001b[0;34m'name'\u001b[0m\u001b[0;34m,\u001b[0m \u001b[0;32mNone\u001b[0m\u001b[0;34m)\u001b[0m\u001b[0;34m\u001b[0m\u001b[0m\n\u001b[0;32m-> 2511\u001b[0;31m         \u001b[0mself\u001b[0m\u001b[0;34m[\u001b[0m\u001b[0;34m'name'\u001b[0m\u001b[0;34m]\u001b[0m \u001b[0;34m=\u001b[0m \u001b[0mname\u001b[0m \u001b[0;32mif\u001b[0m \u001b[0mname\u001b[0m \u001b[0;32mis\u001b[0m \u001b[0;32mnot\u001b[0m \u001b[0;32mNone\u001b[0m \u001b[0;32melse\u001b[0m \u001b[0m_v\u001b[0m\u001b[0;34m\u001b[0m\u001b[0m\n\u001b[0m\u001b[1;32m   2512\u001b[0m         \u001b[0m_v\u001b[0m \u001b[0;34m=\u001b[0m \u001b[0marg\u001b[0m\u001b[0;34m.\u001b[0m\u001b[0mpop\u001b[0m\u001b[0;34m(\u001b[0m\u001b[0;34m'opacity'\u001b[0m\u001b[0;34m,\u001b[0m \u001b[0;32mNone\u001b[0m\u001b[0;34m)\u001b[0m\u001b[0;34m\u001b[0m\u001b[0m\n\u001b[1;32m   2513\u001b[0m         \u001b[0mself\u001b[0m\u001b[0;34m[\u001b[0m\u001b[0;34m'opacity'\u001b[0m\u001b[0;34m]\u001b[0m \u001b[0;34m=\u001b[0m \u001b[0mopacity\u001b[0m \u001b[0;32mif\u001b[0m \u001b[0mopacity\u001b[0m \u001b[0;32mis\u001b[0m \u001b[0;32mnot\u001b[0m \u001b[0;32mNone\u001b[0m \u001b[0;32melse\u001b[0m \u001b[0m_v\u001b[0m\u001b[0;34m\u001b[0m\u001b[0m\n",
      "\u001b[0;32m~/anaconda3/lib/python3.6/site-packages/plotly/basedatatypes.py\u001b[0m in \u001b[0;36m__setitem__\u001b[0;34m(self, prop, value)\u001b[0m\n\u001b[1;32m   2839\u001b[0m             \u001b[0;31m# ### Handle simple property ###\u001b[0m\u001b[0;34m\u001b[0m\u001b[0;34m\u001b[0m\u001b[0m\n\u001b[1;32m   2840\u001b[0m             \u001b[0;32melse\u001b[0m\u001b[0;34m:\u001b[0m\u001b[0;34m\u001b[0m\u001b[0m\n\u001b[0;32m-> 2841\u001b[0;31m                 \u001b[0mself\u001b[0m\u001b[0;34m.\u001b[0m\u001b[0m_set_prop\u001b[0m\u001b[0;34m(\u001b[0m\u001b[0mprop\u001b[0m\u001b[0;34m,\u001b[0m \u001b[0mvalue\u001b[0m\u001b[0;34m)\u001b[0m\u001b[0;34m\u001b[0m\u001b[0m\n\u001b[0m\u001b[1;32m   2842\u001b[0m \u001b[0;34m\u001b[0m\u001b[0m\n\u001b[1;32m   2843\u001b[0m         \u001b[0;31m# Handle non-scalar case\u001b[0m\u001b[0;34m\u001b[0m\u001b[0;34m\u001b[0m\u001b[0m\n",
      "\u001b[0;32m~/anaconda3/lib/python3.6/site-packages/plotly/basedatatypes.py\u001b[0m in \u001b[0;36m_set_prop\u001b[0;34m(self, prop, val)\u001b[0m\n\u001b[1;32m   3080\u001b[0m                 \u001b[0;32mreturn\u001b[0m\u001b[0;34m\u001b[0m\u001b[0m\n\u001b[1;32m   3081\u001b[0m             \u001b[0;32melse\u001b[0m\u001b[0;34m:\u001b[0m\u001b[0;34m\u001b[0m\u001b[0m\n\u001b[0;32m-> 3082\u001b[0;31m                 \u001b[0;32mraise\u001b[0m \u001b[0merr\u001b[0m\u001b[0;34m\u001b[0m\u001b[0m\n\u001b[0m\u001b[1;32m   3083\u001b[0m \u001b[0;34m\u001b[0m\u001b[0m\n\u001b[1;32m   3084\u001b[0m         \u001b[0;31m# val is None\u001b[0m\u001b[0;34m\u001b[0m\u001b[0;34m\u001b[0m\u001b[0m\n",
      "\u001b[0;32m~/anaconda3/lib/python3.6/site-packages/plotly/basedatatypes.py\u001b[0m in \u001b[0;36m_set_prop\u001b[0;34m(self, prop, val)\u001b[0m\n\u001b[1;32m   3075\u001b[0m         \u001b[0mvalidator\u001b[0m \u001b[0;34m=\u001b[0m \u001b[0mself\u001b[0m\u001b[0;34m.\u001b[0m\u001b[0m_validators\u001b[0m\u001b[0;34m.\u001b[0m\u001b[0mget\u001b[0m\u001b[0;34m(\u001b[0m\u001b[0mprop\u001b[0m\u001b[0;34m)\u001b[0m\u001b[0;34m\u001b[0m\u001b[0m\n\u001b[1;32m   3076\u001b[0m         \u001b[0;32mtry\u001b[0m\u001b[0;34m:\u001b[0m\u001b[0;34m\u001b[0m\u001b[0m\n\u001b[0;32m-> 3077\u001b[0;31m             \u001b[0mval\u001b[0m \u001b[0;34m=\u001b[0m \u001b[0mvalidator\u001b[0m\u001b[0;34m.\u001b[0m\u001b[0mvalidate_coerce\u001b[0m\u001b[0;34m(\u001b[0m\u001b[0mval\u001b[0m\u001b[0;34m)\u001b[0m\u001b[0;34m\u001b[0m\u001b[0m\n\u001b[0m\u001b[1;32m   3078\u001b[0m         \u001b[0;32mexcept\u001b[0m \u001b[0mValueError\u001b[0m \u001b[0;32mas\u001b[0m \u001b[0merr\u001b[0m\u001b[0;34m:\u001b[0m\u001b[0;34m\u001b[0m\u001b[0m\n\u001b[1;32m   3079\u001b[0m             \u001b[0;32mif\u001b[0m \u001b[0mself\u001b[0m\u001b[0;34m.\u001b[0m\u001b[0m_skip_invalid\u001b[0m\u001b[0;34m:\u001b[0m\u001b[0;34m\u001b[0m\u001b[0m\n",
      "\u001b[0;32m~/anaconda3/lib/python3.6/site-packages/_plotly_utils/basevalidators.py\u001b[0m in \u001b[0;36mvalidate_coerce\u001b[0;34m(self, v)\u001b[0m\n\u001b[1;32m   1012\u001b[0m                     \u001b[0mv\u001b[0m \u001b[0;34m=\u001b[0m \u001b[0mstr\u001b[0m\u001b[0;34m(\u001b[0m\u001b[0mv\u001b[0m\u001b[0;34m)\u001b[0m\u001b[0;34m\u001b[0m\u001b[0m\n\u001b[1;32m   1013\u001b[0m                 \u001b[0;32melse\u001b[0m\u001b[0;34m:\u001b[0m\u001b[0;34m\u001b[0m\u001b[0m\n\u001b[0;32m-> 1014\u001b[0;31m                     \u001b[0mself\u001b[0m\u001b[0;34m.\u001b[0m\u001b[0mraise_invalid_val\u001b[0m\u001b[0;34m(\u001b[0m\u001b[0mv\u001b[0m\u001b[0;34m)\u001b[0m\u001b[0;34m\u001b[0m\u001b[0m\n\u001b[0m\u001b[1;32m   1015\u001b[0m \u001b[0;34m\u001b[0m\u001b[0m\n\u001b[1;32m   1016\u001b[0m             \u001b[0;32mif\u001b[0m \u001b[0mself\u001b[0m\u001b[0;34m.\u001b[0m\u001b[0mno_blank\u001b[0m \u001b[0;32mand\u001b[0m \u001b[0mlen\u001b[0m\u001b[0;34m(\u001b[0m\u001b[0mv\u001b[0m\u001b[0;34m)\u001b[0m \u001b[0;34m==\u001b[0m \u001b[0;36m0\u001b[0m\u001b[0;34m:\u001b[0m\u001b[0;34m\u001b[0m\u001b[0m\n",
      "\u001b[0;32m~/anaconda3/lib/python3.6/site-packages/_plotly_utils/basevalidators.py\u001b[0m in \u001b[0;36mraise_invalid_val\u001b[0;34m(self, v, inds)\u001b[0m\n\u001b[1;32m    286\u001b[0m             \u001b[0mtyp\u001b[0m\u001b[0;34m=\u001b[0m\u001b[0mtype_str\u001b[0m\u001b[0;34m(\u001b[0m\u001b[0mv\u001b[0m\u001b[0;34m)\u001b[0m\u001b[0;34m,\u001b[0m\u001b[0;34m\u001b[0m\u001b[0m\n\u001b[1;32m    287\u001b[0m             \u001b[0mv\u001b[0m\u001b[0;34m=\u001b[0m\u001b[0mrepr\u001b[0m\u001b[0;34m(\u001b[0m\u001b[0mv\u001b[0m\u001b[0;34m)\u001b[0m\u001b[0;34m,\u001b[0m\u001b[0;34m\u001b[0m\u001b[0m\n\u001b[0;32m--> 288\u001b[0;31m             valid_clr_desc=self.description()))\n\u001b[0m\u001b[1;32m    289\u001b[0m \u001b[0;34m\u001b[0m\u001b[0m\n\u001b[1;32m    290\u001b[0m     \u001b[0;32mdef\u001b[0m \u001b[0mraise_invalid_elements\u001b[0m\u001b[0;34m(\u001b[0m\u001b[0mself\u001b[0m\u001b[0;34m,\u001b[0m \u001b[0minvalid_els\u001b[0m\u001b[0;34m)\u001b[0m\u001b[0;34m:\u001b[0m\u001b[0;34m\u001b[0m\u001b[0m\n",
      "\u001b[0;31mValueError\u001b[0m: \n    Invalid value of type 'numpy.int64' received for the 'name' property of scatter\n        Received value: 1\n\n    The 'name' property is a string and must be specified as:\n      - A string\n      - A number that will be converted to a string"
     ]
    }
   ],
   "source": [
    "t=\"Normalized download speed by hour \"+ title_tail\n",
    "traces=[]\n",
    "for device in device_numbers_d:\n",
    "    subset=download_df[download_df[\"SK_PI\"]==device]\n",
    "    trace = go.Scatter(\n",
    "        x = subset['hour'],\n",
    "        y=(subset['DOWNLOAD']-subset['DOWNLOAD'].mean())/subset['DOWNLOAD'].std(),\n",
    "        mode = 'markers',\n",
    "        marker = dict(color=colors[device]),\n",
    "        name = device\n",
    "    )\n",
    "    traces.append(trace)\n",
    "layout = go.Layout(\n",
    "        title=t,\n",
    "        xaxis=dict(title=\"Hour of the day\"),\n",
    "        yaxis=dict(title=\"Difference to normalized speeds (Mbps)\")\n",
    "        )\n",
    "data = traces\n",
    "fig = go.Figure(data=data, layout=layout)\n",
    "iplot(fig)"
   ]
  },
  {
   "cell_type": "code",
   "execution_count": null,
   "metadata": {},
   "outputs": [],
   "source": [
    "device_number=2\n",
    "subset=download_df[download_df[\"SK_PI\"]==device_number]\n",
    "t=\"Download speed by hour for the device \" + str(device_number)+\" \"+ title_tail\n",
    "simple_boxplot(dataframe=subset,plot_value='DOWNLOAD',sort_value='hour',\n",
    "               title=t,\n",
    "               xtitle=\"Hour of the day\", downloadline=True)"
   ]
  },
  {
   "cell_type": "code",
   "execution_count": null,
   "metadata": {},
   "outputs": [],
   "source": [
    "download_df[\"time_group\"]=\"\"\n",
    "download_df.loc[(download_df[\"hour\"]>23)|(download_df[\"hour\"]<=7),\"time_group\"]=\"night 23:00-07:00\"\n",
    "download_df.loc[(download_df[\"hour\"]>7)&(download_df[\"hour\"]<=17),\"time_group\"]=\"day 7:00-17:00\"\n",
    "download_df.loc[(download_df[\"hour\"]>17)&(download_df[\"hour\"]<=23),\"time_group\"]=\"evening 17:00-23:00\""
   ]
  },
  {
   "cell_type": "code",
   "execution_count": null,
   "metadata": {},
   "outputs": [],
   "source": [
    "#subset=download_df[download_df[\"SK_PI\"]==device_number]\n",
    "#t=\"Upload speed by timegroup for the device \"+str(device_number)+title_tail\n",
    "#simple_boxplot(dataframe=subset,plot_value='DOWNLOAD',sort_value='time_group',\n",
    "#               title=t,\n",
    " #              ytitle=\"Mbps\",downloadline=True, jitter=True)"
   ]
  },
  {
   "cell_type": "code",
   "execution_count": null,
   "metadata": {},
   "outputs": [],
   "source": [
    "download_df[\"weekday\"]=download_df[\"time\"].dt.weekday_name\n",
    "download_df[\"weekday\"] = pd.Categorical(download_df[\"weekday\"], [\"Monday\", \"Tuesday\", \"Wednesday\", \"Thursday\", \"Friday\", \"Saturday\", \"Sunday\"])"
   ]
  },
  {
   "cell_type": "code",
   "execution_count": null,
   "metadata": {},
   "outputs": [],
   "source": [
    "device_number=2\n",
    "subset=download_df[download_df[\"SK_PI\"]==device_number]\n",
    "t=\"Download speed by day of the week\"+title_tail\n",
    "simple_boxplot(dataframe=download_df,plot_value='DOWNLOAD',sort_value='weekday',\n",
    "               title=t,\n",
    "               ytitle=\"Mbps\", weekdays=True,jitter=True)"
   ]
  },
  {
   "cell_type": "code",
   "execution_count": null,
   "metadata": {},
   "outputs": [],
   "source": [
    "download_df[\"day_group\"]=\"Weekday\"\n",
    "download_df.loc[(download_df[\"weekday\"]==\"Sunday\")|(download_df[\"weekday\"]==\"Saturday\"),\"day_group\"]=\"Weekend\""
   ]
  },
  {
   "cell_type": "code",
   "execution_count": null,
   "metadata": {},
   "outputs": [],
   "source": [
    "t=\"Download speed by day group\"+title_tail\n",
    "simple_boxplot(dataframe=download_df,plot_value='DOWNLOAD',sort_value='day_group',\n",
    "               title=t,\n",
    "               ytitle=\"Mbps\", jitter=True, downloadline=True)"
   ]
  },
  {
   "cell_type": "markdown",
   "metadata": {},
   "source": [
    "### Upload speed"
   ]
  },
  {
   "cell_type": "code",
   "execution_count": null,
   "metadata": {},
   "outputs": [],
   "source": [
    "upload_df[\"hour\"]=pd.to_numeric(upload_df[\"time\"].dt.hour)"
   ]
  },
  {
   "cell_type": "code",
   "execution_count": null,
   "metadata": {},
   "outputs": [],
   "source": [
    "traces=[]\n",
    "t=\"Normalized upload speed by hour \"+title_tail\n",
    "traces=[]\n",
    "for device in device_numbers_u:\n",
    "    subset=upload_df[upload_df[\"SK_PI\"]==device]\n",
    "    trace = go.Scatter(\n",
    "        x = subset['hour'],\n",
    "        y=(subset['UPLOAD']-subset['UPLOAD'].mean())/subset['UPLOAD'].std(),\n",
    "        mode = 'markers',\n",
    "        marker = dict(color=colors[device]),\n",
    "        name = device\n",
    "    )\n",
    "    traces.append(trace)\n",
    "layout = go.Layout(\n",
    "        title=t,\n",
    "        xaxis=dict(title=\"Hour of the day\"),\n",
    "        yaxis=dict(title=\"Difference to normalized speeds (Mbps)\")\n",
    "        )\n",
    "data = traces\n",
    "fig = go.Figure(data=data, layout=layout)\n",
    "iplot(fig)"
   ]
  },
  {
   "cell_type": "code",
   "execution_count": null,
   "metadata": {},
   "outputs": [],
   "source": [
    "upload_df[\"hour\"]=pd.to_numeric(upload_df[\"time\"].dt.hour)\n",
    "\n",
    "device_number=3\n",
    "subset=upload_df[upload_df[\"SK_PI\"]==device_number]\n",
    "t=\"Upload speed by hour for the device \" + str(device_number)+\" \"+title_tail\n",
    "simple_boxplot(dataframe=subset,plot_value='UPLOAD',sort_value='hour',\n",
    "               title=t,\n",
    "               ytitle=\"Upload speed (Mbps)\",\n",
    "               xtitle=\"Hour of the day\", uploadline=True)"
   ]
  },
  {
   "cell_type": "code",
   "execution_count": null,
   "metadata": {},
   "outputs": [],
   "source": [
    "upload_df[\"time_group\"]=\"\"\n",
    "upload_df.loc[(upload_df[\"hour\"]>23)|(upload_df[\"hour\"]<=7),\"time_group\"]=\"night 23:00-07:00\"\n",
    "upload_df.loc[(upload_df[\"hour\"]>7)&(upload_df[\"hour\"]<=17),\"time_group\"]=\"day 7:00-17:00\"\n",
    "upload_df.loc[(upload_df[\"hour\"]>17)&(upload_df[\"hour\"]<=23),\"time_group\"]=\"evening 17:00-23:00\""
   ]
  },
  {
   "cell_type": "code",
   "execution_count": null,
   "metadata": {},
   "outputs": [],
   "source": [
    "subset=upload_df[upload_df[\"SK_PI\"]==device_number]\n",
    "t=\"Upload speed by timegroup for the device \"+str(device_number)+title_tail\n",
    "simple_boxplot(dataframe=subset,plot_value='UPLOAD',sort_value='time_group',\n",
    "               title=t,\n",
    "               ytitle=\"Mbps\",uploadline=True, jitter=True)"
   ]
  },
  {
   "cell_type": "code",
   "execution_count": null,
   "metadata": {},
   "outputs": [],
   "source": [
    "upload_df[\"weekday\"]=upload_df[\"time\"].dt.weekday_name\n",
    "upload_df[\"weekday\"] = pd.Categorical(upload_df[\"weekday\"], [\"Monday\", \"Tuesday\", \"Wednesday\", \"Thursday\", \"Friday\", \"Saturday\", \"Sunday\"])"
   ]
  },
  {
   "cell_type": "code",
   "execution_count": null,
   "metadata": {},
   "outputs": [],
   "source": [
    "subset=upload_df[upload_df[\"SK_PI\"]==device_number]\n",
    "t=\"Upload speed by day of the week for the device \"+str(device_number)+title_tail\n",
    "simple_boxplot(dataframe=subset,plot_value='UPLOAD',sort_value='weekday',\n",
    "               title=t,\n",
    "               ytitle=\"Mbps\",uploadline=True, weekdays=True, jitter=True)"
   ]
  },
  {
   "cell_type": "markdown",
   "metadata": {},
   "source": [
    "### Ping latency"
   ]
  },
  {
   "cell_type": "code",
   "execution_count": null,
   "metadata": {},
   "outputs": [],
   "source": [
    "ping_df[\"hour\"]=pd.to_numeric(ping_df[\"time\"].dt.hour)\n",
    "device_numbers_p=ping_df[\"SK_PI\"].unique()"
   ]
  },
  {
   "cell_type": "code",
   "execution_count": null,
   "metadata": {},
   "outputs": [],
   "source": [
    "traces=[]\n",
    "t=\"Normalized ping latency by hour \"+title_tail\n",
    "traces=[]\n",
    "for device in device_numbers_p:\n",
    "    subset=ping_df[ping_df[\"SK_PI\"]==device]\n",
    "    trace = go.Scatter(\n",
    "        x = subset['hour'],\n",
    "        y=(subset['PING']-subset['PING'].mean())/subset['PING'].std(),\n",
    "        mode = 'markers',\n",
    "        marker = dict(color=colors[device]),\n",
    "        name = device\n",
    "    )\n",
    "    traces.append(trace)\n",
    "layout = go.Layout(\n",
    "        title=t,\n",
    "        xaxis=dict(title=\"Hour of the day\"),\n",
    "        yaxis=dict(title=\"Difference to normalized latencies (Miliseconda)\")\n",
    "        )\n",
    "data = traces\n",
    "fig = go.Figure(data=data, layout=layout)\n",
    "iplot(fig)"
   ]
  },
  {
   "cell_type": "code",
   "execution_count": null,
   "metadata": {},
   "outputs": [],
   "source": [
    "t=\"Ping latency by hour\"+title_tail\n",
    "simple_boxplot(dataframe=ping_df,plot_value='PING',sort_value='hour',\n",
    "               title=t,\n",
    "               ytitle=\"Miliseconds\",\n",
    "               xtitle=\"Hour of the day\")"
   ]
  },
  {
   "cell_type": "code",
   "execution_count": null,
   "metadata": {},
   "outputs": [],
   "source": [
    "device_number=7\n",
    "by_hour_by_device_p2=mean_max_median_by2(input_dataframe=ping_df,value1=\"PING\", value2=\"PING\",\n",
    "                                          value3=\"PING\",group_by_value=\"hour\", rename_columns=True)\n",
    "subset=by_hour_by_device_p2[by_hour_by_device_p2[\"SK_PI\"]==device_number]\n",
    "t=\"Ping latency(speedtest) by hour for the device \"+str(device_number)+title_tail\n",
    "combined_bar_plot_3traces(xvalues=subset[\"hour\"],\n",
    "                         yvalues1=subset[\"max\"],\n",
    "                         yvalues2=subset[\"mean\"],\n",
    "                         yvalues3=subset[\"median\"],\n",
    "                         name1=\"Max\",\n",
    "                         name2=\"Mean\",\n",
    "                         name3=\"Median\",\n",
    "                         title=t,\n",
    "                         xtitle=\"hour\",\n",
    "                         stack=False)"
   ]
  },
  {
   "cell_type": "code",
   "execution_count": null,
   "metadata": {},
   "outputs": [],
   "source": [
    "ping_df[\"weekday\"]=ping_df[\"time\"].dt.weekday_name\n",
    "ping_df[\"weekday\"] = pd.Categorical(ping_df[\"weekday\"], [\"Monday\", \"Tuesday\", \"Wednesday\", \"Thursday\", \"Friday\", \"Saturday\", \"Sunday\"])"
   ]
  },
  {
   "cell_type": "code",
   "execution_count": null,
   "metadata": {},
   "outputs": [],
   "source": [
    "t=\"Ping latency(collectd) by day of the week\"+title_tail\n",
    "simple_boxplot(dataframe=ping_df,plot_value='PING',sort_value='weekday',\n",
    "               title=t,\n",
    "               ytitle=\"Miliseconds\", weekdays=True)"
   ]
  },
  {
   "cell_type": "code",
   "execution_count": null,
   "metadata": {},
   "outputs": [],
   "source": [
    "device_number=7\n",
    "by_hour_by_device_p2=mean_max_median_by2(input_dataframe=ping_df,value1=\"PING\", value2=\"PING\",\n",
    "                                          value3=\"PING\",group_by_value=\"weekday\", rename_columns=True)\n",
    "subset=by_hour_by_device_p2[by_hour_by_device_p2[\"SK_PI\"]==device_number]\n",
    "t=\"Ping latency(speedtest) by hour for the device \"+str(device_number)+title_tail\n",
    "combined_bar_plot_3traces(xvalues=subset[\"weekday\"],\n",
    "                         yvalues1=subset[\"max\"],\n",
    "                         yvalues2=subset[\"mean\"],\n",
    "                         yvalues3=subset[\"median\"],\n",
    "                         name1=\"Max\",\n",
    "                         name2=\"Mean\",\n",
    "                         name3=\"Median\",\n",
    "                         title=t,\n",
    "                         xtitle=\"weekday\",\n",
    "                         stack=False)"
   ]
  },
  {
   "cell_type": "code",
   "execution_count": null,
   "metadata": {},
   "outputs": [],
   "source": []
  }
 ],
 "metadata": {
  "kernelspec": {
   "display_name": "Python 3",
   "language": "python",
   "name": "python3"
  },
  "language_info": {
   "codemirror_mode": {
    "name": "ipython",
    "version": 3
   },
   "file_extension": ".py",
   "mimetype": "text/x-python",
   "name": "python",
   "nbconvert_exporter": "python",
   "pygments_lexer": "ipython3",
   "version": "3.6.5"
  },
  "nbTranslate": {
   "displayLangs": [
    "*"
   ],
   "hotkey": "alt-t",
   "langInMainMenu": true,
   "sourceLang": "en",
   "targetLang": "fr",
   "useGoogleTranslate": true
  }
 },
 "nbformat": 4,
 "nbformat_minor": 2
}
