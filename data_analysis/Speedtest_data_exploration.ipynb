{
 "cells": [
  {
   "cell_type": "markdown",
   "metadata": {},
   "source": [
    "# Speedtest data exploration"
   ]
  },
  {
   "cell_type": "markdown",
   "metadata": {},
   "source": [
    "### How data is  collected"
   ]
  },
  {
   "cell_type": "markdown",
   "metadata": {},
   "source": [
    "Running speedtest application (?) similar to speedtest.net Calculating upload, download speed + png latency"
   ]
  },
  {
   "cell_type": "markdown",
   "metadata": {},
   "source": [
    "### How data looks like\n",
    "Load libraries:"
   ]
  },
  {
   "cell_type": "code",
   "execution_count": 2,
   "metadata": {},
   "outputs": [
    {
     "data": {
      "text/html": [
       "<script>requirejs.config({paths: { 'plotly': ['https://cdn.plot.ly/plotly-latest.min']},});if(!window.Plotly) {{require(['plotly'],function(plotly) {window.Plotly=plotly;});}}</script>"
      ],
      "text/vnd.plotly.v1+html": [
       "<script>requirejs.config({paths: { 'plotly': ['https://cdn.plot.ly/plotly-latest.min']},});if(!window.Plotly) {{require(['plotly'],function(plotly) {window.Plotly=plotly;});}}</script>"
      ]
     },
     "metadata": {},
     "output_type": "display_data"
    }
   ],
   "source": [
    "from influxdb import DataFrameClient\n",
    "from influxdb import InfluxDBClient\n",
    "import json\n",
    "import pandas as pd\n",
    "\n",
    "import datetime \n",
    "from plotly.offline import init_notebook_mode, iplot\n",
    "import plotly.graph_objs as go\n",
    "import plotly.plotly as py\n",
    "from plotly import tools\n",
    "init_notebook_mode(connected=True)\n",
    "colors=['F2F3F4', '222222', 'F3C300', '875692', 'F38400', 'A1CAF1', 'BE0032', 'C2B280', \n",
    "        '848482', '008856', 'E68FAC', '0067A5', 'F99379', '604E97', 'F6A600', 'B3446C',\n",
    "        'DCD300', '882D17', '8DB600', '654522', 'E25822', '2B3D26']"
   ]
  },
  {
   "cell_type": "markdown",
   "metadata": {},
   "source": [
    "Read credentials:"
   ]
  },
  {
   "cell_type": "code",
   "execution_count": 3,
   "metadata": {
    "collapsed": true
   },
   "outputs": [],
   "source": [
    "with open('../credentials.json', 'r') as f_credentials:\n",
    "    credentials_config = json.load(f_credentials)"
   ]
  },
  {
   "cell_type": "markdown",
   "metadata": {},
   "source": [
    "Set up influxdb connection:"
   ]
  },
  {
   "cell_type": "code",
   "execution_count": 3,
   "metadata": {
    "collapsed": true
   },
   "outputs": [],
   "source": [
    "host=credentials_config['influxdb_host']\n",
    "port=8086\n",
    "dbname = 'net_speed_md'\n",
    "client = InfluxDBClient(host, port, '', '', dbname)"
   ]
  },
  {
   "cell_type": "markdown",
   "metadata": {},
   "source": [
    "Read all the data into pandas dataframe:"
   ]
  },
  {
   "cell_type": "code",
   "execution_count": 4,
   "metadata": {},
   "outputs": [
    {
     "data": {
      "text/html": [
       "<div>\n",
       "<style>\n",
       "    .dataframe thead tr:only-child th {\n",
       "        text-align: right;\n",
       "    }\n",
       "\n",
       "    .dataframe thead th {\n",
       "        text-align: left;\n",
       "    }\n",
       "\n",
       "    .dataframe tbody tr th {\n",
       "        vertical-align: top;\n",
       "    }\n",
       "</style>\n",
       "<table border=\"1\" class=\"dataframe\">\n",
       "  <thead>\n",
       "    <tr style=\"text-align: right;\">\n",
       "      <th></th>\n",
       "      <th>IP</th>\n",
       "      <th>PI_MAC</th>\n",
       "      <th>PROVIDER</th>\n",
       "      <th>PROVINCE</th>\n",
       "      <th>SK_PI</th>\n",
       "      <th>TEST_SERVER</th>\n",
       "      <th>UPLOAD</th>\n",
       "    </tr>\n",
       "  </thead>\n",
       "  <tbody>\n",
       "    <tr>\n",
       "      <th>2018-10-10 15:45:43.343000064+00:00</th>\n",
       "      <td>204.112.96.66</td>\n",
       "      <td>02-d1-08-c2-95-9b</td>\n",
       "      <td>Bell MTS</td>\n",
       "      <td>MB)</td>\n",
       "      <td>1</td>\n",
       "      <td>Shaw Communications (Winnipeg</td>\n",
       "      <td>0.47</td>\n",
       "    </tr>\n",
       "    <tr>\n",
       "      <th>2018-10-10 15:51:04.663000064+00:00</th>\n",
       "      <td>204.112.96.66</td>\n",
       "      <td>02-d1-08-c2-95-9b</td>\n",
       "      <td>Bell MTS</td>\n",
       "      <td>MB)</td>\n",
       "      <td>1</td>\n",
       "      <td>Shaw Communications (Winnipeg</td>\n",
       "      <td>0.35</td>\n",
       "    </tr>\n",
       "    <tr>\n",
       "      <th>2018-10-10 18:40:35.836999936+00:00</th>\n",
       "      <td>204.112.96.66</td>\n",
       "      <td>02-d1-08-c2-95-9b</td>\n",
       "      <td>Bell MTS</td>\n",
       "      <td>MB)</td>\n",
       "      <td>1</td>\n",
       "      <td>Rogers (Winnipeg</td>\n",
       "      <td>0.29</td>\n",
       "    </tr>\n",
       "    <tr>\n",
       "      <th>2018-10-10 22:38:54.132999936+00:00</th>\n",
       "      <td>204.112.96.66</td>\n",
       "      <td>02-d1-08-c2-95-9b</td>\n",
       "      <td>iperf</td>\n",
       "      <td>iperf</td>\n",
       "      <td>1</td>\n",
       "      <td>clearskystatus.info</td>\n",
       "      <td>698.00</td>\n",
       "    </tr>\n",
       "    <tr>\n",
       "      <th>2018-10-10 22:52:08.927000064+00:00</th>\n",
       "      <td>204.112.96.66</td>\n",
       "      <td>02-d1-08-c2-95-9b</td>\n",
       "      <td>iperf</td>\n",
       "      <td>iperf</td>\n",
       "      <td>1</td>\n",
       "      <td>clearskystatus.info</td>\n",
       "      <td>656.00</td>\n",
       "    </tr>\n",
       "  </tbody>\n",
       "</table>\n",
       "</div>"
      ],
      "text/plain": [
       "                                                IP             PI_MAC  \\\n",
       "2018-10-10 15:45:43.343000064+00:00  204.112.96.66  02-d1-08-c2-95-9b   \n",
       "2018-10-10 15:51:04.663000064+00:00  204.112.96.66  02-d1-08-c2-95-9b   \n",
       "2018-10-10 18:40:35.836999936+00:00  204.112.96.66  02-d1-08-c2-95-9b   \n",
       "2018-10-10 22:38:54.132999936+00:00  204.112.96.66  02-d1-08-c2-95-9b   \n",
       "2018-10-10 22:52:08.927000064+00:00  204.112.96.66  02-d1-08-c2-95-9b   \n",
       "\n",
       "                                     PROVIDER PROVINCE SK_PI  \\\n",
       "2018-10-10 15:45:43.343000064+00:00  Bell MTS      MB)     1   \n",
       "2018-10-10 15:51:04.663000064+00:00  Bell MTS      MB)     1   \n",
       "2018-10-10 18:40:35.836999936+00:00  Bell MTS      MB)     1   \n",
       "2018-10-10 22:38:54.132999936+00:00     iperf    iperf     1   \n",
       "2018-10-10 22:52:08.927000064+00:00     iperf    iperf     1   \n",
       "\n",
       "                                                       TEST_SERVER  UPLOAD  \n",
       "2018-10-10 15:45:43.343000064+00:00  Shaw Communications (Winnipeg    0.47  \n",
       "2018-10-10 15:51:04.663000064+00:00  Shaw Communications (Winnipeg    0.35  \n",
       "2018-10-10 18:40:35.836999936+00:00               Rogers (Winnipeg    0.29  \n",
       "2018-10-10 22:38:54.132999936+00:00            clearskystatus.info  698.00  \n",
       "2018-10-10 22:52:08.927000064+00:00            clearskystatus.info  656.00  "
      ]
     },
     "execution_count": 4,
     "metadata": {},
     "output_type": "execute_result"
    }
   ],
   "source": [
    "client = DataFrameClient(host, port, '', '', dbname)\n",
    "query_upload = 'SELECT * FROM SPEEDTEST_UPLOAD;'\n",
    "result_upload= client.query(query_upload)\n",
    "upload_df = result_upload['SPEEDTEST_UPLOAD']\n",
    "upload_df.head()"
   ]
  },
  {
   "cell_type": "markdown",
   "metadata": {},
   "source": [
    "It's indexed by time, lets reset index and convert time to different format(remove miliseconds)"
   ]
  },
  {
   "cell_type": "code",
   "execution_count": 5,
   "metadata": {},
   "outputs": [
    {
     "data": {
      "text/html": [
       "<div>\n",
       "<style>\n",
       "    .dataframe thead tr:only-child th {\n",
       "        text-align: right;\n",
       "    }\n",
       "\n",
       "    .dataframe thead th {\n",
       "        text-align: left;\n",
       "    }\n",
       "\n",
       "    .dataframe tbody tr th {\n",
       "        vertical-align: top;\n",
       "    }\n",
       "</style>\n",
       "<table border=\"1\" class=\"dataframe\">\n",
       "  <thead>\n",
       "    <tr style=\"text-align: right;\">\n",
       "      <th></th>\n",
       "      <th>time</th>\n",
       "      <th>IP</th>\n",
       "      <th>PI_MAC</th>\n",
       "      <th>PROVIDER</th>\n",
       "      <th>PROVINCE</th>\n",
       "      <th>SK_PI</th>\n",
       "      <th>TEST_SERVER</th>\n",
       "      <th>UPLOAD</th>\n",
       "    </tr>\n",
       "  </thead>\n",
       "  <tbody>\n",
       "    <tr>\n",
       "      <th>0</th>\n",
       "      <td>2018-10-10 15:45:43</td>\n",
       "      <td>204.112.96.66</td>\n",
       "      <td>02-d1-08-c2-95-9b</td>\n",
       "      <td>Bell MTS</td>\n",
       "      <td>MB)</td>\n",
       "      <td>1</td>\n",
       "      <td>Shaw Communications (Winnipeg</td>\n",
       "      <td>0.47</td>\n",
       "    </tr>\n",
       "    <tr>\n",
       "      <th>1</th>\n",
       "      <td>2018-10-10 15:51:04</td>\n",
       "      <td>204.112.96.66</td>\n",
       "      <td>02-d1-08-c2-95-9b</td>\n",
       "      <td>Bell MTS</td>\n",
       "      <td>MB)</td>\n",
       "      <td>1</td>\n",
       "      <td>Shaw Communications (Winnipeg</td>\n",
       "      <td>0.35</td>\n",
       "    </tr>\n",
       "    <tr>\n",
       "      <th>2</th>\n",
       "      <td>2018-10-10 18:40:35</td>\n",
       "      <td>204.112.96.66</td>\n",
       "      <td>02-d1-08-c2-95-9b</td>\n",
       "      <td>Bell MTS</td>\n",
       "      <td>MB)</td>\n",
       "      <td>1</td>\n",
       "      <td>Rogers (Winnipeg</td>\n",
       "      <td>0.29</td>\n",
       "    </tr>\n",
       "    <tr>\n",
       "      <th>3</th>\n",
       "      <td>2018-10-10 22:38:54</td>\n",
       "      <td>204.112.96.66</td>\n",
       "      <td>02-d1-08-c2-95-9b</td>\n",
       "      <td>iperf</td>\n",
       "      <td>iperf</td>\n",
       "      <td>1</td>\n",
       "      <td>clearskystatus.info</td>\n",
       "      <td>698.00</td>\n",
       "    </tr>\n",
       "    <tr>\n",
       "      <th>4</th>\n",
       "      <td>2018-10-10 22:52:08</td>\n",
       "      <td>204.112.96.66</td>\n",
       "      <td>02-d1-08-c2-95-9b</td>\n",
       "      <td>iperf</td>\n",
       "      <td>iperf</td>\n",
       "      <td>1</td>\n",
       "      <td>clearskystatus.info</td>\n",
       "      <td>656.00</td>\n",
       "    </tr>\n",
       "  </tbody>\n",
       "</table>\n",
       "</div>"
      ],
      "text/plain": [
       "                 time             IP             PI_MAC  PROVIDER PROVINCE  \\\n",
       "0 2018-10-10 15:45:43  204.112.96.66  02-d1-08-c2-95-9b  Bell MTS      MB)   \n",
       "1 2018-10-10 15:51:04  204.112.96.66  02-d1-08-c2-95-9b  Bell MTS      MB)   \n",
       "2 2018-10-10 18:40:35  204.112.96.66  02-d1-08-c2-95-9b  Bell MTS      MB)   \n",
       "3 2018-10-10 22:38:54  204.112.96.66  02-d1-08-c2-95-9b     iperf    iperf   \n",
       "4 2018-10-10 22:52:08  204.112.96.66  02-d1-08-c2-95-9b     iperf    iperf   \n",
       "\n",
       "   SK_PI                    TEST_SERVER  UPLOAD  \n",
       "0      1  Shaw Communications (Winnipeg    0.47  \n",
       "1      1  Shaw Communications (Winnipeg    0.35  \n",
       "2      1               Rogers (Winnipeg    0.29  \n",
       "3      1            clearskystatus.info  698.00  \n",
       "4      1            clearskystatus.info  656.00  "
      ]
     },
     "execution_count": 5,
     "metadata": {},
     "output_type": "execute_result"
    }
   ],
   "source": [
    "upload_df.reset_index(level=0, inplace=True)\n",
    "upload_df['index']=upload_df['index'].dt.strftime('%Y-%m-%d %H:%M:%S')\n",
    "upload_df['index'] = pd.to_datetime(upload_df['index'])\n",
    "upload_df['SK_PI']=pd.to_numeric(upload_df['SK_PI'])\n",
    "upload_df.rename(columns={'index':'time'}, inplace=True)\n",
    "upload_df.head()"
   ]
  },
  {
   "cell_type": "markdown",
   "metadata": {
    "collapsed": true
   },
   "source": [
    "How much data do we have:"
   ]
  },
  {
   "cell_type": "code",
   "execution_count": 6,
   "metadata": {},
   "outputs": [
    {
     "data": {
      "text/plain": [
       "(3654, 8)"
      ]
     },
     "execution_count": 6,
     "metadata": {},
     "output_type": "execute_result"
    }
   ],
   "source": [
    "upload_df.shape"
   ]
  },
  {
   "cell_type": "markdown",
   "metadata": {},
   "source": [
    "Are there any zeros in Upload speed colum and do they come from NaNs in the original table?"
   ]
  },
  {
   "cell_type": "code",
   "execution_count": 7,
   "metadata": {},
   "outputs": [
    {
     "data": {
      "text/html": [
       "<div>\n",
       "<style>\n",
       "    .dataframe thead tr:only-child th {\n",
       "        text-align: right;\n",
       "    }\n",
       "\n",
       "    .dataframe thead th {\n",
       "        text-align: left;\n",
       "    }\n",
       "\n",
       "    .dataframe tbody tr th {\n",
       "        vertical-align: top;\n",
       "    }\n",
       "</style>\n",
       "<table border=\"1\" class=\"dataframe\">\n",
       "  <thead>\n",
       "    <tr style=\"text-align: right;\">\n",
       "      <th></th>\n",
       "      <th>time</th>\n",
       "      <th>IP</th>\n",
       "      <th>PI_MAC</th>\n",
       "      <th>PROVIDER</th>\n",
       "      <th>PROVINCE</th>\n",
       "      <th>SK_PI</th>\n",
       "      <th>TEST_SERVER</th>\n",
       "      <th>UPLOAD</th>\n",
       "    </tr>\n",
       "  </thead>\n",
       "  <tbody>\n",
       "    <tr>\n",
       "      <th>914</th>\n",
       "      <td>2018-11-24 21:36:08</td>\n",
       "      <td>204.112.96.94</td>\n",
       "      <td>02-cd-05-c1-92-3f</td>\n",
       "      <td>Bell MTS</td>\n",
       "      <td>MB)</td>\n",
       "      <td>4</td>\n",
       "      <td>Voyageur Internet (Winnipeg</td>\n",
       "      <td>0.0</td>\n",
       "    </tr>\n",
       "    <tr>\n",
       "      <th>1061</th>\n",
       "      <td>2018-11-30 14:30:05</td>\n",
       "      <td>204.112.96.94</td>\n",
       "      <td>02-cd-05-c1-92-3f</td>\n",
       "      <td>Bell MTS</td>\n",
       "      <td>MB)</td>\n",
       "      <td>4</td>\n",
       "      <td>Shaw Communications (Winnipeg</td>\n",
       "      <td>0.0</td>\n",
       "    </tr>\n",
       "    <tr>\n",
       "      <th>1759</th>\n",
       "      <td>2018-12-13 20:42:03</td>\n",
       "      <td>204.112.96.66</td>\n",
       "      <td>02-07-06-80-d4-7c</td>\n",
       "      <td>Bell MTS</td>\n",
       "      <td>MB)</td>\n",
       "      <td>7</td>\n",
       "      <td>Commstream Communications (Winnipeg</td>\n",
       "      <td>0.0</td>\n",
       "    </tr>\n",
       "  </tbody>\n",
       "</table>\n",
       "</div>"
      ],
      "text/plain": [
       "                    time             IP             PI_MAC  PROVIDER PROVINCE  \\\n",
       "914  2018-11-24 21:36:08  204.112.96.94  02-cd-05-c1-92-3f  Bell MTS      MB)   \n",
       "1061 2018-11-30 14:30:05  204.112.96.94  02-cd-05-c1-92-3f  Bell MTS      MB)   \n",
       "1759 2018-12-13 20:42:03  204.112.96.66  02-07-06-80-d4-7c  Bell MTS      MB)   \n",
       "\n",
       "      SK_PI                          TEST_SERVER  UPLOAD  \n",
       "914       4          Voyageur Internet (Winnipeg     0.0  \n",
       "1061      4        Shaw Communications (Winnipeg     0.0  \n",
       "1759      7  Commstream Communications (Winnipeg     0.0  "
      ]
     },
     "execution_count": 7,
     "metadata": {},
     "output_type": "execute_result"
    }
   ],
   "source": [
    "mylist=['UPLOAD']\n",
    "upload_df[upload_df[mylist].eq(0).all(1)]"
   ]
  },
  {
   "cell_type": "code",
   "execution_count": 6,
   "metadata": {},
   "outputs": [
    {
     "data": {
      "text/html": [
       "<div>\n",
       "<style>\n",
       "    .dataframe thead tr:only-child th {\n",
       "        text-align: right;\n",
       "    }\n",
       "\n",
       "    .dataframe thead th {\n",
       "        text-align: left;\n",
       "    }\n",
       "\n",
       "    .dataframe tbody tr th {\n",
       "        vertical-align: top;\n",
       "    }\n",
       "</style>\n",
       "<table border=\"1\" class=\"dataframe\">\n",
       "  <thead>\n",
       "    <tr style=\"text-align: right;\">\n",
       "      <th></th>\n",
       "      <th>SK_PI</th>\n",
       "      <th>SK_FILE_PATTERN</th>\n",
       "      <th>DATA_DATE</th>\n",
       "      <th>PROVIDER</th>\n",
       "      <th>IP</th>\n",
       "      <th>TEST_SERVER</th>\n",
       "      <th>PROVINCE</th>\n",
       "      <th>PING</th>\n",
       "      <th>DOWNLOAD</th>\n",
       "      <th>UPLOAD</th>\n",
       "    </tr>\n",
       "  </thead>\n",
       "  <tbody>\n",
       "    <tr>\n",
       "      <th>0</th>\n",
       "      <td>2</td>\n",
       "      <td>20</td>\n",
       "      <td>2018-10-11 15:58:37.517</td>\n",
       "      <td>iperf</td>\n",
       "      <td>204.112.96.66</td>\n",
       "      <td>clearskystatus.info</td>\n",
       "      <td>iperf</td>\n",
       "      <td>64.647</td>\n",
       "      <td>7731.20</td>\n",
       "      <td>863.00</td>\n",
       "    </tr>\n",
       "    <tr>\n",
       "      <th>1</th>\n",
       "      <td>2</td>\n",
       "      <td>20</td>\n",
       "      <td>2018-10-11 21:16:26.587</td>\n",
       "      <td>iperf</td>\n",
       "      <td>204.112.96.66</td>\n",
       "      <td>clearskystatus.info</td>\n",
       "      <td>iperf</td>\n",
       "      <td>70.761</td>\n",
       "      <td>4720.64</td>\n",
       "      <td>1904.64</td>\n",
       "    </tr>\n",
       "    <tr>\n",
       "      <th>2</th>\n",
       "      <td>2</td>\n",
       "      <td>20</td>\n",
       "      <td>2018-10-12 00:58:29.910</td>\n",
       "      <td>iperf</td>\n",
       "      <td>204.112.96.66</td>\n",
       "      <td>clearskystatus.info</td>\n",
       "      <td>iperf</td>\n",
       "      <td>79.382</td>\n",
       "      <td>4505.60</td>\n",
       "      <td>1413.12</td>\n",
       "    </tr>\n",
       "    <tr>\n",
       "      <th>3</th>\n",
       "      <td>2</td>\n",
       "      <td>20</td>\n",
       "      <td>2018-10-12 04:40:21.220</td>\n",
       "      <td>iperf</td>\n",
       "      <td>204.112.96.66</td>\n",
       "      <td>clearskystatus.info</td>\n",
       "      <td>iperf</td>\n",
       "      <td>64.641</td>\n",
       "      <td>9984.00</td>\n",
       "      <td>4218.88</td>\n",
       "    </tr>\n",
       "    <tr>\n",
       "      <th>4</th>\n",
       "      <td>2</td>\n",
       "      <td>20</td>\n",
       "      <td>2018-10-12 08:22:27.547</td>\n",
       "      <td>iperf</td>\n",
       "      <td>204.112.96.66</td>\n",
       "      <td>clearskystatus.info</td>\n",
       "      <td>iperf</td>\n",
       "      <td>79.900</td>\n",
       "      <td>4935.68</td>\n",
       "      <td>2037.76</td>\n",
       "    </tr>\n",
       "    <tr>\n",
       "      <th>5</th>\n",
       "      <td>2</td>\n",
       "      <td>20</td>\n",
       "      <td>2018-10-12 12:04:09.850</td>\n",
       "      <td>iperf</td>\n",
       "      <td>204.112.96.66</td>\n",
       "      <td>clearskystatus.info</td>\n",
       "      <td>iperf</td>\n",
       "      <td>92.021</td>\n",
       "      <td>4935.68</td>\n",
       "      <td>1884.16</td>\n",
       "    </tr>\n",
       "    <tr>\n",
       "      <th>6</th>\n",
       "      <td>2</td>\n",
       "      <td>20</td>\n",
       "      <td>2018-10-12 15:46:23.183</td>\n",
       "      <td>iperf</td>\n",
       "      <td>204.112.96.66</td>\n",
       "      <td>clearskystatus.info</td>\n",
       "      <td>iperf</td>\n",
       "      <td>91.542</td>\n",
       "      <td>2037.76</td>\n",
       "      <td>733.00</td>\n",
       "    </tr>\n",
       "    <tr>\n",
       "      <th>7</th>\n",
       "      <td>2</td>\n",
       "      <td>20</td>\n",
       "      <td>2018-10-12 19:27:59.480</td>\n",
       "      <td>iperf</td>\n",
       "      <td>204.112.96.66</td>\n",
       "      <td>clearskystatus.info</td>\n",
       "      <td>iperf</td>\n",
       "      <td>68.190</td>\n",
       "      <td>9123.84</td>\n",
       "      <td>1443.84</td>\n",
       "    </tr>\n",
       "    <tr>\n",
       "      <th>8</th>\n",
       "      <td>2</td>\n",
       "      <td>20</td>\n",
       "      <td>2018-10-12 23:10:14.813</td>\n",
       "      <td>iperf</td>\n",
       "      <td>204.112.96.66</td>\n",
       "      <td>clearskystatus.info</td>\n",
       "      <td>iperf</td>\n",
       "      <td>63.837</td>\n",
       "      <td>11161.60</td>\n",
       "      <td>4945.92</td>\n",
       "    </tr>\n",
       "    <tr>\n",
       "      <th>9</th>\n",
       "      <td>2</td>\n",
       "      <td>20</td>\n",
       "      <td>2018-10-13 02:52:31.150</td>\n",
       "      <td>iperf</td>\n",
       "      <td>204.112.96.66</td>\n",
       "      <td>clearskystatus.info</td>\n",
       "      <td>iperf</td>\n",
       "      <td>73.064</td>\n",
       "      <td>4833.28</td>\n",
       "      <td>1105.92</td>\n",
       "    </tr>\n",
       "    <tr>\n",
       "      <th>10</th>\n",
       "      <td>2</td>\n",
       "      <td>20</td>\n",
       "      <td>2018-10-13 06:34:15.457</td>\n",
       "      <td>iperf</td>\n",
       "      <td>204.112.96.66</td>\n",
       "      <td>clearskystatus.info</td>\n",
       "      <td>iperf</td>\n",
       "      <td>65.157</td>\n",
       "      <td>7731.20</td>\n",
       "      <td>2058.24</td>\n",
       "    </tr>\n",
       "    <tr>\n",
       "      <th>11</th>\n",
       "      <td>2</td>\n",
       "      <td>20</td>\n",
       "      <td>2018-10-13 10:16:19.780</td>\n",
       "      <td>iperf</td>\n",
       "      <td>204.112.96.66</td>\n",
       "      <td>clearskystatus.info</td>\n",
       "      <td>iperf</td>\n",
       "      <td>66.006</td>\n",
       "      <td>11366.40</td>\n",
       "      <td>5539.84</td>\n",
       "    </tr>\n",
       "    <tr>\n",
       "      <th>12</th>\n",
       "      <td>2</td>\n",
       "      <td>20</td>\n",
       "      <td>2018-10-13 13:58:10.090</td>\n",
       "      <td>iperf</td>\n",
       "      <td>204.112.96.66</td>\n",
       "      <td>clearskystatus.info</td>\n",
       "      <td>iperf</td>\n",
       "      <td>63.990</td>\n",
       "      <td>10854.40</td>\n",
       "      <td>5877.76</td>\n",
       "    </tr>\n",
       "    <tr>\n",
       "      <th>13</th>\n",
       "      <td>2</td>\n",
       "      <td>20</td>\n",
       "      <td>2018-10-13 17:40:08.407</td>\n",
       "      <td>iperf</td>\n",
       "      <td>204.112.96.66</td>\n",
       "      <td>clearskystatus.info</td>\n",
       "      <td>iperf</td>\n",
       "      <td>63.901</td>\n",
       "      <td>1290.24</td>\n",
       "      <td>1136.64</td>\n",
       "    </tr>\n",
       "    <tr>\n",
       "      <th>14</th>\n",
       "      <td>2</td>\n",
       "      <td>20</td>\n",
       "      <td>2018-10-13 21:22:41.760</td>\n",
       "      <td>iperf</td>\n",
       "      <td>204.112.96.66</td>\n",
       "      <td>clearskystatus.info</td>\n",
       "      <td>iperf</td>\n",
       "      <td>324.017</td>\n",
       "      <td>10199.00</td>\n",
       "      <td>3338.24</td>\n",
       "    </tr>\n",
       "    <tr>\n",
       "      <th>15</th>\n",
       "      <td>2</td>\n",
       "      <td>20</td>\n",
       "      <td>2018-10-14 01:04:37.077</td>\n",
       "      <td>iperf</td>\n",
       "      <td>204.112.96.66</td>\n",
       "      <td>clearskystatus.info</td>\n",
       "      <td>iperf</td>\n",
       "      <td>68.756</td>\n",
       "      <td>2682.88</td>\n",
       "      <td>1382.40</td>\n",
       "    </tr>\n",
       "    <tr>\n",
       "      <th>16</th>\n",
       "      <td>2</td>\n",
       "      <td>20</td>\n",
       "      <td>2018-10-14 04:46:25.387</td>\n",
       "      <td>iperf</td>\n",
       "      <td>204.112.96.66</td>\n",
       "      <td>clearskystatus.info</td>\n",
       "      <td>iperf</td>\n",
       "      <td>63.569</td>\n",
       "      <td>6656.00</td>\n",
       "      <td>2037.76</td>\n",
       "    </tr>\n",
       "    <tr>\n",
       "      <th>17</th>\n",
       "      <td>2</td>\n",
       "      <td>20</td>\n",
       "      <td>2018-10-14 08:28:15.697</td>\n",
       "      <td>iperf</td>\n",
       "      <td>204.112.96.66</td>\n",
       "      <td>clearskystatus.info</td>\n",
       "      <td>iperf</td>\n",
       "      <td>70.192</td>\n",
       "      <td>10199.00</td>\n",
       "      <td>3338.24</td>\n",
       "    </tr>\n",
       "    <tr>\n",
       "      <th>18</th>\n",
       "      <td>2</td>\n",
       "      <td>20</td>\n",
       "      <td>2018-10-14 12:10:18.017</td>\n",
       "      <td>iperf</td>\n",
       "      <td>204.112.96.66</td>\n",
       "      <td>clearskystatus.info</td>\n",
       "      <td>iperf</td>\n",
       "      <td>63.318</td>\n",
       "      <td>6768.64</td>\n",
       "      <td>2775.04</td>\n",
       "    </tr>\n",
       "    <tr>\n",
       "      <th>19</th>\n",
       "      <td>2</td>\n",
       "      <td>20</td>\n",
       "      <td>2018-10-14 15:52:17.337</td>\n",
       "      <td>iperf</td>\n",
       "      <td>204.112.96.66</td>\n",
       "      <td>clearskystatus.info</td>\n",
       "      <td>iperf</td>\n",
       "      <td>63.737</td>\n",
       "      <td>9881.60</td>\n",
       "      <td>4044.80</td>\n",
       "    </tr>\n",
       "    <tr>\n",
       "      <th>20</th>\n",
       "      <td>2</td>\n",
       "      <td>20</td>\n",
       "      <td>2018-10-14 19:34:15.657</td>\n",
       "      <td>iperf</td>\n",
       "      <td>204.112.96.66</td>\n",
       "      <td>clearskystatus.info</td>\n",
       "      <td>iperf</td>\n",
       "      <td>65.984</td>\n",
       "      <td>8263.68</td>\n",
       "      <td>937.00</td>\n",
       "    </tr>\n",
       "    <tr>\n",
       "      <th>21</th>\n",
       "      <td>2</td>\n",
       "      <td>20</td>\n",
       "      <td>2018-10-14 23:16:24.983</td>\n",
       "      <td>iperf</td>\n",
       "      <td>204.112.96.66</td>\n",
       "      <td>clearskystatus.info</td>\n",
       "      <td>iperf</td>\n",
       "      <td>69.789</td>\n",
       "      <td>6338.56</td>\n",
       "      <td>2109.44</td>\n",
       "    </tr>\n",
       "    <tr>\n",
       "      <th>22</th>\n",
       "      <td>2</td>\n",
       "      <td>20</td>\n",
       "      <td>2018-10-15 02:58:16.297</td>\n",
       "      <td>iperf</td>\n",
       "      <td>204.112.96.66</td>\n",
       "      <td>clearskystatus.info</td>\n",
       "      <td>iperf</td>\n",
       "      <td>74.455</td>\n",
       "      <td>5908.48</td>\n",
       "      <td>1464.32</td>\n",
       "    </tr>\n",
       "    <tr>\n",
       "      <th>23</th>\n",
       "      <td>2</td>\n",
       "      <td>20</td>\n",
       "      <td>2018-10-15 06:40:13.613</td>\n",
       "      <td>iperf</td>\n",
       "      <td>204.112.96.66</td>\n",
       "      <td>clearskystatus.info</td>\n",
       "      <td>iperf</td>\n",
       "      <td>63.706</td>\n",
       "      <td>10649.60</td>\n",
       "      <td>4259.84</td>\n",
       "    </tr>\n",
       "    <tr>\n",
       "      <th>24</th>\n",
       "      <td>2</td>\n",
       "      <td>20</td>\n",
       "      <td>2018-10-15 10:22:07.927</td>\n",
       "      <td>iperf</td>\n",
       "      <td>204.112.96.66</td>\n",
       "      <td>clearskystatus.info</td>\n",
       "      <td>iperf</td>\n",
       "      <td>64.790</td>\n",
       "      <td>11878.40</td>\n",
       "      <td>5058.56</td>\n",
       "    </tr>\n",
       "    <tr>\n",
       "      <th>25</th>\n",
       "      <td>2</td>\n",
       "      <td>20</td>\n",
       "      <td>2018-10-15 14:04:03.243</td>\n",
       "      <td>iperf</td>\n",
       "      <td>204.112.96.66</td>\n",
       "      <td>clearskystatus.info</td>\n",
       "      <td>iperf</td>\n",
       "      <td>70.693</td>\n",
       "      <td>7086.08</td>\n",
       "      <td>1024.00</td>\n",
       "    </tr>\n",
       "    <tr>\n",
       "      <th>26</th>\n",
       "      <td>2</td>\n",
       "      <td>20</td>\n",
       "      <td>2018-10-15 17:46:06.567</td>\n",
       "      <td>iperf</td>\n",
       "      <td>204.112.96.66</td>\n",
       "      <td>clearskystatus.info</td>\n",
       "      <td>iperf</td>\n",
       "      <td>68.217</td>\n",
       "      <td>5365.76</td>\n",
       "      <td>3921.92</td>\n",
       "    </tr>\n",
       "    <tr>\n",
       "      <th>27</th>\n",
       "      <td>2</td>\n",
       "      <td>20</td>\n",
       "      <td>2018-10-15 21:28:10.890</td>\n",
       "      <td>iperf</td>\n",
       "      <td>204.112.96.66</td>\n",
       "      <td>clearskystatus.info</td>\n",
       "      <td>iperf</td>\n",
       "      <td>66.128</td>\n",
       "      <td>3655.68</td>\n",
       "      <td>939.00</td>\n",
       "    </tr>\n",
       "    <tr>\n",
       "      <th>28</th>\n",
       "      <td>2</td>\n",
       "      <td>20</td>\n",
       "      <td>2018-10-16 04:51:56.517</td>\n",
       "      <td>iperf</td>\n",
       "      <td>204.112.96.66</td>\n",
       "      <td>clearskystatus.info</td>\n",
       "      <td>iperf</td>\n",
       "      <td>64.699</td>\n",
       "      <td>5795.84</td>\n",
       "      <td>3850.24</td>\n",
       "    </tr>\n",
       "    <tr>\n",
       "      <th>29</th>\n",
       "      <td>2</td>\n",
       "      <td>20</td>\n",
       "      <td>2018-10-16 12:16:09.170</td>\n",
       "      <td>iperf</td>\n",
       "      <td>204.112.96.66</td>\n",
       "      <td>clearskystatus.info</td>\n",
       "      <td>iperf</td>\n",
       "      <td>63.066</td>\n",
       "      <td>9338.88</td>\n",
       "      <td>2590.72</td>\n",
       "    </tr>\n",
       "    <tr>\n",
       "      <th>...</th>\n",
       "      <td>...</td>\n",
       "      <td>...</td>\n",
       "      <td>...</td>\n",
       "      <td>...</td>\n",
       "      <td>...</td>\n",
       "      <td>...</td>\n",
       "      <td>...</td>\n",
       "      <td>...</td>\n",
       "      <td>...</td>\n",
       "      <td>...</td>\n",
       "    </tr>\n",
       "    <tr>\n",
       "      <th>70</th>\n",
       "      <td>2</td>\n",
       "      <td>20</td>\n",
       "      <td>2018-10-24 20:04:08.447</td>\n",
       "      <td>iperf</td>\n",
       "      <td>204.112.96.66</td>\n",
       "      <td>clearskystatus.info</td>\n",
       "      <td>iperf</td>\n",
       "      <td>64.976</td>\n",
       "      <td>2365.44</td>\n",
       "      <td>838.00</td>\n",
       "    </tr>\n",
       "    <tr>\n",
       "      <th>71</th>\n",
       "      <td>2</td>\n",
       "      <td>20</td>\n",
       "      <td>2018-10-24 23:46:25.787</td>\n",
       "      <td>iperf</td>\n",
       "      <td>204.112.96.66</td>\n",
       "      <td>clearskystatus.info</td>\n",
       "      <td>iperf</td>\n",
       "      <td>74.145</td>\n",
       "      <td>839.00</td>\n",
       "      <td>68.30</td>\n",
       "    </tr>\n",
       "    <tr>\n",
       "      <th>72</th>\n",
       "      <td>2</td>\n",
       "      <td>20</td>\n",
       "      <td>2018-10-25 03:28:44.123</td>\n",
       "      <td>iperf</td>\n",
       "      <td>204.112.96.66</td>\n",
       "      <td>clearskystatus.info</td>\n",
       "      <td>iperf</td>\n",
       "      <td>113.491</td>\n",
       "      <td>1290.24</td>\n",
       "      <td>57.90</td>\n",
       "    </tr>\n",
       "    <tr>\n",
       "      <th>73</th>\n",
       "      <td>2</td>\n",
       "      <td>20</td>\n",
       "      <td>2018-10-25 07:10:23.423</td>\n",
       "      <td>iperf</td>\n",
       "      <td>204.112.96.66</td>\n",
       "      <td>clearskystatus.info</td>\n",
       "      <td>iperf</td>\n",
       "      <td>70.287</td>\n",
       "      <td>4188.16</td>\n",
       "      <td>517.00</td>\n",
       "    </tr>\n",
       "    <tr>\n",
       "      <th>74</th>\n",
       "      <td>2</td>\n",
       "      <td>20</td>\n",
       "      <td>2018-10-25 10:52:16.737</td>\n",
       "      <td>iperf</td>\n",
       "      <td>204.112.96.66</td>\n",
       "      <td>clearskystatus.info</td>\n",
       "      <td>iperf</td>\n",
       "      <td>65.019</td>\n",
       "      <td>6768.64</td>\n",
       "      <td>780.00</td>\n",
       "    </tr>\n",
       "    <tr>\n",
       "      <th>75</th>\n",
       "      <td>2</td>\n",
       "      <td>20</td>\n",
       "      <td>2018-10-25 14:34:12.053</td>\n",
       "      <td>iperf</td>\n",
       "      <td>204.112.96.66</td>\n",
       "      <td>clearskystatus.info</td>\n",
       "      <td>iperf</td>\n",
       "      <td>65.958</td>\n",
       "      <td>6123.52</td>\n",
       "      <td>507.00</td>\n",
       "    </tr>\n",
       "    <tr>\n",
       "      <th>76</th>\n",
       "      <td>2</td>\n",
       "      <td>20</td>\n",
       "      <td>2018-10-25 18:16:29.390</td>\n",
       "      <td>iperf</td>\n",
       "      <td>204.112.96.66</td>\n",
       "      <td>clearskystatus.info</td>\n",
       "      <td>iperf</td>\n",
       "      <td>68.442</td>\n",
       "      <td>3440.64</td>\n",
       "      <td>352.00</td>\n",
       "    </tr>\n",
       "    <tr>\n",
       "      <th>77</th>\n",
       "      <td>2</td>\n",
       "      <td>20</td>\n",
       "      <td>2018-10-25 21:58:35.717</td>\n",
       "      <td>iperf</td>\n",
       "      <td>204.112.96.66</td>\n",
       "      <td>clearskystatus.info</td>\n",
       "      <td>iperf</td>\n",
       "      <td>94.595</td>\n",
       "      <td>1720.32</td>\n",
       "      <td>229.00</td>\n",
       "    </tr>\n",
       "    <tr>\n",
       "      <th>78</th>\n",
       "      <td>2</td>\n",
       "      <td>20</td>\n",
       "      <td>2018-10-26 01:40:15.017</td>\n",
       "      <td>iperf</td>\n",
       "      <td>204.112.96.66</td>\n",
       "      <td>clearskystatus.info</td>\n",
       "      <td>iperf</td>\n",
       "      <td>64.810</td>\n",
       "      <td>3543.04</td>\n",
       "      <td>493.00</td>\n",
       "    </tr>\n",
       "    <tr>\n",
       "      <th>79</th>\n",
       "      <td>2</td>\n",
       "      <td>20</td>\n",
       "      <td>2018-10-26 05:22:32.353</td>\n",
       "      <td>iperf</td>\n",
       "      <td>204.112.96.66</td>\n",
       "      <td>clearskystatus.info</td>\n",
       "      <td>iperf</td>\n",
       "      <td>65.021</td>\n",
       "      <td>2252.80</td>\n",
       "      <td>326.00</td>\n",
       "    </tr>\n",
       "    <tr>\n",
       "      <th>80</th>\n",
       "      <td>2</td>\n",
       "      <td>20</td>\n",
       "      <td>2018-10-26 09:04:11.650</td>\n",
       "      <td>iperf</td>\n",
       "      <td>204.112.96.66</td>\n",
       "      <td>clearskystatus.info</td>\n",
       "      <td>iperf</td>\n",
       "      <td>61.626</td>\n",
       "      <td>5795.84</td>\n",
       "      <td>504.00</td>\n",
       "    </tr>\n",
       "    <tr>\n",
       "      <th>81</th>\n",
       "      <td>2</td>\n",
       "      <td>20</td>\n",
       "      <td>2018-10-26 12:46:32.993</td>\n",
       "      <td>iperf</td>\n",
       "      <td>204.112.96.66</td>\n",
       "      <td>clearskystatus.info</td>\n",
       "      <td>iperf</td>\n",
       "      <td>57.432</td>\n",
       "      <td>2795.52</td>\n",
       "      <td>262.00</td>\n",
       "    </tr>\n",
       "    <tr>\n",
       "      <th>82</th>\n",
       "      <td>2</td>\n",
       "      <td>20</td>\n",
       "      <td>2018-10-26 16:28:06.287</td>\n",
       "      <td>iperf</td>\n",
       "      <td>204.112.96.66</td>\n",
       "      <td>clearskystatus.info</td>\n",
       "      <td>iperf</td>\n",
       "      <td>67.839</td>\n",
       "      <td>1392.64</td>\n",
       "      <td>248.00</td>\n",
       "    </tr>\n",
       "    <tr>\n",
       "      <th>83</th>\n",
       "      <td>2</td>\n",
       "      <td>20</td>\n",
       "      <td>2018-10-27 03:35:06.307</td>\n",
       "      <td>iperf</td>\n",
       "      <td>204.112.96.66</td>\n",
       "      <td>clearskystatus.info</td>\n",
       "      <td>iperf</td>\n",
       "      <td>115.159</td>\n",
       "      <td>315.00</td>\n",
       "      <td>23.20</td>\n",
       "    </tr>\n",
       "    <tr>\n",
       "      <th>84</th>\n",
       "      <td>2</td>\n",
       "      <td>20</td>\n",
       "      <td>2018-10-27 10:58:25.907</td>\n",
       "      <td>iperf</td>\n",
       "      <td>204.112.96.66</td>\n",
       "      <td>clearskystatus.info</td>\n",
       "      <td>iperf</td>\n",
       "      <td>64.596</td>\n",
       "      <td>4935.68</td>\n",
       "      <td>276.00</td>\n",
       "    </tr>\n",
       "    <tr>\n",
       "      <th>85</th>\n",
       "      <td>2</td>\n",
       "      <td>20</td>\n",
       "      <td>2018-10-28 12:52:14.133</td>\n",
       "      <td>iperf</td>\n",
       "      <td>204.112.96.66</td>\n",
       "      <td>clearskystatus.info</td>\n",
       "      <td>iperf</td>\n",
       "      <td>68.613</td>\n",
       "      <td>5908.48</td>\n",
       "      <td>703.00</td>\n",
       "    </tr>\n",
       "    <tr>\n",
       "      <th>86</th>\n",
       "      <td>2</td>\n",
       "      <td>20</td>\n",
       "      <td>2018-10-29 18:28:15.697</td>\n",
       "      <td>iperf</td>\n",
       "      <td>204.112.96.66</td>\n",
       "      <td>clearskystatus.info</td>\n",
       "      <td>iperf</td>\n",
       "      <td>64.737</td>\n",
       "      <td>5795.84</td>\n",
       "      <td>221.00</td>\n",
       "    </tr>\n",
       "    <tr>\n",
       "      <th>87</th>\n",
       "      <td>2</td>\n",
       "      <td>20</td>\n",
       "      <td>2018-10-30 05:34:46.687</td>\n",
       "      <td>iperf</td>\n",
       "      <td>204.112.96.66</td>\n",
       "      <td>clearskystatus.info</td>\n",
       "      <td>iperf</td>\n",
       "      <td>70.257</td>\n",
       "      <td>6010.88</td>\n",
       "      <td>111.00</td>\n",
       "    </tr>\n",
       "    <tr>\n",
       "      <th>88</th>\n",
       "      <td>2</td>\n",
       "      <td>20</td>\n",
       "      <td>2018-10-30 16:40:24.623</td>\n",
       "      <td>iperf</td>\n",
       "      <td>204.112.96.66</td>\n",
       "      <td>clearskystatus.info</td>\n",
       "      <td>iperf</td>\n",
       "      <td>65.417</td>\n",
       "      <td>5478.40</td>\n",
       "      <td>225.00</td>\n",
       "    </tr>\n",
       "    <tr>\n",
       "      <th>89</th>\n",
       "      <td>2</td>\n",
       "      <td>20</td>\n",
       "      <td>2018-10-30 20:23:06.987</td>\n",
       "      <td>iperf</td>\n",
       "      <td>204.112.96.66</td>\n",
       "      <td>clearskystatus.info</td>\n",
       "      <td>iperf</td>\n",
       "      <td>70.441</td>\n",
       "      <td>6656.00</td>\n",
       "      <td>295.00</td>\n",
       "    </tr>\n",
       "    <tr>\n",
       "      <th>90</th>\n",
       "      <td>2</td>\n",
       "      <td>20</td>\n",
       "      <td>2018-10-31 07:28:12.893</td>\n",
       "      <td>iperf</td>\n",
       "      <td>204.112.96.66</td>\n",
       "      <td>clearskystatus.info</td>\n",
       "      <td>iperf</td>\n",
       "      <td>74.111</td>\n",
       "      <td>5478.40</td>\n",
       "      <td>70.70</td>\n",
       "    </tr>\n",
       "    <tr>\n",
       "      <th>91</th>\n",
       "      <td>2</td>\n",
       "      <td>20</td>\n",
       "      <td>2018-11-01 05:40:14.813</td>\n",
       "      <td>iperf</td>\n",
       "      <td>204.112.96.66</td>\n",
       "      <td>clearskystatus.info</td>\n",
       "      <td>iperf</td>\n",
       "      <td>64.715</td>\n",
       "      <td>8478.72</td>\n",
       "      <td>4454.40</td>\n",
       "    </tr>\n",
       "    <tr>\n",
       "      <th>92</th>\n",
       "      <td>2</td>\n",
       "      <td>20</td>\n",
       "      <td>2018-11-01 09:22:13.133</td>\n",
       "      <td>iperf</td>\n",
       "      <td>204.112.96.66</td>\n",
       "      <td>clearskystatus.info</td>\n",
       "      <td>iperf</td>\n",
       "      <td>64.265</td>\n",
       "      <td>10199.00</td>\n",
       "      <td>5611.52</td>\n",
       "    </tr>\n",
       "    <tr>\n",
       "      <th>93</th>\n",
       "      <td>2</td>\n",
       "      <td>20</td>\n",
       "      <td>2018-11-01 13:04:14.453</td>\n",
       "      <td>iperf</td>\n",
       "      <td>204.112.96.66</td>\n",
       "      <td>clearskystatus.info</td>\n",
       "      <td>iperf</td>\n",
       "      <td>64.428</td>\n",
       "      <td>10096.60</td>\n",
       "      <td>2181.12</td>\n",
       "    </tr>\n",
       "    <tr>\n",
       "      <th>94</th>\n",
       "      <td>2</td>\n",
       "      <td>20</td>\n",
       "      <td>2018-11-01 16:46:08.767</td>\n",
       "      <td>iperf</td>\n",
       "      <td>204.112.96.66</td>\n",
       "      <td>clearskystatus.info</td>\n",
       "      <td>iperf</td>\n",
       "      <td>66.329</td>\n",
       "      <td>6983.68</td>\n",
       "      <td>2467.84</td>\n",
       "    </tr>\n",
       "    <tr>\n",
       "      <th>95</th>\n",
       "      <td>2</td>\n",
       "      <td>20</td>\n",
       "      <td>2018-11-01 20:28:08.087</td>\n",
       "      <td>iperf</td>\n",
       "      <td>204.112.96.66</td>\n",
       "      <td>clearskystatus.info</td>\n",
       "      <td>iperf</td>\n",
       "      <td>67.605</td>\n",
       "      <td>8908.80</td>\n",
       "      <td>1413.12</td>\n",
       "    </tr>\n",
       "    <tr>\n",
       "      <th>96</th>\n",
       "      <td>2</td>\n",
       "      <td>20</td>\n",
       "      <td>2018-11-02 00:10:09.410</td>\n",
       "      <td>iperf</td>\n",
       "      <td>204.112.96.66</td>\n",
       "      <td>clearskystatus.info</td>\n",
       "      <td>iperf</td>\n",
       "      <td>71.869</td>\n",
       "      <td>8161.28</td>\n",
       "      <td>2160.64</td>\n",
       "    </tr>\n",
       "    <tr>\n",
       "      <th>97</th>\n",
       "      <td>2</td>\n",
       "      <td>20</td>\n",
       "      <td>2018-11-02 07:34:05.047</td>\n",
       "      <td>iperf</td>\n",
       "      <td>204.112.96.66</td>\n",
       "      <td>clearskystatus.info</td>\n",
       "      <td>iperf</td>\n",
       "      <td>66.574</td>\n",
       "      <td>9666.56</td>\n",
       "      <td>4904.96</td>\n",
       "    </tr>\n",
       "    <tr>\n",
       "      <th>98</th>\n",
       "      <td>2</td>\n",
       "      <td>20</td>\n",
       "      <td>2018-11-02 11:16:07.367</td>\n",
       "      <td>iperf</td>\n",
       "      <td>204.112.96.66</td>\n",
       "      <td>clearskystatus.info</td>\n",
       "      <td>iperf</td>\n",
       "      <td>63.489</td>\n",
       "      <td>9666.56</td>\n",
       "      <td>4290.56</td>\n",
       "    </tr>\n",
       "    <tr>\n",
       "      <th>99</th>\n",
       "      <td>2</td>\n",
       "      <td>20</td>\n",
       "      <td>2018-11-02 15:09:02.343</td>\n",
       "      <td>iperf</td>\n",
       "      <td>204.112.96.66</td>\n",
       "      <td>clearskystatus.info</td>\n",
       "      <td>iperf</td>\n",
       "      <td>63.082</td>\n",
       "      <td>7516.16</td>\n",
       "      <td>2590.72</td>\n",
       "    </tr>\n",
       "  </tbody>\n",
       "</table>\n",
       "<p>100 rows × 10 columns</p>\n",
       "</div>"
      ],
      "text/plain": [
       "    SK_PI  SK_FILE_PATTERN               DATA_DATE PROVIDER             IP  \\\n",
       "0       2               20 2018-10-11 15:58:37.517    iperf  204.112.96.66   \n",
       "1       2               20 2018-10-11 21:16:26.587    iperf  204.112.96.66   \n",
       "2       2               20 2018-10-12 00:58:29.910    iperf  204.112.96.66   \n",
       "3       2               20 2018-10-12 04:40:21.220    iperf  204.112.96.66   \n",
       "4       2               20 2018-10-12 08:22:27.547    iperf  204.112.96.66   \n",
       "5       2               20 2018-10-12 12:04:09.850    iperf  204.112.96.66   \n",
       "6       2               20 2018-10-12 15:46:23.183    iperf  204.112.96.66   \n",
       "7       2               20 2018-10-12 19:27:59.480    iperf  204.112.96.66   \n",
       "8       2               20 2018-10-12 23:10:14.813    iperf  204.112.96.66   \n",
       "9       2               20 2018-10-13 02:52:31.150    iperf  204.112.96.66   \n",
       "10      2               20 2018-10-13 06:34:15.457    iperf  204.112.96.66   \n",
       "11      2               20 2018-10-13 10:16:19.780    iperf  204.112.96.66   \n",
       "12      2               20 2018-10-13 13:58:10.090    iperf  204.112.96.66   \n",
       "13      2               20 2018-10-13 17:40:08.407    iperf  204.112.96.66   \n",
       "14      2               20 2018-10-13 21:22:41.760    iperf  204.112.96.66   \n",
       "15      2               20 2018-10-14 01:04:37.077    iperf  204.112.96.66   \n",
       "16      2               20 2018-10-14 04:46:25.387    iperf  204.112.96.66   \n",
       "17      2               20 2018-10-14 08:28:15.697    iperf  204.112.96.66   \n",
       "18      2               20 2018-10-14 12:10:18.017    iperf  204.112.96.66   \n",
       "19      2               20 2018-10-14 15:52:17.337    iperf  204.112.96.66   \n",
       "20      2               20 2018-10-14 19:34:15.657    iperf  204.112.96.66   \n",
       "21      2               20 2018-10-14 23:16:24.983    iperf  204.112.96.66   \n",
       "22      2               20 2018-10-15 02:58:16.297    iperf  204.112.96.66   \n",
       "23      2               20 2018-10-15 06:40:13.613    iperf  204.112.96.66   \n",
       "24      2               20 2018-10-15 10:22:07.927    iperf  204.112.96.66   \n",
       "25      2               20 2018-10-15 14:04:03.243    iperf  204.112.96.66   \n",
       "26      2               20 2018-10-15 17:46:06.567    iperf  204.112.96.66   \n",
       "27      2               20 2018-10-15 21:28:10.890    iperf  204.112.96.66   \n",
       "28      2               20 2018-10-16 04:51:56.517    iperf  204.112.96.66   \n",
       "29      2               20 2018-10-16 12:16:09.170    iperf  204.112.96.66   \n",
       "..    ...              ...                     ...      ...            ...   \n",
       "70      2               20 2018-10-24 20:04:08.447    iperf  204.112.96.66   \n",
       "71      2               20 2018-10-24 23:46:25.787    iperf  204.112.96.66   \n",
       "72      2               20 2018-10-25 03:28:44.123    iperf  204.112.96.66   \n",
       "73      2               20 2018-10-25 07:10:23.423    iperf  204.112.96.66   \n",
       "74      2               20 2018-10-25 10:52:16.737    iperf  204.112.96.66   \n",
       "75      2               20 2018-10-25 14:34:12.053    iperf  204.112.96.66   \n",
       "76      2               20 2018-10-25 18:16:29.390    iperf  204.112.96.66   \n",
       "77      2               20 2018-10-25 21:58:35.717    iperf  204.112.96.66   \n",
       "78      2               20 2018-10-26 01:40:15.017    iperf  204.112.96.66   \n",
       "79      2               20 2018-10-26 05:22:32.353    iperf  204.112.96.66   \n",
       "80      2               20 2018-10-26 09:04:11.650    iperf  204.112.96.66   \n",
       "81      2               20 2018-10-26 12:46:32.993    iperf  204.112.96.66   \n",
       "82      2               20 2018-10-26 16:28:06.287    iperf  204.112.96.66   \n",
       "83      2               20 2018-10-27 03:35:06.307    iperf  204.112.96.66   \n",
       "84      2               20 2018-10-27 10:58:25.907    iperf  204.112.96.66   \n",
       "85      2               20 2018-10-28 12:52:14.133    iperf  204.112.96.66   \n",
       "86      2               20 2018-10-29 18:28:15.697    iperf  204.112.96.66   \n",
       "87      2               20 2018-10-30 05:34:46.687    iperf  204.112.96.66   \n",
       "88      2               20 2018-10-30 16:40:24.623    iperf  204.112.96.66   \n",
       "89      2               20 2018-10-30 20:23:06.987    iperf  204.112.96.66   \n",
       "90      2               20 2018-10-31 07:28:12.893    iperf  204.112.96.66   \n",
       "91      2               20 2018-11-01 05:40:14.813    iperf  204.112.96.66   \n",
       "92      2               20 2018-11-01 09:22:13.133    iperf  204.112.96.66   \n",
       "93      2               20 2018-11-01 13:04:14.453    iperf  204.112.96.66   \n",
       "94      2               20 2018-11-01 16:46:08.767    iperf  204.112.96.66   \n",
       "95      2               20 2018-11-01 20:28:08.087    iperf  204.112.96.66   \n",
       "96      2               20 2018-11-02 00:10:09.410    iperf  204.112.96.66   \n",
       "97      2               20 2018-11-02 07:34:05.047    iperf  204.112.96.66   \n",
       "98      2               20 2018-11-02 11:16:07.367    iperf  204.112.96.66   \n",
       "99      2               20 2018-11-02 15:09:02.343    iperf  204.112.96.66   \n",
       "\n",
       "            TEST_SERVER PROVINCE     PING  DOWNLOAD   UPLOAD  \n",
       "0   clearskystatus.info    iperf   64.647   7731.20   863.00  \n",
       "1   clearskystatus.info    iperf   70.761   4720.64  1904.64  \n",
       "2   clearskystatus.info    iperf   79.382   4505.60  1413.12  \n",
       "3   clearskystatus.info    iperf   64.641   9984.00  4218.88  \n",
       "4   clearskystatus.info    iperf   79.900   4935.68  2037.76  \n",
       "5   clearskystatus.info    iperf   92.021   4935.68  1884.16  \n",
       "6   clearskystatus.info    iperf   91.542   2037.76   733.00  \n",
       "7   clearskystatus.info    iperf   68.190   9123.84  1443.84  \n",
       "8   clearskystatus.info    iperf   63.837  11161.60  4945.92  \n",
       "9   clearskystatus.info    iperf   73.064   4833.28  1105.92  \n",
       "10  clearskystatus.info    iperf   65.157   7731.20  2058.24  \n",
       "11  clearskystatus.info    iperf   66.006  11366.40  5539.84  \n",
       "12  clearskystatus.info    iperf   63.990  10854.40  5877.76  \n",
       "13  clearskystatus.info    iperf   63.901   1290.24  1136.64  \n",
       "14  clearskystatus.info    iperf  324.017  10199.00  3338.24  \n",
       "15  clearskystatus.info    iperf   68.756   2682.88  1382.40  \n",
       "16  clearskystatus.info    iperf   63.569   6656.00  2037.76  \n",
       "17  clearskystatus.info    iperf   70.192  10199.00  3338.24  \n",
       "18  clearskystatus.info    iperf   63.318   6768.64  2775.04  \n",
       "19  clearskystatus.info    iperf   63.737   9881.60  4044.80  \n",
       "20  clearskystatus.info    iperf   65.984   8263.68   937.00  \n",
       "21  clearskystatus.info    iperf   69.789   6338.56  2109.44  \n",
       "22  clearskystatus.info    iperf   74.455   5908.48  1464.32  \n",
       "23  clearskystatus.info    iperf   63.706  10649.60  4259.84  \n",
       "24  clearskystatus.info    iperf   64.790  11878.40  5058.56  \n",
       "25  clearskystatus.info    iperf   70.693   7086.08  1024.00  \n",
       "26  clearskystatus.info    iperf   68.217   5365.76  3921.92  \n",
       "27  clearskystatus.info    iperf   66.128   3655.68   939.00  \n",
       "28  clearskystatus.info    iperf   64.699   5795.84  3850.24  \n",
       "29  clearskystatus.info    iperf   63.066   9338.88  2590.72  \n",
       "..                  ...      ...      ...       ...      ...  \n",
       "70  clearskystatus.info    iperf   64.976   2365.44   838.00  \n",
       "71  clearskystatus.info    iperf   74.145    839.00    68.30  \n",
       "72  clearskystatus.info    iperf  113.491   1290.24    57.90  \n",
       "73  clearskystatus.info    iperf   70.287   4188.16   517.00  \n",
       "74  clearskystatus.info    iperf   65.019   6768.64   780.00  \n",
       "75  clearskystatus.info    iperf   65.958   6123.52   507.00  \n",
       "76  clearskystatus.info    iperf   68.442   3440.64   352.00  \n",
       "77  clearskystatus.info    iperf   94.595   1720.32   229.00  \n",
       "78  clearskystatus.info    iperf   64.810   3543.04   493.00  \n",
       "79  clearskystatus.info    iperf   65.021   2252.80   326.00  \n",
       "80  clearskystatus.info    iperf   61.626   5795.84   504.00  \n",
       "81  clearskystatus.info    iperf   57.432   2795.52   262.00  \n",
       "82  clearskystatus.info    iperf   67.839   1392.64   248.00  \n",
       "83  clearskystatus.info    iperf  115.159    315.00    23.20  \n",
       "84  clearskystatus.info    iperf   64.596   4935.68   276.00  \n",
       "85  clearskystatus.info    iperf   68.613   5908.48   703.00  \n",
       "86  clearskystatus.info    iperf   64.737   5795.84   221.00  \n",
       "87  clearskystatus.info    iperf   70.257   6010.88   111.00  \n",
       "88  clearskystatus.info    iperf   65.417   5478.40   225.00  \n",
       "89  clearskystatus.info    iperf   70.441   6656.00   295.00  \n",
       "90  clearskystatus.info    iperf   74.111   5478.40    70.70  \n",
       "91  clearskystatus.info    iperf   64.715   8478.72  4454.40  \n",
       "92  clearskystatus.info    iperf   64.265  10199.00  5611.52  \n",
       "93  clearskystatus.info    iperf   64.428  10096.60  2181.12  \n",
       "94  clearskystatus.info    iperf   66.329   6983.68  2467.84  \n",
       "95  clearskystatus.info    iperf   67.605   8908.80  1413.12  \n",
       "96  clearskystatus.info    iperf   71.869   8161.28  2160.64  \n",
       "97  clearskystatus.info    iperf   66.574   9666.56  4904.96  \n",
       "98  clearskystatus.info    iperf   63.489   9666.56  4290.56  \n",
       "99  clearskystatus.info    iperf   63.082   7516.16  2590.72  \n",
       "\n",
       "[100 rows x 10 columns]"
      ]
     },
     "execution_count": 6,
     "metadata": {},
     "output_type": "execute_result"
    }
   ],
   "source": [
    "import pyodbc\n",
    "password=credentials_config['mssql_password']\n",
    "srv=credentials_config['mssql_host']\n",
    "cnxn = pyodbc.connect(driver='/usr/local/lib/libtdsodbc.so', server=srv,port='1433', database='net_speed_md', uid='cybera_sql', pwd=password)\n",
    "sql = \"SELECT TOP 100 * FROM FCT_SPEEDTEST ;\"\n",
    "data = pd.read_sql(sql,cnxn)\n",
    "data"
   ]
  },
  {
   "cell_type": "markdown",
   "metadata": {},
   "source": [
    "Something is possibly wrong with these measurments, we wille exclude them for now:"
   ]
  },
  {
   "cell_type": "code",
   "execution_count": 9,
   "metadata": {},
   "outputs": [
    {
     "data": {
      "text/plain": [
       "(3651, 8)"
      ]
     },
     "execution_count": 9,
     "metadata": {},
     "output_type": "execute_result"
    }
   ],
   "source": [
    "upload_df = upload_df[upload_df.UPLOAD != 0]\n",
    "upload_df.shape"
   ]
  },
  {
   "cell_type": "code",
   "execution_count": 10,
   "metadata": {
    "collapsed": true
   },
   "outputs": [],
   "source": [
    "#upload_df.describe(include='all')"
   ]
  },
  {
   "cell_type": "markdown",
   "metadata": {},
   "source": [
    "### How may data points per device?"
   ]
  },
  {
   "cell_type": "code",
   "execution_count": 11,
   "metadata": {},
   "outputs": [
    {
     "data": {
      "application/vnd.plotly.v1+json": {
       "data": [
        {
         "type": "bar",
         "x": [
          1,
          2,
          3,
          4,
          5,
          6,
          7,
          8,
          9,
          10,
          11,
          12,
          14,
          15,
          16,
          17,
          18
         ],
         "y": [
          10,
          240,
          299,
          287,
          555,
          32,
          365,
          23,
          256,
          168,
          242,
          253,
          216,
          216,
          195,
          164,
          130
         ]
        }
       ],
       "layout": {
        "barmode": "stack",
        "title": "Number of data points per device"
       }
      },
      "text/html": [
       "<div id=\"c1b7b616-9ea2-4e4d-853f-5bef08b1834b\" style=\"height: 525px; width: 100%;\" class=\"plotly-graph-div\"></div><script type=\"text/javascript\">require([\"plotly\"], function(Plotly) { window.PLOTLYENV=window.PLOTLYENV || {};window.PLOTLYENV.BASE_URL=\"https://plot.ly\";Plotly.newPlot(\"c1b7b616-9ea2-4e4d-853f-5bef08b1834b\", [{\"type\": \"bar\", \"x\": [1, 2, 3, 4, 5, 6, 7, 8, 9, 10, 11, 12, 14, 15, 16, 17, 18], \"y\": [10, 240, 299, 287, 555, 32, 365, 23, 256, 168, 242, 253, 216, 216, 195, 164, 130]}], {\"barmode\": \"stack\", \"title\": \"Number of data points per device\"}, {\"showLink\": true, \"linkText\": \"Export to plot.ly\"})});</script>"
      ],
      "text/vnd.plotly.v1+html": [
       "<div id=\"c1b7b616-9ea2-4e4d-853f-5bef08b1834b\" style=\"height: 525px; width: 100%;\" class=\"plotly-graph-div\"></div><script type=\"text/javascript\">require([\"plotly\"], function(Plotly) { window.PLOTLYENV=window.PLOTLYENV || {};window.PLOTLYENV.BASE_URL=\"https://plot.ly\";Plotly.newPlot(\"c1b7b616-9ea2-4e4d-853f-5bef08b1834b\", [{\"type\": \"bar\", \"x\": [1, 2, 3, 4, 5, 6, 7, 8, 9, 10, 11, 12, 14, 15, 16, 17, 18], \"y\": [10, 240, 299, 287, 555, 32, 365, 23, 256, 168, 242, 253, 216, 216, 195, 164, 130]}], {\"barmode\": \"stack\", \"title\": \"Number of data points per device\"}, {\"showLink\": true, \"linkText\": \"Export to plot.ly\"})});</script>"
      ]
     },
     "metadata": {},
     "output_type": "display_data"
    }
   ],
   "source": [
    "points_by_device=upload_df.groupby(['SK_PI']).size().reset_index(name='counts').sort_values('SK_PI')\n",
    "data = [go.Bar(\n",
    "            x=points_by_device[\"SK_PI\"],\n",
    "            y=points_by_device[\"counts\"],\n",
    "    )]\n",
    "\n",
    "layout = go.Layout(\n",
    "        barmode='stack',\n",
    "        title=\"Number of data points per device\"\n",
    "    )\n",
    "\n",
    "fig = go.Figure(data=data, layout=layout)\n",
    "#print(points_by_device)\n",
    "iplot(fig)"
   ]
  },
  {
   "cell_type": "markdown",
   "metadata": {},
   "source": [
    "Device 13 doesn to have any speedtest data?  \n",
    "Device 5 has the largest amount of datapoints - is it on for a longest time?"
   ]
  },
  {
   "cell_type": "markdown",
   "metadata": {},
   "source": [
    "#### How many datapoints in the last 4 weeks?"
   ]
  },
  {
   "cell_type": "code",
   "execution_count": 12,
   "metadata": {
    "collapsed": true
   },
   "outputs": [],
   "source": [
    "four_weeks_ago = datetime.date.today() - datetime.timedelta(days=28)\n",
    "upload_df_last4weeks = upload_df[upload_df['time']>four_weeks_ago]\n",
    "points_by_device_las4weeks = upload_df_last4weeks.groupby(['SK_PI']).size().reset_index(name='counts').sort_values('SK_PI')\n",
    "merged_results=pd.merge(points_by_device, points_by_device_las4weeks, on='SK_PI', how='outer')\n",
    "merged_results['counts_y']=merged_results['counts_y'].fillna(0)\n",
    "merged_results['result']=merged_results['counts_x'].sub(merged_results['counts_y'], axis=0)"
   ]
  },
  {
   "cell_type": "code",
   "execution_count": 13,
   "metadata": {},
   "outputs": [
    {
     "data": {
      "application/vnd.plotly.v1+json": {
       "data": [
        {
         "name": "Last 4 weeks",
         "type": "bar",
         "x": [
          1,
          2,
          3,
          4,
          5,
          6,
          7,
          8,
          9,
          10,
          11,
          12,
          14,
          15,
          16,
          17,
          18
         ],
         "y": [
          0,
          0,
          175,
          0,
          176,
          0,
          150,
          0,
          176,
          168,
          167,
          176,
          175,
          176,
          166,
          164,
          130
         ]
        },
        {
         "name": "The rest of the time",
         "type": "bar",
         "x": [
          1,
          2,
          3,
          4,
          5,
          6,
          7,
          8,
          9,
          10,
          11,
          12,
          14,
          15,
          16,
          17,
          18
         ],
         "y": [
          10,
          240,
          124,
          287,
          379,
          32,
          215,
          23,
          80,
          0,
          75,
          77,
          41,
          40,
          29,
          0,
          0
         ]
        }
       ],
       "layout": {
        "barmode": "stack",
        "title": "Number of data points per device: last 4 weeks vs entire time"
       }
      },
      "text/html": [
       "<div id=\"bb91cc1f-d18d-4f51-8919-1a4f1313fb33\" style=\"height: 525px; width: 100%;\" class=\"plotly-graph-div\"></div><script type=\"text/javascript\">require([\"plotly\"], function(Plotly) { window.PLOTLYENV=window.PLOTLYENV || {};window.PLOTLYENV.BASE_URL=\"https://plot.ly\";Plotly.newPlot(\"bb91cc1f-d18d-4f51-8919-1a4f1313fb33\", [{\"type\": \"bar\", \"x\": [1, 2, 3, 4, 5, 6, 7, 8, 9, 10, 11, 12, 14, 15, 16, 17, 18], \"y\": [0.0, 0.0, 175.0, 0.0, 176.0, 0.0, 150.0, 0.0, 176.0, 168.0, 167.0, 176.0, 175.0, 176.0, 166.0, 164.0, 130.0], \"name\": \"Last 4 weeks\"}, {\"type\": \"bar\", \"x\": [1, 2, 3, 4, 5, 6, 7, 8, 9, 10, 11, 12, 14, 15, 16, 17, 18], \"y\": [10.0, 240.0, 124.0, 287.0, 379.0, 32.0, 215.0, 23.0, 80.0, 0.0, 75.0, 77.0, 41.0, 40.0, 29.0, 0.0, 0.0], \"name\": \"The rest of the time\"}], {\"barmode\": \"stack\", \"title\": \"Number of data points per device: last 4 weeks vs entire time\"}, {\"showLink\": true, \"linkText\": \"Export to plot.ly\"})});</script>"
      ],
      "text/vnd.plotly.v1+html": [
       "<div id=\"bb91cc1f-d18d-4f51-8919-1a4f1313fb33\" style=\"height: 525px; width: 100%;\" class=\"plotly-graph-div\"></div><script type=\"text/javascript\">require([\"plotly\"], function(Plotly) { window.PLOTLYENV=window.PLOTLYENV || {};window.PLOTLYENV.BASE_URL=\"https://plot.ly\";Plotly.newPlot(\"bb91cc1f-d18d-4f51-8919-1a4f1313fb33\", [{\"type\": \"bar\", \"x\": [1, 2, 3, 4, 5, 6, 7, 8, 9, 10, 11, 12, 14, 15, 16, 17, 18], \"y\": [0.0, 0.0, 175.0, 0.0, 176.0, 0.0, 150.0, 0.0, 176.0, 168.0, 167.0, 176.0, 175.0, 176.0, 166.0, 164.0, 130.0], \"name\": \"Last 4 weeks\"}, {\"type\": \"bar\", \"x\": [1, 2, 3, 4, 5, 6, 7, 8, 9, 10, 11, 12, 14, 15, 16, 17, 18], \"y\": [10.0, 240.0, 124.0, 287.0, 379.0, 32.0, 215.0, 23.0, 80.0, 0.0, 75.0, 77.0, 41.0, 40.0, 29.0, 0.0, 0.0], \"name\": \"The rest of the time\"}], {\"barmode\": \"stack\", \"title\": \"Number of data points per device: last 4 weeks vs entire time\"}, {\"showLink\": true, \"linkText\": \"Export to plot.ly\"})});</script>"
      ]
     },
     "metadata": {},
     "output_type": "display_data"
    }
   ],
   "source": [
    "trace1 = go.Bar(\n",
    "            x=merged_results[\"SK_PI\"],\n",
    "            y=merged_results[\"counts_y\"],\n",
    "            name='Last 4 weeks',\n",
    "    )\n",
    "trace2= go.Bar(\n",
    "            x=merged_results[\"SK_PI\"],\n",
    "            y=merged_results['result'],\n",
    "            name='The rest of the time',\n",
    "    )\n",
    "data=[trace1, trace2]\n",
    "layout = go.Layout(\n",
    "        barmode='stack',\n",
    "        title=\"Number of data points per device: last 4 weeks vs entire time\"\n",
    "    )\n",
    "\n",
    "fig = go.Figure(data=data, layout=layout)\n",
    "iplot(fig)"
   ]
  },
  {
   "cell_type": "markdown",
   "metadata": {},
   "source": [
    "Devices 1,2,4,6 and 8 have data but not in the last 4 weeks.  \n",
    "#### When  all the devices started/ended reporting:"
   ]
  },
  {
   "cell_type": "code",
   "execution_count": 14,
   "metadata": {},
   "outputs": [
    {
     "name": "stdout",
     "output_type": "stream",
     "text": [
      "Device:  1   was reporting from  2018-10-10 15:45:43  to  2018-10-11 12:00:09\n",
      "Device:  2   was reporting from  2018-10-11 15:55:58  to  2018-11-03 16:52:07\n",
      "Device:  3   was reporting from  2018-10-15 19:36:18  to  2019-01-07 23:48:10\n",
      "Device:  4   was reporting from  2018-10-27 00:03:48  to  2018-12-05 16:36:12\n",
      "Device:  5   was reporting from  2018-10-26 18:18:08  to  2019-01-07 23:48:07\n",
      "Device:  6   was reporting from  2018-10-26 23:53:09  to  2018-10-31 14:52:59\n",
      "Device:  7   was reporting from  2018-11-11 00:36:13  to  2019-01-07 23:48:04\n",
      "Device:  8   was reporting from  2018-11-07 18:22:07  to  2018-12-03 16:30:07\n",
      "Device:  9   was reporting from  2018-11-30 18:12:12  to  2019-01-07 23:48:05\n",
      "Device:  10   was reporting from  2018-12-12 22:29:40  to  2019-01-07 16:24:08\n",
      "Device:  11   was reporting from  2018-11-30 18:12:09  to  2019-01-07 23:48:08\n",
      "Device:  12   was reporting from  2018-11-30 18:12:06  to  2019-01-07 23:48:01\n",
      "Device:  14   was reporting from  2018-12-05 16:48:41  to  2019-01-07 23:48:11\n",
      "Device:  15   was reporting from  2018-12-05 18:23:59  to  2019-01-07 23:48:09\n",
      "Device:  16   was reporting from  2018-12-06 22:12:11  to  2019-01-07 23:48:07\n",
      "Device:  17   was reporting from  2018-12-13 20:42:08  to  2019-01-07 23:48:17\n",
      "Device:  18   was reporting from  2018-12-18 17:18:33  to  2019-01-07 23:48:08\n"
     ]
    },
    {
     "data": {
      "application/vnd.plotly.v1+json": {
       "data": [
        {
         "name": 1,
         "type": "scatter",
         "x": [
          "2018-10-10 15:45:43",
          "2018-10-11 12:00:09"
         ],
         "y": [
          1,
          1
         ]
        },
        {
         "name": 2,
         "type": "scatter",
         "x": [
          "2018-10-11 15:55:58",
          "2018-11-03 16:52:07"
         ],
         "y": [
          2,
          2
         ]
        },
        {
         "name": 3,
         "type": "scatter",
         "x": [
          "2018-10-15 19:36:18",
          "2019-01-07 23:48:10"
         ],
         "y": [
          3,
          3
         ]
        },
        {
         "name": 4,
         "type": "scatter",
         "x": [
          "2018-10-27 00:03:48",
          "2018-12-05 16:36:12"
         ],
         "y": [
          4,
          4
         ]
        },
        {
         "name": 5,
         "type": "scatter",
         "x": [
          "2018-10-26 18:18:08",
          "2019-01-07 23:48:07"
         ],
         "y": [
          5,
          5
         ]
        },
        {
         "name": 6,
         "type": "scatter",
         "x": [
          "2018-10-26 23:53:09",
          "2018-10-31 14:52:59"
         ],
         "y": [
          6,
          6
         ]
        },
        {
         "name": 7,
         "type": "scatter",
         "x": [
          "2018-11-11 00:36:13",
          "2019-01-07 23:48:04"
         ],
         "y": [
          7,
          7
         ]
        },
        {
         "name": 8,
         "type": "scatter",
         "x": [
          "2018-11-07 18:22:07",
          "2018-12-03 16:30:07"
         ],
         "y": [
          8,
          8
         ]
        },
        {
         "name": 9,
         "type": "scatter",
         "x": [
          "2018-11-30 18:12:12",
          "2019-01-07 23:48:05"
         ],
         "y": [
          9,
          9
         ]
        },
        {
         "name": 10,
         "type": "scatter",
         "x": [
          "2018-12-12 22:29:40",
          "2019-01-07 16:24:08"
         ],
         "y": [
          10,
          10
         ]
        },
        {
         "name": 11,
         "type": "scatter",
         "x": [
          "2018-11-30 18:12:09",
          "2019-01-07 23:48:08"
         ],
         "y": [
          11,
          11
         ]
        },
        {
         "name": 12,
         "type": "scatter",
         "x": [
          "2018-11-30 18:12:06",
          "2019-01-07 23:48:01"
         ],
         "y": [
          12,
          12
         ]
        },
        {
         "name": 14,
         "type": "scatter",
         "x": [
          "2018-12-05 16:48:41",
          "2019-01-07 23:48:11"
         ],
         "y": [
          14,
          14
         ]
        },
        {
         "name": 15,
         "type": "scatter",
         "x": [
          "2018-12-05 18:23:59",
          "2019-01-07 23:48:09"
         ],
         "y": [
          15,
          15
         ]
        },
        {
         "name": 16,
         "type": "scatter",
         "x": [
          "2018-12-06 22:12:11",
          "2019-01-07 23:48:07"
         ],
         "y": [
          16,
          16
         ]
        },
        {
         "name": 17,
         "type": "scatter",
         "x": [
          "2018-12-13 20:42:08",
          "2019-01-07 23:48:17"
         ],
         "y": [
          17,
          17
         ]
        },
        {
         "name": 18,
         "type": "scatter",
         "x": [
          "2018-12-18 17:18:33",
          "2019-01-07 23:48:08"
         ],
         "y": [
          18,
          18
         ]
        }
       ],
       "layout": {
        "title": "Device reporting times"
       }
      },
      "text/html": [
       "<div id=\"3d35bad6-d906-437f-9d24-064cf8d364b9\" style=\"height: 525px; width: 100%;\" class=\"plotly-graph-div\"></div><script type=\"text/javascript\">require([\"plotly\"], function(Plotly) { window.PLOTLYENV=window.PLOTLYENV || {};window.PLOTLYENV.BASE_URL=\"https://plot.ly\";Plotly.newPlot(\"3d35bad6-d906-437f-9d24-064cf8d364b9\", [{\"type\": \"scatter\", \"x\": [\"2018-10-10 15:45:43\", \"2018-10-11 12:00:09\"], \"y\": [1, 1], \"name\": 1}, {\"type\": \"scatter\", \"x\": [\"2018-10-11 15:55:58\", \"2018-11-03 16:52:07\"], \"y\": [2, 2], \"name\": 2}, {\"type\": \"scatter\", \"x\": [\"2018-10-15 19:36:18\", \"2019-01-07 23:48:10\"], \"y\": [3, 3], \"name\": 3}, {\"type\": \"scatter\", \"x\": [\"2018-10-27 00:03:48\", \"2018-12-05 16:36:12\"], \"y\": [4, 4], \"name\": 4}, {\"type\": \"scatter\", \"x\": [\"2018-10-26 18:18:08\", \"2019-01-07 23:48:07\"], \"y\": [5, 5], \"name\": 5}, {\"type\": \"scatter\", \"x\": [\"2018-10-26 23:53:09\", \"2018-10-31 14:52:59\"], \"y\": [6, 6], \"name\": 6}, {\"type\": \"scatter\", \"x\": [\"2018-11-11 00:36:13\", \"2019-01-07 23:48:04\"], \"y\": [7, 7], \"name\": 7}, {\"type\": \"scatter\", \"x\": [\"2018-11-07 18:22:07\", \"2018-12-03 16:30:07\"], \"y\": [8, 8], \"name\": 8}, {\"type\": \"scatter\", \"x\": [\"2018-11-30 18:12:12\", \"2019-01-07 23:48:05\"], \"y\": [9, 9], \"name\": 9}, {\"type\": \"scatter\", \"x\": [\"2018-12-12 22:29:40\", \"2019-01-07 16:24:08\"], \"y\": [10, 10], \"name\": 10}, {\"type\": \"scatter\", \"x\": [\"2018-11-30 18:12:09\", \"2019-01-07 23:48:08\"], \"y\": [11, 11], \"name\": 11}, {\"type\": \"scatter\", \"x\": [\"2018-11-30 18:12:06\", \"2019-01-07 23:48:01\"], \"y\": [12, 12], \"name\": 12}, {\"type\": \"scatter\", \"x\": [\"2018-12-05 16:48:41\", \"2019-01-07 23:48:11\"], \"y\": [14, 14], \"name\": 14}, {\"type\": \"scatter\", \"x\": [\"2018-12-05 18:23:59\", \"2019-01-07 23:48:09\"], \"y\": [15, 15], \"name\": 15}, {\"type\": \"scatter\", \"x\": [\"2018-12-06 22:12:11\", \"2019-01-07 23:48:07\"], \"y\": [16, 16], \"name\": 16}, {\"type\": \"scatter\", \"x\": [\"2018-12-13 20:42:08\", \"2019-01-07 23:48:17\"], \"y\": [17, 17], \"name\": 17}, {\"type\": \"scatter\", \"x\": [\"2018-12-18 17:18:33\", \"2019-01-07 23:48:08\"], \"y\": [18, 18], \"name\": 18}], {\"title\": \"Device reporting times\"}, {\"showLink\": true, \"linkText\": \"Export to plot.ly\"})});</script>"
      ],
      "text/vnd.plotly.v1+html": [
       "<div id=\"3d35bad6-d906-437f-9d24-064cf8d364b9\" style=\"height: 525px; width: 100%;\" class=\"plotly-graph-div\"></div><script type=\"text/javascript\">require([\"plotly\"], function(Plotly) { window.PLOTLYENV=window.PLOTLYENV || {};window.PLOTLYENV.BASE_URL=\"https://plot.ly\";Plotly.newPlot(\"3d35bad6-d906-437f-9d24-064cf8d364b9\", [{\"type\": \"scatter\", \"x\": [\"2018-10-10 15:45:43\", \"2018-10-11 12:00:09\"], \"y\": [1, 1], \"name\": 1}, {\"type\": \"scatter\", \"x\": [\"2018-10-11 15:55:58\", \"2018-11-03 16:52:07\"], \"y\": [2, 2], \"name\": 2}, {\"type\": \"scatter\", \"x\": [\"2018-10-15 19:36:18\", \"2019-01-07 23:48:10\"], \"y\": [3, 3], \"name\": 3}, {\"type\": \"scatter\", \"x\": [\"2018-10-27 00:03:48\", \"2018-12-05 16:36:12\"], \"y\": [4, 4], \"name\": 4}, {\"type\": \"scatter\", \"x\": [\"2018-10-26 18:18:08\", \"2019-01-07 23:48:07\"], \"y\": [5, 5], \"name\": 5}, {\"type\": \"scatter\", \"x\": [\"2018-10-26 23:53:09\", \"2018-10-31 14:52:59\"], \"y\": [6, 6], \"name\": 6}, {\"type\": \"scatter\", \"x\": [\"2018-11-11 00:36:13\", \"2019-01-07 23:48:04\"], \"y\": [7, 7], \"name\": 7}, {\"type\": \"scatter\", \"x\": [\"2018-11-07 18:22:07\", \"2018-12-03 16:30:07\"], \"y\": [8, 8], \"name\": 8}, {\"type\": \"scatter\", \"x\": [\"2018-11-30 18:12:12\", \"2019-01-07 23:48:05\"], \"y\": [9, 9], \"name\": 9}, {\"type\": \"scatter\", \"x\": [\"2018-12-12 22:29:40\", \"2019-01-07 16:24:08\"], \"y\": [10, 10], \"name\": 10}, {\"type\": \"scatter\", \"x\": [\"2018-11-30 18:12:09\", \"2019-01-07 23:48:08\"], \"y\": [11, 11], \"name\": 11}, {\"type\": \"scatter\", \"x\": [\"2018-11-30 18:12:06\", \"2019-01-07 23:48:01\"], \"y\": [12, 12], \"name\": 12}, {\"type\": \"scatter\", \"x\": [\"2018-12-05 16:48:41\", \"2019-01-07 23:48:11\"], \"y\": [14, 14], \"name\": 14}, {\"type\": \"scatter\", \"x\": [\"2018-12-05 18:23:59\", \"2019-01-07 23:48:09\"], \"y\": [15, 15], \"name\": 15}, {\"type\": \"scatter\", \"x\": [\"2018-12-06 22:12:11\", \"2019-01-07 23:48:07\"], \"y\": [16, 16], \"name\": 16}, {\"type\": \"scatter\", \"x\": [\"2018-12-13 20:42:08\", \"2019-01-07 23:48:17\"], \"y\": [17, 17], \"name\": 17}, {\"type\": \"scatter\", \"x\": [\"2018-12-18 17:18:33\", \"2019-01-07 23:48:08\"], \"y\": [18, 18], \"name\": 18}], {\"title\": \"Device reporting times\"}, {\"showLink\": true, \"linkText\": \"Export to plot.ly\"})});</script>"
      ]
     },
     "metadata": {},
     "output_type": "display_data"
    }
   ],
   "source": [
    "start_times=upload_df.groupby('SK_PI')['time'].min()\n",
    "end_times=upload_df.groupby('SK_PI')['time'].max()\n",
    "device_numbers=sorted(upload_df['SK_PI'].unique())\n",
    "#print(device_numbers)\n",
    "data=[]\n",
    "for device in device_numbers:\n",
    "    time_last=end_times[device]\n",
    "    time_first=start_times[device]\n",
    "    print(\"Device: \", device,\"  was reporting from \", time_first, \" to \", time_last)\n",
    "    trace = go.Scatter(x=[time_first,time_last],y=[device,device], name = device)\n",
    "    data.append(trace)\n",
    "layout = dict(title = \"Device reporting times\")\n",
    "fig = go.Figure(data=data, layout=layout)\n",
    "iplot(fig)"
   ]
  },
  {
   "cell_type": "markdown",
   "metadata": {},
   "source": [
    "### Test servers\n",
    "Are there any NaNs or empty strings?"
   ]
  },
  {
   "cell_type": "code",
   "execution_count": 15,
   "metadata": {},
   "outputs": [
    {
     "name": "stdout",
     "output_type": "stream",
     "text": [
      "0\n",
      "0\n",
      "0\n",
      "0\n"
     ]
    }
   ],
   "source": [
    "print(sum(pd.isnull(upload_df[\"TEST_SERVER\"])))\n",
    "print(sum(pd.isnull(upload_df[\"PROVINCE\"])))\n",
    "#print(upload_df[upload_df[[\"TEST_SERVER\",\"PROVINCE\"]].isnull().any(axis=1)])\n",
    "print(sum(upload_df[\"TEST_SERVER\"] == ''))\n",
    "print(sum(upload_df[\"PROVINCE\"] == ''))"
   ]
  },
  {
   "cell_type": "code",
   "execution_count": 16,
   "metadata": {},
   "outputs": [
    {
     "name": "stdout",
     "output_type": "stream",
     "text": [
      "There are  5  provinces:  [' MB)' 'iperf' ' AB)' ' SK)' ' ND)'] \n",
      "\n",
      "There are  22  test servers ['Shaw Communications (Winnipeg' 'Rogers (Winnipeg' 'clearskystatus.info'\n",
      " 'LES.NET (Winnipeg' 'Commstream Communications (Winnipeg'\n",
      " 'Voyageur Internet (Winnipeg' 'TELUS Mobility (Calgary'\n",
      " 'Axia Connect Ltd (Calgary' 'VOI Network Solutions (Winnipeg'\n",
      " 'Swift High Speed.com (Winnipeg' 'DataHive (Calgary'\n",
      " 'Westman Communications (Brandon' 'NetSet Communications (Brandon'\n",
      " 'Morenet (Morden' 'Valley Fiber (Winkler' 'RFNow Inc. (Virden'\n",
      " 'BlackSun Inc. (Saskatoon' 'SaskTel (Regina'\n",
      " 'Access Communications Co-operative Limited (Regina'\n",
      " 'Bell Mobility (Winnipeg' 'Cybera (Calgary' 'Midco (Minot'] \n",
      "\n",
      "There are  22  test servers+provinces ['Shaw Communications (Winnipeg  MB)' 'Rogers (Winnipeg  MB)'\n",
      " 'clearskystatus.info iperf' 'LES.NET (Winnipeg  MB)'\n",
      " 'Commstream Communications (Winnipeg  MB)'\n",
      " 'Voyageur Internet (Winnipeg  MB)' 'TELUS Mobility (Calgary  AB)'\n",
      " 'Axia Connect Ltd (Calgary  AB)' 'VOI Network Solutions (Winnipeg  MB)'\n",
      " 'Swift High Speed.com (Winnipeg  MB)' 'DataHive (Calgary  AB)'\n",
      " 'Westman Communications (Brandon  MB)'\n",
      " 'NetSet Communications (Brandon  MB)' 'Morenet (Morden  MB)'\n",
      " 'Valley Fiber (Winkler  MB)' 'RFNow Inc. (Virden  MB)'\n",
      " 'BlackSun Inc. (Saskatoon  SK)' 'SaskTel (Regina  SK)'\n",
      " 'Access Communications Co-operative Limited (Regina  SK)'\n",
      " 'Bell Mobility (Winnipeg  MB)' 'Cybera (Calgary  AB)' 'Midco (Minot  ND)'] \n",
      "\n"
     ]
    }
   ],
   "source": [
    "print(\"There are \",len(upload_df[\"PROVINCE\"].unique()), \" provinces: \", upload_df[\"PROVINCE\"].unique(), \"\\n\")\n",
    "print(\"There are \",len(upload_df[\"TEST_SERVER\"].unique()), \" test servers\", upload_df[\"TEST_SERVER\"].unique(), \"\\n\")\n",
    "\n",
    "pd.options.mode.chained_assignment = None\n",
    "upload_df[\"server\"] = upload_df[\"TEST_SERVER\"] + \" \" +upload_df[\"PROVINCE\"]\n",
    "print(\"There are \",len(upload_df[\"server\"].unique()), \" test servers+provinces\", upload_df[\"server\"].unique(), \"\\n\")"
   ]
  },
  {
   "cell_type": "markdown",
   "metadata": {},
   "source": [
    "#### How many test servers per device?"
   ]
  },
  {
   "cell_type": "code",
   "execution_count": 17,
   "metadata": {},
   "outputs": [
    {
     "data": {
      "application/vnd.plotly.v1+json": {
       "data": [
        {
         "labels": [
          5,
          8,
          6,
          4,
          3,
          9,
          7
         ],
         "type": "pie",
         "values": [
          5,
          3,
          3,
          2,
          2,
          1,
          1
         ]
        }
       ],
       "layout": {
        "title": "Number of test servers per device"
       }
      },
      "text/html": [
       "<div id=\"69363739-fe09-43d5-83e6-4bb97fd1cecf\" style=\"height: 525px; width: 100%;\" class=\"plotly-graph-div\"></div><script type=\"text/javascript\">require([\"plotly\"], function(Plotly) { window.PLOTLYENV=window.PLOTLYENV || {};window.PLOTLYENV.BASE_URL=\"https://plot.ly\";Plotly.newPlot(\"69363739-fe09-43d5-83e6-4bb97fd1cecf\", [{\"type\": \"pie\", \"labels\": [5, 8, 6, 4, 3, 9, 7], \"values\": [5, 3, 3, 2, 2, 1, 1]}], {\"title\": \"Number of test servers per device\"}, {\"showLink\": true, \"linkText\": \"Export to plot.ly\"})});</script>"
      ],
      "text/vnd.plotly.v1+html": [
       "<div id=\"69363739-fe09-43d5-83e6-4bb97fd1cecf\" style=\"height: 525px; width: 100%;\" class=\"plotly-graph-div\"></div><script type=\"text/javascript\">require([\"plotly\"], function(Plotly) { window.PLOTLYENV=window.PLOTLYENV || {};window.PLOTLYENV.BASE_URL=\"https://plot.ly\";Plotly.newPlot(\"69363739-fe09-43d5-83e6-4bb97fd1cecf\", [{\"type\": \"pie\", \"labels\": [5, 8, 6, 4, 3, 9, 7], \"values\": [5, 3, 3, 2, 2, 1, 1]}], {\"title\": \"Number of test servers per device\"}, {\"showLink\": true, \"linkText\": \"Export to plot.ly\"})});</script>"
      ]
     },
     "metadata": {},
     "output_type": "display_data"
    }
   ],
   "source": [
    "pd.options.mode.chained_assignment = None\n",
    "upload_df[\"server\"] = upload_df[\"TEST_SERVER\"] + \" \" +upload_df[\"PROVINCE\"]\n",
    "test_servers_per_device = upload_df.groupby('SK_PI').apply(lambda x: x['server'].unique()).apply(pd.Series)\n",
    "test_servers_per_device['server_count'] = test_servers_per_device.apply(lambda x: x.count(), axis=1)\n",
    "#print(test_servers_per_device[\"server_count\"].head())\n",
    "test_server_counts_per_device = pd.Series(test_servers_per_device['server_count']).value_counts().reset_index()\n",
    "#print(test_server_counts_per_device)\n",
    "#data = [go.Bar(\n",
    "#            x=test_servers_per_device.index,\n",
    "#            y=test_servers_per_device[\"server_count\"],\n",
    "#    )]\n",
    "data = [go.Pie(\n",
    "            labels=test_server_counts_per_device['index'],\n",
    "            values=test_server_counts_per_device[\"server_count\"],\n",
    "    )]\n",
    "layout = go.Layout(\n",
    "        #barmode='stack',\n",
    "        title=\"Number of test servers per device\"\n",
    "    )\n",
    "\n",
    "fig = go.Figure(data=data, layout=layout)\n",
    "#print(points_by_device)\n",
    "iplot(fig)"
   ]
  },
  {
   "cell_type": "markdown",
   "metadata": {},
   "source": [
    "Devices have different number of test servers: 3-9, how is it defined?"
   ]
  },
  {
   "cell_type": "code",
   "execution_count": 40,
   "metadata": {},
   "outputs": [
    {
     "data": {
      "application/vnd.plotly.v1+json": {
       "data": [
        {
         "marker": {
          "color": "F2F3F4"
         },
         "name": "Shaw Communications (Winnipeg  MB)",
         "type": "bar",
         "x": [
          1,
          2,
          3,
          4,
          5,
          6,
          7,
          8,
          9,
          10,
          11,
          12,
          14,
          15,
          16,
          17,
          18
         ],
         "y": [
          4,
          25,
          0,
          127,
          64,
          1,
          30,
          0,
          0,
          32,
          0,
          12,
          75,
          44,
          0,
          0,
          0
         ]
        },
        {
         "marker": {
          "color": "222222"
         },
         "name": "Rogers (Winnipeg  MB)",
         "type": "bar",
         "x": [
          1,
          2,
          3,
          4,
          5,
          6,
          7,
          8,
          9,
          10,
          11,
          12,
          14,
          15,
          16,
          17,
          18
         ],
         "y": [
          1,
          36,
          0,
          7,
          200,
          3,
          51,
          0,
          0,
          6,
          0,
          0,
          0,
          2,
          0,
          0,
          0
         ]
        },
        {
         "marker": {
          "color": "F3C300"
         },
         "name": "clearskystatus.info iperf",
         "type": "bar",
         "x": [
          1,
          2,
          3,
          4,
          5,
          6,
          7,
          8,
          9,
          10,
          11,
          12,
          14,
          15,
          16,
          17,
          18
         ],
         "y": [
          4,
          105,
          21,
          70,
          82,
          26,
          51,
          2,
          8,
          0,
          3,
          4,
          0,
          0,
          0,
          0,
          0
         ]
        },
        {
         "marker": {
          "color": "875692"
         },
         "name": "LES.NET (Winnipeg  MB)",
         "type": "bar",
         "x": [
          1,
          2,
          3,
          4,
          5,
          6,
          7,
          8,
          9,
          10,
          11,
          12,
          14,
          15,
          16,
          17,
          18
         ],
         "y": [
          1,
          15,
          0,
          6,
          55,
          1,
          50,
          5,
          0,
          28,
          40,
          74,
          38,
          53,
          0,
          0,
          28
         ]
        },
        {
         "marker": {
          "color": "F38400"
         },
         "name": "Commstream Communications (Winnipeg  MB)",
         "type": "bar",
         "x": [
          1,
          2,
          3,
          4,
          5,
          6,
          7,
          8,
          9,
          10,
          11,
          12,
          14,
          15,
          16,
          17,
          18
         ],
         "y": [
          0,
          2,
          0,
          2,
          34,
          0,
          19,
          9,
          0,
          44,
          62,
          93,
          32,
          10,
          0,
          0,
          46
         ]
        },
        {
         "marker": {
          "color": "A1CAF1"
         },
         "name": "Voyageur Internet (Winnipeg  MB)",
         "type": "bar",
         "x": [
          1,
          2,
          3,
          4,
          5,
          6,
          7,
          8,
          9,
          10,
          11,
          12,
          14,
          15,
          16,
          17,
          18
         ],
         "y": [
          0,
          52,
          0,
          75,
          117,
          1,
          163,
          7,
          0,
          58,
          63,
          70,
          30,
          107,
          0,
          0,
          56
         ]
        },
        {
         "marker": {
          "color": "BE0032"
         },
         "name": "TELUS Mobility (Calgary  AB)",
         "type": "bar",
         "x": [
          1,
          2,
          3,
          4,
          5,
          6,
          7,
          8,
          9,
          10,
          11,
          12,
          14,
          15,
          16,
          17,
          18
         ],
         "y": [
          0,
          0,
          3,
          0,
          0,
          0,
          0,
          0,
          0,
          0,
          0,
          0,
          0,
          0,
          0,
          0,
          0
         ]
        },
        {
         "marker": {
          "color": "C2B280"
         },
         "name": "Axia Connect Ltd (Calgary  AB)",
         "type": "bar",
         "x": [
          1,
          2,
          3,
          4,
          5,
          6,
          7,
          8,
          9,
          10,
          11,
          12,
          14,
          15,
          16,
          17,
          18
         ],
         "y": [
          0,
          0,
          177,
          0,
          0,
          0,
          0,
          0,
          0,
          0,
          0,
          0,
          0,
          0,
          0,
          0,
          0
         ]
        },
        {
         "marker": {
          "color": "848482"
         },
         "name": "VOI Network Solutions (Winnipeg  MB)",
         "type": "bar",
         "x": [
          1,
          2,
          3,
          4,
          5,
          6,
          7,
          8,
          9,
          10,
          11,
          12,
          14,
          15,
          16,
          17,
          18
         ],
         "y": [
          0,
          2,
          0,
          0,
          2,
          0,
          1,
          0,
          0,
          0,
          8,
          0,
          16,
          0,
          0,
          0,
          0
         ]
        },
        {
         "marker": {
          "color": "008856"
         },
         "name": "Swift High Speed.com (Winnipeg  MB)",
         "type": "bar",
         "x": [
          1,
          2,
          3,
          4,
          5,
          6,
          7,
          8,
          9,
          10,
          11,
          12,
          14,
          15,
          16,
          17,
          18
         ],
         "y": [
          0,
          3,
          0,
          0,
          1,
          0,
          0,
          0,
          0,
          0,
          0,
          0,
          0,
          0,
          0,
          0,
          0
         ]
        },
        {
         "marker": {
          "color": "E68FAC"
         },
         "name": "DataHive (Calgary  AB)",
         "type": "bar",
         "x": [
          1,
          2,
          3,
          4,
          5,
          6,
          7,
          8,
          9,
          10,
          11,
          12,
          14,
          15,
          16,
          17,
          18
         ],
         "y": [
          0,
          0,
          28,
          0,
          0,
          0,
          0,
          0,
          0,
          0,
          0,
          0,
          0,
          0,
          0,
          0,
          0
         ]
        },
        {
         "marker": {
          "color": "0067A5"
         },
         "name": "Westman Communications (Brandon  MB)",
         "type": "bar",
         "x": [
          1,
          2,
          3,
          4,
          5,
          6,
          7,
          8,
          9,
          10,
          11,
          12,
          14,
          15,
          16,
          17,
          18
         ],
         "y": [
          0,
          0,
          0,
          0,
          0,
          0,
          0,
          0,
          95,
          0,
          0,
          0,
          1,
          0,
          4,
          156,
          0
         ]
        },
        {
         "marker": {
          "color": "F99379"
         },
         "name": "NetSet Communications (Brandon  MB)",
         "type": "bar",
         "x": [
          1,
          2,
          3,
          4,
          5,
          6,
          7,
          8,
          9,
          10,
          11,
          12,
          14,
          15,
          16,
          17,
          18
         ],
         "y": [
          0,
          0,
          0,
          0,
          0,
          0,
          0,
          0,
          77,
          0,
          0,
          0,
          0,
          0,
          5,
          6,
          0
         ]
        },
        {
         "marker": {
          "color": "604E97"
         },
         "name": "Morenet (Morden  MB)",
         "type": "bar",
         "x": [
          1,
          2,
          3,
          4,
          5,
          6,
          7,
          8,
          9,
          10,
          11,
          12,
          14,
          15,
          16,
          17,
          18
         ],
         "y": [
          0,
          0,
          0,
          0,
          0,
          0,
          0,
          0,
          4,
          0,
          0,
          0,
          2,
          0,
          89,
          0,
          0
         ]
        },
        {
         "marker": {
          "color": "F6A600"
         },
         "name": "Valley Fiber (Winkler  MB)",
         "type": "bar",
         "x": [
          1,
          2,
          3,
          4,
          5,
          6,
          7,
          8,
          9,
          10,
          11,
          12,
          14,
          15,
          16,
          17,
          18
         ],
         "y": [
          0,
          0,
          0,
          0,
          0,
          0,
          0,
          0,
          0,
          0,
          0,
          0,
          16,
          0,
          69,
          0,
          0
         ]
        },
        {
         "marker": {
          "color": "B3446C"
         },
         "name": "RFNow Inc. (Virden  MB)",
         "type": "bar",
         "x": [
          1,
          2,
          3,
          4,
          5,
          6,
          7,
          8,
          9,
          10,
          11,
          12,
          14,
          15,
          16,
          17,
          18
         ],
         "y": [
          0,
          0,
          0,
          0,
          0,
          0,
          0,
          0,
          38,
          0,
          0,
          0,
          6,
          0,
          25,
          0,
          0
         ]
        },
        {
         "marker": {
          "color": "DCD300"
         },
         "name": "BlackSun Inc. (Saskatoon  SK)",
         "type": "bar",
         "x": [
          1,
          2,
          3,
          4,
          5,
          6,
          7,
          8,
          9,
          10,
          11,
          12,
          14,
          15,
          16,
          17,
          18
         ],
         "y": [
          0,
          0,
          0,
          0,
          0,
          0,
          0,
          0,
          20,
          0,
          0,
          0,
          0,
          0,
          0,
          2,
          0
         ]
        },
        {
         "marker": {
          "color": "882D17"
         },
         "name": "SaskTel (Regina  SK)",
         "type": "bar",
         "x": [
          1,
          2,
          3,
          4,
          5,
          6,
          7,
          8,
          9,
          10,
          11,
          12,
          14,
          15,
          16,
          17,
          18
         ],
         "y": [
          0,
          0,
          0,
          0,
          0,
          0,
          0,
          0,
          13,
          0,
          0,
          0,
          0,
          0,
          0,
          0,
          0
         ]
        },
        {
         "marker": {
          "color": "8DB600"
         },
         "name": "Access Communications Co-operative Limited (Regina  SK)",
         "type": "bar",
         "x": [
          1,
          2,
          3,
          4,
          5,
          6,
          7,
          8,
          9,
          10,
          11,
          12,
          14,
          15,
          16,
          17,
          18
         ],
         "y": [
          0,
          0,
          0,
          0,
          0,
          0,
          0,
          0,
          1,
          0,
          0,
          0,
          0,
          0,
          0,
          0,
          0
         ]
        },
        {
         "marker": {
          "color": "654522"
         },
         "name": "Bell Mobility (Winnipeg  MB)",
         "type": "bar",
         "x": [
          1,
          2,
          3,
          4,
          5,
          6,
          7,
          8,
          9,
          10,
          11,
          12,
          14,
          15,
          16,
          17,
          18
         ],
         "y": [
          0,
          0,
          0,
          0,
          0,
          0,
          0,
          0,
          0,
          0,
          66,
          0,
          0,
          0,
          0,
          0,
          0
         ]
        },
        {
         "marker": {
          "color": "E25822"
         },
         "name": "Cybera (Calgary  AB)",
         "type": "bar",
         "x": [
          1,
          2,
          3,
          4,
          5,
          6,
          7,
          8,
          9,
          10,
          11,
          12,
          14,
          15,
          16,
          17,
          18
         ],
         "y": [
          0,
          0,
          70,
          0,
          0,
          0,
          0,
          0,
          0,
          0,
          0,
          0,
          0,
          0,
          0,
          0,
          0
         ]
        },
        {
         "marker": {
          "color": "2B3D26"
         },
         "name": "Midco (Minot  ND)",
         "type": "bar",
         "x": [
          1,
          2,
          3,
          4,
          5,
          6,
          7,
          8,
          9,
          10,
          11,
          12,
          14,
          15,
          16,
          17,
          18
         ],
         "y": [
          0,
          0,
          0,
          0,
          0,
          0,
          0,
          0,
          0,
          0,
          0,
          0,
          0,
          0,
          3,
          0,
          0
         ]
        }
       ],
       "layout": {
        "barmode": "stack",
        "title": "Number of data points per device per test server"
       }
      },
      "text/html": [
       "<div id=\"d42d65a1-c3cf-497b-b0fc-b1c049b80657\" style=\"height: 525px; width: 100%;\" class=\"plotly-graph-div\"></div><script type=\"text/javascript\">require([\"plotly\"], function(Plotly) { window.PLOTLYENV=window.PLOTLYENV || {};window.PLOTLYENV.BASE_URL=\"https://plot.ly\";Plotly.newPlot(\"d42d65a1-c3cf-497b-b0fc-b1c049b80657\", [{\"type\": \"bar\", \"x\": [1, 2, 3, 4, 5, 6, 7, 8, 9, 10, 11, 12, 14, 15, 16, 17, 18], \"y\": [4, 25, 0, 127, 64, 1, 30, 0, 0, 32, 0, 12, 75, 44, 0, 0, 0], \"name\": \"Shaw Communications (Winnipeg  MB)\", \"marker\": {\"color\": \"F2F3F4\"}}, {\"type\": \"bar\", \"x\": [1, 2, 3, 4, 5, 6, 7, 8, 9, 10, 11, 12, 14, 15, 16, 17, 18], \"y\": [1, 36, 0, 7, 200, 3, 51, 0, 0, 6, 0, 0, 0, 2, 0, 0, 0], \"name\": \"Rogers (Winnipeg  MB)\", \"marker\": {\"color\": \"222222\"}}, {\"type\": \"bar\", \"x\": [1, 2, 3, 4, 5, 6, 7, 8, 9, 10, 11, 12, 14, 15, 16, 17, 18], \"y\": [4, 105, 21, 70, 82, 26, 51, 2, 8, 0, 3, 4, 0, 0, 0, 0, 0], \"name\": \"clearskystatus.info iperf\", \"marker\": {\"color\": \"F3C300\"}}, {\"type\": \"bar\", \"x\": [1, 2, 3, 4, 5, 6, 7, 8, 9, 10, 11, 12, 14, 15, 16, 17, 18], \"y\": [1, 15, 0, 6, 55, 1, 50, 5, 0, 28, 40, 74, 38, 53, 0, 0, 28], \"name\": \"LES.NET (Winnipeg  MB)\", \"marker\": {\"color\": \"875692\"}}, {\"type\": \"bar\", \"x\": [1, 2, 3, 4, 5, 6, 7, 8, 9, 10, 11, 12, 14, 15, 16, 17, 18], \"y\": [0, 2, 0, 2, 34, 0, 19, 9, 0, 44, 62, 93, 32, 10, 0, 0, 46], \"name\": \"Commstream Communications (Winnipeg  MB)\", \"marker\": {\"color\": \"F38400\"}}, {\"type\": \"bar\", \"x\": [1, 2, 3, 4, 5, 6, 7, 8, 9, 10, 11, 12, 14, 15, 16, 17, 18], \"y\": [0, 52, 0, 75, 117, 1, 163, 7, 0, 58, 63, 70, 30, 107, 0, 0, 56], \"name\": \"Voyageur Internet (Winnipeg  MB)\", \"marker\": {\"color\": \"A1CAF1\"}}, {\"type\": \"bar\", \"x\": [1, 2, 3, 4, 5, 6, 7, 8, 9, 10, 11, 12, 14, 15, 16, 17, 18], \"y\": [0, 0, 3, 0, 0, 0, 0, 0, 0, 0, 0, 0, 0, 0, 0, 0, 0], \"name\": \"TELUS Mobility (Calgary  AB)\", \"marker\": {\"color\": \"BE0032\"}}, {\"type\": \"bar\", \"x\": [1, 2, 3, 4, 5, 6, 7, 8, 9, 10, 11, 12, 14, 15, 16, 17, 18], \"y\": [0, 0, 177, 0, 0, 0, 0, 0, 0, 0, 0, 0, 0, 0, 0, 0, 0], \"name\": \"Axia Connect Ltd (Calgary  AB)\", \"marker\": {\"color\": \"C2B280\"}}, {\"type\": \"bar\", \"x\": [1, 2, 3, 4, 5, 6, 7, 8, 9, 10, 11, 12, 14, 15, 16, 17, 18], \"y\": [0, 2, 0, 0, 2, 0, 1, 0, 0, 0, 8, 0, 16, 0, 0, 0, 0], \"name\": \"VOI Network Solutions (Winnipeg  MB)\", \"marker\": {\"color\": \"848482\"}}, {\"type\": \"bar\", \"x\": [1, 2, 3, 4, 5, 6, 7, 8, 9, 10, 11, 12, 14, 15, 16, 17, 18], \"y\": [0, 3, 0, 0, 1, 0, 0, 0, 0, 0, 0, 0, 0, 0, 0, 0, 0], \"name\": \"Swift High Speed.com (Winnipeg  MB)\", \"marker\": {\"color\": \"008856\"}}, {\"type\": \"bar\", \"x\": [1, 2, 3, 4, 5, 6, 7, 8, 9, 10, 11, 12, 14, 15, 16, 17, 18], \"y\": [0, 0, 28, 0, 0, 0, 0, 0, 0, 0, 0, 0, 0, 0, 0, 0, 0], \"name\": \"DataHive (Calgary  AB)\", \"marker\": {\"color\": \"E68FAC\"}}, {\"type\": \"bar\", \"x\": [1, 2, 3, 4, 5, 6, 7, 8, 9, 10, 11, 12, 14, 15, 16, 17, 18], \"y\": [0, 0, 0, 0, 0, 0, 0, 0, 95, 0, 0, 0, 1, 0, 4, 156, 0], \"name\": \"Westman Communications (Brandon  MB)\", \"marker\": {\"color\": \"0067A5\"}}, {\"type\": \"bar\", \"x\": [1, 2, 3, 4, 5, 6, 7, 8, 9, 10, 11, 12, 14, 15, 16, 17, 18], \"y\": [0, 0, 0, 0, 0, 0, 0, 0, 77, 0, 0, 0, 0, 0, 5, 6, 0], \"name\": \"NetSet Communications (Brandon  MB)\", \"marker\": {\"color\": \"F99379\"}}, {\"type\": \"bar\", \"x\": [1, 2, 3, 4, 5, 6, 7, 8, 9, 10, 11, 12, 14, 15, 16, 17, 18], \"y\": [0, 0, 0, 0, 0, 0, 0, 0, 4, 0, 0, 0, 2, 0, 89, 0, 0], \"name\": \"Morenet (Morden  MB)\", \"marker\": {\"color\": \"604E97\"}}, {\"type\": \"bar\", \"x\": [1, 2, 3, 4, 5, 6, 7, 8, 9, 10, 11, 12, 14, 15, 16, 17, 18], \"y\": [0, 0, 0, 0, 0, 0, 0, 0, 0, 0, 0, 0, 16, 0, 69, 0, 0], \"name\": \"Valley Fiber (Winkler  MB)\", \"marker\": {\"color\": \"F6A600\"}}, {\"type\": \"bar\", \"x\": [1, 2, 3, 4, 5, 6, 7, 8, 9, 10, 11, 12, 14, 15, 16, 17, 18], \"y\": [0, 0, 0, 0, 0, 0, 0, 0, 38, 0, 0, 0, 6, 0, 25, 0, 0], \"name\": \"RFNow Inc. (Virden  MB)\", \"marker\": {\"color\": \"B3446C\"}}, {\"type\": \"bar\", \"x\": [1, 2, 3, 4, 5, 6, 7, 8, 9, 10, 11, 12, 14, 15, 16, 17, 18], \"y\": [0, 0, 0, 0, 0, 0, 0, 0, 20, 0, 0, 0, 0, 0, 0, 2, 0], \"name\": \"BlackSun Inc. (Saskatoon  SK)\", \"marker\": {\"color\": \"DCD300\"}}, {\"type\": \"bar\", \"x\": [1, 2, 3, 4, 5, 6, 7, 8, 9, 10, 11, 12, 14, 15, 16, 17, 18], \"y\": [0, 0, 0, 0, 0, 0, 0, 0, 13, 0, 0, 0, 0, 0, 0, 0, 0], \"name\": \"SaskTel (Regina  SK)\", \"marker\": {\"color\": \"882D17\"}}, {\"type\": \"bar\", \"x\": [1, 2, 3, 4, 5, 6, 7, 8, 9, 10, 11, 12, 14, 15, 16, 17, 18], \"y\": [0, 0, 0, 0, 0, 0, 0, 0, 1, 0, 0, 0, 0, 0, 0, 0, 0], \"name\": \"Access Communications Co-operative Limited (Regina  SK)\", \"marker\": {\"color\": \"8DB600\"}}, {\"type\": \"bar\", \"x\": [1, 2, 3, 4, 5, 6, 7, 8, 9, 10, 11, 12, 14, 15, 16, 17, 18], \"y\": [0, 0, 0, 0, 0, 0, 0, 0, 0, 0, 66, 0, 0, 0, 0, 0, 0], \"name\": \"Bell Mobility (Winnipeg  MB)\", \"marker\": {\"color\": \"654522\"}}, {\"type\": \"bar\", \"x\": [1, 2, 3, 4, 5, 6, 7, 8, 9, 10, 11, 12, 14, 15, 16, 17, 18], \"y\": [0, 0, 70, 0, 0, 0, 0, 0, 0, 0, 0, 0, 0, 0, 0, 0, 0], \"name\": \"Cybera (Calgary  AB)\", \"marker\": {\"color\": \"E25822\"}}, {\"type\": \"bar\", \"x\": [1, 2, 3, 4, 5, 6, 7, 8, 9, 10, 11, 12, 14, 15, 16, 17, 18], \"y\": [0, 0, 0, 0, 0, 0, 0, 0, 0, 0, 0, 0, 0, 0, 3, 0, 0], \"name\": \"Midco (Minot  ND)\", \"marker\": {\"color\": \"2B3D26\"}}], {\"barmode\": \"stack\", \"title\": \"Number of data points per device per test server\"}, {\"showLink\": true, \"linkText\": \"Export to plot.ly\"})});</script>"
      ],
      "text/vnd.plotly.v1+html": [
       "<div id=\"d42d65a1-c3cf-497b-b0fc-b1c049b80657\" style=\"height: 525px; width: 100%;\" class=\"plotly-graph-div\"></div><script type=\"text/javascript\">require([\"plotly\"], function(Plotly) { window.PLOTLYENV=window.PLOTLYENV || {};window.PLOTLYENV.BASE_URL=\"https://plot.ly\";Plotly.newPlot(\"d42d65a1-c3cf-497b-b0fc-b1c049b80657\", [{\"type\": \"bar\", \"x\": [1, 2, 3, 4, 5, 6, 7, 8, 9, 10, 11, 12, 14, 15, 16, 17, 18], \"y\": [4, 25, 0, 127, 64, 1, 30, 0, 0, 32, 0, 12, 75, 44, 0, 0, 0], \"name\": \"Shaw Communications (Winnipeg  MB)\", \"marker\": {\"color\": \"F2F3F4\"}}, {\"type\": \"bar\", \"x\": [1, 2, 3, 4, 5, 6, 7, 8, 9, 10, 11, 12, 14, 15, 16, 17, 18], \"y\": [1, 36, 0, 7, 200, 3, 51, 0, 0, 6, 0, 0, 0, 2, 0, 0, 0], \"name\": \"Rogers (Winnipeg  MB)\", \"marker\": {\"color\": \"222222\"}}, {\"type\": \"bar\", \"x\": [1, 2, 3, 4, 5, 6, 7, 8, 9, 10, 11, 12, 14, 15, 16, 17, 18], \"y\": [4, 105, 21, 70, 82, 26, 51, 2, 8, 0, 3, 4, 0, 0, 0, 0, 0], \"name\": \"clearskystatus.info iperf\", \"marker\": {\"color\": \"F3C300\"}}, {\"type\": \"bar\", \"x\": [1, 2, 3, 4, 5, 6, 7, 8, 9, 10, 11, 12, 14, 15, 16, 17, 18], \"y\": [1, 15, 0, 6, 55, 1, 50, 5, 0, 28, 40, 74, 38, 53, 0, 0, 28], \"name\": \"LES.NET (Winnipeg  MB)\", \"marker\": {\"color\": \"875692\"}}, {\"type\": \"bar\", \"x\": [1, 2, 3, 4, 5, 6, 7, 8, 9, 10, 11, 12, 14, 15, 16, 17, 18], \"y\": [0, 2, 0, 2, 34, 0, 19, 9, 0, 44, 62, 93, 32, 10, 0, 0, 46], \"name\": \"Commstream Communications (Winnipeg  MB)\", \"marker\": {\"color\": \"F38400\"}}, {\"type\": \"bar\", \"x\": [1, 2, 3, 4, 5, 6, 7, 8, 9, 10, 11, 12, 14, 15, 16, 17, 18], \"y\": [0, 52, 0, 75, 117, 1, 163, 7, 0, 58, 63, 70, 30, 107, 0, 0, 56], \"name\": \"Voyageur Internet (Winnipeg  MB)\", \"marker\": {\"color\": \"A1CAF1\"}}, {\"type\": \"bar\", \"x\": [1, 2, 3, 4, 5, 6, 7, 8, 9, 10, 11, 12, 14, 15, 16, 17, 18], \"y\": [0, 0, 3, 0, 0, 0, 0, 0, 0, 0, 0, 0, 0, 0, 0, 0, 0], \"name\": \"TELUS Mobility (Calgary  AB)\", \"marker\": {\"color\": \"BE0032\"}}, {\"type\": \"bar\", \"x\": [1, 2, 3, 4, 5, 6, 7, 8, 9, 10, 11, 12, 14, 15, 16, 17, 18], \"y\": [0, 0, 177, 0, 0, 0, 0, 0, 0, 0, 0, 0, 0, 0, 0, 0, 0], \"name\": \"Axia Connect Ltd (Calgary  AB)\", \"marker\": {\"color\": \"C2B280\"}}, {\"type\": \"bar\", \"x\": [1, 2, 3, 4, 5, 6, 7, 8, 9, 10, 11, 12, 14, 15, 16, 17, 18], \"y\": [0, 2, 0, 0, 2, 0, 1, 0, 0, 0, 8, 0, 16, 0, 0, 0, 0], \"name\": \"VOI Network Solutions (Winnipeg  MB)\", \"marker\": {\"color\": \"848482\"}}, {\"type\": \"bar\", \"x\": [1, 2, 3, 4, 5, 6, 7, 8, 9, 10, 11, 12, 14, 15, 16, 17, 18], \"y\": [0, 3, 0, 0, 1, 0, 0, 0, 0, 0, 0, 0, 0, 0, 0, 0, 0], \"name\": \"Swift High Speed.com (Winnipeg  MB)\", \"marker\": {\"color\": \"008856\"}}, {\"type\": \"bar\", \"x\": [1, 2, 3, 4, 5, 6, 7, 8, 9, 10, 11, 12, 14, 15, 16, 17, 18], \"y\": [0, 0, 28, 0, 0, 0, 0, 0, 0, 0, 0, 0, 0, 0, 0, 0, 0], \"name\": \"DataHive (Calgary  AB)\", \"marker\": {\"color\": \"E68FAC\"}}, {\"type\": \"bar\", \"x\": [1, 2, 3, 4, 5, 6, 7, 8, 9, 10, 11, 12, 14, 15, 16, 17, 18], \"y\": [0, 0, 0, 0, 0, 0, 0, 0, 95, 0, 0, 0, 1, 0, 4, 156, 0], \"name\": \"Westman Communications (Brandon  MB)\", \"marker\": {\"color\": \"0067A5\"}}, {\"type\": \"bar\", \"x\": [1, 2, 3, 4, 5, 6, 7, 8, 9, 10, 11, 12, 14, 15, 16, 17, 18], \"y\": [0, 0, 0, 0, 0, 0, 0, 0, 77, 0, 0, 0, 0, 0, 5, 6, 0], \"name\": \"NetSet Communications (Brandon  MB)\", \"marker\": {\"color\": \"F99379\"}}, {\"type\": \"bar\", \"x\": [1, 2, 3, 4, 5, 6, 7, 8, 9, 10, 11, 12, 14, 15, 16, 17, 18], \"y\": [0, 0, 0, 0, 0, 0, 0, 0, 4, 0, 0, 0, 2, 0, 89, 0, 0], \"name\": \"Morenet (Morden  MB)\", \"marker\": {\"color\": \"604E97\"}}, {\"type\": \"bar\", \"x\": [1, 2, 3, 4, 5, 6, 7, 8, 9, 10, 11, 12, 14, 15, 16, 17, 18], \"y\": [0, 0, 0, 0, 0, 0, 0, 0, 0, 0, 0, 0, 16, 0, 69, 0, 0], \"name\": \"Valley Fiber (Winkler  MB)\", \"marker\": {\"color\": \"F6A600\"}}, {\"type\": \"bar\", \"x\": [1, 2, 3, 4, 5, 6, 7, 8, 9, 10, 11, 12, 14, 15, 16, 17, 18], \"y\": [0, 0, 0, 0, 0, 0, 0, 0, 38, 0, 0, 0, 6, 0, 25, 0, 0], \"name\": \"RFNow Inc. (Virden  MB)\", \"marker\": {\"color\": \"B3446C\"}}, {\"type\": \"bar\", \"x\": [1, 2, 3, 4, 5, 6, 7, 8, 9, 10, 11, 12, 14, 15, 16, 17, 18], \"y\": [0, 0, 0, 0, 0, 0, 0, 0, 20, 0, 0, 0, 0, 0, 0, 2, 0], \"name\": \"BlackSun Inc. (Saskatoon  SK)\", \"marker\": {\"color\": \"DCD300\"}}, {\"type\": \"bar\", \"x\": [1, 2, 3, 4, 5, 6, 7, 8, 9, 10, 11, 12, 14, 15, 16, 17, 18], \"y\": [0, 0, 0, 0, 0, 0, 0, 0, 13, 0, 0, 0, 0, 0, 0, 0, 0], \"name\": \"SaskTel (Regina  SK)\", \"marker\": {\"color\": \"882D17\"}}, {\"type\": \"bar\", \"x\": [1, 2, 3, 4, 5, 6, 7, 8, 9, 10, 11, 12, 14, 15, 16, 17, 18], \"y\": [0, 0, 0, 0, 0, 0, 0, 0, 1, 0, 0, 0, 0, 0, 0, 0, 0], \"name\": \"Access Communications Co-operative Limited (Regina  SK)\", \"marker\": {\"color\": \"8DB600\"}}, {\"type\": \"bar\", \"x\": [1, 2, 3, 4, 5, 6, 7, 8, 9, 10, 11, 12, 14, 15, 16, 17, 18], \"y\": [0, 0, 0, 0, 0, 0, 0, 0, 0, 0, 66, 0, 0, 0, 0, 0, 0], \"name\": \"Bell Mobility (Winnipeg  MB)\", \"marker\": {\"color\": \"654522\"}}, {\"type\": \"bar\", \"x\": [1, 2, 3, 4, 5, 6, 7, 8, 9, 10, 11, 12, 14, 15, 16, 17, 18], \"y\": [0, 0, 70, 0, 0, 0, 0, 0, 0, 0, 0, 0, 0, 0, 0, 0, 0], \"name\": \"Cybera (Calgary  AB)\", \"marker\": {\"color\": \"E25822\"}}, {\"type\": \"bar\", \"x\": [1, 2, 3, 4, 5, 6, 7, 8, 9, 10, 11, 12, 14, 15, 16, 17, 18], \"y\": [0, 0, 0, 0, 0, 0, 0, 0, 0, 0, 0, 0, 0, 0, 3, 0, 0], \"name\": \"Midco (Minot  ND)\", \"marker\": {\"color\": \"2B3D26\"}}], {\"barmode\": \"stack\", \"title\": \"Number of data points per device per test server\"}, {\"showLink\": true, \"linkText\": \"Export to plot.ly\"})});</script>"
      ]
     },
     "metadata": {},
     "output_type": "display_data"
    }
   ],
   "source": [
    "points_by_device_by_server=upload_df.groupby(['SK_PI', 'server']).size().reset_index()\n",
    "test_servers=upload_df[\"server\"].unique()\n",
    "data=[]\n",
    "i=0\n",
    "for server in test_servers:\n",
    "    serv=[]\n",
    "    for device in device_numbers:\n",
    "        by_server=points_by_device_by_server.loc[(points_by_device_by_server['SK_PI']==device)&(points_by_device_by_server['server']==server)]\n",
    "        if not by_server.empty:\n",
    "            serv.append(by_server[0].iloc[0])\n",
    "        else:\n",
    "            serv.append(0)\n",
    "    trace = go.Bar(x=device_numbers,y=serv, name = server, marker=dict(color=colors[i]))\n",
    "    i=i+1\n",
    "    data.append(trace)\n",
    "    layout = go.Layout(\n",
    "        barmode='stack',\n",
    "        title=\"Number of data points per device per test server\"\n",
    "    )\n",
    "fig = go.Figure(data=data, layout=layout)\n",
    "iplot(fig)"
   ]
  },
  {
   "cell_type": "markdown",
   "metadata": {},
   "source": [
    "### Providers\n",
    "Are there any NaNs or empty strings?"
   ]
  },
  {
   "cell_type": "code",
   "execution_count": 19,
   "metadata": {},
   "outputs": [
    {
     "name": "stdout",
     "output_type": "stream",
     "text": [
      "0\n",
      "0\n"
     ]
    }
   ],
   "source": [
    "print(sum(pd.isnull(upload_df[\"PROVIDER\"])))\n",
    "print(sum(upload_df[\"PROVIDER\"] == ''))"
   ]
  },
  {
   "cell_type": "code",
   "execution_count": 20,
   "metadata": {},
   "outputs": [
    {
     "name": "stdout",
     "output_type": "stream",
     "text": [
      "There are  11  providers ['Bell MTS' 'iperf' 'Cybera' 'MERLIN' 'High Speed Crow'\n",
      " 'Cogent Communications' 'Xplornet Communications'\n",
      " 'Commstream Communications' 'Keewaytinook Okimakanak' 'TeraGo Networks'\n",
      " 'Manitoba Hydro International'] \n",
      "\n"
     ]
    }
   ],
   "source": [
    "print(\"There are \",len(upload_df[\"PROVIDER\"].unique()), \" providers\", upload_df[\"PROVIDER\"].unique(), \"\\n\")"
   ]
  },
  {
   "cell_type": "markdown",
   "metadata": {},
   "source": [
    "#### How many providers per device?"
   ]
  },
  {
   "cell_type": "code",
   "execution_count": 21,
   "metadata": {
    "collapsed": true
   },
   "outputs": [],
   "source": [
    "providers_per_device = upload_df.groupby('SK_PI').apply(lambda x: x[\"PROVIDER\"].unique()).apply(pd.Series)\n",
    "providers_per_device['provider_count'] = providers_per_device.apply(lambda x: x.count(), axis=1)\n",
    "#providers_per_device.head()\n",
    "provider_counts_per_device = pd.Series(providers_per_device['provider_count']).value_counts().reset_index()\n",
    "#provider_counts_per_device"
   ]
  },
  {
   "cell_type": "code",
   "execution_count": 22,
   "metadata": {},
   "outputs": [
    {
     "data": {
      "application/vnd.plotly.v1+json": {
       "data": [
        {
         "labels": [
          2,
          1,
          3
         ],
         "type": "pie",
         "values": [
          11,
          5,
          1
         ]
        }
       ],
       "layout": {
        "title": "Number of providers per device"
       }
      },
      "text/html": [
       "<div id=\"9b6d45cf-e195-4c80-9e2a-6d9d3d3709ef\" style=\"height: 525px; width: 100%;\" class=\"plotly-graph-div\"></div><script type=\"text/javascript\">require([\"plotly\"], function(Plotly) { window.PLOTLYENV=window.PLOTLYENV || {};window.PLOTLYENV.BASE_URL=\"https://plot.ly\";Plotly.newPlot(\"9b6d45cf-e195-4c80-9e2a-6d9d3d3709ef\", [{\"type\": \"pie\", \"labels\": [2, 1, 3], \"values\": [11, 5, 1]}], {\"title\": \"Number of providers per device\"}, {\"showLink\": true, \"linkText\": \"Export to plot.ly\"})});</script>"
      ],
      "text/vnd.plotly.v1+html": [
       "<div id=\"9b6d45cf-e195-4c80-9e2a-6d9d3d3709ef\" style=\"height: 525px; width: 100%;\" class=\"plotly-graph-div\"></div><script type=\"text/javascript\">require([\"plotly\"], function(Plotly) { window.PLOTLYENV=window.PLOTLYENV || {};window.PLOTLYENV.BASE_URL=\"https://plot.ly\";Plotly.newPlot(\"9b6d45cf-e195-4c80-9e2a-6d9d3d3709ef\", [{\"type\": \"pie\", \"labels\": [2, 1, 3], \"values\": [11, 5, 1]}], {\"title\": \"Number of providers per device\"}, {\"showLink\": true, \"linkText\": \"Export to plot.ly\"})});</script>"
      ]
     },
     "metadata": {},
     "output_type": "display_data"
    }
   ],
   "source": [
    "#data = [go.Bar(\n",
    "#            x=providers_per_device.index,\n",
    "#            y=providers_per_device[\"provider_count\"],\n",
    "#    )]\n",
    "data = [go.Pie(\n",
    "            labels=provider_counts_per_device['index'],\n",
    "            values=provider_counts_per_device[\"provider_count\"],\n",
    "    )]\n",
    "layout = go.Layout(\n",
    "        #barmode='stack',\n",
    "        title=\"Number of providers per device\"\n",
    "    )\n",
    "\n",
    "fig = go.Figure(data=data, layout=layout)\n",
    "iplot(fig)"
   ]
  },
  {
   "cell_type": "markdown",
   "metadata": {},
   "source": [
    "64% of the devices (11 out of 17) use 2 network providers. 1 device uses 3 providers. How is it defined?"
   ]
  },
  {
   "cell_type": "code",
   "execution_count": 42,
   "metadata": {},
   "outputs": [
    {
     "data": {
      "application/vnd.plotly.v1+json": {
       "data": [
        {
         "marker": {
          "color": "F2F3F4"
         },
         "name": "Bell MTS",
         "type": "bar",
         "x": [
          1,
          2,
          3,
          4,
          5,
          6,
          7,
          8,
          9,
          10,
          11,
          12,
          14,
          15,
          16,
          17,
          18
         ],
         "y": [
          6,
          135,
          0,
          217,
          473,
          6,
          314,
          0,
          0,
          0,
          0,
          0,
          0,
          216,
          195,
          0,
          0
         ]
        },
        {
         "marker": {
          "color": "222222"
         },
         "name": "iperf",
         "type": "bar",
         "x": [
          1,
          2,
          3,
          4,
          5,
          6,
          7,
          8,
          9,
          10,
          11,
          12,
          14,
          15,
          16,
          17,
          18
         ],
         "y": [
          4,
          105,
          21,
          70,
          82,
          26,
          51,
          2,
          8,
          0,
          3,
          4,
          0,
          0,
          0,
          0,
          0
         ]
        },
        {
         "marker": {
          "color": "F3C300"
         },
         "name": "Cybera",
         "type": "bar",
         "x": [
          1,
          2,
          3,
          4,
          5,
          6,
          7,
          8,
          9,
          10,
          11,
          12,
          14,
          15,
          16,
          17,
          18
         ],
         "y": [
          0,
          0,
          278,
          0,
          0,
          0,
          0,
          0,
          0,
          0,
          0,
          0,
          0,
          0,
          0,
          0,
          0
         ]
        },
        {
         "marker": {
          "color": "875692"
         },
         "name": "MERLIN",
         "type": "bar",
         "x": [
          1,
          2,
          3,
          4,
          5,
          6,
          7,
          8,
          9,
          10,
          11,
          12,
          14,
          15,
          16,
          17,
          18
         ],
         "y": [
          0,
          0,
          0,
          0,
          0,
          0,
          0,
          8,
          0,
          0,
          0,
          0,
          0,
          0,
          0,
          0,
          0
         ]
        },
        {
         "marker": {
          "color": "F38400"
         },
         "name": "High Speed Crow",
         "type": "bar",
         "x": [
          1,
          2,
          3,
          4,
          5,
          6,
          7,
          8,
          9,
          10,
          11,
          12,
          14,
          15,
          16,
          17,
          18
         ],
         "y": [
          0,
          0,
          0,
          0,
          0,
          0,
          0,
          0,
          0,
          0,
          0,
          249,
          0,
          0,
          0,
          0,
          0
         ]
        },
        {
         "marker": {
          "color": "A1CAF1"
         },
         "name": "Cogent Communications",
         "type": "bar",
         "x": [
          1,
          2,
          3,
          4,
          5,
          6,
          7,
          8,
          9,
          10,
          11,
          12,
          14,
          15,
          16,
          17,
          18
         ],
         "y": [
          0,
          0,
          0,
          0,
          0,
          0,
          0,
          0,
          0,
          0,
          239,
          0,
          0,
          0,
          0,
          0,
          0
         ]
        },
        {
         "marker": {
          "color": "BE0032"
         },
         "name": "Xplornet Communications",
         "type": "bar",
         "x": [
          1,
          2,
          3,
          4,
          5,
          6,
          7,
          8,
          9,
          10,
          11,
          12,
          14,
          15,
          16,
          17,
          18
         ],
         "y": [
          0,
          0,
          0,
          0,
          0,
          0,
          0,
          0,
          248,
          0,
          0,
          0,
          0,
          0,
          0,
          0,
          0
         ]
        },
        {
         "marker": {
          "color": "C2B280"
         },
         "name": "Commstream Communications",
         "type": "bar",
         "x": [
          1,
          2,
          3,
          4,
          5,
          6,
          7,
          8,
          9,
          10,
          11,
          12,
          14,
          15,
          16,
          17,
          18
         ],
         "y": [
          0,
          0,
          0,
          0,
          0,
          0,
          0,
          13,
          0,
          0,
          0,
          0,
          0,
          0,
          0,
          0,
          0
         ]
        },
        {
         "marker": {
          "color": "848482"
         },
         "name": "Keewaytinook Okimakanak",
         "type": "bar",
         "x": [
          1,
          2,
          3,
          4,
          5,
          6,
          7,
          8,
          9,
          10,
          11,
          12,
          14,
          15,
          16,
          17,
          18
         ],
         "y": [
          0,
          0,
          0,
          0,
          0,
          0,
          0,
          0,
          0,
          0,
          0,
          0,
          57,
          0,
          0,
          164,
          130
         ]
        },
        {
         "marker": {
          "color": "008856"
         },
         "name": "TeraGo Networks",
         "type": "bar",
         "x": [
          1,
          2,
          3,
          4,
          5,
          6,
          7,
          8,
          9,
          10,
          11,
          12,
          14,
          15,
          16,
          17,
          18
         ],
         "y": [
          0,
          0,
          0,
          0,
          0,
          0,
          0,
          0,
          0,
          168,
          0,
          0,
          0,
          0,
          0,
          0,
          0
         ]
        },
        {
         "marker": {
          "color": "E68FAC"
         },
         "name": "Manitoba Hydro International",
         "type": "bar",
         "x": [
          1,
          2,
          3,
          4,
          5,
          6,
          7,
          8,
          9,
          10,
          11,
          12,
          14,
          15,
          16,
          17,
          18
         ],
         "y": [
          0,
          0,
          0,
          0,
          0,
          0,
          0,
          0,
          0,
          0,
          0,
          0,
          159,
          0,
          0,
          0,
          0
         ]
        }
       ],
       "layout": {
        "barmode": "stack",
        "title": "Number of data points per device per provider"
       }
      },
      "text/html": [
       "<div id=\"b97d258f-6938-437a-ba54-c558f3758af1\" style=\"height: 525px; width: 100%;\" class=\"plotly-graph-div\"></div><script type=\"text/javascript\">require([\"plotly\"], function(Plotly) { window.PLOTLYENV=window.PLOTLYENV || {};window.PLOTLYENV.BASE_URL=\"https://plot.ly\";Plotly.newPlot(\"b97d258f-6938-437a-ba54-c558f3758af1\", [{\"type\": \"bar\", \"x\": [1, 2, 3, 4, 5, 6, 7, 8, 9, 10, 11, 12, 14, 15, 16, 17, 18], \"y\": [6, 135, 0, 217, 473, 6, 314, 0, 0, 0, 0, 0, 0, 216, 195, 0, 0], \"name\": \"Bell MTS\", \"marker\": {\"color\": \"F2F3F4\"}}, {\"type\": \"bar\", \"x\": [1, 2, 3, 4, 5, 6, 7, 8, 9, 10, 11, 12, 14, 15, 16, 17, 18], \"y\": [4, 105, 21, 70, 82, 26, 51, 2, 8, 0, 3, 4, 0, 0, 0, 0, 0], \"name\": \"iperf\", \"marker\": {\"color\": \"222222\"}}, {\"type\": \"bar\", \"x\": [1, 2, 3, 4, 5, 6, 7, 8, 9, 10, 11, 12, 14, 15, 16, 17, 18], \"y\": [0, 0, 278, 0, 0, 0, 0, 0, 0, 0, 0, 0, 0, 0, 0, 0, 0], \"name\": \"Cybera\", \"marker\": {\"color\": \"F3C300\"}}, {\"type\": \"bar\", \"x\": [1, 2, 3, 4, 5, 6, 7, 8, 9, 10, 11, 12, 14, 15, 16, 17, 18], \"y\": [0, 0, 0, 0, 0, 0, 0, 8, 0, 0, 0, 0, 0, 0, 0, 0, 0], \"name\": \"MERLIN\", \"marker\": {\"color\": \"875692\"}}, {\"type\": \"bar\", \"x\": [1, 2, 3, 4, 5, 6, 7, 8, 9, 10, 11, 12, 14, 15, 16, 17, 18], \"y\": [0, 0, 0, 0, 0, 0, 0, 0, 0, 0, 0, 249, 0, 0, 0, 0, 0], \"name\": \"High Speed Crow\", \"marker\": {\"color\": \"F38400\"}}, {\"type\": \"bar\", \"x\": [1, 2, 3, 4, 5, 6, 7, 8, 9, 10, 11, 12, 14, 15, 16, 17, 18], \"y\": [0, 0, 0, 0, 0, 0, 0, 0, 0, 0, 239, 0, 0, 0, 0, 0, 0], \"name\": \"Cogent Communications\", \"marker\": {\"color\": \"A1CAF1\"}}, {\"type\": \"bar\", \"x\": [1, 2, 3, 4, 5, 6, 7, 8, 9, 10, 11, 12, 14, 15, 16, 17, 18], \"y\": [0, 0, 0, 0, 0, 0, 0, 0, 248, 0, 0, 0, 0, 0, 0, 0, 0], \"name\": \"Xplornet Communications\", \"marker\": {\"color\": \"BE0032\"}}, {\"type\": \"bar\", \"x\": [1, 2, 3, 4, 5, 6, 7, 8, 9, 10, 11, 12, 14, 15, 16, 17, 18], \"y\": [0, 0, 0, 0, 0, 0, 0, 13, 0, 0, 0, 0, 0, 0, 0, 0, 0], \"name\": \"Commstream Communications\", \"marker\": {\"color\": \"C2B280\"}}, {\"type\": \"bar\", \"x\": [1, 2, 3, 4, 5, 6, 7, 8, 9, 10, 11, 12, 14, 15, 16, 17, 18], \"y\": [0, 0, 0, 0, 0, 0, 0, 0, 0, 0, 0, 0, 57, 0, 0, 164, 130], \"name\": \"Keewaytinook Okimakanak\", \"marker\": {\"color\": \"848482\"}}, {\"type\": \"bar\", \"x\": [1, 2, 3, 4, 5, 6, 7, 8, 9, 10, 11, 12, 14, 15, 16, 17, 18], \"y\": [0, 0, 0, 0, 0, 0, 0, 0, 0, 168, 0, 0, 0, 0, 0, 0, 0], \"name\": \"TeraGo Networks\", \"marker\": {\"color\": \"008856\"}}, {\"type\": \"bar\", \"x\": [1, 2, 3, 4, 5, 6, 7, 8, 9, 10, 11, 12, 14, 15, 16, 17, 18], \"y\": [0, 0, 0, 0, 0, 0, 0, 0, 0, 0, 0, 0, 159, 0, 0, 0, 0], \"name\": \"Manitoba Hydro International\", \"marker\": {\"color\": \"E68FAC\"}}], {\"barmode\": \"stack\", \"title\": \"Number of data points per device per provider\"}, {\"showLink\": true, \"linkText\": \"Export to plot.ly\"})});</script>"
      ],
      "text/vnd.plotly.v1+html": [
       "<div id=\"b97d258f-6938-437a-ba54-c558f3758af1\" style=\"height: 525px; width: 100%;\" class=\"plotly-graph-div\"></div><script type=\"text/javascript\">require([\"plotly\"], function(Plotly) { window.PLOTLYENV=window.PLOTLYENV || {};window.PLOTLYENV.BASE_URL=\"https://plot.ly\";Plotly.newPlot(\"b97d258f-6938-437a-ba54-c558f3758af1\", [{\"type\": \"bar\", \"x\": [1, 2, 3, 4, 5, 6, 7, 8, 9, 10, 11, 12, 14, 15, 16, 17, 18], \"y\": [6, 135, 0, 217, 473, 6, 314, 0, 0, 0, 0, 0, 0, 216, 195, 0, 0], \"name\": \"Bell MTS\", \"marker\": {\"color\": \"F2F3F4\"}}, {\"type\": \"bar\", \"x\": [1, 2, 3, 4, 5, 6, 7, 8, 9, 10, 11, 12, 14, 15, 16, 17, 18], \"y\": [4, 105, 21, 70, 82, 26, 51, 2, 8, 0, 3, 4, 0, 0, 0, 0, 0], \"name\": \"iperf\", \"marker\": {\"color\": \"222222\"}}, {\"type\": \"bar\", \"x\": [1, 2, 3, 4, 5, 6, 7, 8, 9, 10, 11, 12, 14, 15, 16, 17, 18], \"y\": [0, 0, 278, 0, 0, 0, 0, 0, 0, 0, 0, 0, 0, 0, 0, 0, 0], \"name\": \"Cybera\", \"marker\": {\"color\": \"F3C300\"}}, {\"type\": \"bar\", \"x\": [1, 2, 3, 4, 5, 6, 7, 8, 9, 10, 11, 12, 14, 15, 16, 17, 18], \"y\": [0, 0, 0, 0, 0, 0, 0, 8, 0, 0, 0, 0, 0, 0, 0, 0, 0], \"name\": \"MERLIN\", \"marker\": {\"color\": \"875692\"}}, {\"type\": \"bar\", \"x\": [1, 2, 3, 4, 5, 6, 7, 8, 9, 10, 11, 12, 14, 15, 16, 17, 18], \"y\": [0, 0, 0, 0, 0, 0, 0, 0, 0, 0, 0, 249, 0, 0, 0, 0, 0], \"name\": \"High Speed Crow\", \"marker\": {\"color\": \"F38400\"}}, {\"type\": \"bar\", \"x\": [1, 2, 3, 4, 5, 6, 7, 8, 9, 10, 11, 12, 14, 15, 16, 17, 18], \"y\": [0, 0, 0, 0, 0, 0, 0, 0, 0, 0, 239, 0, 0, 0, 0, 0, 0], \"name\": \"Cogent Communications\", \"marker\": {\"color\": \"A1CAF1\"}}, {\"type\": \"bar\", \"x\": [1, 2, 3, 4, 5, 6, 7, 8, 9, 10, 11, 12, 14, 15, 16, 17, 18], \"y\": [0, 0, 0, 0, 0, 0, 0, 0, 248, 0, 0, 0, 0, 0, 0, 0, 0], \"name\": \"Xplornet Communications\", \"marker\": {\"color\": \"BE0032\"}}, {\"type\": \"bar\", \"x\": [1, 2, 3, 4, 5, 6, 7, 8, 9, 10, 11, 12, 14, 15, 16, 17, 18], \"y\": [0, 0, 0, 0, 0, 0, 0, 13, 0, 0, 0, 0, 0, 0, 0, 0, 0], \"name\": \"Commstream Communications\", \"marker\": {\"color\": \"C2B280\"}}, {\"type\": \"bar\", \"x\": [1, 2, 3, 4, 5, 6, 7, 8, 9, 10, 11, 12, 14, 15, 16, 17, 18], \"y\": [0, 0, 0, 0, 0, 0, 0, 0, 0, 0, 0, 0, 57, 0, 0, 164, 130], \"name\": \"Keewaytinook Okimakanak\", \"marker\": {\"color\": \"848482\"}}, {\"type\": \"bar\", \"x\": [1, 2, 3, 4, 5, 6, 7, 8, 9, 10, 11, 12, 14, 15, 16, 17, 18], \"y\": [0, 0, 0, 0, 0, 0, 0, 0, 0, 168, 0, 0, 0, 0, 0, 0, 0], \"name\": \"TeraGo Networks\", \"marker\": {\"color\": \"008856\"}}, {\"type\": \"bar\", \"x\": [1, 2, 3, 4, 5, 6, 7, 8, 9, 10, 11, 12, 14, 15, 16, 17, 18], \"y\": [0, 0, 0, 0, 0, 0, 0, 0, 0, 0, 0, 0, 159, 0, 0, 0, 0], \"name\": \"Manitoba Hydro International\", \"marker\": {\"color\": \"E68FAC\"}}], {\"barmode\": \"stack\", \"title\": \"Number of data points per device per provider\"}, {\"showLink\": true, \"linkText\": \"Export to plot.ly\"})});</script>"
      ]
     },
     "metadata": {},
     "output_type": "display_data"
    }
   ],
   "source": [
    "points_by_device_by_provider=upload_df.groupby(['SK_PI', 'PROVIDER']).size().reset_index()\n",
    "providers=upload_df['PROVIDER'].unique()\n",
    "data=[]\n",
    "i=0\n",
    "for provider in providers:\n",
    "    prov=[]\n",
    "    for device in device_numbers:\n",
    "        by_provider=points_by_device_by_provider.loc[(points_by_device_by_provider['SK_PI']==device)&(points_by_device_by_provider['PROVIDER']==provider)]\n",
    "        if not by_provider.empty:\n",
    "            prov.append(by_provider[0].iloc[0])\n",
    "        else:\n",
    "            prov.append(0)\n",
    "    trace = go.Bar(x=device_numbers,y=prov, name = provider, marker=dict(color=colors[i]))\n",
    "    i=i+1\n",
    "    data.append(trace)\n",
    "    layout = go.Layout(\n",
    "        barmode='stack',\n",
    "        title=\"Number of data points per device per provider\"\n",
    "    )\n",
    "fig = go.Figure(data=data, layout=layout)\n",
    "iplot(fig)"
   ]
  },
  {
   "cell_type": "markdown",
   "metadata": {},
   "source": [
    "### How often data is collected?\n",
    "\n",
    "Let's ceck device number 5 with the larges number of datapoints and (8 test servers, 2 providers)  and device number 8 with largest number of providers (3) and 4 test servers?"
   ]
  },
  {
   "cell_type": "code",
   "execution_count": 24,
   "metadata": {},
   "outputs": [
    {
     "data": {
      "text/html": [
       "<div>\n",
       "<style>\n",
       "    .dataframe thead tr:only-child th {\n",
       "        text-align: right;\n",
       "    }\n",
       "\n",
       "    .dataframe thead th {\n",
       "        text-align: left;\n",
       "    }\n",
       "\n",
       "    .dataframe tbody tr th {\n",
       "        vertical-align: top;\n",
       "    }\n",
       "</style>\n",
       "<table border=\"1\" class=\"dataframe\">\n",
       "  <thead>\n",
       "    <tr style=\"text-align: right;\">\n",
       "      <th></th>\n",
       "      <th>time</th>\n",
       "      <th>SK_PI</th>\n",
       "      <th>PROVIDER</th>\n",
       "      <th>server</th>\n",
       "      <th>UPLOAD</th>\n",
       "    </tr>\n",
       "  </thead>\n",
       "  <tbody>\n",
       "    <tr>\n",
       "      <th>219</th>\n",
       "      <td>2018-10-26 18:18:08</td>\n",
       "      <td>5</td>\n",
       "      <td>Bell MTS</td>\n",
       "      <td>Voyageur Internet (Winnipeg  MB)</td>\n",
       "      <td>0.53</td>\n",
       "    </tr>\n",
       "    <tr>\n",
       "      <th>220</th>\n",
       "      <td>2018-10-26 20:10:16</td>\n",
       "      <td>5</td>\n",
       "      <td>iperf</td>\n",
       "      <td>clearskystatus.info iperf</td>\n",
       "      <td>514.00</td>\n",
       "    </tr>\n",
       "    <tr>\n",
       "      <th>221</th>\n",
       "      <td>2018-10-26 22:00:13</td>\n",
       "      <td>5</td>\n",
       "      <td>Bell MTS</td>\n",
       "      <td>Shaw Communications (Winnipeg  MB)</td>\n",
       "      <td>0.60</td>\n",
       "    </tr>\n",
       "    <tr>\n",
       "      <th>223</th>\n",
       "      <td>2018-10-26 23:52:22</td>\n",
       "      <td>5</td>\n",
       "      <td>iperf</td>\n",
       "      <td>clearskystatus.info iperf</td>\n",
       "      <td>574.00</td>\n",
       "    </tr>\n",
       "    <tr>\n",
       "      <th>226</th>\n",
       "      <td>2018-10-27 01:42:06</td>\n",
       "      <td>5</td>\n",
       "      <td>Bell MTS</td>\n",
       "      <td>LES.NET (Winnipeg  MB)</td>\n",
       "      <td>0.37</td>\n",
       "    </tr>\n",
       "  </tbody>\n",
       "</table>\n",
       "</div>"
      ],
      "text/plain": [
       "                   time  SK_PI  PROVIDER                              server  \\\n",
       "219 2018-10-26 18:18:08      5  Bell MTS    Voyageur Internet (Winnipeg  MB)   \n",
       "220 2018-10-26 20:10:16      5     iperf           clearskystatus.info iperf   \n",
       "221 2018-10-26 22:00:13      5  Bell MTS  Shaw Communications (Winnipeg  MB)   \n",
       "223 2018-10-26 23:52:22      5     iperf           clearskystatus.info iperf   \n",
       "226 2018-10-27 01:42:06      5  Bell MTS              LES.NET (Winnipeg  MB)   \n",
       "\n",
       "     UPLOAD  \n",
       "219    0.53  \n",
       "220  514.00  \n",
       "221    0.60  \n",
       "223  574.00  \n",
       "226    0.37  "
      ]
     },
     "execution_count": 24,
     "metadata": {},
     "output_type": "execute_result"
    }
   ],
   "source": [
    "upload_df.loc[upload_df['SK_PI']==5][['time','SK_PI', 'PROVIDER', 'server','UPLOAD']].head(5)"
   ]
  },
  {
   "cell_type": "code",
   "execution_count": 25,
   "metadata": {},
   "outputs": [
    {
     "data": {
      "text/html": [
       "<div>\n",
       "<style>\n",
       "    .dataframe thead tr:only-child th {\n",
       "        text-align: right;\n",
       "    }\n",
       "\n",
       "    .dataframe thead th {\n",
       "        text-align: left;\n",
       "    }\n",
       "\n",
       "    .dataframe tbody tr th {\n",
       "        vertical-align: top;\n",
       "    }\n",
       "</style>\n",
       "<table border=\"1\" class=\"dataframe\">\n",
       "  <thead>\n",
       "    <tr style=\"text-align: right;\">\n",
       "      <th></th>\n",
       "      <th>time</th>\n",
       "      <th>SK_PI</th>\n",
       "      <th>PROVIDER</th>\n",
       "      <th>server</th>\n",
       "      <th>UPLOAD</th>\n",
       "    </tr>\n",
       "  </thead>\n",
       "  <tbody>\n",
       "    <tr>\n",
       "      <th>3597</th>\n",
       "      <td>2019-01-07 09:00:05</td>\n",
       "      <td>5</td>\n",
       "      <td>Bell MTS</td>\n",
       "      <td>Rogers (Winnipeg  MB)</td>\n",
       "      <td>0.51</td>\n",
       "    </tr>\n",
       "    <tr>\n",
       "      <th>3610</th>\n",
       "      <td>2019-01-07 12:42:09</td>\n",
       "      <td>5</td>\n",
       "      <td>Bell MTS</td>\n",
       "      <td>Voyageur Internet (Winnipeg  MB)</td>\n",
       "      <td>0.53</td>\n",
       "    </tr>\n",
       "    <tr>\n",
       "      <th>3630</th>\n",
       "      <td>2019-01-07 16:24:14</td>\n",
       "      <td>5</td>\n",
       "      <td>Bell MTS</td>\n",
       "      <td>Commstream Communications (Winnipeg  MB)</td>\n",
       "      <td>0.48</td>\n",
       "    </tr>\n",
       "    <tr>\n",
       "      <th>3635</th>\n",
       "      <td>2019-01-07 20:06:09</td>\n",
       "      <td>5</td>\n",
       "      <td>Bell MTS</td>\n",
       "      <td>Voyageur Internet (Winnipeg  MB)</td>\n",
       "      <td>0.48</td>\n",
       "    </tr>\n",
       "    <tr>\n",
       "      <th>3646</th>\n",
       "      <td>2019-01-07 23:48:07</td>\n",
       "      <td>5</td>\n",
       "      <td>Bell MTS</td>\n",
       "      <td>Voyageur Internet (Winnipeg  MB)</td>\n",
       "      <td>0.53</td>\n",
       "    </tr>\n",
       "  </tbody>\n",
       "</table>\n",
       "</div>"
      ],
      "text/plain": [
       "                    time  SK_PI  PROVIDER  \\\n",
       "3597 2019-01-07 09:00:05      5  Bell MTS   \n",
       "3610 2019-01-07 12:42:09      5  Bell MTS   \n",
       "3630 2019-01-07 16:24:14      5  Bell MTS   \n",
       "3635 2019-01-07 20:06:09      5  Bell MTS   \n",
       "3646 2019-01-07 23:48:07      5  Bell MTS   \n",
       "\n",
       "                                        server  UPLOAD  \n",
       "3597                     Rogers (Winnipeg  MB)    0.51  \n",
       "3610          Voyageur Internet (Winnipeg  MB)    0.53  \n",
       "3630  Commstream Communications (Winnipeg  MB)    0.48  \n",
       "3635          Voyageur Internet (Winnipeg  MB)    0.48  \n",
       "3646          Voyageur Internet (Winnipeg  MB)    0.53  "
      ]
     },
     "execution_count": 25,
     "metadata": {},
     "output_type": "execute_result"
    }
   ],
   "source": [
    "upload_df.loc[upload_df['SK_PI']==5][['time','SK_PI', 'PROVIDER', 'server','UPLOAD']].tail(5)"
   ]
  },
  {
   "cell_type": "code",
   "execution_count": 26,
   "metadata": {},
   "outputs": [
    {
     "data": {
      "text/html": [
       "<div>\n",
       "<style>\n",
       "    .dataframe thead tr:only-child th {\n",
       "        text-align: right;\n",
       "    }\n",
       "\n",
       "    .dataframe thead th {\n",
       "        text-align: left;\n",
       "    }\n",
       "\n",
       "    .dataframe tbody tr th {\n",
       "        vertical-align: top;\n",
       "    }\n",
       "</style>\n",
       "<table border=\"1\" class=\"dataframe\">\n",
       "  <thead>\n",
       "    <tr style=\"text-align: right;\">\n",
       "      <th></th>\n",
       "      <th>time</th>\n",
       "      <th>SK_PI</th>\n",
       "      <th>PROVIDER</th>\n",
       "      <th>server</th>\n",
       "      <th>UPLOAD</th>\n",
       "    </tr>\n",
       "  </thead>\n",
       "  <tbody>\n",
       "    <tr>\n",
       "      <th>520</th>\n",
       "      <td>2018-11-07 18:22:07</td>\n",
       "      <td>8</td>\n",
       "      <td>MERLIN</td>\n",
       "      <td>Voyageur Internet (Winnipeg  MB)</td>\n",
       "      <td>136.88</td>\n",
       "    </tr>\n",
       "    <tr>\n",
       "      <th>523</th>\n",
       "      <td>2018-11-07 20:14:27</td>\n",
       "      <td>8</td>\n",
       "      <td>iperf</td>\n",
       "      <td>clearskystatus.info iperf</td>\n",
       "      <td>4034.56</td>\n",
       "    </tr>\n",
       "    <tr>\n",
       "      <th>1072</th>\n",
       "      <td>2018-11-30 18:12:12</td>\n",
       "      <td>8</td>\n",
       "      <td>MERLIN</td>\n",
       "      <td>Voyageur Internet (Winnipeg  MB)</td>\n",
       "      <td>140.37</td>\n",
       "    </tr>\n",
       "    <tr>\n",
       "      <th>1077</th>\n",
       "      <td>2018-11-30 21:54:11</td>\n",
       "      <td>8</td>\n",
       "      <td>MERLIN</td>\n",
       "      <td>Commstream Communications (Winnipeg  MB)</td>\n",
       "      <td>86.70</td>\n",
       "    </tr>\n",
       "    <tr>\n",
       "      <th>1087</th>\n",
       "      <td>2018-12-01 01:36:11</td>\n",
       "      <td>8</td>\n",
       "      <td>Commstream Communications</td>\n",
       "      <td>Commstream Communications (Winnipeg  MB)</td>\n",
       "      <td>85.11</td>\n",
       "    </tr>\n",
       "  </tbody>\n",
       "</table>\n",
       "</div>"
      ],
      "text/plain": [
       "                    time  SK_PI                   PROVIDER  \\\n",
       "520  2018-11-07 18:22:07      8                     MERLIN   \n",
       "523  2018-11-07 20:14:27      8                      iperf   \n",
       "1072 2018-11-30 18:12:12      8                     MERLIN   \n",
       "1077 2018-11-30 21:54:11      8                     MERLIN   \n",
       "1087 2018-12-01 01:36:11      8  Commstream Communications   \n",
       "\n",
       "                                        server   UPLOAD  \n",
       "520           Voyageur Internet (Winnipeg  MB)   136.88  \n",
       "523                  clearskystatus.info iperf  4034.56  \n",
       "1072          Voyageur Internet (Winnipeg  MB)   140.37  \n",
       "1077  Commstream Communications (Winnipeg  MB)    86.70  \n",
       "1087  Commstream Communications (Winnipeg  MB)    85.11  "
      ]
     },
     "execution_count": 26,
     "metadata": {},
     "output_type": "execute_result"
    }
   ],
   "source": [
    "upload_df.loc[upload_df['SK_PI']==8][['time','SK_PI', 'PROVIDER', 'server','UPLOAD']].head(5)"
   ]
  },
  {
   "cell_type": "code",
   "execution_count": 27,
   "metadata": {},
   "outputs": [
    {
     "data": {
      "text/html": [
       "<div>\n",
       "<style>\n",
       "    .dataframe thead tr:only-child th {\n",
       "        text-align: right;\n",
       "    }\n",
       "\n",
       "    .dataframe thead th {\n",
       "        text-align: left;\n",
       "    }\n",
       "\n",
       "    .dataframe tbody tr th {\n",
       "        vertical-align: top;\n",
       "    }\n",
       "</style>\n",
       "<table border=\"1\" class=\"dataframe\">\n",
       "  <thead>\n",
       "    <tr style=\"text-align: right;\">\n",
       "      <th></th>\n",
       "      <th>time</th>\n",
       "      <th>SK_PI</th>\n",
       "      <th>PROVIDER</th>\n",
       "      <th>server</th>\n",
       "      <th>UPLOAD</th>\n",
       "    </tr>\n",
       "  </thead>\n",
       "  <tbody>\n",
       "    <tr>\n",
       "      <th>3597</th>\n",
       "      <td>2019-01-07 09:00:05</td>\n",
       "      <td>5</td>\n",
       "      <td>Bell MTS</td>\n",
       "      <td>Rogers (Winnipeg  MB)</td>\n",
       "      <td>0.51</td>\n",
       "    </tr>\n",
       "    <tr>\n",
       "      <th>3610</th>\n",
       "      <td>2019-01-07 12:42:09</td>\n",
       "      <td>5</td>\n",
       "      <td>Bell MTS</td>\n",
       "      <td>Voyageur Internet (Winnipeg  MB)</td>\n",
       "      <td>0.53</td>\n",
       "    </tr>\n",
       "    <tr>\n",
       "      <th>3630</th>\n",
       "      <td>2019-01-07 16:24:14</td>\n",
       "      <td>5</td>\n",
       "      <td>Bell MTS</td>\n",
       "      <td>Commstream Communications (Winnipeg  MB)</td>\n",
       "      <td>0.48</td>\n",
       "    </tr>\n",
       "    <tr>\n",
       "      <th>3635</th>\n",
       "      <td>2019-01-07 20:06:09</td>\n",
       "      <td>5</td>\n",
       "      <td>Bell MTS</td>\n",
       "      <td>Voyageur Internet (Winnipeg  MB)</td>\n",
       "      <td>0.48</td>\n",
       "    </tr>\n",
       "    <tr>\n",
       "      <th>3646</th>\n",
       "      <td>2019-01-07 23:48:07</td>\n",
       "      <td>5</td>\n",
       "      <td>Bell MTS</td>\n",
       "      <td>Voyageur Internet (Winnipeg  MB)</td>\n",
       "      <td>0.53</td>\n",
       "    </tr>\n",
       "  </tbody>\n",
       "</table>\n",
       "</div>"
      ],
      "text/plain": [
       "                    time  SK_PI  PROVIDER  \\\n",
       "3597 2019-01-07 09:00:05      5  Bell MTS   \n",
       "3610 2019-01-07 12:42:09      5  Bell MTS   \n",
       "3630 2019-01-07 16:24:14      5  Bell MTS   \n",
       "3635 2019-01-07 20:06:09      5  Bell MTS   \n",
       "3646 2019-01-07 23:48:07      5  Bell MTS   \n",
       "\n",
       "                                        server  UPLOAD  \n",
       "3597                     Rogers (Winnipeg  MB)    0.51  \n",
       "3610          Voyageur Internet (Winnipeg  MB)    0.53  \n",
       "3630  Commstream Communications (Winnipeg  MB)    0.48  \n",
       "3635          Voyageur Internet (Winnipeg  MB)    0.48  \n",
       "3646          Voyageur Internet (Winnipeg  MB)    0.53  "
      ]
     },
     "execution_count": 27,
     "metadata": {},
     "output_type": "execute_result"
    }
   ],
   "source": [
    "upload_df.loc[upload_df['SK_PI']==5][['time','SK_PI', 'PROVIDER', 'server','UPLOAD']].tail(5)"
   ]
  },
  {
   "cell_type": "markdown",
   "metadata": {},
   "source": [
    " Looks like data is collected with 3 hours 42 mins intervals using different test servers. \n",
    " How is it determined which test server to use?\n",
    " \n",
    " ### To do : \n",
    " Calculate all the intevals?  \n",
    " For some devices - plot time series data by test server?"
   ]
  },
  {
   "cell_type": "markdown",
   "metadata": {},
   "source": [
    "### Median, average, maximum upload speed"
   ]
  },
  {
   "cell_type": "code",
   "execution_count": 28,
   "metadata": {},
   "outputs": [
    {
     "data": {
      "application/vnd.plotly.v1+json": {
       "data": [
        {
         "name": "Mean",
         "type": "bar",
         "x": [
          1,
          2,
          3,
          4,
          5,
          6,
          7,
          8,
          9,
          10,
          11,
          12,
          14,
          15,
          16,
          17,
          18
         ],
         "y": [
          283.248,
          670.6246666666664,
          636.808026755853,
          181.53728222996523,
          75.48717117117114,
          630.83125,
          631.2367671232873,
          561.6721739130435,
          183.96187499999985,
          4.576130952380949,
          64.48884297520664,
          47.29565217391308,
          86.52064814814814,
          43.563842592592565,
          3.7881025641025663,
          45.70310975609755,
          9.596999999999994
         ]
        },
        {
         "name": "Max",
         "type": "bar",
         "x": [
          1,
          2,
          3,
          4,
          5,
          6,
          7,
          8,
          9,
          10,
          11,
          12,
          14,
          15,
          16,
          17,
          18
         ],
         "y": [
          844,
          6492.16,
          20480,
          842,
          620,
          926,
          8140.8,
          6809.6,
          7444.48,
          6.5,
          1669.12,
          3235.84,
          150.63,
          52.49,
          4.03,
          50.87,
          11.53
         ]
        },
        {
         "name": "Median",
         "type": "bar",
         "x": [
          1,
          2,
          3,
          4,
          5,
          6,
          7,
          8,
          9,
          10,
          11,
          12,
          14,
          15,
          16,
          17,
          18
         ],
         "y": [
          0.89,
          7.115,
          125.42,
          0.64,
          0.53,
          798.5,
          7.99,
          92.49,
          52.44,
          4.52,
          52.94,
          8.19,
          122.16,
          43.685,
          3.85,
          47.155,
          9.56
         ]
        }
       ],
       "layout": {
        "title": "Maximum, mean and median upload speed per device"
       }
      },
      "text/html": [
       "<div id=\"64cf3739-ce63-4456-b25d-b7ce5dc860e2\" style=\"height: 525px; width: 100%;\" class=\"plotly-graph-div\"></div><script type=\"text/javascript\">require([\"plotly\"], function(Plotly) { window.PLOTLYENV=window.PLOTLYENV || {};window.PLOTLYENV.BASE_URL=\"https://plot.ly\";Plotly.newPlot(\"64cf3739-ce63-4456-b25d-b7ce5dc860e2\", [{\"type\": \"bar\", \"x\": [1, 2, 3, 4, 5, 6, 7, 8, 9, 10, 11, 12, 14, 15, 16, 17, 18], \"y\": [283.248, 670.6246666666664, 636.808026755853, 181.53728222996523, 75.48717117117114, 630.83125, 631.2367671232873, 561.6721739130435, 183.96187499999985, 4.576130952380949, 64.48884297520664, 47.29565217391308, 86.52064814814814, 43.563842592592565, 3.7881025641025663, 45.70310975609755, 9.596999999999994], \"name\": \"Mean\"}, {\"type\": \"bar\", \"x\": [1, 2, 3, 4, 5, 6, 7, 8, 9, 10, 11, 12, 14, 15, 16, 17, 18], \"y\": [844.0, 6492.16, 20480.0, 842.0, 620.0, 926.0, 8140.8, 6809.6, 7444.48, 6.5, 1669.12, 3235.84, 150.63, 52.49, 4.03, 50.87, 11.53], \"name\": \"Max\"}, {\"type\": \"bar\", \"x\": [1, 2, 3, 4, 5, 6, 7, 8, 9, 10, 11, 12, 14, 15, 16, 17, 18], \"y\": [0.89, 7.115, 125.42, 0.64, 0.53, 798.5, 7.99, 92.49, 52.44, 4.52, 52.94, 8.19, 122.16, 43.685, 3.85, 47.155, 9.56], \"name\": \"Median\"}], {\"title\": \"Maximum, mean and median upload speed per device\"}, {\"showLink\": true, \"linkText\": \"Export to plot.ly\"})});</script>"
      ],
      "text/vnd.plotly.v1+html": [
       "<div id=\"64cf3739-ce63-4456-b25d-b7ce5dc860e2\" style=\"height: 525px; width: 100%;\" class=\"plotly-graph-div\"></div><script type=\"text/javascript\">require([\"plotly\"], function(Plotly) { window.PLOTLYENV=window.PLOTLYENV || {};window.PLOTLYENV.BASE_URL=\"https://plot.ly\";Plotly.newPlot(\"64cf3739-ce63-4456-b25d-b7ce5dc860e2\", [{\"type\": \"bar\", \"x\": [1, 2, 3, 4, 5, 6, 7, 8, 9, 10, 11, 12, 14, 15, 16, 17, 18], \"y\": [283.248, 670.6246666666664, 636.808026755853, 181.53728222996523, 75.48717117117114, 630.83125, 631.2367671232873, 561.6721739130435, 183.96187499999985, 4.576130952380949, 64.48884297520664, 47.29565217391308, 86.52064814814814, 43.563842592592565, 3.7881025641025663, 45.70310975609755, 9.596999999999994], \"name\": \"Mean\"}, {\"type\": \"bar\", \"x\": [1, 2, 3, 4, 5, 6, 7, 8, 9, 10, 11, 12, 14, 15, 16, 17, 18], \"y\": [844.0, 6492.16, 20480.0, 842.0, 620.0, 926.0, 8140.8, 6809.6, 7444.48, 6.5, 1669.12, 3235.84, 150.63, 52.49, 4.03, 50.87, 11.53], \"name\": \"Max\"}, {\"type\": \"bar\", \"x\": [1, 2, 3, 4, 5, 6, 7, 8, 9, 10, 11, 12, 14, 15, 16, 17, 18], \"y\": [0.89, 7.115, 125.42, 0.64, 0.53, 798.5, 7.99, 92.49, 52.44, 4.52, 52.94, 8.19, 122.16, 43.685, 3.85, 47.155, 9.56], \"name\": \"Median\"}], {\"title\": \"Maximum, mean and median upload speed per device\"}, {\"showLink\": true, \"linkText\": \"Export to plot.ly\"})});</script>"
      ]
     },
     "metadata": {},
     "output_type": "display_data"
    }
   ],
   "source": [
    "def barplot_averages(df,column, title,index_col='SK_PI'):\n",
    "    max_df = df.groupby(index_col)[column].max().reset_index()\n",
    "    max_df.columns = [index_col, column+'_MAX']\n",
    "    med_df = df.groupby(index_col)[column].median().reset_index()\n",
    "    med_df.columns = [index_col, column+'_MEDIAN']\n",
    "    avg_df = df.groupby(index_col)[column].mean().reset_index()\n",
    "    avg_df.columns = [index_col, column+'_MEAN']\n",
    "    med_max_avg_df=pd.merge(pd.merge(max_df, med_df,on=index_col),avg_df, on=index_col)\n",
    "    trace1 = go.Bar(\n",
    "                x=med_max_avg_df[index_col],\n",
    "                y=med_max_avg_df[column+'_MEAN'],\n",
    "                name='Mean',\n",
    "        )\n",
    "    trace2 = go.Bar(\n",
    "                x=med_max_avg_df[index_col],\n",
    "                y=med_max_avg_df[column+'_MAX'],\n",
    "                name='Max',\n",
    "\n",
    "        )\n",
    "    trace3 = go.Bar(\n",
    "                x=med_max_avg_df[index_col],\n",
    "                y=med_max_avg_df[column+'_MEDIAN'],\n",
    "                name='Median',\n",
    "\n",
    "        )\n",
    "    data = [trace1, trace2, trace3]\n",
    "    layout = go.Layout(\n",
    "           # barmode='stack',\n",
    "            title=title\n",
    "            #title=\"Maximum, mean and median upload speed per device\"\n",
    "        )\n",
    "\n",
    "    fig = go.Figure(data=data, layout=layout)\n",
    "    iplot(fig)\n",
    "barplot_averages(upload_df,'UPLOAD',\"Maximum, mean and median upload speed per device\")"
   ]
  },
  {
   "cell_type": "markdown",
   "metadata": {},
   "source": [
    "Device #3 (Cybera office) has the larges spikes, but device 6 have larger median - potentially an issue there."
   ]
  },
  {
   "cell_type": "code",
   "execution_count": 29,
   "metadata": {},
   "outputs": [
    {
     "data": {
      "application/vnd.plotly.v1+json": {
       "data": [
        {
         "name": "Mean",
         "type": "bar",
         "x": [
          "Access Communications Co-operative Limited (Regina  SK)",
          "Axia Connect Ltd (Calgary  AB)",
          "Bell Mobility (Winnipeg  MB)",
          "BlackSun Inc. (Saskatoon  SK)",
          "Commstream Communications (Winnipeg  MB)",
          "Cybera (Calgary  AB)",
          "DataHive (Calgary  AB)",
          "LES.NET (Winnipeg  MB)",
          "Midco (Minot  ND)",
          "Morenet (Morden  MB)",
          "NetSet Communications (Brandon  MB)",
          "RFNow Inc. (Virden  MB)",
          "Rogers (Winnipeg  MB)",
          "SaskTel (Regina  SK)",
          "Shaw Communications (Winnipeg  MB)",
          "Swift High Speed.com (Winnipeg  MB)",
          "TELUS Mobility (Calgary  AB)",
          "VOI Network Solutions (Winnipeg  MB)",
          "Valley Fiber (Winkler  MB)",
          "Voyageur Internet (Winnipeg  MB)",
          "Westman Communications (Brandon  MB)",
          "clearskystatus.info iperf"
         ],
         "y": [
          42.67,
          123.50169491525428,
          56.188939393939386,
          37.925454545454535,
          16.41419263456091,
          126.86157142857142,
          64.42,
          22.591192893401008,
          3.633333333333333,
          5.780000000000001,
          48.229545454545466,
          41.6110144927536,
          2.1225490196078427,
          51.13615384615385,
          31.03765700483093,
          0.3225,
          126.93666666666667,
          67.60724137931035,
          27.945058823529404,
          14.084067584480598,
          47.78476562499998,
          1922.4420212765963
         ]
        },
        {
         "name": "Max",
         "type": "bar",
         "x": [
          "Access Communications Co-operative Limited (Regina  SK)",
          "Axia Connect Ltd (Calgary  AB)",
          "Bell Mobility (Winnipeg  MB)",
          "BlackSun Inc. (Saskatoon  SK)",
          "Commstream Communications (Winnipeg  MB)",
          "Cybera (Calgary  AB)",
          "DataHive (Calgary  AB)",
          "LES.NET (Winnipeg  MB)",
          "Midco (Minot  ND)",
          "Morenet (Morden  MB)",
          "NetSet Communications (Brandon  MB)",
          "RFNow Inc. (Virden  MB)",
          "Rogers (Winnipeg  MB)",
          "SaskTel (Regina  SK)",
          "Shaw Communications (Winnipeg  MB)",
          "Swift High Speed.com (Winnipeg  MB)",
          "TELUS Mobility (Calgary  AB)",
          "VOI Network Solutions (Winnipeg  MB)",
          "Valley Fiber (Winkler  MB)",
          "Voyageur Internet (Winnipeg  MB)",
          "Westman Communications (Brandon  MB)",
          "clearskystatus.info iperf"
         ],
         "y": [
          42.67,
          127.6,
          62.63,
          52.62,
          98.24,
          130.74,
          67.98,
          147.12,
          3.87,
          52.2,
          58.77,
          141.2,
          43.91,
          55.94,
          150.63,
          0.46,
          130.94,
          142.72,
          149.05,
          140.53,
          94.52,
          20480
         ]
        },
        {
         "name": "Median",
         "type": "bar",
         "x": [
          "Access Communications Co-operative Limited (Regina  SK)",
          "Axia Connect Ltd (Calgary  AB)",
          "Bell Mobility (Winnipeg  MB)",
          "BlackSun Inc. (Saskatoon  SK)",
          "Commstream Communications (Winnipeg  MB)",
          "Cybera (Calgary  AB)",
          "DataHive (Calgary  AB)",
          "LES.NET (Winnipeg  MB)",
          "Midco (Minot  ND)",
          "Morenet (Morden  MB)",
          "NetSet Communications (Brandon  MB)",
          "RFNow Inc. (Virden  MB)",
          "Rogers (Winnipeg  MB)",
          "SaskTel (Regina  SK)",
          "Shaw Communications (Winnipeg  MB)",
          "Swift High Speed.com (Winnipeg  MB)",
          "TELUS Mobility (Calgary  AB)",
          "VOI Network Solutions (Winnipeg  MB)",
          "Valley Fiber (Winkler  MB)",
          "Voyageur Internet (Winnipeg  MB)",
          "Westman Communications (Brandon  MB)",
          "clearskystatus.info iperf"
         ],
         "y": [
          42.67,
          124.88,
          57.16,
          41.855000000000004,
          8.88,
          127.065,
          66.92,
          8.565000000000001,
          3.82,
          3.84,
          50.31,
          53.89,
          0.54,
          51.92,
          0.67,
          0.335,
          128.78,
          56.92,
          3.92,
          7.73,
          48.155,
          768
         ]
        }
       ],
       "layout": {
        "title": "Maximum, mean and median upload speed per test server"
       }
      },
      "text/html": [
       "<div id=\"b69e0a04-25b5-4140-8fb6-17d337d25cc6\" style=\"height: 525px; width: 100%;\" class=\"plotly-graph-div\"></div><script type=\"text/javascript\">require([\"plotly\"], function(Plotly) { window.PLOTLYENV=window.PLOTLYENV || {};window.PLOTLYENV.BASE_URL=\"https://plot.ly\";Plotly.newPlot(\"b69e0a04-25b5-4140-8fb6-17d337d25cc6\", [{\"type\": \"bar\", \"x\": [\"Access Communications Co-operative Limited (Regina  SK)\", \"Axia Connect Ltd (Calgary  AB)\", \"Bell Mobility (Winnipeg  MB)\", \"BlackSun Inc. (Saskatoon  SK)\", \"Commstream Communications (Winnipeg  MB)\", \"Cybera (Calgary  AB)\", \"DataHive (Calgary  AB)\", \"LES.NET (Winnipeg  MB)\", \"Midco (Minot  ND)\", \"Morenet (Morden  MB)\", \"NetSet Communications (Brandon  MB)\", \"RFNow Inc. (Virden  MB)\", \"Rogers (Winnipeg  MB)\", \"SaskTel (Regina  SK)\", \"Shaw Communications (Winnipeg  MB)\", \"Swift High Speed.com (Winnipeg  MB)\", \"TELUS Mobility (Calgary  AB)\", \"VOI Network Solutions (Winnipeg  MB)\", \"Valley Fiber (Winkler  MB)\", \"Voyageur Internet (Winnipeg  MB)\", \"Westman Communications (Brandon  MB)\", \"clearskystatus.info iperf\"], \"y\": [42.67, 123.50169491525428, 56.188939393939386, 37.925454545454535, 16.41419263456091, 126.86157142857142, 64.42, 22.591192893401008, 3.633333333333333, 5.780000000000001, 48.229545454545466, 41.6110144927536, 2.1225490196078427, 51.13615384615385, 31.03765700483093, 0.3225, 126.93666666666667, 67.60724137931035, 27.945058823529404, 14.084067584480598, 47.78476562499998, 1922.4420212765963], \"name\": \"Mean\"}, {\"type\": \"bar\", \"x\": [\"Access Communications Co-operative Limited (Regina  SK)\", \"Axia Connect Ltd (Calgary  AB)\", \"Bell Mobility (Winnipeg  MB)\", \"BlackSun Inc. (Saskatoon  SK)\", \"Commstream Communications (Winnipeg  MB)\", \"Cybera (Calgary  AB)\", \"DataHive (Calgary  AB)\", \"LES.NET (Winnipeg  MB)\", \"Midco (Minot  ND)\", \"Morenet (Morden  MB)\", \"NetSet Communications (Brandon  MB)\", \"RFNow Inc. (Virden  MB)\", \"Rogers (Winnipeg  MB)\", \"SaskTel (Regina  SK)\", \"Shaw Communications (Winnipeg  MB)\", \"Swift High Speed.com (Winnipeg  MB)\", \"TELUS Mobility (Calgary  AB)\", \"VOI Network Solutions (Winnipeg  MB)\", \"Valley Fiber (Winkler  MB)\", \"Voyageur Internet (Winnipeg  MB)\", \"Westman Communications (Brandon  MB)\", \"clearskystatus.info iperf\"], \"y\": [42.67, 127.6, 62.63, 52.62, 98.24, 130.74, 67.98, 147.12, 3.87, 52.2, 58.77, 141.2, 43.91, 55.94, 150.63, 0.46, 130.94, 142.72, 149.05, 140.53, 94.52, 20480.0], \"name\": \"Max\"}, {\"type\": \"bar\", \"x\": [\"Access Communications Co-operative Limited (Regina  SK)\", \"Axia Connect Ltd (Calgary  AB)\", \"Bell Mobility (Winnipeg  MB)\", \"BlackSun Inc. (Saskatoon  SK)\", \"Commstream Communications (Winnipeg  MB)\", \"Cybera (Calgary  AB)\", \"DataHive (Calgary  AB)\", \"LES.NET (Winnipeg  MB)\", \"Midco (Minot  ND)\", \"Morenet (Morden  MB)\", \"NetSet Communications (Brandon  MB)\", \"RFNow Inc. (Virden  MB)\", \"Rogers (Winnipeg  MB)\", \"SaskTel (Regina  SK)\", \"Shaw Communications (Winnipeg  MB)\", \"Swift High Speed.com (Winnipeg  MB)\", \"TELUS Mobility (Calgary  AB)\", \"VOI Network Solutions (Winnipeg  MB)\", \"Valley Fiber (Winkler  MB)\", \"Voyageur Internet (Winnipeg  MB)\", \"Westman Communications (Brandon  MB)\", \"clearskystatus.info iperf\"], \"y\": [42.67, 124.88, 57.16, 41.855000000000004, 8.88, 127.065, 66.92, 8.565000000000001, 3.82, 3.84, 50.31, 53.89, 0.54, 51.92, 0.67, 0.335, 128.78, 56.92, 3.92, 7.73, 48.155, 768.0], \"name\": \"Median\"}], {\"title\": \"Maximum, mean and median upload speed per test server\"}, {\"showLink\": true, \"linkText\": \"Export to plot.ly\"})});</script>"
      ],
      "text/vnd.plotly.v1+html": [
       "<div id=\"b69e0a04-25b5-4140-8fb6-17d337d25cc6\" style=\"height: 525px; width: 100%;\" class=\"plotly-graph-div\"></div><script type=\"text/javascript\">require([\"plotly\"], function(Plotly) { window.PLOTLYENV=window.PLOTLYENV || {};window.PLOTLYENV.BASE_URL=\"https://plot.ly\";Plotly.newPlot(\"b69e0a04-25b5-4140-8fb6-17d337d25cc6\", [{\"type\": \"bar\", \"x\": [\"Access Communications Co-operative Limited (Regina  SK)\", \"Axia Connect Ltd (Calgary  AB)\", \"Bell Mobility (Winnipeg  MB)\", \"BlackSun Inc. (Saskatoon  SK)\", \"Commstream Communications (Winnipeg  MB)\", \"Cybera (Calgary  AB)\", \"DataHive (Calgary  AB)\", \"LES.NET (Winnipeg  MB)\", \"Midco (Minot  ND)\", \"Morenet (Morden  MB)\", \"NetSet Communications (Brandon  MB)\", \"RFNow Inc. (Virden  MB)\", \"Rogers (Winnipeg  MB)\", \"SaskTel (Regina  SK)\", \"Shaw Communications (Winnipeg  MB)\", \"Swift High Speed.com (Winnipeg  MB)\", \"TELUS Mobility (Calgary  AB)\", \"VOI Network Solutions (Winnipeg  MB)\", \"Valley Fiber (Winkler  MB)\", \"Voyageur Internet (Winnipeg  MB)\", \"Westman Communications (Brandon  MB)\", \"clearskystatus.info iperf\"], \"y\": [42.67, 123.50169491525428, 56.188939393939386, 37.925454545454535, 16.41419263456091, 126.86157142857142, 64.42, 22.591192893401008, 3.633333333333333, 5.780000000000001, 48.229545454545466, 41.6110144927536, 2.1225490196078427, 51.13615384615385, 31.03765700483093, 0.3225, 126.93666666666667, 67.60724137931035, 27.945058823529404, 14.084067584480598, 47.78476562499998, 1922.4420212765963], \"name\": \"Mean\"}, {\"type\": \"bar\", \"x\": [\"Access Communications Co-operative Limited (Regina  SK)\", \"Axia Connect Ltd (Calgary  AB)\", \"Bell Mobility (Winnipeg  MB)\", \"BlackSun Inc. (Saskatoon  SK)\", \"Commstream Communications (Winnipeg  MB)\", \"Cybera (Calgary  AB)\", \"DataHive (Calgary  AB)\", \"LES.NET (Winnipeg  MB)\", \"Midco (Minot  ND)\", \"Morenet (Morden  MB)\", \"NetSet Communications (Brandon  MB)\", \"RFNow Inc. (Virden  MB)\", \"Rogers (Winnipeg  MB)\", \"SaskTel (Regina  SK)\", \"Shaw Communications (Winnipeg  MB)\", \"Swift High Speed.com (Winnipeg  MB)\", \"TELUS Mobility (Calgary  AB)\", \"VOI Network Solutions (Winnipeg  MB)\", \"Valley Fiber (Winkler  MB)\", \"Voyageur Internet (Winnipeg  MB)\", \"Westman Communications (Brandon  MB)\", \"clearskystatus.info iperf\"], \"y\": [42.67, 127.6, 62.63, 52.62, 98.24, 130.74, 67.98, 147.12, 3.87, 52.2, 58.77, 141.2, 43.91, 55.94, 150.63, 0.46, 130.94, 142.72, 149.05, 140.53, 94.52, 20480.0], \"name\": \"Max\"}, {\"type\": \"bar\", \"x\": [\"Access Communications Co-operative Limited (Regina  SK)\", \"Axia Connect Ltd (Calgary  AB)\", \"Bell Mobility (Winnipeg  MB)\", \"BlackSun Inc. (Saskatoon  SK)\", \"Commstream Communications (Winnipeg  MB)\", \"Cybera (Calgary  AB)\", \"DataHive (Calgary  AB)\", \"LES.NET (Winnipeg  MB)\", \"Midco (Minot  ND)\", \"Morenet (Morden  MB)\", \"NetSet Communications (Brandon  MB)\", \"RFNow Inc. (Virden  MB)\", \"Rogers (Winnipeg  MB)\", \"SaskTel (Regina  SK)\", \"Shaw Communications (Winnipeg  MB)\", \"Swift High Speed.com (Winnipeg  MB)\", \"TELUS Mobility (Calgary  AB)\", \"VOI Network Solutions (Winnipeg  MB)\", \"Valley Fiber (Winkler  MB)\", \"Voyageur Internet (Winnipeg  MB)\", \"Westman Communications (Brandon  MB)\", \"clearskystatus.info iperf\"], \"y\": [42.67, 124.88, 57.16, 41.855000000000004, 8.88, 127.065, 66.92, 8.565000000000001, 3.82, 3.84, 50.31, 53.89, 0.54, 51.92, 0.67, 0.335, 128.78, 56.92, 3.92, 7.73, 48.155, 768.0], \"name\": \"Median\"}], {\"title\": \"Maximum, mean and median upload speed per test server\"}, {\"showLink\": true, \"linkText\": \"Export to plot.ly\"})});</script>"
      ]
     },
     "metadata": {},
     "output_type": "display_data"
    }
   ],
   "source": [
    "barplot_averages(upload_df,'UPLOAD',\"Maximum, mean and median upload speed per test server\",index_col='server')"
   ]
  },
  {
   "cell_type": "code",
   "execution_count": 30,
   "metadata": {},
   "outputs": [
    {
     "data": {
      "application/vnd.plotly.v1+json": {
       "data": [
        {
         "name": "Mean",
         "type": "bar",
         "x": [
          "Bell MTS",
          "Cogent Communications",
          "Commstream Communications",
          "Cybera",
          "High Speed Crow",
          "Keewaytinook Okimakanak",
          "MERLIN",
          "Manitoba Hydro International",
          "TeraGo Networks",
          "Xplornet Communications",
          "iperf"
         ],
         "y": [
          8.460813060179262,
          45.418158995815915,
          85.52615384615385,
          118.43410071942444,
          7.917911646586343,
          26.809344729344705,
          120.30749999999999,
          113.34150943396226,
          4.576130952380949,
          50.912903225806424,
          1922.4420212765963
         ]
        },
        {
         "name": "Max",
         "type": "bar",
         "x": [
          "Bell MTS",
          "Cogent Communications",
          "Commstream Communications",
          "Cybera",
          "High Speed Crow",
          "Keewaytinook Okimakanak",
          "MERLIN",
          "Manitoba Hydro International",
          "TeraGo Networks",
          "Xplornet Communications",
          "iperf"
         ],
         "y": [
          52.49,
          62.63,
          92.88,
          130.94,
          10.57,
          94.94,
          140.53,
          150.63,
          6.5,
          58.77,
          20480
         ]
        },
        {
         "name": "Median",
         "type": "bar",
         "x": [
          "Bell MTS",
          "Cogent Communications",
          "Commstream Communications",
          "Cybera",
          "High Speed Crow",
          "Keewaytinook Okimakanak",
          "MERLIN",
          "Manitoba Hydro International",
          "TeraGo Networks",
          "Xplornet Communications",
          "iperf"
         ],
         "y": [
          1.63,
          52.87,
          87.76,
          125.21000000000001,
          8.18,
          9.86,
          133.42000000000002,
          135.96,
          4.52,
          51.865,
          768
         ]
        }
       ],
       "layout": {
        "title": "Maximum, mean and median upload speed per provider"
       }
      },
      "text/html": [
       "<div id=\"43c15916-df6c-4516-90ec-6060f814d901\" style=\"height: 525px; width: 100%;\" class=\"plotly-graph-div\"></div><script type=\"text/javascript\">require([\"plotly\"], function(Plotly) { window.PLOTLYENV=window.PLOTLYENV || {};window.PLOTLYENV.BASE_URL=\"https://plot.ly\";Plotly.newPlot(\"43c15916-df6c-4516-90ec-6060f814d901\", [{\"type\": \"bar\", \"x\": [\"Bell MTS\", \"Cogent Communications\", \"Commstream Communications\", \"Cybera\", \"High Speed Crow\", \"Keewaytinook Okimakanak\", \"MERLIN\", \"Manitoba Hydro International\", \"TeraGo Networks\", \"Xplornet Communications\", \"iperf\"], \"y\": [8.460813060179262, 45.418158995815915, 85.52615384615385, 118.43410071942444, 7.917911646586343, 26.809344729344705, 120.30749999999999, 113.34150943396226, 4.576130952380949, 50.912903225806424, 1922.4420212765963], \"name\": \"Mean\"}, {\"type\": \"bar\", \"x\": [\"Bell MTS\", \"Cogent Communications\", \"Commstream Communications\", \"Cybera\", \"High Speed Crow\", \"Keewaytinook Okimakanak\", \"MERLIN\", \"Manitoba Hydro International\", \"TeraGo Networks\", \"Xplornet Communications\", \"iperf\"], \"y\": [52.49, 62.63, 92.88, 130.94, 10.57, 94.94, 140.53, 150.63, 6.5, 58.77, 20480.0], \"name\": \"Max\"}, {\"type\": \"bar\", \"x\": [\"Bell MTS\", \"Cogent Communications\", \"Commstream Communications\", \"Cybera\", \"High Speed Crow\", \"Keewaytinook Okimakanak\", \"MERLIN\", \"Manitoba Hydro International\", \"TeraGo Networks\", \"Xplornet Communications\", \"iperf\"], \"y\": [1.63, 52.87, 87.76, 125.21000000000001, 8.18, 9.86, 133.42000000000002, 135.96, 4.52, 51.865, 768.0], \"name\": \"Median\"}], {\"title\": \"Maximum, mean and median upload speed per provider\"}, {\"showLink\": true, \"linkText\": \"Export to plot.ly\"})});</script>"
      ],
      "text/vnd.plotly.v1+html": [
       "<div id=\"43c15916-df6c-4516-90ec-6060f814d901\" style=\"height: 525px; width: 100%;\" class=\"plotly-graph-div\"></div><script type=\"text/javascript\">require([\"plotly\"], function(Plotly) { window.PLOTLYENV=window.PLOTLYENV || {};window.PLOTLYENV.BASE_URL=\"https://plot.ly\";Plotly.newPlot(\"43c15916-df6c-4516-90ec-6060f814d901\", [{\"type\": \"bar\", \"x\": [\"Bell MTS\", \"Cogent Communications\", \"Commstream Communications\", \"Cybera\", \"High Speed Crow\", \"Keewaytinook Okimakanak\", \"MERLIN\", \"Manitoba Hydro International\", \"TeraGo Networks\", \"Xplornet Communications\", \"iperf\"], \"y\": [8.460813060179262, 45.418158995815915, 85.52615384615385, 118.43410071942444, 7.917911646586343, 26.809344729344705, 120.30749999999999, 113.34150943396226, 4.576130952380949, 50.912903225806424, 1922.4420212765963], \"name\": \"Mean\"}, {\"type\": \"bar\", \"x\": [\"Bell MTS\", \"Cogent Communications\", \"Commstream Communications\", \"Cybera\", \"High Speed Crow\", \"Keewaytinook Okimakanak\", \"MERLIN\", \"Manitoba Hydro International\", \"TeraGo Networks\", \"Xplornet Communications\", \"iperf\"], \"y\": [52.49, 62.63, 92.88, 130.94, 10.57, 94.94, 140.53, 150.63, 6.5, 58.77, 20480.0], \"name\": \"Max\"}, {\"type\": \"bar\", \"x\": [\"Bell MTS\", \"Cogent Communications\", \"Commstream Communications\", \"Cybera\", \"High Speed Crow\", \"Keewaytinook Okimakanak\", \"MERLIN\", \"Manitoba Hydro International\", \"TeraGo Networks\", \"Xplornet Communications\", \"iperf\"], \"y\": [1.63, 52.87, 87.76, 125.21000000000001, 8.18, 9.86, 133.42000000000002, 135.96, 4.52, 51.865, 768.0], \"name\": \"Median\"}], {\"title\": \"Maximum, mean and median upload speed per provider\"}, {\"showLink\": true, \"linkText\": \"Export to plot.ly\"})});</script>"
      ]
     },
     "metadata": {},
     "output_type": "display_data"
    }
   ],
   "source": [
    "barplot_averages(upload_df,'UPLOAD',\"Maximum, mean and median upload speed per provider\",index_col='PROVIDER')"
   ]
  },
  {
   "cell_type": "markdown",
   "metadata": {},
   "source": [
    "What is 'clearskystatus.info iperf'? It has significantly larger speeds."
   ]
  },
  {
   "cell_type": "markdown",
   "metadata": {},
   "source": [
    "### Median, average, maximum download speed"
   ]
  },
  {
   "cell_type": "code",
   "execution_count": 31,
   "metadata": {
    "collapsed": true
   },
   "outputs": [],
   "source": [
    "query_download = 'SELECT * FROM SPEEDTEST_DOWNLOAD;'\n",
    "result_download= client.query(query_download)\n",
    "download_df = result_download['SPEEDTEST_DOWNLOAD']\n",
    "\n",
    "download_df.reset_index(level=0, inplace=True)\n",
    "download_df['index']=download_df['index'].dt.strftime('%Y-%m-%d %H:%M:%S')\n",
    "download_df['index'] = pd.to_datetime(download_df['index'])\n",
    "download_df['SK_PI']=pd.to_numeric(download_df['SK_PI'])\n",
    "\n",
    "download_df.rename(columns={'index':'time'}, inplace=True)\n",
    "download_df = download_df[download_df.DOWNLOAD != 0]"
   ]
  },
  {
   "cell_type": "code",
   "execution_count": 32,
   "metadata": {},
   "outputs": [
    {
     "data": {
      "application/vnd.plotly.v1+json": {
       "data": [
        {
         "name": "Mean",
         "type": "bar",
         "x": [
          1,
          2,
          3,
          4,
          5,
          6,
          7,
          8,
          9,
          10,
          11,
          12,
          14,
          15,
          16,
          17,
          18
         ],
         "y": [
          2528.6189999999997,
          2509.1447083333355,
          2638.030635451504,
          916.1203124999998,
          829.2636036036043,
          4066.4518750000016,
          932.2395068493154,
          3450.8595652173913,
          837.8537109375008,
          4.113035714285713,
          131.96177685950428,
          232.77857707509884,
          97.18328703703702,
          16.98013888888889,
          5.569179487179485,
          36.73006097560977,
          9.336384615384617
         ]
        },
        {
         "name": "Max",
         "type": "bar",
         "x": [
          1,
          2,
          3,
          4,
          5,
          6,
          7,
          8,
          9,
          10,
          11,
          12,
          14,
          15,
          16,
          17,
          18
         ],
         "y": [
          9666.56,
          11878.4,
          42086.4,
          4075.52,
          6871.04,
          6656,
          10342.4,
          38809.6,
          31744,
          7.32,
          12288,
          15257.6,
          174.28,
          27.66,
          6.34,
          46.02,
          9.55
         ]
        },
        {
         "name": "Median",
         "type": "bar",
         "x": [
          1,
          2,
          3,
          4,
          5,
          6,
          7,
          8,
          9,
          10,
          11,
          12,
          14,
          15,
          16,
          17,
          18
         ],
         "y": [
          9.059999999999999,
          11.260000000000002,
          180.76,
          3.76,
          6.46,
          5580.8,
          12.12,
          92.11,
          43.75,
          4.175000000000001,
          26.28,
          16.53,
          136.575,
          16.525,
          6.05,
          38.93,
          9.45
         ]
        }
       ],
       "layout": {
        "title": "Maximum, mean and median download speed per device"
       }
      },
      "text/html": [
       "<div id=\"7c4d6407-05ea-418d-ad09-56d190a033a0\" style=\"height: 525px; width: 100%;\" class=\"plotly-graph-div\"></div><script type=\"text/javascript\">require([\"plotly\"], function(Plotly) { window.PLOTLYENV=window.PLOTLYENV || {};window.PLOTLYENV.BASE_URL=\"https://plot.ly\";Plotly.newPlot(\"7c4d6407-05ea-418d-ad09-56d190a033a0\", [{\"type\": \"bar\", \"x\": [1, 2, 3, 4, 5, 6, 7, 8, 9, 10, 11, 12, 14, 15, 16, 17, 18], \"y\": [2528.6189999999997, 2509.1447083333355, 2638.030635451504, 916.1203124999998, 829.2636036036043, 4066.4518750000016, 932.2395068493154, 3450.8595652173913, 837.8537109375008, 4.113035714285713, 131.96177685950428, 232.77857707509884, 97.18328703703702, 16.98013888888889, 5.569179487179485, 36.73006097560977, 9.336384615384617], \"name\": \"Mean\"}, {\"type\": \"bar\", \"x\": [1, 2, 3, 4, 5, 6, 7, 8, 9, 10, 11, 12, 14, 15, 16, 17, 18], \"y\": [9666.56, 11878.4, 42086.4, 4075.52, 6871.04, 6656.0, 10342.4, 38809.6, 31744.0, 7.32, 12288.0, 15257.6, 174.28, 27.66, 6.34, 46.02, 9.55], \"name\": \"Max\"}, {\"type\": \"bar\", \"x\": [1, 2, 3, 4, 5, 6, 7, 8, 9, 10, 11, 12, 14, 15, 16, 17, 18], \"y\": [9.059999999999999, 11.260000000000002, 180.76, 3.76, 6.46, 5580.8, 12.12, 92.11, 43.75, 4.175000000000001, 26.28, 16.53, 136.575, 16.525, 6.05, 38.93, 9.45], \"name\": \"Median\"}], {\"title\": \"Maximum, mean and median download speed per device\"}, {\"showLink\": true, \"linkText\": \"Export to plot.ly\"})});</script>"
      ],
      "text/vnd.plotly.v1+html": [
       "<div id=\"7c4d6407-05ea-418d-ad09-56d190a033a0\" style=\"height: 525px; width: 100%;\" class=\"plotly-graph-div\"></div><script type=\"text/javascript\">require([\"plotly\"], function(Plotly) { window.PLOTLYENV=window.PLOTLYENV || {};window.PLOTLYENV.BASE_URL=\"https://plot.ly\";Plotly.newPlot(\"7c4d6407-05ea-418d-ad09-56d190a033a0\", [{\"type\": \"bar\", \"x\": [1, 2, 3, 4, 5, 6, 7, 8, 9, 10, 11, 12, 14, 15, 16, 17, 18], \"y\": [2528.6189999999997, 2509.1447083333355, 2638.030635451504, 916.1203124999998, 829.2636036036043, 4066.4518750000016, 932.2395068493154, 3450.8595652173913, 837.8537109375008, 4.113035714285713, 131.96177685950428, 232.77857707509884, 97.18328703703702, 16.98013888888889, 5.569179487179485, 36.73006097560977, 9.336384615384617], \"name\": \"Mean\"}, {\"type\": \"bar\", \"x\": [1, 2, 3, 4, 5, 6, 7, 8, 9, 10, 11, 12, 14, 15, 16, 17, 18], \"y\": [9666.56, 11878.4, 42086.4, 4075.52, 6871.04, 6656.0, 10342.4, 38809.6, 31744.0, 7.32, 12288.0, 15257.6, 174.28, 27.66, 6.34, 46.02, 9.55], \"name\": \"Max\"}, {\"type\": \"bar\", \"x\": [1, 2, 3, 4, 5, 6, 7, 8, 9, 10, 11, 12, 14, 15, 16, 17, 18], \"y\": [9.059999999999999, 11.260000000000002, 180.76, 3.76, 6.46, 5580.8, 12.12, 92.11, 43.75, 4.175000000000001, 26.28, 16.53, 136.575, 16.525, 6.05, 38.93, 9.45], \"name\": \"Median\"}], {\"title\": \"Maximum, mean and median download speed per device\"}, {\"showLink\": true, \"linkText\": \"Export to plot.ly\"})});</script>"
      ]
     },
     "metadata": {},
     "output_type": "display_data"
    }
   ],
   "source": [
    "barplot_averages(download_df,'DOWNLOAD',\"Maximum, mean and median download speed per device\")"
   ]
  },
  {
   "cell_type": "markdown",
   "metadata": {},
   "source": [
    "Clearly device #6 has an issue with largest median. Devices #3, #8 #9 having maximum spikes."
   ]
  },
  {
   "cell_type": "code",
   "execution_count": 33,
   "metadata": {},
   "outputs": [
    {
     "data": {
      "application/vnd.plotly.v1+json": {
       "data": [
        {
         "name": "Mean",
         "type": "bar",
         "x": [
          "Access Communications Co-operative Limited (Regina  SK)",
          "Axia Connect Ltd (Calgary  AB)",
          "Bell Mobility (Winnipeg  MB)",
          "BlackSun Inc. (Saskatoon  SK)",
          "Commstream Communications (Winnipeg  MB)",
          "Cybera (Calgary  AB)",
          "DataHive (Calgary  AB)",
          "LES.NET (Winnipeg  MB)",
          "Midco (Minot  ND)",
          "Morenet (Morden  MB)",
          "NetSet Communications (Brandon  MB)",
          "RFNow Inc. (Virden  MB)",
          "Rogers (Winnipeg  MB)",
          "SaskTel (Regina  SK)",
          "Shaw Communications (Winnipeg  MB)",
          "Swift High Speed.com (Winnipeg  MB)",
          "TELUS Mobility (Calgary  AB)",
          "VOI Network Solutions (Winnipeg  MB)",
          "Valley Fiber (Winkler  MB)",
          "Voyageur Internet (Winnipeg  MB)",
          "Westman Communications (Brandon  MB)",
          "clearskystatus.info iperf"
         ],
         "y": [
          6.73,
          180.12316384180795,
          36.4990909090909,
          32.317727272727275,
          16.018611898017003,
          182.49657142857143,
          60.813571428571436,
          21.381954314720815,
          6.039999999999999,
          7.063157894736843,
          39.82181818181818,
          38.06376811594201,
          6.713464052287582,
          38.72692307692307,
          33.89200483091787,
          4.614999999999999,
          140.47333333333333,
          71.74793103448275,
          29.681294117647056,
          11.832637499999997,
          38.4093359375,
          7760.040851063824
         ]
        },
        {
         "name": "Max",
         "type": "bar",
         "x": [
          "Access Communications Co-operative Limited (Regina  SK)",
          "Axia Connect Ltd (Calgary  AB)",
          "Bell Mobility (Winnipeg  MB)",
          "BlackSun Inc. (Saskatoon  SK)",
          "Commstream Communications (Winnipeg  MB)",
          "Cybera (Calgary  AB)",
          "DataHive (Calgary  AB)",
          "LES.NET (Winnipeg  MB)",
          "Midco (Minot  ND)",
          "Morenet (Morden  MB)",
          "NetSet Communications (Brandon  MB)",
          "RFNow Inc. (Virden  MB)",
          "Rogers (Winnipeg  MB)",
          "SaskTel (Regina  SK)",
          "Shaw Communications (Winnipeg  MB)",
          "Swift High Speed.com (Winnipeg  MB)",
          "TELUS Mobility (Calgary  AB)",
          "VOI Network Solutions (Winnipeg  MB)",
          "Valley Fiber (Winkler  MB)",
          "Voyageur Internet (Winnipeg  MB)",
          "Westman Communications (Brandon  MB)",
          "clearskystatus.info iperf"
         ],
         "y": [
          6.73,
          184.88,
          51.06,
          49.71,
          168.07,
          186.16,
          68.72,
          173.12,
          6.06,
          45.99,
          49.94,
          169.25,
          18.25,
          46.14,
          174.28,
          6.7,
          148.23,
          164.45,
          167.85,
          128.25,
          50.61,
          42086.4
         ]
        },
        {
         "name": "Median",
         "type": "bar",
         "x": [
          "Access Communications Co-operative Limited (Regina  SK)",
          "Axia Connect Ltd (Calgary  AB)",
          "Bell Mobility (Winnipeg  MB)",
          "BlackSun Inc. (Saskatoon  SK)",
          "Commstream Communications (Winnipeg  MB)",
          "Cybera (Calgary  AB)",
          "DataHive (Calgary  AB)",
          "LES.NET (Winnipeg  MB)",
          "Midco (Minot  ND)",
          "Morenet (Morden  MB)",
          "NetSet Communications (Brandon  MB)",
          "RFNow Inc. (Virden  MB)",
          "Rogers (Winnipeg  MB)",
          "SaskTel (Regina  SK)",
          "Shaw Communications (Winnipeg  MB)",
          "Swift High Speed.com (Winnipeg  MB)",
          "TELUS Mobility (Calgary  AB)",
          "VOI Network Solutions (Winnipeg  MB)",
          "Valley Fiber (Winkler  MB)",
          "Voyageur Internet (Winnipeg  MB)",
          "Westman Communications (Brandon  MB)",
          "clearskystatus.info iperf"
         ],
         "y": [
          6.73,
          180.27,
          36.01,
          37.07,
          10.72,
          182.26999999999998,
          68.11,
          12.265,
          6.04,
          6.07,
          43.865,
          40.56,
          6.47,
          41.66,
          6.27,
          4.435,
          145.29,
          34.34,
          6.08,
          9.49,
          39.959999999999994,
          5795.84
         ]
        }
       ],
       "layout": {
        "title": "Maximum, mean and median download speed per test server"
       }
      },
      "text/html": [
       "<div id=\"cbd82fd1-bf74-47b1-920a-5af5c1e4084f\" style=\"height: 525px; width: 100%;\" class=\"plotly-graph-div\"></div><script type=\"text/javascript\">require([\"plotly\"], function(Plotly) { window.PLOTLYENV=window.PLOTLYENV || {};window.PLOTLYENV.BASE_URL=\"https://plot.ly\";Plotly.newPlot(\"cbd82fd1-bf74-47b1-920a-5af5c1e4084f\", [{\"type\": \"bar\", \"x\": [\"Access Communications Co-operative Limited (Regina  SK)\", \"Axia Connect Ltd (Calgary  AB)\", \"Bell Mobility (Winnipeg  MB)\", \"BlackSun Inc. (Saskatoon  SK)\", \"Commstream Communications (Winnipeg  MB)\", \"Cybera (Calgary  AB)\", \"DataHive (Calgary  AB)\", \"LES.NET (Winnipeg  MB)\", \"Midco (Minot  ND)\", \"Morenet (Morden  MB)\", \"NetSet Communications (Brandon  MB)\", \"RFNow Inc. (Virden  MB)\", \"Rogers (Winnipeg  MB)\", \"SaskTel (Regina  SK)\", \"Shaw Communications (Winnipeg  MB)\", \"Swift High Speed.com (Winnipeg  MB)\", \"TELUS Mobility (Calgary  AB)\", \"VOI Network Solutions (Winnipeg  MB)\", \"Valley Fiber (Winkler  MB)\", \"Voyageur Internet (Winnipeg  MB)\", \"Westman Communications (Brandon  MB)\", \"clearskystatus.info iperf\"], \"y\": [6.73, 180.12316384180795, 36.4990909090909, 32.317727272727275, 16.018611898017003, 182.49657142857143, 60.813571428571436, 21.381954314720815, 6.039999999999999, 7.063157894736843, 39.82181818181818, 38.06376811594201, 6.713464052287582, 38.72692307692307, 33.89200483091787, 4.614999999999999, 140.47333333333333, 71.74793103448275, 29.681294117647056, 11.832637499999997, 38.4093359375, 7760.040851063824], \"name\": \"Mean\"}, {\"type\": \"bar\", \"x\": [\"Access Communications Co-operative Limited (Regina  SK)\", \"Axia Connect Ltd (Calgary  AB)\", \"Bell Mobility (Winnipeg  MB)\", \"BlackSun Inc. (Saskatoon  SK)\", \"Commstream Communications (Winnipeg  MB)\", \"Cybera (Calgary  AB)\", \"DataHive (Calgary  AB)\", \"LES.NET (Winnipeg  MB)\", \"Midco (Minot  ND)\", \"Morenet (Morden  MB)\", \"NetSet Communications (Brandon  MB)\", \"RFNow Inc. (Virden  MB)\", \"Rogers (Winnipeg  MB)\", \"SaskTel (Regina  SK)\", \"Shaw Communications (Winnipeg  MB)\", \"Swift High Speed.com (Winnipeg  MB)\", \"TELUS Mobility (Calgary  AB)\", \"VOI Network Solutions (Winnipeg  MB)\", \"Valley Fiber (Winkler  MB)\", \"Voyageur Internet (Winnipeg  MB)\", \"Westman Communications (Brandon  MB)\", \"clearskystatus.info iperf\"], \"y\": [6.73, 184.88, 51.06, 49.71, 168.07, 186.16, 68.72, 173.12, 6.06, 45.99, 49.94, 169.25, 18.25, 46.14, 174.28, 6.7, 148.23, 164.45, 167.85, 128.25, 50.61, 42086.4], \"name\": \"Max\"}, {\"type\": \"bar\", \"x\": [\"Access Communications Co-operative Limited (Regina  SK)\", \"Axia Connect Ltd (Calgary  AB)\", \"Bell Mobility (Winnipeg  MB)\", \"BlackSun Inc. (Saskatoon  SK)\", \"Commstream Communications (Winnipeg  MB)\", \"Cybera (Calgary  AB)\", \"DataHive (Calgary  AB)\", \"LES.NET (Winnipeg  MB)\", \"Midco (Minot  ND)\", \"Morenet (Morden  MB)\", \"NetSet Communications (Brandon  MB)\", \"RFNow Inc. (Virden  MB)\", \"Rogers (Winnipeg  MB)\", \"SaskTel (Regina  SK)\", \"Shaw Communications (Winnipeg  MB)\", \"Swift High Speed.com (Winnipeg  MB)\", \"TELUS Mobility (Calgary  AB)\", \"VOI Network Solutions (Winnipeg  MB)\", \"Valley Fiber (Winkler  MB)\", \"Voyageur Internet (Winnipeg  MB)\", \"Westman Communications (Brandon  MB)\", \"clearskystatus.info iperf\"], \"y\": [6.73, 180.27, 36.01, 37.07, 10.72, 182.26999999999998, 68.11, 12.265, 6.04, 6.07, 43.865, 40.56, 6.47, 41.66, 6.27, 4.435, 145.29, 34.34, 6.08, 9.49, 39.959999999999994, 5795.84], \"name\": \"Median\"}], {\"title\": \"Maximum, mean and median download speed per test server\"}, {\"showLink\": true, \"linkText\": \"Export to plot.ly\"})});</script>"
      ],
      "text/vnd.plotly.v1+html": [
       "<div id=\"cbd82fd1-bf74-47b1-920a-5af5c1e4084f\" style=\"height: 525px; width: 100%;\" class=\"plotly-graph-div\"></div><script type=\"text/javascript\">require([\"plotly\"], function(Plotly) { window.PLOTLYENV=window.PLOTLYENV || {};window.PLOTLYENV.BASE_URL=\"https://plot.ly\";Plotly.newPlot(\"cbd82fd1-bf74-47b1-920a-5af5c1e4084f\", [{\"type\": \"bar\", \"x\": [\"Access Communications Co-operative Limited (Regina  SK)\", \"Axia Connect Ltd (Calgary  AB)\", \"Bell Mobility (Winnipeg  MB)\", \"BlackSun Inc. (Saskatoon  SK)\", \"Commstream Communications (Winnipeg  MB)\", \"Cybera (Calgary  AB)\", \"DataHive (Calgary  AB)\", \"LES.NET (Winnipeg  MB)\", \"Midco (Minot  ND)\", \"Morenet (Morden  MB)\", \"NetSet Communications (Brandon  MB)\", \"RFNow Inc. (Virden  MB)\", \"Rogers (Winnipeg  MB)\", \"SaskTel (Regina  SK)\", \"Shaw Communications (Winnipeg  MB)\", \"Swift High Speed.com (Winnipeg  MB)\", \"TELUS Mobility (Calgary  AB)\", \"VOI Network Solutions (Winnipeg  MB)\", \"Valley Fiber (Winkler  MB)\", \"Voyageur Internet (Winnipeg  MB)\", \"Westman Communications (Brandon  MB)\", \"clearskystatus.info iperf\"], \"y\": [6.73, 180.12316384180795, 36.4990909090909, 32.317727272727275, 16.018611898017003, 182.49657142857143, 60.813571428571436, 21.381954314720815, 6.039999999999999, 7.063157894736843, 39.82181818181818, 38.06376811594201, 6.713464052287582, 38.72692307692307, 33.89200483091787, 4.614999999999999, 140.47333333333333, 71.74793103448275, 29.681294117647056, 11.832637499999997, 38.4093359375, 7760.040851063824], \"name\": \"Mean\"}, {\"type\": \"bar\", \"x\": [\"Access Communications Co-operative Limited (Regina  SK)\", \"Axia Connect Ltd (Calgary  AB)\", \"Bell Mobility (Winnipeg  MB)\", \"BlackSun Inc. (Saskatoon  SK)\", \"Commstream Communications (Winnipeg  MB)\", \"Cybera (Calgary  AB)\", \"DataHive (Calgary  AB)\", \"LES.NET (Winnipeg  MB)\", \"Midco (Minot  ND)\", \"Morenet (Morden  MB)\", \"NetSet Communications (Brandon  MB)\", \"RFNow Inc. (Virden  MB)\", \"Rogers (Winnipeg  MB)\", \"SaskTel (Regina  SK)\", \"Shaw Communications (Winnipeg  MB)\", \"Swift High Speed.com (Winnipeg  MB)\", \"TELUS Mobility (Calgary  AB)\", \"VOI Network Solutions (Winnipeg  MB)\", \"Valley Fiber (Winkler  MB)\", \"Voyageur Internet (Winnipeg  MB)\", \"Westman Communications (Brandon  MB)\", \"clearskystatus.info iperf\"], \"y\": [6.73, 184.88, 51.06, 49.71, 168.07, 186.16, 68.72, 173.12, 6.06, 45.99, 49.94, 169.25, 18.25, 46.14, 174.28, 6.7, 148.23, 164.45, 167.85, 128.25, 50.61, 42086.4], \"name\": \"Max\"}, {\"type\": \"bar\", \"x\": [\"Access Communications Co-operative Limited (Regina  SK)\", \"Axia Connect Ltd (Calgary  AB)\", \"Bell Mobility (Winnipeg  MB)\", \"BlackSun Inc. (Saskatoon  SK)\", \"Commstream Communications (Winnipeg  MB)\", \"Cybera (Calgary  AB)\", \"DataHive (Calgary  AB)\", \"LES.NET (Winnipeg  MB)\", \"Midco (Minot  ND)\", \"Morenet (Morden  MB)\", \"NetSet Communications (Brandon  MB)\", \"RFNow Inc. (Virden  MB)\", \"Rogers (Winnipeg  MB)\", \"SaskTel (Regina  SK)\", \"Shaw Communications (Winnipeg  MB)\", \"Swift High Speed.com (Winnipeg  MB)\", \"TELUS Mobility (Calgary  AB)\", \"VOI Network Solutions (Winnipeg  MB)\", \"Valley Fiber (Winkler  MB)\", \"Voyageur Internet (Winnipeg  MB)\", \"Westman Communications (Brandon  MB)\", \"clearskystatus.info iperf\"], \"y\": [6.73, 180.27, 36.01, 37.07, 10.72, 182.26999999999998, 68.11, 12.265, 6.04, 6.07, 43.865, 40.56, 6.47, 41.66, 6.27, 4.435, 145.29, 34.34, 6.08, 9.49, 39.959999999999994, 5795.84], \"name\": \"Median\"}], {\"title\": \"Maximum, mean and median download speed per test server\"}, {\"showLink\": true, \"linkText\": \"Export to plot.ly\"})});</script>"
      ]
     },
     "metadata": {},
     "output_type": "display_data"
    }
   ],
   "source": [
    "download_df[\"server\"] = download_df[\"TEST_SERVER\"] + \" \" +download_df[\"PROVINCE\"]\n",
    "barplot_averages(download_df,'DOWNLOAD',\"Maximum, mean and median download speed per test server\", index_col='server')"
   ]
  },
  {
   "cell_type": "code",
   "execution_count": 34,
   "metadata": {},
   "outputs": [
    {
     "data": {
      "application/vnd.plotly.v1+json": {
       "data": [
        {
         "name": "Mean",
         "type": "bar",
         "x": [
          "Bell MTS",
          "Cogent Communications",
          "Commstream Communications",
          "Cybera",
          "High Speed Crow",
          "Keewaytinook Okimakanak",
          "MERLIN",
          "Manitoba Hydro International",
          "TeraGo Networks",
          "Xplornet Communications",
          "iperf"
         ],
         "y": [
          8.12968010236725,
          27.790585774058602,
          93.9423076923077,
          168.27611510791374,
          15.67943775100402,
          22.893361823361833,
          117.365,
          127.0030188679245,
          4.113035714285713,
          41.13931451612903,
          7760.040851063824
         ]
        },
        {
         "name": "Max",
         "type": "bar",
         "x": [
          "Bell MTS",
          "Cogent Communications",
          "Commstream Communications",
          "Cybera",
          "High Speed Crow",
          "Keewaytinook Okimakanak",
          "MERLIN",
          "Manitoba Hydro International",
          "TeraGo Networks",
          "Xplornet Communications",
          "iperf"
         ],
         "y": [
          27.66,
          51.06,
          128.39,
          186.16,
          19.17,
          168.07,
          128.73,
          174.28,
          7.32,
          50.61,
          42086.4
         ]
        },
        {
         "name": "Median",
         "type": "bar",
         "x": [
          "Bell MTS",
          "Cogent Communications",
          "Commstream Communications",
          "Cybera",
          "High Speed Crow",
          "Keewaytinook Okimakanak",
          "MERLIN",
          "Manitoba Hydro International",
          "TeraGo Networks",
          "Xplornet Communications",
          "iperf"
         ],
         "y": [
          6.42,
          26.25,
          91.51,
          180.39,
          16.47,
          9.52,
          125.705,
          158.98,
          4.175000000000001,
          43.555,
          5795.84
         ]
        }
       ],
       "layout": {
        "title": "Maximum, mean and median download speed per provider"
       }
      },
      "text/html": [
       "<div id=\"4ad828f7-25db-4c5b-9cc0-23599a9344bb\" style=\"height: 525px; width: 100%;\" class=\"plotly-graph-div\"></div><script type=\"text/javascript\">require([\"plotly\"], function(Plotly) { window.PLOTLYENV=window.PLOTLYENV || {};window.PLOTLYENV.BASE_URL=\"https://plot.ly\";Plotly.newPlot(\"4ad828f7-25db-4c5b-9cc0-23599a9344bb\", [{\"type\": \"bar\", \"x\": [\"Bell MTS\", \"Cogent Communications\", \"Commstream Communications\", \"Cybera\", \"High Speed Crow\", \"Keewaytinook Okimakanak\", \"MERLIN\", \"Manitoba Hydro International\", \"TeraGo Networks\", \"Xplornet Communications\", \"iperf\"], \"y\": [8.12968010236725, 27.790585774058602, 93.9423076923077, 168.27611510791374, 15.67943775100402, 22.893361823361833, 117.365, 127.0030188679245, 4.113035714285713, 41.13931451612903, 7760.040851063824], \"name\": \"Mean\"}, {\"type\": \"bar\", \"x\": [\"Bell MTS\", \"Cogent Communications\", \"Commstream Communications\", \"Cybera\", \"High Speed Crow\", \"Keewaytinook Okimakanak\", \"MERLIN\", \"Manitoba Hydro International\", \"TeraGo Networks\", \"Xplornet Communications\", \"iperf\"], \"y\": [27.66, 51.06, 128.39, 186.16, 19.17, 168.07, 128.73, 174.28, 7.32, 50.61, 42086.4], \"name\": \"Max\"}, {\"type\": \"bar\", \"x\": [\"Bell MTS\", \"Cogent Communications\", \"Commstream Communications\", \"Cybera\", \"High Speed Crow\", \"Keewaytinook Okimakanak\", \"MERLIN\", \"Manitoba Hydro International\", \"TeraGo Networks\", \"Xplornet Communications\", \"iperf\"], \"y\": [6.42, 26.25, 91.51, 180.39, 16.47, 9.52, 125.705, 158.98, 4.175000000000001, 43.555, 5795.84], \"name\": \"Median\"}], {\"title\": \"Maximum, mean and median download speed per provider\"}, {\"showLink\": true, \"linkText\": \"Export to plot.ly\"})});</script>"
      ],
      "text/vnd.plotly.v1+html": [
       "<div id=\"4ad828f7-25db-4c5b-9cc0-23599a9344bb\" style=\"height: 525px; width: 100%;\" class=\"plotly-graph-div\"></div><script type=\"text/javascript\">require([\"plotly\"], function(Plotly) { window.PLOTLYENV=window.PLOTLYENV || {};window.PLOTLYENV.BASE_URL=\"https://plot.ly\";Plotly.newPlot(\"4ad828f7-25db-4c5b-9cc0-23599a9344bb\", [{\"type\": \"bar\", \"x\": [\"Bell MTS\", \"Cogent Communications\", \"Commstream Communications\", \"Cybera\", \"High Speed Crow\", \"Keewaytinook Okimakanak\", \"MERLIN\", \"Manitoba Hydro International\", \"TeraGo Networks\", \"Xplornet Communications\", \"iperf\"], \"y\": [8.12968010236725, 27.790585774058602, 93.9423076923077, 168.27611510791374, 15.67943775100402, 22.893361823361833, 117.365, 127.0030188679245, 4.113035714285713, 41.13931451612903, 7760.040851063824], \"name\": \"Mean\"}, {\"type\": \"bar\", \"x\": [\"Bell MTS\", \"Cogent Communications\", \"Commstream Communications\", \"Cybera\", \"High Speed Crow\", \"Keewaytinook Okimakanak\", \"MERLIN\", \"Manitoba Hydro International\", \"TeraGo Networks\", \"Xplornet Communications\", \"iperf\"], \"y\": [27.66, 51.06, 128.39, 186.16, 19.17, 168.07, 128.73, 174.28, 7.32, 50.61, 42086.4], \"name\": \"Max\"}, {\"type\": \"bar\", \"x\": [\"Bell MTS\", \"Cogent Communications\", \"Commstream Communications\", \"Cybera\", \"High Speed Crow\", \"Keewaytinook Okimakanak\", \"MERLIN\", \"Manitoba Hydro International\", \"TeraGo Networks\", \"Xplornet Communications\", \"iperf\"], \"y\": [6.42, 26.25, 91.51, 180.39, 16.47, 9.52, 125.705, 158.98, 4.175000000000001, 43.555, 5795.84], \"name\": \"Median\"}], {\"title\": \"Maximum, mean and median download speed per provider\"}, {\"showLink\": true, \"linkText\": \"Export to plot.ly\"})});</script>"
      ]
     },
     "metadata": {},
     "output_type": "display_data"
    }
   ],
   "source": [
    "barplot_averages(download_df,'DOWNLOAD',\"Maximum, mean and median download speed per provider\", index_col='PROVIDER')"
   ]
  },
  {
   "cell_type": "markdown",
   "metadata": {},
   "source": [
    "### Median, average, maximum ping latency"
   ]
  },
  {
   "cell_type": "code",
   "execution_count": 35,
   "metadata": {
    "collapsed": true
   },
   "outputs": [],
   "source": [
    "query_ping = 'SELECT * FROM SPEEDTEST_PING;'\n",
    "result_ping= client.query(query_ping)\n",
    "ping_df = result_ping['SPEEDTEST_PING']\n",
    "\n",
    "ping_df.reset_index(level=0, inplace=True)\n",
    "ping_df['index']=ping_df['index'].dt.strftime('%Y-%m-%d %H:%M:%S')\n",
    "ping_df['index'] = pd.to_datetime(ping_df['index'])\n",
    "ping_df['SK_PI']=pd.to_numeric(ping_df['SK_PI'])\n",
    "\n",
    "ping_df.rename(columns={'index':'time'}, inplace=True)\n",
    "ping_df = ping_df[ping_df.PING != 1800000.000] ## Removed outier that was found in the ms sql table"
   ]
  },
  {
   "cell_type": "code",
   "execution_count": 36,
   "metadata": {},
   "outputs": [
    {
     "data": {
      "application/vnd.plotly.v1+json": {
       "data": [
        {
         "name": "Mean",
         "type": "bar",
         "x": [
          1,
          2,
          3,
          4,
          5,
          6,
          7,
          8,
          9,
          10,
          11,
          12,
          14,
          15,
          16,
          17,
          18
         ],
         "y": [
          75.8511,
          86.71691666666666,
          16.861317725752496,
          68.68412456747407,
          98.33885945945948,
          72.2733125,
          84.83041095890414,
          27.708173913043478,
          59.479335937500046,
          112.05979761904759,
          72.47095041322316,
          46.10386956521743,
          40.20700462962964,
          76.5313148148148,
          123.27184615384618,
          69.2146646341463,
          47.416592307692305
         ]
        },
        {
         "name": "Max",
         "type": "bar",
         "x": [
          1,
          2,
          3,
          4,
          5,
          6,
          7,
          8,
          9,
          10,
          11,
          12,
          14,
          15,
          16,
          17,
          18
         ],
         "y": [
          91.057,
          384.464,
          50.677,
          196.284,
          1125.501,
          153.61,
          511.859,
          90.184,
          130.437,
          679.029,
          90.874,
          76.434,
          520.789,
          96.08,
          1258.02,
          93.918,
          55.826
         ]
        },
        {
         "name": "Median",
         "type": "bar",
         "x": [
          1,
          2,
          3,
          4,
          5,
          6,
          7,
          8,
          9,
          10,
          11,
          12,
          14,
          15,
          16,
          17,
          18
         ],
         "y": [
          74.848,
          80.23150000000001,
          16.217,
          67.523,
          84.249,
          63.944,
          81.793,
          16.946,
          50.4795,
          103.26599999999999,
          72.5685,
          49.536,
          37.7225,
          76.864,
          98.406,
          68.5685,
          46.784499999999994
         ]
        }
       ],
       "layout": {
        "title": "Maximum, mean and median ping latency per device"
       }
      },
      "text/html": [
       "<div id=\"753c19ac-7580-4485-ab62-97fe3ede7adf\" style=\"height: 525px; width: 100%;\" class=\"plotly-graph-div\"></div><script type=\"text/javascript\">require([\"plotly\"], function(Plotly) { window.PLOTLYENV=window.PLOTLYENV || {};window.PLOTLYENV.BASE_URL=\"https://plot.ly\";Plotly.newPlot(\"753c19ac-7580-4485-ab62-97fe3ede7adf\", [{\"type\": \"bar\", \"x\": [1, 2, 3, 4, 5, 6, 7, 8, 9, 10, 11, 12, 14, 15, 16, 17, 18], \"y\": [75.8511, 86.71691666666666, 16.861317725752496, 68.68412456747407, 98.33885945945948, 72.2733125, 84.83041095890414, 27.708173913043478, 59.479335937500046, 112.05979761904759, 72.47095041322316, 46.10386956521743, 40.20700462962964, 76.5313148148148, 123.27184615384618, 69.2146646341463, 47.416592307692305], \"name\": \"Mean\"}, {\"type\": \"bar\", \"x\": [1, 2, 3, 4, 5, 6, 7, 8, 9, 10, 11, 12, 14, 15, 16, 17, 18], \"y\": [91.057, 384.464, 50.677, 196.284, 1125.501, 153.61, 511.859, 90.184, 130.437, 679.029, 90.874, 76.434, 520.789, 96.08, 1258.02, 93.918, 55.826], \"name\": \"Max\"}, {\"type\": \"bar\", \"x\": [1, 2, 3, 4, 5, 6, 7, 8, 9, 10, 11, 12, 14, 15, 16, 17, 18], \"y\": [74.848, 80.23150000000001, 16.217, 67.523, 84.249, 63.944, 81.793, 16.946, 50.4795, 103.26599999999999, 72.5685, 49.536, 37.7225, 76.864, 98.406, 68.5685, 46.784499999999994], \"name\": \"Median\"}], {\"title\": \"Maximum, mean and median ping latency per device\"}, {\"showLink\": true, \"linkText\": \"Export to plot.ly\"})});</script>"
      ],
      "text/vnd.plotly.v1+html": [
       "<div id=\"753c19ac-7580-4485-ab62-97fe3ede7adf\" style=\"height: 525px; width: 100%;\" class=\"plotly-graph-div\"></div><script type=\"text/javascript\">require([\"plotly\"], function(Plotly) { window.PLOTLYENV=window.PLOTLYENV || {};window.PLOTLYENV.BASE_URL=\"https://plot.ly\";Plotly.newPlot(\"753c19ac-7580-4485-ab62-97fe3ede7adf\", [{\"type\": \"bar\", \"x\": [1, 2, 3, 4, 5, 6, 7, 8, 9, 10, 11, 12, 14, 15, 16, 17, 18], \"y\": [75.8511, 86.71691666666666, 16.861317725752496, 68.68412456747407, 98.33885945945948, 72.2733125, 84.83041095890414, 27.708173913043478, 59.479335937500046, 112.05979761904759, 72.47095041322316, 46.10386956521743, 40.20700462962964, 76.5313148148148, 123.27184615384618, 69.2146646341463, 47.416592307692305], \"name\": \"Mean\"}, {\"type\": \"bar\", \"x\": [1, 2, 3, 4, 5, 6, 7, 8, 9, 10, 11, 12, 14, 15, 16, 17, 18], \"y\": [91.057, 384.464, 50.677, 196.284, 1125.501, 153.61, 511.859, 90.184, 130.437, 679.029, 90.874, 76.434, 520.789, 96.08, 1258.02, 93.918, 55.826], \"name\": \"Max\"}, {\"type\": \"bar\", \"x\": [1, 2, 3, 4, 5, 6, 7, 8, 9, 10, 11, 12, 14, 15, 16, 17, 18], \"y\": [74.848, 80.23150000000001, 16.217, 67.523, 84.249, 63.944, 81.793, 16.946, 50.4795, 103.26599999999999, 72.5685, 49.536, 37.7225, 76.864, 98.406, 68.5685, 46.784499999999994], \"name\": \"Median\"}], {\"title\": \"Maximum, mean and median ping latency per device\"}, {\"showLink\": true, \"linkText\": \"Export to plot.ly\"})});</script>"
      ]
     },
     "metadata": {},
     "output_type": "display_data"
    }
   ],
   "source": [
    "barplot_averages(ping_df,'PING',\"Maximum, mean and median ping latency per device\")"
   ]
  },
  {
   "cell_type": "markdown",
   "metadata": {},
   "source": [
    "Devices #5 and #16 have largest maximum. Device #10 has large median, average as well."
   ]
  },
  {
   "cell_type": "code",
   "execution_count": 37,
   "metadata": {},
   "outputs": [
    {
     "data": {
      "application/vnd.plotly.v1+json": {
       "data": [
        {
         "name": "Mean",
         "type": "bar",
         "x": [
          "Access Communications Co-operative Limited (Regina  SK)",
          "Axia Connect Ltd (Calgary  AB)",
          "Bell Mobility (Winnipeg  MB)",
          "BlackSun Inc. (Saskatoon  SK)",
          "Commstream Communications (Winnipeg  MB)",
          "Cybera (Calgary  AB)",
          "DataHive (Calgary  AB)",
          "LES.NET (Winnipeg  MB)",
          "Midco (Minot  ND)",
          "Morenet (Morden  MB)",
          "NetSet Communications (Brandon  MB)",
          "RFNow Inc. (Virden  MB)",
          "Rogers (Winnipeg  MB)",
          "SaskTel (Regina  SK)",
          "Shaw Communications (Winnipeg  MB)",
          "Swift High Speed.com (Winnipeg  MB)",
          "TELUS Mobility (Calgary  AB)",
          "VOI Network Solutions (Winnipeg  MB)",
          "Valley Fiber (Winkler  MB)",
          "Voyageur Internet (Winnipeg  MB)",
          "Westman Communications (Brandon  MB)",
          "clearskystatus.info iperf"
         ],
         "y": [
          98.623,
          16.62242372881356,
          69.2050303030303,
          95.42800000000001,
          68.20698016997167,
          6.4343,
          17.805428571428575,
          77.71981218274117,
          111.004,
          105.20769473684209,
          56.85029545454545,
          84.76114492753625,
          91.47680718954246,
          87.79738461538462,
          73.09001204819279,
          445.96500000000003,
          39.81333333333333,
          81.86393103448276,
          104.97970588235297,
          76.07142125000004,
          70.00027734375003,
          71.80574468085108
         ]
        },
        {
         "name": "Max",
         "type": "bar",
         "x": [
          "Access Communications Co-operative Limited (Regina  SK)",
          "Axia Connect Ltd (Calgary  AB)",
          "Bell Mobility (Winnipeg  MB)",
          "BlackSun Inc. (Saskatoon  SK)",
          "Commstream Communications (Winnipeg  MB)",
          "Cybera (Calgary  AB)",
          "DataHive (Calgary  AB)",
          "LES.NET (Winnipeg  MB)",
          "Midco (Minot  ND)",
          "Morenet (Morden  MB)",
          "NetSet Communications (Brandon  MB)",
          "RFNow Inc. (Virden  MB)",
          "Rogers (Winnipeg  MB)",
          "SaskTel (Regina  SK)",
          "Shaw Communications (Winnipeg  MB)",
          "Swift High Speed.com (Winnipeg  MB)",
          "TELUS Mobility (Calgary  AB)",
          "VOI Network Solutions (Winnipeg  MB)",
          "Valley Fiber (Winkler  MB)",
          "Voyageur Internet (Winnipeg  MB)",
          "Westman Communications (Brandon  MB)",
          "clearskystatus.info iperf"
         ],
         "y": [
          98.623,
          44.07,
          75.848,
          130.437,
          511.859,
          8.929,
          33.232,
          679.029,
          116.987,
          320.886,
          298.15,
          291.275,
          266.557,
          94.775,
          817.343,
          1125.501,
          40.113,
          520.789,
          816.299,
          257.849,
          1258.02,
          669.219
         ]
        },
        {
         "name": "Median",
         "type": "bar",
         "x": [
          "Access Communications Co-operative Limited (Regina  SK)",
          "Axia Connect Ltd (Calgary  AB)",
          "Bell Mobility (Winnipeg  MB)",
          "BlackSun Inc. (Saskatoon  SK)",
          "Commstream Communications (Winnipeg  MB)",
          "Cybera (Calgary  AB)",
          "DataHive (Calgary  AB)",
          "LES.NET (Winnipeg  MB)",
          "Midco (Minot  ND)",
          "Morenet (Morden  MB)",
          "NetSet Communications (Brandon  MB)",
          "RFNow Inc. (Virden  MB)",
          "Rogers (Winnipeg  MB)",
          "SaskTel (Regina  SK)",
          "Shaw Communications (Winnipeg  MB)",
          "Swift High Speed.com (Winnipeg  MB)",
          "TELUS Mobility (Calgary  AB)",
          "VOI Network Solutions (Winnipeg  MB)",
          "Valley Fiber (Winkler  MB)",
          "Voyageur Internet (Winnipeg  MB)",
          "Westman Communications (Brandon  MB)",
          "clearskystatus.info iperf"
         ],
         "y": [
          98.623,
          16.41,
          68.8885,
          91.8375,
          60.018,
          6.365,
          10.3985,
          77.8215,
          112.076,
          99.044,
          49.35,
          90.57,
          84.18549999999999,
          88.871,
          70.2,
          285.0545,
          39.89,
          46.19,
          96.384,
          77.5635,
          68.119,
          64.82249999999999
         ]
        }
       ],
       "layout": {
        "title": "Maximum, mean and median ping latency per test server"
       }
      },
      "text/html": [
       "<div id=\"d72b077c-4c22-4f9a-b327-68dcb530c111\" style=\"height: 525px; width: 100%;\" class=\"plotly-graph-div\"></div><script type=\"text/javascript\">require([\"plotly\"], function(Plotly) { window.PLOTLYENV=window.PLOTLYENV || {};window.PLOTLYENV.BASE_URL=\"https://plot.ly\";Plotly.newPlot(\"d72b077c-4c22-4f9a-b327-68dcb530c111\", [{\"type\": \"bar\", \"x\": [\"Access Communications Co-operative Limited (Regina  SK)\", \"Axia Connect Ltd (Calgary  AB)\", \"Bell Mobility (Winnipeg  MB)\", \"BlackSun Inc. (Saskatoon  SK)\", \"Commstream Communications (Winnipeg  MB)\", \"Cybera (Calgary  AB)\", \"DataHive (Calgary  AB)\", \"LES.NET (Winnipeg  MB)\", \"Midco (Minot  ND)\", \"Morenet (Morden  MB)\", \"NetSet Communications (Brandon  MB)\", \"RFNow Inc. (Virden  MB)\", \"Rogers (Winnipeg  MB)\", \"SaskTel (Regina  SK)\", \"Shaw Communications (Winnipeg  MB)\", \"Swift High Speed.com (Winnipeg  MB)\", \"TELUS Mobility (Calgary  AB)\", \"VOI Network Solutions (Winnipeg  MB)\", \"Valley Fiber (Winkler  MB)\", \"Voyageur Internet (Winnipeg  MB)\", \"Westman Communications (Brandon  MB)\", \"clearskystatus.info iperf\"], \"y\": [98.623, 16.62242372881356, 69.2050303030303, 95.42800000000001, 68.20698016997167, 6.4343, 17.805428571428575, 77.71981218274117, 111.004, 105.20769473684209, 56.85029545454545, 84.76114492753625, 91.47680718954246, 87.79738461538462, 73.09001204819279, 445.96500000000003, 39.81333333333333, 81.86393103448276, 104.97970588235297, 76.07142125000004, 70.00027734375003, 71.80574468085108], \"name\": \"Mean\"}, {\"type\": \"bar\", \"x\": [\"Access Communications Co-operative Limited (Regina  SK)\", \"Axia Connect Ltd (Calgary  AB)\", \"Bell Mobility (Winnipeg  MB)\", \"BlackSun Inc. (Saskatoon  SK)\", \"Commstream Communications (Winnipeg  MB)\", \"Cybera (Calgary  AB)\", \"DataHive (Calgary  AB)\", \"LES.NET (Winnipeg  MB)\", \"Midco (Minot  ND)\", \"Morenet (Morden  MB)\", \"NetSet Communications (Brandon  MB)\", \"RFNow Inc. (Virden  MB)\", \"Rogers (Winnipeg  MB)\", \"SaskTel (Regina  SK)\", \"Shaw Communications (Winnipeg  MB)\", \"Swift High Speed.com (Winnipeg  MB)\", \"TELUS Mobility (Calgary  AB)\", \"VOI Network Solutions (Winnipeg  MB)\", \"Valley Fiber (Winkler  MB)\", \"Voyageur Internet (Winnipeg  MB)\", \"Westman Communications (Brandon  MB)\", \"clearskystatus.info iperf\"], \"y\": [98.623, 44.07, 75.848, 130.437, 511.859, 8.929, 33.232, 679.029, 116.987, 320.886, 298.15, 291.275, 266.557, 94.775, 817.343, 1125.501, 40.113, 520.789, 816.299, 257.849, 1258.02, 669.219], \"name\": \"Max\"}, {\"type\": \"bar\", \"x\": [\"Access Communications Co-operative Limited (Regina  SK)\", \"Axia Connect Ltd (Calgary  AB)\", \"Bell Mobility (Winnipeg  MB)\", \"BlackSun Inc. (Saskatoon  SK)\", \"Commstream Communications (Winnipeg  MB)\", \"Cybera (Calgary  AB)\", \"DataHive (Calgary  AB)\", \"LES.NET (Winnipeg  MB)\", \"Midco (Minot  ND)\", \"Morenet (Morden  MB)\", \"NetSet Communications (Brandon  MB)\", \"RFNow Inc. (Virden  MB)\", \"Rogers (Winnipeg  MB)\", \"SaskTel (Regina  SK)\", \"Shaw Communications (Winnipeg  MB)\", \"Swift High Speed.com (Winnipeg  MB)\", \"TELUS Mobility (Calgary  AB)\", \"VOI Network Solutions (Winnipeg  MB)\", \"Valley Fiber (Winkler  MB)\", \"Voyageur Internet (Winnipeg  MB)\", \"Westman Communications (Brandon  MB)\", \"clearskystatus.info iperf\"], \"y\": [98.623, 16.41, 68.8885, 91.8375, 60.018, 6.365, 10.3985, 77.8215, 112.076, 99.044, 49.35, 90.57, 84.18549999999999, 88.871, 70.2, 285.0545, 39.89, 46.19, 96.384, 77.5635, 68.119, 64.82249999999999], \"name\": \"Median\"}], {\"title\": \"Maximum, mean and median ping latency per test server\"}, {\"showLink\": true, \"linkText\": \"Export to plot.ly\"})});</script>"
      ],
      "text/vnd.plotly.v1+html": [
       "<div id=\"d72b077c-4c22-4f9a-b327-68dcb530c111\" style=\"height: 525px; width: 100%;\" class=\"plotly-graph-div\"></div><script type=\"text/javascript\">require([\"plotly\"], function(Plotly) { window.PLOTLYENV=window.PLOTLYENV || {};window.PLOTLYENV.BASE_URL=\"https://plot.ly\";Plotly.newPlot(\"d72b077c-4c22-4f9a-b327-68dcb530c111\", [{\"type\": \"bar\", \"x\": [\"Access Communications Co-operative Limited (Regina  SK)\", \"Axia Connect Ltd (Calgary  AB)\", \"Bell Mobility (Winnipeg  MB)\", \"BlackSun Inc. (Saskatoon  SK)\", \"Commstream Communications (Winnipeg  MB)\", \"Cybera (Calgary  AB)\", \"DataHive (Calgary  AB)\", \"LES.NET (Winnipeg  MB)\", \"Midco (Minot  ND)\", \"Morenet (Morden  MB)\", \"NetSet Communications (Brandon  MB)\", \"RFNow Inc. (Virden  MB)\", \"Rogers (Winnipeg  MB)\", \"SaskTel (Regina  SK)\", \"Shaw Communications (Winnipeg  MB)\", \"Swift High Speed.com (Winnipeg  MB)\", \"TELUS Mobility (Calgary  AB)\", \"VOI Network Solutions (Winnipeg  MB)\", \"Valley Fiber (Winkler  MB)\", \"Voyageur Internet (Winnipeg  MB)\", \"Westman Communications (Brandon  MB)\", \"clearskystatus.info iperf\"], \"y\": [98.623, 16.62242372881356, 69.2050303030303, 95.42800000000001, 68.20698016997167, 6.4343, 17.805428571428575, 77.71981218274117, 111.004, 105.20769473684209, 56.85029545454545, 84.76114492753625, 91.47680718954246, 87.79738461538462, 73.09001204819279, 445.96500000000003, 39.81333333333333, 81.86393103448276, 104.97970588235297, 76.07142125000004, 70.00027734375003, 71.80574468085108], \"name\": \"Mean\"}, {\"type\": \"bar\", \"x\": [\"Access Communications Co-operative Limited (Regina  SK)\", \"Axia Connect Ltd (Calgary  AB)\", \"Bell Mobility (Winnipeg  MB)\", \"BlackSun Inc. (Saskatoon  SK)\", \"Commstream Communications (Winnipeg  MB)\", \"Cybera (Calgary  AB)\", \"DataHive (Calgary  AB)\", \"LES.NET (Winnipeg  MB)\", \"Midco (Minot  ND)\", \"Morenet (Morden  MB)\", \"NetSet Communications (Brandon  MB)\", \"RFNow Inc. (Virden  MB)\", \"Rogers (Winnipeg  MB)\", \"SaskTel (Regina  SK)\", \"Shaw Communications (Winnipeg  MB)\", \"Swift High Speed.com (Winnipeg  MB)\", \"TELUS Mobility (Calgary  AB)\", \"VOI Network Solutions (Winnipeg  MB)\", \"Valley Fiber (Winkler  MB)\", \"Voyageur Internet (Winnipeg  MB)\", \"Westman Communications (Brandon  MB)\", \"clearskystatus.info iperf\"], \"y\": [98.623, 44.07, 75.848, 130.437, 511.859, 8.929, 33.232, 679.029, 116.987, 320.886, 298.15, 291.275, 266.557, 94.775, 817.343, 1125.501, 40.113, 520.789, 816.299, 257.849, 1258.02, 669.219], \"name\": \"Max\"}, {\"type\": \"bar\", \"x\": [\"Access Communications Co-operative Limited (Regina  SK)\", \"Axia Connect Ltd (Calgary  AB)\", \"Bell Mobility (Winnipeg  MB)\", \"BlackSun Inc. (Saskatoon  SK)\", \"Commstream Communications (Winnipeg  MB)\", \"Cybera (Calgary  AB)\", \"DataHive (Calgary  AB)\", \"LES.NET (Winnipeg  MB)\", \"Midco (Minot  ND)\", \"Morenet (Morden  MB)\", \"NetSet Communications (Brandon  MB)\", \"RFNow Inc. (Virden  MB)\", \"Rogers (Winnipeg  MB)\", \"SaskTel (Regina  SK)\", \"Shaw Communications (Winnipeg  MB)\", \"Swift High Speed.com (Winnipeg  MB)\", \"TELUS Mobility (Calgary  AB)\", \"VOI Network Solutions (Winnipeg  MB)\", \"Valley Fiber (Winkler  MB)\", \"Voyageur Internet (Winnipeg  MB)\", \"Westman Communications (Brandon  MB)\", \"clearskystatus.info iperf\"], \"y\": [98.623, 16.41, 68.8885, 91.8375, 60.018, 6.365, 10.3985, 77.8215, 112.076, 99.044, 49.35, 90.57, 84.18549999999999, 88.871, 70.2, 285.0545, 39.89, 46.19, 96.384, 77.5635, 68.119, 64.82249999999999], \"name\": \"Median\"}], {\"title\": \"Maximum, mean and median ping latency per test server\"}, {\"showLink\": true, \"linkText\": \"Export to plot.ly\"})});</script>"
      ]
     },
     "metadata": {},
     "output_type": "display_data"
    }
   ],
   "source": [
    "ping_df[\"server\"] = ping_df[\"TEST_SERVER\"] + \" \" +ping_df[\"PROVINCE\"]\n",
    "barplot_averages(ping_df,'PING',\"Maximum, mean and median ping latency per test server\", index_col='server')"
   ]
  },
  {
   "cell_type": "markdown",
   "metadata": {},
   "source": [
    "In this case test server 'Swift Highspeed.com' has largest median, average ping latency."
   ]
  },
  {
   "cell_type": "code",
   "execution_count": 38,
   "metadata": {},
   "outputs": [
    {
     "data": {
      "application/vnd.plotly.v1+json": {
       "data": [
        {
         "name": "Mean",
         "type": "bar",
         "x": [
          "Bell MTS",
          "Cogent Communications",
          "Commstream Communications",
          "Cybera",
          "High Speed Crow",
          "Keewaytinook Okimakanak",
          "MERLIN",
          "Manitoba Hydro International",
          "TeraGo Networks",
          "Xplornet Communications",
          "iperf"
         ],
         "y": [
          92.459938618926,
          72.64277824267785,
          18.950076923076924,
          14.426482014388489,
          46.456518072289185,
          58.08707692307695,
          35.77525,
          36.550383647798746,
          112.05979761904759,
          59.967883064516165,
          71.80574468085108
         ]
        },
        {
         "name": "Max",
         "type": "bar",
         "x": [
          "Bell MTS",
          "Cogent Communications",
          "Commstream Communications",
          "Cybera",
          "High Speed Crow",
          "Keewaytinook Okimakanak",
          "MERLIN",
          "Manitoba Hydro International",
          "TeraGo Networks",
          "Xplornet Communications",
          "iperf"
         ],
         "y": [
          1258.02,
          90.874,
          54.83,
          44.07,
          76.434,
          520.789,
          90.184,
          59.573,
          679.029,
          130.437,
          669.219
         ]
        },
        {
         "name": "Median",
         "type": "bar",
         "x": [
          "Bell MTS",
          "Cogent Communications",
          "Commstream Communications",
          "Cybera",
          "High Speed Crow",
          "Keewaytinook Okimakanak",
          "MERLIN",
          "Manitoba Hydro International",
          "TeraGo Networks",
          "Xplornet Communications",
          "iperf"
         ],
         "y": [
          82.5485,
          72.617,
          16.458,
          14.7395,
          49.93,
          52.768,
          18.0565,
          36.943,
          103.26599999999999,
          50.9295,
          64.82249999999999
         ]
        }
       ],
       "layout": {
        "title": "Maximum, mean and median ping latency per provider"
       }
      },
      "text/html": [
       "<div id=\"52cf734a-3cb0-49ab-b7a4-63f5d214a881\" style=\"height: 525px; width: 100%;\" class=\"plotly-graph-div\"></div><script type=\"text/javascript\">require([\"plotly\"], function(Plotly) { window.PLOTLYENV=window.PLOTLYENV || {};window.PLOTLYENV.BASE_URL=\"https://plot.ly\";Plotly.newPlot(\"52cf734a-3cb0-49ab-b7a4-63f5d214a881\", [{\"type\": \"bar\", \"x\": [\"Bell MTS\", \"Cogent Communications\", \"Commstream Communications\", \"Cybera\", \"High Speed Crow\", \"Keewaytinook Okimakanak\", \"MERLIN\", \"Manitoba Hydro International\", \"TeraGo Networks\", \"Xplornet Communications\", \"iperf\"], \"y\": [92.459938618926, 72.64277824267785, 18.950076923076924, 14.426482014388489, 46.456518072289185, 58.08707692307695, 35.77525, 36.550383647798746, 112.05979761904759, 59.967883064516165, 71.80574468085108], \"name\": \"Mean\"}, {\"type\": \"bar\", \"x\": [\"Bell MTS\", \"Cogent Communications\", \"Commstream Communications\", \"Cybera\", \"High Speed Crow\", \"Keewaytinook Okimakanak\", \"MERLIN\", \"Manitoba Hydro International\", \"TeraGo Networks\", \"Xplornet Communications\", \"iperf\"], \"y\": [1258.02, 90.874, 54.83, 44.07, 76.434, 520.789, 90.184, 59.573, 679.029, 130.437, 669.219], \"name\": \"Max\"}, {\"type\": \"bar\", \"x\": [\"Bell MTS\", \"Cogent Communications\", \"Commstream Communications\", \"Cybera\", \"High Speed Crow\", \"Keewaytinook Okimakanak\", \"MERLIN\", \"Manitoba Hydro International\", \"TeraGo Networks\", \"Xplornet Communications\", \"iperf\"], \"y\": [82.5485, 72.617, 16.458, 14.7395, 49.93, 52.768, 18.0565, 36.943, 103.26599999999999, 50.9295, 64.82249999999999], \"name\": \"Median\"}], {\"title\": \"Maximum, mean and median ping latency per provider\"}, {\"showLink\": true, \"linkText\": \"Export to plot.ly\"})});</script>"
      ],
      "text/vnd.plotly.v1+html": [
       "<div id=\"52cf734a-3cb0-49ab-b7a4-63f5d214a881\" style=\"height: 525px; width: 100%;\" class=\"plotly-graph-div\"></div><script type=\"text/javascript\">require([\"plotly\"], function(Plotly) { window.PLOTLYENV=window.PLOTLYENV || {};window.PLOTLYENV.BASE_URL=\"https://plot.ly\";Plotly.newPlot(\"52cf734a-3cb0-49ab-b7a4-63f5d214a881\", [{\"type\": \"bar\", \"x\": [\"Bell MTS\", \"Cogent Communications\", \"Commstream Communications\", \"Cybera\", \"High Speed Crow\", \"Keewaytinook Okimakanak\", \"MERLIN\", \"Manitoba Hydro International\", \"TeraGo Networks\", \"Xplornet Communications\", \"iperf\"], \"y\": [92.459938618926, 72.64277824267785, 18.950076923076924, 14.426482014388489, 46.456518072289185, 58.08707692307695, 35.77525, 36.550383647798746, 112.05979761904759, 59.967883064516165, 71.80574468085108], \"name\": \"Mean\"}, {\"type\": \"bar\", \"x\": [\"Bell MTS\", \"Cogent Communications\", \"Commstream Communications\", \"Cybera\", \"High Speed Crow\", \"Keewaytinook Okimakanak\", \"MERLIN\", \"Manitoba Hydro International\", \"TeraGo Networks\", \"Xplornet Communications\", \"iperf\"], \"y\": [1258.02, 90.874, 54.83, 44.07, 76.434, 520.789, 90.184, 59.573, 679.029, 130.437, 669.219], \"name\": \"Max\"}, {\"type\": \"bar\", \"x\": [\"Bell MTS\", \"Cogent Communications\", \"Commstream Communications\", \"Cybera\", \"High Speed Crow\", \"Keewaytinook Okimakanak\", \"MERLIN\", \"Manitoba Hydro International\", \"TeraGo Networks\", \"Xplornet Communications\", \"iperf\"], \"y\": [82.5485, 72.617, 16.458, 14.7395, 49.93, 52.768, 18.0565, 36.943, 103.26599999999999, 50.9295, 64.82249999999999], \"name\": \"Median\"}], {\"title\": \"Maximum, mean and median ping latency per provider\"}, {\"showLink\": true, \"linkText\": \"Export to plot.ly\"})});</script>"
      ]
     },
     "metadata": {},
     "output_type": "display_data"
    }
   ],
   "source": [
    "barplot_averages(ping_df,'PING',\"Maximum, mean and median ping latency per provider\", index_col='PROVIDER')"
   ]
  },
  {
   "cell_type": "markdown",
   "metadata": {
    "collapsed": true
   },
   "source": [
    "Bell MTS has largest maximum spikes and TerraGo has largest median/average. "
   ]
  },
  {
   "cell_type": "code",
   "execution_count": null,
   "metadata": {
    "collapsed": true
   },
   "outputs": [],
   "source": []
  }
 ],
 "metadata": {
  "kernelspec": {
   "display_name": "Python 3",
   "language": "python",
   "name": "python3"
  },
  "nbTranslate": {
   "displayLangs": [
    "*"
   ],
   "hotkey": "alt-t",
   "langInMainMenu": true,
   "sourceLang": "en",
   "targetLang": "fr",
   "useGoogleTranslate": true
  }
 },
 "nbformat": 4,
 "nbformat_minor": 2
}
