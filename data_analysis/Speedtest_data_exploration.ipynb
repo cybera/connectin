{
 "cells": [
  {
   "cell_type": "markdown",
   "metadata": {},
   "source": [
    "# Speedtest data exploration"
   ]
  },
  {
   "cell_type": "markdown",
   "metadata": {},
   "source": [
    "### How data is  collected"
   ]
  },
  {
   "cell_type": "markdown",
   "metadata": {},
   "source": [
    "Running speedtest application (?) similar to speedtest.net Calculating upload, download speed + png latency"
   ]
  },
  {
   "cell_type": "markdown",
   "metadata": {},
   "source": [
    "### How data looks like\n",
    "Load libraries:"
   ]
  },
  {
   "cell_type": "code",
   "execution_count": 1,
   "metadata": {},
   "outputs": [
    {
     "data": {
      "text/html": [
       "<script>requirejs.config({paths: { 'plotly': ['https://cdn.plot.ly/plotly-latest.min']},});if(!window.Plotly) {{require(['plotly'],function(plotly) {window.Plotly=plotly;});}}</script>"
      ],
      "text/vnd.plotly.v1+html": [
       "<script>requirejs.config({paths: { 'plotly': ['https://cdn.plot.ly/plotly-latest.min']},});if(!window.Plotly) {{require(['plotly'],function(plotly) {window.Plotly=plotly;});}}</script>"
      ]
     },
     "metadata": {},
     "output_type": "display_data"
    }
   ],
   "source": [
    "from influxdb import DataFrameClient\n",
    "from influxdb import InfluxDBClient\n",
    "import json\n",
    "import pandas as pd\n",
    "\n",
    "import datetime \n",
    "from plotly.offline import init_notebook_mode, iplot\n",
    "import plotly.graph_objs as go\n",
    "import plotly.plotly as py\n",
    "from plotly import tools\n",
    "init_notebook_mode(connected=True)"
   ]
  },
  {
   "cell_type": "markdown",
   "metadata": {},
   "source": [
    "Read credentials:"
   ]
  },
  {
   "cell_type": "code",
   "execution_count": 2,
   "metadata": {
    "collapsed": true
   },
   "outputs": [],
   "source": [
    "with open('../credentials.json', 'r') as f_credentials:\n",
    "    credentials_config = json.load(f_credentials)"
   ]
  },
  {
   "cell_type": "markdown",
   "metadata": {},
   "source": [
    "Set up influxdb connection:"
   ]
  },
  {
   "cell_type": "code",
   "execution_count": 3,
   "metadata": {
    "collapsed": true
   },
   "outputs": [],
   "source": [
    "host=credentials_config['influxdb_host']\n",
    "port=8086\n",
    "dbname = 'net_speed_md'\n",
    "client = InfluxDBClient(host, port, '', '', dbname)"
   ]
  },
  {
   "cell_type": "markdown",
   "metadata": {},
   "source": [
    "Read all the data into pandas dataframe:"
   ]
  },
  {
   "cell_type": "code",
   "execution_count": 4,
   "metadata": {},
   "outputs": [
    {
     "data": {
      "text/html": [
       "<div>\n",
       "<style>\n",
       "    .dataframe thead tr:only-child th {\n",
       "        text-align: right;\n",
       "    }\n",
       "\n",
       "    .dataframe thead th {\n",
       "        text-align: left;\n",
       "    }\n",
       "\n",
       "    .dataframe tbody tr th {\n",
       "        vertical-align: top;\n",
       "    }\n",
       "</style>\n",
       "<table border=\"1\" class=\"dataframe\">\n",
       "  <thead>\n",
       "    <tr style=\"text-align: right;\">\n",
       "      <th></th>\n",
       "      <th>IP</th>\n",
       "      <th>PI_MAC</th>\n",
       "      <th>PROVIDER</th>\n",
       "      <th>PROVINCE</th>\n",
       "      <th>SK_PI</th>\n",
       "      <th>TEST_SERVER</th>\n",
       "      <th>UPLOAD</th>\n",
       "    </tr>\n",
       "  </thead>\n",
       "  <tbody>\n",
       "    <tr>\n",
       "      <th>2018-10-10 15:45:43.343000064+00:00</th>\n",
       "      <td>204.112.96.66</td>\n",
       "      <td>02-d1-08-c2-95-9b</td>\n",
       "      <td>Bell MTS</td>\n",
       "      <td>MB)</td>\n",
       "      <td>1</td>\n",
       "      <td>Shaw Communications (Winnipeg</td>\n",
       "      <td>0.47</td>\n",
       "    </tr>\n",
       "    <tr>\n",
       "      <th>2018-10-10 15:51:04.663000064+00:00</th>\n",
       "      <td>204.112.96.66</td>\n",
       "      <td>02-d1-08-c2-95-9b</td>\n",
       "      <td>Bell MTS</td>\n",
       "      <td>MB)</td>\n",
       "      <td>1</td>\n",
       "      <td>Shaw Communications (Winnipeg</td>\n",
       "      <td>0.35</td>\n",
       "    </tr>\n",
       "    <tr>\n",
       "      <th>2018-10-10 18:40:35.836999936+00:00</th>\n",
       "      <td>204.112.96.66</td>\n",
       "      <td>02-d1-08-c2-95-9b</td>\n",
       "      <td>Bell MTS</td>\n",
       "      <td>MB)</td>\n",
       "      <td>1</td>\n",
       "      <td>Rogers (Winnipeg</td>\n",
       "      <td>0.29</td>\n",
       "    </tr>\n",
       "    <tr>\n",
       "      <th>2018-10-10 22:38:54.132999936+00:00</th>\n",
       "      <td>204.112.96.66</td>\n",
       "      <td>02-d1-08-c2-95-9b</td>\n",
       "      <td>iperf</td>\n",
       "      <td>iperf</td>\n",
       "      <td>1</td>\n",
       "      <td>clearskystatus.info</td>\n",
       "      <td>698.00</td>\n",
       "    </tr>\n",
       "    <tr>\n",
       "      <th>2018-10-10 22:52:08.927000064+00:00</th>\n",
       "      <td>204.112.96.66</td>\n",
       "      <td>02-d1-08-c2-95-9b</td>\n",
       "      <td>iperf</td>\n",
       "      <td>iperf</td>\n",
       "      <td>1</td>\n",
       "      <td>clearskystatus.info</td>\n",
       "      <td>656.00</td>\n",
       "    </tr>\n",
       "  </tbody>\n",
       "</table>\n",
       "</div>"
      ],
      "text/plain": [
       "                                                IP             PI_MAC  \\\n",
       "2018-10-10 15:45:43.343000064+00:00  204.112.96.66  02-d1-08-c2-95-9b   \n",
       "2018-10-10 15:51:04.663000064+00:00  204.112.96.66  02-d1-08-c2-95-9b   \n",
       "2018-10-10 18:40:35.836999936+00:00  204.112.96.66  02-d1-08-c2-95-9b   \n",
       "2018-10-10 22:38:54.132999936+00:00  204.112.96.66  02-d1-08-c2-95-9b   \n",
       "2018-10-10 22:52:08.927000064+00:00  204.112.96.66  02-d1-08-c2-95-9b   \n",
       "\n",
       "                                     PROVIDER PROVINCE SK_PI  \\\n",
       "2018-10-10 15:45:43.343000064+00:00  Bell MTS      MB)     1   \n",
       "2018-10-10 15:51:04.663000064+00:00  Bell MTS      MB)     1   \n",
       "2018-10-10 18:40:35.836999936+00:00  Bell MTS      MB)     1   \n",
       "2018-10-10 22:38:54.132999936+00:00     iperf    iperf     1   \n",
       "2018-10-10 22:52:08.927000064+00:00     iperf    iperf     1   \n",
       "\n",
       "                                                       TEST_SERVER  UPLOAD  \n",
       "2018-10-10 15:45:43.343000064+00:00  Shaw Communications (Winnipeg    0.47  \n",
       "2018-10-10 15:51:04.663000064+00:00  Shaw Communications (Winnipeg    0.35  \n",
       "2018-10-10 18:40:35.836999936+00:00               Rogers (Winnipeg    0.29  \n",
       "2018-10-10 22:38:54.132999936+00:00            clearskystatus.info  698.00  \n",
       "2018-10-10 22:52:08.927000064+00:00            clearskystatus.info  656.00  "
      ]
     },
     "execution_count": 4,
     "metadata": {},
     "output_type": "execute_result"
    }
   ],
   "source": [
    "client = DataFrameClient(host, port, '', '', dbname)\n",
    "query_upload = 'SELECT * FROM SPEEDTEST_UPLOAD;'\n",
    "result_upload= client.query(query_upload)\n",
    "upload_df = result_upload['SPEEDTEST_UPLOAD']\n",
    "upload_df.head()"
   ]
  },
  {
   "cell_type": "markdown",
   "metadata": {},
   "source": [
    "It's indexed by time, lets reset index and convert time to different format(remove miliseconds)"
   ]
  },
  {
   "cell_type": "code",
   "execution_count": 5,
   "metadata": {},
   "outputs": [
    {
     "data": {
      "text/html": [
       "<div>\n",
       "<style>\n",
       "    .dataframe thead tr:only-child th {\n",
       "        text-align: right;\n",
       "    }\n",
       "\n",
       "    .dataframe thead th {\n",
       "        text-align: left;\n",
       "    }\n",
       "\n",
       "    .dataframe tbody tr th {\n",
       "        vertical-align: top;\n",
       "    }\n",
       "</style>\n",
       "<table border=\"1\" class=\"dataframe\">\n",
       "  <thead>\n",
       "    <tr style=\"text-align: right;\">\n",
       "      <th></th>\n",
       "      <th>time</th>\n",
       "      <th>IP</th>\n",
       "      <th>PI_MAC</th>\n",
       "      <th>PROVIDER</th>\n",
       "      <th>PROVINCE</th>\n",
       "      <th>SK_PI</th>\n",
       "      <th>TEST_SERVER</th>\n",
       "      <th>UPLOAD</th>\n",
       "    </tr>\n",
       "  </thead>\n",
       "  <tbody>\n",
       "    <tr>\n",
       "      <th>0</th>\n",
       "      <td>2018-10-10 15:45:43</td>\n",
       "      <td>204.112.96.66</td>\n",
       "      <td>02-d1-08-c2-95-9b</td>\n",
       "      <td>Bell MTS</td>\n",
       "      <td>MB)</td>\n",
       "      <td>1</td>\n",
       "      <td>Shaw Communications (Winnipeg</td>\n",
       "      <td>0.47</td>\n",
       "    </tr>\n",
       "    <tr>\n",
       "      <th>1</th>\n",
       "      <td>2018-10-10 15:51:04</td>\n",
       "      <td>204.112.96.66</td>\n",
       "      <td>02-d1-08-c2-95-9b</td>\n",
       "      <td>Bell MTS</td>\n",
       "      <td>MB)</td>\n",
       "      <td>1</td>\n",
       "      <td>Shaw Communications (Winnipeg</td>\n",
       "      <td>0.35</td>\n",
       "    </tr>\n",
       "    <tr>\n",
       "      <th>2</th>\n",
       "      <td>2018-10-10 18:40:35</td>\n",
       "      <td>204.112.96.66</td>\n",
       "      <td>02-d1-08-c2-95-9b</td>\n",
       "      <td>Bell MTS</td>\n",
       "      <td>MB)</td>\n",
       "      <td>1</td>\n",
       "      <td>Rogers (Winnipeg</td>\n",
       "      <td>0.29</td>\n",
       "    </tr>\n",
       "    <tr>\n",
       "      <th>3</th>\n",
       "      <td>2018-10-10 22:38:54</td>\n",
       "      <td>204.112.96.66</td>\n",
       "      <td>02-d1-08-c2-95-9b</td>\n",
       "      <td>iperf</td>\n",
       "      <td>iperf</td>\n",
       "      <td>1</td>\n",
       "      <td>clearskystatus.info</td>\n",
       "      <td>698.00</td>\n",
       "    </tr>\n",
       "    <tr>\n",
       "      <th>4</th>\n",
       "      <td>2018-10-10 22:52:08</td>\n",
       "      <td>204.112.96.66</td>\n",
       "      <td>02-d1-08-c2-95-9b</td>\n",
       "      <td>iperf</td>\n",
       "      <td>iperf</td>\n",
       "      <td>1</td>\n",
       "      <td>clearskystatus.info</td>\n",
       "      <td>656.00</td>\n",
       "    </tr>\n",
       "  </tbody>\n",
       "</table>\n",
       "</div>"
      ],
      "text/plain": [
       "                 time             IP             PI_MAC  PROVIDER PROVINCE  \\\n",
       "0 2018-10-10 15:45:43  204.112.96.66  02-d1-08-c2-95-9b  Bell MTS      MB)   \n",
       "1 2018-10-10 15:51:04  204.112.96.66  02-d1-08-c2-95-9b  Bell MTS      MB)   \n",
       "2 2018-10-10 18:40:35  204.112.96.66  02-d1-08-c2-95-9b  Bell MTS      MB)   \n",
       "3 2018-10-10 22:38:54  204.112.96.66  02-d1-08-c2-95-9b     iperf    iperf   \n",
       "4 2018-10-10 22:52:08  204.112.96.66  02-d1-08-c2-95-9b     iperf    iperf   \n",
       "\n",
       "   SK_PI                    TEST_SERVER  UPLOAD  \n",
       "0      1  Shaw Communications (Winnipeg    0.47  \n",
       "1      1  Shaw Communications (Winnipeg    0.35  \n",
       "2      1               Rogers (Winnipeg    0.29  \n",
       "3      1            clearskystatus.info  698.00  \n",
       "4      1            clearskystatus.info  656.00  "
      ]
     },
     "execution_count": 5,
     "metadata": {},
     "output_type": "execute_result"
    }
   ],
   "source": [
    "upload_df.reset_index(level=0, inplace=True)\n",
    "upload_df['index']=upload_df['index'].dt.strftime('%Y-%m-%d %H:%M:%S')\n",
    "upload_df['index'] = pd.to_datetime(upload_df['index'])\n",
    "upload_df['SK_PI']=pd.to_numeric(upload_df['SK_PI'])\n",
    "upload_df.rename(columns={'index':'time'}, inplace=True)\n",
    "upload_df.head()"
   ]
  },
  {
   "cell_type": "markdown",
   "metadata": {
    "collapsed": true
   },
   "source": [
    "How much data do we have:"
   ]
  },
  {
   "cell_type": "code",
   "execution_count": 6,
   "metadata": {},
   "outputs": [
    {
     "data": {
      "text/plain": [
       "(3654, 8)"
      ]
     },
     "execution_count": 6,
     "metadata": {},
     "output_type": "execute_result"
    }
   ],
   "source": [
    "upload_df.shape"
   ]
  },
  {
   "cell_type": "markdown",
   "metadata": {},
   "source": [
    "Are there any zeros in Upload speed colum and do they come from NaNs in the original table?"
   ]
  },
  {
   "cell_type": "code",
   "execution_count": 7,
   "metadata": {},
   "outputs": [
    {
     "data": {
      "text/html": [
       "<div>\n",
       "<style>\n",
       "    .dataframe thead tr:only-child th {\n",
       "        text-align: right;\n",
       "    }\n",
       "\n",
       "    .dataframe thead th {\n",
       "        text-align: left;\n",
       "    }\n",
       "\n",
       "    .dataframe tbody tr th {\n",
       "        vertical-align: top;\n",
       "    }\n",
       "</style>\n",
       "<table border=\"1\" class=\"dataframe\">\n",
       "  <thead>\n",
       "    <tr style=\"text-align: right;\">\n",
       "      <th></th>\n",
       "      <th>time</th>\n",
       "      <th>IP</th>\n",
       "      <th>PI_MAC</th>\n",
       "      <th>PROVIDER</th>\n",
       "      <th>PROVINCE</th>\n",
       "      <th>SK_PI</th>\n",
       "      <th>TEST_SERVER</th>\n",
       "      <th>UPLOAD</th>\n",
       "    </tr>\n",
       "  </thead>\n",
       "  <tbody>\n",
       "    <tr>\n",
       "      <th>914</th>\n",
       "      <td>2018-11-24 21:36:08</td>\n",
       "      <td>204.112.96.94</td>\n",
       "      <td>02-cd-05-c1-92-3f</td>\n",
       "      <td>Bell MTS</td>\n",
       "      <td>MB)</td>\n",
       "      <td>4</td>\n",
       "      <td>Voyageur Internet (Winnipeg</td>\n",
       "      <td>0.0</td>\n",
       "    </tr>\n",
       "    <tr>\n",
       "      <th>1061</th>\n",
       "      <td>2018-11-30 14:30:05</td>\n",
       "      <td>204.112.96.94</td>\n",
       "      <td>02-cd-05-c1-92-3f</td>\n",
       "      <td>Bell MTS</td>\n",
       "      <td>MB)</td>\n",
       "      <td>4</td>\n",
       "      <td>Shaw Communications (Winnipeg</td>\n",
       "      <td>0.0</td>\n",
       "    </tr>\n",
       "    <tr>\n",
       "      <th>1759</th>\n",
       "      <td>2018-12-13 20:42:03</td>\n",
       "      <td>204.112.96.66</td>\n",
       "      <td>02-07-06-80-d4-7c</td>\n",
       "      <td>Bell MTS</td>\n",
       "      <td>MB)</td>\n",
       "      <td>7</td>\n",
       "      <td>Commstream Communications (Winnipeg</td>\n",
       "      <td>0.0</td>\n",
       "    </tr>\n",
       "  </tbody>\n",
       "</table>\n",
       "</div>"
      ],
      "text/plain": [
       "                    time             IP             PI_MAC  PROVIDER PROVINCE  \\\n",
       "914  2018-11-24 21:36:08  204.112.96.94  02-cd-05-c1-92-3f  Bell MTS      MB)   \n",
       "1061 2018-11-30 14:30:05  204.112.96.94  02-cd-05-c1-92-3f  Bell MTS      MB)   \n",
       "1759 2018-12-13 20:42:03  204.112.96.66  02-07-06-80-d4-7c  Bell MTS      MB)   \n",
       "\n",
       "      SK_PI                          TEST_SERVER  UPLOAD  \n",
       "914       4          Voyageur Internet (Winnipeg     0.0  \n",
       "1061      4        Shaw Communications (Winnipeg     0.0  \n",
       "1759      7  Commstream Communications (Winnipeg     0.0  "
      ]
     },
     "execution_count": 7,
     "metadata": {},
     "output_type": "execute_result"
    }
   ],
   "source": [
    "mylist=['UPLOAD']\n",
    "upload_df[upload_df[mylist].eq(0).all(1)]"
   ]
  },
  {
   "cell_type": "code",
   "execution_count": 8,
   "metadata": {},
   "outputs": [
    {
     "data": {
      "text/html": [
       "<div>\n",
       "<style>\n",
       "    .dataframe thead tr:only-child th {\n",
       "        text-align: right;\n",
       "    }\n",
       "\n",
       "    .dataframe thead th {\n",
       "        text-align: left;\n",
       "    }\n",
       "\n",
       "    .dataframe tbody tr th {\n",
       "        vertical-align: top;\n",
       "    }\n",
       "</style>\n",
       "<table border=\"1\" class=\"dataframe\">\n",
       "  <thead>\n",
       "    <tr style=\"text-align: right;\">\n",
       "      <th></th>\n",
       "      <th>SK_PI</th>\n",
       "      <th>SK_FILE_PATTERN</th>\n",
       "      <th>DATA_DATE</th>\n",
       "      <th>PROVIDER</th>\n",
       "      <th>IP</th>\n",
       "      <th>TEST_SERVER</th>\n",
       "      <th>PROVINCE</th>\n",
       "      <th>PING</th>\n",
       "      <th>DOWNLOAD</th>\n",
       "      <th>UPLOAD</th>\n",
       "    </tr>\n",
       "  </thead>\n",
       "  <tbody>\n",
       "    <tr>\n",
       "      <th>0</th>\n",
       "      <td>7</td>\n",
       "      <td>19</td>\n",
       "      <td>2018-12-13 20:42:03.723</td>\n",
       "      <td>Bell MTS</td>\n",
       "      <td>204.112.96.66</td>\n",
       "      <td>Commstream Communications (Winnipeg</td>\n",
       "      <td>MB)</td>\n",
       "      <td>1800000.000</td>\n",
       "      <td>0.00</td>\n",
       "      <td>0.00</td>\n",
       "    </tr>\n",
       "    <tr>\n",
       "      <th>1</th>\n",
       "      <td>4</td>\n",
       "      <td>19</td>\n",
       "      <td>2018-11-24 21:36:08.367</td>\n",
       "      <td>Bell MTS</td>\n",
       "      <td>204.112.96.94</td>\n",
       "      <td>Voyageur Internet (Winnipeg</td>\n",
       "      <td>MB)</td>\n",
       "      <td>67.381</td>\n",
       "      <td>1.19</td>\n",
       "      <td>0.00</td>\n",
       "    </tr>\n",
       "    <tr>\n",
       "      <th>2</th>\n",
       "      <td>4</td>\n",
       "      <td>19</td>\n",
       "      <td>2018-11-27 05:06:15.177</td>\n",
       "      <td>Bell MTS</td>\n",
       "      <td>204.112.96.94</td>\n",
       "      <td>Shaw Communications (Winnipeg</td>\n",
       "      <td>MB)</td>\n",
       "      <td>68.232</td>\n",
       "      <td>0.00</td>\n",
       "      <td>0.65</td>\n",
       "    </tr>\n",
       "    <tr>\n",
       "      <th>3</th>\n",
       "      <td>4</td>\n",
       "      <td>19</td>\n",
       "      <td>2018-11-30 14:30:05.207</td>\n",
       "      <td>Bell MTS</td>\n",
       "      <td>204.112.96.94</td>\n",
       "      <td>Shaw Communications (Winnipeg</td>\n",
       "      <td>MB)</td>\n",
       "      <td>78.877</td>\n",
       "      <td>1.01</td>\n",
       "      <td>0.00</td>\n",
       "    </tr>\n",
       "  </tbody>\n",
       "</table>\n",
       "</div>"
      ],
      "text/plain": [
       "   SK_PI  SK_FILE_PATTERN               DATA_DATE  PROVIDER             IP  \\\n",
       "0      7               19 2018-12-13 20:42:03.723  Bell MTS  204.112.96.66   \n",
       "1      4               19 2018-11-24 21:36:08.367  Bell MTS  204.112.96.94   \n",
       "2      4               19 2018-11-27 05:06:15.177  Bell MTS  204.112.96.94   \n",
       "3      4               19 2018-11-30 14:30:05.207  Bell MTS  204.112.96.94   \n",
       "\n",
       "                           TEST_SERVER PROVINCE         PING  DOWNLOAD  UPLOAD  \n",
       "0  Commstream Communications (Winnipeg      MB)  1800000.000      0.00    0.00  \n",
       "1          Voyageur Internet (Winnipeg      MB)       67.381      1.19    0.00  \n",
       "2        Shaw Communications (Winnipeg      MB)       68.232      0.00    0.65  \n",
       "3        Shaw Communications (Winnipeg      MB)       78.877      1.01    0.00  "
      ]
     },
     "execution_count": 8,
     "metadata": {},
     "output_type": "execute_result"
    }
   ],
   "source": [
    "import pyodbc\n",
    "password=credentials_config['mssql_password']\n",
    "srv=credentials_config['mssql_host']\n",
    "cnxn = pyodbc.connect(driver='/usr/local/lib/libtdsodbc.so', server=srv,port='1433', database='net_speed_md', uid='cybera_sql', pwd=password)\n",
    "sql = \"SELECT TOP 10 * FROM FCT_SPEEDTEST WHERE UPLOAD='0'OR DOWNLOAD='0' OR PING='0';\"\n",
    "data = pd.read_sql(sql,cnxn)\n",
    "data"
   ]
  },
  {
   "cell_type": "markdown",
   "metadata": {},
   "source": [
    "Something is possibly wrong with these measurments, we wille exclude them for now:"
   ]
  },
  {
   "cell_type": "code",
   "execution_count": 9,
   "metadata": {},
   "outputs": [
    {
     "data": {
      "text/plain": [
       "(3651, 8)"
      ]
     },
     "execution_count": 9,
     "metadata": {},
     "output_type": "execute_result"
    }
   ],
   "source": [
    "upload_df = upload_df[upload_df.UPLOAD != 0]\n",
    "upload_df.shape"
   ]
  },
  {
   "cell_type": "code",
   "execution_count": 10,
   "metadata": {
    "collapsed": true
   },
   "outputs": [],
   "source": [
    "#upload_df.describe(include='all')"
   ]
  },
  {
   "cell_type": "markdown",
   "metadata": {},
   "source": [
    "### How may data points per device?"
   ]
  },
  {
   "cell_type": "code",
   "execution_count": 11,
   "metadata": {},
   "outputs": [
    {
     "data": {
      "application/vnd.plotly.v1+json": {
       "data": [
        {
         "type": "bar",
         "x": [
          1,
          2,
          3,
          4,
          5,
          6,
          7,
          8,
          9,
          10,
          11,
          12,
          14,
          15,
          16,
          17,
          18
         ],
         "y": [
          10,
          240,
          299,
          287,
          555,
          32,
          365,
          23,
          256,
          168,
          242,
          253,
          216,
          216,
          195,
          164,
          130
         ]
        }
       ],
       "layout": {
        "barmode": "stack",
        "title": "Number of data points per device"
       }
      },
      "text/html": [
       "<div id=\"f57d0689-a007-41f8-a79f-ba5561609cd1\" style=\"height: 525px; width: 100%;\" class=\"plotly-graph-div\"></div><script type=\"text/javascript\">require([\"plotly\"], function(Plotly) { window.PLOTLYENV=window.PLOTLYENV || {};window.PLOTLYENV.BASE_URL=\"https://plot.ly\";Plotly.newPlot(\"f57d0689-a007-41f8-a79f-ba5561609cd1\", [{\"type\": \"bar\", \"x\": [1, 2, 3, 4, 5, 6, 7, 8, 9, 10, 11, 12, 14, 15, 16, 17, 18], \"y\": [10, 240, 299, 287, 555, 32, 365, 23, 256, 168, 242, 253, 216, 216, 195, 164, 130]}], {\"barmode\": \"stack\", \"title\": \"Number of data points per device\"}, {\"showLink\": true, \"linkText\": \"Export to plot.ly\"})});</script>"
      ],
      "text/vnd.plotly.v1+html": [
       "<div id=\"f57d0689-a007-41f8-a79f-ba5561609cd1\" style=\"height: 525px; width: 100%;\" class=\"plotly-graph-div\"></div><script type=\"text/javascript\">require([\"plotly\"], function(Plotly) { window.PLOTLYENV=window.PLOTLYENV || {};window.PLOTLYENV.BASE_URL=\"https://plot.ly\";Plotly.newPlot(\"f57d0689-a007-41f8-a79f-ba5561609cd1\", [{\"type\": \"bar\", \"x\": [1, 2, 3, 4, 5, 6, 7, 8, 9, 10, 11, 12, 14, 15, 16, 17, 18], \"y\": [10, 240, 299, 287, 555, 32, 365, 23, 256, 168, 242, 253, 216, 216, 195, 164, 130]}], {\"barmode\": \"stack\", \"title\": \"Number of data points per device\"}, {\"showLink\": true, \"linkText\": \"Export to plot.ly\"})});</script>"
      ]
     },
     "metadata": {},
     "output_type": "display_data"
    }
   ],
   "source": [
    "points_by_device=upload_df.groupby(['SK_PI']).size().reset_index(name='counts').sort_values('SK_PI')\n",
    "data = [go.Bar(\n",
    "            x=points_by_device[\"SK_PI\"],\n",
    "            y=points_by_device[\"counts\"],\n",
    "    )]\n",
    "\n",
    "layout = go.Layout(\n",
    "        barmode='stack',\n",
    "        title=\"Number of data points per device\"\n",
    "    )\n",
    "\n",
    "fig = go.Figure(data=data, layout=layout)\n",
    "#print(points_by_device)\n",
    "iplot(fig)"
   ]
  },
  {
   "cell_type": "markdown",
   "metadata": {},
   "source": [
    "Device 13 doesn to have any speedtest data?  \n",
    "Device 5 has the largest amount of datapoints - is it on for a longest time?"
   ]
  },
  {
   "cell_type": "markdown",
   "metadata": {},
   "source": [
    "#### How many datapoints in the last 4 weeks?"
   ]
  },
  {
   "cell_type": "code",
   "execution_count": 23,
   "metadata": {
    "collapsed": true
   },
   "outputs": [],
   "source": [
    "four_weeks_ago = datetime.date.today() - datetime.timedelta(days=28)\n",
    "upload_df_last4weeks = upload_df[upload_df['time']>four_weeks_ago]\n",
    "points_by_device_las4weeks = upload_df_last4weeks.groupby(['SK_PI']).size().reset_index(name='counts').sort_values('SK_PI')\n",
    "merged_results=pd.merge(points_by_device, points_by_device_las4weeks, on='SK_PI', how='outer')\n",
    "merged_results['counts_y']=merged_results['counts_y'].fillna(0)\n",
    "merged_results['result']=merged_results['counts_x'].sub(merged_results['counts_y'], axis=0)"
   ]
  },
  {
   "cell_type": "code",
   "execution_count": 24,
   "metadata": {},
   "outputs": [
    {
     "data": {
      "application/vnd.plotly.v1+json": {
       "data": [
        {
         "name": "Last 4 weeks",
         "type": "bar",
         "x": [
          1,
          2,
          3,
          4,
          5,
          6,
          7,
          8,
          9,
          10,
          11,
          12,
          14,
          15,
          16,
          17,
          18
         ],
         "y": [
          0,
          0,
          181,
          0,
          182,
          0,
          150,
          0,
          182,
          168,
          173,
          182,
          181,
          182,
          172,
          164,
          130
         ]
        },
        {
         "name": "The rest of the time",
         "type": "bar",
         "x": [
          1,
          2,
          3,
          4,
          5,
          6,
          7,
          8,
          9,
          10,
          11,
          12,
          14,
          15,
          16,
          17,
          18
         ],
         "y": [
          10,
          240,
          118,
          287,
          373,
          32,
          215,
          23,
          74,
          0,
          69,
          71,
          35,
          34,
          23,
          0,
          0
         ]
        }
       ],
       "layout": {
        "barmode": "stack",
        "title": "Number of data points per device: last 4 weeks vs entire time"
       }
      },
      "text/html": [
       "<div id=\"421f966b-f1bf-4702-97b8-98a1f85c895e\" style=\"height: 525px; width: 100%;\" class=\"plotly-graph-div\"></div><script type=\"text/javascript\">require([\"plotly\"], function(Plotly) { window.PLOTLYENV=window.PLOTLYENV || {};window.PLOTLYENV.BASE_URL=\"https://plot.ly\";Plotly.newPlot(\"421f966b-f1bf-4702-97b8-98a1f85c895e\", [{\"type\": \"bar\", \"x\": [1, 2, 3, 4, 5, 6, 7, 8, 9, 10, 11, 12, 14, 15, 16, 17, 18], \"y\": [0.0, 0.0, 181.0, 0.0, 182.0, 0.0, 150.0, 0.0, 182.0, 168.0, 173.0, 182.0, 181.0, 182.0, 172.0, 164.0, 130.0], \"name\": \"Last 4 weeks\"}, {\"type\": \"bar\", \"x\": [1, 2, 3, 4, 5, 6, 7, 8, 9, 10, 11, 12, 14, 15, 16, 17, 18], \"y\": [10.0, 240.0, 118.0, 287.0, 373.0, 32.0, 215.0, 23.0, 74.0, 0.0, 69.0, 71.0, 35.0, 34.0, 23.0, 0.0, 0.0], \"name\": \"The rest of the time\"}], {\"barmode\": \"stack\", \"title\": \"Number of data points per device: last 4 weeks vs entire time\"}, {\"showLink\": true, \"linkText\": \"Export to plot.ly\"})});</script>"
      ],
      "text/vnd.plotly.v1+html": [
       "<div id=\"421f966b-f1bf-4702-97b8-98a1f85c895e\" style=\"height: 525px; width: 100%;\" class=\"plotly-graph-div\"></div><script type=\"text/javascript\">require([\"plotly\"], function(Plotly) { window.PLOTLYENV=window.PLOTLYENV || {};window.PLOTLYENV.BASE_URL=\"https://plot.ly\";Plotly.newPlot(\"421f966b-f1bf-4702-97b8-98a1f85c895e\", [{\"type\": \"bar\", \"x\": [1, 2, 3, 4, 5, 6, 7, 8, 9, 10, 11, 12, 14, 15, 16, 17, 18], \"y\": [0.0, 0.0, 181.0, 0.0, 182.0, 0.0, 150.0, 0.0, 182.0, 168.0, 173.0, 182.0, 181.0, 182.0, 172.0, 164.0, 130.0], \"name\": \"Last 4 weeks\"}, {\"type\": \"bar\", \"x\": [1, 2, 3, 4, 5, 6, 7, 8, 9, 10, 11, 12, 14, 15, 16, 17, 18], \"y\": [10.0, 240.0, 118.0, 287.0, 373.0, 32.0, 215.0, 23.0, 74.0, 0.0, 69.0, 71.0, 35.0, 34.0, 23.0, 0.0, 0.0], \"name\": \"The rest of the time\"}], {\"barmode\": \"stack\", \"title\": \"Number of data points per device: last 4 weeks vs entire time\"}, {\"showLink\": true, \"linkText\": \"Export to plot.ly\"})});</script>"
      ]
     },
     "metadata": {},
     "output_type": "display_data"
    }
   ],
   "source": [
    "trace1 = go.Bar(\n",
    "            x=merged_results[\"SK_PI\"],\n",
    "            y=merged_results[\"counts_y\"],\n",
    "            name='Last 4 weeks',\n",
    "    )\n",
    "trace2= go.Bar(\n",
    "            x=merged_results[\"SK_PI\"],\n",
    "            y=merged_results['result'],\n",
    "            name='The rest of the time',\n",
    "    )\n",
    "data=[trace1, trace2]\n",
    "layout = go.Layout(\n",
    "        barmode='stack',\n",
    "        title=\"Number of data points per device: last 4 weeks vs entire time\"\n",
    "    )\n",
    "\n",
    "fig = go.Figure(data=data, layout=layout)\n",
    "iplot(fig)"
   ]
  },
  {
   "cell_type": "markdown",
   "metadata": {},
   "source": [
    "Devices 1,2,4,6 and 8 have data but not in the last 4 weeks.  \n",
    "#### When  all the devices started/ended reporting:"
   ]
  },
  {
   "cell_type": "code",
   "execution_count": 25,
   "metadata": {},
   "outputs": [
    {
     "name": "stdout",
     "output_type": "stream",
     "text": [
      "Device:  1   was reporting from  2018-10-10 15:45:43  to  2018-10-11 12:00:09\n",
      "Device:  2   was reporting from  2018-10-11 15:55:58  to  2018-11-03 16:52:07\n",
      "Device:  3   was reporting from  2018-10-15 19:36:18  to  2019-01-07 23:48:10\n",
      "Device:  4   was reporting from  2018-10-27 00:03:48  to  2018-12-05 16:36:12\n",
      "Device:  5   was reporting from  2018-10-26 18:18:08  to  2019-01-07 23:48:07\n",
      "Device:  6   was reporting from  2018-10-26 23:53:09  to  2018-10-31 14:52:59\n",
      "Device:  7   was reporting from  2018-11-11 00:36:13  to  2019-01-07 23:48:04\n",
      "Device:  8   was reporting from  2018-11-07 18:22:07  to  2018-12-03 16:30:07\n",
      "Device:  9   was reporting from  2018-11-30 18:12:12  to  2019-01-07 23:48:05\n",
      "Device:  10   was reporting from  2018-12-12 22:29:40  to  2019-01-07 16:24:08\n",
      "Device:  11   was reporting from  2018-11-30 18:12:09  to  2019-01-07 23:48:08\n",
      "Device:  12   was reporting from  2018-11-30 18:12:06  to  2019-01-07 23:48:01\n",
      "Device:  14   was reporting from  2018-12-05 16:48:41  to  2019-01-07 23:48:11\n",
      "Device:  15   was reporting from  2018-12-05 18:23:59  to  2019-01-07 23:48:09\n",
      "Device:  16   was reporting from  2018-12-06 22:12:11  to  2019-01-07 23:48:07\n",
      "Device:  17   was reporting from  2018-12-13 20:42:08  to  2019-01-07 23:48:17\n",
      "Device:  18   was reporting from  2018-12-18 17:18:33  to  2019-01-07 23:48:08\n"
     ]
    },
    {
     "data": {
      "application/vnd.plotly.v1+json": {
       "data": [
        {
         "name": 1,
         "type": "scatter",
         "x": [
          "2018-10-10 15:45:43",
          "2018-10-11 12:00:09"
         ],
         "y": [
          1,
          1
         ]
        },
        {
         "name": 2,
         "type": "scatter",
         "x": [
          "2018-10-11 15:55:58",
          "2018-11-03 16:52:07"
         ],
         "y": [
          2,
          2
         ]
        },
        {
         "name": 3,
         "type": "scatter",
         "x": [
          "2018-10-15 19:36:18",
          "2019-01-07 23:48:10"
         ],
         "y": [
          3,
          3
         ]
        },
        {
         "name": 4,
         "type": "scatter",
         "x": [
          "2018-10-27 00:03:48",
          "2018-12-05 16:36:12"
         ],
         "y": [
          4,
          4
         ]
        },
        {
         "name": 5,
         "type": "scatter",
         "x": [
          "2018-10-26 18:18:08",
          "2019-01-07 23:48:07"
         ],
         "y": [
          5,
          5
         ]
        },
        {
         "name": 6,
         "type": "scatter",
         "x": [
          "2018-10-26 23:53:09",
          "2018-10-31 14:52:59"
         ],
         "y": [
          6,
          6
         ]
        },
        {
         "name": 7,
         "type": "scatter",
         "x": [
          "2018-11-11 00:36:13",
          "2019-01-07 23:48:04"
         ],
         "y": [
          7,
          7
         ]
        },
        {
         "name": 8,
         "type": "scatter",
         "x": [
          "2018-11-07 18:22:07",
          "2018-12-03 16:30:07"
         ],
         "y": [
          8,
          8
         ]
        },
        {
         "name": 9,
         "type": "scatter",
         "x": [
          "2018-11-30 18:12:12",
          "2019-01-07 23:48:05"
         ],
         "y": [
          9,
          9
         ]
        },
        {
         "name": 10,
         "type": "scatter",
         "x": [
          "2018-12-12 22:29:40",
          "2019-01-07 16:24:08"
         ],
         "y": [
          10,
          10
         ]
        },
        {
         "name": 11,
         "type": "scatter",
         "x": [
          "2018-11-30 18:12:09",
          "2019-01-07 23:48:08"
         ],
         "y": [
          11,
          11
         ]
        },
        {
         "name": 12,
         "type": "scatter",
         "x": [
          "2018-11-30 18:12:06",
          "2019-01-07 23:48:01"
         ],
         "y": [
          12,
          12
         ]
        },
        {
         "name": 14,
         "type": "scatter",
         "x": [
          "2018-12-05 16:48:41",
          "2019-01-07 23:48:11"
         ],
         "y": [
          14,
          14
         ]
        },
        {
         "name": 15,
         "type": "scatter",
         "x": [
          "2018-12-05 18:23:59",
          "2019-01-07 23:48:09"
         ],
         "y": [
          15,
          15
         ]
        },
        {
         "name": 16,
         "type": "scatter",
         "x": [
          "2018-12-06 22:12:11",
          "2019-01-07 23:48:07"
         ],
         "y": [
          16,
          16
         ]
        },
        {
         "name": 17,
         "type": "scatter",
         "x": [
          "2018-12-13 20:42:08",
          "2019-01-07 23:48:17"
         ],
         "y": [
          17,
          17
         ]
        },
        {
         "name": 18,
         "type": "scatter",
         "x": [
          "2018-12-18 17:18:33",
          "2019-01-07 23:48:08"
         ],
         "y": [
          18,
          18
         ]
        }
       ],
       "layout": {
        "title": "Device reporting times"
       }
      },
      "text/html": [
       "<div id=\"ba9702fc-a9d0-42f0-ac2d-fee3b30be658\" style=\"height: 525px; width: 100%;\" class=\"plotly-graph-div\"></div><script type=\"text/javascript\">require([\"plotly\"], function(Plotly) { window.PLOTLYENV=window.PLOTLYENV || {};window.PLOTLYENV.BASE_URL=\"https://plot.ly\";Plotly.newPlot(\"ba9702fc-a9d0-42f0-ac2d-fee3b30be658\", [{\"type\": \"scatter\", \"x\": [\"2018-10-10 15:45:43\", \"2018-10-11 12:00:09\"], \"y\": [1, 1], \"name\": 1}, {\"type\": \"scatter\", \"x\": [\"2018-10-11 15:55:58\", \"2018-11-03 16:52:07\"], \"y\": [2, 2], \"name\": 2}, {\"type\": \"scatter\", \"x\": [\"2018-10-15 19:36:18\", \"2019-01-07 23:48:10\"], \"y\": [3, 3], \"name\": 3}, {\"type\": \"scatter\", \"x\": [\"2018-10-27 00:03:48\", \"2018-12-05 16:36:12\"], \"y\": [4, 4], \"name\": 4}, {\"type\": \"scatter\", \"x\": [\"2018-10-26 18:18:08\", \"2019-01-07 23:48:07\"], \"y\": [5, 5], \"name\": 5}, {\"type\": \"scatter\", \"x\": [\"2018-10-26 23:53:09\", \"2018-10-31 14:52:59\"], \"y\": [6, 6], \"name\": 6}, {\"type\": \"scatter\", \"x\": [\"2018-11-11 00:36:13\", \"2019-01-07 23:48:04\"], \"y\": [7, 7], \"name\": 7}, {\"type\": \"scatter\", \"x\": [\"2018-11-07 18:22:07\", \"2018-12-03 16:30:07\"], \"y\": [8, 8], \"name\": 8}, {\"type\": \"scatter\", \"x\": [\"2018-11-30 18:12:12\", \"2019-01-07 23:48:05\"], \"y\": [9, 9], \"name\": 9}, {\"type\": \"scatter\", \"x\": [\"2018-12-12 22:29:40\", \"2019-01-07 16:24:08\"], \"y\": [10, 10], \"name\": 10}, {\"type\": \"scatter\", \"x\": [\"2018-11-30 18:12:09\", \"2019-01-07 23:48:08\"], \"y\": [11, 11], \"name\": 11}, {\"type\": \"scatter\", \"x\": [\"2018-11-30 18:12:06\", \"2019-01-07 23:48:01\"], \"y\": [12, 12], \"name\": 12}, {\"type\": \"scatter\", \"x\": [\"2018-12-05 16:48:41\", \"2019-01-07 23:48:11\"], \"y\": [14, 14], \"name\": 14}, {\"type\": \"scatter\", \"x\": [\"2018-12-05 18:23:59\", \"2019-01-07 23:48:09\"], \"y\": [15, 15], \"name\": 15}, {\"type\": \"scatter\", \"x\": [\"2018-12-06 22:12:11\", \"2019-01-07 23:48:07\"], \"y\": [16, 16], \"name\": 16}, {\"type\": \"scatter\", \"x\": [\"2018-12-13 20:42:08\", \"2019-01-07 23:48:17\"], \"y\": [17, 17], \"name\": 17}, {\"type\": \"scatter\", \"x\": [\"2018-12-18 17:18:33\", \"2019-01-07 23:48:08\"], \"y\": [18, 18], \"name\": 18}], {\"title\": \"Device reporting times\"}, {\"showLink\": true, \"linkText\": \"Export to plot.ly\"})});</script>"
      ],
      "text/vnd.plotly.v1+html": [
       "<div id=\"ba9702fc-a9d0-42f0-ac2d-fee3b30be658\" style=\"height: 525px; width: 100%;\" class=\"plotly-graph-div\"></div><script type=\"text/javascript\">require([\"plotly\"], function(Plotly) { window.PLOTLYENV=window.PLOTLYENV || {};window.PLOTLYENV.BASE_URL=\"https://plot.ly\";Plotly.newPlot(\"ba9702fc-a9d0-42f0-ac2d-fee3b30be658\", [{\"type\": \"scatter\", \"x\": [\"2018-10-10 15:45:43\", \"2018-10-11 12:00:09\"], \"y\": [1, 1], \"name\": 1}, {\"type\": \"scatter\", \"x\": [\"2018-10-11 15:55:58\", \"2018-11-03 16:52:07\"], \"y\": [2, 2], \"name\": 2}, {\"type\": \"scatter\", \"x\": [\"2018-10-15 19:36:18\", \"2019-01-07 23:48:10\"], \"y\": [3, 3], \"name\": 3}, {\"type\": \"scatter\", \"x\": [\"2018-10-27 00:03:48\", \"2018-12-05 16:36:12\"], \"y\": [4, 4], \"name\": 4}, {\"type\": \"scatter\", \"x\": [\"2018-10-26 18:18:08\", \"2019-01-07 23:48:07\"], \"y\": [5, 5], \"name\": 5}, {\"type\": \"scatter\", \"x\": [\"2018-10-26 23:53:09\", \"2018-10-31 14:52:59\"], \"y\": [6, 6], \"name\": 6}, {\"type\": \"scatter\", \"x\": [\"2018-11-11 00:36:13\", \"2019-01-07 23:48:04\"], \"y\": [7, 7], \"name\": 7}, {\"type\": \"scatter\", \"x\": [\"2018-11-07 18:22:07\", \"2018-12-03 16:30:07\"], \"y\": [8, 8], \"name\": 8}, {\"type\": \"scatter\", \"x\": [\"2018-11-30 18:12:12\", \"2019-01-07 23:48:05\"], \"y\": [9, 9], \"name\": 9}, {\"type\": \"scatter\", \"x\": [\"2018-12-12 22:29:40\", \"2019-01-07 16:24:08\"], \"y\": [10, 10], \"name\": 10}, {\"type\": \"scatter\", \"x\": [\"2018-11-30 18:12:09\", \"2019-01-07 23:48:08\"], \"y\": [11, 11], \"name\": 11}, {\"type\": \"scatter\", \"x\": [\"2018-11-30 18:12:06\", \"2019-01-07 23:48:01\"], \"y\": [12, 12], \"name\": 12}, {\"type\": \"scatter\", \"x\": [\"2018-12-05 16:48:41\", \"2019-01-07 23:48:11\"], \"y\": [14, 14], \"name\": 14}, {\"type\": \"scatter\", \"x\": [\"2018-12-05 18:23:59\", \"2019-01-07 23:48:09\"], \"y\": [15, 15], \"name\": 15}, {\"type\": \"scatter\", \"x\": [\"2018-12-06 22:12:11\", \"2019-01-07 23:48:07\"], \"y\": [16, 16], \"name\": 16}, {\"type\": \"scatter\", \"x\": [\"2018-12-13 20:42:08\", \"2019-01-07 23:48:17\"], \"y\": [17, 17], \"name\": 17}, {\"type\": \"scatter\", \"x\": [\"2018-12-18 17:18:33\", \"2019-01-07 23:48:08\"], \"y\": [18, 18], \"name\": 18}], {\"title\": \"Device reporting times\"}, {\"showLink\": true, \"linkText\": \"Export to plot.ly\"})});</script>"
      ]
     },
     "metadata": {},
     "output_type": "display_data"
    }
   ],
   "source": [
    "start_times=upload_df.groupby('SK_PI')['time'].min()\n",
    "end_times=upload_df.groupby('SK_PI')['time'].max()\n",
    "device_numbers=sorted(upload_df['SK_PI'].unique())\n",
    "#print(device_numbers)\n",
    "data=[]\n",
    "for device in device_numbers:\n",
    "    time_last=end_times[device]\n",
    "    time_first=start_times[device]\n",
    "    print(\"Device: \", device,\"  was reporting from \", time_first, \" to \", time_last)\n",
    "    trace = go.Scatter(x=[time_first,time_last],y=[device,device], name = device)\n",
    "    data.append(trace)\n",
    "layout = dict(title = \"Device reporting times\")\n",
    "fig = go.Figure(data=data, layout=layout)\n",
    "iplot(fig)"
   ]
  },
  {
   "cell_type": "markdown",
   "metadata": {},
   "source": [
    "### Test servers\n",
    "Are there any NaNs or empty strings?"
   ]
  },
  {
   "cell_type": "code",
   "execution_count": 27,
   "metadata": {},
   "outputs": [
    {
     "name": "stdout",
     "output_type": "stream",
     "text": [
      "0\n",
      "0\n",
      "0\n",
      "0\n"
     ]
    }
   ],
   "source": [
    "print(sum(pd.isnull(upload_df[\"TEST_SERVER\"])))\n",
    "print(sum(pd.isnull(upload_df[\"PROVINCE\"])))\n",
    "#print(upload_df[upload_df[[\"TEST_SERVER\",\"PROVINCE\"]].isnull().any(axis=1)])\n",
    "print(sum(upload_df[\"TEST_SERVER\"] == ''))\n",
    "print(sum(upload_df[\"PROVINCE\"] == ''))"
   ]
  },
  {
   "cell_type": "code",
   "execution_count": 17,
   "metadata": {},
   "outputs": [
    {
     "name": "stdout",
     "output_type": "stream",
     "text": [
      "There are  5  provinces:  [' MB)' 'iperf' ' AB)' ' SK)' ' ND)'] \n",
      "\n",
      "There are  22  test servers ['Shaw Communications (Winnipeg' 'Rogers (Winnipeg' 'clearskystatus.info'\n",
      " 'LES.NET (Winnipeg' 'Commstream Communications (Winnipeg'\n",
      " 'Voyageur Internet (Winnipeg' 'TELUS Mobility (Calgary'\n",
      " 'Axia Connect Ltd (Calgary' 'VOI Network Solutions (Winnipeg'\n",
      " 'Swift High Speed.com (Winnipeg' 'DataHive (Calgary'\n",
      " 'Westman Communications (Brandon' 'NetSet Communications (Brandon'\n",
      " 'Morenet (Morden' 'Valley Fiber (Winkler' 'RFNow Inc. (Virden'\n",
      " 'BlackSun Inc. (Saskatoon' 'SaskTel (Regina'\n",
      " 'Access Communications Co-operative Limited (Regina'\n",
      " 'Bell Mobility (Winnipeg' 'Cybera (Calgary' 'Midco (Minot'] \n",
      "\n",
      "There are  22  test servers+provinces ['Shaw Communications (Winnipeg  MB)' 'Rogers (Winnipeg  MB)'\n",
      " 'clearskystatus.info iperf' 'LES.NET (Winnipeg  MB)'\n",
      " 'Commstream Communications (Winnipeg  MB)'\n",
      " 'Voyageur Internet (Winnipeg  MB)' 'TELUS Mobility (Calgary  AB)'\n",
      " 'Axia Connect Ltd (Calgary  AB)' 'VOI Network Solutions (Winnipeg  MB)'\n",
      " 'Swift High Speed.com (Winnipeg  MB)' 'DataHive (Calgary  AB)'\n",
      " 'Westman Communications (Brandon  MB)'\n",
      " 'NetSet Communications (Brandon  MB)' 'Morenet (Morden  MB)'\n",
      " 'Valley Fiber (Winkler  MB)' 'RFNow Inc. (Virden  MB)'\n",
      " 'BlackSun Inc. (Saskatoon  SK)' 'SaskTel (Regina  SK)'\n",
      " 'Access Communications Co-operative Limited (Regina  SK)'\n",
      " 'Bell Mobility (Winnipeg  MB)' 'Cybera (Calgary  AB)' 'Midco (Minot  ND)'] \n",
      "\n"
     ]
    }
   ],
   "source": [
    "print(\"There are \",len(upload_df[\"PROVINCE\"].unique()), \" provinces: \", upload_df[\"PROVINCE\"].unique(), \"\\n\")\n",
    "print(\"There are \",len(upload_df[\"TEST_SERVER\"].unique()), \" test servers\", upload_df[\"TEST_SERVER\"].unique(), \"\\n\")\n",
    "\n",
    "pd.options.mode.chained_assignment = None\n",
    "upload_df[\"server\"] = upload_df[\"TEST_SERVER\"] + \" \" +upload_df[\"PROVINCE\"]\n",
    "print(\"There are \",len(upload_df[\"server\"].unique()), \" test servers+provinces\", upload_df[\"server\"].unique(), \"\\n\")"
   ]
  },
  {
   "cell_type": "markdown",
   "metadata": {},
   "source": [
    "#### How many test servers per device?"
   ]
  },
  {
   "cell_type": "code",
   "execution_count": 52,
   "metadata": {},
   "outputs": [
    {
     "data": {
      "application/vnd.plotly.v1+json": {
       "data": [
        {
         "labels": [
          5,
          8,
          6,
          4,
          3,
          9,
          7
         ],
         "type": "pie",
         "values": [
          5,
          3,
          3,
          2,
          2,
          1,
          1
         ]
        }
       ],
       "layout": {
        "title": "Number of test servers per device"
       }
      },
      "text/html": [
       "<div id=\"1f2da277-2f60-492d-ad2b-a33de8230a7c\" style=\"height: 525px; width: 100%;\" class=\"plotly-graph-div\"></div><script type=\"text/javascript\">require([\"plotly\"], function(Plotly) { window.PLOTLYENV=window.PLOTLYENV || {};window.PLOTLYENV.BASE_URL=\"https://plot.ly\";Plotly.newPlot(\"1f2da277-2f60-492d-ad2b-a33de8230a7c\", [{\"type\": \"pie\", \"labels\": [5, 8, 6, 4, 3, 9, 7], \"values\": [5, 3, 3, 2, 2, 1, 1]}], {\"title\": \"Number of test servers per device\"}, {\"showLink\": true, \"linkText\": \"Export to plot.ly\"})});</script>"
      ],
      "text/vnd.plotly.v1+html": [
       "<div id=\"1f2da277-2f60-492d-ad2b-a33de8230a7c\" style=\"height: 525px; width: 100%;\" class=\"plotly-graph-div\"></div><script type=\"text/javascript\">require([\"plotly\"], function(Plotly) { window.PLOTLYENV=window.PLOTLYENV || {};window.PLOTLYENV.BASE_URL=\"https://plot.ly\";Plotly.newPlot(\"1f2da277-2f60-492d-ad2b-a33de8230a7c\", [{\"type\": \"pie\", \"labels\": [5, 8, 6, 4, 3, 9, 7], \"values\": [5, 3, 3, 2, 2, 1, 1]}], {\"title\": \"Number of test servers per device\"}, {\"showLink\": true, \"linkText\": \"Export to plot.ly\"})});</script>"
      ]
     },
     "metadata": {},
     "output_type": "display_data"
    }
   ],
   "source": [
    "pd.options.mode.chained_assignment = None\n",
    "upload_df[\"server\"] = upload_df[\"TEST_SERVER\"] + \" \" +upload_df[\"PROVINCE\"]\n",
    "test_servers_per_device = upload_df.groupby('SK_PI').apply(lambda x: x['server'].unique()).apply(pd.Series)\n",
    "test_servers_per_device['server_count'] = test_servers_per_device.apply(lambda x: x.count(), axis=1)\n",
    "#print(test_servers_per_device[\"server_count\"].head())\n",
    "test_server_counts_per_device = pd.Series(test_servers_per_device['server_count']).value_counts().reset_index()\n",
    "#print(test_server_counts_per_device)\n",
    "#data = [go.Bar(\n",
    "#            x=test_servers_per_device.index,\n",
    "#            y=test_servers_per_device[\"server_count\"],\n",
    "#    )]\n",
    "data = [go.Pie(\n",
    "            labels=test_server_counts_per_device['index'],\n",
    "            values=test_server_counts_per_device[\"server_count\"],\n",
    "    )]\n",
    "layout = go.Layout(\n",
    "        #barmode='stack',\n",
    "        title=\"Number of test servers per device\"\n",
    "    )\n",
    "\n",
    "fig = go.Figure(data=data, layout=layout)\n",
    "#print(points_by_device)\n",
    "iplot(fig)"
   ]
  },
  {
   "cell_type": "markdown",
   "metadata": {},
   "source": [
    "Devices have different number of test servers: 3-9, how is it defined?"
   ]
  },
  {
   "cell_type": "code",
   "execution_count": 50,
   "metadata": {},
   "outputs": [
    {
     "data": {
      "application/vnd.plotly.v1+json": {
       "data": [
        {
         "name": "Shaw Communications (Winnipeg  MB)",
         "type": "bar",
         "x": [
          1,
          2,
          3,
          4,
          5,
          6,
          7,
          8,
          9,
          10,
          11,
          12,
          14,
          15,
          16,
          17,
          18
         ],
         "y": [
          4,
          25,
          0,
          127,
          64,
          1,
          30,
          0,
          0,
          32,
          0,
          12,
          75,
          44,
          0,
          0,
          0
         ]
        },
        {
         "name": "Rogers (Winnipeg  MB)",
         "type": "bar",
         "x": [
          1,
          2,
          3,
          4,
          5,
          6,
          7,
          8,
          9,
          10,
          11,
          12,
          14,
          15,
          16,
          17,
          18
         ],
         "y": [
          1,
          36,
          0,
          7,
          200,
          3,
          51,
          0,
          0,
          6,
          0,
          0,
          0,
          2,
          0,
          0,
          0
         ]
        },
        {
         "name": "clearskystatus.info iperf",
         "type": "bar",
         "x": [
          1,
          2,
          3,
          4,
          5,
          6,
          7,
          8,
          9,
          10,
          11,
          12,
          14,
          15,
          16,
          17,
          18
         ],
         "y": [
          4,
          105,
          21,
          70,
          82,
          26,
          51,
          2,
          8,
          0,
          3,
          4,
          0,
          0,
          0,
          0,
          0
         ]
        },
        {
         "name": "LES.NET (Winnipeg  MB)",
         "type": "bar",
         "x": [
          1,
          2,
          3,
          4,
          5,
          6,
          7,
          8,
          9,
          10,
          11,
          12,
          14,
          15,
          16,
          17,
          18
         ],
         "y": [
          1,
          15,
          0,
          6,
          55,
          1,
          50,
          5,
          0,
          28,
          40,
          74,
          38,
          53,
          0,
          0,
          28
         ]
        },
        {
         "name": "Commstream Communications (Winnipeg  MB)",
         "type": "bar",
         "x": [
          1,
          2,
          3,
          4,
          5,
          6,
          7,
          8,
          9,
          10,
          11,
          12,
          14,
          15,
          16,
          17,
          18
         ],
         "y": [
          0,
          2,
          0,
          2,
          34,
          0,
          19,
          9,
          0,
          44,
          62,
          93,
          32,
          10,
          0,
          0,
          46
         ]
        },
        {
         "name": "Voyageur Internet (Winnipeg  MB)",
         "type": "bar",
         "x": [
          1,
          2,
          3,
          4,
          5,
          6,
          7,
          8,
          9,
          10,
          11,
          12,
          14,
          15,
          16,
          17,
          18
         ],
         "y": [
          0,
          52,
          0,
          75,
          117,
          1,
          163,
          7,
          0,
          58,
          63,
          70,
          30,
          107,
          0,
          0,
          56
         ]
        },
        {
         "name": "TELUS Mobility (Calgary  AB)",
         "type": "bar",
         "x": [
          1,
          2,
          3,
          4,
          5,
          6,
          7,
          8,
          9,
          10,
          11,
          12,
          14,
          15,
          16,
          17,
          18
         ],
         "y": [
          0,
          0,
          3,
          0,
          0,
          0,
          0,
          0,
          0,
          0,
          0,
          0,
          0,
          0,
          0,
          0,
          0
         ]
        },
        {
         "name": "Axia Connect Ltd (Calgary  AB)",
         "type": "bar",
         "x": [
          1,
          2,
          3,
          4,
          5,
          6,
          7,
          8,
          9,
          10,
          11,
          12,
          14,
          15,
          16,
          17,
          18
         ],
         "y": [
          0,
          0,
          177,
          0,
          0,
          0,
          0,
          0,
          0,
          0,
          0,
          0,
          0,
          0,
          0,
          0,
          0
         ]
        },
        {
         "name": "VOI Network Solutions (Winnipeg  MB)",
         "type": "bar",
         "x": [
          1,
          2,
          3,
          4,
          5,
          6,
          7,
          8,
          9,
          10,
          11,
          12,
          14,
          15,
          16,
          17,
          18
         ],
         "y": [
          0,
          2,
          0,
          0,
          2,
          0,
          1,
          0,
          0,
          0,
          8,
          0,
          16,
          0,
          0,
          0,
          0
         ]
        },
        {
         "name": "Swift High Speed.com (Winnipeg  MB)",
         "type": "bar",
         "x": [
          1,
          2,
          3,
          4,
          5,
          6,
          7,
          8,
          9,
          10,
          11,
          12,
          14,
          15,
          16,
          17,
          18
         ],
         "y": [
          0,
          3,
          0,
          0,
          1,
          0,
          0,
          0,
          0,
          0,
          0,
          0,
          0,
          0,
          0,
          0,
          0
         ]
        },
        {
         "name": "DataHive (Calgary  AB)",
         "type": "bar",
         "x": [
          1,
          2,
          3,
          4,
          5,
          6,
          7,
          8,
          9,
          10,
          11,
          12,
          14,
          15,
          16,
          17,
          18
         ],
         "y": [
          0,
          0,
          28,
          0,
          0,
          0,
          0,
          0,
          0,
          0,
          0,
          0,
          0,
          0,
          0,
          0,
          0
         ]
        },
        {
         "name": "Westman Communications (Brandon  MB)",
         "type": "bar",
         "x": [
          1,
          2,
          3,
          4,
          5,
          6,
          7,
          8,
          9,
          10,
          11,
          12,
          14,
          15,
          16,
          17,
          18
         ],
         "y": [
          0,
          0,
          0,
          0,
          0,
          0,
          0,
          0,
          95,
          0,
          0,
          0,
          1,
          0,
          4,
          156,
          0
         ]
        },
        {
         "name": "NetSet Communications (Brandon  MB)",
         "type": "bar",
         "x": [
          1,
          2,
          3,
          4,
          5,
          6,
          7,
          8,
          9,
          10,
          11,
          12,
          14,
          15,
          16,
          17,
          18
         ],
         "y": [
          0,
          0,
          0,
          0,
          0,
          0,
          0,
          0,
          77,
          0,
          0,
          0,
          0,
          0,
          5,
          6,
          0
         ]
        },
        {
         "name": "Morenet (Morden  MB)",
         "type": "bar",
         "x": [
          1,
          2,
          3,
          4,
          5,
          6,
          7,
          8,
          9,
          10,
          11,
          12,
          14,
          15,
          16,
          17,
          18
         ],
         "y": [
          0,
          0,
          0,
          0,
          0,
          0,
          0,
          0,
          4,
          0,
          0,
          0,
          2,
          0,
          89,
          0,
          0
         ]
        },
        {
         "name": "Valley Fiber (Winkler  MB)",
         "type": "bar",
         "x": [
          1,
          2,
          3,
          4,
          5,
          6,
          7,
          8,
          9,
          10,
          11,
          12,
          14,
          15,
          16,
          17,
          18
         ],
         "y": [
          0,
          0,
          0,
          0,
          0,
          0,
          0,
          0,
          0,
          0,
          0,
          0,
          16,
          0,
          69,
          0,
          0
         ]
        },
        {
         "name": "RFNow Inc. (Virden  MB)",
         "type": "bar",
         "x": [
          1,
          2,
          3,
          4,
          5,
          6,
          7,
          8,
          9,
          10,
          11,
          12,
          14,
          15,
          16,
          17,
          18
         ],
         "y": [
          0,
          0,
          0,
          0,
          0,
          0,
          0,
          0,
          38,
          0,
          0,
          0,
          6,
          0,
          25,
          0,
          0
         ]
        },
        {
         "name": "BlackSun Inc. (Saskatoon  SK)",
         "type": "bar",
         "x": [
          1,
          2,
          3,
          4,
          5,
          6,
          7,
          8,
          9,
          10,
          11,
          12,
          14,
          15,
          16,
          17,
          18
         ],
         "y": [
          0,
          0,
          0,
          0,
          0,
          0,
          0,
          0,
          20,
          0,
          0,
          0,
          0,
          0,
          0,
          2,
          0
         ]
        },
        {
         "name": "SaskTel (Regina  SK)",
         "type": "bar",
         "x": [
          1,
          2,
          3,
          4,
          5,
          6,
          7,
          8,
          9,
          10,
          11,
          12,
          14,
          15,
          16,
          17,
          18
         ],
         "y": [
          0,
          0,
          0,
          0,
          0,
          0,
          0,
          0,
          13,
          0,
          0,
          0,
          0,
          0,
          0,
          0,
          0
         ]
        },
        {
         "name": "Access Communications Co-operative Limited (Regina  SK)",
         "type": "bar",
         "x": [
          1,
          2,
          3,
          4,
          5,
          6,
          7,
          8,
          9,
          10,
          11,
          12,
          14,
          15,
          16,
          17,
          18
         ],
         "y": [
          0,
          0,
          0,
          0,
          0,
          0,
          0,
          0,
          1,
          0,
          0,
          0,
          0,
          0,
          0,
          0,
          0
         ]
        },
        {
         "name": "Bell Mobility (Winnipeg  MB)",
         "type": "bar",
         "x": [
          1,
          2,
          3,
          4,
          5,
          6,
          7,
          8,
          9,
          10,
          11,
          12,
          14,
          15,
          16,
          17,
          18
         ],
         "y": [
          0,
          0,
          0,
          0,
          0,
          0,
          0,
          0,
          0,
          0,
          66,
          0,
          0,
          0,
          0,
          0,
          0
         ]
        },
        {
         "name": "Cybera (Calgary  AB)",
         "type": "bar",
         "x": [
          1,
          2,
          3,
          4,
          5,
          6,
          7,
          8,
          9,
          10,
          11,
          12,
          14,
          15,
          16,
          17,
          18
         ],
         "y": [
          0,
          0,
          70,
          0,
          0,
          0,
          0,
          0,
          0,
          0,
          0,
          0,
          0,
          0,
          0,
          0,
          0
         ]
        },
        {
         "name": "Midco (Minot  ND)",
         "type": "bar",
         "x": [
          1,
          2,
          3,
          4,
          5,
          6,
          7,
          8,
          9,
          10,
          11,
          12,
          14,
          15,
          16,
          17,
          18
         ],
         "y": [
          0,
          0,
          0,
          0,
          0,
          0,
          0,
          0,
          0,
          0,
          0,
          0,
          0,
          0,
          3,
          0,
          0
         ]
        }
       ],
       "layout": {
        "barmode": "stack",
        "title": "Number of data points per device per test server"
       }
      },
      "text/html": [
       "<div id=\"0dcee9d3-e45e-468f-91b1-7db2e094b7ad\" style=\"height: 525px; width: 100%;\" class=\"plotly-graph-div\"></div><script type=\"text/javascript\">require([\"plotly\"], function(Plotly) { window.PLOTLYENV=window.PLOTLYENV || {};window.PLOTLYENV.BASE_URL=\"https://plot.ly\";Plotly.newPlot(\"0dcee9d3-e45e-468f-91b1-7db2e094b7ad\", [{\"type\": \"bar\", \"x\": [1, 2, 3, 4, 5, 6, 7, 8, 9, 10, 11, 12, 14, 15, 16, 17, 18], \"y\": [4, 25, 0, 127, 64, 1, 30, 0, 0, 32, 0, 12, 75, 44, 0, 0, 0], \"name\": \"Shaw Communications (Winnipeg  MB)\"}, {\"type\": \"bar\", \"x\": [1, 2, 3, 4, 5, 6, 7, 8, 9, 10, 11, 12, 14, 15, 16, 17, 18], \"y\": [1, 36, 0, 7, 200, 3, 51, 0, 0, 6, 0, 0, 0, 2, 0, 0, 0], \"name\": \"Rogers (Winnipeg  MB)\"}, {\"type\": \"bar\", \"x\": [1, 2, 3, 4, 5, 6, 7, 8, 9, 10, 11, 12, 14, 15, 16, 17, 18], \"y\": [4, 105, 21, 70, 82, 26, 51, 2, 8, 0, 3, 4, 0, 0, 0, 0, 0], \"name\": \"clearskystatus.info iperf\"}, {\"type\": \"bar\", \"x\": [1, 2, 3, 4, 5, 6, 7, 8, 9, 10, 11, 12, 14, 15, 16, 17, 18], \"y\": [1, 15, 0, 6, 55, 1, 50, 5, 0, 28, 40, 74, 38, 53, 0, 0, 28], \"name\": \"LES.NET (Winnipeg  MB)\"}, {\"type\": \"bar\", \"x\": [1, 2, 3, 4, 5, 6, 7, 8, 9, 10, 11, 12, 14, 15, 16, 17, 18], \"y\": [0, 2, 0, 2, 34, 0, 19, 9, 0, 44, 62, 93, 32, 10, 0, 0, 46], \"name\": \"Commstream Communications (Winnipeg  MB)\"}, {\"type\": \"bar\", \"x\": [1, 2, 3, 4, 5, 6, 7, 8, 9, 10, 11, 12, 14, 15, 16, 17, 18], \"y\": [0, 52, 0, 75, 117, 1, 163, 7, 0, 58, 63, 70, 30, 107, 0, 0, 56], \"name\": \"Voyageur Internet (Winnipeg  MB)\"}, {\"type\": \"bar\", \"x\": [1, 2, 3, 4, 5, 6, 7, 8, 9, 10, 11, 12, 14, 15, 16, 17, 18], \"y\": [0, 0, 3, 0, 0, 0, 0, 0, 0, 0, 0, 0, 0, 0, 0, 0, 0], \"name\": \"TELUS Mobility (Calgary  AB)\"}, {\"type\": \"bar\", \"x\": [1, 2, 3, 4, 5, 6, 7, 8, 9, 10, 11, 12, 14, 15, 16, 17, 18], \"y\": [0, 0, 177, 0, 0, 0, 0, 0, 0, 0, 0, 0, 0, 0, 0, 0, 0], \"name\": \"Axia Connect Ltd (Calgary  AB)\"}, {\"type\": \"bar\", \"x\": [1, 2, 3, 4, 5, 6, 7, 8, 9, 10, 11, 12, 14, 15, 16, 17, 18], \"y\": [0, 2, 0, 0, 2, 0, 1, 0, 0, 0, 8, 0, 16, 0, 0, 0, 0], \"name\": \"VOI Network Solutions (Winnipeg  MB)\"}, {\"type\": \"bar\", \"x\": [1, 2, 3, 4, 5, 6, 7, 8, 9, 10, 11, 12, 14, 15, 16, 17, 18], \"y\": [0, 3, 0, 0, 1, 0, 0, 0, 0, 0, 0, 0, 0, 0, 0, 0, 0], \"name\": \"Swift High Speed.com (Winnipeg  MB)\"}, {\"type\": \"bar\", \"x\": [1, 2, 3, 4, 5, 6, 7, 8, 9, 10, 11, 12, 14, 15, 16, 17, 18], \"y\": [0, 0, 28, 0, 0, 0, 0, 0, 0, 0, 0, 0, 0, 0, 0, 0, 0], \"name\": \"DataHive (Calgary  AB)\"}, {\"type\": \"bar\", \"x\": [1, 2, 3, 4, 5, 6, 7, 8, 9, 10, 11, 12, 14, 15, 16, 17, 18], \"y\": [0, 0, 0, 0, 0, 0, 0, 0, 95, 0, 0, 0, 1, 0, 4, 156, 0], \"name\": \"Westman Communications (Brandon  MB)\"}, {\"type\": \"bar\", \"x\": [1, 2, 3, 4, 5, 6, 7, 8, 9, 10, 11, 12, 14, 15, 16, 17, 18], \"y\": [0, 0, 0, 0, 0, 0, 0, 0, 77, 0, 0, 0, 0, 0, 5, 6, 0], \"name\": \"NetSet Communications (Brandon  MB)\"}, {\"type\": \"bar\", \"x\": [1, 2, 3, 4, 5, 6, 7, 8, 9, 10, 11, 12, 14, 15, 16, 17, 18], \"y\": [0, 0, 0, 0, 0, 0, 0, 0, 4, 0, 0, 0, 2, 0, 89, 0, 0], \"name\": \"Morenet (Morden  MB)\"}, {\"type\": \"bar\", \"x\": [1, 2, 3, 4, 5, 6, 7, 8, 9, 10, 11, 12, 14, 15, 16, 17, 18], \"y\": [0, 0, 0, 0, 0, 0, 0, 0, 0, 0, 0, 0, 16, 0, 69, 0, 0], \"name\": \"Valley Fiber (Winkler  MB)\"}, {\"type\": \"bar\", \"x\": [1, 2, 3, 4, 5, 6, 7, 8, 9, 10, 11, 12, 14, 15, 16, 17, 18], \"y\": [0, 0, 0, 0, 0, 0, 0, 0, 38, 0, 0, 0, 6, 0, 25, 0, 0], \"name\": \"RFNow Inc. (Virden  MB)\"}, {\"type\": \"bar\", \"x\": [1, 2, 3, 4, 5, 6, 7, 8, 9, 10, 11, 12, 14, 15, 16, 17, 18], \"y\": [0, 0, 0, 0, 0, 0, 0, 0, 20, 0, 0, 0, 0, 0, 0, 2, 0], \"name\": \"BlackSun Inc. (Saskatoon  SK)\"}, {\"type\": \"bar\", \"x\": [1, 2, 3, 4, 5, 6, 7, 8, 9, 10, 11, 12, 14, 15, 16, 17, 18], \"y\": [0, 0, 0, 0, 0, 0, 0, 0, 13, 0, 0, 0, 0, 0, 0, 0, 0], \"name\": \"SaskTel (Regina  SK)\"}, {\"type\": \"bar\", \"x\": [1, 2, 3, 4, 5, 6, 7, 8, 9, 10, 11, 12, 14, 15, 16, 17, 18], \"y\": [0, 0, 0, 0, 0, 0, 0, 0, 1, 0, 0, 0, 0, 0, 0, 0, 0], \"name\": \"Access Communications Co-operative Limited (Regina  SK)\"}, {\"type\": \"bar\", \"x\": [1, 2, 3, 4, 5, 6, 7, 8, 9, 10, 11, 12, 14, 15, 16, 17, 18], \"y\": [0, 0, 0, 0, 0, 0, 0, 0, 0, 0, 66, 0, 0, 0, 0, 0, 0], \"name\": \"Bell Mobility (Winnipeg  MB)\"}, {\"type\": \"bar\", \"x\": [1, 2, 3, 4, 5, 6, 7, 8, 9, 10, 11, 12, 14, 15, 16, 17, 18], \"y\": [0, 0, 70, 0, 0, 0, 0, 0, 0, 0, 0, 0, 0, 0, 0, 0, 0], \"name\": \"Cybera (Calgary  AB)\"}, {\"type\": \"bar\", \"x\": [1, 2, 3, 4, 5, 6, 7, 8, 9, 10, 11, 12, 14, 15, 16, 17, 18], \"y\": [0, 0, 0, 0, 0, 0, 0, 0, 0, 0, 0, 0, 0, 0, 3, 0, 0], \"name\": \"Midco (Minot  ND)\"}], {\"barmode\": \"stack\", \"title\": \"Number of data points per device per test server\"}, {\"showLink\": true, \"linkText\": \"Export to plot.ly\"})});</script>"
      ],
      "text/vnd.plotly.v1+html": [
       "<div id=\"0dcee9d3-e45e-468f-91b1-7db2e094b7ad\" style=\"height: 525px; width: 100%;\" class=\"plotly-graph-div\"></div><script type=\"text/javascript\">require([\"plotly\"], function(Plotly) { window.PLOTLYENV=window.PLOTLYENV || {};window.PLOTLYENV.BASE_URL=\"https://plot.ly\";Plotly.newPlot(\"0dcee9d3-e45e-468f-91b1-7db2e094b7ad\", [{\"type\": \"bar\", \"x\": [1, 2, 3, 4, 5, 6, 7, 8, 9, 10, 11, 12, 14, 15, 16, 17, 18], \"y\": [4, 25, 0, 127, 64, 1, 30, 0, 0, 32, 0, 12, 75, 44, 0, 0, 0], \"name\": \"Shaw Communications (Winnipeg  MB)\"}, {\"type\": \"bar\", \"x\": [1, 2, 3, 4, 5, 6, 7, 8, 9, 10, 11, 12, 14, 15, 16, 17, 18], \"y\": [1, 36, 0, 7, 200, 3, 51, 0, 0, 6, 0, 0, 0, 2, 0, 0, 0], \"name\": \"Rogers (Winnipeg  MB)\"}, {\"type\": \"bar\", \"x\": [1, 2, 3, 4, 5, 6, 7, 8, 9, 10, 11, 12, 14, 15, 16, 17, 18], \"y\": [4, 105, 21, 70, 82, 26, 51, 2, 8, 0, 3, 4, 0, 0, 0, 0, 0], \"name\": \"clearskystatus.info iperf\"}, {\"type\": \"bar\", \"x\": [1, 2, 3, 4, 5, 6, 7, 8, 9, 10, 11, 12, 14, 15, 16, 17, 18], \"y\": [1, 15, 0, 6, 55, 1, 50, 5, 0, 28, 40, 74, 38, 53, 0, 0, 28], \"name\": \"LES.NET (Winnipeg  MB)\"}, {\"type\": \"bar\", \"x\": [1, 2, 3, 4, 5, 6, 7, 8, 9, 10, 11, 12, 14, 15, 16, 17, 18], \"y\": [0, 2, 0, 2, 34, 0, 19, 9, 0, 44, 62, 93, 32, 10, 0, 0, 46], \"name\": \"Commstream Communications (Winnipeg  MB)\"}, {\"type\": \"bar\", \"x\": [1, 2, 3, 4, 5, 6, 7, 8, 9, 10, 11, 12, 14, 15, 16, 17, 18], \"y\": [0, 52, 0, 75, 117, 1, 163, 7, 0, 58, 63, 70, 30, 107, 0, 0, 56], \"name\": \"Voyageur Internet (Winnipeg  MB)\"}, {\"type\": \"bar\", \"x\": [1, 2, 3, 4, 5, 6, 7, 8, 9, 10, 11, 12, 14, 15, 16, 17, 18], \"y\": [0, 0, 3, 0, 0, 0, 0, 0, 0, 0, 0, 0, 0, 0, 0, 0, 0], \"name\": \"TELUS Mobility (Calgary  AB)\"}, {\"type\": \"bar\", \"x\": [1, 2, 3, 4, 5, 6, 7, 8, 9, 10, 11, 12, 14, 15, 16, 17, 18], \"y\": [0, 0, 177, 0, 0, 0, 0, 0, 0, 0, 0, 0, 0, 0, 0, 0, 0], \"name\": \"Axia Connect Ltd (Calgary  AB)\"}, {\"type\": \"bar\", \"x\": [1, 2, 3, 4, 5, 6, 7, 8, 9, 10, 11, 12, 14, 15, 16, 17, 18], \"y\": [0, 2, 0, 0, 2, 0, 1, 0, 0, 0, 8, 0, 16, 0, 0, 0, 0], \"name\": \"VOI Network Solutions (Winnipeg  MB)\"}, {\"type\": \"bar\", \"x\": [1, 2, 3, 4, 5, 6, 7, 8, 9, 10, 11, 12, 14, 15, 16, 17, 18], \"y\": [0, 3, 0, 0, 1, 0, 0, 0, 0, 0, 0, 0, 0, 0, 0, 0, 0], \"name\": \"Swift High Speed.com (Winnipeg  MB)\"}, {\"type\": \"bar\", \"x\": [1, 2, 3, 4, 5, 6, 7, 8, 9, 10, 11, 12, 14, 15, 16, 17, 18], \"y\": [0, 0, 28, 0, 0, 0, 0, 0, 0, 0, 0, 0, 0, 0, 0, 0, 0], \"name\": \"DataHive (Calgary  AB)\"}, {\"type\": \"bar\", \"x\": [1, 2, 3, 4, 5, 6, 7, 8, 9, 10, 11, 12, 14, 15, 16, 17, 18], \"y\": [0, 0, 0, 0, 0, 0, 0, 0, 95, 0, 0, 0, 1, 0, 4, 156, 0], \"name\": \"Westman Communications (Brandon  MB)\"}, {\"type\": \"bar\", \"x\": [1, 2, 3, 4, 5, 6, 7, 8, 9, 10, 11, 12, 14, 15, 16, 17, 18], \"y\": [0, 0, 0, 0, 0, 0, 0, 0, 77, 0, 0, 0, 0, 0, 5, 6, 0], \"name\": \"NetSet Communications (Brandon  MB)\"}, {\"type\": \"bar\", \"x\": [1, 2, 3, 4, 5, 6, 7, 8, 9, 10, 11, 12, 14, 15, 16, 17, 18], \"y\": [0, 0, 0, 0, 0, 0, 0, 0, 4, 0, 0, 0, 2, 0, 89, 0, 0], \"name\": \"Morenet (Morden  MB)\"}, {\"type\": \"bar\", \"x\": [1, 2, 3, 4, 5, 6, 7, 8, 9, 10, 11, 12, 14, 15, 16, 17, 18], \"y\": [0, 0, 0, 0, 0, 0, 0, 0, 0, 0, 0, 0, 16, 0, 69, 0, 0], \"name\": \"Valley Fiber (Winkler  MB)\"}, {\"type\": \"bar\", \"x\": [1, 2, 3, 4, 5, 6, 7, 8, 9, 10, 11, 12, 14, 15, 16, 17, 18], \"y\": [0, 0, 0, 0, 0, 0, 0, 0, 38, 0, 0, 0, 6, 0, 25, 0, 0], \"name\": \"RFNow Inc. (Virden  MB)\"}, {\"type\": \"bar\", \"x\": [1, 2, 3, 4, 5, 6, 7, 8, 9, 10, 11, 12, 14, 15, 16, 17, 18], \"y\": [0, 0, 0, 0, 0, 0, 0, 0, 20, 0, 0, 0, 0, 0, 0, 2, 0], \"name\": \"BlackSun Inc. (Saskatoon  SK)\"}, {\"type\": \"bar\", \"x\": [1, 2, 3, 4, 5, 6, 7, 8, 9, 10, 11, 12, 14, 15, 16, 17, 18], \"y\": [0, 0, 0, 0, 0, 0, 0, 0, 13, 0, 0, 0, 0, 0, 0, 0, 0], \"name\": \"SaskTel (Regina  SK)\"}, {\"type\": \"bar\", \"x\": [1, 2, 3, 4, 5, 6, 7, 8, 9, 10, 11, 12, 14, 15, 16, 17, 18], \"y\": [0, 0, 0, 0, 0, 0, 0, 0, 1, 0, 0, 0, 0, 0, 0, 0, 0], \"name\": \"Access Communications Co-operative Limited (Regina  SK)\"}, {\"type\": \"bar\", \"x\": [1, 2, 3, 4, 5, 6, 7, 8, 9, 10, 11, 12, 14, 15, 16, 17, 18], \"y\": [0, 0, 0, 0, 0, 0, 0, 0, 0, 0, 66, 0, 0, 0, 0, 0, 0], \"name\": \"Bell Mobility (Winnipeg  MB)\"}, {\"type\": \"bar\", \"x\": [1, 2, 3, 4, 5, 6, 7, 8, 9, 10, 11, 12, 14, 15, 16, 17, 18], \"y\": [0, 0, 70, 0, 0, 0, 0, 0, 0, 0, 0, 0, 0, 0, 0, 0, 0], \"name\": \"Cybera (Calgary  AB)\"}, {\"type\": \"bar\", \"x\": [1, 2, 3, 4, 5, 6, 7, 8, 9, 10, 11, 12, 14, 15, 16, 17, 18], \"y\": [0, 0, 0, 0, 0, 0, 0, 0, 0, 0, 0, 0, 0, 0, 3, 0, 0], \"name\": \"Midco (Minot  ND)\"}], {\"barmode\": \"stack\", \"title\": \"Number of data points per device per test server\"}, {\"showLink\": true, \"linkText\": \"Export to plot.ly\"})});</script>"
      ]
     },
     "metadata": {},
     "output_type": "display_data"
    }
   ],
   "source": [
    "points_by_device_by_server=upload_df.groupby(['SK_PI', 'server']).size().reset_index()\n",
    "test_servers=upload_df[\"server\"].unique()\n",
    "data=[]\n",
    "for server in test_servers:\n",
    "    serv=[]\n",
    "    for device in device_numbers:\n",
    "        by_server=points_by_device_by_server.loc[(points_by_device_by_server['SK_PI']==device)&(points_by_device_by_server['server']==server)]\n",
    "        if not by_server.empty:\n",
    "            serv.append(by_server[0].iloc[0])\n",
    "        else:\n",
    "            serv.append(0)\n",
    "    trace = go.Bar(x=device_numbers,y=serv, name = server)\n",
    "    data.append(trace)\n",
    "    layout = go.Layout(\n",
    "        barmode='stack',\n",
    "        title=\"Number of data points per device per test server\"\n",
    "    )\n",
    "fig = go.Figure(data=data, layout=layout)\n",
    "iplot(fig)"
   ]
  },
  {
   "cell_type": "markdown",
   "metadata": {},
   "source": [
    "### Providers\n",
    "Are there any NaNs or empty strings?"
   ]
  },
  {
   "cell_type": "code",
   "execution_count": 20,
   "metadata": {},
   "outputs": [
    {
     "name": "stdout",
     "output_type": "stream",
     "text": [
      "0\n",
      "0\n"
     ]
    }
   ],
   "source": [
    "print(sum(pd.isnull(upload_df[\"PROVIDER\"])))\n",
    "print(sum(upload_df[\"PROVIDER\"] == ''))"
   ]
  },
  {
   "cell_type": "code",
   "execution_count": 21,
   "metadata": {},
   "outputs": [
    {
     "name": "stdout",
     "output_type": "stream",
     "text": [
      "There are  11  providers ['Bell MTS' 'iperf' 'Cybera' 'MERLIN' 'High Speed Crow'\n",
      " 'Cogent Communications' 'Xplornet Communications'\n",
      " 'Commstream Communications' 'Keewaytinook Okimakanak' 'TeraGo Networks'\n",
      " 'Manitoba Hydro International'] \n",
      "\n"
     ]
    }
   ],
   "source": [
    "print(\"There are \",len(upload_df[\"PROVIDER\"].unique()), \" providers\", upload_df[\"PROVIDER\"].unique(), \"\\n\")"
   ]
  },
  {
   "cell_type": "markdown",
   "metadata": {},
   "source": [
    "#### How many providers per device?"
   ]
  },
  {
   "cell_type": "code",
   "execution_count": 53,
   "metadata": {},
   "outputs": [],
   "source": [
    "providers_per_device = upload_df.groupby('SK_PI').apply(lambda x: x[\"PROVIDER\"].unique()).apply(pd.Series)\n",
    "providers_per_device['provider_count'] = providers_per_device.apply(lambda x: x.count(), axis=1)\n",
    "#providers_per_device.head()\n",
    "provider_counts_per_device = pd.Series(providers_per_device['provider_count']).value_counts().reset_index()\n",
    "#provider_counts_per_device"
   ]
  },
  {
   "cell_type": "code",
   "execution_count": 54,
   "metadata": {},
   "outputs": [
    {
     "data": {
      "application/vnd.plotly.v1+json": {
       "data": [
        {
         "labels": [
          2,
          1,
          3
         ],
         "type": "pie",
         "values": [
          11,
          5,
          1
         ]
        }
       ],
       "layout": {
        "title": "Number of providers per device"
       }
      },
      "text/html": [
       "<div id=\"9e29eb08-4d0d-468a-8be0-f2d662e204b0\" style=\"height: 525px; width: 100%;\" class=\"plotly-graph-div\"></div><script type=\"text/javascript\">require([\"plotly\"], function(Plotly) { window.PLOTLYENV=window.PLOTLYENV || {};window.PLOTLYENV.BASE_URL=\"https://plot.ly\";Plotly.newPlot(\"9e29eb08-4d0d-468a-8be0-f2d662e204b0\", [{\"type\": \"pie\", \"labels\": [2, 1, 3], \"values\": [11, 5, 1]}], {\"title\": \"Number of providers per device\"}, {\"showLink\": true, \"linkText\": \"Export to plot.ly\"})});</script>"
      ],
      "text/vnd.plotly.v1+html": [
       "<div id=\"9e29eb08-4d0d-468a-8be0-f2d662e204b0\" style=\"height: 525px; width: 100%;\" class=\"plotly-graph-div\"></div><script type=\"text/javascript\">require([\"plotly\"], function(Plotly) { window.PLOTLYENV=window.PLOTLYENV || {};window.PLOTLYENV.BASE_URL=\"https://plot.ly\";Plotly.newPlot(\"9e29eb08-4d0d-468a-8be0-f2d662e204b0\", [{\"type\": \"pie\", \"labels\": [2, 1, 3], \"values\": [11, 5, 1]}], {\"title\": \"Number of providers per device\"}, {\"showLink\": true, \"linkText\": \"Export to plot.ly\"})});</script>"
      ]
     },
     "metadata": {},
     "output_type": "display_data"
    }
   ],
   "source": [
    "#data = [go.Bar(\n",
    "#            x=providers_per_device.index,\n",
    "#            y=providers_per_device[\"provider_count\"],\n",
    "#    )]\n",
    "data = [go.Pie(\n",
    "            labels=provider_counts_per_device['index'],\n",
    "            values=provider_counts_per_device[\"provider_count\"],\n",
    "    )]\n",
    "layout = go.Layout(\n",
    "        #barmode='stack',\n",
    "        title=\"Number of providers per device\"\n",
    "    )\n",
    "\n",
    "fig = go.Figure(data=data, layout=layout)\n",
    "iplot(fig)"
   ]
  },
  {
   "cell_type": "markdown",
   "metadata": {},
   "source": [
    "64% of the devices (11 out of 17) use 2 network providers. 1 device uses 3 providers. How is it defined?"
   ]
  },
  {
   "cell_type": "code",
   "execution_count": 55,
   "metadata": {},
   "outputs": [
    {
     "data": {
      "application/vnd.plotly.v1+json": {
       "data": [
        {
         "name": "Bell MTS",
         "type": "bar",
         "x": [
          1,
          2,
          3,
          4,
          5,
          6,
          7,
          8,
          9,
          10,
          11,
          12,
          14,
          15,
          16,
          17,
          18
         ],
         "y": [
          6,
          135,
          0,
          217,
          473,
          6,
          314,
          0,
          0,
          0,
          0,
          0,
          0,
          216,
          195,
          0,
          0
         ]
        },
        {
         "name": "iperf",
         "type": "bar",
         "x": [
          1,
          2,
          3,
          4,
          5,
          6,
          7,
          8,
          9,
          10,
          11,
          12,
          14,
          15,
          16,
          17,
          18
         ],
         "y": [
          4,
          105,
          21,
          70,
          82,
          26,
          51,
          2,
          8,
          0,
          3,
          4,
          0,
          0,
          0,
          0,
          0
         ]
        },
        {
         "name": "Cybera",
         "type": "bar",
         "x": [
          1,
          2,
          3,
          4,
          5,
          6,
          7,
          8,
          9,
          10,
          11,
          12,
          14,
          15,
          16,
          17,
          18
         ],
         "y": [
          0,
          0,
          278,
          0,
          0,
          0,
          0,
          0,
          0,
          0,
          0,
          0,
          0,
          0,
          0,
          0,
          0
         ]
        },
        {
         "name": "MERLIN",
         "type": "bar",
         "x": [
          1,
          2,
          3,
          4,
          5,
          6,
          7,
          8,
          9,
          10,
          11,
          12,
          14,
          15,
          16,
          17,
          18
         ],
         "y": [
          0,
          0,
          0,
          0,
          0,
          0,
          0,
          8,
          0,
          0,
          0,
          0,
          0,
          0,
          0,
          0,
          0
         ]
        },
        {
         "name": "High Speed Crow",
         "type": "bar",
         "x": [
          1,
          2,
          3,
          4,
          5,
          6,
          7,
          8,
          9,
          10,
          11,
          12,
          14,
          15,
          16,
          17,
          18
         ],
         "y": [
          0,
          0,
          0,
          0,
          0,
          0,
          0,
          0,
          0,
          0,
          0,
          249,
          0,
          0,
          0,
          0,
          0
         ]
        },
        {
         "name": "Cogent Communications",
         "type": "bar",
         "x": [
          1,
          2,
          3,
          4,
          5,
          6,
          7,
          8,
          9,
          10,
          11,
          12,
          14,
          15,
          16,
          17,
          18
         ],
         "y": [
          0,
          0,
          0,
          0,
          0,
          0,
          0,
          0,
          0,
          0,
          239,
          0,
          0,
          0,
          0,
          0,
          0
         ]
        },
        {
         "name": "Xplornet Communications",
         "type": "bar",
         "x": [
          1,
          2,
          3,
          4,
          5,
          6,
          7,
          8,
          9,
          10,
          11,
          12,
          14,
          15,
          16,
          17,
          18
         ],
         "y": [
          0,
          0,
          0,
          0,
          0,
          0,
          0,
          0,
          248,
          0,
          0,
          0,
          0,
          0,
          0,
          0,
          0
         ]
        },
        {
         "name": "Commstream Communications",
         "type": "bar",
         "x": [
          1,
          2,
          3,
          4,
          5,
          6,
          7,
          8,
          9,
          10,
          11,
          12,
          14,
          15,
          16,
          17,
          18
         ],
         "y": [
          0,
          0,
          0,
          0,
          0,
          0,
          0,
          13,
          0,
          0,
          0,
          0,
          0,
          0,
          0,
          0,
          0
         ]
        },
        {
         "name": "Keewaytinook Okimakanak",
         "type": "bar",
         "x": [
          1,
          2,
          3,
          4,
          5,
          6,
          7,
          8,
          9,
          10,
          11,
          12,
          14,
          15,
          16,
          17,
          18
         ],
         "y": [
          0,
          0,
          0,
          0,
          0,
          0,
          0,
          0,
          0,
          0,
          0,
          0,
          57,
          0,
          0,
          164,
          130
         ]
        },
        {
         "name": "TeraGo Networks",
         "type": "bar",
         "x": [
          1,
          2,
          3,
          4,
          5,
          6,
          7,
          8,
          9,
          10,
          11,
          12,
          14,
          15,
          16,
          17,
          18
         ],
         "y": [
          0,
          0,
          0,
          0,
          0,
          0,
          0,
          0,
          0,
          168,
          0,
          0,
          0,
          0,
          0,
          0,
          0
         ]
        },
        {
         "name": "Manitoba Hydro International",
         "type": "bar",
         "x": [
          1,
          2,
          3,
          4,
          5,
          6,
          7,
          8,
          9,
          10,
          11,
          12,
          14,
          15,
          16,
          17,
          18
         ],
         "y": [
          0,
          0,
          0,
          0,
          0,
          0,
          0,
          0,
          0,
          0,
          0,
          0,
          159,
          0,
          0,
          0,
          0
         ]
        }
       ],
       "layout": {
        "barmode": "stack",
        "title": "Number of data points per device per provider"
       }
      },
      "text/html": [
       "<div id=\"5ae29ac5-ff13-44be-a012-d348a9df6a68\" style=\"height: 525px; width: 100%;\" class=\"plotly-graph-div\"></div><script type=\"text/javascript\">require([\"plotly\"], function(Plotly) { window.PLOTLYENV=window.PLOTLYENV || {};window.PLOTLYENV.BASE_URL=\"https://plot.ly\";Plotly.newPlot(\"5ae29ac5-ff13-44be-a012-d348a9df6a68\", [{\"type\": \"bar\", \"x\": [1, 2, 3, 4, 5, 6, 7, 8, 9, 10, 11, 12, 14, 15, 16, 17, 18], \"y\": [6, 135, 0, 217, 473, 6, 314, 0, 0, 0, 0, 0, 0, 216, 195, 0, 0], \"name\": \"Bell MTS\"}, {\"type\": \"bar\", \"x\": [1, 2, 3, 4, 5, 6, 7, 8, 9, 10, 11, 12, 14, 15, 16, 17, 18], \"y\": [4, 105, 21, 70, 82, 26, 51, 2, 8, 0, 3, 4, 0, 0, 0, 0, 0], \"name\": \"iperf\"}, {\"type\": \"bar\", \"x\": [1, 2, 3, 4, 5, 6, 7, 8, 9, 10, 11, 12, 14, 15, 16, 17, 18], \"y\": [0, 0, 278, 0, 0, 0, 0, 0, 0, 0, 0, 0, 0, 0, 0, 0, 0], \"name\": \"Cybera\"}, {\"type\": \"bar\", \"x\": [1, 2, 3, 4, 5, 6, 7, 8, 9, 10, 11, 12, 14, 15, 16, 17, 18], \"y\": [0, 0, 0, 0, 0, 0, 0, 8, 0, 0, 0, 0, 0, 0, 0, 0, 0], \"name\": \"MERLIN\"}, {\"type\": \"bar\", \"x\": [1, 2, 3, 4, 5, 6, 7, 8, 9, 10, 11, 12, 14, 15, 16, 17, 18], \"y\": [0, 0, 0, 0, 0, 0, 0, 0, 0, 0, 0, 249, 0, 0, 0, 0, 0], \"name\": \"High Speed Crow\"}, {\"type\": \"bar\", \"x\": [1, 2, 3, 4, 5, 6, 7, 8, 9, 10, 11, 12, 14, 15, 16, 17, 18], \"y\": [0, 0, 0, 0, 0, 0, 0, 0, 0, 0, 239, 0, 0, 0, 0, 0, 0], \"name\": \"Cogent Communications\"}, {\"type\": \"bar\", \"x\": [1, 2, 3, 4, 5, 6, 7, 8, 9, 10, 11, 12, 14, 15, 16, 17, 18], \"y\": [0, 0, 0, 0, 0, 0, 0, 0, 248, 0, 0, 0, 0, 0, 0, 0, 0], \"name\": \"Xplornet Communications\"}, {\"type\": \"bar\", \"x\": [1, 2, 3, 4, 5, 6, 7, 8, 9, 10, 11, 12, 14, 15, 16, 17, 18], \"y\": [0, 0, 0, 0, 0, 0, 0, 13, 0, 0, 0, 0, 0, 0, 0, 0, 0], \"name\": \"Commstream Communications\"}, {\"type\": \"bar\", \"x\": [1, 2, 3, 4, 5, 6, 7, 8, 9, 10, 11, 12, 14, 15, 16, 17, 18], \"y\": [0, 0, 0, 0, 0, 0, 0, 0, 0, 0, 0, 0, 57, 0, 0, 164, 130], \"name\": \"Keewaytinook Okimakanak\"}, {\"type\": \"bar\", \"x\": [1, 2, 3, 4, 5, 6, 7, 8, 9, 10, 11, 12, 14, 15, 16, 17, 18], \"y\": [0, 0, 0, 0, 0, 0, 0, 0, 0, 168, 0, 0, 0, 0, 0, 0, 0], \"name\": \"TeraGo Networks\"}, {\"type\": \"bar\", \"x\": [1, 2, 3, 4, 5, 6, 7, 8, 9, 10, 11, 12, 14, 15, 16, 17, 18], \"y\": [0, 0, 0, 0, 0, 0, 0, 0, 0, 0, 0, 0, 159, 0, 0, 0, 0], \"name\": \"Manitoba Hydro International\"}], {\"barmode\": \"stack\", \"title\": \"Number of data points per device per provider\"}, {\"showLink\": true, \"linkText\": \"Export to plot.ly\"})});</script>"
      ],
      "text/vnd.plotly.v1+html": [
       "<div id=\"5ae29ac5-ff13-44be-a012-d348a9df6a68\" style=\"height: 525px; width: 100%;\" class=\"plotly-graph-div\"></div><script type=\"text/javascript\">require([\"plotly\"], function(Plotly) { window.PLOTLYENV=window.PLOTLYENV || {};window.PLOTLYENV.BASE_URL=\"https://plot.ly\";Plotly.newPlot(\"5ae29ac5-ff13-44be-a012-d348a9df6a68\", [{\"type\": \"bar\", \"x\": [1, 2, 3, 4, 5, 6, 7, 8, 9, 10, 11, 12, 14, 15, 16, 17, 18], \"y\": [6, 135, 0, 217, 473, 6, 314, 0, 0, 0, 0, 0, 0, 216, 195, 0, 0], \"name\": \"Bell MTS\"}, {\"type\": \"bar\", \"x\": [1, 2, 3, 4, 5, 6, 7, 8, 9, 10, 11, 12, 14, 15, 16, 17, 18], \"y\": [4, 105, 21, 70, 82, 26, 51, 2, 8, 0, 3, 4, 0, 0, 0, 0, 0], \"name\": \"iperf\"}, {\"type\": \"bar\", \"x\": [1, 2, 3, 4, 5, 6, 7, 8, 9, 10, 11, 12, 14, 15, 16, 17, 18], \"y\": [0, 0, 278, 0, 0, 0, 0, 0, 0, 0, 0, 0, 0, 0, 0, 0, 0], \"name\": \"Cybera\"}, {\"type\": \"bar\", \"x\": [1, 2, 3, 4, 5, 6, 7, 8, 9, 10, 11, 12, 14, 15, 16, 17, 18], \"y\": [0, 0, 0, 0, 0, 0, 0, 8, 0, 0, 0, 0, 0, 0, 0, 0, 0], \"name\": \"MERLIN\"}, {\"type\": \"bar\", \"x\": [1, 2, 3, 4, 5, 6, 7, 8, 9, 10, 11, 12, 14, 15, 16, 17, 18], \"y\": [0, 0, 0, 0, 0, 0, 0, 0, 0, 0, 0, 249, 0, 0, 0, 0, 0], \"name\": \"High Speed Crow\"}, {\"type\": \"bar\", \"x\": [1, 2, 3, 4, 5, 6, 7, 8, 9, 10, 11, 12, 14, 15, 16, 17, 18], \"y\": [0, 0, 0, 0, 0, 0, 0, 0, 0, 0, 239, 0, 0, 0, 0, 0, 0], \"name\": \"Cogent Communications\"}, {\"type\": \"bar\", \"x\": [1, 2, 3, 4, 5, 6, 7, 8, 9, 10, 11, 12, 14, 15, 16, 17, 18], \"y\": [0, 0, 0, 0, 0, 0, 0, 0, 248, 0, 0, 0, 0, 0, 0, 0, 0], \"name\": \"Xplornet Communications\"}, {\"type\": \"bar\", \"x\": [1, 2, 3, 4, 5, 6, 7, 8, 9, 10, 11, 12, 14, 15, 16, 17, 18], \"y\": [0, 0, 0, 0, 0, 0, 0, 13, 0, 0, 0, 0, 0, 0, 0, 0, 0], \"name\": \"Commstream Communications\"}, {\"type\": \"bar\", \"x\": [1, 2, 3, 4, 5, 6, 7, 8, 9, 10, 11, 12, 14, 15, 16, 17, 18], \"y\": [0, 0, 0, 0, 0, 0, 0, 0, 0, 0, 0, 0, 57, 0, 0, 164, 130], \"name\": \"Keewaytinook Okimakanak\"}, {\"type\": \"bar\", \"x\": [1, 2, 3, 4, 5, 6, 7, 8, 9, 10, 11, 12, 14, 15, 16, 17, 18], \"y\": [0, 0, 0, 0, 0, 0, 0, 0, 0, 168, 0, 0, 0, 0, 0, 0, 0], \"name\": \"TeraGo Networks\"}, {\"type\": \"bar\", \"x\": [1, 2, 3, 4, 5, 6, 7, 8, 9, 10, 11, 12, 14, 15, 16, 17, 18], \"y\": [0, 0, 0, 0, 0, 0, 0, 0, 0, 0, 0, 0, 159, 0, 0, 0, 0], \"name\": \"Manitoba Hydro International\"}], {\"barmode\": \"stack\", \"title\": \"Number of data points per device per provider\"}, {\"showLink\": true, \"linkText\": \"Export to plot.ly\"})});</script>"
      ]
     },
     "metadata": {},
     "output_type": "display_data"
    }
   ],
   "source": [
    "points_by_device_by_provider=upload_df.groupby(['SK_PI', 'PROVIDER']).size().reset_index()\n",
    "providers=upload_df['PROVIDER'].unique()\n",
    "data=[]\n",
    "for provider in providers:\n",
    "    prov=[]\n",
    "    for device in device_numbers:\n",
    "        by_provider=points_by_device_by_provider.loc[(points_by_device_by_provider['SK_PI']==device)&(points_by_device_by_provider['PROVIDER']==provider)]\n",
    "        if not by_provider.empty:\n",
    "            prov.append(by_provider[0].iloc[0])\n",
    "        else:\n",
    "            prov.append(0)\n",
    "    trace = go.Bar(x=device_numbers,y=prov, name = provider)\n",
    "    data.append(trace)\n",
    "    layout = go.Layout(\n",
    "        barmode='stack',\n",
    "        title=\"Number of data points per device per provider\"\n",
    "    )\n",
    "fig = go.Figure(data=data, layout=layout)\n",
    "iplot(fig)"
   ]
  },
  {
   "cell_type": "markdown",
   "metadata": {},
   "source": [
    "### How often data is collected?\n",
    "\n",
    "Let's ceck device number 5 with the larges number of datapoints and (8 test servers, 2 providers)  and device number 8 with largest number of providers (3) and 4 test servers?"
   ]
  },
  {
   "cell_type": "code",
   "execution_count": 29,
   "metadata": {},
   "outputs": [
    {
     "data": {
      "text/html": [
       "<div>\n",
       "<style>\n",
       "    .dataframe thead tr:only-child th {\n",
       "        text-align: right;\n",
       "    }\n",
       "\n",
       "    .dataframe thead th {\n",
       "        text-align: left;\n",
       "    }\n",
       "\n",
       "    .dataframe tbody tr th {\n",
       "        vertical-align: top;\n",
       "    }\n",
       "</style>\n",
       "<table border=\"1\" class=\"dataframe\">\n",
       "  <thead>\n",
       "    <tr style=\"text-align: right;\">\n",
       "      <th></th>\n",
       "      <th>time</th>\n",
       "      <th>SK_PI</th>\n",
       "      <th>PROVIDER</th>\n",
       "      <th>server</th>\n",
       "      <th>UPLOAD</th>\n",
       "    </tr>\n",
       "  </thead>\n",
       "  <tbody>\n",
       "    <tr>\n",
       "      <th>219</th>\n",
       "      <td>2018-10-26 18:18:08</td>\n",
       "      <td>5</td>\n",
       "      <td>Bell MTS</td>\n",
       "      <td>Voyageur Internet (Winnipeg  MB)</td>\n",
       "      <td>0.53</td>\n",
       "    </tr>\n",
       "    <tr>\n",
       "      <th>220</th>\n",
       "      <td>2018-10-26 20:10:16</td>\n",
       "      <td>5</td>\n",
       "      <td>iperf</td>\n",
       "      <td>clearskystatus.info iperf</td>\n",
       "      <td>514.00</td>\n",
       "    </tr>\n",
       "    <tr>\n",
       "      <th>221</th>\n",
       "      <td>2018-10-26 22:00:13</td>\n",
       "      <td>5</td>\n",
       "      <td>Bell MTS</td>\n",
       "      <td>Shaw Communications (Winnipeg  MB)</td>\n",
       "      <td>0.60</td>\n",
       "    </tr>\n",
       "    <tr>\n",
       "      <th>223</th>\n",
       "      <td>2018-10-26 23:52:22</td>\n",
       "      <td>5</td>\n",
       "      <td>iperf</td>\n",
       "      <td>clearskystatus.info iperf</td>\n",
       "      <td>574.00</td>\n",
       "    </tr>\n",
       "    <tr>\n",
       "      <th>226</th>\n",
       "      <td>2018-10-27 01:42:06</td>\n",
       "      <td>5</td>\n",
       "      <td>Bell MTS</td>\n",
       "      <td>LES.NET (Winnipeg  MB)</td>\n",
       "      <td>0.37</td>\n",
       "    </tr>\n",
       "  </tbody>\n",
       "</table>\n",
       "</div>"
      ],
      "text/plain": [
       "                   time  SK_PI  PROVIDER                              server  \\\n",
       "219 2018-10-26 18:18:08      5  Bell MTS    Voyageur Internet (Winnipeg  MB)   \n",
       "220 2018-10-26 20:10:16      5     iperf           clearskystatus.info iperf   \n",
       "221 2018-10-26 22:00:13      5  Bell MTS  Shaw Communications (Winnipeg  MB)   \n",
       "223 2018-10-26 23:52:22      5     iperf           clearskystatus.info iperf   \n",
       "226 2018-10-27 01:42:06      5  Bell MTS              LES.NET (Winnipeg  MB)   \n",
       "\n",
       "     UPLOAD  \n",
       "219    0.53  \n",
       "220  514.00  \n",
       "221    0.60  \n",
       "223  574.00  \n",
       "226    0.37  "
      ]
     },
     "execution_count": 29,
     "metadata": {},
     "output_type": "execute_result"
    }
   ],
   "source": [
    "upload_df.loc[upload_df['SK_PI']==5][['time','SK_PI', 'PROVIDER', 'server','UPLOAD']].head(5)"
   ]
  },
  {
   "cell_type": "code",
   "execution_count": 30,
   "metadata": {},
   "outputs": [
    {
     "data": {
      "text/html": [
       "<div>\n",
       "<style>\n",
       "    .dataframe thead tr:only-child th {\n",
       "        text-align: right;\n",
       "    }\n",
       "\n",
       "    .dataframe thead th {\n",
       "        text-align: left;\n",
       "    }\n",
       "\n",
       "    .dataframe tbody tr th {\n",
       "        vertical-align: top;\n",
       "    }\n",
       "</style>\n",
       "<table border=\"1\" class=\"dataframe\">\n",
       "  <thead>\n",
       "    <tr style=\"text-align: right;\">\n",
       "      <th></th>\n",
       "      <th>time</th>\n",
       "      <th>SK_PI</th>\n",
       "      <th>PROVIDER</th>\n",
       "      <th>server</th>\n",
       "      <th>UPLOAD</th>\n",
       "    </tr>\n",
       "  </thead>\n",
       "  <tbody>\n",
       "    <tr>\n",
       "      <th>3597</th>\n",
       "      <td>2019-01-07 09:00:05</td>\n",
       "      <td>5</td>\n",
       "      <td>Bell MTS</td>\n",
       "      <td>Rogers (Winnipeg  MB)</td>\n",
       "      <td>0.51</td>\n",
       "    </tr>\n",
       "    <tr>\n",
       "      <th>3610</th>\n",
       "      <td>2019-01-07 12:42:09</td>\n",
       "      <td>5</td>\n",
       "      <td>Bell MTS</td>\n",
       "      <td>Voyageur Internet (Winnipeg  MB)</td>\n",
       "      <td>0.53</td>\n",
       "    </tr>\n",
       "    <tr>\n",
       "      <th>3630</th>\n",
       "      <td>2019-01-07 16:24:14</td>\n",
       "      <td>5</td>\n",
       "      <td>Bell MTS</td>\n",
       "      <td>Commstream Communications (Winnipeg  MB)</td>\n",
       "      <td>0.48</td>\n",
       "    </tr>\n",
       "    <tr>\n",
       "      <th>3635</th>\n",
       "      <td>2019-01-07 20:06:09</td>\n",
       "      <td>5</td>\n",
       "      <td>Bell MTS</td>\n",
       "      <td>Voyageur Internet (Winnipeg  MB)</td>\n",
       "      <td>0.48</td>\n",
       "    </tr>\n",
       "    <tr>\n",
       "      <th>3646</th>\n",
       "      <td>2019-01-07 23:48:07</td>\n",
       "      <td>5</td>\n",
       "      <td>Bell MTS</td>\n",
       "      <td>Voyageur Internet (Winnipeg  MB)</td>\n",
       "      <td>0.53</td>\n",
       "    </tr>\n",
       "  </tbody>\n",
       "</table>\n",
       "</div>"
      ],
      "text/plain": [
       "                    time  SK_PI  PROVIDER  \\\n",
       "3597 2019-01-07 09:00:05      5  Bell MTS   \n",
       "3610 2019-01-07 12:42:09      5  Bell MTS   \n",
       "3630 2019-01-07 16:24:14      5  Bell MTS   \n",
       "3635 2019-01-07 20:06:09      5  Bell MTS   \n",
       "3646 2019-01-07 23:48:07      5  Bell MTS   \n",
       "\n",
       "                                        server  UPLOAD  \n",
       "3597                     Rogers (Winnipeg  MB)    0.51  \n",
       "3610          Voyageur Internet (Winnipeg  MB)    0.53  \n",
       "3630  Commstream Communications (Winnipeg  MB)    0.48  \n",
       "3635          Voyageur Internet (Winnipeg  MB)    0.48  \n",
       "3646          Voyageur Internet (Winnipeg  MB)    0.53  "
      ]
     },
     "execution_count": 30,
     "metadata": {},
     "output_type": "execute_result"
    }
   ],
   "source": [
    "upload_df.loc[upload_df['SK_PI']==5][['time','SK_PI', 'PROVIDER', 'server','UPLOAD']].tail(5)"
   ]
  },
  {
   "cell_type": "code",
   "execution_count": 31,
   "metadata": {},
   "outputs": [
    {
     "data": {
      "text/html": [
       "<div>\n",
       "<style>\n",
       "    .dataframe thead tr:only-child th {\n",
       "        text-align: right;\n",
       "    }\n",
       "\n",
       "    .dataframe thead th {\n",
       "        text-align: left;\n",
       "    }\n",
       "\n",
       "    .dataframe tbody tr th {\n",
       "        vertical-align: top;\n",
       "    }\n",
       "</style>\n",
       "<table border=\"1\" class=\"dataframe\">\n",
       "  <thead>\n",
       "    <tr style=\"text-align: right;\">\n",
       "      <th></th>\n",
       "      <th>time</th>\n",
       "      <th>SK_PI</th>\n",
       "      <th>PROVIDER</th>\n",
       "      <th>server</th>\n",
       "      <th>UPLOAD</th>\n",
       "    </tr>\n",
       "  </thead>\n",
       "  <tbody>\n",
       "    <tr>\n",
       "      <th>520</th>\n",
       "      <td>2018-11-07 18:22:07</td>\n",
       "      <td>8</td>\n",
       "      <td>MERLIN</td>\n",
       "      <td>Voyageur Internet (Winnipeg  MB)</td>\n",
       "      <td>136.88</td>\n",
       "    </tr>\n",
       "    <tr>\n",
       "      <th>523</th>\n",
       "      <td>2018-11-07 20:14:27</td>\n",
       "      <td>8</td>\n",
       "      <td>iperf</td>\n",
       "      <td>clearskystatus.info iperf</td>\n",
       "      <td>4034.56</td>\n",
       "    </tr>\n",
       "    <tr>\n",
       "      <th>1072</th>\n",
       "      <td>2018-11-30 18:12:12</td>\n",
       "      <td>8</td>\n",
       "      <td>MERLIN</td>\n",
       "      <td>Voyageur Internet (Winnipeg  MB)</td>\n",
       "      <td>140.37</td>\n",
       "    </tr>\n",
       "    <tr>\n",
       "      <th>1077</th>\n",
       "      <td>2018-11-30 21:54:11</td>\n",
       "      <td>8</td>\n",
       "      <td>MERLIN</td>\n",
       "      <td>Commstream Communications (Winnipeg  MB)</td>\n",
       "      <td>86.70</td>\n",
       "    </tr>\n",
       "    <tr>\n",
       "      <th>1087</th>\n",
       "      <td>2018-12-01 01:36:11</td>\n",
       "      <td>8</td>\n",
       "      <td>Commstream Communications</td>\n",
       "      <td>Commstream Communications (Winnipeg  MB)</td>\n",
       "      <td>85.11</td>\n",
       "    </tr>\n",
       "  </tbody>\n",
       "</table>\n",
       "</div>"
      ],
      "text/plain": [
       "                    time  SK_PI                   PROVIDER  \\\n",
       "520  2018-11-07 18:22:07      8                     MERLIN   \n",
       "523  2018-11-07 20:14:27      8                      iperf   \n",
       "1072 2018-11-30 18:12:12      8                     MERLIN   \n",
       "1077 2018-11-30 21:54:11      8                     MERLIN   \n",
       "1087 2018-12-01 01:36:11      8  Commstream Communications   \n",
       "\n",
       "                                        server   UPLOAD  \n",
       "520           Voyageur Internet (Winnipeg  MB)   136.88  \n",
       "523                  clearskystatus.info iperf  4034.56  \n",
       "1072          Voyageur Internet (Winnipeg  MB)   140.37  \n",
       "1077  Commstream Communications (Winnipeg  MB)    86.70  \n",
       "1087  Commstream Communications (Winnipeg  MB)    85.11  "
      ]
     },
     "execution_count": 31,
     "metadata": {},
     "output_type": "execute_result"
    }
   ],
   "source": [
    "upload_df.loc[upload_df['SK_PI']==8][['time','SK_PI', 'PROVIDER', 'server','UPLOAD']].head(5)"
   ]
  },
  {
   "cell_type": "code",
   "execution_count": 32,
   "metadata": {},
   "outputs": [
    {
     "data": {
      "text/html": [
       "<div>\n",
       "<style>\n",
       "    .dataframe thead tr:only-child th {\n",
       "        text-align: right;\n",
       "    }\n",
       "\n",
       "    .dataframe thead th {\n",
       "        text-align: left;\n",
       "    }\n",
       "\n",
       "    .dataframe tbody tr th {\n",
       "        vertical-align: top;\n",
       "    }\n",
       "</style>\n",
       "<table border=\"1\" class=\"dataframe\">\n",
       "  <thead>\n",
       "    <tr style=\"text-align: right;\">\n",
       "      <th></th>\n",
       "      <th>time</th>\n",
       "      <th>SK_PI</th>\n",
       "      <th>PROVIDER</th>\n",
       "      <th>server</th>\n",
       "      <th>UPLOAD</th>\n",
       "    </tr>\n",
       "  </thead>\n",
       "  <tbody>\n",
       "    <tr>\n",
       "      <th>3597</th>\n",
       "      <td>2019-01-07 09:00:05</td>\n",
       "      <td>5</td>\n",
       "      <td>Bell MTS</td>\n",
       "      <td>Rogers (Winnipeg  MB)</td>\n",
       "      <td>0.51</td>\n",
       "    </tr>\n",
       "    <tr>\n",
       "      <th>3610</th>\n",
       "      <td>2019-01-07 12:42:09</td>\n",
       "      <td>5</td>\n",
       "      <td>Bell MTS</td>\n",
       "      <td>Voyageur Internet (Winnipeg  MB)</td>\n",
       "      <td>0.53</td>\n",
       "    </tr>\n",
       "    <tr>\n",
       "      <th>3630</th>\n",
       "      <td>2019-01-07 16:24:14</td>\n",
       "      <td>5</td>\n",
       "      <td>Bell MTS</td>\n",
       "      <td>Commstream Communications (Winnipeg  MB)</td>\n",
       "      <td>0.48</td>\n",
       "    </tr>\n",
       "    <tr>\n",
       "      <th>3635</th>\n",
       "      <td>2019-01-07 20:06:09</td>\n",
       "      <td>5</td>\n",
       "      <td>Bell MTS</td>\n",
       "      <td>Voyageur Internet (Winnipeg  MB)</td>\n",
       "      <td>0.48</td>\n",
       "    </tr>\n",
       "    <tr>\n",
       "      <th>3646</th>\n",
       "      <td>2019-01-07 23:48:07</td>\n",
       "      <td>5</td>\n",
       "      <td>Bell MTS</td>\n",
       "      <td>Voyageur Internet (Winnipeg  MB)</td>\n",
       "      <td>0.53</td>\n",
       "    </tr>\n",
       "  </tbody>\n",
       "</table>\n",
       "</div>"
      ],
      "text/plain": [
       "                    time  SK_PI  PROVIDER  \\\n",
       "3597 2019-01-07 09:00:05      5  Bell MTS   \n",
       "3610 2019-01-07 12:42:09      5  Bell MTS   \n",
       "3630 2019-01-07 16:24:14      5  Bell MTS   \n",
       "3635 2019-01-07 20:06:09      5  Bell MTS   \n",
       "3646 2019-01-07 23:48:07      5  Bell MTS   \n",
       "\n",
       "                                        server  UPLOAD  \n",
       "3597                     Rogers (Winnipeg  MB)    0.51  \n",
       "3610          Voyageur Internet (Winnipeg  MB)    0.53  \n",
       "3630  Commstream Communications (Winnipeg  MB)    0.48  \n",
       "3635          Voyageur Internet (Winnipeg  MB)    0.48  \n",
       "3646          Voyageur Internet (Winnipeg  MB)    0.53  "
      ]
     },
     "execution_count": 32,
     "metadata": {},
     "output_type": "execute_result"
    }
   ],
   "source": [
    "upload_df.loc[upload_df['SK_PI']==5][['time','SK_PI', 'PROVIDER', 'server','UPLOAD']].tail(5)"
   ]
  },
  {
   "cell_type": "markdown",
   "metadata": {},
   "source": [
    " Looks like data is collected with 3 hours 42 mins intervals using different test servers. \n",
    " How is it determined which test server to use?\n",
    " \n",
    " ### To do : \n",
    " Calculate all the intevals?  \n",
    " For some devices - plot time series data by test server?"
   ]
  },
  {
   "cell_type": "markdown",
   "metadata": {},
   "source": [
    "### Median, average, maximum upload speed"
   ]
  },
  {
   "cell_type": "code",
   "execution_count": 57,
   "metadata": {},
   "outputs": [
    {
     "data": {
      "application/vnd.plotly.v1+json": {
       "data": [
        {
         "name": "Mean",
         "type": "bar",
         "x": [
          1,
          2,
          3,
          4,
          5,
          6,
          7,
          8,
          9,
          10,
          11,
          12,
          14,
          15,
          16,
          17,
          18
         ],
         "y": [
          283.248,
          670.6246666666664,
          636.808026755853,
          181.53728222996523,
          75.48717117117114,
          630.83125,
          631.2367671232873,
          561.6721739130435,
          183.96187499999985,
          4.576130952380949,
          64.48884297520664,
          47.29565217391308,
          86.52064814814814,
          43.563842592592565,
          3.7881025641025663,
          45.70310975609755,
          9.596999999999994
         ]
        },
        {
         "name": "Max",
         "type": "bar",
         "x": [
          1,
          2,
          3,
          4,
          5,
          6,
          7,
          8,
          9,
          10,
          11,
          12,
          14,
          15,
          16,
          17,
          18
         ],
         "y": [
          844,
          6492.16,
          20480,
          842,
          620,
          926,
          8140.8,
          6809.6,
          7444.48,
          6.5,
          1669.12,
          3235.84,
          150.63,
          52.49,
          4.03,
          50.87,
          11.53
         ]
        },
        {
         "name": "Median",
         "type": "bar",
         "x": [
          1,
          2,
          3,
          4,
          5,
          6,
          7,
          8,
          9,
          10,
          11,
          12,
          14,
          15,
          16,
          17,
          18
         ],
         "y": [
          0.89,
          7.115,
          125.42,
          0.64,
          0.53,
          798.5,
          7.99,
          92.49,
          52.44,
          4.52,
          52.94,
          8.19,
          122.16,
          43.685,
          3.85,
          47.155,
          9.56
         ]
        }
       ],
       "layout": {
        "title": "Maximum, mean and median upload speed per device"
       }
      },
      "text/html": [
       "<div id=\"2a3cbc6f-e4b8-4eb1-a16f-46c13ec21dfb\" style=\"height: 525px; width: 100%;\" class=\"plotly-graph-div\"></div><script type=\"text/javascript\">require([\"plotly\"], function(Plotly) { window.PLOTLYENV=window.PLOTLYENV || {};window.PLOTLYENV.BASE_URL=\"https://plot.ly\";Plotly.newPlot(\"2a3cbc6f-e4b8-4eb1-a16f-46c13ec21dfb\", [{\"type\": \"bar\", \"x\": [1, 2, 3, 4, 5, 6, 7, 8, 9, 10, 11, 12, 14, 15, 16, 17, 18], \"y\": [283.248, 670.6246666666664, 636.808026755853, 181.53728222996523, 75.48717117117114, 630.83125, 631.2367671232873, 561.6721739130435, 183.96187499999985, 4.576130952380949, 64.48884297520664, 47.29565217391308, 86.52064814814814, 43.563842592592565, 3.7881025641025663, 45.70310975609755, 9.596999999999994], \"name\": \"Mean\"}, {\"type\": \"bar\", \"x\": [1, 2, 3, 4, 5, 6, 7, 8, 9, 10, 11, 12, 14, 15, 16, 17, 18], \"y\": [844.0, 6492.16, 20480.0, 842.0, 620.0, 926.0, 8140.8, 6809.6, 7444.48, 6.5, 1669.12, 3235.84, 150.63, 52.49, 4.03, 50.87, 11.53], \"name\": \"Max\"}, {\"type\": \"bar\", \"x\": [1, 2, 3, 4, 5, 6, 7, 8, 9, 10, 11, 12, 14, 15, 16, 17, 18], \"y\": [0.89, 7.115, 125.42, 0.64, 0.53, 798.5, 7.99, 92.49, 52.44, 4.52, 52.94, 8.19, 122.16, 43.685, 3.85, 47.155, 9.56], \"name\": \"Median\"}], {\"title\": \"Maximum, mean and median upload speed per device\"}, {\"showLink\": true, \"linkText\": \"Export to plot.ly\"})});</script>"
      ],
      "text/vnd.plotly.v1+html": [
       "<div id=\"2a3cbc6f-e4b8-4eb1-a16f-46c13ec21dfb\" style=\"height: 525px; width: 100%;\" class=\"plotly-graph-div\"></div><script type=\"text/javascript\">require([\"plotly\"], function(Plotly) { window.PLOTLYENV=window.PLOTLYENV || {};window.PLOTLYENV.BASE_URL=\"https://plot.ly\";Plotly.newPlot(\"2a3cbc6f-e4b8-4eb1-a16f-46c13ec21dfb\", [{\"type\": \"bar\", \"x\": [1, 2, 3, 4, 5, 6, 7, 8, 9, 10, 11, 12, 14, 15, 16, 17, 18], \"y\": [283.248, 670.6246666666664, 636.808026755853, 181.53728222996523, 75.48717117117114, 630.83125, 631.2367671232873, 561.6721739130435, 183.96187499999985, 4.576130952380949, 64.48884297520664, 47.29565217391308, 86.52064814814814, 43.563842592592565, 3.7881025641025663, 45.70310975609755, 9.596999999999994], \"name\": \"Mean\"}, {\"type\": \"bar\", \"x\": [1, 2, 3, 4, 5, 6, 7, 8, 9, 10, 11, 12, 14, 15, 16, 17, 18], \"y\": [844.0, 6492.16, 20480.0, 842.0, 620.0, 926.0, 8140.8, 6809.6, 7444.48, 6.5, 1669.12, 3235.84, 150.63, 52.49, 4.03, 50.87, 11.53], \"name\": \"Max\"}, {\"type\": \"bar\", \"x\": [1, 2, 3, 4, 5, 6, 7, 8, 9, 10, 11, 12, 14, 15, 16, 17, 18], \"y\": [0.89, 7.115, 125.42, 0.64, 0.53, 798.5, 7.99, 92.49, 52.44, 4.52, 52.94, 8.19, 122.16, 43.685, 3.85, 47.155, 9.56], \"name\": \"Median\"}], {\"title\": \"Maximum, mean and median upload speed per device\"}, {\"showLink\": true, \"linkText\": \"Export to plot.ly\"})});</script>"
      ]
     },
     "metadata": {},
     "output_type": "display_data"
    }
   ],
   "source": [
    "def barplot_averages(df,column, title,index_col='SK_PI'):\n",
    "    max_df = df.groupby(index_col)[column].max().reset_index()\n",
    "    max_df.columns = [index_col, column+'_MAX']\n",
    "    med_df = df.groupby(index_col)[column].median().reset_index()\n",
    "    med_df.columns = [index_col, column+'_MEDIAN']\n",
    "    avg_df = df.groupby(index_col)[column].mean().reset_index()\n",
    "    avg_df.columns = [index_col, column+'_MEAN']\n",
    "    med_max_avg_df=pd.merge(pd.merge(max_df, med_df,on=index_col),avg_df, on=index_col)\n",
    "    trace1 = go.Bar(\n",
    "                x=med_max_avg_df[index_col],\n",
    "                y=med_max_avg_df[column+'_MEAN'],\n",
    "                name='Mean',\n",
    "        )\n",
    "    trace2 = go.Bar(\n",
    "                x=med_max_avg_df[index_col],\n",
    "                y=med_max_avg_df[column+'_MAX'],\n",
    "                name='Max',\n",
    "\n",
    "        )\n",
    "    trace3 = go.Bar(\n",
    "                x=med_max_avg_df[index_col],\n",
    "                y=med_max_avg_df[column+'_MEDIAN'],\n",
    "                name='Median',\n",
    "\n",
    "        )\n",
    "    data = [trace1, trace2, trace3]\n",
    "    layout = go.Layout(\n",
    "           # barmode='stack',\n",
    "            title=title\n",
    "            #title=\"Maximum, mean and median upload speed per device\"\n",
    "        )\n",
    "\n",
    "    fig = go.Figure(data=data, layout=layout)\n",
    "    iplot(fig)\n",
    "barplot_averages(upload_df,'UPLOAD',\"Maximum, mean and median upload speed per device\")"
   ]
  },
  {
   "cell_type": "markdown",
   "metadata": {},
   "source": [
    "Device #3 (Cybera office) has the larges spikes, but device 6 have larger median - potentially an issue there."
   ]
  },
  {
   "cell_type": "code",
   "execution_count": 58,
   "metadata": {},
   "outputs": [
    {
     "data": {
      "application/vnd.plotly.v1+json": {
       "data": [
        {
         "name": "Mean",
         "type": "bar",
         "x": [
          "Access Communications Co-operative Limited (Regina  SK)",
          "Axia Connect Ltd (Calgary  AB)",
          "Bell Mobility (Winnipeg  MB)",
          "BlackSun Inc. (Saskatoon  SK)",
          "Commstream Communications (Winnipeg  MB)",
          "Cybera (Calgary  AB)",
          "DataHive (Calgary  AB)",
          "LES.NET (Winnipeg  MB)",
          "Midco (Minot  ND)",
          "Morenet (Morden  MB)",
          "NetSet Communications (Brandon  MB)",
          "RFNow Inc. (Virden  MB)",
          "Rogers (Winnipeg  MB)",
          "SaskTel (Regina  SK)",
          "Shaw Communications (Winnipeg  MB)",
          "Swift High Speed.com (Winnipeg  MB)",
          "TELUS Mobility (Calgary  AB)",
          "VOI Network Solutions (Winnipeg  MB)",
          "Valley Fiber (Winkler  MB)",
          "Voyageur Internet (Winnipeg  MB)",
          "Westman Communications (Brandon  MB)",
          "clearskystatus.info iperf"
         ],
         "y": [
          42.67,
          123.50169491525428,
          56.188939393939386,
          37.925454545454535,
          16.41419263456091,
          126.86157142857142,
          64.42,
          22.591192893401008,
          3.633333333333333,
          5.780000000000001,
          48.229545454545466,
          41.6110144927536,
          2.1225490196078427,
          51.13615384615385,
          31.03765700483093,
          0.3225,
          126.93666666666667,
          67.60724137931035,
          27.945058823529404,
          14.084067584480598,
          47.78476562499998,
          1922.4420212765963
         ]
        },
        {
         "name": "Max",
         "type": "bar",
         "x": [
          "Access Communications Co-operative Limited (Regina  SK)",
          "Axia Connect Ltd (Calgary  AB)",
          "Bell Mobility (Winnipeg  MB)",
          "BlackSun Inc. (Saskatoon  SK)",
          "Commstream Communications (Winnipeg  MB)",
          "Cybera (Calgary  AB)",
          "DataHive (Calgary  AB)",
          "LES.NET (Winnipeg  MB)",
          "Midco (Minot  ND)",
          "Morenet (Morden  MB)",
          "NetSet Communications (Brandon  MB)",
          "RFNow Inc. (Virden  MB)",
          "Rogers (Winnipeg  MB)",
          "SaskTel (Regina  SK)",
          "Shaw Communications (Winnipeg  MB)",
          "Swift High Speed.com (Winnipeg  MB)",
          "TELUS Mobility (Calgary  AB)",
          "VOI Network Solutions (Winnipeg  MB)",
          "Valley Fiber (Winkler  MB)",
          "Voyageur Internet (Winnipeg  MB)",
          "Westman Communications (Brandon  MB)",
          "clearskystatus.info iperf"
         ],
         "y": [
          42.67,
          127.6,
          62.63,
          52.62,
          98.24,
          130.74,
          67.98,
          147.12,
          3.87,
          52.2,
          58.77,
          141.2,
          43.91,
          55.94,
          150.63,
          0.46,
          130.94,
          142.72,
          149.05,
          140.53,
          94.52,
          20480
         ]
        },
        {
         "name": "Median",
         "type": "bar",
         "x": [
          "Access Communications Co-operative Limited (Regina  SK)",
          "Axia Connect Ltd (Calgary  AB)",
          "Bell Mobility (Winnipeg  MB)",
          "BlackSun Inc. (Saskatoon  SK)",
          "Commstream Communications (Winnipeg  MB)",
          "Cybera (Calgary  AB)",
          "DataHive (Calgary  AB)",
          "LES.NET (Winnipeg  MB)",
          "Midco (Minot  ND)",
          "Morenet (Morden  MB)",
          "NetSet Communications (Brandon  MB)",
          "RFNow Inc. (Virden  MB)",
          "Rogers (Winnipeg  MB)",
          "SaskTel (Regina  SK)",
          "Shaw Communications (Winnipeg  MB)",
          "Swift High Speed.com (Winnipeg  MB)",
          "TELUS Mobility (Calgary  AB)",
          "VOI Network Solutions (Winnipeg  MB)",
          "Valley Fiber (Winkler  MB)",
          "Voyageur Internet (Winnipeg  MB)",
          "Westman Communications (Brandon  MB)",
          "clearskystatus.info iperf"
         ],
         "y": [
          42.67,
          124.88,
          57.16,
          41.855000000000004,
          8.88,
          127.065,
          66.92,
          8.565000000000001,
          3.82,
          3.84,
          50.31,
          53.89,
          0.54,
          51.92,
          0.67,
          0.335,
          128.78,
          56.92,
          3.92,
          7.73,
          48.155,
          768
         ]
        }
       ],
       "layout": {
        "title": "Maximum, mean and median upload speed per test server"
       }
      },
      "text/html": [
       "<div id=\"817ad7c9-aee9-4c37-ade9-42ed5d0f5ced\" style=\"height: 525px; width: 100%;\" class=\"plotly-graph-div\"></div><script type=\"text/javascript\">require([\"plotly\"], function(Plotly) { window.PLOTLYENV=window.PLOTLYENV || {};window.PLOTLYENV.BASE_URL=\"https://plot.ly\";Plotly.newPlot(\"817ad7c9-aee9-4c37-ade9-42ed5d0f5ced\", [{\"type\": \"bar\", \"x\": [\"Access Communications Co-operative Limited (Regina  SK)\", \"Axia Connect Ltd (Calgary  AB)\", \"Bell Mobility (Winnipeg  MB)\", \"BlackSun Inc. (Saskatoon  SK)\", \"Commstream Communications (Winnipeg  MB)\", \"Cybera (Calgary  AB)\", \"DataHive (Calgary  AB)\", \"LES.NET (Winnipeg  MB)\", \"Midco (Minot  ND)\", \"Morenet (Morden  MB)\", \"NetSet Communications (Brandon  MB)\", \"RFNow Inc. (Virden  MB)\", \"Rogers (Winnipeg  MB)\", \"SaskTel (Regina  SK)\", \"Shaw Communications (Winnipeg  MB)\", \"Swift High Speed.com (Winnipeg  MB)\", \"TELUS Mobility (Calgary  AB)\", \"VOI Network Solutions (Winnipeg  MB)\", \"Valley Fiber (Winkler  MB)\", \"Voyageur Internet (Winnipeg  MB)\", \"Westman Communications (Brandon  MB)\", \"clearskystatus.info iperf\"], \"y\": [42.67, 123.50169491525428, 56.188939393939386, 37.925454545454535, 16.41419263456091, 126.86157142857142, 64.42, 22.591192893401008, 3.633333333333333, 5.780000000000001, 48.229545454545466, 41.6110144927536, 2.1225490196078427, 51.13615384615385, 31.03765700483093, 0.3225, 126.93666666666667, 67.60724137931035, 27.945058823529404, 14.084067584480598, 47.78476562499998, 1922.4420212765963], \"name\": \"Mean\"}, {\"type\": \"bar\", \"x\": [\"Access Communications Co-operative Limited (Regina  SK)\", \"Axia Connect Ltd (Calgary  AB)\", \"Bell Mobility (Winnipeg  MB)\", \"BlackSun Inc. (Saskatoon  SK)\", \"Commstream Communications (Winnipeg  MB)\", \"Cybera (Calgary  AB)\", \"DataHive (Calgary  AB)\", \"LES.NET (Winnipeg  MB)\", \"Midco (Minot  ND)\", \"Morenet (Morden  MB)\", \"NetSet Communications (Brandon  MB)\", \"RFNow Inc. (Virden  MB)\", \"Rogers (Winnipeg  MB)\", \"SaskTel (Regina  SK)\", \"Shaw Communications (Winnipeg  MB)\", \"Swift High Speed.com (Winnipeg  MB)\", \"TELUS Mobility (Calgary  AB)\", \"VOI Network Solutions (Winnipeg  MB)\", \"Valley Fiber (Winkler  MB)\", \"Voyageur Internet (Winnipeg  MB)\", \"Westman Communications (Brandon  MB)\", \"clearskystatus.info iperf\"], \"y\": [42.67, 127.6, 62.63, 52.62, 98.24, 130.74, 67.98, 147.12, 3.87, 52.2, 58.77, 141.2, 43.91, 55.94, 150.63, 0.46, 130.94, 142.72, 149.05, 140.53, 94.52, 20480.0], \"name\": \"Max\"}, {\"type\": \"bar\", \"x\": [\"Access Communications Co-operative Limited (Regina  SK)\", \"Axia Connect Ltd (Calgary  AB)\", \"Bell Mobility (Winnipeg  MB)\", \"BlackSun Inc. (Saskatoon  SK)\", \"Commstream Communications (Winnipeg  MB)\", \"Cybera (Calgary  AB)\", \"DataHive (Calgary  AB)\", \"LES.NET (Winnipeg  MB)\", \"Midco (Minot  ND)\", \"Morenet (Morden  MB)\", \"NetSet Communications (Brandon  MB)\", \"RFNow Inc. (Virden  MB)\", \"Rogers (Winnipeg  MB)\", \"SaskTel (Regina  SK)\", \"Shaw Communications (Winnipeg  MB)\", \"Swift High Speed.com (Winnipeg  MB)\", \"TELUS Mobility (Calgary  AB)\", \"VOI Network Solutions (Winnipeg  MB)\", \"Valley Fiber (Winkler  MB)\", \"Voyageur Internet (Winnipeg  MB)\", \"Westman Communications (Brandon  MB)\", \"clearskystatus.info iperf\"], \"y\": [42.67, 124.88, 57.16, 41.855000000000004, 8.88, 127.065, 66.92, 8.565000000000001, 3.82, 3.84, 50.31, 53.89, 0.54, 51.92, 0.67, 0.335, 128.78, 56.92, 3.92, 7.73, 48.155, 768.0], \"name\": \"Median\"}], {\"title\": \"Maximum, mean and median upload speed per test server\"}, {\"showLink\": true, \"linkText\": \"Export to plot.ly\"})});</script>"
      ],
      "text/vnd.plotly.v1+html": [
       "<div id=\"817ad7c9-aee9-4c37-ade9-42ed5d0f5ced\" style=\"height: 525px; width: 100%;\" class=\"plotly-graph-div\"></div><script type=\"text/javascript\">require([\"plotly\"], function(Plotly) { window.PLOTLYENV=window.PLOTLYENV || {};window.PLOTLYENV.BASE_URL=\"https://plot.ly\";Plotly.newPlot(\"817ad7c9-aee9-4c37-ade9-42ed5d0f5ced\", [{\"type\": \"bar\", \"x\": [\"Access Communications Co-operative Limited (Regina  SK)\", \"Axia Connect Ltd (Calgary  AB)\", \"Bell Mobility (Winnipeg  MB)\", \"BlackSun Inc. (Saskatoon  SK)\", \"Commstream Communications (Winnipeg  MB)\", \"Cybera (Calgary  AB)\", \"DataHive (Calgary  AB)\", \"LES.NET (Winnipeg  MB)\", \"Midco (Minot  ND)\", \"Morenet (Morden  MB)\", \"NetSet Communications (Brandon  MB)\", \"RFNow Inc. (Virden  MB)\", \"Rogers (Winnipeg  MB)\", \"SaskTel (Regina  SK)\", \"Shaw Communications (Winnipeg  MB)\", \"Swift High Speed.com (Winnipeg  MB)\", \"TELUS Mobility (Calgary  AB)\", \"VOI Network Solutions (Winnipeg  MB)\", \"Valley Fiber (Winkler  MB)\", \"Voyageur Internet (Winnipeg  MB)\", \"Westman Communications (Brandon  MB)\", \"clearskystatus.info iperf\"], \"y\": [42.67, 123.50169491525428, 56.188939393939386, 37.925454545454535, 16.41419263456091, 126.86157142857142, 64.42, 22.591192893401008, 3.633333333333333, 5.780000000000001, 48.229545454545466, 41.6110144927536, 2.1225490196078427, 51.13615384615385, 31.03765700483093, 0.3225, 126.93666666666667, 67.60724137931035, 27.945058823529404, 14.084067584480598, 47.78476562499998, 1922.4420212765963], \"name\": \"Mean\"}, {\"type\": \"bar\", \"x\": [\"Access Communications Co-operative Limited (Regina  SK)\", \"Axia Connect Ltd (Calgary  AB)\", \"Bell Mobility (Winnipeg  MB)\", \"BlackSun Inc. (Saskatoon  SK)\", \"Commstream Communications (Winnipeg  MB)\", \"Cybera (Calgary  AB)\", \"DataHive (Calgary  AB)\", \"LES.NET (Winnipeg  MB)\", \"Midco (Minot  ND)\", \"Morenet (Morden  MB)\", \"NetSet Communications (Brandon  MB)\", \"RFNow Inc. (Virden  MB)\", \"Rogers (Winnipeg  MB)\", \"SaskTel (Regina  SK)\", \"Shaw Communications (Winnipeg  MB)\", \"Swift High Speed.com (Winnipeg  MB)\", \"TELUS Mobility (Calgary  AB)\", \"VOI Network Solutions (Winnipeg  MB)\", \"Valley Fiber (Winkler  MB)\", \"Voyageur Internet (Winnipeg  MB)\", \"Westman Communications (Brandon  MB)\", \"clearskystatus.info iperf\"], \"y\": [42.67, 127.6, 62.63, 52.62, 98.24, 130.74, 67.98, 147.12, 3.87, 52.2, 58.77, 141.2, 43.91, 55.94, 150.63, 0.46, 130.94, 142.72, 149.05, 140.53, 94.52, 20480.0], \"name\": \"Max\"}, {\"type\": \"bar\", \"x\": [\"Access Communications Co-operative Limited (Regina  SK)\", \"Axia Connect Ltd (Calgary  AB)\", \"Bell Mobility (Winnipeg  MB)\", \"BlackSun Inc. (Saskatoon  SK)\", \"Commstream Communications (Winnipeg  MB)\", \"Cybera (Calgary  AB)\", \"DataHive (Calgary  AB)\", \"LES.NET (Winnipeg  MB)\", \"Midco (Minot  ND)\", \"Morenet (Morden  MB)\", \"NetSet Communications (Brandon  MB)\", \"RFNow Inc. (Virden  MB)\", \"Rogers (Winnipeg  MB)\", \"SaskTel (Regina  SK)\", \"Shaw Communications (Winnipeg  MB)\", \"Swift High Speed.com (Winnipeg  MB)\", \"TELUS Mobility (Calgary  AB)\", \"VOI Network Solutions (Winnipeg  MB)\", \"Valley Fiber (Winkler  MB)\", \"Voyageur Internet (Winnipeg  MB)\", \"Westman Communications (Brandon  MB)\", \"clearskystatus.info iperf\"], \"y\": [42.67, 124.88, 57.16, 41.855000000000004, 8.88, 127.065, 66.92, 8.565000000000001, 3.82, 3.84, 50.31, 53.89, 0.54, 51.92, 0.67, 0.335, 128.78, 56.92, 3.92, 7.73, 48.155, 768.0], \"name\": \"Median\"}], {\"title\": \"Maximum, mean and median upload speed per test server\"}, {\"showLink\": true, \"linkText\": \"Export to plot.ly\"})});</script>"
      ]
     },
     "metadata": {},
     "output_type": "display_data"
    }
   ],
   "source": [
    "barplot_averages(upload_df,'UPLOAD',\"Maximum, mean and median upload speed per test server\",index_col='server')"
   ]
  },
  {
   "cell_type": "code",
   "execution_count": 59,
   "metadata": {},
   "outputs": [
    {
     "data": {
      "application/vnd.plotly.v1+json": {
       "data": [
        {
         "name": "Mean",
         "type": "bar",
         "x": [
          "Bell MTS",
          "Cogent Communications",
          "Commstream Communications",
          "Cybera",
          "High Speed Crow",
          "Keewaytinook Okimakanak",
          "MERLIN",
          "Manitoba Hydro International",
          "TeraGo Networks",
          "Xplornet Communications",
          "iperf"
         ],
         "y": [
          8.460813060179262,
          45.418158995815915,
          85.52615384615385,
          118.43410071942444,
          7.917911646586343,
          26.809344729344705,
          120.30749999999999,
          113.34150943396226,
          4.576130952380949,
          50.912903225806424,
          1922.4420212765963
         ]
        },
        {
         "name": "Max",
         "type": "bar",
         "x": [
          "Bell MTS",
          "Cogent Communications",
          "Commstream Communications",
          "Cybera",
          "High Speed Crow",
          "Keewaytinook Okimakanak",
          "MERLIN",
          "Manitoba Hydro International",
          "TeraGo Networks",
          "Xplornet Communications",
          "iperf"
         ],
         "y": [
          52.49,
          62.63,
          92.88,
          130.94,
          10.57,
          94.94,
          140.53,
          150.63,
          6.5,
          58.77,
          20480
         ]
        },
        {
         "name": "Median",
         "type": "bar",
         "x": [
          "Bell MTS",
          "Cogent Communications",
          "Commstream Communications",
          "Cybera",
          "High Speed Crow",
          "Keewaytinook Okimakanak",
          "MERLIN",
          "Manitoba Hydro International",
          "TeraGo Networks",
          "Xplornet Communications",
          "iperf"
         ],
         "y": [
          1.63,
          52.87,
          87.76,
          125.21000000000001,
          8.18,
          9.86,
          133.42000000000002,
          135.96,
          4.52,
          51.865,
          768
         ]
        }
       ],
       "layout": {
        "title": "Maximum, mean and median upload speed per provider"
       }
      },
      "text/html": [
       "<div id=\"c476577f-61fa-4a18-aa6a-6e57ad656b2b\" style=\"height: 525px; width: 100%;\" class=\"plotly-graph-div\"></div><script type=\"text/javascript\">require([\"plotly\"], function(Plotly) { window.PLOTLYENV=window.PLOTLYENV || {};window.PLOTLYENV.BASE_URL=\"https://plot.ly\";Plotly.newPlot(\"c476577f-61fa-4a18-aa6a-6e57ad656b2b\", [{\"type\": \"bar\", \"x\": [\"Bell MTS\", \"Cogent Communications\", \"Commstream Communications\", \"Cybera\", \"High Speed Crow\", \"Keewaytinook Okimakanak\", \"MERLIN\", \"Manitoba Hydro International\", \"TeraGo Networks\", \"Xplornet Communications\", \"iperf\"], \"y\": [8.460813060179262, 45.418158995815915, 85.52615384615385, 118.43410071942444, 7.917911646586343, 26.809344729344705, 120.30749999999999, 113.34150943396226, 4.576130952380949, 50.912903225806424, 1922.4420212765963], \"name\": \"Mean\"}, {\"type\": \"bar\", \"x\": [\"Bell MTS\", \"Cogent Communications\", \"Commstream Communications\", \"Cybera\", \"High Speed Crow\", \"Keewaytinook Okimakanak\", \"MERLIN\", \"Manitoba Hydro International\", \"TeraGo Networks\", \"Xplornet Communications\", \"iperf\"], \"y\": [52.49, 62.63, 92.88, 130.94, 10.57, 94.94, 140.53, 150.63, 6.5, 58.77, 20480.0], \"name\": \"Max\"}, {\"type\": \"bar\", \"x\": [\"Bell MTS\", \"Cogent Communications\", \"Commstream Communications\", \"Cybera\", \"High Speed Crow\", \"Keewaytinook Okimakanak\", \"MERLIN\", \"Manitoba Hydro International\", \"TeraGo Networks\", \"Xplornet Communications\", \"iperf\"], \"y\": [1.63, 52.87, 87.76, 125.21000000000001, 8.18, 9.86, 133.42000000000002, 135.96, 4.52, 51.865, 768.0], \"name\": \"Median\"}], {\"title\": \"Maximum, mean and median upload speed per provider\"}, {\"showLink\": true, \"linkText\": \"Export to plot.ly\"})});</script>"
      ],
      "text/vnd.plotly.v1+html": [
       "<div id=\"c476577f-61fa-4a18-aa6a-6e57ad656b2b\" style=\"height: 525px; width: 100%;\" class=\"plotly-graph-div\"></div><script type=\"text/javascript\">require([\"plotly\"], function(Plotly) { window.PLOTLYENV=window.PLOTLYENV || {};window.PLOTLYENV.BASE_URL=\"https://plot.ly\";Plotly.newPlot(\"c476577f-61fa-4a18-aa6a-6e57ad656b2b\", [{\"type\": \"bar\", \"x\": [\"Bell MTS\", \"Cogent Communications\", \"Commstream Communications\", \"Cybera\", \"High Speed Crow\", \"Keewaytinook Okimakanak\", \"MERLIN\", \"Manitoba Hydro International\", \"TeraGo Networks\", \"Xplornet Communications\", \"iperf\"], \"y\": [8.460813060179262, 45.418158995815915, 85.52615384615385, 118.43410071942444, 7.917911646586343, 26.809344729344705, 120.30749999999999, 113.34150943396226, 4.576130952380949, 50.912903225806424, 1922.4420212765963], \"name\": \"Mean\"}, {\"type\": \"bar\", \"x\": [\"Bell MTS\", \"Cogent Communications\", \"Commstream Communications\", \"Cybera\", \"High Speed Crow\", \"Keewaytinook Okimakanak\", \"MERLIN\", \"Manitoba Hydro International\", \"TeraGo Networks\", \"Xplornet Communications\", \"iperf\"], \"y\": [52.49, 62.63, 92.88, 130.94, 10.57, 94.94, 140.53, 150.63, 6.5, 58.77, 20480.0], \"name\": \"Max\"}, {\"type\": \"bar\", \"x\": [\"Bell MTS\", \"Cogent Communications\", \"Commstream Communications\", \"Cybera\", \"High Speed Crow\", \"Keewaytinook Okimakanak\", \"MERLIN\", \"Manitoba Hydro International\", \"TeraGo Networks\", \"Xplornet Communications\", \"iperf\"], \"y\": [1.63, 52.87, 87.76, 125.21000000000001, 8.18, 9.86, 133.42000000000002, 135.96, 4.52, 51.865, 768.0], \"name\": \"Median\"}], {\"title\": \"Maximum, mean and median upload speed per provider\"}, {\"showLink\": true, \"linkText\": \"Export to plot.ly\"})});</script>"
      ]
     },
     "metadata": {},
     "output_type": "display_data"
    }
   ],
   "source": [
    "barplot_averages(upload_df,'UPLOAD',\"Maximum, mean and median upload speed per provider\",index_col='PROVIDER')"
   ]
  },
  {
   "cell_type": "markdown",
   "metadata": {},
   "source": [
    "What is 'clearskystatus.info iperf'? It has significantly larger speeds."
   ]
  },
  {
   "cell_type": "markdown",
   "metadata": {},
   "source": [
    "### Median, average, maximum download speed"
   ]
  },
  {
   "cell_type": "code",
   "execution_count": 131,
   "metadata": {
    "collapsed": true
   },
   "outputs": [],
   "source": [
    "query_download = 'SELECT * FROM SPEEDTEST_DOWNLOAD;'\n",
    "result_download= client.query(query_download)\n",
    "download_df = result_download['SPEEDTEST_DOWNLOAD']\n",
    "\n",
    "download_df.reset_index(level=0, inplace=True)\n",
    "download_df['index']=download_df['index'].dt.strftime('%Y-%m-%d %H:%M:%S')\n",
    "download_df['index'] = pd.to_datetime(download_df['index'])\n",
    "download_df['SK_PI']=pd.to_numeric(download_df['SK_PI'])\n",
    "\n",
    "download_df.rename(columns={'index':'time'}, inplace=True)\n",
    "download_df = download_df[download_df.DOWNLOAD != 0]"
   ]
  },
  {
   "cell_type": "code",
   "execution_count": 132,
   "metadata": {},
   "outputs": [
    {
     "data": {
      "application/vnd.plotly.v1+json": {
       "data": [
        {
         "name": "Mean",
         "type": "bar",
         "x": [
          1,
          2,
          3,
          4,
          5,
          6,
          7,
          8,
          9,
          10,
          11,
          12,
          14,
          15,
          16,
          17,
          18
         ],
         "y": [
          2528.6189999999997,
          2509.1447083333355,
          2696.8928767123284,
          916.1203124999998,
          839.7743795620444,
          4066.4518750000016,
          950.2783798882682,
          3450.8595652173913,
          860.3904819277116,
          4.138098159509202,
          135.07689361702145,
          238.9378048780488,
          96.08167464114831,
          16.984688995215315,
          5.575820105820106,
          36.72630573248409,
          9.357317073170732
         ]
        },
        {
         "name": "Max",
         "type": "bar",
         "x": [
          1,
          2,
          3,
          4,
          5,
          6,
          7,
          8,
          9,
          10,
          11,
          12,
          14,
          15,
          16,
          17,
          18
         ],
         "y": [
          9666.56,
          11878.4,
          42086.4,
          4075.52,
          6871.04,
          6656,
          10342.4,
          38809.6,
          31744,
          7.32,
          12288,
          15257.6,
          174.28,
          27.66,
          6.34,
          46.02,
          9.55
         ]
        },
        {
         "name": "Median",
         "type": "bar",
         "x": [
          1,
          2,
          3,
          4,
          5,
          6,
          7,
          8,
          9,
          10,
          11,
          12,
          14,
          15,
          16,
          17,
          18
         ],
         "y": [
          9.059999999999999,
          11.260000000000002,
          180.685,
          3.76,
          6.46,
          5580.8,
          12.215,
          92.11,
          43.79,
          4.19,
          26.3,
          16.505000000000003,
          136.29,
          16.52,
          6.05,
          38.99,
          9.45
         ]
        }
       ],
       "layout": {
        "title": "Maximum, mean and median download speed per device"
       }
      },
      "text/html": [
       "<div id=\"5a18d621-44df-466f-9215-dd9a04871e52\" style=\"height: 525px; width: 100%;\" class=\"plotly-graph-div\"></div><script type=\"text/javascript\">require([\"plotly\"], function(Plotly) { window.PLOTLYENV=window.PLOTLYENV || {};window.PLOTLYENV.BASE_URL=\"https://plot.ly\";Plotly.newPlot(\"5a18d621-44df-466f-9215-dd9a04871e52\", [{\"type\": \"bar\", \"x\": [1, 2, 3, 4, 5, 6, 7, 8, 9, 10, 11, 12, 14, 15, 16, 17, 18], \"y\": [2528.6189999999997, 2509.1447083333355, 2696.8928767123284, 916.1203124999998, 839.7743795620444, 4066.4518750000016, 950.2783798882682, 3450.8595652173913, 860.3904819277116, 4.138098159509202, 135.07689361702145, 238.9378048780488, 96.08167464114831, 16.984688995215315, 5.575820105820106, 36.72630573248409, 9.357317073170732], \"name\": \"Mean\"}, {\"type\": \"bar\", \"x\": [1, 2, 3, 4, 5, 6, 7, 8, 9, 10, 11, 12, 14, 15, 16, 17, 18], \"y\": [9666.56, 11878.4, 42086.4, 4075.52, 6871.04, 6656.0, 10342.4, 38809.6, 31744.0, 7.32, 12288.0, 15257.6, 174.28, 27.66, 6.34, 46.02, 9.55], \"name\": \"Max\"}, {\"type\": \"bar\", \"x\": [1, 2, 3, 4, 5, 6, 7, 8, 9, 10, 11, 12, 14, 15, 16, 17, 18], \"y\": [9.059999999999999, 11.260000000000002, 180.685, 3.76, 6.46, 5580.8, 12.215, 92.11, 43.79, 4.19, 26.3, 16.505000000000003, 136.29, 16.52, 6.05, 38.99, 9.45], \"name\": \"Median\"}], {\"title\": \"Maximum, mean and median download speed per device\"}, {\"showLink\": true, \"linkText\": \"Export to plot.ly\"})});</script>"
      ],
      "text/vnd.plotly.v1+html": [
       "<div id=\"5a18d621-44df-466f-9215-dd9a04871e52\" style=\"height: 525px; width: 100%;\" class=\"plotly-graph-div\"></div><script type=\"text/javascript\">require([\"plotly\"], function(Plotly) { window.PLOTLYENV=window.PLOTLYENV || {};window.PLOTLYENV.BASE_URL=\"https://plot.ly\";Plotly.newPlot(\"5a18d621-44df-466f-9215-dd9a04871e52\", [{\"type\": \"bar\", \"x\": [1, 2, 3, 4, 5, 6, 7, 8, 9, 10, 11, 12, 14, 15, 16, 17, 18], \"y\": [2528.6189999999997, 2509.1447083333355, 2696.8928767123284, 916.1203124999998, 839.7743795620444, 4066.4518750000016, 950.2783798882682, 3450.8595652173913, 860.3904819277116, 4.138098159509202, 135.07689361702145, 238.9378048780488, 96.08167464114831, 16.984688995215315, 5.575820105820106, 36.72630573248409, 9.357317073170732], \"name\": \"Mean\"}, {\"type\": \"bar\", \"x\": [1, 2, 3, 4, 5, 6, 7, 8, 9, 10, 11, 12, 14, 15, 16, 17, 18], \"y\": [9666.56, 11878.4, 42086.4, 4075.52, 6871.04, 6656.0, 10342.4, 38809.6, 31744.0, 7.32, 12288.0, 15257.6, 174.28, 27.66, 6.34, 46.02, 9.55], \"name\": \"Max\"}, {\"type\": \"bar\", \"x\": [1, 2, 3, 4, 5, 6, 7, 8, 9, 10, 11, 12, 14, 15, 16, 17, 18], \"y\": [9.059999999999999, 11.260000000000002, 180.685, 3.76, 6.46, 5580.8, 12.215, 92.11, 43.79, 4.19, 26.3, 16.505000000000003, 136.29, 16.52, 6.05, 38.99, 9.45], \"name\": \"Median\"}], {\"title\": \"Maximum, mean and median download speed per device\"}, {\"showLink\": true, \"linkText\": \"Export to plot.ly\"})});</script>"
      ]
     },
     "metadata": {},
     "output_type": "display_data"
    }
   ],
   "source": [
    "barplot_averages(download_df,'DOWNLOAD',\"Maximum, mean and median download speed per device\")"
   ]
  },
  {
   "cell_type": "markdown",
   "metadata": {},
   "source": [
    "Clearly device #6 has an issue with largest median. Devices #3, #8 #9 having maximum spikes."
   ]
  },
  {
   "cell_type": "code",
   "execution_count": 133,
   "metadata": {},
   "outputs": [
    {
     "data": {
      "application/vnd.plotly.v1+json": {
       "data": [
        {
         "name": "Mean",
         "type": "bar",
         "x": [
          "Access Communications Co-operative Limited (Regina  SK)",
          "Axia Connect Ltd (Calgary  AB)",
          "Bell Mobility (Winnipeg  MB)",
          "BlackSun Inc. (Saskatoon  SK)",
          "Commstream Communications (Winnipeg  MB)",
          "Cybera (Calgary  AB)",
          "DataHive (Calgary  AB)",
          "LES.NET (Winnipeg  MB)",
          "Midco (Minot  ND)",
          "Morenet (Morden  MB)",
          "NetSet Communications (Brandon  MB)",
          "RFNow Inc. (Virden  MB)",
          "Rogers (Winnipeg  MB)",
          "SaskTel (Regina  SK)",
          "Shaw Communications (Winnipeg  MB)",
          "Swift High Speed.com (Winnipeg  MB)",
          "TELUS Mobility (Calgary  AB)",
          "VOI Network Solutions (Winnipeg  MB)",
          "Valley Fiber (Winkler  MB)",
          "Voyageur Internet (Winnipeg  MB)",
          "Westman Communications (Brandon  MB)",
          "clearskystatus.info iperf"
         ],
         "y": [
          6.73,
          180.12316384180795,
          37.081746031746036,
          33.283157894736846,
          16.07952802359883,
          182.48126984126984,
          60.813571428571436,
          21.513891752577326,
          6.039999999999999,
          7.165888888888891,
          39.7932183908046,
          38.212499999999984,
          6.679036544850499,
          38.72692307692307,
          32.86855392156862,
          4.614999999999999,
          140.47333333333333,
          71.74793103448275,
          27.03421686746988,
          11.838199233716471,
          38.49506024096386,
          7760.040851063824
         ]
        },
        {
         "name": "Max",
         "type": "bar",
         "x": [
          "Access Communications Co-operative Limited (Regina  SK)",
          "Axia Connect Ltd (Calgary  AB)",
          "Bell Mobility (Winnipeg  MB)",
          "BlackSun Inc. (Saskatoon  SK)",
          "Commstream Communications (Winnipeg  MB)",
          "Cybera (Calgary  AB)",
          "DataHive (Calgary  AB)",
          "LES.NET (Winnipeg  MB)",
          "Midco (Minot  ND)",
          "Morenet (Morden  MB)",
          "NetSet Communications (Brandon  MB)",
          "RFNow Inc. (Virden  MB)",
          "Rogers (Winnipeg  MB)",
          "SaskTel (Regina  SK)",
          "Shaw Communications (Winnipeg  MB)",
          "Swift High Speed.com (Winnipeg  MB)",
          "TELUS Mobility (Calgary  AB)",
          "VOI Network Solutions (Winnipeg  MB)",
          "Valley Fiber (Winkler  MB)",
          "Voyageur Internet (Winnipeg  MB)",
          "Westman Communications (Brandon  MB)",
          "clearskystatus.info iperf"
         ],
         "y": [
          6.73,
          184.88,
          51.06,
          49.71,
          168.07,
          186.16,
          68.72,
          173.12,
          6.06,
          45.99,
          49.94,
          169.25,
          15.68,
          46.14,
          174.28,
          6.7,
          148.23,
          164.45,
          167.85,
          128.25,
          50.61,
          42086.4
         ]
        },
        {
         "name": "Median",
         "type": "bar",
         "x": [
          "Access Communications Co-operative Limited (Regina  SK)",
          "Axia Connect Ltd (Calgary  AB)",
          "Bell Mobility (Winnipeg  MB)",
          "BlackSun Inc. (Saskatoon  SK)",
          "Commstream Communications (Winnipeg  MB)",
          "Cybera (Calgary  AB)",
          "DataHive (Calgary  AB)",
          "LES.NET (Winnipeg  MB)",
          "Midco (Minot  ND)",
          "Morenet (Morden  MB)",
          "NetSet Communications (Brandon  MB)",
          "RFNow Inc. (Virden  MB)",
          "Rogers (Winnipeg  MB)",
          "SaskTel (Regina  SK)",
          "Shaw Communications (Winnipeg  MB)",
          "Swift High Speed.com (Winnipeg  MB)",
          "TELUS Mobility (Calgary  AB)",
          "VOI Network Solutions (Winnipeg  MB)",
          "Valley Fiber (Winkler  MB)",
          "Voyageur Internet (Winnipeg  MB)",
          "Westman Communications (Brandon  MB)",
          "clearskystatus.info iperf"
         ],
         "y": [
          6.73,
          180.27,
          36.41,
          37.78,
          10.95,
          182.11,
          68.11,
          12.155,
          6.04,
          6.07,
          43.92,
          40.31,
          6.46,
          41.66,
          6.24,
          4.435,
          145.29,
          34.34,
          6.07,
          9.49,
          40.09,
          5795.84
         ]
        }
       ],
       "layout": {
        "title": "Maximum, mean and median download speed per test server"
       }
      },
      "text/html": [
       "<div id=\"cdb78079-32c2-4ae6-8ea4-80881367c2fa\" style=\"height: 525px; width: 100%;\" class=\"plotly-graph-div\"></div><script type=\"text/javascript\">require([\"plotly\"], function(Plotly) { window.PLOTLYENV=window.PLOTLYENV || {};window.PLOTLYENV.BASE_URL=\"https://plot.ly\";Plotly.newPlot(\"cdb78079-32c2-4ae6-8ea4-80881367c2fa\", [{\"type\": \"bar\", \"x\": [\"Access Communications Co-operative Limited (Regina  SK)\", \"Axia Connect Ltd (Calgary  AB)\", \"Bell Mobility (Winnipeg  MB)\", \"BlackSun Inc. (Saskatoon  SK)\", \"Commstream Communications (Winnipeg  MB)\", \"Cybera (Calgary  AB)\", \"DataHive (Calgary  AB)\", \"LES.NET (Winnipeg  MB)\", \"Midco (Minot  ND)\", \"Morenet (Morden  MB)\", \"NetSet Communications (Brandon  MB)\", \"RFNow Inc. (Virden  MB)\", \"Rogers (Winnipeg  MB)\", \"SaskTel (Regina  SK)\", \"Shaw Communications (Winnipeg  MB)\", \"Swift High Speed.com (Winnipeg  MB)\", \"TELUS Mobility (Calgary  AB)\", \"VOI Network Solutions (Winnipeg  MB)\", \"Valley Fiber (Winkler  MB)\", \"Voyageur Internet (Winnipeg  MB)\", \"Westman Communications (Brandon  MB)\", \"clearskystatus.info iperf\"], \"y\": [6.73, 180.12316384180795, 37.081746031746036, 33.283157894736846, 16.07952802359883, 182.48126984126984, 60.813571428571436, 21.513891752577326, 6.039999999999999, 7.165888888888891, 39.7932183908046, 38.212499999999984, 6.679036544850499, 38.72692307692307, 32.86855392156862, 4.614999999999999, 140.47333333333333, 71.74793103448275, 27.03421686746988, 11.838199233716471, 38.49506024096386, 7760.040851063824], \"name\": \"Mean\"}, {\"type\": \"bar\", \"x\": [\"Access Communications Co-operative Limited (Regina  SK)\", \"Axia Connect Ltd (Calgary  AB)\", \"Bell Mobility (Winnipeg  MB)\", \"BlackSun Inc. (Saskatoon  SK)\", \"Commstream Communications (Winnipeg  MB)\", \"Cybera (Calgary  AB)\", \"DataHive (Calgary  AB)\", \"LES.NET (Winnipeg  MB)\", \"Midco (Minot  ND)\", \"Morenet (Morden  MB)\", \"NetSet Communications (Brandon  MB)\", \"RFNow Inc. (Virden  MB)\", \"Rogers (Winnipeg  MB)\", \"SaskTel (Regina  SK)\", \"Shaw Communications (Winnipeg  MB)\", \"Swift High Speed.com (Winnipeg  MB)\", \"TELUS Mobility (Calgary  AB)\", \"VOI Network Solutions (Winnipeg  MB)\", \"Valley Fiber (Winkler  MB)\", \"Voyageur Internet (Winnipeg  MB)\", \"Westman Communications (Brandon  MB)\", \"clearskystatus.info iperf\"], \"y\": [6.73, 184.88, 51.06, 49.71, 168.07, 186.16, 68.72, 173.12, 6.06, 45.99, 49.94, 169.25, 15.68, 46.14, 174.28, 6.7, 148.23, 164.45, 167.85, 128.25, 50.61, 42086.4], \"name\": \"Max\"}, {\"type\": \"bar\", \"x\": [\"Access Communications Co-operative Limited (Regina  SK)\", \"Axia Connect Ltd (Calgary  AB)\", \"Bell Mobility (Winnipeg  MB)\", \"BlackSun Inc. (Saskatoon  SK)\", \"Commstream Communications (Winnipeg  MB)\", \"Cybera (Calgary  AB)\", \"DataHive (Calgary  AB)\", \"LES.NET (Winnipeg  MB)\", \"Midco (Minot  ND)\", \"Morenet (Morden  MB)\", \"NetSet Communications (Brandon  MB)\", \"RFNow Inc. (Virden  MB)\", \"Rogers (Winnipeg  MB)\", \"SaskTel (Regina  SK)\", \"Shaw Communications (Winnipeg  MB)\", \"Swift High Speed.com (Winnipeg  MB)\", \"TELUS Mobility (Calgary  AB)\", \"VOI Network Solutions (Winnipeg  MB)\", \"Valley Fiber (Winkler  MB)\", \"Voyageur Internet (Winnipeg  MB)\", \"Westman Communications (Brandon  MB)\", \"clearskystatus.info iperf\"], \"y\": [6.73, 180.27, 36.41, 37.78, 10.95, 182.11, 68.11, 12.155, 6.04, 6.07, 43.92, 40.31, 6.46, 41.66, 6.24, 4.435, 145.29, 34.34, 6.07, 9.49, 40.09, 5795.84], \"name\": \"Median\"}], {\"title\": \"Maximum, mean and median download speed per test server\"}, {\"showLink\": true, \"linkText\": \"Export to plot.ly\"})});</script>"
      ],
      "text/vnd.plotly.v1+html": [
       "<div id=\"cdb78079-32c2-4ae6-8ea4-80881367c2fa\" style=\"height: 525px; width: 100%;\" class=\"plotly-graph-div\"></div><script type=\"text/javascript\">require([\"plotly\"], function(Plotly) { window.PLOTLYENV=window.PLOTLYENV || {};window.PLOTLYENV.BASE_URL=\"https://plot.ly\";Plotly.newPlot(\"cdb78079-32c2-4ae6-8ea4-80881367c2fa\", [{\"type\": \"bar\", \"x\": [\"Access Communications Co-operative Limited (Regina  SK)\", \"Axia Connect Ltd (Calgary  AB)\", \"Bell Mobility (Winnipeg  MB)\", \"BlackSun Inc. (Saskatoon  SK)\", \"Commstream Communications (Winnipeg  MB)\", \"Cybera (Calgary  AB)\", \"DataHive (Calgary  AB)\", \"LES.NET (Winnipeg  MB)\", \"Midco (Minot  ND)\", \"Morenet (Morden  MB)\", \"NetSet Communications (Brandon  MB)\", \"RFNow Inc. (Virden  MB)\", \"Rogers (Winnipeg  MB)\", \"SaskTel (Regina  SK)\", \"Shaw Communications (Winnipeg  MB)\", \"Swift High Speed.com (Winnipeg  MB)\", \"TELUS Mobility (Calgary  AB)\", \"VOI Network Solutions (Winnipeg  MB)\", \"Valley Fiber (Winkler  MB)\", \"Voyageur Internet (Winnipeg  MB)\", \"Westman Communications (Brandon  MB)\", \"clearskystatus.info iperf\"], \"y\": [6.73, 180.12316384180795, 37.081746031746036, 33.283157894736846, 16.07952802359883, 182.48126984126984, 60.813571428571436, 21.513891752577326, 6.039999999999999, 7.165888888888891, 39.7932183908046, 38.212499999999984, 6.679036544850499, 38.72692307692307, 32.86855392156862, 4.614999999999999, 140.47333333333333, 71.74793103448275, 27.03421686746988, 11.838199233716471, 38.49506024096386, 7760.040851063824], \"name\": \"Mean\"}, {\"type\": \"bar\", \"x\": [\"Access Communications Co-operative Limited (Regina  SK)\", \"Axia Connect Ltd (Calgary  AB)\", \"Bell Mobility (Winnipeg  MB)\", \"BlackSun Inc. (Saskatoon  SK)\", \"Commstream Communications (Winnipeg  MB)\", \"Cybera (Calgary  AB)\", \"DataHive (Calgary  AB)\", \"LES.NET (Winnipeg  MB)\", \"Midco (Minot  ND)\", \"Morenet (Morden  MB)\", \"NetSet Communications (Brandon  MB)\", \"RFNow Inc. (Virden  MB)\", \"Rogers (Winnipeg  MB)\", \"SaskTel (Regina  SK)\", \"Shaw Communications (Winnipeg  MB)\", \"Swift High Speed.com (Winnipeg  MB)\", \"TELUS Mobility (Calgary  AB)\", \"VOI Network Solutions (Winnipeg  MB)\", \"Valley Fiber (Winkler  MB)\", \"Voyageur Internet (Winnipeg  MB)\", \"Westman Communications (Brandon  MB)\", \"clearskystatus.info iperf\"], \"y\": [6.73, 184.88, 51.06, 49.71, 168.07, 186.16, 68.72, 173.12, 6.06, 45.99, 49.94, 169.25, 15.68, 46.14, 174.28, 6.7, 148.23, 164.45, 167.85, 128.25, 50.61, 42086.4], \"name\": \"Max\"}, {\"type\": \"bar\", \"x\": [\"Access Communications Co-operative Limited (Regina  SK)\", \"Axia Connect Ltd (Calgary  AB)\", \"Bell Mobility (Winnipeg  MB)\", \"BlackSun Inc. (Saskatoon  SK)\", \"Commstream Communications (Winnipeg  MB)\", \"Cybera (Calgary  AB)\", \"DataHive (Calgary  AB)\", \"LES.NET (Winnipeg  MB)\", \"Midco (Minot  ND)\", \"Morenet (Morden  MB)\", \"NetSet Communications (Brandon  MB)\", \"RFNow Inc. (Virden  MB)\", \"Rogers (Winnipeg  MB)\", \"SaskTel (Regina  SK)\", \"Shaw Communications (Winnipeg  MB)\", \"Swift High Speed.com (Winnipeg  MB)\", \"TELUS Mobility (Calgary  AB)\", \"VOI Network Solutions (Winnipeg  MB)\", \"Valley Fiber (Winkler  MB)\", \"Voyageur Internet (Winnipeg  MB)\", \"Westman Communications (Brandon  MB)\", \"clearskystatus.info iperf\"], \"y\": [6.73, 180.27, 36.41, 37.78, 10.95, 182.11, 68.11, 12.155, 6.04, 6.07, 43.92, 40.31, 6.46, 41.66, 6.24, 4.435, 145.29, 34.34, 6.07, 9.49, 40.09, 5795.84], \"name\": \"Median\"}], {\"title\": \"Maximum, mean and median download speed per test server\"}, {\"showLink\": true, \"linkText\": \"Export to plot.ly\"})});</script>"
      ]
     },
     "metadata": {},
     "output_type": "display_data"
    }
   ],
   "source": [
    "download_df[\"server\"] = download_df[\"TEST_SERVER\"] + \" \" +download_df[\"PROVINCE\"]\n",
    "barplot_averages(download_df,'DOWNLOAD',\"Maximum, mean and median download speed per test server\", index_col='server')"
   ]
  },
  {
   "cell_type": "code",
   "execution_count": 134,
   "metadata": {},
   "outputs": [
    {
     "data": {
      "application/vnd.plotly.v1+json": {
       "data": [
        {
         "name": "Mean",
         "type": "bar",
         "x": [
          "Bell MTS",
          "Cogent Communications",
          "Commstream Communications",
          "Cybera",
          "High Speed Crow",
          "Keewaytinook Okimakanak",
          "MERLIN",
          "Manitoba Hydro International",
          "TeraGo Networks",
          "Xplornet Communications",
          "iperf"
         ],
         "y": [
          8.101510416666672,
          27.80288793103451,
          93.9423076923077,
          167.9052398523986,
          15.660743801652893,
          22.89344213649853,
          117.365,
          126.86157894736839,
          4.138098159509202,
          41.283112033195025,
          7760.040851063824
         ]
        },
        {
         "name": "Max",
         "type": "bar",
         "x": [
          "Bell MTS",
          "Cogent Communications",
          "Commstream Communications",
          "Cybera",
          "High Speed Crow",
          "Keewaytinook Okimakanak",
          "MERLIN",
          "Manitoba Hydro International",
          "TeraGo Networks",
          "Xplornet Communications",
          "iperf"
         ],
         "y": [
          27.66,
          51.06,
          128.39,
          186.16,
          19.17,
          168.07,
          128.73,
          174.28,
          7.32,
          50.61,
          42086.4
         ]
        },
        {
         "name": "Median",
         "type": "bar",
         "x": [
          "Bell MTS",
          "Cogent Communications",
          "Commstream Communications",
          "Cybera",
          "High Speed Crow",
          "Keewaytinook Okimakanak",
          "MERLIN",
          "Manitoba Hydro International",
          "TeraGo Networks",
          "Xplornet Communications",
          "iperf"
         ],
         "y": [
          6.41,
          26.255000000000003,
          91.51,
          180.35,
          16.465,
          9.52,
          125.705,
          159.155,
          4.19,
          43.62,
          5795.84
         ]
        }
       ],
       "layout": {
        "title": "Maximum, mean and median download speed per provider"
       }
      },
      "text/html": [
       "<div id=\"8599e048-4bc5-4636-b92b-0bb16a0a938e\" style=\"height: 525px; width: 100%;\" class=\"plotly-graph-div\"></div><script type=\"text/javascript\">require([\"plotly\"], function(Plotly) { window.PLOTLYENV=window.PLOTLYENV || {};window.PLOTLYENV.BASE_URL=\"https://plot.ly\";Plotly.newPlot(\"8599e048-4bc5-4636-b92b-0bb16a0a938e\", [{\"type\": \"bar\", \"x\": [\"Bell MTS\", \"Cogent Communications\", \"Commstream Communications\", \"Cybera\", \"High Speed Crow\", \"Keewaytinook Okimakanak\", \"MERLIN\", \"Manitoba Hydro International\", \"TeraGo Networks\", \"Xplornet Communications\", \"iperf\"], \"y\": [8.101510416666672, 27.80288793103451, 93.9423076923077, 167.9052398523986, 15.660743801652893, 22.89344213649853, 117.365, 126.86157894736839, 4.138098159509202, 41.283112033195025, 7760.040851063824], \"name\": \"Mean\"}, {\"type\": \"bar\", \"x\": [\"Bell MTS\", \"Cogent Communications\", \"Commstream Communications\", \"Cybera\", \"High Speed Crow\", \"Keewaytinook Okimakanak\", \"MERLIN\", \"Manitoba Hydro International\", \"TeraGo Networks\", \"Xplornet Communications\", \"iperf\"], \"y\": [27.66, 51.06, 128.39, 186.16, 19.17, 168.07, 128.73, 174.28, 7.32, 50.61, 42086.4], \"name\": \"Max\"}, {\"type\": \"bar\", \"x\": [\"Bell MTS\", \"Cogent Communications\", \"Commstream Communications\", \"Cybera\", \"High Speed Crow\", \"Keewaytinook Okimakanak\", \"MERLIN\", \"Manitoba Hydro International\", \"TeraGo Networks\", \"Xplornet Communications\", \"iperf\"], \"y\": [6.41, 26.255000000000003, 91.51, 180.35, 16.465, 9.52, 125.705, 159.155, 4.19, 43.62, 5795.84], \"name\": \"Median\"}], {\"title\": \"Maximum, mean and median download speed per provider\"}, {\"showLink\": true, \"linkText\": \"Export to plot.ly\"})});</script>"
      ],
      "text/vnd.plotly.v1+html": [
       "<div id=\"8599e048-4bc5-4636-b92b-0bb16a0a938e\" style=\"height: 525px; width: 100%;\" class=\"plotly-graph-div\"></div><script type=\"text/javascript\">require([\"plotly\"], function(Plotly) { window.PLOTLYENV=window.PLOTLYENV || {};window.PLOTLYENV.BASE_URL=\"https://plot.ly\";Plotly.newPlot(\"8599e048-4bc5-4636-b92b-0bb16a0a938e\", [{\"type\": \"bar\", \"x\": [\"Bell MTS\", \"Cogent Communications\", \"Commstream Communications\", \"Cybera\", \"High Speed Crow\", \"Keewaytinook Okimakanak\", \"MERLIN\", \"Manitoba Hydro International\", \"TeraGo Networks\", \"Xplornet Communications\", \"iperf\"], \"y\": [8.101510416666672, 27.80288793103451, 93.9423076923077, 167.9052398523986, 15.660743801652893, 22.89344213649853, 117.365, 126.86157894736839, 4.138098159509202, 41.283112033195025, 7760.040851063824], \"name\": \"Mean\"}, {\"type\": \"bar\", \"x\": [\"Bell MTS\", \"Cogent Communications\", \"Commstream Communications\", \"Cybera\", \"High Speed Crow\", \"Keewaytinook Okimakanak\", \"MERLIN\", \"Manitoba Hydro International\", \"TeraGo Networks\", \"Xplornet Communications\", \"iperf\"], \"y\": [27.66, 51.06, 128.39, 186.16, 19.17, 168.07, 128.73, 174.28, 7.32, 50.61, 42086.4], \"name\": \"Max\"}, {\"type\": \"bar\", \"x\": [\"Bell MTS\", \"Cogent Communications\", \"Commstream Communications\", \"Cybera\", \"High Speed Crow\", \"Keewaytinook Okimakanak\", \"MERLIN\", \"Manitoba Hydro International\", \"TeraGo Networks\", \"Xplornet Communications\", \"iperf\"], \"y\": [6.41, 26.255000000000003, 91.51, 180.35, 16.465, 9.52, 125.705, 159.155, 4.19, 43.62, 5795.84], \"name\": \"Median\"}], {\"title\": \"Maximum, mean and median download speed per provider\"}, {\"showLink\": true, \"linkText\": \"Export to plot.ly\"})});</script>"
      ]
     },
     "metadata": {},
     "output_type": "display_data"
    }
   ],
   "source": [
    "barplot_averages(download_df,'DOWNLOAD',\"Maximum, mean and median download speed per provider\", index_col='PROVIDER')"
   ]
  },
  {
   "cell_type": "markdown",
   "metadata": {},
   "source": [
    "### Median, average, maximum ping latency"
   ]
  },
  {
   "cell_type": "code",
   "execution_count": 60,
   "metadata": {
    "collapsed": true
   },
   "outputs": [],
   "source": [
    "query_ping = 'SELECT * FROM SPEEDTEST_PING;'\n",
    "result_ping= client.query(query_ping)\n",
    "ping_df = result_ping['SPEEDTEST_PING']\n",
    "\n",
    "ping_df.reset_index(level=0, inplace=True)\n",
    "ping_df['index']=ping_df['index'].dt.strftime('%Y-%m-%d %H:%M:%S')\n",
    "ping_df['index'] = pd.to_datetime(ping_df['index'])\n",
    "ping_df['SK_PI']=pd.to_numeric(ping_df['SK_PI'])\n",
    "\n",
    "ping_df.rename(columns={'index':'time'}, inplace=True)\n",
    "ping_df = ping_df[ping_df.PING != 1800000.000] ## Removed outier that was found in the ms sql table"
   ]
  },
  {
   "cell_type": "code",
   "execution_count": 61,
   "metadata": {},
   "outputs": [
    {
     "data": {
      "application/vnd.plotly.v1+json": {
       "data": [
        {
         "name": "Mean",
         "type": "bar",
         "x": [
          1,
          2,
          3,
          4,
          5,
          6,
          7,
          8,
          9,
          10,
          11,
          12,
          14,
          15,
          16,
          17,
          18
         ],
         "y": [
          75.8511,
          86.71691666666666,
          16.861317725752496,
          68.68412456747407,
          98.33885945945948,
          72.2733125,
          84.83041095890414,
          27.708173913043478,
          59.479335937500046,
          112.05979761904759,
          72.47095041322316,
          46.10386956521743,
          40.20700462962964,
          76.5313148148148,
          123.27184615384618,
          69.2146646341463,
          47.416592307692305
         ]
        },
        {
         "name": "Max",
         "type": "bar",
         "x": [
          1,
          2,
          3,
          4,
          5,
          6,
          7,
          8,
          9,
          10,
          11,
          12,
          14,
          15,
          16,
          17,
          18
         ],
         "y": [
          91.057,
          384.464,
          50.677,
          196.284,
          1125.501,
          153.61,
          511.859,
          90.184,
          130.437,
          679.029,
          90.874,
          76.434,
          520.789,
          96.08,
          1258.02,
          93.918,
          55.826
         ]
        },
        {
         "name": "Median",
         "type": "bar",
         "x": [
          1,
          2,
          3,
          4,
          5,
          6,
          7,
          8,
          9,
          10,
          11,
          12,
          14,
          15,
          16,
          17,
          18
         ],
         "y": [
          74.848,
          80.23150000000001,
          16.217,
          67.523,
          84.249,
          63.944,
          81.793,
          16.946,
          50.4795,
          103.26599999999999,
          72.5685,
          49.536,
          37.7225,
          76.864,
          98.406,
          68.5685,
          46.784499999999994
         ]
        }
       ],
       "layout": {
        "title": "Maximum, mean and median ping latency per device"
       }
      },
      "text/html": [
       "<div id=\"73485151-fe01-4a2a-bc83-4feeb702eb94\" style=\"height: 525px; width: 100%;\" class=\"plotly-graph-div\"></div><script type=\"text/javascript\">require([\"plotly\"], function(Plotly) { window.PLOTLYENV=window.PLOTLYENV || {};window.PLOTLYENV.BASE_URL=\"https://plot.ly\";Plotly.newPlot(\"73485151-fe01-4a2a-bc83-4feeb702eb94\", [{\"type\": \"bar\", \"x\": [1, 2, 3, 4, 5, 6, 7, 8, 9, 10, 11, 12, 14, 15, 16, 17, 18], \"y\": [75.8511, 86.71691666666666, 16.861317725752496, 68.68412456747407, 98.33885945945948, 72.2733125, 84.83041095890414, 27.708173913043478, 59.479335937500046, 112.05979761904759, 72.47095041322316, 46.10386956521743, 40.20700462962964, 76.5313148148148, 123.27184615384618, 69.2146646341463, 47.416592307692305], \"name\": \"Mean\"}, {\"type\": \"bar\", \"x\": [1, 2, 3, 4, 5, 6, 7, 8, 9, 10, 11, 12, 14, 15, 16, 17, 18], \"y\": [91.057, 384.464, 50.677, 196.284, 1125.501, 153.61, 511.859, 90.184, 130.437, 679.029, 90.874, 76.434, 520.789, 96.08, 1258.02, 93.918, 55.826], \"name\": \"Max\"}, {\"type\": \"bar\", \"x\": [1, 2, 3, 4, 5, 6, 7, 8, 9, 10, 11, 12, 14, 15, 16, 17, 18], \"y\": [74.848, 80.23150000000001, 16.217, 67.523, 84.249, 63.944, 81.793, 16.946, 50.4795, 103.26599999999999, 72.5685, 49.536, 37.7225, 76.864, 98.406, 68.5685, 46.784499999999994], \"name\": \"Median\"}], {\"title\": \"Maximum, mean and median ping latency per device\"}, {\"showLink\": true, \"linkText\": \"Export to plot.ly\"})});</script>"
      ],
      "text/vnd.plotly.v1+html": [
       "<div id=\"73485151-fe01-4a2a-bc83-4feeb702eb94\" style=\"height: 525px; width: 100%;\" class=\"plotly-graph-div\"></div><script type=\"text/javascript\">require([\"plotly\"], function(Plotly) { window.PLOTLYENV=window.PLOTLYENV || {};window.PLOTLYENV.BASE_URL=\"https://plot.ly\";Plotly.newPlot(\"73485151-fe01-4a2a-bc83-4feeb702eb94\", [{\"type\": \"bar\", \"x\": [1, 2, 3, 4, 5, 6, 7, 8, 9, 10, 11, 12, 14, 15, 16, 17, 18], \"y\": [75.8511, 86.71691666666666, 16.861317725752496, 68.68412456747407, 98.33885945945948, 72.2733125, 84.83041095890414, 27.708173913043478, 59.479335937500046, 112.05979761904759, 72.47095041322316, 46.10386956521743, 40.20700462962964, 76.5313148148148, 123.27184615384618, 69.2146646341463, 47.416592307692305], \"name\": \"Mean\"}, {\"type\": \"bar\", \"x\": [1, 2, 3, 4, 5, 6, 7, 8, 9, 10, 11, 12, 14, 15, 16, 17, 18], \"y\": [91.057, 384.464, 50.677, 196.284, 1125.501, 153.61, 511.859, 90.184, 130.437, 679.029, 90.874, 76.434, 520.789, 96.08, 1258.02, 93.918, 55.826], \"name\": \"Max\"}, {\"type\": \"bar\", \"x\": [1, 2, 3, 4, 5, 6, 7, 8, 9, 10, 11, 12, 14, 15, 16, 17, 18], \"y\": [74.848, 80.23150000000001, 16.217, 67.523, 84.249, 63.944, 81.793, 16.946, 50.4795, 103.26599999999999, 72.5685, 49.536, 37.7225, 76.864, 98.406, 68.5685, 46.784499999999994], \"name\": \"Median\"}], {\"title\": \"Maximum, mean and median ping latency per device\"}, {\"showLink\": true, \"linkText\": \"Export to plot.ly\"})});</script>"
      ]
     },
     "metadata": {},
     "output_type": "display_data"
    }
   ],
   "source": [
    "barplot_averages(ping_df,'PING',\"Maximum, mean and median ping latency per device\")"
   ]
  },
  {
   "cell_type": "markdown",
   "metadata": {},
   "source": [
    "Devices #5 and #16 have largest maximum. Device #10 has large median, average as well."
   ]
  },
  {
   "cell_type": "code",
   "execution_count": 138,
   "metadata": {},
   "outputs": [
    {
     "data": {
      "application/vnd.plotly.v1+json": {
       "data": [
        {
         "name": "Mean",
         "type": "bar",
         "x": [
          "Access Communications Co-operative Limited (Regina  SK)",
          "Axia Connect Ltd (Calgary  AB)",
          "Bell Mobility (Winnipeg  MB)",
          "BlackSun Inc. (Saskatoon  SK)",
          "Commstream Communications (Winnipeg  MB)",
          "Cybera (Calgary  AB)",
          "DataHive (Calgary  AB)",
          "LES.NET (Winnipeg  MB)",
          "Midco (Minot  ND)",
          "Morenet (Morden  MB)",
          "NetSet Communications (Brandon  MB)",
          "RFNow Inc. (Virden  MB)",
          "Rogers (Winnipeg  MB)",
          "SaskTel (Regina  SK)",
          "Shaw Communications (Winnipeg  MB)",
          "Swift High Speed.com (Winnipeg  MB)",
          "TELUS Mobility (Calgary  AB)",
          "VOI Network Solutions (Winnipeg  MB)",
          "Valley Fiber (Winkler  MB)",
          "Voyageur Internet (Winnipeg  MB)",
          "Westman Communications (Brandon  MB)",
          "clearskystatus.info iperf"
         ],
         "y": [
          98.623,
          16.62242372881356,
          69.22336507936507,
          95.22642105263158,
          68.37871386430677,
          6.43684126984127,
          17.805428571428575,
          77.93288917525777,
          111.004,
          104.3320111111111,
          56.75198850574712,
          85.34404687500002,
          91.31771428571425,
          87.79738461538462,
          73.39541320293401,
          445.96500000000003,
          39.81333333333333,
          81.86393103448276,
          106.41484337349401,
          76.09032822477657,
          70.10562650602412,
          71.80574468085108
         ]
        },
        {
         "name": "Max",
         "type": "bar",
         "x": [
          "Access Communications Co-operative Limited (Regina  SK)",
          "Axia Connect Ltd (Calgary  AB)",
          "Bell Mobility (Winnipeg  MB)",
          "BlackSun Inc. (Saskatoon  SK)",
          "Commstream Communications (Winnipeg  MB)",
          "Cybera (Calgary  AB)",
          "DataHive (Calgary  AB)",
          "LES.NET (Winnipeg  MB)",
          "Midco (Minot  ND)",
          "Morenet (Morden  MB)",
          "NetSet Communications (Brandon  MB)",
          "RFNow Inc. (Virden  MB)",
          "Rogers (Winnipeg  MB)",
          "SaskTel (Regina  SK)",
          "Shaw Communications (Winnipeg  MB)",
          "Swift High Speed.com (Winnipeg  MB)",
          "TELUS Mobility (Calgary  AB)",
          "VOI Network Solutions (Winnipeg  MB)",
          "Valley Fiber (Winkler  MB)",
          "Voyageur Internet (Winnipeg  MB)",
          "Westman Communications (Brandon  MB)",
          "clearskystatus.info iperf"
         ],
         "y": [
          98.623,
          44.07,
          75.848,
          130.437,
          511.859,
          8.929,
          33.232,
          679.029,
          116.987,
          320.886,
          298.15,
          291.275,
          266.557,
          94.775,
          817.343,
          1125.501,
          40.113,
          520.789,
          816.299,
          257.849,
          1258.02,
          669.219
         ]
        },
        {
         "name": "Median",
         "type": "bar",
         "x": [
          "Access Communications Co-operative Limited (Regina  SK)",
          "Axia Connect Ltd (Calgary  AB)",
          "Bell Mobility (Winnipeg  MB)",
          "BlackSun Inc. (Saskatoon  SK)",
          "Commstream Communications (Winnipeg  MB)",
          "Cybera (Calgary  AB)",
          "DataHive (Calgary  AB)",
          "LES.NET (Winnipeg  MB)",
          "Midco (Minot  ND)",
          "Morenet (Morden  MB)",
          "NetSet Communications (Brandon  MB)",
          "RFNow Inc. (Virden  MB)",
          "Rogers (Winnipeg  MB)",
          "SaskTel (Regina  SK)",
          "Shaw Communications (Winnipeg  MB)",
          "Swift High Speed.com (Winnipeg  MB)",
          "TELUS Mobility (Calgary  AB)",
          "VOI Network Solutions (Winnipeg  MB)",
          "Valley Fiber (Winkler  MB)",
          "Voyageur Internet (Winnipeg  MB)",
          "Westman Communications (Brandon  MB)",
          "clearskystatus.info iperf"
         ],
         "y": [
          98.623,
          16.41,
          68.931,
          91.823,
          60.018,
          6.363,
          10.3985,
          77.8215,
          112.076,
          98.963,
          49.125,
          90.6485,
          84.178,
          88.871,
          70.408,
          285.0545,
          39.89,
          46.19,
          96.485,
          77.547,
          68.097,
          64.82249999999999
         ]
        }
       ],
       "layout": {
        "title": "Maximum, mean and median ping latency per test server"
       }
      },
      "text/html": [
       "<div id=\"c83cc504-ad3e-4662-83f1-a364279ba7a2\" style=\"height: 525px; width: 100%;\" class=\"plotly-graph-div\"></div><script type=\"text/javascript\">require([\"plotly\"], function(Plotly) { window.PLOTLYENV=window.PLOTLYENV || {};window.PLOTLYENV.BASE_URL=\"https://plot.ly\";Plotly.newPlot(\"c83cc504-ad3e-4662-83f1-a364279ba7a2\", [{\"type\": \"bar\", \"x\": [\"Access Communications Co-operative Limited (Regina  SK)\", \"Axia Connect Ltd (Calgary  AB)\", \"Bell Mobility (Winnipeg  MB)\", \"BlackSun Inc. (Saskatoon  SK)\", \"Commstream Communications (Winnipeg  MB)\", \"Cybera (Calgary  AB)\", \"DataHive (Calgary  AB)\", \"LES.NET (Winnipeg  MB)\", \"Midco (Minot  ND)\", \"Morenet (Morden  MB)\", \"NetSet Communications (Brandon  MB)\", \"RFNow Inc. (Virden  MB)\", \"Rogers (Winnipeg  MB)\", \"SaskTel (Regina  SK)\", \"Shaw Communications (Winnipeg  MB)\", \"Swift High Speed.com (Winnipeg  MB)\", \"TELUS Mobility (Calgary  AB)\", \"VOI Network Solutions (Winnipeg  MB)\", \"Valley Fiber (Winkler  MB)\", \"Voyageur Internet (Winnipeg  MB)\", \"Westman Communications (Brandon  MB)\", \"clearskystatus.info iperf\"], \"y\": [98.623, 16.62242372881356, 69.22336507936507, 95.22642105263158, 68.37871386430677, 6.43684126984127, 17.805428571428575, 77.93288917525777, 111.004, 104.3320111111111, 56.75198850574712, 85.34404687500002, 91.31771428571425, 87.79738461538462, 73.39541320293401, 445.96500000000003, 39.81333333333333, 81.86393103448276, 106.41484337349401, 76.09032822477657, 70.10562650602412, 71.80574468085108], \"name\": \"Mean\"}, {\"type\": \"bar\", \"x\": [\"Access Communications Co-operative Limited (Regina  SK)\", \"Axia Connect Ltd (Calgary  AB)\", \"Bell Mobility (Winnipeg  MB)\", \"BlackSun Inc. (Saskatoon  SK)\", \"Commstream Communications (Winnipeg  MB)\", \"Cybera (Calgary  AB)\", \"DataHive (Calgary  AB)\", \"LES.NET (Winnipeg  MB)\", \"Midco (Minot  ND)\", \"Morenet (Morden  MB)\", \"NetSet Communications (Brandon  MB)\", \"RFNow Inc. (Virden  MB)\", \"Rogers (Winnipeg  MB)\", \"SaskTel (Regina  SK)\", \"Shaw Communications (Winnipeg  MB)\", \"Swift High Speed.com (Winnipeg  MB)\", \"TELUS Mobility (Calgary  AB)\", \"VOI Network Solutions (Winnipeg  MB)\", \"Valley Fiber (Winkler  MB)\", \"Voyageur Internet (Winnipeg  MB)\", \"Westman Communications (Brandon  MB)\", \"clearskystatus.info iperf\"], \"y\": [98.623, 44.07, 75.848, 130.437, 511.859, 8.929, 33.232, 679.029, 116.987, 320.886, 298.15, 291.275, 266.557, 94.775, 817.343, 1125.501, 40.113, 520.789, 816.299, 257.849, 1258.02, 669.219], \"name\": \"Max\"}, {\"type\": \"bar\", \"x\": [\"Access Communications Co-operative Limited (Regina  SK)\", \"Axia Connect Ltd (Calgary  AB)\", \"Bell Mobility (Winnipeg  MB)\", \"BlackSun Inc. (Saskatoon  SK)\", \"Commstream Communications (Winnipeg  MB)\", \"Cybera (Calgary  AB)\", \"DataHive (Calgary  AB)\", \"LES.NET (Winnipeg  MB)\", \"Midco (Minot  ND)\", \"Morenet (Morden  MB)\", \"NetSet Communications (Brandon  MB)\", \"RFNow Inc. (Virden  MB)\", \"Rogers (Winnipeg  MB)\", \"SaskTel (Regina  SK)\", \"Shaw Communications (Winnipeg  MB)\", \"Swift High Speed.com (Winnipeg  MB)\", \"TELUS Mobility (Calgary  AB)\", \"VOI Network Solutions (Winnipeg  MB)\", \"Valley Fiber (Winkler  MB)\", \"Voyageur Internet (Winnipeg  MB)\", \"Westman Communications (Brandon  MB)\", \"clearskystatus.info iperf\"], \"y\": [98.623, 16.41, 68.931, 91.823, 60.018, 6.363, 10.3985, 77.8215, 112.076, 98.963, 49.125, 90.6485, 84.178, 88.871, 70.408, 285.0545, 39.89, 46.19, 96.485, 77.547, 68.097, 64.82249999999999], \"name\": \"Median\"}], {\"title\": \"Maximum, mean and median ping latency per test server\"}, {\"showLink\": true, \"linkText\": \"Export to plot.ly\"})});</script>"
      ],
      "text/vnd.plotly.v1+html": [
       "<div id=\"c83cc504-ad3e-4662-83f1-a364279ba7a2\" style=\"height: 525px; width: 100%;\" class=\"plotly-graph-div\"></div><script type=\"text/javascript\">require([\"plotly\"], function(Plotly) { window.PLOTLYENV=window.PLOTLYENV || {};window.PLOTLYENV.BASE_URL=\"https://plot.ly\";Plotly.newPlot(\"c83cc504-ad3e-4662-83f1-a364279ba7a2\", [{\"type\": \"bar\", \"x\": [\"Access Communications Co-operative Limited (Regina  SK)\", \"Axia Connect Ltd (Calgary  AB)\", \"Bell Mobility (Winnipeg  MB)\", \"BlackSun Inc. (Saskatoon  SK)\", \"Commstream Communications (Winnipeg  MB)\", \"Cybera (Calgary  AB)\", \"DataHive (Calgary  AB)\", \"LES.NET (Winnipeg  MB)\", \"Midco (Minot  ND)\", \"Morenet (Morden  MB)\", \"NetSet Communications (Brandon  MB)\", \"RFNow Inc. (Virden  MB)\", \"Rogers (Winnipeg  MB)\", \"SaskTel (Regina  SK)\", \"Shaw Communications (Winnipeg  MB)\", \"Swift High Speed.com (Winnipeg  MB)\", \"TELUS Mobility (Calgary  AB)\", \"VOI Network Solutions (Winnipeg  MB)\", \"Valley Fiber (Winkler  MB)\", \"Voyageur Internet (Winnipeg  MB)\", \"Westman Communications (Brandon  MB)\", \"clearskystatus.info iperf\"], \"y\": [98.623, 16.62242372881356, 69.22336507936507, 95.22642105263158, 68.37871386430677, 6.43684126984127, 17.805428571428575, 77.93288917525777, 111.004, 104.3320111111111, 56.75198850574712, 85.34404687500002, 91.31771428571425, 87.79738461538462, 73.39541320293401, 445.96500000000003, 39.81333333333333, 81.86393103448276, 106.41484337349401, 76.09032822477657, 70.10562650602412, 71.80574468085108], \"name\": \"Mean\"}, {\"type\": \"bar\", \"x\": [\"Access Communications Co-operative Limited (Regina  SK)\", \"Axia Connect Ltd (Calgary  AB)\", \"Bell Mobility (Winnipeg  MB)\", \"BlackSun Inc. (Saskatoon  SK)\", \"Commstream Communications (Winnipeg  MB)\", \"Cybera (Calgary  AB)\", \"DataHive (Calgary  AB)\", \"LES.NET (Winnipeg  MB)\", \"Midco (Minot  ND)\", \"Morenet (Morden  MB)\", \"NetSet Communications (Brandon  MB)\", \"RFNow Inc. (Virden  MB)\", \"Rogers (Winnipeg  MB)\", \"SaskTel (Regina  SK)\", \"Shaw Communications (Winnipeg  MB)\", \"Swift High Speed.com (Winnipeg  MB)\", \"TELUS Mobility (Calgary  AB)\", \"VOI Network Solutions (Winnipeg  MB)\", \"Valley Fiber (Winkler  MB)\", \"Voyageur Internet (Winnipeg  MB)\", \"Westman Communications (Brandon  MB)\", \"clearskystatus.info iperf\"], \"y\": [98.623, 44.07, 75.848, 130.437, 511.859, 8.929, 33.232, 679.029, 116.987, 320.886, 298.15, 291.275, 266.557, 94.775, 817.343, 1125.501, 40.113, 520.789, 816.299, 257.849, 1258.02, 669.219], \"name\": \"Max\"}, {\"type\": \"bar\", \"x\": [\"Access Communications Co-operative Limited (Regina  SK)\", \"Axia Connect Ltd (Calgary  AB)\", \"Bell Mobility (Winnipeg  MB)\", \"BlackSun Inc. (Saskatoon  SK)\", \"Commstream Communications (Winnipeg  MB)\", \"Cybera (Calgary  AB)\", \"DataHive (Calgary  AB)\", \"LES.NET (Winnipeg  MB)\", \"Midco (Minot  ND)\", \"Morenet (Morden  MB)\", \"NetSet Communications (Brandon  MB)\", \"RFNow Inc. (Virden  MB)\", \"Rogers (Winnipeg  MB)\", \"SaskTel (Regina  SK)\", \"Shaw Communications (Winnipeg  MB)\", \"Swift High Speed.com (Winnipeg  MB)\", \"TELUS Mobility (Calgary  AB)\", \"VOI Network Solutions (Winnipeg  MB)\", \"Valley Fiber (Winkler  MB)\", \"Voyageur Internet (Winnipeg  MB)\", \"Westman Communications (Brandon  MB)\", \"clearskystatus.info iperf\"], \"y\": [98.623, 16.41, 68.931, 91.823, 60.018, 6.363, 10.3985, 77.8215, 112.076, 98.963, 49.125, 90.6485, 84.178, 88.871, 70.408, 285.0545, 39.89, 46.19, 96.485, 77.547, 68.097, 64.82249999999999], \"name\": \"Median\"}], {\"title\": \"Maximum, mean and median ping latency per test server\"}, {\"showLink\": true, \"linkText\": \"Export to plot.ly\"})});</script>"
      ]
     },
     "metadata": {},
     "output_type": "display_data"
    }
   ],
   "source": [
    "ping_df[\"server\"] = ping_df[\"TEST_SERVER\"] + \" \" +ping_df[\"PROVINCE\"]\n",
    "barplot_averages(ping_df,'PING',\"Maximum, mean and median ping latency per test server\", index_col='server')"
   ]
  },
  {
   "cell_type": "markdown",
   "metadata": {},
   "source": [
    "In this case test server 'Swift Highspeed.com' has largest median, average ping latency."
   ]
  },
  {
   "cell_type": "code",
   "execution_count": 63,
   "metadata": {},
   "outputs": [
    {
     "data": {
      "application/vnd.plotly.v1+json": {
       "data": [
        {
         "name": "Mean",
         "type": "bar",
         "x": [
          "Bell MTS",
          "Cogent Communications",
          "Commstream Communications",
          "Cybera",
          "High Speed Crow",
          "Keewaytinook Okimakanak",
          "MERLIN",
          "Manitoba Hydro International",
          "TeraGo Networks",
          "Xplornet Communications",
          "iperf"
         ],
         "y": [
          92.459938618926,
          72.64277824267785,
          18.950076923076924,
          14.426482014388489,
          46.456518072289185,
          58.08707692307695,
          35.77525,
          36.550383647798746,
          112.05979761904759,
          59.967883064516165,
          71.80574468085108
         ]
        },
        {
         "name": "Max",
         "type": "bar",
         "x": [
          "Bell MTS",
          "Cogent Communications",
          "Commstream Communications",
          "Cybera",
          "High Speed Crow",
          "Keewaytinook Okimakanak",
          "MERLIN",
          "Manitoba Hydro International",
          "TeraGo Networks",
          "Xplornet Communications",
          "iperf"
         ],
         "y": [
          1258.02,
          90.874,
          54.83,
          44.07,
          76.434,
          520.789,
          90.184,
          59.573,
          679.029,
          130.437,
          669.219
         ]
        },
        {
         "name": "Median",
         "type": "bar",
         "x": [
          "Bell MTS",
          "Cogent Communications",
          "Commstream Communications",
          "Cybera",
          "High Speed Crow",
          "Keewaytinook Okimakanak",
          "MERLIN",
          "Manitoba Hydro International",
          "TeraGo Networks",
          "Xplornet Communications",
          "iperf"
         ],
         "y": [
          82.5485,
          72.617,
          16.458,
          14.7395,
          49.93,
          52.768,
          18.0565,
          36.943,
          103.26599999999999,
          50.9295,
          64.82249999999999
         ]
        }
       ],
       "layout": {
        "title": "Maximum, mean and median ping latency per provider"
       }
      },
      "text/html": [
       "<div id=\"37501448-9d6e-44a6-af4b-e5e307985c47\" style=\"height: 525px; width: 100%;\" class=\"plotly-graph-div\"></div><script type=\"text/javascript\">require([\"plotly\"], function(Plotly) { window.PLOTLYENV=window.PLOTLYENV || {};window.PLOTLYENV.BASE_URL=\"https://plot.ly\";Plotly.newPlot(\"37501448-9d6e-44a6-af4b-e5e307985c47\", [{\"type\": \"bar\", \"x\": [\"Bell MTS\", \"Cogent Communications\", \"Commstream Communications\", \"Cybera\", \"High Speed Crow\", \"Keewaytinook Okimakanak\", \"MERLIN\", \"Manitoba Hydro International\", \"TeraGo Networks\", \"Xplornet Communications\", \"iperf\"], \"y\": [92.459938618926, 72.64277824267785, 18.950076923076924, 14.426482014388489, 46.456518072289185, 58.08707692307695, 35.77525, 36.550383647798746, 112.05979761904759, 59.967883064516165, 71.80574468085108], \"name\": \"Mean\"}, {\"type\": \"bar\", \"x\": [\"Bell MTS\", \"Cogent Communications\", \"Commstream Communications\", \"Cybera\", \"High Speed Crow\", \"Keewaytinook Okimakanak\", \"MERLIN\", \"Manitoba Hydro International\", \"TeraGo Networks\", \"Xplornet Communications\", \"iperf\"], \"y\": [1258.02, 90.874, 54.83, 44.07, 76.434, 520.789, 90.184, 59.573, 679.029, 130.437, 669.219], \"name\": \"Max\"}, {\"type\": \"bar\", \"x\": [\"Bell MTS\", \"Cogent Communications\", \"Commstream Communications\", \"Cybera\", \"High Speed Crow\", \"Keewaytinook Okimakanak\", \"MERLIN\", \"Manitoba Hydro International\", \"TeraGo Networks\", \"Xplornet Communications\", \"iperf\"], \"y\": [82.5485, 72.617, 16.458, 14.7395, 49.93, 52.768, 18.0565, 36.943, 103.26599999999999, 50.9295, 64.82249999999999], \"name\": \"Median\"}], {\"title\": \"Maximum, mean and median ping latency per provider\"}, {\"showLink\": true, \"linkText\": \"Export to plot.ly\"})});</script>"
      ],
      "text/vnd.plotly.v1+html": [
       "<div id=\"37501448-9d6e-44a6-af4b-e5e307985c47\" style=\"height: 525px; width: 100%;\" class=\"plotly-graph-div\"></div><script type=\"text/javascript\">require([\"plotly\"], function(Plotly) { window.PLOTLYENV=window.PLOTLYENV || {};window.PLOTLYENV.BASE_URL=\"https://plot.ly\";Plotly.newPlot(\"37501448-9d6e-44a6-af4b-e5e307985c47\", [{\"type\": \"bar\", \"x\": [\"Bell MTS\", \"Cogent Communications\", \"Commstream Communications\", \"Cybera\", \"High Speed Crow\", \"Keewaytinook Okimakanak\", \"MERLIN\", \"Manitoba Hydro International\", \"TeraGo Networks\", \"Xplornet Communications\", \"iperf\"], \"y\": [92.459938618926, 72.64277824267785, 18.950076923076924, 14.426482014388489, 46.456518072289185, 58.08707692307695, 35.77525, 36.550383647798746, 112.05979761904759, 59.967883064516165, 71.80574468085108], \"name\": \"Mean\"}, {\"type\": \"bar\", \"x\": [\"Bell MTS\", \"Cogent Communications\", \"Commstream Communications\", \"Cybera\", \"High Speed Crow\", \"Keewaytinook Okimakanak\", \"MERLIN\", \"Manitoba Hydro International\", \"TeraGo Networks\", \"Xplornet Communications\", \"iperf\"], \"y\": [1258.02, 90.874, 54.83, 44.07, 76.434, 520.789, 90.184, 59.573, 679.029, 130.437, 669.219], \"name\": \"Max\"}, {\"type\": \"bar\", \"x\": [\"Bell MTS\", \"Cogent Communications\", \"Commstream Communications\", \"Cybera\", \"High Speed Crow\", \"Keewaytinook Okimakanak\", \"MERLIN\", \"Manitoba Hydro International\", \"TeraGo Networks\", \"Xplornet Communications\", \"iperf\"], \"y\": [82.5485, 72.617, 16.458, 14.7395, 49.93, 52.768, 18.0565, 36.943, 103.26599999999999, 50.9295, 64.82249999999999], \"name\": \"Median\"}], {\"title\": \"Maximum, mean and median ping latency per provider\"}, {\"showLink\": true, \"linkText\": \"Export to plot.ly\"})});</script>"
      ]
     },
     "metadata": {},
     "output_type": "display_data"
    }
   ],
   "source": [
    "barplot_averages(ping_df,'PING',\"Maximum, mean and median ping latency per provider\", index_col='PROVIDER')"
   ]
  },
  {
   "cell_type": "markdown",
   "metadata": {
    "collapsed": true
   },
   "source": [
    "Bell MTS has largest maximum spikes and TerraGo has largest median/average. "
   ]
  },
  {
   "cell_type": "code",
   "execution_count": null,
   "metadata": {
    "collapsed": true
   },
   "outputs": [],
   "source": []
  }
 ],
 "metadata": {
  "kernelspec": {
   "display_name": "Python 3",
   "language": "python",
   "name": "python3"
  },
  "language_info": {
   "codemirror_mode": {
    "name": "ipython",
    "version": 3
   },
   "file_extension": ".py",
   "mimetype": "text/x-python",
   "name": "python",
   "nbconvert_exporter": "python",
   "pygments_lexer": "ipython3",
   "version": "3.6.3"
  },
  "nbTranslate": {
   "displayLangs": [
    "*"
   ],
   "hotkey": "alt-t",
   "langInMainMenu": true,
   "sourceLang": "en",
   "targetLang": "fr",
   "useGoogleTranslate": true
  }
 },
 "nbformat": 4,
 "nbformat_minor": 2
}
