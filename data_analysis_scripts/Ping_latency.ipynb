{
 "cells": [
  {
   "cell_type": "markdown",
   "metadata": {},
   "source": [
    "### Collecting some ping statistics\n",
    "Import python libraries:"
   ]
  },
  {
   "cell_type": "code",
   "execution_count": 5,
   "metadata": {},
   "outputs": [
    {
     "data": {
      "text/html": [
       "<script>requirejs.config({paths: { 'plotly': ['https://cdn.plot.ly/plotly-latest.min']},});if(!window.Plotly) {{require(['plotly'],function(plotly) {window.Plotly=plotly;});}}</script>"
      ],
      "text/vnd.plotly.v1+html": [
       "<script>requirejs.config({paths: { 'plotly': ['https://cdn.plot.ly/plotly-latest.min']},});if(!window.Plotly) {{require(['plotly'],function(plotly) {window.Plotly=plotly;});}}</script>"
      ]
     },
     "metadata": {},
     "output_type": "display_data"
    }
   ],
   "source": [
    "from influxdb import DataFrameClient\n",
    "from influxdb import InfluxDBClient\n",
    "\n",
    "from plotly.offline import init_notebook_mode, iplot\n",
    "import plotly.graph_objs as go\n",
    "import plotly.plotly as py\n",
    "from plotly import tools\n",
    "init_notebook_mode(connected=True)"
   ]
  },
  {
   "cell_type": "markdown",
   "metadata": {},
   "source": [
    "Set up influxdb connection:"
   ]
  },
  {
   "cell_type": "code",
   "execution_count": 83,
   "metadata": {},
   "outputs": [],
   "source": [
    "host='204.209.76.145'\n",
    "port=8086\n",
    "dbname = 'net_speed_md'\n",
    "#client = DataFrameClient(host, port, '', '', dbname)\n",
    "client = InfluxDBClient(host, port, '', '', dbname)"
   ]
  },
  {
   "cell_type": "markdown",
   "metadata": {},
   "source": [
    " Used this to learn about influxdb:\n",
    " - https://influxdb-python.readthedocs.io/en/latest/examples.html\n",
    " - https://www.influxdata.com/blog/getting-started-python-influxdb/\n",
    " - https://influxdb-python.readthedocs.io/en/latest/resultset.html\n",
    " - https://influxdb-python.readthedocs.io/en/latest/api-documentation.html"
   ]
  },
  {
   "cell_type": "code",
   "execution_count": 88,
   "metadata": {
    "collapsed": true
   },
   "outputs": [],
   "source": [
    "#Trying to load entire table, convert to dataframe and estimate how much memory its taking\n",
    "#from here https://stackoverflow.com/questions/18089667/how-to-estimate-how-much-memory-a-pandas-dataframe-will-need\n",
    "#client = DataFrameClient(host, port, '', '', dbname)\n",
    "#query_ping = 'SELECT * FROM PING;'\n",
    "#result_ping = client.query(query_ping)\n",
    "#ping_df = result_ping['PING']\n",
    "#print(ping_df.memory_usage())\n",
    "#print(sys.getsizeof(ping_df))\n",
    "#rint( df.memory_usage(deep=True).sum())"
   ]
  },
  {
   "cell_type": "markdown",
   "metadata": {},
   "source": [
    "### Number of datapoints per device"
   ]
  },
  {
   "cell_type": "markdown",
   "metadata": {},
   "source": [
    "Getting device numbers(tags SK_PI):"
   ]
  },
  {
   "cell_type": "code",
   "execution_count": 89,
   "metadata": {},
   "outputs": [
    {
     "name": "stdout",
     "output_type": "stream",
     "text": [
      "[1, 2, 3, 4, 5, 6, 7, 8, 9, 10, 11, 12, 13, 14, 15, 16, 17, 18]\n"
     ]
    }
   ],
   "source": [
    "query_unique_devices = \"SHOW TAG VALUES FROM PING WITH KEY=SK_PI;\"\n",
    "result_unique_devices = client.query(query_unique_devices)\n",
    "points_unique_devices = result_unique_devices.get_points()\n",
    "device_numbers=[]\n",
    "for point in points_unique_devices:\n",
    "    device_numbers.append(point['value'])\n",
    "device_numbers=list(map(int, device_numbers))\n",
    "device_numbers= sorted(device_numbers)\n",
    "print(device_numbers)"
   ]
  },
  {
   "cell_type": "markdown",
   "metadata": {},
   "source": [
    "Getting number of data points per device for the entire period of time."
   ]
  },
  {
   "cell_type": "code",
   "execution_count": 90,
   "metadata": {},
   "outputs": [],
   "source": [
    "query_ping_counts = 'SELECT COUNT(PING) FROM PING GROUP BY SK_PI;'\n",
    "result_ping_counts = client.query(query_ping_counts)"
   ]
  },
  {
   "cell_type": "code",
   "execution_count": 91,
   "metadata": {},
   "outputs": [],
   "source": [
    "device_counts=[]\n",
    "for device in device_numbers:\n",
    "    points_ping_counts=result_ping_counts.get_points(tags={'SK_PI':str(device)})\n",
    "    for point in points_ping_counts:\n",
    "        device_counts.append(point['count'])"
   ]
  },
  {
   "cell_type": "markdown",
   "metadata": {},
   "source": [
    "Plotting device numbers and number of data points. "
   ]
  },
  {
   "cell_type": "code",
   "execution_count": 92,
   "metadata": {},
   "outputs": [
    {
     "data": {
      "application/vnd.plotly.v1+json": {
       "data": [
        {
         "type": "bar",
         "x": [
          1,
          2,
          3,
          4,
          5,
          6,
          7,
          8,
          9,
          10,
          11,
          12,
          13,
          14,
          15,
          16,
          17,
          18
         ],
         "y": [
          17576,
          1009756,
          1042150,
          1685299,
          439977,
          212379,
          1351647,
          180700,
          827446,
          773100,
          827298,
          834258,
          713,
          17263,
          622383,
          575970,
          268019,
          82244
         ]
        }
       ],
       "layout": {
        "barmode": "stack",
        "title": "Number of data points per device"
       }
      },
      "text/html": [
       "<div id=\"9945a3ba-d5a1-42dd-89da-a5587c7ae89a\" style=\"height: 525px; width: 100%;\" class=\"plotly-graph-div\"></div><script type=\"text/javascript\">require([\"plotly\"], function(Plotly) { window.PLOTLYENV=window.PLOTLYENV || {};window.PLOTLYENV.BASE_URL=\"https://plot.ly\";Plotly.newPlot(\"9945a3ba-d5a1-42dd-89da-a5587c7ae89a\", [{\"type\": \"bar\", \"x\": [1, 2, 3, 4, 5, 6, 7, 8, 9, 10, 11, 12, 13, 14, 15, 16, 17, 18], \"y\": [17576, 1009756, 1042150, 1685299, 439977, 212379, 1351647, 180700, 827446, 773100, 827298, 834258, 713, 17263, 622383, 575970, 268019, 82244]}], {\"barmode\": \"stack\", \"title\": \"Number of data points per device\"}, {\"showLink\": true, \"linkText\": \"Export to plot.ly\"})});</script>"
      ],
      "text/vnd.plotly.v1+html": [
       "<div id=\"9945a3ba-d5a1-42dd-89da-a5587c7ae89a\" style=\"height: 525px; width: 100%;\" class=\"plotly-graph-div\"></div><script type=\"text/javascript\">require([\"plotly\"], function(Plotly) { window.PLOTLYENV=window.PLOTLYENV || {};window.PLOTLYENV.BASE_URL=\"https://plot.ly\";Plotly.newPlot(\"9945a3ba-d5a1-42dd-89da-a5587c7ae89a\", [{\"type\": \"bar\", \"x\": [1, 2, 3, 4, 5, 6, 7, 8, 9, 10, 11, 12, 13, 14, 15, 16, 17, 18], \"y\": [17576, 1009756, 1042150, 1685299, 439977, 212379, 1351647, 180700, 827446, 773100, 827298, 834258, 713, 17263, 622383, 575970, 268019, 82244]}], {\"barmode\": \"stack\", \"title\": \"Number of data points per device\"}, {\"showLink\": true, \"linkText\": \"Export to plot.ly\"})});</script>"
      ]
     },
     "metadata": {},
     "output_type": "display_data"
    }
   ],
   "source": [
    "data = [go.Bar(\n",
    "            x=device_numbers,\n",
    "            y=device_counts\n",
    "    )]\n",
    "\n",
    "layout = go.Layout(\n",
    "        barmode='stack',\n",
    "        title=\"Number of data points per device\"\n",
    "    )\n",
    "\n",
    "fig = go.Figure(data=data, layout=layout)\n",
    "iplot(fig)"
   ]
  },
  {
   "cell_type": "markdown",
   "metadata": {},
   "source": [
    "Some of the devices have small number of datapoints, may be they are just installed? Lets check how many dataponts came in December."
   ]
  },
  {
   "cell_type": "markdown",
   "metadata": {},
   "source": [
    "Getting number of datapoints per device in December and list of the devices that have data for December(not all of the have)."
   ]
  },
  {
   "cell_type": "code",
   "execution_count": 93,
   "metadata": {},
   "outputs": [],
   "source": [
    "query_ping_counts_dec = \"SELECT COUNT(PING) FROM PING WHERE time >= '2018-12-01 00:00:00' GROUP BY SK_PI ;\"\n",
    "result_ping_counts_dec = client.query(query_ping_counts_dec)"
   ]
  },
  {
   "cell_type": "code",
   "execution_count": 116,
   "metadata": {},
   "outputs": [
    {
     "name": "stdout",
     "output_type": "stream",
     "text": [
      "Devices, that have data in December:  [3, 4, 7, 8, 9, 10, 11, 12, 13, 14, 15, 16, 17, 18]\n"
     ]
    }
   ],
   "source": [
    "device_counts_dec=[]\n",
    "device_numbers_dec = []\n",
    "for device in device_numbers:\n",
    "    points_ping_counts_dec=result_ping_counts_dec.get_points(tags={'SK_PI':str(device)})\n",
    "    point_new=0\n",
    "    for point in points_ping_counts_dec:\n",
    "        point_new=point['count']\n",
    "    if (point_new!=0): \n",
    "        device_numbers_dec.append(device)\n",
    "    device_counts_dec.append(point_new)\n",
    "print(\"Devices, that have data in December: \",device_numbers_dec)"
   ]
  },
  {
   "cell_type": "markdown",
   "metadata": {},
   "source": [
    "Plotting combined barchart - entire number of datapoints vs number of datapoints in December."
   ]
  },
  {
   "cell_type": "code",
   "execution_count": 117,
   "metadata": {},
   "outputs": [
    {
     "data": {
      "application/vnd.plotly.v1+json": {
       "data": [
        {
         "name": "December",
         "type": "bar",
         "x": [
          1,
          2,
          3,
          4,
          5,
          6,
          7,
          8,
          9,
          10,
          11,
          12,
          13,
          14,
          15,
          16,
          17,
          18
         ],
         "y": [
          0,
          0,
          820800,
          213977,
          0,
          0,
          525521,
          122366,
          813640,
          725526,
          813138,
          820800,
          11,
          17045,
          619196,
          575538,
          268007,
          60198
         ]
        },
        {
         "name": "Entire time",
         "type": "bar",
         "x": [
          1,
          2,
          3,
          4,
          5,
          6,
          7,
          8,
          9,
          10,
          11,
          12,
          13,
          14,
          15,
          16,
          17,
          18
         ],
         "y": [
          17576,
          1009756,
          221350,
          1471322,
          439977,
          212379,
          826126,
          58334,
          13806,
          47574,
          14160,
          13458,
          702,
          218,
          3187,
          432,
          12,
          22046
         ]
        }
       ],
       "layout": {
        "barmode": "stack",
        "title": "Comparing number of datapoints in December vs entire time"
       }
      },
      "text/html": [
       "<div id=\"8e6b8ef6-b833-4afd-821d-0fc2ac36bb43\" style=\"height: 525px; width: 100%;\" class=\"plotly-graph-div\"></div><script type=\"text/javascript\">require([\"plotly\"], function(Plotly) { window.PLOTLYENV=window.PLOTLYENV || {};window.PLOTLYENV.BASE_URL=\"https://plot.ly\";Plotly.newPlot(\"8e6b8ef6-b833-4afd-821d-0fc2ac36bb43\", [{\"type\": \"bar\", \"x\": [1, 2, 3, 4, 5, 6, 7, 8, 9, 10, 11, 12, 13, 14, 15, 16, 17, 18], \"y\": [0, 0, 820800, 213977, 0, 0, 525521, 122366, 813640, 725526, 813138, 820800, 11, 17045, 619196, 575538, 268007, 60198], \"name\": \"December\"}, {\"type\": \"bar\", \"x\": [1, 2, 3, 4, 5, 6, 7, 8, 9, 10, 11, 12, 13, 14, 15, 16, 17, 18], \"y\": [17576, 1009756, 221350, 1471322, 439977, 212379, 826126, 58334, 13806, 47574, 14160, 13458, 702, 218, 3187, 432, 12, 22046], \"name\": \"Entire time\"}], {\"barmode\": \"stack\", \"title\": \"Comparing number of datapoints in December vs entire time\"}, {\"showLink\": true, \"linkText\": \"Export to plot.ly\"})});</script>"
      ],
      "text/vnd.plotly.v1+html": [
       "<div id=\"8e6b8ef6-b833-4afd-821d-0fc2ac36bb43\" style=\"height: 525px; width: 100%;\" class=\"plotly-graph-div\"></div><script type=\"text/javascript\">require([\"plotly\"], function(Plotly) { window.PLOTLYENV=window.PLOTLYENV || {};window.PLOTLYENV.BASE_URL=\"https://plot.ly\";Plotly.newPlot(\"8e6b8ef6-b833-4afd-821d-0fc2ac36bb43\", [{\"type\": \"bar\", \"x\": [1, 2, 3, 4, 5, 6, 7, 8, 9, 10, 11, 12, 13, 14, 15, 16, 17, 18], \"y\": [0, 0, 820800, 213977, 0, 0, 525521, 122366, 813640, 725526, 813138, 820800, 11, 17045, 619196, 575538, 268007, 60198], \"name\": \"December\"}, {\"type\": \"bar\", \"x\": [1, 2, 3, 4, 5, 6, 7, 8, 9, 10, 11, 12, 13, 14, 15, 16, 17, 18], \"y\": [17576, 1009756, 221350, 1471322, 439977, 212379, 826126, 58334, 13806, 47574, 14160, 13458, 702, 218, 3187, 432, 12, 22046], \"name\": \"Entire time\"}], {\"barmode\": \"stack\", \"title\": \"Comparing number of datapoints in December vs entire time\"}, {\"showLink\": true, \"linkText\": \"Export to plot.ly\"})});</script>"
      ]
     },
     "metadata": {},
     "output_type": "display_data"
    }
   ],
   "source": [
    "trace1 = go.Bar(\n",
    "            x=device_numbers,\n",
    "            y=device_counts_dec,\n",
    "            name='December',\n",
    "    )\n",
    "trace2 = go.Bar(\n",
    "            x=device_numbers,\n",
    "            y=[a - b for a, b in zip(device_counts, device_counts_dec)],\n",
    "            name='Entire time',\n",
    "    \n",
    "    )\n",
    "data = [trace1, trace2]\n",
    "layout = go.Layout(\n",
    "        barmode='stack',\n",
    "        title=\"Comparing number of datapoints in December vs entire time\"\n",
    "    )\n",
    "\n",
    "fig = go.Figure(data=data, layout=layout)\n",
    "iplot(fig)"
   ]
  },
  {
   "cell_type": "markdown",
   "metadata": {},
   "source": [
    "Devices 1,2,4,5,6,7 and possibly 13 and 14 need to be double checked. Looks like they have started reporting and then stopped. Let's check last reporting time for every device."
   ]
  },
  {
   "cell_type": "code",
   "execution_count": 118,
   "metadata": {
    "collapsed": true
   },
   "outputs": [],
   "source": [
    "query_ping_last = \"SELECT last(PING), time FROM PING GROUP BY SK_PI;\"\n",
    "result_ping_last = client.query(query_ping_last)"
   ]
  },
  {
   "cell_type": "code",
   "execution_count": 119,
   "metadata": {},
   "outputs": [
    {
     "name": "stdout",
     "output_type": "stream",
     "text": [
      "Device:  1  reported last time on  2018-10-11T15:46:31.790000128Z\n",
      "Device:  2  reported last time on  2018-11-06T19:16:32.792999936Z\n",
      "Device:  3  reported last time on  2018-12-20T00:00:00Z\n",
      "Device:  4  reported last time on  2018-12-05T22:53:02.383000064Z\n",
      "Device:  5  reported last time on  2018-11-05T21:32:32.552999936Z\n",
      "Device:  6  reported last time on  2018-10-31T14:55:02.703000064Z\n",
      "Device:  7  reported last time on  2018-12-18T08:46:02.763000064Z\n",
      "Device:  8  reported last time on  2018-12-03T19:58:50.129999872Z\n",
      "Device:  9  reported last time on  2018-12-19T23:59:58.996999936Z\n",
      "Device:  10  reported last time on  2018-12-20T00:00:00Z\n",
      "Device:  11  reported last time on  2018-12-20T00:00:00Z\n",
      "Device:  12  reported last time on  2018-12-20T00:00:00Z\n",
      "Device:  13  reported last time on  2018-12-04T20:27:07.227000064Z\n",
      "Device:  14  reported last time on  2018-12-06T02:12:31.350000128Z\n",
      "Device:  15  reported last time on  2018-12-19T23:59:58.996999936Z\n",
      "Device:  16  reported last time on  2018-12-19T23:59:58.996999936Z\n",
      "Device:  17  reported last time on  2018-12-20T00:00:00Z\n",
      "Device:  18  reported last time on  2018-12-19T23:59:58.996999936Z\n"
     ]
    }
   ],
   "source": [
    "for device in device_numbers:\n",
    "    points_ping_last=result_ping_last.get_points(tags={'SK_PI':str(device)})\n",
    "    for point in points_ping_last:\n",
    "        print(\"Device: \", device,\" reported last time on \", point['time'])"
   ]
  },
  {
   "cell_type": "markdown",
   "metadata": {},
   "source": [
    "Something is happening with devices  1,2,4,5,6,8,13 and 14. They stopped reporting - does it need to be investigated?"
   ]
  },
  {
   "cell_type": "markdown",
   "metadata": {},
   "source": [
    "### Ping latency  per device in December"
   ]
  },
  {
   "cell_type": "markdown",
   "metadata": {},
   "source": [
    "Let's check actual ping latency numbers for December:"
   ]
  },
  {
   "cell_type": "code",
   "execution_count": 120,
   "metadata": {
    "collapsed": true
   },
   "outputs": [],
   "source": [
    "query_ping_max_dec = \"SELECT MAX(PING), MEAN(PING) FROM PING WHERE time >= '2018-12-01 00:00:00' GROUP BY SK_PI;\"\n",
    "result_ping_max_dec = client.query(query_ping_max_dec)"
   ]
  },
  {
   "cell_type": "markdown",
   "metadata": {},
   "source": [
    "We will exclude devices  1,2,4,5,6,8,13,14 as they are not reporting any more"
   ]
  },
  {
   "cell_type": "code",
   "execution_count": 121,
   "metadata": {},
   "outputs": [],
   "source": [
    "#device_numbers_dec = [x for x in device_numbers if x not in [1,2,4,5,6,8,13,14]]\n",
    "#print(device_numbers_dec)"
   ]
  },
  {
   "cell_type": "code",
   "execution_count": 122,
   "metadata": {},
   "outputs": [],
   "source": [
    "device_max_dec=[]\n",
    "device_mean_dec = []\n",
    "for device in device_numbers_dec:\n",
    "    points_max_dec=result_ping_max_dec.get_points(tags={'SK_PI':str(device)})\n",
    "    for point in points_max_dec:\n",
    "        device_max_dec.append(point['max'])\n",
    "        device_mean_dec.append(point['mean'])"
   ]
  },
  {
   "cell_type": "markdown",
   "metadata": {},
   "source": [
    "Plotting mean and max ping latency results for every reporting result in December."
   ]
  },
  {
   "cell_type": "code",
   "execution_count": 123,
   "metadata": {},
   "outputs": [
    {
     "data": {
      "application/vnd.plotly.v1+json": {
       "data": [
        {
         "name": "Mean",
         "type": "bar",
         "x": [
          3,
          4,
          7,
          8,
          9,
          10,
          11,
          12,
          13,
          14,
          15,
          16,
          17,
          18
         ],
         "y": [
          5.907079429824545,
          13.657755469045712,
          14.822221005440257,
          11.769641379141294,
          13.58930277518313,
          7.428193331458813,
          11.255812127830747,
          16.191730174220165,
          227.26445454545456,
          19.694195599882637,
          14.007650072028783,
          32.77051830634998,
          17.573936165846526,
          18.408047709226267
         ]
        },
        {
         "name": "Max",
         "type": "bar",
         "x": [
          3,
          4,
          7,
          8,
          9,
          10,
          11,
          12,
          13,
          14,
          15,
          16,
          17,
          18
         ],
         "y": [
          84.621,
          894.098,
          900.768,
          86.907,
          156.102,
          446.59,
          180.611,
          712.071,
          671.416,
          93.413,
          262.352,
          901.052,
          200.319,
          470.64
         ]
        }
       ],
       "layout": {
        "title": "Maximum and minimum delay in miliseconds"
       }
      },
      "text/html": [
       "<div id=\"d0acca4f-0038-4708-bc0f-8801cc74c3fb\" style=\"height: 525px; width: 100%;\" class=\"plotly-graph-div\"></div><script type=\"text/javascript\">require([\"plotly\"], function(Plotly) { window.PLOTLYENV=window.PLOTLYENV || {};window.PLOTLYENV.BASE_URL=\"https://plot.ly\";Plotly.newPlot(\"d0acca4f-0038-4708-bc0f-8801cc74c3fb\", [{\"type\": \"bar\", \"x\": [3, 4, 7, 8, 9, 10, 11, 12, 13, 14, 15, 16, 17, 18], \"y\": [5.907079429824545, 13.657755469045712, 14.822221005440257, 11.769641379141294, 13.58930277518313, 7.428193331458813, 11.255812127830747, 16.191730174220165, 227.26445454545456, 19.694195599882637, 14.007650072028783, 32.77051830634998, 17.573936165846526, 18.408047709226267], \"name\": \"Mean\"}, {\"type\": \"bar\", \"x\": [3, 4, 7, 8, 9, 10, 11, 12, 13, 14, 15, 16, 17, 18], \"y\": [84.621, 894.098, 900.768, 86.907, 156.102, 446.59, 180.611, 712.071, 671.416, 93.413, 262.352, 901.052, 200.319, 470.64], \"name\": \"Max\"}], {\"title\": \"Maximum and minimum delay in miliseconds\"}, {\"showLink\": true, \"linkText\": \"Export to plot.ly\"})});</script>"
      ],
      "text/vnd.plotly.v1+html": [
       "<div id=\"d0acca4f-0038-4708-bc0f-8801cc74c3fb\" style=\"height: 525px; width: 100%;\" class=\"plotly-graph-div\"></div><script type=\"text/javascript\">require([\"plotly\"], function(Plotly) { window.PLOTLYENV=window.PLOTLYENV || {};window.PLOTLYENV.BASE_URL=\"https://plot.ly\";Plotly.newPlot(\"d0acca4f-0038-4708-bc0f-8801cc74c3fb\", [{\"type\": \"bar\", \"x\": [3, 4, 7, 8, 9, 10, 11, 12, 13, 14, 15, 16, 17, 18], \"y\": [5.907079429824545, 13.657755469045712, 14.822221005440257, 11.769641379141294, 13.58930277518313, 7.428193331458813, 11.255812127830747, 16.191730174220165, 227.26445454545456, 19.694195599882637, 14.007650072028783, 32.77051830634998, 17.573936165846526, 18.408047709226267], \"name\": \"Mean\"}, {\"type\": \"bar\", \"x\": [3, 4, 7, 8, 9, 10, 11, 12, 13, 14, 15, 16, 17, 18], \"y\": [84.621, 894.098, 900.768, 86.907, 156.102, 446.59, 180.611, 712.071, 671.416, 93.413, 262.352, 901.052, 200.319, 470.64], \"name\": \"Max\"}], {\"title\": \"Maximum and minimum delay in miliseconds\"}, {\"showLink\": true, \"linkText\": \"Export to plot.ly\"})});</script>"
      ]
     },
     "metadata": {},
     "output_type": "display_data"
    }
   ],
   "source": [
    "trace1 = go.Bar(\n",
    "            x=device_numbers_dec,\n",
    "            y=device_mean_dec,\n",
    "            name='Mean',\n",
    "    )\n",
    "trace2 = go.Bar(\n",
    "            x=device_numbers_dec,\n",
    "            y=device_max_dec,\n",
    "            name='Max',\n",
    "    \n",
    "    )\n",
    "data = [trace1, trace2]\n",
    "layout = go.Layout(\n",
    "       # barmode='stack',\n",
    "        title=\"Maximum and minimum delay in miliseconds\"\n",
    "    )\n",
    "\n",
    "fig = go.Figure(data=data, layout=layout)\n",
    "iplot(fig)"
   ]
  },
  {
   "cell_type": "markdown",
   "metadata": {},
   "source": [
    "Device 16 has the highest mean, it needs to be, (all these spikes are also visible in Grafana). Something is going on there. Device 13 looks like it was giving high latency but stopped reporting Dec 4th"
   ]
  },
  {
   "cell_type": "markdown",
   "metadata": {},
   "source": [
    "### To do: \n",
    "Find median?  \n",
    "Check by time of the day?  \n",
    "Divide ping latencies into groups  and calculate percentage of devices by group?  "
   ]
  },
  {
   "cell_type": "code",
   "execution_count": null,
   "metadata": {
    "collapsed": true
   },
   "outputs": [],
   "source": []
  }
 ],
 "metadata": {
  "kernelspec": {
   "display_name": "Python 3",
   "language": "python",
   "name": "python3"
  },
  "language_info": {
   "codemirror_mode": {
    "name": "ipython",
    "version": 3
   },
   "file_extension": ".py",
   "mimetype": "text/x-python",
   "name": "python",
   "nbconvert_exporter": "python",
   "pygments_lexer": "ipython3",
   "version": "3.6.3"
  },
  "nbTranslate": {
   "displayLangs": [
    "*"
   ],
   "hotkey": "alt-t",
   "langInMainMenu": true,
   "sourceLang": "en",
   "targetLang": "fr",
   "useGoogleTranslate": true
  }
 },
 "nbformat": 4,
 "nbformat_minor": 2
}
