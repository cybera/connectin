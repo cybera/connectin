{
 "cells": [
  {
   "cell_type": "code",
   "execution_count": 1,
   "metadata": {},
   "outputs": [
    {
     "data": {
      "text/html": [
       "<script>requirejs.config({paths: { 'plotly': ['https://cdn.plot.ly/plotly-latest.min']},});if(!window.Plotly) {{require(['plotly'],function(plotly) {window.Plotly=plotly;});}}</script>"
      ],
      "text/vnd.plotly.v1+html": [
       "<script>requirejs.config({paths: { 'plotly': ['https://cdn.plot.ly/plotly-latest.min']},});if(!window.Plotly) {{require(['plotly'],function(plotly) {window.Plotly=plotly;});}}</script>"
      ]
     },
     "metadata": {},
     "output_type": "display_data"
    }
   ],
   "source": [
    "from influxdb import DataFrameClient\n",
    "from influxdb import InfluxDBClient\n",
    "\n",
    "from plotly.offline import init_notebook_mode, iplot\n",
    "import plotly.graph_objs as go\n",
    "import plotly.plotly as py\n",
    "from plotly import tools\n",
    "init_notebook_mode(connected=True)"
   ]
  },
  {
   "cell_type": "code",
   "execution_count": 2,
   "metadata": {
    "collapsed": true
   },
   "outputs": [],
   "source": [
    "host='204.209.76.145'\n",
    "port=8086\n",
    "dbname = 'net_speed_md'\n",
    "client = InfluxDBClient(host, port, '', '', dbname)"
   ]
  },
  {
   "cell_type": "code",
   "execution_count": 3,
   "metadata": {},
   "outputs": [
    {
     "data": {
      "text/html": [
       "<div>\n",
       "<style>\n",
       "    .dataframe thead tr:only-child th {\n",
       "        text-align: right;\n",
       "    }\n",
       "\n",
       "    .dataframe thead th {\n",
       "        text-align: left;\n",
       "    }\n",
       "\n",
       "    .dataframe tbody tr th {\n",
       "        vertical-align: top;\n",
       "    }\n",
       "</style>\n",
       "<table border=\"1\" class=\"dataframe\">\n",
       "  <thead>\n",
       "    <tr style=\"text-align: right;\">\n",
       "      <th></th>\n",
       "      <th>CONNTRACK</th>\n",
       "      <th>CONNTRACK_MAX</th>\n",
       "      <th>CONNTRACK_PERCENT_USED</th>\n",
       "      <th>SK_PI</th>\n",
       "    </tr>\n",
       "  </thead>\n",
       "  <tbody>\n",
       "    <tr>\n",
       "      <th>2018-12-19 23:59:57.996999936+00:00</th>\n",
       "      <td>17</td>\n",
       "      <td>16384</td>\n",
       "      <td>0.103760</td>\n",
       "      <td>3</td>\n",
       "    </tr>\n",
       "    <tr>\n",
       "      <th>2018-12-19 23:59:58.996999936+00:00</th>\n",
       "      <td>14</td>\n",
       "      <td>16384</td>\n",
       "      <td>0.085449</td>\n",
       "      <td>18</td>\n",
       "    </tr>\n",
       "    <tr>\n",
       "      <th>2018-12-19 23:59:58.996999936+00:00</th>\n",
       "      <td>15</td>\n",
       "      <td>16384</td>\n",
       "      <td>0.091553</td>\n",
       "      <td>9</td>\n",
       "    </tr>\n",
       "    <tr>\n",
       "      <th>2018-12-19 23:59:58.996999936+00:00</th>\n",
       "      <td>16</td>\n",
       "      <td>16384</td>\n",
       "      <td>0.097656</td>\n",
       "      <td>15</td>\n",
       "    </tr>\n",
       "    <tr>\n",
       "      <th>2018-12-19 23:59:58.996999936+00:00</th>\n",
       "      <td>1</td>\n",
       "      <td>16384</td>\n",
       "      <td>0.006104</td>\n",
       "      <td>16</td>\n",
       "    </tr>\n",
       "    <tr>\n",
       "      <th>2018-12-20 00:00:00+00:00</th>\n",
       "      <td>15</td>\n",
       "      <td>16384</td>\n",
       "      <td>0.091553</td>\n",
       "      <td>11</td>\n",
       "    </tr>\n",
       "    <tr>\n",
       "      <th>2018-12-20 00:00:00+00:00</th>\n",
       "      <td>16</td>\n",
       "      <td>16384</td>\n",
       "      <td>0.097656</td>\n",
       "      <td>10</td>\n",
       "    </tr>\n",
       "    <tr>\n",
       "      <th>2018-12-20 00:00:00+00:00</th>\n",
       "      <td>15</td>\n",
       "      <td>16384</td>\n",
       "      <td>0.091553</td>\n",
       "      <td>17</td>\n",
       "    </tr>\n",
       "    <tr>\n",
       "      <th>2018-12-20 00:00:00+00:00</th>\n",
       "      <td>17</td>\n",
       "      <td>16384</td>\n",
       "      <td>0.103760</td>\n",
       "      <td>3</td>\n",
       "    </tr>\n",
       "    <tr>\n",
       "      <th>2018-12-20 00:00:00+00:00</th>\n",
       "      <td>16</td>\n",
       "      <td>16384</td>\n",
       "      <td>0.097656</td>\n",
       "      <td>12</td>\n",
       "    </tr>\n",
       "  </tbody>\n",
       "</table>\n",
       "</div>"
      ],
      "text/plain": [
       "                                     CONNTRACK  CONNTRACK_MAX  \\\n",
       "2018-12-19 23:59:57.996999936+00:00         17          16384   \n",
       "2018-12-19 23:59:58.996999936+00:00         14          16384   \n",
       "2018-12-19 23:59:58.996999936+00:00         15          16384   \n",
       "2018-12-19 23:59:58.996999936+00:00         16          16384   \n",
       "2018-12-19 23:59:58.996999936+00:00          1          16384   \n",
       "2018-12-20 00:00:00+00:00                   15          16384   \n",
       "2018-12-20 00:00:00+00:00                   16          16384   \n",
       "2018-12-20 00:00:00+00:00                   15          16384   \n",
       "2018-12-20 00:00:00+00:00                   17          16384   \n",
       "2018-12-20 00:00:00+00:00                   16          16384   \n",
       "\n",
       "                                     CONNTRACK_PERCENT_USED SK_PI  \n",
       "2018-12-19 23:59:57.996999936+00:00                0.103760     3  \n",
       "2018-12-19 23:59:58.996999936+00:00                0.085449    18  \n",
       "2018-12-19 23:59:58.996999936+00:00                0.091553     9  \n",
       "2018-12-19 23:59:58.996999936+00:00                0.097656    15  \n",
       "2018-12-19 23:59:58.996999936+00:00                0.006104    16  \n",
       "2018-12-20 00:00:00+00:00                          0.091553    11  \n",
       "2018-12-20 00:00:00+00:00                          0.097656    10  \n",
       "2018-12-20 00:00:00+00:00                          0.091553    17  \n",
       "2018-12-20 00:00:00+00:00                          0.103760     3  \n",
       "2018-12-20 00:00:00+00:00                          0.097656    12  "
      ]
     },
     "execution_count": 3,
     "metadata": {},
     "output_type": "execute_result"
    }
   ],
   "source": [
    "client_df = DataFrameClient(host, port, '', '', dbname)\n",
    "query_con = 'SELECT CONNTRACK,CONNTRACK_MAX,CONNTRACK_PERCENT_USED,SK_PI FROM CONNTRACK ORDER BY time DESC LIMIT 10;'\n",
    "result_con = client_df.query(query_con)\n",
    "con_df = result_con['CONNTRACK']\n",
    "con_df"
   ]
  },
  {
   "cell_type": "markdown",
   "metadata": {},
   "source": [
    "How the data is collected?\n",
    "\n",
    "Data beeing collected:\n",
    " - **CONNTRACK** number of connections\n",
    " - __CONNTRACK_MAX__  maximum number of connections (once it reaches its maximum 16384\t - it will never go down)\n",
    " - **CONNTRACK_PERCENT_USED**  -  calculated as (CONNTRACK*100)/16384\n"
   ]
  },
  {
   "cell_type": "code",
   "execution_count": null,
   "metadata": {
    "collapsed": true
   },
   "outputs": [],
   "source": []
  }
 ],
 "metadata": {
  "kernelspec": {
   "display_name": "Python 3",
   "language": "python",
   "name": "python3"
  },
  "language_info": {
   "codemirror_mode": {
    "name": "ipython",
    "version": 3
   },
   "file_extension": ".py",
   "mimetype": "text/x-python",
   "name": "python",
   "nbconvert_exporter": "python",
   "pygments_lexer": "ipython3",
   "version": "3.6.3"
  },
  "nbTranslate": {
   "displayLangs": [
    "*"
   ],
   "hotkey": "alt-t",
   "langInMainMenu": true,
   "sourceLang": "en",
   "targetLang": "fr",
   "useGoogleTranslate": true
  }
 },
 "nbformat": 4,
 "nbformat_minor": 2
}
